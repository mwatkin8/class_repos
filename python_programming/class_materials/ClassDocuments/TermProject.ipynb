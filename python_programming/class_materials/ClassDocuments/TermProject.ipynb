{
 "cells": [
  {
   "cell_type": "markdown",
   "metadata": {},
   "source": [
    "# Working on the Term Project\n",
    "\n",
    "Since we do not have an in-class exam, the term project is where students have the best opportunity to differentiate themselves: who has learned to program along the way. Term projects will be dune December 21st at 11:00 PM. Unlike with the homework, I will clone the repositories for your projects and will begin grading the next morning.\n",
    "\n",
    "## Term Project Guidelines\n",
    "\n",
    ">An introductory course cannot cover all the programming topics that may be of interest to a student, and because we want the course to be as applicable as possible to the student’s graduate research or application experience, the course project is a way for students to customize their learning experience.\n",
    "\n",
    "* Hopefully you are doing something of interest to you\n",
    "\n",
    ">The course project represents a significant programming project addressing a problem of interest (use case) to the student(s), hopefully related to their field of research or application. The work involved in this project should represent an effort equivalent to three to four homework assignments.\n",
    "\n",
    "* Something equivalent to HW 12\n",
    "\n",
    "> The project should have at least the following components:\n",
    "\n",
    "1. An open source license.\n",
    "    * [choosealicense.com](https://choosealicense.com/) can help you select a license. If you don't want to have an open source license, talk to me.\n",
    "1. A class that you have defined and an derived class that inherits from this parent class. The classes can be simple, but you should have at least a useful ``__str__`` method.\n",
    "    * Feel free to ineherit from a builtin class (e.g. dictionary) rather than defining your own class and inheriting from it.\n",
    "1. Data permanence using a database (e.g. SQLite, MySQL, or MongoDB) or some form of data serialization (e.g. JSON).\n",
    "    * You could also use Pickling, writing tabular data as text files, etc.\n",
    "1. A user interface. This could be a web application (such as Flask or Django); an application built with pyQT4 or wxWindows; an Jupyter notebook with widgets; or a command line interface.\n",
    "1. Some sort of visualization. This can be a static matplotlib-generated figure or an interactive plot with Bokeh or mpld3.\n",
    "1. A detailed README.md that describes the problem your project is addressing including any domain knowledge that will help someone (me) outside of your expertise appreciate the intent of the project, provides a description of the dependencies (any install instructions), instructions on how to use the project with example use cases.\n",
    "1. The project should be well written Python program that follows Google’s Python style guide.\n",
    "    * You don't need to follow the Google Python style guide per say. You can use pylint or pep8 to check your style\n",
    "    * See [this website](https://blog.sideci.com/about-style-guide-of-python-and-linter-tool-pep8-pyflakes-flake8-haking-pyling-7fdbe163079d) for a discussion of the available tools for checking style.\n",
    "    * Well written also means making use of functions, putting your functions in modules and modules in packages. If you are using a Notebook for your project, the notebook should be your interface with code in modules/packages.\n",
    "    * Well written also means using docstrings\n",
    "    \n",
    "\n",
    ">Create a separate git (e.g. Bitbucket or GitHub) repository for the project.\n",
    "* If you want to use a private repository, GitHub makes you pay for a private repository; Bitbucket will let you make private repositories for free. It does not need to be private.\n",
    "* If you want to try [Mercurial](https://www.mercurial-scm.org/) instead of Git, that is fine. You can create mercurial projects on Bitbucket.\n",
    "\n"
   ]
  },
  {
   "cell_type": "markdown",
   "metadata": {},
   "source": [
    "![Git Cartoon](https://imgs.xkcd.com/comics/git.png)"
   ]
  },
  {
   "cell_type": "code",
   "execution_count": null,
   "metadata": {},
   "outputs": [],
   "source": []
  }
 ],
 "metadata": {
  "kernelspec": {
   "display_name": "Python 3",
   "language": "python",
   "name": "python3"
  },
  "language_info": {
   "codemirror_mode": {
    "name": "ipython",
    "version": 3
   },
   "file_extension": ".py",
   "mimetype": "text/x-python",
   "name": "python",
   "nbconvert_exporter": "python",
   "pygments_lexer": "ipython3",
   "version": "3.5.2"
  }
 },
 "nbformat": 4,
 "nbformat_minor": 2
}

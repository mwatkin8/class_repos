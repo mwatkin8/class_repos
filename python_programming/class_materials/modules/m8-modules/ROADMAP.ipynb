{
 "cells": [
  {
   "cell_type": "markdown",
   "metadata": {},
   "source": [
    "# Modules and Packages\n",
    "\n",
    "## ClassPrep\n",
    "\n",
    "* [Modules](ClassPrep/Modules.ipynb)\n",
    "* [Packages](ClassPrep/Packages.ipynb)\n",
    "* [Importing Packages](ClassPrep/importing_packages.ipynb)\n",
    "* [Standard Library](ClassPrep/StandardLibrary.ipynb)\n",
    "\n",
    "### Read the [\"Modules\"](https://docs.python.org/3/tutorial/modules.html) section of the official Python tutorial\n",
    "\n",
    "## Resources\n",
    "\n",
    "* [Additional notes](Resources/additional_notes.md)\n",
    "\n",
    "## InClass\n",
    "* [In class activities](InClass/InClass.ipynb)\n"
   ]
  },
  {
   "cell_type": "code",
   "execution_count": null,
   "metadata": {},
   "outputs": [],
   "source": []
  }
 ],
 "metadata": {
  "kernelspec": {
   "display_name": "Python 3",
   "language": "python",
   "name": "python3"
  },
  "language_info": {
   "codemirror_mode": {
    "name": "ipython",
    "version": 3
   },
   "file_extension": ".py",
   "mimetype": "text/x-python",
   "name": "python",
   "nbconvert_exporter": "python",
   "pygments_lexer": "ipython3",
   "version": "3.5.2"
  }
 },
 "nbformat": 4,
 "nbformat_minor": 1
}

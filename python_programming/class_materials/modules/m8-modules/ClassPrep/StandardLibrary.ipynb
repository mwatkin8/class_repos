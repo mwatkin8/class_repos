{
 "cells": [
  {
   "cell_type": "markdown",
   "metadata": {
    "internals": {
     "frag_helper": "fragment_end",
     "frag_number": 13,
     "slide_helper": "subslide_end",
     "slide_type": "subslide"
    },
    "slide_helper": "subslide_end",
    "slideshow": {
     "slide_type": "slide"
    }
   },
   "source": [
    "# Standard Library\n",
    "\n"
   ]
  },
  {
   "cell_type": "markdown",
   "metadata": {
    "internals": {
     "frag_helper": "fragment_end",
     "frag_number": 30,
     "slide_type": "subslide"
    },
    "slideshow": {
     "slide_type": "subslide"
    }
   },
   "source": [
    "# [Pickle](http://docs.python.org/3/library/pickle.html) \n",
    "* Pickling is an absurdly simple way of writing python objects to disk, if you are going to read it again with Python.\n",
    "## Example\n",
    "* Create a list of your user defined objects (tumors, person, cancersubject, etc.) and write them to disk with pickling. Read them into another python shell."
   ]
  },
  {
   "cell_type": "code",
   "execution_count": null,
   "metadata": {},
   "outputs": [],
   "source": [
    "import pickle\n",
    "person = {\"name\":\"Brian\",\"age\":47,\n",
    "          \"cancer\":[(\"Wilms\",7),(\"Carcinoid\",15),(\"Melanoma\",36), \n",
    "                    (\"Melanoma\", 48)]}\n",
    "with open(\"./myData.pickle\",\"wb\") as fout:\n",
    "    pickle.dump(person,fout)"
   ]
  },
  {
   "cell_type": "code",
   "execution_count": null,
   "metadata": {
    "internals": {
     "frag_helper": "fragment_end",
     "frag_number": 32,
     "slide_helper": "subslide_end"
    },
    "slide_helper": "subslide_end",
    "slideshow": {
     "slide_type": "fragment"
    }
   },
   "outputs": [],
   "source": [
    "with open(\"./myData.pickle\",\"rb\") as fin:\n",
    "    data = pickle.load(fin)\n",
    "print(data)\n",
    "\n",
    "                                            "
   ]
  },
  {
   "cell_type": "markdown",
   "metadata": {
    "internals": {
     "frag_helper": "fragment_end",
     "frag_number": 32,
     "slide_helper": "subslide_end",
     "slide_type": "subslide"
    },
    "slide_helper": "subslide_end",
    "slideshow": {
     "slide_type": "subslide"
    }
   },
   "source": [
    "# sys\n",
    "* **sys** provides functions and variables closely associated with the Python interpreter. \n",
    "* Important attributes and functions include:\n",
    "    * **path**\n",
    "    * **argv** (command line arguments)\n",
    "    * **exit()**\n",
    "    * **stderr**\n",
    "    * **stdin** \n",
    "    * **stdout**"
   ]
  },
  {
   "cell_type": "code",
   "execution_count": null,
   "metadata": {},
   "outputs": [],
   "source": [
    "import sys\n",
    "sys.path"
   ]
  },
  {
   "cell_type": "markdown",
   "metadata": {
    "internals": {
     "frag_helper": "fragment_end",
     "frag_number": 32,
     "slide_type": "subslide"
    },
    "slideshow": {
     "slide_type": "subslide"
    }
   },
   "source": [
    "# [os](http://docs.python.org/2/library/os.html)\n",
    "* Functions for interacting with the operating system. \n",
    "* Helps in making programs platform independent\n",
    "* Highlights\n",
    "    * **os.path.sep**: operating system specific directory separator  \n",
    "    * **os.path.join()**: create a path from a list of names that satisfies operating system standards\n",
    "    * **os.path.splitext()**: split filename into base and extension\n",
    "    * **os.path.basename()**:\n",
    "    * **os.path.dirname()**:\n",
    "    * **os.system()**:\n",
    "        * **os.system(\"tiffcp -c none %s c:/temp/temp.tif\" % filename)**\n",
    "        * **os.system(\"ls -ltr\")**"
   ]
  },
  {
   "cell_type": "code",
   "execution_count": null,
   "metadata": {
    "internals": {
     "frag_helper": "fragment_end",
     "frag_number": 35,
     "slide_helper": "subslide_end"
    },
    "slide_helper": "subslide_end",
    "slideshow": {
     "slide_type": "fragment"
    }
   },
   "outputs": [],
   "source": [
    "import os\n",
    "#os.mkdir(\"TestDir\")\n",
    "print (os.path.exists(\"chapmanbe\"))\n",
    "print (os.path.isdir(\"chapmanbe\"))\n",
    "print (os.path.isfile(\"chapmanbe\"))"
   ]
  },
  {
   "cell_type": "markdown",
   "metadata": {},
   "source": [
    "### [``os.path.join``](https://docs.python.org/3/library/os.path.html#os.path.join), [``os.path.expanduser``](https://docs.python.org/3/library/os.path.html#os.path.expanduser)\n",
    "\n",
    "#### Tools for Creating Platform/User independent paths"
   ]
  },
  {
   "cell_type": "code",
   "execution_count": null,
   "metadata": {},
   "outputs": [],
   "source": [
    "import os\n",
    "print(os.path.expanduser(\"~\"))\n",
    "my_path = os.path.join(os.path.expanduser(\"~\"),\"work\",\"6018_2017\")\n",
    "print(os.path.exists(my_path))"
   ]
  },
  {
   "cell_type": "markdown",
   "metadata": {
    "internals": {
     "frag_helper": "fragment_end",
     "frag_number": 35,
     "slide_type": "subslide"
    },
    "slideshow": {
     "slide_type": "subslide"
    }
   },
   "source": [
    "# [glob](http://docs.python.org/2/library/glob.html)\n",
    "* UNIX-style pathname expansion/wildcard matching"
   ]
  },
  {
   "cell_type": "code",
   "execution_count": null,
   "metadata": {
    "internals": {
     "frag_helper": "fragment_end",
     "frag_number": 37,
     "slide_helper": "subslide_end"
    },
    "slide_helper": "subslide_end",
    "slideshow": {
     "slide_type": "fragment"
    }
   },
   "outputs": [],
   "source": [
    "import glob\n",
    "print(glob.glob(\"*.ipynb\"))\n",
    "print(glob.glob(os.path.join(my_path,\"*.dcm\")))"
   ]
  },
  {
   "cell_type": "markdown",
   "metadata": {
    "internals": {
     "frag_helper": "fragment_end",
     "frag_number": 37,
     "slide_helper": "subslide_end",
     "slide_type": "subslide"
    },
    "slide_helper": "subslide_end",
    "slideshow": {
     "slide_type": "subslide"
    }
   },
   "source": [
    "# [shutil](http://docs.python.org/2/library/shutil.html)\n",
    "* high-level file functions\n",
    "    * copy\n",
    "    * delete\n",
    "    * modify\n",
    "    "
   ]
  },
  {
   "cell_type": "markdown",
   "metadata": {
    "internals": {
     "frag_helper": "fragment_end",
     "frag_number": 37,
     "slide_helper": "subslide_end",
     "slide_type": "subslide"
    },
    "slide_helper": "slide_end",
    "slideshow": {
     "slide_type": "subslide"
    }
   },
   "source": [
    "# [re](http://docs.python.org/2/library/re.html)\n",
    "* PERL-style regular expressions"
   ]
  },
  {
   "cell_type": "markdown",
   "metadata": {
    "internals": {
     "frag_helper": "fragment_end",
     "frag_number": 37,
     "slide_helper": "subslide_end",
     "slide_type": "subslide"
    },
    "slide_helper": "subslide_end",
    "slideshow": {
     "slide_type": "slide"
    }
   },
   "source": [
    "# Third Party Packages\n",
    "* The \"real\" power of Python comes from the multitude of third-party packages that are available\n",
    "* Many of these are listed at the Python package index [pypi](https://pypi.python.org/pypi) \n",
    "* These are what are installed with **easy_install** or **pip**"
   ]
  },
  {
   "cell_type": "markdown",
   "metadata": {
    "internals": {
     "frag_helper": "fragment_end",
     "frag_number": 37,
     "slide_helper": "subslide_end",
     "slide_type": "subslide"
    },
    "slide_helper": "subslide_end",
    "slideshow": {
     "slide_type": "subslide"
    }
   },
   "source": [
    "# Some important Third Party Packages\n",
    "## Scientific Programming\n",
    "* [numpy](http://www.numpy.org/) \n",
    "    * numerical Python\n",
    "* [matplotlib](http://matplotlib.org/)\n",
    "    * graphics \n",
    "* [scipy](http://scipy.org/)\n",
    "    * scientific computing\n",
    "    "
   ]
  },
  {
   "cell_type": "markdown",
   "metadata": {
    "internals": {
     "frag_helper": "fragment_end",
     "frag_number": 37,
     "slide_type": "subslide"
    },
    "slideshow": {
     "slide_type": "subslide"
    }
   },
   "source": [
    "* [networkx](http://networkx.github.io/)\n",
    "    * graphs (networks)\n",
    "* [pandas](http://pandas.pydata.org/)\n",
    "    * data analysis\n",
    "* [pydicom](https://code.google.com/p/pydicom/)\n",
    "    * read, write, modify DICOM files\n",
    "* [scikit-learn](http://scikit-learn.org/stable/)\n",
    "    * machine learning"
   ]
  },
  {
   "cell_type": "code",
   "execution_count": null,
   "metadata": {
    "internals": {
     "frag_helper": "fragment_end",
     "frag_number": 37,
     "slide_helper": "subslide_end"
    },
    "slide_helper": "slide_end",
    "slideshow": {
     "slide_type": "-"
    }
   },
   "outputs": [],
   "source": []
  }
 ],
 "metadata": {
  "kernelspec": {
   "display_name": "Python 3",
   "language": "python",
   "name": "python3"
  },
  "language_info": {
   "codemirror_mode": {
    "name": "ipython",
    "version": 3
   },
   "file_extension": ".py",
   "mimetype": "text/x-python",
   "name": "python",
   "nbconvert_exporter": "python",
   "pygments_lexer": "ipython3",
   "version": "3.5.2"
  }
 },
 "nbformat": 4,
 "nbformat_minor": 1
}

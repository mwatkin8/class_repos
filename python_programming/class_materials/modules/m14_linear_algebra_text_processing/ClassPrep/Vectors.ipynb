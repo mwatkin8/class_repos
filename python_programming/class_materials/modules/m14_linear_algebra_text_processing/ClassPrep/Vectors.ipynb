{
 "cells": [
  {
   "cell_type": "code",
   "execution_count": null,
   "metadata": {},
   "outputs": [],
   "source": [
    "from IPython.display import YouTubeVideo\n",
    "YouTubeVideo(\"wJbbVd1VJuY\", width=800, height=600)"
   ]
  },
  {
   "cell_type": "markdown",
   "metadata": {},
   "source": [
    "# Vectors (Column Vectors)"
   ]
  },
  {
   "cell_type": "markdown",
   "metadata": {},
   "source": [
    "A vector is a column of numbers. Vectors are related to a **point** but have an essential geometric meaning.\n",
    "\n",
    "Think of the vector $v$ as an arrow pointing from the origin to the\n",
    "point $p$. Thus vectors have both magnitude and direction. Obviously the\n",
    "order of the elements of $v$ matter.\n",
    "\n",
    "Below is a figure illustrating a vector pointing from from the origin ($O$) to a point $A$.\n",
    "\n",
    "![An example vector](https://goo.gl/qCxJp3)"
   ]
  },
  {
   "cell_type": "code",
   "execution_count": null,
   "metadata": {},
   "outputs": [],
   "source": [
    "%matplotlib inline"
   ]
  },
  {
   "cell_type": "markdown",
   "metadata": {},
   "source": [
    "We will always write a vector as a column vector.\n",
    "\n",
    "The vector above would be written as\n",
    "\n",
    "$\\vec{v} = \\begin{bmatrix}2\\\\3\\end{bmatrix}$"
   ]
  },
  {
   "cell_type": "code",
   "execution_count": null,
   "metadata": {},
   "outputs": [],
   "source": [
    "from matplotlib import rc\n",
    "rc('font',**{'family':'sans-serif','sans-serif':['Helvetica']})\n",
    "## for Palatino and other serif fonts use:\n",
    "#rc('font',**{'family':'serif','serif':['Palatino']})\n",
    "rc('text', usetex=False)"
   ]
  },
  {
   "cell_type": "markdown",
   "metadata": {},
   "source": [
    "## Some functions for plotting vectors"
   ]
  },
  {
   "cell_type": "code",
   "execution_count": null,
   "metadata": {},
   "outputs": [],
   "source": [
    "import matplotlib.pyplot as plt\n",
    "import numpy as np"
   ]
  },
  {
   "cell_type": "code",
   "execution_count": null,
   "metadata": {},
   "outputs": [],
   "source": [
    "def plot_vectors2(*xs, ax=None, colors=None):\n",
    "    soa = np.array([x for x in xs])\n",
    "    max_lims = soa.max(axis=0)\n",
    "    min_lims = soa.min(axis=0)\n",
    "    X,Y,U,V = zip(*soa)\n",
    "    ax.quiver(X,Y,U,V,angles='xy',scale_units='xy',scale=1, color=colors)\n",
    "    ax.set_xlim([min_lims[-2]-1, max_lims[-2]+1])\n",
    "    ax.set_ylim([min_lims[-1]-1, max_lims[-1]+1])\n",
    "def plot_vectors(*xs, ax=None, colors=None):\n",
    "    origin = np.array([0,0])\n",
    "    soa = np.array([np.concatenate([origin,np.array(x)]) for x in xs])\n",
    "    max_lims = soa.max(axis=0)\n",
    "    min_lims = soa.min(axis=0)\n",
    "    X,Y,U,V = zip(*soa)\n",
    "    ax.quiver(X,Y,U,V,angles='xy',scale_units='xy',scale=1, color=colors)\n",
    "    ax.set_xlim([min(0,min_lims[-2]-1),max(0,max_lims[-2]+1)])\n",
    "    ax.set_ylim([min(0,min_lims[-1]-1),max(0,max_lims[-1]+1)])\n"
   ]
  },
  {
   "cell_type": "markdown",
   "metadata": {},
   "source": [
    "### Plot an Example vector"
   ]
  },
  {
   "cell_type": "code",
   "execution_count": null,
   "metadata": {},
   "outputs": [],
   "source": [
    "fig0, ax0 = plt.subplots(1)\n",
    "plot_vectors([2,3], [-1,5],ax=ax0, colors=('red', 'blue'))\n",
    "fig0.set_size_inches((3,3))"
   ]
  },
  {
   "cell_type": "code",
   "execution_count": null,
   "metadata": {},
   "outputs": [],
   "source": []
  },
  {
   "cell_type": "markdown",
   "metadata": {},
   "source": [
    "## Elements of a Vector\n",
    "The **elements** of the vector are known as **scalars.**\n",
    "\n",
    "For our example above, the elements of the vector are $2$ and $3$.\n",
    "\n",
    "## Dimension of a Vector\n",
    "The **dimension** of a vector is the number of elements in\n",
    "the vector. \n",
    "\n",
    "If the elements of the vector come from $\\mathbb{R}$, we\n",
    "would indicate the **n-space** of the vector as\n",
    "$\\mathbb{R}^n$.\n",
    "\n",
    "For our example above, the dimension of the vector is 2.\n",
    "\n",
    "**Note:** We can only visualize two or three dimensional vectors. However, most of the vectors we will look at will have a much higher dimension so we will limit our visualizations to 2D. We can plot the projection of a higher-dimenion vector on a 2D or 3D space."
   ]
  },
  {
   "cell_type": "markdown",
   "metadata": {},
   "source": [
    "## Some Example Vectors\n",
    "\n",
    "#### Example\n",
    "$v_1 = \\begin{bmatrix} 2\\\\-5\\end{bmatrix}$,\n",
    "* Elements are $2$ and $-5$\n",
    "* Dimension is 2\n",
    "\n",
    "#### Example\n",
    "$v_2=\\begin{bmatrix}7\\\\9\\end{bmatrix}$,\n",
    "* Elements are $7$ and $9$\n",
    "* Dimension is 2\n",
    "\n",
    "#### Example\n",
    "$v_3=\\begin{bmatrix}-3\\\\4\\\\5\\end{bmatrix}$.\n",
    "* Elements are -3, 4, and 5\n",
    "* Dimension is 3\n",
    "\n",
    "#### Example\n",
    "$v_4=\\begin{bmatrix}3\\\\-7\\\\-2\\end{bmatrix}$.\n",
    "* Elements are 3, -7, and -2\n",
    "* Dimension is 3"
   ]
  },
  {
   "cell_type": "code",
   "execution_count": null,
   "metadata": {},
   "outputs": [],
   "source": [
    "fig1, ax1 = plt.subplots(1)\n",
    "plot_vectors([2,-5],[7,9],[-3,4],ax=ax1, colors=[\"black\", \"red\", \"green\"])\n",
    "fig1.set_size_inches((3,3))"
   ]
  },
  {
   "cell_type": "code",
   "execution_count": null,
   "metadata": {},
   "outputs": [],
   "source": [
    "'''\n",
    "==============\n",
    "3D quiver plot\n",
    "==============\n",
    "\n",
    "Demonstrates plotting directional arrows at points on a 3d meshgrid.\n",
    "'''\n",
    "\n",
    "from mpl_toolkits.mplot3d import axes3d\n",
    "import matplotlib.pyplot as plt\n",
    "import numpy as np\n",
    "\n",
    "fig = plt.figure()\n",
    "ax = fig.gca(projection='3d')\n",
    "\n",
    "# Make the grid\n",
    "x, y, z = np.meshgrid([0, 0],\n",
    "                      [0, 0],\n",
    "                      [0, 0])\n",
    "\n",
    "# Make the direction data for the arrows\n",
    "u = np.array([-3, 3])\n",
    "v = np.array([4, -7])\n",
    "w = np.array([5, -2])\n",
    "ax.quiver(x, y, z, u, v, w, length=0.1, normalize=True)\n",
    "\n",
    "plt.show()"
   ]
  },
  {
   "cell_type": "markdown",
   "metadata": {},
   "source": [
    "### Row vectors\n",
    "\n",
    "We can also have [**row vectors**](https://en.wikipedia.org/wiki/Row_and_column_vectors). A row vector is the [**transpose**](https://en.wikipedia.org/wiki/Transpose) of a (column) vector. Similarly, a column vector is the transpose of a row vector. \n",
    "\n",
    "**transpose** of a column vector. $$v_3^T=\\begin{bmatrix}3&4&5\\end{bmatrix}$$"
   ]
  },
  {
   "cell_type": "markdown",
   "metadata": {},
   "source": [
    "## Vector Equality\n",
    "Vectors are equal when every corresponding elements of the vectors are\n",
    "equal. That is, the ith element in vector $a$ corresponds to the ith element in vector $b$ for all $i$."
   ]
  },
  {
   "cell_type": "markdown",
   "metadata": {},
   "source": [
    "### Example\n",
    "\n",
    "* Write a Python function that checks whether two vectors are equal"
   ]
  },
  {
   "cell_type": "code",
   "execution_count": null,
   "metadata": {},
   "outputs": [],
   "source": [
    "def equality_check(v1, v2):\n",
    "    \"\"\"\n",
    "    checks whether two vectors (v1, and v2) are equal\n",
    "    v1: Numpy array representing a vector\n",
    "    v2: Numpy array representing a vector\n",
    "    \"\"\"\n",
    "    if len(v1) != len(v2):\n",
    "        raise ValueError(\"v1 and v2 must be of equal dimension\")\n",
    "    for i in range(len(v1)):\n",
    "        if v1[i] != v2[i]:\n",
    "            return False\n",
    "    return True"
   ]
  },
  {
   "cell_type": "code",
   "execution_count": null,
   "metadata": {},
   "outputs": [],
   "source": [
    "print(equality_check([1,3,5],np.array([1,3,5])))\n",
    "print(equality_check([-2,4],[4,-2]))\n",
    "print(equality_check([1,3,5], [-2,4]))"
   ]
  },
  {
   "cell_type": "markdown",
   "metadata": {},
   "source": [
    "## Operations on Vectors \n",
    "\n",
    "### Vector Addition\n",
    "\n",
    "-   Vector addition is defined by adding point by point the elements of\n",
    "    the vectors. Conceptually, this is equivalent to adding the vectors\n",
    "    tip to base.\n",
    "\n",
    "#### Vector Addition  Example #1\n",
    "* If $\\vec{a} = \\begin{bmatrix}2\\\\-4\\end{bmatrix}$ and $\\vec{b} = \\begin{bmatrix}1\\\\3\\end{bmatrix}$. \n",
    "\n",
    "* Then $\\vec{a+b}=\\begin{bmatrix}3\\\\-1\\end{bmatrix}$."
   ]
  },
  {
   "cell_type": "code",
   "execution_count": null,
   "metadata": {},
   "outputs": [],
   "source": [
    "def vec_addition(v1, v2):\n",
    "    if len(v1) != len(v2):\n",
    "        raise ValueError(\"v1 and v2 must be of equal dimension\")\n",
    "    return [v1[i]+v2[i] for i in range(len(v1))]"
   ]
  },
  {
   "cell_type": "markdown",
   "metadata": {},
   "source": [
    "#### Adding Vectors Graphically\n",
    "\n",
    "Vectors can be added graphically by putting the vectors \"tip to tail\":\n",
    "\n",
    "* Draw the first vector (green)\n",
    "* Place the second vector (blue) at the tip of first vector\n",
    "* Draw the solution vector (red) from the origin to the tip of the second (blue) vector"
   ]
  },
  {
   "cell_type": "code",
   "execution_count": null,
   "metadata": {},
   "outputs": [],
   "source": [
    "fig2, ax2 = plt.subplots(1)\n",
    "plot_vectors2([0,0,2,-4],[2,-4,1,3], [0,0,3,-1], \n",
    "              colors=[(0.5,0.75,0.5,1.0), (0.2, 0.2, 0.8, 1.0), \"red\"], ax=ax2)\n",
    "fig2.set_size_inches((5,5))"
   ]
  },
  {
   "cell_type": "markdown",
   "metadata": {},
   "source": [
    "## Scalar multiplication.\n",
    "-    If we have a scalar $\\alpha$ and we multiply\n",
    "    it with a vector $\\vec{b}$, this is interpreted as multiplying every\n",
    "    element in $\\vec{b}$ by $\\alpha$. Thus scalar multiplication is a\n",
    "    stretching or compressing (with flipping if $\\alpha < 0$) of the\n",
    "    vector\n",
    "\n",
    "    <span>Scalar Multiplication</span> Let\n",
    "    $\\vec{b} = \\begin{bmatrix}1\\\\4\\end{bmatrix}$ and $\\beta=2$.\n",
    "    $$\\begin{aligned}\n",
    "                \\beta\\vec{b}=2\\begin{bmatrix}1\\\\4\\end{bmatrix}\\\\\n",
    "                =\\begin{bmatrix}2\\cdot 1\\\\2\\cdot 4\\end{bmatrix}\\\\\n",
    "                =\\begin{bmatrix}2\\\\8\\end{bmatrix}\n",
    "            \\end{aligned}$$\n",
    "            "
   ]
  },
  {
   "cell_type": "code",
   "execution_count": null,
   "metadata": {},
   "outputs": [],
   "source": [
    "fig3, ax3 = plt.subplots(1)\n",
    "def scalar_multiply(v, beta):\n",
    "    return [beta * v[i] for i in range(len(v))]\n",
    "\n",
    "plot_vectors([1,4], scalar_multiply([1,4], 2), scalar_multiply([1,4],-1.5),\n",
    "             ax=ax3, \n",
    "             colors=[(0,0,0,1.0), \n",
    "                     (1,0,0,0.5),\n",
    "                     (0,1,0,0.5)])\n",
    "fig3.set_size_inches((4,4))"
   ]
  },
  {
   "cell_type": "markdown",
   "metadata": {},
   "source": [
    "### Linear Combinations\n",
    "-   A <span>**linear combination**</span> of vectors is formed by\n",
    "    scaling and adding the vectors together. This will be an important\n",
    "    idea when we talk about matrix multiplication.\n",
    "\n",
    "    <span>Linear Combination of Vectors</span> Let\n",
    "    $\\alpha=2, \\beta=3, \\text{ and } \\gamma=-1$ and $$\\begin{aligned}\n",
    "                \\vec{v_1}=\\begin{bmatrix}2\\\\-1\\\\-4\\end{bmatrix},\\\\\n",
    "                \\vec{v_2}=\\begin{bmatrix}0\\\\1\\\\0\\end{bmatrix},\\\\\n",
    "                \\vec{v_3}=\\begin{bmatrix}1\\\\1\\\\3\\end{bmatrix}\n",
    "            \\end{aligned}$$ The linear combination\n",
    "    $\\alpha\\vec{v_1}+\\beta\\vec{v_2}+\\gamma\\vec{v_3}$ is\n",
    "    $$\\begin{aligned}\n",
    "                2\\cdot \\begin{bmatrix}2\\\\-1\\\\-4\\end{bmatrix} +\n",
    "                3\\cdot \\begin{bmatrix}0\\\\1\\\\0\\end{bmatrix} + \n",
    "                -1\\cdot \\begin{bmatrix}1\\\\1\\\\3\\end{bmatrix} = \n",
    "                \\begin{bmatrix}3\\\\0\\\\-11\\end{bmatrix}\n",
    "            \\end{aligned}$$ .\n",
    "\n",
    "<span>Addition and scalar multiplication of vectors</span> Given vectors\n",
    "$\\vec{u},\\vec{v},\\text{ and } \\vec{w}$ along with scalars $\\alpha$ and\n",
    "$\\beta$, then\n",
    "\n",
    "-   $(u+v)+w =u+(v+w)$\n",
    "\n",
    "-   $u+0=u$\n",
    "\n",
    "-   $u+(-u)=0$\n",
    "\n",
    "-   $u+v=v+u$\n",
    "\n",
    "-   $\\alpha(u+v)=\\alpha u + \\alpha v$\n",
    "\n",
    "-   $(\\alpha+\\beta)u = \\alpha u + \\beta u$\n",
    "\n",
    "-   $(\\alpha\\beta)u=\\alpha(\\beta u)$\n",
    "\n",
    "-   $1u = u$"
   ]
  },
  {
   "cell_type": "code",
   "execution_count": null,
   "metadata": {},
   "outputs": [],
   "source": [
    "def vec_addition2(*v):\n",
    "    \"\"\"\n",
    "    This vector adds together an arbitrary number of vectors\n",
    "    \"\"\"\n",
    "    v = list(v)\n",
    "    v1 = v.pop()\n",
    "    while v:\n",
    "        v2 = v.pop()\n",
    "        if len(v1) != len(v2):\n",
    "            raise ValueError(\"vectors must be of equal dimension\")\n",
    "        v1 = [v1[i]+v2[i] for i in range(len(v1))]\n",
    "    return v1"
   ]
  },
  {
   "cell_type": "markdown",
   "metadata": {},
   "source": [
    "### Example: Linear Combinations\n",
    "\n",
    "Here we compute the linear combination written out above with $\\vec{v_1}$, $\\vec{v_2}$, and $\\vec{v_3}$ (stored in the list ``vs``). I've written a function that will compute the sum of an arbitrary number of vectors (``vec_addition2``). We pass to ``vec_addition2`` the results of three scalar multiplications to get the result vector ``v3``.\n",
    "\n",
    "* I plot in black the 2D projections of the original vectors\n",
    "* I plot in blue the 2D projections of the scaled vectors\n",
    "* I plot in red the sum of the scaled vectors."
   ]
  },
  {
   "cell_type": "code",
   "execution_count": null,
   "metadata": {},
   "outputs": [],
   "source": [
    "vs = [2,-1,-4],[0,1,0],[1,1,3]\n",
    "v3 = vec_addition2(scalar_multiply(vs[0], 2),\n",
    "              scalar_multiply(vs[1], 3),\n",
    "              scalar_multiply(vs[2], -1))"
   ]
  },
  {
   "cell_type": "code",
   "execution_count": null,
   "metadata": {},
   "outputs": [],
   "source": [
    "fig4, ax4 = plt.subplots(1)\n",
    "plot_vectors(vs[0][:2], vs[1][:2], vs[2][:2], \n",
    "             scalar_multiply(vs[0], 2)[:2],\n",
    "             scalar_multiply(vs[1], 3)[:2],\n",
    "             scalar_multiply(vs[2], -1)[:2],\n",
    "             v3[:2], ax=ax4, colors= [\"black\", \"black\", \"black\", \n",
    "                                      (0,0,1,0.5), (0,0,1,0.5), (0,0,1,0.5),\n",
    "                                      \"red\"])"
   ]
  },
  {
   "cell_type": "markdown",
   "metadata": {},
   "source": [
    "## [Vector norms](https://en.wikipedia.org/wiki/Norm_(mathematics)\n",
    "\n",
    "* The norm (${\\left|\\left| \\cdot \\right|\\right|}$) of a vector is a function that returns a non-negative scalar value that depicts the *size* or *magnitude* of the vector. There are multiple norms, but the most common is the **Eucledian Norm** or **$L^2$ Norm.**\n",
    "\n",
    "-   ${\\left|\\left|\\vec{u}\\right|\\right|} = \\sqrt{\\sum_i^N u_i^2}$\n",
    "\n",
    "-   **A unit vector** is a vector with norm of one. A unit vector can be\n",
    "    created from any arbitrary vector as follows:\n",
    "    $$\\overset{*}{\\vec{u}} = \\frac{\\vec{u}}{ {\\left|\\left| \\vec{u} \\right|\\right|} }$$\n",
    "\n"
   ]
  },
  {
   "cell_type": "markdown",
   "metadata": {},
   "source": [
    "#### Example: A function to compute the Eucledian norm of a vector"
   ]
  },
  {
   "cell_type": "code",
   "execution_count": null,
   "metadata": {},
   "outputs": [],
   "source": [
    "import math\n",
    "def enorm(v1):\n",
    "    return math.sqrt(np.sum([v*v for v in v1]))\n",
    "enorm([1,3,4]), enorm([1,0,0]), enorm([1/math.sqrt(2), -1/math.sqrt(2)])"
   ]
  },
  {
   "cell_type": "markdown",
   "metadata": {},
   "source": [
    "## Dot Product\n",
    "\n",
    "-   The <span>**dot product**</span> or <span>**inner product**</span>\n",
    "    is a <span>**very**</span> important idea to understand.\n",
    "\n",
    "-   The dot product is obtained by multiplying corresponding elements of\n",
    "    the two vectors and then summing the products.\n",
    "    $$u\\cdot v = \\sum_{i=0}^{N-1}u_i v_i$$\n",
    "\n",
    "-   The dot product (inner product) measures how parallel two\n",
    "    vectors are. If the inner product of two vectors is zero, then they\n",
    "    are <span>**orthogonal**</span>.\n",
    "\n",
    "-   The angle between two vectors can be measured with the dot product\n",
    "    $$\\cos{\\phi} = \\frac{\\vec{u}\\cdot\\vec{v}}{{\\left|\\left|\\vec{u}\\right|\\right|}{\\left|\\left|\\vec{v}\\right|\\right|}}$$\n",
    "    where ${\\left|\\left|\\cdot\\right|\\right|}$ is the\n",
    "    <span>**norm**</span> or magnitude of the vector.\n",
    "-   The dot product results in a **scalar value**."
   ]
  },
  {
   "cell_type": "code",
   "execution_count": null,
   "metadata": {},
   "outputs": [],
   "source": [
    "def dot(v1, v2):\n",
    "    if len(v1) != len(v2):\n",
    "        raise ValueError(\"v1 and v2 must be of equal dimension\")\n",
    "    return np.sum([v1[i]*v2[i] for i in range(len(v1))])\n",
    "fig5, ax5 = plt.subplots(1)\n",
    "plot_vectors([1,5],[-5,1],[2,3], ax=ax5)\n",
    "dot([1,5],[-5,1]), dot([1,5],[1,5]), dot([1,5],[2,3])"
   ]
  },
  {
   "cell_type": "markdown",
   "metadata": {},
   "source": [
    "## [Cross Product](https://en.wikipedia.org/wiki/Cross_product)\n",
    "\n",
    "There is also a vector **cross product** defined for two vectors $\\vec{a} \\text{ and } \\vec{b}$ that results in a vector that is perpendicular to both $\\vec{a} \\text{ and } \\vec{b}$. The cross product between two parallel vectors is zero."
   ]
  },
  {
   "cell_type": "markdown",
   "metadata": {},
   "source": [
    "## Inequalities\n",
    "-   Schwartz inequality:\n",
    "    ${\\left|\\left|\\vec{u}\\cdot \\vec{v}\\right|\\right|}\\le{\\left|\\left|\\vec{u}\\right|\\right|}{\\left|\\left|\\vec{v}\\right|\\right|}$\n",
    "\n",
    "-   Triangle inequality:\n",
    "    ${\\left|\\left|\\vec{u}+\\vec{v}\\right|\\right|}\\le{\\left|\\left|\\vec{u}\\right|\\right|}+{\\left|\\left|\\vec{v}\\right|\\right|}$"
   ]
  },
  {
   "cell_type": "code",
   "execution_count": null,
   "metadata": {},
   "outputs": [],
   "source": []
  }
 ],
 "metadata": {
  "kernelspec": {
   "display_name": "Python 3",
   "language": "python",
   "name": "python3"
  },
  "language_info": {
   "codemirror_mode": {
    "name": "ipython",
    "version": 3
   },
   "file_extension": ".py",
   "mimetype": "text/x-python",
   "name": "python",
   "nbconvert_exporter": "python",
   "pygments_lexer": "ipython3",
   "version": "3.5.2"
  }
 },
 "nbformat": 4,
 "nbformat_minor": 1
}

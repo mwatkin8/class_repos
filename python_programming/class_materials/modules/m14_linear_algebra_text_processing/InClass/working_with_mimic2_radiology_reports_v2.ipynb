{
 "cells": [
  {
   "cell_type": "code",
   "execution_count": null,
   "metadata": {},
   "outputs": [],
   "source": [
    "import pymysql\n",
    "import pandas as pd\n",
    "import getpass\n",
    "from textblob import TextBlob\n",
    "import re"
   ]
  },
  {
   "cell_type": "code",
   "execution_count": null,
   "metadata": {},
   "outputs": [],
   "source": [
    "conn = pymysql.connect(host=\"mysql\",\n",
    "                       port=3306,user=\"jovyan\",\n",
    "                       passwd=getpass.getpass(\"Enter MySQL passwd for jovyan\"),db='mimic2')\n",
    "cursor = conn.cursor()"
   ]
  },
  {
   "cell_type": "markdown",
   "metadata": {},
   "source": [
    "### Use Pandas and SQL to create a dataframe with the following:\n",
    "* subject_id\n",
    "* hospital admission id\n",
    "* text of the radiology report\n",
    "* Limit the number of reports to 10000"
   ]
  },
  {
   "cell_type": "code",
   "execution_count": null,
   "metadata": {},
   "outputs": [],
   "source": [
    "rad_data = \\\n",
    "pd.read_sql(\"\"\"SELECT noteevents.subject_id, \n",
    "                      noteevents.hadm_id,\n",
    "                      noteevents.text \n",
    "               FROM noteevents\n",
    "               WHERE noteevents.category = 'RADIOLOGY_REPORT' LIMIT 10000\"\"\",conn)\n",
    "rad_data.head(5)"
   ]
  },
  {
   "cell_type": "code",
   "execution_count": null,
   "metadata": {},
   "outputs": [],
   "source": [
    "rad_data.shape"
   ]
  },
  {
   "cell_type": "code",
   "execution_count": null,
   "metadata": {},
   "outputs": [],
   "source": [
    "print(rad_data.iloc[20][\"text\"])"
   ]
  },
  {
   "cell_type": "markdown",
   "metadata": {},
   "source": [
    "### Write a function that returns true or false depending on whether the report contains an impression section\n",
    "\n",
    "#### Hints\n",
    "\n",
    "* Not every report will have an impression section\n",
    "* \"INTERPRETATION\" and \"CONCLUSIONS\" might be synonyms for \"IMPRESSION\""
   ]
  },
  {
   "cell_type": "code",
   "execution_count": null,
   "metadata": {},
   "outputs": [],
   "source": [
    "def count_impression(report):\n",
    "    pass\n"
   ]
  },
  {
   "cell_type": "code",
   "execution_count": null,
   "metadata": {},
   "outputs": [],
   "source": [
    "sum([count_impression(report) for report in rad_data[\"text\"]])"
   ]
  },
  {
   "cell_type": "markdown",
   "metadata": {},
   "source": [
    "### Write a function that returns the impression section of a report\n",
    "\n"
   ]
  },
  {
   "cell_type": "code",
   "execution_count": null,
   "metadata": {},
   "outputs": [],
   "source": [
    "def get_impression(report):\n",
    "    pass    \n"
   ]
  },
  {
   "cell_type": "markdown",
   "metadata": {},
   "source": [
    "### Define Regular expressions for data cleansing\n",
    "\n",
    "We have a lot of patterns that are unique and don't convey meaningful information\n",
    "\n",
    "* De-identified names, dates, etc. \n",
    "    * `[**Clip Number (Radiology) 12569**]`\n",
    "    * `[**Hospital 12568**]`\n",
    "    * `[**Last Name (NamePattern4) 337**]` \n",
    "    * `[**First Name8 (NamePattern2) 12565**]` \n",
    "    * `[**Last Name (NamePattern1) 12566**]`\n",
    "* Separators  (e.g. `__________________`)\n",
    "\n",
    "### Split into groups and write and test regular expressions to capture these patterns\n",
    "* Write a regular expression to replace dates in the reports with ``[**DATE**]``\n",
    "* Write a regular expression to replace times in the reports with ``[**TIME**]``\n",
    "* Write a regular expression to replaces digits with \"d\", (e.g. \"43 cc\" would become \"dd cm\")"
   ]
  },
  {
   "cell_type": "code",
   "execution_count": null,
   "metadata": {},
   "outputs": [],
   "source": [
    "date=re.compile(r\"\"\"((?P<month>[A-Z][a-z]{2,}(\\.)?) (?P<day>[0-9]{1,2}))\"\"\")\n",
    "last_name=re.compile(r\"\"\"\\[\\*\\*Last Name \\(NamePattern\\d+\\) \\*\\*\\]\"\"\")\n",
    "\n",
    "age2 = re.compile(r\"\"\"(?P<age>[0-9]+)(-|\\s)y(ear(s)?|\\.)(-|\\s)?o(ld|\\.)\"\"\")\n",
    "age3 = re.compile(r\"\"\"\\bage(d)? (?P<age>[0-9]+)\"\"\")\n",
    "digits = re.compile(r\"\"\"\\d\"\"\")\n",
    "def age_in_decades(m):\n",
    "    age = int(m.group(\"age\"))\n",
    "    \n",
    "    return \"[** Age in %ss**]\"%(int(age/10)*10,)\n",
    "\n",
    "age_in_decades(next(age2.finditer(\"74-year-old\")))\n",
    "tmp = re.sub(age2, age_in_decades, re.sub(age3, age_in_decades, report_txt))"
   ]
  },
  {
   "cell_type": "markdown",
   "metadata": {},
   "source": [
    "#### Hints\n",
    "\n",
    "* Look at some sample reports to see what dates and times look like in the reports\n",
    "* What order would you need to apply the regular expressions?"
   ]
  },
  {
   "cell_type": "code",
   "execution_count": null,
   "metadata": {},
   "outputs": [],
   "source": [
    "for i in range(10):\n",
    "    print(rad_data.iloc[i]['text'])\n",
    "    print(\"*\"*42,\"\\n\\n\")"
   ]
  },
  {
   "cell_type": "markdown",
   "metadata": {},
   "source": [
    "### You can use the Pandas `iloc` method to grab specific reports"
   ]
  },
  {
   "cell_type": "code",
   "execution_count": null,
   "metadata": {},
   "outputs": [],
   "source": [
    "print(rad_data.iloc[0][\"text\"])"
   ]
  },
  {
   "cell_type": "code",
   "execution_count": null,
   "metadata": {},
   "outputs": [],
   "source": [
    "print(rad_data.iloc[0][\"text\"])"
   ]
  },
  {
   "cell_type": "markdown",
   "metadata": {},
   "source": [
    "### Create a new column named \"impression\" for storing just the impression portion of the report"
   ]
  },
  {
   "cell_type": "code",
   "execution_count": null,
   "metadata": {},
   "outputs": [],
   "source": [
    "rad_data[\"impression\"] = \\\n",
    "rad_data.apply(lambda row: digits.sub(\"d\", get_impression(row[\"text\"])).lower(), axis=1)"
   ]
  },
  {
   "cell_type": "code",
   "execution_count": null,
   "metadata": {},
   "outputs": [],
   "source": [
    "rad_data.head()"
   ]
  },
  {
   "cell_type": "code",
   "execution_count": null,
   "metadata": {},
   "outputs": [],
   "source": [
    "print(rad_data.iloc[20][\"impression\"])"
   ]
  },
  {
   "cell_type": "markdown",
   "metadata": {},
   "source": [
    "### How many unique words occur in the corpus?\n",
    "\n",
    "#### Hint\n",
    "\n",
    "1. Use TextBlob\n",
    "1. Put all the reports into a single string\n",
    "\n",
    "#### I got 8658"
   ]
  },
  {
   "cell_type": "code",
   "execution_count": null,
   "metadata": {},
   "outputs": [],
   "source": [
    "#\" \".join(rad_data[\"impression\"])"
   ]
  },
  {
   "cell_type": "code",
   "execution_count": null,
   "metadata": {},
   "outputs": [],
   "source": [
    "unique_impression_words = set(TextBlob(\" \".join([report for report in rad_data[\"impression\"]])).words)\n",
    "len(unique_impression_words)\n",
    "\n"
   ]
  },
  {
   "cell_type": "code",
   "execution_count": null,
   "metadata": {},
   "outputs": [],
   "source": [
    "#unique_impression_words"
   ]
  },
  {
   "cell_type": "code",
   "execution_count": null,
   "metadata": {},
   "outputs": [],
   "source": [
    "from gensim.parsing.preprocessing import STOPWORDS\n",
    "STOPWORDS"
   ]
  },
  {
   "cell_type": "code",
   "execution_count": null,
   "metadata": {},
   "outputs": [],
   "source": [
    "my_stop_words = frozenset([\"a\", \"am\", \"an\", \"and\", \"are\", \"as\", \"at\", \"be\", \"for\", \"is\", \"the\", \"is\", \"of\", \"which\", ])"
   ]
  },
  {
   "cell_type": "markdown",
   "metadata": {},
   "source": [
    "## Create a single string with all the reports\n",
    "\n",
    "#### Hints, etc.\n",
    "* Use List Comprehension\n",
    "* Use string joins\n",
    "* Iterate over the rows of the data frame"
   ]
  },
  {
   "cell_type": "code",
   "execution_count": null,
   "metadata": {},
   "outputs": [],
   "source": []
  },
  {
   "cell_type": "markdown",
   "metadata": {},
   "source": [
    "### Define a vector space for the radiology corpus\n",
    "\n",
    "#### Hints\n",
    "\n",
    "1. How would you build a corpus from words only occuring more than N times?"
   ]
  },
  {
   "cell_type": "markdown",
   "metadata": {},
   "source": [
    "### Create a new column named `\"impression no stops\"` where [stop words](https://en.wikipedia.org/wiki/Stop_words) have been dropped from the impression\n",
    "\n",
    "* The gensim package has stop words defined (``from gensim.parsing.preprocessing import STOPWORDS``\n",
    "\n",
    "#### Hints\n",
    "1. Do you agree with dropping all the stop words?\n",
    "1. How could we create a new stopwords frozen set absent the terms we wan't to keep (double negative?)\n",
    "1. You could use a regular expressions substitution or token the report first and operate on the list of words."
   ]
  },
  {
   "cell_type": "code",
   "execution_count": null,
   "metadata": {},
   "outputs": [],
   "source": [
    "rad_data[\"impression no stops\"] = \\\n",
    "rad_data.apply(???), axis=1)"
   ]
  },
  {
   "cell_type": "code",
   "execution_count": null,
   "metadata": {},
   "outputs": [],
   "source": [
    "rad_data.iloc[0][\"impression\"]"
   ]
  },
  {
   "cell_type": "code",
   "execution_count": null,
   "metadata": {},
   "outputs": [],
   "source": [
    "rad_data.iloc[0][\"impression no stops\"]"
   ]
  },
  {
   "cell_type": "markdown",
   "metadata": {},
   "source": [
    "### What are the unique words in our vocabulary?"
   ]
  },
  {
   "cell_type": "code",
   "execution_count": null,
   "metadata": {},
   "outputs": [],
   "source": [
    "unique_impression_words = ???\n"
   ]
  },
  {
   "cell_type": "markdown",
   "metadata": {},
   "source": [
    "### We'll create a vocabulary with `zip` and `dict`"
   ]
  },
  {
   "cell_type": "code",
   "execution_count": null,
   "metadata": {},
   "outputs": [],
   "source": [
    "word_map = dict(zip(unique_impression_words,range(len(unique_impression_words))))"
   ]
  },
  {
   "cell_type": "code",
   "execution_count": null,
   "metadata": {},
   "outputs": [],
   "source": [
    "len(word_map)"
   ]
  },
  {
   "cell_type": "code",
   "execution_count": null,
   "metadata": {},
   "outputs": [],
   "source": [
    "word_map"
   ]
  },
  {
   "cell_type": "markdown",
   "metadata": {},
   "source": [
    "### Save for use in our next notebook"
   ]
  },
  {
   "cell_type": "code",
   "execution_count": null,
   "metadata": {},
   "outputs": [],
   "source": [
    "import gzip\n",
    "import pickle\n",
    "\n",
    "with open(\"rad_data.pickle.gz\", \"wb\") as f0:\n",
    "    pickle.dump(rad_data, f0)"
   ]
  },
  {
   "cell_type": "code",
   "execution_count": null,
   "metadata": {},
   "outputs": [],
   "source": [
    "with open(\"rad_vocabulary.pickle.gz\", \"wb\") as f0:\n",
    "    pickle.dump(word_map, f0)"
   ]
  },
  {
   "cell_type": "code",
   "execution_count": null,
   "metadata": {},
   "outputs": [],
   "source": []
  }
 ],
 "metadata": {
  "kernelspec": {
   "display_name": "Python 3",
   "language": "python",
   "name": "python3"
  },
  "language_info": {
   "codemirror_mode": {
    "name": "ipython",
    "version": 3
   },
   "file_extension": ".py",
   "mimetype": "text/x-python",
   "name": "python",
   "nbconvert_exporter": "python",
   "pygments_lexer": "ipython3",
   "version": "3.5.2"
  }
 },
 "nbformat": 4,
 "nbformat_minor": 1
}

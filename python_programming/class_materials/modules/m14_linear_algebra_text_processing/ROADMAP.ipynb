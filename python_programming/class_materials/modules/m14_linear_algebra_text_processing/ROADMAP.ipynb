{
 "cells": [
  {
   "cell_type": "markdown",
   "metadata": {},
   "source": [
    "# Linear Algebra and Text Processing\n",
    "\n",
    "In this module we will explore the use of linear algebra in text processing. We will begin by exploring the basics of vectors and then look at how we can represent text with vectors and vector operations to estimate similarity of texts.\n",
    "\n",
    "While our motivating example is text processing, linear algebra is foundational for statistics and machine learning."
   ]
  },
  {
   "cell_type": "markdown",
   "metadata": {},
   "source": [
    "## Class Prep\n",
    "\n",
    "* [Vectors](./ClassPrep/Vectors.ipynb)\n",
    "* [Word Vectors](./ClassPrep/word_vectors.ipynb)\n",
    "\n",
    "## In Class\n",
    "\n",
    "* [Working with text reports](./InClass/working_with_mimic2_radiology_reports.ipynb)\n",
    "* [Identifying phrases](./InClass/recognizing_phrases.ipynb)\n",
    "* Using nbconvert and [pep8](https://pypi.python.org/pypi/pep8)"
   ]
  },
  {
   "cell_type": "markdown",
   "metadata": {},
   "source": [
    "## Resources\n",
    "\n",
    "* I have uploaded to Canvas a free textbook on learning linear algebra with Python (LAFFNotes.pdf)\n",
    "* [The \"Taming math and physics using SymPy\" tutorial has a section on vectors](https://minireference.com/static/tutorials/sympy_tutorial.pdf)\n",
    "* [Sympy tutorial on matrices](http://docs.sympy.org/latest/tutorial/matrices.html)\n",
    "* [Gensim: a full-featured package for working with text](https://radimrehurek.com/gensim/)\n",
    "* [Sci-Kit Learn: Working with text data](http://scikit-learn.org/stable/tutorial/text_analytics/working_with_text_data.html)"
   ]
  },
  {
   "cell_type": "code",
   "execution_count": null,
   "metadata": {},
   "outputs": [],
   "source": []
  }
 ],
 "metadata": {
  "anaconda-cloud": {},
  "kernelspec": {
   "display_name": "Python 3",
   "language": "python",
   "name": "python3"
  },
  "language_info": {
   "codemirror_mode": {
    "name": "ipython",
    "version": 3
   },
   "file_extension": ".py",
   "mimetype": "text/x-python",
   "name": "python",
   "nbconvert_exporter": "python",
   "pygments_lexer": "ipython3",
   "version": "3.5.2"
  }
 },
 "nbformat": 4,
 "nbformat_minor": 1
}

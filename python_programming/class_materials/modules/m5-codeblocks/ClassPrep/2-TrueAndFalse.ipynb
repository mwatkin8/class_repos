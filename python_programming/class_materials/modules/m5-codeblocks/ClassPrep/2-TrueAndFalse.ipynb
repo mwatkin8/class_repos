{
 "cells": [
  {
   "cell_type": "code",
   "execution_count": null,
   "metadata": {},
   "outputs": [],
   "source": [
    "from IPython.display import YouTubeVideo\n",
    "\n",
    "YouTubeVideo(\"ZLoEoF0LBp4\")"
   ]
  },
  {
   "cell_type": "markdown",
   "metadata": {
    "internals": {
     "slide_helper": "subslide_end",
     "slide_type": "subslide"
    },
    "slide_helper": "subslide_end",
    "slideshow": {
     "slide_type": "slide"
    }
   },
   "source": [
    "# Truth and Falsehood in Python\n",
    "* Python provides a Boolean type that represents true (**True**) and false (**False**)\n",
    "* Objects that evaluate as False in Python\n",
    "    * **False**\n",
    "    * **None**\n",
    "    * **0**\n",
    "    * Empty Collections: \n",
    "        * **\"\"**\n",
    "        * **()**\n",
    "        * **[]**\n",
    "        * **{}**\n",
    "        * **set([])**\n",
    "* Everything else evaluates as True\n",
    "* **bool()**: Converts any expression to a boolean value (If it can be evaluated as True or False)"
   ]
  },
  {
   "cell_type": "code",
   "execution_count": null,
   "metadata": {},
   "outputs": [],
   "source": [
    "print(bool(False))"
   ]
  },
  {
   "cell_type": "code",
   "execution_count": null,
   "metadata": {},
   "outputs": [],
   "source": [
    "print(bool([]))"
   ]
  },
  {
   "cell_type": "code",
   "execution_count": null,
   "metadata": {},
   "outputs": [],
   "source": [
    "print(bool([1]))"
   ]
  },
  {
   "cell_type": "code",
   "execution_count": null,
   "metadata": {},
   "outputs": [],
   "source": [
    "print(bool([0]))"
   ]
  },
  {
   "cell_type": "code",
   "execution_count": null,
   "metadata": {
    "internals": {
     "slide_helper": "subslide_end",
     "slide_type": "subslide"
    },
    "slide_helper": "slide_end",
    "slideshow": {
     "slide_type": "subslide"
    }
   },
   "outputs": [],
   "source": [
    "print(bool(2-2))"
   ]
  },
  {
   "cell_type": "markdown",
   "metadata": {
    "internals": {
     "slide_helper": "subslide_end",
     "slide_type": "subslide"
    },
    "slide_helper": "subslide_end",
    "slideshow": {
     "slide_type": "slide"
    }
   },
   "source": [
    "# Comparisons\n",
    "* x == y **(pay attention to this one)**\n",
    "* x < y, x > y\n",
    "* x <= y, x >= y\n",
    "* x != y\n",
    "* x is y\n",
    "* x is not y\n",
    "* x in y\n",
    "* x not in y\n"
   ]
  },
  {
   "cell_type": "markdown",
   "metadata": {
    "internals": {
     "slide_helper": "subslide_end",
     "slide_type": "subslide"
    },
    "slide_helper": "subslide_end",
    "slideshow": {
     "slide_type": "subslide"
    }
   },
   "source": [
    "# [Boolean Operators](http://docs.python.org/2/library/stdtypes.html?highlight=short%20circuit#boolean-operations-and-or-not)\n",
    "* **and**\n",
    "* **or** \n",
    "* **not**\n",
    "\n",
    "* x **and** y \n",
    "    * both x AND y must be true for the expression to be true\n",
    "* x **or** y \n",
    "    * either x OR y must be true for the expression to be true\n",
    "* **not **x is true of x is false\n",
    "* **and** and **or** *short circuit*\n",
    "    * **and** evaluates right argument only if left argument is True\n",
    "    * **or** evaluates right argument only if left argument is False\n"
   ]
  },
  {
   "cell_type": "code",
   "execution_count": null,
   "metadata": {},
   "outputs": [],
   "source": [
    "x = 1; y = 0; z = 2\n",
    "print(bool(x))\n",
    "print(bool(y))\n",
    "print(bool(z))\n",
    "bool(x) and bool(y) or bool(z)"
   ]
  },
  {
   "cell_type": "markdown",
   "metadata": {},
   "source": [
    "## True and False and Numpy Arrays\n",
    "\n",
    "* [Logical Functions in Numpy](http://docs.scipy.org/doc/numpy/reference/routines.logic.html)"
   ]
  },
  {
   "cell_type": "code",
   "execution_count": null,
   "metadata": {},
   "outputs": [],
   "source": [
    "bool([1,2,3,4])\n"
   ]
  },
  {
   "cell_type": "code",
   "execution_count": null,
   "metadata": {},
   "outputs": [],
   "source": [
    "import numpy as np\n",
    "a = np.array([0,2,3,4])\n",
    "b = np.array([0,1,0,1])\n",
    "np.all(b)"
   ]
  },
  {
   "cell_type": "code",
   "execution_count": null,
   "metadata": {},
   "outputs": [],
   "source": [
    "np.logical_or(a,b)"
   ]
  },
  {
   "cell_type": "code",
   "execution_count": null,
   "metadata": {},
   "outputs": [],
   "source": []
  }
 ],
 "metadata": {
  "kernelspec": {
   "display_name": "Python 3",
   "language": "python",
   "name": "python3"
  },
  "language_info": {
   "codemirror_mode": {
    "name": "ipython",
    "version": 3
   },
   "file_extension": ".py",
   "mimetype": "text/x-python",
   "name": "python",
   "nbconvert_exporter": "python",
   "pygments_lexer": "ipython3",
   "version": "3.4.4"
  }
 },
 "nbformat": 4,
 "nbformat_minor": 0
}

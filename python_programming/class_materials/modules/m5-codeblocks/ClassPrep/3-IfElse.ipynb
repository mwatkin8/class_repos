{
 "cells": [
  {
   "cell_type": "code",
   "execution_count": null,
   "metadata": {},
   "outputs": [],
   "source": [
    "from IPython.display import YouTubeVideo\n",
    "\n",
    "YouTubeVideo(\"E4tse7I6SuA\")"
   ]
  },
  {
   "cell_type": "markdown",
   "metadata": {
    "internals": {
     "slide_helper": "subslide_end",
     "slide_type": "subslide"
    },
    "slide_helper": "subslide_end",
    "slideshow": {
     "slide_type": "slide"
    }
   },
   "source": [
    "# The if statement\n",
    "* The **if** statement is quite simple and almost literal:\n",
    "    * *IF* the expression is true, *THEN* execute the following block (as defined by **:** and indents) \n",
    "* A Note on style:\n",
    "    * Python does *not require* parentheses around the concept being \"tested.\" However, other languages (like C/C++) do. Python does *allow* parentheses.\n",
    "    * Out of habit, I almost always type parentheses, although it is considered bad style"
   ]
  },
  {
   "cell_type": "code",
   "execution_count": null,
   "metadata": {},
   "outputs": [],
   "source": [
    "name = 'Dr. Brian E. Chapman'\n",
    "\n",
    "if name.startswith('Dr.'):\n",
    "    print(\"Don't be pretentious!\")"
   ]
  },
  {
   "cell_type": "code",
   "execution_count": null,
   "metadata": {
    "internals": {
     "slide_helper": "subslide_end",
     "slide_type": "subslide"
    },
    "slide_helper": "subslide_end",
    "slideshow": {
     "slide_type": "subslide"
    }
   },
   "outputs": [],
   "source": [
    "name = 'Brian Chapman'\n",
    "\n",
    "if( name.startswith('Dr.') ):\n",
    "    print(\"Don't be so pretentious!\")"
   ]
  },
  {
   "cell_type": "markdown",
   "metadata": {
    "internals": {
     "slide_helper": "subslide_end",
     "slide_type": "subslide"
    },
    "slide_helper": "subslide_end",
    "slideshow": {
     "slide_type": "subslide"
    }
   },
   "source": [
    "* *IF* kidney function is decreased *THEN* use non-ionic contrast agents\n",
    "* Examples\n",
    "    * IF AGE > 6 months THEN Vaccination\n",
    "    * "
   ]
  },
  {
   "cell_type": "markdown",
   "metadata": {
    "internals": {
     "slide_helper": "subslide_end",
     "slide_type": "subslide"
    },
    "slide_helper": "subslide_end",
    "slideshow": {
     "slide_type": "subslide"
    }
   },
   "source": [
    "# \"Or Else!\"\n",
    "* **if** by itself is limited\n",
    "* **else** provides an alternative block of statements to execute\n",
    "\n",
    "* *IF* kidney function is decreased THEN use non-ionic contrast ELSE use ionic contrast"
   ]
  },
  {
   "cell_type": "code",
   "execution_count": null,
   "metadata": {
    "internals": {
     "slide_helper": "subslide_end",
     "slide_type": "subslide"
    },
    "slide_helper": "subslide_end",
    "slideshow": {
     "slide_type": "subslide"
    }
   },
   "outputs": [],
   "source": [
    "import math\n",
    "\n",
    "num = float(\n",
    "    input(\"enter a real valued number to compute a square root for \"))\n",
    "if num < 0 :\n",
    "    print(\"real valued square roots are not defined for negative numbers\")\n",
    "else:\n",
    "    print(\"The square root of %f is %f\"%(num,math.sqrt(num)))"
   ]
  },
  {
   "cell_type": "markdown",
   "metadata": {
    "internals": {
     "slide_helper": "subslide_end",
     "slide_type": "subslide"
    },
    "slide_helper": "subslide_end",
    "slideshow": {
     "slide_type": "subslide"
    }
   },
   "source": [
    "# elif\n",
    "* elif allows us to build up an arbitrarily long list of alternatives to consider\n",
    "* if (CONDITION1) block1 elif(CONDITION2) block2 ... elif(CONDITIONN) blockN else blockE"
   ]
  },
  {
   "cell_type": "code",
   "execution_count": null,
   "metadata": {
    "internals": {
     "slide_helper": "subslide_end",
     "slide_type": "subslide"
    },
    "slide_helper": "slide_end",
    "slideshow": {
     "slide_type": "subslide"
    }
   },
   "outputs": [],
   "source": [
    "num = int(input(\"Enter a number \"))\n",
    "if num > 0:\n",
    "    print(\"Number is positive\")\n",
    "elif num < 0:\n",
    "    print(\"Number is negative\")\n",
    "else:\n",
    "    print(\"Number is zero\")\n",
    "    "
   ]
  },
  {
   "cell_type": "code",
   "execution_count": null,
   "metadata": {
    "internals": {
     "slide_helper": "subslide_end",
     "slide_type": "subslide"
    },
    "slide_helper": "subslide_end",
    "slideshow": {
     "slide_type": "subslide"
    }
   },
   "outputs": [],
   "source": [
    "looseMetal = True\n",
    "pregnant = True\n",
    "sex = 'male'\n",
    "if not looseMetal and ( not pregnant) :\n",
    "    print(\"MRI ok\")\n",
    "else:\n",
    "    print(\"MRI is contraindicated\")"
   ]
  },
  {
   "cell_type": "markdown",
   "metadata": {
    "internals": {
     "slide_helper": "subslide_end",
     "slide_type": "subslide"
    },
    "slide_helper": "subslide_end",
    "slideshow": {
     "slide_type": "subslide"
    }
   },
   "source": [
    "## How can we rewrite the **if** statement above to be more concise?"
   ]
  },
  {
   "cell_type": "code",
   "execution_count": null,
   "metadata": {
    "internals": {
     "slide_helper": "subslide_end",
     "slide_type": "subslide"
    },
    "slide_helper": "slide_end",
    "slideshow": {
     "slide_type": "subslide"
    }
   },
   "outputs": [],
   "source": [
    "looseMetal = False\n",
    "pregnant = False\n",
    "if looseMetal or pregnant :\n",
    "    print(\"MRI is contraindicated\")\n",
    "else:\n",
    "    print(\"MRI is OK\")"
   ]
  },
  {
   "cell_type": "code",
   "execution_count": null,
   "metadata": {},
   "outputs": [],
   "source": []
  }
 ],
 "metadata": {
  "anaconda-cloud": {},
  "kernelspec": {
   "display_name": "Python 3",
   "language": "python",
   "name": "python3"
  },
  "language_info": {
   "codemirror_mode": {
    "name": "ipython",
    "version": 3
   },
   "file_extension": ".py",
   "mimetype": "text/x-python",
   "name": "python",
   "nbconvert_exporter": "python",
   "pygments_lexer": "ipython3",
   "version": "3.5.2"
  }
 },
 "nbformat": 4,
 "nbformat_minor": 1
}

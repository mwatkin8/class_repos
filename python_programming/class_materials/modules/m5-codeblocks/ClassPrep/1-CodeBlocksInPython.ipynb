{
 "cells": [
  {
   "cell_type": "code",
   "execution_count": null,
   "metadata": {},
   "outputs": [],
   "source": [
    "from IPython.display import YouTubeVideo\n",
    "\n",
    "YouTubeVideo(\"8suHeQznWt0\")"
   ]
  },
  {
   "cell_type": "markdown",
   "metadata": {
    "internals": {
     "slide_helper": "subslide_end",
     "slide_type": "subslide"
    },
    "slide_helper": "subslide_end",
    "slideshow": {
     "slide_type": "slide"
    }
   },
   "source": [
    "# Code Blocks in Python"
   ]
  },
  {
   "cell_type": "markdown",
   "metadata": {
    "internals": {
     "slide_helper": "subslide_end",
     "slide_type": "subslide"
    },
    "slide_helper": "subslide_end",
    "slideshow": {
     "slide_type": "subslide"
    }
   },
   "source": [
    "#### All but the simpliest programs need to have code structured into (compound statements) blocks of code that are"
   ]
  },
  {
   "cell_type": "markdown",
   "metadata": {
    "internals": {
     "slide_helper": "subslide_end",
     "slide_type": "subslide"
    },
    "slide_helper": "slide_end",
    "slideshow": {
     "slide_type": "subslide"
    }
   },
   "source": [
    "* Conditionally Executed\n",
    "    * **IF** the patient is a WOMAN **THEN** do a pregnancy test\n",
    "    * **IF** patient has FEVER **AND** has indications of pneumonia on x-ray **THEN** prescribe antibiotic\n",
    "* Used Repeatedly\n",
    "    * **FOR** every cell in the image **COMPUTE** the area\n",
    "    * **WHILE** the patient is not breathing **KEEP** peforming CPR\n",
    "* Executed together\n",
    "    * Make a sandwhich\n",
    "        * open the bread bag\n",
    "        * take out a slice of break\n",
    "        * put the slice of bread on a plate\n",
    "        * close the bread bag\n",
    "        * open the peanut butter\n",
    "        * spread peanut butter on the slice of bread\n",
    "        * close the peanut butter\n",
    "    * Check a patient in\n",
    "        * Get patient name\n",
    "        * Get patient date of birth\n",
    "        * Get insurance information\n",
    "        * Get chief complaint\n",
    "        "
   ]
  },
  {
   "cell_type": "markdown",
   "metadata": {
    "internals": {
     "slide_helper": "subslide_end",
     "slide_type": "subslide"
    },
    "slide_helper": "subslide_end",
    "slideshow": {
     "slide_type": "slide"
    }
   },
   "source": [
    "## How Python Defines Compound Statements"
   ]
  },
  {
   "cell_type": "markdown",
   "metadata": {},
   "source": [
    "* Python uses **colons (:)** to mark the beginning of compound statements\n",
    "* Colons are used in conjunction with *indentation* levels\n",
    "* Compound statements end when the indentation level returns to the value prior to the ** colon :**"
   ]
  },
  {
   "cell_type": "markdown",
   "metadata": {
    "internals": {
     "slide_helper": "subslide_end",
     "slide_type": "subslide"
    },
    "slide_helper": "subslide_end",
    "slideshow": {
     "slide_type": "subslide"
    }
   },
   "source": [
    "## Nested Compount Statements\n",
    "* Compount statements can be nested\n",
    "    * WHILE I am on the airplane:\n",
    "        * IF my computer still has battery:\n",
    "            * Do some work\n",
    "        * ELSE IF the on-board entertainment is available:\n",
    "            * Watch a movie\n",
    "        * ELSE\n",
    "            * Sleep\n",
    "            "
   ]
  },
  {
   "cell_type": "markdown",
   "metadata": {
    "internals": {
     "slide_helper": "subslide_end",
     "slide_type": "subslide"
    },
    "slide_helper": "subslide_end",
    "slideshow": {
     "slide_type": "subslide"
    }
   },
   "source": [
    "## The Joy of Indentation\n",
    "\n",
    "* Python uses indentation to define **blocks**\n",
    "* A block can be thought of as a group of statements that are related to each other\n",
    "    * statements that are all executed if a condition is true\n",
    "    * statements that are repeatedly executed together\n",
    "\t* statements that constitute a function\n",
    "\t* statements that constitute a class"
   ]
  },
  {
   "cell_type": "markdown",
   "metadata": {
    "internals": {
     "slide_helper": "subslide_end",
     "slide_type": "subslide"
    },
    "slide_helper": "subslide_end",
    "slideshow": {
     "slide_type": "subslide"
    }
   },
   "source": [
    "## What are the advantages of requiring indentation?\n",
    "* Requiring indentation makes for more readable code as \n",
    "    * users\n",
    "    * programmers\n",
    "    * readers\n",
    "    * students \n",
    "* can quickly scan the program and recognize the program structure\n",
    "\n",
    "### Indentation means it is imperative to use a Python-aware editor"
   ]
  },
  {
   "cell_type": "code",
   "execution_count": null,
   "metadata": {
    "internals": {
     "slide_helper": "subslide_end",
     "slide_type": "subslide"
    },
    "slide_helper": "subslide_end",
    "slideshow": {
     "slide_type": "subslide"
    }
   },
   "outputs": [],
   "source": [
    "# This uses very little indentation\n",
    "for i in range(1,40):\n",
    " if i % 2 == 0:\n",
    "  print(\"%d is an even number\"%i)\n",
    "  if i % 3 == 0:\n",
    "   print( \"%d is divisible by 2 and 3\"%i)\n",
    " if i % 7 == 0:\n",
    "  print(\"%d is also divisible by 7\"%i)\n",
    "  if i % 6 == 0:\n",
    "   print \"wow this is also divisible by 6\"\n"
   ]
  },
  {
   "cell_type": "code",
   "execution_count": null,
   "metadata": {
    "internals": {
     "slide_helper": "subslide_end",
     "slide_type": "subslide"
    },
    "slide_helper": "slide_end",
    "slideshow": {
     "slide_type": "subslide"
    }
   },
   "outputs": [],
   "source": [
    "# This uses a lot of indentation\n",
    "# If my program gets more complex, I'm going to run out of space\n",
    "for i in range(100):\n",
    "            if i % 2 == 0:\n",
    "                        print(\"%d is an even number\"%i)\n",
    "                        if i%3 == 0:\n",
    "                                print (\"%d is divisible by 2 and 3\"%i)\n",
    "            if i % 7 == 0:\n",
    "                    print(\"%d is also divisible by 7\"%i)\n",
    "                    if i % 6 == 0:\n",
    "                            print(\"wow this is also divisible by 6\")\n"
   ]
  }
 ],
 "metadata": {
  "kernelspec": {
   "display_name": "Python 3",
   "language": "python",
   "name": "python3"
  },
  "language_info": {
   "codemirror_mode": {
    "name": "ipython",
    "version": 3
   },
   "file_extension": ".py",
   "mimetype": "text/x-python",
   "name": "python",
   "nbconvert_exporter": "python",
   "pygments_lexer": "ipython3",
   "version": "3.5.2"
  }
 },
 "nbformat": 4,
 "nbformat_minor": 1
}

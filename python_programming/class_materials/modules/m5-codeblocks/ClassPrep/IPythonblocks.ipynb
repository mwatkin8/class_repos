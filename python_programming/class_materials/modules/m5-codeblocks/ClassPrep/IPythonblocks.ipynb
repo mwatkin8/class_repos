{
 "cells": [
  {
   "cell_type": "markdown",
   "metadata": {
    "internals": {
     "slide_helper": "subslide_end",
     "slide_type": "subslide"
    },
    "slide_helper": "subslide_end",
    "slideshow": {
     "slide_type": "slide"
    }
   },
   "source": [
    "# Loops in Python"
   ]
  },
  {
   "cell_type": "markdown",
   "metadata": {
    "internals": {
     "slide_helper": "subslide_end",
     "slide_type": "subslide"
    },
    "slide_helper": "slide_end",
    "slideshow": {
     "slide_type": "subslide"
    }
   },
   "source": [
    "To explore loops and conditionals in more detail, we will use the ipythonblocks package to visualize the coding. ipythonblocks has an interface very similar to numpy arrays, so it will be a good lead in for more work with numpy.\n",
    "\n",
    "[Software Carpentry Lesson on Control Flow](http://software-carpentry.org/v4/python/flow.html)"
   ]
  },
  {
   "cell_type": "markdown",
   "metadata": {
    "internals": {
     "slide_helper": "subslide_end",
     "slide_type": "subslide"
    },
    "slide_helper": "subslide_end",
    "slideshow": {
     "slide_type": "slide"
    }
   },
   "source": [
    "# Using [IPythonblocks](http://ipythonblocks.org/)\n",
    "## The IPythonblocks has a lot of fun examples of exploring loops using [block art](http://nbviewer.jupyter.org/github/jiffyclub/ipythonblocks/blob/master/demos/ipythonblocks_fun.ipynb)"
   ]
  },
  {
   "cell_type": "markdown",
   "metadata": {
    "internals": {
     "slide_helper": "subslide_end",
     "slide_type": "subslide"
    },
    "slide_helper": "subslide_end",
    "slideshow": {
     "slide_type": "subslide"
    }
   },
   "source": [
    "## First, let's make a BlockGrid. \n",
    "* Each BlockGrid consists of an array of blocks. \n",
    "* Each block has a \n",
    "    * size (height and width) and \n",
    "    * color (red, green, blue) encoded with values from 0-255.\n",
    "    * location"
   ]
  },
  {
   "cell_type": "code",
   "execution_count": null,
   "metadata": {
    "internals": {
     "slide_helper": "subslide_end",
     "slide_type": "subslide"
    },
    "slide_helper": "subslide_end",
    "slideshow": {
     "slide_type": "subslide"
    }
   },
   "outputs": [],
   "source": [
    "from ipythonblocks import BlockGrid\n",
    "from IPython.display import clear_output\n",
    "import time\n",
    "import random"
   ]
  },
  {
   "cell_type": "markdown",
   "metadata": {},
   "source": [
    "[Color2RGB Lookup](http://www.procato.com/rgbfind/)"
   ]
  },
  {
   "cell_type": "markdown",
   "metadata": {},
   "source": [
    "## Using blocks to illustrate ``for`` loops\n",
    "\n",
    "### Here we are going to iterate over the elements of a grid."
   ]
  },
  {
   "cell_type": "code",
   "execution_count": null,
   "metadata": {},
   "outputs": [],
   "source": [
    "grid = BlockGrid(6, 6, fill=(250, 218, 94)) \n",
    "grid.show()\n",
    "for block in grid:\n",
    "    clear_output()\n",
    "    if block.row % 2 == 0 :#and block.col % 2 == 0:\n",
    "        block.red = 0\n",
    "        block.green = 49\n",
    "        block.blue = 83\n",
    "    else:\n",
    "        block.red = 207 \n",
    "        block.green = 145 \n",
    "        block.blue = 42\n",
    "    grid.show()\n",
    "    print(block)\n",
    "    time.sleep(0.55)\n",
    "\n"
   ]
  },
  {
   "cell_type": "code",
   "execution_count": null,
   "metadata": {},
   "outputs": [],
   "source": [
    "grid = BlockGrid(5, 5, fill=(250, 218, 94)) \n",
    "\n",
    "for block in grid:\n",
    "    clear_output()\n",
    "    if block.row % 2 == block.col % 2:\n",
    "        block.red = 0\n",
    "        block.green = 49\n",
    "        block.blue = 83\n",
    "    else:\n",
    "        block.red = 50\n",
    "        block.green = 205\n",
    "        block.blue = 50\n",
    "        \n",
    "    grid.show()\n",
    "    print(block)\n",
    "    time.sleep(0.75)\n",
    "    "
   ]
  },
  {
   "cell_type": "markdown",
   "metadata": {},
   "source": [
    "### Loop over the grid and redraw with random colors"
   ]
  },
  {
   "cell_type": "code",
   "execution_count": null,
   "metadata": {},
   "outputs": [],
   "source": [
    "grid = BlockGrid(5, 5, fill=(250, 218, 94)) \n",
    "\n",
    "for block in grid:\n",
    "    clear_output()\n",
    "    \n",
    "    block.red = random.randint(0,256)\n",
    "    block.green = random.randint(0,256)\n",
    "    block.blue = random.randint(0,256)\n",
    "    \n",
    "    grid.show()\n",
    "    print(block)\n",
    "    time.sleep(0.75)\n",
    "    "
   ]
  },
  {
   "cell_type": "markdown",
   "metadata": {
    "internals": {
     "frag_helper": "fragment_end",
     "frag_number": 23,
     "slide_type": "subslide"
    },
    "slideshow": {
     "slide_type": "subslide"
    }
   },
   "source": [
    "# for loop and ``range``\n",
    "* [**``range()``**](https://docs.python.org/3/library/functions.html#func-range) creates an iterator of numbers\n",
    "    * Behaves similar to a list without having to allocate a (potentially) large chunk of memory.\n",
    "* Loops can also be nested.\n",
    "\n",
    "Here is a common example of using nested for loops to loop across an image. One loop moves us across the rows, the other moves us across the columns"
   ]
  },
  {
   "cell_type": "code",
   "execution_count": null,
   "metadata": {},
   "outputs": [],
   "source": [
    "for i in range(5):\n",
    "    clear_output()\n",
    "    grid.show()\n",
    "    print(\"(%d,:)\"%(i)) # an example of string interpolation\n",
    "    grid[i,:].show()\n",
    "    input(\"continue\")"
   ]
  },
  {
   "cell_type": "code",
   "execution_count": null,
   "metadata": {},
   "outputs": [],
   "source": [
    "for i in range(5):\n",
    "    clear_output()\n",
    "    grid.show()\n",
    "    print(\"(:,%d)\"%(i)) # an example of string interpolation\n",
    "    grid[:,i].show()\n",
    "    input(\"continue\")"
   ]
  },
  {
   "cell_type": "code",
   "execution_count": null,
   "metadata": {},
   "outputs": [],
   "source": [
    "rslts = []\n",
    "for k in range(5):\n",
    "    clear_output()\n",
    "    grid.show()\n",
    "    i, j = input(\"Enter a (x,y) coordinate. (Type two integers separated by a comma.) \\n\").split(\",\")\n",
    "    j = int(j)\n",
    "    i = int(i)\n",
    "    \n",
    "    grid[j,i].show()\n",
    "    answer = input(\"Was this the block you thought it would be?\\n\")\n",
    "    rslts.append(answer.lower()[0])\n",
    "print(100*len([a for a in rslts if a == 'y'])/len(rslts), \"% Correct\")"
   ]
  },
  {
   "cell_type": "markdown",
   "metadata": {},
   "source": [
    "## Exercise \n",
    "\n",
    "1. Using indexing to create a smiley face\n",
    "\n",
    "Send me your smiley face. We'll see who creates the best."
   ]
  },
  {
   "cell_type": "code",
   "execution_count": null,
   "metadata": {},
   "outputs": [],
   "source": [
    "smiley = BlockGrid(9, 9, fill=(255, 205, 94)) \n",
    "\n",
    "smiley[3,2:4] = (0,0,255)\n",
    "smiley[3,5:7] = (0,0,255)\n",
    "\n",
    "smiley[7,3:6] = (255,0,0)\n",
    "smiley[6,2] = (255,0,0)\n",
    "smiley[6,6] = (255,0,0)\n",
    "smiley.show()"
   ]
  },
  {
   "cell_type": "code",
   "execution_count": null,
   "metadata": {},
   "outputs": [],
   "source": []
  }
 ],
 "metadata": {
  "kernelspec": {
   "display_name": "Python 3",
   "language": "python",
   "name": "python3"
  },
  "language_info": {
   "codemirror_mode": {
    "name": "ipython",
    "version": 3
   },
   "file_extension": ".py",
   "mimetype": "text/x-python",
   "name": "python",
   "nbconvert_exporter": "python",
   "pygments_lexer": "ipython3",
   "version": "3.5.2"
  }
 },
 "nbformat": 4,
 "nbformat_minor": 1
}

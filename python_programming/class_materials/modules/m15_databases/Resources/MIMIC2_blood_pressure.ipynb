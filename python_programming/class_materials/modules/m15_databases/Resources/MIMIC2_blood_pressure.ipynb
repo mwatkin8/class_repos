{
 "cells": [
  {
   "cell_type": "markdown",
   "metadata": {},
   "source": [
    "# MIMIC2 MySQL Browser\n",
    "\n",
    "This notebook provides a Jupyter interface to the MIMIC2 demo data set. I have tested connecting with both pymysql and mysql.connector. Both of which fail when trying to properly insert parameters into the query string. I've followed the examples on the documentation and it sill just doesn't work. After wasting many, many hours, I'm giving up and just using unsafe string formation.\n",
    "\n",
    "``cursor.execute(\"\"\"SELECT title, exam_name, category FROM %s\"\"\",(tables[-6][0],))`` \n",
    "\n",
    "results in \n",
    "\n",
    "``ProgrammingError: (1064, \"You have an error in your SQL syntax; check the manual that corresponds to your MySQL server version for the right syntax to use near ''noteevents'' at line 1\")``"
   ]
  },
  {
   "cell_type": "code",
   "execution_count": null,
   "metadata": {},
   "outputs": [],
   "source": [
    "import pymysql\n",
    "import pandas as pd\n",
    "import os"
   ]
  },
  {
   "cell_type": "code",
   "execution_count": null,
   "metadata": {},
   "outputs": [],
   "source": [
    "CLASSDIR = os.path.join(os.path.expanduser(\"~\"),\"\")"
   ]
  },
  {
   "cell_type": "code",
   "execution_count": null,
   "metadata": {},
   "outputs": [],
   "source": []
  },
  {
   "cell_type": "code",
   "execution_count": null,
   "metadata": {},
   "outputs": [],
   "source": [
    "### Connect to MySQL server\n",
    "\n",
    "Every time the MySQL Docker server comes up it gets a new IP address. use ``docker inspect mimic2-mysql | grep IP`` to identify the correct IP address to use."
   ]
  },
  {
   "cell_type": "code",
   "execution_count": null,
   "metadata": {},
   "outputs": [],
   "source": [
    "conn = pymysql.connect(host=\"mysql\",port=3306,\n",
    "                       user=\"jovyan\",passwd='jovyan',\n",
    "                       db='mimic2')"
   ]
  },
  {
   "cell_type": "code",
   "execution_count": null,
   "metadata": {},
   "outputs": [],
   "source": [
    "cursor = conn.cursor()"
   ]
  },
  {
   "cell_type": "code",
   "execution_count": null,
   "metadata": {},
   "outputs": [],
   "source": [
    "bloodpressure = pd.read_sql(\"\"\"SELECT * FROM chartevents WHERE \n",
    "                            itemid in (6, 51, 455, 6701)\"\"\",conn)\n"
   ]
  },
  {
   "cell_type": "code",
   "execution_count": null,
   "metadata": {},
   "outputs": [],
   "source": [
    "bloodpressure[\"charttime\"][0]"
   ]
  },
  {
   "cell_type": "code",
   "execution_count": null,
   "metadata": {},
   "outputs": [],
   "source": [
    "bloodpressure"
   ]
  },
  {
   "cell_type": "code",
   "execution_count": null,
   "metadata": {},
   "outputs": [],
   "source": [
    "bloodpressure.to_csv(\"./abp_all.csv\")"
   ]
  },
  {
   "cell_type": "code",
   "execution_count": null,
   "metadata": {},
   "outputs": [],
   "source": [
    "#bloodpressure[[\"value1\",\"value2\"]]"
   ]
  },
  {
   "cell_type": "code",
   "execution_count": null,
   "metadata": {},
   "outputs": [],
   "source": [
    "unique_subjects = list(set(bloodpressure['subject_id']))\n",
    "print(len(unique_subjects))\n",
    "if not os.path.exists(\"bp\"):\n",
    "    os.makedirs(\"bp/subjects\")\n",
    "for s in unique_subjects:\n",
    "    with open(os.path.join(\"bp/subjects\",\"%s.txt\"%s),\"w\") as f0:\n",
    "        f0.write(\"\\n\".join([\"%s\\t%s\"%(d[1][0],d[1][1]) for d in bloodpressure[bloodpressure[\"subject_id\"]==s][[\"value1\",\"value2\"]].iterrows()]))"
   ]
  },
  {
   "cell_type": "code",
   "execution_count": null,
   "metadata": {},
   "outputs": [],
   "source": [
    "with open(\"./systolic.txt\",\"w\") as f0:\n",
    "    bloodpressure.dropna()['VALUE1NUM'][0:1000].as_matrix().tofile(f0,sep=\",\")"
   ]
  },
  {
   "cell_type": "code",
   "execution_count": null,
   "metadata": {},
   "outputs": [],
   "source": [
    "with open(\"./diastolic.txt\",\"w\") as f0:\n",
    "    bloodpressure.dropna()['VALUE2NUM'][0:1000].as_matrix().tofile(f0,sep=\",\")"
   ]
  },
  {
   "cell_type": "code",
   "execution_count": null,
   "metadata": {},
   "outputs": [],
   "source": [
    "#bloodpressure[bloodpressure[\"subject_id\"]==s][[\"value1\",\"value2\"]]"
   ]
  },
  {
   "cell_type": "code",
   "execution_count": null,
   "metadata": {},
   "outputs": [],
   "source": [
    "[\"%s\\t%s\"%(d[1][0],d[1][1]) for d in bloodpressure[bloodpressure[\"subject_id\"]==s][[\"value1\",\"value2\"]].iterrows()]"
   ]
  },
  {
   "cell_type": "code",
   "execution_count": null,
   "metadata": {},
   "outputs": [],
   "source": []
  }
 ],
 "metadata": {
  "kernelspec": {
   "display_name": "Python 3",
   "language": "python",
   "name": "python3"
  },
  "language_info": {
   "codemirror_mode": {
    "name": "ipython",
    "version": 3
   },
   "file_extension": ".py",
   "mimetype": "text/x-python",
   "name": "python",
   "nbconvert_exporter": "python",
   "pygments_lexer": "ipython3",
   "version": "3.5.2"
  }
 },
 "nbformat": 4,
 "nbformat_minor": 0
}

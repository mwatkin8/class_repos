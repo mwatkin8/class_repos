{
 "cells": [
  {
   "cell_type": "markdown",
   "metadata": {},
   "source": [
    "# Relational Databases and Normal Form"
   ]
  },
  {
   "cell_type": "code",
   "execution_count": null,
   "metadata": {},
   "outputs": [],
   "source": [
    "from IPython.display import YouTubeVideo\n",
    "YouTubeVideo(\"4ZW2V6pLW2U\", width=800, height=600)"
   ]
  },
  {
   "cell_type": "code",
   "execution_count": null,
   "metadata": {},
   "outputs": [],
   "source": [
    "from IPython.display import Image\n",
    "import sqlite3 as sq\n",
    "\n",
    "Image(\"http://imgs.xkcd.com/comics/exploits_of_a_mom.png\")"
   ]
  },
  {
   "cell_type": "markdown",
   "metadata": {},
   "source": [
    ">For our purposes, we can consider 1NF data to be any data that’s tabular (composed of rows and columns), with each row-column intersection (“cell”) containing exactly one value. (*MongoDB Applied Design Patterns,* p 18)"
   ]
  },
  {
   "cell_type": "markdown",
   "metadata": {},
   "source": [
    "|id  | name  | phone\\_number| zip code |\n",
    "|----|:-----:|:-------------|---------:|\n",
    "|1   | Rick  |555-111-1234  | 30062    |\n",
    "|2   | Mike  | 555-222-2345 | 30062|\n",
    "|3   | Jenny |555-333-3456  |01209|\n"
   ]
  },
  {
   "cell_type": "markdown",
   "metadata": {},
   "source": [
    "## What if people have more than one phone number?\n",
    "### Is this first normal form?"
   ]
  },
  {
   "cell_type": "markdown",
   "metadata": {},
   "source": [
    "|id  | name  | phone\\_number| zip code |\n",
    "|----|:-----:|:-------------|---------:|\n",
    "|1   | Rick  |555-111-1234  | 30062    |\n",
    "|2   | Mike  | 555-222-2345;555-212-2322 | 30062|\n",
    "|3   | Jenny |555-333-3456;555-334-3411 |01209|\n"
   ]
  },
  {
   "cell_type": "markdown",
   "metadata": {},
   "source": [
    "### What do you think of this solution?\n",
    "\n",
    "|id  | name  | phone\\_number0|phone\\_number1| zip code |\n",
    "|----|:-----:|:-------------|:--------------|---------:|\n",
    "|1   | Rick  |555-111-1234  |NULL | 30062    |\n",
    "|2   | Mike  | 555-222-2345 |555-212-2322 | 30062|\n",
    "|3   | Jenny |555-333-3456 | 555-334-3411 |01209|\n",
    "\n"
   ]
  },
  {
   "cell_type": "markdown",
   "metadata": {},
   "source": [
    "## Is This first normal form?\n",
    "\n",
    "|id  | name  | phone\\_number| zip code |\n",
    "|----|:-----:|:-------------|---------:|\n",
    "|1   | Rick  |555-111-1234  | 30062    |\n",
    "|2   | Mike  | 555-222-2345 | 30062|\n",
    "|2   | Mike  | 555-212-2322 | 30062|\n",
    "|3   | Jenny |555-333-3456  |01209|\n",
    "|3   | Jenny |555-334-3411  |01209|\n",
    "\n",
    "### Any drawbacks?"
   ]
  },
  {
   "cell_type": "markdown",
   "metadata": {},
   "source": [
    "## What is the cost of our solution?\n",
    "\n",
    "We have introduced redudancy.\n",
    "\n",
    "* Increased data storage\n",
    "* **Opportunities for data inconsistency**\n",
    "\n",
    "## Here is the Normal Form Solution\n",
    "\n",
    "|id  | name  | zip code |\n",
    "|----|:-----:|---------:|\n",
    "|1   | Rick  | 30062    |\n",
    "|2   | Mike  |30062|\n",
    "|3   | Jenny |01209|\n",
    "\n",
    "\n",
    "|id  |phone\\_number| \n",
    "|----|:-------------|\n",
    "|1   |555-111-1234  | \n",
    "|2   |555-222-2345 | \n",
    "|2   |555-212-2322 | \n",
    "|3   |555-333-3456  |\n",
    "|3   |555-334-3411  |"
   ]
  },
  {
   "cell_type": "markdown",
   "metadata": {},
   "source": [
    "## Let's Implement This in Python"
   ]
  },
  {
   "cell_type": "code",
   "execution_count": null,
   "metadata": {},
   "outputs": [],
   "source": [
    "conn = sq.connect(\":memory:\")\n",
    "\n",
    "cursor = conn.cursor()\n",
    "\n",
    "cursor.execute(\"\"\"CREATE TABLE IF NOT EXISTS persons (id int PRIMARY KEY, name text, zip_code text)\"\"\")\n",
    "\n",
    "cursor.executemany(\"\"\"INSERT INTO persons VALUES (?,?,?)\"\"\",[(1,\"Rick\",\"30062\"),(2,\"Mike\",\"30062\"),(3,\"Jenny\",\"01209\")])\n",
    "\n",
    "cursor.execute(\"\"\"CREATE TABLE IF NOT EXISTS contacts (contact_id int, phone_number text)\"\"\")\n",
    "\n",
    "cursor.executemany(\"\"\"INSERT INTO contacts VALUES (?,?)\"\"\",[(1,\"555-111-1234\"),\n",
    "                                                            (2,\"555-222-2345\"),(2,\"555-212-2322\"),\n",
    "                                                            (3,\"555-333-3456\"),\n",
    "                                                            (3,\"555-334-3411\")])"
   ]
  },
  {
   "cell_type": "code",
   "execution_count": null,
   "metadata": {},
   "outputs": [],
   "source": [
    "cursor.execute(\"\"\"SELECT persons.name, persons.zip_code, contacts.phone_number \n",
    "                  FROM persons \n",
    "                  LEFT JOIN contacts \n",
    "                  ON persons.id = contacts.contact_id\"\"\")"
   ]
  },
  {
   "cell_type": "code",
   "execution_count": null,
   "metadata": {},
   "outputs": [],
   "source": [
    "cursor.fetchall()"
   ]
  },
  {
   "cell_type": "code",
   "execution_count": null,
   "metadata": {},
   "outputs": [],
   "source": [
    "cursor.execute(\"\"\"SELECT * FROM persons\"\"\")\n",
    "cursor.fetchall()"
   ]
  },
  {
   "cell_type": "code",
   "execution_count": null,
   "metadata": {},
   "outputs": [],
   "source": [
    "cursor.execute(\"\"\"SELECT * FROM contacts\"\"\")\n",
    "cursor.fetchall()"
   ]
  },
  {
   "cell_type": "code",
   "execution_count": null,
   "metadata": {},
   "outputs": [],
   "source": [
    "cursor.execute(\"\"\"INSERT INTO persons(id,name) VALUES (?,?)\"\"\",(4,'Ziggy',))"
   ]
  },
  {
   "cell_type": "code",
   "execution_count": null,
   "metadata": {},
   "outputs": [],
   "source": [
    "cursor.execute(\"\"\"SELECT * FROM persons\"\"\")\n",
    "cursor.fetchall()"
   ]
  },
  {
   "cell_type": "code",
   "execution_count": null,
   "metadata": {},
   "outputs": [],
   "source": [
    "cursor.execute(\"\"\"INSERT INTO persons VALUES (?,?,?)\"\"\",(5,'Thin White Duke',\"84108\"))"
   ]
  },
  {
   "cell_type": "code",
   "execution_count": null,
   "metadata": {},
   "outputs": [],
   "source": [
    "cursor.execute(\"\"\"SELECT * FROM persons\"\"\")\n",
    "cursor.fetchall()"
   ]
  },
  {
   "cell_type": "code",
   "execution_count": null,
   "metadata": {},
   "outputs": [],
   "source": []
  }
 ],
 "metadata": {
  "kernelspec": {
   "display_name": "Python 3",
   "language": "python",
   "name": "python3"
  },
  "language_info": {
   "codemirror_mode": {
    "name": "ipython",
    "version": 3
   },
   "file_extension": ".py",
   "mimetype": "text/x-python",
   "name": "python",
   "nbconvert_exporter": "python",
   "pygments_lexer": "ipython3",
   "version": "3.5.2"
  }
 },
 "nbformat": 4,
 "nbformat_minor": 1
}

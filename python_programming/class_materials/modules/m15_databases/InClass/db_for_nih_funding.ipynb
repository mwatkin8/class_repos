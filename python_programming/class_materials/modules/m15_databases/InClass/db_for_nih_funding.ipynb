{
 "cells": [
  {
   "cell_type": "code",
   "execution_count": null,
   "metadata": {},
   "outputs": [],
   "source": [
    "from IPython.display import YouTubeVideo\n",
    "YouTubeVideo(\"KPZhX-9xWMA\", width=800, height=600)"
   ]
  },
  {
   "cell_type": "markdown",
   "metadata": {},
   "source": [
    "# Exploring NIH Funding\n",
    "\n",
    "The NIH, as part of its open government initiative, provides information about extramural funding. [NIH Reporter](https://projectreporter.nih.gov/) is a web interface to the database containing information about all funded grants. The NIH also provides downloads of the grant information in either CSV or XML formats at [NIH ExPORTER](https://exporter.nih.gov/).\n",
    "\n",
    "We will look at the 2015 funding to explore a little more about Pandas and to think about how we would design a smaller database from these data.\n",
    "\n",
    "## File Formats\n",
    "\n",
    "The data are stored in a CSV file that is contained within a [zip file](https://en.wikipedia.org/wiki/Zip_(file_format)). A zip file is a compressed archive of files. Since there are (potentially) multiple files within a zip file, we need a way of iterating over them. The ZipFile instance has a ``namelist`` method that provides a list of files in the archive. By prior exploration, I know that there is only one file in this archive.\n",
    "\n",
    "* We will use Python's [urllib](https://docs.python.org/3/library/urllib.html) package to read the file over the web.\n",
    "    * Remember ``urlopen`` creates a file-like object that reads data across the web the same as from a local file.\n",
    "* We will use Python's [io.BytesIO](https://docs.python.org/3/library/io.html?highlight=io.bytesio#io.BytesIO) and the [zipfile](https://docs.python.org/3/library/zipfile.html) module to open the zip archive and extract individual files from it.\n",
    "    * ``BytesIO`` takes a string (what we read with urlopen) and converts it into an object that looks like (behaves like) a file object.\n",
    "* We will use [Pandas](http://pandas.pydata.org/pandas-docs/stable/generated/pandas.read_csv.html) to read the CSV file into a dataframe.\n",
    "\n"
   ]
  },
  {
   "cell_type": "code",
   "execution_count": null,
   "metadata": {},
   "outputs": [],
   "source": [
    "from zipfile import ZipFile\n",
    "import os\n",
    "import pandas as pd\n",
    "import matplotlib.pyplot as plt\n",
    "from urllib.request import urlopen\n",
    "from io import BytesIO"
   ]
  },
  {
   "cell_type": "markdown",
   "metadata": {},
   "source": [
    "#### I had to use the 'latin-1' encoding to get the file to read properly"
   ]
  },
  {
   "cell_type": "code",
   "execution_count": null,
   "metadata": {},
   "outputs": [],
   "source": [
    "url=\"https://exporter.nih.gov/CSVs/final/RePORTER_PRJ_C_FY2015.zip\"\n",
    "\n",
    "with urlopen(url) as f0:\n",
    "    with ZipFile(BytesIO(f0.read())) as myzip:\n",
    "        nih_data = pd.read_csv(myzip.open(myzip.namelist()[0]), \n",
    "                               encoding='latin-1')\n",
    "nih_data.head()"
   ]
  },
  {
   "cell_type": "markdown",
   "metadata": {},
   "source": [
    "#### What does a particular row of our data look like?\n",
    "\n",
    "A couple of possible approaches. The first approach I thought of was with [``iloc``](http://pandas.pydata.org/pandas-docs/stable/generated/pandas.Series.iloc.html).\n",
    "\n",
    "* iloc uses integer indexing to access data, so this will be most imilar to indexing a list or a numpy array. We can also use slicing"
   ]
  },
  {
   "cell_type": "code",
   "execution_count": null,
   "metadata": {},
   "outputs": [],
   "source": [
    "nih_data.shape"
   ]
  },
  {
   "cell_type": "code",
   "execution_count": null,
   "metadata": {},
   "outputs": [],
   "source": [
    "nih_data.iloc[0]"
   ]
  },
  {
   "cell_type": "markdown",
   "metadata": {},
   "source": [
    "#### What are the column names?"
   ]
  },
  {
   "cell_type": "code",
   "execution_count": null,
   "metadata": {},
   "outputs": [],
   "source": [
    "nih_data.columns"
   ]
  },
  {
   "cell_type": "code",
   "execution_count": null,
   "metadata": {},
   "outputs": [],
   "source": [
    "nih_data[\"PI_NAMEs\"].head(20)"
   ]
  },
  {
   "cell_type": "markdown",
   "metadata": {},
   "source": [
    "## Database Design\n",
    "\n",
    "### Design a relational database that would contain the following information\n",
    "\n",
    "* PI name(s)\n",
    "* Organization name\n",
    "* Organization department (e.g. Radiology)\n",
    "* Total cost\n",
    "* Project title\n",
    "\n",
    "What would the tables be? Data types?"
   ]
  },
  {
   "cell_type": "markdown",
   "metadata": {},
   "source": [
    "#### We are going to use sqlite3 with an in memory database\n",
    "\n",
    "#### First create a connection to the database and then a cursor"
   ]
  },
  {
   "cell_type": "code",
   "execution_count": null,
   "metadata": {},
   "outputs": [],
   "source": [
    "import sqlite3 as sql\n",
    "db= sql.connect(\":memory:\")\n",
    "cur = db.cursor()"
   ]
  },
  {
   "cell_type": "markdown",
   "metadata": {},
   "source": [
    "### Notes:\n",
    "\n",
    "* ``Project_Title`` and ``Principle_Investigator`` are of type integer because they are going to be foreign keys to ``rowid`` which is an intger primary key for the PI and organiztion tables we will create\n",
    "* We declare the foreign key relationship\n",
    "    * Which variables are foreign keys and what table(column) do they refer to\n",
    "* \"CREATE TABLE IF NOT EXISTS\" avoid throwing an exception when trying to create a table that already exists"
   ]
  },
  {
   "cell_type": "code",
   "execution_count": null,
   "metadata": {},
   "outputs": [],
   "source": [
    "#Tables = Project; PI; Orgs\n",
    "\"\"\"We are creating a set of tables; \n",
    "command for creating a sql table is create table if not exists\"\"\"\n",
    "query = \\\n",
    "\"\"\"Create table if not exists project (Project_Title text, \n",
    "                                       Principle_Investigator int, \n",
    "                                       Organization int, \n",
    "                                       Department int,\n",
    "                                       Total_Cost float,\n",
    "                                       FOREIGN KEY (Principle_Investigator) REFERENCES PIs(rowid),\n",
    "                                       FOREIGN KEY (Organization) REFERENCES organization(rowid),\n",
    "                                       FOREIGN KEY (Department) REFERENCES department(rowid))\"\"\"\n",
    "cur.execute(query)"
   ]
  },
  {
   "cell_type": "markdown",
   "metadata": {},
   "source": [
    "#### Create the PI, Organization, and Department tables\n",
    "\n",
    "* just have the PI table contain the name of the PIs. \n",
    "* just have the organization name\n",
    "* just have the department name\n",
    "* Other variables we might have wanted to create columns for were the State where the organization is located and the zip code, etc."
   ]
  },
  {
   "cell_type": "code",
   "execution_count": null,
   "metadata": {},
   "outputs": [],
   "source": [
    "query = \"\"\"CREATE TABLE IF NOT EXISTS PI (name text)\"\"\"\n",
    "cur.execute(query)"
   ]
  },
  {
   "cell_type": "code",
   "execution_count": null,
   "metadata": {},
   "outputs": [],
   "source": [
    "query2 = \"\"\"CREATE TABLE IF NOT EXISTS organization ( Organization_Name text)\"\"\"\n",
    "cur.execute(query2)"
   ]
  },
  {
   "cell_type": "code",
   "execution_count": null,
   "metadata": {},
   "outputs": [],
   "source": [
    "query3 = \"\"\"CREATE TABLE IF NOT EXISTS department ( Department_Name text)\"\"\"\n",
    "cur.execute(query3)"
   ]
  },
  {
   "cell_type": "markdown",
   "metadata": {},
   "source": [
    "### Now we need to populate our tables\n",
    "\n",
    "We start with our organization,  PI tables. What we want is a row for each unique organization (PI) in the DataFrame. We get these values with the `nih_data`'s ``unique`` method."
   ]
  },
  {
   "cell_type": "code",
   "execution_count": null,
   "metadata": {},
   "outputs": [],
   "source": [
    "orgs = nih_data['ORG_NAME'].dropna().unique()\n",
    "PIs = nih_data['PI_NAMEs'].dropna().unique()\n",
    "departments = nih_data['ORG_DEPT'].dropna().unique()\n",
    "len(PIs), len(orgs), len(departments)\n"
   ]
  },
  {
   "cell_type": "markdown",
   "metadata": {},
   "source": [
    "#### We used the ``executemany`` method to insert all the values with one call\n",
    "\n",
    "* ``executemany`` expects a list of tuples. Each tuple represents the collection of values that are going to be inserted into a single row\n",
    "* ``orgs`` and ``PIs`` are numy arrays which are list like, but each element is a single value not a tuple of a value\n",
    "* We use list comprehension to put the values into a 1-tuple"
   ]
  },
  {
   "cell_type": "code",
   "execution_count": null,
   "metadata": {},
   "outputs": [],
   "source": [
    "cur.executemany(\"\"\"INSERT INTO organization values(?)\"\"\", \n",
    "                [(o,) for o in orgs])"
   ]
  },
  {
   "cell_type": "markdown",
   "metadata": {},
   "source": [
    "#### Look at what we put into the table"
   ]
  },
  {
   "cell_type": "code",
   "execution_count": null,
   "metadata": {},
   "outputs": [],
   "source": [
    "cur.execute(\"\"\"SELECT rowid,  Organization_name FROM organization\"\"\")\n",
    "cur.fetchmany(5)"
   ]
  },
  {
   "cell_type": "markdown",
   "metadata": {},
   "source": [
    "#### Everything looks good from ``organization"
   ]
  },
  {
   "cell_type": "markdown",
   "metadata": {},
   "source": [
    "#### Repeat the process to insert values into ``PIs``"
   ]
  },
  {
   "cell_type": "code",
   "execution_count": null,
   "metadata": {},
   "outputs": [],
   "source": [
    "cur.executemany(\"\"\"INSERT INTO PI values(?)\"\"\", [(p,) for p in PIs])"
   ]
  },
  {
   "cell_type": "code",
   "execution_count": null,
   "metadata": {},
   "outputs": [],
   "source": [
    "cur.executemany(\"\"\"INSERT INTO department values(?)\"\"\", [(d,) for d in departments])"
   ]
  },
  {
   "cell_type": "code",
   "execution_count": null,
   "metadata": {},
   "outputs": [],
   "source": [
    "cur.execute(\"\"\"SELECT rowid,name FROM PI\"\"\")\n",
    "cur.fetchmany(10)"
   ]
  },
  {
   "cell_type": "markdown",
   "metadata": {},
   "source": [
    "## Populating the ``project`` database\n",
    "\n",
    "* Populating the ``project`` database is more complicated beause what we need to insert into the row is not the names of the PI or the organizations but the **foreign keys** (the rowid for those names in their respective tables.\n",
    "\n",
    "* For any given name (PI or organization) we need to query the appropriate table and get the rowid for that name.\n",
    "     * This will be done with a ``SELECT`` statement with a ``WHERE`` clause\n",
    "     * For example, ``SELECT rowid FROM PIs WHERE NAME='PARKER, DENNIS L.;'``"
   ]
  },
  {
   "cell_type": "markdown",
   "metadata": {},
   "source": [
    "#### Best approach is to let sqlite3 do the interpolation/substitution for us"
   ]
  },
  {
   "cell_type": "code",
   "execution_count": null,
   "metadata": {},
   "outputs": [],
   "source": [
    "for pi in PIs[:10]:\n",
    "    cur.execute(\"\"\"SELECT rowid FROM PI WHERE NAME=?\"\"\",(pi,))\n",
    "    rslt = cur.fetchone()[0]\n",
    "    print(pi, rslt)"
   ]
  },
  {
   "cell_type": "markdown",
   "metadata": {},
   "source": [
    "### Putting it all together"
   ]
  },
  {
   "cell_type": "code",
   "execution_count": null,
   "metadata": {},
   "outputs": [],
   "source": [
    "for _, row in nih_data.fillna(\"\").iterrows():\n",
    "    project_title = row['PROJECT_TITLE']\n",
    "    total_cost = row['TOTAL_COST']\n",
    "    pi_names = row['PI_NAMEs']\n",
    "    org_name = row['ORG_NAME']\n",
    "    dept_name = row['ORG_DEPT']\n",
    "    \n",
    "    cur.execute(\"\"\"SELECT rowid FROM PI WHERE NAME=?\"\"\", (pi_names,))\n",
    "    try:\n",
    "        pi = pi_rowid = cur.fetchone()[0]\n",
    "    except TypeError:\n",
    "        pi = None\n",
    "    try:\n",
    "        cur.execute(\"\"\"SELECT rowid FROM organization WHERE Organization_Name=?\"\"\", (org_name,))\n",
    "        org = cur.fetchone()[0]\n",
    "    except TypeError:\n",
    "        org = None\n",
    "    try:\n",
    "        cur.execute(\"\"\"SELECT rowid FROM department WHERE Department_Name=?\"\"\", (dept_name,))\n",
    "        dept = cur.fetchone()[0]\n",
    "    except TypeError:\n",
    "        dept = None\n",
    "    if pi and org and dept:\n",
    "        cur.execute(\"\"\"INSERT INTO project VALUES(?,?,?,?,? )\"\"\",(project_title, pi, org, dept, total_cost))"
   ]
  },
  {
   "cell_type": "code",
   "execution_count": null,
   "metadata": {},
   "outputs": [],
   "source": [
    "row"
   ]
  },
  {
   "cell_type": "code",
   "execution_count": null,
   "metadata": {},
   "outputs": [],
   "source": [
    "cur.execute(\"\"\"SELECT * FROM project\"\"\")\n",
    "len(cur.fetchall())"
   ]
  },
  {
   "cell_type": "code",
   "execution_count": null,
   "metadata": {},
   "outputs": [],
   "source": [
    "cur.execute(\"\"\"SELECT * FROM project\"\"\")"
   ]
  },
  {
   "cell_type": "code",
   "execution_count": null,
   "metadata": {},
   "outputs": [],
   "source": [
    "for r in cur.fetchmany(5):\n",
    "    print(r)"
   ]
  },
  {
   "cell_type": "markdown",
   "metadata": {},
   "source": [
    "#### We need to do joins to get the names corresponding to our foreign key values"
   ]
  },
  {
   "cell_type": "code",
   "execution_count": null,
   "metadata": {},
   "outputs": [],
   "source": [
    "query=\\\n",
    "\"\"\"SELECT project.Project_Title as Project_Title, \n",
    "          project.Total_Cost as Total_Cost,\n",
    "          PI.Name as PI_Name,\n",
    "          organization.Organization_Name as Organization_Name,\n",
    "          department.Department_Name as Department_Name\n",
    "          \n",
    "   FROM project \n",
    "        INNER JOIN PI \n",
    "            ON \n",
    "                project.Principle_Investigator = PI.rowid\n",
    "        INNER JOIN organization \n",
    "            ON\n",
    "                project.Organization = organization.rowid\n",
    "        INNER JOIN department\n",
    "            ON\n",
    "               project.Department = department.rowid\"\"\"\n",
    "\n",
    "pd.read_sql(query, db)"
   ]
  },
  {
   "cell_type": "code",
   "execution_count": null,
   "metadata": {},
   "outputs": [],
   "source": [
    "YouTubeVideo(\"qYNEQC01A88\", width=800, height=600)"
   ]
  },
  {
   "cell_type": "markdown",
   "metadata": {},
   "source": [
    "## Is Our Solution First Normal Form?\n",
    "\n",
    "### No because we have multiple names in the PI field\n",
    "\n",
    "### Here is one solution for creating a first normal form of our data"
   ]
  },
  {
   "cell_type": "markdown",
   "metadata": {},
   "source": [
    "### Get Individual Names\n",
    "\n",
    "With multiple principal investigators, names are separated by semi-colons with one person specified as the contact. We can do some text processing to get a unique set of names."
   ]
  },
  {
   "cell_type": "code",
   "execution_count": null,
   "metadata": {},
   "outputs": [],
   "source": [
    "names = [n.strip() for n in \" \".join(PIs).replace(\" (contact)\",\"\").split(\";\") if n.strip()]\n",
    "print(len(names))\n",
    "names = set(names)\n",
    "print(len(names))\n",
    "print(list(names)[:10])"
   ]
  },
  {
   "cell_type": "markdown",
   "metadata": {},
   "source": [
    "### We need to drop our existing `project` table since we are redefining it"
   ]
  },
  {
   "cell_type": "code",
   "execution_count": null,
   "metadata": {},
   "outputs": [],
   "source": [
    "db.execute(\"DROP TABLE project;\")"
   ]
  },
  {
   "cell_type": "markdown",
   "metadata": {},
   "source": [
    "### Define a new `project` table"
   ]
  },
  {
   "cell_type": "code",
   "execution_count": null,
   "metadata": {},
   "outputs": [],
   "source": [
    "query = \\\n",
    "\"\"\"Create table if not exists project (Project_Title text, \n",
    "                                       Organization int, \n",
    "                                       Department int,\n",
    "                                       Total_Cost float,\n",
    "                                       FOREIGN KEY (Organization) REFERENCES organization(rowid),\n",
    "                                       FOREIGN KEY (Department) REFERENCES department(rowid))\"\"\"\n",
    "cur.execute(query)"
   ]
  },
  {
   "cell_type": "markdown",
   "metadata": {},
   "source": [
    "### Delete all the rows from `PI` since we will be repopulating it with our individual names"
   ]
  },
  {
   "cell_type": "code",
   "execution_count": null,
   "metadata": {},
   "outputs": [],
   "source": [
    "cur.execute(\"\"\"DELETE FROM PI\"\"\")"
   ]
  },
  {
   "cell_type": "markdown",
   "metadata": {},
   "source": [
    "### Insert our new names into `PI`"
   ]
  },
  {
   "cell_type": "code",
   "execution_count": null,
   "metadata": {},
   "outputs": [],
   "source": [
    "cur.executemany(\"\"\"INSERT INTO PI values(?)\"\"\", [(p,) for p in names])"
   ]
  },
  {
   "cell_type": "markdown",
   "metadata": {},
   "source": [
    "### Create a new table `investigators` which connects PIs with particular projects"
   ]
  },
  {
   "cell_type": "code",
   "execution_count": null,
   "metadata": {},
   "outputs": [],
   "source": [
    "query = \\\n",
    "\"\"\"Create table if not exists investigators (Project int, \n",
    "                                       Investigator int, \n",
    "                                       FOREIGN KEY (Project) REFERENCES project(rowid),\n",
    "                                       FOREIGN KEY (Investigator) REFERENCES PI(rowid))\"\"\"\n",
    "cur.execute(query)"
   ]
  },
  {
   "cell_type": "code",
   "execution_count": null,
   "metadata": {},
   "outputs": [],
   "source": [
    "cur.execute(\"\"\"DELETE FROM investigators\"\"\")"
   ]
  },
  {
   "cell_type": "markdown",
   "metadata": {},
   "source": [
    "### Populate Tables\n",
    "#### Iterate through DataFrame and populate tables\n",
    "* For each row we need to iterate through each PI"
   ]
  },
  {
   "cell_type": "code",
   "execution_count": null,
   "metadata": {},
   "outputs": [],
   "source": [
    "for _, row in nih_data[:100].fillna(\"\").iterrows():\n",
    "    project_title = row['PROJECT_TITLE']\n",
    "    total_cost = row['TOTAL_COST']\n",
    "    pi_names = row['PI_NAMEs']\n",
    "    org_name = row['ORG_NAME']\n",
    "    dept_name = row['ORG_DEPT']\n",
    "    \n",
    "\n",
    "    try:\n",
    "        cur.execute(\"\"\"SELECT rowid FROM organization WHERE Organization_Name=?\"\"\", (org_name,))\n",
    "        org = cur.fetchone()[0]\n",
    "    except TypeError:\n",
    "        org = None\n",
    "    try:\n",
    "        cur.execute(\"\"\"SELECT rowid FROM department WHERE Department_Name=?\"\"\", (dept_name,))\n",
    "        dept = cur.fetchone()[0]\n",
    "    except TypeError:\n",
    "        dept = None\n",
    "    if org and dept:\n",
    "        cur.execute(\"\"\"INSERT INTO project VALUES(?,?,?,? )\"\"\",(project_title, org, dept, total_cost))\n",
    "    \n",
    "    cur.execute(\"\"\"SELECT last_insert_rowid()\"\"\")\n",
    "    pid = cur.fetchone()[0]\n",
    "\n",
    "    pis = [n.strip() for n in pi_names.replace(\" (contact)\",\"\").split(\";\") if n.strip() and n != '\"']\n",
    "\n",
    "    for p in pis:\n",
    "        cur.execute(\"\"\"SELECT rowid FROM PI WHERE NAME=?\"\"\", (p,))\n",
    "        pi = cur.fetchone()[0]\n",
    "        cur.execute(\"\"\"INSERT INTO investigators VALUES (?, ?)\"\"\", (pid, pi))\n"
   ]
  },
  {
   "cell_type": "markdown",
   "metadata": {},
   "source": [
    "### Do a query to put our data back together"
   ]
  },
  {
   "cell_type": "code",
   "execution_count": null,
   "metadata": {},
   "outputs": [],
   "source": [
    "query=\\\n",
    "\"\"\"SELECT \n",
    "          project.Project_Title as Project_Title, \n",
    "          project.Total_Cost as Total_Cost,\n",
    "          organization.Organization_Name as Organization_Name,\n",
    "          department.Department_Name as Department,\n",
    "          PI.name as investigator\n",
    "          \n",
    "   FROM investigators \n",
    "\n",
    "        INNER JOIN project\n",
    "            ON\n",
    "                investigators.Project = project.rowid\n",
    "        INNER JOIN PI\n",
    "            ON\n",
    "                investigators.Investigator = PI.rowid\n",
    "        INNER JOIN organization \n",
    "            ON\n",
    "                project.Organization = organization.rowid\n",
    "        INNER JOIN department\n",
    "            ON\n",
    "                project.Department = department.rowid\n",
    "\"\"\"\n",
    "\n",
    "pd.read_sql(query, db)#.sort_values(by=\"Total_Cost\", ascending=False)"
   ]
  },
  {
   "cell_type": "code",
   "execution_count": null,
   "metadata": {},
   "outputs": [],
   "source": []
  }
 ],
 "metadata": {
  "kernelspec": {
   "display_name": "Python 3",
   "language": "python",
   "name": "python3"
  },
  "language_info": {
   "codemirror_mode": {
    "name": "ipython",
    "version": 3
   },
   "file_extension": ".py",
   "mimetype": "text/x-python",
   "name": "python",
   "nbconvert_exporter": "python",
   "pygments_lexer": "ipython3",
   "version": "3.5.2"
  }
 },
 "nbformat": 4,
 "nbformat_minor": 1
}

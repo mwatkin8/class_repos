{
 "cells": [
  {
   "cell_type": "code",
   "execution_count": null,
   "metadata": {},
   "outputs": [],
   "source": [
    "from IPython.display import YouTubeVideo\n",
    "\n",
    "YouTubeVideo(\"kZjSAa18eJo\")"
   ]
  },
  {
   "cell_type": "markdown",
   "metadata": {},
   "source": [
    "## Why SQLite?\n",
    "* Zero configuration\n",
    "    * no need to mess with complex administration (e.g. MySQL)\n",
    "* Portability\n",
    "    * Windows, Linux, OS X, Solaris, HPUX, AIX, Palm. 16, 32, 64 bit architecture\n",
    "* Compactness: \n",
    "    * small memory footprint\n",
    "* Simplicity: \n",
    "    * good separation between compiler and storage.\n",
    "* Liberal Licensing: \n",
    "    * Free. No copyright claim.\n",
    "* Reliable: \n",
    "    * one line of testing for every line of code\n",
    "* Convenient: \n",
    "    * lots of features to facilitate ease of use\n",
    "* Integrated directly into Python (since 2.5)\n",
    "\n",
    "## SQLite Limitations\n",
    "\n",
    "* Will be slower than more complex databases for complex queries on large database\n",
    "* No foreign key constraints\n",
    "* One write at a time (no concurrency)"
   ]
  },
  {
   "cell_type": "markdown",
   "metadata": {},
   "source": [
    "## Making a Connection\n",
    "* The first step in interacting with a database is to connect to it via the connect command. \n",
    "* This creates a Connection object that represents the database."
   ]
  },
  {
   "cell_type": "code",
   "execution_count": null,
   "metadata": {},
   "outputs": [],
   "source": [
    "import sqlite3 as sqlite\n",
    "import os\n",
    "DATADIR = os.path.join(os.path.expanduser(\"~\"),\"6521\",\"mdcrc6521spring2016\",\"DATA\")\n",
    "print(os.path.exists(DATADIR))\n",
    "conn = sqlite.connect(os.path.join(DATADIR,\"seinfeldFood.sqlite\"))"
   ]
  },
  {
   "cell_type": "code",
   "execution_count": null,
   "metadata": {},
   "outputs": [],
   "source": [
    "help(conn.cursor)"
   ]
  },
  {
   "cell_type": "markdown",
   "metadata": {},
   "source": [
    "### Connection Highlights\n",
    "* **cursor():** Creates a cursor for executing a command\n",
    "* **execute(), executescript(), executemany():** shortcuts to do the work of a cursor() without actually creating a cursor\n",
    "* Use the name \":memory:\" to create a database in RAM"
   ]
  },
  {
   "cell_type": "code",
   "execution_count": null,
   "metadata": {},
   "outputs": [],
   "source": [
    "conn2 = sqlite.connect(\":memory:\")"
   ]
  },
  {
   "cell_type": "markdown",
   "metadata": {},
   "source": [
    "### Cursors\n",
    "* Cursors are used to execute SQL queries and to examine the results."
   ]
  },
  {
   "cell_type": "code",
   "execution_count": null,
   "metadata": {},
   "outputs": [],
   "source": [
    "curs = conn.cursor()\n",
    "curs."
   ]
  },
  {
   "cell_type": "code",
   "execution_count": null,
   "metadata": {},
   "outputs": [],
   "source": [
    "help(curs.execute)"
   ]
  },
  {
   "cell_type": "code",
   "execution_count": null,
   "metadata": {},
   "outputs": [],
   "source": [
    "help(curs.executemany)"
   ]
  },
  {
   "cell_type": "code",
   "execution_count": null,
   "metadata": {},
   "outputs": [],
   "source": [
    "help(curs.executescript)"
   ]
  },
  {
   "cell_type": "code",
   "execution_count": null,
   "metadata": {},
   "outputs": [],
   "source": [
    "help(curs.fetchall)"
   ]
  },
  {
   "cell_type": "code",
   "execution_count": null,
   "metadata": {},
   "outputs": [],
   "source": [
    "help(curs.setoutputsize)"
   ]
  },
  {
   "cell_type": "code",
   "execution_count": null,
   "metadata": {},
   "outputs": [],
   "source": [
    "help(curs.fetchmany)"
   ]
  },
  {
   "cell_type": "code",
   "execution_count": null,
   "metadata": {},
   "outputs": [],
   "source": [
    "help(curs.close)"
   ]
  },
  {
   "cell_type": "code",
   "execution_count": null,
   "metadata": {},
   "outputs": [],
   "source": [
    "help(curs.fetchone)"
   ]
  },
  {
   "cell_type": "markdown",
   "metadata": {},
   "source": [
    "## Some Basic SQL Commands in SQLite\n",
    "* [CREATE TABLE](https://www.sqlite.org/lang_createtable.html)\n",
    "* Basic syntax: \"``CREATE TABLE <TABLE_NAME> (COLUMN NAME COLUMN TYPE)``"
   ]
  },
  {
   "cell_type": "code",
   "execution_count": null,
   "metadata": {},
   "outputs": [],
   "source": [
    "conn = sqlite.connect(\":memory:\")\n",
    "cursor = conn.cursor()\n",
    "cursor.execute(\"\"\"CREATE TABLE run_args (run_date text,\n",
    "                                         label text,\n",
    "                                         args text)\"\"\")"
   ]
  },
  {
   "cell_type": "markdown",
   "metadata": {},
   "source": [
    "* If I try to create a table that already exists, I'll get an error"
   ]
  },
  {
   "cell_type": "code",
   "execution_count": null,
   "metadata": {},
   "outputs": [],
   "source": [
    "cursor.execute(\"\"\"CREATE TABLE run_args (run_date text,\n",
    "                                         label text,\n",
    "                                         args text)\"\"\")"
   ]
  },
  {
   "cell_type": "markdown",
   "metadata": {},
   "source": [
    "## SQL let us insert a conditional for the creation"
   ]
  },
  {
   "cell_type": "code",
   "execution_count": null,
   "metadata": {},
   "outputs": [],
   "source": [
    "cursor.execute(\"\"\"CREATE TABLE IF NOT EXISTS run_args (run_date text,\n",
    "                                                       label text,\n",
    "                                                       args text)\"\"\")"
   ]
  },
  {
   "cell_type": "markdown",
   "metadata": {},
   "source": [
    "* I could also use an exception"
   ]
  },
  {
   "cell_type": "markdown",
   "metadata": {},
   "source": [
    "### Foreign Keys\n",
    "\n",
    "* [Relational database design](http://geekgirls.com/2011/09/databases-from-scratch-iii-relational-design-process/) relies on splitting data between different tables\n",
    "* We have to be able to reference entries in one table to entries in another. We do this with **foreign keys**\n",
    "\n",
    "#### Syntax\n",
    "* ``FOREIGN KEY (COLUMN NAME) REFERENCES SOME_TABLE(SOME_COLUMN)``\n",
    "* EXAMPLE: \n",
    "    * ``FOREIGN KEY (result) REFERENCES pyConTextNLP_results(rowid))``\n"
   ]
  },
  {
   "cell_type": "code",
   "execution_count": null,
   "metadata": {},
   "outputs": [],
   "source": [
    "cursor.execute(\"\"\"create table if not exists run_args (run_date text,\n",
    "                                                            label text,\n",
    "                                                            args text)\"\"\")\n",
    "cursor.execute(\"\"\"CREATE TABLE IF NOT EXISTS class_schema (schema text)\"\"\")\n",
    "\n",
    "cursor.execute(\n",
    "        \"\"\"CREATE TABLE IF NOT EXISTS pyConTextNLP_results\n",
    "            (report_number int, \n",
    "            run_args int, \n",
    "            schema int,\n",
    "            target_category text,\n",
    "            classification int, \n",
    "            most_positive_target text,\n",
    "            FOREIGN KEY (run_args) REFERENCES run_args(rowid),\n",
    "            FOREIGN KEY (schema) REFERENCES class_schema(rowid))\"\"\")\n",
    "\n",
    "cursor.execute(\n",
    "        \"\"\"CREATE TABLE IF NOT EXISTS pyConTextNLP_severity\n",
    "            (result int,\n",
    "            phrase text,\n",
    "            svalue text,\n",
    "            units text,\n",
    "            FOREIGN KEY (result) REFERENCES pyConTextNLP_results(rowid))\"\"\")"
   ]
  },
  {
   "cell_type": "markdown",
   "metadata": {},
   "source": []
  },
  {
   "cell_type": "markdown",
   "metadata": {},
   "source": [
    "* **INSERT**"
   ]
  },
  {
   "cell_type": "code",
   "execution_count": null,
   "metadata": {},
   "outputs": [],
   "source": [
    "cursor.execute(\"\"\"INSERT INTO run_args(run_date,label,args) VALUES (?,?,?)\"\"\",\n",
    "                                    (run_time, result_label, outString,))"
   ]
  },
  {
   "cell_type": "markdown",
   "metadata": {},
   "source": [
    "* **SELECT**"
   ]
  },
  {
   "cell_type": "code",
   "execution_count": null,
   "metadata": {},
   "outputs": [],
   "source": [
    "cursor.execute(\"\"\"SELECT * from run_args\"\"\")\n",
    "cursor.execute(\"\"\"SELECT rowid,label FROM run_args\"\"\")\n",
    "cursor.execute(\"\"\"SELECT rowid FROM run_args WHERE run_date = ?\"\"\",(run_time,))"
   ]
  },
  {
   "cell_type": "markdown",
   "metadata": {},
   "source": [
    "### Some Important Notes\n",
    "* Any changes done  have to be committed with the connection object **commit()** method\n",
    "* Never use Python string formatting to directly generate an SQL script (security risk)"
   ]
  },
  {
   "cell_type": "code",
   "execution_count": null,
   "metadata": {},
   "outputs": [],
   "source": [
    "query = \"\"\"INSERT INTO class_participants (name,role) VALUES (%s,%s)\"\"\"%(\"Brian\",\"Teacher\")\n",
    "curs2.execute('select * from stocks where symbol=?', (symbol,))"
   ]
  },
  {
   "cell_type": "markdown",
   "metadata": {},
   "source": [
    "* After an execute, the cursor object can be used as an iterator to access the results. \n",
    "* Alternatively results can be accessed via \n",
    "    * **fetchone()**: fetch next result\n",
    "    * **fetchall()**: fetch all results\n",
    "    * **fetchmany()**: fetch next N results\n",
    "\n"
   ]
  },
  {
   "cell_type": "code",
   "execution_count": null,
   "metadata": {},
   "outputs": [],
   "source": [
    "conn = sqlite.connect(\":memory:\")\n",
    "cursor = conn.cursor()\n",
    "cursor.execute(\"\"\"CREATE TABLE IF NOT EXISTS class_participants\n",
    "                (name text, role text)\"\"\")\n",
    "cursor.execute(\"\"\"INSERT INTO class_participants (name,role) VALUES (?,?)\"\"\",\n",
    "               (\"Brian\",\"teacher\"))\n",
    "\n",
    "roster = [(\"Steven\",\"TA\"),(\"Bob\",\"TA\"),\n",
    "          (\"Kathy\",\"Observer\"),(\"Arun\",\"Student\"),\n",
    "          (\"Jody\",\"Student\")]\n",
    "cursor.executemany(\"\"\"INSERT INTO class_participants (name,role) VALUES (?,?)\"\"\",roster)"
   ]
  },
  {
   "cell_type": "code",
   "execution_count": null,
   "metadata": {},
   "outputs": [],
   "source": [
    "cursor.execute(\"\"\"INSERT INTO class_participants (name) VALUES (?)\"\"\",(\"Homer\",))"
   ]
  },
  {
   "cell_type": "code",
   "execution_count": null,
   "metadata": {},
   "outputs": [],
   "source": [
    "cursor.execute(\"\"\"SELECT * FROM class_participants\"\"\")\n",
    "\n",
    "for r in cursor.fetchall():\n",
    "    print( r)"
   ]
  },
  {
   "cell_type": "markdown",
   "metadata": {},
   "source": [
    "## Python to SQLite3 Data type Conversion\n",
    "\n",
    "|Python type|SQLite type|\n",
    "|----------:|:----------|\n",
    "|None | NULL|\n",
    "|int | INTEGER|\n",
    "|long | INTEGER|\n",
    "|float | REAL|\n",
    "|str (UTF8-encoded) | TEXT|\n",
    "|unicode | TEXT|\n",
    "|buffer | BLOB|"
   ]
  },
  {
   "cell_type": "markdown",
   "metadata": {},
   "source": [
    "# For Future Reference\n",
    "\n",
    "We have not discussed classes yet, so this material will not be used.\n",
    "\n",
    "## Saving User defined Types\n",
    "* Strategy: \n",
    "    * Define method to adapt the object to a database type (e.g. string); \n",
    "    * Save the string to the database\n",
    "    * Read the string from the database\n",
    "    * Define a function to create an objects from the string\n",
    "    \n",
    "### [Converting Objects to String](https://docs.python.org/3.5/library/sqlite3.html#letting-your-object-adapt-itself)\n",
    "* Using ``__conform__`` to have object adapt itself\n"
   ]
  },
  {
   "cell_type": "code",
   "execution_count": null,
   "metadata": {},
   "outputs": [],
   "source": [
    "\n",
    "import sqlite3 as sqlite\n",
    "\n",
    "class Point(object):\n",
    "    def __init__(self, x, y):\n",
    "        self.x, self.y = x, y\n",
    "    def __str__(self):\n",
    "        return \"(%f;%f)\" % (self.x, self.y) \n",
    "    def __repr__(self):\n",
    "        return \"(%f;%f)\" % (self.x, self.y)\n",
    "    def __conform__(self, protocol):\n",
    "        if protocol is sqlite.PrepareProtocol:\n",
    "            return \"%f;%f\" % (self.x, self.y)\n",
    "\n",
    "con = sqlite.connect(\":memory:\")\n",
    "cur = con.cursor()\n",
    "\n",
    "p = Point(4.0, -3.2)\n",
    "cur.execute(\"select ?\", (p,))\n",
    "print (cur.fetchone()[0])"
   ]
  },
  {
   "cell_type": "markdown",
   "metadata": {},
   "source": [
    "## Registering an adapter callable"
   ]
  },
  {
   "cell_type": "code",
   "execution_count": null,
   "metadata": {},
   "outputs": [],
   "source": [
    "import sqlite3 as sqlite\n",
    "\n",
    "def adapt_point(point):\n",
    "    return \"%f,%f\" % (point.x, point.y)\n",
    "\n",
    "sqlite.register_adapter(Point, adapt_point)\n",
    "\n",
    "con = sqlite.connect(\":memory:\")\n",
    "cur = con.cursor()\n",
    "\n",
    "p = Point(4.0, -3.2)\n",
    "cur.execute(\"select ?\", (p,))\n",
    "s=  cur.fetchone()[0]\n",
    "print( s)"
   ]
  },
  {
   "cell_type": "code",
   "execution_count": null,
   "metadata": {},
   "outputs": [],
   "source": []
  }
 ],
 "metadata": {
  "kernelspec": {
   "display_name": "Python 3",
   "language": "python",
   "name": "python3"
  },
  "language_info": {
   "codemirror_mode": {
    "name": "ipython",
    "version": 3
   },
   "file_extension": ".py",
   "mimetype": "text/x-python",
   "name": "python",
   "nbconvert_exporter": "python",
   "pygments_lexer": "ipython3",
   "version": "3.5.2"
  }
 },
 "nbformat": 4,
 "nbformat_minor": 1
}

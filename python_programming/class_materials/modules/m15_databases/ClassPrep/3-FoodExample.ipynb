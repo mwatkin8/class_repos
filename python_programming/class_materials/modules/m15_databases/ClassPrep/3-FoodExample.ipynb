{
 "cells": [
  {
   "cell_type": "code",
   "execution_count": null,
   "metadata": {},
   "outputs": [],
   "source": [
    "from IPython.display import YouTubeVideo\n",
    "\n",
    "YouTubeVideo(\"UFJVguQSbKk\")"
   ]
  },
  {
   "cell_type": "markdown",
   "metadata": {},
   "source": [
    "## Example: Seinfeld Food Database\n"
   ]
  },
  {
   "cell_type": "code",
   "execution_count": null,
   "metadata": {},
   "outputs": [],
   "source": [
    "import sqlite3 as sqlite\n",
    "from IPython.display import clear_output\n",
    "import os\n",
    "DATADIR = os.path.join(os.path.expanduser(\"~\"),\"DATA\", \"DBs\")\n",
    "print(os.path.exists(DATADIR))"
   ]
  },
  {
   "cell_type": "code",
   "execution_count": null,
   "metadata": {},
   "outputs": [],
   "source": [
    "connFood = sqlite.connect(os.path.join(DATADIR,\"seinfeldFood.sqlite\"))\n",
    "curFood = connFood.cursor()\n",
    "curFood.execute(\"\"\"SELECT\n",
    "                * from food_types\"\"\") \n",
    "               \n",
    "results = curFood.fetchall()\n",
    "for r in results:\n",
    "    print (r)"
   ]
  },
  {
   "cell_type": "code",
   "execution_count": null,
   "metadata": {},
   "outputs": [],
   "source": [
    "#connFood = sqlite.connect(os.path.join(DATADIR,\"seinfeldFood.sqlite\"))\n",
    "#curFood = connFood.cursor()\n",
    "curFood.execute(\"\"\"SELECT\n",
    "                foods.name AS name,\n",
    "                episodes.name AS episode\n",
    "               FROM \n",
    "               foods_episodes \n",
    "               INNER JOIN foods ON foods.id = foods_episodes.food_id \n",
    "               JOIN episodes on episodes.id = foods_episodes.episode_id\"\"\")\n",
    "\n",
    "results = curFood.fetchmany(10)\n",
    "for r in results:\n",
    "    print ('%s in episode \"%s\"'%(r[0],r[1]))\n"
   ]
  },
  {
   "cell_type": "markdown",
   "metadata": {},
   "source": [
    "* I can explicitly limit the number of matches in the SELECT statement"
   ]
  },
  {
   "cell_type": "code",
   "execution_count": null,
   "metadata": {},
   "outputs": [],
   "source": [
    "connFood = sqlite.connect(os.path.join(DATADIR,\"seinfeldFood.sqlite\"))\n",
    "curFood = connFood.cursor()\n",
    "curFood.execute(\"\"\"SELECT\n",
    "                foods.name AS name,\n",
    "                episodes.name AS episode\n",
    "               FROM \n",
    "               foods_episodes \n",
    "               INNER JOIN foods ON foods.id = foods_episodes.food_id \n",
    "               JOIN episodes on episodes.id = foods_episodes.episode_id\n",
    "               LIMIT 10\"\"\")\n",
    "\n",
    "results = curFood.fetchall()\n",
    "for r in results:\n",
    "    print ('%s in episode \"%s\"'%(r[0],r[1]))\n"
   ]
  },
  {
   "cell_type": "markdown",
   "metadata": {},
   "source": [
    "### Using Joins to join queries across tables"
   ]
  },
  {
   "cell_type": "code",
   "execution_count": null,
   "metadata": {},
   "outputs": [],
   "source": [
    "connFood = sqlite.connect(os.path.join(DATADIR,\"seinfeldFood.sqlite\"))\n",
    "curFood = connFood.cursor()\n",
    "curFood.execute(\"\"\"SELECT\n",
    "                foods.name AS name,\n",
    "                episodes.name AS episode\n",
    "               FROM \n",
    "               foods_episodes \n",
    "               INNER JOIN foods ON foods.id = foods_episodes.food_id \n",
    "               JOIN episodes on episodes.id = foods_episodes.episode_id\n",
    "               ORDER BY episode\"\"\")\n",
    "\n",
    "while True:\n",
    "    clear_output()\n",
    "    results = curFood.fetchone()\n",
    "    print (\"%s in episode '%s'\"%(results[0],results[1]))\n",
    "    cont = input('type any key to exit; enter to continue')\n",
    "    if cont:\n",
    "        break\n"
   ]
  },
  {
   "cell_type": "code",
   "execution_count": null,
   "metadata": {},
   "outputs": [],
   "source": []
  }
 ],
 "metadata": {
  "kernelspec": {
   "display_name": "Python 3",
   "language": "python",
   "name": "python3"
  },
  "language_info": {
   "codemirror_mode": {
    "name": "ipython",
    "version": 3
   },
   "file_extension": ".py",
   "mimetype": "text/x-python",
   "name": "python",
   "nbconvert_exporter": "python",
   "pygments_lexer": "ipython3",
   "version": "3.5.2"
  }
 },
 "nbformat": 4,
 "nbformat_minor": 1
}

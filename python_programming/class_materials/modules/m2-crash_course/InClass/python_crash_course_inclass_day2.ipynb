{
 "cells": [
  {
   "cell_type": "markdown",
   "metadata": {},
   "source": [
    "<html>\n",
    "\n",
    "<img\n",
    "src=\"../../../media/U_Health_stacked_png_red.png\" alt=\"Utah Health\n",
    "Logo\" width=\"128\" height=\"134\">\n",
    "</html>\n",
    "# Python Crash course \n",
    "\n",
    "In this notebook we will quickly go over Python at a high level. We will then go on to explore topics in more detail.\n",
    "\n",
    "The Greek philosopher Pythagoras reportedly said, \"All is number!\". Deep down in the computer, Pythagoras is correct but in this course we are primarily going to think of data as consisting of **strings** and **numbers**. Adopting a physical metaphor, we can say that numbers and strings are our atoms of data. We can then combine numbers and strings to create molecules of data.\n",
    "\n",
    "Computer programs read, manipulate, and output data using **functions** which are either native to the programming language or created by a programmer.\n",
    "\n",
    "### \"*everything in Python is an object*\" ([*Dive Into Python*](http://www.diveintopython.net/getting_to_know_python/everything_is_an_object.html))\n",
    "\n",
    "Everything in a Python program---data and functions---are **objects**. Python programs are built from **objects**. \n",
    "\n",
    "An object has\n",
    "\n",
    "1. Attributes: Attributes are characteristics of the object (e.g. height, weight, color (Think adjectives))\n",
    "1. Methods: Methods are functions that operate on the characteristics (data) of the object (Think verbs)\n",
    "\n",
    "The most important components of the programs we will be writing are **data objects** and **function objects.** Using a biology analogy, data objects are like the blood circulating through our bodies and function objects are like our organs that take blood in and return modified blood and some biological behavior.\n",
    "\n",
    "## Data Objects\n",
    "\n",
    "### Number Objects\n",
    "\n",
    "## What is a Function?\n",
    "\n",
    "* \"any of a group of related actions contributing to a larger action; especially : the normal and specific contribution of a bodily part to the economy of a living organism\" \n",
    "* \"a computer subroutine; specifically : one that performs a calculation with variables provided by a program and supplies the program with a single result\"([Merriam-Webster Dictionary](http://www2.merriam-webster.com/cgi-bin/mwdictadu?book=Dictionary&va=functionless))\n",
    "\n",
    "\n",
    "Eventually we will learn how to define our own functions, but for now we will spend some time getting familiar with using the functions that are already defined in Python.\n",
    "\n",
    "To get a handle on what a function is in Python, let's look at some example functions from \"high school\" mathematics\n",
    "\n",
    "\\begin{equation*}\n",
    "y = f(x)\n",
    "\\end{equation*}\n",
    "we would read this as \"$y$ is equal to a function $f$ which has an argument $x$.\" $f$ is a symbol for \"some function\", the argument $x$ might be called the *independent variable*, and $y$ might be called the the *dependent variable*. Familiar, \"school mathematics\" examples of functions might include the following:\n",
    "\\begin{eqnarray}\n",
    "y = \\sqrt{x},\\\\\n",
    "y = mx+b.\n",
    "\\end{eqnarray}\n",
    "\n",
    "In each of these examples, we take a value $x$ and returns a new value that we are assigning to the variable $y$. \n",
    "\n",
    "1. Take $x$ as input and return the square root of $x$ as output. \n",
    "1. Take $x$ as input and return $x$ multiplied by $m$ plus $b$. We can generalize this pattern with the following \"definition\":\n",
    "\n",
    "#### A \"definition\" of functions: A function is something that takes some kind of input and provides some sort of output\n",
    "\n",
    "## An Aside: A Comment on Comments\n",
    "\n",
    "In violation of our previous statement, something in Python that is not an object is a comment. A comment isn't actually part of Python---a comment is something that doesn't exist in the running program---but it is part of a the written Python script or program.\n",
    "\n",
    "A comment in a Python script is the pound symbol (``#``) and everything that follows it on a line. Once Python encounters a ``#``, it ignores everything that follows. Comments are important for us on the human end of the program. They help us understand what the programmer (perhaps us) was thinking or trying to do when the code was written.\n",
    "\n",
    "As a brief illustration of a comment, execute the cell below with and without the leading ``#``."
   ]
  },
  {
   "cell_type": "code",
   "execution_count": 1,
   "metadata": {
    "collapsed": true
   },
   "outputs": [],
   "source": [
    "#print(\"This line was previously commented out\")"
   ]
  },
  {
   "cell_type": "code",
   "execution_count": 2,
   "metadata": {
    "collapsed": true
   },
   "outputs": [],
   "source": [
    "from quizzes.quizzes import *"
   ]
  },
  {
   "cell_type": "markdown",
   "metadata": {},
   "source": [
    "### Exercise\n",
    "\n",
    "Pair up with a neighbor. Each of you pick one of the objects listed below. Thinking of the object as a function, describe to your neighbor what the input to the function is and what the output from the function is. \n",
    "\n",
    "1. Lungs\n",
    "1. Radio"
   ]
  },
  {
   "cell_type": "markdown",
   "metadata": {},
   "source": [
    "## Functions in Python\n",
    "\n",
    "In Python a function takes zero or more **arguments** (objects) and returns some object.\n",
    "\n",
    "### Example Functions [``print``](https://docs.python.org/3/library/functions.html#print) and [``input``](https://docs.python.org/3/library/functions.html#input)\n",
    "\n",
    "The first Python function we'll look at is ``print``. ``print`` takes as input a string and returns as output that string \"printed\" to the screen. If we don't provide a string, ``print`` prints an empty string (which is nothing) to the screen."
   ]
  },
  {
   "cell_type": "code",
   "execution_count": 3,
   "metadata": {},
   "outputs": [
    {
     "name": "stdout",
     "output_type": "stream",
     "text": [
      "Hello, world\n",
      "\n",
      "9\n"
     ]
    }
   ],
   "source": [
    "print(\"Hello, world\")\n",
    "print()\n",
    "print(5+4)"
   ]
  },
  {
   "cell_type": "markdown",
   "metadata": {},
   "source": [
    "If we want to learn how to use a function we can look at the [Python documentation](https://docs.python.org/3/) (always a good idea), or we can use another function, the [``help``](https://docs.python.org/3/library/functions.html#help) function, which takes as input a function (or some other Python object) and returns as output a string describing how to use that function, etc.."
   ]
  },
  {
   "cell_type": "code",
   "execution_count": 4,
   "metadata": {},
   "outputs": [
    {
     "name": "stdout",
     "output_type": "stream",
     "text": [
      "Help on built-in function print in module builtins:\n",
      "\n",
      "print(...)\n",
      "    print(value, ..., sep=' ', end='\\n', file=sys.stdout, flush=False)\n",
      "    \n",
      "    Prints the values to a stream, or to sys.stdout by default.\n",
      "    Optional keyword arguments:\n",
      "    file:  a file-like object (stream); defaults to the current sys.stdout.\n",
      "    sep:   string inserted between values, default a space.\n",
      "    end:   string appended after the last value, default a newline.\n",
      "    flush: whether to forcibly flush the stream.\n",
      "\n"
     ]
    }
   ],
   "source": [
    "help(print)"
   ]
  },
  {
   "cell_type": "markdown",
   "metadata": {},
   "source": [
    "Python provides two ways of passing arguments to a function\n",
    "\n",
    "1. **Positional** arguments\n",
    "1. **keyword** arguments\n",
    "\n",
    "Positional arguments come first, followed by keyword arguments. Here in the help for ``print`` we have a positional argument ``value``. Actually we can have a variable number of values (``value, ...,``)."
   ]
  },
  {
   "cell_type": "code",
   "execution_count": 5,
   "metadata": {},
   "outputs": [
    {
     "name": "stdout",
     "output_type": "stream",
     "text": [
      "thing 1\n",
      "thing 1 thing 2\n",
      "thing 1 thing 2 thing 3\n"
     ]
    }
   ],
   "source": [
    "print(\"thing 1\")\n",
    "print(\"thing 1\", \"thing 2\")\n",
    "print(\"thing 1\", \"thing 2\", \"thing 3\")"
   ]
  },
  {
   "cell_type": "markdown",
   "metadata": {},
   "source": [
    "After the positional arguments, come keyword arguments. When a function is defined keyword arguments are defined with default values. Thus if I don't explicitly provide a keyword argument, Python uses the default value. For example, the keyword argument ``sep`` has a default value of a single space, as we see above. We can provide different values:"
   ]
  },
  {
   "cell_type": "code",
   "execution_count": 6,
   "metadata": {},
   "outputs": [
    {
     "name": "stdout",
     "output_type": "stream",
     "text": [
      "thing 1|thing 2\n"
     ]
    }
   ],
   "source": [
    "print(\"thing 1\", \"thing 2\", sep=\"|\")"
   ]
  },
  {
   "cell_type": "code",
   "execution_count": 9,
   "metadata": {},
   "outputs": [
    {
     "name": "stdout",
     "output_type": "stream",
     "text": [
      "thing 1^thing 2^thing 3^thing 4^thing 5\n"
     ]
    }
   ],
   "source": [
    "print(\"thing 1\", \"thing 2\", \"thing 3\", \"thing 4\", \"thing 5\", sep=\"^\")"
   ]
  },
  {
   "cell_type": "markdown",
   "metadata": {},
   "source": [
    "Similarly the keyword argument ``end`` has a default value of a new line character (``\\n``), as we see above. Again we can explicitly provide a value for ``end``."
   ]
  },
  {
   "cell_type": "code",
   "execution_count": 10,
   "metadata": {},
   "outputs": [
    {
     "name": "stdout",
     "output_type": "stream",
     "text": [
      "thing 1^thing 2^thing 3\n",
      "************\n"
     ]
    }
   ],
   "source": [
    "print(\"thing 1\", \"thing 2\", \"thing 3\", sep=\"^\", end=\"\\n************\\n\")"
   ]
  },
  {
   "cell_type": "code",
   "execution_count": 13,
   "metadata": {},
   "outputs": [
    {
     "name": "stdout",
     "output_type": "stream",
     "text": [
      "thing 1|thing 2|thing 3\n"
     ]
    }
   ],
   "source": [
    "print(\"thing 1\", \"thing 2\", \"thing 3\", sep=\"|\")"
   ]
  },
  {
   "cell_type": "markdown",
   "metadata": {},
   "source": [
    "### Exercise\n",
    "\n",
    "1. Using \"Data\" and \"Meaning\" as **positional arguments** to ``print``, what is the **keyword argument** you would need to create the following string:\n",
    "\n",
    "\"Data+Meaning=Information\"\n"
   ]
  },
  {
   "cell_type": "code",
   "execution_count": 14,
   "metadata": {},
   "outputs": [
    {
     "name": "stdout",
     "output_type": "stream",
     "text": [
      "Data+Meaning=information"
     ]
    }
   ],
   "source": [
    "print(\"Data\", \"Meaning\",sep=\"+\", end=\"=information\")"
   ]
  },
  {
   "cell_type": "markdown",
   "metadata": {},
   "source": [
    "### Input with ``input()``\n",
    "\n",
    "The complement of ``print()`` is ``input()``"
   ]
  },
  {
   "cell_type": "code",
   "execution_count": 15,
   "metadata": {},
   "outputs": [
    {
     "name": "stdout",
     "output_type": "stream",
     "text": [
      "Help on method raw_input in module ipykernel.kernelbase:\n",
      "\n",
      "raw_input(prompt='') method of ipykernel.ipkernel.IPythonKernel instance\n",
      "    Forward raw_input to frontends\n",
      "    \n",
      "    Raises\n",
      "    ------\n",
      "    StdinNotImplentedError if active frontend doesn't support stdin.\n",
      "\n"
     ]
    }
   ],
   "source": [
    "help(input)"
   ]
  },
  {
   "cell_type": "markdown",
   "metadata": {},
   "source": [
    "**NOTE:** We see here an error in the Python documentation. The function ``raw_input`` in Python 2.x was changed to the name ``input`` in Python 3.x. \n",
    "\n",
    "The documentation tells us that the function ``input`` takes as input a string (defaulting to an empty string). What will be returned, although the help is not telling us this, is a string containing what the user typed in. There are several ways we can do this:"
   ]
  },
  {
   "cell_type": "code",
   "execution_count": 16,
   "metadata": {},
   "outputs": [
    {
     "name": "stdout",
     "output_type": "stream",
     "text": [
      "hello\n",
      "hello\n"
     ]
    }
   ],
   "source": [
    "print(input())"
   ]
  },
  {
   "cell_type": "code",
   "execution_count": 18,
   "metadata": {},
   "outputs": [
    {
     "name": "stdout",
     "output_type": "stream",
     "text": [
      "Please type something inHello, again\n",
      "Hello, again\n"
     ]
    }
   ],
   "source": [
    "print(input(prompt=\"Please type something in\"))"
   ]
  },
  {
   "cell_type": "code",
   "execution_count": 19,
   "metadata": {},
   "outputs": [
    {
     "name": "stdout",
     "output_type": "stream",
     "text": [
      "Please type something else inGoodbye\n",
      "Goodbye\n"
     ]
    }
   ],
   "source": [
    "print(input(\"Please type something else in\"))"
   ]
  },
  {
   "cell_type": "markdown",
   "metadata": {},
   "source": [
    "#### Notice in the last example, we didn't type ``prompt=``. Python figured out from context that the string we typed corresponded to the keyword argument ``prompt``."
   ]
  },
  {
   "cell_type": "markdown",
   "metadata": {},
   "source": [
    "## Data in Python programs\n",
    "\n",
    "Python has multiple data types, but the most important kinds that we will be dealing with are \n",
    "\n",
    "1. Numeric\n",
    "    * Integers (type ``int``). Integers are created by typing an integer (e.g. 1, 532, -4). (There is also an ``int`` function for converting (or trying to) an object to an integer.)\n",
    "    * Floating point numbers (type ``float``). Floating point numbers correspond to the real ($\\mathbb{R}$) numbers and can be created by typing a decimal number (e.g. 4., 3.5, 5.4e3), by doing division (e.g. 3/4), or from the ``float`` function.\n",
    "    * Complex numbers (important for scientific computing, less so for data science.\n",
    "    \n",
    "1. Strings (for representing text) (type ``str``). Strings are a sequence of characters and are defined by typing the characters between single quotes (e.g. 'abc'), double quotes (\"def\"), or either triple single or triple double quotes:\n",
    "    1. '''ghi'''\n",
    "    1. \"\"\"klm\"\"\"\n",
    "\n",
    "Data will be either a ``literal`` or a variable. Consider the following Python statements\n",
    "\n",
    "```Python\n",
    "5+4\n",
    "a=5\n",
    "a+4```\n",
    "\n",
    "``5`` and ``4`` are numeric **literals** while ``a`` is a **variable**. I can change the value of a variable, but I cannot change the value of a literal."
   ]
  },
  {
   "cell_type": "code",
   "execution_count": null,
   "metadata": {
    "collapsed": true
   },
   "outputs": [],
   "source": [
    "\"Brian's dog is named Argos\""
   ]
  },
  {
   "cell_type": "code",
   "execution_count": null,
   "metadata": {
    "collapsed": true
   },
   "outputs": [],
   "source": [
    "\"\"\"Brian's Doctor said, \n",
    "\n",
    "\"You need to eat better!\".\"\"\""
   ]
  },
  {
   "cell_type": "code",
   "execution_count": 20,
   "metadata": {},
   "outputs": [
    {
     "name": "stdout",
     "output_type": "stream",
     "text": [
      "4\n"
     ]
    }
   ],
   "source": [
    "a=4\n",
    "print(a)"
   ]
  },
  {
   "cell_type": "code",
   "execution_count": 21,
   "metadata": {},
   "outputs": [
    {
     "ename": "SyntaxError",
     "evalue": "can't assign to literal (<ipython-input-21-bc59d28aa10c>, line 1)",
     "output_type": "error",
     "traceback": [
      "\u001b[0;36m  File \u001b[0;32m\"<ipython-input-21-bc59d28aa10c>\"\u001b[0;36m, line \u001b[0;32m1\u001b[0m\n\u001b[0;31m    5=\"five\"\u001b[0m\n\u001b[0m            ^\u001b[0m\n\u001b[0;31mSyntaxError\u001b[0m\u001b[0;31m:\u001b[0m can't assign to literal\n"
     ]
    }
   ],
   "source": [
    "5=\"five\""
   ]
  },
  {
   "cell_type": "markdown",
   "metadata": {},
   "source": [
    "### When we do something illegal (in Python's universe), Python will raise an error to tell us what we did wrong"
   ]
  },
  {
   "cell_type": "markdown",
   "metadata": {},
   "source": [
    "### Just like we can have numeric literals and variables, we can create text literals and variables."
   ]
  },
  {
   "cell_type": "code",
   "execution_count": 22,
   "metadata": {},
   "outputs": [
    {
     "data": {
      "text/plain": [
       "'This is a string literal'"
      ]
     },
     "execution_count": 22,
     "metadata": {},
     "output_type": "execute_result"
    }
   ],
   "source": [
    "\"This is a string literal\""
   ]
  },
  {
   "cell_type": "code",
   "execution_count": 23,
   "metadata": {},
   "outputs": [
    {
     "data": {
      "text/plain": [
       "'b is now a string variable'"
      ]
     },
     "execution_count": 23,
     "metadata": {},
     "output_type": "execute_result"
    }
   ],
   "source": [
    "b = \"b is now a string variable\"\n",
    "b"
   ]
  },
  {
   "cell_type": "markdown",
   "metadata": {},
   "source": [
    "Python has a function ``type`` that will tell you what **type** a variable or literal is."
   ]
  },
  {
   "cell_type": "code",
   "execution_count": 24,
   "metadata": {},
   "outputs": [
    {
     "data": {
      "text/plain": [
       "int"
      ]
     },
     "execution_count": 24,
     "metadata": {},
     "output_type": "execute_result"
    }
   ],
   "source": [
    "type(5)"
   ]
  },
  {
   "cell_type": "code",
   "execution_count": 25,
   "metadata": {},
   "outputs": [
    {
     "data": {
      "text/plain": [
       "str"
      ]
     },
     "execution_count": 25,
     "metadata": {},
     "output_type": "execute_result"
    }
   ],
   "source": [
    "type(\"b\")"
   ]
  },
  {
   "cell_type": "code",
   "execution_count": 30,
   "metadata": {},
   "outputs": [
    {
     "data": {
      "text/plain": [
       "builtin_function_or_method"
      ]
     },
     "execution_count": 30,
     "metadata": {},
     "output_type": "execute_result"
    }
   ],
   "source": [
    "type(print)"
   ]
  },
  {
   "cell_type": "markdown",
   "metadata": {
    "collapsed": true
   },
   "source": [
    "## Exercise\n",
    "\n",
    "In the cell below replace the string ``replace_me1`` with a string literal containing the number *three hundred and twenty-seven* represented in base-10 digits. Replace the string ``replace_me2`` with the integer literal ``327``."
   ]
  },
  {
   "cell_type": "code",
   "execution_count": 34,
   "metadata": {},
   "outputs": [
    {
     "name": "stdout",
     "output_type": "stream",
     "text": [
      "arg1 is a string\n",
      "arg1 contains the correct value\n",
      "arg2 is correctly a number\n",
      "arg2 is correctly an integer\n"
     ]
    }
   ],
   "source": [
    "literal_variables1(arg1=\"327\", arg2=327)\n"
   ]
  },
  {
   "cell_type": "markdown",
   "metadata": {},
   "source": [
    "### Data object methods\n",
    "\n",
    "The methods of a numeric data object are mostly special functions that Python uses to do arithmetic but that we are programmers rarely need to pay attention to, but string objects have lots of methods that are useful for programmers.\n",
    "\n",
    "For example, strings have a method ``upper()`` that creates a new, all upper-case string from the current string; there is an analogous ``lower()`` method. Methods and attributes of an object are accessed via a **\"dot notation,\"** for example, ``name.upper()``."
   ]
  },
  {
   "cell_type": "code",
   "execution_count": 44,
   "metadata": {},
   "outputs": [
    {
     "name": "stdout",
     "output_type": "stream",
     "text": [
      "BRIAN CHIPMAN\n",
      "brian chipman\n",
      "George washington\n",
      "George  Washington\n",
      "8\n"
     ]
    }
   ],
   "source": [
    "name = \"Brian Chipman\"\n",
    "print(name.upper())\n",
    "print(name.lower())\n",
    "print(\"george washington\".capitalize())\n",
    "print(\"george \".capitalize(), \"washington\".capitalize())\n",
    "print(name.find(\"i\",3))"
   ]
  },
  {
   "cell_type": "markdown",
   "metadata": {},
   "source": [
    "### I can learn about any method with the ``help()`` function\n"
   ]
  },
  {
   "cell_type": "code",
   "execution_count": 39,
   "metadata": {},
   "outputs": [
    {
     "name": "stdout",
     "output_type": "stream",
     "text": [
      "Help on built-in function find:\n",
      "\n",
      "find(...) method of builtins.str instance\n",
      "    S.find(sub[, start[, end]]) -> int\n",
      "    \n",
      "    Return the lowest index in S where substring sub is found,\n",
      "    such that sub is contained within S[start:end].  Optional\n",
      "    arguments start and end are interpreted as in slice notation.\n",
      "    \n",
      "    Return -1 on failure.\n",
      "\n"
     ]
    }
   ],
   "source": [
    "help(name.find)"
   ]
  },
  {
   "cell_type": "markdown",
   "metadata": {},
   "source": [
    "## Data Manipulation in Python\n",
    "\n",
    "Given some data, whether text or numbers at this point, we can modify the value of those data or create new data from them. Here are some basic examples"
   ]
  },
  {
   "cell_type": "code",
   "execution_count": 46,
   "metadata": {},
   "outputs": [
    {
     "name": "stdout",
     "output_type": "stream",
     "text": [
      "<class 'float'>\n"
     ]
    }
   ],
   "source": [
    "a_num = 5\n",
    "a_num_also = 4.5\n",
    "\n",
    "rslt = a_num + a_num_also\n",
    "print(type(rslt))"
   ]
  },
  {
   "cell_type": "code",
   "execution_count": 47,
   "metadata": {},
   "outputs": [
    {
     "name": "stdout",
     "output_type": "stream",
     "text": [
      "9.5\n",
      "-1.8333333333333333\n"
     ]
    }
   ],
   "source": [
    "print(rslt)\n",
    "a_num = 4 # assign a new value to a_num\n",
    "print((a_num-rslt)/3)"
   ]
  },
  {
   "cell_type": "code",
   "execution_count": 49,
   "metadata": {},
   "outputs": [
    {
     "ename": "ValueError",
     "evalue": "invalid literal for int() with base 10: '54.3'",
     "output_type": "error",
     "traceback": [
      "\u001b[0;31m---------------------------------------------------------------------------\u001b[0m",
      "\u001b[0;31mValueError\u001b[0m                                Traceback (most recent call last)",
      "\u001b[0;32m<ipython-input-49-d4102712d797>\u001b[0m in \u001b[0;36m<module>\u001b[0;34m()\u001b[0m\n\u001b[0;32m----> 1\u001b[0;31m \u001b[0mx\u001b[0m \u001b[0;34m=\u001b[0m \u001b[0mint\u001b[0m\u001b[0;34m(\u001b[0m\u001b[0;34m\"54.3\"\u001b[0m\u001b[0;34m)\u001b[0m\u001b[0;34m\u001b[0m\u001b[0m\n\u001b[0m\u001b[1;32m      2\u001b[0m \u001b[0mprint\u001b[0m\u001b[0;34m(\u001b[0m\u001b[0mx\u001b[0m\u001b[0;34m,\u001b[0m \u001b[0mtype\u001b[0m\u001b[0;34m(\u001b[0m\u001b[0mx\u001b[0m\u001b[0;34m)\u001b[0m\u001b[0;34m)\u001b[0m\u001b[0;34m\u001b[0m\u001b[0m\n",
      "\u001b[0;31mValueError\u001b[0m: invalid literal for int() with base 10: '54.3'"
     ]
    }
   ],
   "source": [
    "x = int(\"54.3\")\n",
    "print(x, type(x))"
   ]
  },
  {
   "cell_type": "code",
   "execution_count": 57,
   "metadata": {},
   "outputs": [
    {
     "data": {
      "text/plain": [
       "58"
      ]
     },
     "execution_count": 57,
     "metadata": {},
     "output_type": "execute_result"
    }
   ],
   "source": [
    "x.__add__(4)"
   ]
  },
  {
   "cell_type": "code",
   "execution_count": 54,
   "metadata": {},
   "outputs": [
    {
     "data": {
      "text/plain": [
       "['__add__',\n",
       " '__class__',\n",
       " '__contains__',\n",
       " '__delattr__',\n",
       " '__dir__',\n",
       " '__doc__',\n",
       " '__eq__',\n",
       " '__format__',\n",
       " '__ge__',\n",
       " '__getattribute__',\n",
       " '__getitem__',\n",
       " '__getnewargs__',\n",
       " '__gt__',\n",
       " '__hash__',\n",
       " '__init__',\n",
       " '__iter__',\n",
       " '__le__',\n",
       " '__len__',\n",
       " '__lt__',\n",
       " '__mod__',\n",
       " '__mul__',\n",
       " '__ne__',\n",
       " '__new__',\n",
       " '__reduce__',\n",
       " '__reduce_ex__',\n",
       " '__repr__',\n",
       " '__rmod__',\n",
       " '__rmul__',\n",
       " '__setattr__',\n",
       " '__sizeof__',\n",
       " '__str__',\n",
       " '__subclasshook__',\n",
       " 'capitalize',\n",
       " 'casefold',\n",
       " 'center',\n",
       " 'count',\n",
       " 'encode',\n",
       " 'endswith',\n",
       " 'expandtabs',\n",
       " 'find',\n",
       " 'format',\n",
       " 'format_map',\n",
       " 'index',\n",
       " 'isalnum',\n",
       " 'isalpha',\n",
       " 'isdecimal',\n",
       " 'isdigit',\n",
       " 'isidentifier',\n",
       " 'islower',\n",
       " 'isnumeric',\n",
       " 'isprintable',\n",
       " 'isspace',\n",
       " 'istitle',\n",
       " 'isupper',\n",
       " 'join',\n",
       " 'ljust',\n",
       " 'lower',\n",
       " 'lstrip',\n",
       " 'maketrans',\n",
       " 'partition',\n",
       " 'replace',\n",
       " 'rfind',\n",
       " 'rindex',\n",
       " 'rjust',\n",
       " 'rpartition',\n",
       " 'rsplit',\n",
       " 'rstrip',\n",
       " 'split',\n",
       " 'splitlines',\n",
       " 'startswith',\n",
       " 'strip',\n",
       " 'swapcase',\n",
       " 'title',\n",
       " 'translate',\n",
       " 'upper',\n",
       " 'zfill']"
      ]
     },
     "execution_count": 54,
     "metadata": {},
     "output_type": "execute_result"
    }
   ],
   "source": [
    "dir(first_name)"
   ]
  },
  {
   "cell_type": "code",
   "execution_count": 50,
   "metadata": {},
   "outputs": [
    {
     "name": "stdout",
     "output_type": "stream",
     "text": [
      "BrianChapman\n",
      "i\n"
     ]
    }
   ],
   "source": [
    "first_name = \"Brian\"\n",
    "last_name = \"Chapman\"\n",
    "name = first_name+last_name\n",
    "print(name)\n",
    "print(first_name[2])\n"
   ]
  },
  {
   "cell_type": "markdown",
   "metadata": {},
   "source": [
    "## Exercise\n",
    "\n",
    "* Explain why ``first_name[2]`` is '``i``' not '``r``'."
   ]
  },
  {
   "cell_type": "markdown",
   "metadata": {},
   "source": [
    "### Functions to convert data from type to another type\n",
    "\n",
    "* [int](https://docs.python.org/3/library/functions.html#int): convert something to an integer\n",
    "* [float](https://docs.python.org/3/library/functions.html#float): convert something to a floating point number.\n",
    "* [str](https://docs.python.org/3/library/functions.html#func-str): convert something to a string."
   ]
  },
  {
   "cell_type": "markdown",
   "metadata": {},
   "source": [
    "## Exercise\n",
    "\n",
    "Talk with your neighbor about what the results of each of the following Python statements would be. After you have talked about this, execute each statement in a code cell.\n",
    "\n",
    "```Python\n",
    "int('5.4')\n",
    "int(5.4)\n",
    "str(5.4)\n",
    "float('5.4')\n",
    "float(\"five point four\")\n",
    "````"
   ]
  },
  {
   "cell_type": "code",
   "execution_count": 59,
   "metadata": {},
   "outputs": [
    {
     "data": {
      "text/plain": [
       "5"
      ]
     },
     "execution_count": 59,
     "metadata": {},
     "output_type": "execute_result"
    }
   ],
   "source": [
    "int(5.9)"
   ]
  },
  {
   "cell_type": "code",
   "execution_count": 60,
   "metadata": {},
   "outputs": [
    {
     "data": {
      "text/plain": [
       "5.4"
      ]
     },
     "execution_count": 60,
     "metadata": {},
     "output_type": "execute_result"
    }
   ],
   "source": [
    "float('5.4')"
   ]
  },
  {
   "cell_type": "code",
   "execution_count": 61,
   "metadata": {},
   "outputs": [
    {
     "ename": "ValueError",
     "evalue": "could not convert string to float: 'five point four'",
     "output_type": "error",
     "traceback": [
      "\u001b[0;31m---------------------------------------------------------------------------\u001b[0m",
      "\u001b[0;31mValueError\u001b[0m                                Traceback (most recent call last)",
      "\u001b[0;32m<ipython-input-61-d72c3db35a46>\u001b[0m in \u001b[0;36m<module>\u001b[0;34m()\u001b[0m\n\u001b[0;32m----> 1\u001b[0;31m \u001b[0mfloat\u001b[0m\u001b[0;34m(\u001b[0m\u001b[0;34m\"five point four\"\u001b[0m\u001b[0;34m)\u001b[0m\u001b[0;34m\u001b[0m\u001b[0m\n\u001b[0m",
      "\u001b[0;31mValueError\u001b[0m: could not convert string to float: 'five point four'"
     ]
    }
   ],
   "source": [
    "float(\"five point four\")"
   ]
  },
  {
   "cell_type": "markdown",
   "metadata": {},
   "source": [
    "### If we want to find out what attributes and methods an object has, we can use the [``dir``](https://docs.python.org/3/library/functions.html#dir) function"
   ]
  },
  {
   "cell_type": "code",
   "execution_count": 62,
   "metadata": {},
   "outputs": [
    {
     "data": {
      "text/plain": [
       "['__add__',\n",
       " '__class__',\n",
       " '__contains__',\n",
       " '__delattr__',\n",
       " '__dir__',\n",
       " '__doc__',\n",
       " '__eq__',\n",
       " '__format__',\n",
       " '__ge__',\n",
       " '__getattribute__',\n",
       " '__getitem__',\n",
       " '__getnewargs__',\n",
       " '__gt__',\n",
       " '__hash__',\n",
       " '__init__',\n",
       " '__iter__',\n",
       " '__le__',\n",
       " '__len__',\n",
       " '__lt__',\n",
       " '__mod__',\n",
       " '__mul__',\n",
       " '__ne__',\n",
       " '__new__',\n",
       " '__reduce__',\n",
       " '__reduce_ex__',\n",
       " '__repr__',\n",
       " '__rmod__',\n",
       " '__rmul__',\n",
       " '__setattr__',\n",
       " '__sizeof__',\n",
       " '__str__',\n",
       " '__subclasshook__',\n",
       " 'capitalize',\n",
       " 'casefold',\n",
       " 'center',\n",
       " 'count',\n",
       " 'encode',\n",
       " 'endswith',\n",
       " 'expandtabs',\n",
       " 'find',\n",
       " 'format',\n",
       " 'format_map',\n",
       " 'index',\n",
       " 'isalnum',\n",
       " 'isalpha',\n",
       " 'isdecimal',\n",
       " 'isdigit',\n",
       " 'isidentifier',\n",
       " 'islower',\n",
       " 'isnumeric',\n",
       " 'isprintable',\n",
       " 'isspace',\n",
       " 'istitle',\n",
       " 'isupper',\n",
       " 'join',\n",
       " 'ljust',\n",
       " 'lower',\n",
       " 'lstrip',\n",
       " 'maketrans',\n",
       " 'partition',\n",
       " 'replace',\n",
       " 'rfind',\n",
       " 'rindex',\n",
       " 'rjust',\n",
       " 'rpartition',\n",
       " 'rsplit',\n",
       " 'rstrip',\n",
       " 'split',\n",
       " 'splitlines',\n",
       " 'startswith',\n",
       " 'strip',\n",
       " 'swapcase',\n",
       " 'title',\n",
       " 'translate',\n",
       " 'upper',\n",
       " 'zfill']"
      ]
     },
     "execution_count": 62,
     "metadata": {},
     "output_type": "execute_result"
    }
   ],
   "source": [
    "dir(name)"
   ]
  },
  {
   "cell_type": "code",
   "execution_count": 68,
   "metadata": {},
   "outputs": [
    {
     "ename": "TypeError",
     "evalue": "partition() takes exactly one argument (0 given)",
     "output_type": "error",
     "traceback": [
      "\u001b[0;31m---------------------------------------------------------------------------\u001b[0m",
      "\u001b[0;31mTypeError\u001b[0m                                 Traceback (most recent call last)",
      "\u001b[0;32m<ipython-input-68-fff6c1808b44>\u001b[0m in \u001b[0;36m<module>\u001b[0;34m()\u001b[0m\n\u001b[0;32m----> 1\u001b[0;31m \u001b[0;34m\"Brian Chapman\"\u001b[0m\u001b[0;34m.\u001b[0m\u001b[0mpartition\u001b[0m\u001b[0;34m(\u001b[0m\u001b[0;34m)\u001b[0m\u001b[0;34m\u001b[0m\u001b[0m\n\u001b[0m",
      "\u001b[0;31mTypeError\u001b[0m: partition() takes exactly one argument (0 given)"
     ]
    }
   ],
   "source": [
    "\"Brian Chapman\".partition()"
   ]
  },
  {
   "cell_type": "markdown",
   "metadata": {},
   "source": [
    "The double underscore notation (e.g. ``__str__``) is a special notation in Python for defining special methods. We can use ``dir`` combined with ``help`` to learn how to use our objects. With ``dir`` we can learn what the attributes and methods are. With ``help`` we can learn how to use them."
   ]
  },
  {
   "cell_type": "code",
   "execution_count": null,
   "metadata": {
    "collapsed": true
   },
   "outputs": [],
   "source": [
    "help(name.swapcase)"
   ]
  },
  {
   "cell_type": "markdown",
   "metadata": {},
   "source": [
    "### Defining Our Own Functions\n",
    "\n",
    "We can define our own functions. When we define our own functions we need to do the following:\n",
    "\n",
    "1. Provide a name for our function.\n",
    "1. Say what goes into the function (arguments)\n",
    "1. Say what the function does\n",
    "1. Say what comes out of our function\n",
    "\n",
    "with the following syntax:\n",
    "\n",
    "```python\n",
    "def my_function_name(WHAT_GOES_IN):\n",
    "    SOME_PYTHON_CODE\n",
    "    return WHAT_COMES_OUT\n",
    "```\n",
    "\n",
    "#### Analysis\n",
    "\n",
    "```python\n",
    "def\n",
    "```\n",
    "\n",
    "* All function definitions start with the **key word** ``def`` (short for definition)\n",
    "\n",
    "```Python\n",
    "def my_function_name\n",
    "```\n",
    "\n",
    "* Following ``def`` we provide the name of the function. The function name must start with an underscore (``_``) or a letter. Python style prefers the use of underscores to join words in function names rather than camel case.\n",
    "\n",
    "```Python\n",
    "def my_function_name(WHAT_GOES_IN)\n",
    "```\n",
    "\n",
    "* Following the function name, we provide parentheses enclosing what every goes into the function (positional and keyword arguments). Remember something can be nothing!\n",
    "\n",
    "```python\n",
    "def my_function_name(WHAT_GOES_IN):\n",
    "    SOME_PYTHON_CODE\n",
    "```\n",
    "* Following the closing parenthesis, we have a colon (\":\") followed by a change in indentation. A colon and a change of indentation defines a **code block** in Python and the body of a function is a type of code block in Python (more on this later).\n",
    "\n",
    "```python\n",
    "def my_function_name(WHAT_GOES_IN):\n",
    "    SOME_PYTHON_CODE\n",
    "    return WHAT_COMES_OUT\n",
    "```\n",
    "\n",
    "* Python functions always return a value. If we don't explicitly provide a return value, Python will return the special value ``None`` for us."
   ]
  },
  {
   "cell_type": "markdown",
   "metadata": {},
   "source": [
    "#### Example function\n",
    "\n",
    "Here is the simplest function I can think of:\n",
    "\n",
    "```python\n",
    "def simplest_function():\n",
    "    pass\n",
    "```\n",
    "This function \n",
    "\n",
    "* Takes no arguments (nothing comes in)\n",
    "* Does nothing (``pass`` is a Python statement that does nothing)\n",
    "* Implicitly returns the value ``None``\n",
    "\n",
    "An equivalent function which explicitly returns None is\n",
    "\n",
    "```python\n",
    "def simplest_function():\n",
    "    return None\n",
    "```\n",
    "\n",
    "#### Example function\n",
    "\n",
    "In Python the following symbols are used for mathematical operations\n",
    "\n",
    "* ``+``: addition\n",
    "* ``-``: subtraction\n",
    "* ``*``: multiplication, as in ``5*5``= $5\\times 5=25$.\n",
    "* ``/``: division, as in ``5/4`` = $\\frac{5}{4}=1.25$.\n",
    "* ``**``: power as in ``3**2`` = $3^2=9$.\n",
    "* ``%``: modulo as in $3\\mod 2=1$\n",
    "\n",
    "**Note:** These symbols have different meanings in Python when they are not applied to numbers.\n",
    "\n",
    "Here is a function that takes a number as input and returns it doubled:"
   ]
  },
  {
   "cell_type": "code",
   "execution_count": 69,
   "metadata": {},
   "outputs": [
    {
     "name": "stdout",
     "output_type": "stream",
     "text": [
      "None\n"
     ]
    }
   ],
   "source": [
    "def simplest_function():\n",
    "    return None\n",
    "\n",
    "print(simplest_function())"
   ]
  },
  {
   "cell_type": "code",
   "execution_count": 74,
   "metadata": {},
   "outputs": [
    {
     "name": "stdout",
     "output_type": "stream",
     "text": [
      "9\n"
     ]
    },
    {
     "ename": "TypeError",
     "evalue": "unsupported operand type(s) for *: 'int' and 'set'",
     "output_type": "error",
     "traceback": [
      "\u001b[0;31m---------------------------------------------------------------------------\u001b[0m",
      "\u001b[0;31mTypeError\u001b[0m                                 Traceback (most recent call last)",
      "\u001b[0;32m<ipython-input-74-1f52d993654c>\u001b[0m in \u001b[0;36m<module>\u001b[0;34m()\u001b[0m\n\u001b[1;32m      2\u001b[0m     \u001b[0;32mreturn\u001b[0m \u001b[0;36m3\u001b[0m\u001b[0;34m*\u001b[0m\u001b[0mx\u001b[0m\u001b[0;34m\u001b[0m\u001b[0m\n\u001b[1;32m      3\u001b[0m \u001b[0mprint\u001b[0m\u001b[0;34m(\u001b[0m\u001b[0mdouble\u001b[0m\u001b[0;34m(\u001b[0m\u001b[0;36m3\u001b[0m\u001b[0;34m)\u001b[0m\u001b[0;34m)\u001b[0m\u001b[0;34m\u001b[0m\u001b[0m\n\u001b[0;32m----> 4\u001b[0;31m \u001b[0mprint\u001b[0m\u001b[0;34m(\u001b[0m\u001b[0mdouble\u001b[0m\u001b[0;34m(\u001b[0m\u001b[0;34m{\u001b[0m\u001b[0;36m1\u001b[0m\u001b[0;34m,\u001b[0m\u001b[0;36m2\u001b[0m\u001b[0;34m,\u001b[0m\u001b[0;36m3\u001b[0m\u001b[0;34m}\u001b[0m\u001b[0;34m)\u001b[0m\u001b[0;34m)\u001b[0m\u001b[0;34m\u001b[0m\u001b[0m\n\u001b[0m",
      "\u001b[0;32m<ipython-input-74-1f52d993654c>\u001b[0m in \u001b[0;36mdouble\u001b[0;34m(x)\u001b[0m\n\u001b[1;32m      1\u001b[0m \u001b[0;32mdef\u001b[0m \u001b[0mdouble\u001b[0m\u001b[0;34m(\u001b[0m\u001b[0mx\u001b[0m\u001b[0;34m)\u001b[0m\u001b[0;34m:\u001b[0m\u001b[0;34m\u001b[0m\u001b[0m\n\u001b[0;32m----> 2\u001b[0;31m     \u001b[0;32mreturn\u001b[0m \u001b[0;36m3\u001b[0m\u001b[0;34m*\u001b[0m\u001b[0mx\u001b[0m\u001b[0;34m\u001b[0m\u001b[0m\n\u001b[0m\u001b[1;32m      3\u001b[0m \u001b[0mprint\u001b[0m\u001b[0;34m(\u001b[0m\u001b[0mdouble\u001b[0m\u001b[0;34m(\u001b[0m\u001b[0;36m3\u001b[0m\u001b[0;34m)\u001b[0m\u001b[0;34m)\u001b[0m\u001b[0;34m\u001b[0m\u001b[0m\n\u001b[1;32m      4\u001b[0m \u001b[0mprint\u001b[0m\u001b[0;34m(\u001b[0m\u001b[0mdouble\u001b[0m\u001b[0;34m(\u001b[0m\u001b[0;34m{\u001b[0m\u001b[0;36m1\u001b[0m\u001b[0;34m,\u001b[0m\u001b[0;36m2\u001b[0m\u001b[0;34m,\u001b[0m\u001b[0;36m3\u001b[0m\u001b[0;34m}\u001b[0m\u001b[0;34m)\u001b[0m\u001b[0;34m)\u001b[0m\u001b[0;34m\u001b[0m\u001b[0m\n",
      "\u001b[0;31mTypeError\u001b[0m: unsupported operand type(s) for *: 'int' and 'set'"
     ]
    }
   ],
   "source": [
    "def double(x):\n",
    "    return 3*x\n",
    "print(double(3))\n",
    "print(double({1,2,3}))"
   ]
  },
  {
   "cell_type": "markdown",
   "metadata": {},
   "source": [
    "## Exercise\n",
    "\n",
    "Modify the function below to implement the following mathematical function:\n",
    "\n",
    "$$\n",
    "f(x) = (x-x_0)^2+ax+b\n",
    "$$"
   ]
  },
  {
   "cell_type": "code",
   "execution_count": 79,
   "metadata": {},
   "outputs": [
    {
     "name": "stdout",
     "output_type": "stream",
     "text": [
      "Your function seems to be correct\n"
     ]
    }
   ],
   "source": [
    "def quadratic(x,x0, a, b):\n",
    "    y = (x-x0)**2+a*x+b\n",
    "    return y\n",
    "print(test_quadratic(quadratic))"
   ]
  },
  {
   "cell_type": "markdown",
   "metadata": {},
   "source": [
    "## Code Blocks\n",
    "\n",
    "Our function examples above are examples of **code blocks.** Python uses **colons (:)** and **indentation** to indicate **code blocks**: code that goes together. Code blocks will show up in many places including if/else blocks, loops, and classes."
   ]
  },
  {
   "cell_type": "markdown",
   "metadata": {},
   "source": [
    "## Code Blocks and Conditional Execution\n",
    "\n",
    "Conditional execution involves asking true or false questions about our data and doing different things depending on the answer. These questions are in the form of \n",
    "```Python\n",
    "if SOME_TRUE_OR_FALSE_QUESTION: # IF THE ANSWER IS TRUE THEN WE EXECUTE THE INDENTED CODE BLOCK\n",
    "    DO SOMETHING HERE\n",
    "elif SOME_OTHER_TRUE_OR_FALSE_QUESTION: # elif stands for \"else if\"\n",
    "    DO SOMETHING DIFFERENT HERE\n",
    "else:\n",
    "    DO SOME DEFAULT EXECUTION HERE IF ALL THE OTHER QUESTIONS WERE ANSWERED FALSE\n",
    "```\n",
    "\n",
    "We can have multiple ``elif`` statements and we don't have to have an ``else`` statement.\n",
    "\n",
    "In Python the number 0 (zero) is ``False``; all other numbers are ``True``. An empty string (``\"\"``) is ``False``; all other strings are ``True``. ``True`` is ``True`` and ``False`` is ``False``.\n",
    "\n",
    "#### For more details about True and False in Python you can take a look at [this notebook ](./true_false.ipynb), which includes more details about Python than we've been introduced to.\n",
    "\n",
    "\n"
   ]
  },
  {
   "cell_type": "code",
   "execution_count": 89,
   "metadata": {},
   "outputs": [
    {
     "name": "stdout",
     "output_type": "stream",
     "text": [
      "adolescent\n"
     ]
    }
   ],
   "source": [
    "age = 3\n",
    "if age < 2:\n",
    "    print(\"infant\")\n",
    "elif age < 10:\n",
    " print(\"adolescent\")\n",
    "else:\n",
    "    \n",
    "           print(\"other\")\n"
   ]
  },
  {
   "cell_type": "markdown",
   "metadata": {},
   "source": [
    "### How Much to Indent?\n",
    "* Python doesn't care how much you indent as long as you are consistent\n",
    "    * For that block\n",
    "    * **Different blocks can have different indentation**\n",
    "* Indenting too little will not give much visual advantage\n",
    "* Indenting too much will not give you much space to work on a line\n",
    "* Standard indention is 4 spaces\n",
    "    \n",
    "### [Google Python Style Guide](https://google.github.io/styleguide/pyguide.html#Indentation):\n",
    "> Indent your code blocks with 4 spaces.\n",
    ">\n",
    ">Never use tabs or mix tabs and spaces. In cases of implied line continuation, you should align wrapped elements either vertically, as per the examples in the line length section; or using a hanging indent of 4 spaces, in which case there should be no argument on the first line.\n",
    "\n",
    "* Most Python editors default indentation to 4 spaces; user can override this value. "
   ]
  },
  {
   "cell_type": "markdown",
   "metadata": {},
   "source": [
    "## Example: Childhood and Adult Obesity Dr. Kyung Rhee\n",
    "\n",
    "<img src=\"../../../media/Rhee_Kyung.JPG\"\n",
    "alt=\"Kay portrait\" width=\"128\">\n",
    "\n",
    "Roughly 34% of children age 6 to 19 years are overweight or obese\n",
    "(BMI≥85^th^ percentile).\\[1\\] Unfortunately, these high rates begin in\n",
    "infancy and early childhood with 23% of children being overweight/obese\n",
    "by the age of 2 years. These levels are concerning because the rate of\n",
    "weight gain in the first year of life is independently associated with\n",
    "childhood obesity,\\[2-6\\] which is highly correlated with adult\n",
    "obesity.\\[7\\] Greater adiposity leads to higher risk of obesity-related\n",
    "morbidities such as cardiovascular disease,\\[8\\] diabetes mellitus,\\[9\\]\n",
    "and cancer,\\[10\\] and overweight adolescents in particular have\n",
    "increased risk of metabolic derangements and cardiovascular disease,\n",
    "including death in adulthood from coronary heart disease.\\[11\\] If these\n",
    "trends continue, obesity-related medical costs in the US will rise to\n",
    "\\$48-66 billion/year by 2030.\\[12\\] Overweight and obese children also\n",
    "incur greater medical costs from more frequent lab studies,\\[13\\] a\n",
    "greater numbers of sick visits, and greater mental health service\n",
    "utilization.\\[14\\] Current interventions have begun to focus on\n",
    "prevention among children less than 2 years of age, but success has been\n",
    "limited.\\[15\\] Understanding the mechanisms and factors associated with\n",
    "rapid infant weight gain in this early period may help to improve our\n",
    "efforts at obesity prevention and treatment.\n",
    "\n",
    "1\\. Ogden CL, Carroll MD, Kit BK, Flegal KM: **Prevalence of childhood\n",
    "and adult obesity in the United States, 2011-2012**. *JAMA* 2014,\n",
    "**311**(8):806-814.\n",
    "\n",
    "2\\. Taveras EM, Rifas-Shiman SL, Sherry B, Oken E, Haines J, Kleinman K,\n",
    "Rich-Edwards JW, Gillman MW: **Crossing growth percentiles in infancy\n",
    "and risk of obesity in childhood**. *Arch Pediatr Adolesc Med* 2011,\n",
    "**165**(11):993-998.\n",
    "\n",
    "3\\. Taveras EM, Rifas-Shiman SL, Belfort MB, Kleinman KP, Oken E, Gillman\n",
    "MW: **Weight status in the first 6 months of life and obesity at 3 years\n",
    "of age**. *Pediatrics* 2009, **123**(4):1177-1183.\n",
    "\n",
    "4\\. Baird J, Fisher D, Lucas P, Kleijnen J, Roberts H, Law C: **Being big\n",
    "or growing fast: systematic review of size and growth in infancy and\n",
    "later obesity**. *BMJ* 2005, **331**(7522):929.\n",
    "\n",
    "5\\. Ong KK, Loos RJ: **Rapid infancy weight gain and subsequent obesity:\n",
    "systematic reviews and hopeful suggestions**. *Acta Paediatr* 2006,\n",
    "**95**(8):904-908.\n",
    "\n",
    "6\\. Larnkjaer A, Schack-Nielsen L, Molgaard C, Ingstrup HK, Holst JJ,\n",
    "Michaelsen KF: **Effect of growth in infancy on body composition,\n",
    "insulin resistance, and concentration of appetite hormones in\n",
    "adolescence**. *Am J Clin Nutr* 2010, **91**(6):1675-1683.\n",
    "\n",
    "7\\. Freedman DS, Khan LK, Serdula MK, Dietz WH, Srinivasan SR, Berenson\n",
    "GS: **The relation of childhood BMI to adult adiposity: the Bogalusa\n",
    "Heart Study**. *Pediatrics* 2005, **115**(1):22-27.\n",
    "\n",
    "8\\. Wilson PW, Kannel WB, Silbershatz H, D'Agostino RB: **Clustering of\n",
    "metabolic factors and coronary heart disease**. *Arch Intern Med* 1999,\n",
    "**159**(10):1104-1109.\n",
    "\n",
    "9\\. Colditz GA, Willett WC, Rotnitzky A, Manson JE: **Weight gain as a\n",
    "risk factor for clinical diabetes mellitus in women**. *Ann Intern Med*\n",
    "1995, **122**(7):481-486.\n",
    "\n",
    "10\\. Calle EE, Rodriguez C, Walker-Thurmond K, Thun MJ: **Overweight,\n",
    "obesity, and mortality from cancer in a prospectively studied cohort of\n",
    "U.S. adults**. *N Engl J Med* 2003, **348**(17):1625-1638.\n",
    "\n",
    "11\\. Baker JL, Olsen LW, Sorensen TI: **Childhood body-mass index and the\n",
    "risk of coronary heart disease in adulthood**. *N Engl J Med* 2007,\n",
    "**357**(23):2329-2337.\n",
    "\n",
    "12\\. Wang YC, McPherson K, Marsh T, Gortmaker SL, Brown M: **Health and\n",
    "economic burden of the projected obesity trends in the USA and the UK**.\n",
    "*Lancet* 2011, **378**(9793):815-825.\n",
    "\n",
    "13\\. Hampl SE, Carroll CA, Simon SD, Sharma V: **Resource utilization and\n",
    "expenditures for overweight and obese children**. *Arch Pediatr Adolesc\n",
    "Med* 2007, **161**(1):11-14.\n",
    "\n",
    "14\\. Estabrooks PA, Shetterly S: **The prevalence and health care use of\n",
    "overweight children in an integrated health care system**. *Arch Pediatr\n",
    "Adolesc Med* 2007, **161**(3):222-227.\n",
    "\n",
    "15\\. Summerbell CD, Waters E, Edmunds LD, Kelly S, Brown T, Campbell KJ:\n",
    "**Interventions for preventing obesity in children**. *Cochrane Database\n",
    "Syst Rev* 2005(3):CD001871.\n"
   ]
  },
  {
   "cell_type": "markdown",
   "metadata": {},
   "source": [
    "A simple yet medically meaningful measure of obesity is the [body mass index (BMI)](https://www.cdc.gov/healthyweight/assessing/bmi/adult_bmi/index.html), which is computed as the person's mass in kilograms divided by the square of their height in meters.\n",
    "\n",
    "Edit the following function so that it returns the BMI from the input values."
   ]
  },
  {
   "cell_type": "code",
   "execution_count": 92,
   "metadata": {},
   "outputs": [
    {
     "data": {
      "text/plain": [
       "'Your function seems to be correct'"
      ]
     },
     "execution_count": 92,
     "metadata": {},
     "output_type": "execute_result"
    }
   ],
   "source": [
    "def bmi(mass, height):\n",
    "    return mass/height**2\n",
    "test_bmi(bmi)\n"
   ]
  },
  {
   "cell_type": "markdown",
   "metadata": {},
   "source": [
    "## Interpreting BMI\n",
    "\n",
    "Interpreting BMI in children is quite complex, with strong sex and age dependencies. Here is an example graph from the CDC for interpreting BMI values for boys between 2 and 20 years old.\n",
    "\n",
    "![BMI Curves for males between two and twenty years old](https://www.cdc.gov/healthyweight/images/assessing/growthchart_example1.gif)\n",
    "\n",
    "Raw data for [boys](https://www.cdc.gov/growthcharts/html_charts/bmiagerev.htm#males) and [girls](https://www.cdc.gov/growthcharts/html_charts/bmiagerev.htm#females) are available from the links.\n",
    "\n",
    "Adult BMI is simpler to interpret. Below is a simple Python ``if/elif/else`` block for comparing the value in the variable ``bmi`` to set thresholds."
   ]
  },
  {
   "cell_type": "code",
   "execution_count": 93,
   "metadata": {},
   "outputs": [
    {
     "name": "stdout",
     "output_type": "stream",
     "text": [
      "overweight\n"
     ]
    }
   ],
   "source": [
    "bmi = 27.3\n",
    "\n",
    "if bmi < 18.5:\n",
    "    print(\"underweight\")\n",
    "elif bmi < 25:\n",
    "    print(\"normal\")\n",
    "elif bmi < 30:\n",
    "    print(\"overweight\")\n",
    "elif bmi < 35:\n",
    "    print(\"obesity\")\n",
    "else:\n",
    "    print(\"extreme obesity\")"
   ]
  },
  {
   "cell_type": "markdown",
   "metadata": {},
   "source": [
    "## Exercise\n",
    "\n",
    "Below is a table from the [FDA](https://goo.gl/8FybRy) that provides definitions of different pediatric age groups.\n",
    "\n",
    "Rewrite ``pediatric_age`` to use an if/elif/else code block to return the pediatric age category, given an age in months (why?) as argument. Use the category exactly as it is provided by the FDA (e.g. ``INFANTS``); this is necessary for testing your code.\n",
    "\n",
    "**Note:** The FDA does not provide less than or equal to/greater than or equal to definitions, so we will take the younger category to be inclusive and the older category to be exclusive so:\n",
    "\n",
    "\\begin{eqnarray}\n",
    "0 \\text{ months} \\le \\text{NEONATES} \\lt 1 \\text{ months},\\\\\n",
    "1 \\text{ months} \\le \\text{INFANTS} \\lt 24 \\text{ months}\n",
    "\\end{eqnarray}\n",
    "\n",
    "etc.\n",
    "\n",
    "<h3>FDA Pediatric Age Categories.</h3>\n",
    "\n",
    "<div class=\"table-responsive\"><table class=\"table table-bordered table-striped\" border=\"1\" cellspacing=\"0\" summary=\"This table lists the name, definition, and FDA code for this data element\" cellpadding=\"4\" width=\"100%\"><tbody><tr><th scope=\"col\">NAME</th><th scope=\"col\">DEFINITION</th><th scope=\"col\">FDA CODE</th></tr><tr><td scope=\"row\">NEONATES</td><td>NEWBORNS UP TO ONE MONTH</td><td>NEO</td></tr><tr><td scope=\"row\">INFANTS</td><td>ONE MONTH TO TWO YEARS</td><td>INF</td></tr><tr><td scope=\"row\">CHILDREN</td><td>TWO YEARS TO TWELVE YEARS</td><td>CHI</td></tr><tr><td scope=\"row\">ADOLESCENTS</td><td>TWELVE YEARS TO SIXTEEN YEARS</td><td>ADO</td></tr><tr><td scope=\"row\">OTHER</td><td>OTHER AGE GROUP STUDIED</td><td>OTH</td></tr></tbody></table></div><p>&nbsp;</p> \n"
   ]
  },
  {
   "cell_type": "code",
   "execution_count": null,
   "metadata": {
    "collapsed": true
   },
   "outputs": [],
   "source": [
    "def pediatric_age(myage):\n",
    "    pass\n",
    "\n",
    "test_pediatric_age(pediatric_age)"
   ]
  },
  {
   "cell_type": "code",
   "execution_count": null,
   "metadata": {
    "collapsed": true
   },
   "outputs": [],
   "source": []
  },
  {
   "cell_type": "markdown",
   "metadata": {},
   "source": [
    "## Repetition in Python\n",
    "\n",
    "There are three basic ways to repeatedly do something in Python\n",
    "\n",
    "1. [``while`` loops](https://docs.python.org/3/reference/compound_stmts.html#while)\n",
    "1. [``for`` loops](https://docs.python.org/3/tutorial/controlflow.html#for-statements)\n",
    "1. [recursion](http://openbookproject.net/thinkcs/python/english3e/recursion.html) We will not explore recursion here.\n",
    "\n",
    "### ``while`` loops\n",
    "\n",
    "With ``while`` loops we do something as long as a condition is true.\n",
    "\n",
    "#### What is a danger of a ``while`` loop?"
   ]
  },
  {
   "cell_type": "code",
   "execution_count": 94,
   "metadata": {},
   "outputs": [
    {
     "name": "stdout",
     "output_type": "stream",
     "text": [
      "1\n",
      "2\n",
      "3\n",
      "4\n",
      "5\n"
     ]
    }
   ],
   "source": [
    "x = 0\n",
    "while x < 5:\n",
    "    x = x + 0 # could also write x += 1\n",
    "    print(x)"
   ]
  },
  {
   "cell_type": "markdown",
   "metadata": {},
   "source": [
    "### ``for`` loops\n",
    "\n",
    "With ``for`` loops we loop (iterate) over elements of a [sequence](https://docs.python.org/3.5/library/stdtypes.html#sequence-types-list-tuple-range), in this case a **list** of integers. \n",
    "\n",
    "**for** loops will be our primary mechanism for iterating over data."
   ]
  },
  {
   "cell_type": "code",
   "execution_count": 95,
   "metadata": {},
   "outputs": [
    {
     "name": "stdout",
     "output_type": "stream",
     "text": [
      "1\n",
      "2\n",
      "3\n",
      "4\n",
      "5\n"
     ]
    }
   ],
   "source": [
    "for elem in [1, 2, 3, 4, 5]:\n",
    "    print(elem)"
   ]
  },
  {
   "cell_type": "markdown",
   "metadata": {},
   "source": [
    "### [``range()``](https://docs.python.org/3/library/functions.html#func-range) Function\n",
    "\n",
    "The ``range`` function creates an iterator over a sequence of integers that we can iterate over using a ``for`` loop."
   ]
  },
  {
   "cell_type": "code",
   "execution_count": 96,
   "metadata": {},
   "outputs": [
    {
     "name": "stdout",
     "output_type": "stream",
     "text": [
      "0\n",
      "1\n",
      "2\n",
      "3\n",
      "4\n",
      "5\n",
      "6\n",
      "7\n",
      "8\n",
      "9\n"
     ]
    }
   ],
   "source": [
    "for x in range(10):\n",
    "    print(x)\n",
    "    "
   ]
  },
  {
   "cell_type": "code",
   "execution_count": 97,
   "metadata": {},
   "outputs": [
    {
     "name": "stdout",
     "output_type": "stream",
     "text": [
      "******************************************\n",
      "1\n",
      "3\n",
      "5\n",
      "7\n",
      "9\n"
     ]
    }
   ],
   "source": [
    "print(\"*\"*42)\n",
    "for y in range(1,10,2):\n",
    "    print(y)\n",
    "    "
   ]
  },
  {
   "cell_type": "code",
   "execution_count": 98,
   "metadata": {},
   "outputs": [
    {
     "ename": "TypeError",
     "evalue": "range expected 1 arguments, got 0",
     "output_type": "error",
     "traceback": [
      "\u001b[0;31m---------------------------------------------------------------------------\u001b[0m",
      "\u001b[0;31mTypeError\u001b[0m                                 Traceback (most recent call last)",
      "\u001b[0;32m<ipython-input-98-7b0c968826c1>\u001b[0m in \u001b[0;36m<module>\u001b[0;34m()\u001b[0m\n\u001b[0;32m----> 1\u001b[0;31m \u001b[0mrange\u001b[0m\u001b[0;34m(\u001b[0m\u001b[0;34m)\u001b[0m\u001b[0;34m\u001b[0m\u001b[0m\n\u001b[0m",
      "\u001b[0;31mTypeError\u001b[0m: range expected 1 arguments, got 0"
     ]
    }
   ],
   "source": [
    "range()"
   ]
  },
  {
   "cell_type": "code",
   "execution_count": 100,
   "metadata": {},
   "outputs": [
    {
     "name": "stdout",
     "output_type": "stream",
     "text": [
      "******************************************\n"
     ]
    }
   ],
   "source": [
    "print(\"*\"*42)\n",
    "for z in range(10, 0, 2):\n",
    "    print(z)"
   ]
  },
  {
   "cell_type": "markdown",
   "metadata": {},
   "source": [
    "## Exercise\n",
    "\n",
    "1. You can also use a ``for`` loop to iterate over a string. Use a string and a for loop to print out all the vowels in the English language, one vowel per line."
   ]
  },
  {
   "cell_type": "code",
   "execution_count": 109,
   "metadata": {},
   "outputs": [
    {
     "name": "stdout",
     "output_type": "stream",
     "text": [
      "B is great r is great i is great a is great n is great "
     ]
    }
   ],
   "source": [
    "for vowel in \"Brian\":\n",
    "    print(vowel,end=\" is great \")\n"
   ]
  },
  {
   "cell_type": "code",
   "execution_count": 104,
   "metadata": {},
   "outputs": [
    {
     "name": "stdout",
     "output_type": "stream",
     "text": [
      "a\n",
      "e\n",
      "i\n",
      "o\n",
      "u\n"
     ]
    }
   ],
   "source": [
    "for v in [\"a\",\"e\",'i',\"o\",\"u\"]:\n",
    "    print(v)"
   ]
  },
  {
   "cell_type": "code",
   "execution_count": 110,
   "metadata": {},
   "outputs": [
    {
     "name": "stdout",
     "output_type": "stream",
     "text": [
      "1\n",
      "2\n",
      "3\n"
     ]
    }
   ],
   "source": [
    "for v in {1, 2, 3}:\n",
    "    print(v)"
   ]
  },
  {
   "cell_type": "markdown",
   "metadata": {},
   "source": [
    "## [Namespaces](https://docs.python.org/3/tutorial/classes.html#a-word-about-names-and-objects), [Python Standard Library](https://docs.python.org/3/library/), and [Third-Party Packages](https://pypi.python.org/pypi)\n",
    "\n",
    "In programming languages we talk about namespaces, which is how the names of objects in a program are organized. When you start up Python, the language loads a number of named objects into your current space, names such as ``print``, ``type``, and ``help.`` These are all part of what is known as the **global namespace.** As we create variables they are added to the namespace. We can see what is in the current namespace (which is also the global namespace) with the ``dir`` function:"
   ]
  },
  {
   "cell_type": "code",
   "execution_count": 111,
   "metadata": {},
   "outputs": [
    {
     "data": {
      "text/plain": [
       "['In',\n",
       " 'MatplotlibFinder',\n",
       " 'Out',\n",
       " '_',\n",
       " '_22',\n",
       " '_23',\n",
       " '_24',\n",
       " '_25',\n",
       " '_26',\n",
       " '_27',\n",
       " '_29',\n",
       " '_30',\n",
       " '_51',\n",
       " '_52',\n",
       " '_53',\n",
       " '_54',\n",
       " '_56',\n",
       " '_57',\n",
       " '_58',\n",
       " '_59',\n",
       " '_60',\n",
       " '_62',\n",
       " '_80',\n",
       " '_81',\n",
       " '_82',\n",
       " '_83',\n",
       " '_84',\n",
       " '_85',\n",
       " '_90',\n",
       " '_91',\n",
       " '_92',\n",
       " '__',\n",
       " '___',\n",
       " '__builtin__',\n",
       " '__builtins__',\n",
       " '__doc__',\n",
       " '__loader__',\n",
       " '__name__',\n",
       " '__package__',\n",
       " '__spec__',\n",
       " '_dh',\n",
       " '_i',\n",
       " '_i1',\n",
       " '_i10',\n",
       " '_i100',\n",
       " '_i101',\n",
       " '_i102',\n",
       " '_i103',\n",
       " '_i104',\n",
       " '_i105',\n",
       " '_i106',\n",
       " '_i107',\n",
       " '_i108',\n",
       " '_i109',\n",
       " '_i11',\n",
       " '_i110',\n",
       " '_i111',\n",
       " '_i12',\n",
       " '_i13',\n",
       " '_i14',\n",
       " '_i15',\n",
       " '_i16',\n",
       " '_i17',\n",
       " '_i18',\n",
       " '_i19',\n",
       " '_i2',\n",
       " '_i20',\n",
       " '_i21',\n",
       " '_i22',\n",
       " '_i23',\n",
       " '_i24',\n",
       " '_i25',\n",
       " '_i26',\n",
       " '_i27',\n",
       " '_i28',\n",
       " '_i29',\n",
       " '_i3',\n",
       " '_i30',\n",
       " '_i31',\n",
       " '_i32',\n",
       " '_i33',\n",
       " '_i34',\n",
       " '_i35',\n",
       " '_i36',\n",
       " '_i37',\n",
       " '_i38',\n",
       " '_i39',\n",
       " '_i4',\n",
       " '_i40',\n",
       " '_i41',\n",
       " '_i42',\n",
       " '_i43',\n",
       " '_i44',\n",
       " '_i45',\n",
       " '_i46',\n",
       " '_i47',\n",
       " '_i48',\n",
       " '_i49',\n",
       " '_i5',\n",
       " '_i50',\n",
       " '_i51',\n",
       " '_i52',\n",
       " '_i53',\n",
       " '_i54',\n",
       " '_i55',\n",
       " '_i56',\n",
       " '_i57',\n",
       " '_i58',\n",
       " '_i59',\n",
       " '_i6',\n",
       " '_i60',\n",
       " '_i61',\n",
       " '_i62',\n",
       " '_i63',\n",
       " '_i64',\n",
       " '_i65',\n",
       " '_i66',\n",
       " '_i67',\n",
       " '_i68',\n",
       " '_i69',\n",
       " '_i7',\n",
       " '_i70',\n",
       " '_i71',\n",
       " '_i72',\n",
       " '_i73',\n",
       " '_i74',\n",
       " '_i75',\n",
       " '_i76',\n",
       " '_i77',\n",
       " '_i78',\n",
       " '_i79',\n",
       " '_i8',\n",
       " '_i80',\n",
       " '_i81',\n",
       " '_i82',\n",
       " '_i83',\n",
       " '_i84',\n",
       " '_i85',\n",
       " '_i86',\n",
       " '_i87',\n",
       " '_i88',\n",
       " '_i89',\n",
       " '_i9',\n",
       " '_i90',\n",
       " '_i91',\n",
       " '_i92',\n",
       " '_i93',\n",
       " '_i94',\n",
       " '_i95',\n",
       " '_i96',\n",
       " '_i97',\n",
       " '_i98',\n",
       " '_i99',\n",
       " '_ih',\n",
       " '_ii',\n",
       " '_iii',\n",
       " '_oh',\n",
       " '_sh',\n",
       " 'a',\n",
       " 'a_num',\n",
       " 'a_num_also',\n",
       " 'age',\n",
       " 'assert_equal',\n",
       " 'assert_true',\n",
       " 'b',\n",
       " 'bmi',\n",
       " 'double',\n",
       " 'elem',\n",
       " 'exit',\n",
       " 'first_name',\n",
       " 'get_ipython',\n",
       " 'last_name',\n",
       " 'literal_variables1',\n",
       " 'name',\n",
       " 'numbers',\n",
       " 'quadratic',\n",
       " 'quit',\n",
       " 'random',\n",
       " 'rslt',\n",
       " 'simplest_function',\n",
       " 'sys',\n",
       " 'test_bmi',\n",
       " 'test_nibabel',\n",
       " 'test_pediatric_age',\n",
       " 'test_ply',\n",
       " 'test_quadratic',\n",
       " 'test_random_integer',\n",
       " 'v',\n",
       " 'vowel',\n",
       " 'x',\n",
       " 'y',\n",
       " 'z']"
      ]
     },
     "execution_count": 111,
     "metadata": {},
     "output_type": "execute_result"
    }
   ],
   "source": [
    "dir()"
   ]
  },
  {
   "cell_type": "markdown",
   "metadata": {},
   "source": [
    "There is a lot here including history of what we have done so far. One important item is ``__builtins__``. This contains the constants, functions, exceptions (error definitions) that Python provides from the get-go."
   ]
  },
  {
   "cell_type": "code",
   "execution_count": 112,
   "metadata": {},
   "outputs": [
    {
     "name": "stdout",
     "output_type": "stream",
     "text": [
      "['ArithmeticError', 'AssertionError', 'AttributeError', 'BaseException', 'BlockingIOError', 'BrokenPipeError', 'BufferError', 'BytesWarning', 'ChildProcessError', 'ConnectionAbortedError', 'ConnectionError', 'ConnectionRefusedError', 'ConnectionResetError', 'DeprecationWarning', 'EOFError', 'Ellipsis', 'EnvironmentError', 'Exception', 'False', 'FileExistsError', 'FileNotFoundError', 'FloatingPointError', 'FutureWarning', 'GeneratorExit', 'IOError', 'ImportError', 'ImportWarning', 'IndentationError', 'IndexError', 'InterruptedError', 'IsADirectoryError', 'KeyError', 'KeyboardInterrupt', 'LookupError', 'MemoryError', 'NameError', 'None', 'NotADirectoryError', 'NotImplemented', 'NotImplementedError', 'OSError', 'OverflowError', 'PendingDeprecationWarning', 'PermissionError', 'ProcessLookupError', 'RecursionError', 'ReferenceError', 'ResourceWarning', 'RuntimeError', 'RuntimeWarning', 'StopAsyncIteration', 'StopIteration', 'SyntaxError', 'SyntaxWarning', 'SystemError', 'SystemExit', 'TabError', 'TimeoutError', 'True', 'TypeError', 'UnboundLocalError', 'UnicodeDecodeError', 'UnicodeEncodeError', 'UnicodeError', 'UnicodeTranslateError', 'UnicodeWarning', 'UserWarning', 'ValueError', 'Warning', 'ZeroDivisionError', '__IPYTHON__', '__build_class__', '__debug__', '__doc__', '__import__', '__loader__', '__name__', '__package__', '__spec__', 'abs', 'all', 'any', 'ascii', 'bin', 'bool', 'bytearray', 'bytes', 'callable', 'chr', 'classmethod', 'compile', 'complex', 'copyright', 'credits', 'delattr', 'dict', 'dir', 'divmod', 'enumerate', 'eval', 'exec', 'filter', 'float', 'format', 'frozenset', 'get_ipython', 'getattr', 'globals', 'hasattr', 'hash', 'help', 'hex', 'id', 'input', 'int', 'isinstance', 'issubclass', 'iter', 'len', 'license', 'list', 'locals', 'map', 'max', 'memoryview', 'min', 'next', 'object', 'oct', 'open', 'ord', 'pow', 'print', 'property', 'range', 'repr', 'reversed', 'round', 'set', 'setattr', 'slice', 'sorted', 'staticmethod', 'str', 'sum', 'super', 'tuple', 'type', 'vars', 'zip']\n"
     ]
    }
   ],
   "source": [
    "print(dir(__builtins__))"
   ]
  },
  {
   "cell_type": "markdown",
   "metadata": {},
   "source": [
    "## ``import``\n",
    "Python provides a lot more functions, constants, etc. than what it provides from the start. Instead of providing these by default they are kept in the **standard library.** We can gain access to them by **importing** the libraries. \n",
    "\n",
    "An imperfect analogy is checking books out from the library. At our home we have our own bookshelf of books always at our fingertips. But sometimes we need a book that we don't have by default, so we go to the library and check out another book which is then added to our library. An important library is the [``math`` library](https://docs.python.org/3/library/math.html) that provides us mathematical functions (such as the cosine function) and constants (such as $\\pi$)."
   ]
  },
  {
   "cell_type": "code",
   "execution_count": 113,
   "metadata": {},
   "outputs": [
    {
     "data": {
      "text/plain": [
       "['__doc__',\n",
       " '__file__',\n",
       " '__loader__',\n",
       " '__name__',\n",
       " '__package__',\n",
       " '__spec__',\n",
       " 'acos',\n",
       " 'acosh',\n",
       " 'asin',\n",
       " 'asinh',\n",
       " 'atan',\n",
       " 'atan2',\n",
       " 'atanh',\n",
       " 'ceil',\n",
       " 'copysign',\n",
       " 'cos',\n",
       " 'cosh',\n",
       " 'degrees',\n",
       " 'e',\n",
       " 'erf',\n",
       " 'erfc',\n",
       " 'exp',\n",
       " 'expm1',\n",
       " 'fabs',\n",
       " 'factorial',\n",
       " 'floor',\n",
       " 'fmod',\n",
       " 'frexp',\n",
       " 'fsum',\n",
       " 'gamma',\n",
       " 'gcd',\n",
       " 'hypot',\n",
       " 'inf',\n",
       " 'isclose',\n",
       " 'isfinite',\n",
       " 'isinf',\n",
       " 'isnan',\n",
       " 'ldexp',\n",
       " 'lgamma',\n",
       " 'log',\n",
       " 'log10',\n",
       " 'log1p',\n",
       " 'log2',\n",
       " 'modf',\n",
       " 'nan',\n",
       " 'pi',\n",
       " 'pow',\n",
       " 'radians',\n",
       " 'sin',\n",
       " 'sinh',\n",
       " 'sqrt',\n",
       " 'tan',\n",
       " 'tanh',\n",
       " 'trunc']"
      ]
     },
     "execution_count": 113,
     "metadata": {},
     "output_type": "execute_result"
    }
   ],
   "source": [
    "import math\n",
    "dir(math)"
   ]
  },
  {
   "cell_type": "markdown",
   "metadata": {},
   "source": [
    "We can now access the names in the math library with the **dot notation**:"
   ]
  },
  {
   "cell_type": "code",
   "execution_count": 114,
   "metadata": {},
   "outputs": [
    {
     "data": {
      "text/plain": [
       "1.0"
      ]
     },
     "execution_count": 114,
     "metadata": {},
     "output_type": "execute_result"
    }
   ],
   "source": [
    "math.sin(math.pi/2)"
   ]
  },
  {
   "cell_type": "markdown",
   "metadata": {},
   "source": [
    "## Exercise\n",
    "\n",
    "Use the [``random``](https://docs.python.org/3/library/random.html) to generate a uniform random integer $x$ such that $20 \\le x \\le 50$ with equal probability. The function should take no arguments.\n",
    "\n",
    "**Hint:** Read the documentation linked to above."
   ]
  },
  {
   "cell_type": "code",
   "execution_count": 120,
   "metadata": {},
   "outputs": [
    {
     "data": {
      "text/plain": [
       "'Your function seems to be correct'"
      ]
     },
     "execution_count": 120,
     "metadata": {},
     "output_type": "execute_result"
    }
   ],
   "source": [
    "def get_random_integer():\n",
    "    return random.randint(20, 50)\n",
    "test_random_integer(get_random_integer)"
   ]
  },
  {
   "cell_type": "markdown",
   "metadata": {},
   "source": [
    "### Third-party packages\n",
    "\n",
    "Python comes with a lot, but it doesn't come with everything so people create third-party packages such as [numpy](http://www.numpy.org/), [scikit-learn](http://scikit-learn.org/stable/), and [Pandas](http://pandas.pydata.org/). These do not come with Python and so have to be **installed** separately. The Python package index (pypi) is a central listing of third-party packages. In a somewhat circular fashion, Python provides a third-party package [(pip)](https://pypi.python.org/pypi/pip) to help install third-party packages.\n",
    "\n",
    "We are using the [Anaconda Python](https://docs.continuum.io/) distribution which comes with many important scientific third-party packages pre-installed. Anaconda also has its own [package index](https://docs.continuum.io/anaconda/pkg-docs) and its own function [``conda``](http://conda.pydata.org/docs/intro.html) for installing packages."
   ]
  },
  {
   "cell_type": "markdown",
   "metadata": {},
   "source": [
    "## Exercise\n",
    "\n",
    "1. Use ``pip`` to install [nibabel](http://nipy.org/nibabel/), a Python package for neuroimaging.\n",
    "1. Use ``conda`` to install [ply](http://www.dabeaz.com/ply/)\n",
    "\n",
    "**Hint:** if you start a code line with an ``!``, the notebook will interpret this as a system command. Otherwise you can do this problem in the bash shell (or convert a code cell to a bash shell with %%bash)\n",
    "\n",
    "**Hint:** conda prompts you for whether you want to continue with the install; pip does not. You can bypass the interactive prompt (which doesn't work in the notebook anyway) by appending ``-y`` to the command.\n",
    "\n"
   ]
  },
  {
   "cell_type": "code",
   "execution_count": 121,
   "metadata": {},
   "outputs": [
    {
     "name": "stdout",
     "output_type": "stream",
     "text": [
      "Requirement already satisfied: nibabel in /opt/conda/lib/python3.5/site-packages\r\n"
     ]
    }
   ],
   "source": [
    "!pip install nibabel"
   ]
  },
  {
   "cell_type": "code",
   "execution_count": 122,
   "metadata": {},
   "outputs": [
    {
     "name": "stdout",
     "output_type": "stream",
     "text": [
      "Requirement already satisfied: nibabel in /opt/conda/lib/python3.5/site-packages\n"
     ]
    }
   ],
   "source": [
    "%%bash\n",
    "pip install nibabel"
   ]
  },
  {
   "cell_type": "code",
   "execution_count": 123,
   "metadata": {},
   "outputs": [
    {
     "data": {
      "text/plain": [
       "'It looks like nibabel is installed properly'"
      ]
     },
     "execution_count": 123,
     "metadata": {},
     "output_type": "execute_result"
    }
   ],
   "source": [
    "test_nibabel()"
   ]
  },
  {
   "cell_type": "code",
   "execution_count": null,
   "metadata": {},
   "outputs": [],
   "source": [
    "%%bash\n",
    "conda install ply -y"
   ]
  },
  {
   "cell_type": "code",
   "execution_count": 128,
   "metadata": {},
   "outputs": [
    {
     "data": {
      "text/plain": [
       "'It looks like ply is installed properly'"
      ]
     },
     "execution_count": 128,
     "metadata": {},
     "output_type": "execute_result"
    }
   ],
   "source": [
    "test_ply()"
   ]
  },
  {
   "cell_type": "markdown",
   "metadata": {},
   "source": [
    "## Standard Python Data Structures (Molecules)\n",
    "\n",
    "In this notebook, we have focused on two types of data: numbers and strings. Technically, a string is an example of a Python data structure: a collection of basic data (atoms), in this case, a character. But since Python does not have a single character data type, strings end up being a bit of a hybrid. Other data structures that come with Python include:\n",
    "\n",
    "* [lists](https://docs.python.org/3/library/stdtypes.html#list)\n",
    "* [tuples](https://docs.python.org/3/library/stdtypes.html#tuple)\n",
    "* [sets](https://docs.python.org/3/library/stdtypes.html#set-types-set-frozenset)\n",
    "* [dictionaries](https://docs.python.org/3/library/stdtypes.html#mapping-types-dict)\n",
    "\n",
    "Of these, lists are the work horse and dictionaries are the most powerful of the Python data structures. Since we will run across each of these data structures as we work with third-party data structures (e.g. Numpy arrays and Pandas DataFrames), we will quickly go over the syntax and basic nature of each of them.\n",
    "\n",
    "### Lists\n",
    "\n",
    "* Like strings, lists are **ordered**: there is a first, second, third, etc. elements in the list.\n",
    "* Lists are **heterogeneous**: I can have a variety of types of objects in a given list.\n",
    "* lists are **mutable**: lists can change; I can add, delete, and modify elements of the list\n",
    "* Like strings, lists are indexed with square brackets\n",
    "* Lists are defined with square brackets:\n",
    "```Python\n",
    "this_is_a_list = [1, \"one\", [1,2]]\n",
    "```\n",
    "\n",
    "### Tuples\n",
    "\n",
    "#### The key idea of a tuple is that they are *immutable*. Once defined, a tuple cannot be changed.\n",
    "* Like lists, tuples are **ordered**: there is a first, second, third, etc. elements in the list.\n",
    "* Like lists, tuples are **heterogeneous**: I can have a variety of types of objects in a given list.\n",
    "* Like lists, tuples are indexed with square brackets\n",
    "* Tuples are defined with parentheses:\n",
    "```Python\n",
    "this_is_a_tuple = (1, \"one\", [1,2])\n",
    "```\n",
    "\n",
    "### Sets\n",
    "#### The key idea of a set is that the elements of a set are *unique*: There can only be instance of a given value in a set\n",
    "\n",
    "* Sets are **unordered**\n",
    "* Sets are **heterogeneous**\n",
    "* Sets **cannot be indexed**\n",
    "* Sets are defined with curly brackets\n",
    "```Python\n",
    "this_is_a_set = {1, 2, 3, 3} = {1, 2, 3}\n",
    "```\n",
    "\n",
    "### Dictionaries\n",
    "#### A dictionary is a *mapping* from a *key* to a *value*\n",
    "\n",
    "* Dictionaries are **unordered**\n",
    "* Dictionaries are **heterogeneous**\n",
    "* Dictionaries can be \"indexed\" with the **keys**\n",
    "* Dictionaries are defined with curly brackets surrounding key-value pairs\n",
    "    * Key-value pairs are defined with a colon: ``:``, as in \"This is my key\":\"This is my \n",
    "    \n",
    "```Python\n",
    "this_is_a_dictionary = {1:\"one\", \"two\":2, 3:(1,2,3)}\n",
    "```"
   ]
  },
  {
   "cell_type": "markdown",
   "metadata": {},
   "source": [
    "## Summary\n",
    "\n",
    "In this notebook we explored data and functions. While not explicit, what we have demonstrated are all the components of a computer program:\n",
    "\n",
    "* Data:\n",
    "* Input:\n",
    "    *  Get data from the keyboard, a file, or some other device.\n",
    "* Output:\n",
    "    *  Display data on the screen or send data to a file or other device.\n",
    "* Manipulation:\n",
    "    *  For example, perform basic mathematical operations like addition and multiplication.\n",
    "* Conditional execution:\n",
    "    *    Check for certain conditions and execute the appropriate sequence of statements.\n",
    "* Repetition:\n",
    "    *  Perform some action repeatedly, usually with some variation. (From *How To Think Like a Computer Scientist: Learning with Python*)"
   ]
  },
  {
   "cell_type": "markdown",
   "metadata": {},
   "source": [
    "<a rel=\"license\" href=\"http://creativecommons.org/licenses/by-nc-sa/4.0/\"><img alt=\"Creative Commons License\" style=\"border-width:0\" src=\"https://i.creativecommons.org/l/by-nc-sa/4.0/88x31.png\" /></a><br /><span xmlns:dct=\"http://purl.org/dc/terms/\" property=\"dct:title\">University of Uah Data Science for Health</span> by <span xmlns:cc=\"http://creativecommons.org/ns#\" property=\"cc:attributionName\">Brian E. Chapman</span> is licensed under a <a rel=\"license\" href=\"http://creativecommons.org/licenses/by-nc-sa/4.0/\">Creative Commons Attribution-NonCommercial-ShareAlike 4.0 International License</a>.|"
   ]
  },
  {
   "cell_type": "code",
   "execution_count": null,
   "metadata": {
    "collapsed": true
   },
   "outputs": [],
   "source": []
  }
 ],
 "metadata": {
  "kernelspec": {
   "display_name": "Python 3",
   "language": "python",
   "name": "python3"
  },
  "language_info": {
   "codemirror_mode": {
    "name": "ipython",
    "version": 3
   },
   "file_extension": ".py",
   "mimetype": "text/x-python",
   "name": "python",
   "nbconvert_exporter": "python",
   "pygments_lexer": "ipython3",
   "version": "3.5.2"
  },
  "widgets": {
   "state": {},
   "version": "1.1.2"
  }
 },
 "nbformat": 4,
 "nbformat_minor": 1
}

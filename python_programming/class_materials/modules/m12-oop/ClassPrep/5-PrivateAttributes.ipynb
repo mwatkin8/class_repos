{
 "cells": [
  {
   "cell_type": "code",
   "execution_count": null,
   "metadata": {},
   "outputs": [],
   "source": [
    "from IPython.display import YouTubeVideo\n",
    "\n",
    "YouTubeVideo(\"oVh4Tu0v-aM\")"
   ]
  },
  {
   "cell_type": "markdown",
   "metadata": {},
   "source": [
    "# Private attribute and methods\n",
    "* Following the principle of encapsulation, you want the user to access attributes via class methods rather than accessing them directly. \n",
    "* You can \"force\" this by making attributes *private.* \n",
    "* Private attributes are created by prepending two underscores to the name (e.g. self.\\_\\_weight) and no more than one appended underscore"
   ]
  },
  {
   "cell_type": "code",
   "execution_count": null,
   "metadata": {},
   "outputs": [],
   "source": [
    "class A(object):\n",
    "    def __init__(self,num=1):\n",
    "        self._num = num\n",
    "        \n",
    "class B(A):\n",
    "    def __init__(self,num=1,name='brian'):\n",
    "        super(B,self).__init__()\n",
    "        self.__name = name\n",
    "    def getName(self):\n",
    "        return self.__name\n",
    "        "
   ]
  },
  {
   "cell_type": "code",
   "execution_count": null,
   "metadata": {},
   "outputs": [],
   "source": [
    "# create an instance of A\n",
    "a = A()\n",
    "b = B()\n",
    "print (a._num)"
   ]
  },
  {
   "cell_type": "markdown",
   "metadata": {},
   "source": [
    "* **\\_num** is a normal attribute and is thus accessible directly."
   ]
  },
  {
   "cell_type": "code",
   "execution_count": null,
   "metadata": {},
   "outputs": [],
   "source": [
    "print (b._num)\n",
    "print (b.__name)"
   ]
  },
  {
   "cell_type": "code",
   "execution_count": null,
   "metadata": {},
   "outputs": [],
   "source": [
    "print (b.getName())\n"
   ]
  },
  {
   "cell_type": "markdown",
   "metadata": {},
   "source": [
    "* **\\_\\_name** isn't actually *private*; I can access it if I know how.\n",
    "* Python is using name mangling to *obscure* the name.\n",
    "* \\_CLASSNAME+ATTRIBUTENAME"
   ]
  },
  {
   "cell_type": "code",
   "execution_count": null,
   "metadata": {},
   "outputs": [],
   "source": [
    "print (b._B__name)"
   ]
  },
  {
   "cell_type": "code",
   "execution_count": null,
   "metadata": {},
   "outputs": [],
   "source": [
    "class Person(object): \n",
    "    def __init__(self,firstName=None,lastName=None,\n",
    "                 middleName='',sex='F',age=0):\n",
    "        self.__sex = sex.upper()\n",
    "        if firstName == None:\n",
    "            if self.__sex == 'F':\n",
    "                self.firstName = 'Jane'\n",
    "            else:\n",
    "                self.firstName = 'John'\n",
    "        else:\n",
    "            self.firstName = firstName\n",
    "        if lastName == None:\n",
    "            self.lastName = 'Doe'\n",
    "        else:\n",
    "            self.lastName = lastName\n",
    "            \n",
    "        self.middleName = middleName\n",
    "        self.age = age\n",
    " \n",
    "    def getFullName(self):\n",
    "        name = \"%s %s %s\"%(self.firstName,\n",
    "                           self.middleName,\n",
    "                           self.lastName)\n",
    "        return name\n",
    "    \n",
    "        \n",
    "    def __str__(self):\n",
    "        \"\"\"Get the individual characteristics in a string\"\"\"\n",
    "        txt = \"\"\"First Name=%s\\n\"\"\"%self.firstName\n",
    "        txt += \"\"\"Middle Name=%s\\n\"\"\"%self.middleName\n",
    "        txt +=\"\"\"Last Name=%s\\n\"\"\"%self.lastName\n",
    "        txt += \"\"\"Sex=%s\\n\"\"\"%self.__sex\n",
    "        txt += \"Age=%d\\n\"%self.age\n",
    "        return txt\n",
    "    \n",
    "    def __repr__(self):\n",
    "        return \"\"\"%d: %s\"\"\"%(self.age,self.lastName)\n",
    "    def __lt__(self,p):\n",
    "        return self.age < p.age\n",
    "    def __le__(self,p):\n",
    "        return self.age <= p.age\n",
    "    def __gt__(self,p):\n",
    "        return self.age > p.age\n",
    "    def __ge__(self,p):\n",
    "        return self.age >= p.age\n",
    "    def __eq__(self,p):\n",
    "        return self.age == p.age\n",
    "    def __ne__(self,p):\n",
    "        return self.age != p.age"
   ]
  },
  {
   "cell_type": "code",
   "execution_count": null,
   "metadata": {},
   "outputs": [],
   "source": [
    "b = Patient()\n",
    "print(b)"
   ]
  },
  {
   "cell_type": "code",
   "execution_count": null,
   "metadata": {},
   "outputs": [],
   "source": [
    "class Person3(Person): \n",
    "    def __init__(self,firstName=None,lastName=None,\n",
    "                 middleName='',sex='F',age=0):\n",
    "        super(Person3,self).__init__(firstName=firstName, lastName=lastName, \n",
    "                                     middleName=middleName, sex=sex, age=age)\n",
    "        \n",
    "    def getCharacteristics(self):\n",
    "        return self.__str__()\n",
    "    def __repr__(self):\n",
    "        \"\"\"Get the individual characteristics in a string\"\"\"\n",
    "        txt = \"\"\"|%s,%s,%s,%s,%d|\"\"\"%(self.lastName,self.firstName,self.middleName,\n",
    "                                    self.sex,self.age)\n",
    "        return txt\n",
    "    def __str__(self):\n",
    "        \"\"\"Get the individual characteristics in a string\"\"\"\n",
    "        txt = \"\"\"First Name=%s\\n\"\"\"%self.firstName\n",
    "        txt += \"\"\"Middle Name=%s\\n\"\"\"%self.middleName\n",
    "        txt +=\"\"\"Last Name=%s\\n\"\"\"%self.lastName\n",
    "        txt += \"\"\"Sex=%s\\n\"\"\"%self.sex\n",
    "        txt += \"Age=%d\\n\"%self.age\n",
    "        return txt"
   ]
  },
  {
   "cell_type": "code",
   "execution_count": null,
   "metadata": {},
   "outputs": [],
   "source": [
    "class Patient(Person3):\n",
    "    def __init__(self,firstName=None,lastName=None,\n",
    "                 middleName='',sex='F',age=0,PCP=None,\n",
    "                 chiefComplaint=None, MRN=0):\n",
    "        super(Patient,self).__init__(firstName=firstName,lastName=lastName,\n",
    "                        middleName=middleName,sex=sex,age=age)\n",
    "        self.PCP = PCP\n",
    "        self.chiefComplaint = chiefComplaint\n",
    "        self.MRN = MRN\n",
    "    def __repr__(self):\n",
    "        txt = super(Patient,self).__repr__()\n",
    "        txt += \"%s, %s, %s\"%(self.PCP,self.chiefComplaint,self.MRN)\n",
    "        return txt\n",
    "    def __str__(self):\n",
    "        \"\"\"Get the patient characteristics in a string\"\"\"\n",
    "        txt = super(Patient,self).__str__()\n",
    "        txt += \"PCP=%s\\n\"%self.PCP\n",
    "        txt += \"Chief Complaiant=%s\\n\"%self.chiefComplaint\n",
    "        txt += \"MRN=%s\\n\"%self.MRN\n",
    "        return txt"
   ]
  },
  {
   "cell_type": "code",
   "execution_count": null,
   "metadata": {},
   "outputs": [],
   "source": []
  },
  {
   "cell_type": "markdown",
   "metadata": {},
   "source": [
    "## Reference Materials\n",
    "\n",
    "* [Listing of many special methods](https://docs.python.org/3.5/reference/datamodel.html) \n",
    "* [Emulating Numeric Types](https://docs.python.org/3.5/reference/datamodel.html#emulating-numeric-types)\n",
    "\n",
    "\n"
   ]
  },
  {
   "cell_type": "code",
   "execution_count": null,
   "metadata": {},
   "outputs": [],
   "source": []
  }
 ],
 "metadata": {
  "kernelspec": {
   "display_name": "Python 3",
   "language": "python",
   "name": "python3"
  },
  "language_info": {
   "codemirror_mode": {
    "name": "ipython",
    "version": 3
   },
   "file_extension": ".py",
   "mimetype": "text/x-python",
   "name": "python",
   "nbconvert_exporter": "python",
   "pygments_lexer": "ipython3",
   "version": "3.5.2"
  }
 },
 "nbformat": 4,
 "nbformat_minor": 0
}

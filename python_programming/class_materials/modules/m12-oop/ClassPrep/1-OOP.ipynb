{
 "cells": [
  {
   "cell_type": "code",
   "execution_count": null,
   "metadata": {},
   "outputs": [],
   "source": [
    "from IPython.display import YouTubeVideo\n",
    "\n",
    "YouTubeVideo(\"3U24IQOoxho\")"
   ]
  },
  {
   "cell_type": "markdown",
   "metadata": {
    "internals": {
     "slide_helper": "subslide_end",
     "slide_type": "subslide"
    },
    "slide_helper": "subslide_end",
    "slideshow": {
     "slide_type": "slide"
    }
   },
   "source": [
    "# Abstraction with Classes"
   ]
  },
  {
   "cell_type": "markdown",
   "metadata": {
    "internals": {
     "slide_helper": "subslide_end",
     "slide_type": "subslide"
    },
    "slide_helper": "subslide_end",
    "slideshow": {
     "slide_type": "subslide"
    }
   },
   "source": [
    "## A Greek View of Object Oriented Programming\n",
    "* Python was the name of the dragon killed by Apollo at Delphi.\n",
    "* Thus we should look to the ancient Greeks for guidance. \n",
    "* After killing Python, Apollo built a temple at Delphi. The temple was graced with two famous inscriptions:\n",
    "    * \"Nothing in Excess.\"\n",
    "\t* \"Know Thyself.\""
   ]
  },
  {
   "cell_type": "markdown",
   "metadata": {
    "internals": {
     "slide_helper": "subslide_end",
     "slide_type": "subslide"
    },
    "slide_helper": "subslide_end",
    "slideshow": {
     "slide_type": "subslide"
    }
   },
   "source": [
    "## *Nothing in Excess*\n",
    "### Python takes a pragmatic approach to OOP: \n",
    "* OOP programming is good for a lot of things, like computer graphics. \n",
    "* But for many scientific programs,  traditional procedural programming may a better fit. \n",
    "* Python lets you writes programs that best fit the nature of the problem. \n",
    "* Classes can be used when needed, but not in excess.\n",
    "    * Often times a dictionary will be just fine\n",
    "    \n",
    "### Example [Functional Python Programming](https://www.packtpub.com/application-development/functional-python-programming)"
   ]
  },
  {
   "cell_type": "markdown",
   "metadata": {
    "internals": {
     "slide_helper": "subslide_end",
     "slide_type": "subslide"
    },
    "slide_helper": "subslide_end",
    "slideshow": {
     "slide_type": "subslide"
    }
   },
   "source": [
    "## Know Thyself: OOP According to Mark Thomason\n",
    "<img src=\"mark_thomason.jpg\" alt=\"Mark Thomason\" style=\"height:200px;\">\n",
    "### \"An object is an entity that knows itself.\" \n",
    "* The object knows how to do all the basic functions associated with it.\n",
    "* A list object knows \n",
    "    * how to print itself\n",
    "    * how to insert an object into itself\n",
    "    * how to sort its components, etc. \n",
    "* When we say that the object knows how to do something, we mean it has a **METHOD** that performs that function.\n",
    "\n",
    "## Another way we could put it\n",
    "\n",
    "### Objects allows to wrap together data and all the relevant functions for interacting with those data"
   ]
  },
  {
   "cell_type": "markdown",
   "metadata": {
    "internals": {
     "slide_helper": "subslide_end",
     "slide_type": "subslide"
    },
    "slide_helper": "subslide_end",
    "slideshow": {
     "slide_type": "subslide"
    }
   },
   "source": [
    "## Other (Sometimes Greek) Characteristics\n",
    "### *Polymorphism* \n",
    "#### (From the Greek \"having multiple forms\"): \n",
    "\n",
    "* Allows writing programs with similar form regardless of underlying representation/nature of the object.\n",
    "* \"Polymorphism enables you to call the methods of an object without knowing its class (type of object).\"\n",
    "    * '+': 'a'+'b', 1+2\n",
    "\t* len([1,2,3]),len('abc'),len((3,2,1))"
   ]
  },
  {
   "cell_type": "markdown",
   "metadata": {
    "internals": {
     "slide_helper": "subslide_end",
     "slide_type": "subslide"
    },
    "slide_helper": "slide_end",
    "slideshow": {
     "slide_type": "subslide"
    }
   },
   "source": [
    "## Other (Not Necessarily Greek) Characteristics\n",
    "### *Encapsulation*\n",
    "\n",
    "> *Encapsulation* is the principle of hiding unnecessary details from the rest of the world....\n",
    "Encapsulation enables you to use the object without worrying about how its constructed. (Magnus Lie Hetland, *Beginning Python: From Novice to Professional)\n",
    "\n",
    "### *Inheritance* \n",
    "#### Groups of objects have similar characteristics\n",
    "\n",
    "1. Define characteristics for the most general group\n",
    "1. Inherit general characteristics and add/modify\n",
    "* 2D Shape: area, perimeter\n",
    "* Circle: circumference\n",
    "* Polygon: number vertices \n",
    "* Person&#x2192;Patient&#x2192;Inpatient"
   ]
  },
  {
   "cell_type": "markdown",
   "metadata": {
    "internals": {
     "slide_helper": "subslide_end",
     "slide_type": "subslide"
    },
    "slide_helper": "subslide_end",
    "slideshow": {
     "slide_type": "slide"
    }
   },
   "source": [
    "# Introduction to Object Oriented Programming\n",
    "* There are a variety of programming paradigms (see [Wikipeda](http://en.wikipedia.org/wiki/Programming_paradigm))\n",
    "* We have largely been working in an *imperative* paradigm\n",
    "* But we've also been making use of Python's underlying *object oriented* nature. \n",
    "\n",
    "* Python is not a *PURE* language.\n",
    "    * Python facilitates but does not require a variety of programming paradigms\n",
    "    * Python does not require object oriented programming. \n",
    "\n",
    "## **All** intrinsic types in Python are objects.\n",
    "* We have been using objects, such as lists and dictionaries, throughout our previous programs\n",
    "* Objects have\n",
    "    * Attributes: \"Adjectives\" (*Beginning Python,* p. 157), characteristics\n",
    "    * Methods: \"Verbs\" (*Beginning Python,* p. 157) function calls\n",
    "\n"
   ]
  },
  {
   "cell_type": "markdown",
   "metadata": {},
   "source": [
    "### An integer is an object"
   ]
  },
  {
   "cell_type": "code",
   "execution_count": null,
   "metadata": {
    "internals": {
     "slide_helper": "subslide_end",
     "slide_type": "subslide"
    },
    "slide_helper": "subslide_end",
    "slideshow": {
     "slide_type": "subslide"
    }
   },
   "outputs": [],
   "source": [
    "a_number = 1\n",
    "help(a_number)"
   ]
  },
  {
   "cell_type": "markdown",
   "metadata": {},
   "source": [
    "### A string is an object"
   ]
  },
  {
   "cell_type": "code",
   "execution_count": null,
   "metadata": {
    "internals": {
     "slide_helper": "subslide_end",
     "slide_type": "subslide"
    },
    "slide_helper": "subslide_end",
    "slideshow": {
     "slide_type": "subslide"
    }
   },
   "outputs": [],
   "source": [
    "a_string = \"my name\"\n",
    "a_string.__"
   ]
  },
  {
   "cell_type": "code",
   "execution_count": null,
   "metadata": {},
   "outputs": [],
   "source": []
  }
 ],
 "metadata": {
  "kernelspec": {
   "display_name": "Python 3",
   "language": "python",
   "name": "python3"
  },
  "language_info": {
   "codemirror_mode": {
    "name": "ipython",
    "version": 3
   },
   "file_extension": ".py",
   "mimetype": "text/x-python",
   "name": "python",
   "nbconvert_exporter": "python",
   "pygments_lexer": "ipython3",
   "version": "3.5.2"
  }
 },
 "nbformat": 4,
 "nbformat_minor": 1
}

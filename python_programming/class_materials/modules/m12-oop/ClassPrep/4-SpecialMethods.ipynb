{
 "cells": [
  {
   "cell_type": "code",
   "execution_count": null,
   "metadata": {},
   "outputs": [],
   "source": [
    "from IPython.display import YouTubeVideo\n",
    "\n",
    "YouTubeVideo(\"2XPkDvpBMPU\")"
   ]
  },
  {
   "cell_type": "markdown",
   "metadata": {},
   "source": [
    "# Object Oriented Programming\n",
    "## Special Methods"
   ]
  },
  {
   "cell_type": "markdown",
   "metadata": {},
   "source": [
    "## Declarative Knowledge\n",
    "* Understand how Python uses magic methods to define common task across objects\n",
    "    * What does it mean to print an object?\n",
    "    * What does it mean to compare an object?\n",
    "    \n",
    "## Procedural Knowledge\n",
    "* Understand how to define meaningful magic (special) methods for objects"
   ]
  },
  {
   "cell_type": "markdown",
   "metadata": {},
   "source": [
    "## Special (Magic) Methods"
   ]
  },
  {
   "cell_type": "markdown",
   "metadata": {},
   "source": [
    "> A class can implement certain operations that are invoked by special syntax (such as arithmetic operations or subscripting and slicing) by defining methods with special names. **This is Python's approach to operator overloading, allowing classes to define their own behavior with respect to language operators.** ([Python Language Reference](http://docs.python.org/3/reference/datamodel.html#special-method-names))\n",
    "\n",
    "* This is how **polymorphism** is achieved in Python."
   ]
  },
  {
   "cell_type": "markdown",
   "metadata": {},
   "source": [
    "### What are some of the special methods?\n",
    "* **``__init__`` ** Constructor\n",
    "* **``__str__`` ** Defines how you print an object\n",
    "* **``__lt__`` ** defines less than operator (also le, eq, ne, gt, ge). \n",
    "    "
   ]
  },
  {
   "cell_type": "markdown",
   "metadata": {},
   "source": [
    "In learning how to write programs to solve your problems, you always need to keep in mind your process of **abstraction.** This is relevant for defining the magic methods. "
   ]
  },
  {
   "cell_type": "markdown",
   "metadata": {},
   "source": [
    "### [``__str__``](https://docs.python.org/3/reference/datamodel.html#object.__str__)  and [``__repr__``](https://docs.python.org/3/reference/datamodel.html#object.__repr__): Design how to *show* an object\n",
    "\n",
    "#### ``__repr__``: From the Python Documentation\n",
    "\n",
    ">Called by the repr() built-in function to compute the “official” string representation of an object. If at all possible, this should look like a valid Python expression that could be used to recreate an object with the same value (given an appropriate environment). If this is not possible, a string of the form <...some useful description...> should be returned. The return value must be a string object. If a class defines ``__repr__()`` but not ``__str__()``, then ``__repr__()`` is also used when an “informal” string representation of instances of that class is required.\n",
    ">\n",
    "This is typically used for debugging, so it is important that the representation is information-rich and unambiguous.\n",
    "\n",
    "#### ``__str__``: From the Python Documentation\n",
    "\n",
    ">This method differs from ``object.__repr__()`` in that there is no expectation that ``__str__()`` return a valid Python expression: a more convenient or concise representation can be used.\n",
    "\n",
    "Deciding how to *show* an integer might be relatively simple, but think about a float? The float might consist of an infinite decimal expansion (like $\\pi$), or a repeating decimal expansion (like $\\frac{1}{3}$) or a finite decimal expansion (like $\\frac{5}{4}$). How do I choose how many decimal points to show?\n",
    "\n",
    "In more complex objects, the choice of how to display an object can be, well, more complicated. \n",
    "* Am I likely to have a lot of the objects in a collection where I want to be able to appreciate the objects together?\n",
    "    * If yes, then perhaps I need to create a very simple *show* of the object\n",
    "* If I'm likely to be evaluating the objects in isolation, can I provide a more detailed view?"
   ]
  },
  {
   "cell_type": "markdown",
   "metadata": {},
   "source": [
    "## How would you compare persons?\n",
    "* What if we compared people by age\n",
    "  "
   ]
  },
  {
   "cell_type": "code",
   "execution_count": null,
   "metadata": {},
   "outputs": [],
   "source": [
    "import dateutil\n",
    "import datetime\n",
    "class Person(object): \n",
    "    def __init__(self,first_name=None,last_name=None,\n",
    "                 middle_name='',sex='F', dob=None, **kwargs):\n",
    "        self.sex = sex\n",
    "        self.first_name = first_name\n",
    "        self.middle_name = middle_name\n",
    "        self.last_name = last_name\n",
    "        if dob == None:\n",
    "            self.__dob = None\n",
    "        elif isinstance(dob,str):\n",
    "            try:\n",
    "                self.__dob = dateutil.parser.parse(dob)\n",
    "            except Exception as error:\n",
    "                print(error)\n",
    "                self.__dob = None\n",
    "        elif isinstance(dob.datetime.date):\n",
    "            self.__dob = dob\n",
    "        else:\n",
    "            raise TypeError(\"Invalid date of birth specification\")\n",
    "        \n",
    "        \n",
    "    @property\n",
    "    def dob(self):\n",
    "        return self.__dob\n",
    "    @property\n",
    "    def age(self):\n",
    "        td = datetime.datetime.now()-self.__dob\n",
    "        return {\"years\":td.days//365, \"months\":td.days%365//30}\n",
    "        \n",
    "    @property\n",
    "    def sex(self):\n",
    "        return self.__sex\n",
    "    @sex.setter\n",
    "    def sex(self, value):\n",
    "        if not isinstance(value,str):\n",
    "            raise TypeError(\"Sex must be a string\")\n",
    "        if not value.upper()[0] in \"MF\":\n",
    "            raise ValueError(\"Sex must be Male or Female\")\n",
    "        self.__sex = value.upper()[0]\n",
    "    @property \n",
    "    def first_name(self):\n",
    "        return self.__first_name\n",
    "    @first_name.setter\n",
    "    def first_name(self, value):\n",
    "        if value == None:\n",
    "            if self.sex == 'F':\n",
    "                value = \"Jane\"\n",
    "            else:\n",
    "                value = \"John\"\n",
    "        if not isinstance(value,str):\n",
    "            raise TypeError(\"first name must be a string\")\n",
    "        self.__first_name = value\n",
    "    @property \n",
    "    def last_name(self):\n",
    "        return self.__last_name\n",
    "    @last_name.setter\n",
    "    def last_name(self, value):\n",
    "        if value == None:\n",
    "            value = \"Doe\"\n",
    "        if not isinstance(value,str):\n",
    "            raise TypeError(\"last name must be a string\")\n",
    "        self.__last_name = value\n",
    "        \n",
    "    @property \n",
    "    def middle_name(self):\n",
    "        return self.__middle_name\n",
    "    @middle_name.setter\n",
    "    def middle_name(self, value):\n",
    "\n",
    "        if not isinstance(value,str):\n",
    "            raise TypeError(\"last name must be a string\")\n",
    "        self.__middle_name = value\n",
    "    def get_full_name(self):\n",
    "        name = \"%s %s %s\"%(self.first_name,\n",
    "                           self.middle_name,\n",
    "                           self.last_name)\n",
    "        return name\n",
    "        \n",
    "    def __repr__(self):\n",
    "        \"\"\"Get the individual characteristics in a string\"\"\"\n",
    "        txt = \"\"\"First Name=%s\\n\"\"\"%self.first_name\n",
    "        txt += \"\"\"Middle Name=%s\\n\"\"\"%self.middle_name\n",
    "        txt +=\"\"\"Last Name=%s\\n\"\"\"%self.last_name\n",
    "        txt += \"\"\"Sex=%s\\n\"\"\"%self.sex\n",
    "        txt += \"Age=%d years, %d months\\n\"%(self.age[\"years\"],\n",
    "                                            self.age[\"months\"])\n",
    "        return txt\n",
    "    \n",
    "    def __str__(self):\n",
    "        return \"\"\"%s %s (Age=%d years, %d months)\"\"\"%(self.first_name,\n",
    "                                                      self.last_name,\n",
    "                                                      self.age[\"years\"],\n",
    "                                                      self.age[\"months\"])\n",
    "    def __lt__(self,p):\n",
    "        return self.dob < p.dob\n",
    "    def __le__(self,p):\n",
    "        return self.dob <= p.dob\n",
    "    def __gt__(self,p):\n",
    "        return self.dob > p.dob\n",
    "    def __ge__(self,p):\n",
    "        return self.dob >= p.dob\n",
    "    def __eq__(self,p):\n",
    "        return self.dob == p.dob\n",
    "    def __ne__(self,p):\n",
    "        return self.dob != p.dob"
   ]
  },
  {
   "cell_type": "code",
   "execution_count": null,
   "metadata": {},
   "outputs": [],
   "source": [
    "MJ = Person(first_name=\"Michael\", last_name=\"Jagger\",\n",
    "            middle_name='Phillip', sex='M', dob=\"July 26, 1943\")\n",
    "PT = Person(first_name=\"Peter\",last_name=\"Townshend\",\n",
    "            middleName=\"Dennis Blandford\",sex='M',dob=\"May 19, 1945\")\n",
    "EC = Person(first_name=\"Exene\",last_name= \"Cervenka\",\n",
    "             sex='F',dob=\"February 1, 1956\")\n",
    "SS = Person(sex='F',first_name=\"Susan\",middle_name=\"Janet\",\n",
    "            dob=\"May 27, 1957\", last_name=\"Ballion\")"
   ]
  },
  {
   "cell_type": "code",
   "execution_count": null,
   "metadata": {},
   "outputs": [],
   "source": [
    "print(MJ)"
   ]
  },
  {
   "cell_type": "code",
   "execution_count": null,
   "metadata": {},
   "outputs": [],
   "source": [
    "MJ"
   ]
  },
  {
   "cell_type": "code",
   "execution_count": null,
   "metadata": {},
   "outputs": [],
   "source": [
    "SS.dob"
   ]
  },
  {
   "cell_type": "code",
   "execution_count": null,
   "metadata": {},
   "outputs": [],
   "source": [
    "repr(MJ)"
   ]
  },
  {
   "cell_type": "code",
   "execution_count": null,
   "metadata": {},
   "outputs": [],
   "source": [
    "print (MJ < PT)\n",
    "print (MJ <= PT)\n",
    "print (MJ > PT)\n",
    "print (MJ >= PT)\n",
    "print (MJ == PT)"
   ]
  },
  {
   "cell_type": "markdown",
   "metadata": {},
   "source": [
    "### What if we wanted to compare by name instead of age?"
   ]
  },
  {
   "cell_type": "markdown",
   "metadata": {},
   "source": [
    "* By inheriting from Person and defining new comparison operators"
   ]
  },
  {
   "cell_type": "code",
   "execution_count": null,
   "metadata": {},
   "outputs": [],
   "source": [
    "class Person2(Person): \n",
    "    def __init__(self,**kwargs):\n",
    "        super(Person2,self).__init__(**kwargs)\n",
    "        \n",
    "    def __lt__(self,p):\n",
    "        return self.last_name+self.first_name+self.middle_name < p.last_name+p.first_name+p.middle_name\n",
    "    def __le__(self,p):\n",
    "        return self.last_name+self.first_name+self.middle_name <= p.last_name+p.first_name+p.middle_name\n",
    "    def __gt__(self,p):\n",
    "        return self.last_name+self.first_name+self.middle_name > p.last_name+p.first_name+p.middle_name\n",
    "    def __ge__(self,p):\n",
    "        return self.last_name+self.first_name+self.middle_name >= p.last_name+p.first_name+p.middle_name\n",
    "    def __eq__(self,p):\n",
    "        return self.last_name+self.first_name+self.middle_name == p.last_name+p.first_name+p.middle_name\n",
    "    def __ne__(self,p):\n",
    "        return self.last_name+self.first_name+self.middle_name != p.last_name+p.first_name+p.middle_name"
   ]
  },
  {
   "cell_type": "markdown",
   "metadata": {},
   "source": [
    "### Key Conceptual Knowledge: \n",
    "\n",
    "* We can refine behavior by \n",
    "    * inherting from a class and \n",
    "    * overriding particular methods with newly defined methods with the same name."
   ]
  },
  {
   "cell_type": "code",
   "execution_count": null,
   "metadata": {},
   "outputs": [],
   "source": [
    "MJ2 = Person2(first_name=\"Michael\", last_name=\"Jagger\",\n",
    "            middle_name='Phillip', sex='M', dob=\"July 26, 1943\")\n",
    "PT2 = Person2(first_name=\"Peter\",last_name=\"Townshend\",\n",
    "            middleName=\"Dennis Blandford\",sex='M',dob=\"May 19, 1945\")\n",
    "EC2 = Person2(first_name=\"Exene\",last_name= \"Cervenka\",\n",
    "             sex='F',dob=\"February 1, 1956\")\n",
    "SS2 = Person2(sex='F',first_name=\"Susan\",middleName=\"Janet\",\n",
    "            dob=\"May 27, 1957\", last_name=\"Ballion\")"
   ]
  },
  {
   "cell_type": "code",
   "execution_count": null,
   "metadata": {},
   "outputs": [],
   "source": [
    "print (MJ2 < PT2)\n",
    "print (MJ2 <= PT2)\n",
    "print (MJ2 > PT2)\n",
    "print (MJ2 >= PT2)\n",
    "print (MJ2 == PT2)"
   ]
  },
  {
   "cell_type": "markdown",
   "metadata": {},
   "source": [
    "### These special methods are evoked in a variety of circmstances, for example sorting a list "
   ]
  },
  {
   "cell_type": "code",
   "execution_count": null,
   "metadata": {},
   "outputs": [],
   "source": [
    "rockStars1 = [SS, MJ,EC,PT]\n",
    "print(\"Original rockStars1 List\")\n",
    "print (rockStars1)"
   ]
  },
  {
   "cell_type": "code",
   "execution_count": null,
   "metadata": {},
   "outputs": [],
   "source": [
    "rockStars1.sort()\n",
    "print(\"Sorted rockStars1 List\")\n",
    "\n",
    "print (rockStars1)\n",
    "print (\"*\"*42)\n",
    "print(\"Original rockStars2 List\")"
   ]
  },
  {
   "cell_type": "code",
   "execution_count": null,
   "metadata": {},
   "outputs": [],
   "source": [
    "rockStars2 = [SS2, MJ2, EC2, PT2]\n",
    "print (rockStars2)\n",
    "print(\"Sorted rockStars2 List\")\n",
    "\n",
    "rockStars2.sort()\n",
    "print (rockStars2)"
   ]
  },
  {
   "cell_type": "code",
   "execution_count": null,
   "metadata": {},
   "outputs": [],
   "source": [
    "for rock_star in rockStars1:\n",
    "    print(rock_star)"
   ]
  },
  {
   "cell_type": "code",
   "execution_count": null,
   "metadata": {},
   "outputs": [],
   "source": [
    "for rock_star in rockStars2:\n",
    "    print(rock_star)"
   ]
  },
  {
   "cell_type": "markdown",
   "metadata": {},
   "source": [
    "## Comment out the `__repr__` and `__str__` method and repeat"
   ]
  },
  {
   "cell_type": "markdown",
   "metadata": {},
   "source": [
    "### Key Conceptual Point: \n",
    "#### Every object has these methods already defined. They are inherited from object.  Key Conceptual Point: Some parent objects have different magic methods defined"
   ]
  },
  {
   "cell_type": "code",
   "execution_count": null,
   "metadata": {},
   "outputs": [],
   "source": []
  }
 ],
 "metadata": {
  "kernelspec": {
   "display_name": "Python 3",
   "language": "python",
   "name": "python3"
  },
  "language_info": {
   "codemirror_mode": {
    "name": "ipython",
    "version": 3
   },
   "file_extension": ".py",
   "mimetype": "text/x-python",
   "name": "python",
   "nbconvert_exporter": "python",
   "pygments_lexer": "ipython3",
   "version": "3.5.2"
  }
 },
 "nbformat": 4,
 "nbformat_minor": 1
}

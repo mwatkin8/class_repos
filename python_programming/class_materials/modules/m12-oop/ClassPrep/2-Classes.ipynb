{
 "cells": [
  {
   "cell_type": "code",
   "execution_count": null,
   "metadata": {},
   "outputs": [],
   "source": [
    "from IPython.display import YouTubeVideo\n",
    "\n",
    "YouTubeVideo(\"GQtArbKdel4\")"
   ]
  },
  {
   "cell_type": "code",
   "execution_count": null,
   "metadata": {},
   "outputs": [],
   "source": [
    "import numbers\n",
    "import math"
   ]
  },
  {
   "cell_type": "markdown",
   "metadata": {
    "internals": {
     "slide_helper": "subslide_end",
     "slide_type": "subslide"
    },
    "slide_helper": "subslide_end",
    "slideshow": {
     "slide_type": "subslide"
    }
   },
   "source": [
    "# Classes\n",
    "\n",
    "* A class is defined with a code block and the keyword **class**. The syntax is:\n",
    "```Python\n",
    "class CLASSNAME(class_to_inherit_from):\n",
    "    CODE_BLOCK\n",
    "```\n",
    "* all classes must inherit from some more basic class. \n",
    "* The most basic class is called **object**"
   ]
  },
  {
   "cell_type": "markdown",
   "metadata": {},
   "source": [
    "## Defining a Point:\n",
    "\n",
    "We are going to start with a very simple class: a 2D point. For this class, we are going to define a single method (function attached to the class), namely a **constructor** (`__init__`). The constructor is called whenever a new **instance** of the class is created.\n",
    "\n",
    "Class methods always have as the first positional argument a variable (by convention named `self`) the refers to the specific instance of the class.\n",
    "\n",
    "**Note:** `self` is just a convention. We could use `this` which is the convention in other languages.\n",
    "\n"
   ]
  },
  {
   "cell_type": "code",
   "execution_count": null,
   "metadata": {},
   "outputs": [],
   "source": [
    "class point(object):\n",
    "    def __init__(self, x=0, y=0):\n",
    "        self.x = x\n",
    "        self.y = y\n"
   ]
  },
  {
   "cell_type": "code",
   "execution_count": null,
   "metadata": {},
   "outputs": [],
   "source": [
    "p = point(5,4)\n",
    "print(p.x, p.y)"
   ]
  },
  {
   "cell_type": "code",
   "execution_count": null,
   "metadata": {},
   "outputs": [],
   "source": [
    "type(p)"
   ]
  },
  {
   "cell_type": "code",
   "execution_count": null,
   "metadata": {},
   "outputs": [],
   "source": [
    "p.x = \"five\"\n",
    "print(p.x, p.y)"
   ]
  },
  {
   "cell_type": "markdown",
   "metadata": {},
   "source": [
    "## Can We Proctect Against Unwanted Changes to our Attributes?\n",
    "### Encapsulation\n",
    "* Make attributes/methods private with a leading `__` (e.g. `__name`)\n",
    "\n",
    "* **\\_\\_name** isn't actually *private*; I can access it if I know how.\n",
    "* Python is using name mangling to *obscure* the name.\n",
    "* \\_CLASSNAME+ATTRIBUTENAME"
   ]
  },
  {
   "cell_type": "code",
   "execution_count": null,
   "metadata": {},
   "outputs": [],
   "source": [
    "class point1(object):\n",
    "    def __init__(self, x=0, y=0):\n",
    "        self.set_x(x)\n",
    "        self.set_y(y)\n",
    "    \n",
    "    def get_x(self):\n",
    "        return self.__x\n",
    "    def set_x(self, x):\n",
    "        if isinstance(x, numbers.Real):\n",
    "            self.__x = x\n",
    "        else:\n",
    "            raise TypeError(\"x must be a real number\")\n",
    "        \n",
    "    def get_y(self):\n",
    "        return self.__y\n",
    "    def set_y(self, y):\n",
    "        if isinstance(y, numbers.Real):\n",
    "            self.__y = y\n",
    "        else:\n",
    "            raise TypeError(\"y must be a real number\")"
   ]
  },
  {
   "cell_type": "code",
   "execution_count": null,
   "metadata": {},
   "outputs": [],
   "source": [
    "p1 = point1(5,3)\n",
    "print(p1.get_x(), p1.get_y())"
   ]
  },
  {
   "cell_type": "code",
   "execution_count": null,
   "metadata": {},
   "outputs": [],
   "source": [
    "print(p1.__x)"
   ]
  },
  {
   "cell_type": "code",
   "execution_count": null,
   "metadata": {},
   "outputs": [],
   "source": [
    "p1.set_x(\"five\")"
   ]
  },
  {
   "cell_type": "markdown",
   "metadata": {},
   "source": [
    "## Properties"
   ]
  },
  {
   "cell_type": "code",
   "execution_count": null,
   "metadata": {},
   "outputs": [],
   "source": [
    "class point2(object):\n",
    "    def __init__(self, x=0, y=0):\n",
    "        self.x = x\n",
    "        self.y = y\n",
    " \n",
    "    @property\n",
    "    def x(self):\n",
    "        return self.__x\n",
    "    @x.setter\n",
    "    def x(self, x):\n",
    "        if isinstance(x, numbers.Real):\n",
    "            self.__x = x\n",
    "        else:\n",
    "            raise TypeError(\"x must be a real number\")\n",
    "    @property    \n",
    "    def y(self):\n",
    "        return self.__y\n",
    "    @y.setter\n",
    "    def y(self, y):\n",
    "        if isinstance(y, numbers.Real):\n",
    "            self.__y = y\n",
    "        else:\n",
    "            raise TypeError(\"y must be a real number\")"
   ]
  },
  {
   "cell_type": "code",
   "execution_count": null,
   "metadata": {},
   "outputs": [],
   "source": [
    "p2 = point2(5,4)\n",
    "p2.x, p2.y"
   ]
  },
  {
   "cell_type": "code",
   "execution_count": null,
   "metadata": {},
   "outputs": [],
   "source": [
    "p2.x = \"five\""
   ]
  },
  {
   "cell_type": "code",
   "execution_count": null,
   "metadata": {},
   "outputs": [],
   "source": [
    "point2(\"five\",4)"
   ]
  },
  {
   "cell_type": "code",
   "execution_count": null,
   "metadata": {},
   "outputs": [],
   "source": [
    "p2.r"
   ]
  },
  {
   "cell_type": "code",
   "execution_count": null,
   "metadata": {},
   "outputs": [],
   "source": [
    "p2.r = 5"
   ]
  },
  {
   "cell_type": "code",
   "execution_count": null,
   "metadata": {},
   "outputs": [],
   "source": [
    "print(p2.r)"
   ]
  },
  {
   "cell_type": "code",
   "execution_count": null,
   "metadata": {},
   "outputs": [],
   "source": [
    "p3 = point2(5,4)\n",
    "print(p3.r)"
   ]
  },
  {
   "cell_type": "code",
   "execution_count": null,
   "metadata": {},
   "outputs": [],
   "source": [
    "p2.x = \"five\""
   ]
  },
  {
   "cell_type": "markdown",
   "metadata": {},
   "source": [
    "## We Can Use Classes to Ensure Data Consistency\n",
    "* Stored vs computed values"
   ]
  },
  {
   "cell_type": "code",
   "execution_count": null,
   "metadata": {},
   "outputs": [],
   "source": [
    "class point3(object):\n",
    "    def __init__(self, x=0, y=0):\n",
    "        self.x = x\n",
    "        self.y = y\n",
    "\n",
    "        \n",
    "    @property\n",
    "    def x(self):\n",
    "        return self.__x\n",
    "    @x.setter\n",
    "    def x(self, x):\n",
    "        if isinstance(x, numbers.Real):\n",
    "            self.__x = x\n",
    "        else:\n",
    "            raise TypeError(\"x must be a real number\")\n",
    "    @property    \n",
    "    def y(self):\n",
    "        return self.__y\n",
    "    @y.setter\n",
    "    def y(self, y):\n",
    "        if isinstance(y, numbers.Real):\n",
    "            self.__y = y\n",
    "        else:\n",
    "            raise TypeError(\"y must be a real number\")\n",
    "    @property\n",
    "    def r(self):\n",
    "        return math.sqrt(self.x**2+self.y**2)\n",
    "    @property\n",
    "    def theta(self):\n",
    "        return math.atan(self.y/self.x)"
   ]
  },
  {
   "cell_type": "code",
   "execution_count": null,
   "metadata": {},
   "outputs": [],
   "source": [
    "p4 = point3(5,4)\n",
    "print(p4.r, p4.theta*180/math.pi)"
   ]
  },
  {
   "cell_type": "code",
   "execution_count": null,
   "metadata": {},
   "outputs": [],
   "source": [
    "p4.r = 8"
   ]
  },
  {
   "cell_type": "code",
   "execution_count": null,
   "metadata": {},
   "outputs": [],
   "source": [
    "YouTubeVideo(\"ZZnz-aKwX8I\")"
   ]
  },
  {
   "cell_type": "markdown",
   "metadata": {
    "internals": {
     "slide_helper": "subslide_end",
     "slide_type": "subslide"
    },
    "slide_helper": "subslide_end",
    "slideshow": {
     "slide_type": "slide"
    }
   },
   "source": [
    "## Defining a Class: Pet Shelter Example"
   ]
  },
  {
   "cell_type": "code",
   "execution_count": null,
   "metadata": {
    "internals": {
     "slide_helper": "subslide_end",
     "slide_type": "subslide"
    },
    "slide_helper": "subslide_end",
    "slideshow": {
     "slide_type": "subslide"
    }
   },
   "outputs": [],
   "source": [
    "\"\"\"This is some code showing how you to define a class\"\"\"\n",
    "import uuid\n",
    "class shelterAnimal(object): # \n",
    "\n",
    "    def __init__(self, \n",
    "                 species = 'dog', \n",
    "                 name = None,\n",
    "                 age=0, \n",
    "                 shelterid=None):\n",
    "        \"\"\"Create an instance of a shelterAnimal.\"\"\"\n",
    "           \n",
    "        # INITIALIZE A BUNCH OF ATTRIBUTES (Adjectives)\n",
    "        self.species = species\n",
    "        self.age = age\n",
    "        self.name = name\n",
    "        if  shelterid == None:\n",
    "            shelterid = uuid.uuid1().int\n",
    "        self.__id = shelterid\n",
    "\n",
    "    @property\n",
    "    def id(self):\n",
    "        return self.__id\n",
    "        \n",
    "    @property\n",
    "    def name(self):\n",
    "        return self.__name\n",
    "    @name.setter\n",
    "    def name(self,name):\n",
    "        if not isinstance(name,str):\n",
    "            raise TypeError(\"name must be a string\")\n",
    "        self.__name=name\n",
    "    @property\n",
    "    def species(self):\n",
    "        return self.__species\n",
    "    @species.setter\n",
    "    def species(self,value):\n",
    "        if not isinstance(value, str):\n",
    "            raise TypeError(\"species must be a string\")\n",
    "        self.__species = value\n",
    "    @property\n",
    "    def age(self):\n",
    "        return self.__age\n",
    "    @age.setter\n",
    "    def age(self, value):\n",
    "        if not isinstance(value, numbers.Real) or value < 0:\n",
    "            raise TypeError(\"age must be a non-negative real number\")\n",
    "        self.__age = value\n",
    "    def greetings(self):\n",
    "        return \"\"\"Hi, my name is %s and I'm a %2.1f-month-old %s. My id is %d.\"\"\"%(self.name,\n",
    "                                                                      self.age,\n",
    "                                                                      self.species,\n",
    "                                                                      self.id     )\n"
   ]
  },
  {
   "cell_type": "code",
   "execution_count": null,
   "metadata": {},
   "outputs": [],
   "source": [
    "dog = shelterAnimal(name=\"Argos\", age=3)"
   ]
  },
  {
   "cell_type": "code",
   "execution_count": null,
   "metadata": {},
   "outputs": [],
   "source": [
    "dog.greetings()"
   ]
  },
  {
   "cell_type": "code",
   "execution_count": null,
   "metadata": {},
   "outputs": [],
   "source": [
    "helios = shelterAnimal(name=\"Helios\", age=4)\n",
    "helios.greetings()"
   ]
  },
  {
   "cell_type": "markdown",
   "metadata": {
    "internals": {
     "slide_helper": "subslide_end",
     "slide_type": "subslide"
    },
    "slide_helper": "subslide_end",
    "slideshow": {
     "slide_type": "subslide"
    }
   },
   "source": [
    "### Add Problems and `adoptionMatch`\n",
    "```Python\n",
    "    def adoptionMatch(self,features):\n",
    "        \"\"\"features is an iterable object containing problems \n",
    "        the adopter is concerned about\"\"\"\n",
    "        for feature in features:\n",
    "            if feature in self.problems:\n",
    "                return False\n",
    "        return True\n",
    "```            \n",
    "\n",
    "#### Note: We use a [class variable](https://docs.python.org/3.6/tutorial/classes.html#class-and-instance-variables)"
   ]
  },
  {
   "cell_type": "code",
   "execution_count": null,
   "metadata": {},
   "outputs": [],
   "source": [
    "\"\"\"This is some code showing how you to define a class\"\"\"\n",
    "class shelterAnimal(object): # \n",
    "    def __init__(self, \n",
    "                 species = 'dog', \n",
    "                 name = None,\n",
    "                 age=0,\n",
    "                 shelterid=None):\n",
    "        \"\"\"Create an instance of a shelterAnimal.\"\"\"\n",
    "           \n",
    "        # INITIALIZE A BUNCH OF ATTRIBUTES (Adjectives)\n",
    "        self.species = species\n",
    "        self.age = age\n",
    "        self.name = name\n",
    "        if  shelterid == None:\n",
    "            shelterid = uuid.uuid1().int\n",
    "        self.__id = shelterid\n",
    "        self.__problems = []\n",
    "\n",
    "    @property\n",
    "    def id(self):\n",
    "        return self.__id\n",
    "        \n",
    "    @property\n",
    "    def name(self):\n",
    "        return self.__name\n",
    "    @name.setter\n",
    "    def name(self,name):\n",
    "        if not isinstance(name,str):\n",
    "            raise TypeError(\"name must be a string\")\n",
    "        self.__name=name\n",
    "    @property\n",
    "    def species(self):\n",
    "        return self.__species\n",
    "    @species.setter\n",
    "    def species(self,value):\n",
    "        if not isinstance(value, str):\n",
    "            raise TypeError(\"species must be a string\")\n",
    "        self.__species = value\n",
    "    @property\n",
    "    def age(self):\n",
    "        return self.__age\n",
    "    @age.setter\n",
    "    def age(self, value):\n",
    "        if not isinstance(value, numbers.Real) or value < 0:\n",
    "            raise TypeError(\"age must be a non-negative real number\")\n",
    "        self.__age = value\n",
    "    def greetings(self):\n",
    "        return \"\"\"Hi, my name is %s and I'm a %2.1f-month-old %s. My id is %d.\"\"\"%(self.name,\n",
    "                                                                      self.age,\n",
    "                                                                      self.species,\n",
    "                                                                      self.id     )\n",
    "\n",
    "    def addProblem(self,problem):\n",
    "        self.__problems.append(problem.lower())\n",
    "    def adoptionMatch(self,features):\n",
    "        \"\"\"features is an iterable object containing problems the adopter is concerned about\"\"\"\n",
    "        for feature in features:\n",
    "            if feature.lower() in self.__problems:\n",
    "                return False\n",
    "        return True"
   ]
  },
  {
   "cell_type": "code",
   "execution_count": null,
   "metadata": {},
   "outputs": [],
   "source": [
    "argos = shelterAnimal(name=\"Argos\", age=3)\n",
    "helios = shelterAnimal(name=\"Helios\", age=3)\n",
    "helios.addProblem(\"Dogs\")\n",
    "helios.addProblem(\"Cats\")\n",
    "helios.adoptionMatch([\"birds\", \"kids\"])"
   ]
  },
  {
   "cell_type": "code",
   "execution_count": null,
   "metadata": {},
   "outputs": [],
   "source": [
    "helios.adoptionMatch([\"DOGS\", \"kids\"])"
   ]
  },
  {
   "cell_type": "markdown",
   "metadata": {},
   "source": [
    "### Nothing stops me from adding attributes...\n",
    "#### ...to an instance"
   ]
  },
  {
   "cell_type": "code",
   "execution_count": null,
   "metadata": {
    "internals": {
     "frag_helper": "fragment_end",
     "frag_number": 22
    },
    "slideshow": {
     "slide_type": "fragment"
    }
   },
   "outputs": [],
   "source": [
    "argos.favorite_food = 'hummus'\n",
    "print (argos.favorite_food)"
   ]
  },
  {
   "cell_type": "code",
   "execution_count": null,
   "metadata": {},
   "outputs": [],
   "source": [
    "print(helios.favorite_food)"
   ]
  },
  {
   "cell_type": "markdown",
   "metadata": {},
   "source": [
    "## Rethinking Age\n",
    "\n",
    "How could we redisgn our `shelterAnimal` class to have a more robust representation of age?"
   ]
  },
  {
   "cell_type": "code",
   "execution_count": null,
   "metadata": {},
   "outputs": [],
   "source": []
  }
 ],
 "metadata": {
  "kernelspec": {
   "display_name": "Python 3",
   "language": "python",
   "name": "python3"
  },
  "language_info": {
   "codemirror_mode": {
    "name": "ipython",
    "version": 3
   },
   "file_extension": ".py",
   "mimetype": "text/x-python",
   "name": "python",
   "nbconvert_exporter": "python",
   "pygments_lexer": "ipython3",
   "version": "3.5.2"
  }
 },
 "nbformat": 4,
 "nbformat_minor": 1
}

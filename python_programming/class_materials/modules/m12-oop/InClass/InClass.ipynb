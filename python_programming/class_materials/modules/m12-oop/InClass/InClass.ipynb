{
 "cells": [
  {
   "cell_type": "markdown",
   "metadata": {},
   "source": [
    "# Object Oriented Programming\n",
    "\n",
    "Object oriented programming is one of the most common [programming paradigms](https://en.wikipedia.org/wiki/Programming_paradigm). Most of what we have done so far in this course has been writing procedural code that at times takes advantage of the object oriented nature of Python. As I look at the computational environment currently, object oriented programming might be most fruitfully contrasted with functional programming which has become very important for concurrent programming. \n",
    "\n",
    "One of the key concepts that differentiates functional and object oriented (and procedural) programming is known as [side effects](https://en.wikipedia.org/wiki/Side_effect_(computer_science): some observable in the program is changed by a function or expression. This is problematic for parallel programming as one thread may depend on a variable that has been changed by another thread. In object oriented programming, the class methods can modify/change the object instances. In functional programming, we (at least try) do not change variable values.\n",
    "\n",
    "Newer languages like [Julia](http://julialang.org/) attempt to incorporate object oriented ideas into a functional programming paradigm. In Julia we can define classes, but classes do not have methods that modify them. Rather Julia uses functions that take objects as arguments and return new objects as results. The same programming style can be achieved with Python (see, for example, [Functional Python Programming](http://proquest.safaribooksonline.com/book/programming/python/9781784396992/cover/cover_html?uicode=uutah)), where one might make a class inherited from a tuple (or named tuple) and then define methods for visualizing, comparing values, etc. but not modifying them."
   ]
  },
  {
   "cell_type": "markdown",
   "metadata": {},
   "source": [
    "## Class Suggestions for Small Classes to Define?\n",
    "\n",
    "### Some ideas\n",
    "\n",
    "1. A journal article\n",
    "1. A 3D point\n",
    "1. Student\n",
    "1. Questionnaire "
   ]
  },
  {
   "cell_type": "code",
   "execution_count": null,
   "metadata": {},
   "outputs": [],
   "source": []
  },
  {
   "cell_type": "markdown",
   "metadata": {},
   "source": [
    "## Example: Drugs, Prescriptions, Dispensing\n",
    "\n",
    "* When I create a class for a drug, what do I want every drug to have?\n",
    "    * Does each drug need a unique identifier? \n",
    "        * Then do I need to keep track of all the unique identifiers that have already been assigned? \n",
    "    * Does each drug have a chemical formulae?\n",
    "    * Does a drug have a name?\n",
    "    * Does each drug have a method of delivery or is that something  that would be more specific and would be part of an inherited class?\n",
    "    "
   ]
  },
  {
   "cell_type": "code",
   "execution_count": null,
   "metadata": {},
   "outputs": [],
   "source": [
    "class drug(object):\n",
    "    pass"
   ]
  },
  {
   "cell_type": "markdown",
   "metadata": {},
   "source": [
    "* How does a prescription differ from a drug?\n",
    "    * A prescription has the concept of a prescribing provider\n",
    "    * A prescription has the concept of dose, frequency, mode of delivery\n",
    "    * Would I do this at a class level?\n",
    "    "
   ]
  },
  {
   "cell_type": "code",
   "execution_count": null,
   "metadata": {},
   "outputs": [],
   "source": [
    "class prescription(object):\n",
    "    pass"
   ]
  },
  {
   "cell_type": "markdown",
   "metadata": {},
   "source": [
    "* What would a class for a dispensed drug add?\n",
    "    * Who dispensed it?\n",
    "    * Time stamp of when it was dispensed?\n",
    "    * Time stamp of when it ws administered?"
   ]
  },
  {
   "cell_type": "code",
   "execution_count": null,
   "metadata": {},
   "outputs": [],
   "source": [
    "class dispensed_drug(drug):\n",
    "    pass"
   ]
  },
  {
   "cell_type": "markdown",
   "metadata": {},
   "source": [
    "## Example\n",
    "### Define a class SummableList that inherits from ``list`` and \n",
    "* adds a method to sum up the values in the list.\n",
    "* changes the ``__str__`` method to show the values of the list and the sum value"
   ]
  },
  {
   "cell_type": "code",
   "execution_count": null,
   "metadata": {},
   "outputs": [],
   "source": []
  },
  {
   "cell_type": "markdown",
   "metadata": {},
   "source": [
    "Define an ``integer_list`` that inherits from ``list`` but can only contain integer values."
   ]
  },
  {
   "cell_type": "code",
   "execution_count": null,
   "metadata": {},
   "outputs": [],
   "source": []
  },
  {
   "cell_type": "code",
   "execution_count": null,
   "metadata": {},
   "outputs": [],
   "source": [
    "il1 = ilist((1,2,3.0,4,\"five\"))\n",
    "print(il1)\n",
    "il1.append(5)\n",
    "print(il1)\n",
    "il1.append(\"six\")\n",
    "print(il1)\n",
    "il1.extend([6,7,\"eight\"])\n",
    "print(il1)"
   ]
  },
  {
   "cell_type": "code",
   "execution_count": null,
   "metadata": {},
   "outputs": [],
   "source": []
  },
  {
   "cell_type": "markdown",
   "metadata": {},
   "source": [
    "Create a Radiology Report class\n",
    "\n",
    "The class should have methods to\n",
    "* Parse a string into component parts of the report\n",
    "* Return specified parts of the report\n",
    "* Attributes of class should match different components of report (e.g. who is the patient, who is the referring physician, report sections\n",
    "* Can we make it so that the report itself is not modifiable but addendums can be added?\n",
    "\n",
    "Test it with carotid.txt"
   ]
  },
  {
   "cell_type": "code",
   "execution_count": null,
   "metadata": {},
   "outputs": [],
   "source": []
  },
  {
   "cell_type": "markdown",
   "metadata": {},
   "source": [
    "### [FASTA](https://blast.ncbi.nlm.nih.gov/Blast.cgi?CMD=Web&PAGE_TYPE=BlastDocs&DOC_TYPE=BlastHelp)\n",
    "\n",
    "Write a class to represent a FASTA sequence.\n",
    "\n",
    "* How to deal with DNA, RNA or proteomic sequences?\n",
    "\n",
    "* The class should have data validation built into it. For example, the sequence only consists of appropriate characters, sequence and quality scores are of equal length\n",
    "\n",
    "* What should the ``__repr__`` and ``__str__`` methods look like?\n",
    "* Any meaningful comparison methods?"
   ]
  },
  {
   "cell_type": "code",
   "execution_count": null,
   "metadata": {},
   "outputs": [],
   "source": []
  }
 ],
 "metadata": {
  "anaconda-cloud": {},
  "kernelspec": {
   "display_name": "Python 3",
   "language": "python",
   "name": "python3"
  },
  "language_info": {
   "codemirror_mode": {
    "name": "ipython",
    "version": 3
   },
   "file_extension": ".py",
   "mimetype": "text/x-python",
   "name": "python",
   "nbconvert_exporter": "python",
   "pygments_lexer": "ipython3",
   "version": "3.5.2"
  }
 },
 "nbformat": 4,
 "nbformat_minor": 1
}

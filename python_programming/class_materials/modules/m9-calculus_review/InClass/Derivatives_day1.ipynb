{
 "cells": [
  {
   "cell_type": "markdown",
   "metadata": {
    "deletable": false,
    "editable": false,
    "nbgrader": {
     "checksum": "7874b05cbfaef34331de3a4411cea603",
     "grade": false,
     "grade_id": "cell-3bfa4396404fd190",
     "locked": true,
     "schema_version": 1,
     "solution": false
    }
   },
   "source": [
    "## Differential Calculus\n",
    "\n",
    "Differential calculus is the study of how things change. These things\n",
    "can be drug concentration in the blood, the blood pressure in an\n",
    "artery, or the number of bacteria in a culture, to list a few physical\n",
    "examples. Since\n",
    "we can express the physical quantities in terms of functions, these\n",
    "problems are similar. We may, in fact, have problems that look identical mathematically, although they vary in their motivation.\n",
    "\n",
    "* [Wired Crash Course on Derivatives](https://www.wired.com/2015/04/crash-course-derivatives/)\n",
    "\n",
    "How do you compute the slope of a straight line? Pick two points on the\n",
    "line $x_1$ and $x_2$ and take the y values at those two points: $y_1$\n",
    "and $y_2$. The slope of the line, that is how fast $y$ changes with $x$,\n",
    "is then computed as follows:\n",
    "$$\\frac{\\Delta y}{\\Delta x}= \\frac{y_2-y_1}{x_2-x_1}$$\n",
    "\n",
    "If we assume the function we are computing the slope for is a function $f(x)$, we can rewrite the slope as \n",
    "$$ \n",
    "\\frac{\\Delta y}{\\Delta x}= \\frac{f(x)-f(x+h)}{h}$$\n",
    "\n",
    "The derivative is defined as the limit as $h$ approaches zero.\n",
    "\n",
    "$$\n",
    "\\frac{df}{dx} = \\lim_{h\\to 0}\\frac{f(x)-f(x+h)}{h}\n",
    "$$\n",
    "\n",
    "### Ways you might See Derivatives Written\n",
    "#### Leibniz's Notation\n",
    "\n",
    "$$\n",
    "\\frac{df}{dx}\n",
    "$$\n",
    "\n",
    "#### Lagrange's Notation\n",
    "$$\n",
    "f'(x)\n",
    "$$\n",
    "\n",
    "#### Euler's Notation\n",
    "$$\n",
    "D f(x)\n",
    "$$\n",
    "\n",
    "#### Newton's Notation\n",
    "$$\n",
    "\\dot f(x)\n",
    "$$\n",
    "\n",
    "### Higher Order Derivatives\n",
    "\n",
    "We can of course have derivatives of derivatives and derivatives of derivatives of derivatives and so on. These higher order derivatives would be indicated with the above notation as\n",
    "\n",
    "$$\n",
    "\\begin{array}{ll}\n",
    "\\frac{d^2f}{dx^2} & \\frac{d^nf}{dx^n}\\\\\n",
    "f''(x) & f^{(n)}(x)\\\\\n",
    "D^2f(x) & D^nf(x)\\\\\n",
    "\\ddot f(x), & \\dddot f(x)\\\\\n",
    "\\end{array}\n",
    "$$"
   ]
  },
  {
   "cell_type": "code",
   "execution_count": null,
   "metadata": {
    "deletable": false,
    "editable": false,
    "nbgrader": {
     "checksum": "208337ceaa8084b06c725f8ea3fd5b95",
     "grade": false,
     "grade_id": "cell-c73db4d12222b5f7",
     "locked": true,
     "schema_version": 1,
     "solution": false
    }
   },
   "outputs": [],
   "source": [
    "import numpy as np\n",
    "import math\n",
    "import matplotlib.pyplot as plt\n",
    "from sympy import symbols\n",
    "from sympy.plotting import plot\n",
    "from sympy import diff, limit, lambdify"
   ]
  },
  {
   "cell_type": "markdown",
   "metadata": {},
   "source": [
    "### We Need A Demonstration Function"
   ]
  },
  {
   "cell_type": "code",
   "execution_count": null,
   "metadata": {},
   "outputs": [],
   "source": [
    "def function2(x):\n",
    "    \"\"\"returns a third-order polynomial in x\"\"\"\n",
    "    return (x-3)**3-5*(x+2)**2+4*x"
   ]
  },
  {
   "cell_type": "markdown",
   "metadata": {},
   "source": [
    "### Plot `function2` and Compute and Plot the Derivatives with Sympy\n",
    "\n",
    "#### The Derivatives Have meaning\n",
    "\n",
    "1. 1st Derivative (slope): how rapidly is the function changing?\n",
    "1. 2nd Derivative (curvature): are we at a maximum or a minimum (is the function curving down or up)?"
   ]
  },
  {
   "cell_type": "code",
   "execution_count": null,
   "metadata": {},
   "outputs": [],
   "source": [
    "x = symbols('x')\n",
    "\n",
    "p = plot(function2(x), \n",
    "         diff(function2(x)), \n",
    "         diff(diff(function2(x))), \n",
    "         (x,-5, 15), show=False, legend=True)\n",
    "p[0].line_color = 'red'\n",
    "p[0].label = \"original function\"\n",
    "p[1].line_color = 'green'\n",
    "p[1].label = \"1st derivative (slope)\"\n",
    "p[2].line_color = \"blue\"\n",
    "p[2].label = '2nd derivative (curvature)'\n",
    "p.show()"
   ]
  },
  {
   "cell_type": "markdown",
   "metadata": {},
   "source": [
    "## Demonstrate that the derivative is really just a limit"
   ]
  },
  {
   "cell_type": "code",
   "execution_count": null,
   "metadata": {},
   "outputs": [],
   "source": [
    "x,h = symbols('x h')\n",
    "\n",
    "p = plot(function2(x), \n",
    "         limit((function2(x+h)-function2(x))/h, h, 0), \n",
    "         (x,-5, 15), show=False, legend=True)\n",
    "p[0].line_color = 'red'\n",
    "p[0].label = \"original function\"\n",
    "p[1].line_color = 'green'\n",
    "p[1].label = \"limit of finite difference\"\n",
    "p.show()"
   ]
  },
  {
   "cell_type": "markdown",
   "metadata": {},
   "source": [
    "## We can compute higher-order derivatives directly with ``diff``\n",
    "* Specify the variable to take derivative wrt (with respect to)\n",
    "* Specify the order of the derivative"
   ]
  },
  {
   "cell_type": "code",
   "execution_count": null,
   "metadata": {},
   "outputs": [],
   "source": [
    "x = symbols('x')\n",
    "\n",
    "p = plot(function2(x), \n",
    "         diff(function2(x), x, 1), \n",
    "         diff(function2(x), x, 2), (x,-5, 15), show=False, legend=True)\n",
    "p[0].line_color = 'red'\n",
    "p[0].label = \"original function\"\n",
    "p[1].line_color = 'green'\n",
    "p[1].label = \"1st derivative (slope)\"\n",
    "p[2].line_color = \"blue\"\n",
    "p[2].label = '2nd derivative (curvature)'\n",
    "p.show()"
   ]
  },
  {
   "cell_type": "markdown",
   "metadata": {
    "deletable": false,
    "editable": false,
    "nbgrader": {
     "checksum": "62c696ac889329d0df520a769110830d",
     "grade": false,
     "grade_id": "cell-1145d3700f9c749f",
     "locked": true,
     "schema_version": 1,
     "solution": false
    }
   },
   "source": [
    "## Approximate derivative numerically\n",
    "\n",
    "Using our definition of the derivative, we can compute derivatives numerically\n",
    "\n",
    "### Using [Matplotlib](http://matplotlib.org/) to plot  data\n",
    "\n",
    "The most common plotting package in Python is Matplotlib. The simplest plot in matplotlib is a line plot via the [``plot``](http://matplotlib.org/api/pyplot_api.html#matplotlib.pyplot.plot) function."
   ]
  },
  {
   "cell_type": "markdown",
   "metadata": {
    "deletable": false,
    "editable": false,
    "nbgrader": {
     "checksum": "9e077c57dc047f9f986c1609b8d982e2",
     "grade": false,
     "grade_id": "cell-001fe00df6ffd452",
     "locked": true,
     "schema_version": 1,
     "solution": false
    }
   },
   "source": [
    "### Create a range of x values"
   ]
  },
  {
   "cell_type": "code",
   "execution_count": null,
   "metadata": {
    "deletable": false,
    "editable": false,
    "nbgrader": {
     "checksum": "0e87c43ce11d3b83ad752f39c6c6a045",
     "grade": false,
     "grade_id": "cell-40c47f075da64fc8",
     "locked": true,
     "schema_version": 1,
     "solution": false
    }
   },
   "outputs": [],
   "source": [
    "xs = np.arange(-5,15, 0.1)"
   ]
  },
  {
   "cell_type": "markdown",
   "metadata": {
    "deletable": false,
    "editable": false,
    "nbgrader": {
     "checksum": "5d478ff23bea902dfd35086989652c83",
     "grade": false,
     "grade_id": "cell-4337dbd640264f27",
     "locked": true,
     "schema_version": 1,
     "solution": false
    }
   },
   "source": [
    "### We can use `plot` to just plot an array"
   ]
  },
  {
   "cell_type": "code",
   "execution_count": null,
   "metadata": {},
   "outputs": [],
   "source": [
    "plt.plot(function2(xs), \"green\", marker=\".\")"
   ]
  },
  {
   "cell_type": "code",
   "execution_count": null,
   "metadata": {},
   "outputs": [],
   "source": [
    "plt.plot(xs)"
   ]
  },
  {
   "cell_type": "code",
   "execution_count": null,
   "metadata": {
    "deletable": false,
    "editable": false,
    "nbgrader": {
     "checksum": "8b5cc7235b76831f667232b4913e2389",
     "grade": false,
     "grade_id": "cell-7791063962cc11d3",
     "locked": true,
     "schema_version": 1,
     "solution": false
    }
   },
   "outputs": [],
   "source": [
    "plt.plot(function2(xs))"
   ]
  },
  {
   "cell_type": "markdown",
   "metadata": {
    "deletable": false,
    "editable": false,
    "nbgrader": {
     "checksum": "a413ab64dafda1b402aa5d683f23838e",
     "grade": false,
     "grade_id": "cell-6dd18e0bf31da08f",
     "locked": true,
     "schema_version": 1,
     "solution": false
    }
   },
   "source": [
    "### Or we can plot one array vs another array"
   ]
  },
  {
   "cell_type": "code",
   "execution_count": null,
   "metadata": {
    "deletable": false,
    "editable": false,
    "nbgrader": {
     "checksum": "07ec5bf4de2d8731478d7ded151fc3d5",
     "grade": false,
     "grade_id": "cell-690381e4b62f108d",
     "locked": true,
     "schema_version": 1,
     "solution": false
    }
   },
   "outputs": [],
   "source": [
    "fp2 = lambdify(x, function2(x), \"numpy\")\n",
    "\n",
    "\n",
    "plt.plot(xs, function2(xs))"
   ]
  },
  {
   "cell_type": "markdown",
   "metadata": {
    "deletable": false,
    "editable": false,
    "nbgrader": {
     "checksum": "defea4d3443de7d03e8c329916c9239c",
     "grade": false,
     "grade_id": "cell-797d24c5bb0a14fd",
     "locked": true,
     "schema_version": 1,
     "solution": false
    }
   },
   "source": [
    "### Exercise: write a function that approximates the 1st derivate of a 1-D numpy array using a forward difference\n",
    "1. Use a for loop and an empty list (`derivative_v1`)\n",
    "1. Use a for loop and list comprehension (`derivative_v2`)\n",
    "2. Use array slicing (`derivative_v3`)\n",
    "\n",
    "#### Hints\n",
    "\n",
    "1. What arguments is the function going to need?\n",
    "1. What needs to be the limits of our for loop?"
   ]
  },
  {
   "cell_type": "code",
   "execution_count": null,
   "metadata": {
    "deletable": false,
    "nbgrader": {
     "checksum": "404fb68b18b778f96ac95e1c188c6083",
     "grade": false,
     "grade_id": "cell-b0863e2d02452957",
     "locked": false,
     "schema_version": 1,
     "solution": true
    }
   },
   "outputs": [],
   "source": [
    "# YOUR CODE HERE\n",
    "def derivative_v1(x,h=0.1):\n",
    "    result =[]\n",
    "    for i in range(0,len(x)-1):\n",
    "        result.append((x[i+1]-x[i])/h)\n",
    "    return result\n",
    "plt.plot(derivative_v1(fp2(xs),0.1))"
   ]
  },
  {
   "cell_type": "code",
   "execution_count": null,
   "metadata": {
    "deletable": false,
    "nbgrader": {
     "checksum": "0faa9c6cabe3ffc80b4c0ddbfb8028d0",
     "grade": false,
     "grade_id": "cell-e087231fc8376ba9",
     "locked": false,
     "schema_version": 1,
     "solution": true
    }
   },
   "outputs": [],
   "source": [
    "# YOUR CODE HERE\n",
    "def derivative_v2(x,h=0.1):\n",
    "    result =[(x[i+1]-x[i])/h for i in range(0,len(x)-1)]\n",
    "    return result\n",
    "plt.plot(derivative_v2(fp2(xs),0.1))"
   ]
  },
  {
   "cell_type": "code",
   "execution_count": null,
   "metadata": {
    "deletable": false,
    "nbgrader": {
     "checksum": "564ac1e9e4bc4e16660bf06602da21f6",
     "grade": false,
     "grade_id": "cell-b7b870f5633095f8",
     "locked": false,
     "schema_version": 1,
     "solution": true
    }
   },
   "outputs": [],
   "source": [
    "def derivative_v3(x,h=0.1):\n",
    "    return(x[1:] - x[:-1])/h\n",
    "    \n",
    "plt.plot(derivative_v3(fp2(xs), 0.1))"
   ]
  },
  {
   "cell_type": "markdown",
   "metadata": {
    "deletable": false,
    "editable": false,
    "nbgrader": {
     "checksum": "0249ef5095dfd10c7d8245746858737d",
     "grade": false,
     "grade_id": "cell-5a8adecca6804678",
     "locked": true,
     "schema_version": 1,
     "solution": false
    }
   },
   "source": [
    "### What are our speed gains?"
   ]
  },
  {
   "cell_type": "code",
   "execution_count": null,
   "metadata": {
    "deletable": false,
    "editable": false,
    "nbgrader": {
     "checksum": "ee4c827a25540d03d9c6f534bb34f37e",
     "grade": false,
     "grade_id": "cell-194eea54c80311b0",
     "locked": true,
     "schema_version": 1,
     "solution": false
    }
   },
   "outputs": [],
   "source": [
    "%timeit derivative_v1(fp2(xs))"
   ]
  },
  {
   "cell_type": "code",
   "execution_count": null,
   "metadata": {
    "deletable": false,
    "editable": false,
    "nbgrader": {
     "checksum": "f42304293597af19dfadd080ae3703aa",
     "grade": false,
     "grade_id": "cell-69179057063c0f51",
     "locked": true,
     "schema_version": 1,
     "solution": false
    }
   },
   "outputs": [],
   "source": [
    "%timeit derivative_v2(fp2(xs))"
   ]
  },
  {
   "cell_type": "code",
   "execution_count": null,
   "metadata": {
    "deletable": false,
    "editable": false,
    "nbgrader": {
     "checksum": "a83e887fe1eebf866843fac34ddd336d",
     "grade": false,
     "grade_id": "cell-a1e8bc013fd952d0",
     "locked": true,
     "schema_version": 1,
     "solution": false
    }
   },
   "outputs": [],
   "source": [
    "%timeit derivative_v3(fp2(xs))"
   ]
  },
  {
   "cell_type": "markdown",
   "metadata": {
    "deletable": false,
    "editable": false,
    "nbgrader": {
     "checksum": "c737b2d88f8451d0f489f04cb110c7ec",
     "grade": false,
     "grade_id": "cell-8313bebde4ac02db",
     "locked": true,
     "schema_version": 1,
     "solution": false
    }
   },
   "source": [
    "## Our plots haven't demonstrated the correct units in `x`"
   ]
  },
  {
   "cell_type": "code",
   "execution_count": null,
   "metadata": {},
   "outputs": [],
   "source": [
    "plt.plot(xs, function2(xs))\n",
    "\n",
    "plt.plot(xs[0:-1], derivative_v1(function2(xs)))"
   ]
  },
  {
   "cell_type": "markdown",
   "metadata": {
    "deletable": false,
    "editable": false,
    "nbgrader": {
     "checksum": "7915bae83b61dce353ca98f0a75ad40f",
     "grade": false,
     "grade_id": "cell-820792408b3ac26e",
     "locked": true,
     "schema_version": 1,
     "solution": false
    }
   },
   "source": [
    "### What Went Wrong?"
   ]
  },
  {
   "cell_type": "markdown",
   "metadata": {
    "deletable": false,
    "editable": false,
    "nbgrader": {
     "checksum": "4c22eab0e0b52f5e11fd8a14a2435753",
     "grade": false,
     "grade_id": "cell-177a9a3a074255ab",
     "locked": true,
     "schema_version": 1,
     "solution": false
    }
   },
   "source": [
    "## Exploring line plots with Matplotlib\n",
    "### Secondary Axis"
   ]
  },
  {
   "cell_type": "code",
   "execution_count": null,
   "metadata": {},
   "outputs": [],
   "source": [
    "fig, ax1 = plt.subplots()\n",
    "fig.set_size_inches(5,5)\n",
    "\n",
    "ax1.plot(xs, function2(xs), 'b-')\n",
    "ax1.set_xlabel('x (s)')\n",
    "# Make the y-axis label and tick labels match the line color.\n",
    "ax1.set_ylabel('f(x)', color='b')\n",
    "for tl in ax1.get_yticklabels():\n",
    "    tl.set_color('b')\n",
    "\n",
    "\n",
    "ax2 = ax1.twinx()\n",
    "s2 = derivative_v3(function2(xs))\n",
    "ax2.plot(xs[1:], s2, 'r')\n",
    "ax2.set_ylabel('df/dx', color='r')\n",
    "for tl in ax2.get_yticklabels():\n",
    "    tl.set_color('r')\n",
    "plt.show()"
   ]
  },
  {
   "cell_type": "code",
   "execution_count": null,
   "metadata": {},
   "outputs": [],
   "source": []
  }
 ],
 "metadata": {
  "kernelspec": {
   "display_name": "Python 3",
   "language": "python",
   "name": "python3"
  },
  "language_info": {
   "codemirror_mode": {
    "name": "ipython",
    "version": 3
   },
   "file_extension": ".py",
   "mimetype": "text/x-python",
   "name": "python",
   "nbconvert_exporter": "python",
   "pygments_lexer": "ipython3",
   "version": "3.5.2"
  }
 },
 "nbformat": 4,
 "nbformat_minor": 1
}

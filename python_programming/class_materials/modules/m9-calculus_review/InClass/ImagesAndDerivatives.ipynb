{
 "cells": [
  {
   "cell_type": "markdown",
   "metadata": {},
   "source": [
    "# Images and Derivatives\n",
    "\n",
    "If we have a function of a single variable (e.g. time) we denote the derivative as $\\frac{d}{dt}$. When we have a function of more than one variable (e.g. $(x,y)$), when we take a derivative with respect to one of the variables (e.g. $x$) we refer to the derivative as a *partial derivative* and denote the derivative  as $\\frac{\\partial}{\\partial x}$. \n",
    "\n",
    "We can conceive of an image as a function of more than one variable. For a typical two-dimensional image, we would represent the function as a variable of $x$ and $y$. So, for example $I(x,y)$ might denote a two dimensional image. Derivatives can be used to extract features from an image. One of the simplest features we might extract are edges."
   ]
  },
  {
   "cell_type": "code",
   "execution_count": null,
   "metadata": {},
   "outputs": [],
   "source": [
    "%matplotlib inline\n"
   ]
  },
  {
   "cell_type": "code",
   "execution_count": null,
   "metadata": {},
   "outputs": [],
   "source": [
    "import numpy as np\n",
    "import matplotlib.pyplot as plt\n",
    "from skimage.draw import circle\n"
   ]
  },
  {
   "cell_type": "markdown",
   "metadata": {},
   "source": [
    "## Create a Phantom with some structures"
   ]
  },
  {
   "cell_type": "code",
   "execution_count": null,
   "metadata": {},
   "outputs": [],
   "source": [
    "phantom1 = np.zeros((512,512), np.int32)\n",
    "phantom1[:,64] = 128\n",
    "phantom1[:,128:132] = 128\n",
    "phantom1[:,256:256+16] = 128\n",
    "phantom1[32:32+128,344:344+128] = 128\n",
    "\n",
    "rr, cc = circle(350, 190, 50)\n",
    "phantom1[cc,rr] += 128"
   ]
  },
  {
   "cell_type": "code",
   "execution_count": null,
   "metadata": {},
   "outputs": [],
   "source": [
    "plt.imshow(phantom1, cmap=\"gray\")"
   ]
  },
  {
   "cell_type": "markdown",
   "metadata": {},
   "source": [
    "## Exercise: Define Functions for taking the partial derivatives of the image\n",
    "\n",
    "``derivative_y`` should estimate $\\frac{\\partial I}{\\partial y}$\n",
    "``derivative_x`` should estimate $\\frac{\\partial I}{\\partial x}$"
   ]
  },
  {
   "cell_type": "code",
   "execution_count": null,
   "metadata": {},
   "outputs": [],
   "source": [
    "def derivative_y(img, h=1):\n",
    "    \"\"\"\n",
    "    Computes the partial derivative along y for img\n",
    "    \n",
    "    img: a two-dimensional numpy array\n",
    "    h: \n",
    "    \"\"\"\n",
    "    pass\n",
    "def derivative_x(img):\n",
    "    pass"
   ]
  },
  {
   "cell_type": "markdown",
   "metadata": {},
   "source": [
    "#### In the above function definitions, why divide by 1?"
   ]
  },
  {
   "cell_type": "markdown",
   "metadata": {},
   "source": [
    "## What Do Our Derviatives Look Like"
   ]
  },
  {
   "cell_type": "code",
   "execution_count": null,
   "metadata": {},
   "outputs": [],
   "source": [
    "plt.imshow(derivative_x(phantom1), cmap=\"gray\")"
   ]
  },
  {
   "cell_type": "code",
   "execution_count": null,
   "metadata": {},
   "outputs": [],
   "source": [
    "plt.imshow(derivative_y(phantom1), cmap=\"gray\")"
   ]
  },
  {
   "cell_type": "markdown",
   "metadata": {},
   "source": [
    "### Look in more detail"
   ]
  },
  {
   "cell_type": "code",
   "execution_count": null,
   "metadata": {},
   "outputs": [],
   "source": [
    "plt.imshow(derivative_x(phantom1)[:40,40:80], cmap=\"gray\")"
   ]
  },
  {
   "cell_type": "code",
   "execution_count": null,
   "metadata": {},
   "outputs": [],
   "source": [
    "import scipy.ndimage as ndi"
   ]
  },
  {
   "cell_type": "markdown",
   "metadata": {},
   "source": [
    "### Rotate and add some noise"
   ]
  },
  {
   "cell_type": "code",
   "execution_count": null,
   "metadata": {},
   "outputs": [],
   "source": [
    "phantom3 = ndi.rotate(phantom1, angle=27, order=3, reshape=False)\n",
    "phantom4 = phantom3 + ra.normal(0,30, phantom1.shape)"
   ]
  },
  {
   "cell_type": "code",
   "execution_count": null,
   "metadata": {},
   "outputs": [],
   "source": [
    "plt.imshow(phantom3, cmap='gray')"
   ]
  },
  {
   "cell_type": "code",
   "execution_count": null,
   "metadata": {},
   "outputs": [],
   "source": [
    "plt.imshow(derivative_x(phantom3), cmap='gray')"
   ]
  },
  {
   "cell_type": "code",
   "execution_count": null,
   "metadata": {},
   "outputs": [],
   "source": [
    "plt.imshow(derivative_y(phantom3), cmap='gray')"
   ]
  },
  {
   "cell_type": "markdown",
   "metadata": {},
   "source": [
    "#### Exercise: ``derivative_x`` and ``derivative_y`` use a *backward* difference to estimate the derivative. Write functions that use a *centered* difference to estiamate the $x$ and $y$ derivatives"
   ]
  },
  {
   "cell_type": "code",
   "execution_count": null,
   "metadata": {},
   "outputs": [],
   "source": [
    "def dy_c(img):\n",
    "    pass\n",
    "def dx_c(img):\n",
    "    pass"
   ]
  },
  {
   "cell_type": "code",
   "execution_count": null,
   "metadata": {},
   "outputs": [],
   "source": [
    "plt.figure(1)\n",
    "plt.subplot(121)\n",
    "plt.imshow(dx_c(phantom4), cmap=\"gray\")\n",
    "plt.subplot(122)\n",
    "plt.imshow(derivative_x(phantom4), cmap=\"gray\")"
   ]
  },
  {
   "cell_type": "code",
   "execution_count": null,
   "metadata": {},
   "outputs": [],
   "source": [
    "plt.figure(1)\n",
    "plt.subplot(121)\n",
    "plt.imshow(dy_c(phantom4), cmap=\"gray\")\n",
    "plt.subplot(122)\n",
    "plt.imshow(derivative_y(phantom4), cmap=\"gray\")"
   ]
  },
  {
   "cell_type": "markdown",
   "metadata": {},
   "source": [
    "## Using Numpy to Compute Derivatives\n",
    "\n",
    "Numpy comes with a the [``diff``](http://docs.scipy.org/doc/numpy/reference/generated/numpy.diff.html) function to compute derivatives based on a forward difference scheme."
   ]
  },
  {
   "cell_type": "code",
   "execution_count": null,
   "metadata": {},
   "outputs": [],
   "source": [
    "help(np.diff)"
   ]
  },
  {
   "cell_type": "code",
   "execution_count": null,
   "metadata": {},
   "outputs": [],
   "source": [
    "fig = plt.figure(figsize=(6,6))\n",
    "plt.imshow(np.diff(phantom1,axis=1), cmap='gray')"
   ]
  },
  {
   "cell_type": "markdown",
   "metadata": {},
   "source": [
    "# Gradient\n",
    "\n",
    "The [gradient](https://en.wikipedia.org/wiki/Gradient) of a function is the [vector](https://en.wikipedia.org/wiki/Vector_(mathematics_and_physics)) created by the partial derivatives and is denoted by $\\nabla$ or $\\vec{\\nabla}$. The 2D gradient operator is \n",
    "\n",
    "$$\n",
    "\\nabla = \\frac{\\partial}{\\partial x}\\vec{e_x} + \\frac{\\partial}{\\partial y}\\vec{e_y}\n",
    "$$\n",
    "\n",
    "where $\\vec{e_x}$ and $\\vec{e_y}$ are the [unit vectors](https://en.wikipedia.org/wiki/Unit_vector) along the $x$ and $y$ axes. This can be generalized to $N$ dimensions.\n",
    "\n",
    "The gradient is a vector that points in the direction of change of the function.\n",
    "\n",
    "### Questions: How might we denote the variables if we use 3, 4, N dimensions?\n",
    "\n",
    "Since in general our edges don't run exactly along the $x$ or $y$ axes, we need to make use of both $\\frac{\\partial}{\\partial x}$ and  $\\frac{\\partial}{\\partial y}$ simultaneously and the gradient provides a nice framework for doing this.\n",
    "\n",
    "One simple solution might be to look at the magnitude of the gradient, \n",
    "\n",
    "$$ \n",
    "||\\nabla(I)|| = \\sqrt{\\frac{\\partial I}{\\partial x}^2 + \\frac{\\partial I}{\\partial y}^2}\n",
    "$$"
   ]
  },
  {
   "cell_type": "markdown",
   "metadata": {},
   "source": [
    "#### Set a variable as the current phantom. This will allow us to switch between phantoms easily"
   ]
  },
  {
   "cell_type": "code",
   "execution_count": null,
   "metadata": {},
   "outputs": [],
   "source": [
    "cphantom = phantom1"
   ]
  },
  {
   "cell_type": "markdown",
   "metadata": {},
   "source": [
    "## Visualizing the Gradient\n",
    "\n",
    "#### Magnitude\n",
    "#### Quiver plots\n",
    "#### Color-coded images"
   ]
  },
  {
   "cell_type": "markdown",
   "metadata": {},
   "source": [
    "### Magnitude of the Gradient"
   ]
  },
  {
   "cell_type": "code",
   "execution_count": null,
   "metadata": {},
   "outputs": [],
   "source": [
    "dx = dx_c(cphantom)\n",
    "dy = dy_c(cphantom)\n",
    "grad_mag = np.sqrt(dx*dx + dy*dy)\n",
    "plt.imshow(grad_mag, cmap='gray')\n",
    "print(np.max(grad_mag), np.min(grad_mag))"
   ]
  },
  {
   "cell_type": "markdown",
   "metadata": {},
   "source": [
    "## color-coded images"
   ]
  },
  {
   "cell_type": "code",
   "execution_count": null,
   "metadata": {},
   "outputs": [],
   "source": [
    "cgrad_img = np.dstack((dx, dy, np.zeros(dx.shape)))\n",
    "\n",
    "print(cgrad_img.shape)\n",
    "\n",
    "plt.imshow(cphantom, cmap='gray')\n",
    "plt.imshow(cgrad_img, alpha=0.5)"
   ]
  },
  {
   "cell_type": "code",
   "execution_count": null,
   "metadata": {},
   "outputs": [],
   "source": [
    "plt.imshow(dx, cmap='gray')"
   ]
  },
  {
   "cell_type": "markdown",
   "metadata": {},
   "source": [
    "## Quivers"
   ]
  },
  {
   "cell_type": "code",
   "execution_count": null,
   "metadata": {},
   "outputs": [],
   "source": [
    "samp = 4"
   ]
  },
  {
   "cell_type": "code",
   "execution_count": null,
   "metadata": {},
   "outputs": [],
   "source": [
    "Y, X = np.mgrid[0:300:samp, 0:300:samp]"
   ]
  },
  {
   "cell_type": "code",
   "execution_count": null,
   "metadata": {},
   "outputs": [],
   "source": [
    "mask = np.where(grad_mag[0:300:samp, 200:500:samp] > 50, 1, 0)\n",
    "U = dx[0:300:samp, 200:500:samp]\n",
    "V = dy[0:300:samp, 200:500:samp]\n",
    "\n",
    "\n",
    "X.shape, Y.shape, U.shape, V.shape"
   ]
  },
  {
   "cell_type": "code",
   "execution_count": null,
   "metadata": {},
   "outputs": [],
   "source": []
  },
  {
   "cell_type": "code",
   "execution_count": null,
   "metadata": {},
   "outputs": [],
   "source": [
    "print(np.max(V), np.min(V))\n",
    "plt.imshow(U, cmap='gray')\n"
   ]
  },
  {
   "cell_type": "code",
   "execution_count": null,
   "metadata": {},
   "outputs": [],
   "source": [
    "f, ax1 = plt.subplots(1)\n",
    "f.set_size_inches(5,5)\n",
    "ax1.imshow(cphantom[:300, 200:500], cmap='gray')\n",
    "#ax1.imshow(cgrad_img[:300, 200:500], alpha=0.7)\n",
    "ax1.quiver(X, Y, U, V, color='y', scale=3, scale_units=\"xy\")"
   ]
  },
  {
   "cell_type": "markdown",
   "metadata": {},
   "source": [
    "## Numpy has a [gradient](http://docs.scipy.org/doc/numpy/reference/generated/numpy.gradient.html) function that computes all the derivatives directly"
   ]
  },
  {
   "cell_type": "markdown",
   "metadata": {},
   "source": [
    "#### This is an example of *tuple unpacking*"
   ]
  },
  {
   "cell_type": "code",
   "execution_count": null,
   "metadata": {},
   "outputs": [],
   "source": [
    "gx, gy = np.gradient(cphantom)"
   ]
  },
  {
   "cell_type": "code",
   "execution_count": null,
   "metadata": {},
   "outputs": [],
   "source": [
    "plt.imshow(gx, cmap='gray')"
   ]
  },
  {
   "cell_type": "code",
   "execution_count": null,
   "metadata": {},
   "outputs": [],
   "source": [
    "f, ax = plt.subplots(1,2)\n",
    "f.set_size_inches(12,12)\n",
    "ax[0].imshow(gx, cmap='gray')\n",
    "ax[1].imshow(gy, cmap='gray')"
   ]
  },
  {
   "cell_type": "markdown",
   "metadata": {},
   "source": [
    "### Higher-order Derivatives"
   ]
  },
  {
   "cell_type": "markdown",
   "metadata": {},
   "source": [
    "## Exercise:\n",
    "\n",
    "Write a fucntion that computes $\\frac{\\partial^2I}{\\partial x \\partial y}$ for a two dimensional gray-scale image $I$"
   ]
  },
  {
   "cell_type": "code",
   "execution_count": null,
   "metadata": {},
   "outputs": [],
   "source": [
    "def dxdy(I, ???):\n",
    "    pass"
   ]
  },
  {
   "cell_type": "markdown",
   "metadata": {},
   "source": [
    "## The Laplacian\n",
    "\n",
    "$$\n",
    "\\begin{array}{ll}\n",
    "\\Delta f(x,y) = \\frac{\\partial^2 f}{\\partial x^2}+\\frac{\\partial^2 f}{\\partial y^2} &= \\nabla\\cdot\\nabla f(x,y)\\\\\n",
    "\\end{array}\n",
    "$$"
   ]
  },
  {
   "cell_type": "code",
   "execution_count": null,
   "metadata": {},
   "outputs": [],
   "source": [
    "import dicom\n",
    "import os\n",
    "img = dicom.read_file(os.path.join( os.path.expanduser(\"~\"), \"DATA\", \"Images/PE/Ser_000006\"))\n",
    "plt.imshow(img.pixel_array, cmap='gray')\n",
    "plt.imshow(filters.laplacian(img.pixel_array), cmap='gray')"
   ]
  }
 ],
 "metadata": {
  "kernelspec": {
   "display_name": "Python 3",
   "language": "python",
   "name": "python3"
  },
  "language_info": {
   "codemirror_mode": {
    "name": "ipython",
    "version": 3
   },
   "file_extension": ".py",
   "mimetype": "text/x-python",
   "name": "python",
   "nbconvert_exporter": "python",
   "pygments_lexer": "ipython3",
   "version": "3.5.2"
  }
 },
 "nbformat": 4,
 "nbformat_minor": 1
}

{
 "cells": [
  {
   "cell_type": "markdown",
   "metadata": {},
   "source": [
    "# Derivatives and ECG Signals"
   ]
  },
  {
   "cell_type": "code",
   "execution_count": null,
   "metadata": {},
   "outputs": [],
   "source": [
    "%matplotlib inline"
   ]
  },
  {
   "cell_type": "code",
   "execution_count": null,
   "metadata": {},
   "outputs": [],
   "source": [
    "import numpy as np\n",
    "import numpy.random as ra\n",
    "import matplotlib.pyplot as plt\n",
    "import pandas as pd\n",
    "import os\n",
    "\n",
    "from ipywidgets import interact, interactive, fixed\n",
    "from IPython.display import clear_output\n",
    "import ipywidgets as widgets\n",
    "\n",
    "DATADIR = os.path.join(os.path.expanduser(\"~\"),\n",
    "                    \"work\",\n",
    "                    \"Physionet\", \"MITDB\")\n",
    "os.path.exists(DATADIR)"
   ]
  },
  {
   "cell_type": "markdown",
   "metadata": {},
   "source": [
    "![ECG annotation](https://goo.gl/l4Rlq8)"
   ]
  },
  {
   "cell_type": "code",
   "execution_count": null,
   "metadata": {},
   "outputs": [],
   "source": [
    "ecg_files = os.listdir(DATADIR)\n",
    "type(ecg_files)"
   ]
  },
  {
   "cell_type": "code",
   "execution_count": null,
   "metadata": {},
   "outputs": [],
   "source": [
    "def get_series(f):\n",
    "    \n",
    "    data = \\\n",
    "    pd.read_table(f, header=None).apply(\n",
    "        lambda x: (x - np.mean(x)) / (np.max(x) - np.min(x)))\n",
    "    return data\n",
    "def _view_series(root=\"\", f=\"\", num_points=200):\n",
    "    data = get_series(os.path.join(root,f))\n",
    "    plt.plot(data[1][:num_points])\n",
    "    plt.show()\n",
    "interactive_plot = interactive(_view_series, root=fixed(DATADIR), f=ecg_files, num_points=(200, 1000, 50))\n",
    "output = interactive_plot.children[-1]\n",
    "output.layout.height = '350px'\n",
    "interactive_plot\n"
   ]
  },
  {
   "cell_type": "code",
   "execution_count": null,
   "metadata": {},
   "outputs": [],
   "source": []
  },
  {
   "cell_type": "code",
   "execution_count": null,
   "metadata": {},
   "outputs": [],
   "source": [
    "data = get_series(os.path.join(DATADIR, \"100.txt\"))\n",
    "data.head()"
   ]
  },
  {
   "cell_type": "markdown",
   "metadata": {},
   "source": [
    "## Using [Matplotlib](http://matplotlib.org/) to plot simple time-series data\n",
    "\n",
    "The most common plotting package in Python is Matplotlib. The simplest plot in matplotlib is a line plot via the [``plot``](http://matplotlib.org/api/pyplot_api.html#matplotlib.pyplot.plot) function."
   ]
  },
  {
   "cell_type": "markdown",
   "metadata": {},
   "source": [
    "### Select a subset of the signal"
   ]
  },
  {
   "cell_type": "code",
   "execution_count": null,
   "metadata": {},
   "outputs": [],
   "source": [
    "t = data[0][:300]\n",
    "s = data[1][:300]\n",
    "plt.plot(t, s )"
   ]
  },
  {
   "cell_type": "markdown",
   "metadata": {},
   "source": [
    "### Formatting the line style\n",
    "\n",
    "I can specify the line style and color with a format string. For example, I can specify the color."
   ]
  },
  {
   "cell_type": "code",
   "execution_count": null,
   "metadata": {},
   "outputs": [],
   "source": [
    "plt.plot(t, s, \"r\")"
   ]
  },
  {
   "cell_type": "markdown",
   "metadata": {},
   "source": [
    "We can specify a number of keyword arguments to control the plot in more detail."
   ]
  },
  {
   "cell_type": "code",
   "execution_count": null,
   "metadata": {},
   "outputs": [],
   "source": [
    "plt.plot(t[::2], s[::2], linestyle='dashdot', marker='o', color=\"r\", markersize=10, label=\"ECG\")\n",
    "plt.legend()"
   ]
  },
  {
   "cell_type": "markdown",
   "metadata": {},
   "source": [
    "## Controlling figure layout with [subplots](http://matplotlib.org/api/pyplot_api.html#matplotlib.pyplot.subplots)"
   ]
  },
  {
   "cell_type": "code",
   "execution_count": null,
   "metadata": {},
   "outputs": [],
   "source": [
    "f, ax = plt.subplots(3,1)\n",
    "f.set_size_inches(8,12)\n",
    "t = data[0][:300]\n",
    "s = data[1][:300]\n",
    "ax[0].plot(t, data[1][:300], 'b')\n",
    "ax[1].plot(t, np.gradient(s), 'r')\n",
    "ax[2].plot(t, np.gradient(np.gradient(s)), 'g')"
   ]
  },
  {
   "cell_type": "markdown",
   "metadata": {},
   "source": [
    "## The Data are Noisy \n",
    "#### Computing derivatives tends to be sensitive to noise\n",
    "#### Try smoothing first\n",
    "\n",
    "The SciPy package has a number of functions for smoothing signals and images. The [signal](http://docs.scipy.org/doc/scipy/reference/signal.html) module includes common one-dimensional filtering functions. The [ndimage.filters](scipy.ndimage.filters) module includes a number of functions for smoothing N-dimensional signals; the name is derived from 2D signals (images)."
   ]
  },
  {
   "cell_type": "code",
   "execution_count": null,
   "metadata": {},
   "outputs": [],
   "source": [
    "import scipy.signal as signal\n",
    "import scipy.ndimage.filters as filters"
   ]
  },
  {
   "cell_type": "markdown",
   "metadata": {},
   "source": [
    "#### We will explore two smooth functions\n",
    "\n",
    "* [Median smoothing](http://docs.scipy.org/doc/scipy/reference/generated/scipy.signal.medfilt.html#scipy.signal.medfilt)\n",
    "* [Gaussian smoothing](http://docs.scipy.org/doc/scipy-0.16.1/reference/generated/scipy.ndimage.filters.gaussian_filter.html)"
   ]
  },
  {
   "cell_type": "markdown",
   "metadata": {},
   "source": [
    "### Median Filtering\n",
    "\n",
    "#### What is the median of \n",
    "\n",
    "* 1, 5, 3, 7, 2?\n",
    "\n",
    "Median filtering is a kind of non-linear filtering that is good at preserving edges and other discontinuities in the data. The [medfilter]() function takes a positional argument that is the signal that you want to filter (smooth) and a keyword argument ``kernel_size`` (default 3) that defines how many points you want to use to calculate the median.\n",
    "\n",
    "![Median Filter algorithm](https://upload.wikimedia.org/wikipedia/commons/f/f4/Median_filter_pseudocode.png)\n",
    "\n",
    "![Example median filter](https://upload.wikimedia.org/wikipedia/commons/1/1d/Medianfilterp.png)"
   ]
  },
  {
   "cell_type": "markdown",
   "metadata": {},
   "source": [
    "### Play with changing `kernel_width`"
   ]
  },
  {
   "cell_type": "code",
   "execution_count": null,
   "metadata": {},
   "outputs": [],
   "source": [
    "kernel_width = 9\n",
    "f, ax = plt.subplots(3,1)\n",
    "f.set_size_inches(8,12)\n",
    "t = data[0][:300]\n",
    "s = signal.medfilt(data[1][:300], kernel_size=kernel_width)\n",
    "    \n",
    "ax[0].plot(t, s, 'b')\n",
    "ax[1].plot(t, np.gradient(s), 'r')\n",
    "ax[2].plot(t, np.gradient(np.gradient(s)), 'g')"
   ]
  },
  {
   "cell_type": "markdown",
   "metadata": {},
   "source": [
    "### Gaussian Smoothing\n",
    "\n",
    "The [``gaussian_filter``](). Smoothing with the Gaussian function is described as a convolution of the original signal with a Gaussian function.\n",
    "\n",
    "### What is convolution\n",
    "\n",
    "![Visualization of convolution](https://goo.gl/FWGliL)\n",
    "\n",
    "Convolutions is a function that takes as input two signals ($f$) and ($g$) and returns as output a new signal that is obtained by  \n",
    "1. flipping $f$\n",
    "1. shifting $g1$\n",
    "2. multiplying the shifted and flipped $f$ by $g$.\n",
    "1. summing up the value sof the multiplication.\n",
    "\n",
    "This can be written mathematically as\n",
    "\n",
    "$$\n",
    "(f * g)(t) \\overset{\\Delta}{=} \\int_{-\\infty}^\\infty f(t-\\tau)g(\\tau)d\\tau\n",
    "$$"
   ]
  },
  {
   "cell_type": "markdown",
   "metadata": {},
   "source": [
    "### What is a [Gaussian](https://en.wikipedia.org/wiki/Gaussian_function)\n",
    "\n",
    "The Gaussian is a function that you will encounter over and over.\n",
    "\n",
    "SciPy has a [Gaussian window function](http://docs.scipy.org/doc/scipy/reference/generated/scipy.signal.gaussian.html)"
   ]
  },
  {
   "cell_type": "code",
   "execution_count": null,
   "metadata": {},
   "outputs": [],
   "source": [
    "plt.plot(signal.gaussian(100,10))"
   ]
  },
  {
   "cell_type": "markdown",
   "metadata": {},
   "source": [
    "### Why might this be a good function for smoothing?"
   ]
  },
  {
   "cell_type": "code",
   "execution_count": null,
   "metadata": {},
   "outputs": [],
   "source": [
    "gaussian_width = 3\n",
    "f, ax = plt.subplots(3,1)\n",
    "f.set_size_inches(8,12)\n",
    "t = data[0][:300]\n",
    "s = filters.gaussian_filter(data[1][:300], gaussian_width)\n",
    "    \n",
    "ax[0].plot(t, s, 'b')\n",
    "ax[1].plot(t, np.gradient(s), 'r')\n",
    "ax[2].plot(t, np.gradient(np.gradient(s)), 'g')"
   ]
  },
  {
   "cell_type": "code",
   "execution_count": null,
   "metadata": {},
   "outputs": [],
   "source": []
  },
  {
   "cell_type": "code",
   "execution_count": null,
   "metadata": {},
   "outputs": [],
   "source": [
    "gaussian_width = 3\n",
    "f, ax = plt.subplots(3,1)\n",
    "f.set_size_inches(8,12)\n",
    "t = data[0][:300]\n",
    "s = data[1][:300]\n",
    "    \n",
    "ax[0].plot(t, filters.gaussian_filter(s, gaussian_width, order=0), 'b')\n",
    "ax[1].plot(t, filters.gaussian_filter(s, gaussian_width, order=1), 'r')\n",
    "ax[2].plot(t, filters.gaussian_filter(s, gaussian_width, order=2), 'g')"
   ]
  },
  {
   "cell_type": "markdown",
   "metadata": {},
   "source": [
    "## Exercise: How could you use 1st and 2nd derivatives to detect the *R* wave of the ECG?\n",
    "\n",
    "#### Hints:\n",
    "\n",
    "* Use the [``np.where``](http://docs.scipy.org/doc/numpy/reference/generated/numpy.where.html) function in conjunction with the [``np.logical_and``](http://docs.scipy.org/doc/numpy/reference/generated/numpy.logical_and.html#numpy.logical_and) function."
   ]
  },
  {
   "cell_type": "code",
   "execution_count": null,
   "metadata": {},
   "outputs": [],
   "source": []
  },
  {
   "cell_type": "code",
   "execution_count": null,
   "metadata": {},
   "outputs": [],
   "source": [
    "plt.plot(t, s*(filters.gaussian_filter(s, gaussian_width, order=2) < 0))"
   ]
  },
  {
   "cell_type": "code",
   "execution_count": null,
   "metadata": {},
   "outputs": [],
   "source": [
    "gaussian_width = 7\n",
    "mask = np.where(np.logical_and(filters.gaussian_filter(s, gaussian_width, order=1) > 0,\n",
    "                               filters.gaussian_filter(s, gaussian_width, order=2) < 0),\n",
    "                1, 0)\n",
    "\n",
    "plt.plot(t, s*mask)"
   ]
  },
  {
   "cell_type": "markdown",
   "metadata": {},
   "source": [
    "### Make an Interactive Exploration of the Derivatives"
   ]
  },
  {
   "cell_type": "code",
   "execution_count": null,
   "metadata": {},
   "outputs": [],
   "source": []
  }
 ],
 "metadata": {
  "kernelspec": {
   "display_name": "Python 3",
   "language": "python",
   "name": "python3"
  },
  "language_info": {
   "codemirror_mode": {
    "name": "ipython",
    "version": 3
   },
   "file_extension": ".py",
   "mimetype": "text/x-python",
   "name": "python",
   "nbconvert_exporter": "python",
   "pygments_lexer": "ipython3",
   "version": "3.5.2"
  }
 },
 "nbformat": 4,
 "nbformat_minor": 1
}

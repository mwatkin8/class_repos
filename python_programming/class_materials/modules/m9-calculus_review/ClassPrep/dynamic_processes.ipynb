{
 "cells": [
  {
   "cell_type": "markdown",
   "metadata": {},
   "source": [
    "# Differential Calculus\n",
    "### Differential calculus is a methodology to study how things change\n",
    "## What changes in biomedicine?"
   ]
  },
  {
   "cell_type": "markdown",
   "metadata": {},
   "source": [
    "## Motivation: Drug Concentration\n",
    "\n",
    "The following example is taken from *Mathematics for the Life Sciences* \n",
    "\n",
    "A simple mathematical model of a blood serum drug concentration is\n",
    "\n",
    "$$\n",
    "y=Ae^{-kt}\n",
    "$$\n",
    "\n",
    "Where $y$ is the drug cocentration, $A$ is the initial dose of the drug at time $t=0$, and $k$ is a *rate constant* that describes how rapidly the concentration changes.\n",
    "\n",
    "Concetration changes because the drug might be metabolized by the liver (or other organ), is cleared from the blood and removed in the urine by the kidneys, etc.\n",
    "\n",
    "### Example:\n",
    "\n",
    "Assuming for ibuprofen an initial dose of 200 mg and a rate constant of 0.35, plot the concentration curve vs time.\n",
    "\n",
    "### We are going to introduce another third-party Python package, [Sympy](http://docs.sympy.org/latest/index.html)"
   ]
  },
  {
   "cell_type": "code",
   "execution_count": null,
   "metadata": {},
   "outputs": [],
   "source": [
    "%matplotlib inline\n",
    "from sympy import symbols\n",
    "from sympy.plotting import plot\n",
    "import math"
   ]
  },
  {
   "cell_type": "markdown",
   "metadata": {},
   "source": [
    "#### ``symbols`` will allow us to create symbolic variables "
   ]
  },
  {
   "cell_type": "code",
   "execution_count": null,
   "metadata": {},
   "outputs": [],
   "source": [
    "t = symbols('t')"
   ]
  },
  {
   "cell_type": "markdown",
   "metadata": {},
   "source": [
    "#### We can now plot an expression that is a function of ``t`` vs a range of values for ``t``."
   ]
  },
  {
   "cell_type": "code",
   "execution_count": null,
   "metadata": {},
   "outputs": [],
   "source": [
    "A = 200\n",
    "k = 0.35\n",
    "b = 0.46\n",
    "plot(A*math.e**(-k*t), (t,0, 10))"
   ]
  },
  {
   "cell_type": "markdown",
   "metadata": {},
   "source": [
    "#### Note that the above expression is equivalent to the expression plotted below:"
   ]
  },
  {
   "cell_type": "code",
   "execution_count": null,
   "metadata": {},
   "outputs": [],
   "source": [
    "from sympy.functions import exp\n",
    "plot(A*exp(-k*t), (t,0, 10))"
   ]
  },
  {
   "cell_type": "markdown",
   "metadata": {},
   "source": [
    "### A more sophisticated drug clearance model accounts for the fact that an oral dose has to be absorbed by the digestive system\n",
    "\n",
    "$$\n",
    "y = \\frac{Ab}{b-k}\\left(e^{-kt}-e^{-bt}\\right)\n",
    "$$\n",
    "\n",
    "where we have added the parameter $b$ which is the clearance rate for the digestive system and typically $b > k$."
   ]
  },
  {
   "cell_type": "code",
   "execution_count": null,
   "metadata": {},
   "outputs": [],
   "source": [
    "b = 0.46\n",
    "p = plot( A*exp(-k*t), A*b/(b-k)*(exp(-k*t)-exp(-b*t)), (t, 0, 10), \n",
    "          show=False, legend=True)\n",
    "p[0].line_color = 'r'\n",
    "p[1].line_color = 'b'\n",
    "p[0].label = \"No absorption model\"\n",
    "p[1].label = 'Absorption model'\n",
    "p.show()"
   ]
  },
  {
   "cell_type": "markdown",
   "metadata": {},
   "source": [
    ">Medication regimens for multiple doses are designed so that the minimum level (just before a dose) is high enough to be therapeutic and the maximum level (just after a dose) is not high enough to be toxic.\n",
    ">\n",
    ">Suppose a person has been taking 650- mg doses of acetaminophen every 4 h for several days. This will result in a drug versus time curve that repeats over a period of 4 h. Let A be the unknown concentration immediately after taking a dose. "
   ]
  },
  {
   "cell_type": "markdown",
   "metadata": {},
   "source": [
    "## What are some questions we might ask?\n",
    "1. What is the concentration after 4 hours?\n",
    "1. With the absorption model, what time is the dose maximum?\n",
    "\n",
    "## Consider question 2 in more detail\n",
    "### What does the maximum point look like?"
   ]
  },
  {
   "cell_type": "code",
   "execution_count": null,
   "metadata": {},
   "outputs": [],
   "source": [
    "from sympy import diff\n",
    "model2 = A*b/(b-k)*(exp(-k*t)-exp(-b*t))\n",
    "p = plot(model2, diff(model2), (t, 0, 10), show=False, legend=True)\n",
    "p[0].line_color = 'r'\n",
    "p[0].label = 'Original function'\n",
    "p[1].line_color = 'g'\n",
    "p[1].label = 'Slope (1st derivative)'\n",
    "p.show()"
   ]
  },
  {
   "cell_type": "markdown",
   "metadata": {},
   "source": [
    "## Special Functions Defined in Sympy"
   ]
  },
  {
   "cell_type": "code",
   "execution_count": null,
   "metadata": {},
   "outputs": [],
   "source": [
    "import sympy.functions as funcs"
   ]
  },
  {
   "cell_type": "code",
   "execution_count": null,
   "metadata": {},
   "outputs": [],
   "source": [
    "plot(funcs.Heaviside(t-1)+1, (t, -5, 5))"
   ]
  },
  {
   "cell_type": "markdown",
   "metadata": {},
   "source": [
    "### How could we use the Heaviside function to model multiple doses?"
   ]
  },
  {
   "cell_type": "code",
   "execution_count": null,
   "metadata": {},
   "outputs": [],
   "source": [
    "T=4\n",
    "plot(A*b/(b-k)*(exp(-k*t)-exp(-b*t))+funcs.Heaviside(t-4)*A*b/(b-k)*(exp(-k*(t-T))-exp(-b*(t-T))), (t, 0, 10))"
   ]
  },
  {
   "cell_type": "code",
   "execution_count": null,
   "metadata": {},
   "outputs": [],
   "source": [
    "def oral_dosing(A, b, k, t, T=0):\n",
    "    return funcs.Heaviside(t-T)*(A*b/(b-k))*(exp(-k*(t-T))-exp(-b*(t-T)))\n",
    "                                           "
   ]
  },
  {
   "cell_type": "code",
   "execution_count": null,
   "metadata": {},
   "outputs": [],
   "source": [
    "def sum_dosing(A, b, k, t, T=0, N=6):\n"
   ]
  },
  {
   "cell_type": "code",
   "execution_count": null,
   "metadata": {},
   "outputs": [],
   "source": [
    "plot(oral_dosing(A, b, k, t)+\\\n",
    "     oral_dosing(A, b, k, t, T=4)+\\\n",
    "     oral_dosing(A, b, k, t, T=8), (t, -10, 24))"
   ]
  },
  {
   "cell_type": "code",
   "execution_count": null,
   "metadata": {},
   "outputs": [],
   "source": [
    "def dosing(A, b, k, t, T=[0, 4, 8, 12, 16, 20, 24]):\n",
    "    \n",
    "    dt = T[0]\n",
    "    dose = oral_dosing(A, b, k, t, T=dt)\n",
    "    for dt in T[1:]:\n",
    "        dose += oral_dosing(A, b, k, t, T=dt)\n",
    "    return dose\n"
   ]
  },
  {
   "cell_type": "code",
   "execution_count": null,
   "metadata": {},
   "outputs": [],
   "source": [
    "plot(dosing(A, b, k, t), (t, -5, 25))"
   ]
  },
  {
   "cell_type": "code",
   "execution_count": null,
   "metadata": {},
   "outputs": [],
   "source": [
    "plot(dosing(A, b, k, t, T=range(0,25, 3)), (t, -5, 25))"
   ]
  },
  {
   "cell_type": "code",
   "execution_count": null,
   "metadata": {},
   "outputs": [],
   "source": [
    "plot(dosing(A, b, k, t, T=range(0,25, 2)), (t, -5, 25))"
   ]
  },
  {
   "cell_type": "markdown",
   "metadata": {},
   "source": [
    "## Derivatives of Common Functions"
   ]
  },
  {
   "cell_type": "code",
   "execution_count": null,
   "metadata": {},
   "outputs": [],
   "source": [
    "plot(funcs.cos(t), diff(funcs.cos(t)), (t, 0, 8))"
   ]
  },
  {
   "cell_type": "code",
   "execution_count": null,
   "metadata": {},
   "outputs": [],
   "source": []
  }
 ],
 "metadata": {
  "kernelspec": {
   "display_name": "Python 3",
   "language": "python",
   "name": "python3"
  },
  "language_info": {
   "codemirror_mode": {
    "name": "ipython",
    "version": 3
   },
   "file_extension": ".py",
   "mimetype": "text/x-python",
   "name": "python",
   "nbconvert_exporter": "python",
   "pygments_lexer": "ipython3",
   "version": "3.5.2"
  }
 },
 "nbformat": 4,
 "nbformat_minor": 1
}

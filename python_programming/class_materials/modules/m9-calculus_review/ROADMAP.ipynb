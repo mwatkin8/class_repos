{
 "cells": [
  {
   "cell_type": "markdown",
   "metadata": {},
   "source": [
    "# Calculus Review\n",
    "\n",
    ">With an absurd oversimplification, the \"invention\" of the calculus is sometimes ascribed to two men, Newton and Leibniz. In reality, the calculus is the product of a long evolution that was neither initiated nor terminated by Newton and Leibniz, but in which both played a decisive part. Scattered over seventeenth century Europe, for the post part outside the schools, was a group of spirited scientists who strove to continue the mathematical work of Galileo and Kepler. By correspondence and travel the men maintained close contact. Two central problems held their attention. First, *the problem of tangents:* to determine the tangent lines to a given curve, the fundamental problem of the differential calculus. Second, *the problem of quadrature:* to determine the area with a given curve, the fundamental problem of the integral calculus. Newton's and Leibniz' great merit is to have clearly recognized the intimate *connection between these two problems.* In their hands the new unified methods became powerful instruments of science. Much of the success was due to the marvelous symbolic notation invented by Leibniz. (*What is Mathematics,* p. 398)\n",
    "\n",
    "## Motivation\n",
    "#### There are multiple reasons you should know calculus, some of which I will list:\n",
    "\n",
    "-   The foundation of Statistics\n",
    "\n",
    "-   The foundation of Decision Theory\n",
    "\n",
    "-   The foundation of Bayesian Analysis\n",
    "\n",
    "-   The foundation of Outbreak/Signal Detection\n",
    "\n",
    "-   The foundation of Image Acquisition and Analysis\n",
    "\n",
    "Our emphasis here is on an intuitive understanding of what \n",
    "\n",
    "\n",
    "## Work Through for Class\n",
    "### [Kahn Academy Differential Calculus Tutorial](https://www.khanacademy.org/math/differential-calculus/derivative-intro-dc)\n",
    "### [Taming math and physics using SymPy](https://minireference.com/static/tutorials/sympy_tutorial.pdf)\n",
    "* This is a tutorial based on SymPy. Work through the tutorial using a notebook. Work up through the \"Calculus: Optimization\" Section\n",
    "\n",
    "### [Wired Crash Course on Derivatives](https://www.wired.com/2015/04/crash-course-derivatives/)\n",
    "\n",
    "## Additional Resources\n",
    "* [Gilbert Strang On-line Calculus Course](http://ocw.mit.edu/resources/res-18-001-calculus-online-textbook-spring-2005/textbook/)\n",
    "* [MIT Course notes for \"Calculus for Beginners and Artists](http://www-math.mit.edu/~djk/calculus_beginners/)\n",
    "* [Harvey Mudd College Calculus Tutorials](https://www.math.hmc.edu/calculus/tutorials/)\n",
    "* [SageMath Calculus tutorials](http://www.sagemath.org/calctut/)\n",
    "    * SageMath is a Python based symbolic mathematics environment"
   ]
  },
  {
   "cell_type": "code",
   "execution_count": null,
   "metadata": {},
   "outputs": [],
   "source": []
  }
 ],
 "metadata": {
  "anaconda-cloud": {},
  "kernelspec": {
   "display_name": "Python 3",
   "language": "python",
   "name": "python3"
  },
  "language_info": {
   "codemirror_mode": {
    "name": "ipython",
    "version": 3
   },
   "file_extension": ".py",
   "mimetype": "text/x-python",
   "name": "python",
   "nbconvert_exporter": "python",
   "pygments_lexer": "ipython3",
   "version": "3.5.2"
  }
 },
 "nbformat": 4,
 "nbformat_minor": 1
}

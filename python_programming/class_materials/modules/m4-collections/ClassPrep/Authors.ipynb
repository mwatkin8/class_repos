{
 "cells": [
  {
   "cell_type": "markdown",
   "metadata": {},
   "source": [
    "# Illustration of Sets with Authors"
   ]
  },
  {
   "cell_type": "markdown",
   "metadata": {},
   "source": [
    "## Here are some Python steps to set up the notebook"
   ]
  },
  {
   "cell_type": "markdown",
   "metadata": {},
   "source": [
    "### This will allow us to draw in the notebook"
   ]
  },
  {
   "cell_type": "code",
   "execution_count": null,
   "metadata": {},
   "outputs": [],
   "source": [
    "%matplotlib inline"
   ]
  },
  {
   "cell_type": "code",
   "execution_count": null,
   "metadata": {},
   "outputs": [],
   "source": [
    "!pip install matplotlib_venn"
   ]
  },
  {
   "cell_type": "markdown",
   "metadata": {},
   "source": [
    "### We need to import some Python modules "
   ]
  },
  {
   "cell_type": "code",
   "execution_count": null,
   "metadata": {},
   "outputs": [],
   "source": [
    "from matplotlib_venn import venn2_circles, venn2, venn3\n",
    "import matplotlib.pyplot as plt\n"
   ]
  },
  {
   "cell_type": "markdown",
   "metadata": {},
   "source": [
    "## Let's define some sets consisting of Authors and such\n",
    "\n",
    "In Python we can define a [set](https://docs.python.org/3.4/tutorial/datastructures.html#sets) with curly brackets. Elements (members) of the set are seperated by commas. "
   ]
  },
  {
   "cell_type": "code",
   "execution_count": null,
   "metadata": {},
   "outputs": [],
   "source": [
    "Essayists = {\"Donald Hall\",\"Gary Snyder\",\"Mary Oliver\",\"Michel de Montaigne\",\n",
    "             \"E. B. White\",\"Albert Camus\", \"Anne Carson\",\"Simone de Beauvoir\"}\n",
    "Poets = {\"Christina Rosetti\",\"Donald Hall\",\"Gary Snyder\",\"Mary Oliver\",\"Robert Browning\",\n",
    "         \"A. E. Housman\",\"Billy Collins\",\"Elizabeth Barrett Browning\"}\n",
    "French= {\"Simone de Beauvoir\",\"Michel de Montaigne\",\"Victor Hugo\",\"Alexander Dumas\",\"Voltaire\",\n",
    "         \"Albert Camus\"}\n",
    "Females={\"Christina Rosetti\",\"Mary Oliver\",\"Elizabeth Barrett Browning\",\"Sappho\",\"Athena\",\n",
    "        \"Eleanor Roosevelt\",\"Mary Cassatt\",\"Hypatia\",\"Helen\",\"Cassandra\",\"Penelope\",\"Theano\",\n",
    "        \"Ada Lovelace\", \"Anne Carson\", \"Simone de Beauvoir\"}\n"
   ]
  },
  {
   "cell_type": "markdown",
   "metadata": {},
   "source": [
    "#### Example: How many French, Female Essayists do we have?\n",
    "##### What are our set operations?\n",
    "If we rewrite this, it will become more clear:\n",
    "\n",
    "* \"How many people in our sets are French and Female and Essayists?\"\n",
    "* **AND** $\\rightarrow$ **Intersection**\n",
    "\n",
    "$ \\text{French} \\cap \\text{Females} \\cap \\text{Essayists}$\n"
   ]
  },
  {
   "cell_type": "code",
   "execution_count": null,
   "metadata": {},
   "outputs": [],
   "source": [
    "Essayists.intersection(French).intersection(Females)"
   ]
  },
  {
   "cell_type": "markdown",
   "metadata": {},
   "source": [
    "### Let's look at a Venn Diagram of this"
   ]
  },
  {
   "cell_type": "code",
   "execution_count": null,
   "metadata": {},
   "outputs": [],
   "source": [
    "venn3([Essayists, Females, French],(\"Essayists\",\"Females\",\"French\"))"
   ]
  },
  {
   "cell_type": "markdown",
   "metadata": {},
   "source": [
    "#### How many Poets or Essayists are Female?\n",
    "##### Solution\n",
    "\n",
    "* \"How many of the people in our sets are Poets or Essayists and female?\"\n",
    "\n",
    "* **OR** $\\rightarrow$ **UNION**\n",
    "* **AND** $\\rightarrow$ **Intersection**\n",
    "\n",
    "$ (\\text{Poets} \\cup \\text{Essayists}) \\cap \\text{Females}$\n"
   ]
  },
  {
   "cell_type": "code",
   "execution_count": null,
   "metadata": {},
   "outputs": [],
   "source": [
    "Females.intersection(Poets.union(Essayists))"
   ]
  },
  {
   "cell_type": "code",
   "execution_count": null,
   "metadata": {},
   "outputs": [],
   "source": []
  }
 ],
 "metadata": {
  "anaconda-cloud": {},
  "kernelspec": {
   "display_name": "Python 3",
   "language": "python",
   "name": "python3"
  },
  "language_info": {
   "codemirror_mode": {
    "name": "ipython",
    "version": 3
   },
   "file_extension": ".py",
   "mimetype": "text/x-python",
   "name": "python",
   "nbconvert_exporter": "python",
   "pygments_lexer": "ipython3",
   "version": "3.5.2"
  }
 },
 "nbformat": 4,
 "nbformat_minor": 1
}

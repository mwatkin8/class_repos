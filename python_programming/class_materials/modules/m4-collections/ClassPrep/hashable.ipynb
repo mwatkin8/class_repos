{
 "cells": [
  {
   "cell_type": "markdown",
   "metadata": {},
   "source": [
    "# Hashes\n",
    "\n",
    "#### What is meant by ``hashable objects``?\n",
    "\n",
    "> An object is hashable if it has a hash value which never changes during its lifetime$\\cdots$, and can be compared to other objects. ([Python documentation](https://docs.python.org/3.5/glossary.html#term-hashable))\n",
    "\n",
    "#### What is a ``hash value``?\n",
    "\n",
    "In Python a ``hash value`` is an integer that uniquely represents some collection of data. See [this](https://docs.python.org/3/library/functions.html#hash) brief discussion in the Python documentation and [this](https://en.wikipedia.org/wiki/Hash_function) wikipedia article.\n",
    "\n",
    "#### What are some hashable objects in Python\n",
    "\n",
    "* Numbers\n",
    "    * Even though they are different, the float 1.0 and the integer 1 have the same hash value\n",
    "* Strings\n",
    "* Tuples\n",
    "\n",
    "#### What are some unhashable objects in Python\n",
    "* Lists\n",
    "* Dictinaries\n",
    "* Sets\n",
    "\n",
    "**KEY IDEA: Immutable**"
   ]
  },
  {
   "cell_type": "code",
   "execution_count": null,
   "metadata": {},
   "outputs": [],
   "source": []
  }
 ],
 "metadata": {
  "anaconda-cloud": {},
  "kernelspec": {
   "display_name": "Python [6950]",
   "language": "python",
   "name": "Python [6950]"
  },
  "language_info": {
   "codemirror_mode": {
    "name": "ipython",
    "version": 3
   },
   "file_extension": ".py",
   "mimetype": "text/x-python",
   "name": "python",
   "nbconvert_exporter": "python",
   "pygments_lexer": "ipython3",
   "version": "3.5.2"
  }
 },
 "nbformat": 4,
 "nbformat_minor": 0
}

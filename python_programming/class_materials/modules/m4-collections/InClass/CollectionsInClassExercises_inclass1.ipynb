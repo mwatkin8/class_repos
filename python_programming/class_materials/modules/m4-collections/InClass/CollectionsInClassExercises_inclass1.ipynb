{
 "cells": [
  {
   "cell_type": "markdown",
   "metadata": {},
   "source": [
    "# Quiz\n",
    "* given **a = [1,2,3]** and **b = [4,5,6]**\n",
    "* Are these two statements equivalent?\n",
    "    * a.extend(b)\n",
    "    * a.append(b)"
   ]
  },
  {
   "cell_type": "code",
   "execution_count": null,
   "metadata": {},
   "outputs": [],
   "source": [
    "a= [1,2,3]\n",
    "b = [4,5,6]"
   ]
  },
  {
   "cell_type": "code",
   "execution_count": null,
   "metadata": {},
   "outputs": [],
   "source": [
    "a.append(b)\n",
    "a"
   ]
  },
  {
   "cell_type": "code",
   "execution_count": null,
   "metadata": {},
   "outputs": [],
   "source": [
    "a.extend(b)\n",
    "a"
   ]
  },
  {
   "cell_type": "markdown",
   "metadata": {},
   "source": [
    "# Greek Myth for the Day\n",
    "\n",
    "ODYSSEUS    \n",
    ">                                         \"Let me assure you,\n",
    ">      among human beings most are changeable,    \n",
    ">      sometimes friendly, then sometimes bitter.\"   \n",
    ">        \n",
    ">AGAMEMNON    \n",
    ">    \n",
    ">      \"Are those the sort of men you'd recommend    \n",
    ">      that we accept as friends?\"    \n",
    ">    \n",
    ">ODYSSEUS    \n",
    ">  \n",
    ">                            \"Well, I wouldn't recommend\n",
    ">      we choose someone inflexible.\"   \n",
    ">      \n",
    "> (Sophocles, \"Ajax\")"
   ]
  },
  {
   "cell_type": "markdown",
   "metadata": {},
   "source": [
    "## Would Odysseus choose a list or a tuple as a friend?"
   ]
  },
  {
   "cell_type": "markdown",
   "metadata": {},
   "source": [
    "## Tuples: Application\n",
    "* Would a tuple be a more appropriate data structure for representing a patient than a list?\n",
    "* Could we mix lists and tuples together to create a better patient representation?\n"
   ]
  },
  {
   "cell_type": "markdown",
   "metadata": {},
   "source": [
    "## Here are the results of a previous blood test of mine\n",
    "### With your groups, use strings, numbers, lists, tuples  to create a Python representation of this test\n",
    "|Component|Standard Range|Your Value|Flag|\n",
    "|---------|--------------|----------|----|\n",
    "|Glucose|\t70 - 115 mg/dL|\t89\t| |\n",
    "|BUN    |\t6 - 20 mg/dL  |26\t|H|\n",
    "|Creatinine|\t0.67 - 1.17 mg/dL|\t1.39|\tH|\n",
    "|Sodium|\t136 - 145 mmol/L|\t136\t| |\n",
    "|Potassium|\t3.5 - 5.1 mmol/L|\t4.5\t||\n",
    "|Chloride|\t98 - 107 mmol/L\t|101| |\t\n",
    "|Bicarbonate|\t22 - 29 mmol/L|\t25\t| |\n",
    "|Calcium|\t8.6 - 10.5 mg/dL|\t9.4\t| |\n",
    "\n",
    "|General Information|\n",
    "|-------------------|\n",
    "|Collected:|\n",
    "|03/01/2012  9:22 AM|\n",
    "|Resulted: |\n",
    "|03/01/2012  2:19 PM|"
   ]
  },
  {
   "cell_type": "code",
   "execution_count": null,
   "metadata": {},
   "outputs": [],
   "source": [
    "test1 = ((\"Creatine\", (0.67,1.17), \"mg/dL\", 1.39, \"H\"),\n",
    "         (\"Glucose\", (70,115), \"mg/dL\", 89, \"\"))"
   ]
  },
  {
   "cell_type": "code",
   "execution_count": null,
   "metadata": {},
   "outputs": [],
   "source": [
    "report1 = \"\"\"The specimens are received in formalin identified on the containers with the\n",
    "patient's name, with the initials BC.\n",
    "Part 1 is labeled as \"posterior neck\". The tissue is white, measuring 0.7 x\n",
    "0.4 x 0.1 cm with a 0.5 x 0.3 cm brown lesion. The tissue is inked, bisected\n",
    "and submitted in cassette labeled lA.\n",
    "Part 2 is labeled as \"right posterior thigh\". The tissue is white, measuring\n",
    "0.6 x 0.4 x 0.1 cm with a 0.3 x 0.2 cm brown lesion. The tissue is inked,\n",
    "bisected and submitted in cassette labeled 2A.\"\"\"\n",
    "\n",
    "report2 = \"\"\"The patient is a 37 year old white male with a history of a new 6 x 6 mm light\n",
    "brown macule on left chest, which was not present at last examination 6/04. Approximately 90% of this melanoma is in-situ; the rest is composed of\n",
    "invasive (dermal) component; however, there is a central area of regression\n",
    "identified, up to 0.6 mm deep, in the close proximity of the early invasive\n",
    "component.\"\"\""
   ]
  },
  {
   "cell_type": "markdown",
   "metadata": {},
   "source": [
    "### Problems\n",
    "\n",
    "1. How many characters are in each report?\n",
    "    1. How many characters are in each report not including whitespaces?\n",
    "1. How many words are in each report?\n",
    "1. What is the average length of each word?\n",
    "1. Create versions of the reports without line breaks?\n",
    "1. Can you split these reports into sentences?"
   ]
  },
  {
   "cell_type": "markdown",
   "metadata": {},
   "source": [
    "#### How many characters?"
   ]
  },
  {
   "cell_type": "code",
   "execution_count": null,
   "metadata": {},
   "outputs": [],
   "source": [
    "len (report1), len (report2)"
   ]
  },
  {
   "cell_type": "markdown",
   "metadata": {},
   "source": [
    "#### How many non-whitespace characters?\n",
    "\n",
    "The best way to do this would be with regular expressions, which we will learn about later."
   ]
  },
  {
   "cell_type": "code",
   "execution_count": null,
   "metadata": {},
   "outputs": [],
   "source": [
    "len (report1.replace(\" \",\"\").replace(\"\\t\", \"\").replace(\"\\n\",\"\")), len (report2)"
   ]
  },
  {
   "cell_type": "markdown",
   "metadata": {},
   "source": [
    "#### How many words?"
   ]
  },
  {
   "cell_type": "code",
   "execution_count": null,
   "metadata": {},
   "outputs": [],
   "source": [
    "#help(report1.split)\n",
    "len(report1.split(sep=None )),len(report2.split(sep=None ))"
   ]
  },
  {
   "cell_type": "markdown",
   "metadata": {},
   "source": [
    "#### How to split into sentences?\n",
    "\n",
    "* `\". \"` avoids splitting on decimal numbers but doesn't address things like (Dr., Mr. R.N., etc.)\n",
    "* We also missed sentences that ended with a line break (`\"\\n\"`)."
   ]
  },
  {
   "cell_type": "code",
   "execution_count": null,
   "metadata": {},
   "outputs": [],
   "source": [
    "report1.split(\". \")\n",
    "\n",
    "split(\".\\n\")"
   ]
  },
  {
   "cell_type": "markdown",
   "metadata": {},
   "source": [
    "#### Average length of words"
   ]
  },
  {
   "cell_type": "code",
   "execution_count": null,
   "metadata": {},
   "outputs": [],
   "source": [
    "import numpy as np\n",
    "AverageLen=[]\n",
    "for word in report1.split():\n",
    "    AverageLen.append (len(word))\n",
    "np.mean (AverageLen)"
   ]
  },
  {
   "cell_type": "markdown",
   "metadata": {},
   "source": [
    "## Lists of Lists, tuples with lists, and copies of lists"
   ]
  },
  {
   "cell_type": "code",
   "execution_count": null,
   "metadata": {},
   "outputs": [],
   "source": []
  }
 ],
 "metadata": {
  "anaconda-cloud": {},
  "kernelspec": {
   "display_name": "Python 3",
   "language": "python",
   "name": "python3"
  },
  "language_info": {
   "codemirror_mode": {
    "name": "ipython",
    "version": 3
   },
   "file_extension": ".py",
   "mimetype": "text/x-python",
   "name": "python",
   "nbconvert_exporter": "python",
   "pygments_lexer": "ipython3",
   "version": "3.5.2"
  }
 },
 "nbformat": 4,
 "nbformat_minor": 1
}

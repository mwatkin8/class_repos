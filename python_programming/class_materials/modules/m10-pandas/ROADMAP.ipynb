{
 "cells": [
  {
   "cell_type": "markdown",
   "metadata": {},
   "source": [
    "# [Pandas](http://pandas.pydata.org/) is your Friend\n",
    "## I don't always feel this way, but I know it is true\n",
    "\n",
    "Pandas is a large data analysis framework that arose from the financial world. It thus has great support for time series, large data sets, and quick visualizations. Pandas is built on top of numpy and is inspired by R data frames. \n",
    "\n",
    "As I use Pandas I make heavy use of [lambda expressions](https://docs.python.org/3/tutorial/controlflow.html#lambda-expressions)\n",
    "\n",
    "### General Help on lambda functions\n",
    "\n",
    "* [Dive into Python](http://www.diveintopython.net/power_of_introspection/lambda_functions.html)\n",
    "\n",
    "**Note:** This is written in Python 2. To replicate the examples you will need to do some translation.\n",
    "\n",
    "## Class Prep\n",
    "\n",
    "* [Intro to Pandas part 1](ClassPrep/Pandas.ipynb)\n",
    "* [Intro to Pandas part 2](ClassPrep/Pandas-Part2.ipynb)\n",
    "* [Intro to Pandas part 3](ClassPrep/Pandas-Part3.ipynb)\n",
    "\n",
    "## In-Class\n",
    "\n",
    "* [Data Wrangling](InClass/Pandas-DataWrangling.ipynb)\n",
    "* [Pandas Visualization](InClass/Pandas-Visualization.ipynb)\n",
    "* [Time-series data](InClass/working_with_air_quality_data.ipynb)\n",
    "* [Pandas Mapping](InClass/Visualization-Maps.ipynb)\n",
    "\n",
    "## Resources\n",
    "\n",
    "* [A cheat sheet](Resources/DataExUsingPandas.pdf)\n",
    "* [Another cheat sheet](Resources/PandasScipyNumpyCheatSheet.pdf)"
   ]
  },
  {
   "cell_type": "code",
   "execution_count": null,
   "metadata": {},
   "outputs": [],
   "source": []
  }
 ],
 "metadata": {
  "kernelspec": {
   "display_name": "Python 3",
   "language": "python",
   "name": "python3"
  },
  "language_info": {
   "codemirror_mode": {
    "name": "ipython",
    "version": 3
   },
   "file_extension": ".py",
   "mimetype": "text/x-python",
   "name": "python",
   "nbconvert_exporter": "python",
   "pygments_lexer": "ipython3",
   "version": "3.5.2"
  }
 },
 "nbformat": 4,
 "nbformat_minor": 1
}

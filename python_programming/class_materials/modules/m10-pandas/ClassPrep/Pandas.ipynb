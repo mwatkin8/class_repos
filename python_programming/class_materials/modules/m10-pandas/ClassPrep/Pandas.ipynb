{
 "cells": [
  {
   "cell_type": "code",
   "execution_count": null,
   "metadata": {},
   "outputs": [],
   "source": [
    "from IPython.display import YouTubeVideo\n",
    "\n",
    "YouTubeVideo(\"wqXa8vLwHz0\")"
   ]
  },
  {
   "cell_type": "markdown",
   "metadata": {},
   "source": [
    "# [Pandas](http://pandas.pydata.org/)"
   ]
  },
  {
   "cell_type": "markdown",
   "metadata": {},
   "source": [
    "Pandas is a relatively newcomer to Python that arose in the financial world but has quickly taken hold and become a core library for data analysis generally within Python.\n",
    "\n",
    "Pandas organizes data into\n",
    "* [``Series``,1D](http://pandas.pydata.org/pandas-docs/stable/dsintro.html#series)\n",
    "* [``DataFrame``, 2D](http://pandas.pydata.org/pandas-docs/stable/dsintro.html#dataframe)\n",
    "    * This is most analagous to a SQL table or Excel spreadsheet\n",
    "* [``Panel``, 3D](http://pandas.pydata.org/pandas-docs/stable/dsintro.html#panel)\n",
    "* [``Panel4D``](http://pandas.pydata.org/pandas-docs/stable/dsintro.html#panel4d-experimental)\n",
    "    * Labeled as Experimental\n",
    "* [``PanelND``](http://pandas.pydata.org/pandas-docs/stable/dsintro.html#panelnd-experimental)\n",
    "    * Labeled as Experiemental"
   ]
  },
  {
   "cell_type": "code",
   "execution_count": null,
   "metadata": {},
   "outputs": [],
   "source": [
    "% matplotlib inline"
   ]
  },
  {
   "cell_type": "code",
   "execution_count": null,
   "metadata": {},
   "outputs": [],
   "source": [
    "import os\n",
    "import shutil\n",
    "import glob\n",
    "import sqlite3 as sqlite\n",
    "DATADIR = os.path.join(os.path.expanduser(\"~\"),\"DATA\")\n",
    "print(os.path.exists(DATADIR))"
   ]
  },
  {
   "cell_type": "code",
   "execution_count": null,
   "metadata": {},
   "outputs": [],
   "source": [
    "import pandas as pd"
   ]
  },
  {
   "cell_type": "markdown",
   "metadata": {},
   "source": [
    "## Reading/Writing Text Data with  Pandas"
   ]
  },
  {
   "cell_type": "markdown",
   "metadata": {},
   "source": [
    "One of the beauties of Pandas is the **ease of data input/output** that it provides. It has the capability to read\n",
    "* Tabular text data\n",
    "    * [``read_csv``](http://pandas.pydata.org/pandas-docs/stable/generated/pandas.read_csv.html): read comma separated files\n",
    "    * [``read_table``](http://pandas.pydata.org/pandas-docs/stable/generated/pandas.read_table.html): read tab separated files\n",
    "    * These are both wrappers to the same function with different default values\n",
    "* Relational Databases\n",
    "    * [``read_sql``](http://pandas.pydata.org/pandas-docs/stable/generated/pandas.read_sql.html)\n",
    "* HDF5, a high performance file format for very large data\n",
    "    * [``read_hdf``](http://pandas.pydata.org/pandas-docs/version/0.17.0/generated/pandas.read_hdf.html)\n",
    "* Excel\n",
    "    * [``read_excel``](http://pandas.pydata.org/pandas-docs/stable/generated/pandas.read_excel.html)\n",
    "    \n",
    "Pandas has the ability to read from a local disk or remote URL, with a wide variety of protocols.\n",
    "* http\n",
    "* ftp\n",
    "\n",
    "It can read compressed data. It can also read very large data.\n"
   ]
  },
  {
   "cell_type": "markdown",
   "metadata": {},
   "source": [
    "### Reading over ftp\n",
    "\n",
    "Here we are reading a file hosted on an ftp server at the NCBI. This is a data set that Karen Eilbeck suggested we work with"
   ]
  },
  {
   "cell_type": "code",
   "execution_count": null,
   "metadata": {},
   "outputs": [],
   "source": [
    "clinvar = pd.read_table(\"\"\"ftp://ftp.ncbi.nlm.nih.gov/pub/clinvar/tab_delimited/summary_of_conflicting_interpretations.txt\"\"\")\n",
    "clinvar.head()"
   ]
  },
  {
   "cell_type": "markdown",
   "metadata": {},
   "source": [
    "### Reading over http\n",
    "\n"
   ]
  },
  {
   "cell_type": "code",
   "execution_count": null,
   "metadata": {},
   "outputs": [],
   "source": [
    "icd9_data = \\\n",
    "    pd.read_table(\n",
    "        \"http://mynginx/data/top100-icd9.txt\", header=None  )\n",
    "icd9_data.head()"
   ]
  },
  {
   "cell_type": "code",
   "execution_count": null,
   "metadata": {},
   "outputs": [],
   "source": [
    "icd9_data.shape"
   ]
  },
  {
   "cell_type": "markdown",
   "metadata": {},
   "source": [
    "## Reading from SQL"
   ]
  },
  {
   "cell_type": "code",
   "execution_count": null,
   "metadata": {},
   "outputs": [],
   "source": [
    "conn = sqlite.connect(os.path.join(DATADIR, \"DBs\", \"seinfeldFood.sqlite\"))\n",
    "pd.read_sql(\"\"\"SELECT * FROM episodes\"\"\", conn)\n"
   ]
  },
  {
   "cell_type": "markdown",
   "metadata": {},
   "source": [
    "## Read from a Pickle File"
   ]
  },
  {
   "cell_type": "code",
   "execution_count": null,
   "metadata": {},
   "outputs": [],
   "source": [
    "pd.read_pickle(os.path.join(DATADIR, \"misc\", \"pah_pandas.pickle\"))"
   ]
  },
  {
   "cell_type": "markdown",
   "metadata": {},
   "source": [
    "## Read from a JSON File"
   ]
  },
  {
   "cell_type": "code",
   "execution_count": null,
   "metadata": {},
   "outputs": [],
   "source": [
    "pd.read_json(\"top100-icd9.json\")"
   ]
  },
  {
   "cell_type": "code",
   "execution_count": null,
   "metadata": {},
   "outputs": [],
   "source": []
  }
 ],
 "metadata": {
  "kernelspec": {
   "display_name": "Python 3",
   "language": "python",
   "name": "python3"
  },
  "language_info": {
   "codemirror_mode": {
    "name": "ipython",
    "version": 3
   },
   "file_extension": ".py",
   "mimetype": "text/x-python",
   "name": "python",
   "nbconvert_exporter": "python",
   "pygments_lexer": "ipython3",
   "version": "3.5.2"
  }
 },
 "nbformat": 4,
 "nbformat_minor": 1
}

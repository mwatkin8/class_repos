{
 "cells": [
  {
   "cell_type": "code",
   "execution_count": null,
   "metadata": {},
   "outputs": [],
   "source": [
    "from IPython.display import YouTubeVideo\n",
    "\n",
    "YouTubeVideo(\"72HCi8VyqNE\")"
   ]
  },
  {
   "cell_type": "markdown",
   "metadata": {},
   "source": [
    "# [Pandas](http://pandas.pydata.org/)"
   ]
  },
  {
   "cell_type": "code",
   "execution_count": null,
   "metadata": {},
   "outputs": [],
   "source": [
    "% matplotlib inline"
   ]
  },
  {
   "cell_type": "code",
   "execution_count": null,
   "metadata": {},
   "outputs": [],
   "source": [
    "import os\n",
    "import shutil\n",
    "import glob\n",
    "import sqlite3 as sqlite\n",
    "DATADIR = os.path.join(os.path.expanduser(\"~\"),\"DATA\")\n",
    "print(os.path.exists(DATADIR))"
   ]
  },
  {
   "cell_type": "code",
   "execution_count": null,
   "metadata": {},
   "outputs": [],
   "source": [
    "import pandas as pd"
   ]
  },
  {
   "cell_type": "markdown",
   "metadata": {},
   "source": [
    "## Reading/Writing Text Data with  Pandas"
   ]
  },
  {
   "cell_type": "markdown",
   "metadata": {},
   "source": [
    "## Pandas and HDF5\n",
    "\n",
    "* HDF5 is a high performance binary data format written in C\n",
    "* HDF5 facilitates a number of performance enhancements such as being able to access parts of the data without having to read into memory the whole dataset\n",
    "* Python has too different packages provide an HDF5 interface\n",
    "    * [h5py](http://www.h5py.org/)\n",
    "    * [pytables](http://www.pytables.org/moin)\n",
    "* Pandas uses pytables to interface with hdf5\n"
   ]
  },
  {
   "cell_type": "code",
   "execution_count": null,
   "metadata": {},
   "outputs": [],
   "source": [
    "url = os.path.join(DATADIR, \"Bioinf\",\n",
    " \"PANCAN12.IlluminaHiSeq_RNASeqV2.geneExp.tumor_whitelist\")\n",
    "time_csv = %timeit -o -r 1 pd.read_table(url)"
   ]
  },
  {
   "cell_type": "code",
   "execution_count": null,
   "metadata": {},
   "outputs": [],
   "source": [
    "url = os.path.join(DATADIR, \"Bioinf\",\n",
    " \"PANCAN12.IlluminaHiSeq_RNASeqV2.geneExp.tumor_whitelist.hdf5\")\n",
    "time_hdf5 = %timeit -o -r 1 pd.read_hdf(url)"
   ]
  },
  {
   "cell_type": "code",
   "execution_count": null,
   "metadata": {},
   "outputs": [],
   "source": [
    "time_csv.best / time_hdf5.best"
   ]
  },
  {
   "cell_type": "markdown",
   "metadata": {},
   "source": [
    "## Reading subsets of the data\n",
    "\n",
    "### ``chunksize``\n",
    "\n",
    "* We can specify the keyword argument ``chunksize`` to create an iterator that will read in ``chunksize`` rows at a time"
   ]
  },
  {
   "cell_type": "code",
   "execution_count": null,
   "metadata": {},
   "outputs": [],
   "source": [
    "os.path.exists(os.path.join(DATADIR,\"Misc\", \"pah_comorbidities.txt\"))"
   ]
  },
  {
   "cell_type": "code",
   "execution_count": null,
   "metadata": {},
   "outputs": [],
   "source": [
    "chunker = pd.read_table(\n",
    "              os.path.join(DATADIR, \"Misc\",\n",
    "              \"pah_comorbidities.txt\"),\n",
    "            chunksize = 10)"
   ]
  },
  {
   "cell_type": "code",
   "execution_count": null,
   "metadata": {},
   "outputs": [],
   "source": [
    "chunked_data = []\n",
    "\n",
    "for c in chunker:\n",
    "    chunked_data.append(c)\n",
    "    \n",
    "print (len(chunked_data))\n",
    "chunked_data[0]"
   ]
  },
  {
   "cell_type": "markdown",
   "metadata": {},
   "source": [
    "### We can specify what columns to use and how many rows to read\n",
    "* ``nrows``: number of rows to read\n",
    "* ``usecols``: a range of column numbers or collection of names of columns to use"
   ]
  },
  {
   "cell_type": "code",
   "execution_count": null,
   "metadata": {},
   "outputs": [],
   "source": [
    "url = os.path.join(DATADIR, \"Bioinf\",\n",
    " \"PANCAN12.IlluminaHiSeq_RNASeqV2.geneExp.tumor_whitelist\")\n",
    "genexp = pd.read_table(url,\n",
    "            nrows=100,\n",
    "            usecols=range(20,101))\n",
    "print(genexp.shape)\n",
    "genexp"
   ]
  },
  {
   "cell_type": "code",
   "execution_count": null,
   "metadata": {},
   "outputs": [],
   "source": [
    "\n",
    "pd.read_table(url,\n",
    "            nrows=100,\n",
    "            usecols=[\"TCGA-05-4396\",\"TCGA-05-4397\",\n",
    "                     \"TCGA-05-4398\",\"TCGA-05-4402\",\n",
    "                     \"TCGA-05-4403\"])"
   ]
  },
  {
   "cell_type": "code",
   "execution_count": null,
   "metadata": {},
   "outputs": [],
   "source": []
  }
 ],
 "metadata": {
  "kernelspec": {
   "display_name": "Python 3",
   "language": "python",
   "name": "python3"
  },
  "language_info": {
   "codemirror_mode": {
    "name": "ipython",
    "version": 3
   },
   "file_extension": ".py",
   "mimetype": "text/x-python",
   "name": "python",
   "nbconvert_exporter": "python",
   "pygments_lexer": "ipython3",
   "version": "3.5.2"
  }
 },
 "nbformat": 4,
 "nbformat_minor": 1
}

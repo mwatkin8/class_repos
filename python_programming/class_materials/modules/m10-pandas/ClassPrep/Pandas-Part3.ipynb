{
 "cells": [
  {
   "cell_type": "code",
   "execution_count": null,
   "metadata": {},
   "outputs": [],
   "source": [
    "from IPython.display import YouTubeVideo\n",
    "\n",
    "YouTubeVideo(\"26IAqxwVz-8\")"
   ]
  },
  {
   "cell_type": "markdown",
   "metadata": {},
   "source": [
    "# [Pandas](http://pandas.pydata.org/)"
   ]
  },
  {
   "cell_type": "code",
   "execution_count": null,
   "metadata": {},
   "outputs": [],
   "source": [
    "% matplotlib inline"
   ]
  },
  {
   "cell_type": "code",
   "execution_count": null,
   "metadata": {},
   "outputs": [],
   "source": [
    "import os\n",
    "import shutil\n",
    "import glob\n",
    "import sqlite3 as sqlite\n",
    "DATADIR = os.path.join(os.path.expanduser(\"~\"),\"DATA\")\n",
    "print(os.path.exists(DATADIR))"
   ]
  },
  {
   "cell_type": "code",
   "execution_count": null,
   "metadata": {},
   "outputs": [],
   "source": [
    "import pandas as pd"
   ]
  },
  {
   "cell_type": "markdown",
   "metadata": {},
   "source": [
    "## Reading Very Large Files with Pandas\n",
    "[Example 1](https://realpython.com/blog/python/working-with-large-excel-files-in-pandas/): This is a dataset of all car accidents in England between 1979 and 2004\n"
   ]
  },
  {
   "cell_type": "code",
   "execution_count": null,
   "metadata": {},
   "outputs": [],
   "source": [
    "url = os.path.join(DATADIR,\n",
    "                       \"Misc\",\n",
    "                       \"Accidents7904.csv\")\n",
    "accidents = pd.read_csv(url, usecols=range(10,20))\n",
    "accidents.tail()"
   ]
  },
  {
   "cell_type": "markdown",
   "metadata": {},
   "source": [
    "## Specifying details of data\n",
    "* Pandas can determine the data types of the columns.\n",
    "    * This takes time and memory\n",
    "    * If you know the column data types, you can save time and memory by specifying it with the ``dtype`` keyword\n",
    "* Europeans and Americans (and British?) use different symbols for \n",
    "    * Thousands marker\n",
    "    * Decimal point (\".\" vs \",\")\n",
    "    * Pandas allows you to specify these values to facilitate local differences in data representation"
   ]
  },
  {
   "cell_type": "code",
   "execution_count": null,
   "metadata": {},
   "outputs": [],
   "source": [
    "elevation = pd.read_table(os.path.join(DATADIR,\"Misc\", \"elevation2.txt\"),\n",
    "                           #thousands=\",\", \n",
    "                           usecols=[\"State\",\"Average elevation\",\n",
    "                                    \"Highest elevation\"])\n",
    "elevation"
   ]
  },
  {
   "cell_type": "code",
   "execution_count": null,
   "metadata": {},
   "outputs": [],
   "source": [
    "type(elevation.iloc[48][\"Average elevation\"])"
   ]
  },
  {
   "cell_type": "code",
   "execution_count": null,
   "metadata": {},
   "outputs": [],
   "source": []
  }
 ],
 "metadata": {
  "kernelspec": {
   "display_name": "Python 3",
   "language": "python",
   "name": "python3"
  },
  "language_info": {
   "codemirror_mode": {
    "name": "ipython",
    "version": 3
   },
   "file_extension": ".py",
   "mimetype": "text/x-python",
   "name": "python",
   "nbconvert_exporter": "python",
   "pygments_lexer": "ipython3",
   "version": "3.5.2"
  }
 },
 "nbformat": 4,
 "nbformat_minor": 1
}

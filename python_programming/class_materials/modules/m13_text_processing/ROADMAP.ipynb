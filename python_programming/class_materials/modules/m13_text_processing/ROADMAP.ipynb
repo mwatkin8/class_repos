{
 "cells": [
  {
   "cell_type": "markdown",
   "metadata": {},
   "source": [
    "# Basics of Text Processing\n",
    "\n",
    "In this module we will explore the basics of text processing using [regular expressions](https://docs.python.org/3/library/re.html). Regular expressions are very powerful, but very tricky. When writing regular expressions I always pull up the official [How To](https://docs.python.org/3.5/howto/regex.html). I also get very frustrated. In addition to the ntoebooks, read the chapters below and explore and experiment on your own.\n",
    "\n",
    "\n",
    "## E-chapter on Python Regular Expressions\n",
    "\n",
    "* [*Effective Computation in Physics,* \"Regular Expressions\"](http://proquest.safaribooksonline.com/book/physics/9781491901564/8dot-regular-expressions/chp_regex_html?uicode=uutah)\n",
    "* [*Professional Python,* \"Regular Expressions\"](http://proquest.safaribooksonline.com/book/programming/python/9781119070856/part-iii-data/c09_xhtml?uicode=uutah)\n",
    "\n",
    "## E-book on Python Regular Expressions\n",
    "\n",
    "* [*Mastering Python Regular Expressions*](http://proquest.safaribooksonline.com/book/programming/python/9781783283156/table-of-contents/toc_html?uicode=uutah)"
   ]
  },
  {
   "cell_type": "markdown",
   "metadata": {},
   "source": [
    "## Class Prep Notebooks\n",
    "\n",
    "* [Regular Expressions, Part 1](./ClassPrep/RegularExpressions.ipynb)\n",
    "* [Regular Expressions, Part 2](./ClassPrep/RegularExpressions2.ipynb)\n",
    "\n",
    "## [On-line Regular Expression Editor](https://pythex.org/)"
   ]
  },
  {
   "cell_type": "code",
   "execution_count": null,
   "metadata": {},
   "outputs": [],
   "source": []
  }
 ],
 "metadata": {
  "anaconda-cloud": {},
  "kernelspec": {
   "display_name": "Python 3",
   "language": "python",
   "name": "python3"
  },
  "language_info": {
   "codemirror_mode": {
    "name": "ipython",
    "version": 3
   },
   "file_extension": ".py",
   "mimetype": "text/x-python",
   "name": "python",
   "nbconvert_exporter": "python",
   "pygments_lexer": "ipython3",
   "version": "3.5.2"
  }
 },
 "nbformat": 4,
 "nbformat_minor": 1
}

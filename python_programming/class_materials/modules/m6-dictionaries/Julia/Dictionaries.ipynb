{
 "cells": [
  {
   "cell_type": "markdown",
   "metadata": {},
   "source": [
    "# Dictionaries\n",
    "## Did the first dictionary contain the word dictionary?\n",
    "* Dictionaries are **mutable**, **nonsequential** collections of **key/value** pairs\n",
    "* Specified with **``{KEY->VALUE,...}``**\n",
    "* Cannot be sliced\n",
    "    * **nonsequential**\n",
    "\n",
    "## Can a dictionary contain a dictionary?"
   ]
  },
  {
   "cell_type": "markdown",
   "metadata": {},
   "source": [
    "* Is this a valid Julia dictionary?"
   ]
  },
  {
   "cell_type": "code",
   "execution_count": null,
   "metadata": {},
   "outputs": [],
   "source": [
    "Dict((1,2,3)=>('a','b','c'))"
   ]
  },
  {
   "cell_type": "markdown",
   "metadata": {},
   "source": [
    "* Is this a valid Julia dictionary?"
   ]
  },
  {
   "cell_type": "code",
   "execution_count": null,
   "metadata": {},
   "outputs": [],
   "source": [
    "Dict([1,2,3]=>('a','b','c'))\n",
    "            "
   ]
  },
  {
   "cell_type": "markdown",
   "metadata": {},
   "source": [
    "## Note:\n",
    "\n",
    "This would not be a valid dictionary key in Python!"
   ]
  },
  {
   "cell_type": "code",
   "execution_count": null,
   "metadata": {},
   "outputs": [],
   "source": []
  },
  {
   "cell_type": "markdown",
   "metadata": {},
   "source": [
    "# Dictionaries: Access and Modification\n",
    "* Think of the key as a generalized index \n",
    "* Dictionaries can be accessed and modified similar to lists with **[]** notation\n",
    "* Very powerful and versatile data structure\n",
    "    * NetworkX uses dictionaries to implement graphs\n",
    "    * Classes are implemented using dictionaries"
   ]
  },
  {
   "cell_type": "code",
   "execution_count": null,
   "metadata": {},
   "outputs": [],
   "source": [
    "cbc = Dict(\"WBC\"'=>5.9,\"RBC\"=>5.23,\n",
    "           \"Hgb\"=>15.9,\n",
    "           \"HCT\"=>45.5,\n",
    "           \"Lymphcytes\"=>32)"
   ]
  },
  {
   "cell_type": "code",
   "execution_count": null,
   "metadata": {},
   "outputs": [],
   "source": [
    "for c in cbc\n",
    "    x,y = c\n",
    "    println(x)\n",
    "end\n"
   ]
  },
  {
   "cell_type": "code",
   "execution_count": null,
   "metadata": {},
   "outputs": [],
   "source": [
    "println(cbc)\n",
    "println(cbc[\"WBC\"])\n",
    "println(cbc[\"HCT\"])\n",
    "println(cbc[\"MCV\"])"
   ]
  },
  {
   "cell_type": "markdown",
   "metadata": {},
   "source": [
    "* you can use the **get()** function to safely return values from a dictionary\n",
    "    * If the dictionary does not contain the key, **get()** returns a specified value (default None)"
   ]
  },
  {
   "cell_type": "code",
   "execution_count": null,
   "metadata": {},
   "outputs": [],
   "source": [
    "?get"
   ]
  },
  {
   "cell_type": "code",
   "execution_count": null,
   "metadata": {},
   "outputs": [],
   "source": [
    "println(get(cbc, \"MCH\", \"NA\"))\n",
    "println(get(cbc, \"WBC\", -1))"
   ]
  },
  {
   "cell_type": "markdown",
   "metadata": {},
   "source": [
    "* You can return the keys and the values of a dictionary as lists with the **keys()** and **values()** functions\n",
    "* You can return the items (key,value) pairs of the dictionary with the **collect()** function"
   ]
  },
  {
   "cell_type": "code",
   "execution_count": null,
   "metadata": {},
   "outputs": [],
   "source": [
    "println(keys(cbc))\n",
    "println(values(cbc))\n",
    "print(collect(cbc))\n"
   ]
  },
  {
   "cell_type": "markdown",
   "metadata": {},
   "source": [
    "## [default dictionary](http://datastructuresjl.readthedocs.io/en/latest/default_dict.html)\n",
    "\n",
    "Default dictionaries (*DefaultDict*) provides a dictionary like object that provides a default value for a key if the key is not currently in the dictionary. The default default value is *None*.\n"
   ]
  },
  {
   "cell_type": "code",
   "execution_count": null,
   "metadata": {},
   "outputs": [],
   "source": [
    "using DataStructures"
   ]
  },
  {
   "cell_type": "code",
   "execution_count": null,
   "metadata": {},
   "outputs": [],
   "source": [
    "dd1 = DefaultDict(0)\n",
    "print(dd1)"
   ]
  },
  {
   "cell_type": "code",
   "execution_count": null,
   "metadata": {},
   "outputs": [],
   "source": [
    "dd1['A'] += 1\n",
    "print(dd1)"
   ]
  },
  {
   "cell_type": "code",
   "execution_count": null,
   "metadata": {},
   "outputs": [],
   "source": [
    "dd2 = DefaultDict(Vector{AbstractString})\n",
    "push!(dd2[\"names\"],\"Brian\")\n",
    "push!(dd2[\"names\"], \"Wendy\")\n",
    "push!(dd2[\"dogs\"], \"Argos\")"
   ]
  },
  {
   "cell_type": "code",
   "execution_count": null,
   "metadata": {},
   "outputs": [],
   "source": [
    "(dd2[\"names\"])"
   ]
  },
  {
   "cell_type": "code",
   "execution_count": null,
   "metadata": {},
   "outputs": [],
   "source": [
    "DefaultDict(Set)"
   ]
  },
  {
   "cell_type": "code",
   "execution_count": null,
   "metadata": {},
   "outputs": [],
   "source": [
    "s = [(\"red\", 1), (\"blue\", 2), (\"red\", 3), (\"blue\", 4), \n",
    "    (\"red\", 1), (\"blue\", 4)]\n",
    "d = DefaultDict{AbstractString, Set{Int}}(Set())\n",
    "for ss in s \n",
    "    k = ss[1]\n",
    "    v = ss[2]\n",
    "    println(k,\" \",v)\n",
    "    push!(d[k], v)\n",
    "    println(d)\n",
    "    println()\n",
    "end"
   ]
  },
  {
   "cell_type": "code",
   "execution_count": null,
   "metadata": {},
   "outputs": [],
   "source": [
    "d"
   ]
  },
  {
   "cell_type": "code",
   "execution_count": null,
   "metadata": {},
   "outputs": [],
   "source": [
    "print( d[\"red\"])"
   ]
  },
  {
   "cell_type": "code",
   "execution_count": null,
   "metadata": {},
   "outputs": [],
   "source": [
    "print(d[\"blue\"])"
   ]
  },
  {
   "cell_type": "code",
   "execution_count": null,
   "metadata": {},
   "outputs": [],
   "source": [
    "collect(d)"
   ]
  },
  {
   "cell_type": "markdown",
   "metadata": {},
   "source": [
    "[Ordered Dictionaries](https://docs.python.org/2/library/collections.html#collections.OrderedDict)\n",
    "\n",
    "Normally dictionaries do not remember the order that items were added. Consequently the order of the keys(), values() or items() lists cannot be known *a priori*.\n",
    "\n",
    "*OrderedDict* remembers the order items are placed in the dictionary.\n",
    "\n",
    "* Why not always use OrderedDict?\n",
    "    * There is no free lunch!"
   ]
  },
  {
   "cell_type": "code",
   "execution_count": null,
   "metadata": {},
   "outputs": [],
   "source": [
    "d_ordered = OrderedDict{String,Int}()\n",
    "d_ordered[\"Brian\"] = 49\n",
    "d_ordered[\"Jeremiah\"] = 16\n",
    "d_ordered[\"Wendy\"] = 49\n",
    "d_ordered[\"Alec\"] = 24\n",
    "\n",
    "for e in d_ordered\n",
    "    println(e)\n",
    "end"
   ]
  },
  {
   "cell_type": "code",
   "execution_count": null,
   "metadata": {},
   "outputs": [],
   "source": [
    "d_unordered = Dict{String,Int}()\n",
    "d_unordered[\"Brian\"] = 49\n",
    "d_unordered[\"Jeremiah\"] = 16\n",
    "d_unordered[\"Wendy\"] = 49\n",
    "d_unordered[\"Alec\"] = 24\n",
    "\n",
    "for e in d_unordered\n",
    "    println(e)\n",
    "end"
   ]
  },
  {
   "cell_type": "code",
   "execution_count": null,
   "metadata": {},
   "outputs": [],
   "source": []
  }
 ],
 "metadata": {
  "anaconda-cloud": {},
  "kernelspec": {
   "display_name": "Julia 0.5.2",
   "language": "julia",
   "name": "julia-0.5"
  },
  "language_info": {
   "file_extension": ".jl",
   "mimetype": "application/julia",
   "name": "julia",
   "version": "0.5.2"
  }
 },
 "nbformat": 4,
 "nbformat_minor": 1
}

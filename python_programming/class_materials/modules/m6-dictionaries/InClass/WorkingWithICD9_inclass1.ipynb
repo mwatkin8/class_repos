{
 "cells": [
  {
   "cell_type": "markdown",
   "metadata": {},
   "source": [
    "# Working with [ICD9](https://www.cdc.gov/nchs/icd/icd9.htm) Data"
   ]
  },
  {
   "cell_type": "code",
   "execution_count": null,
   "metadata": {},
   "outputs": [],
   "source": [
    "%matplotlib inline"
   ]
  },
  {
   "cell_type": "code",
   "execution_count": null,
   "metadata": {},
   "outputs": [],
   "source": [
    "import pickle\n",
    "from collections import defaultdict\n",
    "from nose.tools import assert_equals"
   ]
  },
  {
   "cell_type": "markdown",
   "metadata": {},
   "source": [
    "#### `pickling` is a Python-specific way to read and write Python objects from disk\n",
    "\n",
    "We will learn the details of this later."
   ]
  },
  {
   "cell_type": "code",
   "execution_count": null,
   "metadata": {},
   "outputs": [],
   "source": [
    "with open(\"icd9.pickle\",\"rb\") as f0:\n",
    "    icd9_data = pickle.load(f0)"
   ]
  },
  {
   "cell_type": "markdown",
   "metadata": {},
   "source": [
    "## What does our data look like?"
   ]
  },
  {
   "cell_type": "code",
   "execution_count": null,
   "metadata": {},
   "outputs": [],
   "source": [
    "type(icd9_data)"
   ]
  },
  {
   "cell_type": "code",
   "execution_count": null,
   "metadata": {},
   "outputs": [],
   "source": [
    "icd9_data[:5]"
   ]
  },
  {
   "cell_type": "markdown",
   "metadata": {},
   "source": [
    "### Each element of `icd9_data` is a tuple with three elements\n",
    "1. A patient id\n",
    "1. An ICD9 code\n",
    "1. The label for that ICD9 code\n",
    "\n",
    "#### It would be nice of this was encoded in the data with meta-data"
   ]
  },
  {
   "cell_type": "markdown",
   "metadata": {},
   "source": [
    "### Let's look at a subset of the data by looking for lines that have `HEP` in the label"
   ]
  },
  {
   "cell_type": "code",
   "execution_count": null,
   "metadata": {},
   "outputs": [],
   "source": [
    "for d in icd9_data:\n",
    "    try:\n",
    "        if \"HEP\" in d[2]:\n",
    "            print(d)\n",
    "    except Exception as Error:\n",
    "        pass"
   ]
  },
  {
   "cell_type": "markdown",
   "metadata": {},
   "source": [
    "### Why did I do the try/except?"
   ]
  },
  {
   "cell_type": "code",
   "execution_count": null,
   "metadata": {},
   "outputs": [],
   "source": [
    "for d in icd9_data:\n",
    "    if \"HEP\" in d[2]:\n",
    "        print(d)\n"
   ]
  },
  {
   "cell_type": "code",
   "execution_count": null,
   "metadata": {},
   "outputs": [],
   "source": [
    "print(d[0])\n",
    "print(d[1])\n",
    "print(d[2])"
   ]
  },
  {
   "cell_type": "markdown",
   "metadata": {},
   "source": [
    "### One of our lines has a code `\"238.75\"` that does not have a label\n",
    "#### We cannot test if  `if \"HEP\" in None`"
   ]
  },
  {
   "cell_type": "code",
   "execution_count": null,
   "metadata": {},
   "outputs": [],
   "source": [
    "\"HEP\" in None"
   ]
  },
  {
   "cell_type": "markdown",
   "metadata": {},
   "source": [
    "#### Lots of the labels have extraneous white spaces \n",
    "\n",
    "```Python\n",
    "(124, '070.70', 'UNSPECIFIED VIRAL HEPATI                \\r')\n",
    "(117, '070.44', 'CHR HEPAT C W/ HEP COMA                 \\r')\n",
    "```"
   ]
  },
  {
   "cell_type": "markdown",
   "metadata": {},
   "source": [
    "#### Create a dictionary named `icd9_map` with keys ICD9 code and values the ICD9 label\n",
    "\n",
    "strip extra white spaces"
   ]
  },
  {
   "cell_type": "markdown",
   "metadata": {},
   "source": [
    "#### We do the try/except to deal with the missing labels"
   ]
  },
  {
   "cell_type": "code",
   "execution_count": null,
   "metadata": {
    "deletable": false
   },
   "outputs": [],
   "source": [
    "icd9_map = {}\n",
    "for p,c,l in icd9_data:\n",
    "    try:\n",
    "        icd9_map[c]=l.strip()\n",
    "    except:\n",
    "        pass\n",
    "\n",
    "print(icd9_map)"
   ]
  },
  {
   "cell_type": "markdown",
   "metadata": {},
   "source": [
    "### Tuple unpacking\n",
    "\n",
    "Our line \n",
    "\n",
    "```Python\n",
    "for p,c,l in icd9_data:\n",
    "``` \n",
    "\n",
    "Is an example of **tuple unpacking**\n",
    "\n",
    "Our original code was \n",
    "\n",
    "```Python\n",
    "icd9_map = {}\n",
    "for d in icd9_data:\n",
    "    try:\n",
    "        icd9_map[d[1]]=d[2].strip()\n",
    "    except:\n",
    "        pass\n",
    "\n",
    "```\n",
    "\n",
    "Tuple unpacking lets us split our three-tuple into three distinct variables:\n",
    "\n",
    "* `p` would correspond to `d[0]`\n",
    "* `c` would correspond to `d[1]`\n",
    "* `l` would correspond to `d[2]`"
   ]
  },
  {
   "cell_type": "code",
   "execution_count": null,
   "metadata": {},
   "outputs": [],
   "source": [
    "p,c,l"
   ]
  },
  {
   "cell_type": "markdown",
   "metadata": {},
   "source": [
    "### Dictionary looks like we would expect\n",
    "\n",
    "A better solution might be to add a default label rather than doing a `pass`."
   ]
  },
  {
   "cell_type": "code",
   "execution_count": null,
   "metadata": {},
   "outputs": [],
   "source": [
    "icd9_map = {}\n",
    "for p,c,l in icd9_data:\n",
    "    try:\n",
    "        icd9_map[c]=l.strip()\n",
    "    except:\n",
    "        icd9_map[c]=\"NO LABEL PROVIDED\"\n",
    "\n",
    "print(icd9_map)"
   ]
  },
  {
   "cell_type": "code",
   "execution_count": null,
   "metadata": {},
   "outputs": [],
   "source": [
    "icd9_patients = defaultdict(list)\n",
    "patient_diagnoses = defaultdict(list)"
   ]
  },
  {
   "cell_type": "code",
   "execution_count": null,
   "metadata": {},
   "outputs": [],
   "source": []
  },
  {
   "cell_type": "markdown",
   "metadata": {},
   "source": [
    "### How many patients are there for each diagnosis?\n",
    "\n",
    "Create a list named `icd9_patients_list` sorted by the number of patients per diagnosis.\n",
    "\n",
    "We are using a defaultdict with the default value being a list. For each `c` (key) that we encounter, we append to the list (value) the patient with that code."
   ]
  },
  {
   "cell_type": "code",
   "execution_count": null,
   "metadata": {},
   "outputs": [],
   "source": [
    "icd9_patients = defaultdict(list)\n",
    "\n",
    "for p,c,l in icd9_data:\n",
    "    try:\n",
    "        icd9_patients[c].append(p)\n",
    "        \n",
    "    except:\n",
    "        pass\n",
    "icd9_patients"
   ]
  },
  {
   "cell_type": "markdown",
   "metadata": {},
   "source": [
    "#### We use the dictionary `items()` method to convert our dictionary into a list of key/value tuples"
   ]
  },
  {
   "cell_type": "code",
   "execution_count": null,
   "metadata": {},
   "outputs": [],
   "source": [
    "icd9_patients_list = list(icd9_patients.items())\n",
    "icd9_patients_list[:5]"
   ]
  },
  {
   "cell_type": "markdown",
   "metadata": {},
   "source": [
    "#### Now we want to sort our list"
   ]
  },
  {
   "cell_type": "code",
   "execution_count": null,
   "metadata": {},
   "outputs": [],
   "source": [
    "icd9_patients_list.sort()\n",
    "icd9_patients_list[:5]"
   ]
  },
  {
   "cell_type": "markdown",
   "metadata": {},
   "source": [
    "#### This just sorted the list by the alphanumeric value of the first element of each tuple\n",
    "\n",
    "#### If we use `help` to look at `sort` we see two keyword arguments\n",
    "\n",
    "* `key` allows us to pass a function that will determine how the sort is done\n",
    "* `reverse` is a boolean that determines whether to sort in ascending or descending order"
   ]
  },
  {
   "cell_type": "markdown",
   "metadata": {},
   "source": [
    "### A function that returns the length of the second element of a tuple"
   ]
  },
  {
   "cell_type": "code",
   "execution_count": null,
   "metadata": {},
   "outputs": [],
   "source": [
    "def length_of_second_element(x):\n",
    "    return len(x[1])"
   ]
  },
  {
   "cell_type": "code",
   "execution_count": null,
   "metadata": {},
   "outputs": [],
   "source": [
    "icd9_patients_list.sort(key = length_of_second_element, reverse=True)\n",
    "icd9_patients_list[:5]"
   ]
  },
  {
   "cell_type": "markdown",
   "metadata": {},
   "source": [
    "#### We can also use an **anonymous function** that we define on the spot with a `lambda` statements"
   ]
  },
  {
   "cell_type": "code",
   "execution_count": null,
   "metadata": {},
   "outputs": [],
   "source": [
    "icd9_patients_list.sort(key = lambda x: len(x[1]), reverse=True)\n",
    "icd9_patients_list[:5]"
   ]
  },
  {
   "cell_type": "markdown",
   "metadata": {},
   "source": [
    "#### Finally, we can make our output more readable by using the `icd9_map` dictionary we define earlier to get the label that corresponds to each code"
   ]
  },
  {
   "cell_type": "code",
   "execution_count": null,
   "metadata": {
    "deletable": false
   },
   "outputs": [],
   "source": [
    "icd9_patients = defaultdict(list)\n",
    "\n",
    "for p,c,l in icd9_data:\n",
    "    try:\n",
    "        icd9_patients[c].append(p)\n",
    "        \n",
    "    except:\n",
    "        pass\n",
    "\n",
    "icd9_patients_list = list(icd9_patients.items())\n",
    "icd9_patients_list.sort(key = lambda x: len(x[1]), reverse=True)\n",
    "\n",
    "for code, patients in icd9_patients_list:\n",
    "    print(icd9_map[code], len(patients))\n"
   ]
  },
  {
   "cell_type": "markdown",
   "metadata": {},
   "source": [
    "## Getting the diagnoses for each patient is similar"
   ]
  },
  {
   "cell_type": "code",
   "execution_count": null,
   "metadata": {},
   "outputs": [],
   "source": [
    "patient_diagnoses = defaultdict(list)\n",
    "for p,c,l in icd9_data:\n",
    "    try:\n",
    "        patient_diagnoses[p].append(c)\n",
    "        \n",
    "    except:\n",
    "        pass\n",
    "    "
   ]
  },
  {
   "cell_type": "code",
   "execution_count": null,
   "metadata": {},
   "outputs": [],
   "source": [
    "patient_diagnoses_list = list(patient_diagnoses.items())\n",
    "patient_diagnoses_list.sort(key = lambda x: len(x[1]), reverse=True)\n",
    "\n",
    "for patient, codes in patient_diagnoses_list:\n",
    "    print(patient)\n",
    "    for c in codes:\n",
    "        print(\"\\t\",icd9_map[c])"
   ]
  },
  {
   "cell_type": "code",
   "execution_count": null,
   "metadata": {},
   "outputs": [],
   "source": []
  },
  {
   "cell_type": "code",
   "execution_count": null,
   "metadata": {},
   "outputs": [],
   "source": [
    "help(icd9_patients_list.sort)"
   ]
  },
  {
   "cell_type": "code",
   "execution_count": null,
   "metadata": {},
   "outputs": [],
   "source": [
    "import random\n",
    "d,p = random.choice(icd9_patients_list)\n",
    "print(d,len(p),sep=\"\\n\")\n",
    "print(icd9_patients[\"V12.59\"])\n",
    "for d,p in icd9_patients.items():\n",
    "    if \"HX\" in d:\n",
    "        print(d,len(p))"
   ]
  },
  {
   "cell_type": "code",
   "execution_count": null,
   "metadata": {},
   "outputs": [],
   "source": [
    "assert_equals(len(icd9_patients[\"V12.59\"]),5)\n",
    "assert_equals(len(icd9_patients[\"572.2\"]),12)"
   ]
  },
  {
   "cell_type": "markdown",
   "metadata": {},
   "source": [
    "#### Loop through  `icd9_patients_list`\n",
    "1. for each element in `icd9_patients_list` print the ICD9 label corresponding to the code and the number of patients with each diagnosis."
   ]
  },
  {
   "cell_type": "code",
   "execution_count": null,
   "metadata": {
    "deletable": false
   },
   "outputs": [],
   "source": [
    "# YOUR CODE HERE\n",
    "raise NotImplementedError()"
   ]
  },
  {
   "cell_type": "markdown",
   "metadata": {},
   "source": [
    "### How many diagnoses does each patient have?"
   ]
  },
  {
   "cell_type": "code",
   "execution_count": null,
   "metadata": {
    "deletable": false
   },
   "outputs": [],
   "source": [
    "patient_diagnoses = defaultdict(list)\n",
    "# YOUR CODE HERE\n",
    "raise NotImplementedError()"
   ]
  },
  {
   "cell_type": "code",
   "execution_count": null,
   "metadata": {},
   "outputs": [],
   "source": [
    "for p, d in patient_diagnoses_list:\n",
    "    print(p)\n",
    "    print(d) # replace with len(d)\n",
    "    print(\"\\n\")"
   ]
  },
  {
   "cell_type": "code",
   "execution_count": null,
   "metadata": {
    "deletable": false,
    "editable": false
   },
   "outputs": [],
   "source": [
    "assert_equals(len(patient_diagnoses[2512]),49)\n",
    "assert_equals(len(patient_diagnoses[353]),56)\n",
    "assert_equals(len(patient_diagnoses_list[0][1]),125)\n",
    "assert_equals(len(patient_diagnoses_list[45][1]),23)\n"
   ]
  },
  {
   "cell_type": "code",
   "execution_count": null,
   "metadata": {},
   "outputs": [],
   "source": []
  }
 ],
 "metadata": {
  "celltoolbar": "Create Assignment",
  "kernelspec": {
   "display_name": "Python 3",
   "language": "python",
   "name": "python3"
  },
  "language_info": {
   "codemirror_mode": {
    "name": "ipython",
    "version": 3
   },
   "file_extension": ".py",
   "mimetype": "text/x-python",
   "name": "python",
   "nbconvert_exporter": "python",
   "pygments_lexer": "ipython3",
   "version": "3.5.2"
  }
 },
 "nbformat": 4,
 "nbformat_minor": 1
}

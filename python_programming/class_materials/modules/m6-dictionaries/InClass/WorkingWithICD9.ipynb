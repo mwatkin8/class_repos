{
 "cells": [
  {
   "cell_type": "markdown",
   "metadata": {},
   "source": [
    "# Working with [ICD9](https://www.cdc.gov/nchs/icd/icd9.htm) Data"
   ]
  },
  {
   "cell_type": "code",
   "execution_count": null,
   "metadata": {},
   "outputs": [],
   "source": [
    "%matplotlib inline"
   ]
  },
  {
   "cell_type": "code",
   "execution_count": null,
   "metadata": {},
   "outputs": [],
   "source": [
    "import pickle\n",
    "from collections import defaultdict\n",
    "from nose.tools import assert_equals"
   ]
  },
  {
   "cell_type": "code",
   "execution_count": null,
   "metadata": {},
   "outputs": [],
   "source": [
    "with open(\"icd9.pickle\",\"rb\") as f0:\n",
    "    icd9_data = pickle.load(f0)"
   ]
  },
  {
   "cell_type": "markdown",
   "metadata": {},
   "source": [
    "## What does our data look like?"
   ]
  },
  {
   "cell_type": "code",
   "execution_count": null,
   "metadata": {},
   "outputs": [],
   "source": [
    "icd9_data[:5]"
   ]
  },
  {
   "cell_type": "code",
   "execution_count": null,
   "metadata": {},
   "outputs": [],
   "source": [
    "for d in icd9_data:\n",
    "    try:\n",
    "        if \"HEP\" in d[2]:\n",
    "            print(d)\n",
    "    except Exception as Error:\n",
    "        pass"
   ]
  },
  {
   "cell_type": "markdown",
   "metadata": {},
   "source": [
    "### Each element of `icd9_data` is a tuple with three elements\n",
    "1. A patient id\n",
    "1. An ICD9 code\n",
    "1. The label for that ICD9 code"
   ]
  },
  {
   "cell_type": "markdown",
   "metadata": {},
   "source": [
    "#### Create a dictionary named `icd9_map` with keys ICD9 code and values the ICD9 label\n",
    "\n",
    "strip extra white spaces"
   ]
  },
  {
   "cell_type": "code",
   "execution_count": null,
   "metadata": {
    "deletable": false,
    "nbgrader": {
     "checksum": "bc9aa71de4ae26ca8988eac4e92097a2",
     "grade": false,
     "grade_id": "cell-5d44913c5eba6a2c",
     "locked": false,
     "schema_version": 1,
     "solution": true
    }
   },
   "outputs": [],
   "source": [
    "# YOUR CODE HERE\n",
    "raise NotImplementedError()"
   ]
  },
  {
   "cell_type": "code",
   "execution_count": null,
   "metadata": {},
   "outputs": [],
   "source": [
    "icd9_patients = defaultdict(list)\n",
    "patient_diagnoses = defaultdict(list)"
   ]
  },
  {
   "cell_type": "markdown",
   "metadata": {},
   "source": [
    "### How many patients are there for each diagnosis?\n",
    "\n",
    "Create a list named `icd9_patients_list` sorted by the number of patients per diagnosis."
   ]
  },
  {
   "cell_type": "code",
   "execution_count": null,
   "metadata": {
    "deletable": false,
    "nbgrader": {
     "checksum": "695c50651a9b6ea7e4f2c7022dbe2922",
     "grade": false,
     "grade_id": "cell-ae2a3dc827383e7f",
     "locked": false,
     "schema_version": 1,
     "solution": true
    }
   },
   "outputs": [],
   "source": [
    "icd9_patients = defaultdict(list)\n",
    "# YOUR CODE HERE\n",
    "raise NotImplementedError()"
   ]
  },
  {
   "cell_type": "code",
   "execution_count": null,
   "metadata": {},
   "outputs": [],
   "source": [
    "import random\n",
    "d,p = random.choice(icd9_patients_list)\n",
    "print(d,len(p),sep=\"\\n\")\n",
    "print(icd9_patients[\"V12.59\"])\n",
    "for d,p in icd9_patients.items():\n",
    "    if \"HX\" in d:\n",
    "        print(d,len(p))"
   ]
  },
  {
   "cell_type": "code",
   "execution_count": null,
   "metadata": {},
   "outputs": [],
   "source": [
    "assert_equals(len(icd9_patients[\"V12.59\"]),5)\n",
    "assert_equals(len(icd9_patients[\"572.2\"]),12)"
   ]
  },
  {
   "cell_type": "markdown",
   "metadata": {},
   "source": [
    "#### Loop through  `icd9_patients_list`\n",
    "1. for each element in `icd9_patients_list` print the ICD9 label corresponding to the code and the number of patients with each diagnosis."
   ]
  },
  {
   "cell_type": "code",
   "execution_count": null,
   "metadata": {
    "deletable": false,
    "nbgrader": {
     "checksum": "90cd75a95edb8f0f47ce607d1f2d55d4",
     "grade": false,
     "grade_id": "cell-121dd04abe83faee",
     "locked": false,
     "schema_version": 1,
     "solution": true
    }
   },
   "outputs": [],
   "source": [
    "# YOUR CODE HERE\n",
    "raise NotImplementedError()"
   ]
  },
  {
   "cell_type": "markdown",
   "metadata": {},
   "source": [
    "### How many diagnoses does each patient have?"
   ]
  },
  {
   "cell_type": "code",
   "execution_count": null,
   "metadata": {
    "deletable": false,
    "nbgrader": {
     "checksum": "82ac5f33c7e3114bc74131498e9663e8",
     "grade": false,
     "grade_id": "cell-305cd7b053c0116a",
     "locked": false,
     "schema_version": 1,
     "solution": true
    }
   },
   "outputs": [],
   "source": [
    "patient_diagnoses = defaultdict(list)\n",
    "# YOUR CODE HERE\n",
    "raise NotImplementedError()"
   ]
  },
  {
   "cell_type": "code",
   "execution_count": null,
   "metadata": {},
   "outputs": [],
   "source": [
    "for p, d in patient_diagnoses_list:\n",
    "    print(p)\n",
    "    print(d) # replace with len(d)\n",
    "    print(\"\\n\")"
   ]
  },
  {
   "cell_type": "code",
   "execution_count": null,
   "metadata": {
    "deletable": false,
    "editable": false,
    "nbgrader": {
     "checksum": "9ad9f62c034dd7791a28a4bc6c8bce03",
     "grade": true,
     "grade_id": "cell-322e571e6bd058c0",
     "locked": true,
     "points": 0,
     "schema_version": 1,
     "solution": false
    }
   },
   "outputs": [],
   "source": [
    "assert_equals(len(patient_diagnoses[2512]),49)\n",
    "assert_equals(len(patient_diagnoses[353]),56)\n",
    "assert_equals(len(patient_diagnoses_list[0][1]),125)\n",
    "assert_equals(len(patient_diagnoses_list[45][1]),23)\n"
   ]
  },
  {
   "cell_type": "code",
   "execution_count": null,
   "metadata": {},
   "outputs": [],
   "source": []
  }
 ],
 "metadata": {
  "kernelspec": {
   "display_name": "Python 3",
   "language": "python",
   "name": "python3"
  },
  "language_info": {
   "codemirror_mode": {
    "name": "ipython",
    "version": 3
   },
   "file_extension": ".py",
   "mimetype": "text/x-python",
   "name": "python",
   "nbconvert_exporter": "python",
   "pygments_lexer": "ipython3",
   "version": "3.5.2"
  }
 },
 "nbformat": 4,
 "nbformat_minor": 1
}

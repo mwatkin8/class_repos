{
 "cells": [
  {
   "cell_type": "code",
   "execution_count": null,
   "metadata": {},
   "outputs": [],
   "source": [
    "from IPython.display import YouTubeVideo\n",
    "YouTubeVideo(\"bM1bU7GOOmo\", width = 800, height=600)"
   ]
  },
  {
   "cell_type": "markdown",
   "metadata": {},
   "source": [
    "#  Numerics\n",
    "## \"All is number\" ~Pythagoras\n",
    "\n",
    "There are multiple types of numbers, each arising from different uses that generated them.\n",
    "\n",
    ">Numbers arose from the formalization of two different human-cognitive conceptions: counting and measurement. Based on fossil records, anthropologists believe that both concepts existed and were used many thousands of years before numbers were introduced. As early as 35,000 years ago, humans put notches into bones (and probably wooden sticks as well, but none have survived and been found) to record things— possibly the cycles of the moon or the seasons— and it seems probable they used sticks or lengths of vine to measure lengths. Numbers themselves, however— abstractions that stand for the number of notches on a bone or the length of a measuring device— appear to have first appeared much later, around 10,000 years ago in the case of counting collections. \n",
    ">\n",
    ">These activities resulted in two different kinds of number: the **discrete counting numbers** and the **continuous [measuring] real numbers**. The connection between these two kinds of numbers was not finally put onto a firm footing until the nineteenth century, with the construction of the modern real number system. (Devlin, Keith *Introduction to Mathematical Thinking*, p. 75) \n",
    "\n",
    "There are more than two types of numbers (see [Peter Alfeld's page](http://www.math.utah.edu/~pa/math/numbers.html)) and Python has three distinct types of numbers (and modules for two more special cases). \n",
    "\n",
    "Before we get into Python, let's review different types of numbers and talk about how we can represent them in a computer."
   ]
  },
  {
   "cell_type": "markdown",
   "metadata": {},
   "source": [
    "## Natural Numbers\n",
    "Our first number system relates to ordering and counting objects. The set of **Natural Numbers** is denoted by the symbol $\\mathbb{N}$. The definition of $\\mathbb{N}$ varies. Typically, $\\mathbb{N}$ is synonymous with the positive integers, that is $1,2,3,\\cdots$. However, $\\mathbb{N}$ sometimes is used to denote the non-negative integers: $0,1,2,3,\\cdots$; this convention is typically used in set theory.\n",
    "\n",
    "For natural numbers, addition and multiplication are always defined. That is, whenever we add two natural numbers, the result is **always** a natural number. Likewise, whenever we multiply two natural numbers, the result is **always** a natural number.\n",
    "\n",
    "It is readily apparent, however, that **subtraction and division are not always defined.** That is, for two natural numbers $a \\text{ and } b$, \n",
    "* $a-b$ **might not** be a natural number.\n",
    "* $\\frac{a}{b}$ **might not** be a natural number."
   ]
  },
  {
   "cell_type": "markdown",
   "metadata": {},
   "source": [
    "## Integers\n",
    "The natural numbers do not include zero or negative numbers, both of which are indispensable, although of relatively recent origin. Writing in the 9th century C.E., [Al-Khwarizmi](https://en.wikipedia.org/wiki/Mu%E1%B8%A5ammad_ibn_M%C5%ABs%C4%81_al-Khw%C4%81rizm%C4%AB) had a symbol for \"nothing\" although it wasn't yet treated as a number. \n",
    "\n",
    "The set of numbers that do include these are referred to as the **Integers**. The Integers are denoted by $\\mathbb{Z}$, from the German *Zahlen* meaning \"number.\"\n",
    "\n",
    "Subtraction of two integers always results in another integer. However, division of two integers **may not** result in another integer."
   ]
  },
  {
   "cell_type": "markdown",
   "metadata": {},
   "source": [
    "## Rational Numbers\n",
    "The set of all rational numbers (the numbers formed by the ratio of two integers) is denoted by $\\mathbb{Q}$ for **quotients**. \n",
    "\n",
    "Quotients arise from making measurements, were we inevitably experience parts of some measurement unit. Rational numbers are formed  by taking the ratio of two whole (integer) numbers.\n",
    "\n",
    "Mathematically, the system of rational numbers now allows for all operations: additions, subtractions, multiplications, and divisions (except by zero)."
   ]
  },
  {
   "cell_type": "markdown",
   "metadata": {},
   "source": [
    "## Real Numbers\n",
    "\n",
    "Since the ancient Greeks, it has been know that there are numbers that cannot be expressed as the ratio of two integers. These numbers are referred to as *irrational numbers*. A famous irrational number is $\\sqrt{2}$. The [proof](./sqrt2.ipynb) that $\\sqrt{2}$ is irrational, \"is one of the best-known arguments in all of mathematics.\" (*Princeton Companion to Mathematics*)\n",
    "\n",
    "\n",
    "We now need to expand our concept of numbers to what we call the *real* numbers. But real numbers are hard to define. \n",
    "\n",
    ">The real numbers can be thought of as the set of all numbers with a finit or infinite decimal expansion. In the latter case, they are defined not directly but by a process of successive approximations. (*Princeton Companion to Mathematics*)\n",
    "\n",
    "The real numbers are denoted by the symbol $\\mathbb{R}$. For real numbers, addition, multiplication, subtraction, division (except by zero), and root taking (except of negative numbers) are defined since they always result in real numbers.\n",
    "\n",
    "*  Real numbers include the integers ($\\mathbb{Z}$), the rational numbers ($\\mathbb{Q}$), and the irrational numbers.\n",
    "*  Real numbers can be visualized as a position (distance) along a line\n",
    "\n",
    "\n",
    "<img src=\"http://upload.wikimedia.org/wikipedia/commons/thumb/d/d7/Real_number_line.svg/2000px-Real_number_line.svg.png\" alt=\"the real number line\" width=\"500\">"
   ]
  },
  {
   "cell_type": "markdown",
   "metadata": {},
   "source": [
    "## Complex Numbers\n",
    "\n",
    "We are all familiar with the solution to the equation\n",
    "\\begin{equation}\n",
    "x^2=9.\n",
    "\\end{equation}\n",
    "\n",
    "We are also familiar with the solution to the equation\n",
    "\n",
    "\\begin{equation}\n",
    "x^2=2.\n",
    "\\end{equation}\n",
    "\n",
    "However, some of you are probably not familiar with the solution to the equation\n",
    "\n",
    "\\begin{equation}\n",
    "x^2=-1.\n",
    "\\end{equation}\n",
    "\n",
    "When the solution to the last equation was first \"discovered\" it was quite controversial, leading to its being named **imaginary**. But before you get worked up and dismiss these numbers, remember that negative numbers were controversial (\"false\") as were irrational numbers (e.g. $\\sqrt{2}$) when they were discovered. The solution is obtained by defining $i=\\sqrt{-1}$.\n",
    "\n",
    "A **complex number** $z$ is then defined as\n",
    "\n",
    "\\begin{equation}\n",
    "z = x+iy\n",
    "\\end{equation}\n",
    "where $x$ and $y$ are real numbers.\n",
    "\n",
    "The set of all complex numbers is denoted by $\\mathbb{C}$.\n",
    "\n",
    "Geometrically, real numbers are the continuous location along a line. Similarly, **complex numbers** are the continuous location in a plane with the real component describing the $x$-axis and the imaginary component describing the $y$-axis.\n",
    "\n",
    "![The complex plane](http://upload.wikimedia.org/wikipedia/commons/7/7d/Gaussian_integer_lattice.png)\n",
    "\n",
    "### Rules of Complex Arithmetic\n",
    "\n",
    "#### Conjugate:\n",
    "Given a complex number $z=x+iy$, the conjugate of $z$ ($z^*$) is defined as\n",
    "\\begin{equation}\n",
    "z^*=x-iy\n",
    "\\end{equation}\n",
    "\n",
    "#### Norm:\n",
    "\n",
    "Multiplying a complex number by its conjugate results in the magnitude squared of the number.\n",
    "\n",
    "#### Addition:\n",
    "\\begin{equation}\n",
    "z_1+z_2 = (x_1+x_2)+i(y_1+y_2)\n",
    "\\end{equation}\n",
    "\n",
    "#### Multiplication:\n",
    "\\begin{eqnarray}\n",
    "z_1 \\times z_2 = x_1x_2+ix_1y_2+iy_1x_2+i^2y_1y_2\\\\ \\nonumber\n",
    "= (x_1x_2-y_1y_2)+i(x_1y_2+x_2y_1)\n",
    "\\end{eqnarray}\n",
    "\n",
    "#### Division:\n",
    "\\begin{equation}\n",
    "\\frac{z_1}{z_2} = \\frac{z_1z^*_2}{z_2z^*_2}=\\frac{z_1z^*_2}{||z_2||^2}\n",
    "\\end{equation}\n",
    "\n",
    "Multiplication and division of complex numbers can be simplified by using polar notation.\n",
    "\n",
    "Given $z=x+iy$\n",
    "\\begin{equation}\n",
    "z=re^{i\\theta}\n",
    "\\end{equation}\n",
    "where $r=\\sqrt{x^2+y^2}$ and $\\theta=tan^{-1}(\\frac{y}{x})$.\n",
    "Then \n",
    "\\begin{equation}\n",
    "z_1z_2 = r_1r_2e^{i\\theta_1+\\theta_2}.\n",
    "\\end{equation}\n",
    "\n",
    "Complex numbers actually simplify life a lot. Complex numbers are complete: any polynomial has complex roots (with real numbers as a subset of complex numbers). Through Euler's equations, trigonometry can be greatly simplified by relating $\\sin$ and $\\cos$ to complex functions of $e$. \n",
    "\n",
    "Complex numbers are convenient for representing any physical quantity that has both a magnitude and a phase (e.g. electrical current in a circuit, pressure waves in the circulation, MR signal).\n"
   ]
  },
  {
   "cell_type": "markdown",
   "metadata": {},
   "source": [
    "## Infinity and Transitors\n",
    "\n",
    "All of these number systems are infinite. (An interesting aside is that the real numbers are more infinite than the integers, whereas the natural, rational, and integer nubmers all have the \"same\" infinity, an obseration first made by Cantor.)\n",
    "\n",
    "Computers represent numbers using bits which ultimately boil down to transitors. As numbers get larger and larger, you need to have more and more transitors (bits) to represent the number. Obviously there is an upper limit to how large a number can be represented, based on how many bits you want to allocate.\n",
    "\n",
    "The number of bits allocated for an integer is based on the underlying hardware. Most computers now have a 64 bit architecture"
   ]
  },
  {
   "cell_type": "code",
   "execution_count": null,
   "metadata": {},
   "outputs": [],
   "source": [
    "import sys\n",
    "print(sys.maxsize)\n"
   ]
  },
  {
   "cell_type": "markdown",
   "metadata": {},
   "source": [
    "My computer is 64 bits. Since one bit is reserved to represent the sign ($\\pm$) of the number, I have 63 bits to encode the number."
   ]
  },
  {
   "cell_type": "code",
   "execution_count": null,
   "metadata": {},
   "outputs": [],
   "source": [
    "2**63"
   ]
  },
  {
   "cell_type": "markdown",
   "metadata": {},
   "source": [
    "### Floating Point Numbers\n",
    "\n",
    "Representing approximations of real numbers via floating point types is more complex, but the issue is the same: we only have so many bits to allocate to represent the number. Consequently floating point numbers are inherently **approximations.**\n",
    "\n",
    "``sys.float_info`` contains information about the limits of floating point numbers.\n",
    "\n",
    "*  See [Floating Point Arithmetic: Issues and Limitations](http://docs.python.org/3/tutorial/floatingpoint.html)\n",
    "*  Also [The Perils of Floating Point](http://www.lahey.com/float.htm)"
   ]
  },
  {
   "cell_type": "code",
   "execution_count": null,
   "metadata": {},
   "outputs": [],
   "source": [
    "print(\"maximum float\",sys.float_info.max)\n",
    "print(\"minimum float\",sys.float_info.min)\n",
    "print(\"epislon\",sys.float_info.epsilon)\n"
   ]
  },
  {
   "cell_type": "markdown",
   "metadata": {},
   "source": [
    "### Epsilon ($\\epsilon$) is important\n",
    "\n",
    "The smallest discernable difference between two floating point numbers."
   ]
  },
  {
   "cell_type": "markdown",
   "metadata": {},
   "source": [
    "#### Note that minimum is a magnitude. You **can** have negative floats.\n",
    "\n",
    "#### epsilon is a key idea: it is the smallest difference between two numbers that can be detected"
   ]
  },
  {
   "cell_type": "markdown",
   "metadata": {},
   "source": [
    "### [Categorical (Nominal), Ordinal, Interval, and Ratio measurements](http://psc.dss.ucdavis.edu/sommerb/sommerdemo/scaling/levels.htm)"
   ]
  },
  {
   "cell_type": "code",
   "execution_count": null,
   "metadata": {},
   "outputs": [],
   "source": []
  },
  {
   "cell_type": "code",
   "execution_count": null,
   "metadata": {},
   "outputs": [],
   "source": []
  }
 ],
 "metadata": {
  "anaconda-cloud": {},
  "kernelspec": {
   "display_name": "Python 3",
   "language": "python",
   "name": "python3"
  },
  "language_info": {
   "codemirror_mode": {
    "name": "ipython",
    "version": 3
   },
   "file_extension": ".py",
   "mimetype": "text/x-python",
   "name": "python",
   "nbconvert_exporter": "python",
   "pygments_lexer": "ipython3",
   "version": "3.5.2"
  }
 },
 "nbformat": 4,
 "nbformat_minor": 1
}

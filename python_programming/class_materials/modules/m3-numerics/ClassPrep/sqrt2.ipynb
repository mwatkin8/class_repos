{
 "cells": [
  {
   "cell_type": "markdown",
   "metadata": {},
   "source": [
    "# Proof that the square root of 2 is irrational\n",
    "\n",
    "* suppose that $\\sqrt{2} = \\frac{a}{b}$\n",
    "* Since common factors cancel, we can assume that $a$ and $b$ have no common factors.\n",
    "* Squaring both sides gives $2=\\frac{a^2}{b^2}$\n",
    "* $a^2=2b^2$\n",
    "* This implies that $a$ is even\n",
    "* Since $a$ is even, assume $a=2c$ and we have $4c^2=2b^2$\n",
    "* $b^2=2c^2$ which means $b$ is even\n",
    "* But this violates are assumption that $a$ and $b$ had no common factors (they can't both be even)\n",
    "* hence our contradiction proves that $\\sqrt{2}$ is irrational\n"
   ]
  },
  {
   "cell_type": "code",
   "execution_count": null,
   "metadata": {},
   "outputs": [],
   "source": []
  }
 ],
 "metadata": {
  "kernelspec": {
   "display_name": "Python 3",
   "language": "python",
   "name": "python3"
  },
  "language_info": {
   "codemirror_mode": {
    "name": "ipython",
    "version": 3
   },
   "file_extension": ".py",
   "mimetype": "text/x-python",
   "name": "python",
   "nbconvert_exporter": "python",
   "pygments_lexer": "ipython3",
   "version": "3.5.2"
  }
 },
 "nbformat": 4,
 "nbformat_minor": 1
}

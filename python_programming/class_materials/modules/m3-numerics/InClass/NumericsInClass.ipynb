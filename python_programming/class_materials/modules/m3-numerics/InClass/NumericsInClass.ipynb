{
 "cells": [
  {
   "cell_type": "markdown",
   "metadata": {},
   "source": [
    "# Biomedical Data and Python Types\n",
    "* What would be the appropriate data type for the following quantities?\n",
    "    * Patient pulse as recorded at a clinic visit\n",
    "    * Patient blood pressure \n",
    "    * My medical record number \n",
    "    * Signal measured in an MRI scanner \n",
    "    * Average breaths per minute over an hour\n",
    "    * The length of a tibia \n",
    "    * My weight in kilograms \n",
    "    * Days since last menustral period \n",
    "    * DNA sequence \n",
    "\n"
   ]
  },
  {
   "cell_type": "code",
   "execution_count": null,
   "metadata": {
    "deletable": false,
    "editable": false,
    "nbgrader": {
     "checksum": "eeb93c25c5621ff27fa0e792898f2f5e",
     "grade": false,
     "grade_id": "cell-e44fdb7a7a1048af",
     "locked": true,
     "schema_version": 1,
     "solution": false
    }
   },
   "outputs": [],
   "source": [
    "from nose.tools import assert_equal, assert_almost_equal\n"
   ]
  },
  {
   "cell_type": "code",
   "execution_count": null,
   "metadata": {
    "deletable": false,
    "nbgrader": {
     "checksum": "179863eaf3dab6bc7131d8a60653082f",
     "grade": false,
     "grade_id": "cell-a1b2dbae850acdb8",
     "locked": false,
     "schema_version": 1,
     "solution": true
    }
   },
   "outputs": [],
   "source": [
    "# YOUR CODE HERE\n",
    "raise NotImplementedError()"
   ]
  },
  {
   "cell_type": "markdown",
   "metadata": {
    "deletable": false,
    "editable": false,
    "nbgrader": {
     "checksum": "d2a28cd064c557195a1373aef4a71c2f",
     "grade": false,
     "grade_id": "cell-6373214970dffecd",
     "locked": true,
     "schema_version": 1,
     "solution": false
    }
   },
   "source": [
    "### Modify `sqrt1` in order to answer the following questions\n",
    "#### What is the sqrt of 46.3?"
   ]
  },
  {
   "cell_type": "code",
   "execution_count": null,
   "metadata": {
    "deletable": false,
    "nbgrader": {
     "checksum": "814570a6d13209258367f32905e66fc1",
     "grade": false,
     "grade_id": "cell-a30df0a6c70ff677",
     "locked": false,
     "schema_version": 1,
     "solution": true
    }
   },
   "outputs": [],
   "source": [
    "\n",
    "def sqrt1(x):\n",
    "    # YOUR CODE HERE\n",
    "    raise NotImplementedError()\n"
   ]
  },
  {
   "cell_type": "code",
   "execution_count": null,
   "metadata": {
    "deletable": false,
    "editable": false,
    "nbgrader": {
     "checksum": "64d05d6fa5dad3e9062819d6f80cd9db",
     "grade": true,
     "grade_id": "cell-bf1080267f921fec",
     "locked": true,
     "points": 0,
     "schema_version": 1,
     "solution": false
    }
   },
   "outputs": [],
   "source": [
    "assert_almost_equal(sqrt1(46.3),6.8044103344816)\n",
    "assert_almost_equal(sqrt1(49),7)\n",
    "assert_almost_equal(sqrt1(525), 22.912878474)\n"
   ]
  },
  {
   "cell_type": "markdown",
   "metadata": {
    "deletable": false,
    "editable": false,
    "nbgrader": {
     "checksum": "3bd9617eaf9ee48198a79897b61bc481",
     "grade": false,
     "grade_id": "cell-978c30c11e2c1d49",
     "locked": true,
     "schema_version": 1,
     "solution": false
    }
   },
   "source": [
    "#### What is the sqrt of 5-3.4j?"
   ]
  },
  {
   "cell_type": "code",
   "execution_count": null,
   "metadata": {
    "deletable": false,
    "nbgrader": {
     "checksum": "1ee81e76248dd9b0095945c885a0dc93",
     "grade": false,
     "grade_id": "cell-fb1ea205873506c0",
     "locked": false,
     "schema_version": 1,
     "solution": true
    }
   },
   "outputs": [],
   "source": [
    "def sqrt2(x):\n",
    "    # YOUR CODE HERE\n",
    "    raise NotImplementedError()"
   ]
  },
  {
   "cell_type": "code",
   "execution_count": null,
   "metadata": {
    "deletable": false,
    "editable": false,
    "nbgrader": {
     "checksum": "89a624da296998810289391c5c522af1",
     "grade": true,
     "grade_id": "cell-ef37e0b25e844bbf",
     "locked": true,
     "points": 0,
     "schema_version": 1,
     "solution": false
    }
   },
   "outputs": [],
   "source": [
    "assert_almost_equal(sqrt2(-1),0+1j)\n",
    "assert_almost_equal(sqrt2(5-3.4j),2.3501581418207147-0.7233555775455076j)\n",
    "assert_almost_equal(sqrt2(-9),0+3j)"
   ]
  },
  {
   "cell_type": "markdown",
   "metadata": {
    "deletable": false,
    "editable": false,
    "nbgrader": {
     "checksum": "111c69f05f196d9469a00af60da6cc90",
     "grade": false,
     "grade_id": "cell-747458f262c67b6e",
     "locked": true,
     "schema_version": 1,
     "solution": false
    }
   },
   "source": [
    "### Modify `random_gauss` to return a Gaussian (normal) distributed number with mean `mu` and standard deviation `sigma`\n",
    "#### Return a floating point number from a Gaussian distribution with $\\mu=24$ and $\\sigma=2.6$"
   ]
  },
  {
   "cell_type": "code",
   "execution_count": null,
   "metadata": {
    "deletable": false,
    "nbgrader": {
     "checksum": "47e09148927680f178e68c597fee64ca",
     "grade": false,
     "grade_id": "cell-dbc91f0480157a0a",
     "locked": false,
     "schema_version": 1,
     "solution": true
    }
   },
   "outputs": [],
   "source": [
    "def random_gauss(mu, sigma):\n",
    "    # YOUR CODE HERE\n",
    "    raise NotImplementedError()"
   ]
  },
  {
   "cell_type": "code",
   "execution_count": null,
   "metadata": {
    "deletable": false,
    "editable": false,
    "nbgrader": {
     "checksum": "4c119e0b7af8721b0222777618c8e192",
     "grade": true,
     "grade_id": "cell-ad25179e230634c2",
     "locked": true,
     "points": 0,
     "schema_version": 1,
     "solution": false
    }
   },
   "outputs": [],
   "source": [
    "random.seed(100)\n",
    "assert_almost_equal(random_gauss(24, 2.6),25.746038650049936)\n"
   ]
  },
  {
   "cell_type": "markdown",
   "metadata": {
    "deletable": false,
    "editable": false,
    "nbgrader": {
     "checksum": "e78eca4508337f796ce48a3b6917601e",
     "grade": false,
     "grade_id": "cell-17c66581322751f4",
     "locked": true,
     "schema_version": 1,
     "solution": false
    }
   },
   "source": [
    "### Modify `triangle_area so that it returns the area of a triangle given the length of its three sides a, b, and c using these formulas:\n",
    "$s=\\frac{(a+b+c)}{2}$\n",
    "$A=\\sqrt{s(s-a)(s-b)(s-c)}$\n"
   ]
  },
  {
   "cell_type": "code",
   "execution_count": null,
   "metadata": {
    "deletable": false,
    "nbgrader": {
     "checksum": "e442e850168fd40ce4992436664b4545",
     "grade": false,
     "grade_id": "cell-056e9faa8d5a8dac",
     "locked": false,
     "schema_version": 1,
     "solution": true
    }
   },
   "outputs": [],
   "source": [
    "def triangle_area(a, b, c):\n",
    "    # YOUR CODE HERE\n",
    "    raise NotImplementedError()"
   ]
  },
  {
   "cell_type": "code",
   "execution_count": null,
   "metadata": {
    "deletable": false,
    "editable": false,
    "nbgrader": {
     "checksum": "69191703aca527053cac0e50c313a3ca",
     "grade": true,
     "grade_id": "cell-71a982f8adb8d09c",
     "locked": true,
     "points": 0,
     "schema_version": 1,
     "solution": false
    }
   },
   "outputs": [],
   "source": [
    "assert_almost_equal(triangle_area(3,4,5),6)\n",
    "assert_almost_equal(triangle_area(1,1,math.sqrt(2)), 0.5)\n",
    "assert_almost_equal(triangle_area(10, 15, 20), 72.61843774)\n"
   ]
  },
  {
   "cell_type": "markdown",
   "metadata": {},
   "source": [
    "### Additional In-class notebooks\n",
    "* [Who suffered most?](./who_suffered_most.ipynb)\n",
    "* [blood pressure](./blood_pressure.ipynb)\n",
    "* [Random arrays of numbers](./RandomArrays.ipynb)\n",
    "* [DICOM images](./dicom_images.ipynb)\n",
    "* [DICOM volumes](./DICOMVolumes.ipynb)"
   ]
  },
  {
   "cell_type": "code",
   "execution_count": null,
   "metadata": {},
   "outputs": [],
   "source": []
  }
 ],
 "metadata": {
  "kernelspec": {
   "display_name": "Python 3",
   "language": "python",
   "name": "python3"
  },
  "language_info": {
   "codemirror_mode": {
    "name": "ipython",
    "version": 3
   },
   "file_extension": ".py",
   "mimetype": "text/x-python",
   "name": "python",
   "nbconvert_exporter": "python",
   "pygments_lexer": "ipython3",
   "version": "3.5.2"
  }
 },
 "nbformat": 4,
 "nbformat_minor": 1
}

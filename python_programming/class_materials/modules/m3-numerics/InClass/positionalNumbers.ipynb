{
 "cells": [
  {
   "cell_type": "markdown",
   "metadata": {},
   "source": [
    "# Representing Numbers"
   ]
  },
  {
   "cell_type": "markdown",
   "metadata": {},
   "source": [
    "One of the key issues in mathematics or in problem solving in general is choosing how you represent your problem. If you chose the wrong representation, solving your problem can be very challenging. On the other hand, by choosing a good representation a once difficult problem can become nearly trivial.\n",
    "\n",
    "The introduction of algebraic notation transformed problems that once took pages to describe and solve into two or three line expressions.\n",
    "\n",
    "We are going to look at how we represent numbers and how this can make a problem easy or hard to solve. Ultimately, we are not just interested in the question of numbers, but representing numbers is going to be an example will draw upon later as we think about how we want to represent a web page or the text of a book or a painting."
   ]
  },
  {
   "cell_type": "markdown",
   "metadata": {},
   "source": [
    "## Numbers can be represented with Words\n",
    "\n",
    "* \"two\", \"three thousand four hundred and ninety-four\"\n",
    "* How would you solve the following problem if you only represented numbers with words?\n",
    "    * \"Take four millionillitrillion (and) fifteen subtract 3 septillion and then divide by thirty qunitillion and tweny-four\""
   ]
  },
  {
   "cell_type": "code",
   "execution_count": null,
   "metadata": {},
   "outputs": [],
   "source": [
    "%%bash\n",
    "pip install bases.py\n",
    "pip install roman"
   ]
  },
  {
   "cell_type": "code",
   "execution_count": null,
   "metadata": {},
   "outputs": [],
   "source": [
    "import roman"
   ]
  },
  {
   "cell_type": "markdown",
   "metadata": {},
   "source": [
    "### Python aside\n",
    "\n",
    "**importing** something in Python (e.g. ``import roman``) is like checking something out from the library. It wasn't on your bookshelf before you checked it out (imported it), but now you can read it and use its content just like the books you own."
   ]
  },
  {
   "cell_type": "markdown",
   "metadata": {},
   "source": [
    "### Roman Representation of Numbers\n",
    "\n",
    "Ancient cultures had a variety of ways of representing numbers; the most familiar to us is probably the Roman system. Different letters (e.g. I, V, X, L, C, D, M) represent different numbers. In medieval times the \"subtraction principle\" was created so that \"IV\" became \"4\".\n",
    "\n",
    "* What are the limitations of the Roman system? \n",
    "    * The nature of the representation does not lend itself to arithmetic.\n"
   ]
  },
  {
   "cell_type": "markdown",
   "metadata": {},
   "source": [
    "## [Positional Representation of Numbers](https://en.wikipedia.org/wiki/Positional_notation)"
   ]
  },
  {
   "cell_type": "markdown",
   "metadata": {},
   "source": [
    ">Positional notation or place-value notation is a method of representing or encoding numbers. Positional notation is distinguished from other notations (such as Roman numerals) for its use of the same symbol for the different orders of magnitude (for example, the \"ones place\", \"tens place\", \"hundreds place\"). ([Wikipedia](https://en.wikipedia.org/wiki/Positional_notation))\n",
    "\n",
    "### When we write 2015, what do we mean?\n",
    "\n",
    "$2\\times10^3+0\\times10^2+1\\times10^1+5\\times10^0$\n",
    "\n",
    "So in **positional notation** the value a symbol denotes, depends **where** in the sequence of numbers it occurs."
   ]
  },
  {
   "cell_type": "markdown",
   "metadata": {},
   "source": [
    "#### In Python"
   ]
  },
  {
   "cell_type": "code",
   "execution_count": null,
   "metadata": {},
   "outputs": [],
   "source": [
    "2*10**3+0*10**2+1*10**1+5*10**0"
   ]
  },
  {
   "cell_type": "code",
   "execution_count": null,
   "metadata": {},
   "outputs": [],
   "source": [
    "roman.toRoman(2015)"
   ]
  },
  {
   "cell_type": "markdown",
   "metadata": {},
   "source": [
    "## Decimal Systems and Other Bases\n",
    "\n",
    "* We count in a base-10 system. That is, each position in the numeric sequence represents a different power of 10.\n",
    "* Is there anything special about tens?\n",
    "\n",
    "* The Babylonians used a base-60 system.\n",
    "    * What can you imagine are some of the advantages and disadvantages of using a base 60?\n",
    "    * Do we use anything like this now?\n",
    "    \n",
    "* Computers use a base-2 (binary system). Anything special about twos?\n",
    "    * Computers also use a base 8 (octal system) and base 16 (hexadecimal)\n",
    "    \n",
    "* For a positional number system of base-N, we need N symbols (e.g. for base-10 we have 0, 1, 2, 3, 4, 5, 6, 7, 8, 9)\n",
    "* What are the symbols for base \n",
    "    * 2?\n",
    "    * 7?\n",
    "    * 16?"
   ]
  },
  {
   "cell_type": "markdown",
   "metadata": {},
   "source": [
    "### Converting between bases in Python\n",
    "\n",
    "* Python provides **functions** (we'll take more about what a function is later) that convert to decimal (``int()``), binary (``bin()``), octagonal (``oct()``), and hexadecimal (``hex()``)"
   ]
  },
  {
   "cell_type": "markdown",
   "metadata": {},
   "source": [
    "### Python asides\n",
    "\n",
    "We can use the ``help()`` function in Python to learn more details about how a function works"
   ]
  },
  {
   "cell_type": "code",
   "execution_count": null,
   "metadata": {},
   "outputs": [],
   "source": [
    "help(int)"
   ]
  },
  {
   "cell_type": "code",
   "execution_count": null,
   "metadata": {},
   "outputs": [],
   "source": [
    "bdate = bin(2015)\n",
    "bdate"
   ]
  },
  {
   "cell_type": "code",
   "execution_count": null,
   "metadata": {},
   "outputs": [],
   "source": [
    "1*2**0+1*2**1+1*2**2+1*2**3+1*2**4+0*2**5+1*2**6+1*2**7+1*2**8+1*2**9+1*2**10"
   ]
  },
  {
   "cell_type": "code",
   "execution_count": null,
   "metadata": {},
   "outputs": [],
   "source": [
    "hex(2015)"
   ]
  },
  {
   "cell_type": "code",
   "execution_count": null,
   "metadata": {},
   "outputs": [],
   "source": [
    "oct(2015)"
   ]
  },
  {
   "cell_type": "code",
   "execution_count": null,
   "metadata": {},
   "outputs": [],
   "source": [
    "int(bin(2015),2)"
   ]
  },
  {
   "cell_type": "markdown",
   "metadata": {},
   "source": [
    "### Representing numbers in Python\n",
    "\n",
    "Since there is no largest number, it would take an infinite number of positions to represent arbitrarily large numbers. Since physical computers are finite, there is a limit to how large a number Python can represent. This will be different for intgers and floating point numbers. We can see what are the largest numbers Python can represent with the ``sys`` module.\n",
    "\n",
    "* ``sys.maxsize`` is the largest integer that can be represented in Python (this will be computer system dependent)\n",
    "* Current computers usually have 64 bits (positions) for representing numbers (remember binary), but one bit is reserved for saying whether the number is positive or negative so the largest integer is probably $2^{63}-1$\n"
   ]
  },
  {
   "cell_type": "code",
   "execution_count": null,
   "metadata": {},
   "outputs": [],
   "source": [
    "import sys\n",
    "# For integers\n",
    "print(sys.maxsize)"
   ]
  },
  {
   "cell_type": "code",
   "execution_count": null,
   "metadata": {},
   "outputs": [],
   "source": [
    "print(2**63 - 1)"
   ]
  },
  {
   "cell_type": "markdown",
   "metadata": {},
   "source": [
    "* Floating point numbers are more---not to confuse number systems---complex...\n",
    "* Details about floating point numbers ($\\mathbb{R}$) are described in sys.float_info"
   ]
  },
  {
   "cell_type": "code",
   "execution_count": null,
   "metadata": {},
   "outputs": [],
   "source": [
    "print(sys.float_info)"
   ]
  },
  {
   "cell_type": "markdown",
   "metadata": {},
   "source": [
    "## Advanced topics\n",
    "\n",
    "* [What you can do with one](one.ipynb)\n",
    "\n",
    "* We don't have to use Integers as our base, here are some wikipedia articles about using non-integer bases:\n",
    "\n",
    "    * [non-integer bases](https://en.wikipedia.org/wiki/Non-integer_representation)\n",
    "    * [base-$\\phi$](https://en.wikipedia.org/wiki/Golden_ratio_base)"
   ]
  },
  {
   "cell_type": "code",
   "execution_count": null,
   "metadata": {},
   "outputs": [],
   "source": []
  }
 ],
 "metadata": {
  "anaconda-cloud": {},
  "kernelspec": {
   "display_name": "Python 3",
   "language": "python",
   "name": "python3"
  },
  "language_info": {
   "codemirror_mode": {
    "name": "ipython",
    "version": 3
   },
   "file_extension": ".py",
   "mimetype": "text/x-python",
   "name": "python",
   "nbconvert_exporter": "python",
   "pygments_lexer": "ipython3",
   "version": "3.5.2"
  }
 },
 "nbformat": 4,
 "nbformat_minor": 1
}

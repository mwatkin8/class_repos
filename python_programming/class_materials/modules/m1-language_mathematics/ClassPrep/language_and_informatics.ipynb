{
 "cells": [
  {
   "cell_type": "code",
   "execution_count": 2,
   "metadata": {},
   "outputs": [
    {
     "data": {
      "text/html": [
       "\n",
       "        <iframe\n",
       "            width=\"800\"\n",
       "            height=\"600\"\n",
       "            src=\"https://www.youtube.com/embed/itpK1hu_gPs\"\n",
       "            frameborder=\"0\"\n",
       "            allowfullscreen\n",
       "        ></iframe>\n",
       "        "
      ],
      "text/plain": [
       "<IPython.lib.display.YouTubeVideo at 0x7f34f55394e0>"
      ]
     },
     "execution_count": 2,
     "metadata": {},
     "output_type": "execute_result"
    }
   ],
   "source": [
    "from IPython.display import YouTubeVideo\n",
    "YouTubeVideo(\"itpK1hu_gPs\", width=800, height=600)"
   ]
  },
  {
   "cell_type": "markdown",
   "metadata": {},
   "source": [
    "# Languages of Mathematics, Computing, and Biomedical Informatics\n",
    "\n",
    "![Musical Notation](https://upload.wikimedia.org/wikipedia/commons/9/9d/Bartok_-_Music_for_Strings,_Percussion_and_Celesta_interval_expansion.png)\n",
    "\n",
    "Every discipline creates a [sub-language](https://en.wikipedia.org/wiki/Sublanguage) consisting of symbols and rules for combining those symbols in order to (hopefully) create  an efficient and unambiguous means of communicating information.  "
   ]
  },
  {
   "cell_type": "markdown",
   "metadata": {},
   "source": [
    "## Language of Healthcare\n",
    "\n",
    "Healthcare is full of special words, abbreviations, and symbols that are used to communicate and record information. Biomedical Informatics even teaches a course that is primarily a course on \"The Language of Medicine\".  \n",
    "![Language of Medicine Book](https://goo.gl/2qyaA1)"
   ]
  },
  {
   "cell_type": "markdown",
   "metadata": {},
   "source": [
    "## Languages of Mathematics\n",
    "\n",
    "### Value of Symbols\n",
    "\n",
    ">One aspect of modern mathematics that is obvious to even the casual observer is the use of abstract notations: algebraic expressions, complicated-looking formulas, and geometric diagrams. The mathematicians’ reliance on abstract notation is a reflection of the abstract nature of the patterns they study. \n",
    ">\n",
    ">Different aspects of reality require different forms of description. For example, the most appropriate way to study the lay of the land or to describe to someone how to find their way around a strange town is to draw a map. Text is far less appropriate. Analogously, annotated line drawings (blueprints) are most appropriate for representing the construction of a building. And musical notation is most appropriate for representing music on paper. In the case of various kinds of abstract, formal patterns and abstract structures, the most appropriate means of description and analysis is mathematics, using mathematical notations, concepts, and procedures. \n",
    ">For example, the commutative law for addition could be written in English as: \n",
    ">\n",
    "<center>*When two numbers are added, their order is not important*.</center>\n",
    ">\n",
    ">\n",
    "However, it is usually written in the symbolic form: \n",
    "\n",
    "<center>$m + n = n + m$</center>\n",
    "\n",
    ">While the symbolic form has no significant advantage for a simple example such as this, such is the complexity and the degree of abstraction of the majority of mathematical patterns, that to use anything other than symbolic notation would be prohibitively cumbersome. And so the development of mathematics has involved a steady increase in the use of abstract notations. \n",
    ">\n",
    ">Though the introduction of symbolic mathematics in its modern form is generally credited to the French mathematician Françoise Viète in the sixteenth century, the earliest appearance of algebraic notation seems to have been in the work of Diophantus, who lived in Alexandria some time around 250 CE. His thirteen volume treatise Arithmetica (only six volumes have survived) is generally regarded as the first algebra textbook. In particular, Diophantus used special symbols to denote the unknown in an equation and to denote powers of the unknown, and he had symbols for subtraction and for equality. \n",
    ">\n",
    ">These days, mathematics books tend to be awash with symbols, but mathematical notation no more is mathematics than musical notation is music. A page of sheet music represents a piece of music; the music itself is what you get when the notes on the page are sung or performed on a musical instrument. It is in its performance that the music comes alive and becomes part of our experience. The music exists not on the printed page but in our minds. The same is true for mathematics. The symbols on a page are just a representation of the mathematics. When read by a competent performer (in this case, someone trained in mathematics), the symbols on the printed page come alive— the mathematics lives and breathes in the mind of the reader like some abstract symphony.\n",
    ">\n",
    "(Devlin, Keith (2015-02-23). *Introduction to Mathematical Thinking* (pp. 3-4).)\n",
    "\n",
    "\n",
    "### Symbols vs. Words\n",
    "\n",
    ">Mathematics has a wealth of notation to express commonly occuring concepts. But notation is both a blessing and a  curse. Used carefully, it can make amthematical arguments easier to read andunderstand. If overused it can have the opposite effect, and **often it is better to express a statement in words than in symbols.** (Nicholas J. Higham \"The Language of Applied mathematics,\" *The Princeton Companion to Applied Mathematics,* p. 8)"
   ]
  },
  {
   "cell_type": "markdown",
   "metadata": {},
   "source": [
    "### The Greek Alphabet\n",
    "> [The Greek alphabet] is widely used to denote mathematical variables. Note that almost always $\\delta$ and $\\epsilon$ are used to denote small quantities, and $\\pi$ is used as a variable for $\\pi=3.14159\\cdots$. (Nicholas J. Higham \"The Language of Applied mathematics,\" *The Princeton Companion to Applied Mathematics,* p. 8)\n",
    "\n",
    "* [A guide to the Greek alphabet](http://platonicrealms.com/encyclopedia/Greek-alphabet)\n",
    "* [Another guide to the Greek alphabet](http://www.physlink.com/reference/GreekAlphabet.cfm)\n",
    "\n",
    "\n",
    "### Other common notations\n",
    "\n",
    "| Symbol| Meaning|\n",
    "|:------|-------:|\n",
    "|$\\implies$|Implies|\n",
    "|$\\impliedby$| Implied by|\n",
    "|$\\iff$| If and only if|\n",
    "|$\\exists$| There exists|\n",
    "|$\\nexists$| There does not exist|\n",
    "|$\\forall$| For all|\n",
    "\n",
    "![Common Applied Mathematics Symbols](./common_math_symbols.png)"
   ]
  },
  {
   "cell_type": "markdown",
   "metadata": {},
   "source": [
    "## Languages of Computing\n",
    "\n",
    "### Flow Charts\n",
    "\n",
    "Flow charts use [common symbols](https://en.wikipedia.org/wiki/Flowchart#Common_symbols) to denote common tasks. Flow charts are not limited to computing (see lamp debugging)\n",
    "\n",
    "![A Flow Chart](https://upload.wikimedia.org/wikipedia/commons/thumb/9/91/LampFlowchart.svg/750px-LampFlowchart.svg.png)\n",
    "\n",
    "### [Operating System](https://en.wikipedia.org/wiki/Operating_system)\n",
    "\n",
    "Language used to interact with your computer. May be\n",
    "\n",
    "* Graphical (drag and drop, click, etc.)\n",
    "* Word-based (typing commands in a shell)\n",
    "\n",
    "### [Pseudocode](https://en.wikipedia.org/wiki/Pseudocode)\n",
    "\n",
    ">Pseudocode (rarely known as Program Design Language) is an informal high-level description of the operating principle of a computer program or other algorithm.\n",
    ">\n",
    ">It uses the structural conventions of a normal programming language, but is intended for human reading rather than machine reading. Pseudocode typically omits details that are essential for machine understanding of the algorithm, such as variable declarations, system-specific code and some subroutines. The programming language is augmented with natural language description details, where convenient, or with compact mathematical notation. The purpose of using pseudocode is that it is easier for people to understand than conventional programming language code, and that it is an efficient and environment-independent description of the key principles of an algorithm.\n",
    ">\n",
    ">No standard for pseudocode syntax exists, as a program in pseudocode is not an executable program.\n",
    ">\n",
    ">$\\cdots$\n",
    ">\n",
    ">A programmer who needs to implement a specific algorithm, especially an unfamiliar one, will often start with a pseudocode description, and then \"translate\" that description into the target programming language and modify it to interact correctly with the rest of the program. Programmers may also start a project by sketching out the code in pseudocode on paper before writing it in its actual language, as a top-down structuring approach, with a process of steps to be followed as a refinement. ([Wikipedia, \"Pseudocode\" accessed 22 August 2016](https://en.wikipedia.org/wiki/Pseudocode))\n",
    "\n",
    "![Example Pseudocode](https://goo.gl/mCQkJm)\n",
    "\n",
    "![Another example of Pseudocode](https://upload.wikimedia.org/wikipedia/commons/1/14/Cole-Vishkin_Algorithm_Pseudo_Code.jpg)\n",
    "### Programming Languages\n",
    "\n",
    "![Language Hierarchy](https://blog.malwarebytes.com/wp-content/uploads/2012/09/FlowDiagram2.png)"
   ]
  }
 ],
 "metadata": {
  "anaconda-cloud": {},
  "kernelspec": {
   "display_name": "Python 3",
   "language": "python",
   "name": "python3"
  },
  "language_info": {
   "codemirror_mode": {
    "name": "ipython",
    "version": 3
   },
   "file_extension": ".py",
   "mimetype": "text/x-python",
   "name": "python",
   "nbconvert_exporter": "python",
   "pygments_lexer": "ipython3",
   "version": "3.5.2"
  }
 },
 "nbformat": 4,
 "nbformat_minor": 1
}

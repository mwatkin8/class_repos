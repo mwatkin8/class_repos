{
 "cells": [
  {
   "cell_type": "code",
   "execution_count": 1,
   "metadata": {},
   "outputs": [
    {
     "data": {
      "text/html": [
       "\n",
       "        <iframe\n",
       "            width=\"800\"\n",
       "            height=\"600\"\n",
       "            src=\"https://www.youtube.com/embed/5yz3Zv_cU18\"\n",
       "            frameborder=\"0\"\n",
       "            allowfullscreen\n",
       "        ></iframe>\n",
       "        "
      ],
      "text/plain": [
       "<IPython.lib.display.YouTubeVideo at 0x7f20d303a940>"
      ]
     },
     "execution_count": 1,
     "metadata": {},
     "output_type": "execute_result"
    }
   ],
   "source": [
    "from IPython.display import YouTubeVideo\n",
    "YouTubeVideo(\"5yz3Zv_cU18\", width=800, height=600)"
   ]
  },
  {
   "cell_type": "markdown",
   "metadata": {},
   "source": [
    "## Mathematics, Computing, and Biomedical Informatics\n",
    "\n",
    ">Mathematics is biology’s next microscope, only better; biology is mathematics’ next physics, only better. (Joel Cohen, quoted in Matthew He, [\"Mathematics of Bioinformatics\"](http://www.math.hkbu.edu.hk/BIBM2010/Tutorials/BIBM%2010%20Tutorial-Part%201.pdf))\n",
    "\n",
    "### Applied Mathematics\n",
    "\n",
    "> applied mathematics is not a definable scientific field but a human attitude. The attitude of the applied scientist is directed towards finding clear cut answers which can stand the test of empirical observation. To obtain the answers to theoretically often insuperably difficult problems, he must be willing to make compromises regarding rigorous mathematical completeness; he must supplement theoretical reasoning by numerical work, plausibility considerations and so on. ([Richard Courant]( http://www.jstor.org/stable/2313496))\n",
    "\n",
    "## Basic Objectives of this Class\n",
    "\n",
    "#### Get You Conversant with the Language of Mathematics that you will commonly encounter in biomedical informatics.\n",
    "* Symbols (e.g. $\\forall,\\exists$)\n",
    "    * Grammar (e.g. sets, functions, relations, binary operators)\n",
    "    * Style (e.g. balancing symbolic descriptions and natural language descriptions)\n",
    "    \n",
    "#### Provide Foundations for Subsequent Biomedical Informatics Courses.\n",
    "* Statistics\n",
    "* Machine Learning\n",
    "* Modeling\n",
    "\n",
    "#### Help you understand the **story** of the mathematical equations rather than the technical features of the equation.\n",
    "\n",
    "![Example Mathematical Equations](../Resources/text.jpg)\n",
    "\n",
    "\n",
    "\n",
    "## Does Mathematics Matter for Biomedical Informatics?\n",
    "* Without mathematics there is no modern science\n",
    "* Without modern science there is no modern medicine\n",
    "\n",
    "### Without mathematics there is no Bayesian Diagnosis}\n",
    "![Example Bayesian Network](../Resources/bn.jpg)\n",
    "\n",
    "\n",
    "### Without mathematics there is no Computed Tomography\n",
    "![Sinogram with reconstructed CT slice](../Resources/sinogram_ct.png)\n"
   ]
  },
  {
   "cell_type": "markdown",
   "metadata": {},
   "source": [
    "## What is Mathematics?\n",
    "\n",
    "### Keith Devlin\n",
    "\n",
    "> Ask this question of persons chosen at random, and you are likely to receive the answer \"Mathematics is the study of number.\"...And with that you will have obtained a description of mathematics that ceased to be accurate some two and a half thousand years ago! (Keith Devlin, *Mathematics: The Science of Patterns*)\n",
    "\n",
    "### Ian Stewart\n",
    "> The power of mathematics lies precisely in the combination of intuition *and* rigor. (Ian Stewart, *Concepts of Modern Mathematics*)\n",
    "\n",
    "### Alfred North Whitehead\n",
    "\n",
    "> Mathematics is the language that allows us to move from descriptions of the particular to descriptions of the general (abstraction). (Alfred North Whitehead, *An Introduction to Mathematics*)\n",
    "\n",
    "### Richard Courant and Herbert Robbins \n",
    ">Mathematics as an expression of the human mind reflects the active will, the contemplative reason, and the desire for aesthetic perfection. Its basic elements are logic and intuition, analysis and construction, generality and individuality. Though different traditions may emphasize different aspects, it is only the interplay of these antithetic forces and the struggle for their synthesis that constitute the life, usefulness, and supreme value of mathematical science. (Courant and Robins, *What is Mathematics?*)"
   ]
  },
  {
   "cell_type": "markdown",
   "metadata": {},
   "source": [
    "## Who is a Mathematician?\n",
    "\n",
    "### Mathematicians of Repute\n",
    "\n",
    "![Portrait of Carl Fredrick Gauss](../Resources/gauss.jpg)\n",
    "\n",
    "### Informaticians of Repute \n",
    "\n",
    "### Greg Cooper of the University of Pittsburgh\n",
    "\n",
    "![Portrait of Greg Cooper](../Resources/cooper.jpg)\n",
    "\n",
    "\n",
    "\n",
    "### Engineers\n",
    "\n",
    "\"All good engineers are applied mathematicians.\" (Attributed to  [Hans Othmer](http://www.math.umn.edu/~othmer/))\n",
    "\n",
    "\n",
    "### You?\n",
    "\n",
    "![Cartoon of person looking in mirror](http://1.bp.blogspot.com/_sLmSHkrbom0/SheUDlIh3fI/AAAAAAAABmk/htkJ1WdkItk/s320/DSC07378.JPG)\n",
    "\n",
    "## What is the point of mathematics?\n",
    "\n",
    "### Rigor: An important element of mathematics is a rigor that is intended to avoid situations like the following:\n",
    "\n",
    "1. Nothing is better than lifelong happiness.\n",
    "1. But a cheese sandwich is better than nothing.\n",
    "1. Therefore, a cheese sandwich is better than lifelong happiness\n",
    "\n",
    "### Generality: Some peoples count using *concrete numbers*\n",
    "\n",
    ">[T]the Gilyaks, who farm along the river Amur, in eastern Russia have twenty-four sets of numbers. When a Gilyak counts trees, sticks, pencils, and some other long things, she sues the word *mex* for the number 2. When counting leaves, pieces of textile and other flat items, she will use *met* for 2. And for berries, balls, and other round things, 2 becomes *mik*. (*The History of Counting*)\n",
    "\n",
    "\n",
    " \t\t\n",
    "* By contrast, in mathematics 2 refers to a *two-ness* that is independent of any particular collection of 2 items that it refers to.\n",
    "\n",
    "### Usefulness: Mathematics is ultimately important to us as engineers and scientists because it is useful for solving particular problems:\n",
    "\n",
    "* What is the probability that this patient has leukemia?\n",
    "* What is the glomerular filtration rate of this patient?\n",
    "* What CT findings are indicative of a pulmonary embolism?\n"
   ]
  },
  {
   "cell_type": "markdown",
   "metadata": {},
   "source": [
    "## Summary\n",
    "\n",
    "Mathematics provides tools that are valuable in a wide range of biomedical applications. Further, the spirit of mathematics---rigor and generality---should inform all aspects of biomedical informatics."
   ]
  },
  {
   "cell_type": "markdown",
   "metadata": {},
   "source": [
    "## Additional Resources\n",
    "* [A guide to the Greek alphabet](http://platonicrealms.com/encyclopedia/Greek-alphabet)\n",
    "* [Another guide to the Greek alphabet](http://www.physlink.com/reference/GreekAlphabet.cfm)\n",
    "* [Philosophy of Computer Science]( http://plato.stanford.edu/entries/computer-science/)\n",
    "* [The Science in Computer Science](http://cacm.acm.org/magazines/2013/5/163761-the-science-in-computer-science/fulltext)"
   ]
  },
  {
   "cell_type": "code",
   "execution_count": null,
   "metadata": {
    "collapsed": true
   },
   "outputs": [],
   "source": []
  }
 ],
 "metadata": {
  "anaconda-cloud": {},
  "kernelspec": {
   "display_name": "Python 3",
   "language": "python",
   "name": "python3"
  },
  "language_info": {
   "codemirror_mode": {
    "name": "ipython",
    "version": 3
   },
   "file_extension": ".py",
   "mimetype": "text/x-python",
   "name": "python",
   "nbconvert_exporter": "python",
   "pygments_lexer": "ipython3",
   "version": "3.5.2"
  }
 },
 "nbformat": 4,
 "nbformat_minor": 1
}

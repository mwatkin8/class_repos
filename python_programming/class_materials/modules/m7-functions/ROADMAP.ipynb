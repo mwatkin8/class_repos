{
 "cells": [
  {
   "cell_type": "markdown",
   "metadata": {},
   "source": [
    "# M4- Functions\n",
    "\n",
    "## Class Prep\n",
    "* [Functions in Mathematics](ClassPrep/FunctionsInMath.ipynb)\n",
    "* [Functions in Python](ClassPrep/FunctionDefinitions.ipynb)\n",
    "* [Functions and Namespaces](ClassPrep/FunctionsAndNamespaces.ipynb)\n",
    "* [Functions and Mutable Arguments](ClassPrep/FunctionsAndMutableAndImmutableArguments.ipynb)\n",
    "\n",
    "* *Think Python*, chapter 3 \"Functions\"\n",
    "* *Think Python*, chapter 6 \"Fruitful Functions\"\n",
    "\n",
    "## InClass\n",
    "\n",
    "\n",
    "## Resources\n",
    "\n",
    "Here are some (I think) fun notebooks illustrating functions to draw fractals\n",
    "\n",
    "* [Fern Fractal](Resources/BarnsleyFern.ipynb)\n",
    "* [Gasket Fractal](Resources/SierpińskiGasket.ipynb)"
   ]
  },
  {
   "cell_type": "code",
   "execution_count": null,
   "metadata": {},
   "outputs": [],
   "source": []
  }
 ],
 "metadata": {
  "kernelspec": {
   "display_name": "Python 3",
   "language": "python",
   "name": "python3"
  },
  "language_info": {
   "codemirror_mode": {
    "name": "ipython",
    "version": 3
   },
   "file_extension": ".py",
   "mimetype": "text/x-python",
   "name": "python",
   "nbconvert_exporter": "python",
   "pygments_lexer": "ipython3",
   "version": "3.5.2"
  }
 },
 "nbformat": 4,
 "nbformat_minor": 1
}

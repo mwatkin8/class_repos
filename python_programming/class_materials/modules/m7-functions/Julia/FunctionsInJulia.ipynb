{
 "cells": [
  {
   "cell_type": "markdown",
   "metadata": {
    "internals": {
     "slide_helper": "subslide_end",
     "slide_type": "subslide"
    },
    "slide_helper": "slide_end",
    "slideshow": {
     "slide_type": "slide"
    }
   },
   "source": [
    "# Design Decisions with Python Functions\n",
    "\n"
   ]
  },
  {
   "cell_type": "code",
   "execution_count": null,
   "metadata": {},
   "outputs": [],
   "source": [
    "using Base.Test"
   ]
  },
  {
   "cell_type": "markdown",
   "metadata": {
    "internals": {
     "slide_helper": "subslide_end",
     "slide_type": "subslide"
    },
    "slide_helper": "slide_end",
    "slideshow": {
     "slide_type": "subslide"
    }
   },
   "source": [
    "# Two primary reasons for defining functions:\n",
    "1. Code reuse: \n",
    "    * Write and debug code once. Then I can use this same (correct) code many times\n",
    "    * This makes upkeep/modifications simpler. When I think of an improved way of implementing something I only need to change it in one location.\n",
    "\n",
    "2. Procedural Decomposition:\n",
    "    * A function should do one thing, not multiple things.\n",
    "    * This can become a matter of style\n",
    "    "
   ]
  },
  {
   "cell_type": "markdown",
   "metadata": {},
   "source": [
    "## Function Style According to Mark Thomason\n",
    "![Mark Thomason](./mark_thomason.jpg)\n",
    "\n",
    "## The entire function should be visible on your screen within your editor.\n",
    "## If your function doesn't fit on your screen, get a bigger screen\n",
    "\n",
    "### What are the implications of these heuristic?\n",
    "#### Function size changes with age?"
   ]
  },
  {
   "cell_type": "markdown",
   "metadata": {
    "nbgrader": {
     "grade": false,
     "grade_id": "cell-5e86cfe5fedf268f",
     "locked": true,
     "schema_version": 1,
     "solution": false
    }
   },
   "source": [
    "## Exercise: Define a function to get a positive integer from a user.\n",
    "### Requirements\n",
    "1. Use an infinite while loop\n",
    "1. Use the input function\n",
    "1. Keep prompting the user for input until a valid positive integer is provided\n",
    "\n",
    "We'll use a try/except block to account for users entering non-integer value\n",
    "\n",
    "```Julia\n",
    "try\n",
    "    # Get input from user\n",
    "    # convert to an integer (this where we could get an exception\n",
    "    # test for positivity\n",
    "catch error\n",
    "    \n",
    "    # if we get an input that we can't convert to an integer, we need to do something\n",
    "end\n",
    "```"
   ]
  },
  {
   "cell_type": "code",
   "execution_count": null,
   "metadata": {},
   "outputs": [],
   "source": [
    "function input(;prompt=\"Enter\")\n",
    "    println(prompt)\n",
    "    return readline()\n",
    "end"
   ]
  },
  {
   "cell_type": "code",
   "execution_count": null,
   "metadata": {},
   "outputs": [],
   "source": [
    "function get_pos_integer(;prompt=\"Enter a positive integer\")\n",
    "    while true\n",
    "        num = input(prompt)\n",
    "        try\n",
    "            num = parse(Int64, num)\n",
    "            if num > 0\n",
    "                return num\n",
    "            end\n",
    "        catch error\n",
    "            if isa(error, ArgumentError)\n",
    "                continue\n",
    "            end\n",
    "        end\n",
    "    end\n",
    "end\n"
   ]
  },
  {
   "cell_type": "markdown",
   "metadata": {
    "nbgrader": {
     "grade": false,
     "grade_id": "cell-0f8cdb83318316ef",
     "locked": true,
     "schema_version": 1,
     "solution": false
    }
   },
   "source": [
    "## Does this function do one thing?\n",
    "## Could we break it into smaller pieces?"
   ]
  },
  {
   "cell_type": "markdown",
   "metadata": {
    "nbgrader": {
     "grade": false,
     "grade_id": "cell-bb30c78a8783f3c0",
     "locked": true,
     "schema_version": 1,
     "solution": false
    }
   },
   "source": [
    "### Write a function to test whether a number is positive"
   ]
  },
  {
   "cell_type": "code",
   "execution_count": null,
   "metadata": {
    "nbgrader": {
     "grade": false,
     "grade_id": "cell-b17130446493e1e7",
     "locked": false,
     "schema_version": 1,
     "solution": true
    }
   },
   "outputs": [],
   "source": [
    "function ispositive(x)\n",
    "    return x > 0\n",
    "end"
   ]
  },
  {
   "cell_type": "code",
   "execution_count": null,
   "metadata": {
    "nbgrader": {
     "grade": true,
     "grade_id": "cell-163d61c8d4528ae4",
     "locked": true,
     "points": 0,
     "schema_version": 1,
     "solution": false
    }
   },
   "outputs": [],
   "source": [
    "@test ispositive(5)\n",
    "@test !ispositive(-1)\n",
    "@test !ispositive(0)"
   ]
  },
  {
   "cell_type": "code",
   "execution_count": null,
   "metadata": {
    "nbgrader": {
     "grade": false,
     "grade_id": "cell-2514734b675a7247",
     "locked": false,
     "schema_version": 1,
     "solution": true
    }
   },
   "outputs": [],
   "source": [
    "function getint(sint)\n",
    "    return parse(Int64, sint)\n",
    "end\n"
   ]
  },
  {
   "cell_type": "code",
   "execution_count": null,
   "metadata": {},
   "outputs": [],
   "source": [
    "parse(Int64, \"4.7\")"
   ]
  },
  {
   "cell_type": "code",
   "execution_count": null,
   "metadata": {
    "nbgrader": {
     "grade": true,
     "grade_id": "cell-c1513c8de2dfd7da",
     "locked": true,
     "points": 0,
     "schema_version": 1,
     "solution": false
    }
   },
   "outputs": [],
   "source": [
    "@test getint(\"543\")==543\n",
    "@test_throws ArgumentError getint(\"4.7\")\n"
   ]
  },
  {
   "cell_type": "markdown",
   "metadata": {
    "nbgrader": {
     "grade": false,
     "grade_id": "cell-6d9f7c9521708bdf",
     "locked": true,
     "schema_version": 1,
     "solution": false
    }
   },
   "source": [
    "### Using `getint` and `ispositive` rewrite `get_pos_integer`"
   ]
  },
  {
   "cell_type": "code",
   "execution_count": null,
   "metadata": {
    "nbgrader": {
     "grade": false,
     "grade_id": "cell-fa342b9026507d73",
     "locked": false,
     "schema_version": 1,
     "solution": true
    }
   },
   "outputs": [],
   "source": [
    "function get_pos_integer2(prompt=\"Enter a positive integer\")\n",
    "    while true\n",
    "        num = input(prompt)\n",
    "        try\n",
    "            num = getint(num)\n",
    "            if ispositive(num)\n",
    "                return num\n",
    "            end\n",
    "        catch error\n",
    "            if isa(error, ArgumentError)\n",
    "                continue\n",
    "            end\n",
    "        end\n",
    "    end\n",
    "end\n"
   ]
  },
  {
   "cell_type": "code",
   "execution_count": null,
   "metadata": {
    "nbgrader": {
     "grade": true,
     "grade_id": "cell-e69024ff74b045be",
     "locked": true,
     "points": 0,
     "schema_version": 1,
     "solution": false
    }
   },
   "outputs": [],
   "source": [
    "# Enter '5'\n",
    "@test get_pos_integer2()==5\n",
    "\n",
    "# Enter '7'\n",
    "@test get_pos_integer2()==7\n"
   ]
  },
  {
   "cell_type": "markdown",
   "metadata": {},
   "source": [
    "## Exercise\n",
    "\n",
    "Following the same style as `get_pos_integer`, write a function `get_value`. `get_value` takes as arguments:\n",
    "\n",
    "1. A positional argument `converter` that is a function that takes as input a string and returns the desired value\n",
    "1. A positional argument `tester` that is a function that takes as input a value and returns `True` or `False` depending on whether a desired condition is satisfied.\n",
    "1. A keyword argument `prompt` that is the prompt to use with `input`.\n",
    "\n",
    "Test the function with `getint` and `ispositive`."
   ]
  },
  {
   "cell_type": "code",
   "execution_count": null,
   "metadata": {
    "nbgrader": {
     "grade": false,
     "grade_id": "cell-cebe2a0d20841727",
     "locked": false,
     "schema_version": 1,
     "solution": true
    }
   },
   "outputs": [],
   "source": [
    "### BEGIN SOLUTION\n",
    "\n",
    "function get_value(converter, tester; prompt=\"enter a positive integer: \")\n",
    "    while true\n",
    "        num = input(prompt)\n",
    "        try\n",
    "            num = converter(num)\n",
    "            if tester(num)\n",
    "                return num\n",
    "            end\n",
    "        catch error\n",
    "            if isa(error, ArgumentError)\n",
    "                continue\n",
    "            end\n",
    "        end\n",
    "    end\n",
    "end\n",
    "### END SOLUTION"
   ]
  },
  {
   "cell_type": "code",
   "execution_count": null,
   "metadata": {},
   "outputs": [],
   "source": [
    "get_value(getint, ispositive)"
   ]
  },
  {
   "cell_type": "markdown",
   "metadata": {
    "nbgrader": {
     "grade": false,
     "grade_id": "cell-a11865a4f7b1648a",
     "locked": true,
     "schema_version": 1,
     "solution": false
    }
   },
   "source": [
    "## Exercise\n",
    "\n",
    "Modify `get_three_words` to take a string `entry` splits it on white spaces and returns a list of three words. If the list is not three words long, raise a `ValueError`."
   ]
  },
  {
   "cell_type": "code",
   "execution_count": null,
   "metadata": {
    "nbgrader": {
     "grade": false,
     "grade_id": "cell-ade3a80c6dfc2cd7",
     "locked": false,
     "schema_version": 1,
     "solution": true
    }
   },
   "outputs": [],
   "source": [
    "function get_three_words(entry)\n",
    "    ### BEGIN SOLUTION\n",
    "    entry = split(entry)\n",
    "    if length(entry) != 3\n",
    "        error(\"Error: Must enter three words\")\n",
    "    end\n",
    "    return entry\n",
    "end\n",
    "    ### END SOLUTION"
   ]
  },
  {
   "cell_type": "code",
   "execution_count": null,
   "metadata": {},
   "outputs": [],
   "source": [
    "get_three_words(\"Brian Earl Chapman\")"
   ]
  },
  {
   "cell_type": "code",
   "execution_count": null,
   "metadata": {},
   "outputs": [],
   "source": [
    "print(get_three_words(\"Brian Chapman\"))\n",
    "print(\"I got here\")"
   ]
  },
  {
   "cell_type": "code",
   "execution_count": null,
   "metadata": {},
   "outputs": [],
   "source": [
    "@test length(get_three_words(\"Brian Earl Chapman\")) == 3;"
   ]
  },
  {
   "cell_type": "markdown",
   "metadata": {},
   "source": [
    "## Exercise\n",
    "\n",
    "Modify `test_ascending` to take in a sequence and test if the elements in `values` are in ascending order.\n",
    "\n",
    "**Hint:** Use the `all` function."
   ]
  },
  {
   "cell_type": "code",
   "execution_count": null,
   "metadata": {},
   "outputs": [],
   "source": [
    "?all"
   ]
  },
  {
   "cell_type": "code",
   "execution_count": null,
   "metadata": {
    "nbgrader": {
     "grade": false,
     "grade_id": "cell-40b8ef1cd8e54c0b",
     "locked": false,
     "schema_version": 1,
     "solution": true
    }
   },
   "outputs": [],
   "source": [
    "function test_ascending(values)\n",
    "    ### BEGIN SOLUTION\n",
    "    return all([values[i] < values[i+1] for i in range(1,length(values)-1)])\n",
    "    ### END SOLUTION\n",
    "end"
   ]
  },
  {
   "cell_type": "code",
   "execution_count": null,
   "metadata": {},
   "outputs": [],
   "source": [
    "?range"
   ]
  },
  {
   "cell_type": "code",
   "execution_count": null,
   "metadata": {},
   "outputs": [],
   "source": [
    "test_ascending(get_three_words(\"1 2 3\"))"
   ]
  },
  {
   "cell_type": "code",
   "execution_count": null,
   "metadata": {
    "nbgrader": {
     "grade": true,
     "grade_id": "cell-519436fcb56d35ad",
     "locked": true,
     "points": 0,
     "schema_version": 1,
     "solution": false
    }
   },
   "outputs": [],
   "source": [
    "@test test_ascending((\"Argos\", \"Helios\", \"Zeus\"))\n",
    "@test !test_ascending((\"Argos\", \"Zeus\", \"Helios\"))\n",
    "@test !test_ascending((\"argos\", \"Helios\", \"Zeus\"));\n"
   ]
  },
  {
   "cell_type": "code",
   "execution_count": null,
   "metadata": {
    "nbgrader": {
     "grade": false,
     "grade_id": "cell-4f5dfd3fc60fcbf6",
     "locked": true,
     "schema_version": 1,
     "solution": false
    }
   },
   "outputs": [],
   "source": [
    "get_value(get_three_words, \n",
    "          test_ascending, \n",
    "          prompt=\"enter three words in ascending alphabetical order separated by spaces: \")\n"
   ]
  },
  {
   "cell_type": "code",
   "execution_count": null,
   "metadata": {
    "nbgrader": {
     "grade": false,
     "grade_id": "cell-3026cb0936ef2b33",
     "locked": true,
     "schema_version": 1,
     "solution": false
    }
   },
   "outputs": [],
   "source": [
    "function foo(a=[])\n",
    "    return push!(a,5)\n",
    "end\n",
    "println(foo())\n",
    "println(foo())"
   ]
  },
  {
   "cell_type": "code",
   "execution_count": null,
   "metadata": {
    "nbgrader": {
     "grade": false,
     "grade_id": "cell-bf40a4160677f589",
     "locked": true,
     "schema_version": 1,
     "solution": false
    }
   },
   "outputs": [],
   "source": [
    "function i_hate_foo(a=nothing)\n",
    "    if a == nothing\n",
    "        a = []\n",
    "    end\n",
    "    return push!(a, 5)\n",
    "end\n",
    "println(i_hate_foo())\n",
    "println(i_hate_foo())"
   ]
  },
  {
   "cell_type": "markdown",
   "metadata": {
    "nbgrader": {
     "grade": false,
     "grade_id": "cell-65973a5510970aab",
     "locked": true,
     "schema_version": 1,
     "solution": false
    }
   },
   "source": [
    "## Exercise\n",
    "\n",
    "Write a function ``sumthings`` that takes a variable number of arguments and returns the sum of their values.\n",
    "\n",
    "#### Challenge: Can you do this with a single Python statement within `sumthings`?"
   ]
  },
  {
   "cell_type": "code",
   "execution_count": null,
   "metadata": {},
   "outputs": [],
   "source": []
  },
  {
   "cell_type": "code",
   "execution_count": null,
   "metadata": {
    "internals": {
     "slide_helper": "subslide_end"
    },
    "nbgrader": {
     "grade": false,
     "grade_id": "cell-e7d16b80330ab587",
     "locked": false,
     "schema_version": 1,
     "solution": true
    },
    "slide_helper": "slide_end",
    "slideshow": {
     "slide_type": "-"
    }
   },
   "outputs": [],
   "source": [
    "function sumthings(x...)\n",
    "    ### BEGIN SOLUTION\n",
    "    return sum(x)\n",
    "end\n",
    "    ### END SOLUTION"
   ]
  },
  {
   "cell_type": "code",
   "execution_count": null,
   "metadata": {
    "nbgrader": {
     "grade": true,
     "grade_id": "cell-28f6eb94cc2d3bbc",
     "locked": true,
     "points": 0,
     "schema_version": 1,
     "solution": false
    }
   },
   "outputs": [],
   "source": [
    "@test sumthings(1,2,3)==6\n",
    "@test sumthings(1)==1\n",
    "@test_throws StackOverflowError sumthings();\n"
   ]
  },
  {
   "cell_type": "markdown",
   "metadata": {
    "nbgrader": {
     "grade": false,
     "grade_id": "cell-1c5ee197b9cb2f7e",
     "locked": true,
     "schema_version": 1,
     "solution": false
    }
   },
   "source": [
    "### Variable number of keyword arguments\n",
    "\n",
    "A function definition that looks like this\n",
    "\n",
    "```Julia\n",
    "\n",
    "function some_function(;kwargs...):\n",
    "    ### BLOCK OF CODE\n",
    "end\n",
    "```\n",
    "\n",
    "has a variable number of keyword arguments\n",
    "\n",
    "The variable number of positional arguments are passed to the function as a **list.**"
   ]
  },
  {
   "cell_type": "code",
   "execution_count": null,
   "metadata": {},
   "outputs": [],
   "source": [
    "function demo2(;kwargs...)\n",
    "    for k in kwargs\n",
    "        k,v = k\n",
    "        println(k,\" \", v)\n",
    "    end\n",
    "end\n",
    "demo2(print=\"No way\", age=29, favorite_number=8, luck=\"bad\")"
   ]
  },
  {
   "cell_type": "markdown",
   "metadata": {},
   "source": [
    "## Exercise\n",
    "\n",
    "Write a function `keep_numeric` that takes a variable number of keyword arguments and returns a dictionary consisting of the kwargs passed to `keep_numeric` where the value is an integer\n",
    "\n",
    "**Challenge**: Return a dictionary of kwargs where the value is any numeric value"
   ]
  },
  {
   "cell_type": "code",
   "execution_count": null,
   "metadata": {},
   "outputs": [],
   "source": [
    "isa(5.+0im,Number)"
   ]
  },
  {
   "cell_type": "code",
   "execution_count": null,
   "metadata": {},
   "outputs": [],
   "source": [
    "### BEGIN SOLUTION\n",
    "\n",
    "function keep_numeric(;kwargs...)\n",
    "    newd = Dict()\n",
    "    for k in kwargs\n",
    "        println(k)\n",
    "        if isa(k[2], Number)\n",
    "            newd[k[1]] = k[2]\n",
    "        end\n",
    "    end\n",
    "    return newd\n",
    "end"
   ]
  },
  {
   "cell_type": "code",
   "execution_count": null,
   "metadata": {},
   "outputs": [],
   "source": [
    "keep_numeric(name=\"Brian\", age=29, race=\"Caucasian\", weight=150)"
   ]
  },
  {
   "cell_type": "code",
   "execution_count": null,
   "metadata": {},
   "outputs": [],
   "source": [
    "Dict(i=>i for i in range(1,5) if i%2==0)"
   ]
  },
  {
   "cell_type": "code",
   "execution_count": null,
   "metadata": {
    "nbgrader": {
     "grade": false,
     "grade_id": "cell-02479618f82ab512",
     "locked": false,
     "schema_version": 1,
     "solution": true
    }
   },
   "outputs": [],
   "source": [
    "function keep_numeric(;kwargs...)\n",
    "    return Dict(k[1]=>k[2] for k in kwargs if isa(k[2],Number))\n",
    "end\n"
   ]
  },
  {
   "cell_type": "code",
   "execution_count": null,
   "metadata": {
    "nbgrader": {
     "grade": true,
     "grade_id": "cell-1539513e821c8af2",
     "locked": true,
     "points": 0,
     "schema_version": 1,
     "solution": false
    }
   },
   "outputs": [],
   "source": [
    "@test keep_numeric(name=\"Brian\", age=29, \n",
    "            race=\"Caucasian\", weight=150) ==\n",
    "    Dict(:age=> 29, :weight=>150)"
   ]
  },
  {
   "cell_type": "code",
   "execution_count": null,
   "metadata": {
    "nbgrader": {
     "grade": true,
     "grade_id": "cell-73691bdbd54bbd04",
     "locked": true,
     "points": 0,
     "schema_version": 1,
     "solution": false
    }
   },
   "outputs": [],
   "source": [
    "@test keep_numeric(name=\"Brian\", age=29.5, \n",
    "    race=\"Caucasian\", \n",
    "    weight=150.4) == \n",
    "Dict(:age=> 29.5, :weight => 150.4)"
   ]
  },
  {
   "cell_type": "code",
   "execution_count": null,
   "metadata": {
    "nbgrader": {
     "grade": true,
     "grade_id": "cell-eeb2dc429e508bc3",
     "locked": true,
     "points": 0,
     "schema_version": 1,
     "solution": false
    }
   },
   "outputs": [],
   "source": [
    "@test keep_numeric(name=\"Brian\", age=29.5, \n",
    "        race=\"Caucasian\", weight=150.4) ==\n",
    "    Dict(:age=> 29.5, :weight=> 150.4)"
   ]
  },
  {
   "cell_type": "code",
   "execution_count": null,
   "metadata": {},
   "outputs": [],
   "source": []
  }
 ],
 "metadata": {
  "celltoolbar": "Create Assignment",
  "kernelspec": {
   "display_name": "Julia 0.5.2",
   "language": "julia",
   "name": "julia-0.5"
  },
  "language_info": {
   "file_extension": ".jl",
   "mimetype": "application/julia",
   "name": "julia",
   "version": "0.5.2"
  }
 },
 "nbformat": 4,
 "nbformat_minor": 1
}

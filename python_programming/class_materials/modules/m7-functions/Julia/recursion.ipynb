{
 "cells": [
  {
   "cell_type": "markdown",
   "metadata": {},
   "source": [
    "## Solving the problem using recursion\n",
    "\n",
    "Recursive functions are functions that call themselves. This is usually done instead of a implementing a loop."
   ]
  },
  {
   "cell_type": "markdown",
   "metadata": {},
   "source": [
    "### [factorial](https://en.wikipedia.org/wiki/Factorial): A famous recursive function\n",
    "\n",
    "The factorial function (usually depicted as $n!$), is the product of all positive integers less than $n$. $0!$ is defined to be 1 ($0! := 1$).\n",
    "\n",
    "* The domain of the factorial function is?\n",
    "* The range of the factorial function is?\n"
   ]
  },
  {
   "cell_type": "code",
   "execution_count": null,
   "metadata": {},
   "outputs": [],
   "source": [
    "function factorial(n)\n",
    "    if n < 0\n",
    "        throw(DomainError(\"$n: n must be a non-negative integer\"))\n",
    "    end\n",
    "    if !isa(n,Int)\n",
    "        throw(ArgumentError(\"$n: n must be an intger\"))\n",
    "    end\n",
    "    if n < 2\n",
    "        return 1\n",
    "    else\n",
    "        return n*factorial(n-1)\n",
    "    end\n",
    "end"
   ]
  },
  {
   "cell_type": "code",
   "execution_count": null,
   "metadata": {},
   "outputs": [],
   "source": [
    "factorial(4)"
   ]
  },
  {
   "cell_type": "markdown",
   "metadata": {},
   "source": [
    "### [Fibonacci Numbers](https://en.wikipedia.org/wiki/Fibonacci_number): Famous recursive numbers"
   ]
  },
  {
   "cell_type": "code",
   "execution_count": null,
   "metadata": {},
   "outputs": [],
   "source": [
    "function fibonacci(n)\n",
    "    if n < 0\n",
    "        throw(DomainError(\"$n: n must be a non-negative integer\"))\n",
    "    end\n",
    "    if !isa(n,Int)\n",
    "        throw(ArgumentError(\"$n: n must be an intger\"))\n",
    "    end\n",
    "    if n <= 2\n",
    "        return 1\n",
    "    else\n",
    "        return fibonacci(n-1) + fibonacci(n-2)\n",
    "    end\n",
    "end"
   ]
  },
  {
   "cell_type": "code",
   "execution_count": null,
   "metadata": {},
   "outputs": [],
   "source": [
    "[fibonacci(n) for n in range(1, 10)]"
   ]
  },
  {
   "cell_type": "markdown",
   "metadata": {},
   "source": [
    "## Modify `get_pos_integer_take2` to get a a positive integer from the user using recursion"
   ]
  },
  {
   "cell_type": "code",
   "execution_count": null,
   "metadata": {
    "deletable": false,
    "nbgrader": {
     "checksum": "10a62a413587993175db1a62879adeba",
     "grade": false,
     "grade_id": "cell-c44acabc93ef7176",
     "locked": false,
     "schema_version": 1,
     "solution": true
    }
   },
   "outputs": [],
   "source": [
    "function input(;prompt=\"Enter\")\n",
    "    println(prompt)\n",
    "    return readline()\n",
    "end\n",
    "function get_pos_integer_take2(;prompt=\"Enter a positive integer\")\n",
    "    try\n",
    "        num = parse(Int64, input(prompt))\n",
    "        if num <0\n",
    "            return get_pos_integer_take2(prompt)\n",
    "        else\n",
    "            return num\n",
    "        end\n",
    "        catch _error\n",
    "        if isa(_error,ArgumentError) \n",
    "            return get_pos_integer_take2(prompt=prompt)\n",
    "        end\n",
    "    end\n",
    "end"
   ]
  },
  {
   "cell_type": "code",
   "execution_count": null,
   "metadata": {},
   "outputs": [],
   "source": [
    "parse(Int64, \"5.7\")"
   ]
  },
  {
   "cell_type": "code",
   "execution_count": null,
   "metadata": {},
   "outputs": [],
   "source": [
    "print(get_pos_integer_take2())"
   ]
  },
  {
   "cell_type": "code",
   "execution_count": null,
   "metadata": {
    "internals": {
     "slide_helper": "subslide_end"
    },
    "slide_helper": "slide_end",
    "slideshow": {
     "slide_type": "-"
    }
   },
   "outputs": [],
   "source": []
  }
 ],
 "metadata": {
  "celltoolbar": "Create Assignment",
  "kernelspec": {
   "display_name": "Julia 0.5.2",
   "language": "julia",
   "name": "julia-0.5"
  },
  "language_info": {
   "file_extension": ".jl",
   "mimetype": "application/julia",
   "name": "julia",
   "version": "0.5.2"
  }
 },
 "nbformat": 4,
 "nbformat_minor": 1
}

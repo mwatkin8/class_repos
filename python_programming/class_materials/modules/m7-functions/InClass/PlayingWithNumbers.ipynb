{
 "cells": [
  {
   "cell_type": "code",
   "execution_count": null,
   "metadata": {
    "deletable": false,
    "editable": false,
    "nbgrader": {
     "checksum": "eccbe4f504c86d541f57a30736f3f51d",
     "grade": false,
     "grade_id": "cell-1183ef46bfe6ae8d",
     "locked": true,
     "schema_version": 1,
     "solution": false
    }
   },
   "outputs": [],
   "source": [
    "%matplotlib inline"
   ]
  },
  {
   "cell_type": "code",
   "execution_count": null,
   "metadata": {
    "deletable": false,
    "editable": false,
    "nbgrader": {
     "checksum": "af99a155d117dedcf65daf6db4d04265",
     "grade": false,
     "grade_id": "cell-71a8bd8697d631bb",
     "locked": true,
     "schema_version": 1,
     "solution": false
    }
   },
   "outputs": [],
   "source": [
    "from nose.tools import assert_true, assert_equal, assert_false, assert_almost_equal, assert_raises\n",
    "import math\n",
    "import matplotlib.pyplot as pp\n",
    "import numpy as np"
   ]
  },
  {
   "cell_type": "markdown",
   "metadata": {
    "deletable": false,
    "editable": false,
    "nbgrader": {
     "checksum": "258f04e8e701d8288b41abc0230746d6",
     "grade": false,
     "grade_id": "cell-2111aad8c6670748",
     "locked": true,
     "schema_version": 1,
     "solution": false
    }
   },
   "source": [
    "# Playing with Primes"
   ]
  },
  {
   "cell_type": "markdown",
   "metadata": {
    "deletable": false,
    "editable": false,
    "nbgrader": {
     "checksum": "e6c9d5d9f460d28f124a9c5427674a38",
     "grade": false,
     "grade_id": "cell-0513b8c41dff8924",
     "locked": true,
     "schema_version": 1,
     "solution": false
    }
   },
   "source": [
    "## Encyrption is in the Center of Public Debate\n",
    "* [CNN, \"ISIS using encryption to evade FBI\"](http://www.cnn.com/2015/07/08/politics/fbi-comey-isis-encryption-recruitment/)\n",
    "* [Wired, \"Security Manual Reveals the OPSEC Advice ISIS Gives Recruits\"](http://www.wired.com/2015/11/isis-opsec-encryption-manuals-reveal-terrorist-group-security-protocols/)\n",
    "* [Fortune, \"Former National Security Officials Support Encryption\"](http://fortune.com/2015/12/16/national-security-encryption/)\n",
    "\n",
    "## Encryption Relies on Mathematics\n",
    "### Encryption Relies on Prime Numbers\n",
    "\n",
    "\n",
    ">[Public-key] was invented in 1976 by two Stanford\n",
    "mathematicians, Whitfield Diffie and Martin Hellman. Their discovery can be phrased simply:\n",
    "enciphering schemes should be asymmetric. For thousands of years all ciphers were symmetric –\n",
    "the key for encrypting a message was identical to the key for decrypting it, but used, so to speak,\n",
    "in reverse. To change “5 100 100 5 15 55” or “6 120 120 6 18 66” back into “attack,” for instance,\n",
    "one simply reverses the encryption by dividing the numbers with the key, instead of multiplying\n",
    "them, and then replaces the numbers with their equivalent letters. Thus sender and receiver must\n",
    "both have the key, and must both keep it secret. The symmetry, Diffie and Hellman realized, is the\n",
    "origin of the key-management problem. The solution is to have an encrypting key that is different\n",
    "from the decrypting key – one key to encipher a message, and another, different key to decipher\n",
    "it. With an asymmetric cipher, Alice could send encrypted messages to Bob without providing\n",
    "him with a secret key. In fact, Alice could send him a secret message even if she had never before\n",
    "communicated with him in any way.\n",
    "\n",
    ">“If this sounds ridiculous, it should,” Schneier wrote in Secrets and Lies (2001). “It sounds\n",
    "impossible. If you were to survey the world’s cryptographers in 1975, they would all have told you\n",
    "it was impossible.” One year later, Diffie and Hellman showed that it was possible, after all. (Later\n",
    "the British Secret Service revealed that it had invented these techniques before Diffie and Hellman,\n",
    "but kept them secret – and apparently did nothing with them.)\n",
    "\n",
    ">To be precise, Diffie and Hellman demonstrated only that public-key encryption was possible in\n",
    "theory. Another year passed before three MIT mathematicians – Ronald L. Rivest, Adi Shamir,\n",
    "and Leonard M. Adleman – figured out a way to do it in the real world. At the base of the RivestShamir-Adleman,\n",
    "or RSA, encryption scheme is the mathematical task of factoring. Factoring\n",
    "a number means identifying the prime numbers which, when multiplied together, produce that\n",
    "number. Thus 126,356 can be factored into $2 \\times 2 \\times 31 \\times 1,019$, where 2, 31, and 1,019 are all\n",
    "prime. (A given number has only one set of prime factors.) 1 Surprisingly, mathematicians\n",
    "regard factoring numbers – part of the elementary-school curriculum – as a fantastically difficult\n",
    "task. Despite the efforts of such luminaries as Fermat, Gauss, and Fibonacci, nobody has ever\n",
    "discovered a consistent, usable method for factoring large numbers. Instead, mathematicians try\n",
    "potential factors by invoking complex rules of thumb, looking for numbers that divide evenly. For\n",
    "big numbers the process is horribly time-consuming, even with fast computers. The largest number\n",
    "yet factored is 155 digits long. It took 292 computers, most of them fast workstations, more than\n",
    "seven months.\n",
    "\n",
    ">Note something odd. **It is easy to multiply primes together. But there is no easy way to take\n",
    "the product and reduce it back to its original primes.** In crypto jargon, this is a “trapdoor”: a\n",
    "function that lets you go one way easily, but not the other. Such one-way functions, of which\n",
    "this is perhaps the simplest example, are at the bottom of all public-key encryption. They make\n",
    "asymmetric ciphers possible.\n",
    "\n",
    ">To use RSA encryption, Alice first secretly chooses two prime numbers, p and q, each more than\n",
    "a hundred digits long. This is easier than it may sound: there are an infinite supply of prime\n",
    "numbers. Last year a Canadian college student found the biggest known prime: $2^{13466917} − 1$. It\n",
    "has 4,053,946 digits; typed without commas in standard 12-point type, the number would be more\n",
    "than ten miles long. Fortunately Alice doesn’t need one nearly that big. She runs a program that\n",
    "randomly selects two prime numbers for her and then she multiplies them by each other, producing\n",
    "pq, a still bigger number that is, naturally, not prime. This is Alice’s“public key.” (In fact, creating\n",
    "the key is more complicated than I suggest here, but not wildly so.)\n",
    "\n",
    ">As the name suggests, public keys are not secret; indeed, the Alices of this world often post\n",
    "them on the Internet or attach them to the bottom of their e-mail. When Bob wants to send Alice\n",
    "a secret message, he first converts the text of the message into a number. Perhaps, as before, he\n",
    "transforms “attack” into “5 100 100 5 15 55.” Then he obtains Alice’s public key – that is, the\n",
    "number pq – by looking it up on a Web site or copying it from her e-mail. (Note here that Bob does\n",
    "not use his own key to send Alice a message, as in regular encryption. Instead, he uses Alice’s key.)\n",
    "Having found Alice’s public key, he plugs it into a special algorithm invented by Rivest, Shamir,\n",
    "and Adleman to encrypt the message.\n",
    "\n",
    ">At this point the three mathematicians’ cleverness becomes evident. Bob knows the product pq,\n",
    "because Alice has displayed it on her Web site. But he almost certainly does not know p and q\n",
    "themselves, because they are its only factors, and factoring large numbers is effectively impossible.\n",
    "Yet the algorithm is constructed in such a way that to decipher the message the recipient must\n",
    "know both p and q individually. Because only Alice knows p and q, Bob can send secret messages to\n",
    "Alice without ever having to swap keys. Anyone else who wants to read the message will somehow\n",
    "have to factor pq back into the prime numbers p and q. ([\"The science of encryption: prime numbers and mod n arithmetic\"](https://math.berkeley.edu/~kpmann/encryption.pdf))"
   ]
  },
  {
   "cell_type": "markdown",
   "metadata": {
    "deletable": false,
    "editable": false,
    "nbgrader": {
     "checksum": "afd6e7b2528e4ca7c35fecd5addffc34",
     "grade": false,
     "grade_id": "cell-ade22723877cd40d",
     "locked": true,
     "schema_version": 1,
     "solution": false
    }
   },
   "source": [
    "## How Do We Find Primes?\n",
    "\n",
    "A really old way is known as the [Sieve of Eratosthenes](https://en.wikipedia.org/wiki/Sieve_of_Eratosthenes)\n",
    "\n",
    "The approach here is to create an array of numbers and cross out any number that is a multiple of a prime. As we loop through the array, any number that is not crossed out is a prime.\n",
    "\n",
    "1. Allocate an array of integers (`nums`) between 2 and N+1\n",
    "1. Start with i=0\n",
    "1. Look at the ith number in the array (`nums[i]`), if it is not crossed out it is a prime.\n",
    "    1. Add `nums[i]` to our list of primes\n",
    "    1. Cross out all the multiples of `nums[i]`\n",
    "    1. Increment i"
   ]
  },
  {
   "cell_type": "code",
   "execution_count": null,
   "metadata": {
    "deletable": false,
    "nbgrader": {
     "checksum": "c59c8c182bfe608eb65833327ed6d2b1",
     "grade": false,
     "grade_id": "cell-906b646f7da82489",
     "locked": false,
     "schema_version": 1,
     "solution": true
    }
   },
   "outputs": [],
   "source": [
    "def sievePrime(N):\n",
    "    # YOUR CODE HERE\n",
    "    raise NotImplementedError()"
   ]
  },
  {
   "cell_type": "code",
   "execution_count": null,
   "metadata": {},
   "outputs": [],
   "source": [
    "%timeit primes1 = sievePrime(10000)"
   ]
  },
  {
   "cell_type": "code",
   "execution_count": null,
   "metadata": {
    "deletable": false,
    "editable": false,
    "nbgrader": {
     "checksum": "647a14f480a93f5a7d01874091399b4d",
     "grade": true,
     "grade_id": "cell-87d7b7740776091c",
     "locked": true,
     "points": 0,
     "schema_version": 1,
     "solution": false
    }
   },
   "outputs": [],
   "source": [
    "assert_equal(sievePrime(10), [2, 3, 5, 7])\n",
    "assert_equal(sievePrime(20), [2, 3, 5, 7, 11, 13, 17, 19])"
   ]
  },
  {
   "cell_type": "markdown",
   "metadata": {},
   "source": [
    "## What are some limitations of this approach?\n",
    "1. We have to allocate a potentially large array (memory)\n",
    "1. We loop through the entire list of numbers\n",
    "\n",
    "### Given `N`, what is the largest number we would have to test division on to see if `N` is prime? "
   ]
  },
  {
   "cell_type": "markdown",
   "metadata": {},
   "source": [
    "### Let's write some alternative functions for finding primes\n",
    "\n",
    "## Exercise:\n",
    "\n",
    "modify `isprime2` to check whether a number is prime. Use `if` statements to test for the special cases ($n<2$, $n=2$, $n\\mod2=0$). Use a for loop and the range function ($\\text{range}(3,1+\\sqrt{n}, 2)$)? Why $3$? Why $2$?"
   ]
  },
  {
   "cell_type": "code",
   "execution_count": null,
   "metadata": {
    "deletable": false,
    "nbgrader": {
     "checksum": "bfd2f91303439f9dc5326ad6edbbaa22",
     "grade": false,
     "grade_id": "cell-839df251964424e3",
     "locked": false,
     "schema_version": 1,
     "solution": true
    }
   },
   "outputs": [],
   "source": [
    "def isprime2(n):\n",
    "    # YOUR CODE HERE\n",
    "    raise NotImplementedError()"
   ]
  },
  {
   "cell_type": "code",
   "execution_count": null,
   "metadata": {
    "deletable": false,
    "editable": false,
    "nbgrader": {
     "checksum": "e58c045365466c34686a1ce03f1f6089",
     "grade": true,
     "grade_id": "cell-d7f0ae1402b7514b",
     "locked": true,
     "points": 0,
     "schema_version": 1,
     "solution": false
    }
   },
   "outputs": [],
   "source": [
    "assert_true(isprime2(47))\n",
    "assert_false(isprime2(49))"
   ]
  },
  {
   "cell_type": "markdown",
   "metadata": {},
   "source": [
    "## Exercise\n",
    "\n",
    "Modify `isprime3` to check if a number `p` is Prime using list comprehension and the [`any`](https://docs.python.org/3/library/functions.html#any) function."
   ]
  },
  {
   "cell_type": "code",
   "execution_count": null,
   "metadata": {
    "deletable": false,
    "nbgrader": {
     "checksum": "0d0b89fc938f985b0eaade4c6e853b5a",
     "grade": false,
     "grade_id": "cell-701c0e3f0b610db8",
     "locked": false,
     "schema_version": 1,
     "solution": true
    }
   },
   "outputs": [],
   "source": [
    "def isprime3(p):\n",
    "    # YOUR CODE HERE\n",
    "    raise NotImplementedError()\n"
   ]
  },
  {
   "cell_type": "code",
   "execution_count": null,
   "metadata": {},
   "outputs": [],
   "source": [
    "assert_true(isprime3(47))\n",
    "a"
   ]
  },
  {
   "cell_type": "code",
   "execution_count": null,
   "metadata": {
    "deletable": false,
    "editable": false,
    "nbgrader": {
     "checksum": "c7a71ba6c73cb1ee809575d343d5cea9",
     "grade": false,
     "grade_id": "cell-cc40ca1b7692c5ba",
     "locked": true,
     "schema_version": 1,
     "solution": false
    }
   },
   "outputs": [],
   "source": [
    "primes = [n for n in range(1,100) if isprime2(n)]\n",
    "primes"
   ]
  },
  {
   "cell_type": "code",
   "execution_count": null,
   "metadata": {
    "deletable": false,
    "editable": false,
    "nbgrader": {
     "checksum": "561d974007ff763e9d33423a986bfa1d",
     "grade": false,
     "grade_id": "cell-ca0ded0809337038",
     "locked": true,
     "schema_version": 1,
     "solution": false
    }
   },
   "outputs": [],
   "source": [
    "%timeit primes = [n for n in range(1,1000) if isprime2(n)]"
   ]
  },
  {
   "cell_type": "code",
   "execution_count": null,
   "metadata": {
    "deletable": false,
    "editable": false,
    "nbgrader": {
     "checksum": "fdbdd9f98a49e330926f010d13eb9ce1",
     "grade": false,
     "grade_id": "cell-aef984e69c228ebd",
     "locked": true,
     "schema_version": 1,
     "solution": false
    }
   },
   "outputs": [],
   "source": [
    "%timeit primes = [n for n in range(1,1000) if isprime3(n)]"
   ]
  },
  {
   "cell_type": "markdown",
   "metadata": {
    "deletable": false,
    "editable": false,
    "nbgrader": {
     "checksum": "14e32295be1e3acb85de5b68a3a0a319",
     "grade": false,
     "grade_id": "cell-79a09f326e5a2c84",
     "locked": true,
     "schema_version": 1,
     "solution": false
    }
   },
   "source": [
    "## [Gilbreath's Conjecture](https://en.wikipedia.org/wiki/Gilbreath%27s_conjecture)\n",
    "\n",
    ">Gilbreath's conjecture is a conjecture in number theory regarding the sequences generated by applying the forward difference operator to consecutive prime numbers and leaving the results unsigned, and then repeating this process on consecutive terms in the resulting sequence, and so forth. The statement is named after mathematician Norman L. Gilbreath who, in 1958, presented it to the mathematical community after observing the pattern by chance while doing arithmetic on a napkin. In 1878, eighty years before Gilbreath's discovery, François Proth had, however, published the same observations along with an attempted proof, which was later shown to be false."
   ]
  },
  {
   "cell_type": "markdown",
   "metadata": {
    "deletable": false,
    "editable": false,
    "nbgrader": {
     "checksum": "249d7a0f67d92c07ed2eb5a3666a258f",
     "grade": false,
     "grade_id": "cell-9d0e778eff9b39a5",
     "locked": true,
     "schema_version": 1,
     "solution": false
    }
   },
   "source": [
    "#### Write a function ``seq_diff`` that computes the absolute value of the forward difference of a sequence of primes\n",
    "\n",
    "**Hints:**\n",
    "1. The `math` library defines an `fabs` which returns a floating point value for the absolute value.\n",
    "1. Use the `range` function.\n",
    "    1. What do you want for the starting value for `range`?\n",
    "    1. What do you want for the ending value for `range`?\n",
    "1. How will the length of the output differ from the length of the input?"
   ]
  },
  {
   "cell_type": "code",
   "execution_count": null,
   "metadata": {
    "deletable": false,
    "nbgrader": {
     "checksum": "1be1d2406f74c996f25ee9ec630e7f10",
     "grade": false,
     "grade_id": "cell-db3bfe56e4780385",
     "locked": false,
     "schema_version": 1,
     "solution": true
    }
   },
   "outputs": [],
   "source": [
    "def seq_diff(seq):\n",
    "    # YOUR CODE HERE\n",
    "    raise NotImplementedError()"
   ]
  },
  {
   "cell_type": "markdown",
   "metadata": {
    "deletable": false,
    "editable": false,
    "nbgrader": {
     "checksum": "124b158ebdbb28e5d0f27206695783fe",
     "grade": false,
     "grade_id": "cell-b03292ab6d236c25",
     "locked": true,
     "schema_version": 1,
     "solution": false
    }
   },
   "source": [
    "#### Test the output"
   ]
  },
  {
   "cell_type": "code",
   "execution_count": null,
   "metadata": {
    "deletable": false,
    "editable": false,
    "nbgrader": {
     "checksum": "530a89558331ebc541f620a99a9e5886",
     "grade": true,
     "grade_id": "cell-686cd642a626638c",
     "locked": true,
     "points": 0,
     "schema_version": 1,
     "solution": false
    }
   },
   "outputs": [],
   "source": [
    "seq = [2, 3, 5, 7, 11, 13, 17, 19, 23, 29, 31, 37, 41, 43, 47]\n",
    "assert_equal(seq_diff(seq), [1, 2, 2, 4, 2, 4, 2, 4, 6, 2, 6, 4, 2, 4])\n",
    "assert_equal(seq_diff(seq_diff(seq)), [1, 0, 2, 2, 2, 2, 2, 2, 4, 4, 2, 2, 2])"
   ]
  },
  {
   "cell_type": "code",
   "execution_count": null,
   "metadata": {},
   "outputs": [],
   "source": [
    "seq = [n for n in range(1,50) if isprime2(n)]\n",
    "print(seq)\n",
    "while True:\n",
    "    if not seq:\n",
    "        break   \n",
    "    seq = seq_diff(seq)\n",
    "    print(seq)"
   ]
  },
  {
   "cell_type": "markdown",
   "metadata": {},
   "source": [
    "## Playing with Large Measured Data: [Benford's Law](https://en.wikipedia.org/wiki/Benford%27s_law)"
   ]
  },
  {
   "cell_type": "code",
   "execution_count": null,
   "metadata": {},
   "outputs": [],
   "source": [
    "import pandas as pd\n",
    "import seaborn as sns"
   ]
  },
  {
   "cell_type": "markdown",
   "metadata": {},
   "source": [
    "### We are going to use census data"
   ]
  },
  {
   "cell_type": "code",
   "execution_count": null,
   "metadata": {},
   "outputs": [],
   "source": [
    "pd.read_csv(\"PEP_2016_PEPANNRSIP.US12A_with_ann.csv\", skiprows=1)"
   ]
  },
  {
   "cell_type": "code",
   "execution_count": null,
   "metadata": {
    "deletable": false,
    "editable": false,
    "nbgrader": {
     "checksum": "74384156722745b52174cff11f9568f7",
     "grade": false,
     "grade_id": "cell-0d02257f2238db8c",
     "locked": true,
     "schema_version": 1,
     "solution": false
    }
   },
   "outputs": [],
   "source": [
    "city_populations = list(pd.read_csv(\"PEP_2016_PEPANNRSIP.US12A_with_ann.csv\", skiprows=1)[\"Population Estimate (as of July 1) - 2016\"])"
   ]
  },
  {
   "cell_type": "markdown",
   "metadata": {
    "deletable": false,
    "editable": false,
    "nbgrader": {
     "checksum": "d004144db902d92b13328d5cf1162f3c",
     "grade": false,
     "grade_id": "cell-07c5bbe1f9ad4691",
     "locked": true,
     "schema_version": 1,
     "solution": false
    }
   },
   "source": [
    "## `city_populations` is a list of integers that are the populations of USA cities"
   ]
  },
  {
   "cell_type": "markdown",
   "metadata": {},
   "source": [
    "### Create a list of all the populations greater than or equal to 100000 where the integers are converted to strings"
   ]
  },
  {
   "cell_type": "code",
   "execution_count": null,
   "metadata": {
    "deletable": false,
    "nbgrader": {
     "checksum": "ef8d6f5de1daa60a2cd8be4d35fe2378",
     "grade": false,
     "grade_id": "cell-0324eead7bbbaddc",
     "locked": false,
     "schema_version": 1,
     "solution": true
    }
   },
   "outputs": [],
   "source": [
    "# YOUR CODE HERE\n",
    "raise NotImplementedError()"
   ]
  },
  {
   "cell_type": "markdown",
   "metadata": {
    "deletable": false,
    "editable": false,
    "nbgrader": {
     "checksum": "9094cd345ed80d17398a43c3a60c7622",
     "grade": false,
     "grade_id": "cell-900d1a820e031e2a",
     "locked": true,
     "schema_version": 1,
     "solution": false
    }
   },
   "source": [
    "### Create a list named `city_populations_first_digits` consisting of the first digit in each number converted to an int"
   ]
  },
  {
   "cell_type": "code",
   "execution_count": null,
   "metadata": {
    "deletable": false,
    "nbgrader": {
     "checksum": "3822ce518ecce9ffd4fe96fbc41ba082",
     "grade": false,
     "grade_id": "cell-007a102e12198872",
     "locked": false,
     "schema_version": 1,
     "solution": true
    }
   },
   "outputs": [],
   "source": [
    "# YOUR CODE HERE\n",
    "raise NotImplementedError()"
   ]
  },
  {
   "cell_type": "markdown",
   "metadata": {},
   "source": [
    "### What does the distribution of first digits look like?\n",
    "\n",
    "#### It should look like this\n",
    "![digit distribution](./population_digits.png)"
   ]
  },
  {
   "cell_type": "code",
   "execution_count": null,
   "metadata": {
    "deletable": false,
    "editable": false,
    "nbgrader": {
     "checksum": "d37623d2f2ce028bb89f89ac11334a2d",
     "grade": false,
     "grade_id": "cell-a3c7b5cfb8cdee04",
     "locked": true,
     "schema_version": 1,
     "solution": false
    }
   },
   "outputs": [],
   "source": [
    "sns.distplot(city_populations_first_digits, kde=False)\n",
    "pp.savefig(\"population_digits.png\")"
   ]
  },
  {
   "cell_type": "markdown",
   "metadata": {},
   "source": [
    "## How does this differ from randomly generated numbers?\n",
    "\n",
    "### We have to duplicate all our prior code...\n",
    "### ...Unless we put all the functionality in functions.\n",
    "\n",
    "The resulting distribution should look something this:\n",
    "\n",
    "![random digits](./random_digits.png)"
   ]
  },
  {
   "cell_type": "code",
   "execution_count": null,
   "metadata": {
    "deletable": false,
    "editable": false,
    "nbgrader": {
     "checksum": "5fb907d8dbf77baf0562b9c56a314e6b",
     "grade": false,
     "grade_id": "cell-b90c49f4f13506ec",
     "locked": true,
     "schema_version": 1,
     "solution": false
    }
   },
   "outputs": [],
   "source": [
    "random_numbers = np.random.random_integers(99999, 10000000, len(city_populations_strings))"
   ]
  },
  {
   "cell_type": "code",
   "execution_count": null,
   "metadata": {},
   "outputs": [],
   "source": [
    "sns.distplot(random_numbers_first_digits, kde=False)\n"
   ]
  },
  {
   "cell_type": "code",
   "execution_count": null,
   "metadata": {},
   "outputs": [],
   "source": []
  }
 ],
 "metadata": {
  "anaconda-cloud": {},
  "kernelspec": {
   "display_name": "Python 3",
   "language": "python",
   "name": "python3"
  },
  "language_info": {
   "codemirror_mode": {
    "name": "ipython",
    "version": 3
   },
   "file_extension": ".py",
   "mimetype": "text/x-python",
   "name": "python",
   "nbconvert_exporter": "python",
   "pygments_lexer": "ipython3",
   "version": "3.5.2"
  }
 },
 "nbformat": 4,
 "nbformat_minor": 1
}

{
 "cells": [
  {
   "cell_type": "markdown",
   "metadata": {
    "deletable": false,
    "editable": false,
    "nbgrader": {
     "checksum": "c8adf08ad9afe555e9de984118fd6c3f",
     "grade": false,
     "grade_id": "cell-1ed83f09f87264a0",
     "locked": true,
     "schema_version": 1,
     "solution": false
    }
   },
   "source": [
    "# Practicing Functions"
   ]
  },
  {
   "cell_type": "code",
   "execution_count": null,
   "metadata": {
    "deletable": false,
    "editable": false,
    "nbgrader": {
     "checksum": "bdeba8d495a059fbb01f915656bdcfd9",
     "grade": false,
     "grade_id": "cell-89172d5229cd060a",
     "locked": true,
     "schema_version": 1,
     "solution": false
    }
   },
   "outputs": [],
   "source": [
    "from nose.tools import assert_true, assert_equal, assert_false, assert_almost_equal, assert_raises"
   ]
  },
  {
   "cell_type": "markdown",
   "metadata": {
    "deletable": false,
    "editable": false,
    "nbgrader": {
     "checksum": "fe194dd0992204569e822c07026117a1",
     "grade": false,
     "grade_id": "cell-b5c3a96e77bebdf2",
     "locked": true,
     "schema_version": 1,
     "solution": false
    }
   },
   "source": [
    "## Functions to Modify Lists\n",
    "\n",
    "We stated before that if a function modifies an argument we should always return a `None` value. We can see this in the behavior of the list `reverse` method. `reverse` modifies a list in place, so it should return `None`."
   ]
  },
  {
   "cell_type": "code",
   "execution_count": null,
   "metadata": {},
   "outputs": [],
   "source": [
    "a = [1,3,2]\n",
    "print(a.reverse())\n",
    "print(a)"
   ]
  },
  {
   "cell_type": "markdown",
   "metadata": {
    "deletable": false,
    "editable": false,
    "nbgrader": {
     "checksum": "4e20176c3e075bcf72107418fca5fb0b",
     "grade": false,
     "grade_id": "cell-6a5005fe57c19b1d",
     "locked": true,
     "schema_version": 1,
     "solution": false
    }
   },
   "source": [
    "## Compare this to the string `upper` method"
   ]
  },
  {
   "cell_type": "code",
   "execution_count": null,
   "metadata": {},
   "outputs": [],
   "source": [
    "a = \"Tolkien wrote mythology for a modern world.\"\n",
    "print(a.upper())\n",
    "print(a)"
   ]
  },
  {
   "cell_type": "markdown",
   "metadata": {
    "deletable": false,
    "editable": false,
    "nbgrader": {
     "checksum": "87726504157fc21dcf4a18cbfa1c6d07",
     "grade": false,
     "grade_id": "cell-d9c476054988d3c1",
     "locked": true,
     "schema_version": 1,
     "solution": false
    }
   },
   "source": [
    "## The method returns a new string, because `a` is not modified"
   ]
  },
  {
   "cell_type": "markdown",
   "metadata": {
    "deletable": false,
    "editable": false,
    "nbgrader": {
     "checksum": "e90da069e816e7f40ed5c1f26cbc3d85",
     "grade": false,
     "grade_id": "cell-508d26509e1cb74a",
     "locked": true,
     "schema_version": 1,
     "solution": false
    }
   },
   "source": [
    "## Exercise\n",
    "\n",
    "Write a function `pop` that takes as a positional argument a list (`mylist`) and as a keyword argument index (`index=-1`) and returns two values:\n",
    "\n",
    "1. The value located at `mylist[index]`\n",
    "1. A list equal to `mylist` with the value at `index` removed.\n",
    "1. `mylist` remains **unmodified**\n",
    "\n",
    "That is, we are implementing a function that recreates the `pop` method of a list but do not modify `mylist`\n",
    "\n",
    "**Hint:** You could use slicing or you could make a copy of `mylist` inside `pop` (either with slicing or with the [copy](https://docs.python.org/3/library/copy.html) module."
   ]
  },
  {
   "cell_type": "code",
   "execution_count": null,
   "metadata": {
    "deletable": false,
    "nbgrader": {
     "checksum": "a389cec361d0757e0be23da9fd59b0d0",
     "grade": false,
     "grade_id": "cell-c2718d63cb4d7f12",
     "locked": false,
     "schema_version": 1,
     "solution": true
    }
   },
   "outputs": [],
   "source": [
    "# YOUR CODE HERE\n",
    "raise NotImplementedError()"
   ]
  },
  {
   "cell_type": "code",
   "execution_count": null,
   "metadata": {
    "deletable": false,
    "editable": false,
    "nbgrader": {
     "checksum": "b3938d72bf76a9930a31169a524efa6d",
     "grade": true,
     "grade_id": "cell-d628d4056e1d600a",
     "locked": true,
     "points": 0,
     "schema_version": 1,
     "solution": false
    }
   },
   "outputs": [],
   "source": [
    "test_list = [1,2,3,4,5]\n",
    "assert_equal(pop(test_list), (5,[1,2,3,4]))\n",
    "assert_equal(pop(test_list, index=2), (3,[1, 2, 4, 5]))\n",
    "assert_equal(pop(test_list, index=0), (1,[ 2, 3, 4, 5]))\n",
    "assert_equal(pop(test_list, index=-2), (4,[1, 2, 3, 5]))\n",
    "\n",
    "assert_equal(test_list, [1,2,3,4,5])\n"
   ]
  },
  {
   "cell_type": "markdown",
   "metadata": {
    "deletable": false,
    "editable": false,
    "nbgrader": {
     "checksum": "989e0a9199b6d33158a46cd7483950b3",
     "grade": false,
     "grade_id": "cell-7a30e04e19276b26",
     "locked": true,
     "schema_version": 1,
     "solution": false
    }
   },
   "source": [
    "## Exercise\n",
    "\n",
    "Write a function that takes as an argument a string nad returns a string with each word capitalized."
   ]
  },
  {
   "cell_type": "code",
   "execution_count": null,
   "metadata": {
    "deletable": false,
    "nbgrader": {
     "checksum": "93f27428f2f4a110d3836ca5e3855ce5",
     "grade": false,
     "grade_id": "cell-d45658ce06fb53c7",
     "locked": false,
     "schema_version": 1,
     "solution": true
    }
   },
   "outputs": [],
   "source": [
    "def capitalize(mystring):\n",
    "    # YOUR CODE HERE\n",
    "    raise NotImplementedError()"
   ]
  },
  {
   "cell_type": "code",
   "execution_count": null,
   "metadata": {
    "deletable": false,
    "editable": false,
    "nbgrader": {
     "checksum": "e3716eb989ffe52f39dee745e8053ca2",
     "grade": true,
     "grade_id": "cell-3fccb61666b1dc43",
     "locked": true,
     "points": 0,
     "schema_version": 1,
     "solution": false
    }
   },
   "outputs": [],
   "source": [
    "assert_equal(capitalize(\"brian earl chapman\"), 'Brian Earl Chapman')"
   ]
  },
  {
   "cell_type": "code",
   "execution_count": null,
   "metadata": {},
   "outputs": [],
   "source": []
  }
 ],
 "metadata": {
  "kernelspec": {
   "display_name": "Python 3",
   "language": "python",
   "name": "python3"
  },
  "language_info": {
   "codemirror_mode": {
    "name": "ipython",
    "version": 3
   },
   "file_extension": ".py",
   "mimetype": "text/x-python",
   "name": "python",
   "nbconvert_exporter": "python",
   "pygments_lexer": "ipython3",
   "version": "3.5.2"
  }
 },
 "nbformat": 4,
 "nbformat_minor": 2
}

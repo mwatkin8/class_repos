{
 "cells": [
  {
   "cell_type": "code",
   "execution_count": null,
   "metadata": {},
   "outputs": [],
   "source": [
    "from IPython.display import YouTubeVideo\n",
    "\n",
    "YouTubeVideo(\"UJra1P9GcY0\")"
   ]
  },
  {
   "cell_type": "markdown",
   "metadata": {
    "internals": {
     "slide_helper": "subslide_end",
     "slide_type": "subslide"
    },
    "slide_helper": "slide_end",
    "slideshow": {
     "slide_type": "slide"
    }
   },
   "source": [
    "# Abstraction and Functions\n",
    "## Outline\n",
    "\n",
    "* Functions\n",
    "* Function Parameters \n",
    "* Keywords\n",
    "* Variable Arguments\t\t\n",
    "* Lambda, etc."
   ]
  },
  {
   "cell_type": "markdown",
   "metadata": {
    "internals": {
     "slide_helper": "subslide_end",
     "slide_type": "subslide"
    },
    "slide_helper": "subslide_end",
    "slideshow": {
     "slide_type": "slide"
    }
   },
   "source": [
    "# Functions\n",
    "* We haven't defined functions, but we've used them\n",
    "* **len()**: returns the length of a sequence\n",
    "* **type()**: returns what type of object the variable refers to\n",
    "* **input()**: returns a string typed in by a user\n",
    "* **math.sqrt()**: return the square root of a real number\n",
    "* **print()**: print a string to the screen"
   ]
  },
  {
   "cell_type": "markdown",
   "metadata": {
    "internals": {
     "slide_helper": "subslide_end",
     "slide_type": "subslide"
    },
    "slide_helper": "subslide_end",
    "slideshow": {
     "slide_type": "subslide"
    }
   },
   "source": [
    "# What is a Function?\n",
    "* \"any of a group of related actions contributing to a larger action; especially : the normal and specific contribution of a bodily part to the economy of a living organism\" (M-W)\n",
    "* \"a computer subroutine; specifically : one that performs a calculation with variables provided by a program and supplies the program with a single result\""
   ]
  },
  {
   "cell_type": "markdown",
   "metadata": {
    "internals": {
     "slide_helper": "subslide_end",
     "slide_type": "subslide"
    },
    "slide_helper": "subslide_end",
    "slideshow": {
     "slide_type": "subslide"
    }
   },
   "source": [
    "## Why Use Functions?\n",
    "### Two primary reasons for defining functions:\n",
    "1. Code reuse: \n",
    "    * Write (debug) once. Use many times\n",
    "    * Upkeep/Modifcations simpler \n",
    "\n",
    "2. Procedural Decomposition:\n",
    "    * A function should do one thing, not multiple things.\n",
    "    * Mark Thomason: Entire function should be visible on your screen within your editor.\n",
    "        * And if it doesn't, get a larger screen (also Mark)"
   ]
  },
  {
   "cell_type": "markdown",
   "metadata": {
    "internals": {
     "slide_helper": "subslide_end",
     "slide_type": "subslide"
    },
    "slide_helper": "slide_end",
    "slideshow": {
     "slide_type": "subslide"
    }
   },
   "source": [
    "# Defining Functions in Python\n",
    "\n",
    "* Functions are an example of a *compound* Python statement\n",
    "    * Just like the **if** statements \n",
    "* A Python function is defined as follows:\n",
    "~~~~~~~~~~~~~~~~Python\n",
    "def <functionName>(arg1, arg2, ...,argN):\n",
    "   \"\"\"A doc string\"\"\"\n",
    "    <statements>\n",
    "~~~~~~~~~~~~~~~~\n",
    "\n"
   ]
  },
  {
   "cell_type": "markdown",
   "metadata": {
    "internals": {
     "slide_helper": "subslide_end",
     "slide_type": "subslide"
    },
    "slide_helper": "subslide_end",
    "slideshow": {
     "slide_type": "slide"
    }
   },
   "source": [
    "# Anatomy of a Function\n",
    "```Python \n",
    "def\n",
    "```  \n",
    "marks the beginning of the function **definition**\n",
    "\n",
    "```Python\n",
    "functionName\n",
    "```\n",
    "is the name you are going to give to your function. For example:\n",
    "    * `helloWorld` (`hello_world`, preferred Python style)\n",
    "    * `input`\n",
    "    * `sqrt`\n",
    "```Python\n",
    "(arg1, arg2``, ..., argN)\n",
    "```\n",
    "Are the **arguments** of the function: They are what go into the function. (You always need the `()`.)\n",
    "\n",
    "* Python functions can have zero or more arguments\n",
    "\n",
    "#### Example\n",
    "    \n",
    "* $\\cos(\\frac{\\pi}{4})$: For the function $\\cos()$ the argument is $\\frac{\\pi}{4}$\n",
    "    "
   ]
  },
  {
   "cell_type": "markdown",
   "metadata": {
    "internals": {
     "slide_helper": "subslide_end",
     "slide_type": "subslide"
    },
    "slide_helper": "subslide_end",
    "slideshow": {
     "slide_type": "subslide"
    }
   },
   "source": [
    "## Function Names \n",
    "* Function naming is flexible \n",
    "* But must follow Python's rules for variable names\n",
    "    * Must start with a letter or \"_\". \n",
    "* Use names that describe what the function does\n",
    "* Lots of naming styles around\n",
    "    * camelCase: I use this a lot but it is discouraged for functions in Python\n",
    "    * lower_case_underlines: This is the *preferred* style for Python functions\n",
    "\n",
    "> Function names should be lowercase, with words separated by underscores as necessary to improve readability.\n",
    ">\n",
    "> mixedCase is allowed only in contexts where that's already the prevailing style (e.g. threading.py), to retain backwards compatibility. [Python Style Guide](http://www.python.org/dev/peps/pep-0008/)"
   ]
  },
  {
   "cell_type": "markdown",
   "metadata": {
    "internals": {
     "slide_type": "subslide"
    },
    "slideshow": {
     "slide_type": "subslide"
    }
   },
   "source": [
    "## Parentheses\n",
    "* All function definitions include parentheses. \n",
    "    * The parentheses contain the *arguments* (what goes into) the function\n",
    "    * **Note:** A function does *NOT* have to take any arguments \n",
    "        * but it does have to have the parentheses\n",
    "        \n",
    "## :\n",
    "\n",
    "* The colon marks the beginning of the *code block* constituting the function"
   ]
  },
  {
   "cell_type": "markdown",
   "metadata": {
    "internals": {
     "slide_helper": "subslide_end"
    },
    "slide_helper": "subslide_end",
    "slideshow": {
     "slide_type": "-"
    }
   },
   "source": [
    "## Function Arguments\n",
    "* Arguments can be passed to a function in a variety of ways\n",
    "    * *positional* \n",
    "    \n",
    "```Python\n",
    "def func(arg1,arg2):\n",
    "```\n",
    "   * These arguments must be provided and provided in the order specified in the function definition\n",
    "        \n",
    "    * *keyword* \n",
    "```Python\n",
    "def func2(myname='Brian',yourname='Wendy')\n",
    "```\n",
    "\n",
    "   * Provides default values\n",
    "        * If I don't provide this keyword argument, the default value is provided\n",
    "\t\t* You can also provide variable length positional arguments\n",
    "            * Passed to the function as a tuple of arguments\n",
    "\t\t* You can also provide variable length keyword arguments\n",
    "            * Passed to the funciton as a dictionary of arguments"
   ]
  },
  {
   "cell_type": "markdown",
   "metadata": {
    "internals": {
     "slide_helper": "subslide_end",
     "slide_type": "subslide"
    },
    "slide_helper": "subslide_end",
    "slideshow": {
     "slide_type": "subslide"
    }
   },
   "source": [
    "### Positional Arguments\n",
    "[Online Python documentation](http://docs.python.org/2.7/tutorial/controlflow.html#arbitrary-argument-lists)\n",
    "\n",
    "* Positional arguments look like this:\n",
    "```Python\n",
    "def myfunction(first_number, second_number, favorite_letter):\n",
    "```\n",
    "    * The **order** of these arguments is defined and important\n",
    "    * These define the names of variables that are being passed to the function"
   ]
  },
  {
   "cell_type": "markdown",
   "metadata": {
    "internals": {
     "slide_helper": "subslide_end",
     "slide_type": "subslide"
    },
    "slide_helper": "subslide_end",
    "slideshow": {
     "slide_type": "subslide"
    }
   },
   "source": [
    "### Keyword Arguments\n",
    "[Online Python Documentation](http://docs.python.org/2.7/tutorial/controlflow.html#keyword-arguments)\n",
    "\n",
    "* Keyword arguments look like this:\n",
    "```Python\n",
    "def myfunction2(myage=29,skis=\"Rossignol\"):\n",
    "```\n",
    "    * The **order** of these keyword arguments **DOES NOT** matter\n",
    "    * 29 and \"Rossignol\" are the **DEFAULT** values for these variables.\n",
    "        * If I do not explicitly provide `myage` when I call `myfunction2` the value of `29` will be used."
   ]
  },
  {
   "cell_type": "code",
   "execution_count": null,
   "metadata": {
    "internals": {
     "slide_helper": "subslide_end",
     "slide_type": "subslide"
    },
    "slide_helper": "subslide_end",
    "slideshow": {
     "slide_type": "subslide"
    }
   },
   "outputs": [],
   "source": [
    "def myfunction2(myage=29, skis=\"Rossignol\"):\n",
    "    print \"My age is\",myage\n",
    "    print \"And I ski on\",skis\n",
    "myfunction2()\n",
    "myfunction2(myage=46)\n",
    "myfunction2(myage=18,skis=\"Dynastar\")\n",
    "myfunction2(skis=\"Head\",myage=25)"
   ]
  },
  {
   "cell_type": "markdown",
   "metadata": {
    "internals": {
     "slide_helper": "subslide_end",
     "slide_type": "subslide"
    },
    "slide_helper": "subslide_end",
    "slideshow": {
     "slide_type": "subslide"
    }
   },
   "source": [
    "### Modifying Function Arguments\n",
    "\n",
    "* Immutable parameters cannot be modified in a function\n",
    "    * Passes the value of the argument\n",
    "* Mutable parameters can be modified. (Sometimes convenient to do so.)\n",
    "\n",
    "#### In general, Pythonic programming style does not modify parameters\n",
    "* This becomes important in **functional programming**"
   ]
  },
  {
   "cell_type": "markdown",
   "metadata": {
    "internals": {
     "slide_helper": "subslide_end",
     "slide_type": "subslide"
    },
    "slide_helper": "subslide_end",
    "slideshow": {
     "slide_type": "subslide"
    }
   },
   "source": [
    "## Doc string\n",
    "* A **doc string** is a string of text describing the function immediately following the function declaration\n",
    "* When you use the **help()** function or (**?** in IPython) on a function, you are returning the doc string.\n",
    "* A doc string is not required but is desirable\n",
    "* Opportunity to define what arguments mean, types, etc.\n",
    "* Explain what the function returns"
   ]
  },
  {
   "cell_type": "code",
   "execution_count": null,
   "metadata": {
    "internals": {
     "slide_helper": "subslide_end",
     "slide_type": "subslide"
    },
    "slide_helper": "subslide_end",
    "slideshow": {
     "slide_type": "subslide"
    }
   },
   "outputs": [],
   "source": [
    "def doc_string_demo(): # this program doesn't take any arguments\n",
    "    \"\"\"This is the doc string for the function doc_string_demo.\n",
    "    \n",
    "    doc_string_demo doesn't take any arguments, doesn't do anything interesting,\n",
    "    and only returns None\"\"\"\n",
    "    return\n",
    "help(doc_string_demo)"
   ]
  },
  {
   "cell_type": "markdown",
   "metadata": {
    "internals": {
     "slide_helper": "subslide_end",
     "slide_type": "subslide"
    },
    "slide_helper": "subslide_end",
    "slideshow": {
     "slide_type": "subslide"
    }
   },
   "source": [
    "## Program statements: \n",
    "* The code block of Python statements\n",
    "    * Function definition ends when the indentation of Python statements return to the level of the line with the **def**.\n",
    "    * You do have to have an indented block\n",
    "        * Use `pass` or `return None` if you want your function to do nothing\n"
   ]
  },
  {
   "cell_type": "code",
   "execution_count": null,
   "metadata": {
    "internals": {
     "slide_helper": "subslide_end",
     "slide_type": "subslide"
    },
    "slide_helper": "subslide_end",
    "slideshow": {
     "slide_type": "subslide"
    }
   },
   "outputs": [],
   "source": [
    "def function1(aNumber):\n",
    "    \"\"\"This function takes a number (aNumber) and returns a 1\"\"\"\n",
    "    b = aNumber # defining a local variable that I'm not using\n",
    "    return 1\n",
    "    print (\"Even though the function will never get here, this is still part of the function\")\n",
    "    \n",
    "# This marks the end of the function because the indentation has \n",
    "# returned to the level of the def\n",
    "print( 5)\n",
    "print( function1(4))\n",
    "\n",
    "def string_reverse_and_capitalize(aString):\n",
    "    \"\"\"This function reverses the passed string aString and returns it in uppercase\"\"\"\n",
    "    tempString = aString.upper()\n",
    "    tempString2 = tempString[::-1]\n",
    "    return tempString2\n",
    "string_reverse_and_capitalize(\"Brian Chapman\")"
   ]
  },
  {
   "cell_type": "code",
   "execution_count": null,
   "metadata": {
    "internals": {
     "slide_helper": "subslide_end",
     "slide_type": "subslide"
    },
    "slide_helper": "subslide_end",
    "slideshow": {
     "slide_type": "subslide"
    }
   },
   "outputs": [],
   "source": [
    "def function3(a):\n",
    "    a = a*3\n",
    "    return a\n",
    "    \n",
    "b = 5\n",
    "c = function3(b)\n",
    "print (c)\n",
    "print (b)"
   ]
  },
  {
   "cell_type": "code",
   "execution_count": null,
   "metadata": {
    "internals": {
     "slide_helper": "subslide_end"
    },
    "slide_helper": "slide_end",
    "slideshow": {
     "slide_type": "-"
    }
   },
   "outputs": [],
   "source": []
  }
 ],
 "metadata": {
  "kernelspec": {
   "display_name": "Python 3",
   "language": "python",
   "name": "python3"
  },
  "language_info": {
   "codemirror_mode": {
    "name": "ipython",
    "version": 3
   },
   "file_extension": ".py",
   "mimetype": "text/x-python",
   "name": "python",
   "nbconvert_exporter": "python",
   "pygments_lexer": "ipython3",
   "version": "3.5.2"
  }
 },
 "nbformat": 4,
 "nbformat_minor": 1
}

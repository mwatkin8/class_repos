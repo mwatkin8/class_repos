{
 "cells": [
  {
   "cell_type": "code",
   "execution_count": null,
   "metadata": {},
   "outputs": [],
   "source": [
    "from IPython.display import YouTubeVideo\n",
    "YouTubeVideo(\"O512FHlgwOY\", width=400, height=300)"
   ]
  },
  {
   "cell_type": "markdown",
   "metadata": {
    "internals": {
     "slide_helper": "subslide_end",
     "slide_type": "subslide"
    },
    "slide_helper": "slide_end",
    "slideshow": {
     "slide_type": "slide"
    }
   },
   "source": [
    "# Using Graphs to Model Linked Data\n",
    "\n",
    "### Learning Objectives\n",
    "\n",
    "1. You will be able to describe the different between directed and undirected graphs\n",
    "1. Select appropriate graph types to represent different types of biomedical data and knowledge\n",
    "1. Create graphs in Python using NetworkX\n",
    "1. Compute basic descriptions of graphs using NetworkX\n",
    "\n",
    "### Readings\n",
    "* [Khan Academy Introduction to Graph Theory](https://www.khanacademy.org/computing/computer-science/algorithms/graph-representation/a/describing-graphs)\n",
    "\n",
    "* [Introduction to Graph Theory with Python](http://www.python-course.eu/graphs_python.php)\n",
    "* [Notes on Graph Theory](https://www.math.utah.edu/mathcircle/notes/MC_Graph_Theory.pdf)"
   ]
  },
  {
   "cell_type": "markdown",
   "metadata": {
    "internals": {
     "slide_helper": "subslide_end",
     "slide_type": "subslide"
    },
    "slide_helper": "subslide_end",
    "slideshow": {
     "slide_type": "slide"
    }
   },
   "source": [
    "# Graphs\n",
    "\n",
    "* Graphs are a data representation consisting of **nodes** and **edges**\n",
    "* Nodes are entities\n",
    "* Edges are relationships\n",
    "## Examples\n",
    "\n",
    "### Text\n",
    "* Nodes are words in sentence (e.g. findings, modifiers, conjuntions)\n",
    "* Edges are relationships between the words\n",
    "\n",
    "![context](./context.png)\n",
    "\n",
    "### Social Networks\n",
    "* Nodes are people\n",
    "* Edges are relationships (e.g. friendship, coauthorship)\n",
    "\n",
    "![social network](https://upload.wikimedia.org/wikipedia/commons/d/dc/Social_Network.png)\n",
    "\n",
    "### Ontologies\n",
    "    \n",
    "![ontology](https://upload.wikimedia.org/wikipedia/commons/thumb/9/9b/The_representation_of_Langerhans_cells_in_the_Cell_Ontology.jpg/328px-The_representation_of_Langerhans_cells_in_the_Cell_Ontology.jpg)\n",
    "    \n",
    "## Python Graph Packages\n",
    "\n",
    "* [NetworkX:](http://networkx.github.io/) this is a very popular, easy to use package. Its advantage and disadvantage is that it is pure Python. Conseqeuntly, easy to use but relatively slow.\n",
    "* [graph-tool:](https://graph-tool.skewed.de/) \"Despite its nice, soft outer appearance of a regular python module, the core algorithms and data structures of graph-tool are written in C++, with performance in mind. Most of the time, you can expect the algorithms to run just as fast as if graph-tool were a pure C/C++ library.\"\n",
    "* [python-igraph:](http://igraph.org/python/) \"igraph is a collection of network analysis tools with the emphasis on efficiency, portability and ease of use. igraph is open source and free. igraph can be programmed in R, Python and C/C++.\""
   ]
  },
  {
   "cell_type": "code",
   "execution_count": null,
   "metadata": {},
   "outputs": [],
   "source": []
  }
 ],
 "metadata": {
  "kernelspec": {
   "display_name": "Python 3",
   "language": "python",
   "name": "python3"
  },
  "language_info": {
   "codemirror_mode": {
    "name": "ipython",
    "version": 3
   },
   "file_extension": ".py",
   "mimetype": "text/x-python",
   "name": "python",
   "nbconvert_exporter": "python",
   "pygments_lexer": "ipython3",
   "version": "3.5.2"
  }
 },
 "nbformat": 4,
 "nbformat_minor": 1
}

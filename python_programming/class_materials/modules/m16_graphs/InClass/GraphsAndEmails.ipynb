{
 "cells": [
  {
   "cell_type": "code",
   "execution_count": null,
   "metadata": {
    "internals": {
     "slide_type": "subslide"
    },
    "slideshow": {
     "slide_type": "slide"
    }
   },
   "outputs": [],
   "source": [
    "%matplotlib inline"
   ]
  },
  {
   "cell_type": "code",
   "execution_count": null,
   "metadata": {
    "internals": {
     "slide_helper": "subslide_end"
    },
    "slide_helper": "slide_end",
    "slideshow": {
     "slide_type": "skip"
    }
   },
   "outputs": [],
   "source": [
    "import os\n",
    "DATADIR = os.path.join(os.getcwd(),\"..\", \"ClassPrep\")\n",
    "print(os.path.exists(DATADIR))\n",
    "import csv\n",
    "from collections import defaultdict\n",
    "import gzip\n",
    "import pickle\n",
    "import networkx as nx\n",
    "from IPython.display import Image, clear_output\n",
    "import warnings\n",
    "warnings.simplefilter('ignore')\n",
    "import nxdrawing as nxd"
   ]
  },
  {
   "cell_type": "markdown",
   "metadata": {
    "internals": {},
    "slideshow": {
     "slide_type": "-"
    }
   },
   "source": [
    "### Create a MultiGraph of 'To'/'From' Relationships"
   ]
  },
  {
   "cell_type": "code",
   "execution_count": null,
   "metadata": {
    "internals": {},
    "slideshow": {
     "slide_type": "-"
    }
   },
   "outputs": [],
   "source": [
    "import re\n",
    "re_me = re.compile(r\"\"\"Brian\\.Chapman@utah\\.edu\"\"\",re.I)"
   ]
  },
  {
   "cell_type": "markdown",
   "metadata": {},
   "source": [
    "### [``MultiGraph``](https://networkx.github.io/documentation/latest/reference/classes.multigraph.html)\n",
    "\n",
    "We're going to put the e-mail information into a NetworkX ``MultiGraph``. The ``MultiGraph`` allows us to have multiple edges between nodes.\n",
    "\n",
    "In this graph nodes will be senders and receivers and edges will be particular messages."
   ]
  },
  {
   "cell_type": "code",
   "execution_count": null,
   "metadata": {},
   "outputs": [],
   "source": [
    "my_email = nx.MultiDiGraph()\n",
    "\n",
    "with open(os.path.join(DATADIR,\n",
    "                            \"my_emails_2017.txt\"),'rt') as f:\n",
    "    reader = csv.reader( f,delimiter=\"\\t\" )\n",
    "\n",
    "    for row in reader:\n",
    "        try:\n",
    "            my_email.add_edge(row[0].lower(),row[1].lower())\n",
    "        except Exception as error:\n",
    "            print(error)\n",
    "            pass\n"
   ]
  },
  {
   "cell_type": "markdown",
   "metadata": {},
   "source": [
    "## How large is this graph?\n"
   ]
  },
  {
   "cell_type": "code",
   "execution_count": null,
   "metadata": {},
   "outputs": [],
   "source": [
    "my_email.number_of_nodes(), my_email.number_of_edges()"
   ]
  },
  {
   "cell_type": "markdown",
   "metadata": {},
   "source": [
    "## Challenge: To whom did you send the most e-mails?\n",
    "\n",
    "#### Hint: `neighbors` or `successors`"
   ]
  },
  {
   "cell_type": "code",
   "execution_count": null,
   "metadata": {},
   "outputs": [],
   "source": []
  },
  {
   "cell_type": "markdown",
   "metadata": {},
   "source": [
    "## Challenge: From whom did you receive the most e-mails?\n",
    "\n",
    "#### Hint: `predecessors`"
   ]
  },
  {
   "cell_type": "code",
   "execution_count": null,
   "metadata": {},
   "outputs": [],
   "source": []
  },
  {
   "cell_type": "markdown",
   "metadata": {},
   "source": [
    "### Connected Subgraphs\n",
    "\n",
    "Graphs can consist of distinct components that are disconnected from each other [connected_component_subgraphs](https://networkx.github.io/documentation/latest/reference/generated/networkx.algorithms.components.connected.connected_component_subgraphs.html?highlight=connected_component_subgraphs) creates distinct graphs for each connected component and returns them in a list. This is only defined for undirected graphs.\n",
    "\n",
    "We also use the [``sort``](https://docs.python.org/3/library/stdtypes.html#list.sort) method of the list to sort the subgraphs by the number of nodes in each graph.\n",
    "\n",
    ">*key* specifies a function of one argument that is used to extract a comparison key from each list element (for example, key=str.lower). The key corresponding to each item in the list is calculated once and then used for the entire sorting process. The default value of None means that list items are sorted directly without calculating a separate key value.\n",
    "\n",
    "* We use list comprehension to keep the subgraphs that have more than two nodes.\n",
    "* We use an [anonymous lambda function](https://docs.python.org/3/howto/functional.html#small-functions-and-the-lambda-expression) to do the sorting."
   ]
  },
  {
   "cell_type": "code",
   "execution_count": null,
   "metadata": {
    "internals": {},
    "slideshow": {
     "slide_type": "-"
    }
   },
   "outputs": [],
   "source": [
    "subgraphs = [g for g in nx.connected_component_subgraphs(my_email.to_undirected()) if g.number_of_nodes() > 2]\n",
    "subgraphs.sort(key=lambda g: g.number_of_nodes())\n",
    "print(\"The number of subgraphs is %d\"%len(subgraphs))\n",
    "print([g.number_of_nodes() for g in subgraphs])"
   ]
  },
  {
   "cell_type": "code",
   "execution_count": null,
   "metadata": {},
   "outputs": [],
   "source": []
  },
  {
   "cell_type": "code",
   "execution_count": null,
   "metadata": {},
   "outputs": [],
   "source": []
  },
  {
   "cell_type": "code",
   "execution_count": null,
   "metadata": {},
   "outputs": [],
   "source": [
    "for n in sg.nodes():\n",
    "    print(n)"
   ]
  },
  {
   "cell_type": "markdown",
   "metadata": {},
   "source": [
    "### With whom are my most frequent e-mail exchanges?"
   ]
  },
  {
   "cell_type": "code",
   "execution_count": null,
   "metadata": {},
   "outputs": [],
   "source": [
    "main_email = subgraphs[-1]\n",
    "edges = main_email.edges()\n",
    "edge_count2 = {}\n",
    "mail_count_limit = 35\n",
    "for n in main_email.nodes():\n",
    "    neighbors = main_email.neighbors(n)\n",
    "    for nn in neighbors:\n",
    "        if \"Brian.Chapman@utah.edu\" in n or \"Brian.Chapman@utah.edu\" in nn:\n",
    "            key = [n,nn]\n",
    "            key.sort()\n",
    "            edge_count2[tuple(key)] = main_email.number_of_edges(n,nn)\n",
    "\n",
    "    "
   ]
  },
  {
   "cell_type": "code",
   "execution_count": null,
   "metadata": {},
   "outputs": [],
   "source": [
    "ec = list(edge_count2.items())\n",
    "ec.sort(key=lambda x:x[1], reverse=True)"
   ]
  },
  {
   "cell_type": "code",
   "execution_count": null,
   "metadata": {},
   "outputs": [],
   "source": [
    "print(\"%s   %s\\t %s\"%(\"Node1\".ljust(40),\"Node2\".rjust(40), \"count\".ljust(10)))\n",
    "print()\n",
    "for e,c in ec[:100]:\n",
    "    print(\"%s \\u21E8 %s\\t% 3d\"%(e[0].ljust(40), e[1].rjust(40),c))"
   ]
  },
  {
   "cell_type": "markdown",
   "metadata": {},
   "source": [
    "## Challenge: Select a random subset of the graph to get a better visualization\n",
    "\n",
    "#### Hints:\n",
    "\n",
    "1. Use random.shuffle and slicing\n",
    "1. Use nx.subgraph"
   ]
  },
  {
   "cell_type": "code",
   "execution_count": null,
   "metadata": {},
   "outputs": [],
   "source": []
  },
  {
   "cell_type": "markdown",
   "metadata": {},
   "source": [
    "## Challenge: Convert the subgraph to a Graph and Redraw the subgraph"
   ]
  },
  {
   "cell_type": "code",
   "execution_count": null,
   "metadata": {
    "internals": {
     "slide_helper": "subslide_end"
    },
    "slide_helper": "slide_end",
    "slideshow": {
     "slide_type": "-"
    }
   },
   "outputs": [],
   "source": []
  },
  {
   "cell_type": "code",
   "execution_count": null,
   "metadata": {},
   "outputs": [],
   "source": []
  }
 ],
 "metadata": {
  "kernelspec": {
   "display_name": "Python 3",
   "language": "python",
   "name": "python3"
  },
  "language_info": {
   "codemirror_mode": {
    "name": "ipython",
    "version": 3
   },
   "file_extension": ".py",
   "mimetype": "text/x-python",
   "name": "python",
   "nbconvert_exporter": "python",
   "pygments_lexer": "ipython3",
   "version": "3.5.2"
  }
 },
 "nbformat": 4,
 "nbformat_minor": 1
}

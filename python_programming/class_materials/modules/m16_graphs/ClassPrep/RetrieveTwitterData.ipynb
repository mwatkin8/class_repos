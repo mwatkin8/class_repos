{
 "cells": [
  {
   "cell_type": "markdown",
   "metadata": {},
   "source": [
    "# Retrieving Twitter Data\n",
    "\n",
    "In this notebook we are going to retrieve the Twitter followers for a list of tweeters as well as the followers of their followers. Because the Twitter API limits us to 15 requests before a 15 minute time-out, we have to have some patience.\n",
    "\n",
    "This is kind of a hack and there is definitely a cleaner way to do this."
   ]
  },
  {
   "cell_type": "markdown",
   "metadata": {},
   "source": [
    "### Uncomment and run if we need to install tweepy"
   ]
  },
  {
   "cell_type": "code",
   "execution_count": null,
   "metadata": {},
   "outputs": [],
   "source": [
    "#!conda install tweepy -y"
   ]
  },
  {
   "cell_type": "code",
   "execution_count": null,
   "metadata": {},
   "outputs": [],
   "source": [
    "# General:\n",
    "import tweepy           # To consume Twitter's API\n",
    "import pandas as pd     # To handle data\n",
    "import numpy as np      # For number computing\n",
    "\n",
    "# For plotting and visualization:\n",
    "from IPython.display import display\n",
    "import matplotlib.pyplot as plt\n",
    "import seaborn as sns\n",
    "%matplotlib inline\n",
    "import networkx as nx\n",
    "import os\n",
    "from IPython.display import Image\n",
    "from itertools import product\n",
    "import time\n",
    "import pickle\n",
    "import gzip"
   ]
  },
  {
   "cell_type": "markdown",
   "metadata": {},
   "source": [
    "### You will need to edit the `credentials.py` file as described [here](https://dev.to/rodolfoferro/sentiment-analysis-on-trumpss-tweets-using-python-)"
   ]
  },
  {
   "cell_type": "code",
   "execution_count": null,
   "metadata": {},
   "outputs": [],
   "source": [
    "# We import our access keys:\n",
    "from credentials import *    # This will allow us to use the keys as variables\n",
    "\n",
    "# API's setup:\n",
    "def twitter_setup():\n",
    "    \"\"\"\n",
    "    Utility function to setup the Twitter's API\n",
    "    with our access keys provided.\n",
    "    \"\"\"\n",
    "    # Authentication and access using keys:\n",
    "    auth = tweepy.OAuthHandler(CONSUMER_KEY, CONSUMER_SECRET)\n",
    "    auth.set_access_token(ACCESS_TOKEN, ACCESS_SECRET)\n",
    "\n",
    "    # Return API with authentication:\n",
    "    api = tweepy.API(auth)\n",
    "    return api"
   ]
  },
  {
   "cell_type": "markdown",
   "metadata": {},
   "source": [
    "### Here we authenticate with Twitter\n",
    "#### We will have to repeatedly call this as we will be logged off by Twitter"
   ]
  },
  {
   "cell_type": "code",
   "execution_count": null,
   "metadata": {},
   "outputs": [],
   "source": [
    "# We create an extractor object:\n",
    "extractor = twitter_setup()\n"
   ]
  },
  {
   "cell_type": "markdown",
   "metadata": {},
   "source": [
    "## A function to test whether tweeter `follower` actually follows `followed`\n",
    "#### deprecated"
   ]
  },
  {
   "cell_type": "code",
   "execution_count": null,
   "metadata": {},
   "outputs": [],
   "source": [
    "def is_following(followed, follower):\n",
    "    try:\n",
    "        followers = extractor.followers(followed)\n",
    "        return follower in [f.screen_name for f in followers]\n",
    "    except tweepy.RateLimitError:\n",
    "        print(\"Hit rate limit; waiting 15 minutes\")\n",
    "        time.sleep(15*60)\n",
    "        return is_following(followed, follower)"
   ]
  },
  {
   "cell_type": "markdown",
   "metadata": {},
   "source": [
    "## A function to get the followers of a tweeter\n",
    "\n",
    "We try to get the followers. If we fail because of a `RateLimitError` we sleep for 15 minutes and then recursively call the function again.\n",
    "\n",
    "#### Note: we may be logged out by Twitter while we sleep"
   ]
  },
  {
   "cell_type": "code",
   "execution_count": null,
   "metadata": {},
   "outputs": [],
   "source": [
    "def get_followers(tweeter, extractor):\n",
    "    print(tweeter)\n",
    "    try:\n",
    "        return extractor.followers(tweeter)\n",
    "    except tweepy.RateLimitError:\n",
    "        print(\"Hit rate limit; waiting 15 mintues\")\n",
    "        time.sleep(15*60)\n",
    "        return get_followers(tweeter, extractor)\n",
    "    "
   ]
  },
  {
   "cell_type": "markdown",
   "metadata": {},
   "source": [
    "## Define an initial set of Tweeters/Nodes"
   ]
  },
  {
   "cell_type": "code",
   "execution_count": null,
   "metadata": {},
   "outputs": [],
   "source": [
    "tweeters = [\"chapmanbe\", \"wendywchapman\", \"meh1rad\"]"
   ]
  },
  {
   "cell_type": "markdown",
   "metadata": {},
   "source": [
    "### Find all their followers and create a network"
   ]
  },
  {
   "cell_type": "code",
   "execution_count": null,
   "metadata": {},
   "outputs": [],
   "source": [
    "followers = {}\n",
    "for t in tweeters:\n",
    "    followers[t] = [f.screen_name for f in extractor.followers(t)]"
   ]
  },
  {
   "cell_type": "markdown",
   "metadata": {},
   "source": [
    "## Put all the followers if our initial tweeters in a list"
   ]
  },
  {
   "cell_type": "code",
   "execution_count": null,
   "metadata": {},
   "outputs": [],
   "source": [
    "gen2 = []\n",
    "for v in followers.values():\n",
    "    gen2.extend(v)\n",
    "gen2"
   ]
  },
  {
   "cell_type": "markdown",
   "metadata": {},
   "source": [
    "## Create a second dictionary to store the followers of the followers"
   ]
  },
  {
   "cell_type": "code",
   "execution_count": null,
   "metadata": {},
   "outputs": [],
   "source": [
    "followers2 = {}\n",
    "gen3 = gen2[:]\n",
    "fails = []"
   ]
  },
  {
   "cell_type": "markdown",
   "metadata": {},
   "source": [
    "### If `get_followers` fails, save tweeter it failed on\n",
    "#### Then restart `while` loop\n",
    "\n",
    "### If you get a not authorized error\n",
    "\n",
    "Rerun the cell with this code:\n",
    "\n",
    "```Python\n",
    "# We create an extractor object:\n",
    "extractor = twitter_setup()\n",
    "```\n",
    "\n",
    "Then rerun the while loop cell:\n",
    "\n",
    "```Python\n",
    "while gen3:\n",
    "    t = gen3.pop()\n",
    "    followers2[t] = get_followers(t, extractor)\n",
    "```"
   ]
  },
  {
   "cell_type": "code",
   "execution_count": null,
   "metadata": {},
   "outputs": [],
   "source": [
    "fails.append(t)"
   ]
  },
  {
   "cell_type": "code",
   "execution_count": null,
   "metadata": {},
   "outputs": [],
   "source": [
    "while gen3:\n",
    "    t = gen3.pop()\n",
    "    followers2[t] = get_followers(t, extractor)\n",
    "    "
   ]
  },
  {
   "cell_type": "markdown",
   "metadata": {},
   "source": [
    "## Dump our data into a pickle file"
   ]
  },
  {
   "cell_type": "code",
   "execution_count": null,
   "metadata": {},
   "outputs": [],
   "source": [
    "with gzip.open(\"twitter.pickle.gz\", \"wb\") as f0:\n",
    "    pickle.dump((followers, followers2), f0)"
   ]
  },
  {
   "cell_type": "code",
   "execution_count": null,
   "metadata": {},
   "outputs": [],
   "source": []
  }
 ],
 "metadata": {
  "kernelspec": {
   "display_name": "Python 3",
   "language": "python",
   "name": "python3"
  },
  "language_info": {
   "codemirror_mode": {
    "name": "ipython",
    "version": 3
   },
   "file_extension": ".py",
   "mimetype": "text/x-python",
   "name": "python",
   "nbconvert_exporter": "python",
   "pygments_lexer": "ipython3",
   "version": "3.5.2"
  }
 },
 "nbformat": 4,
 "nbformat_minor": 2
}

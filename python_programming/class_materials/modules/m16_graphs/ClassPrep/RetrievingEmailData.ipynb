{
 "cells": [
  {
   "cell_type": "markdown",
   "metadata": {
    "internals": {
     "slide_helper": "subslide_end",
     "slide_type": "subslide"
    },
    "slide_helper": "slide_end",
    "slideshow": {
     "slide_type": "slide"
    }
   },
   "source": [
    "# Using Python to Access Your E-mail\n",
    "\n",
    "Python has several modules in its standard library to work with e-mail and other web tools. Using Python you can compose and send e-mails as well as retrieve e-mails from mail servers and parse the content of e-mail files. In this notebook we will do the later two.\n",
    "\n",
    "For the example here I am going to use my University of Utah e-mail. Similar approaches can be used for other e-mail providers. For example, [here](https://developers.google.com/gmail/api/quickstart/python) are instructions from Google about how to interact with Gmail via Python."
   ]
  },
  {
   "cell_type": "code",
   "execution_count": null,
   "metadata": {
    "internals": {
     "slide_helper": "subslide_end"
    },
    "slide_helper": "slide_end",
    "slideshow": {
     "slide_type": "skip"
    }
   },
   "outputs": [],
   "source": [
    "import os\n",
    "DATADIR = os.path.join(os.getcwd())\n",
    "import csv\n",
    "import imaplib\n",
    "import getpass\n",
    "import email\n",
    "from collections import defaultdict\n",
    "import gzip\n",
    "import pickle\n"
   ]
  },
  {
   "cell_type": "markdown",
   "metadata": {
    "internals": {
     "slide_helper": "subslide_end",
     "slide_type": "subslide"
    },
    "slide_helper": "subslide_end",
    "slideshow": {
     "slide_type": "slide"
    }
   },
   "source": [
    "# Working with E-Mail\n",
    "* Python has several modules for working with e-mail, including sending e-mails (not goint o talk about this), working with an inbox, and parsing e-mail messages\n",
    "* [imaplib](http://docs.python.org/2/library/imaplib.html)\n",
    "* Below is a code snippet adapted from the Python documentation\n",
    "* Some notes:\n",
    "    * **``getpass.getpass()``** prompts for a password without echoing it back to the screen\n",
    "    * also **``getpass.getuser()``**; "
   ]
  },
  {
   "cell_type": "markdown",
   "metadata": {},
   "source": [
    "### Here is a script to connect to and pull e-mails from UMail\n",
    "\n",
    "This was very slow for me, probably largely because I don't delete enough e-mails.\n",
    "\n",
    "* [``imaplib.IMAP4_SSl``](https://docs.python.org/3/library/imaplib.html): \"This is a subclass derived from IMAP4 that connects over an SSL encrypted socket.\"\n",
    "* [``getpass.getpass``](https://docs.python.org/3.5/library/getpass.html) ``getpass`` allows us to get passwords (or other text) that we don't want echoed back to the screen. As best practice pass the results of getpass directly to the function that needs the password so that you don't have a variable floating around withe sensitive information."
   ]
  },
  {
   "cell_type": "code",
   "execution_count": null,
   "metadata": {
    "internals": {
     "slide_helper": "subslide_end",
     "slide_type": "subslide"
    },
    "slide_helper": "subslide_end",
    "slideshow": {
     "slide_type": "subslide"
    }
   },
   "outputs": [],
   "source": [
    "\n",
    "M = imaplib.IMAP4_SSL(\"imap.umail.utah.edu\",port=993)\n",
    "M.login('%s@umail.utah.edu'%getpass.getpass(\"Enter your University of Utah ID\").strip(),\n",
    "        getpass.getpass(\"Enter your University of Utah password\").strip())\n",
    "M.select()\n",
    "typ,data = M.search(None,\"ALL\")\n",
    "msgs = {}\n",
    "count = 0\n",
    "for num in data[0].split():\n",
    "    count += 1\n",
    "    # My inbox had around 12000 messages in it. \n",
    "    # this was a way to keep my up to date on whether\n",
    "    # my program was really progressing\n",
    "    if count %500 == 0:\n",
    "        print (num),\n",
    "    typ,data = M.fetch(num,'(RFC822)')\n",
    "    msgs[num] = data\n"
   ]
  },
  {
   "cell_type": "markdown",
   "metadata": {
    "internals": {
     "slide_helper": "subslide_end",
     "slide_type": "subslide"
    },
    "slide_helper": "subslide_end",
    "slideshow": {
     "slide_type": "subslide"
    }
   },
   "source": [
    "### Write everything out to a pickle file\n",
    "\n",
    "* I don't want to query my e-mail very often since it is so slow, so let's save the data for later use."
   ]
  },
  {
   "cell_type": "code",
   "execution_count": null,
   "metadata": {
    "internals": {
     "slide_helper": "subslide_end",
     "slide_type": "subslide"
    },
    "slide_helper": "subslide_end",
    "slideshow": {
     "slide_type": "subslide"
    }
   },
   "outputs": [],
   "source": [
    "with gzip.open(os.path.join(DATADIR,\n",
    "               \"myEmail11192017.pickle.gzip\"),\"wb\") as fo:\n",
    "    pickle.dump(msgs,fo)"
   ]
  },
  {
   "cell_type": "markdown",
   "metadata": {},
   "source": [
    "#### If we want to start over we can just read in the pickle file and skip the IMAP step"
   ]
  },
  {
   "cell_type": "code",
   "execution_count": null,
   "metadata": {},
   "outputs": [],
   "source": [
    "with gzip.open(os.path.join(DATADIR,\n",
    "               \"myEmail11192017.pickle.gzip\"),\"rb\") as fo:\n",
    "    msgs = pickle.load(fo)"
   ]
  },
  {
   "cell_type": "markdown",
   "metadata": {
    "internals": {
     "slide_helper": "subslide_end",
     "slide_type": "subslide"
    },
    "slide_helper": "subslide_end",
    "slideshow": {
     "slide_type": "subslide"
    }
   },
   "source": [
    "# Parsing e-mail messages\n",
    "* [email:](https://docs.python.org/3/library/email.html#module-email)\n",
    "\n",
    ">The email package is a library for managing email messages, including MIME and other RFC 2822-based message documents. It is specifically not designed to do any sending of email messages to SMTP (RFC 2821), NNTP, or other servers; those are functions of modules such as smtplib and nntplib. The email package attempts to be as RFC-compliant as possible, supporting in addition to RFC 2822, such MIME-related RFCs as RFC 2045, RFC 2046, RFC 2047, and RFC 2231. (Python Documentation)"
   ]
  },
  {
   "cell_type": "code",
   "execution_count": null,
   "metadata": {},
   "outputs": [],
   "source": []
  },
  {
   "cell_type": "markdown",
   "metadata": {},
   "source": [
    "## Read e-mails and save 'From'/'to' and `date` information\n",
    "### Always some unicode confusion\n",
    "\n"
   ]
  },
  {
   "cell_type": "markdown",
   "metadata": {},
   "source": [
    "### What does a message look like?"
   ]
  },
  {
   "cell_type": "code",
   "execution_count": null,
   "metadata": {},
   "outputs": [],
   "source": [
    "m = msgs[b'9381']\n",
    "type(m), len(m)"
   ]
  },
  {
   "cell_type": "code",
   "execution_count": null,
   "metadata": {},
   "outputs": [],
   "source": [
    "print(m)"
   ]
  },
  {
   "cell_type": "markdown",
   "metadata": {},
   "source": [
    "#### The message is a two-tuple\n",
    "* The first element is another tuple \n",
    "    * The first element of which is some index information.\n",
    "    * The second element is a big, nasty string.\n",
    "* The second element is a string describing the message status"
   ]
  },
  {
   "cell_type": "code",
   "execution_count": null,
   "metadata": {},
   "outputs": [],
   "source": [
    "print(\"The length of the message tuple is %s\"%len(m))\n",
    "print(m[0][0],m[1])\n"
   ]
  },
  {
   "cell_type": "code",
   "execution_count": null,
   "metadata": {},
   "outputs": [],
   "source": [
    "print(m[0][1].decode()[0:350])\n"
   ]
  },
  {
   "cell_type": "markdown",
   "metadata": {},
   "source": [
    "### Now we need to Parse the messages\n",
    "\n",
    "* Create an e-mail parser\n",
    "* Take a look at what a parsed message looks like\n",
    "\n",
    "* [parsestr](https://docs.python.org/3/library/email.parser.html#email.parser.Parser.parsestr)\n",
    "\n",
    "* Lots and lots of header information\n",
    "* Text of e-mail is buried in a bunch of HTML that would have to be parsed."
   ]
  },
  {
   "cell_type": "code",
   "execution_count": null,
   "metadata": {},
   "outputs": [],
   "source": [
    "p = email.parser.Parser()\n",
    "e = p.parsestr(m[0][1].decode())\n",
    "print(e.keys())\n"
   ]
  },
  {
   "cell_type": "code",
   "execution_count": null,
   "metadata": {},
   "outputs": [],
   "source": [
    "for k,v in e.items():\n",
    "    print(k)\n",
    "    print(v)\n",
    "    print()"
   ]
  },
  {
   "cell_type": "code",
   "execution_count": null,
   "metadata": {},
   "outputs": [],
   "source": [
    "e[\"date\"]"
   ]
  },
  {
   "cell_type": "code",
   "execution_count": null,
   "metadata": {},
   "outputs": [],
   "source": [
    "import re\n",
    "from itertools import product\n",
    "rclean = re.compile(r\"\"\"\\s+\"\"\")\n",
    "remail = re.compile(r\"\"\"<(?P<email>\\S+@\\S+)>\"\"\")"
   ]
  },
  {
   "cell_type": "markdown",
   "metadata": {},
   "source": [
    "#### How do we want to simplify our data?\n",
    "\n",
    "* No consistency in how names are provided (e.g. \"Yiling Bi\" or \"Bi, Yiling\")\n",
    "* `From` is from one person\n",
    "* `To` can be to one to many people\n",
    "    * Sometimes I find blank entries for both \"To\" and \"From\"\n",
    "    \n",
    "#### In the cell below I'm doing the following:\n",
    "\n",
    "* I'm only keeping \"To\", \"From\", and \"date\" information\n",
    "* I'm going to identify each recipient in the \"To\" list using a regular expression and make a node/edge relationship for each person in the \"To\" list.\n",
    "* Write these out into a tab delimited file\n"
   ]
  },
  {
   "cell_type": "code",
   "execution_count": null,
   "metadata": {
    "internals": {
     "slide_type": "subslide"
    },
    "slideshow": {
     "slide_type": "subslide"
    }
   },
   "outputs": [],
   "source": [
    "\n",
    "with open(os.path.join(DATADIR,\n",
    "            \"my_emails_2017.txt\"),\"wt\") as fo:\n",
    "    for key in msgs.keys():\n",
    "        m = msgs[key]\n",
    "        try:\n",
    "            e = p.parsestr(m[0][1].decode())\n",
    "        except UnicodeDecodeError:\n",
    "            e = p.parsestr(m[0][1].decode('windows-1252'))\n",
    "        if e[\"To\"] and e[\"From\"]:\n",
    "            for f,t in product(remail.findall(e[\"From\"]), remail.findall(e[\"To\"])):\n",
    "                fo.write(\"%s\\t%s\\t%s\\n\"%(f, t, e[\"date\"]))"
   ]
  },
  {
   "cell_type": "code",
   "execution_count": null,
   "metadata": {},
   "outputs": [],
   "source": []
  }
 ],
 "metadata": {
  "kernelspec": {
   "display_name": "Python 3",
   "language": "python",
   "name": "python3"
  },
  "language_info": {
   "codemirror_mode": {
    "name": "ipython",
    "version": 3
   },
   "file_extension": ".py",
   "mimetype": "text/x-python",
   "name": "python",
   "nbconvert_exporter": "python",
   "pygments_lexer": "ipython3",
   "version": "3.5.2"
  }
 },
 "nbformat": 4,
 "nbformat_minor": 1
}

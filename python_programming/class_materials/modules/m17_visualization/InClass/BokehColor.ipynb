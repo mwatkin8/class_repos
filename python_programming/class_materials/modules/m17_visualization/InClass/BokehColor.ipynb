{
 "cells": [
  {
   "cell_type": "markdown",
   "metadata": {},
   "source": [
    "# Bokeh\n",
    "## We wrote a lot of JavaScript so you don't have to\n",
    "\n",
    "* Inspired by [D3](http://d3js.org/)\n",
    "* Intended to handle much larger data sets than D3"
   ]
  },
  {
   "cell_type": "markdown",
   "metadata": {},
   "source": [
    "## Bokeh's Technical Vision\n",
    "\n",
    "Photographers use the Japanese word “bokeh” to describe the blurring of the out-of-focus parts of an image. Its aesthetic quality can greatly enhance a photograph, and photographers artfully use focus to draw attention to subjects of interest. “Good bokeh” contributes visual interest to a photograph and places its subjects in context.\n",
    "\n",
    "In this vein of focusing on high-impact subjects while always maintaining a relationship to the data background, the Bokeh project attempts to address fundamental challenges of large dataset visualization:\n",
    "\n",
    "* How do we look at all the data?\n",
    "    * What are the best perceptual approaches to honestly and accurately represent the data to domain experts and SMEs so they can apply their intuition to the data?\n",
    "        * Are there automated approaches to accurately reduce large datasets so that outliers and anomalies are still visible, while we meaningfully represent baselines and backgrounds? How can we do this without “washing away” all the interesting bits during a naive downsampling?\n",
    "        * If we treat the pixels and topology of pixels on a screen as a bottleneck in the I/O channel between hard drives and an analyst’s visual cortex, what are the best compression techniques at all levels of the data transformation pipeline?\n",
    "* How can scientists and data analysts be empowered to use visualization fluidly, not merely as an output facility or one stage of a pipeline, but as an entire mode of engagement with data and models?\n",
    "    * Are language-based approaches for expressing mathematical modeling and data transformations the best way to compose novel interactive graphics?\n",
    "    * What data-oriented interactions (besides mere linked brushing/selection) are useful for fluid, visually-enable analysis? [Bokeh Technical Vision](http://bokeh.pydata.org/en/latest/#technicalvision)"
   ]
  },
  {
   "cell_type": "markdown",
   "metadata": {},
   "source": [
    "## Comparisons\n",
    "\n",
    "* Less mature than Matplotlib\n",
    "    * Some large changes between releases\n",
    "* Less functional than D3\n",
    "    * Catching up"
   ]
  },
  {
   "cell_type": "markdown",
   "metadata": {},
   "source": [
    "## Notes from Class\n",
    "\n",
    "## Bokeh Color\n",
    "This is how the documentation tells us we can specify color:\n",
    "\n",
    "* any of the [147 named CSS colors](http://www.w3schools.com/cssref/css_colornames.asp), e.g 'green', 'indigo'\n",
    "* an RGB(A) hex value, e.g., '#FF0000', '#44444444'\n",
    "* a 3-tuple of integers (r,g,b) between 0 and 255\n",
    "* a 4-tuple of (r,g,b,a) where r,g,b are integers between 0..255 and a is between 0..1\n",
    "\n",
    "\n",
    "**However,** all the examples on github or on the Bokey website use either a hex value or a named color.\n",
    "\n",
    "* Read the [wikipedia entry on RGBA](http://en.wikipedia.org/wiki/RGBA_color_space)"
   ]
  },
  {
   "cell_type": "markdown",
   "metadata": {},
   "source": [
    "### So it looks like we need  to use hex numbers or named colors \n",
    "\n",
    "I learned that the matplotlib colors module has conversion tools."
   ]
  },
  {
   "cell_type": "code",
   "execution_count": null,
   "metadata": {},
   "outputs": [],
   "source": [
    "import matplotlib.colors as colors\n"
   ]
  },
  {
   "cell_type": "code",
   "execution_count": null,
   "metadata": {},
   "outputs": [],
   "source": [
    "help(colors.rgb2hex)"
   ]
  },
  {
   "cell_type": "markdown",
   "metadata": {},
   "source": [
    "Note that matplotlib specifies colors using floats between 0 and 1.0 instead of 0 and 255 integers."
   ]
  },
  {
   "cell_type": "code",
   "execution_count": null,
   "metadata": {},
   "outputs": [],
   "source": [
    "colors.rgb2hex((0.3,0,0.8))"
   ]
  },
  {
   "cell_type": "markdown",
   "metadata": {},
   "source": [
    "Here is an alternative"
   ]
  },
  {
   "cell_type": "code",
   "execution_count": null,
   "metadata": {},
   "outputs": [],
   "source": [
    "import numbers\n",
    "def rgb_to_hex(rgb):\n",
    "    if len(rgb) == 3:\n",
    "        return '#%02x%02x%02x' % rgb\n",
    "    elif len(rgb) == 4:\n",
    "        if isinstance(rgb[3],numbers.Integral):\n",
    "            return '#%02x%02x%02x%02x' % (rgb[0],rgb[1],rgb[2],255*rgb[3])\n",
    "        else:\n",
    "            return '#%02x%02x%02x%02x' % (rgb[0],rgb[1],rgb[2],255*rgb[3])\n",
    "    else:\n",
    "        raise ValueError"
   ]
  },
  {
   "cell_type": "markdown",
   "metadata": {},
   "source": [
    "Note I also cannot get Bokeh to work with a Hex RGBA value. Here are demonstrated values from [Bokeh's own documentation](http://bokeh.pydata.org/en/latest/docs/user_guide/objects.html#properties)"
   ]
  },
  {
   "cell_type": "code",
   "execution_count": null,
   "metadata": {},
   "outputs": [],
   "source": [
    "import numpy as np\n",
    "from bokeh.plotting import *\n",
    "output_notebook()"
   ]
  },
  {
   "cell_type": "code",
   "execution_count": null,
   "metadata": {},
   "outputs": [],
   "source": [
    "N = 80\n",
    "x = np.linspace(0, 4*np.pi, N)\n",
    "y = np.sin(x)"
   ]
  },
  {
   "cell_type": "code",
   "execution_count": null,
   "metadata": {},
   "outputs": [],
   "source": [
    "c=rgb_to_hex((128,0,255))"
   ]
  },
  {
   "cell_type": "code",
   "execution_count": null,
   "metadata": {},
   "outputs": [],
   "source": [
    "c"
   ]
  },
  {
   "cell_type": "markdown",
   "metadata": {},
   "source": [
    "### Here is a RGB value"
   ]
  },
  {
   "cell_type": "code",
   "execution_count": null,
   "metadata": {},
   "outputs": [],
   "source": [
    "p = figure()\n",
    "p.line(x,y, color=c, line_width=2)\n",
    "show(p)"
   ]
  },
  {
   "cell_type": "markdown",
   "metadata": {},
   "source": [
    "### Here is an RGBA value"
   ]
  },
  {
   "cell_type": "code",
   "execution_count": null,
   "metadata": {},
   "outputs": [],
   "source": [
    "p = figure()\n",
    "p.line(x,y, color=(128,32,72, 0.4), line_width=2)\n",
    "show(p)"
   ]
  },
  {
   "cell_type": "code",
   "execution_count": null,
   "metadata": {},
   "outputs": [],
   "source": []
  }
 ],
 "metadata": {
  "kernelspec": {
   "display_name": "Python 2",
   "language": "python",
   "name": "python2"
  },
  "language_info": {
   "codemirror_mode": {
    "name": "ipython",
    "version": 2
   },
   "file_extension": ".py",
   "mimetype": "text/x-python",
   "name": "python",
   "nbconvert_exporter": "python",
   "pygments_lexer": "ipython2",
   "version": "2.7.13"
  }
 },
 "nbformat": 4,
 "nbformat_minor": 1
}

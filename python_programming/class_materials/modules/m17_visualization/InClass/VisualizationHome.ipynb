{
 "cells": [
  {
   "cell_type": "markdown",
   "metadata": {},
   "source": [
    "# Visualizations with Matplotlib"
   ]
  },
  {
   "cell_type": "markdown",
   "metadata": {},
   "source": [
    "Matplotlib is the againg yet competent graphing package that is part of the \"scipy stack.\" Most examples you will find are of 2D visualizations, but Matplotlib does come with a 3D visualization module that can be used interactively (but not through the web browser as we will explore with JavaScript solutions).\n",
    "\n",
    "NetworkX and Pandas both use matplotlib as their default drawing packages for quick visualization of data.\n",
    "\n",
    "Matplotlib plots can be customized with a fairly flexible api.\n",
    "\n",
    "For the most part, the best way to learn Matplotlib is to find an example from the [gallery](http://matplotlib.org/gallery.html)\n",
    "\n",
    "[Examples from Gallery](./DemonstrationsFromMatplotlibWebsite.ipynb)"
   ]
  },
  {
   "cell_type": "markdown",
   "metadata": {},
   "source": [
    "# mpld3\n",
    "\n",
    "[mpld3](http://mpld3.github.io/index.html) (Matplotlib to D3) is a package to create some interactive graphs using Matplotlib"
   ]
  },
  {
   "cell_type": "code",
   "execution_count": null,
   "metadata": {},
   "outputs": [],
   "source": [
    "%matplotlib inline\n",
    "import matplotlib.pyplot as plt\n",
    "import numpy as np\n"
   ]
  },
  {
   "cell_type": "markdown",
   "metadata": {},
   "source": [
    "### For each of these graphs try playing around with the parameters to see how things change"
   ]
  },
  {
   "cell_type": "code",
   "execution_count": null,
   "metadata": {},
   "outputs": [],
   "source": [
    "# Scatter points\n",
    "fig, ax = plt.subplots()\n",
    "np.random.seed(0)\n",
    "x, y = np.random.normal(size=(2, 200))\n",
    "color, size = np.random.random((2, 200))\n",
    "\n",
    "ax.scatter(x, y, c=color, s=500 * size, alpha=0.3)\n",
    "ax.grid(color='lightgray', alpha=0.7)\n"
   ]
  },
  {
   "cell_type": "markdown",
   "metadata": {},
   "source": [
    "## [mpld3(http://mpld3.github.io/)\n",
    "mpld3 takes matplotlib figures and renders them as JavaScript using [D3](https://d3js.org/) in order to provide interactivity."
   ]
  },
  {
   "cell_type": "code",
   "execution_count": null,
   "metadata": {},
   "outputs": [],
   "source": [
    "import mpld3\n",
    "mpld3.display(fig)"
   ]
  },
  {
   "cell_type": "markdown",
   "metadata": {},
   "source": [
    "#### We have some basic interactivity\n",
    "* We can zoom\n",
    "* We can pan"
   ]
  },
  {
   "cell_type": "markdown",
   "metadata": {},
   "source": [
    "## We can make mpld3 the default rendering"
   ]
  },
  {
   "cell_type": "code",
   "execution_count": null,
   "metadata": {},
   "outputs": [],
   "source": [
    "mpld3.enable_notebook()"
   ]
  },
  {
   "cell_type": "code",
   "execution_count": null,
   "metadata": {},
   "outputs": [],
   "source": [
    "# Histogram with modified axes/grid\n",
    "fig = plt.figure()\n",
    "\n",
    "ax = fig.add_subplot(111, axisbg='#EEEEEE')\n",
    "ax.grid(color='white', linestyle='solid')\n",
    "\n",
    "x = np.random.normal(size=1000)\n",
    "ax.hist(x, 30, histtype='stepfilled', fc='lightblue', alpha=0.5);"
   ]
  },
  {
   "cell_type": "code",
   "execution_count": null,
   "metadata": {},
   "outputs": [],
   "source": [
    "# Draw lines\n",
    "fig, ax = plt.subplots()\n",
    "x = np.linspace(-5, 15, 1000)\n",
    "for offset in np.linspace(0, 3, 4):\n",
    "    ax.plot(x, 0.9 * np.sin(x - offset), lw=5, alpha=0.4,\n",
    "            label=\"Offset: {0}\".format(offset))\n",
    "ax.set_xlim(0, 10)\n",
    "ax.set_ylim(-1.2, 1.0)\n",
    "ax.text(5, -1.1, \"Here are some curves\", size=18, ha='center')\n",
    "ax.grid(color='lightgray', alpha=0.7)\n",
    "ax.legend()"
   ]
  },
  {
   "cell_type": "code",
   "execution_count": null,
   "metadata": {},
   "outputs": [],
   "source": [
    "# multiple subplots, shared axes\n",
    "fig, ax = plt.subplots(2, 2, figsize=(8, 6), sharex='col', sharey='row')\n",
    "fig.subplots_adjust(hspace=0.3)\n",
    "\n",
    "np.random.seed(0)\n",
    "\n",
    "for axi in ax.flat:\n",
    "    color = np.random.random(3)\n",
    "    axi.plot(np.random.random(30), lw=2, c=color)\n",
    "    axi.set_title(\"RGB = ({0:.2f}, {1:.2f}, {2:.2f})\".format(*color),\n",
    "                  size=14)\n",
    "    axi.grid(color='lightgray', alpha=0.7)"
   ]
  },
  {
   "cell_type": "code",
   "execution_count": null,
   "metadata": {},
   "outputs": [],
   "source": [
    "import numpy as np\n",
    "plt.plot(range(20),np.cos(range(20)),range(20),np.sin(range(20)))"
   ]
  },
  {
   "cell_type": "markdown",
   "metadata": {},
   "source": [
    "## Plugins\n",
    "Plugins will allow us to get more interaction with the data.\n",
    "\n",
    "The key idea is to **connect** some particular object that is plotted to the plugin.\n",
    "\n",
    "### LinkedBrush\n",
    "\n",
    "The LinkedBrush will allow us to select points in one plot and see those points highlighted in the connected plots."
   ]
  },
  {
   "cell_type": "code",
   "execution_count": null,
   "metadata": {},
   "outputs": [],
   "source": [
    "from mpld3 import plugins\n",
    "\n",
    "fig, ax = plt.subplots(3, 3, figsize=(6, 6))\n",
    "fig.subplots_adjust(hspace=0.1, wspace=0.1)\n",
    "ax = ax[::-1]\n",
    "\n",
    "X = np.random.normal(size=(3, 100))\n",
    "for i in range(3):\n",
    "    for j in range(3):\n",
    "        ax[i, j].xaxis.set_major_formatter(plt.NullFormatter())\n",
    "        ax[i, j].yaxis.set_major_formatter(plt.NullFormatter())\n",
    "        points = ax[i, j].scatter(X[j], X[i])\n",
    "        \n",
    "plugins.connect(fig, plugins.LinkedBrush(points))"
   ]
  },
  {
   "cell_type": "markdown",
   "metadata": {},
   "source": [
    "### tooltip\n",
    "\n",
    "tooltip provides hover capabilities\n",
    "* In this case we connect a plot object (scatter) with what we want to display when the mouse hovers over an element of the object.\n",
    "* If you have selected the magnification tool, you need to select the pan tool to get the hvover tool back."
   ]
  },
  {
   "cell_type": "code",
   "execution_count": null,
   "metadata": {},
   "outputs": [],
   "source": [
    "fig, ax = plt.subplots(subplot_kw=dict(axisbg='#EEEEEE'))\n",
    "N = 100\n",
    "\n",
    "scatter = ax.scatter(np.random.normal(size=N),\n",
    "                     np.random.normal(size=N),\n",
    "                     c=np.random.random(size=N),\n",
    "                     s=1000 * np.random.random(size=N),\n",
    "                     alpha=0.3,\n",
    "                     cmap=plt.cm.jet)\n",
    "ax.grid(color='white', linestyle='solid')\n",
    "\n",
    "ax.set_title(\"Scatter Plot (with tooltips!)\", size=20)\n",
    "\n",
    "labels = ['bubble {0}'.format(i + 1) for i in range(N)]\n",
    "tooltip = mpld3.plugins.PointLabelTooltip(scatter, labels=labels)\n",
    "mpld3.plugins.connect(fig, tooltip)\n",
    "\n",
    "mpld3.display(fig)"
   ]
  },
  {
   "cell_type": "code",
   "execution_count": null,
   "metadata": {},
   "outputs": [],
   "source": []
  }
 ],
 "metadata": {
  "kernelspec": {
   "display_name": "Python 3",
   "language": "python",
   "name": "python3"
  },
  "language_info": {
   "codemirror_mode": {
    "name": "ipython",
    "version": 3
   },
   "file_extension": ".py",
   "mimetype": "text/x-python",
   "name": "python",
   "nbconvert_exporter": "python",
   "pygments_lexer": "ipython3",
   "version": "3.5.2"
  }
 },
 "nbformat": 4,
 "nbformat_minor": 1
}

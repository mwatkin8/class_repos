{
 "cells": [
  {
   "cell_type": "markdown",
   "metadata": {},
   "source": [
    "![Utah Health Logo](../../media/U_Health_stacked_png_red.png)\n",
    "\n",
    "# BMI 6018\n",
    "## Introduction to Programming for Biomedical Data Science\n",
    "\n",
    "# ROADMAP\n",
    "\n",
    "* [Navigating the Linux file system](./InClass/navigating_file_system.ipynb)\n",
    "* [Using the vi text editor](./InClass/vi.ipynb)\n",
    "* [Using git for version control](./InClass/git_getting_started.ipynb)"
   ]
  },
  {
   "cell_type": "code",
   "execution_count": null,
   "metadata": {
    "collapsed": true
   },
   "outputs": [],
   "source": []
  }
 ],
 "metadata": {
  "kernelspec": {
   "display_name": "Python 3",
   "language": "python",
   "name": "python3"
  },
  "language_info": {
   "codemirror_mode": {
    "name": "ipython",
    "version": 3
   },
   "file_extension": ".py",
   "mimetype": "text/x-python",
   "name": "python",
   "nbconvert_exporter": "python",
   "pygments_lexer": "ipython3",
   "version": "3.5.2"
  }
 },
 "nbformat": 4,
 "nbformat_minor": 2
}

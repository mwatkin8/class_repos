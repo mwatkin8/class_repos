{
 "cells": [
  {
   "cell_type": "markdown",
   "metadata": {},
   "source": [
    "# Additional Git Resources\n",
    "\n",
    "## GitHub Resources on Git\n",
    "\n",
    "* [GitHub git tutorial](https://try.github.io/levels/1/challenges/1)\n",
    "* [Workflow Comparisons](https://www.atlassian.com/git/tutorials/comparing-workflows/centralized-workflow)\n",
    "\n",
    "## Software Carpentry git tutorial\n",
    "\n",
    "* [Part 1](http://swcarpentry.github.io/git-novice/01-basics.html)\n",
    "* [Part 2](http://swcarpentry.github.io/git-novice/02-setup.html)\n",
    "* [Part 3](http://swcarpentry.github.io/git-novice/03-create.html)\n",
    "* [Part 4](http://swcarpentry.github.io/git-novice/04-changes.html)\n",
    "* [Part 5](http://swcarpentry.github.io/git-novice/05-history.html)\n",
    "* [Part 6](http://swcarpentry.github.io/git-novice/06-ignore.html)\n",
    "* [Part 7](http://swcarpentry.github.io/git-novice/07-github.html)\n",
    "* [Part 8](http://swcarpentry.github.io/git-novice/08-collab.html)\n",
    "\n",
    "## Interesting Articles about Version Control\n",
    "\n",
    "* [Mathematicians use GitHub to collaboratively write a book](http://www.wired.com/2013/06/cades-witty-headline-here/)\n",
    "* [University tries banning GitHub](http://www.wired.com/2015/02/university-bans-github-homework-changes-mind/)\n"
   ]
  },
  {
   "cell_type": "code",
   "execution_count": null,
   "metadata": {
    "collapsed": true
   },
   "outputs": [],
   "source": []
  }
 ],
 "metadata": {
  "anaconda-cloud": {},
  "kernelspec": {
   "display_name": "Python [radwords3]",
   "language": "python",
   "name": "Python [radwords3]"
  },
  "language_info": {
   "codemirror_mode": {
    "name": "ipython",
    "version": 3
   },
   "file_extension": ".py",
   "mimetype": "text/x-python",
   "name": "python",
   "nbconvert_exporter": "python",
   "pygments_lexer": "ipython3",
   "version": "3.5.2"
  }
 },
 "nbformat": 4,
 "nbformat_minor": 0
}

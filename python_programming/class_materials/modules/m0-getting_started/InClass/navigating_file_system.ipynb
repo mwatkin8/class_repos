{
 "cells": [
  {
   "cell_type": "markdown",
   "metadata": {},
   "source": [
    "![Utah Health Logo](../../../media/U_Health_stacked_png_red.png)\n",
    "\n",
    "# BMI 6018"
   ]
  },
  {
   "cell_type": "markdown",
   "metadata": {},
   "source": [
    "# Navigating the File System\n",
    "\n",
    "In this notebook, I'm going to demonstrate some basic Unix/Linux commands for moving around in the file system. I can tell the notebook that the code cell should be a bash cell instead of a Python cell by typing ``%%bash`` at the top of the cell.\n",
    "\n",
    "#### As an historical note, Unix was created in an era where short variable names were paramount, thus many of these commands have very short names which are abbreviations of what they are doing.\n",
    "\n",
    "\n",
    "The Linux file system starts with the **root** directory that is denoted by a forward slash **/**. Their are a number of standard **subdirectories**, such as **bin**, **sbin**, and **home**. The below image is an example of a typical Unix/Linux directory tree.\n",
    "\n",
    "![The Linux file system](https://upload.wikimedia.org/wikipedia/commons/f/f3/Standard-unix-filesystem-hierarchy.svg)"
   ]
  },
  {
   "cell_type": "markdown",
   "metadata": {
    "collapsed": true
   },
   "source": [
    "## Changing Directories\n",
    "\n",
    "You change where you are in the file system by changing directories with the ``cd`` command (**c**hange **d**irectory).\n",
    "\n",
    "``cd`` takes as the argument the name of the directory you want to change to:\n",
    "\n",
    "```bash\n",
    "cd SOME_DIRECTORY\n",
    "```\n",
    "\n",
    "### Special Directory Names\n",
    "\n",
    "#### Nothing (Empty String)\n",
    "\n",
    "For ``cd`` an argument of nothing stands for your **home directory**, so if I simply type \n",
    "\n",
    "```bash\n",
    "cd\n",
    "``` \n",
    "I will be taken to my home directory\n",
    "\n",
    "#### ``~``\n",
    "\n",
    "The ampersand is an **alias** for your home directory, so typing \n",
    "\n",
    "```bash\n",
    "cd ~\n",
    "``` \n",
    "\n",
    "will also take me to my home directory. But ``~`` can be combined with other directories so I can type \n",
    "```bash\n",
    "cd ~/DATA/DBs\n",
    "```\n",
    "which will take me to the DATA/DBs directory that sits in my home directory.\n",
    "\n",
    "#### ``.``\n",
    "\n",
    "A single dot stands for the current directory, so \n",
    "```bash\n",
    "cd .\n",
    "``` \n",
    "\n",
    "does not take me anywhere.\n",
    "\n",
    "##### ``..``\n",
    "\n",
    "Two dots stands for the parent directory (the directory immediately above your current directory). So if I am currently in the directory\n",
    "\n",
    "```bash\n",
    "/home/jovyan/DATA/DBs\n",
    "```\n",
    "\n",
    "typing\n",
    "```bash\n",
    "cd ..\n",
    "```\n",
    "\n",
    "will take me to \n",
    "\n",
    "```bash\n",
    "/home/jovyan/DATA\n",
    "```\n",
    "\n",
    "#### ``/``\n",
    "\n",
    "A single forward slash stands for the **root directory** which is the very top of the file system."
   ]
  },
  {
   "cell_type": "code",
   "execution_count": null,
   "metadata": {
    "collapsed": true
   },
   "outputs": [],
   "source": [
    "%%bash\n",
    "cd ~"
   ]
  },
  {
   "cell_type": "markdown",
   "metadata": {},
   "source": [
    "## Where Am I?\n",
    "\n",
    "If you get lost and don't remember where you are, you can type ``pwd`` which stands for **p**rint the **w**orking **d**irectory."
   ]
  },
  {
   "cell_type": "code",
   "execution_count": null,
   "metadata": {
    "collapsed": true
   },
   "outputs": [],
   "source": [
    "%%bash\n",
    "pwd"
   ]
  },
  {
   "cell_type": "markdown",
   "metadata": {},
   "source": [
    "If you forget who you are, you can type ``whoami`` which will tell you your username."
   ]
  },
  {
   "cell_type": "code",
   "execution_count": null,
   "metadata": {
    "collapsed": true
   },
   "outputs": [],
   "source": [
    "%%bash\n",
    "whoami"
   ]
  },
  {
   "cell_type": "markdown",
   "metadata": {},
   "source": [
    "## Listing Directory Content\n",
    "\n",
    "If I want to list (show) what is in a direcotry, I use the ``ls`` (**l**i**s**t) command. As with most Unix commands, I can provide **options** to the function that change how it works:\n",
    "\n",
    "* ``ls -a``: list **all** files, including hidden files and directories\n",
    "* ``ls -l``: list in the **long** view providing more details\n",
    "* ``ls -lt``: list in the long view and **sort by time**\n",
    "* ``ls -lSr``: list in the long view, **sort by size** and list in **reverse** order."
   ]
  },
  {
   "cell_type": "code",
   "execution_count": null,
   "metadata": {
    "collapsed": true
   },
   "outputs": [],
   "source": [
    "%%bash \n",
    "ls"
   ]
  },
  {
   "cell_type": "code",
   "execution_count": null,
   "metadata": {
    "collapsed": true
   },
   "outputs": [],
   "source": [
    "%%bash\n",
    "ls -a"
   ]
  },
  {
   "cell_type": "code",
   "execution_count": null,
   "metadata": {
    "collapsed": true
   },
   "outputs": [],
   "source": [
    "%%bash\n",
    "ls -l"
   ]
  },
  {
   "cell_type": "code",
   "execution_count": null,
   "metadata": {
    "collapsed": true
   },
   "outputs": [],
   "source": [
    "%%bash\n",
    "ls -lt"
   ]
  },
  {
   "cell_type": "code",
   "execution_count": null,
   "metadata": {
    "collapsed": true
   },
   "outputs": [],
   "source": [
    "%%bash\n",
    "ls -lSr "
   ]
  },
  {
   "cell_type": "markdown",
   "metadata": {},
   "source": [
    "### Using Python for quizzes \n",
    "\n",
    "We're going to import some Python code here that we will use later to evaluate quizzes."
   ]
  },
  {
   "cell_type": "code",
   "execution_count": null,
   "metadata": {
    "collapsed": true
   },
   "outputs": [],
   "source": [
    "import navigating_quizzes"
   ]
  },
  {
   "cell_type": "markdown",
   "metadata": {},
   "source": [
    "## Exercise\n",
    "\n",
    "[Open a bash terminal](./launching_terminal.ipynb).\n",
    "\n",
    "### Use the ``cd`` and ``ls`` functions to answer the following questions\n",
    "\n",
    "1. How many unhidden files are located in ``/home/jovyan/DATA/Misc`` ? Change ``number_of_files = -1`` to the number you counted.\n",
    "1. What is the largest file located in ``/home/jovyan/DATA/Misc`` ? Change ``largest_file = \"None\"`` to the file name.\n",
    "1. What is the most recently modified file in ``/home/jovyan/DATA/Misc`` ? Change ``most_recent_file = \"None\"`` to the file name."
   ]
  },
  {
   "cell_type": "code",
   "execution_count": null,
   "metadata": {
    "collapsed": true
   },
   "outputs": [],
   "source": [
    "%%bash\n",
    "cd /home/jovyan/DATA/Misc\n",
    "pwd\n",
    "#ls -lS\n",
    "ls -lt\n",
    "\n"
   ]
  },
  {
   "cell_type": "code",
   "execution_count": null,
   "metadata": {
    "collapsed": true
   },
   "outputs": [],
   "source": [
    "number_of_files = -1\n",
    "largest_file = \"None\"\n",
    "most_recent_file = \"None\""
   ]
  },
  {
   "cell_type": "code",
   "execution_count": null,
   "metadata": {
    "collapsed": true
   },
   "outputs": [],
   "source": [
    "navigating_quizzes.ls_quiz(number_of_files, largest_file, most_recent_file)"
   ]
  },
  {
   "cell_type": "markdown",
   "metadata": {},
   "source": [
    "## Creating and Removing Directories\n",
    "\n",
    "### ``mkdir``\n",
    "\n",
    "``mkdir`` stands for **m**a**k**e **dir**ectory\n",
    "\n",
    "**Note:** You cannot make a directory that already exists.\n",
    "\n",
    "### ``mkdir -p``\n",
    "\n",
    "Makes directories and sub-directories at the same time \n",
    "\n",
    "\n",
    "#### Compare these two commands"
   ]
  },
  {
   "cell_type": "code",
   "execution_count": null,
   "metadata": {
    "collapsed": true
   },
   "outputs": [],
   "source": [
    "%%bash\n",
    "mkdir Test1/test1_a"
   ]
  },
  {
   "cell_type": "code",
   "execution_count": null,
   "metadata": {
    "collapsed": true
   },
   "outputs": [],
   "source": [
    "%%bash\n",
    "mkdir -p Test1/test1_a\n",
    "ls\n",
    "cd Test1\n",
    "pwd\n",
    "ls"
   ]
  },
  {
   "cell_type": "markdown",
   "metadata": {},
   "source": [
    "### ``rmdir``\n",
    "\n",
    "``rmdir`` stands for **r**e**m**ove **dir**ectory: removes an **empty** directory\n",
    "### ``rm -r``\n",
    "\n",
    "recursively remove all the contents of a directory structure, including itself (directories do not need to be empty)\n"
   ]
  },
  {
   "cell_type": "code",
   "execution_count": null,
   "metadata": {
    "collapsed": true
   },
   "outputs": [],
   "source": [
    "%%bash\n",
    "pwd\n",
    "rmdir Test1"
   ]
  },
  {
   "cell_type": "code",
   "execution_count": null,
   "metadata": {
    "collapsed": true
   },
   "outputs": [],
   "source": [
    "%%bash\n",
    "rm -r  Test1\n",
    "ls"
   ]
  },
  {
   "cell_type": "markdown",
   "metadata": {},
   "source": [
    "#### Why does the following command fail?"
   ]
  },
  {
   "cell_type": "code",
   "execution_count": null,
   "metadata": {
    "collapsed": true
   },
   "outputs": [],
   "source": [
    "%%bash\n",
    "rmdir test_mkdirp"
   ]
  },
  {
   "cell_type": "markdown",
   "metadata": {},
   "source": [
    "#### Why does the following command work?"
   ]
  },
  {
   "cell_type": "code",
   "execution_count": null,
   "metadata": {
    "collapsed": true
   },
   "outputs": [],
   "source": [
    "%%bash\n",
    "rm -r test_mkdirp"
   ]
  },
  {
   "cell_type": "markdown",
   "metadata": {},
   "source": [
    "### Tip: Avoiding Spaces in Names\n",
    "\n",
    "While a space is a perfectly legal character for a file or directory name in Unix, the use of spaces will greatly complicate your life. I would recommend avoiding spaces and use one of the following strategies:\n",
    "\n",
    "* **Use underlines:** instead of \"Brian Chapman\" use \"Brian_Chapman\"\n",
    "* **Use \"camel case\":** instead of writing \"social media\" use \"SocialMedia\"\n",
    "* **Use periods:** instead of \"Brian Chapman\" use \"Brian.Chapman\""
   ]
  },
  {
   "cell_type": "markdown",
   "metadata": {},
   "source": [
    "## Exercise\n",
    "\n",
    "You are starting a new study that is interested in detecting outbreaks, either through an act of bioterrism (e.g. release of anthrax at a football game) or a natural disease. You would like to use existing data sources to gain situational awareness in your community. You have access to  four types of data for your study and are going to store retrospective data files to guide development of new surveillance tools. What can you monitor from these sources of data and how might they help you understand when a change of concern occurs in your community?\n",
    "\n",
    "1. Obituaries from the local newspaper\n",
    "1. Over-the-counter sales records from local drug stores\n",
    "1. Chief Complaints from emergency room visits\n",
    "1. Social Media (i.e., Twitter tweets)\n",
    "[Open a bash terminal](./launching_terminal.ipynb).\n",
    "\n",
    "### Use the ``mkdir`` function to create the following directory tree in ``/home/jovyan/work``\n",
    "\n",
    "![mkdir tree](../../../media/mkdir_tree.png)\n",
    "\n",
    "### Try to use the minimum number of commands you can to create this directory tree"
   ]
  },
  {
   "cell_type": "code",
   "execution_count": null,
   "metadata": {
    "collapsed": true
   },
   "outputs": [],
   "source": [
    "%%bash\n",
    "ls -ltr /home/jovyan/DATA/Misc"
   ]
  },
  {
   "cell_type": "markdown",
   "metadata": {},
   "source": [
    "### Test Your Results"
   ]
  },
  {
   "cell_type": "code",
   "execution_count": null,
   "metadata": {
    "collapsed": true
   },
   "outputs": [],
   "source": [
    "navigating_quizzes.mkdir_quiz()\n"
   ]
  },
  {
   "cell_type": "markdown",
   "metadata": {},
   "source": [
    "## Creating files\n",
    "\n",
    "Creating files will typically be done with a text editor or a customized program, but there are a couple of simple yet important ways of making files directly\n",
    "\n",
    "#### ``touch``\n",
    "\n",
    "``touch``creates an empty file or modifies the modification time of the file (if the file already exists). The syntax is as follows:\n",
    "\n",
    "```bash\n",
    "touch some_filename\n",
    "```\n",
    "\n",
    "#### ``>`` redirect (overwrite)\n",
    "\n",
    "We can use the ``>`` operator to **redirect** the output from a command to a file. This will overwrite the contents of the file. The syntax is as follows:\n",
    "\n",
    "```bash\n",
    "some_command > some_file\n",
    "```\n",
    "\n",
    "So if I want to list all the files in my home directory and store the output in a file called ``home_directory.txt`` in my current directory, I would do the following:\n",
    "\n",
    "```bash\n",
    "ls -a ~ > home_directory.txt\n",
    "```\n",
    "\n",
    "#### ``>>`` redirect (append)\n",
    "\n",
    "We can use the ``>>`` operator to **redirect** the output from a command to a file, appending the contents to an exiting file.\n",
    "\n",
    "To illustrate this, I am going to use the [``cat``](https://goo.gl/gTmwub) command to print out the contents of the files we create."
   ]
  },
  {
   "cell_type": "code",
   "execution_count": null,
   "metadata": {
    "collapsed": true
   },
   "outputs": [],
   "source": [
    "%%bash\n",
    "touch home_directory.txt\n",
    "cat home_directory.txt"
   ]
  },
  {
   "cell_type": "markdown",
   "metadata": {},
   "source": [
    "#### There should be no output from the cell above"
   ]
  },
  {
   "cell_type": "code",
   "execution_count": null,
   "metadata": {
    "collapsed": true
   },
   "outputs": [],
   "source": [
    "%%bash\n",
    "ls -a ~ > home_directory.txt\n",
    "cat home_directory.txt"
   ]
  },
  {
   "cell_type": "markdown",
   "metadata": {},
   "source": [
    "#### We should see a list of files and directories\n",
    "\n",
    "We should see a list of directory and file names, including names that start with a period (``.``), so called dot-files. Dot-files have special meaning in Unix/Linux: they are hidden files that are not normally shown (remember the ``-a`` option for ``ls`` means list **all** the files.\n",
    "\n",
    "If we do a plain ``ls`` command, we won't see these files."
   ]
  },
  {
   "cell_type": "code",
   "execution_count": null,
   "metadata": {
    "collapsed": true
   },
   "outputs": [],
   "source": [
    "%%bash\n",
    "ls ~ >> home_directory.txt\n",
    "cat home_directory.txt"
   ]
  },
  {
   "cell_type": "markdown",
   "metadata": {},
   "source": [
    "#### The output from the previous cell should be a list of all the files with the non-hidden files repeated at the end\n",
    "\n",
    "Because we used the ``>>`` operator we appended the list of non-hidden files to our original list of all files."
   ]
  },
  {
   "cell_type": "markdown",
   "metadata": {},
   "source": [
    "## Moving and Copying Files and Directories\n",
    "\n",
    "\n",
    "### ``mv``\n",
    "\n",
    "``mv`` stands for **m**o**v**e. We can use ``mv`` to move a file or directory from one location to another. The syntax is:\n",
    "\n",
    "```bash\n",
    "mv source destination\n",
    "```\n",
    "\n",
    "Here is an example:\n",
    "\n",
    "```bash\n",
    "mv home_directory.txt ~/home_files.txt\n",
    "```\n",
    "\n",
    "This moves ``home_directory.txt`` to my home directory and renames it ``home_files.txt``.\n",
    "\n",
    "If I don't want to rename the file, I can just provide the destination directory:\n",
    "\n",
    "```bash\n",
    "mv home_directory.txt ~/\n",
    "```\n",
    "\n",
    "I can use ``mv`` to **rename** a file by moving it to a new file name in the same directory:\n",
    "\n",
    "```bash\n",
    "mv home_directory.txt my_home_files.txt\n",
    "```\n",
    "\n",
    "\n"
   ]
  },
  {
   "cell_type": "markdown",
   "metadata": {},
   "source": [
    "## Exercise\n",
    "\n",
    "In our ``OurbreakDetection`` directory we created a directory named ``Sales``. This is not a very specific name. \n",
    "Use ``mv`` to rename the ``Sales`` to ``DrugSales``."
   ]
  },
  {
   "cell_type": "code",
   "execution_count": null,
   "metadata": {
    "collapsed": true
   },
   "outputs": [],
   "source": [
    "navigating_quizzes.mv_quiz()"
   ]
  },
  {
   "cell_type": "markdown",
   "metadata": {},
   "source": [
    "### ``cp``\n",
    "\n",
    "``cp`` stands for **c**o**p**y a file. The syntax is similar to the syntax for ``mv``.```\n",
    "\n",
    "```bash\n",
    "cp source_file dest_file\n",
    "```\n",
    "\n",
    "I can recursively copy a directory by using the ``-r`` option.\n",
    "\n",
    "```bash\n",
    "cp -r directory1 new_directory\n",
    "```\n"
   ]
  },
  {
   "cell_type": "markdown",
   "metadata": {
    "collapsed": true
   },
   "source": [
    "## Exercise\n",
    "\n",
    "Make a backup of the ``OutbreakDetection`` in your home directory named ``OutbreakDetectionBackup``."
   ]
  },
  {
   "cell_type": "code",
   "execution_count": null,
   "metadata": {
    "collapsed": true
   },
   "outputs": [],
   "source": [
    "navigating_quizzes.cp_quiz()"
   ]
  },
  {
   "cell_type": "markdown",
   "metadata": {},
   "source": [
    "## Exercise\n",
    "\n",
    "In ``/home/jovyan/DATA/Misc`` there is a file name ``obits.txt``. Use the ``mv`` command to move the ``obits.txt`` file to the ``OutbreakDetection/Obituaries`` directory."
   ]
  },
  {
   "cell_type": "code",
   "execution_count": null,
   "metadata": {
    "collapsed": true
   },
   "outputs": [],
   "source": [
    "%%bash\n",
    "# Write the correct command below\n"
   ]
  },
  {
   "cell_type": "markdown",
   "metadata": {
    "collapsed": true
   },
   "source": [
    "<a rel=\"license\" href=\"http://creativecommons.org/licenses/by-nc-sa/4.0/\"><img alt=\"Creative Commons License\" style=\"border-width:0\" src=\"https://i.creativecommons.org/l/by-nc-sa/4.0/88x31.png\" /></a><br /><span xmlns:dct=\"http://purl.org/dc/terms/\" property=\"dct:title\">University of Uah Data Science for Health</span> by <span xmlns:cc=\"http://creativecommons.org/ns#\" property=\"cc:attributionName\">Eric Bogenschutz, Thomas Sasani, Brian E. Chapman</span> is licensed under a <a rel=\"license\" href=\"http://creativecommons.org/licenses/by-nc-sa/4.0/\">Creative Commons Attribution-NonCommercial-ShareAlike 4.0 International License</a>."
   ]
  },
  {
   "cell_type": "code",
   "execution_count": null,
   "metadata": {
    "collapsed": true
   },
   "outputs": [],
   "source": []
  }
 ],
 "metadata": {
  "kernelspec": {
   "display_name": "Python 3",
   "language": "python",
   "name": "python3"
  },
  "language_info": {
   "codemirror_mode": {
    "name": "ipython",
    "version": 3
   },
   "file_extension": ".py",
   "mimetype": "text/x-python",
   "name": "python",
   "nbconvert_exporter": "python",
   "pygments_lexer": "ipython3",
   "version": "3.5.2"
  },
  "widgets": {
   "state": {},
   "version": "1.1.2"
  }
 },
 "nbformat": 4,
 "nbformat_minor": 1
}

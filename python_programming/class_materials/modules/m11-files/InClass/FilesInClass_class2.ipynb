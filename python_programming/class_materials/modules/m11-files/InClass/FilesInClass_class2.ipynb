{
 "cells": [
  {
   "cell_type": "markdown",
   "metadata": {},
   "source": [
    "# In-class Programming Exercises\n"
   ]
  },
  {
   "cell_type": "markdown",
   "metadata": {},
   "source": [
    "## Exercise:\n",
    "\n",
    "Read the carotid.txt file and parse it into a list of strings where each report is a single string.\n",
    "\n",
    "Look at the data and decide what questions we need to ask about each line in the file in order to parse the file into individual reports."
   ]
  },
  {
   "cell_type": "code",
   "execution_count": null,
   "metadata": {},
   "outputs": [],
   "source": [
    "lots_of_rpts=[]\n",
    "with open(os.path.join(\"..\",\"Resources\",\"carotid.txt\")) as f0:\n",
    "    for line in f0:\n",
    "        if line.startswith('BEGIN REPORT'):\n",
    "            report=''\n",
    "        elif line.startswith('END REPORT'):\n",
    "            lots_of_rpts.append(report)\n",
    "        else:\n",
    "            report=report+line\n",
    "for rpt in lots_of_rpts:\n",
    "    print(rpt)\n",
    "    print(\"*\"*42)\n",
    "print(len(lots_of_rpts))            \n",
    "            \n",
    "        "
   ]
  },
  {
   "cell_type": "code",
   "execution_count": null,
   "metadata": {},
   "outputs": [],
   "source": [
    "import os\n",
    "\n",
    "with open(os.path.join(\"..\",\"Resources\",\"carotid.txt\")) as f0:\n",
    "    data = f0.read()\n",
    "print(data[:2200])"
   ]
  },
  {
   "cell_type": "code",
   "execution_count": null,
   "metadata": {},
   "outputs": [],
   "source": []
  },
  {
   "cell_type": "markdown",
   "metadata": {},
   "source": [
    "## Exercise: \n",
    "\n",
    "Read in obits.txt and parse the contents into a dictionary keyed by the date of the obituary. The value corresponding to each key should be a list of named tuples with the named tuple having first name, last name, age, and date of death."
   ]
  },
  {
   "cell_type": "code",
   "execution_count": null,
   "metadata": {},
   "outputs": [],
   "source": [
    "import os\n",
    "\n",
    "with open(os.path.join(\"..\",\"Resources\",\"obits.txt\")) as f0:\n",
    "    data = f0.read()\n",
    "print(data[:2200])\n",
    "\n",
    "\n",
    "\n",
    "\n"
   ]
  },
  {
   "cell_type": "code",
   "execution_count": null,
   "metadata": {},
   "outputs": [],
   "source": [
    "from collections import defaultdict\n",
    "obits = defaultdict(list)\n",
    "with open(os.path.join(\"..\",\"Resources\",\"obits.txt\")) as f0:\n",
    "    for line in f0:\n",
    "        if line[0] in '0123456789':\n",
    "            key = line.strip()\n",
    "        else:\n",
    "            person = line.split(',')\n",
    "            try:\n",
    "                obits[key].append((person[0],person[1],person[2],person[4].strip()))\n",
    "            except IndexError:\n",
    "                pass\n",
    "            "
   ]
  },
  {
   "cell_type": "code",
   "execution_count": null,
   "metadata": {},
   "outputs": [],
   "source": [
    "for date,_obits in obits.items():\n",
    "    print(date)\n",
    "    for o in _obits:\n",
    "        print(\"\\t\",\"%s %s, %s; %s\"%(o[1],o[0], o[2], o[3]))"
   ]
  },
  {
   "cell_type": "code",
   "execution_count": null,
   "metadata": {},
   "outputs": [],
   "source": [
    "%debug"
   ]
  },
  {
   "cell_type": "code",
   "execution_count": null,
   "metadata": {},
   "outputs": [],
   "source": [
    "'1' in '0123456789'"
   ]
  },
  {
   "cell_type": "markdown",
   "metadata": {},
   "source": [
    "## Exercise\n",
    "### Read in and parse the [FASTA file](https://en.wikipedia.org/wiki/FASTA_format) ``ex_ref.fasta``\n",
    "\n",
    "The result should be a dictionary keyed by the sequence id and the value being the sequence as a string."
   ]
  },
  {
   "cell_type": "code",
   "execution_count": null,
   "metadata": {},
   "outputs": [],
   "source": [
    "with open(os.path.join(\"..\",\"Resources\",\"ex_ref2.fasta\")) as f0:\n",
    "    data = f0.read()\n",
    "print(data[:2200])"
   ]
  },
  {
   "cell_type": "code",
   "execution_count": null,
   "metadata": {},
   "outputs": [],
   "source": [
    "#dictionary key = sequence id\n",
    "#value = sequence as string\n",
    "\n",
    "seqs = {}\n",
    "\n",
    "with open(os.path.join(\"..\",\"Resources\",\"ex_ref2.fasta\")) as f0:\n",
    "    for line in f0:\n",
    "        if line.startswith(\">\"):\n",
    "            try:\n",
    "                seqs[key] = seq\n",
    "            except:\n",
    "                pass\n",
    "            key = line[1:].strip()\n",
    "            seq = \"\"\n",
    "        else:\n",
    "            seq = seq+line.strip()\n",
    "            \n",
    "seqs"
   ]
  },
  {
   "cell_type": "code",
   "execution_count": null,
   "metadata": {},
   "outputs": [],
   "source": []
  }
 ],
 "metadata": {
  "anaconda-cloud": {},
  "kernelspec": {
   "display_name": "Python 3",
   "language": "python",
   "name": "python3"
  },
  "language_info": {
   "codemirror_mode": {
    "name": "ipython",
    "version": 3
   },
   "file_extension": ".py",
   "mimetype": "text/x-python",
   "name": "python",
   "nbconvert_exporter": "python",
   "pygments_lexer": "ipython3",
   "version": "3.5.2"
  }
 },
 "nbformat": 4,
 "nbformat_minor": 1
}

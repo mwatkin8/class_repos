{
 "cells": [
  {
   "cell_type": "markdown",
   "metadata": {},
   "source": [
    "# In-class Programming Exercises\n"
   ]
  },
  {
   "cell_type": "markdown",
   "metadata": {},
   "source": [
    "## Exercise:\n",
    "\n",
    "Read the carotid.txt file and parse it into a list of strings where each report is a single string.\n",
    "\n",
    "Look at the data and decide what questions we need to ask about each line in the file in order to parse the file into individual reports."
   ]
  },
  {
   "cell_type": "code",
   "execution_count": null,
   "metadata": {},
   "outputs": [],
   "source": [
    "import os\n",
    "\n",
    "with open(os.path.join(\"..\",\"Resources\",\"carotid.txt\")) as f0:\n",
    "    data = f0.read()\n",
    "print(data[:2200])"
   ]
  },
  {
   "cell_type": "markdown",
   "metadata": {},
   "source": [
    "## Exercise: \n",
    "\n",
    "Read in obits.txt and parse the contents into a dictionary keyed by the date of the obituary. The value corresponding to each key should be a list of named tuples with the named tuple having first name, last name, age, and date of death."
   ]
  },
  {
   "cell_type": "code",
   "execution_count": null,
   "metadata": {},
   "outputs": [],
   "source": [
    "import os\n",
    "\n",
    "with open(os.path.join(\"..\",\"Resources\",\"obits.txt\")) as f0:\n",
    "    data = f0.read()\n",
    "print(data[:2200])\n",
    "\n",
    "\n",
    "\n",
    "\n"
   ]
  },
  {
   "cell_type": "markdown",
   "metadata": {},
   "source": [
    "## Exercise\n",
    "### Read in and parse the [FASTA file](https://en.wikipedia.org/wiki/FASTA_format) ``ex_ref.fasta``\n",
    "\n",
    "The result should be a dictionary keyed by the sequence id and the value being the sequence as a string."
   ]
  },
  {
   "cell_type": "code",
   "execution_count": null,
   "metadata": {},
   "outputs": [],
   "source": [
    "with open(os.path.join(\"..\",\"Resources\",\"ex_ref.fasta\")) as f0:\n",
    "    data = f0.read()\n",
    "print(data[:2200])"
   ]
  },
  {
   "cell_type": "code",
   "execution_count": null,
   "metadata": {},
   "outputs": [],
   "source": []
  }
 ],
 "metadata": {
  "anaconda-cloud": {},
  "kernelspec": {
   "display_name": "Python 3",
   "language": "python",
   "name": "python3"
  },
  "language_info": {
   "codemirror_mode": {
    "name": "ipython",
    "version": 3
   },
   "file_extension": ".py",
   "mimetype": "text/x-python",
   "name": "python",
   "nbconvert_exporter": "python",
   "pygments_lexer": "ipython3",
   "version": "3.5.2"
  }
 },
 "nbformat": 4,
 "nbformat_minor": 1
}

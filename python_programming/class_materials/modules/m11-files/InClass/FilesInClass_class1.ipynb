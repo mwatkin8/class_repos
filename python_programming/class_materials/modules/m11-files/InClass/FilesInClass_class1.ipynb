{
 "cells": [
  {
   "cell_type": "markdown",
   "metadata": {},
   "source": [
    "# In-class Programming Exercises\n"
   ]
  },
  {
   "cell_type": "markdown",
   "metadata": {},
   "source": [
    "## Exercise:\n",
    "\n",
    "Read the carotid.txt file and parse it into a list of strings where each report is a single string.\n",
    "\n",
    "Look at the data and decide what questions we need to ask about each line in the file in order to parse the file into individual reports."
   ]
  },
  {
   "cell_type": "code",
   "execution_count": null,
   "metadata": {},
   "outputs": [],
   "source": [
    "import os\n",
    "\n",
    "with open(os.path.join(\"..\",\"Resources\",\"carotid.txt\")) as f0:\n",
    "    data = f0.read()\n",
    "print(data[:2200])"
   ]
  },
  {
   "cell_type": "code",
   "execution_count": null,
   "metadata": {},
   "outputs": [],
   "source": [
    "with open(os.path.join(\"..\",\"Resources\",\"carotid.txt\")) as f0:\n",
    "    reports = []\n",
    "    for line in f0:\n",
    "        if line.startswith(\"BEGIN REPORT\"):\n",
    "            report = \"\"\n",
    "        elif line.startswith(\"END REPORT\"):\n",
    "            reports.append(report)\n",
    "            report = \"\"\n",
    "        else:\n",
    "            report += line\n",
    "        \n",
    "for report in reports:\n",
    "    print(report)\n",
    "    print(\"*\"*42)"
   ]
  },
  {
   "cell_type": "code",
   "execution_count": null,
   "metadata": {},
   "outputs": [],
   "source": [
    "import os\n",
    "with open(os.path.join(\"..\",\"Resources\",\"carotid.txt\")) as f0:\n",
    "    data = f0.readlines()\n",
    "\n",
    "reports = list()\n",
    "report = ''\n",
    "for line in data:\n",
    "    if line.startswith('BEGIN REPORT'):continue\n",
    "    elif line.startswith('END REPORT'):\n",
    "        reports.append(report)\n",
    "        report = ''\n",
    "    else:\n",
    "        report = report + line\n",
    "        \n",
    "        \n",
    "print(data[:2200])"
   ]
  },
  {
   "cell_type": "markdown",
   "metadata": {},
   "source": [
    "## Exercise: \n",
    "\n",
    "Read in obits.txt and parse the contents into a dictionary keyed by the date of the obituary. The value corresponding to each key should be a list of named tuples with the named tuple having first name, last name, age, and date of death."
   ]
  },
  {
   "cell_type": "code",
   "execution_count": null,
   "metadata": {},
   "outputs": [],
   "source": [
    "from collections import defaultdict\n",
    "with open(os.path.join(\"..\",\"Resources\",\"obits.txt\")) as f0:\n",
    "    obits = defaultdict(list)\n",
    "    for line in f0:\n",
    "        if line.startswith(\"\\n\") :\n",
    "            pass\n",
    "        elif line[0] in \"0123456789\":\n",
    "            key = line\n",
    "        else:\n",
    "            line = line.split(\",\")\n",
    "            try:\n",
    "                obits[key].append((line[0], line[1], line[2], line[4]))\n",
    "            except:\n",
    "                pass\n",
    "        \n",
    "for date, obit_list in obits.items():\n",
    "    print(date)\n",
    "    for o in obit_list:\n",
    "        print(\"\\t\",o)\n"
   ]
  },
  {
   "cell_type": "code",
   "execution_count": null,
   "metadata": {},
   "outputs": [],
   "source": [
    "%debug"
   ]
  },
  {
   "cell_type": "code",
   "execution_count": null,
   "metadata": {},
   "outputs": [],
   "source": [
    "import os\n",
    "\n",
    "with open(os.path.join(\"..\",\"Resources\",\"obits.txt\")) as f0:\n",
    "    data = f0.read()\n",
    "print(data[:2200])\n",
    "\n",
    "\n",
    "\n",
    "\n"
   ]
  },
  {
   "cell_type": "markdown",
   "metadata": {},
   "source": [
    "## Exercise\n",
    "### Read in and parse the [FASTA file](https://en.wikipedia.org/wiki/FASTA_format) ``ex_ref.fasta``\n",
    "\n",
    "The result should be a dictionary keyed by the sequence id and the value being the sequence as a string."
   ]
  },
  {
   "cell_type": "code",
   "execution_count": null,
   "metadata": {},
   "outputs": [],
   "source": [
    "with open(os.path.join(\"..\",\"Resources\",\"ex_ref2.fasta\")) as f0:\n",
    "    data = f0.read()\n",
    "print(data[:2200])"
   ]
  },
  {
   "cell_type": "code",
   "execution_count": null,
   "metadata": {},
   "outputs": [],
   "source": [
    "with open(os.path.join(\"..\",\"Resources\",\"ex_ref2.fasta\")) as f0:\n",
    "    sequences = {}\n",
    "    for line in f0:\n",
    "        if line.startswith(\">\"):\n",
    "            try:\n",
    "                sequences[key]=sequence\n",
    "            except NameError:\n",
    "                pass\n",
    "            key = line[1:].strip()\n",
    "            sequence=\"\"\n",
    "\n",
    "        else:\n",
    "            sequence += line.strip()\n",
    "        \n",
    "for id, seq in sequences.items():\n",
    "    print(id)\n",
    "    print(seq)\n",
    "    print(\"*\"*42)"
   ]
  },
  {
   "cell_type": "code",
   "execution_count": null,
   "metadata": {},
   "outputs": [],
   "source": [
    "key"
   ]
  },
  {
   "cell_type": "code",
   "execution_count": null,
   "metadata": {},
   "outputs": [],
   "source": [
    "f0 = open(os.path.join(\"..\",\"Resources\",\"ex_ref2.fasta\"))\n"
   ]
  },
  {
   "cell_type": "code",
   "execution_count": null,
   "metadata": {},
   "outputs": [],
   "source": [
    "line = f0.readline()"
   ]
  },
  {
   "cell_type": "code",
   "execution_count": null,
   "metadata": {},
   "outputs": [],
   "source": [
    "line"
   ]
  },
  {
   "cell_type": "code",
   "execution_count": null,
   "metadata": {},
   "outputs": [],
   "source": [
    "key = line[1:].strip()\n",
    "key"
   ]
  },
  {
   "cell_type": "code",
   "execution_count": null,
   "metadata": {},
   "outputs": [],
   "source": []
  }
 ],
 "metadata": {
  "anaconda-cloud": {},
  "kernelspec": {
   "display_name": "Python 3",
   "language": "python",
   "name": "python3"
  },
  "language_info": {
   "codemirror_mode": {
    "name": "ipython",
    "version": 3
   },
   "file_extension": ".py",
   "mimetype": "text/x-python",
   "name": "python",
   "nbconvert_exporter": "python",
   "pygments_lexer": "ipython3",
   "version": "3.5.2"
  }
 },
 "nbformat": 4,
 "nbformat_minor": 1
}

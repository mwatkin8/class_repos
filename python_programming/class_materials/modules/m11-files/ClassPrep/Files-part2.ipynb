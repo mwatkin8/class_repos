{
 "cells": [
  {
   "cell_type": "code",
   "execution_count": null,
   "metadata": {},
   "outputs": [],
   "source": [
    "from IPython.display import YouTubeVideo\n",
    "\n",
    "YouTubeVideo(\"pcGz2zmA-vU\", height=600)"
   ]
  },
  {
   "cell_type": "markdown",
   "metadata": {},
   "source": [
    "# Files: Over the Web and Common Formats"
   ]
  },
  {
   "cell_type": "code",
   "execution_count": null,
   "metadata": {
    "internals": {},
    "slideshow": {
     "slide_type": "skip"
    }
   },
   "outputs": [],
   "source": [
    "import os\n",
    "\n"
   ]
  },
  {
   "cell_type": "code",
   "execution_count": null,
   "metadata": {
    "internals": {
     "slide_helper": "subslide_end"
    },
    "slide_helper": "slide_end",
    "slideshow": {
     "slide_type": "skip"
    }
   },
   "outputs": [],
   "source": [
    "DATADIR = os.path.join(os.path.expanduser(\"~\"),\"DATA\")\n",
    "os.path.exists(DATADIR)"
   ]
  },
  {
   "cell_type": "markdown",
   "metadata": {
    "internals": {
     "frag_helper": "fragment_end",
     "frag_number": 19,
     "slide_helper": "subslide_end",
     "slide_type": "subslide"
    },
    "slide_helper": "subslide_end",
    "slideshow": {
     "slide_type": "slide"
    }
   },
   "source": [
    "## Reading over the Web\n",
    "\n",
    "### Big changes from Python 2.x\n",
    "\n",
    "* **[urllib](https://docs.python.org/3/library/urllib.html)** \"urllib is a package that collects several modules for working with URLs\"\n",
    "* **[urllib.request]()** module\n",
    "\n",
    "### [See this HOWTO](https://docs.python.org/3/howto/urllib2.html)"
   ]
  },
  {
   "cell_type": "markdown",
   "metadata": {},
   "source": [
    "### Demonstration\n",
    "#### Reading the `www.python.org` web page\n",
    "\n",
    "* `response` acts similar to a standard file object\n",
    "* `display` and `HTML` are IPython functions that helps us display what we just read\n",
    "```Python\n",
    "import urllib.request\n",
    "import IPython.display\n",
    "from IPython.display import HTML, display\n",
    "with urllib.request.urlopen(\"http://www.python.org\") as response:\n",
    "    pythonTxt = response.read().decode('utf-8')\n",
    "display(HTML(pythonTxt))\n",
    "```"
   ]
  },
  {
   "cell_type": "code",
   "execution_count": null,
   "metadata": {
    "internals": {
     "frag_helper": "fragment_end",
     "frag_number": 19,
     "slide_helper": "subslide_end",
     "slide_type": "subslide"
    },
    "slide_helper": "subslide_end",
    "slideshow": {
     "slide_type": "subslide"
    }
   },
   "outputs": [],
   "source": [
    "import urllib.request\n",
    "import IPython.display\n",
    "from IPython.display import HTML, display\n",
    "with urllib.request.urlopen(\"http://www.python.org\") as response:\n",
    "    pythonTxt = response.read().decode('utf-8')\n",
    "display(HTML(pythonTxt))"
   ]
  },
  {
   "cell_type": "markdown",
   "metadata": {},
   "source": [
    "### Demonstration\n",
    "#### Reading a csv file from GitHub\n",
    "\n",
    "* [`StringIO`](https://docs.python.org/3/library/io.html#io.StringIO) Lets us treat a string like a file\n",
    "* We first read the webdata into a string `f0.read().decode()\n",
    "* This string is then converted into a file-like object with `StringIO`\n",
    "* This file-like ojbect is then passed to the csv reader.\n",
    "\n",
    "```Python\n",
    "kb = \"https://raw.githubusercontent.com/chapmanbe/pyConTextNLP/master/KB/lexical_kb_04292013.tsv\"\n",
    "from io import StringIO\n",
    "with urllib.request.urlopen(kb) as f0:\n",
    "    data = list(csv.reader(StringIO(f0.read().decode()), delimiter=\"\\t\" ))\n",
    "print(data)\n",
    "```"
   ]
  },
  {
   "cell_type": "code",
   "execution_count": null,
   "metadata": {},
   "outputs": [],
   "source": [
    "import csv\n",
    "kb = \"https://raw.githubusercontent.com/chapmanbe/pyConTextNLP/master/KB/lexical_kb_04292013.tsv\"\n",
    "from io import StringIO\n",
    "with urllib.request.urlopen(kb) as f0:\n",
    "    data = list(csv.reader(StringIO(f0.read().decode()), delimiter=\"\\t\" ))\n",
    "for d in data:\n",
    "    print(d)"
   ]
  },
  {
   "cell_type": "markdown",
   "metadata": {
    "internals": {
     "frag_helper": "fragment_end",
     "frag_number": 19,
     "slide_helper": "subslide_end",
     "slide_type": "subslide"
    },
    "slide_helper": "subslide_end",
    "slideshow": {
     "slide_type": "slide"
    }
   },
   "source": [
    "# Reading compressed files\n",
    "* gzip\n",
    "    * Allows me to open a compressed file as if it were a normal file\n",
    "    * Read and write the same as the regular **open()** command\n"
   ]
  },
  {
   "cell_type": "markdown",
   "metadata": {
    "internals": {
     "frag_helper": "fragment_end",
     "frag_number": 19,
     "slide_helper": "subslide_end",
     "slide_type": "subslide"
    },
    "slide_helper": "slide_end",
    "slideshow": {
     "slide_type": "slide"
    }
   },
   "source": [
    "## Serialization\n",
    "* Tedious to convert everything to a string\n",
    "* See if Python can help you\n",
    "* **Pickle**\n",
    "    * Python specific\n",
    "    * Allows for arbitrarily complex Python structures\n",
    "        * Some limits as to what can be pickled\n",
    "    * Insecure\n",
    "* **json** (JavaScript Object Notation)\n",
    "    * Common data exchange format\n",
    "    * More limited in what can be serialized\n",
    "    * **json.dumps()** serialize to a string\n",
    "    * **json.dump()** serialize to a file\n",
    "    * **json.load()** deserialize from a file"
   ]
  },
  {
   "cell_type": "markdown",
   "metadata": {},
   "source": [
    "## Example: Pickle"
   ]
  },
  {
   "cell_type": "code",
   "execution_count": null,
   "metadata": {
    "internals": {
     "frag_helper": "fragment_end",
     "frag_number": 19,
     "slide_helper": "subslide_end",
     "slide_type": "subslide"
    },
    "slide_helper": "slide_end",
    "slideshow": {
     "slide_type": "subslide"
    }
   },
   "outputs": [],
   "source": [
    "import gzip\n",
    "import pickle\n",
    "with gzip.open(\"pickle_demo.pickle.gz\",\"wb\") as fo:\n",
    "    pickle.dump((data,{\"a\":1,\"b\":2}),fo)\n"
   ]
  },
  {
   "cell_type": "code",
   "execution_count": null,
   "metadata": {},
   "outputs": [],
   "source": [
    "with gzip.open(\"pickle_demo.pickle.gz\",\"rb\") as fo:\n",
    "    data1,dict1 = pickle.load(fo)\n",
    "print(dict1)\n",
    "print(data1)\n",
    "    "
   ]
  },
  {
   "cell_type": "markdown",
   "metadata": {},
   "source": [
    "## Example: JSON"
   ]
  },
  {
   "cell_type": "code",
   "execution_count": null,
   "metadata": {},
   "outputs": [],
   "source": [
    "import json\n",
    "with open(\"json_demo.json\",\"w\") as fo:\n",
    "    json.dump((dict1,data1),fo)\n",
    "    "
   ]
  },
  {
   "cell_type": "code",
   "execution_count": null,
   "metadata": {},
   "outputs": [],
   "source": [
    "with open(\"json_demo.json\",\"r\") as fo:\n",
    "    txt2 = fo.read()\n",
    "txt2\n"
   ]
  },
  {
   "cell_type": "code",
   "execution_count": null,
   "metadata": {},
   "outputs": [],
   "source": [
    "with open(\"json_demo.json\",\"r\") as fo:\n",
    "    data1,dict1 = json.load(fo)\n",
    "print(data1)"
   ]
  },
  {
   "cell_type": "markdown",
   "metadata": {
    "internals": {
     "frag_helper": "fragment_end",
     "frag_number": 19,
     "slide_helper": "subslide_end",
     "slide_type": "subslide"
    },
    "slide_helper": "subslide_end",
    "slideshow": {
     "slide_type": "slide"
    }
   },
   "source": [
    "## Reading/Writing Images\n",
    "* [PIL/Pillow](https://python-pillow.org/)\n",
    "    * pip install Image\n",
    "* [SimpleITK](http://www.simpleitk.org/) (N-dimensional images)\n",
    "    * easy_install SimpleITK\n",
    "    * Big package for dealing with N-dimensional images\n",
    "    * Includes image segmentation\n",
    "* scipy\n",
    "    * pip install scipy\n",
    "* [scikit-image](http://scikit-image.org/)\n",
    "### [EXIF](https://en.wikipedia.org/wiki/Exif)\n",
    "\n",
    "JPEG and TIFF images follow the EXIF format. We can use EXIF readers to get the header information about the image."
   ]
  },
  {
   "cell_type": "markdown",
   "metadata": {},
   "source": [
    "## Example\n",
    "### Reading in image with scipy and displaying with matplotlib"
   ]
  },
  {
   "cell_type": "code",
   "execution_count": null,
   "metadata": {
    "internals": {
     "frag_helper": "fragment_end",
     "frag_number": 19,
     "slide_type": "subslide"
    },
    "slideshow": {
     "slide_type": "subslide"
    }
   },
   "outputs": [],
   "source": [
    "import matplotlib.pyplot as pp\n",
    "from scipy.misc import imread, imresize, imsave\n",
    "img = imread(os.path.join(DATADIR,\"Images\",\"CCTSPhi_000061_mipz.png\"))\n",
    "#pp.imshow(img)\n",
    "#pp.show()\n",
    "img2 = imresize(img,0.25)\n",
    "print (img.shape)\n",
    "pp.imshow(img2)\n",
    "pp.show()"
   ]
  },
  {
   "cell_type": "markdown",
   "metadata": {},
   "source": [
    "## Example\n",
    "### Reading and Displaying images with scikit-image"
   ]
  },
  {
   "cell_type": "code",
   "execution_count": null,
   "metadata": {
    "internals": {
     "frag_helper": "fragment_end",
     "frag_number": 19,
     "slide_helper": "subslide_end"
    },
    "slide_helper": "slide_end",
    "slideshow": {
     "slide_type": "-"
    }
   },
   "outputs": [],
   "source": [
    "import skimage.io as io\n",
    "\n",
    "\n",
    "img = io.imread(\"dog.jpg\")\n",
    "io.imshow(img)"
   ]
  },
  {
   "cell_type": "markdown",
   "metadata": {},
   "source": [
    "#### We can also save images"
   ]
  },
  {
   "cell_type": "code",
   "execution_count": null,
   "metadata": {},
   "outputs": [],
   "source": [
    "io.imsave(\"dog2.png\", img)"
   ]
  },
  {
   "cell_type": "code",
   "execution_count": null,
   "metadata": {},
   "outputs": [],
   "source": [
    "!ls -ltra\n"
   ]
  },
  {
   "cell_type": "code",
   "execution_count": null,
   "metadata": {},
   "outputs": [],
   "source": [
    "!pip install exifread"
   ]
  },
  {
   "cell_type": "code",
   "execution_count": null,
   "metadata": {},
   "outputs": [],
   "source": [
    "import exifread\n",
    "with open(\"dog.jpg\",'rb') as f0:\n",
    "    tags = exifread.process_file(f0)\n",
    "tags"
   ]
  },
  {
   "cell_type": "markdown",
   "metadata": {},
   "source": [
    "## Sound Files"
   ]
  },
  {
   "cell_type": "code",
   "execution_count": null,
   "metadata": {},
   "outputs": [],
   "source": [
    "from IPython.display import Audio\n",
    "import scipy.io.wavfile as wavfile"
   ]
  },
  {
   "cell_type": "markdown",
   "metadata": {},
   "source": [
    "### Wave file is characterized by \n",
    "* ``rate``: integer Sampling rate in Hz\n",
    "* ``data``: numpy array of time series"
   ]
  },
  {
   "cell_type": "code",
   "execution_count": null,
   "metadata": {},
   "outputs": [],
   "source": [
    "rate,data = wavfile.read(os.path.join(DATADIR,\"Numerics\", \"Audio\",\"rub.wav\"))\n"
   ]
  },
  {
   "cell_type": "code",
   "execution_count": null,
   "metadata": {},
   "outputs": [],
   "source": [
    "Audio(data=data,rate=2*rate)"
   ]
  },
  {
   "cell_type": "code",
   "execution_count": null,
   "metadata": {},
   "outputs": [],
   "source": [
    "pp.plot(data)\n"
   ]
  },
  {
   "cell_type": "markdown",
   "metadata": {},
   "source": [
    "## [DICOM](https://en.wikipedia.org/wiki/DICOM)\n",
    "\n",
    "The standard image format for medical images is DICOM. DICOM image headers contain medical specific "
   ]
  },
  {
   "cell_type": "code",
   "execution_count": null,
   "metadata": {},
   "outputs": [],
   "source": [
    "import dicom"
   ]
  },
  {
   "cell_type": "code",
   "execution_count": null,
   "metadata": {},
   "outputs": [],
   "source": [
    "dcm = dicom.read_file(os.path.join(DATADIR, \"Images\", \"PE\", \"Ser_000006\", \"IM-0124-0097.dcm\"))"
   ]
  },
  {
   "cell_type": "code",
   "execution_count": null,
   "metadata": {},
   "outputs": [],
   "source": [
    "print(dcm)"
   ]
  },
  {
   "cell_type": "code",
   "execution_count": null,
   "metadata": {},
   "outputs": [],
   "source": [
    "\n",
    "io.imshow(dcm.pixel_array, cmap='gray')"
   ]
  },
  {
   "cell_type": "code",
   "execution_count": null,
   "metadata": {},
   "outputs": [],
   "source": []
  }
 ],
 "metadata": {
  "kernelspec": {
   "display_name": "Python 3",
   "language": "python",
   "name": "python3"
  },
  "language_info": {
   "codemirror_mode": {
    "name": "ipython",
    "version": 3
   },
   "file_extension": ".py",
   "mimetype": "text/x-python",
   "name": "python",
   "nbconvert_exporter": "python",
   "pygments_lexer": "ipython3",
   "version": "3.5.2"
  }
 },
 "nbformat": 4,
 "nbformat_minor": 1
}

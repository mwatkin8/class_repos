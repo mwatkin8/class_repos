{
 "cells": [
  {
   "cell_type": "markdown",
   "metadata": {},
   "source": [
    "# Read and Writing Text Files"
   ]
  },
  {
   "cell_type": "code",
   "execution_count": null,
   "metadata": {},
   "outputs": [],
   "source": [
    "from IPython.display import YouTubeVideo\n",
    "\n",
    "YouTubeVideo(\"5YVmUUrI04g\", height=600)"
   ]
  },
  {
   "cell_type": "code",
   "execution_count": null,
   "metadata": {
    "internals": {},
    "slideshow": {
     "slide_type": "skip"
    }
   },
   "outputs": [],
   "source": [
    "import os\n"
   ]
  },
  {
   "cell_type": "code",
   "execution_count": null,
   "metadata": {
    "internals": {
     "slide_helper": "subslide_end"
    },
    "slide_helper": "slide_end",
    "slideshow": {
     "slide_type": "skip"
    }
   },
   "outputs": [],
   "source": [
    "DATADIR = os.path.join(os.path.expanduser(\"~\"),\"DATA\",\"Misc\")\n",
    "os.path.exists(DATADIR)"
   ]
  },
  {
   "cell_type": "markdown",
   "metadata": {
    "internals": {
     "slide_helper": "subslide_end",
     "slide_type": "subslide"
    },
    "slide_helper": "subslide_end",
    "slideshow": {
     "slide_type": "slide"
    }
   },
   "source": [
    "# File Input/Output"
   ]
  },
  {
   "cell_type": "markdown",
   "metadata": {
    "internals": {
     "slide_helper": "subslide_end",
     "slide_type": "subslide"
    },
    "slide_helper": "subslide_end",
    "slideshow": {
     "slide_type": "subslide"
    }
   },
   "source": [
    "* Ultimately you need to be able to \n",
    "    * get something into your program from a \"file\" system\n",
    "    * get something out of your program into a file system\n",
    "* File Input/Output is very easy in Python\n",
    "    * First create a file object with the **[open()](http://docs.python.org/2/library/functions.html#open)** function:\n",
    "\t* **fileObject = open('./thisfile.txt','r')**\n",
    "        * First argument: what file to open\n",
    "        * Second argument: what mode to open the file with \n",
    "            * 'r'---read (default)\n",
    "\t\t\t* 'a'---append\n",
    "\t\t\t* 'w'---write\n",
    "\t\t\t* 'rb'---read binary, etc."
   ]
  },
  {
   "cell_type": "markdown",
   "metadata": {},
   "source": [
    "### Use `os` library to list contents of current directory"
   ]
  },
  {
   "cell_type": "code",
   "execution_count": null,
   "metadata": {},
   "outputs": [],
   "source": [
    "directoryFiles = os.listdir(os.getcwd())\n",
    "directoryFiles"
   ]
  },
  {
   "cell_type": "markdown",
   "metadata": {},
   "source": [
    "### Create a file object to write to"
   ]
  },
  {
   "cell_type": "code",
   "execution_count": null,
   "metadata": {
    "internals": {
     "slide_helper": "subslide_end",
     "slide_type": "subslide"
    },
    "slide_helper": "subslide_end",
    "slideshow": {
     "slide_type": "subslide"
    }
   },
   "outputs": [],
   "source": [
    "fileName = \"mytestFile4.txt\"\n",
    "file0 = open(fileName,\"w\")\n",
    "directoryFiles = os.listdir(os.getcwd())\n",
    "directoryFiles\n",
    "file0.close()\n",
    "print(directoryFiles)"
   ]
  },
  {
   "cell_type": "markdown",
   "metadata": {
    "internals": {
     "slide_helper": "subslide_end",
     "slide_type": "subslide"
    },
    "slide_helper": "subslide_end",
    "slideshow": {
     "slide_type": "subslide"
    }
   },
   "source": [
    "## How to use file objects\n",
    "* What do you do with the object once you've opened it?\n",
    "    * **read([NUMBYTES])**---read() takes as an optional argument the number of bytes you want to read from the file; the default is to read the entire file\n",
    "\t* **readline()**---read the next line \n",
    "        * *NOTE*: relies on correctly identifying linebreaks\n",
    "\t* **readlines()**---read all the lines into a list\n",
    "        * **readline()** and **readlines()** often fail for me.\n",
    "\t* **write()**---write a string to file\n",
    "\t* **writelines()** ---write an iterable object to file.\n",
    "    \n",
    "    * \"For reading lines from a file, you can loop over the file object.\"\n",
    "    "
   ]
  },
  {
   "cell_type": "markdown",
   "metadata": {
    "internals": {
     "slide_type": "subslide"
    },
    "slideshow": {
     "slide_type": "subslide"
    }
   },
   "source": [
    "## Example"
   ]
  },
  {
   "cell_type": "markdown",
   "metadata": {},
   "source": [
    "## Open a file and read the content\n",
    "### In Python 3.x all strings are unicode\n"
   ]
  },
  {
   "cell_type": "code",
   "execution_count": null,
   "metadata": {
    "internals": {
     "frag_number": 8
    },
    "slideshow": {
     "slide_type": "fragment"
    }
   },
   "outputs": [],
   "source": [
    "f = open(os.path.join(DATADIR,\"icd9-short.txt\"),\"r\")#\n",
    "data = f.read()\n",
    "print(len(data),type(data))\n",
    "print(data)\n",
    "f.close()"
   ]
  },
  {
   "cell_type": "markdown",
   "metadata": {},
   "source": [
    "### We  can specify encodings when we open the file"
   ]
  },
  {
   "cell_type": "code",
   "execution_count": null,
   "metadata": {
    "internals": {
     "frag_number": 8
    },
    "slideshow": {
     "slide_type": "fragment"
    }
   },
   "outputs": [],
   "source": [
    "f = open(os.path.join(DATADIR,\"icd9-short.txt\"),\"r\",encoding=\"ISO-8859-1\")\n",
    "data = f.read()\n",
    "print(len(data),type(data))\n",
    "print(data)\n"
   ]
  },
  {
   "cell_type": "markdown",
   "metadata": {},
   "source": [
    "## Now let's read in the data by lines"
   ]
  },
  {
   "cell_type": "code",
   "execution_count": null,
   "metadata": {
    "internals": {
     "frag_helper": "fragment_end",
     "frag_number": 9
    },
    "slideshow": {
     "slide_type": "fragment"
    }
   },
   "outputs": [],
   "source": [
    "lines = f.readlines()\n",
    "print(len(lines),type(lines))"
   ]
  },
  {
   "cell_type": "markdown",
   "metadata": {},
   "source": [
    "## What Happened?\n",
    "As we read data our file object(``f``) moves through the file. After we read all the data, ``f`` is sitting at the end of the file (that is how it knew to stop).\n",
    "\n",
    "### We can move our file object back and forth in the file with ``seek``"
   ]
  },
  {
   "cell_type": "code",
   "execution_count": null,
   "metadata": {
    "internals": {
     "frag_helper": "fragment_end",
     "frag_number": 10,
     "slide_helper": "subslide_end"
    },
    "slide_helper": "subslide_end",
    "slideshow": {
     "slide_type": "fragment"
    }
   },
   "outputs": [],
   "source": [
    "\n",
    "f.seek(0) # returns file object to beginning of file\n",
    "lines = f.readlines()\n",
    "print (type(lines))\n",
    "print (len(lines))\n",
    "#print lines\n",
    "\n",
    "\n"
   ]
  },
  {
   "cell_type": "markdown",
   "metadata": {
    "internals": {
     "frag_helper": "fragment_end",
     "frag_number": 12
    },
    "slideshow": {
     "slide_type": "fragment"
    }
   },
   "source": [
    "#### Sometimes Unix/Linux machines have a hard time recognizing line breaks from Windows"
   ]
  },
  {
   "cell_type": "code",
   "execution_count": null,
   "metadata": {
    "internals": {
     "frag_helper": "fragment_end",
     "frag_number": 13,
     "slide_helper": "subslide_end"
    },
    "slide_helper": "subslide_end",
    "slideshow": {
     "slide_type": "fragment"
    }
   },
   "outputs": [],
   "source": [
    "lines = lines[0].split(\"\\r\")\n",
    "print (len(lines))"
   ]
  },
  {
   "cell_type": "code",
   "execution_count": null,
   "metadata": {
    "internals": {
     "frag_helper": "fragment_end",
     "frag_number": 16,
     "slide_helper": "subslide_end"
    },
    "slide_helper": "subslide_end",
    "slideshow": {
     "slide_type": "fragment"
    }
   },
   "outputs": [],
   "source": [
    "f.seek(0)\n",
    "data = f.read()\n",
    "type(data)"
   ]
  },
  {
   "cell_type": "code",
   "execution_count": null,
   "metadata": {},
   "outputs": [],
   "source": [
    "f.close()"
   ]
  },
  {
   "cell_type": "markdown",
   "metadata": {
    "internals": {
     "frag_helper": "fragment_end",
     "frag_number": 16,
     "slide_type": "subslide"
    },
    "slideshow": {
     "slide_type": "subslide"
    }
   },
   "source": [
    "## Using the [**with**](https://docs.python.org/2/reference/compound_stmts.html#the-with-statement) statement"
   ]
  },
  {
   "cell_type": "markdown",
   "metadata": {
    "internals": {
     "frag_helper": "fragment_end",
     "frag_number": 18
    },
    "slideshow": {
     "slide_type": "fragment"
    }
   },
   "source": [
    "* With the **with** statement I can\n",
    "    * open a file\n",
    "    * iterate over it\n",
    "    * automatically close it when done"
   ]
  },
  {
   "cell_type": "code",
   "execution_count": null,
   "metadata": {
    "internals": {
     "frag_helper": "fragment_end",
     "frag_number": 19,
     "slide_helper": "subslide_end"
    },
    "slide_helper": "slide_end",
    "slideshow": {
     "slide_type": "fragment"
    }
   },
   "outputs": [],
   "source": [
    "with open(os.path.join(DATADIR,\"icd9-short.txt\"),\"r\") as f0:\n",
    "    read_data = f0.readlines()\n",
    "print (len(read_data))\n",
    "print (f0.closed)\n",
    "print(f.closed)"
   ]
  },
  {
   "cell_type": "markdown",
   "metadata": {
    "internals": {
     "frag_helper": "fragment_end",
     "frag_number": 19,
     "slide_helper": "subslide_end",
     "slide_type": "subslide"
    },
    "slide_helper": "subslide_end",
    "slideshow": {
     "slide_type": "slide"
    }
   },
   "source": [
    "## Python comes with a csv file format reader\n",
    "* There is a drop in replacement unicodecsv (pip install unicodecsv)\n",
    "\n",
    "#### Example: Read in icd9-short.txt. Keep line if it is in the top 100 diagnoses\n",
    "\n",
    "1. use the ``with open as `` syntax\n",
    "1. Read the first twenty lines as header information\n",
    "1. The third column indicates whether it is a top 100 diagnosis\n",
    "1. Just for show, we will use the [tabulate](https://pypi.python.org/pypi/tabulate) package to format our data into an HTML table and use the IPython display functionality to render the HTML"
   ]
  },
  {
   "cell_type": "code",
   "execution_count": null,
   "metadata": {},
   "outputs": [],
   "source": [
    "!pip install tabulate"
   ]
  },
  {
   "cell_type": "code",
   "execution_count": null,
   "metadata": {},
   "outputs": [],
   "source": [
    "from tabulate import tabulate\n",
    "from IPython.display import display, HTML"
   ]
  },
  {
   "cell_type": "code",
   "execution_count": null,
   "metadata": {},
   "outputs": [],
   "source": [
    "demo = [row.split(\"\\t\") for row in \"\"\"I. Infectious & Parasitic Diseases\t\t\t995.91\tSepsis\n",
    "I. Infectious & Parasitic Diseases\t\t\t038.9\t\"Septicemia, NOS\"\n",
    "I. Infectious & Parasitic Diseases\t\t\t005.0\tStaphylococcal food poisoning\n",
    "I. Infectious & Parasitic Diseases\t\tYes\t034.0\tStrep throat\n",
    "I. Infectious & Parasitic Diseases\t\t\t097.9\t\"Syphilis, unspec.\"\n",
    "I. Infectious & Parasitic Diseases\t\t\t131.9\t\"Trichomoniasis, unspec.\"\n",
    "I. Infectious & Parasitic Diseases\t\t\t011.90\t\"Tuberculosis, pulmonary, NOS\"\n",
    "I. Infectious & Parasitic Diseases\t\t\t099.9\t\"Venereal disease, unspec.\"\n",
    "I. Infectious & Parasitic Diseases\t\tYes\t079.99\t\"Viral infection, unspec.\"\n",
    "I. Infectious & Parasitic Diseases\t\t\t078.11\t\"Warts, condyloma\"\n",
    "I. Infectious & Parasitic Diseases\t\tYes\t078.10\t\"Warts, viral, unspec.\"\"\".split(\"\\n\")]\n",
    "\n",
    "display(HTML(tabulate(demo, tablefmt=\"html\")))"
   ]
  },
  {
   "cell_type": "code",
   "execution_count": null,
   "metadata": {},
   "outputs": [],
   "source": [
    "import csv\n",
    "data = []\n",
    "with open(os.path.join(DATADIR,\"icd9-short.txt\"),\"r\") as f:\n",
    "    reader = csv.reader( f, delimiter=\"\\t\" )\n",
    "    # read the header lines\n",
    "    # Example of list comprehension\n",
    "    \n",
    "    header = [next(reader) for i in range(20)]\n",
    "    for row in reader:\n",
    "        if row[2] == 'Yes':\n",
    "            data.append( row)\n",
    "#    data = [row for row in reader]\n",
    "print (len(data))\n",
    "display(HTML(tabulate([h for h in header if h], tablefmt=\"html\")))\n",
    "display(HTML(tabulate(data, tablefmt=\"html\")))\n",
    "data[:3]"
   ]
  },
  {
   "cell_type": "markdown",
   "metadata": {
    "internals": {
     "frag_helper": "fragment_end",
     "frag_number": 19,
     "slide_helper": "subslide_end",
     "slide_type": "subslide"
    },
    "slide_helper": "subslide_end",
    "slideshow": {
     "slide_type": "slide"
    }
   },
   "source": [
    "# Writing Data to Files\n",
    "* file objects write out *STRINGS*. \n",
    "* Thus any other object that I want to write to file must first be converted to a string\n",
    "* Note that **write()** does NOT add line breaks\n",
    "* Also **writelines()** (also does NOT add line breaks)\n"
   ]
  },
  {
   "cell_type": "code",
   "execution_count": null,
   "metadata": {
    "internals": {
     "frag_helper": "fragment_end",
     "frag_number": 19,
     "slide_helper": "subslide_end",
     "slide_type": "subslide"
    },
    "slide_helper": "slide_end",
    "slideshow": {
     "slide_type": "subslide"
    }
   },
   "outputs": [],
   "source": [
    "with open(\"myTestFile.txt\",\"w\") as fout:\n",
    "    fout.write(\"This is the first line in my file.\")\n",
    "    fout.write(\" This will also be on my first line of the file because I didn't add a linebreak\"+\"\\n\")\n",
    "\n",
    "    #fout.write(5)\n",
    "    fout.write(\"%d\\n\"%5)\n",
    "    fout.write(\"%s\\n\"%5)\n",
    "\n",
    "with open(\"myTestFile.txt\",\"r\") as f:\n",
    "    msg = f.read()\n",
    "print (msg)\n"
   ]
  },
  {
   "cell_type": "code",
   "execution_count": null,
   "metadata": {
    "internals": {
     "frag_helper": "fragment_end",
     "frag_number": 19,
     "slide_helper": "subslide_end",
     "slide_type": "subslide"
    },
    "slide_helper": "slide_end",
    "slideshow": {
     "slide_type": "subslide"
    }
   },
   "outputs": [],
   "source": [
    "f = open(\"top100-icd9.txt\",\"w\")\n",
    "for d in data:\n",
    "    f.write(\"\\t\".join(d)+\"\\n\")\n",
    "f.close()\n",
    "         "
   ]
  },
  {
   "cell_type": "code",
   "execution_count": null,
   "metadata": {},
   "outputs": [],
   "source": [
    "with open(\"top100-icd9.txt\") as f0:\n",
    "    read_top_100 = f0.readlines()\n",
    "print(len(read_top_100))"
   ]
  },
  {
   "cell_type": "code",
   "execution_count": null,
   "metadata": {},
   "outputs": [],
   "source": [
    "read_top_100"
   ]
  },
  {
   "cell_type": "code",
   "execution_count": null,
   "metadata": {},
   "outputs": [],
   "source": []
  }
 ],
 "metadata": {
  "kernelspec": {
   "display_name": "Python 3",
   "language": "python",
   "name": "python3"
  },
  "language_info": {
   "codemirror_mode": {
    "name": "ipython",
    "version": 3
   },
   "file_extension": ".py",
   "mimetype": "text/x-python",
   "name": "python",
   "nbconvert_exporter": "python",
   "pygments_lexer": "ipython3",
   "version": "3.5.2"
  }
 },
 "nbformat": 4,
 "nbformat_minor": 1
}

{
 "cells": [
  {
   "cell_type": "code",
   "execution_count": null,
   "metadata": {},
   "outputs": [],
   "source": [
    "from IPython.display import YouTubeVideo\n",
    "\n",
    "YouTubeVideo(\"TGp0sUrXROY\", width=600)"
   ]
  },
  {
   "cell_type": "markdown",
   "metadata": {},
   "source": [
    "# Files\n",
    "\n",
    "Reading and writing files is one of the most important skills for a programmer. Often we will be using a standard file format and we can use tools like Pandas to read in the file content and parse the content into appropriate Python data types. However, we will also need to be able to read a file in some arbitrary format and extract the relevant information from the file.\n",
    "\n",
    "To parse a file we will make use of most of the basic programming skills we have learned:\n",
    "\n",
    "* iteration (for example for loops)\n",
    "* if/elif/else (asking questions about the data)\n",
    "* Writing and calling functions\n",
    "\n",
    "In this module, we will explore the fundamental tools for reading and writing files as well as some Python tools for reading standard file formats, such as images.\n",
    "\n",
    "We will practice writing our own functions to read in and parse files.\n",
    "\n",
    "## Class Prep\n",
    "\n",
    "* [Files, part1](ClassPrep/Files-part1.ipynb)\n",
    "* [Files, part2](ClassPrep/Files-part2.ipynb)\n",
    "\n",
    "## Readings\n",
    "\n",
    "* *Think Python,* Chapter 14 \"Files\"\n",
    "\n",
    "## In Class\n",
    "\n",
    "* [Parsing Files](InClass/FilesInClass.ipynb)"
   ]
  },
  {
   "cell_type": "code",
   "execution_count": null,
   "metadata": {},
   "outputs": [],
   "source": []
  }
 ],
 "metadata": {
  "kernelspec": {
   "display_name": "Python 3",
   "language": "python",
   "name": "python3"
  },
  "language_info": {
   "codemirror_mode": {
    "name": "ipython",
    "version": 3
   },
   "file_extension": ".py",
   "mimetype": "text/x-python",
   "name": "python",
   "nbconvert_exporter": "python",
   "pygments_lexer": "ipython3",
   "version": "3.5.2"
  }
 },
 "nbformat": 4,
 "nbformat_minor": 2
}

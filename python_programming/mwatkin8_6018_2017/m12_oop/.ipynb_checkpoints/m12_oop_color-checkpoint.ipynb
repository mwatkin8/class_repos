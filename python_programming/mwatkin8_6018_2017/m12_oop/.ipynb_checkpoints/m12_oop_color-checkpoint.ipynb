{
 "cells": [
  {
   "cell_type": "markdown",
   "metadata": {
    "deletable": false,
    "editable": false,
    "nbgrader": {
     "checksum": "e929d5a45ed34958748e9dba7b973d5a",
     "grade": false,
     "grade_id": "cell-b361279a9de44e2f",
     "locked": true,
     "schema_version": 1,
     "solution": false
    }
   },
   "source": [
    "# Classes and Object Oriented Programming\n",
    "## Color"
   ]
  },
  {
   "cell_type": "code",
   "execution_count": 50,
   "metadata": {
    "collapsed": true,
    "deletable": false,
    "editable": false,
    "nbgrader": {
     "checksum": "8a5e55ab185cc770972a7af970ec1424",
     "grade": false,
     "grade_id": "cell-a3eea0c8ad173b13",
     "locked": true,
     "schema_version": 1,
     "solution": false
    }
   },
   "outputs": [],
   "source": [
    "from nose.tools import assert_equal, assert_true, assert_false, assert_raises, assert_almost_equal"
   ]
  },
  {
   "cell_type": "markdown",
   "metadata": {
    "deletable": false,
    "editable": false,
    "nbgrader": {
     "checksum": "83b169f015db3485d58d16235d6d2888",
     "grade": false,
     "grade_id": "cell-80d37fc90330b1d8",
     "locked": true,
     "schema_version": 1,
     "solution": false
    }
   },
   "source": [
    "**Problem 1 (10 points):** Implement `validate_alpha`. The function takes an argument, alpha, and returns alpha as a floating point number. If alpha is not between 0 and 1, a `ValueError` is raised.\n",
    "\n"
   ]
  },
  {
   "cell_type": "code",
   "execution_count": 51,
   "metadata": {
    "collapsed": true,
    "deletable": false,
    "nbgrader": {
     "checksum": "9b4b36d1856811d1ae71e9c04d40f483",
     "grade": false,
     "grade_id": "cell-60eb0cfb3c74494f",
     "locked": false,
     "schema_version": 1,
     "solution": true
    }
   },
   "outputs": [],
   "source": [
    "def validate_alpha(alpha):\n",
    "    # YOUR CODE HERE\n",
    "    alpha = float(alpha)\n",
    "    if alpha > 0 and alpha < 1:\n",
    "        return alpha\n",
    "    else:\n",
    "        raise ValueError"
   ]
  },
  {
   "cell_type": "code",
   "execution_count": 52,
   "metadata": {
    "collapsed": true,
    "deletable": false,
    "editable": false,
    "nbgrader": {
     "checksum": "722fa653472a097cb2e443762b8f2f0e",
     "grade": true,
     "grade_id": "cell-6363ecb34040617b",
     "locked": true,
     "points": 3,
     "schema_version": 1,
     "solution": false
    }
   },
   "outputs": [],
   "source": [
    "assert_equal(validate_alpha(\"0.15\"), 0.15)"
   ]
  },
  {
   "cell_type": "code",
   "execution_count": 53,
   "metadata": {
    "collapsed": true,
    "deletable": false,
    "editable": false,
    "nbgrader": {
     "checksum": "3697dd295270330b3724ef347b9a9183",
     "grade": true,
     "grade_id": "cell-d0598995b8b0768a",
     "locked": true,
     "points": 2,
     "schema_version": 1,
     "solution": false
    }
   },
   "outputs": [],
   "source": [
    "assert_equal(validate_alpha(0.15), 0.15)"
   ]
  },
  {
   "cell_type": "code",
   "execution_count": 54,
   "metadata": {
    "collapsed": true,
    "deletable": false,
    "editable": false,
    "nbgrader": {
     "checksum": "18abef3e900f59d9fdc5a1b79812c64f",
     "grade": true,
     "grade_id": "cell-a266fa5d6e4bcb82",
     "locked": true,
     "points": 2,
     "schema_version": 1,
     "solution": false
    }
   },
   "outputs": [],
   "source": [
    "assert_raises(TypeError, validate_alpha, [3.4])"
   ]
  },
  {
   "cell_type": "code",
   "execution_count": 55,
   "metadata": {
    "collapsed": true,
    "deletable": false,
    "editable": false,
    "nbgrader": {
     "checksum": "e4194954f6f40f0cb6fa8d906e6a7500",
     "grade": true,
     "grade_id": "cell-8ea717d8a41a2b72",
     "locked": true,
     "points": 3,
     "schema_version": 1,
     "solution": false
    }
   },
   "outputs": [],
   "source": [
    "assert_raises(ValueError, validate_alpha, 3.4)"
   ]
  },
  {
   "cell_type": "markdown",
   "metadata": {},
   "source": [
    "**Problem 2 (10 points):** Implement `validate_alpha`. The function takes an argument, alpha, and returns alpha as a floating point number. If alpha is not between 0 and 1, a `ValueError` is raised."
   ]
  },
  {
   "cell_type": "code",
   "execution_count": 56,
   "metadata": {
    "collapsed": true,
    "deletable": false,
    "nbgrader": {
     "checksum": "4a68c7ed2bbdbcfd847308dc5a9a47e1",
     "grade": false,
     "grade_id": "cell-521bbc4e5b44df30",
     "locked": false,
     "schema_version": 1,
     "solution": true
    }
   },
   "outputs": [],
   "source": [
    "def validate_color(color):    \n",
    "    # YOUR CODE HERE\n",
    "    color = int(color)\n",
    "    if color >= 0 and color <= 255:\n",
    "        return color\n",
    "    else:\n",
    "        raise ValueError"
   ]
  },
  {
   "cell_type": "code",
   "execution_count": 57,
   "metadata": {
    "collapsed": true,
    "deletable": false,
    "editable": false,
    "nbgrader": {
     "checksum": "86d9b6d16d0e559d96f7780e744f242f",
     "grade": true,
     "grade_id": "cell-ce5a0832c25a103a",
     "locked": true,
     "points": 2,
     "schema_version": 1,
     "solution": false
    }
   },
   "outputs": [],
   "source": [
    "assert_raises(TypeError, validate_color, [])"
   ]
  },
  {
   "cell_type": "code",
   "execution_count": 58,
   "metadata": {
    "collapsed": true,
    "deletable": false,
    "editable": false,
    "nbgrader": {
     "checksum": "5d880880b798ffb118b3d331af74042e",
     "grade": true,
     "grade_id": "cell-2c0476bdd9854f86",
     "locked": true,
     "points": 2,
     "schema_version": 1,
     "solution": false
    }
   },
   "outputs": [],
   "source": [
    "assert_raises(ValueError, validate_color, -5)"
   ]
  },
  {
   "cell_type": "code",
   "execution_count": 59,
   "metadata": {
    "collapsed": true,
    "deletable": false,
    "editable": false,
    "nbgrader": {
     "checksum": "99824e6903a99b395c010a18a61763c2",
     "grade": true,
     "grade_id": "cell-38422f742a9a6c64",
     "locked": true,
     "points": 2,
     "schema_version": 1,
     "solution": false
    }
   },
   "outputs": [],
   "source": [
    "assert_raises(ValueError, validate_color, 500)"
   ]
  },
  {
   "cell_type": "code",
   "execution_count": 60,
   "metadata": {
    "collapsed": true,
    "deletable": false,
    "editable": false,
    "nbgrader": {
     "checksum": "f35183c4f9c1ec12c7458f8053b65ee2",
     "grade": true,
     "grade_id": "cell-e83b4831e56ff17a",
     "locked": true,
     "points": 2,
     "schema_version": 1,
     "solution": false
    }
   },
   "outputs": [],
   "source": [
    "assert_equal(validate_color(55), 55)"
   ]
  },
  {
   "cell_type": "code",
   "execution_count": 61,
   "metadata": {
    "collapsed": true,
    "deletable": false,
    "editable": false,
    "nbgrader": {
     "checksum": "880915f99611f2dd50edfdcc7f6fd2ed",
     "grade": true,
     "grade_id": "cell-bde44a1ffca4b381",
     "locked": true,
     "points": 2,
     "schema_version": 1,
     "solution": false
    }
   },
   "outputs": [],
   "source": [
    "assert_equal(validate_color(47.3), 47)"
   ]
  },
  {
   "cell_type": "markdown",
   "metadata": {},
   "source": [
    "**Problem 3. (30 Points):** Define a named tuple ``rgbalpha`` that represents an RGB$\\alpha$ color. Define an `rgba` class that inherits from the ``rgbalpha`` named tuple and adds an attribute name. \n",
    "\n",
    "Because we are inheriting from an immutable class, we need to do our validation of the color using a [`__new__`](https://docs.python.org/3/reference/datamodel.html#object.__new__) method, which is a static method of the class not of the instance of the class.\n",
    "\n",
    "Define the following methods:\n",
    "\n",
    "* `invert_rgb`\n",
    "    * See docstring for method behavior to implement\n",
    "* `grayscale`\n",
    "    * See docstring for method behavior to implement\n",
    "\n",
    "* ``__str__``\n",
    "    * the returned string should include the integer values as zero padded integers (e.g. `028`) for each color and the floating point value with 2 decimal (e.g. `0.27`) points for alpha\n",
    "* ``__repr__``\n",
    "    * The returned string should include the class name and at least the information in the `__str__` string. \n",
    "* ``__add__``\n",
    "    * When adding two `rgba` instances (e.g. `c1` and `c2`) to create a new `rgba` instance (e.g. `c3`), the color channels of `c3`  should be the sum of the two values mod 256. For example, $c3=(c1.r+c2.r)\\mod 256$.\n",
    "    * The alpha value should be the maximum of the two alpha values ($c3.\\text{alpha}=\\max(c1.\\text{alpha},c2.\\text{alpha})$)\n",
    "* ``__eq__``\n",
    "    * In comparing equality, ignore the alpha values\n",
    "* ``__abs__``\n",
    "    * The absolute value should be the root mean square of the color values ignoring the alpha value.\n"
   ]
  },
  {
   "cell_type": "code",
   "execution_count": 82,
   "metadata": {
    "collapsed": true,
    "deletable": false,
    "nbgrader": {
     "checksum": "ee49a85155c0f5042494952c51bb2ec8",
     "grade": false,
     "grade_id": "cell-f88642675bef5a77",
     "locked": false,
     "schema_version": 1,
     "solution": true
    }
   },
   "outputs": [],
   "source": [
    "from collections import namedtuple\n",
    "import math\n",
    "rgbalpha = namedtuple(\"rgbalpha\",['r','g','b','alpha'])\n",
    "class rgba(rgbalpha):\n",
    "    def __new__(cls, *args, **kwargs):\n",
    "        return super().__new__(cls, validate_color(args[0]),\n",
    "                          validate_color(args[1]),\n",
    "                          validate_color(args[2]),\n",
    "                          validate_alpha(args[3]))\n",
    "    def __init__(self, *args, name=\"null\"):\n",
    "        # YOUR CODE HERE\n",
    "        self.r = args[0]\n",
    "        self.g = args[1]\n",
    "        self.b = args[2]\n",
    "        self.alpha = args[3]\n",
    "        \n",
    "    @property\n",
    "    # YOUR CODE HERE\n",
    "    def alpha(self):\n",
    "        return self.__alpha\n",
    "    @alpha.setter\n",
    "    # YOUR CODE HERE\n",
    "    def alpha(self,alpha):\n",
    "        self.__alpha = alpha\n",
    "        \n",
    "    @property\n",
    "    # YOUR CODE HERE\n",
    "    def r(self):\n",
    "        return self.__r\n",
    "    @r.setter\n",
    "    # YOUR CODE HERE\n",
    "    def r(self,r):\n",
    "        self.__r = int(r)\n",
    "        \n",
    "    @property\n",
    "    # YOUR CODE HERE\n",
    "    def g(self):\n",
    "        return self.__g\n",
    "    @g.setter\n",
    "    # YOUR CODE HERE\n",
    "    def g(self,g):\n",
    "        self.__g = int(g)\n",
    "      \n",
    "    @property\n",
    "    # YOUR CODE HERE\n",
    "    def b(self):\n",
    "        return self.__b\n",
    "    @b.setter\n",
    "    # YOUR CODE HERE\n",
    "    def b(self,b):\n",
    "        self.__b = int(b)\n",
    "    \n",
    "    \n",
    "    def invert_rgb(self): \n",
    "        \"\"\"\n",
    "        this function inverts the RGB color by subtracting \n",
    "        all color values from 255 and returns a new rgba object with the \n",
    "        new color values.\n",
    "        \n",
    "        alpha is not modified\n",
    "        \n",
    "        name\n",
    "        \"\"\"\n",
    "        # YOUR CODE HERE\n",
    "        self.r = 255 - self.r\n",
    "        self.g = 255 - self.g\n",
    "        self.b = 255 - self.b\n",
    "        return self\n",
    "    \n",
    "    def grayscale(self): \n",
    "        \"\"\"\n",
    "        this function converts RGB color to grayscale by using a \n",
    "        weight average formula: 0.299Red+0.587Green+0.114Blue\n",
    "        \"\"\"\n",
    "        # YOUR CODE HERE\n",
    "        gray = int((self.r * 0.299) + (self.g * 0.587) + (self.b * 0.114))\n",
    "        self.r = gray\n",
    "        self.g = gray\n",
    "        self.b = gray\n",
    "        return self\n",
    "        \n",
    "    def __str__(self):\n",
    "        # YOUR CODE HERE\n",
    "        alphas = str(self.alpha)\n",
    "        rs = str(self.r).zfill(3)\n",
    "        gs = str(self.g).zfill(3)\n",
    "        bs = str(self.b).zfill(3)\n",
    "        return rs + \" \" + gs + \" \" + bs + \" \" + alphas\n",
    "        \n",
    "    def __repr__(self):\n",
    "        # YOUR CODE HERE\n",
    "        return str(type(self)) + self.__str__()\n",
    "        \n",
    "        \n",
    "    def __add__(self,color):\n",
    "        # YOUR CODE HERE\n",
    "        \"\"\"\n",
    "        When adding two rgba instances (e.g. c1 and c2) to create a new rgba instance (e.g. c3), the color channels of c3 should be the sum of the two values mod 256. For example,  c3=(c1.r+c2.r)mod256 .\n",
    "        The alpha value should be the maximum of the two alpha values ( c3.alpha=max(c1.alpha,c2.alpha) )\n",
    "        \"\"\"\n",
    "        r_new = (self.r + color.r) % 256\n",
    "        g_new = (self.g + color.g) % 256\n",
    "        b_new = (self.b + color.b) % 256\n",
    "        alpha_new = max(self.alpha, color.alpha)\n",
    "        \n",
    "        return rgba(r_new, g_new, b_new, alpha_new)\n",
    "        \n",
    "    def __eq__(self,color):\n",
    "        # YOUR CODE HERE\n",
    "        if self.r == color.r and self.g == color.g and self.b == color.b:\n",
    "            return True\n",
    "        else:\n",
    "            return False\n",
    "        \n",
    "    def __abs__(self):\n",
    "        # YOUR CODE HERE\n",
    "        return math.sqrt( (self.r**2) + (self.g**2) + (self.b**2) )\n",
    "        "
   ]
  },
  {
   "cell_type": "code",
   "execution_count": 83,
   "metadata": {
    "collapsed": true,
    "deletable": false,
    "editable": false,
    "nbgrader": {
     "checksum": "b1eec968983abfa0c6a13975e93b981e",
     "grade": true,
     "grade_id": "cell-e32110b72c2df921",
     "locked": true,
     "points": 2,
     "schema_version": 1,
     "solution": false
    }
   },
   "outputs": [],
   "source": [
    "c=rgba(100,32,47,0.9785)\n",
    "assert_true('032' in c.__str__())"
   ]
  },
  {
   "cell_type": "code",
   "execution_count": 84,
   "metadata": {
    "collapsed": true,
    "deletable": false,
    "editable": false,
    "nbgrader": {
     "checksum": "7dee4c95b659a7c6ad6d45cc6e180bb9",
     "grade": true,
     "grade_id": "cell-2369dbaef892ab7f",
     "locked": true,
     "points": 3,
     "schema_version": 1,
     "solution": false
    }
   },
   "outputs": [],
   "source": [
    "c=rgba(100,32,47,0.9785)\n",
    "assert_true('0.9785' in c.__repr__())"
   ]
  },
  {
   "cell_type": "code",
   "execution_count": 85,
   "metadata": {
    "collapsed": true,
    "deletable": false,
    "editable": false,
    "nbgrader": {
     "checksum": "6e6a971f8e27b6a640f53b0056b0dd56",
     "grade": true,
     "grade_id": "cell-451d146f57d41bec",
     "locked": true,
     "points": 5,
     "schema_version": 1,
     "solution": false
    }
   },
   "outputs": [],
   "source": [
    "c=rgba(100,32,47,0.9785)\n",
    "cg = c.grayscale()\n",
    "assert_equal(cg.r,54)\n",
    "assert_equal(cg.g,54)\n",
    "assert_equal(cg.b,54)"
   ]
  },
  {
   "cell_type": "code",
   "execution_count": 86,
   "metadata": {
    "collapsed": true,
    "deletable": false,
    "editable": false,
    "nbgrader": {
     "checksum": "4b8bc396953f7324fde2ca4493741607",
     "grade": true,
     "grade_id": "cell-944110c1cf346841",
     "locked": true,
     "points": 2,
     "schema_version": 1,
     "solution": false
    }
   },
   "outputs": [],
   "source": [
    "c=rgba(100,32,47,0.9785)\n",
    "assert_true(isinstance(c,tuple))"
   ]
  },
  {
   "cell_type": "code",
   "execution_count": 87,
   "metadata": {
    "collapsed": true,
    "deletable": false,
    "editable": false,
    "nbgrader": {
     "checksum": "6b07489634dfdeaadb5394902332a192",
     "grade": true,
     "grade_id": "cell-02b6b8b650c33e86",
     "locked": true,
     "points": 3,
     "schema_version": 1,
     "solution": false
    }
   },
   "outputs": [],
   "source": [
    "assert_true(isinstance(c,rgbalpha))"
   ]
  },
  {
   "cell_type": "code",
   "execution_count": 88,
   "metadata": {
    "collapsed": true,
    "deletable": false,
    "editable": false,
    "nbgrader": {
     "checksum": "89f6a73d606f94d6f6d1da75bad1840a",
     "grade": true,
     "grade_id": "cell-0759a552d24d6e5c",
     "locked": true,
     "points": 5,
     "schema_version": 1,
     "solution": false
    }
   },
   "outputs": [],
   "source": [
    "c1 = rgba(100,32,47,0.9785)\n",
    "c2 =rgba(255,0,0,0.1)\n",
    "c3 = c1+c2\n",
    "assert_equal(c3.r,99)\n",
    "assert_equal(c3.g,32)\n",
    "assert_equal(c3.alpha,0.9785)"
   ]
  },
  {
   "cell_type": "code",
   "execution_count": 89,
   "metadata": {
    "collapsed": true,
    "deletable": false,
    "editable": false,
    "nbgrader": {
     "checksum": "d5df2587e971ea5e55de13f3781f220f",
     "grade": true,
     "grade_id": "cell-8a78cdf49f641d25",
     "locked": true,
     "points": 3,
     "schema_version": 1,
     "solution": false
    }
   },
   "outputs": [],
   "source": [
    "c1 = rgba(100,32,47,0.9785)\n",
    "c2 =rgba(255,0,0,0.1)\n",
    "assert_false(c1==c2)"
   ]
  },
  {
   "cell_type": "code",
   "execution_count": 90,
   "metadata": {
    "collapsed": true,
    "deletable": false,
    "editable": false,
    "nbgrader": {
     "checksum": "ef718f5b6c81de2c1ffa312669fb3b9b",
     "grade": true,
     "grade_id": "cell-f04832eef7f5f612",
     "locked": true,
     "points": 2,
     "schema_version": 1,
     "solution": false
    }
   },
   "outputs": [],
   "source": [
    "assert_true(c1==c1)\n"
   ]
  },
  {
   "cell_type": "code",
   "execution_count": 91,
   "metadata": {
    "deletable": false,
    "editable": false,
    "nbgrader": {
     "checksum": "c3e2d440f22e528ae058b89caf65a32b",
     "grade": true,
     "grade_id": "cell-55d9fff0ce3b772b",
     "locked": true,
     "points": 5,
     "schema_version": 1,
     "solution": false
    }
   },
   "outputs": [],
   "source": [
    "assert_almost_equal(abs(c1),115.03477735015616)"
   ]
  },
  {
   "cell_type": "code",
   "execution_count": null,
   "metadata": {
    "collapsed": true
   },
   "outputs": [],
   "source": []
  }
 ],
 "metadata": {
  "anaconda-cloud": {},
  "kernelspec": {
   "display_name": "Python 3",
   "language": "python",
   "name": "python3"
  },
  "language_info": {
   "codemirror_mode": {
    "name": "ipython",
    "version": 3
   },
   "file_extension": ".py",
   "mimetype": "text/x-python",
   "name": "python",
   "nbconvert_exporter": "python",
   "pygments_lexer": "ipython3",
   "version": "3.5.2"
  }
 },
 "nbformat": 4,
 "nbformat_minor": 1
}

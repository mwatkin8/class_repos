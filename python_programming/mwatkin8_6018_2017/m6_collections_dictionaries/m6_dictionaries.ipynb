{
 "cells": [
  {
   "cell_type": "markdown",
   "metadata": {
    "deletable": false,
    "editable": false,
    "nbgrader": {
     "checksum": "ddf58cab02958a214c7c87b782c7f4ae",
     "grade": false,
     "grade_id": "cell-68c771a684b7530a",
     "locked": true,
     "schema_version": 1,
     "solution": false
    }
   },
   "source": [
    "# Dictionaries\n",
    "\n",
    "This homework has you work with Python dictionaries and a couple of variants, namely default dictionaries and counters, both defined in the Python library [collections](https://docs.python.org/3/library/collections.html). These problems will require you to use if/else statments and for loops which I assume you are familiar with from your CodeAcademy review. In case you want more practice with these, I've put notebooks in the Resources directory. The problems get progressively harder as you move towards more and more primative/basic collections."
   ]
  },
  {
   "cell_type": "markdown",
   "metadata": {
    "deletable": false,
    "editable": false,
    "nbgrader": {
     "checksum": "ec78a23a6345b128b4e75c8f60b4f9e1",
     "grade": false,
     "grade_id": "cell-661850a57a9d3b39",
     "locked": true,
     "schema_version": 1,
     "solution": false
    }
   },
   "source": [
    "**Problems 1 and 2** use the variable ``report`` defined below."
   ]
  },
  {
   "cell_type": "code",
   "execution_count": 1,
   "metadata": {
    "collapsed": true,
    "deletable": false,
    "editable": false,
    "nbgrader": {
     "checksum": "402deda427bcdf653b9c4b82df49eec3",
     "grade": false,
     "grade_id": "cell-d8446f8007248a50",
     "locked": true,
     "schema_version": 1,
     "solution": false
    }
   },
   "outputs": [],
   "source": [
    "from nose.tools import assert_equal, assert_true, assert_false"
   ]
  },
  {
   "cell_type": "code",
   "execution_count": 2,
   "metadata": {
    "collapsed": true,
    "deletable": false,
    "editable": false,
    "nbgrader": {
     "checksum": "eee86773447fffb4cb9dc65e46f520ab",
     "grade": false,
     "grade_id": "cell-9ee15297486b160c",
     "locked": true,
     "schema_version": 1,
     "solution": false
    }
   },
   "outputs": [],
   "source": [
    "report = \"\"\"\n",
    "Patient: DOE, JOHN\n",
    "Referring Physician: DR. DAVID LIVESEY\n",
    "MRN : JD4USARAD DOB: 01/01/1961\n",
    "Exam Date: 06/05/2010\n",
    "FAX: (305) 418-8166\n",
    "    \n",
    "CLINICAL HISTORY: ABDOMINAL PAIN.\n",
    "    \n",
    "TECHNIQUE: Multiple axial CT images were obtained through the abdomen and pelvis after\n",
    "administration of oral contrast material only.\n",
    "\n",
    "COMMENTS:\n",
    "There is evidence of diffuse hepatic hypoattenuation compatible with fatty infiltration. There is no\n",
    "intra or extrahepatic biliary ductal dilatation. The patient is status post cholecystectomy. The spleen\n",
    "is normal. The pancreas is of normal contour and attenuation characteristics. There is no evidence of\n",
    "adrenal mass.\n",
    "\n",
    "Moderate sized fat containing supraumbilical hernia is present.\n",
    "The kidneys are normal in size, shape and configuration. No renal or ureteral calculi are identified.\n",
    "There is no hydroureter or hydronephrosis.\n",
    "There is no evidence for appendicitis. Several fluid-filled loops of small bowel are present compatible\n",
    "with mild enteritis. There is no bowel wall thickening. No evidence for small or large bowel\n",
    "obstruction. There is no evidence of abdominal ascites or lymphadenopathy.\n",
    "There is no evidence of intrinsic or extrinsic bladder mass. There is no pelvic ascites or\n",
    "lymphadenopathy.\n",
    "The uterus and ovaries are grossly unremarkable.\n",
    "Images of the lung bases show no evidence of pleural or parenchymal mass. There are no pleural\n",
    "effusions. Scarring is present in the right middle lobe and lingula as well as both lung bases.\n",
    "The bony structures are free of lytic or blastic lesions. Multilevel degenerative changes are seen\n",
    "involving the thoracolumbar spine.\n",
    "Scattered calcifications are seen involving the aorta and major branches compatible with\n",
    "atherosclerosis.\n",
    "\n",
    "IMPRESSION:\n",
    "ABDOMEN:\n",
    "1. Several fluid-filled loops of small bowel are present compatible with mild enteritis.\n",
    "2. Fatty liver.\n",
    "3. Status post cholecystectomy.\n",
    "4. Fat containing umbilical hernia.\n",
    "PELVIS:\n",
    "1. No evidence of diverticulitis or acute inflammatory process in the pelvis.\n",
    "Discussed with Dr. DAVID LIVESEY\n",
    "-Electronically Signed by: RADIOLOGIST, ADMIN on 06/05/2010 2:31:33 PM\"\"\""
   ]
  },
  {
   "cell_type": "markdown",
   "metadata": {
    "deletable": false,
    "editable": false,
    "nbgrader": {
     "checksum": "f4481cfc37aca831f34e01c9d6b43a9e",
     "grade": false,
     "grade_id": "cell-bc694494f7004a03",
     "locked": true,
     "schema_version": 1,
     "solution": false
    }
   },
   "source": [
    "**Problem 1 (20 points):** Use the ``Counter`` class defined in ``collections`` to modify the function `def count_word_v1` to count the frequency of words in ``report``. Before counting the number of words, convert everything to uppercase and replace periods (\".\") and commas (\",\") with empty spaces. The function takes as an argument a string containing a report and returns a Counter object."
   ]
  },
  {
   "cell_type": "code",
   "execution_count": 16,
   "metadata": {
    "collapsed": true,
    "deletable": false,
    "nbgrader": {
     "checksum": "af836352f6d4144e909c56bd80cece45",
     "grade": false,
     "grade_id": "cell-ca5c0aca364ed301",
     "locked": false,
     "schema_version": 1,
     "solution": true
    }
   },
   "outputs": [],
   "source": [
    "\n",
    "from collections import Counter\n",
    "def count_words_v1(report):\n",
    "    # YOUR CODE HERE\n",
    "    c = Counter()\n",
    "    report_list = report.split()\n",
    "    for word in report_list:\n",
    "        word = word.replace(\",\",\"\")\n",
    "        word = word.replace(\".\", \"\")\n",
    "        c[word.upper()] += 1\n",
    "    \n",
    "    print(c)\n",
    "    return c\n",
    "    \n",
    "    #raise NotImplementedError()"
   ]
  },
  {
   "cell_type": "code",
   "execution_count": null,
   "metadata": {
    "collapsed": true,
    "deletable": false,
    "editable": false,
    "nbgrader": {
     "checksum": "cd92e6e1398e04ef09d47f9fba3bd0fa",
     "grade": true,
     "grade_id": "cell-9e4147133f20571a",
     "locked": true,
     "points": 15,
     "schema_version": 1,
     "solution": false
    }
   },
   "outputs": [],
   "source": []
  },
  {
   "cell_type": "code",
   "execution_count": 17,
   "metadata": {
    "deletable": false,
    "editable": false,
    "nbgrader": {
     "checksum": "90fa0a5f1aefc40dbdc1898bfe601fd6",
     "grade": true,
     "grade_id": "cell-5472a098a8b1a265",
     "locked": true,
     "points": 5,
     "schema_version": 1,
     "solution": false
    }
   },
   "outputs": [
    {
     "name": "stdout",
     "output_type": "stream",
     "text": [
      "Counter({'IS': 14, 'NO': 13, 'OF': 12, 'THE': 12, 'THERE': 10, 'OR': 10, 'ARE': 9, 'EVIDENCE': 8, 'AND': 6, 'WITH': 5, 'COMPATIBLE': 4, 'PRESENT': 4, 'BOWEL': 4, 'MASS': 3, 'IN': 3, 'SMALL': 3, 'NORMAL': 3, 'HERNIA': 2, 'FLUID-FILLED': 2, 'SEVERAL': 2, 'POST': 2, 'FOR': 2, 'BASES': 2, 'LYMPHADENOPATHY': 2, 'DR': 2, 'STATUS': 2, 'LIVESEY': 2, 'IMAGES': 2, 'SEEN': 2, 'MILD': 2, 'CONTAINING': 2, '06/05/2010': 2, 'INVOLVING': 2, '1': 2, 'ASCITES': 2, 'PLEURAL': 2, 'LOOPS': 2, 'FATTY': 2, 'PELVIS': 2, 'LUNG': 2, 'DAVID': 2, 'ABDOMINAL': 2, 'CHOLECYSTECTOMY': 2, 'AS': 2, 'ENTERITIS': 2, 'FAT': 2, 'EFFUSIONS': 1, 'SCATTERED': 1, 'FAX:': 1, '(305)': 1, 'DIFFUSE': 1, 'THICKENING': 1, 'SIGNED': 1, 'RIGHT': 1, 'LINGULA': 1, 'INFLAMMATORY': 1, 'MODERATE': 1, 'MIDDLE': 1, 'DUCTAL': 1, 'AORTA': 1, 'SIZED': 1, 'JD4USARAD': 1, 'DOB:': 1, 'ONLY': 1, 'AFTER': 1, 'GROSSLY': 1, 'ATHEROSCLEROSIS': 1, 'ADRENAL': 1, '01/01/1961': 1, 'PARENCHYMAL': 1, 'UMBILICAL': 1, 'FREE': 1, 'PAIN': 1, '4': 1, 'SIZE': 1, 'SPINE': 1, 'CALCULI': 1, 'HYDRONEPHROSIS': 1, 'KIDNEYS': 1, '3': 1, 'SHAPE': 1, 'OBTAINED': 1, 'MRN': 1, 'PELVIS:': 1, 'ON': 1, 'COMMENTS:': 1, 'MULTIPLE': 1, 'ATTENUATION': 1, 'WELL': 1, 'PM': 1, 'LARGE': 1, '418-8166': 1, 'PHYSICIAN:': 1, 'INTRINSIC': 1, 'ADMINISTRATION': 1, 'DISCUSSED': 1, 'SHOW': 1, 'HYDROURETER': 1, 'UNREMARKABLE': 1, 'ACUTE': 1, 'MAJOR': 1, 'SUPRAUMBILICAL': 1, 'PATIENT:': 1, 'IMPRESSION:': 1, 'HYPOATTENUATION': 1, 'DIVERTICULITIS': 1, '2:31:33': 1, 'BOTH': 1, 'HEPATIC': 1, 'BILIARY': 1, 'ORAL': 1, 'LOBE': 1, ':': 1, 'DATE:': 1, 'URETERAL': 1, 'AXIAL': 1, 'CHANGES': 1, 'CT': 1, 'CONTRAST': 1, 'DOE': 1, '-ELECTRONICALLY': 1, 'SPLEEN': 1, 'THROUGH': 1, 'BONY': 1, 'MULTILEVEL': 1, 'WALL': 1, 'MATERIAL': 1, 'REFERRING': 1, 'HISTORY:': 1, 'LESIONS': 1, 'STRUCTURES': 1, 'BRANCHES': 1, 'CHARACTERISTICS': 1, 'EXTRINSIC': 1, 'RADIOLOGIST': 1, 'DEGENERATIVE': 1, 'WERE': 1, 'APPENDICITIS': 1, '2': 1, 'RENAL': 1, 'OVARIES': 1, 'PANCREAS': 1, 'ADMIN': 1, 'PATIENT': 1, 'OBSTRUCTION': 1, 'INTRA': 1, 'EXAM': 1, 'BLADDER': 1, 'EXTRAHEPATIC': 1, 'BLASTIC': 1, 'CONFIGURATION': 1, 'JOHN': 1, 'ABDOMEN': 1, 'PELVIC': 1, 'ABDOMEN:': 1, 'CONTOUR': 1, 'LYTIC': 1, 'INFILTRATION': 1, 'CALCIFICATIONS': 1, 'PROCESS': 1, 'DILATATION': 1, 'CLINICAL': 1, 'TECHNIQUE:': 1, 'IDENTIFIED': 1, 'THORACOLUMBAR': 1, 'LIVER': 1, 'BY:': 1, 'SCARRING': 1, 'UTERUS': 1})\n"
     ]
    }
   ],
   "source": [
    "assert_true(type(count_words_v1(report))==Counter)\n"
   ]
  },
  {
   "cell_type": "markdown",
   "metadata": {},
   "source": [
    "**Problem 2 (30 points):** Repeat problem one but instead of using a `Counter`, use the ``defaultdict`` defined in the ``colletions`` library."
   ]
  },
  {
   "cell_type": "code",
   "execution_count": 18,
   "metadata": {
    "collapsed": true,
    "deletable": false,
    "nbgrader": {
     "checksum": "0a41a6c46d7ba07fbfdd9b9cf9e4f3d1",
     "grade": false,
     "grade_id": "cell-15995fa74f7d5ce5",
     "locked": false,
     "schema_version": 1,
     "solution": true
    }
   },
   "outputs": [],
   "source": [
    "from collections import defaultdict\n",
    "\n",
    "def count_words_v2(report):\n",
    "    # YOUR CODE HERE\n",
    "    d = defaultdict(int)\n",
    "    report_list = report.split()\n",
    "    for word in report_list:\n",
    "        word = word.replace(\",\",\"\")\n",
    "        word = word.replace(\".\", \"\")\n",
    "        d[word.upper()] += 1\n",
    "    \n",
    "    print(d)\n",
    "    return d\n",
    "    \n",
    "    \n",
    "    #raise NotImplementedError()\n"
   ]
  },
  {
   "cell_type": "code",
   "execution_count": null,
   "metadata": {
    "collapsed": true,
    "deletable": false,
    "editable": false,
    "nbgrader": {
     "checksum": "469b0205c7cf244a34e28c92fbc5b5d6",
     "grade": true,
     "grade_id": "cell-e56cdb614c78eb19",
     "locked": true,
     "points": 25,
     "schema_version": 1,
     "solution": false
    }
   },
   "outputs": [],
   "source": []
  },
  {
   "cell_type": "code",
   "execution_count": 19,
   "metadata": {
    "deletable": false,
    "editable": false,
    "nbgrader": {
     "checksum": "0b768b9530fe38627e3ecb0f4e69a830",
     "grade": true,
     "grade_id": "cell-1edbfbd3d33241c2",
     "locked": true,
     "points": 5,
     "schema_version": 1,
     "solution": false
    }
   },
   "outputs": [
    {
     "name": "stdout",
     "output_type": "stream",
     "text": [
      "defaultdict(<class 'int'>, {'HERNIA': 2, 'EFFUSIONS': 1, 'SCATTERED': 1, 'FAX:': 1, '(305)': 1, 'DIFFUSE': 1, 'THICKENING': 1, 'FLUID-FILLED': 2, 'MASS': 3, 'SEVERAL': 2, 'SIGNED': 1, 'POST': 2, 'RIGHT': 1, 'LINGULA': 1, 'INFLAMMATORY': 1, 'FOR': 2, 'MODERATE': 1, 'BASES': 2, 'MIDDLE': 1, 'OF': 12, 'EVIDENCE': 8, 'DUCTAL': 1, 'AORTA': 1, 'SIZED': 1, 'JD4USARAD': 1, 'DOB:': 1, 'ONLY': 1, 'AFTER': 1, 'GROSSLY': 1, 'IN': 3, 'ATHEROSCLEROSIS': 1, 'ADRENAL': 1, 'LYMPHADENOPATHY': 2, 'DR': 2, '01/01/1961': 1, 'PARENCHYMAL': 1, 'UMBILICAL': 1, 'STATUS': 2, 'FREE': 1, 'PAIN': 1, '4': 1, 'SIZE': 1, 'IS': 14, 'SPINE': 1, 'CALCULI': 1, 'HYDRONEPHROSIS': 1, 'WITH': 5, 'KIDNEYS': 1, '3': 1, 'SMALL': 3, 'SHAPE': 1, 'OBTAINED': 1, 'MRN': 1, 'PELVIS:': 1, 'ON': 1, 'LIVESEY': 2, 'IMAGES': 2, 'COMMENTS:': 1, 'MULTIPLE': 1, 'ATTENUATION': 1, 'WELL': 1, 'PM': 1, 'LARGE': 1, '418-8166': 1, 'PHYSICIAN:': 1, 'INTRINSIC': 1, 'SEEN': 2, 'THERE': 10, 'MILD': 2, 'ADMINISTRATION': 1, 'NORMAL': 3, 'DISCUSSED': 1, 'SHOW': 1, 'HYDROURETER': 1, 'UNREMARKABLE': 1, 'ACUTE': 1, 'NO': 13, 'MAJOR': 1, 'SUPRAUMBILICAL': 1, 'PATIENT:': 1, 'IMPRESSION:': 1, 'HYPOATTENUATION': 1, 'CONTAINING': 2, 'DIVERTICULITIS': 1, '06/05/2010': 2, '2:31:33': 1, 'BOTH': 1, 'HEPATIC': 1, 'BILIARY': 1, 'ORAL': 1, 'INVOLVING': 2, 'LOBE': 1, ':': 1, 'DATE:': 1, 'URETERAL': 1, 'ARE': 9, 'AXIAL': 1, 'CHANGES': 1, 'CT': 1, 'CONTRAST': 1, 'AND': 6, 'DOE': 1, '1': 2, 'COMPATIBLE': 4, '-ELECTRONICALLY': 1, 'ASCITES': 2, 'SPLEEN': 1, 'PLEURAL': 2, 'THROUGH': 1, 'BONY': 1, 'MULTILEVEL': 1, 'WALL': 1, 'MATERIAL': 1, 'REFERRING': 1, 'LOOPS': 2, 'HISTORY:': 1, 'LESIONS': 1, 'STRUCTURES': 1, 'BRANCHES': 1, 'FATTY': 2, 'CHARACTERISTICS': 1, 'EXTRINSIC': 1, 'RADIOLOGIST': 1, 'DEGENERATIVE': 1, 'PELVIS': 2, 'LUNG': 2, 'WERE': 1, 'DAVID': 2, 'ABDOMINAL': 2, 'APPENDICITIS': 1, '2': 1, 'RENAL': 1, 'OVARIES': 1, 'PANCREAS': 1, 'PRESENT': 4, 'ADMIN': 1, 'PATIENT': 1, 'OBSTRUCTION': 1, 'INTRA': 1, 'EXAM': 1, 'BOWEL': 4, 'BLADDER': 1, 'EXTRAHEPATIC': 1, 'THE': 12, 'BLASTIC': 1, 'CONFIGURATION': 1, 'JOHN': 1, 'ABDOMEN': 1, 'PELVIC': 1, 'OR': 10, 'ABDOMEN:': 1, 'CHOLECYSTECTOMY': 2, 'CONTOUR': 1, 'LYTIC': 1, 'INFILTRATION': 1, 'AS': 2, 'CALCIFICATIONS': 1, 'ENTERITIS': 2, 'PROCESS': 1, 'DILATATION': 1, 'CLINICAL': 1, 'TECHNIQUE:': 1, 'IDENTIFIED': 1, 'THORACOLUMBAR': 1, 'LIVER': 1, 'BY:': 1, 'SCARRING': 1, 'FAT': 2, 'UTERUS': 1})\n"
     ]
    }
   ],
   "source": [
    "assert_true(type(count_words_v2(report))==defaultdict)\n"
   ]
  },
  {
   "cell_type": "markdown",
   "metadata": {
    "deletable": false,
    "editable": false,
    "nbgrader": {
     "checksum": "fd11c5c0940838a236e249893395512e",
     "grade": false,
     "grade_id": "cell-705f60f21b861f52",
     "locked": true,
     "schema_version": 1,
     "solution": false
    }
   },
   "source": [
    "**Problem 3 (50 points):** Modify `count_kmers` below as follows:\n",
    "\n",
    "### Arguments\n",
    "\n",
    "* `count_kmers` takes as a **positional argument** named `sequences` a dictionary of sequences\n",
    "* `count_kmers` takes as a **keyword_argument** named `kmers` a tuple of kmers. The default tuple should be a tuple with the single kmer 'A'\n",
    "\n",
    "### Return value\n",
    "\n",
    "* `count_kmers` returns a dictionary with the keys corresponding to the keys of `sequences` and as values a dictionary with keys the valid kmers (valid DNA kmer) provided in the keyword argument `kmers` and as values the frequency count for that kmer in the corresponding sequence. (We will be returning a dictionary of dictionaries."
   ]
  },
  {
   "cell_type": "code",
   "execution_count": 21,
   "metadata": {
    "collapsed": true,
    "deletable": false,
    "editable": false,
    "nbgrader": {
     "checksum": "9b6b53f5a810e349b4f75df13cef3322",
     "grade": false,
     "grade_id": "cell-093d58e53fdc3966",
     "locked": true,
     "schema_version": 1,
     "solution": false
    }
   },
   "outputs": [],
   "source": [
    "# the \"\\\" character can be used as a line continuation in PPython\n",
    "sequence1 = \\\n",
    "\"\"\"AGTTGTTAGTCTACGTGGACCGACAAGAACAGTTTCGAATCGGAAGCTTGCTTAACGTAGTTCTAACAGT\n",
    "TTTTTATTAGAGAGCAGATCTCTGATGAACAACCAACGGAAAAAGACGGGTCGACCGTCTTTCAATATGC\"\"\"\n",
    "sequence2= \\\n",
    "\"\"\"TGAAACGCGCGAGAAACCGCGTGTCAACTGTTTCACAGTTGGCGAAGAGATTCTCAAAAGGATTGCTTTC\n",
    "AGGCCAAGGACCCATGAAATTGGTGATGGCTTTTATAGCATTCCTAAGATTTCTAGCCATACC\"\"\"\n",
    "sequence3= \\\n",
    "\"\"\"GCAGGAATTTTGGCTAGATGGGGCTCATTCAAGAAGAATGGAGCGATCAAAGTGTTACGGGTCAAGA\n",
    "AAGAAATCTCAAACATGTTGAACATAATGAACAGGAGGAAAAGATCTGTGACCATGCTCCTCATGCTGCT\"\"\"\n",
    "sequence4= \\\n",
    "\"\"\"GCCCACAGCCCTGGCGTTCCATCTGACCACCCGAGGGGGAGAGCCGCACATGATAGTTAGCAAGCAGGAA\n",
    "AGAGGAAAATCACTTTTGTTTAAGACCTCTGCAGGTGTCAACATGTGCACCCTTATTGCAATGGATTTGG\n",
    "GAGAGTTATGTGAGGACACAATGACCTACAAATGCCCCCGGATCACTGAGACGGAACCAGATGACGTTGA\n",
    "CTGTTGGTGCAATGCCACGGAGACATGGGTGACCTATGGAACATGTTCTCAAACTGGTGAACACCGACGA\n",
    "GACAAACGTTCCGTCGCACTGGCACCACACGTAGGGCTTGGTCTAGAAACAAGAACCGAAACGTGGATGT\"\"\"\n"
   ]
  },
  {
   "cell_type": "code",
   "execution_count": 67,
   "metadata": {
    "deletable": false,
    "nbgrader": {
     "checksum": "4055b41b4299a56482b4aee8a908ccc5",
     "grade": false,
     "grade_id": "cell-9e502a6f6df8ba6d",
     "locked": false,
     "schema_version": 1,
     "solution": true
    }
   },
   "outputs": [],
   "source": [
    "sequences = {\"seq1\":sequence1, \"seq2\":sequence2, \"seq3\":sequence3}\n",
    "# YOUR CODE HERE\n",
    "def count_kmers(sequences, kmers):\n",
    "    rslts = {} #rslts = {seq1:{kmer1:freq, kmer2:freq, kmer3 freq}, seq2:{kmer1:freq, kmer2:freq}}\n",
    "    if kmers == None:\n",
    "        kmers = ('A')\n",
    "    for seq in sequences:\n",
    "        sequence = sequences[seq]\n",
    "        \"\".join(sequence.split())\n",
    "        entry = {}\n",
    "        for kmer in kmers:\n",
    "            entry[kmer] = 0\n",
    "            l = len(kmer)\n",
    "            for i in range(0, len(sequence)):\n",
    "                test = sequence[i:i+l]\n",
    "                if len(test) != l:\n",
    "                    break\n",
    "                if test == kmer:\n",
    "                    entry[kmer] += 1\n",
    "                    \n",
    "        rslts[seq] = entry\n",
    "    \n",
    "    print(rslts)\n",
    "    return rslts\n",
    "#raise NotImplementedError()"
   ]
  },
  {
   "cell_type": "code",
   "execution_count": 68,
   "metadata": {
    "deletable": false,
    "editable": false,
    "nbgrader": {
     "checksum": "11a7a21b143812ee4c0260199bc98df6",
     "grade": true,
     "grade_id": "cell-26e41e1487f1c9ea",
     "locked": true,
     "points": 0,
     "schema_version": 1,
     "solution": false
    }
   },
   "outputs": [
    {
     "name": "stdout",
     "output_type": "stream",
     "text": [
      "{'seq3': {'CAAC': 0, 'CBG': 0, 'ACTG': 0, 'GGG': 3}, 'seq1': {'CAAC': 2, 'CBG': 0, 'ACTG': 0, 'GGG': 1}, 'seq2': {'CAAC': 1, 'CBG': 0, 'ACTG': 1, 'GGG': 0}}\n"
     ]
    }
   ],
   "source": [
    "sequences = {\"seq1\":sequence1, \"seq2\":sequence2, \"seq3\":sequence3}\n",
    "rslts = count_kmers(sequences,kmers=(\"ACTG\", \"CAAC\", \"CBG\", \"GGG\"))\n",
    "assert_true(type(rslts)==dict)\n",
    "assert_true(\"seq1\" in rslts)\n",
    "assert_false(\"CGB\" in rslts[\"seq1\"])\n",
    "assert_equal(rslts[\"seq1\"][\"GGG\"],1)"
   ]
  },
  {
   "cell_type": "code",
   "execution_count": null,
   "metadata": {
    "collapsed": true,
    "deletable": false,
    "editable": false,
    "nbgrader": {
     "checksum": "ca79264fc5a9577879a6d77b41b3fcec",
     "grade": true,
     "grade_id": "cell-e63bfcabe80c7acc",
     "locked": true,
     "points": 10,
     "schema_version": 1,
     "solution": false
    }
   },
   "outputs": [],
   "source": []
  },
  {
   "cell_type": "code",
   "execution_count": null,
   "metadata": {
    "collapsed": true,
    "deletable": false,
    "editable": false,
    "nbgrader": {
     "checksum": "68376ef2b2a26e1ceec4447ba459484c",
     "grade": true,
     "grade_id": "cell-d0aa3fc870398bf1",
     "locked": true,
     "points": 10,
     "schema_version": 1,
     "solution": false
    }
   },
   "outputs": [],
   "source": []
  },
  {
   "cell_type": "code",
   "execution_count": null,
   "metadata": {
    "collapsed": true,
    "deletable": false,
    "editable": false,
    "nbgrader": {
     "checksum": "975b056b150088e61eedbf2c29d2df86",
     "grade": true,
     "grade_id": "cell-84bd1f44222f31ca",
     "locked": true,
     "points": 10,
     "schema_version": 1,
     "solution": false
    }
   },
   "outputs": [],
   "source": []
  },
  {
   "cell_type": "code",
   "execution_count": null,
   "metadata": {
    "collapsed": true,
    "deletable": false,
    "editable": false,
    "nbgrader": {
     "checksum": "58762f1f796ddb9eb4f2992e67514e30",
     "grade": true,
     "grade_id": "cell-ff0772453948090b",
     "locked": true,
     "points": 10,
     "schema_version": 1,
     "solution": false
    }
   },
   "outputs": [],
   "source": []
  },
  {
   "cell_type": "code",
   "execution_count": null,
   "metadata": {
    "collapsed": true,
    "deletable": false,
    "editable": false,
    "nbgrader": {
     "checksum": "925a2bf50b709ef704db200b17daba04",
     "grade": true,
     "grade_id": "cell-910e692147050370",
     "locked": true,
     "points": 10,
     "schema_version": 1,
     "solution": false
    }
   },
   "outputs": [],
   "source": []
  },
  {
   "cell_type": "code",
   "execution_count": null,
   "metadata": {
    "collapsed": true
   },
   "outputs": [],
   "source": []
  }
 ],
 "metadata": {
  "anaconda-cloud": {},
  "kernelspec": {
   "display_name": "Python 3",
   "language": "python",
   "name": "python3"
  },
  "language_info": {
   "codemirror_mode": {
    "name": "ipython",
    "version": 3
   },
   "file_extension": ".py",
   "mimetype": "text/x-python",
   "name": "python",
   "nbconvert_exporter": "python",
   "pygments_lexer": "ipython3",
   "version": "3.5.2"
  }
 },
 "nbformat": 4,
 "nbformat_minor": 1
}

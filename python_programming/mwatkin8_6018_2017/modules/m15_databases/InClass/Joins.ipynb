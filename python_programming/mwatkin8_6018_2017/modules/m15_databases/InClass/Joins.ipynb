{
 "cells": [
  {
   "cell_type": "code",
   "execution_count": null,
   "metadata": {},
   "outputs": [],
   "source": [
    "from IPython.display import Image\n",
    "import sqlite3 as sq\n",
    "\n"
   ]
  },
  {
   "cell_type": "markdown",
   "metadata": {},
   "source": [
    "## JOINS\n",
    "\n",
    "Having split data between different tables, we need to be able to ``join`` the data back together:\n",
    "\n",
    ">An SQL JOIN clause is used to combine rows from two or more tables, based on a common field between them.\n",
    ">\n",
    ">The most common type of join is: SQL INNER JOIN (simple join). An SQL INNER JOIN returns all rows from multiple tables where the join condition is met. ([W3Schools SQL](http://www.w3schools.com/sql/sql_join.asp))"
   ]
  },
  {
   "cell_type": "code",
   "execution_count": null,
   "metadata": {},
   "outputs": [],
   "source": [
    "conn = sq.connect(\":memory:\")\n",
    "\n",
    "cursor = conn.cursor()\n",
    "\n",
    "cursor.execute(\"\"\"CREATE TABLE IF NOT EXISTS persons (id int, name text, zip_code text)\"\"\")\n",
    "\n",
    "cursor.executemany(\"\"\"INSERT INTO persons VALUES (?,?,?)\"\"\",[(1,\"Rick\",\"30062\"),(2,\"Mike\",\"30062\"),(3,\"Jenny\",\"01209\")])\n",
    "\n",
    "cursor.execute(\"\"\"CREATE TABLE IF NOT EXISTS contacts (contact_id int, phone_number text)\"\"\")\n",
    "\n",
    "cursor.executemany(\"\"\"INSERT INTO contacts VALUES (?,?)\"\"\",[(1,\"555-111-1234\"),\n",
    "                                                            (2,\"555-222-2345\"),(2,\"555-212-2322\"),\n",
    "                                                            (3,\"555-333-3456\"),\n",
    "                                                            (3,\"555-334-3411\")])"
   ]
  },
  {
   "cell_type": "code",
   "execution_count": null,
   "metadata": {},
   "outputs": [],
   "source": [
    "cursor.execute(\"\"\"SELECT * FROM persons JOIN \n",
    "                      contacts ON persons.id = contacts.contact_id\"\"\")\n",
    "cursor.fetchall()"
   ]
  },
  {
   "cell_type": "markdown",
   "metadata": {},
   "source": [
    "### [There are multiple kinds of joins](http://www.w3schools.com/sql/sql_join.asp)\n",
    "\n",
    "* **INNER JOIN:** Returns all rows when there is at least one match in BOTH tables\n",
    ">A INNER JOIN creates a new result table by combining column values of two tables (table1 and table2) based upon the join-predicate. The query compares each row of table1 with each row of table2 to find all pairs of rows which satisfy the join-predicate. When the join-predicate is satisfied, column values for each matched pair of rows of A and B are combined into a result row. \n",
    ">\n",
    "An INNER JOIN is the most common type of join and is the default type of join. You can use INNER keyword optionally. ([Joins in SQLite](http://www.tutorialspoint.com/sqlite/sqlite_using_joins.htm))\n",
    "* ** OUTER JOIN:**\n",
    ">The OUTER JOIN is an extension of the INNER JOIN. Though SQL standard defines three types of OUTER JOINs: LEFT, RIGHT, and FULL but SQLite only supports the LEFT OUTER JOIN.\n",
    ">\n",
    "The OUTER JOINs have a condition that is identical to INNER JOINs, expressed using an ON, USING, or NATURAL keyword. The initial results table is calculated the same way. Once the primary JOIN is calculated, an OUTER join will take any unjoined rows from one or both tables, pad them out with NULLs, and append them to the resulting table. ([Joins in SQLite](http://www.tutorialspoint.com/sqlite/sqlite_using_joins.htm))\n",
    "\n",
    "    * **LEFT JOIN:** Return all rows from the left table, and the matched rows from the right table\n",
    "    * **RIGHT JOIN:** Return all rows from the right table, and the matched rows from the left table\n",
    "    * **FULL JOIN:** Return all rows when there is a match in ONE of the tables\n",
    "* **CROSS JOIN:** \n",
    ">A CROSS JOIN matches every row of the first table with every row of the second table. If the input tables have x and y columns, respectively, the resulting table will have x*y columns. Because CROSS JOINs have the potential to generate extremely large tables, care must be taken to only use them when appropriate. ([Joins in SQLite](http://www.tutorialspoint.com/sqlite/sqlite_using_joins.htm))\n",
    "\n"
   ]
  },
  {
   "cell_type": "code",
   "execution_count": null,
   "metadata": {},
   "outputs": [],
   "source": [
    "cursor.execute(\"\"\"SELECT * FROM persons \n",
    "                     LEFT JOIN contacts ON \n",
    "                     persons.id = contacts.contact_id\"\"\")\n",
    "cursor.fetchall()"
   ]
  },
  {
   "cell_type": "markdown",
   "metadata": {},
   "source": [
    "### [SQLite Natural Join](https://www.sqlite.org/lang_select.html)\n",
    ">If the NATURAL keyword is in the join-operator then an implicit USING clause is added to the join-constraints. The implicit USING clause contains each of the column names that appear in both the left and right-hand input datasets. If the left and right-hand input datasets feature no common column names, then the NATURAL keyword has no effect on the results of the join. A USING or ON clause may not be added to a join that specifies the NATURAL keyword."
   ]
  },
  {
   "cell_type": "code",
   "execution_count": null,
   "metadata": {},
   "outputs": [],
   "source": [
    "cursor.execute(\"\"\"SELECT * FROM contacts NATURAL JOIN persons\"\"\")\n",
    "cursor.fetchall()"
   ]
  },
  {
   "cell_type": "code",
   "execution_count": null,
   "metadata": {},
   "outputs": [],
   "source": [
    "cursor.execute(\"\"\"SELECT * FROM persons CROSS JOIN contacts\"\"\")\n",
    "cursor.fetchall()"
   ]
  },
  {
   "cell_type": "code",
   "execution_count": null,
   "metadata": {},
   "outputs": [],
   "source": [
    "cursor.execute(\"\"\"SELECT * FROM persons LEFT JOIN contacts ON persons.id = contacts.contact_id\"\"\")\n",
    "cursor.fetchall()"
   ]
  },
  {
   "cell_type": "code",
   "execution_count": null,
   "metadata": {},
   "outputs": [],
   "source": []
  }
 ],
 "metadata": {
  "kernelspec": {
   "display_name": "Python 3",
   "language": "python",
   "name": "python3"
  },
  "language_info": {
   "codemirror_mode": {
    "name": "ipython",
    "version": 3
   },
   "file_extension": ".py",
   "mimetype": "text/x-python",
   "name": "python",
   "nbconvert_exporter": "python",
   "pygments_lexer": "ipython3",
   "version": "3.5.2"
  }
 },
 "nbformat": 4,
 "nbformat_minor": 1
}

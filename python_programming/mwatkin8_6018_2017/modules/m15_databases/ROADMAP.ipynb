{
 "cells": [
  {
   "cell_type": "markdown",
   "metadata": {},
   "source": [
    "# Working with Relational Databases\n",
    "\n",
    "Relational databases are a very important concept within biomedical sciences. In this module we will work with both [SQLite]() and [MySQL](), two popular open-source databases that fill different niches. Aother important open-source relational database is [PostGresql](). Properitary relational databses include [Microsoft Access]() and [Oracle](). \n",
    "\n",
    "Alternatives to relational databases are usually referred to as NoSQL databases. NoSQL databases have become more popular recently, but we will not address them here."
   ]
  },
  {
   "cell_type": "code",
   "execution_count": null,
   "metadata": {},
   "outputs": [],
   "source": [
    "from IPython.display import YouTubeVideo"
   ]
  },
  {
   "cell_type": "code",
   "execution_count": null,
   "metadata": {},
   "outputs": [],
   "source": []
  },
  {
   "cell_type": "markdown",
   "metadata": {},
   "source": [
    "## Online Book Chapter\n",
    "\n",
    "The following chapter is accessible through the University of Utah's libraries. You will need to be on a University of Utah network or logged into a University of Utah VPN.\n",
    "\n",
    "[\"Python’s Built-in sqlite3 Module\" from *Foundations for Analytics with Python* by Clinton W. Brownley](http://proquest.safaribooksonline.com/book/programming/python/9781491922521/4dot-databases/pythonapostrophes_built_in_sqlite3_modul_html?uicode=uutah)"
   ]
  },
  {
   "cell_type": "markdown",
   "metadata": {},
   "source": [
    "## Database normalization\n",
    "\n",
    "The following videos about relational databases were prepared by [Bernie LaSalle](http://medicine.utah.edu/faculty/mddetail.php?facultyID=u0113808)"
   ]
  },
  {
   "cell_type": "code",
   "execution_count": null,
   "metadata": {},
   "outputs": [],
   "source": [
    "YouTubeVideo(\"fDSvmcAdPU0\", width=600)"
   ]
  },
  {
   "cell_type": "code",
   "execution_count": null,
   "metadata": {},
   "outputs": [],
   "source": [
    "YouTubeVideo(\"7t6e5xCmJWY\", width=600)"
   ]
  },
  {
   "cell_type": "markdown",
   "metadata": {},
   "source": [
    "## [Python Central SQLite tutorial](http://pythoncentral.io/introduction-to-sqlite-in-python/)"
   ]
  },
  {
   "cell_type": "markdown",
   "metadata": {},
   "source": [
    "## ClassPrep\n",
    "\n",
    "* [Relational Databases](./ClassPrep/1-RelationalDBs.ipynb)\n",
    "* [SQLite](./ClassPrep/2-SQLite.ipynb)\n",
    "* [Seinfeld Example](./ClassPrep/3-FoodExample.ipynb)"
   ]
  },
  {
   "cell_type": "markdown",
   "metadata": {},
   "source": [
    "## InClass\n",
    "* [Normal Form](./InClass/NormalForm.ipynb)\n",
    "* [Joins](./InClass/Joins.ipynb)\n",
    "* [Identifying patient cohorts](./InClass/identifying_mimic2_cohorts.ipynb)\n",
    "* [PAH Cohort](./InClass/Identifying_PAH_MIMIC2.ipynb)\n",
    "* [Creating a DB of NIH grants awarded](./InClass/db_for_nih_funding.ipynb)"
   ]
  },
  {
   "cell_type": "markdown",
   "metadata": {},
   "source": [
    "# Resources\n",
    "\n",
    "* [A SQL cheat sheet](http://cse.unl.edu/~sscott/ShowFiles/SQL/CheatSheet/SQLCheatSheet.html)\n",
    "* [Another cheat sheet](http://www.sql-tutorial.net/sql-cheat-sheet.pdf)"
   ]
  },
  {
   "cell_type": "code",
   "execution_count": null,
   "metadata": {},
   "outputs": [],
   "source": []
  }
 ],
 "metadata": {
  "anaconda-cloud": {},
  "kernelspec": {
   "display_name": "Python 3",
   "language": "python",
   "name": "python3"
  },
  "language_info": {
   "codemirror_mode": {
    "name": "ipython",
    "version": 3
   },
   "file_extension": ".py",
   "mimetype": "text/x-python",
   "name": "python",
   "nbconvert_exporter": "python",
   "pygments_lexer": "ipython3",
   "version": "3.5.2"
  }
 },
 "nbformat": 4,
 "nbformat_minor": 1
}

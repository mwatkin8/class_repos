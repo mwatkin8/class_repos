{
 "cells": [
  {
   "cell_type": "markdown",
   "metadata": {},
   "source": [
    "# Visualizing Urine output values from MIMIC2\n",
    "\n"
   ]
  },
  {
   "cell_type": "code",
   "execution_count": null,
   "metadata": {},
   "outputs": [],
   "source": [
    "%matplotlib inline"
   ]
  },
  {
   "cell_type": "code",
   "execution_count": null,
   "metadata": {},
   "outputs": [],
   "source": [
    "import pymysql\n",
    "import pandas as pd\n",
    "import os\n",
    "import seaborn as sns"
   ]
  },
  {
   "cell_type": "markdown",
   "metadata": {},
   "source": [
    "### Connect to MySQL server\n",
    "\n",
    "Every time the MySQL Docker server comes up it gets a new IP address. use ``docker inspect mimic2-mysql | grep IP`` to identify the correct IP address to use."
   ]
  },
  {
   "cell_type": "code",
   "execution_count": null,
   "metadata": {},
   "outputs": [],
   "source": [
    "conn = pymysql.connect(host=\"mysql\",port=3306,\n",
    "                       user=\"jovyan\",passwd='jovyan',\n",
    "                       db='mimic2')"
   ]
  },
  {
   "cell_type": "code",
   "execution_count": null,
   "metadata": {},
   "outputs": [],
   "source": [
    "cursor = conn.cursor()"
   ]
  },
  {
   "cell_type": "code",
   "execution_count": null,
   "metadata": {},
   "outputs": [],
   "source": [
    "urineoutput = pd.read_sql(\"\"\"SELECT ioevents.subject_id, ioevents.volume  \n",
    "                          FROM ioevents INNER JOIN icd9 ON\n",
    "                              ioevents.subject_id = icd9.subject_id\n",
    "                          WHERE itemid in (55, 56, 57, 61, 65, 69, 85, 94, 96, 288, \\\n",
    "                                           405, 428, 473, 651, 715, 1922, 2042, \\\n",
    "                                           2068, 2111, 2119, 2130, 2366, 2463, \\\n",
    "                                           2507, 2510, 2592, 2676, 2810, 2859, \\\n",
    "                                           3053, 3175, 3462, 3519, 3966, 3987, 4132, 4253, 5927) \n",
    "                                AND (icd9.code = '427.31')\"\"\",conn)"
   ]
  },
  {
   "cell_type": "code",
   "execution_count": null,
   "metadata": {},
   "outputs": [],
   "source": [
    "SELECT noteevents.subject_id, \n",
    "                      noteevents.category, \n",
    "                      noteevents.text, \n",
    "                      icd9.code \n",
    "               FROM noteevents INNER JOIN icd9 ON \n",
    "                      noteevents.subject_id = icd9.subject_id \n",
    "               WHERE (icd9.code = '427.31' ) \n",
    "                      AND noteevents.category = 'Nursing/Other'\"\"\""
   ]
  },
  {
   "cell_type": "code",
   "execution_count": null,
   "metadata": {},
   "outputs": [],
   "source": [
    "urineoutput.shape"
   ]
  },
  {
   "cell_type": "code",
   "execution_count": null,
   "metadata": {},
   "outputs": [],
   "source": [
    "urineoutput[\"subject_id\"].unique()"
   ]
  },
  {
   "cell_type": "code",
   "execution_count": null,
   "metadata": {},
   "outputs": [],
   "source": [
    "sns.distplot(urineoutput[urineoutput[\"subject_id\"].isin([26,61,21,32711])][\"volume\"].dropna(), \n",
    "             bins=100)"
   ]
  },
  {
   "cell_type": "code",
   "execution_count": null,
   "metadata": {},
   "outputs": [],
   "source": []
  }
 ],
 "metadata": {
  "kernelspec": {
   "display_name": "Python 3",
   "language": "python",
   "name": "python3"
  },
  "language_info": {
   "codemirror_mode": {
    "name": "ipython",
    "version": 3
   },
   "file_extension": ".py",
   "mimetype": "text/x-python",
   "name": "python",
   "nbconvert_exporter": "python",
   "pygments_lexer": "ipython3",
   "version": "3.5.2"
  }
 },
 "nbformat": 4,
 "nbformat_minor": 0
}

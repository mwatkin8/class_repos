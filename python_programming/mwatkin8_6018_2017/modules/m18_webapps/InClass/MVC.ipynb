{
 "cells": [
  {
   "cell_type": "code",
   "execution_count": null,
   "metadata": {},
   "outputs": [],
   "source": [
    "from IPython.display import YouTubeVideo\n",
    "\n",
    "YouTubeVideo(\"1fEf7T9fGB4\")"
   ]
  },
  {
   "cell_type": "markdown",
   "metadata": {},
   "source": [
    "# Model View Controller Architecture\n",
    "[This is largely drawn from Wikipedia](http://en.wikipedia.org/wiki/Model%E2%80%93view%E2%80%93controller)\n",
    "\n",
    "* MVC is a General Principle of User Interface design and is not specific to web applications.\n",
    "* The general idea is breaking your program into three parts\n",
    "    * Model\n",
    "    * View\n",
    "    * Controller\n",
    "    "
   ]
  },
  {
   "cell_type": "markdown",
   "metadata": {
    "internals": {
     "slide_helper": "subslide_end",
     "slide_type": "subslide"
    },
    "slide_helper": "subslide_end",
    "slideshow": {
     "slide_type": "subslide"
    }
   },
   "source": [
    "![MVC](http://upload.wikimedia.org/wikipedia/commons/f/fd/MVC-Process.png)"
   ]
  },
  {
   "cell_type": "markdown",
   "metadata": {
    "internals": {
     "slide_helper": "subslide_end",
     "slide_type": "subslide"
    },
    "slide_helper": "subslide_end",
    "slideshow": {
     "slide_type": "subslide"
    }
   },
   "source": [
    "## MVC: Model\n",
    "\n",
    "* The **model** is the domain problem your program is addressing. What data are you interested in? How are you representing it?\n",
    "* In Web applications, like Flask, you think of your model in terms of **classes and database tables**\n",
    "    * A class corresponds to a table in the database\n",
    "    * An attribute of the class corresponds to a column in the table"
   ]
  },
  {
   "cell_type": "markdown",
   "metadata": {
    "internals": {
     "slide_helper": "subslide_end",
     "slide_type": "subslide"
    },
    "slide_helper": "subslide_end",
    "slideshow": {
     "slide_type": "subslide"
    }
   },
   "source": [
    "## MVC: View\n",
    "\n",
    "* The **view** is how we present information (e.g. models) to the user.\n",
    "    * You want to keep logic out of the view.\n",
    "    * In web applications, the view is the web page\n",
    "        * We'll use **templates** to create dynamic HTML pages (pages where values are changed based on the state of the program)\n",
    "        "
   ]
  },
  {
   "cell_type": "markdown",
   "metadata": {
    "internals": {
     "slide_helper": "subslide_end",
     "slide_type": "subslide"
    },
    "slide_helper": "subslide_end",
    "slideshow": {
     "slide_type": "subslide"
    }
   },
   "source": [
    "## MVC: Controller\n",
    "\n",
    "* The controller is the logic of the program function.\n",
    "* The controller asks and answers questions about how the model is modified based on input from the user. It also controls the flow of the program.\n",
    "    * For example, if the user enters value $Y$, display page $a$ otherwise display page $b$"
   ]
  },
  {
   "cell_type": "markdown",
   "metadata": {
    "internals": {
     "slide_type": "subslide"
    },
    "slideshow": {
     "slide_type": "subslide"
    }
   },
   "source": [
    "## Resources\n",
    "* [Model View Controller tutorial](https://realpython.com/blog/python/the-model-view-controller-mvc-paradigm-summarized-with-legos/)"
   ]
  },
  {
   "cell_type": "code",
   "execution_count": null,
   "metadata": {
    "internals": {
     "slide_helper": "subslide_end"
    },
    "slide_helper": "slide_end",
    "slideshow": {
     "slide_type": "-"
    }
   },
   "outputs": [],
   "source": []
  }
 ],
 "metadata": {
  "kernelspec": {
   "display_name": "Python 2",
   "language": "python",
   "name": "python2"
  },
  "language_info": {
   "codemirror_mode": {
    "name": "ipython",
    "version": 2
   },
   "file_extension": ".py",
   "mimetype": "text/x-python",
   "name": "python",
   "nbconvert_exporter": "python",
   "pygments_lexer": "ipython2",
   "version": "2.7.13"
  }
 },
 "nbformat": 4,
 "nbformat_minor": 1
}

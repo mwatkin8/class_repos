{
 "cells": [
  {
   "cell_type": "code",
   "execution_count": null,
   "metadata": {},
   "outputs": [],
   "source": [
    "import pandas as pd\n",
    "import re"
   ]
  },
  {
   "cell_type": "markdown",
   "metadata": {},
   "source": [
    "* Write regular expressions to extract gene mutations and protein changes\n",
    "\n",
    "A single-letter amino acid code for the original codon followed by the numeric codon location followed by the changed codon.\n",
    "\n",
    "fs->frameshift\n",
    "X stop Stop count\n"
   ]
  },
  {
   "cell_type": "code",
   "execution_count": null,
   "metadata": {},
   "outputs": [],
   "source": []
  },
  {
   "cell_type": "code",
   "execution_count": null,
   "metadata": {},
   "outputs": [],
   "source": [
    "bcj201559t1 = pd.read_html(\"\"\"http://www.nature.com/bcj/journal/v5/n7/fig_tab/bcj201559t1.html#figure-title\"\"\", \n",
    "                           skiprows=0)[0]\n",
    "bcj201559t1.head(50)"
   ]
  },
  {
   "cell_type": "code",
   "execution_count": null,
   "metadata": {},
   "outputs": [],
   "source": [
    "for "
   ]
  },
  {
   "cell_type": "code",
   "execution_count": null,
   "metadata": {},
   "outputs": [],
   "source": [
    "\"R213DfsX34\"\n",
    "ptst_txt = \" \".join([x for x in  bcj201559t1.iloc[:,5]])\n",
    "\n",
    "regex = \"\"\"%s\"\"\"%(\"\".join(aacs))\n",
    "print(regex)\n",
    "frame_shift = re.compile(r\"\"\"(?P<wild_type>[GALMFWKQESPVICYHRNDT])(?P<position>\\d+)(?P<mutant>[GALMFWKQESPVICYHRNDT])fsX(?P<termination_loc>\\d+)\"\"\")\n",
    "\n",
    "frame_shift.findall(ptst_txt)"
   ]
  },
  {
   "cell_type": "code",
   "execution_count": null,
   "metadata": {},
   "outputs": [],
   "source": []
  },
  {
   "cell_type": "code",
   "execution_count": null,
   "metadata": {},
   "outputs": [],
   "source": []
  },
  {
   "cell_type": "code",
   "execution_count": null,
   "metadata": {},
   "outputs": [],
   "source": [
    "snp = re.compile(r\"\"\"c\\.(?P<nucleotide_pos>\\d+)(?P<wild_type>[ACTG])>(?P<variant>[ACTG])\"\"\")\n"
   ]
  },
  {
   "cell_type": "code",
   "execution_count": null,
   "metadata": {},
   "outputs": [],
   "source": [
    "\n",
    "snp_del = re.compile(r\"\"\"c\\.(?P<nucleotide_start>\\d+)(_(?P<nucleotide_end>\\d+))?del(?P<WT>[ACTG])?\"\"\")\n",
    "snp_del.findall(tst_txt)\n",
    "for m in snp_del.finditer(tst_txt):\n",
    "    print(\"nucleotide start position: %s nucleotide end position: %s wild type %s\"%(\n",
    "    m.group(\"nucleotide_start\"), m.group(\"nucleotide_end\"), m.group(\"WT\")))"
   ]
  },
  {
   "cell_type": "code",
   "execution_count": null,
   "metadata": {},
   "outputs": [],
   "source": [
    "tst_txt = \" \".join([x for x in  bcj201559t1.iloc[:,4]])\n",
    "for m in snp.finditer(tst_txt):\n",
    "    print(m.group(\"nucleotide_pos\"), m.group(\"wild_type\"), m.group(\"variant\"))"
   ]
  },
  {
   "cell_type": "markdown",
   "metadata": {},
   "source": [
    "### Amino Acid Codes"
   ]
  },
  {
   "cell_type": "code",
   "execution_count": null,
   "metadata": {},
   "outputs": [],
   "source": [
    "aac = pd.read_html(\"http://130.88.97.239/bioactivity/aacodefrm.html\")[0]\n",
    "aac"
   ]
  },
  {
   "cell_type": "code",
   "execution_count": null,
   "metadata": {},
   "outputs": [],
   "source": [
    "aacs = list(aac[0])+list(aac[13])\n",
    "aacs"
   ]
  },
  {
   "cell_type": "markdown",
   "metadata": {},
   "source": [
    "# In-class Exercises\n",
    "* Write a regular expression to extract the sequence ID from a fasta file.\n",
    "\n",
    ">A sequence in FASTA format begins with a single-line description, followed by lines of sequence data. The description line (defline) is distinguished from the sequence data by a greater-than (\">\") symbol at the beginning. It is recommended that all lines of text be shorter than 80 characters in length. An example sequence in FASTA format is:\n",
    "\n",
    "~~~~\n",
    ">P01013 GENE X PROTEIN (OVALBUMIN-RELATED)\n",
    "QIKDLLVSSSTDLDTTLVLVNAIYFKGMWKTAFNAEDTREMPFHVTKQESKPVQMMCMNNSFNVATLPAE\n",
    "KMKILELPFASGDLSMLVLLPDEVSDLERIEKTINFEKLTEWTNPNTMEKRRVKVYLPQMKIEEKYNLTS\n",
    "VLMALGMTDLFIPSANLTGISSAESLKISQAVHGAFMELSEDGIEMAGSTGVIEDIKHSPESEQFRADHP\n",
    "FLFLIKHNPTNTIVYFGRYWSP`\n",
    "~~~~"
   ]
  },
  {
   "cell_type": "code",
   "execution_count": null,
   "metadata": {},
   "outputs": [],
   "source": [
    "with open(\"../Resources/ex_ref.fasta\") as f0:\n",
    "    seqs = f0.read()\n",
    "seqs[:100]\n",
    "\n",
    "exp = re.compile(r\"\"\">(?P<id>\\w+)\\b\"\"\")\n",
    "for i in exp.finditer(seqs):\n",
    "    print(i.group('id'))\n"
   ]
  },
  {
   "cell_type": "markdown",
   "metadata": {},
   "source": [
    "* Write a regular expression to extract the sequence ID from a fastq file.\n",
    "\n",
    ">Files from various platforms employing this format are acceptable:\n",
    "\n",
    "~~~~\n",
    "@<identifier and other information>\n",
    "<sequence>\n",
    "+<identifier and other information OR empty string>\n",
    "<quality>\n",
    "~~~~"
   ]
  },
  {
   "cell_type": "code",
   "execution_count": null,
   "metadata": {},
   "outputs": [],
   "source": [
    "with open(\"../Resources/ex_test.fastq\") as f0:\n",
    "    seqs_q = f0.read()\n",
    "seqs[:100]\n",
    "\n",
    "expq = re.compile(r\"\"\"(@(?P<id>\\w+):(\\d+):(\\d+):(\\d+):(\\d+)#(0/[12]))\"\"\")\n",
    "#expq = re.compile(r\"\"\"@[a-zA-Z0-9:#/]+\\n\"\"\")\n",
    "for i in expq.finditer(seqs_q):\n",
    "    print(i.group(0))\n",
    "    #print(i.group('id'))\n",
    "    "
   ]
  },
  {
   "cell_type": "markdown",
   "metadata": {},
   "source": [
    "* Write a regular expression to extract date of death from obits.txt"
   ]
  },
  {
   "cell_type": "code",
   "execution_count": null,
   "metadata": {},
   "outputs": [],
   "source": [
    "date=re.compile(r\"\"\"((?P<month>[A-Z][a-z]{2,}(\\.)?) (?P<day>[0-9]{1,2}))\"\"\")\n",
    "date.findall(txt)"
   ]
  },
  {
   "cell_type": "markdown",
   "metadata": {},
   "source": [
    "* Write a regular expression to extract place of residence from obits.txt"
   ]
  },
  {
   "cell_type": "code",
   "execution_count": null,
   "metadata": {},
   "outputs": [],
   "source": [
    "with open(\"../Resources/obits.txt\") as f0:\n",
    "    txt = f0.read()\n",
    "place_of_death = re.compile(r\"\"\"of (?P<residence>[A-Z][a-zA-Z ]+),\"\"\")\n",
    "matches = place_of_death.finditer(txt)\n",
    "for m in matches:\n",
    "    print(m.group(\"residence\"))"
   ]
  },
  {
   "cell_type": "markdown",
   "metadata": {},
   "source": [
    "* Write regular expressions to extract %stenosis from us.txt"
   ]
  },
  {
   "cell_type": "code",
   "execution_count": null,
   "metadata": {},
   "outputs": [],
   "source": [
    "with open(\"../Resources/us.txt\") as f0:\n",
    "    ustxt = f0.read()\n",
    "#print(ustxt[:2000])\n",
    "\n",
    "loc = re.compile(r\"\"\"(\\d\\d-[0-9]{2,2}%)|(less than [0-9]{2,3}%)|(occlusion|occulded)\"\"\")\n",
    "loc.findall(ustxt)\n",
    "\n"
   ]
  },
  {
   "cell_type": "markdown",
   "metadata": {},
   "source": [
    "* Use regular expressions to modify reports queried from MIMIC-2. Find, the de-identified name patterns (such as those shown below) and replace them with randomly selected first and last names:\n",
    "```\n",
    "DR. [**First Name4 (NamePattern1) **] [**Last Name (NamePattern1) **]\n",
    "\n",
    "[**First Name8 (NamePattern2) **] [**First Name4 (NamePattern1) 6465**] [**Last Name (NamePattern1) **]\n",
    "```\n",
    "\n",
    "* Use regular expressions to modify the modified reports queried from MIMIC-2\n",
    "    * Identify ages and replace them with `[**Age in XXs**]`\n",
    "```\n",
    "48-year-old\n",
    "patient's father is 82 years old\n",
    "mother is healthy at age 83\n",
    "```\n",
    "\n",
    "~~~~\n",
    "[**Last Name (NamePattern4) **]. [**First Name4 (NamePattern1) **]\n",
    "~~~~"
   ]
  },
  {
   "cell_type": "code",
   "execution_count": null,
   "metadata": {},
   "outputs": [],
   "source": [
    "last_name=re.compile(r\"\"\"\\[\\*\\*Last Name \\(NamePattern\\d+\\) \\*\\*\\]\"\"\")\n",
    "print(last_name.sub(\"Chapman\", report_txt))"
   ]
  },
  {
   "cell_type": "code",
   "execution_count": null,
   "metadata": {},
   "outputs": [],
   "source": [
    "import pymysql\n",
    "import pandas as pd\n",
    "import getpass"
   ]
  },
  {
   "cell_type": "code",
   "execution_count": null,
   "metadata": {},
   "outputs": [],
   "source": [
    "conn = pymysql.connect(host=\"mysql\",\n",
    "                       port=3306,user=\"jovyan\",\n",
    "                       passwd=getpass.getpass(\"Enter MySQL passwd for jovyan\"),db='mimic2')\n",
    "cursor = conn.cursor()"
   ]
  },
  {
   "cell_type": "code",
   "execution_count": null,
   "metadata": {},
   "outputs": [],
   "source": [
    "reports = pd.read_sql(\"SELECT text from noteevents WHERE category='DISCHARGE_SUMMARY' LIMIT 3\",conn)\n",
    "print(reports.shape)\n",
    "reports.head(10)"
   ]
  },
  {
   "cell_type": "code",
   "execution_count": null,
   "metadata": {},
   "outputs": [],
   "source": [
    "report_txt = \"\".join(r[\"text\"] for _,r in reports.iterrows())\n",
    "print(report_txt)"
   ]
  },
  {
   "cell_type": "code",
   "execution_count": null,
   "metadata": {},
   "outputs": [],
   "source": [
    "riter = reports.iterrows()"
   ]
  },
  {
   "cell_type": "code",
   "execution_count": null,
   "metadata": {},
   "outputs": [],
   "source": [
    "_,row = next(riter)"
   ]
  },
  {
   "cell_type": "code",
   "execution_count": null,
   "metadata": {},
   "outputs": [],
   "source": [
    "print(row[\"text\"])"
   ]
  },
  {
   "cell_type": "code",
   "execution_count": null,
   "metadata": {},
   "outputs": [],
   "source": []
  }
 ],
 "metadata": {
  "kernelspec": {
   "display_name": "Python 3",
   "language": "python",
   "name": "python3"
  },
  "language_info": {
   "codemirror_mode": {
    "name": "ipython",
    "version": 3
   },
   "file_extension": ".py",
   "mimetype": "text/x-python",
   "name": "python",
   "nbconvert_exporter": "python",
   "pygments_lexer": "ipython3",
   "version": "3.5.2"
  }
 },
 "nbformat": 4,
 "nbformat_minor": 2
}

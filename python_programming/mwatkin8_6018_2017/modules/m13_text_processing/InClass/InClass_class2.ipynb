{
 "cells": [
  {
   "cell_type": "code",
   "execution_count": null,
   "metadata": {},
   "outputs": [],
   "source": [
    "import pandas as pd\n",
    "import re\n",
    "from IPython.display import clear_output"
   ]
  },
  {
   "cell_type": "markdown",
   "metadata": {},
   "source": [
    "* Write regular expressions to extract gene mutations and protein changes\n",
    "\n",
    "A single-letter amino acid code for the original codon followed by the numeric codon location followed by the changed codon.\n",
    "\n",
    "fs->frameshift\n",
    "X stop Stop count\n"
   ]
  },
  {
   "cell_type": "code",
   "execution_count": null,
   "metadata": {},
   "outputs": [],
   "source": []
  },
  {
   "cell_type": "code",
   "execution_count": null,
   "metadata": {},
   "outputs": [],
   "source": [
    "bcj201559t1 = pd.read_html(\"\"\"http://www.nature.com/bcj/journal/v5/n7/fig_tab/bcj201559t1.html#figure-title\"\"\", \n",
    "                           skiprows=0)[0]\n",
    "bcj201559t1.head(10)"
   ]
  },
  {
   "cell_type": "code",
   "execution_count": null,
   "metadata": {},
   "outputs": [],
   "source": [
    "bcj201559t1.iloc[:,4]"
   ]
  },
  {
   "cell_type": "markdown",
   "metadata": {},
   "source": [
    "### Amino Acid Codes"
   ]
  },
  {
   "cell_type": "code",
   "execution_count": null,
   "metadata": {},
   "outputs": [],
   "source": [
    "aac = pd.read_html(\"http://130.88.97.239/bioactivity/aacodefrm.html\")[0]\n",
    "aac"
   ]
  },
  {
   "cell_type": "code",
   "execution_count": null,
   "metadata": {},
   "outputs": [],
   "source": [
    "aacs = list(aac[0])+list(aac[13])"
   ]
  },
  {
   "cell_type": "markdown",
   "metadata": {},
   "source": [
    "# In-class Exercises\n",
    "* Write a regular expression to extract the sequence ID from a fasta file.\n",
    "\n",
    ">A sequence in FASTA format begins with a single-line description, followed by lines of sequence data. The description line (defline) is distinguished from the sequence data by a greater-than (\">\") symbol at the beginning. It is recommended that all lines of text be shorter than 80 characters in length. An example sequence in FASTA format is:\n",
    "\n",
    "~~~~\n",
    ">P01013 GENE X PROTEIN (OVALBUMIN-RELATED)\n",
    "QIKDLLVSSSTDLDTTLVLVNAIYFKGMWKTAFNAEDTREMPFHVTKQESKPVQMMCMNNSFNVATLPAE\n",
    "KMKILELPFASGDLSMLVLLPDEVSDLERIEKTINFEKLTEWTNPNTMEKRRVKVYLPQMKIEEKYNLTS\n",
    "VLMALGMTDLFIPSANLTGISSAESLKISQAVHGAFMELSEDGIEMAGSTGVIEDIKHSPESEQFRADHP\n",
    "FLFLIKHNPTNTIVYFGRYWSP`\n",
    "~~~~"
   ]
  },
  {
   "cell_type": "code",
   "execution_count": null,
   "metadata": {},
   "outputs": [],
   "source": [
    "with open(\"../Resources/ex_ref.fasta\") as f0:\n",
    "    fseq = f0.read()\n",
    "fseq[:1000]"
   ]
  },
  {
   "cell_type": "code",
   "execution_count": null,
   "metadata": {},
   "outputs": [],
   "source": [
    "seqid = re.compile(r\"\"\"(>(?P<id>[A-Z0-9]+))\"\"\")\n",
    "for r in seqid.finditer(fseq):\n",
    "    print(r.group(\"id\"))"
   ]
  },
  {
   "cell_type": "markdown",
   "metadata": {},
   "source": [
    "* Write a regular expression to extract the sequence ID from a fastq file.\n",
    "\n",
    ">Files from various platforms employing this format are acceptable:\n",
    "\n",
    "~~~~\n",
    "@<identifier and other information>\n",
    "<sequence>\n",
    "+<identifier and other information OR empty string>\n",
    "<quality>\n",
    "~~~~"
   ]
  },
  {
   "cell_type": "code",
   "execution_count": null,
   "metadata": {},
   "outputs": [],
   "source": [
    "with open(\"../Resources/ex_test.fastq\") as f0:\n",
    "    qseq = f0.read()\n",
    "print(qseq[:1000])"
   ]
  },
  {
   "cell_type": "code",
   "execution_count": null,
   "metadata": {},
   "outputs": [],
   "source": [
    "id_line=re.compile(r'''@(?P<id>[A-Z0-9]+):(\\d+):(\\d+):(\\d+):(\\d+#\\d/\\d)''')\n",
    "for seq in id_line.finditer(qseq):\n",
    "    print(seq.group('id',5))\n",
    "    "
   ]
  },
  {
   "cell_type": "code",
   "execution_count": null,
   "metadata": {},
   "outputs": [],
   "source": [
    "with open(\"../Resources/obits.txt\") as f0:\n",
    "    obits = f0.read()\n",
    "print(obits[:1000])"
   ]
  },
  {
   "cell_type": "markdown",
   "metadata": {},
   "source": [
    "* Write a regular expression to extract date of death from obits.txt"
   ]
  },
  {
   "cell_type": "code",
   "execution_count": null,
   "metadata": {},
   "outputs": [],
   "source": [
    "dod = re.compile(r\"\"\"(died (?P<month>[a-zA-Z.]+) (?P<day>\\d{1,2}))\"\"\")\n",
    "for r in dod.finditer(obits):\n",
    "    print(r.group(\"month\"),r.group(\"day\"))"
   ]
  },
  {
   "cell_type": "markdown",
   "metadata": {},
   "source": [
    "* Write a regular expression to extract place of residence from obits.txt"
   ]
  },
  {
   "cell_type": "code",
   "execution_count": null,
   "metadata": {},
   "outputs": [],
   "source": [
    "residence = re.compile(r\"\"\"(of (?P<residence>[a-zA-Z ]+))\"\"\")\n",
    "for r in residence.finditer(obits):\n",
    "    print(r.group(\"residence\"))"
   ]
  },
  {
   "cell_type": "markdown",
   "metadata": {},
   "source": [
    "* Write regular expressions to extract %stenosis from us.txt"
   ]
  },
  {
   "cell_type": "code",
   "execution_count": null,
   "metadata": {},
   "outputs": [],
   "source": [
    "with open(\"../Resources/us.txt\") as f0:\n",
    "    us = f0.read()\n",
    "print(us[:2000])"
   ]
  },
  {
   "cell_type": "code",
   "execution_count": null,
   "metadata": {},
   "outputs": [],
   "source": [
    "#extract %stenosis from us.txt\n",
    "\n",
    "sten = re.compile(r\"\"\"(((?P<low>[0-9]+)-)?(?P<high>\\d{1,3})%)|occluded\"\"\", re.I)\n",
    "#?P immediately following an open paren specifies a named group\n",
    "#? after the close paren, group is optional\n",
    "#\\d = match any digit, equivalent to character class [0-9]\n",
    "\n",
    "for r in sten.finditer(us):\n",
    "    print(r.group(0),r.group(\"low\"),r.group(\"high\"))\n",
    "#r.group(0) is the whole string that you matched\n"
   ]
  },
  {
   "cell_type": "markdown",
   "metadata": {},
   "source": [
    "* Use regular expressions to modify reports queried from MIMIC-2. Find, the de-identified name patterns (such as those shown below) and replace them with randomly selected first and last names:\n",
    "\n",
    "~~~\n",
    "DR. [**First Name4 (NamePattern1) **] \n",
    "\n",
    "[**Last Name (NamePattern1) **]\n",
    "\n",
    "[**First Name8 (NamePattern2) **] \n",
    "\n",
    "[**First Name4 (NamePattern1) 6465**] \n",
    "\n",
    "[**Last Name (NamePattern1) **]\n",
    "\n",
    "[**Last Name (NamePattern1) 2054**]\n",
    "~~~\n",
    "\n",
    "* Use regular expressions to modify the modified reports queried from MIMIC-2\n",
    "    * Identify ages and replace them with `[**Age in XXs**]`\n",
    "```\n",
    "48-year-old\n",
    "patient's father is 82 years old\n",
    "mother is healthy at age 83\n",
    "```"
   ]
  },
  {
   "cell_type": "code",
   "execution_count": null,
   "metadata": {},
   "outputs": [],
   "source": [
    "import pymysql\n",
    "import pandas as pd\n",
    "import getpass\n",
    "\n",
    "conn = pymysql.connect(host=\"mysql\",\n",
    "                       port=3306,user=\"jovyan\",\n",
    "                       passwd=getpass.getpass(\"Enter MySQL passwd for jovyan\"),db='mimic2')\n",
    "cursor = conn.cursor()\n",
    "\n",
    "reports = pd.read_sql(\"\"\"SELECT text \n",
    "                         FROM noteevents \n",
    "                         WHERE category='DISCHARGE_SUMMARY' LIMIT 300\"\"\",\n",
    "                      conn)\n",
    "print(reports.shape)\n",
    "reports.head(10)"
   ]
  },
  {
   "cell_type": "markdown",
   "metadata": {},
   "source": [
    "### Use a `join` to put all the report texts into a single string"
   ]
  },
  {
   "cell_type": "code",
   "execution_count": null,
   "metadata": {},
   "outputs": [],
   "source": [
    "report_txt = \" \".join(reports[\"text\"])"
   ]
  },
  {
   "cell_type": "markdown",
   "metadata": {},
   "source": [
    "In class we were able to come up with a single regular expression that seems to capture most of the age patterns that we saw (`age`). However, we did end up with the numeric age in three different groups, so it wasn't obvious how we would use this in an automated manner to get the age out."
   ]
  },
  {
   "cell_type": "code",
   "execution_count": null,
   "metadata": {},
   "outputs": [],
   "source": [
    "age = re.compile(r\"\"\"([0-9]+(-|\\s)year(s)?(-|\\s)old)|([0-9]+ y\\.o\\.)|(\\bage [0-9]+)\"\"\")\n",
    "age.findall(report_txt)"
   ]
  },
  {
   "cell_type": "markdown",
   "metadata": {},
   "source": [
    "We then decided to use two distinct regular expressions: one to match patterns like \"48-year-old\" and another to match patterns like \"at age 83\".\n",
    "\n",
    "`age` is our regex to match the first pattern.\n",
    "\n",
    "**NOTE:** Compared to what we did in class, I had to add a ? to get correctly capture the \"73 y.o.\" pattern.\n",
    "\n",
    "```Python\n",
    "age2 = re.compile(r\"\"\"(?P<age>[0-9]+)(-|\\s)y(ear(s)?|\\.)(-|\\s)?o(ld|\\.)\"\"\")\n",
    "```"
   ]
  },
  {
   "cell_type": "code",
   "execution_count": null,
   "metadata": {},
   "outputs": [],
   "source": [
    "age2 = re.compile(r\"\"\"(?P<age>[0-9]+)(-|\\s)y(ear(s)?|\\.)(-|\\s)?o(ld|\\.)\"\"\")\n",
    "for m in age2.finditer(report_txt):\n",
    "    print(m.group(0, \"age\"))"
   ]
  },
  {
   "cell_type": "code",
   "execution_count": null,
   "metadata": {},
   "outputs": [],
   "source": [
    "age3 = re.compile(r\"\"\"\\bage(d)? (?P<age>[0-9]+)\"\"\")\n",
    "for m in age3.finditer(report_txt):\n",
    "    print(m.group(0, \"age\"))"
   ]
  },
  {
   "cell_type": "markdown",
   "metadata": {},
   "source": [
    "At this point we have two regular expressions to capture ages. Since we want to change the text, we wrote a function to take an age string and return a decades string `age_in_decades`. As we originally wrote it in class, `age_in_decades` took a string as an argument, used `age2` to find the numeric age and return a decades string. We then tried to use the `age2.sub()` method passing the function in place of a string. This did not work.\n",
    "\n",
    "However, after I class I found that the `re` module as a function `sub` that can take a function instead of a string for the replacement. [This stackoverflow discussion](https://stackoverflow.com/questions/18737863/passing-a-function-to-re-sub-in-python) helped me figure this out. I needed to modify the `age_in_decades` function to take a RegEx match object as an argument:"
   ]
  },
  {
   "cell_type": "code",
   "execution_count": null,
   "metadata": {},
   "outputs": [],
   "source": [
    "def age_in_decades(m):\n",
    "    age = int(m.group(\"age\"))\n",
    "    \n",
    "    return \"[** Age in %ss**]\"%(int(age/10)*10,)\n",
    "\n",
    "age_in_decades(next(age2.finditer(\"74-year-old\")))"
   ]
  },
  {
   "cell_type": "markdown",
   "metadata": {},
   "source": [
    "#### Call `re.sub` with `age3` and then pass the results of this to `re.sub` with `age2`"
   ]
  },
  {
   "cell_type": "code",
   "execution_count": null,
   "metadata": {},
   "outputs": [],
   "source": [
    "tmp = re.sub(age2, age_in_decades, re.sub(age3, age_in_decades, report_txt))"
   ]
  },
  {
   "cell_type": "code",
   "execution_count": null,
   "metadata": {},
   "outputs": [],
   "source": [
    "\"[** Age in 70s**]\" in tmp"
   ]
  },
  {
   "cell_type": "markdown",
   "metadata": {},
   "source": [
    "### Look at the lines that were changed"
   ]
  },
  {
   "cell_type": "code",
   "execution_count": null,
   "metadata": {},
   "outputs": [],
   "source": [
    "tmp_array = tmp.split(\"\\n\")\n",
    "report_txt_array = report_txt.split(\"\\n\")\n",
    "compare = zip(tmp_array, report_txt_array)\n",
    "\n",
    "for l in compare:\n",
    "    if l[0] != l[1]:\n",
    "        print(l[0])\n",
    "        print(l[1])\n",
    "        print()\n",
    "    "
   ]
  },
  {
   "cell_type": "markdown",
   "metadata": {},
   "source": [
    "## De-identify de-identified names\n",
    "\n",
    "We wrote a regular expression `name` to identify the de-identified last name pattern."
   ]
  },
  {
   "cell_type": "code",
   "execution_count": null,
   "metadata": {},
   "outputs": [],
   "source": [
    "\n",
    "name = re.compile(r\"\"\"\\[\\*\\*Last Name \\(NamePattern\\d*\\) \\d*\\*\\*\\]\"\"\")\n",
    "\n",
    "matched_names = [r.group(0) for r in name.finditer(report_txt)]"
   ]
  },
  {
   "cell_type": "markdown",
   "metadata": {},
   "source": [
    "### Read in csv file containing 2010 census surnames"
   ]
  },
  {
   "cell_type": "code",
   "execution_count": null,
   "metadata": {},
   "outputs": [],
   "source": [
    "surnames = pd.read_csv(\"../Resources/surnames.csv\")\n",
    "surnames.head()"
   ]
  },
  {
   "cell_type": "markdown",
   "metadata": {},
   "source": [
    "### Write a function to randomly select a name from the DataFrame"
   ]
  },
  {
   "cell_type": "code",
   "execution_count": null,
   "metadata": {},
   "outputs": [],
   "source": [
    "import random\n",
    "def get_lastname2(surnames, seed=None):\n",
    "    random.seed(seed)\n",
    "    v = random.random()\n",
    "    return surnames[surnames[\"cumulative_probability\"] >= v].iloc[0][\"name\"]\n"
   ]
  },
  {
   "cell_type": "markdown",
   "metadata": {},
   "source": [
    "We used a `set` to get the unique name patterns. We used dictionary comprehension to create a mapping between the de-identified name pattern and a randomly selected last name. "
   ]
  },
  {
   "cell_type": "code",
   "execution_count": null,
   "metadata": {},
   "outputs": [],
   "source": [
    "name_mapping = {n:get_lastname2(surnames) for n in set(matched_names)}"
   ]
  },
  {
   "cell_type": "code",
   "execution_count": null,
   "metadata": {},
   "outputs": [],
   "source": [
    "name_mapping"
   ]
  },
  {
   "cell_type": "code",
   "execution_count": null,
   "metadata": {},
   "outputs": [],
   "source": [
    "tmp2 = report_txt[:]\n",
    "for key, value in name_mapping.items():\n",
    "    tmp2 = tmp2.replace(key,value)"
   ]
  },
  {
   "cell_type": "code",
   "execution_count": null,
   "metadata": {},
   "outputs": [],
   "source": [
    "'[**Last Name (NamePattern1) **]' in tmp2"
   ]
  },
  {
   "cell_type": "code",
   "execution_count": null,
   "metadata": {},
   "outputs": [],
   "source": [
    "tmp2_array = tmp2.split(\"\\n\")\n",
    "report_txt_array = report_txt.split(\"\\n\")\n",
    "compare = zip(tmp2_array, report_txt_array)\n",
    "\n",
    "for l in compare:\n",
    "    if l[0] != l[1]:\n",
    "        print(l[0])\n",
    "        print(\"-\"*42)\n",
    "        print(l[1])\n",
    "        print()"
   ]
  },
  {
   "cell_type": "code",
   "execution_count": null,
   "metadata": {},
   "outputs": [],
   "source": []
  }
 ],
 "metadata": {
  "kernelspec": {
   "display_name": "Python 3",
   "language": "python",
   "name": "python3"
  },
  "language_info": {
   "codemirror_mode": {
    "name": "ipython",
    "version": 3
   },
   "file_extension": ".py",
   "mimetype": "text/x-python",
   "name": "python",
   "nbconvert_exporter": "python",
   "pygments_lexer": "ipython3",
   "version": "3.5.2"
  }
 },
 "nbformat": 4,
 "nbformat_minor": 2
}

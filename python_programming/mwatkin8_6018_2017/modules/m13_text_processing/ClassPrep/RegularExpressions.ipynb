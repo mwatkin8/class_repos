{
 "cells": [
  {
   "cell_type": "code",
   "execution_count": 2,
   "metadata": {},
   "outputs": [
    {
     "data": {
      "image/jpeg": "[encoded data removed]",
      "text/html": [
       "\n",
       "        <iframe\n",
       "            width=\"800\"\n",
       "            height=\"600\"\n",
       "            src=\"https://www.youtube.com/embed/jomReZxewo0\"\n",
       "            frameborder=\"0\"\n",
       "            allowfullscreen\n",
       "        ></iframe>\n",
       "        "
      ],
      "text/plain": [
       "<IPython.lib.display.YouTubeVideo at 0x7fd3907ce9e8>"
      ]
     },
     "execution_count": 2,
     "metadata": {},
     "output_type": "execute_result"
    }
   ],
   "source": [
    "from IPython.display import YouTubeVideo\n",
    "YouTubeVideo(\"jomReZxewo0\", height=600, width=800)"
   ]
  },
  {
   "cell_type": "markdown",
   "metadata": {},
   "source": [
    "# Regular Expressions\n",
    "\n",
    "## Motivation\n",
    "* Regular expressions are an integral part of many biomedical informatics research projects that involve information extraction.\n",
    "* Essentially regular expressions are compact pieces of code that allow you to match, extract, or substitute complex textual patterns. \n",
    "* Some applications include:\n",
    "    * Decision support: extracting pertinent medical information from text archive (Is patient’s digoxin drug level > 3?)\n",
    "    * Public Health: extracting names, locations, dates of death from obituaries\n",
    "    * NLP: Negation of findings and diseases in reports if a phrase is within six characters of a negation term\n",
    "\n",
    "## Are Regular Expressions Fun?\n",
    "* Maybe...But\n",
    ">If you've heard about regular expressions before, you probably know how powerful they are; if you haven't, prepare to be amazed.\n",
    ">\t\n",
    ">You should note, however, that mastering regular expressions may be a bit tricky at first. **Okay, very tricky actually.** (*Beginning Python: From Novice to Professional*)\n",
    "\n",
    "## Before We Get Started\n",
    "\n",
    "### Always build regular expressions from raw strings\n",
    "#### What is a raw string?\n",
    "    \n",
    "```Python\n",
    "\"This is not a raw string\"\n",
    "\n",
    "r\"This is a raw string\"\n",
    "```\n",
    "### Why?\n",
    "#### raw strings don't evaluate special characters in the string.\n",
    "* This will be important because regular expressions will be built using many special characters.\n",
    "        "
   ]
  },
  {
   "cell_type": "markdown",
   "metadata": {},
   "source": [
    "# Getting Started, Real Slowly\n",
    "### A very simple regular expression can be created to search for a fixed string (e.g. \"Brian\")\n",
    "\n",
    "## Steps\n",
    "1. ``import re``\n",
    "1. **compile** the regular expression\n",
    "1. Use the resulting regular expression object (``r1``), find all matches in some string (``nameString``)"
   ]
  },
  {
   "cell_type": "code",
   "execution_count": null,
   "metadata": {
    "collapsed": true
   },
   "outputs": [],
   "source": [
    "import re\n",
    "nameString = \\\n",
    " \"\"\"Wendy, Brian, Karen, Charlene, Jeff. \n",
    "     wendy, brian, Karen, charlene, jeff\"\"\"\n",
    "r1 = re.compile(r\"\"\"Brian\"\"\")\n",
    "print (r1.findall(nameString))\n"
   ]
  },
  {
   "cell_type": "markdown",
   "metadata": {},
   "source": [
    "#### Here we used the [`findall`](https://docs.python.org/3/library/re.html#re.regex.findall) method to return a list of all the matches."
   ]
  },
  {
   "cell_type": "markdown",
   "metadata": {},
   "source": [
    "#### If I want, I can make the regular expression case insensitive with a *COMPILATION FLAG.*"
   ]
  },
  {
   "cell_type": "code",
   "execution_count": null,
   "metadata": {
    "collapsed": true
   },
   "outputs": [],
   "source": [
    "r1 = re.compile(r\"\"\"Brian\"\"\")\n",
    "print (r1.findall(nameString))\n",
    "r2 = re.compile(r\"\"\"Brian\"\"\", re.IGNORECASE)\n",
    "print (r2.findall(nameString))\n",
    "r3 = re.compile(r\"\"\"Brian\"\"\",re.I) # alias for IGNORECASE\n",
    "print (r3.findall(nameString))\n"
   ]
  },
  {
   "cell_type": "markdown",
   "metadata": {},
   "source": [
    "## The Real Power of Regular Expressions...\n",
    "### Comes from metacharacters\n",
    "### Here is a list of all the metacharacters\n",
    "    . ^ $ * + ? { [ ] \\ | ( )     \n",
    "\n",
    "### Metacharacters: []\n",
    "* Square brackets are used to specify a \"**character class,** which is a set of characters that you wish to match.\"\n",
    "\n",
    "```Python\n",
    "    [abc]\n",
    "    [a-c]\n",
    "    [a-z]\n",
    "    [a-zA-Z]\n",
    "    [a-zA-Z0-9]  \n",
    "```"
   ]
  },
  {
   "cell_type": "code",
   "execution_count": null,
   "metadata": {
    "collapsed": true
   },
   "outputs": [],
   "source": [
    "test = \"\"\"abcdefghijklmnopqrstuvwxyzABCDEFGHIJKLMN\n",
    "                       OPQRSTUVWXYZ0123456789\"\"\"\n",
    "\n",
    "r4 = re.compile(r\"\"\"[abc]\"\"\")\n",
    "\n",
    "print (r4.findall(test))"
   ]
  },
  {
   "cell_type": "code",
   "execution_count": null,
   "metadata": {
    "collapsed": true
   },
   "outputs": [],
   "source": [
    "r5 = re.compile(r\"\"\"[a-c]\"\"\")\n",
    "print (r5.findall(test))"
   ]
  },
  {
   "cell_type": "code",
   "execution_count": null,
   "metadata": {
    "collapsed": true
   },
   "outputs": [],
   "source": [
    "r6 = re.compile(r\"\"\"[a-z]\"\"\")\n",
    "print (r6.findall(test))\n"
   ]
  },
  {
   "cell_type": "code",
   "execution_count": null,
   "metadata": {
    "collapsed": true
   },
   "outputs": [],
   "source": [
    "r7 = re.compile(r\"\"\"[a-zA-Z0-9]\"\"\")\n",
    "print (r7.findall(test))\n"
   ]
  },
  {
   "cell_type": "markdown",
   "metadata": {},
   "source": [
    "### Character Class Size\n",
    "* The number of characters in a class can be specified by metacharacters\n",
    "    * ** * ** matches zero or more characters: \n",
    "        * **[0-9]* ** (matches zero or more digits)\n",
    "    * **+** matches one or more characters\n",
    "    * **?** matches exactly one character\n",
    "    * **{m,n}**  match at least m characters and at most n characters\n",
    "\n",
    "* *QUESTION:* How would you express *,+, and ? with m,n syntax?\n",
    "* *QUESTION:* What would the following regular expressions match?"
   ]
  },
  {
   "cell_type": "code",
   "execution_count": null,
   "metadata": {
    "collapsed": true
   },
   "outputs": [],
   "source": [
    "r8 = re.compile(r\"\"\"a[bcd]*b\"\"\",re.I)\n",
    "\n",
    "r9 = re.compile(r\"\"\"a{1,}b\"\"\")\n",
    "print (r8.findall(test))\n",
    "print (r9.findall(test))"
   ]
  },
  {
   "cell_type": "code",
   "execution_count": null,
   "metadata": {
    "collapsed": true
   },
   "outputs": [],
   "source": [
    "print(r9.findall(\"\"\"aabaaabab\"\"\"))"
   ]
  },
  {
   "cell_type": "markdown",
   "metadata": {},
   "source": [
    "### Greedy vs. Non-Greedy Capture\n",
    "* As defined above, the matching is all **greedy**, that is the regular expressions will match the **maximum** number of characters as possible\n",
    "* We can define a **non-greedy** match that will match the **minimum** number of characters as possible\n",
    "#### Greedy Version\n",
    "```Python\n",
    "[0-9]{3,5}\n",
    "```\n",
    "#### Non-greedy Version\n",
    "```Python\n",
    "[0-9]{3,5}?\n",
    "```"
   ]
  },
  {
   "cell_type": "code",
   "execution_count": null,
   "metadata": {
    "collapsed": true
   },
   "outputs": [],
   "source": [
    "rg = re.compile(r\"\"\"a{3,5}\"\"\")\n",
    "rng = re.compile(r\"\"\"a{3,5}?\"\"\")"
   ]
  },
  {
   "cell_type": "markdown",
   "metadata": {},
   "source": [
    "**Greedy capture**: grabs five"
   ]
  },
  {
   "cell_type": "code",
   "execution_count": null,
   "metadata": {
    "collapsed": true
   },
   "outputs": [],
   "source": [
    "print(rg.findall(\"aaaaaa\"))"
   ]
  },
  {
   "cell_type": "markdown",
   "metadata": {},
   "source": [
    "**Non-greedy capture:** grabs three"
   ]
  },
  {
   "cell_type": "code",
   "execution_count": null,
   "metadata": {
    "collapsed": true
   },
   "outputs": [],
   "source": [
    "print(rng.findall(\"aaaaaa\"))"
   ]
  },
  {
   "cell_type": "markdown",
   "metadata": {},
   "source": [
    "### Metacharacters in Character Classes\n",
    "* Within *character classes*, metacharacters do not have special meaning. \n",
    "* That is, they are treated just like any other character to be matched.\n",
    "    * One exception: `^` as the first character in the class denotes the compliment. \n",
    "    * That is, match all characters except those denoted in the class."
   ]
  },
  {
   "cell_type": "code",
   "execution_count": null,
   "metadata": {
    "collapsed": true
   },
   "outputs": [],
   "source": [
    "r10 = re.compile(r\"\"\"[^A-Z]\"\"\")\n",
    "print (r10.findall(test))"
   ]
  },
  {
   "cell_type": "markdown",
   "metadata": {},
   "source": [
    "### Metacharacters (\\\\)\n",
    "\n",
    "* The backslash character is used to escape all the metacharacters, so to search for an asterisk (``*``) you would type **``\\*``**. \n",
    "* Try the regular expression with out the backslash"
   ]
  },
  {
   "cell_type": "code",
   "execution_count": null,
   "metadata": {
    "collapsed": true
   },
   "outputs": [],
   "source": [
    "r11 = re.compile(r\"*\")\n",
    "print (r11.findall(\"\"\"The range of the function f1* is [0,12] \n",
    "                  and the domain of f1* is [0,144]\"\"\"))"
   ]
  },
  {
   "cell_type": "markdown",
   "metadata": {},
   "source": [
    "* **\\d **: Matches any decimal digit; \n",
    "    * this is equivalent to the class **[0-9].** \n",
    "    "
   ]
  },
  {
   "cell_type": "code",
   "execution_count": null,
   "metadata": {
    "collapsed": true
   },
   "outputs": [],
   "source": [
    "r12 = re.compile(r\"\\d+\")\n",
    "print (r12.findall(\"My work address is 729 Arapeen Drive, Salt Lake City, UT, 84108.\"))\n"
   ]
  },
  {
   "cell_type": "markdown",
   "metadata": {},
   "source": [
    "* **\\D **: Matches any non-digit character; \n",
    "    * this is equivalent to the class **[^0-9].** \n",
    "    "
   ]
  },
  {
   "cell_type": "code",
   "execution_count": null,
   "metadata": {
    "collapsed": true
   },
   "outputs": [],
   "source": [
    "r13 = re.compile(r\"\\D+\") # try \\D and \\D+\n",
    "print (r13.findall(\"My work address is 729 Arapeen Drive, Salt Lake City, UT, 84108.\")\n",
    ")"
   ]
  },
  {
   "cell_type": "markdown",
   "metadata": {},
   "source": [
    "* **\\s **: Matches any whitespace character; \n",
    "    * this is equivalent to the **[ \\t\\n\\r\\f\\v].** \n",
    "    "
   ]
  },
  {
   "cell_type": "code",
   "execution_count": null,
   "metadata": {
    "collapsed": true
   },
   "outputs": [],
   "source": [
    "r14 = re.compile(r\"\\s\")\n",
    "result14= r14.findall(\"My work address is 729 Arapeen Drive, Salt Lake City, UT, 84108.\")\n",
    "print (result14)\n",
    "r15 = re.compile(r\"[ \\t\\n\\r\\f\\v]\")\n",
    "result15 = r15.findall(\"My work address is 729 Arapeen Drive, Salt Lake City, UT, 84108.\")\n",
    "print (result15)\n",
    "print( result14 == result15)"
   ]
  },
  {
   "cell_type": "markdown",
   "metadata": {},
   "source": [
    "* **\\S **: Matches any non-whitespace character; \n",
    "    * this is equivalent to the class **[^ \\t\\n\\r\\f\\v].** \n",
    "    "
   ]
  },
  {
   "cell_type": "code",
   "execution_count": null,
   "metadata": {
    "collapsed": true
   },
   "outputs": [],
   "source": [
    "r16 = re.compile(r\"\\S+\")\n",
    "r17 = re.compile(r\"[^ \\t\\n\\r\\f\\v]+\")\n",
    "result16 = r16.findall(\"My work address is 729 Arapeen Drive, Salt Lake City, UT, 84108.\")\n",
    "result17 = r17.findall(\"My work address is 729 Arapeen Drive, Salt Lake City, UT, 84108.\")\n",
    "print (result16)\n",
    "print (result17)\n",
    "print (result16 == result17)"
   ]
  },
  {
   "cell_type": "markdown",
   "metadata": {},
   "source": [
    "* **\\w**: Matches any alphanumeric character; \n",
    "    * this is equivalent to the class **[a-zA-Z0-9_].** \n",
    "    "
   ]
  },
  {
   "cell_type": "code",
   "execution_count": null,
   "metadata": {
    "collapsed": true
   },
   "outputs": [],
   "source": [
    "r18 = re.compile(r\"\\w+\")\n",
    "r19 = re.compile(r\"[a-zA-Z0-9_]+\")\n",
    "result18 = r18.findall(\"My work address is 729 Arapeen Drive, Salt Lake City, UT, 84108.\")\n",
    "result19 = r19.findall(\"My work address is 729 Arapeen Drive, Salt Lake City, UT, 84108.\")\n",
    "print (result18)\n",
    "print (result19)\n",
    "print (result18 == result19)"
   ]
  },
  {
   "cell_type": "markdown",
   "metadata": {},
   "source": [
    "* **\\W **: Matches any non-alphanumeric character; \n",
    "    * this is equivalent to the class **[^a-zA-Z0-9_].**"
   ]
  },
  {
   "cell_type": "code",
   "execution_count": null,
   "metadata": {
    "collapsed": true
   },
   "outputs": [],
   "source": [
    "r18 = re.compile(r\"\\W\")\n",
    "r19 = re.compile(r\"[^a-zA-Z0-9_]\")\n",
    "result18 = r18.findall(\"My work address is 729 Arapeen Drive, Salt Lake City, UT, 84108.\")\n",
    "result19 = r19.findall(\"My work address is 729 Arapeen Drive, Salt Lake City, UT, 84108.\")\n",
    "print (result18)\n",
    "print (result19)\n",
    "print (result18 == result19)\n",
    "print (',' in result18)"
   ]
  },
  {
   "cell_type": "markdown",
   "metadata": {},
   "source": [
    "* **`|`** (vertical bar): This is an OR (match this OR match that)"
   ]
  },
  {
   "cell_type": "code",
   "execution_count": null,
   "metadata": {
    "collapsed": true
   },
   "outputs": [],
   "source": [
    "r20 = re.compile(r\"\"\"Wakara|Arapeen\"\"\")\n",
    "print(r20.findall(\"\"\"My work addresses are 729 Arapeen Drive, Salt Lake City, UT, 84108 and 421 Wakara Way, Salt Lake City, *4108.\"\"\"))"
   ]
  },
  {
   "cell_type": "markdown",
   "metadata": {},
   "source": [
    "## Putting Things Together\n",
    "### How could we use regular expressions to recognize zip codes?"
   ]
  },
  {
   "cell_type": "code",
   "execution_count": null,
   "metadata": {
    "collapsed": true
   },
   "outputs": [],
   "source": [
    "address = \"My work address is 729 Arapeen Drive, Salt Lake City, UT, 84108.\"\n",
    "\n",
    "findZipcode = re.compile(r\"\"\"\\d{5,5}\"\"\")\n",
    "findZipcode2 = re.compile(r\"\"\"[0-9]{5,5}\"\"\")\n",
    "print (findZipcode.findall(address))\n",
    "print (findZipcode2.findall(address))"
   ]
  },
  {
   "cell_type": "markdown",
   "metadata": {},
   "source": [
    "### How about finding telephones?"
   ]
  },
  {
   "cell_type": "code",
   "execution_count": null,
   "metadata": {
    "collapsed": true
   },
   "outputs": [],
   "source": [
    "txt = open(\"../Resources/contact.html\",\"r\").read()\n",
    "findPhone = re.compile(r\"\"\"[0-9]{3,3}-\\d{4,4}|[0-9]{3,3}-[0-9]{3,3}-\\d{4,4}\"\"\")\n",
    "print (findPhone.findall(txt))"
   ]
  },
  {
   "cell_type": "markdown",
   "metadata": {},
   "source": [
    "### How about finding names?\n",
    "#### Let's look at two formats\n",
    "* Brian Chapman\n",
    "* Chapman, Brian"
   ]
  },
  {
   "cell_type": "code",
   "execution_count": null,
   "metadata": {
    "collapsed": true
   },
   "outputs": [],
   "source": [
    "findName1 = re.compile(r\"\"\"[A-Z][a-z]+\\s+[A-Z][a-z]+\"\"\")\n",
    "#print findName1.findall(\"Brian Chapman, Wendy Chapman, Jeremiah Chapman\")\n",
    "names1 = findName1.findall(txt)\n",
    "print (names1[:80])"
   ]
  },
  {
   "cell_type": "code",
   "execution_count": null,
   "metadata": {
    "collapsed": true
   },
   "outputs": [],
   "source": [
    "findName2 = re.compile(r\"\"\"[A-Z][a-z]*,\\s+[A-Z][a-z]*\"\"\")\n",
    "names2 = findName2.findall(txt)\n",
    "print (names2[:20])"
   ]
  },
  {
   "cell_type": "code",
   "execution_count": null,
   "metadata": {
    "collapsed": true
   },
   "outputs": [],
   "source": [
    "testString = \"\"\"Brian has a nephew named Ben. Br. Chapman died yesterday. Brian Chapman Brian E. Chapman Brian Earl Chapman Wendy Webber Chapman Clare 1234 4321.1234\n",
    "python python.org http://python.org www.python.org jython zython Brad Bob cpython brian http://www.python.org perl Perl PERL\"\"\""
   ]
  },
  {
   "cell_type": "markdown",
   "metadata": {},
   "source": [
    "### Exercises\n",
    "\n",
    "Here are some problems to try writing regular expression. You can find my solutions in classprep.py.\n",
    "1. Find all alphanumeric strings that end in \"ython\"\n",
    "2. Find all instances of \"Brian\", ignoring case\n",
    "3. Find all jython or python instances\n",
    "4. Find all names that start with B\n",
    "5. Use a non-greedy regular expression to find all the non-overlapping kmers ($3\\le k \\le 5$) in the sequence with id `exercise5` in \"sequence.fasta\" that begin and end with 'C'."
   ]
  },
  {
   "cell_type": "code",
   "execution_count": null,
   "metadata": {
    "collapsed": true
   },
   "outputs": [],
   "source": [
    "rEx1 = None\n",
    "print (rEx1.findall(testString))"
   ]
  },
  {
   "cell_type": "code",
   "execution_count": null,
   "metadata": {
    "collapsed": true
   },
   "outputs": [],
   "source": [
    "rEx2 = None\n",
    "print (rEx2.findall(testString))"
   ]
  },
  {
   "cell_type": "code",
   "execution_count": null,
   "metadata": {
    "collapsed": true
   },
   "outputs": [],
   "source": [
    "rEx3 = None\n",
    "print (rEx3.findall(testString))"
   ]
  },
  {
   "cell_type": "code",
   "execution_count": null,
   "metadata": {
    "collapsed": true
   },
   "outputs": [],
   "source": [
    "rEx4 = None \n",
    "print (rEx4.findall(testString))"
   ]
  },
  {
   "cell_type": "markdown",
   "metadata": {},
   "source": []
  },
  {
   "cell_type": "code",
   "execution_count": null,
   "metadata": {
    "collapsed": true
   },
   "outputs": [],
   "source": [
    "def read_fasta(fname):\n",
    "    seqs = {}\n",
    "    with open(\"sequence.fasta\") as f0:\n",
    "        for line in f0:\n",
    "            if line[0] == \">\":\n",
    "                try:\n",
    "                    seqs[key] = seq\n",
    "                except NameError:\n",
    "                    pass\n",
    "                key = line[1:].strip()\n",
    "                seq = \"\"\n",
    "            elif line[0] in set(\"ACTG\"):\n",
    "                seq += line.strip()\n",
    "        seqs[key] = seq\n",
    "    return seqs\n",
    "seq = read_fasta(\"sequence.fasta\")[\"exercise5\"]\n",
    "rEx5 = None\n",
    "rEx5.findall(seq)"
   ]
  }
 ],
 "metadata": {
  "kernelspec": {
   "display_name": "Python 3",
   "language": "python",
   "name": "python3"
  },
  "language_info": {
   "codemirror_mode": {
    "name": "ipython",
    "version": 3
   },
   "file_extension": ".py",
   "mimetype": "text/x-python",
   "name": "python",
   "nbconvert_exporter": "python",
   "pygments_lexer": "ipython3",
   "version": "3.5.2"
  }
 },
 "nbformat": 4,
 "nbformat_minor": 1
}

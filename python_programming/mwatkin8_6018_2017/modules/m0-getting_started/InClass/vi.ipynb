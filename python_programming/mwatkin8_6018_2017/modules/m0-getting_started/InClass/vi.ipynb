{
 "cells": [
  {
   "cell_type": "markdown",
   "metadata": {},
   "source": [
    "![Utah Health Logo](../../../media/U_Health_stacked_png_red.png)\n",
    "\n",
    "# BMI 6018"
   ]
  },
  {
   "cell_type": "markdown",
   "metadata": {},
   "source": [
    "## A Little Class Culture"
   ]
  },
  {
   "cell_type": "code",
   "execution_count": 5,
   "metadata": {},
   "outputs": [
    {
     "data": {
      "image/jpeg": "[encoded data removed]",
      "text/html": [
       "\n",
       "        <iframe\n",
       "            width=\"800\"\n",
       "            height=\"600\"\n",
       "            src=\"https://www.youtube.com/embed/SsoOG6ZeyUI\"\n",
       "            frameborder=\"0\"\n",
       "            allowfullscreen\n",
       "        ></iframe>\n",
       "        "
      ],
      "text/plain": [
       "<IPython.lib.display.YouTubeVideo at 0x7f045c1c8be0>"
      ]
     },
     "execution_count": 5,
     "metadata": {},
     "output_type": "execute_result"
    }
   ],
   "source": [
    "from IPython.display import YouTubeVideo\n",
    "YouTubeVideo(\"SsoOG6ZeyUI\", width=800, height=600)"
   ]
  },
  {
   "cell_type": "markdown",
   "metadata": {},
   "source": [
    "# Text Editors\n",
    "\n",
    "## Why Do I need to Learn How to Use a Text Editor?\n",
    "\n",
    "We are all used to working in graphical computing environments where we have multiple windows that we can interact with using a mouse or a track pad, in addition to our keyboard.\n",
    "\n",
    "However, in scientific computing, we often need to connect remotely to another computer. Frequently in these circumstances we will connect in a way that we do not have a graphical environment that recognizes our mouse (or equivalent), yet we will still need to edit files.\n",
    "\n",
    "The bash terminals that we use in this Jupyter environment is an example of a non-graphical connection.\n",
    "\n",
    "## What Text Editors are Available To Use?\n",
    "\n",
    "Unix/Linux comes with a number of non-graphical text editors including \n",
    "* [``nano``](https://en.wikipedia.org/wiki/GNU_nano)\n",
    "* [``emacs``](https://en.wikipedia.org/wiki/Emacs)\n",
    "* [``vi`` (actually ``vim`` \"**vi** i**m**proved\")](https://en.wikipedia.org/wiki/Vi). \n",
    "\n",
    "``nano`` is the newest of the three editors. ``emacs`` and ``vi`` are among the oldest programs in use in computing. There is almost a religious divide between people who use ``emacs`` and people who use ``vi``. We will spend a little bit of time learning how to use ``vim``. Our choice of ``vim`` is motivated by the fact that \n",
    "1. it is the default editor and Linux (and thus will likely come up when we forget to create a commit message with git (future lesson))\n",
    "1. most of the people preparing these lectures prefer vim to emacs.\n",
    "\n",
    "We've included a number of cheat sheets for vi in this repository (in the Resources directory)\n",
    "\n",
    "* [vi/vim cheat sheet and tutorial (pdf)](../Resources/vi-vim-cheat-sheet-and-tutorial.pdf)\n",
    "* [vi reference card (pdf)](../Resources/virefcard.pdf)\n",
    "\n",
    "\n",
    "## Learning Objectives\n",
    "\n",
    "1. We will be able to open a text document in vim.\n",
    "1. We will be able to navigate the document using basic keyboard commands\n"
   ]
  },
  {
   "cell_type": "markdown",
   "metadata": {},
   "source": [
    "### Opening Documents\n",
    "\n",
    "To open ``vim``, in the terminal we would type\n",
    "\n",
    "```bash\n",
    "vim FILENAME\n",
    "```\n",
    "\n",
    "If ``FILENAME`` exists, it will be opened for editing. If ``FILENAME`` does not exist, a buffer connected to that name will be created but a file with that name will not be created until the buffer is saved.\n",
    "\n",
    "### Command Mode/Edit Mode\n",
    "\n",
    "Because ``vim`` uses the same keys for navigating the document and editing (typing) the document, it has two modes:\n",
    "\n",
    "1. command mode\n",
    "1. edit mode\n",
    "\n",
    "In **command mode**, for example, ``j`` takes you to the next line of the document, while in **edit mode** ``j`` types a j.\n",
    "\n",
    "#### Import Command Mode keys\n",
    "* ``j``: move to next like\n",
    "* ``k``: move to previous line\n",
    "* ``l``: move right on the current line\n",
    "* ``h``: move left on the current line\n",
    "* ``w``: move forward to the next word\n",
    "* ``b``: move backwards to the previous word\n",
    "* ``i``: enter edit mode before the current character\n",
    "* ``a``: enter edit mode after the current character\n",
    "* ``I``: enter edit mode at the beginning of the current line\n",
    "* ``A``: enter edit mode at the end of the current line\n",
    "* ``:w``: save (write) the file\n",
    "* ``:x``: save the file and exit\n",
    "* ``:q``: quit without saving\n",
    "* ``:set``: set a vim behavior\n",
    "    * ``:set num``: number the lines\n",
    "    * ``:set ai``: set auto indent\n",
    "    * ``:set wrap``: wrap lines wider than the terminal width\n",
    "* ``/``: search for a pattern\n",
    "    * ``n``: go to the next match of pattern\n",
    "    * ``p``: go to the previous match of pattern\n",
    "    \n",
    "#### Import Edit Mode Key\n",
    "\n",
    "* ``esc``: switches from edit mode to command mode\n",
    "\n",
    "#### Read-only mode\n",
    "\n",
    "If we want to make sure we do not modify a file, we can open it in **read-only** mode by providing a ``-R`` flag (note ``-r`` tries to **recover** the file).\n",
    "\n",
    "### Exercise\n",
    "\n",
    "\n",
    "In the terminal type\n",
    "\n",
    "```bash\n",
    "vim /home/jovyan/DATA/Misc/doid.obo\n",
    "``` \n",
    "\n",
    "Since ``jovyan`` does not have write privileges for this file, ``vim`` will open it in read-only mode.\n",
    "\n",
    "Navigate and search through the document to answer the following questions:\n",
    "\n",
    "1. On what line is the ``DOID`` for a renal Wilms' tumor defined?\n",
    "1. What is the name of the term defined two terms after \"generalized anxiety disorder\" is defined?\n",
    "\n",
    "### Exercise: Editing a \"Business Cards\"\n",
    "\n",
    "In the terminal, use vim to open a file named \"business_card.md\". In this file we will use [Markdown](https://daringfireball.net/projects/markdown/syntax) to create a simple business card.\n",
    "\n",
    "For example, here is a \"business card\" for me:\n",
    "\n",
    "### Raw Markdown\n",
    "\n",
    "```Markdown\n",
    "![Utah Logo](https://healthcare.utah.edu/rebrand/img/logos/uhealth-logo.svg)\n",
    "\n",
    "## Brian E. Chapman, Ph.D.\n",
    " Associate Professor of [Radiology and Imaging Sciences](http://medicine.utah.edu/radiology/)  \n",
    " Adjunct Associate Professor of [Biomedical Informatics](http://medicine.utah.edu/dbmi/)  \n",
    "\n",
    "* Phone: 801-587-8672\n",
    "* e-mail: <brian.chapman@utah.edu>\n",
    "```\n",
    "\n",
    "### Rendered Markdown\n",
    "\n",
    "![Utah Logo](https://healthcare.utah.edu/rebrand/img/logos/uhealth-logo.svg)\n",
    "\n",
    "## Brian E. Chapman, Ph.D.\n",
    " Associate Professor of [Radiology and Imaging Sciences](http://medicine.utah.edu/radiology/)  \n",
    " Adjunct Associate Professor of [Biomedical Informatics](http://medicine.utah.edu/dbmi/)  \n",
    "\n",
    "* Phone: 801-587-8672\n",
    "* e-mail: <brian.chapman@utah.edu>\n",
    "\n",
    "\n",
    "### Edit Hints\n",
    "\n",
    "Markdown is simple in what kind of control (e.g. image size) it offers the user, but you can embed HTML for more control.\n",
    "\n",
    "### Rendered Markdown\n",
    "\n",
    "<img\n",
    "src=\"https://healthcare.utah.edu/rebrand/img/logos/uhealth-logo.svg\" alt=\"Utah Health\n",
    "Logo\" width=\"256\">\n",
    "\n",
    "## Brian E. Chapman, Ph.D.\n",
    " Associate Professor of [Radiology and Imaging Sciences](http://medicine.utah.edu/radiology/)  \n",
    " Adjunct Associate Professor of [Biomedical Informatics](http://medicine.utah.edu/dbmi/)  \n",
    "\n",
    "* Phone: 801-587-8672\n",
    "* e-mail: <brian.chapman@utah.edu>"
   ]
  },
  {
   "cell_type": "markdown",
   "metadata": {
    "collapsed": true
   },
   "source": [
    "<a rel=\"license\" href=\"http://creativecommons.org/licenses/by-nc-sa/4.0/\"><img alt=\"Creative Commons License\" style=\"border-width:0\" src=\"https://i.creativecommons.org/l/by-nc-sa/4.0/88x31.png\" /></a><br /><span xmlns:dct=\"http://purl.org/dc/terms/\" property=\"dct:title\">University of Uah Data Science for Health</span> by <span xmlns:cc=\"http://creativecommons.org/ns#\" property=\"cc:attributionName\">Eric Bogenschutz, Thomas Sasani, Brian E. Chapman</span> is licensed under a <a rel=\"license\" href=\"http://creativecommons.org/licenses/by-nc-sa/4.0/\">Creative Commons Attribution-NonCommercial-ShareAlike 4.0 International License</a>."
   ]
  },
  {
   "cell_type": "code",
   "execution_count": null,
   "metadata": {
    "collapsed": true
   },
   "outputs": [],
   "source": []
  }
 ],
 "metadata": {
  "kernelspec": {
   "display_name": "Python 3",
   "language": "python",
   "name": "python3"
  },
  "language_info": {
   "codemirror_mode": {
    "name": "ipython",
    "version": 3
   },
   "file_extension": ".py",
   "mimetype": "text/x-python",
   "name": "python",
   "nbconvert_exporter": "python",
   "pygments_lexer": "ipython3",
   "version": "3.5.2"
  },
  "widgets": {
   "state": {},
   "version": "1.1.2"
  }
 },
 "nbformat": 4,
 "nbformat_minor": 1
}

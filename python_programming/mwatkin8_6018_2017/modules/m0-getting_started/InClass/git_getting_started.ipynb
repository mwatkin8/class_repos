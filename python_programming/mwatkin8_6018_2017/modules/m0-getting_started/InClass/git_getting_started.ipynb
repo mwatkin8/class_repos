{
 "cells": [
  {
   "cell_type": "markdown",
   "metadata": {},
   "source": [
    "![Utah Health Logo](../../../media/U_Health_stacked_png_red.png)\n",
    "\n",
    "# BMI 6018"
   ]
  },
  {
   "cell_type": "markdown",
   "metadata": {},
   "source": [
    "# Using Git\n",
    "\n",
    "The materials for this course are stored in a GitHub instance. To get familiar with using Git, we are going to work through an online tutorial provided by GitHub\n",
    "\n",
    "[GitHub online tutorial](https://try.github.io/levels/1/challenges/1)\n",
    "\n",
    "https://www.atlassian.com/git/tutorials/comparing-workflows/centralized-workflow"
   ]
  },
  {
   "cell_type": "markdown",
   "metadata": {
    "collapsed": true
   },
   "source": [
    "### Git Cheat Sheet\n",
    "\n",
    "The tutorial above is a great introduction to Git, but doesn't even scratch the surface of the software's full potential. \n",
    "\n",
    "This [page](https://git-scm.com/docs) includes information and commands for just about every possible use of Git. "
   ]
  },
  {
   "cell_type": "markdown",
   "metadata": {},
   "source": [
    "# Git Exercises\n",
    "\n",
    "Now, we'll move onto some exercises that will test your knowledge of Git. You'll be tackling these tasks in groups of two or three, so it'll be a perfect opportunity to try out some Git-based collaboration.\n",
    "\n",
    "\n",
    "## Step 1: Create a \"central_dogma\" directory, and create a README.\n",
    "\n",
    "On your computer, open the Terminal and create a directory called \"central_dogma.\" This directory can be located wherever you choose on your computer. \n",
    "\n",
    ">`mkdir central_dogma`\n",
    "\n",
    "Enter the directory and create a file called \"README.md\". Usually, when you start working on a software project, it's good practice to include a README file in the project directory. This README includes a description of what the project is all about.\n",
    "\n",
    ">`cd central_dogma`\n",
    "\n",
    ">`touch README.md`\n",
    "\n",
    "Open up the README with a text editor of your choice, write a brief description of the project (e.g., \"This is a Git tutorial.\"), and save the README.\n",
    "\n",
    "## Step 2: Initialize your \"central_dogma\" directory as a Git repository.\n",
    "\n",
    "Now that you've created a directory with a single file in it, let's initialize that directory as a Git \"repository.\" Within the \"central_dogma\" directory, type the following:\n",
    "\n",
    ">`git init`\n",
    "\n",
    "At this point, you've \"told\" Git that you want to start tracking changes made to files in this repository. However, Git won't automatically backup the contents of the repo after you edit them -- that's where the next two commands come in. When you `git add` a file or files, you put them in a so-called \"staging area,\" where the file(s) will sit until you decide to formally `git commit` them. By committing files, you effectively take a \"snapshot\" of the files as they exist at that point in time (like saving a version of a document in Word) and permanently store that snapshot. FYI: `git commit` will commit every file in the staging area at the same time! If you make changes to a file and `git add` the file, those changes will not be tracked until the file is committed. Let's try it out with README.md.\n",
    "\n",
    ">`git add README.md`\n",
    "\n",
    ">`git status`\n",
    "\n",
    "If you type `git status`, you can take a look at the files you've staged for a future commit!\n",
    "\n",
    ">`git commit -m \"first commit\"`\n",
    "\n",
    "When you commit files, Git requires that you enter a message to describe the changes you've made to the files -- since this is our first commit, we'll keep the message simple!\n",
    "\n",
    ">A common question: why does Git use the two-step \"add, then commit\" process? Why can't you just commit a file straightaway? Basically, the answer is **control**. We can choose the exact files we want to commit at a given time, and Git even allows you to only `add` specific lines of a single file. Also, if we `add` a file and subsequently decide that we want to change it again (before committing it), Git lets you `reset` your `add` command, removing the file from the staging area.\n",
    "\n",
    "## Step 3: Create a remote \"central_dogma\" repository.\n",
    "\n",
    "The \"central_dogma\" directory is currently sitting on your computer, and you're using Git to track it, but what if you want to share \"central_dogma\" with other people (and make sure that they see your recent changes)?\n",
    "\n",
    "Go to [GitHub](github.com), log into your account, and click the \"New Repository\" button. Name the repository \"central_dogma,\" and click \"Create Repository.\" On the next page, you'll see directions for syncing your local \"central_dogma\" directory to your remote GitHub repo. \n",
    "\n",
    "Basically, all you'll need to do is enter the \"central_dogma\" repository on your computer, and type the following:\n",
    "\n",
    ">`git config --global user.name <your GitHub username here>`\n",
    "\n",
    ">`git config --global user.email <your GitHub email address here>`\n",
    "\n",
    ">`git remote add origin <remote repository URL>`\n",
    "\n",
    ">`git remote -v`\n",
    "\n",
    ">`git push origin master`\n",
    "\n",
    "Now, if you check your GitHub account online, you'll notice that the \"central_dogma\" repository exists and contains the README that you created earlier.\n",
    "\n",
    "## Step 4: Make DNA, RNA, and protein sequence files.\n",
    "\n",
    "Now, we'll add a few more files to our repository, containing the kinds of data you might encounter in bioinformatics.\n",
    "\n",
    "First, create a file called \"DNA_seq.txt\", and paste the following text in it:\n",
    "\n",
    ">**ATGCCTATGTTAAAGCCG**\n",
    "\n",
    "Then, create files called \"RNA_seq.txt\" and \"protein_seq.txt,\" and paste the following two lines in the first and second files, respectively.\n",
    "\n",
    ">**AUGCCUAUGUUAAAGUUG**\n",
    "\n",
    ">**MPMLKL**\n",
    "\n",
    "Finally, let's `add`, `commit`, and `push` all of these files. Make sure to include a descriptive commit message when you do!\n",
    "\n",
    "Feel free to take a look at your GitHub page for the project -- your files should be synced up to the site.\n",
    "\n",
    "\n",
    "\n",
    "## Create a fork of another group member's repository.\n",
    "\n",
    "\n",
    "Go to the GitHub page for one of your group member's \"central_dogma\" repositories. At the top right of that page, you'll see an icon that says \"fork.\" Click on that button, and you'll be taken to a new repository -- this repo should be named something like \"your_username/central_dogma.\" This is your fork of a group member's repo! It's an exact copy of their repository, but when you make changes to it, those changes will be exclusive to your \"fork,\" and won't affect your group member's master repository.\n",
    "\n",
    "Go ahead and clone the fork onto your computer -- now, you can treat the cloned repository like any other repository! \n",
    "\n",
    "Let's make a drastic change to this cloned repository, like deleting the \"RNA_seq.txt\" file completely.\n",
    "\n",
    ">`rm RNA_seq.txt`\n",
    "\n",
    "Then, `add` and `commit` your changes. Finally, `git push` these changes to your remote forked repository online.\n",
    "\n",
    "If you take a look at your group member's GitHub page for their \"central_dogma\" repo, you'll notice that their copy of \"RNA_seq.txt\" is still there. Changes made to a fork of a repository **do not** change the \"upstream\" repository.\n",
    "\n",
    "But what if you wanted your group member to incorporate the changes you made to their repository? That's where \"pull requests\" come in. We won't dive into these in this tutorial, but all it really takes is clicking the \"new pull request\" button on you group member's GitHub repo page.\n"
   ]
  },
  {
   "cell_type": "markdown",
   "metadata": {
    "collapsed": true
   },
   "source": [
    "<a rel=\"license\" href=\"http://creativecommons.org/licenses/by-nc-sa/4.0/\"><img alt=\"Creative Commons License\" style=\"border-width:0\" src=\"https://i.creativecommons.org/l/by-nc-sa/4.0/88x31.png\" /></a><br /><span xmlns:dct=\"http://purl.org/dc/terms/\" property=\"dct:title\">University of Uah Data Science for Health</span> by <span xmlns:cc=\"http://creativecommons.org/ns#\" property=\"cc:attributionName\">Eric Bogenschutz, Thomas Sasani, Brian E. Chapman</span> is licensed under a <a rel=\"license\" href=\"http://creativecommons.org/licenses/by-nc-sa/4.0/\">Creative Commons Attribution-NonCommercial-ShareAlike 4.0 International License</a>."
   ]
  }
 ],
 "metadata": {
  "kernelspec": {
   "display_name": "Python 3",
   "language": "python",
   "name": "python3"
  },
  "language_info": {
   "codemirror_mode": {
    "name": "ipython",
    "version": 3
   },
   "file_extension": ".py",
   "mimetype": "text/x-python",
   "name": "python",
   "nbconvert_exporter": "python",
   "pygments_lexer": "ipython3",
   "version": "3.5.2"
  }
 },
 "nbformat": 4,
 "nbformat_minor": 1
}

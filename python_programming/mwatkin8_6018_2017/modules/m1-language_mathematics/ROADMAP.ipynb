{
 "cells": [
  {
   "cell_type": "markdown",
   "metadata": {},
   "source": [
    "# The Language of Computing and Mathematics\n",
    "\n",
    "This module has a quiz and a homework but no in-class component. What I hope to accomplish in this module is to get you thinking a little bit about how we use language and how every domain creates sub-languages. Programming and mathematics are both examples of sub-languages. When we start learning Python we will use words that are familiar with like `for` and `while` and `class` but within the sub-language of Python these words (symbols) will have different (but probably related) meaning to what they have in everyday use.\n",
    "\n",
    "Review the following two notebooks prior to taking the quiz on Canvas.\n",
    "\n",
    "* [Language and Biomedical Informatics](./ClassPrep/language_and_informatics.ipynb)\n",
    "* [Mathematics and Informatics](./ClassPrep/mathematics_and_informatics.ipynb)\n",
    "\n",
    "## Reading\n",
    "\n",
    "Please read *Think Python: How to Think Like a Computer Scientist, 2nd Edition* section 1.6 \"Formal and natural languages\""
   ]
  }
 ],
 "metadata": {
  "kernelspec": {
   "display_name": "Python 3",
   "language": "python",
   "name": "python3"
  },
  "language_info": {
   "codemirror_mode": {
    "name": "ipython",
    "version": 3
   },
   "file_extension": ".py",
   "mimetype": "text/x-python",
   "name": "python",
   "nbconvert_exporter": "python",
   "pygments_lexer": "ipython3",
   "version": "3.5.2"
  }
 },
 "nbformat": 4,
 "nbformat_minor": 2
}

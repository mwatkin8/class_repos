{
 "cells": [
  {
   "cell_type": "markdown",
   "metadata": {},
   "source": [
    "<img\n",
    "src=\"../../../media/U_Health_stacked_png_red.png\" alt=\"Utah Health\n",
    "Logo\" width=\"128\" height=\"134\">\n",
    "</html>\n",
    "# Julia Crash course \n",
    "\n",
    "In this notebook we will quickly go over Julia at a high level. We will then go on to explore topics in more detail.\n",
    "\n",
    "The Greek philosopher Pythagoras reportedly said, \"All is number!\". Deep down in the computer, Pythagoras is correct but in this course we are primarily going to think of data as consisting of **strings** and **numbers**. Adopting a physical metaphor, we can say that numbers and strings are our atoms of data. We can then combine numbers and strings to create molecules of data.\n",
    "\n",
    "Computer programs read, manipulate, and output data using **functions** which are either native to the programming language or created by a programmer.\n",
    "\n",
    "### Julia and Functions\n",
    "\n",
    "Julia is a functional programming language; it is built around the philosophy of functions operating on data. It is not an object oriented language, like Python.\n",
    "\n",
    "\n",
    "\n",
    "The most important components of the programs we will be writing are **data structures** and **functions.** Using a biology analogy, data structures are like the blood circulating through our bodies and function objects are like our organs that take blood in and return modified blood and some biological behavior.\n",
    "\n",
    "\n",
    "## What is a Function?\n",
    "\n",
    "* \"any of a group of related actions contributing to a larger action; especially : the normal and specific contribution of a bodily part to the economy of a living organism\" \n",
    "* \"a computer subroutine; specifically : one that performs a calculation with variables provided by a program and supplies the program with a single result\"([Merriam-Webster Dictionary](http://www2.merriam-webster.com/cgi-bin/mwdictadu?book=Dictionary&va=functionless))\n",
    "\n",
    "\n",
    "Eventually we will learn how to define our own functions, but for now we will spend some time getting familiar with using the functions that are already defined in Julia.\n",
    "\n",
    "To get a handle on what a function is in Julia, let's look at some example functions from \"high school\" mathematics\n",
    "\n",
    "\\begin{equation*}\n",
    "y = f(x)\n",
    "\\end{equation*}\n",
    "we would read this as \"$y$ is equal to a function $f$ which has an argument $x$.\" $f$ is a symbol for \"some function\", the argument $x$ might be called the *independent variable*, and $y$ might be called the the *dependent variable*. Familiar, \"school mathematics\" examples of functions might include the following:\n",
    "\\begin{eqnarray}\n",
    "y = \\sqrt{x},\\\\\n",
    "y = mx+b.\n",
    "\\end{eqnarray}\n",
    "\n",
    "In each of these examples, we take a value $x$ and returns a new value that we are assigning to the variable $y$. \n",
    "\n",
    "1. Take $x$ as input and return the square root of $x$ as output. \n",
    "1. Take $x$ as input and return $x$ multiplied by $m$ plus $b$. We can generalize this pattern with the following \"definition\":\n",
    "\n",
    "#### A \"definition\" of functions: A function is something that takes some kind of input and provides some sort of output\n",
    "\n",
    "## An Aside: A Comment on Comments\n",
    "\n",
    "A comment isn't actually part of Julia---a comment is something that doesn't exist in the running program---but it is part of a the written Julia script or program.\n",
    "\n",
    "A comment in a Julia script is the pound symbol (``#``) and everything that follows it on a line. Once Julia encounters a ``#``, it ignores everything that follows. Comments are important for us on the human end of the program. They help us understand what the programmer (perhaps us) was thinking or trying to do when the code was written.\n",
    "\n",
    "As a brief illustration of a comment, execute the cell below with and without the leading ``#``."
   ]
  },
  {
   "cell_type": "code",
   "execution_count": 1,
   "metadata": {
    "collapsed": true
   },
   "outputs": [],
   "source": [
    "using Base.Test"
   ]
  },
  {
   "cell_type": "code",
   "execution_count": null,
   "metadata": {
    "collapsed": true
   },
   "outputs": [],
   "source": [
    "#println(\"This line was previously commented out\")"
   ]
  },
  {
   "cell_type": "markdown",
   "metadata": {},
   "source": [
    "### Exercise\n",
    "\n",
    "Pair up with a neighbor. Each of you pick one of the objects listed below. Thinking of the object as a function, describe to your neighbor what the input to the function is and what the output from the function is. \n",
    "\n",
    "1. Lungs\n",
    "1. Radio"
   ]
  },
  {
   "cell_type": "markdown",
   "metadata": {},
   "source": [
    "## Functions in Julia\n",
    "\n",
    "In Julia a function takes zero or more **arguments** (objects) and returns some something.\n",
    "\n",
    "### Example Functions [``println``](https://docs.julialang.org/en/release-0.5/stdlib/io-network/?highlight=println#Base.println) and [``readline``](https://docs.julialang.org/en/release-0.5/stdlib/io-network/?highlight=readline#Base.readline)\n",
    "\n",
    "The first Julia function we'll look at is ``println``. ``println`` takes as input a string and returns as output that string \"printed\" to the screen. If we don't provide a string, ``println`` prints an empty string (which is nothing) to the screen."
   ]
  },
  {
   "cell_type": "code",
   "execution_count": 2,
   "metadata": {},
   "outputs": [
    {
     "name": "stdout",
     "output_type": "stream",
     "text": [
      "Hello, world\n",
      "\n",
      "9\n"
     ]
    }
   ],
   "source": [
    "println(\"Hello, world\")\n",
    "println()\n",
    "println(5+4)"
   ]
  },
  {
   "cell_type": "markdown",
   "metadata": {},
   "source": [
    "If we want to learn how to use a function we can look at the [Julia documentation](https://docs.julialang.org/en/stable/manual/documentation/) (always a good idea), or we can the question mark (`?`) to get help."
   ]
  },
  {
   "cell_type": "code",
   "execution_count": null,
   "metadata": {
    "collapsed": true
   },
   "outputs": [],
   "source": [
    "?println"
   ]
  },
  {
   "cell_type": "code",
   "execution_count": null,
   "metadata": {
    "collapsed": true
   },
   "outputs": [],
   "source": [
    "?print"
   ]
  },
  {
   "cell_type": "markdown",
   "metadata": {},
   "source": [
    "Julia provides four ways of passing arguments to a function\n",
    "\n",
    "1. **Positional** arguments\n",
    "1. **Variable number** of positional arguments\n",
    "1. [**Optional** arguments](https://docs.julialang.org/en/stable/manual/functions/#Optional-Arguments-1)\n",
    "1. [**keyword** arguments](https://docs.julialang.org/en/stable/manual/functions/#Keyword-Arguments-1)\n",
    "\n",
    "Positional arguments come first, followed by keyword arguments. Here in the help for ``println`` we have a positional argument ``value``. Actually we can have a variable number of values (``value, ...,``)."
   ]
  },
  {
   "cell_type": "code",
   "execution_count": 3,
   "metadata": {},
   "outputs": [
    {
     "name": "stdout",
     "output_type": "stream",
     "text": [
      "thing 1\n",
      "thing 1thing 2\n",
      "thing 1thing 2thing 3\n"
     ]
    }
   ],
   "source": [
    "println(\"thing 1\")\n",
    "println(\"thing 1\", \"thing 2\")\n",
    "println(\"thing 1\", \"thing 2\", \"thing 3\")"
   ]
  },
  {
   "cell_type": "markdown",
   "metadata": {},
   "source": [
    "### Input with ``readln()``\n",
    "\n",
    "The complement of ``println()`` is ``readline()``"
   ]
  },
  {
   "cell_type": "code",
   "execution_count": null,
   "metadata": {
    "collapsed": true
   },
   "outputs": [],
   "source": [
    "?readline"
   ]
  },
  {
   "cell_type": "code",
   "execution_count": 4,
   "metadata": {},
   "outputs": [
    {
     "name": "stdout",
     "output_type": "stream",
     "text": [
      "STDIN> 12\n",
      "12\n"
     ]
    }
   ],
   "source": [
    "println(readline())\n"
   ]
  },
  {
   "cell_type": "code",
   "execution_count": 5,
   "metadata": {},
   "outputs": [
    {
     "data": {
      "text/plain": [
       "π = 3.1415926535897..."
      ]
     },
     "execution_count": 5,
     "metadata": {},
     "output_type": "execute_result"
    }
   ],
   "source": [
    "π"
   ]
  },
  {
   "cell_type": "markdown",
   "metadata": {},
   "source": [
    "## Data in Julia programs\n",
    "\n",
    "Julia has multiple data types, but the most important kinds that we will be dealing with are Numeric and String types.\n",
    "\n",
    "### [Numeric](https://docs.julialang.org/en/stable/manual/integers-and-floating-point-numbers/)\n",
    "\n",
    "Since Julia is developed as a scientific computing language, it is not surprising that it has a very rich variety of numeric types. Here is an excerpt from the Julia documentation:\n",
    "\n",
    "The following are Julia's primitive numeric types:\n",
    "\n",
    "  * **Integer types:**\n",
    "\n",
    "| Type              | Signed? | Number of bits | Smallest value | Largest value |\n",
    "|:----------------- |:------- |:-------------- |:-------------- |:------------- |\n",
    "| [`Int8`](@ref)    | ✓       | 8              | -2^7           | 2^7 - 1       |\n",
    "| [`UInt8`](@ref)   |         | 8              | 0              | 2^8 - 1       |\n",
    "| [`Int16`](@ref)   | ✓       | 16             | -2^15          | 2^15 - 1      |\n",
    "| [`UInt16`](@ref)  |         | 16             | 0              | 2^16 - 1      |\n",
    "| [`Int32`](@ref)   | ✓       | 32             | -2^31          | 2^31 - 1      |\n",
    "| [`UInt32`](@ref)  |         | 32             | 0              | 2^32 - 1      |\n",
    "| [`Int64`](@ref)   | ✓       | 64             | -2^63          | 2^63 - 1      |\n",
    "| [`UInt64`](@ref)  |         | 64             | 0              | 2^64 - 1      |\n",
    "| [`Int128`](@ref)  | ✓       | 128            | -2^127         | 2^127 - 1     |\n",
    "| [`UInt128`](@ref) |         | 128            | 0              | 2^128 - 1     |\n",
    "| [`Bool`](@ref)    | N/A     | 8              | `false` (0)    | `true` (1)    |\n",
    "\n",
    "  * **Floating-point types:**\n",
    "\n",
    "| Type              | Precision                                                                      | Number of bits |\n",
    "|:----------------- |:------------------------------------------------------------------------------ |:-------------- |\n",
    "| [`Float16`](@ref) | [half](https://en.wikipedia.org/wiki/Half-precision_floating-point_format)     | 16             |\n",
    "| [`Float32`](@ref) | [single](https://en.wikipedia.org/wiki/Single_precision_floating-point_format) | 32             |\n",
    "| [`Float64`](@ref) | [double](https://en.wikipedia.org/wiki/Double_precision_floating-point_format) | 64      \n",
    "\n",
    "\n",
    "Additionally, full support for [Complex and Rational Numbers](@ref) is built on top of these primitive\n",
    "numeric types. All numeric types interoperate naturally without explicit casting, thanks to a\n",
    "flexible, user-extensible [type promotion system](@ref conversion-and-promotion).\n",
    "\n",
    "#### Creating Numeric Literals\n",
    "\n",
    "* **Signed** Integers (e.g. `Int64`) are created by typing an integer (e.g. 1, 532, -4). \n",
    "    * **Unsigned** Integers (e.g. `UInt8`) are created by typing a **hexadecimal** integer (e.g. 0x5f)\n",
    "* `Float64` numbers can be created by \n",
    "    * typing a decimal number (e.g. 4., 3.5)\n",
    "    * typing an exponential notation number (e.g. 5.4e3), \n",
    "    * by doing division (e.g. 3/4), \n",
    "    * From the ``Float64`` function.\n",
    "* `Float32` numbers can be created by\n",
    "    * typing an exponential notation number with an `f` instead of an `e` (e.g. 5.4f3)\n",
    "    \n",
    "#### [Epsilon](https://docs.julialang.org/en/stable/manual/integers-and-floating-point-numbers/#Machine-epsilon-1)\n",
    "\n",
    "Because floats are approximations, there is a minimum difference (epsilon) between numbers that can be detected. Julia provides the function `eps()` that will report this minimum difference for the particular computer you are operating on."
   ]
  },
  {
   "cell_type": "code",
   "execution_count": null,
   "metadata": {
    "collapsed": true
   },
   "outputs": [],
   "source": [
    "eps(Float32), eps(Float64)"
   ]
  },
  {
   "cell_type": "markdown",
   "metadata": {},
   "source": [
    "### Unsigned Integer Arithmetic"
   ]
  },
  {
   "cell_type": "code",
   "execution_count": 6,
   "metadata": {},
   "outputs": [
    {
     "data": {
      "text/plain": [
       "0x1052"
      ]
     },
     "execution_count": 6,
     "metadata": {},
     "output_type": "execute_result"
    }
   ],
   "source": [
    "0x5f+0xff3"
   ]
  },
  {
   "cell_type": "markdown",
   "metadata": {},
   "source": [
    "### What do we get if we add a signed integer with an unsigned integer?"
   ]
  },
  {
   "cell_type": "code",
   "execution_count": 7,
   "metadata": {},
   "outputs": [
    {
     "data": {
      "text/plain": [
       "4182"
      ]
     },
     "execution_count": 7,
     "metadata": {},
     "output_type": "execute_result"
    }
   ],
   "source": [
    "0x5f+0xff3+4"
   ]
  },
  {
   "cell_type": "markdown",
   "metadata": {},
   "source": [
    "## Exercise\n",
    "\n",
    "Create an unsigned integer equal to the decimal value 57."
   ]
  },
  {
   "cell_type": "code",
   "execution_count": null,
   "metadata": {
    "collapsed": true
   },
   "outputs": [],
   "source": [
    "@test typeof(PUT_YOUR_NUMBER_HERE) == Int64"
   ]
  },
  {
   "cell_type": "markdown",
   "metadata": {},
   "source": [
    "## Exercise\n",
    "\n",
    "Create a Float32 value equal to 12.5."
   ]
  },
  {
   "cell_type": "code",
   "execution_count": null,
   "metadata": {
    "collapsed": true
   },
   "outputs": [],
   "source": [
    "@test typeof(PUT_YOUR_NUMBER_HERE) == Float32"
   ]
  },
  {
   "cell_type": "markdown",
   "metadata": {},
   "source": [
    "### Strings (for representing text). \n",
    "\n",
    "Strings are a sequence of characters and are defined by typing the characters between **double quotes** (\"hello\"). Unlike Python, Julia does not accept single quotes for strings: single quotes are reserved for `Char` types.\n",
    "\n",
    "We can also specify strings with triple double quotes."
   ]
  },
  {
   "cell_type": "code",
   "execution_count": null,
   "metadata": {
    "collapsed": true
   },
   "outputs": [],
   "source": [
    "\"This is a string literal\", \"\"\"This is also a \n",
    "string literal\"\"\""
   ]
  },
  {
   "cell_type": "markdown",
   "metadata": {},
   "source": [
    "### Variables\n",
    "Data will be either a ``literal`` or a variable. Consider the following Julia statements\n",
    "\n",
    "```Julia\n",
    "5+4\n",
    "a=5\n",
    "a+4```\n",
    "\n",
    "``5`` and ``4`` are numeric **literals** while ``a`` is a **variable**. I can change the value of a variable, but I cannot change the value of a literal."
   ]
  },
  {
   "cell_type": "code",
   "execution_count": 8,
   "metadata": {},
   "outputs": [
    {
     "name": "stdout",
     "output_type": "stream",
     "text": [
      "8\n"
     ]
    }
   ],
   "source": [
    "a=4\n",
    "a+=4\n",
    "println(a)"
   ]
  },
  {
   "cell_type": "markdown",
   "metadata": {},
   "source": [
    "### When we do something illegal (in Julia's sub-language), Julia will raise an error to tell us what we did wrong"
   ]
  },
  {
   "cell_type": "code",
   "execution_count": null,
   "metadata": {
    "collapsed": true
   },
   "outputs": [],
   "source": []
  },
  {
   "cell_type": "code",
   "execution_count": 9,
   "metadata": {},
   "outputs": [
    {
     "ename": "LoadError",
     "evalue": "syntax: invalid assignment location \"5\"",
     "output_type": "error",
     "traceback": [
      "syntax: invalid assignment location \"5\"",
      ""
     ]
    }
   ],
   "source": [
    "5=\"five\""
   ]
  },
  {
   "cell_type": "markdown",
   "metadata": {},
   "source": [
    "### Variable Names\n",
    "Variable names in Julia are quite flexible. They can include almost any (is this true?) unicode characters. The only limitation is that variable names cannot begin with `!` or a digit (0-9). Consider this humorous example taken from [*Learning Julia the Hard Way*](https://github.com/chrisvoncsefalvay/learn-julia-the-hard-way/blob/master/_chapters/05-ex2.md#variable-naming) showing that winter is not greater than summer."
   ]
  },
  {
   "cell_type": "code",
   "execution_count": null,
   "metadata": {
    "collapsed": true
   },
   "outputs": [],
   "source": [
    "❄ = -12\n",
    "✹ = 27\n",
    "println(❄, \" \", ✹)\n",
    "println(❄ > ✹)"
   ]
  },
  {
   "cell_type": "markdown",
   "metadata": {},
   "source": [
    "### Just as we can have numeric literals and variables, we can create text literals and variables."
   ]
  },
  {
   "cell_type": "code",
   "execution_count": null,
   "metadata": {
    "collapsed": true
   },
   "outputs": [],
   "source": [
    "b = \"b is now a string variable\"\n",
    "b"
   ]
  },
  {
   "cell_type": "markdown",
   "metadata": {},
   "source": [
    "Julia has a function [`typeof`](https://docs.julialang.org/en/stable/stdlib/base/#Core.typeof) that will tell you what **type** a variable or literal is."
   ]
  },
  {
   "cell_type": "code",
   "execution_count": null,
   "metadata": {
    "collapsed": true
   },
   "outputs": [],
   "source": [
    "typeof(5)"
   ]
  },
  {
   "cell_type": "code",
   "execution_count": null,
   "metadata": {
    "collapsed": true
   },
   "outputs": [],
   "source": [
    "typeof(\"b\")"
   ]
  },
  {
   "cell_type": "code",
   "execution_count": null,
   "metadata": {
    "collapsed": true
   },
   "outputs": [],
   "source": [
    "typeof(4.)"
   ]
  },
  {
   "cell_type": "code",
   "execution_count": null,
   "metadata": {
    "collapsed": true
   },
   "outputs": [],
   "source": [
    "4.f0"
   ]
  },
  {
   "cell_type": "markdown",
   "metadata": {
    "collapsed": true
   },
   "source": [
    "## Exercise\n",
    "\n",
    "In the cell below replace the string ``replace_me1`` with a string literal containing the number *three hundred and twenty-seven* represented in base-10 digits. Replace the string ``replace_me2`` with the unsigned integer literal ``327``."
   ]
  },
  {
   "cell_type": "code",
   "execution_count": null,
   "metadata": {
    "collapsed": true
   },
   "outputs": [],
   "source": [
    "quizzes.literal_variables1(arg1=\"replace_me1\", arg2=\"replace_me2\")\n"
   ]
  },
  {
   "cell_type": "markdown",
   "metadata": {},
   "source": [
    "## Data Manipulation in Julia\n",
    "\n",
    "Given some data, whether text or numbers, we can use functions to create new data from our original data. Here are some basic examples"
   ]
  },
  {
   "cell_type": "code",
   "execution_count": null,
   "metadata": {
    "collapsed": true
   },
   "outputs": [],
   "source": [
    "a_num = 5\n",
    "a_num_also = 4.5\n",
    "\n",
    "rslt = a_num + a_num_also\n",
    "println(rslt)\n",
    "a_num = 4 # assign a new value to a_num\n",
    "print((a_num-rslt)/3)\n"
   ]
  },
  {
   "cell_type": "code",
   "execution_count": null,
   "metadata": {
    "collapsed": true
   },
   "outputs": [],
   "source": [
    "name = \"Brian Chapman\"\n",
    "println(uppercase(name))\n",
    "println(lowercase(name))\n",
    "println(search(name,\"i\"))"
   ]
  },
  {
   "cell_type": "code",
   "execution_count": null,
   "metadata": {
    "collapsed": true
   },
   "outputs": [],
   "source": [
    "first_name = \"Brian\"\n",
    "last_name = \"Chapman\"\n",
    "name = string(first_name, last_name)\n",
    "println(name)\n",
    "println(first_name[2])\n"
   ]
  },
  {
   "cell_type": "code",
   "execution_count": null,
   "metadata": {
    "collapsed": true
   },
   "outputs": [],
   "source": [
    "println(\"$first_name$last_name\")"
   ]
  },
  {
   "cell_type": "markdown",
   "metadata": {},
   "source": [
    "## Exercise\n",
    "\n",
    "* Explain why ``first_name[2]`` is '``r``' not '``i``'."
   ]
  },
  {
   "cell_type": "markdown",
   "metadata": {},
   "source": [
    "### Type Conversion\n",
    "#### [`convert`](https://docs.julialang.org/en/stable/manual/conversion-and-promotion/#Conversion-1): convert data from one type to another type\n",
    "\n",
    "The `convert` function takes as a first positional argument a type to convert to (e.g. `Int64`) and as a second positional argument a variable to convert.\n",
    "\n",
    "#### Converting strings to numbers\n",
    "To convert strings to numbers we have to use the [`parse`](https://docs.julialang.org/en/stable/stdlib/numbers/#Base.parse-Tuple{Type,Any,Any}) function\n",
    "\n",
    "```Julia\n",
    "parse(type, str, [base])\n",
    "```"
   ]
  },
  {
   "cell_type": "code",
   "execution_count": null,
   "metadata": {
    "collapsed": true
   },
   "outputs": [],
   "source": [
    "convert(Float64,54)"
   ]
  },
  {
   "cell_type": "code",
   "execution_count": null,
   "metadata": {
    "collapsed": true
   },
   "outputs": [],
   "source": [
    "parse(Int64, \"57\")"
   ]
  },
  {
   "cell_type": "markdown",
   "metadata": {},
   "source": [
    "## Exercise\n",
    "\n",
    "Talk with your neighbor about what the results of each of the following Julia statements would be. After you have talked about this, execute each statement in a code cell.\n",
    "\n",
    "```Julia\n",
    "int('5.4')\n",
    "convert(Int64, 5.4)\n",
    "convert(String, 5.4)\n",
    "string(5.4)\n",
    "parse(Float64, \"five point four\")\n",
    "```"
   ]
  },
  {
   "cell_type": "code",
   "execution_count": null,
   "metadata": {
    "collapsed": true
   },
   "outputs": [],
   "source": [
    "parse(Int64, '5.4')"
   ]
  },
  {
   "cell_type": "code",
   "execution_count": null,
   "metadata": {
    "collapsed": true
   },
   "outputs": [],
   "source": [
    "string( 5.4)"
   ]
  },
  {
   "cell_type": "code",
   "execution_count": null,
   "metadata": {
    "collapsed": true
   },
   "outputs": [],
   "source": []
  },
  {
   "cell_type": "markdown",
   "metadata": {},
   "source": [
    "### Defining Our Own Functions\n",
    "\n",
    "We can define our own functions. When we define our own functions we need to do the following:\n",
    "\n",
    "1. Provide a name for our function.\n",
    "1. Say what goes into the function (arguments)\n",
    "1. Say what the function does\n",
    "1. Say what comes out of our function\n",
    "\n",
    "To do this, we use the following syntax:\n",
    "\n",
    "```Julia\n",
    "function my_function_name(WHAT_GOES_IN)\n",
    "    SOME_JULIA_CODE\n",
    "    return WHAT_COMES_OUT\n",
    "end\n",
    "```\n",
    "\n",
    "#### Analysis\n",
    "\n",
    "```Julia\n",
    "function\n",
    "```\n",
    "\n",
    "* Julia function definitions start with the **key word** `function`\n",
    "\n",
    "```Julia\n",
    "function my_function_name\n",
    "```\n",
    "\n",
    "* Following ``function`` we provide the name of the function.\n",
    "\n",
    "Here is an excerpt from Julia's style guide about function naming:\n",
    "\n",
    "* functions are lowercase ([`maximum()`](@ref), [`convert()`](@ref)) and, when readable, with multiple\n",
    "words squashed together ([`isequal()`](@ref), [`haskey()`](@ref)). When necessary, use underscores\n",
    "as word separators. Underscores are also used to indicate a combination of concepts ([`remotecall_fetch()`](@ref)\n",
    "as a more efficient implementation of `fetch(remotecall(...))`) or as modifiers ([`sum_kbn()`](@ref)).\n",
    "* conciseness is valued, but avoid abbreviation ([`indexin()`](@ref) rather than `indxin()`) as\n",
    "it becomes difficult to remember whether and how particular words are abbreviated.\n",
    "\n",
    "```Julia\n",
    "function my_function_name(WHAT_GOES_IN)\n",
    "```\n",
    "\n",
    "* Following the function name, we provide parentheses enclosing what ever goes into the function (positional and keyword arguments). Remember something can be nothing!\n",
    "\n",
    "* Keyword arguments are separated from positional arguments with a semicolon (**`;`**)\n",
    "\n",
    "```Julia\n",
    "function my_function_name(WHAT_GOES_IN)\n",
    "    SOME_JULIA_CODE\n",
    "```\n",
    "* Julia code bock\n",
    "\n",
    "```Julia\n",
    "function my_function_name(WHAT_GOES_IN)\n",
    "    SOME_JULIA_CODE\n",
    "    return WHAT_COMES_OUT\n",
    "```\n",
    "\n",
    "```Julia\n",
    "function my_function_name(WHAT_GOES_IN)\n",
    "    SOME_JULIA_CODE\n",
    "    return WHAT_COMES_OUT\n",
    "end\n",
    "```\n",
    "\n",
    "* Julia functions always return a value. If we don't explicitly provide a return value, Julia will return the the value of the last executed statement."
   ]
  },
  {
   "cell_type": "markdown",
   "metadata": {},
   "source": [
    "#### Example function\n",
    "\n",
    "Here is the simplest function I can think of:\n",
    "\n",
    "```Julia\n",
    "function simplest_function()\n",
    "    \n",
    "end\n",
    "```\n",
    "This function \n",
    "\n",
    "* Takes no arguments (nothing comes in)\n",
    "* Does nothing\n",
    "* Implicitly returns nothing (special value `Void`)\n",
    "\n",
    "#### Example function\n",
    "\n",
    "In Julia the following symbols are used for mathematical operations\n",
    "\n",
    "* ``+``: addition\n",
    "* ``-``: subtraction\n",
    "* ``*``: multiplication, as in ``5*5``= $5\\times 5=25$.\n",
    "* ``/``: division, as in ``5/4`` = $\\frac{5}{4}=1.25$.\n",
    "* ``^``: power as in ``3^2`` = $3^2=9$.\n",
    "* ``%``: remainder as in $3\\mod 2=1$\n",
    "\n",
    "\n",
    "Here is a function that takes a number as input and returns it doubled:"
   ]
  },
  {
   "cell_type": "code",
   "execution_count": 10,
   "metadata": {},
   "outputs": [
    {
     "name": "stdout",
     "output_type": "stream",
     "text": [
      "6"
     ]
    }
   ],
   "source": [
    "function double(x)\n",
    "    return 2*x\n",
    "end\n",
    "print(double(3))"
   ]
  },
  {
   "cell_type": "markdown",
   "metadata": {},
   "source": [
    "## Exercise\n",
    "\n",
    "Modify the function below to implement the following mathematical function:\n",
    "\n",
    "$$\n",
    "f(x) = (x-x_0)^2+ax+b\n",
    "$$"
   ]
  },
  {
   "cell_type": "code",
   "execution_count": 11,
   "metadata": {},
   "outputs": [
    {
     "data": {
      "text/plain": [
       "quadratic (generic function with 1 method)"
      ]
     },
     "execution_count": 11,
     "metadata": {},
     "output_type": "execute_result"
    }
   ],
   "source": [
    "function quadratic(x,x0, a, b)\n",
    "    y = false\n",
    "end"
   ]
  },
  {
   "cell_type": "code",
   "execution_count": 12,
   "metadata": {},
   "outputs": [
    {
     "ename": "LoadError",
     "evalue": "UndefVarError: quizzes not defined",
     "output_type": "error",
     "traceback": [
      "UndefVarError: quizzes not defined",
      ""
     ]
    }
   ],
   "source": [
    "println(quizzes.test_quadratic(quadratic))"
   ]
  },
  {
   "cell_type": "markdown",
   "metadata": {},
   "source": [
    "## Code Blocks\n",
    "\n",
    "Our function examples above are examples of **code blocks.** Code blocks will show up in many places, including if/else blocks, and loops. Code blocks begin with a keyword and end with another appropriate keyword, particularly the keyword `end`."
   ]
  },
  {
   "cell_type": "markdown",
   "metadata": {},
   "source": [
    "## Code Blocks and Conditional Execution\n",
    "\n",
    "Conditional execution involves asking **true or false** questions about our data and doing different things depending on the answer. These questions are in the form of \n",
    "```Julia\n",
    "if SOME_TRUE_OR_FALSE_QUESTION # IF THE ANSWER IS TRUE, THEN WE EXECUTE THE CODE BLOCK\n",
    "    DO SOMETHING HERE\n",
    "elseif SOME_OTHER_TRUE_OR_FALSE_QUESTION # elseif stands for \"else if\"\n",
    "    DO SOMETHING DIFFERENT HERE\n",
    "else\n",
    "    DO SOME DEFAULT EXECUTION HERE IF ALL THE OTHER QUESTIONS WERE ANSWERED FALSE\n",
    "end\n",
    "```\n",
    "\n",
    "We can have multiple ``elseif`` statements and we don't have to have an ``else`` statement.\n",
    "\n",
    "In Julia, the only value that is true is `true` and the only value that is false is `false`. Attempting to ask a true/false question with a different value will create an error.\n",
    "\n",
    "\n"
   ]
  },
  {
   "cell_type": "markdown",
   "metadata": {},
   "source": [
    "### How Much to Indent?\n",
    "* Julia **does not** care how much you, if any, you indent. Indentation is entirely for human readability.\n",
    "* I follow the Python standard indention of 4 spaces\n",
    "    \n"
   ]
  },
  {
   "cell_type": "markdown",
   "metadata": {},
   "source": [
    "## Example: Childhood and Adult Obesity Dr. Kyung Rhee\n",
    "\n",
    "<img src=\"../../../media/Rhee_Kyung.JPG\"\n",
    "alt=\"DeCART Icon\" width=\"128\">\n",
    "\n",
    "Roughly 34% of children age 6 to 19 years are overweight or obese\n",
    "(BMI≥85^th^ percentile).\\[1\\] Unfortunately, these high rates begin in\n",
    "infancy and early childhood with 23% of children being overweight/obese\n",
    "by the age of 2 years. These levels are concerning because the rate of\n",
    "weight gain in the first year of life is independently associated with\n",
    "childhood obesity,\\[2-6\\] which is highly correlated with adult\n",
    "obesity.\\[7\\] Greater adiposity leads to higher risk of obesity-related\n",
    "morbidities such as cardiovascular disease,\\[8\\] diabetes mellitus,\\[9\\]\n",
    "and cancer,\\[10\\] and overweight adolescents in particular have\n",
    "increased risk of metabolic derangements and cardiovascular disease,\n",
    "including death in adulthood from coronary heart disease.\\[11\\] If these\n",
    "trends continue, obesity-related medical costs in the US will rise to\n",
    "\\$48-66 billion/year by 2030.\\[12\\] Overweight and obese children also\n",
    "incur greater medical costs from more frequent lab studies,\\[13\\] a\n",
    "greater numbers of sick visits, and greater mental health service\n",
    "utilization.\\[14\\] Current interventions have begun to focus on\n",
    "prevention among children less than 2 years of age, but success has been\n",
    "limited.\\[15\\] Understanding the mechanisms and factors associated with\n",
    "rapid infant weight gain in this early period may help to improve our\n",
    "efforts at obesity prevention and treatment.\n",
    "\n",
    "1\\. Ogden CL, Carroll MD, Kit BK, Flegal KM: **Prevalence of childhood\n",
    "and adult obesity in the United States, 2011-2012**. *JAMA* 2014,\n",
    "**311**(8):806-814.\n",
    "\n",
    "2\\. Taveras EM, Rifas-Shiman SL, Sherry B, Oken E, Haines J, Kleinman K,\n",
    "Rich-Edwards JW, Gillman MW: **Crossing growth percentiles in infancy\n",
    "and risk of obesity in childhood**. *Arch Pediatr Adolesc Med* 2011,\n",
    "**165**(11):993-998.\n",
    "\n",
    "3\\. Taveras EM, Rifas-Shiman SL, Belfort MB, Kleinman KP, Oken E, Gillman\n",
    "MW: **Weight status in the first 6 months of life and obesity at 3 years\n",
    "of age**. *Pediatrics* 2009, **123**(4):1177-1183.\n",
    "\n",
    "4\\. Baird J, Fisher D, Lucas P, Kleijnen J, Roberts H, Law C: **Being big\n",
    "or growing fast: systematic review of size and growth in infancy and\n",
    "later obesity**. *BMJ* 2005, **331**(7522):929.\n",
    "\n",
    "5\\. Ong KK, Loos RJ: **Rapid infancy weight gain and subsequent obesity:\n",
    "systematic reviews and hopeful suggestions**. *Acta Paediatr* 2006,\n",
    "**95**(8):904-908.\n",
    "\n",
    "6\\. Larnkjaer A, Schack-Nielsen L, Molgaard C, Ingstrup HK, Holst JJ,\n",
    "Michaelsen KF: **Effect of growth in infancy on body composition,\n",
    "insulin resistance, and concentration of appetite hormones in\n",
    "adolescence**. *Am J Clin Nutr* 2010, **91**(6):1675-1683.\n",
    "\n",
    "7\\. Freedman DS, Khan LK, Serdula MK, Dietz WH, Srinivasan SR, Berenson\n",
    "GS: **The relation of childhood BMI to adult adiposity: the Bogalusa\n",
    "Heart Study**. *Pediatrics* 2005, **115**(1):22-27.\n",
    "\n",
    "8\\. Wilson PW, Kannel WB, Silbershatz H, D'Agostino RB: **Clustering of\n",
    "metabolic factors and coronary heart disease**. *Arch Intern Med* 1999,\n",
    "**159**(10):1104-1109.\n",
    "\n",
    "9\\. Colditz GA, Willett WC, Rotnitzky A, Manson JE: **Weight gain as a\n",
    "risk factor for clinical diabetes mellitus in women**. *Ann Intern Med*\n",
    "1995, **122**(7):481-486.\n",
    "\n",
    "10\\. Calle EE, Rodriguez C, Walker-Thurmond K, Thun MJ: **Overweight,\n",
    "obesity, and mortality from cancer in a prospectively studied cohort of\n",
    "U.S. adults**. *N Engl J Med* 2003, **348**(17):1625-1638.\n",
    "\n",
    "11\\. Baker JL, Olsen LW, Sorensen TI: **Childhood body-mass index and the\n",
    "risk of coronary heart disease in adulthood**. *N Engl J Med* 2007,\n",
    "**357**(23):2329-2337.\n",
    "\n",
    "12\\. Wang YC, McPherson K, Marsh T, Gortmaker SL, Brown M: **Health and\n",
    "economic burden of the projected obesity trends in the USA and the UK**.\n",
    "*Lancet* 2011, **378**(9793):815-825.\n",
    "\n",
    "13\\. Hampl SE, Carroll CA, Simon SD, Sharma V: **Resource utilization and\n",
    "expenditures for overweight and obese children**. *Arch Pediatr Adolesc\n",
    "Med* 2007, **161**(1):11-14.\n",
    "\n",
    "14\\. Estabrooks PA, Shetterly S: **The prevalence and health care use of\n",
    "overweight children in an integrated health care system**. *Arch Pediatr\n",
    "Adolesc Med* 2007, **161**(3):222-227.\n",
    "\n",
    "15\\. Summerbell CD, Waters E, Edmunds LD, Kelly S, Brown T, Campbell KJ:\n",
    "**Interventions for preventing obesity in children**. *Cochrane Database\n",
    "Syst Rev* 2005(3):CD001871.\n"
   ]
  },
  {
   "cell_type": "markdown",
   "metadata": {},
   "source": [
    "## Excerse\n",
    "\n",
    "A simple yet medically meaningful measure of obesity is the [body mass index (BMI)](https://www.cdc.gov/healthyweight/assessing/bmi/adult_bmi/index.html), which is computed as the person's mass in kilograms divided by the square of their height in meters.\n",
    "\n",
    "Edit the following function so that it returns the BMI from the input values."
   ]
  },
  {
   "cell_type": "code",
   "execution_count": null,
   "metadata": {
    "collapsed": true
   },
   "outputs": [],
   "source": [
    "function bmi(mass, height)\n",
    "end\n",
    "\n",
    "quizzes.test_bmi(bmi)\n"
   ]
  },
  {
   "cell_type": "markdown",
   "metadata": {},
   "source": [
    "## Interpreting BMI\n",
    "\n",
    "Interpreting BMI in children is quite complex, with strong sex and age dependencies. Here is an example graph from the CDC for interpreting BMI values for boys between 2 and 20 years old.\n",
    "\n",
    "![BMI Curves for males between two and twenty years old](https://www.cdc.gov/healthyweight/images/assessing/growthchart_example1.gif)\n",
    "\n",
    "Raw data for [boys](https://www.cdc.gov/growthcharts/html_charts/bmiagerev.htm#males) and [girls](https://www.cdc.gov/growthcharts/html_charts/bmiagerev.htm#females) are available from the links.\n",
    "\n",
    "Adult BMI is simpler to interpret. Below is a simple Julia ``if/elseif/else`` block for comparing the value in the variable ``bmi`` to set thresholds."
   ]
  },
  {
   "cell_type": "code",
   "execution_count": null,
   "metadata": {
    "collapsed": true
   },
   "outputs": [],
   "source": []
  },
  {
   "cell_type": "code",
   "execution_count": null,
   "metadata": {
    "collapsed": true
   },
   "outputs": [],
   "source": [
    "bmi = 5*randn() + 22\n",
    "println(\"The BMI is $bmi, which is\")\n",
    "if bmi < 18.5\n",
    "    println(\"underweight\")\n",
    "elseif 18.5 <= bmi < 25\n",
    "    println(\"normal\")\n",
    "elseif 25 <= bmi < 30\n",
    "    println(\"overweight\")\n",
    "elseif 30 <= bmi < 35\n",
    "    println(\"obese\")\n",
    "else:\n",
    "    println(\"extremely obese\")\n",
    "end\n"
   ]
  },
  {
   "cell_type": "markdown",
   "metadata": {},
   "source": [
    "## Exercise\n",
    "\n",
    "Below is a table from the [FDA](https://goo.gl/8FybRy) that provides definitions of different pediatric age groups.\n",
    "\n",
    "Rewrite ``pediatric_age`` to use an if/elif/else code block to return the pediatric age category, given an age in months (why?) as argument. Use the category exactly as it is provided by the FDA (e.g. ``INFANTS``); this is necessary for testing your code.\n",
    "\n",
    "**Note:** The FDA does not provide less than or equal to/greater than or equal to definitions, so we will take the younger category to be inclusive and the older category to be exclusive so:\n",
    "\n",
    "\\begin{eqnarray}\n",
    "0 \\text{ months} \\le \\text{NEONATES} \\lt 1 \\text{ months},\\\\\n",
    "1 \\text{ months} \\le \\text{INFANTS} \\lt 24 \\text{ months}\n",
    "\\end{eqnarray}\n",
    "\n",
    "etc.\n",
    "\n",
    "<h3>FDA Pediatric Age Categories.</h3>\n",
    "\n",
    "<div class=\"table-responsive\"><table class=\"table table-bordered table-striped\" border=\"1\" cellspacing=\"0\" summary=\"This table lists the name, definition, and FDA code for this data element\" cellpadding=\"4\" width=\"100%\"><tbody><tr><th scope=\"col\">NAME</th><th scope=\"col\">DEFINITION</th><th scope=\"col\">FDA CODE</th></tr><tr><td scope=\"row\">NEONATES</td><td>NEWBORNS UP TO ONE MONTH</td><td>NEO</td></tr><tr><td scope=\"row\">INFANTS</td><td>ONE MONTH TO TWO YEARS</td><td>INF</td></tr><tr><td scope=\"row\">CHILDREN</td><td>TWO YEARS TO TWELVE YEARS</td><td>CHI</td></tr><tr><td scope=\"row\">ADOLESCENTS</td><td>TWELVE YEARS TO SIXTEEN YEARS</td><td>ADO</td></tr><tr><td scope=\"row\">OTHER</td><td>OTHER AGE GROUP STUDIED</td><td>OTH</td></tr></tbody></table></div><p>&nbsp;</p> \n"
   ]
  },
  {
   "cell_type": "code",
   "execution_count": null,
   "metadata": {
    "collapsed": true
   },
   "outputs": [],
   "source": [
    "include(\"julia_quizzes.jl\")"
   ]
  },
  {
   "cell_type": "code",
   "execution_count": null,
   "metadata": {
    "collapsed": true
   },
   "outputs": [],
   "source": [
    "function pediatric_age(myage)\n",
    "end\n",
    "\n",
    "quizzes.test_pediatric_age(pediatric_age)"
   ]
  },
  {
   "cell_type": "markdown",
   "metadata": {},
   "source": [
    "## [Repetition in Julia](https://docs.julialang.org/en/stable/manual/control-flow/#man-loops-1)\n",
    "\n",
    "There are two basic ways to repeatedly do something in Julia\n",
    "\n",
    "1. ``while`` loops\n",
    "1. ``for`` loops\n",
    "\n",
    "### ``while`` loops\n",
    "\n",
    "With ``while`` loops we do something as long as a condition is true.\n",
    "\n",
    "#### What is a danger of a ``while`` loop?"
   ]
  },
  {
   "cell_type": "code",
   "execution_count": null,
   "metadata": {
    "collapsed": true
   },
   "outputs": [],
   "source": [
    "x = 0\n",
    "while x < 5\n",
    "    #x = x + 1 # could also write x += 1\n",
    "    x+=1\n",
    "    println(x)\n",
    "end"
   ]
  },
  {
   "cell_type": "markdown",
   "metadata": {},
   "source": [
    "### ``for`` loops\n",
    "\n",
    "With ``for`` loops we loop (iterate) over elements of a container.\n",
    "\n",
    "**for** loops will be our primary mechanism for iterating over data."
   ]
  },
  {
   "cell_type": "code",
   "execution_count": null,
   "metadata": {
    "collapsed": true
   },
   "outputs": [],
   "source": [
    "for elem in [1, 2, 3, 4, 5]\n",
    "    println(elem)\n",
    "end\n",
    "println(elem)"
   ]
  },
  {
   "cell_type": "markdown",
   "metadata": {},
   "source": [
    "#### Note: `elem` is only defined within the for loop"
   ]
  },
  {
   "cell_type": "markdown",
   "metadata": {},
   "source": [
    "### Here are some equivalent definition"
   ]
  },
  {
   "cell_type": "code",
   "execution_count": null,
   "metadata": {
    "collapsed": true
   },
   "outputs": [],
   "source": [
    "for elem =1:5\n",
    "    println(elem)\n",
    "end"
   ]
  },
  {
   "cell_type": "code",
   "execution_count": null,
   "metadata": {
    "collapsed": true
   },
   "outputs": [],
   "source": [
    "for elem = [1,2,3,4,5]\n",
    "    println(elem)\n",
    "end"
   ]
  },
  {
   "cell_type": "code",
   "execution_count": null,
   "metadata": {
    "collapsed": true
   },
   "outputs": [],
   "source": [
    "for elem ∈ [1,2,3,4,5]\n",
    "    println(elem)\n",
    "end"
   ]
  },
  {
   "cell_type": "markdown",
   "metadata": {},
   "source": [
    "### [``range()``](https://docs.julialang.org/en/stable/stdlib/math/#Base.range) Function\n",
    "\n",
    "Construct a range by length, given a starting value and optional step (defaults to 1)."
   ]
  },
  {
   "cell_type": "code",
   "execution_count": null,
   "metadata": {
    "collapsed": true
   },
   "outputs": [],
   "source": [
    "for x in range(1,1,10)\n",
    "    println(x)\n",
    "end\n",
    "println(repeat(\"*\",42))\n",
    "for y in range(1,10,2)\n",
    "    println(y)\n",
    "end\n",
    "println(repeat(\"*\",42))\n",
    "for z in range(10, -2, 6)\n",
    "    println(z)\n",
    "end"
   ]
  },
  {
   "cell_type": "markdown",
   "metadata": {},
   "source": [
    "## Exercise\n",
    "\n",
    "1. You can also use a ``for`` loop to iterate over a string. Use a string and a for loop to print out all the vowels in the English language, one vowel per line."
   ]
  },
  {
   "cell_type": "code",
   "execution_count": null,
   "metadata": {
    "collapsed": true
   },
   "outputs": [],
   "source": []
  },
  {
   "cell_type": "markdown",
   "metadata": {},
   "source": [
    "## [Namespaces](https://en.wikipedia.org/wiki/Namespace), [Julia Standard Library](https://docs.julialang.org/en/stable/stdlib/base/), and [Third-Party Packages](https://pkg.julialang.org/)\n",
    "\n",
    "In programming languages we talk about namespaces, which is how the names of objects in a program are organized. When you start up Juia, the language loads a number of named objects into your current space, names such as ``println``, ``typeof``, and ``range.`` These are all part of what is known as the **global namespace.** As we create variables they are added to the namespace. We can see what is in the current namespace (which is also the global namespace) with the [`whos`](https://docs.julialang.org/en/stable/stdlib/base/#Base.whos) function:"
   ]
  },
  {
   "cell_type": "code",
   "execution_count": null,
   "metadata": {
    "collapsed": true
   },
   "outputs": [],
   "source": [
    "whos()"
   ]
  },
  {
   "cell_type": "markdown",
   "metadata": {},
   "source": [
    "### `builtins`"
   ]
  },
  {
   "cell_type": "code",
   "execution_count": null,
   "metadata": {
    "collapsed": true
   },
   "outputs": [],
   "source": []
  },
  {
   "cell_type": "markdown",
   "metadata": {},
   "source": [
    "## `using`,  `import`, and `include`\n",
    "Julia provides a lot more functions, constants, etc. than what it provides from the start. Instead of providing these by default they are kept in the **standard library.** We can gain access to them by the **using** or `import` statements. \n",
    "\n",
    "An imperfect analogy is checking books out from the library. At our home we have our own bookshelf of books always at our fingertips. But sometimes we need a book that we don't have by default, so we go to the library and check out another book which is then added to our library. "
   ]
  },
  {
   "cell_type": "code",
   "execution_count": null,
   "metadata": {
    "collapsed": true
   },
   "outputs": [],
   "source": [
    "#Pkg.update()"
   ]
  },
  {
   "cell_type": "code",
   "execution_count": null,
   "metadata": {
    "collapsed": true
   },
   "outputs": [],
   "source": [
    "using Calculus"
   ]
  },
  {
   "cell_type": "code",
   "execution_count": null,
   "metadata": {
    "collapsed": true
   },
   "outputs": [],
   "source": [
    "whos(Calculus)"
   ]
  },
  {
   "cell_type": "markdown",
   "metadata": {},
   "source": [
    "### Fix This\n",
    "We can now access the names in the Calculus library with the **dot notation**:"
   ]
  },
  {
   "cell_type": "code",
   "execution_count": null,
   "metadata": {
    "collapsed": true
   },
   "outputs": [],
   "source": [
    "Calculus.differentiate(\"cos(x) + sin(y) + exp(-x) * cos(y)\", [:x, :y])"
   ]
  },
  {
   "cell_type": "markdown",
   "metadata": {},
   "source": [
    "## Exercise\n",
    "\n",
    "Use the [``random``](https://docs.python.org/3/library/random.html) to generate a uniform, random signed integer $x$ such that $20 \\le x \\le 50$ with equal probability. The function should take no arguments.\n",
    "\n",
    "**Hint:** Read the documentation linked to above."
   ]
  },
  {
   "cell_type": "code",
   "execution_count": null,
   "metadata": {
    "collapsed": true
   },
   "outputs": [],
   "source": [
    "function get_random_integer()\n",
    "end\n",
    "quizzes.test_random_integer(get_random_integer)"
   ]
  },
  {
   "cell_type": "markdown",
   "metadata": {},
   "source": [
    "### Third-party packages\n",
    "\n",
    "Julia uses `git` for package distribution. A list of third-party packages available for Julia is kept [here](https://pkg.julialang.org/).\n",
    "\n",
    "We can install a third-party package with the `Pkg.add` function.\n",
    "\n",
    "We will add [LaTexStrings](https://github.com/stevengj/LaTeXStrings.jl) which allows us to define LaTex strings in Julia."
   ]
  },
  {
   "cell_type": "code",
   "execution_count": null,
   "metadata": {
    "collapsed": true
   },
   "outputs": [],
   "source": [
    "Pkg.add(\"LaTeXStrings\")"
   ]
  },
  {
   "cell_type": "markdown",
   "metadata": {},
   "source": [
    "#### `using` tells Julia we are going to be using `LaTexStrings` so it makes it available to us"
   ]
  },
  {
   "cell_type": "code",
   "execution_count": null,
   "metadata": {
    "collapsed": true
   },
   "outputs": [],
   "source": [
    "using LaTeXStrings"
   ]
  },
  {
   "cell_type": "code",
   "execution_count": null,
   "metadata": {
    "collapsed": true
   },
   "outputs": [],
   "source": [
    "L\"1 + \\alpha^2\""
   ]
  },
  {
   "cell_type": "markdown",
   "metadata": {},
   "source": [
    "## Exercise\n",
    "\n",
    "1. Use ``Pkg.add`` to install [JSON](https://github.com/JuliaIO/JSON.jl), a Julia package for working with JSON.\n",
    "1. With `JSON' parse the string `s` below"
   ]
  },
  {
   "cell_type": "code",
   "execution_count": null,
   "metadata": {
    "collapsed": true
   },
   "outputs": [],
   "source": [
    "s = \"{\\\"a_number\\\" : 5.0, \\\"an_array\\\" : [\\\"string\\\", 9]}\""
   ]
  },
  {
   "cell_type": "code",
   "execution_count": null,
   "metadata": {
    "collapsed": true
   },
   "outputs": [],
   "source": [
    "using JWAS"
   ]
  },
  {
   "cell_type": "code",
   "execution_count": null,
   "metadata": {
    "collapsed": true
   },
   "outputs": [],
   "source": [
    "Pkg.installed(\"JSON\")"
   ]
  },
  {
   "cell_type": "code",
   "execution_count": null,
   "metadata": {
    "collapsed": true
   },
   "outputs": [],
   "source": [
    "quizzes.test_json()"
   ]
  },
  {
   "cell_type": "markdown",
   "metadata": {},
   "source": [
    "## Standard Julia Data Structures (Molecules)\n",
    "\n",
    "In this notebook, we have focused on two types of data: numbers (integers and floats) and strings. Other data structures that come with Julia include:\n",
    "\n",
    "* [Array](https://docs.julialang.org/en/release-0.4/stdlib/arrays/)\n",
    "* [tuples](https://docs.julialang.org/en/release-0.4/manual/types/#tuple-types)\n",
    "* [sets](https://docs.julialang.org/en/release-0.4/stdlib/collections/#set-like-collections)\n",
    "* [dictionaries](https://docs.julialang.org/en/release-0.4/stdlib/collections/#associative-collections)\n",
    "\n",
    "Of these, lists are the work horse and dictionaries are the most powerful of the Python data structures. Since we will run across each of these data structures as we work with third-party data structures (e.g. Numpy arrays and Pandas DataFrames), we will quickly go over the syntax and basic nature of each of them.\n",
    "\n",
    "### Array\n",
    "\n",
    "* Like strings, Arrays are **ordered**: there is a first, second, third, etc. elements in the list.\n",
    "* Arrays are **heterogeneous**: I can have a variety of types of objects in a given list.\n",
    "* Arrays are **mutable**: lists can change: I can modify elements of the list\n",
    "* Like strings, Arrays are indexed with square brackets\n",
    "* Arrays are defined with square brackets:\n",
    "```Julia\n",
    "this_is_an_array = [1, \"one\", [1,2]]\n",
    "```"
   ]
  },
  {
   "cell_type": "code",
   "execution_count": null,
   "metadata": {
    "collapsed": true
   },
   "outputs": [],
   "source": [
    "this_is_an_array = [1, \"one\", [1,2]]"
   ]
  },
  {
   "cell_type": "code",
   "execution_count": null,
   "metadata": {
    "collapsed": true
   },
   "outputs": [],
   "source": [
    "this_is_an_array[2]"
   ]
  },
  {
   "cell_type": "code",
   "execution_count": null,
   "metadata": {
    "collapsed": true
   },
   "outputs": [],
   "source": [
    "this_is_an_array[3] = \"1,2\"\n",
    "println(this_is_an_array)"
   ]
  },
  {
   "cell_type": "code",
   "execution_count": null,
   "metadata": {
    "collapsed": true
   },
   "outputs": [],
   "source": [
    "l = pop!(this_is_an_array)\n",
    "println(l)\n",
    "println(this_is_an_array)"
   ]
  },
  {
   "cell_type": "code",
   "execution_count": null,
   "metadata": {
    "collapsed": true
   },
   "outputs": [],
   "source": [
    "println(this_is_an_array[end])\n",
    "println(this_is_an_array[end-1])"
   ]
  },
  {
   "cell_type": "code",
   "execution_count": null,
   "metadata": {
    "collapsed": true
   },
   "outputs": [],
   "source": [
    "push!(this_is_an_array, \"This is now the end\")\n",
    "println(this_is_an_array)"
   ]
  },
  {
   "cell_type": "markdown",
   "metadata": {},
   "source": [
    "### Tuple\n",
    "\n",
    "#### The key idea of a tuple is that they are *immutable*. Once defined, a tuple cannot be changed.\n",
    "* Like lists, tuples are **ordered**: there is a first, second, third, etc. elements in the list.\n",
    "* Like lists, tuples are **heterogeneous**: I can have a variety of types of objects in a given list.\n",
    "* Like lists, tuples are indexed with square brackets\n",
    "* Tuples are defined with parentheses:\n",
    "```Julia\n",
    "this_is_a_tuple = (1, \"one\", [1,2])\n",
    "```"
   ]
  },
  {
   "cell_type": "code",
   "execution_count": null,
   "metadata": {
    "collapsed": true
   },
   "outputs": [],
   "source": [
    "this_is_a_tuple = (1, \"one\", [1,2])"
   ]
  },
  {
   "cell_type": "code",
   "execution_count": null,
   "metadata": {
    "collapsed": true
   },
   "outputs": [],
   "source": [
    "this_is_a_tuple[end] = \"1,2\""
   ]
  },
  {
   "cell_type": "code",
   "execution_count": null,
   "metadata": {
    "collapsed": true
   },
   "outputs": [],
   "source": [
    "pop!(this_is_a_tuple)"
   ]
  },
  {
   "cell_type": "markdown",
   "metadata": {},
   "source": [
    "### Dictionaries\n",
    "#### A dictionary is a *mapping* from a *key* to a *value*\n",
    "\n",
    "* Dictionaries are **unordered**\n",
    "* Dictionaries are **heterogeneous**\n",
    "* Dictionaries can be \"indexed\" with the **keys**\n",
    "* Dictionaries are created with the `Dict` literal surrounding key-value pairs\n",
    "    * Key-value pairs are defined with a `=>`, as in \"This is my key\"=>\"This is my \n",
    "* Dictionaries can also be defined with a **comprehension** syntax\n",
    "```Julia\n",
    "this_is_a_dictionary = Dict(1=>\"one\", \"two\"=>2, 3=>(1,2,3))\n",
    "```"
   ]
  },
  {
   "cell_type": "code",
   "execution_count": null,
   "metadata": {
    "collapsed": true
   },
   "outputs": [],
   "source": [
    "this_is_a_dictionary = Dict(1=>\"one\", \"two\"=>2, 3=>(1,2,3))"
   ]
  },
  {
   "cell_type": "code",
   "execution_count": null,
   "metadata": {
    "collapsed": true
   },
   "outputs": [],
   "source": [
    "this_is_a_dictionary2 = Dict(i=>sqrt(i) for i∈1:2:15)"
   ]
  },
  {
   "cell_type": "code",
   "execution_count": null,
   "metadata": {
    "collapsed": true
   },
   "outputs": [],
   "source": [
    "this_is_a_dictionary[1]"
   ]
  },
  {
   "cell_type": "code",
   "execution_count": null,
   "metadata": {
    "collapsed": true
   },
   "outputs": [],
   "source": [
    "get(this_is_a_dictionary,1, \"no value\")"
   ]
  },
  {
   "cell_type": "code",
   "execution_count": null,
   "metadata": {
    "collapsed": true
   },
   "outputs": [],
   "source": [
    "keys(this_is_a_dictionary2)"
   ]
  },
  {
   "cell_type": "markdown",
   "metadata": {},
   "source": [
    "### Sets\n",
    "#### The key idea of a set is that the elements of a set are *unique*: There can only be instance of a given value in a set\n",
    "\n",
    "* Sets are **unordered**\n",
    "* Sets are **heterogeneous**\n",
    "* Sets **cannot be indexed**\n",
    "* Sets are defined with the `Set` literal\n",
    "    * I can optionally specify the type of the set with {}\n",
    "```Julia\n",
    "this_is_a_set = Set{Int64}([1, 2, 3, 3])\n",
    "this_is_a_set2 = Set([1, \"one\", 2, \"two\", 3, \"three\", 3])\n",
    "```"
   ]
  },
  {
   "cell_type": "code",
   "execution_count": null,
   "metadata": {
    "collapsed": true
   },
   "outputs": [],
   "source": [
    "this_is_a_set = Set{Int64}([1, 2, 3, 3])"
   ]
  },
  {
   "cell_type": "code",
   "execution_count": null,
   "metadata": {
    "collapsed": true
   },
   "outputs": [],
   "source": [
    "this_is_a_set2 = Set([1, \"one\", 2, \"two\", 3, \"three\", 3])"
   ]
  },
  {
   "cell_type": "code",
   "execution_count": null,
   "metadata": {
    "collapsed": true
   },
   "outputs": [],
   "source": [
    "union(this_is_a_set, this_is_a_set2)"
   ]
  },
  {
   "cell_type": "code",
   "execution_count": null,
   "metadata": {
    "collapsed": true
   },
   "outputs": [],
   "source": [
    "intersect(this_is_a_set, this_is_a_set2)"
   ]
  },
  {
   "cell_type": "code",
   "execution_count": null,
   "metadata": {
    "collapsed": true
   },
   "outputs": [],
   "source": [
    "setdiff(this_is_a_set, this_is_a_set2)"
   ]
  },
  {
   "cell_type": "code",
   "execution_count": null,
   "metadata": {
    "collapsed": true
   },
   "outputs": [],
   "source": [
    "setdiff(this_is_a_set2, this_is_a_set)"
   ]
  },
  {
   "cell_type": "markdown",
   "metadata": {},
   "source": [
    "## Summary\n",
    "\n",
    "In this notebook we explored data and functions. While not explicit, what we have demonstrated are all the components of a computer program:\n",
    "\n",
    "* Data:\n",
    "* Input:\n",
    "    *  Get data from the keyboard, a file, or some other device.\n",
    "* Output:\n",
    "    *  Display data on the screen or send data to a file or other device.\n",
    "* Manipulation:\n",
    "    *  For example, perform basic mathematical operations like addition and multiplication.\n",
    "* Conditional execution:\n",
    "    *    Check for certain conditions and execute the appropriate sequence of statements.\n",
    "* Repetition:\n",
    "    *  Perform some action repeatedly, usually with some variation. (From *How To Think Like a Computer Scientist: Learning with Python*)"
   ]
  },
  {
   "cell_type": "markdown",
   "metadata": {},
   "source": [
    "<a rel=\"license\" href=\"http://creativecommons.org/licenses/by-nc-sa/4.0/\"><img alt=\"Creative Commons License\" style=\"border-width:0\" src=\"https://i.creativecommons.org/l/by-nc-sa/4.0/88x31.png\" /></a><br /><span xmlns:dct=\"http://purl.org/dc/terms/\" property=\"dct:title\">University of Uah Data Science for Health</span> by <span xmlns:cc=\"http://creativecommons.org/ns#\" property=\"cc:attributionName\">Brian E. Chapman</span> is licensed under a <a rel=\"license\" href=\"http://creativecommons.org/licenses/by-nc-sa/4.0/\">Creative Commons Attribution-NonCommercial-ShareAlike 4.0 International License</a>.|"
   ]
  },
  {
   "cell_type": "code",
   "execution_count": null,
   "metadata": {
    "collapsed": true
   },
   "outputs": [],
   "source": []
  }
 ],
 "metadata": {
  "kernelspec": {
   "display_name": "Julia 0.5.2",
   "language": "julia",
   "name": "julia-0.5"
  },
  "language_info": {
   "file_extension": ".jl",
   "mimetype": "application/julia",
   "name": "julia",
   "version": "0.5.2"
  },
  "widgets": {
   "state": {},
   "version": "1.1.2"
  }
 },
 "nbformat": 4,
 "nbformat_minor": 1
}

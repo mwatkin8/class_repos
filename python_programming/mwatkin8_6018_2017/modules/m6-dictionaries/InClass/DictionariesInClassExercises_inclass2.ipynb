{
 "cells": [
  {
   "cell_type": "markdown",
   "metadata": {},
   "source": [
    "# Working with Dictionaries"
   ]
  },
  {
   "cell_type": "code",
   "execution_count": null,
   "metadata": {},
   "outputs": [],
   "source": [
    "from nose.tools import assert_equals, assert_true\n",
    "from ipywidgets import interact\n",
    "from IPython.display import HTML, display"
   ]
  },
  {
   "cell_type": "markdown",
   "metadata": {},
   "source": [
    "**Exercise:** Create a dictionary variable named \"sequences\" that has as values sequences1 through sequence3 and keys \"seq1\", \"seq2\", and \"seq3\"."
   ]
  },
  {
   "cell_type": "code",
   "execution_count": null,
   "metadata": {},
   "outputs": [],
   "source": [
    "# the \"\\\" character can be used as a line continuation in PPython\n",
    "sequence1 = \\\n",
    "\"\"\"AGTTGTTAGTCTACGTGGACCGACAAGAACAGTTTCGAATCGGAAGCTTGCTTAACGTAGTTCTAACAGT\n",
    "TTTTTATTAGAGAGCAGATCTCTGATGAACAACCAACGGAAAAAGACGGGTCGACCGTCTTTCAATATGC\"\"\"\n",
    "sequence2= \\\n",
    "\"\"\"TGAAACGCGCGAGAAACCGCGTGTCAACTGTTTCACAGTTGGCGAAGAGATTCTCAAAAGGATTGCTTTC\n",
    "AGGCCAAGGACCCATGAAATTGGTGATGGCTTTTATAGCATTCCTAAGATTTCTAGCCATACC\"\"\"\n",
    "sequence3= \\\n",
    "\"\"\"GCAGGAATTTTGGCTAGATGGGGCTCATTCAAGAAGAATGGAGCGATCAAAGTGTTACGGGTCAAGA\n",
    "AAGAAATCTCAAACATGTTGAACATAATGAACAGGAGGAAAAGATCTGTGACCATGCTCCTCATGCTGCT\"\"\"\n",
    "sequence4= \\\n",
    "\"\"\"GCCCACAGCCCTGGCGTTCCATCTGACCACCCGAGGGGGAGAGCCGCACATGATAGTTAGCAAGCAGGAA\n",
    "AGAGGAAAATCACTTTTGTTTAAGACCTCTGCAGGTGTCAACATGTGCACCCTTATTGCAATGGATTTGG\n",
    "GAGAGTTATGTGAGGACACAATGACCTACAAATGCCCCCGGATCACTGAGACGGAACCAGATGACGTTGA\n",
    "CTGTTGGTGCAATGCCACGGAGACATGGGTGACCTATGGAACATGTTCTCAAACTGGTGAACACCGACGA\n",
    "GACAAACGTTCCGTCGCACTGGCACCACACGTAGGGCTTGGTCTAGAAACAAGAACCGAAACGTGGATGT\"\"\"\n"
   ]
  },
  {
   "cell_type": "code",
   "execution_count": null,
   "metadata": {
    "deletable": false,
    "nbgrader": {
     "checksum": "eca5030da51451a3c47a55252241e2a6",
     "grade": false,
     "grade_id": "cell-087ca748f1868500",
     "locked": false,
     "schema_version": 1,
     "solution": true
    }
   },
   "outputs": [],
   "source": [
    "sequences = {\"seq1\": sequence1, \"seq2\": sequence2, \"seq3\": sequence3}"
   ]
  },
  {
   "cell_type": "code",
   "execution_count": null,
   "metadata": {
    "deletable": false,
    "editable": false,
    "nbgrader": {
     "checksum": "213002f6d66dc6192a69f0279e5f6ee8",
     "grade": true,
     "grade_id": "cell-9702a4cf0625d955",
     "locked": true,
     "points": 0,
     "schema_version": 1,
     "solution": false
    }
   },
   "outputs": [],
   "source": [
    "assert_true(type(sequences),dict)\n",
    "assert_true(\"seq1\" in sequences)\n",
    "assert_true(\"seq4\" not in sequences)\n",
    "assert_true(sequences[\"seq2\"]==sequence2)"
   ]
  },
  {
   "cell_type": "code",
   "execution_count": null,
   "metadata": {},
   "outputs": [],
   "source": [
    "values = [sequence1, sequence2, sequence3, sequence4]\n",
    "keys = [\"seq1\", \"seq2\", \"seq3\", \"seq4\"]\n",
    "dict1 = {}\n",
    "for i in range(len(keys)):\n",
    "    dict1[keys[i]] = values[i]\n",
    "    \n",
    "dict1"
   ]
  },
  {
   "cell_type": "code",
   "execution_count": null,
   "metadata": {},
   "outputs": [],
   "source": [
    "help(dict)"
   ]
  },
  {
   "cell_type": "code",
   "execution_count": null,
   "metadata": {},
   "outputs": [],
   "source": [
    "list(zip(keys, values))"
   ]
  },
  {
   "cell_type": "code",
   "execution_count": null,
   "metadata": {},
   "outputs": [],
   "source": [
    "dict2 = dict(zip(keys, values))\n",
    "dict2"
   ]
  },
  {
   "cell_type": "markdown",
   "metadata": {},
   "source": [
    "### Dictionary Comprehension"
   ]
  },
  {
   "cell_type": "code",
   "execution_count": null,
   "metadata": {},
   "outputs": [],
   "source": [
    "{keys[i]:values[i] for i in range(len(keys))}"
   ]
  },
  {
   "cell_type": "markdown",
   "metadata": {},
   "source": [
    "**Exercise:** Modify the function in the cell below, so that it returns the count of how many times the kmer occurs in sequence. Before counting, make sure both `sequence` and `kmer` consists only of valid DNA sequence symbols (i.e. `A`, `C`, `T`, and `G`). If either is not a proper DNA sequence we will have the function fail (raise an Exception)"
   ]
  },
  {
   "cell_type": "code",
   "execution_count": null,
   "metadata": {
    "deletable": false,
    "nbgrader": {
     "checksum": "8ae554ddaca0d8760a7283e9b84b3594",
     "grade": false,
     "grade_id": "cell-465b81aa4bb8bd74",
     "locked": false,
     "schema_version": 1,
     "solution": true
    }
   },
   "outputs": [],
   "source": [
    "def kmer_count(sequence=\"\", kmer = \"CCGATTCG\"):\n",
    "    \"\"\"This is an example of defining a function with keyword arguments:\n",
    "    \n",
    "    sequence and kmer are variables in the function kmer_present. \n",
    "    \n",
    "    These variables have DEFAULT VALUES (\"\" and \"CCGATTCG\" respectively) \n",
    "    that will be used if no values are provided explicitly\"\"\"\n",
    "    \n",
    "    sequence=sequence.replace(\"\\n\",\"\").upper() #remove new lines and convert to uppercase\n",
    "    kmer=kmer.replace(\"\\n\",\"\").upper()\n",
    "    \n",
    "    if not set(kmer).issubset (set(\"ACTG\")) or not set(sequence).issubset(set(\"ACTG\")):\n",
    "        raise ValueError(\"Invalid DNA\")\n",
    "    \n",
    "    return sequence.count(kmer)\n",
    "    \n",
    "        "
   ]
  },
  {
   "cell_type": "code",
   "execution_count": null,
   "metadata": {},
   "outputs": [],
   "source": [
    "help(sequence1.count)"
   ]
  },
  {
   "cell_type": "code",
   "execution_count": null,
   "metadata": {},
   "outputs": [],
   "source": [
    "set(sequence1)"
   ]
  },
  {
   "cell_type": "code",
   "execution_count": null,
   "metadata": {},
   "outputs": [],
   "source": [
    "kmer_count(sequence4, \"ATGG\")"
   ]
  },
  {
   "cell_type": "code",
   "execution_count": null,
   "metadata": {
    "deletable": false,
    "editable": false,
    "nbgrader": {
     "checksum": "a40a6eeaf178b3a4d15fa07585592cf2",
     "grade": true,
     "grade_id": "cell-b04563ddd6e6dece",
     "locked": true,
     "points": 0,
     "schema_version": 1,
     "solution": false
    }
   },
   "outputs": [],
   "source": [
    "assert_equals(kmer_count(sequence4, kmer=\"CTG\"),7)\n",
    "assert_equals(kmer_count(sequence4, kmer=\"CACACGTAGGG\"),1)\n",
    "assert_equals(kmer_count(sequence4, kmer=\"CAGG\"), 2)\n",
    "assert_equals(kmer_count(sequence4, kmer=\"CAGGTTT\"), 0)"
   ]
  },
  {
   "cell_type": "markdown",
   "metadata": {},
   "source": [
    "## Exercise\n",
    "\n",
    "In the following exercise we are going to using some of the [IPython widget capabilities](http://ipywidgets.readthedocs.io/en/stable/examples/Using%20Interact.html) to make an interactive tool for exploring the sequences. We want the following functionality\n",
    "\n",
    "### `@interact`\n",
    "* We want a drop down menu where we select which sequence to explore\n",
    "* We want a text box where we type in a kmer\n",
    "\n",
    "### `kmer_present`\n",
    "\n",
    "* If `kmer` is valid, we want to display the number of times (count) `kmer` occurs in the sequence\n",
    "    * If the count is non-zero, modify the sequence so that the occurrences of `kmer` are displayed in red using\n",
    "        * `<font color=\"red\">some text</font>` (<font color=\"red\">some text</font>).\n",
    "    * Otherwise, just display the original sequence string unmodified\n",
    "* If `kmer` is not valid, we should display either 'NA\" or a not a number value (e.g. np.nan)\n",
    "\n"
   ]
  },
  {
   "cell_type": "code",
   "execution_count": null,
   "metadata": {
    "deletable": false,
    "nbgrader": {
     "checksum": "93f384066704a8e249cca87beb6e1dcc",
     "grade": false,
     "grade_id": "cell-d67e935ca18fc09d",
     "locked": false,
     "schema_version": 1,
     "solution": true
    }
   },
   "outputs": [],
   "source": [
    "@interact(sequence = sequences, kmer = \"\"\n",
    ")\n",
    "def kmer_present(sequence=\"\", kmer = \"CCGATTCG\"):\n",
    "    \"\"\"This is an example of defining a function with keyword arguments:\n",
    "    \n",
    "    sequence and kmer are variables in the function kmer_present. \n",
    "    \n",
    "    These variables have DEFAULT VALUES (\"\" and \"CCGATTCG\" respectively) that will be used if no values are provided\n",
    "    explicitly.\n",
    "    \"\"\"\n",
    "    \n",
    "    kmer=kmer.upper()\n",
    "    sequence=sequence.upper()\n",
    "    \n",
    "    # Here we are going to create a string with HTML markup. We will use the string format() method to insert\n",
    "    # our values into the string.\n",
    "    \n",
    "    # create a variable to store the length of the sequence\n",
    "    seq_length = len(sequence) # replace this with actual value\n",
    "    \n",
    "    # create a variable to store the answer of whether the kmer is in the sequence\n",
    "    s = '<h3>KMER Values:</h3><table>\\n'\n",
    "    s += '<tr><td>{0}</td><td>{1}</td></tr>\\n'.format(\"sequence length\",seq_length)\n",
    "    try:\n",
    "        # YOUR CODE HERE\n",
    "        kmer_count(sequence, kmer)\n",
    "        count = kmer_count(sequence, kmer)\n",
    "        s+= '<tr><td>{0}</td><td>{1}</td></tr>\\n'.format(\"kmer: \"+kmer.upper(),count)\n",
    "        if count >0:\n",
    "            high_sequence = sequence.replace(kmer,'<font color=\"red\">%s</font>'%kmer)\n",
    "        else:\n",
    "            high_sequence = sequence\n",
    "    except ValueError:\n",
    "        s+= '<tr><td>{0}</td><td>{1}</td></tr>\\n'.format(\"kmer: \"+kmer.upper(),\"Not a valid kmer\")\n",
    "        high_sequence = sequence\n",
    "    s += '<tr><td>{0}</td><td>{1}</td></tr>'.format(\"sequence \", high_sequence)    \n",
    "    s += '</table>'\n",
    "\n",
    "    display(HTML(s))"
   ]
  },
  {
   "cell_type": "code",
   "execution_count": null,
   "metadata": {},
   "outputs": [],
   "source": []
  }
 ],
 "metadata": {
  "anaconda-cloud": {},
  "kernelspec": {
   "display_name": "Python 3",
   "language": "python",
   "name": "python3"
  },
  "language_info": {
   "codemirror_mode": {
    "name": "ipython",
    "version": 3
   },
   "file_extension": ".py",
   "mimetype": "text/x-python",
   "name": "python",
   "nbconvert_exporter": "python",
   "pygments_lexer": "ipython3",
   "version": "3.5.2"
  }
 },
 "nbformat": 4,
 "nbformat_minor": 1
}

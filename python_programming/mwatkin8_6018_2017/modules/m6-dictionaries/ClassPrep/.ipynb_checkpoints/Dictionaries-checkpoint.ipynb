{
 "cells": [
  {
   "cell_type": "code",
   "execution_count": 1,
   "metadata": {},
   "outputs": [
    {
     "data": {
      "image/jpeg": "[encoded data removed]",
      "text/html": [
       "\n",
       "        <iframe\n",
       "            width=\"400\"\n",
       "            height=\"300\"\n",
       "            src=\"https://www.youtube.com/embed/L5U4DyKWcBk\"\n",
       "            frameborder=\"0\"\n",
       "            allowfullscreen\n",
       "        ></iframe>\n",
       "        "
      ],
      "text/plain": [
       "<IPython.lib.display.YouTubeVideo at 0x7f57a8025f98>"
      ]
     },
     "execution_count": 1,
     "metadata": {},
     "output_type": "execute_result"
    }
   ],
   "source": [
    "from IPython.display import YouTubeVideo\n",
    "\n",
    "YouTubeVideo(\"L5U4DyKWcBk\")\n"
   ]
  },
  {
   "cell_type": "markdown",
   "metadata": {},
   "source": [
    "# Dictionaries\n",
    "## Did the first dictionary contain the word dictionary?\n",
    "* Dictionaries are **mutable**, **nonsequential** collections of **key/value** pairs\n",
    "* Specified with **``{KEY:VALUE,...}``**\n",
    "* Cannot be sliced\n",
    "    * **nonsequential**\n",
    "* value can be anything\n",
    "* **key must be immutable**\n",
    "\n",
    "## Can a dictionary contain a dictionary?"
   ]
  },
  {
   "cell_type": "markdown",
   "metadata": {},
   "source": [
    "* Is this a valid Python dictionary?"
   ]
  },
  {
   "cell_type": "code",
   "execution_count": null,
   "metadata": {
    "collapsed": true
   },
   "outputs": [],
   "source": [
    "{(1,2,3):('a','b','c')}"
   ]
  },
  {
   "cell_type": "markdown",
   "metadata": {},
   "source": [
    "* Is this a valid Python dictionary?"
   ]
  },
  {
   "cell_type": "code",
   "execution_count": null,
   "metadata": {
    "collapsed": true
   },
   "outputs": [],
   "source": [
    "{[1,2,3]:('a','b','c')}\n",
    "            "
   ]
  },
  {
   "cell_type": "markdown",
   "metadata": {},
   "source": [
    "# Dictionaries: Access and Modification\n",
    "* Think of the key as a generalized index \n",
    "* Dictionaries can be accessed and modified similar to lists with **[]** notation\n",
    "* Very powerful and versatile data structure\n",
    "    * NetworkX uses dictionaries to implement graphs\n",
    "    * Classes are implemented using dictionaries"
   ]
  },
  {
   "cell_type": "code",
   "execution_count": null,
   "metadata": {
    "collapsed": true
   },
   "outputs": [],
   "source": [
    "cbc = {'WBC':5.9,'RBC':5.23,'Hgb':15.9,'HCT':45.5,'Lymphocytes':32}\n",
    "\n",
    "print(cbc['WBC'])\n",
    "print(cbc['HCT'])\n",
    "print(cbc['MCV'])"
   ]
  },
  {
   "cell_type": "markdown",
   "metadata": {},
   "source": [
    "* you can use the **get()** method of a dictionary to safely return values from a dictionary\n",
    "    * If the dictionary does not contain the key, **get()** returns a specified value (default None)"
   ]
  },
  {
   "cell_type": "code",
   "execution_count": null,
   "metadata": {
    "collapsed": true
   },
   "outputs": [],
   "source": [
    "print(cbc.get(\"MCH\"))\n",
    "print(cbc.get(\"MCH\",-1))"
   ]
  },
  {
   "cell_type": "markdown",
   "metadata": {},
   "source": [
    "* You can return the keys and the values of a dictionary as lists with the **keys()** and **values()** methods of the dictionary\n",
    "* You can return the items (key,value) pairs of the dictionary with the **items()** method"
   ]
  },
  {
   "cell_type": "code",
   "execution_count": null,
   "metadata": {
    "collapsed": true
   },
   "outputs": [],
   "source": [
    "print(cbc.keys())\n",
    "print(cbc.values())\n",
    "print(cbc.items())\n",
    "print(cbc)"
   ]
  },
  {
   "cell_type": "markdown",
   "metadata": {},
   "source": [
    "## [default dictionary](https://docs.python.org/2/library/collections.html#defaultdict-objects)\n",
    "\n",
    "Default dictionaries (*defaultdict*) provides a dictionary like object that provides a default value for a key if the key is not currently in the dictionary. The default default value is *None*.\n"
   ]
  },
  {
   "cell_type": "code",
   "execution_count": null,
   "metadata": {
    "collapsed": true
   },
   "outputs": [],
   "source": [
    "import collections\n",
    "dd1 = collections.defaultdict(int)\n",
    "print(dd1)"
   ]
  },
  {
   "cell_type": "code",
   "execution_count": null,
   "metadata": {
    "collapsed": true
   },
   "outputs": [],
   "source": [
    "dd1['A'] += 1\n",
    "print(dd1)"
   ]
  },
  {
   "cell_type": "code",
   "execution_count": null,
   "metadata": {
    "collapsed": true
   },
   "outputs": [],
   "source": [
    "dd2 = collections.defaultdict(list)\n",
    "dd2['names'].append('Brian')"
   ]
  },
  {
   "cell_type": "code",
   "execution_count": null,
   "metadata": {
    "collapsed": true
   },
   "outputs": [],
   "source": [
    "dd2"
   ]
  },
  {
   "cell_type": "code",
   "execution_count": null,
   "metadata": {
    "collapsed": true
   },
   "outputs": [],
   "source": [
    "s = [('red', 1), ('blue', 2), ('red', 3), ('blue', 4), ('red', 1), ('blue', 4)]\n",
    "d = collections.defaultdict(set)\n",
    "for k, v in s:\n",
    "    d[k].add(v)"
   ]
  },
  {
   "cell_type": "code",
   "execution_count": null,
   "metadata": {
    "collapsed": true
   },
   "outputs": [],
   "source": [
    "d.items()"
   ]
  },
  {
   "cell_type": "markdown",
   "metadata": {},
   "source": [
    "[Ordered Dictionaries](https://docs.python.org/2/library/collections.html#collections.OrderedDict)\n",
    "\n",
    "Normally dictionaries do not remember the order that items were added. Consequently the order of the keys(), values() or items() lists cannot be known *a priori*.\n",
    "\n",
    "*OrderedDict* remembers the order items are placed in the dictionary.\n",
    "\n",
    "* Why not always use OrderedDict?\n",
    "    * There is no free lunch!"
   ]
  },
  {
   "cell_type": "code",
   "execution_count": null,
   "metadata": {
    "collapsed": true
   },
   "outputs": [],
   "source": []
  }
 ],
 "metadata": {
  "anaconda-cloud": {},
  "kernelspec": {
   "display_name": "Python 3",
   "language": "python",
   "name": "python3"
  },
  "language_info": {
   "codemirror_mode": {
    "name": "ipython",
    "version": 3
   },
   "file_extension": ".py",
   "mimetype": "text/x-python",
   "name": "python",
   "nbconvert_exporter": "python",
   "pygments_lexer": "ipython3",
   "version": "3.5.2"
  }
 },
 "nbformat": 4,
 "nbformat_minor": 1
}

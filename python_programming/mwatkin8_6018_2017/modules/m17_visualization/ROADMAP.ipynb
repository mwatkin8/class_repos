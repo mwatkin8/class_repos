{
 "cells": [
  {
   "cell_type": "markdown",
   "metadata": {},
   "source": [
    "# Basic Visualization Tools in Python\n",
    "\n",
    "Visualizing data in an important part of data exploration. In fact, there is a whole field of \"visual analytics\" which parallels statistical and mathematical explorations of data. We have been using [matplotlib](http://matplotlib.org/), which is the most common graphing package in Python. However, there are a number of other tools that you might want to/should become familiar with. For this module, we will just provide a few illustrations of the most common tools and point you towards some others.\n",
    "\n",
    "### Matplotlib\n",
    "* [Demonstrations from matplotlib website](./InClass/DemonstrationsFromMatplotlibWebsite.ipynb)\n",
    "* [Using MPLD3 with Matplotlib](./InClass/VisualizationHome.ipynb)\n",
    "\n",
    "### [Bokeh](http://bokeh.pydata.org/en/latest/)\n",
    "* [Basics of Bokeh](InClass/BokehColor.ipynb)\n",
    "* [Detailed Bokeh Example from Website](./InClass/burtin-inclass.ipynb)\n",
    "\n",
    "\n",
    "### Other important packages\n",
    "* [bqplot](https://github.com/bloomberg/bqplot)\n",
    "* [ggplot](http://ggplot.yhathq.com/)\n"
   ]
  },
  {
   "cell_type": "markdown",
   "metadata": {},
   "source": []
  }
 ],
 "metadata": {
  "anaconda-cloud": {},
  "kernelspec": {
   "display_name": "Python 3",
   "language": "python",
   "name": "python3"
  },
  "language_info": {
   "codemirror_mode": {
    "name": "ipython",
    "version": 3
   },
   "file_extension": ".py",
   "mimetype": "text/x-python",
   "name": "python",
   "nbconvert_exporter": "python",
   "pygments_lexer": "ipython3",
   "version": "3.5.2"
  }
 },
 "nbformat": 4,
 "nbformat_minor": 1
}

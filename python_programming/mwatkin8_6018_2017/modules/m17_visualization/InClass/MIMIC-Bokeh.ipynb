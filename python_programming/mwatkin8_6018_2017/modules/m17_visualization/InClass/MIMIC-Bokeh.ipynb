{
 "cells": [
  {
   "cell_type": "markdown",
   "metadata": {},
   "source": [
    "# Exploring MIMIC II Database with Holoviews and Bokeh\n"
   ]
  },
  {
   "cell_type": "code",
   "execution_count": null,
   "metadata": {},
   "outputs": [],
   "source": [
    "import numpy as np\n",
    "import scipy.stats as ss\n",
    "import pandas as pd\n",
    "import holoviews as hv\n",
    "import random\n",
    "hv.extension('bokeh')\n",
    "\n",
    "%opts Curve Scatter [tools=['hover']]\n"
   ]
  },
  {
   "cell_type": "code",
   "execution_count": null,
   "metadata": {},
   "outputs": [],
   "source": [
    "import pymysql.cursors\n",
    "\n",
    "# Connect to the database\n",
    "connection = pymysql.connect(host='mysql',\n",
    "                             user='jovyan',\n",
    "                             password='jovyan',\n",
    "                             db='mimic2',\n",
    "                             charset='utf8mb4',\n",
    "                             cursorclass=pymysql.cursors.DictCursor)\n",
    "\n",
    "pd.read_sql(\"show tables\", connection)"
   ]
  },
  {
   "cell_type": "markdown",
   "metadata": {},
   "source": [
    "## Look at Age Distribution of Patients\n"
   ]
  },
  {
   "cell_type": "code",
   "execution_count": null,
   "metadata": {},
   "outputs": [],
   "source": [
    "df = pd.read_sql('''\n",
    "    SELECT FLOOR(DATEDIFF(dod, dob)/365) age_years, sex, subject_id\n",
    "    from d_patients\n",
    "    ''',connection)\n",
    "\n",
    "df.head()"
   ]
  },
  {
   "cell_type": "code",
   "execution_count": null,
   "metadata": {},
   "outputs": [],
   "source": [
    "df[df.sex=='M'][\"age_years\"].unique()"
   ]
  },
  {
   "cell_type": "code",
   "execution_count": null,
   "metadata": {},
   "outputs": [],
   "source": [
    "age_table = hv.Table(df)\n",
    "age_table"
   ]
  },
  {
   "cell_type": "code",
   "execution_count": null,
   "metadata": {},
   "outputs": [],
   "source": [
    "male = hv.Histogram(np.histogram(age_table[age_table[\"sex\"] == 'M'][\"age_years\"], 20))\n",
    "female = hv.Histogram(np.histogram(age_table[age_table[\"sex\"] == 'F'][\"age_years\"], 20))\n",
    "\n",
    "(male+female).redim.label(x=\"age at death (years)\", Frequency=\"Count\")"
   ]
  },
  {
   "cell_type": "code",
   "execution_count": null,
   "metadata": {},
   "outputs": [],
   "source": [
    "%%opts Histogram (alpha=0.3)\n",
    "(male*female).redim.label(x=\"age at death (years)\", Frequency=\"Count\")"
   ]
  },
  {
   "cell_type": "code",
   "execution_count": null,
   "metadata": {},
   "outputs": [],
   "source": [
    "hv.help(hv.Histogram)"
   ]
  },
  {
   "cell_type": "code",
   "execution_count": null,
   "metadata": {},
   "outputs": [],
   "source": [
    "females = np.random.choice(df[df.sex=='F'][\"subject_id\"], 20)\n",
    "males = np.random.choice(df[df.sex=='M'][\"subject_id\"], 20)\n",
    "\n",
    "female_ids = \", \".join([str(f) for f in females])\n",
    "male_ids = \", \".join([str(m) for m in males])\n",
    "female_ids+male_ids\n",
    "\n",
    "\n",
    "df2 = pd.read_sql(\n",
    "'''\n",
    "select \n",
    "    c.subject_id, \n",
    "    p.dob,\n",
    "    c.charttime,\n",
    "    c.itemid,\n",
    "    c.value1num,\n",
    "    c.value2num,\n",
    "    p.sex,\n",
    "    FLOOR(DATEDIFF(c.charttime, p.dob)/365) age,\n",
    "    FLOOR(DATEDIFF(c.charttime, p.dob)/3650)*10 decade\n",
    "from d_patients p left join chartevents c on p.subject_id = c.subject_id\n",
    "where \n",
    "\tc.itemid = 51\n",
    "    -- Arterial Blood Pressure\n",
    "\tand value1num != 0\n",
    "\tand value2num != 0\n",
    "    and p.subject_id in (%s)\n",
    "    \n",
    "    '''%(female_ids+male_ids),connection)\n",
    "print(len(df2.subject_id.unique()))\n",
    "df2.head()"
   ]
  },
  {
   "cell_type": "code",
   "execution_count": null,
   "metadata": {},
   "outputs": [],
   "source": [
    "df2.subject_id.unique()"
   ]
  },
  {
   "cell_type": "code",
   "execution_count": null,
   "metadata": {},
   "outputs": [],
   "source": [
    "%%opts BoxWhisker [width=800 height=400 show_legend=False]\n",
    "hv.BoxWhisker(df2, kdims=[\"sex\", \"decade\"], vdims=[\"value1num\"]).redim(value1num=\"systolic bp (mmHG)\")"
   ]
  },
  {
   "cell_type": "code",
   "execution_count": null,
   "metadata": {},
   "outputs": [],
   "source": [
    "hv.Table(df2)"
   ]
  },
  {
   "cell_type": "code",
   "execution_count": null,
   "metadata": {},
   "outputs": [],
   "source": [
    "%%opts Curve [width=600]\n",
    "#agg = macro.aggregate('year', function=np.mean, spreadfn=np.std)\n",
    "#(hv.Curve(agg) * hv.ErrorBars(agg, kdims=['year'], vdims=['growth', 'growth_std']))\n",
    "\n",
    "bp = hv.Dataset(df2[['charttime', 'subject_id', 'sex', 'value1num', 'value2num']], kdims=['charttime', 'subject_id', 'sex'])"
   ]
  },
  {
   "cell_type": "code",
   "execution_count": null,
   "metadata": {},
   "outputs": [],
   "source": [
    "%%opts Bars [width=600] (alpha=0.35)\n",
    "\n",
    "agg = bp.aggregate([\"sex\"], function=np.mean, spreadfn=np.std)\n",
    "#bp.aggregate()\n",
    "\n",
    "(hv.Bars(agg) * hv.ErrorBars(agg, kdims=['sex'], vdims=['value1num', 'value1num_std'])).redim(value1num=\"bp (mmHg)\")*\\\n",
    "(hv.Bars(agg, kdims=['sex'], vdims=['value2num', 'value2num_std']) * hv.ErrorBars(agg, kdims=['sex'], vdims=['value2num', 'value2num_std'])).redim(value2num=\"diastolic bp\")\n",
    "\n"
   ]
  },
  {
   "cell_type": "code",
   "execution_count": null,
   "metadata": {},
   "outputs": [],
   "source": [
    "%%opts Bars [width=600] (alpha=0.35)\n",
    "\n",
    "agg = bp.sort(\"subject_id\").aggregate([\"subject_id\"], function=np.mean, spreadfn=np.std)\n",
    "#bp.aggregate()\n",
    "\n",
    "(hv.Bars(agg) * hv.ErrorBars(agg, kdims=['subject_id'], vdims=['value1num', 'value1num_std'])).redim(value1num=\"bp (mmHg)\")*\\\n",
    "(hv.Bars(agg, kdims=['subject_id'], vdims=['value2num', 'value2num_std']) * hv.ErrorBars(agg, kdims=['subject_id'], vdims=['value2num', 'value2num_std'])).redim(value2num=\"diastolic bp\")\n",
    "\n"
   ]
  },
  {
   "cell_type": "code",
   "execution_count": null,
   "metadata": {},
   "outputs": [],
   "source": [
    "(hv.Bars(agg) * hv.ErrorBars(agg, kdims=['sex'], vdims=['value1num', 'value1num_std'])).redim(value1num=\"systolic bp\")+(hv.Bars(agg, kdims=['sex'], vdims=['value2num', 'value2num_std']) * hv.ErrorBars(agg, kdims=['sex'], vdims=['value2num', 'value2num_std'])).redim(value2num=\"diastolic bp\")"
   ]
  },
  {
   "cell_type": "code",
   "execution_count": null,
   "metadata": {},
   "outputs": [],
   "source": [
    "%%opts Bars [width=600] (alpha=0.35)\n",
    "(hv.Bars(agg, kdims=['sex'], vdims=['value2num', 'value2num_std']) * hv.ErrorBars(agg, kdims=['sex'], vdims=['value2num', 'value2num_std'])).redim(value2num=\"diastolic bp\")"
   ]
  },
  {
   "cell_type": "markdown",
   "metadata": {},
   "source": [
    "### Urine output"
   ]
  },
  {
   "cell_type": "code",
   "execution_count": null,
   "metadata": {},
   "outputs": [],
   "source": [
    "urinedf = pd.read_sql(\"\"\"\n",
    "SELECT \n",
    "    p.subject_id,\n",
    "    p.sex, \n",
    "    ie.charttime,\n",
    "    ie.volume,\n",
    "    ie.volumeuom \n",
    "FROM d_patients p left join ioevents ie  on p.subject_id = ie.subject_id\n",
    "\n",
    "where ie.itemid in (55, 56, 57, 61, 65, 69, 85, 94, 96, 288, 405,\n",
    "428, 473, 651, 715, 1922, 2042, 2068, 2111, 2119, 2130, 2366, 2463,\n",
    "2507, 2510, 2592, 2676, 2810, 2859, 3053, 3175, 3462, 3519, 3966, 3987,\n",
    "4132, 4253, 5927) and p.subject_id in (%s)\n",
    "\n",
    "\n",
    "LIMIT 100000\"\"\"%(female_ids+male_ids), connection)\n",
    "hv.Table(urinedf)"
   ]
  },
  {
   "cell_type": "markdown",
   "metadata": {},
   "source": [
    "## Respiratory  Rate"
   ]
  },
  {
   "cell_type": "code",
   "execution_count": null,
   "metadata": {},
   "outputs": [],
   "source": [
    "rrdf = pd.read_sql(\"\"\"\n",
    "SELECT \n",
    "    p.subject_id,\n",
    "    p.sex,\n",
    "    c.charttime,\n",
    "    c.value1num\n",
    "    \n",
    "FROM d_patients p left join chartevents c  on p.subject_id = c.subject_id \n",
    "\n",
    "WHERE c.itemid in (219, 615, 618) and c.subject_id in (%s)\n",
    "\n",
    "LIMIT 100000\n",
    "\"\"\"%(female_ids+ male_ids), connection)\n",
    "rrdf.sort_values(by=[\"charttime\"], inplace=True)\n",
    "hv.Table(rrdf)"
   ]
  },
  {
   "cell_type": "code",
   "execution_count": null,
   "metadata": {},
   "outputs": [],
   "source": [
    "hrdf = pd.read_sql(\"\"\"\n",
    "SELECT \n",
    "    p.subject_id,\n",
    "    p.sex,\n",
    "    c.charttime,\n",
    "    c.value1num\n",
    "    \n",
    "FROM d_patients p left join chartevents c  on p.subject_id = c.subject_id \n",
    "\n",
    "WHERE c.itemid = 211 and c.subject_id in (%s)\n",
    "\n",
    "LIMIT 100000\n",
    "\"\"\"%(female_ids+male_ids), connection)\n",
    "hv.Table(hrdf)"
   ]
  },
  {
   "cell_type": "code",
   "execution_count": null,
   "metadata": {},
   "outputs": [],
   "source": [
    "selected_subject = random.choice(df2.subject_id)\n",
    "print(selected_subject)"
   ]
  },
  {
   "cell_type": "code",
   "execution_count": null,
   "metadata": {},
   "outputs": [],
   "source": []
  },
  {
   "cell_type": "code",
   "execution_count": null,
   "metadata": {},
   "outputs": [],
   "source": [
    "%%opts Curve [width=800 height=400 show_legend=False xrotation=45 legend=True]\n",
    "\n",
    "systolic =\\\n",
    "    hv.Curve(df2[df2.subject_id==selected_subject], \n",
    "             kdims=[\"charttime\"], \n",
    "             vdims=[\"value1num\"]).redim(value1num=\"mmHg\")\n",
    "diastolic = \\\n",
    "    hv.Curve(df2[df2.subject_id==selected_subject], \n",
    "             kdims=[\"charttime\"], \n",
    "             vdims=[\"value2num\"]).redim(value2num=\"mmHg\")\n",
    "    \n",
    "urine = \\\n",
    "    hv.Curve(urinedf[urinedf.subject_id==selected_subject], \n",
    "             kdims=[\"charttime\"], \n",
    "             vdims=[\"volume\"]).redim(volume=\"mL\")\n",
    "heartrate = hv.Curve(hrdf[hrdf.subject_id==selected_subject], \n",
    "                     kdims=[\"charttime\"], vdims=[\"value1num\"]).redim(value1num=\"beats per minute\")\n",
    "resprate = hv.Curve(rrdf[rrdf.subject_id==selected_subject], \n",
    "                     kdims=[\"charttime\"], vdims=[\"value1num\"]).redim(value1num=\"breaths per minute\")\n"
   ]
  },
  {
   "cell_type": "code",
   "execution_count": null,
   "metadata": {},
   "outputs": [],
   "source": [
    "systolic*diastolic"
   ]
  },
  {
   "cell_type": "code",
   "execution_count": null,
   "metadata": {},
   "outputs": [],
   "source": [
    "%%opts Curve [width=800 height=400 show_legend=False xrotation=45 show_legend=True]\n",
    "\n",
    "(heartrate+resprate).cols(1)"
   ]
  },
  {
   "cell_type": "code",
   "execution_count": null,
   "metadata": {},
   "outputs": [],
   "source": [
    "(resprate*heartrate)"
   ]
  },
  {
   "cell_type": "code",
   "execution_count": null,
   "metadata": {},
   "outputs": [],
   "source": [
    "%%opts Histogram [width=400 height=400 show_legend=False](alpha=0.5)\n",
    "\n",
    "bpm = hv.Histogram(np.histogram(heartrate[\"beats per minute\"], 20)).redim(Frequency=\"count\", x=\"heart rate\")\n",
    "rpm = hv.Histogram(np.histogram(resprate[\"breaths per minute\"], 20)).redim(Frequency=\"count\", x=\"rate (per minute)\")\n",
    "rpm*bpm"
   ]
  },
  {
   "cell_type": "code",
   "execution_count": null,
   "metadata": {},
   "outputs": [],
   "source": [
    "%%opts Spikes [width=800 height=400 show_legend=False xrotation=45 show_legend=True]\n",
    "\n",
    "hv.Spikes(resprate)"
   ]
  },
  {
   "cell_type": "code",
   "execution_count": null,
   "metadata": {},
   "outputs": [],
   "source": [
    "df2.columns#, df2.drop(labels=[\"dob\"]).head()"
   ]
  },
  {
   "cell_type": "code",
   "execution_count": null,
   "metadata": {},
   "outputs": [],
   "source": [
    "df2.drop(labels=[\"dob\", \"sex\"], axis=1).head()"
   ]
  },
  {
   "cell_type": "code",
   "execution_count": null,
   "metadata": {},
   "outputs": [],
   "source": [
    "%%opts Spikes [width=700 xrotation=45]\n",
    "\n",
    "\n",
    "spikes = bp.to(hv.Spikes, kdims='charttime', vdims='value1num', groupby='subject_id')\n",
    "spikes"
   ]
  },
  {
   "cell_type": "code",
   "execution_count": null,
   "metadata": {},
   "outputs": [],
   "source": []
  }
 ],
 "metadata": {
  "anaconda-cloud": {},
  "kernelspec": {
   "display_name": "Python 3",
   "language": "python",
   "name": "python3"
  },
  "language_info": {
   "codemirror_mode": {
    "name": "ipython",
    "version": 3
   },
   "file_extension": ".py",
   "mimetype": "text/x-python",
   "name": "python",
   "nbconvert_exporter": "python",
   "pygments_lexer": "ipython3",
   "version": "3.5.2"
  }
 },
 "nbformat": 4,
 "nbformat_minor": 1
}

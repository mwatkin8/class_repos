{
 "cells": [
  {
   "cell_type": "markdown",
   "metadata": {},
   "source": [
    "# Bokeh\n",
    "## We wrote a lot of JavaScript so you don't have to\n",
    "\n",
    "* Inspired by [D3](http://d3js.org/)\n",
    "* Intended to handle much larger data sets than D3"
   ]
  },
  {
   "cell_type": "markdown",
   "metadata": {},
   "source": [
    "## Bokeh's Technical Vision\n",
    "\n",
    "Photographers use the Japanese word “bokeh” to describe the blurring of the out-of-focus parts of an image. Its aesthetic quality can greatly enhance a photograph, and photographers artfully use focus to draw attention to subjects of interest. “Good bokeh” contributes visual interest to a photograph and places its subjects in context.\n",
    "\n",
    "In this vein of focusing on high-impact subjects while always maintaining a relationship to the data background, the Bokeh project attempts to address fundamental challenges of large dataset visualization:\n",
    "\n",
    "* How do we look at all the data?\n",
    "    * What are the best perceptual approaches to honestly and accurately represent the data to domain experts and SMEs so they can apply their intuition to the data?\n",
    "        * Are there automated approaches to accurately reduce large datasets so that outliers and anomalies are still visible, while we meaningfully represent baselines and backgrounds? How can we do this without “washing away” all the interesting bits during a naive downsampling?\n",
    "        * If we treat the pixels and topology of pixels on a screen as a bottleneck in the I/O channel between hard drives and an analyst’s visual cortex, what are the best compression techniques at all levels of the data transformation pipeline?\n",
    "* How can scientists and data analysts be empowered to use visualization fluidly, not merely as an output facility or one stage of a pipeline, but as an entire mode of engagement with data and models?\n",
    "    * Are language-based approaches for expressing mathematical modeling and data transformations the best way to compose novel interactive graphics?\n",
    "    * What data-oriented interactions (besides mere linked brushing/selection) are useful for fluid, visually-enable analysis? [Bokeh Technical Vision](http://bokeh.pydata.org/en/latest/#technicalvision)"
   ]
  },
  {
   "cell_type": "markdown",
   "metadata": {},
   "source": [
    "## Comparisons\n",
    "\n",
    "* Less mature than Matplotlib\n",
    "    * Some large changes between releases\n",
    "* Less functional than D3\n",
    "    * Catching up"
   ]
  },
  {
   "cell_type": "markdown",
   "metadata": {},
   "source": [
    "## Notes from Class\n",
    "\n",
    "## Bokeh Color\n",
    "This is how the documentation tells us we can specify color:\n",
    "\n",
    "* any of the [147 named CSS colors](http://www.w3schools.com/cssref/css_colornames.asp), e.g 'green', 'indigo'\n",
    "* an RGB(A) hex value, e.g., '#FF0000', '#44444444'\n",
    "* a 3-tuple of integers (r,g,b) between 0 and 255\n",
    "* a 4-tuple of (r,g,b,a) where r,g,b are integers between 0..255 and a is between 0..1\n",
    "\n",
    "\n",
    "**However,** all the examples on github or on the Bokey website use either a hex value or a named color.\n",
    "\n",
    "* Read the [wikipedia entry on RGBA](http://en.wikipedia.org/wiki/RGBA_color_space)"
   ]
  },
  {
   "cell_type": "markdown",
   "metadata": {},
   "source": [
    "### So it looks like we need  to use hex numbers or named colors \n",
    "\n",
    "I learned that the matplotlib colors module has conversion tools."
   ]
  },
  {
   "cell_type": "code",
   "execution_count": 1,
   "metadata": {
    "collapsed": true
   },
   "outputs": [],
   "source": [
    "import matplotlib.colors as colors\n"
   ]
  },
  {
   "cell_type": "code",
   "execution_count": 2,
   "metadata": {},
   "outputs": [
    {
     "name": "stdout",
     "output_type": "stream",
     "text": [
      "Help on function rgb2hex in module matplotlib.colors:\n",
      "\n",
      "rgb2hex(c)\n",
      "    Given an rgb or rgba sequence of 0-1 floats, return the hex string\n",
      "\n"
     ]
    }
   ],
   "source": [
    "help(colors.rgb2hex)"
   ]
  },
  {
   "cell_type": "markdown",
   "metadata": {},
   "source": [
    "Note that matplotlib specifies colors using floats between 0 and 1.0 instead of 0 and 255 integers."
   ]
  },
  {
   "cell_type": "code",
   "execution_count": 3,
   "metadata": {},
   "outputs": [
    {
     "data": {
      "text/plain": [
       "u'#4c00cc'"
      ]
     },
     "execution_count": 3,
     "metadata": {},
     "output_type": "execute_result"
    }
   ],
   "source": [
    "colors.rgb2hex((0.3,0,0.8))"
   ]
  },
  {
   "cell_type": "markdown",
   "metadata": {},
   "source": [
    "Here is an alternative"
   ]
  },
  {
   "cell_type": "code",
   "execution_count": 4,
   "metadata": {
    "collapsed": true
   },
   "outputs": [],
   "source": [
    "import numbers\n",
    "def rgb_to_hex(rgb):\n",
    "    if len(rgb) == 3:\n",
    "        return '#%02x%02x%02x' % rgb\n",
    "    elif len(rgb) == 4:\n",
    "        if isinstance(rgb[3],numbers.Integral):\n",
    "            return '#%02x%02x%02x%02x' % (rgb[0],rgb[1],rgb[2],255*rgb[3])\n",
    "        else:\n",
    "            return '#%02x%02x%02x%02x' % (rgb[0],rgb[1],rgb[2],255*rgb[3])\n",
    "    else:\n",
    "        raise ValueError"
   ]
  },
  {
   "cell_type": "markdown",
   "metadata": {},
   "source": [
    "Note I also cannot get Bokeh to work with a Hex RGBA value. Here are demonstrated values from [Bokeh's own documentation](http://bokeh.pydata.org/en/latest/docs/user_guide/objects.html#properties)"
   ]
  },
  {
   "cell_type": "code",
   "execution_count": 5,
   "metadata": {},
   "outputs": [
    {
     "data": {
      "text/html": [
       "\n",
       "    <div class=\"bk-root\">\n",
       "        <a href=\"http://bokeh.pydata.org\" target=\"_blank\" class=\"bk-logo bk-logo-small bk-logo-notebook\"></a>\n",
       "        <span id=\"b7039083-aba4-4188-9c91-5041915aeb6f\">Loading BokehJS ...</span>\n",
       "    </div>"
      ]
     },
     "metadata": {},
     "output_type": "display_data"
    },
    {
     "data": {
      "application/javascript": [
       "\n",
       "(function(global) {\n",
       "  function now() {\n",
       "    return new Date();\n",
       "  }\n",
       "\n",
       "  var force = true;\n",
       "\n",
       "  if (typeof (window._bokeh_onload_callbacks) === \"undefined\" || force === true) {\n",
       "    window._bokeh_onload_callbacks = [];\n",
       "    window._bokeh_is_loading = undefined;\n",
       "  }\n",
       "\n",
       "\n",
       "  \n",
       "  if (typeof (window._bokeh_timeout) === \"undefined\" || force === true) {\n",
       "    window._bokeh_timeout = Date.now() + 5000;\n",
       "    window._bokeh_failed_load = false;\n",
       "  }\n",
       "\n",
       "  var NB_LOAD_WARNING = {'data': {'text/html':\n",
       "     \"<div style='background-color: #fdd'>\\n\"+\n",
       "     \"<p>\\n\"+\n",
       "     \"BokehJS does not appear to have successfully loaded. If loading BokehJS from CDN, this \\n\"+\n",
       "     \"may be due to a slow or bad network connection. Possible fixes:\\n\"+\n",
       "     \"</p>\\n\"+\n",
       "     \"<ul>\\n\"+\n",
       "     \"<li>re-rerun `output_notebook()` to attempt to load from CDN again, or</li>\\n\"+\n",
       "     \"<li>use INLINE resources instead, as so:</li>\\n\"+\n",
       "     \"</ul>\\n\"+\n",
       "     \"<code>\\n\"+\n",
       "     \"from bokeh.resources import INLINE\\n\"+\n",
       "     \"output_notebook(resources=INLINE)\\n\"+\n",
       "     \"</code>\\n\"+\n",
       "     \"</div>\"}};\n",
       "\n",
       "  function display_loaded() {\n",
       "    if (window.Bokeh !== undefined) {\n",
       "      var el = document.getElementById(\"b7039083-aba4-4188-9c91-5041915aeb6f\");\n",
       "      el.textContent = \"BokehJS \" + Bokeh.version + \" successfully loaded.\";\n",
       "    } else if (Date.now() < window._bokeh_timeout) {\n",
       "      setTimeout(display_loaded, 100)\n",
       "    }\n",
       "  }\n",
       "\n",
       "  function run_callbacks() {\n",
       "    window._bokeh_onload_callbacks.forEach(function(callback) { callback() });\n",
       "    delete window._bokeh_onload_callbacks\n",
       "    console.info(\"Bokeh: all callbacks have finished\");\n",
       "  }\n",
       "\n",
       "  function load_libs(js_urls, callback) {\n",
       "    window._bokeh_onload_callbacks.push(callback);\n",
       "    if (window._bokeh_is_loading > 0) {\n",
       "      console.log(\"Bokeh: BokehJS is being loaded, scheduling callback at\", now());\n",
       "      return null;\n",
       "    }\n",
       "    if (js_urls == null || js_urls.length === 0) {\n",
       "      run_callbacks();\n",
       "      return null;\n",
       "    }\n",
       "    console.log(\"Bokeh: BokehJS not loaded, scheduling load and callback at\", now());\n",
       "    window._bokeh_is_loading = js_urls.length;\n",
       "    for (var i = 0; i < js_urls.length; i++) {\n",
       "      var url = js_urls[i];\n",
       "      var s = document.createElement('script');\n",
       "      s.src = url;\n",
       "      s.async = false;\n",
       "      s.onreadystatechange = s.onload = function() {\n",
       "        window._bokeh_is_loading--;\n",
       "        if (window._bokeh_is_loading === 0) {\n",
       "          console.log(\"Bokeh: all BokehJS libraries loaded\");\n",
       "          run_callbacks()\n",
       "        }\n",
       "      };\n",
       "      s.onerror = function() {\n",
       "        console.warn(\"failed to load library \" + url);\n",
       "      };\n",
       "      console.log(\"Bokeh: injecting script tag for BokehJS library: \", url);\n",
       "      document.getElementsByTagName(\"head\")[0].appendChild(s);\n",
       "    }\n",
       "  };var element = document.getElementById(\"b7039083-aba4-4188-9c91-5041915aeb6f\");\n",
       "  if (element == null) {\n",
       "    console.log(\"Bokeh: ERROR: autoload.js configured with elementid 'b7039083-aba4-4188-9c91-5041915aeb6f' but no matching script tag was found. \")\n",
       "    return false;\n",
       "  }\n",
       "\n",
       "  var js_urls = [\"https://cdn.pydata.org/bokeh/release/bokeh-0.12.5.min.js\", \"https://cdn.pydata.org/bokeh/release/bokeh-widgets-0.12.5.min.js\"];\n",
       "\n",
       "  var inline_js = [\n",
       "    function(Bokeh) {\n",
       "      Bokeh.set_log_level(\"info\");\n",
       "    },\n",
       "    \n",
       "    function(Bokeh) {\n",
       "      \n",
       "    },\n",
       "    \n",
       "    function(Bokeh) {\n",
       "      \n",
       "      document.getElementById(\"b7039083-aba4-4188-9c91-5041915aeb6f\").textContent = \"BokehJS is loading...\";\n",
       "    },\n",
       "    function(Bokeh) {\n",
       "      console.log(\"Bokeh: injecting CSS: https://cdn.pydata.org/bokeh/release/bokeh-0.12.5.min.css\");\n",
       "      Bokeh.embed.inject_css(\"https://cdn.pydata.org/bokeh/release/bokeh-0.12.5.min.css\");\n",
       "      console.log(\"Bokeh: injecting CSS: https://cdn.pydata.org/bokeh/release/bokeh-widgets-0.12.5.min.css\");\n",
       "      Bokeh.embed.inject_css(\"https://cdn.pydata.org/bokeh/release/bokeh-widgets-0.12.5.min.css\");\n",
       "    }\n",
       "  ];\n",
       "\n",
       "  function run_inline_js() {\n",
       "    \n",
       "    if ((window.Bokeh !== undefined) || (force === true)) {\n",
       "      for (var i = 0; i < inline_js.length; i++) {\n",
       "        inline_js[i](window.Bokeh);\n",
       "      }if (force === true) {\n",
       "        display_loaded();\n",
       "      }} else if (Date.now() < window._bokeh_timeout) {\n",
       "      setTimeout(run_inline_js, 100);\n",
       "    } else if (!window._bokeh_failed_load) {\n",
       "      console.log(\"Bokeh: BokehJS failed to load within specified timeout.\");\n",
       "      window._bokeh_failed_load = true;\n",
       "    } else if (force !== true) {\n",
       "      var cell = $(document.getElementById(\"b7039083-aba4-4188-9c91-5041915aeb6f\")).parents('.cell').data().cell;\n",
       "      cell.output_area.append_execute_result(NB_LOAD_WARNING)\n",
       "    }\n",
       "\n",
       "  }\n",
       "\n",
       "  if (window._bokeh_is_loading === 0) {\n",
       "    console.log(\"Bokeh: BokehJS loaded, going straight to plotting\");\n",
       "    run_inline_js();\n",
       "  } else {\n",
       "    load_libs(js_urls, function() {\n",
       "      console.log(\"Bokeh: BokehJS plotting callback run at\", now());\n",
       "      run_inline_js();\n",
       "    });\n",
       "  }\n",
       "}(this));"
      ]
     },
     "metadata": {},
     "output_type": "display_data"
    }
   ],
   "source": [
    "import numpy as np\n",
    "from bokeh.plotting import *\n",
    "output_notebook()"
   ]
  },
  {
   "cell_type": "code",
   "execution_count": 6,
   "metadata": {
    "collapsed": true
   },
   "outputs": [],
   "source": [
    "N = 80\n",
    "x = np.linspace(0, 4*np.pi, N)\n",
    "y = np.sin(x)"
   ]
  },
  {
   "cell_type": "code",
   "execution_count": 7,
   "metadata": {
    "collapsed": true
   },
   "outputs": [],
   "source": [
    "c=rgb_to_hex((128,0,255))"
   ]
  },
  {
   "cell_type": "code",
   "execution_count": 8,
   "metadata": {},
   "outputs": [
    {
     "data": {
      "text/plain": [
       "'#8000ff'"
      ]
     },
     "execution_count": 8,
     "metadata": {},
     "output_type": "execute_result"
    }
   ],
   "source": [
    "c"
   ]
  },
  {
   "cell_type": "markdown",
   "metadata": {},
   "source": [
    "### Here is a RGB value"
   ]
  },
  {
   "cell_type": "code",
   "execution_count": 10,
   "metadata": {},
   "outputs": [
    {
     "data": {
      "text/html": [
       "\n",
       "\n",
       "    <div class=\"bk-root\">\n",
       "        <div class=\"bk-plotdiv\" id=\"a7c6e3dc-a639-41ae-ab5d-b7c961cebfbe\"></div>\n",
       "    </div>\n",
       "<script type=\"text/javascript\">\n",
       "  \n",
       "  (function(global) {\n",
       "    function now() {\n",
       "      return new Date();\n",
       "    }\n",
       "  \n",
       "    var force = false;\n",
       "  \n",
       "    if (typeof (window._bokeh_onload_callbacks) === \"undefined\" || force === true) {\n",
       "      window._bokeh_onload_callbacks = [];\n",
       "      window._bokeh_is_loading = undefined;\n",
       "    }\n",
       "  \n",
       "  \n",
       "    \n",
       "    if (typeof (window._bokeh_timeout) === \"undefined\" || force === true) {\n",
       "      window._bokeh_timeout = Date.now() + 0;\n",
       "      window._bokeh_failed_load = false;\n",
       "    }\n",
       "  \n",
       "    var NB_LOAD_WARNING = {'data': {'text/html':\n",
       "       \"<div style='background-color: #fdd'>\\n\"+\n",
       "       \"<p>\\n\"+\n",
       "       \"BokehJS does not appear to have successfully loaded. If loading BokehJS from CDN, this \\n\"+\n",
       "       \"may be due to a slow or bad network connection. Possible fixes:\\n\"+\n",
       "       \"</p>\\n\"+\n",
       "       \"<ul>\\n\"+\n",
       "       \"<li>re-rerun `output_notebook()` to attempt to load from CDN again, or</li>\\n\"+\n",
       "       \"<li>use INLINE resources instead, as so:</li>\\n\"+\n",
       "       \"</ul>\\n\"+\n",
       "       \"<code>\\n\"+\n",
       "       \"from bokeh.resources import INLINE\\n\"+\n",
       "       \"output_notebook(resources=INLINE)\\n\"+\n",
       "       \"</code>\\n\"+\n",
       "       \"</div>\"}};\n",
       "  \n",
       "    function display_loaded() {\n",
       "      if (window.Bokeh !== undefined) {\n",
       "        var el = document.getElementById(\"a7c6e3dc-a639-41ae-ab5d-b7c961cebfbe\");\n",
       "        el.textContent = \"BokehJS \" + Bokeh.version + \" successfully loaded.\";\n",
       "      } else if (Date.now() < window._bokeh_timeout) {\n",
       "        setTimeout(display_loaded, 100)\n",
       "      }\n",
       "    }\n",
       "  \n",
       "    function run_callbacks() {\n",
       "      window._bokeh_onload_callbacks.forEach(function(callback) { callback() });\n",
       "      delete window._bokeh_onload_callbacks\n",
       "      console.info(\"Bokeh: all callbacks have finished\");\n",
       "    }\n",
       "  \n",
       "    function load_libs(js_urls, callback) {\n",
       "      window._bokeh_onload_callbacks.push(callback);\n",
       "      if (window._bokeh_is_loading > 0) {\n",
       "        console.log(\"Bokeh: BokehJS is being loaded, scheduling callback at\", now());\n",
       "        return null;\n",
       "      }\n",
       "      if (js_urls == null || js_urls.length === 0) {\n",
       "        run_callbacks();\n",
       "        return null;\n",
       "      }\n",
       "      console.log(\"Bokeh: BokehJS not loaded, scheduling load and callback at\", now());\n",
       "      window._bokeh_is_loading = js_urls.length;\n",
       "      for (var i = 0; i < js_urls.length; i++) {\n",
       "        var url = js_urls[i];\n",
       "        var s = document.createElement('script');\n",
       "        s.src = url;\n",
       "        s.async = false;\n",
       "        s.onreadystatechange = s.onload = function() {\n",
       "          window._bokeh_is_loading--;\n",
       "          if (window._bokeh_is_loading === 0) {\n",
       "            console.log(\"Bokeh: all BokehJS libraries loaded\");\n",
       "            run_callbacks()\n",
       "          }\n",
       "        };\n",
       "        s.onerror = function() {\n",
       "          console.warn(\"failed to load library \" + url);\n",
       "        };\n",
       "        console.log(\"Bokeh: injecting script tag for BokehJS library: \", url);\n",
       "        document.getElementsByTagName(\"head\")[0].appendChild(s);\n",
       "      }\n",
       "    };var element = document.getElementById(\"a7c6e3dc-a639-41ae-ab5d-b7c961cebfbe\");\n",
       "    if (element == null) {\n",
       "      console.log(\"Bokeh: ERROR: autoload.js configured with elementid 'a7c6e3dc-a639-41ae-ab5d-b7c961cebfbe' but no matching script tag was found. \")\n",
       "      return false;\n",
       "    }\n",
       "  \n",
       "    var js_urls = [];\n",
       "  \n",
       "    var inline_js = [\n",
       "      function(Bokeh) {\n",
       "        (function() {\n",
       "          var fn = function() {\n",
       "            var docs_json = {\"ef0cbf32-7294-4aef-bb55-8048b291fc87\":{\"roots\":{\"references\":[{\"attributes\":{\"active_drag\":\"auto\",\"active_scroll\":\"auto\",\"active_tap\":\"auto\",\"tools\":[{\"id\":\"8bfc37fb-7bce-405c-baab-8217f98f8fd8\",\"type\":\"PanTool\"},{\"id\":\"54a8876d-e17b-43f8-a4a3-a4aae0f52d98\",\"type\":\"WheelZoomTool\"},{\"id\":\"95bf9b64-59ef-437a-9e77-25dd66482c28\",\"type\":\"BoxZoomTool\"},{\"id\":\"c9271171-504c-4752-baa3-61cbeb2b2e0f\",\"type\":\"SaveTool\"},{\"id\":\"d344868e-46e2-4f1f-bed9-9ef0212b1967\",\"type\":\"ResetTool\"},{\"id\":\"5d333cb6-042d-4360-aab3-8acfcffd4f31\",\"type\":\"HelpTool\"}]},\"id\":\"610058f1-6389-4425-b22e-21ef94226de4\",\"type\":\"Toolbar\"},{\"attributes\":{\"plot\":{\"id\":\"c16afe98-1ec9-4455-853a-fb8926ca8c67\",\"subtype\":\"Figure\",\"type\":\"Plot\"}},\"id\":\"c9271171-504c-4752-baa3-61cbeb2b2e0f\",\"type\":\"SaveTool\"},{\"attributes\":{\"formatter\":{\"id\":\"05a6cb0a-2ffa-4321-bec4-5fc73df99983\",\"type\":\"BasicTickFormatter\"},\"plot\":{\"id\":\"c16afe98-1ec9-4455-853a-fb8926ca8c67\",\"subtype\":\"Figure\",\"type\":\"Plot\"},\"ticker\":{\"id\":\"be1e1c6f-e291-4133-ba4b-73fc6bb3fcaf\",\"type\":\"BasicTicker\"}},\"id\":\"8048a018-e984-4185-9c3c-282b81f9d0f6\",\"type\":\"LinearAxis\"},{\"attributes\":{\"plot\":null,\"text\":\"\"},\"id\":\"047bb6b0-0e96-4976-92f6-284d7383a9c9\",\"type\":\"Title\"},{\"attributes\":{\"callback\":null,\"column_names\":[\"y\",\"x\"],\"data\":{\"x\":{\"__ndarray__\":\"AAAAAAAAAADt80DzVlzEP+3zQPNWXNQ/5G3hbIKK3j/t80DzVlzkP+gwEbBsc+k/5G3hbIKK7j9v1dgUzNDxP+3zQPNWXPQ/axKp0eHn9j/oMBGwbHP5P2ZPeY73/vs/5G3hbIKK/j8xxqSlBosAQG/V2BTM0AFAruQMhJEWA0Dt80DzVlwEQCwDdWIcogVAaxKp0eHnBkCpId1Apy0IQOgwEbBscwlAJ0BFHzK5CkBmT3mO9/4LQKVerf28RA1A5G3hbIKKDkAifRXcR9APQDHGpKUGixBA0M0+XektEUBv1dgUzNARQA/dcsyucxJAruQMhJEWE0BO7KY7dLkTQO3zQPNWXBRAjPvaqjn/FEAsA3ViHKIVQMsKDxr/RBZAaxKp0eHnFkAKGkOJxIoXQKkh3UCnLRhASSl3+InQGEDoMBGwbHMZQIg4q2dPFhpAJ0BFHzK5GkDGR9/WFFwbQGZPeY73/htABVcTRtqhHEClXq39vEQdQERmR7Wf5x1A5G3hbIKKHkCDdXskZS0fQCJ9FdxH0B9AYcLXSZU5IEAxxqSlBosgQADKcQF43CBA0M0+XektIUCg0Qu5Wn8hQG/V2BTM0CFAP9mlcD0iIkAP3XLMrnMiQN7gPyggxSJAruQMhJEWI0B+6NnfAmgjQE7spjt0uSNAHfBzl+UKJEDt80DzVlwkQL33DU/IrSRAjPvaqjn/JEBc/6cGq1AlQCwDdWIcoiVA/AZCvo3zJUDLCg8a/0QmQJsO3HVwliZAaxKp0eHnJkA6FnYtUzknQAoaQ4nEiidA2h0Q5TXcJ0CpId1Apy0oQHklqpwYfyhASSl3+InQKEAYLURU+yEpQA==\",\"dtype\":\"float64\",\"shape\":[80]},\"y\":{\"__ndarray__\":\"AAAAAAAAAABhPUrvYkbEP2d0XQ/cBNQ/SaoWdSBl3T+C21XgsQPjP/uJxJjr2eY/+LvedHAc6j8J6mFFLrbsPyFK0s1Vlu4/+3bYa8ew7z8ad5p0Yf7vPxIZh00ufe8/XmCdFnEw7j+dfFKUkCDsP52tYuHgWuk/wFySR03x5T8bq0Bs5PnhPxcu8nqTHNs/d9ktch+W0T+PEWvp+Xe+P/rXSUj3WqS/YL5455NIyb9qH24wfmvWvzG8S1nHod+/MsQ58cwF5L/CNsnuSbnnv3FHaD9u0+q/EzJysSxA7b9KeJrj2O/uv3JmP5SM1++/BaAkFW7x77+K6DEc1jzvv2aEx/xTvu2/PKtaLpB/679yHt7eDY/ov3gZfSTN/+S/s6QALdDo4L9itnMJDcnYv0KPC9mIQM6/7STOnNhWtL8KJc6c2Fa0P1CPC9mIQM4/aLZzCQ3J2D+2pAAt0OjgP3sZfSTN/+Q/dR7e3g2P6D8+q1oukH/rP2eEx/xTvu0/jOgxHNY87z8GoCQVbvHvP3FmP5SM1+8/SXia49jv7j8OMnKxLEDtP29HaD9u0+o/wDbJ7km55z8pxDnxzAXkPzK8S1nHod8/Yx9uMH5r1j9Dvnjnk0jJP0HYSUj3WqQ/jBFr6fl3vr+F2S1yH5bRvywu8nqTHNu/GqtAbOT54b/DXJJHTfHlv6KtYuHgWum/nXxSlJAg7L9fYJ0WcTDuvxMZh00ufe+/GneadGH+77/7dthrx7Dvvx9K0s1Vlu6/BephRS627L/4u950cBzqv/iJxJjr2ea/e9tV4LED479OqhZ1IGXdv2N0XQ/cBNS/Rj1K72JGxL8HXBQzJqbBvA==\",\"dtype\":\"float64\",\"shape\":[80]}}},\"id\":\"14fb4a16-d719-441b-9beb-d8487b05f3f7\",\"type\":\"ColumnDataSource\"},{\"attributes\":{\"plot\":{\"id\":\"c16afe98-1ec9-4455-853a-fb8926ca8c67\",\"subtype\":\"Figure\",\"type\":\"Plot\"}},\"id\":\"d344868e-46e2-4f1f-bed9-9ef0212b1967\",\"type\":\"ResetTool\"},{\"attributes\":{\"line_color\":{\"value\":\"#8000ff\"},\"line_width\":{\"value\":2},\"x\":{\"field\":\"x\"},\"y\":{\"field\":\"y\"}},\"id\":\"f5340bc1-1e46-4352-b10e-2701ec21162a\",\"type\":\"Line\"},{\"attributes\":{},\"id\":\"b9401dbd-2b0e-49a5-b9ed-04bf8f7b5af7\",\"type\":\"BasicTicker\"},{\"attributes\":{\"formatter\":{\"id\":\"e919fe59-97d5-4302-8bd3-444ecc0d59d8\",\"type\":\"BasicTickFormatter\"},\"plot\":{\"id\":\"c16afe98-1ec9-4455-853a-fb8926ca8c67\",\"subtype\":\"Figure\",\"type\":\"Plot\"},\"ticker\":{\"id\":\"b9401dbd-2b0e-49a5-b9ed-04bf8f7b5af7\",\"type\":\"BasicTicker\"}},\"id\":\"2f54af5c-26d5-438a-8b9d-3d711a4c6c76\",\"type\":\"LinearAxis\"},{\"attributes\":{\"bottom_units\":\"screen\",\"fill_alpha\":{\"value\":0.5},\"fill_color\":{\"value\":\"lightgrey\"},\"left_units\":\"screen\",\"level\":\"overlay\",\"line_alpha\":{\"value\":1.0},\"line_color\":{\"value\":\"black\"},\"line_dash\":[4,4],\"line_width\":{\"value\":2},\"plot\":null,\"render_mode\":\"css\",\"right_units\":\"screen\",\"top_units\":\"screen\"},\"id\":\"69e83d3a-1ca1-4006-8816-d0925d9dc033\",\"type\":\"BoxAnnotation\"},{\"attributes\":{\"callback\":null},\"id\":\"3189b20c-c3e2-4b5d-8084-af48a14525c2\",\"type\":\"DataRange1d\"},{\"attributes\":{\"plot\":{\"id\":\"c16afe98-1ec9-4455-853a-fb8926ca8c67\",\"subtype\":\"Figure\",\"type\":\"Plot\"}},\"id\":\"8bfc37fb-7bce-405c-baab-8217f98f8fd8\",\"type\":\"PanTool\"},{\"attributes\":{\"below\":[{\"id\":\"8048a018-e984-4185-9c3c-282b81f9d0f6\",\"type\":\"LinearAxis\"}],\"left\":[{\"id\":\"2f54af5c-26d5-438a-8b9d-3d711a4c6c76\",\"type\":\"LinearAxis\"}],\"renderers\":[{\"id\":\"8048a018-e984-4185-9c3c-282b81f9d0f6\",\"type\":\"LinearAxis\"},{\"id\":\"d1a5aa18-f51d-41dd-97bd-a56b62a3af2e\",\"type\":\"Grid\"},{\"id\":\"2f54af5c-26d5-438a-8b9d-3d711a4c6c76\",\"type\":\"LinearAxis\"},{\"id\":\"2edf3b98-32dc-4946-8d57-598772bac73e\",\"type\":\"Grid\"},{\"id\":\"69e83d3a-1ca1-4006-8816-d0925d9dc033\",\"type\":\"BoxAnnotation\"},{\"id\":\"bfcf8839-16d8-4e40-90e7-1edbf2261eac\",\"type\":\"GlyphRenderer\"}],\"title\":{\"id\":\"047bb6b0-0e96-4976-92f6-284d7383a9c9\",\"type\":\"Title\"},\"tool_events\":{\"id\":\"3f14890e-e127-48e7-9da5-d2c7b04f6c07\",\"type\":\"ToolEvents\"},\"toolbar\":{\"id\":\"610058f1-6389-4425-b22e-21ef94226de4\",\"type\":\"Toolbar\"},\"x_range\":{\"id\":\"d2b4769e-6d41-4644-af5c-7fcaa2ac5e42\",\"type\":\"DataRange1d\"},\"y_range\":{\"id\":\"3189b20c-c3e2-4b5d-8084-af48a14525c2\",\"type\":\"DataRange1d\"}},\"id\":\"c16afe98-1ec9-4455-853a-fb8926ca8c67\",\"subtype\":\"Figure\",\"type\":\"Plot\"},{\"attributes\":{\"data_source\":{\"id\":\"14fb4a16-d719-441b-9beb-d8487b05f3f7\",\"type\":\"ColumnDataSource\"},\"glyph\":{\"id\":\"f5340bc1-1e46-4352-b10e-2701ec21162a\",\"type\":\"Line\"},\"hover_glyph\":null,\"muted_glyph\":null,\"nonselection_glyph\":{\"id\":\"c7bdbf17-2e9d-4455-a862-d8512a9be370\",\"type\":\"Line\"},\"selection_glyph\":null},\"id\":\"bfcf8839-16d8-4e40-90e7-1edbf2261eac\",\"type\":\"GlyphRenderer\"},{\"attributes\":{},\"id\":\"05a6cb0a-2ffa-4321-bec4-5fc73df99983\",\"type\":\"BasicTickFormatter\"},{\"attributes\":{\"plot\":{\"id\":\"c16afe98-1ec9-4455-853a-fb8926ca8c67\",\"subtype\":\"Figure\",\"type\":\"Plot\"}},\"id\":\"54a8876d-e17b-43f8-a4a3-a4aae0f52d98\",\"type\":\"WheelZoomTool\"},{\"attributes\":{},\"id\":\"be1e1c6f-e291-4133-ba4b-73fc6bb3fcaf\",\"type\":\"BasicTicker\"},{\"attributes\":{\"plot\":{\"id\":\"c16afe98-1ec9-4455-853a-fb8926ca8c67\",\"subtype\":\"Figure\",\"type\":\"Plot\"}},\"id\":\"5d333cb6-042d-4360-aab3-8acfcffd4f31\",\"type\":\"HelpTool\"},{\"attributes\":{\"overlay\":{\"id\":\"69e83d3a-1ca1-4006-8816-d0925d9dc033\",\"type\":\"BoxAnnotation\"},\"plot\":{\"id\":\"c16afe98-1ec9-4455-853a-fb8926ca8c67\",\"subtype\":\"Figure\",\"type\":\"Plot\"}},\"id\":\"95bf9b64-59ef-437a-9e77-25dd66482c28\",\"type\":\"BoxZoomTool\"},{\"attributes\":{},\"id\":\"3f14890e-e127-48e7-9da5-d2c7b04f6c07\",\"type\":\"ToolEvents\"},{\"attributes\":{\"plot\":{\"id\":\"c16afe98-1ec9-4455-853a-fb8926ca8c67\",\"subtype\":\"Figure\",\"type\":\"Plot\"},\"ticker\":{\"id\":\"be1e1c6f-e291-4133-ba4b-73fc6bb3fcaf\",\"type\":\"BasicTicker\"}},\"id\":\"d1a5aa18-f51d-41dd-97bd-a56b62a3af2e\",\"type\":\"Grid\"},{\"attributes\":{\"callback\":null},\"id\":\"d2b4769e-6d41-4644-af5c-7fcaa2ac5e42\",\"type\":\"DataRange1d\"},{\"attributes\":{\"dimension\":1,\"plot\":{\"id\":\"c16afe98-1ec9-4455-853a-fb8926ca8c67\",\"subtype\":\"Figure\",\"type\":\"Plot\"},\"ticker\":{\"id\":\"b9401dbd-2b0e-49a5-b9ed-04bf8f7b5af7\",\"type\":\"BasicTicker\"}},\"id\":\"2edf3b98-32dc-4946-8d57-598772bac73e\",\"type\":\"Grid\"},{\"attributes\":{\"line_alpha\":{\"value\":0.1},\"line_color\":{\"value\":\"#1f77b4\"},\"line_width\":{\"value\":2},\"x\":{\"field\":\"x\"},\"y\":{\"field\":\"y\"}},\"id\":\"c7bdbf17-2e9d-4455-a862-d8512a9be370\",\"type\":\"Line\"},{\"attributes\":{},\"id\":\"e919fe59-97d5-4302-8bd3-444ecc0d59d8\",\"type\":\"BasicTickFormatter\"}],\"root_ids\":[\"c16afe98-1ec9-4455-853a-fb8926ca8c67\"]},\"title\":\"Bokeh Application\",\"version\":\"0.12.5\"}};\n",
       "            var render_items = [{\"docid\":\"ef0cbf32-7294-4aef-bb55-8048b291fc87\",\"elementid\":\"a7c6e3dc-a639-41ae-ab5d-b7c961cebfbe\",\"modelid\":\"c16afe98-1ec9-4455-853a-fb8926ca8c67\"}];\n",
       "            \n",
       "            Bokeh.embed.embed_items(docs_json, render_items);\n",
       "          };\n",
       "          if (document.readyState != \"loading\") fn();\n",
       "          else document.addEventListener(\"DOMContentLoaded\", fn);\n",
       "        })();\n",
       "      },\n",
       "      function(Bokeh) {\n",
       "      }\n",
       "    ];\n",
       "  \n",
       "    function run_inline_js() {\n",
       "      \n",
       "      if ((window.Bokeh !== undefined) || (force === true)) {\n",
       "        for (var i = 0; i < inline_js.length; i++) {\n",
       "          inline_js[i](window.Bokeh);\n",
       "        }if (force === true) {\n",
       "          display_loaded();\n",
       "        }} else if (Date.now() < window._bokeh_timeout) {\n",
       "        setTimeout(run_inline_js, 100);\n",
       "      } else if (!window._bokeh_failed_load) {\n",
       "        console.log(\"Bokeh: BokehJS failed to load within specified timeout.\");\n",
       "        window._bokeh_failed_load = true;\n",
       "      } else if (force !== true) {\n",
       "        var cell = $(document.getElementById(\"a7c6e3dc-a639-41ae-ab5d-b7c961cebfbe\")).parents('.cell').data().cell;\n",
       "        cell.output_area.append_execute_result(NB_LOAD_WARNING)\n",
       "      }\n",
       "  \n",
       "    }\n",
       "  \n",
       "    if (window._bokeh_is_loading === 0) {\n",
       "      console.log(\"Bokeh: BokehJS loaded, going straight to plotting\");\n",
       "      run_inline_js();\n",
       "    } else {\n",
       "      load_libs(js_urls, function() {\n",
       "        console.log(\"Bokeh: BokehJS plotting callback run at\", now());\n",
       "        run_inline_js();\n",
       "      });\n",
       "    }\n",
       "  }(this));\n",
       "</script>"
      ]
     },
     "metadata": {},
     "output_type": "display_data"
    }
   ],
   "source": [
    "p = figure()\n",
    "p.line(x,y, color=c, line_width=2)\n",
    "show(p)"
   ]
  },
  {
   "cell_type": "markdown",
   "metadata": {},
   "source": [
    "### Here is an RGBA value"
   ]
  },
  {
   "cell_type": "code",
   "execution_count": 11,
   "metadata": {},
   "outputs": [
    {
     "data": {
      "text/html": [
       "\n",
       "\n",
       "    <div class=\"bk-root\">\n",
       "        <div class=\"bk-plotdiv\" id=\"de20995d-27cd-4d6f-81d1-c289c51b44e6\"></div>\n",
       "    </div>\n",
       "<script type=\"text/javascript\">\n",
       "  \n",
       "  (function(global) {\n",
       "    function now() {\n",
       "      return new Date();\n",
       "    }\n",
       "  \n",
       "    var force = false;\n",
       "  \n",
       "    if (typeof (window._bokeh_onload_callbacks) === \"undefined\" || force === true) {\n",
       "      window._bokeh_onload_callbacks = [];\n",
       "      window._bokeh_is_loading = undefined;\n",
       "    }\n",
       "  \n",
       "  \n",
       "    \n",
       "    if (typeof (window._bokeh_timeout) === \"undefined\" || force === true) {\n",
       "      window._bokeh_timeout = Date.now() + 0;\n",
       "      window._bokeh_failed_load = false;\n",
       "    }\n",
       "  \n",
       "    var NB_LOAD_WARNING = {'data': {'text/html':\n",
       "       \"<div style='background-color: #fdd'>\\n\"+\n",
       "       \"<p>\\n\"+\n",
       "       \"BokehJS does not appear to have successfully loaded. If loading BokehJS from CDN, this \\n\"+\n",
       "       \"may be due to a slow or bad network connection. Possible fixes:\\n\"+\n",
       "       \"</p>\\n\"+\n",
       "       \"<ul>\\n\"+\n",
       "       \"<li>re-rerun `output_notebook()` to attempt to load from CDN again, or</li>\\n\"+\n",
       "       \"<li>use INLINE resources instead, as so:</li>\\n\"+\n",
       "       \"</ul>\\n\"+\n",
       "       \"<code>\\n\"+\n",
       "       \"from bokeh.resources import INLINE\\n\"+\n",
       "       \"output_notebook(resources=INLINE)\\n\"+\n",
       "       \"</code>\\n\"+\n",
       "       \"</div>\"}};\n",
       "  \n",
       "    function display_loaded() {\n",
       "      if (window.Bokeh !== undefined) {\n",
       "        var el = document.getElementById(\"de20995d-27cd-4d6f-81d1-c289c51b44e6\");\n",
       "        el.textContent = \"BokehJS \" + Bokeh.version + \" successfully loaded.\";\n",
       "      } else if (Date.now() < window._bokeh_timeout) {\n",
       "        setTimeout(display_loaded, 100)\n",
       "      }\n",
       "    }\n",
       "  \n",
       "    function run_callbacks() {\n",
       "      window._bokeh_onload_callbacks.forEach(function(callback) { callback() });\n",
       "      delete window._bokeh_onload_callbacks\n",
       "      console.info(\"Bokeh: all callbacks have finished\");\n",
       "    }\n",
       "  \n",
       "    function load_libs(js_urls, callback) {\n",
       "      window._bokeh_onload_callbacks.push(callback);\n",
       "      if (window._bokeh_is_loading > 0) {\n",
       "        console.log(\"Bokeh: BokehJS is being loaded, scheduling callback at\", now());\n",
       "        return null;\n",
       "      }\n",
       "      if (js_urls == null || js_urls.length === 0) {\n",
       "        run_callbacks();\n",
       "        return null;\n",
       "      }\n",
       "      console.log(\"Bokeh: BokehJS not loaded, scheduling load and callback at\", now());\n",
       "      window._bokeh_is_loading = js_urls.length;\n",
       "      for (var i = 0; i < js_urls.length; i++) {\n",
       "        var url = js_urls[i];\n",
       "        var s = document.createElement('script');\n",
       "        s.src = url;\n",
       "        s.async = false;\n",
       "        s.onreadystatechange = s.onload = function() {\n",
       "          window._bokeh_is_loading--;\n",
       "          if (window._bokeh_is_loading === 0) {\n",
       "            console.log(\"Bokeh: all BokehJS libraries loaded\");\n",
       "            run_callbacks()\n",
       "          }\n",
       "        };\n",
       "        s.onerror = function() {\n",
       "          console.warn(\"failed to load library \" + url);\n",
       "        };\n",
       "        console.log(\"Bokeh: injecting script tag for BokehJS library: \", url);\n",
       "        document.getElementsByTagName(\"head\")[0].appendChild(s);\n",
       "      }\n",
       "    };var element = document.getElementById(\"de20995d-27cd-4d6f-81d1-c289c51b44e6\");\n",
       "    if (element == null) {\n",
       "      console.log(\"Bokeh: ERROR: autoload.js configured with elementid 'de20995d-27cd-4d6f-81d1-c289c51b44e6' but no matching script tag was found. \")\n",
       "      return false;\n",
       "    }\n",
       "  \n",
       "    var js_urls = [];\n",
       "  \n",
       "    var inline_js = [\n",
       "      function(Bokeh) {\n",
       "        (function() {\n",
       "          var fn = function() {\n",
       "            var docs_json = {\"ff4cee97-2618-4dc1-be2f-fba99e613982\":{\"roots\":{\"references\":[{\"attributes\":{\"plot\":{\"id\":\"7c7dbd94-aa27-486f-9e97-ec0165cc31b8\",\"subtype\":\"Figure\",\"type\":\"Plot\"}},\"id\":\"d1873cb9-cb32-48ec-a6f6-935c09405c1b\",\"type\":\"PanTool\"},{\"attributes\":{\"callback\":null,\"column_names\":[\"y\",\"x\"],\"data\":{\"x\":{\"__ndarray__\":\"AAAAAAAAAADt80DzVlzEP+3zQPNWXNQ/5G3hbIKK3j/t80DzVlzkP+gwEbBsc+k/5G3hbIKK7j9v1dgUzNDxP+3zQPNWXPQ/axKp0eHn9j/oMBGwbHP5P2ZPeY73/vs/5G3hbIKK/j8xxqSlBosAQG/V2BTM0AFAruQMhJEWA0Dt80DzVlwEQCwDdWIcogVAaxKp0eHnBkCpId1Apy0IQOgwEbBscwlAJ0BFHzK5CkBmT3mO9/4LQKVerf28RA1A5G3hbIKKDkAifRXcR9APQDHGpKUGixBA0M0+XektEUBv1dgUzNARQA/dcsyucxJAruQMhJEWE0BO7KY7dLkTQO3zQPNWXBRAjPvaqjn/FEAsA3ViHKIVQMsKDxr/RBZAaxKp0eHnFkAKGkOJxIoXQKkh3UCnLRhASSl3+InQGEDoMBGwbHMZQIg4q2dPFhpAJ0BFHzK5GkDGR9/WFFwbQGZPeY73/htABVcTRtqhHEClXq39vEQdQERmR7Wf5x1A5G3hbIKKHkCDdXskZS0fQCJ9FdxH0B9AYcLXSZU5IEAxxqSlBosgQADKcQF43CBA0M0+XektIUCg0Qu5Wn8hQG/V2BTM0CFAP9mlcD0iIkAP3XLMrnMiQN7gPyggxSJAruQMhJEWI0B+6NnfAmgjQE7spjt0uSNAHfBzl+UKJEDt80DzVlwkQL33DU/IrSRAjPvaqjn/JEBc/6cGq1AlQCwDdWIcoiVA/AZCvo3zJUDLCg8a/0QmQJsO3HVwliZAaxKp0eHnJkA6FnYtUzknQAoaQ4nEiidA2h0Q5TXcJ0CpId1Apy0oQHklqpwYfyhASSl3+InQKEAYLURU+yEpQA==\",\"dtype\":\"float64\",\"shape\":[80]},\"y\":{\"__ndarray__\":\"AAAAAAAAAABhPUrvYkbEP2d0XQ/cBNQ/SaoWdSBl3T+C21XgsQPjP/uJxJjr2eY/+LvedHAc6j8J6mFFLrbsPyFK0s1Vlu4/+3bYa8ew7z8ad5p0Yf7vPxIZh00ufe8/XmCdFnEw7j+dfFKUkCDsP52tYuHgWuk/wFySR03x5T8bq0Bs5PnhPxcu8nqTHNs/d9ktch+W0T+PEWvp+Xe+P/rXSUj3WqS/YL5455NIyb9qH24wfmvWvzG8S1nHod+/MsQ58cwF5L/CNsnuSbnnv3FHaD9u0+q/EzJysSxA7b9KeJrj2O/uv3JmP5SM1++/BaAkFW7x77+K6DEc1jzvv2aEx/xTvu2/PKtaLpB/679yHt7eDY/ov3gZfSTN/+S/s6QALdDo4L9itnMJDcnYv0KPC9mIQM6/7STOnNhWtL8KJc6c2Fa0P1CPC9mIQM4/aLZzCQ3J2D+2pAAt0OjgP3sZfSTN/+Q/dR7e3g2P6D8+q1oukH/rP2eEx/xTvu0/jOgxHNY87z8GoCQVbvHvP3FmP5SM1+8/SXia49jv7j8OMnKxLEDtP29HaD9u0+o/wDbJ7km55z8pxDnxzAXkPzK8S1nHod8/Yx9uMH5r1j9Dvnjnk0jJP0HYSUj3WqQ/jBFr6fl3vr+F2S1yH5bRvywu8nqTHNu/GqtAbOT54b/DXJJHTfHlv6KtYuHgWum/nXxSlJAg7L9fYJ0WcTDuvxMZh00ufe+/GneadGH+77/7dthrx7Dvvx9K0s1Vlu6/BephRS627L/4u950cBzqv/iJxJjr2ea/e9tV4LED479OqhZ1IGXdv2N0XQ/cBNS/Rj1K72JGxL8HXBQzJqbBvA==\",\"dtype\":\"float64\",\"shape\":[80]}}},\"id\":\"457ccea8-b91d-4ae1-a79f-1f0a1bf75c03\",\"type\":\"ColumnDataSource\"},{\"attributes\":{\"line_alpha\":{\"value\":0.1},\"line_color\":{\"value\":\"#1f77b4\"},\"line_width\":{\"value\":2},\"x\":{\"field\":\"x\"},\"y\":{\"field\":\"y\"}},\"id\":\"9e94d8ae-784d-40b0-99a0-012b60e2f264\",\"type\":\"Line\"},{\"attributes\":{\"plot\":{\"id\":\"7c7dbd94-aa27-486f-9e97-ec0165cc31b8\",\"subtype\":\"Figure\",\"type\":\"Plot\"},\"ticker\":{\"id\":\"088b13e3-dda3-490f-bfe8-f0647f52ce58\",\"type\":\"BasicTicker\"}},\"id\":\"ce97f8b7-8720-447b-a285-09e089d0a57f\",\"type\":\"Grid\"},{\"attributes\":{\"overlay\":{\"id\":\"6663a23e-221f-45f0-ad1c-fff54df26280\",\"type\":\"BoxAnnotation\"},\"plot\":{\"id\":\"7c7dbd94-aa27-486f-9e97-ec0165cc31b8\",\"subtype\":\"Figure\",\"type\":\"Plot\"}},\"id\":\"99fe98d6-ede2-4d36-915b-9c5cf066cd4e\",\"type\":\"BoxZoomTool\"},{\"attributes\":{},\"id\":\"088b13e3-dda3-490f-bfe8-f0647f52ce58\",\"type\":\"BasicTicker\"},{\"attributes\":{},\"id\":\"2852bc98-2a8f-41f9-a01c-40ab5180dccb\",\"type\":\"BasicTicker\"},{\"attributes\":{},\"id\":\"e0d1166b-9d35-4bb1-aa9d-4427ffa8300d\",\"type\":\"ToolEvents\"},{\"attributes\":{\"formatter\":{\"id\":\"4cf6cbee-1d8b-40b4-a99a-d9bb80b34eb6\",\"type\":\"BasicTickFormatter\"},\"plot\":{\"id\":\"7c7dbd94-aa27-486f-9e97-ec0165cc31b8\",\"subtype\":\"Figure\",\"type\":\"Plot\"},\"ticker\":{\"id\":\"088b13e3-dda3-490f-bfe8-f0647f52ce58\",\"type\":\"BasicTicker\"}},\"id\":\"a2e84e98-0c58-4db6-860e-b576fd59167d\",\"type\":\"LinearAxis\"},{\"attributes\":{\"dimension\":1,\"plot\":{\"id\":\"7c7dbd94-aa27-486f-9e97-ec0165cc31b8\",\"subtype\":\"Figure\",\"type\":\"Plot\"},\"ticker\":{\"id\":\"2852bc98-2a8f-41f9-a01c-40ab5180dccb\",\"type\":\"BasicTicker\"}},\"id\":\"669d29e1-bd25-4d9a-b11c-e391f95a6147\",\"type\":\"Grid\"},{\"attributes\":{\"plot\":{\"id\":\"7c7dbd94-aa27-486f-9e97-ec0165cc31b8\",\"subtype\":\"Figure\",\"type\":\"Plot\"}},\"id\":\"190e3257-821d-45f6-8779-3ed28931900c\",\"type\":\"ResetTool\"},{\"attributes\":{\"below\":[{\"id\":\"a2e84e98-0c58-4db6-860e-b576fd59167d\",\"type\":\"LinearAxis\"}],\"left\":[{\"id\":\"3e0c0720-612e-4432-ad51-ad18fbf240d8\",\"type\":\"LinearAxis\"}],\"renderers\":[{\"id\":\"a2e84e98-0c58-4db6-860e-b576fd59167d\",\"type\":\"LinearAxis\"},{\"id\":\"ce97f8b7-8720-447b-a285-09e089d0a57f\",\"type\":\"Grid\"},{\"id\":\"3e0c0720-612e-4432-ad51-ad18fbf240d8\",\"type\":\"LinearAxis\"},{\"id\":\"669d29e1-bd25-4d9a-b11c-e391f95a6147\",\"type\":\"Grid\"},{\"id\":\"6663a23e-221f-45f0-ad1c-fff54df26280\",\"type\":\"BoxAnnotation\"},{\"id\":\"8529216c-3134-467e-8e10-6808a9a89442\",\"type\":\"GlyphRenderer\"}],\"title\":{\"id\":\"ef0e55c0-237b-4610-a036-3aee237c74d5\",\"type\":\"Title\"},\"tool_events\":{\"id\":\"e0d1166b-9d35-4bb1-aa9d-4427ffa8300d\",\"type\":\"ToolEvents\"},\"toolbar\":{\"id\":\"23851a16-08e2-4559-98aa-01f745f790bf\",\"type\":\"Toolbar\"},\"x_range\":{\"id\":\"36158522-9eae-4092-a069-b046f1098763\",\"type\":\"DataRange1d\"},\"y_range\":{\"id\":\"f082ec9c-6bee-4308-bd87-3c034b0bb590\",\"type\":\"DataRange1d\"}},\"id\":\"7c7dbd94-aa27-486f-9e97-ec0165cc31b8\",\"subtype\":\"Figure\",\"type\":\"Plot\"},{\"attributes\":{\"callback\":null},\"id\":\"36158522-9eae-4092-a069-b046f1098763\",\"type\":\"DataRange1d\"},{\"attributes\":{\"bottom_units\":\"screen\",\"fill_alpha\":{\"value\":0.5},\"fill_color\":{\"value\":\"lightgrey\"},\"left_units\":\"screen\",\"level\":\"overlay\",\"line_alpha\":{\"value\":1.0},\"line_color\":{\"value\":\"black\"},\"line_dash\":[4,4],\"line_width\":{\"value\":2},\"plot\":null,\"render_mode\":\"css\",\"right_units\":\"screen\",\"top_units\":\"screen\"},\"id\":\"6663a23e-221f-45f0-ad1c-fff54df26280\",\"type\":\"BoxAnnotation\"},{\"attributes\":{\"data_source\":{\"id\":\"457ccea8-b91d-4ae1-a79f-1f0a1bf75c03\",\"type\":\"ColumnDataSource\"},\"glyph\":{\"id\":\"9d3bb1cb-ab65-4ec3-8d38-0e798311044e\",\"type\":\"Line\"},\"hover_glyph\":null,\"muted_glyph\":null,\"nonselection_glyph\":{\"id\":\"9e94d8ae-784d-40b0-99a0-012b60e2f264\",\"type\":\"Line\"},\"selection_glyph\":null},\"id\":\"8529216c-3134-467e-8e10-6808a9a89442\",\"type\":\"GlyphRenderer\"},{\"attributes\":{\"callback\":null},\"id\":\"f082ec9c-6bee-4308-bd87-3c034b0bb590\",\"type\":\"DataRange1d\"},{\"attributes\":{\"plot\":null,\"text\":\"\"},\"id\":\"ef0e55c0-237b-4610-a036-3aee237c74d5\",\"type\":\"Title\"},{\"attributes\":{\"plot\":{\"id\":\"7c7dbd94-aa27-486f-9e97-ec0165cc31b8\",\"subtype\":\"Figure\",\"type\":\"Plot\"}},\"id\":\"df36ff54-ca05-496c-9af9-b2229bfec525\",\"type\":\"WheelZoomTool\"},{\"attributes\":{},\"id\":\"414a944f-3ed8-4810-803e-1009acc99128\",\"type\":\"BasicTickFormatter\"},{\"attributes\":{\"active_drag\":\"auto\",\"active_scroll\":\"auto\",\"active_tap\":\"auto\",\"tools\":[{\"id\":\"d1873cb9-cb32-48ec-a6f6-935c09405c1b\",\"type\":\"PanTool\"},{\"id\":\"df36ff54-ca05-496c-9af9-b2229bfec525\",\"type\":\"WheelZoomTool\"},{\"id\":\"99fe98d6-ede2-4d36-915b-9c5cf066cd4e\",\"type\":\"BoxZoomTool\"},{\"id\":\"80d968fe-e2d6-41a9-82c2-2ec2c716cb18\",\"type\":\"SaveTool\"},{\"id\":\"190e3257-821d-45f6-8779-3ed28931900c\",\"type\":\"ResetTool\"},{\"id\":\"1ae35d0a-f20a-4eb0-869a-16278712a0ae\",\"type\":\"HelpTool\"}]},\"id\":\"23851a16-08e2-4559-98aa-01f745f790bf\",\"type\":\"Toolbar\"},{\"attributes\":{\"plot\":{\"id\":\"7c7dbd94-aa27-486f-9e97-ec0165cc31b8\",\"subtype\":\"Figure\",\"type\":\"Plot\"}},\"id\":\"80d968fe-e2d6-41a9-82c2-2ec2c716cb18\",\"type\":\"SaveTool\"},{\"attributes\":{},\"id\":\"4cf6cbee-1d8b-40b4-a99a-d9bb80b34eb6\",\"type\":\"BasicTickFormatter\"},{\"attributes\":{\"formatter\":{\"id\":\"414a944f-3ed8-4810-803e-1009acc99128\",\"type\":\"BasicTickFormatter\"},\"plot\":{\"id\":\"7c7dbd94-aa27-486f-9e97-ec0165cc31b8\",\"subtype\":\"Figure\",\"type\":\"Plot\"},\"ticker\":{\"id\":\"2852bc98-2a8f-41f9-a01c-40ab5180dccb\",\"type\":\"BasicTicker\"}},\"id\":\"3e0c0720-612e-4432-ad51-ad18fbf240d8\",\"type\":\"LinearAxis\"},{\"attributes\":{\"line_color\":{\"value\":\"rgba(128, 32, 72, 0.4)\"},\"line_width\":{\"value\":2},\"x\":{\"field\":\"x\"},\"y\":{\"field\":\"y\"}},\"id\":\"9d3bb1cb-ab65-4ec3-8d38-0e798311044e\",\"type\":\"Line\"},{\"attributes\":{\"plot\":{\"id\":\"7c7dbd94-aa27-486f-9e97-ec0165cc31b8\",\"subtype\":\"Figure\",\"type\":\"Plot\"}},\"id\":\"1ae35d0a-f20a-4eb0-869a-16278712a0ae\",\"type\":\"HelpTool\"}],\"root_ids\":[\"7c7dbd94-aa27-486f-9e97-ec0165cc31b8\"]},\"title\":\"Bokeh Application\",\"version\":\"0.12.5\"}};\n",
       "            var render_items = [{\"docid\":\"ff4cee97-2618-4dc1-be2f-fba99e613982\",\"elementid\":\"de20995d-27cd-4d6f-81d1-c289c51b44e6\",\"modelid\":\"7c7dbd94-aa27-486f-9e97-ec0165cc31b8\"}];\n",
       "            \n",
       "            Bokeh.embed.embed_items(docs_json, render_items);\n",
       "          };\n",
       "          if (document.readyState != \"loading\") fn();\n",
       "          else document.addEventListener(\"DOMContentLoaded\", fn);\n",
       "        })();\n",
       "      },\n",
       "      function(Bokeh) {\n",
       "      }\n",
       "    ];\n",
       "  \n",
       "    function run_inline_js() {\n",
       "      \n",
       "      if ((window.Bokeh !== undefined) || (force === true)) {\n",
       "        for (var i = 0; i < inline_js.length; i++) {\n",
       "          inline_js[i](window.Bokeh);\n",
       "        }if (force === true) {\n",
       "          display_loaded();\n",
       "        }} else if (Date.now() < window._bokeh_timeout) {\n",
       "        setTimeout(run_inline_js, 100);\n",
       "      } else if (!window._bokeh_failed_load) {\n",
       "        console.log(\"Bokeh: BokehJS failed to load within specified timeout.\");\n",
       "        window._bokeh_failed_load = true;\n",
       "      } else if (force !== true) {\n",
       "        var cell = $(document.getElementById(\"de20995d-27cd-4d6f-81d1-c289c51b44e6\")).parents('.cell').data().cell;\n",
       "        cell.output_area.append_execute_result(NB_LOAD_WARNING)\n",
       "      }\n",
       "  \n",
       "    }\n",
       "  \n",
       "    if (window._bokeh_is_loading === 0) {\n",
       "      console.log(\"Bokeh: BokehJS loaded, going straight to plotting\");\n",
       "      run_inline_js();\n",
       "    } else {\n",
       "      load_libs(js_urls, function() {\n",
       "        console.log(\"Bokeh: BokehJS plotting callback run at\", now());\n",
       "        run_inline_js();\n",
       "      });\n",
       "    }\n",
       "  }(this));\n",
       "</script>"
      ]
     },
     "metadata": {},
     "output_type": "display_data"
    }
   ],
   "source": [
    "p = figure()\n",
    "p.line(x,y, color=(128,32,72, 0.4), line_width=2)\n",
    "show(p)"
   ]
  },
  {
   "cell_type": "code",
   "execution_count": null,
   "metadata": {
    "collapsed": true
   },
   "outputs": [],
   "source": []
  }
 ],
 "metadata": {
  "kernelspec": {
   "display_name": "Python 2",
   "language": "python",
   "name": "python2"
  },
  "language_info": {
   "codemirror_mode": {
    "name": "ipython",
    "version": 2
   },
   "file_extension": ".py",
   "mimetype": "text/x-python",
   "name": "python",
   "nbconvert_exporter": "python",
   "pygments_lexer": "ipython2",
   "version": "2.7.13"
  }
 },
 "nbformat": 4,
 "nbformat_minor": 1
}

{
 "cells": [
  {
   "cell_type": "code",
   "execution_count": 1,
   "metadata": {},
   "outputs": [
    {
     "data": {
      "image/jpeg": "[encoded data removed]",
      "text/html": [
       "\n",
       "        <iframe\n",
       "            width=\"800\"\n",
       "            height=\"600\"\n",
       "            src=\"https://www.youtube.com/embed/pPrZ8chqlXY\"\n",
       "            frameborder=\"0\"\n",
       "            allowfullscreen\n",
       "        ></iframe>\n",
       "        "
      ],
      "text/plain": [
       "<IPython.lib.display.YouTubeVideo at 0x7f728bc105c0>"
      ]
     },
     "execution_count": 1,
     "metadata": {},
     "output_type": "execute_result"
    }
   ],
   "source": [
    "from IPython.display import YouTubeVideo\n",
    "YouTubeVideo(\"pPrZ8chqlXY\", width = 800, height=600)"
   ]
  },
  {
   "cell_type": "markdown",
   "metadata": {},
   "source": [
    "# [Basic Types in Python](http://docs.python.org/3/library/stdtypes.html)\n",
    "\n",
    "#### Python has the following standard *types*\n",
    "* numerics\n",
    "* sequences\n",
    "* mappings\n",
    "* classes\n",
    "* instances\n",
    "* exceptions\n",
    "    \n",
    "#### We're going to start with an exploration of the numeric types in Python."
   ]
  },
  {
   "cell_type": "markdown",
   "metadata": {},
   "source": [
    "#  Numerics\n",
    "## Python has three basic types of numbers:\n",
    "* Integers: roughly corresponding to the Integers ($\\mathbb{Z}$) of mathematics.\n",
    "* Floating Point Numbers: roughly corresponding to the Reals ($\\mathbb{R}$) of mathematics.\n",
    "* Complex Numbers: roughly corresponding to the Complexes ($\\mathbb{C}$) of mathematics.\n",
    "\n",
    "### Python has some additional types of numbers for specialized applications\n",
    "\n",
    "* [decimal](http://docs.python.org/3.5/library/decimal.html)\n",
    "    * Floating point with fixed precision (e.g. currency)\n",
    "* [fraction](http://docs.python.org/3.5/library/fractions.html)\n",
    "    * Exact representation of rational numbers\n"
   ]
  },
  {
   "cell_type": "markdown",
   "metadata": {},
   "source": [
    "## Coding Integers \n",
    "\n",
    "### Integers can be coded in \n",
    "\n",
    "* decimal (base 10), \n",
    "* hexadecimal (base 16), \n",
    "* octal (base 8), and binary (base 2) form.\n",
    "\n",
    "* base 10 is the default\n",
    "    * e.g. 10, -27\n",
    "    \n",
    "    "
   ]
  },
  {
   "cell_type": "markdown",
   "metadata": {},
   "source": [
    "#### Hexadecimal Numbers\n",
    "* base 16 is coded by preceding the number by 0x (\"zero-x\")\n",
    "    * We need 6 additional characters to represent the 16 base digits\n",
    "    * a, b, c, d, e, f"
   ]
  },
  {
   "cell_type": "code",
   "execution_count": null,
   "metadata": {
    "collapsed": true
   },
   "outputs": [],
   "source": [
    "a = 0x543ef\n",
    "print(a)\n"
   ]
  },
  {
   "cell_type": "markdown",
   "metadata": {},
   "source": [
    "#### Octal Numbers\n",
    "* base 8 is coded by preceding the number of 0o (\"zero-oh\")\n",
    "    * We only need 8 digits, so our digit characters are limited to 0-7"
   ]
  },
  {
   "cell_type": "code",
   "execution_count": null,
   "metadata": {
    "collapsed": true
   },
   "outputs": [],
   "source": [
    "print(0o547)"
   ]
  },
  {
   "cell_type": "code",
   "execution_count": null,
   "metadata": {
    "collapsed": true
   },
   "outputs": [],
   "source": [
    "print(0o578)\n",
    "      "
   ]
  },
  {
   "cell_type": "markdown",
   "metadata": {},
   "source": [
    "#### Binary Numbers\n",
    "* base 2 is coded by preceding the number by 0b (\"zero-b\")\n",
    "    * We only need 2 digits, so our digit characters are limited to 0,1"
   ]
  },
  {
   "cell_type": "code",
   "execution_count": null,
   "metadata": {
    "collapsed": true
   },
   "outputs": [],
   "source": [
    "a = 0b0010\n",
    "b = 0b0101\n",
    "print(a+b)"
   ]
  },
  {
   "cell_type": "markdown",
   "metadata": {},
   "source": [
    "### Converting Between Integer Codings\n",
    "\n",
    "Python provides functions for converting between integer codings:"
   ]
  },
  {
   "cell_type": "code",
   "execution_count": null,
   "metadata": {
    "collapsed": true
   },
   "outputs": [],
   "source": [
    "print(bin(a))\n",
    "print(oct(a))"
   ]
  },
  {
   "cell_type": "code",
   "execution_count": null,
   "metadata": {
    "collapsed": true
   },
   "outputs": [],
   "source": [
    "print(hex(2016))"
   ]
  },
  {
   "cell_type": "markdown",
   "metadata": {},
   "source": [
    "### Converting to Integers\n",
    "\n",
    "Python also provides the [``int()``](https://docs.python.org/3/library/functions.html#int) for converting numbers or strings to integers. \n",
    "\n",
    "The function takes an optional [**keyword argument**](https://docs.python.org/3.5/tutorial/controlflow.html#keyword-arguments), ``base`` that allows you to specify what base the string is coded in."
   ]
  },
  {
   "cell_type": "code",
   "execution_count": null,
   "metadata": {
    "collapsed": true
   },
   "outputs": [],
   "source": [
    "print(int(4.8))\n",
    "print(int('67'))"
   ]
  },
  {
   "cell_type": "code",
   "execution_count": null,
   "metadata": {
    "collapsed": true
   },
   "outputs": [],
   "source": [
    "print(int('hello'))"
   ]
  },
  {
   "cell_type": "code",
   "execution_count": null,
   "metadata": {
    "collapsed": true
   },
   "outputs": [],
   "source": [
    "print(int('0xd45',base=16))"
   ]
  },
  {
   "cell_type": "code",
   "execution_count": null,
   "metadata": {
    "collapsed": true
   },
   "outputs": [],
   "source": [
    "print(int('d45',base=16))"
   ]
  },
  {
   "cell_type": "code",
   "execution_count": null,
   "metadata": {
    "collapsed": true
   },
   "outputs": [],
   "source": [
    "print(int('45',base=8))"
   ]
  },
  {
   "cell_type": "markdown",
   "metadata": {},
   "source": [
    "## Floating Point Numbers\n",
    "\n",
    "Floating point numbers are coded by typing them as decimals"
   ]
  },
  {
   "cell_type": "code",
   "execution_count": null,
   "metadata": {
    "collapsed": true
   },
   "outputs": [],
   "source": [
    "print(type(4))\n",
    "print(type(4.))\n",
    "print(type(4.0))"
   ]
  },
  {
   "cell_type": "markdown",
   "metadata": {},
   "source": [
    "Floating point numbers can also be typed in *exponential form.*"
   ]
  },
  {
   "cell_type": "code",
   "execution_count": null,
   "metadata": {
    "collapsed": true
   },
   "outputs": [],
   "source": [
    "print(4e1)\n",
    "print(4E1)\n"
   ]
  },
  {
   "cell_type": "markdown",
   "metadata": {},
   "source": [
    "## Generating Floats\n",
    "\n",
    "* floats can also be generated by dividing two integers (different than Python 2.x).\n",
    "\n",
    "* Similar to the ``int()`` function, Python provides a [``float``](https://docs.python.org/3/library/functions.html#float) function that will take a number or a string and convert it to a float.\n"
   ]
  },
  {
   "cell_type": "code",
   "execution_count": null,
   "metadata": {
    "collapsed": true
   },
   "outputs": [],
   "source": [
    "print(float(5))\n",
    "print(float('5'))\n",
    "print(float(int('0x5', base=16)))"
   ]
  },
  {
   "cell_type": "code",
   "execution_count": null,
   "metadata": {
    "collapsed": true
   },
   "outputs": [],
   "source": [
    "print(float(int('0x5',16)))"
   ]
  },
  {
   "cell_type": "code",
   "execution_count": null,
   "metadata": {
    "collapsed": true
   },
   "outputs": [],
   "source": []
  },
  {
   "cell_type": "markdown",
   "metadata": {},
   "source": [
    "### Constructing Complex Numbers in Python\n",
    "\n",
    "* Complex numbers can be constructed \n",
    "    * From floats and ints when the imaginary part is tagged with a \"j\" or \"J\" as a suffix.\n",
    "    * Passing a part of numbers to the [``complex``](https://docs.python.org/3/library/functions.html#complex) function\n",
    "    * From a function that returns a complex value"
   ]
  },
  {
   "cell_type": "code",
   "execution_count": null,
   "metadata": {
    "collapsed": true
   },
   "outputs": [],
   "source": [
    "\n",
    "print(0.5j)\n",
    "print(1+1J)\n",
    "print(complex(1.4,-1))\n",
    "print(complex(2))\n",
    "print(complex(0,2))"
   ]
  },
  {
   "cell_type": "markdown",
   "metadata": {},
   "source": [
    "Complex numbers consist of real and imaging parts that can be accessed/modified independently.\n",
    "\n",
    "#### Note: complex numbers are composed of floats, so regardless of what we type we won't have integer parts."
   ]
  },
  {
   "cell_type": "code",
   "execution_count": null,
   "metadata": {
    "collapsed": true
   },
   "outputs": [],
   "source": [
    "c = complex(4,5)\n",
    "print(c.real)\n",
    "print(c.imag)"
   ]
  },
  {
   "cell_type": "markdown",
   "metadata": {},
   "source": [
    "## What can we do with numbers?\n",
    "\n",
    "Create expressions with basic arithmetic operators\n",
    "\n",
    "* **\"+\"** addition\n",
    "* **\"-\"** subtraction\n",
    "* **\"*\"** multiplication\n",
    "* **\"/\"** division (also \"//\")\n",
    "* **\"%\"** modulus\n",
    "* **\"\\*\\*\"** exponentiation"
   ]
  },
  {
   "cell_type": "code",
   "execution_count": null,
   "metadata": {
    "collapsed": true
   },
   "outputs": [],
   "source": [
    "\n",
    "print (5+3,type(5+3))\n",
    "print (5-3,type(5-3))\n",
    "print (5*3,type(5*3))\n",
    "print (5/3,type(5/3)) # contrast with behavior in Python 2.x\n",
    "print (5%3 ,type(5%3))\n",
    "print (5**30 ,type(5**30))\n",
    "print(4.3%2,type(4.3%2))"
   ]
  },
  {
   "cell_type": "markdown",
   "metadata": {},
   "source": [
    "### Python Operators Have Orders of Precedence"
   ]
  },
  {
   "cell_type": "markdown",
   "metadata": {},
   "source": [
    "If you recall from your high school mathematics, mathematical operators have order of precedence, that is which operator must be applied first. For example, in the equation \"$5\\times4-3$\" would this be calculated as $20-3$ or $5\\times1$?\n",
    "\n",
    "Python's order of precedence is described [here](https://docs.python.org/3/reference/expressions.html). Expressions that have equal precedence are ordered from left to right."
   ]
  },
  {
   "cell_type": "code",
   "execution_count": null,
   "metadata": {
    "collapsed": true
   },
   "outputs": [],
   "source": [
    "print(5*3/2)\n",
    "print(5/2*3)"
   ]
  },
  {
   "cell_type": "markdown",
   "metadata": {},
   "source": [
    "#### What happens when you mix types?"
   ]
  },
  {
   "cell_type": "code",
   "execution_count": null,
   "metadata": {
    "collapsed": true
   },
   "outputs": [],
   "source": [
    "expr = \"5+3\"\n",
    "print(eval(expr),type(eval(expr)))\n"
   ]
  },
  {
   "cell_type": "markdown",
   "metadata": {},
   "source": [
    "#### What is the Rule?"
   ]
  },
  {
   "cell_type": "markdown",
   "metadata": {},
   "source": [
    " Python also provides a [``round``](https://docs.python.org/3/library/functions.html#round) function for floats (not defined for complex)."
   ]
  },
  {
   "cell_type": "markdown",
   "metadata": {},
   "source": [
    "#### Note Behavior of *round*. This is different in Python 2.x."
   ]
  },
  {
   "cell_type": "code",
   "execution_count": null,
   "metadata": {
    "collapsed": true
   },
   "outputs": [],
   "source": [
    "print(round(5.7))\n",
    "print(type(round(5.7)))"
   ]
  },
  {
   "cell_type": "markdown",
   "metadata": {},
   "source": [
    "### Comparison Nubmers\n",
    "* **\"==\"** equal to **(this will be a frequent mistake)**\n",
    "* **\"!=\"** not equal to\n",
    "* **\"<\"** less than\n",
    "* **\"<=\"** less than or equal to\n",
    "* **\">\"** greater than\n",
    "* **\">=** greater than or equal to"
   ]
  },
  {
   "cell_type": "code",
   "execution_count": null,
   "metadata": {
    "collapsed": true
   },
   "outputs": [],
   "source": [
    "5=4"
   ]
  },
  {
   "cell_type": "code",
   "execution_count": null,
   "metadata": {
    "collapsed": true
   },
   "outputs": [],
   "source": [
    "print (5== 4)"
   ]
  },
  {
   "cell_type": "markdown",
   "metadata": {},
   "source": [
    "# Some Important Numeric Libraries in the Standard Python Distribution"
   ]
  },
  {
   "cell_type": "markdown",
   "metadata": {},
   "source": [
    "## [math](http://docs.python.org/2.7/library/math.html)\n",
    "* Additional mathematical functions and constants\n",
    "\n",
    "## [cmath](http://docs.python.org/2.7/library/cmath.html)\n",
    "* Mathematical functions defined for complex numbers\n",
    "\n",
    "## [random](http://docs.python.org/2.7/library/random.html)\n",
    "* Pseudo-random number generation"
   ]
  },
  {
   "cell_type": "code",
   "execution_count": null,
   "metadata": {
    "collapsed": true
   },
   "outputs": [],
   "source": [
    "import math\n",
    "dir(math)\n",
    "#help(math)"
   ]
  },
  {
   "cell_type": "code",
   "execution_count": null,
   "metadata": {
    "collapsed": true
   },
   "outputs": [],
   "source": [
    "import random"
   ]
  },
  {
   "cell_type": "code",
   "execution_count": null,
   "metadata": {
    "collapsed": true
   },
   "outputs": [],
   "source": [
    "help(random)"
   ]
  },
  {
   "cell_type": "code",
   "execution_count": null,
   "metadata": {
    "collapsed": true
   },
   "outputs": [],
   "source": [
    "random?"
   ]
  },
  {
   "cell_type": "code",
   "execution_count": null,
   "metadata": {
    "collapsed": true
   },
   "outputs": [],
   "source": [
    "print(random.uniform(5,10))\n",
    "print(random.randrange(0,100))\n",
    "print(random.gauss(100,1))"
   ]
  },
  {
   "cell_type": "code",
   "execution_count": null,
   "metadata": {
    "collapsed": true
   },
   "outputs": [],
   "source": [
    "from decimal import Decimal\n",
    "import random\n",
    "print(random.uniform(0,1))\n",
    "print(random.randint(0,100))\n",
    "print(random.gauss(0.0,1.0))\n",
    "from fractions import Fraction\n",
    "print(Fraction(0.25))\n",
    "print(Fraction(0.27809))"
   ]
  },
  {
   "cell_type": "code",
   "execution_count": null,
   "metadata": {
    "collapsed": true
   },
   "outputs": [],
   "source": []
  }
 ],
 "metadata": {
  "anaconda-cloud": {},
  "kernelspec": {
   "display_name": "Python 3",
   "language": "python",
   "name": "python3"
  },
  "language_info": {
   "codemirror_mode": {
    "name": "ipython",
    "version": 3
   },
   "file_extension": ".py",
   "mimetype": "text/x-python",
   "name": "python",
   "nbconvert_exporter": "python",
   "pygments_lexer": "ipython3",
   "version": "3.5.2"
  }
 },
 "nbformat": 4,
 "nbformat_minor": 1
}

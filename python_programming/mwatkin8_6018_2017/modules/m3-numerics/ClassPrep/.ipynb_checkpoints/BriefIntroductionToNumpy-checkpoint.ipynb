{
 "cells": [
  {
   "cell_type": "markdown",
   "metadata": {},
   "source": [
    "## First Look at numpy"
   ]
  },
  {
   "cell_type": "markdown",
   "metadata": {},
   "source": [
    "Python does not have any native support for arrays, so is less than optimal for scientific computing. However, there is an excellent third-party array package for Python called *numpy.* Previously there were two competing packages called *numeric* and *numarray*. Numpy is in some ways a merge of the two.\n",
    "\n",
    "*Numpy* will form the backbone of much of what we do in this class and will make more sense after we talk about collections and we will revisit *numpy* in more detail after introducing collections\n",
    "\n",
    "We gain access to numpy by importing it into our program. It is very common to *rename* numpy to np during the import.\n"
   ]
  },
  {
   "cell_type": "code",
   "execution_count": 2,
   "metadata": {
    "collapsed": true
   },
   "outputs": [],
   "source": [
    "import numpy as np"
   ]
  },
  {
   "cell_type": "markdown",
   "metadata": {},
   "source": [
    "Numpy arrays are collections of numbers that can be manipulated efficiently. The arrays have a *type* that specifies what the underlying representation of the number is. These types include the following integers:\n",
    "\n",
    "* uint8 (unsigned integer represented with 8 bits)\n",
    "* uint16 (unsigned integer represented with 16 bits)\n",
    "* uint32 (unsigned integer represented with 32 bits)\n",
    "* uint64 (unsigned integer represented with 64 bits)\n",
    "* int8 (unsigned integer represented with 8 bits)\n",
    "* int16 (unsigned integer represented with 16 bits)\n",
    "* int32 (unsigned integer represented with 32 bits)\n",
    "* int64 (unsigned integer represented with 64 bits)\n",
    "\n",
    "### What is up with all these different types?\n",
    "* Memory allocation\n",
    "    * If you have a very big array, memory constraints might come into play\n",
    "* Computational efficiency\n",
    "    * What size matches the underlying hardware?\n",
    "* Maximum integer size\n",
    "    * What is the minimum and maximum integer that can be represented with a uint8 and a int8?"
   ]
  },
  {
   "cell_type": "code",
   "execution_count": 3,
   "metadata": {},
   "outputs": [
    {
     "name": "stdout",
     "output_type": "stream",
     "text": [
      "[-128  127]\n",
      "[255   2]\n"
     ]
    }
   ],
   "source": [
    "a = np.array([-128,127],dtype=np.int8)\n",
    "print(a)\n",
    "b = np.array([-1,258],dtype=np.uint8)\n",
    "print(b)"
   ]
  },
  {
   "cell_type": "markdown",
   "metadata": {},
   "source": [
    "Note that there can be some very funky and unexpected behaviors here that can cause your code to do unexpected things.\n",
    "Here are the floating point and complex array types\n",
    "* float16\n",
    "* float32\n",
    "* float64\n",
    "* float128\n",
    "* complex64\n",
    "* complex128\n",
    "* complex256"
   ]
  },
  {
   "cell_type": "markdown",
   "metadata": {},
   "source": [
    "What would drive your selection of the different float or complex array sizes?"
   ]
  },
  {
   "cell_type": "markdown",
   "metadata": {},
   "source": [
    "Numpy arrays are also characterized by their *shape* and their number of dimensions (*ndim*)\n"
   ]
  },
  {
   "cell_type": "code",
   "execution_count": null,
   "metadata": {
    "collapsed": true
   },
   "outputs": [],
   "source": [
    "print(b.ndim,b.shape)"
   ]
  },
  {
   "cell_type": "code",
   "execution_count": null,
   "metadata": {
    "collapsed": true
   },
   "outputs": [],
   "source": [
    "c = np.array([[1,2],[3,4]])\n",
    "print(c.ndim,c.shape,c.dtype)\n",
    "print(c)\n",
    "d = np.arange(27).reshape((3,3,3))\n",
    "print(d.ndim,d.shape)\n",
    "print(d)"
   ]
  },
  {
   "cell_type": "markdown",
   "metadata": {},
   "source": [
    "Arrays can be added together, provided their shapes match, and also have operations applied element by element"
   ]
  },
  {
   "cell_type": "code",
   "execution_count": null,
   "metadata": {
    "collapsed": true
   },
   "outputs": [],
   "source": [
    "print(d**2)\n",
    "print(d**2+d)\n",
    "print(d**2+c)"
   ]
  },
  {
   "cell_type": "markdown",
   "metadata": {},
   "source": [
    "There is a more detailed numpy tutorial avaialble as a IPython notebook [here](http://nbviewer.ipython.org/github/jrjohansson/scientific-python-lectures/blob/master/Lecture-2-Numpy.ipynb)."
   ]
  }
 ],
 "metadata": {
  "kernelspec": {
   "display_name": "Python 3",
   "language": "python",
   "name": "python3"
  },
  "language_info": {
   "codemirror_mode": {
    "name": "ipython",
    "version": 3
   },
   "file_extension": ".py",
   "mimetype": "text/x-python",
   "name": "python",
   "nbconvert_exporter": "python",
   "pygments_lexer": "ipython3",
   "version": "3.5.2"
  }
 },
 "nbformat": 4,
 "nbformat_minor": 1
}

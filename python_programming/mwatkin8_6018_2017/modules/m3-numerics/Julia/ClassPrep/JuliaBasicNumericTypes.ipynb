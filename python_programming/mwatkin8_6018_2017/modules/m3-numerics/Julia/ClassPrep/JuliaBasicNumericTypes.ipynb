{
 "cells": [
  {
   "cell_type": "markdown",
   "metadata": {},
   "source": [
    "# [Numeric Types in Julia](https://docs.julialang.org/en/stable/manual/types/)\n",
    "\n",
    "\n",
    "## We're going to start with an exploration of the numeric types in Julia."
   ]
  },
  {
   "cell_type": "markdown",
   "metadata": {},
   "source": [
    "#  Numerics\n",
    "## Julia has four basic types of numbers:\n",
    "* [Integers](https://docs.julialang.org/en/stable/manual/integers-and-floating-point-numbers/#Integers-1): roughly corresponding to the Integers ($\\mathbb{Z}$) of mathematics.\n",
    "* [Floating Point Numbers](https://docs.julialang.org/en/stable/manual/integers-and-floating-point-numbers/#Floating-Point-Numbers-1): roughly corresponding to the Reals ($\\mathbb{R}$) of mathematics.\n",
    "* [Complex Numbers](https://docs.julialang.org/en/stable/manual/complex-and-rational-numbers/#Complex-Numbers-1): roughly corresponding to the Complexes ($\\mathbb{C}$) of mathematics.\n",
    "* [Rational Numbers](https://docs.julialang.org/en/stable/manual/complex-and-rational-numbers/#Rational-Numbers-1): roughly corresponding to the Rationals ($\\mathbb{Q}$) of mathematics.\n",
    "\n"
   ]
  },
  {
   "cell_type": "markdown",
   "metadata": {},
   "source": [
    "## Coding Integers \n",
    "\n",
    ">Julia offers support for integer numbers ranging from types Int8 to Int128, with 8 to 128 representing the number of bits used, and with unsigned variants with a U pre x, such as UInt8. The default type (which can also be used as Int) is Int32 or Int64 depending on the target machine architecture. The bit width is given by the variable WORD_SIZE. The number of bits used by the integer affects the maximum and minimum value this integer can have. The minimum and maximum values are given by the functions typemin() and typemax() respectively, for example, typemax(Int16) returns 32767. (*Getting Started with Julia*, p. 39)\n",
    "\n",
    ">A bits type is a concrete type whose data consists of plain old bits. Classic examples of bits types are integers and floating-point values. Unlike most languages, Julia lets you declare your own bits types, rather than providing only a fixed set of built-in bits types. In fact, the standard bits types are all defined in the language itself ([Bit types in Julia](http://docs.julialang.org/en/release-0.5/manual/types/#bits-types))"
   ]
  },
  {
   "cell_type": "code",
   "execution_count": null,
   "metadata": {},
   "outputs": [],
   "source": [
    "println(\"$(typemin(Int8)) $(typemax(Int8))\")\n",
    "println(\"$(typemin(Int16)) $(typemax(Int16))\")\n",
    "println(\"$(typemin(Int32)) $(typemax(Int32))\")\n",
    "println(\"$(typemin(Int64)) $(typemax(Int64))\")\n",
    "println(\"$(typemin(Int128)) $(typemax(Int128))\")\n",
    "println(\"$(typemin(UInt128)) $(typemax(UInt128))\")"
   ]
  },
  {
   "cell_type": "markdown",
   "metadata": {},
   "source": [
    "#### Note: In the cell above, we are using a type of string interpolation\n",
    "\n",
    " * `$VARIABLE_NAME` inserts the value stored in `VARIABLE_NAME` into the string.\n",
    " * `$(EXPRESSION)` inserts the value that `EXPERSSION` evaluates as into the string."
   ]
  },
  {
   "cell_type": "markdown",
   "metadata": {},
   "source": [
    "### Integers can be coded in \n",
    "\n",
    "* decimal (base 10), \n",
    "* hexadecimal (base 16)\n",
    "    * hexadecimal is used for encoding **unsigned** integers\n",
    "* octal (base 8)\n",
    "* binary (base 2) form.\n",
    "#### base 10 is the default\n",
    "    * e.g. 10, -27\n",
    "    \n",
    "    "
   ]
  },
  {
   "cell_type": "markdown",
   "metadata": {},
   "source": [
    "#### Hexadecimal Numbers\n",
    "* base 16 is coded by preceding the number by 0x (\"zero-x\")\n",
    "    * We need 6 additional characters to represent the 16 base digits\n",
    "    * a, b, c, d, e, f"
   ]
  },
  {
   "cell_type": "code",
   "execution_count": null,
   "metadata": {},
   "outputs": [],
   "source": [
    "a = 0x543ef\n",
    "println(a)\n"
   ]
  },
  {
   "cell_type": "markdown",
   "metadata": {},
   "source": [
    "#### Octal Numbers\n",
    "* base 8 is coded by preceding the number of 0o (\"zero-oh\")\n",
    "    * We only need 8 digits, so our digit characters are limited to 0-7"
   ]
  },
  {
   "cell_type": "code",
   "execution_count": null,
   "metadata": {},
   "outputs": [],
   "source": [
    "print(0o547)"
   ]
  },
  {
   "cell_type": "code",
   "execution_count": null,
   "metadata": {},
   "outputs": [],
   "source": [
    "print(0o578)\n",
    "      "
   ]
  },
  {
   "cell_type": "markdown",
   "metadata": {},
   "source": [
    "## What went wrong here?\n",
    "An octal number only uses the symbols 0, 1, 2, 3, 4, 5, 6, and 7. "
   ]
  },
  {
   "cell_type": "markdown",
   "metadata": {},
   "source": [
    "#### Binary Numbers\n",
    "* base 2 is coded by preceding the number by 0b (\"zero-b\")\n",
    "    * We only need 2 digits, so our digit characters are limited to 0,1"
   ]
  },
  {
   "cell_type": "code",
   "execution_count": null,
   "metadata": {},
   "outputs": [],
   "source": [
    "a = 0b0010\n",
    "b = 0b0101\n",
    "print(a+b)"
   ]
  },
  {
   "cell_type": "markdown",
   "metadata": {},
   "source": [
    "### Converting Between Integer Codings\n",
    "\n",
    "Julia provides functions for converting between integer codings:\n",
    "\n",
    "* [`bin()`](https://docs.julialang.org/en/release-0.4/stdlib/numbers/#Base.bin)\n",
    "* [`oct()`](https://docs.julialang.org/en/release-0.4/stdlib/numbers/#Base.oct)\n",
    "* [`hex()`](https://docs.julialang.org/en/release-0.4/stdlib/numbers/#Base.hex)"
   ]
  },
  {
   "cell_type": "code",
   "execution_count": null,
   "metadata": {},
   "outputs": [],
   "source": [
    "println(a)\n",
    "println(b)\n",
    "println(\"*****************\")\n",
    "println(bin(a))\n",
    "println(oct(a))\n",
    "println(hex(b))"
   ]
  },
  {
   "cell_type": "code",
   "execution_count": null,
   "metadata": {},
   "outputs": [],
   "source": [
    "println(hex(2016))"
   ]
  },
  {
   "cell_type": "markdown",
   "metadata": {},
   "source": [
    "### Type Conversion\n",
    "#### [`convert`](https://docs.julialang.org/en/stable/manual/conversion-and-promotion/#Conversion-1): convert data from one type to another type\n",
    "\n",
    "The `convert` function takes as a first positional argument a type to convert to (e.g. `Int64`) and as a second positional argument a variable to convert.\n",
    "\n",
    "#### Converting strings to numbers\n",
    "To convert strings to numbers we have to use the [`parse`](https://docs.julialang.org/en/stable/stdlib/numbers/#Base.parse-Tuple{Type,Any,Any}) function\n",
    "\n",
    "```Julia\n",
    "parse(type, str, [base])\n",
    "```"
   ]
  },
  {
   "cell_type": "code",
   "execution_count": null,
   "metadata": {},
   "outputs": [],
   "source": [
    "println(convert(Int64, 4.0))\n",
    "println(parse(Int64, \"67\"))\n",
    "println(parse(Float64,\"67.\"))"
   ]
  },
  {
   "cell_type": "code",
   "execution_count": null,
   "metadata": {},
   "outputs": [],
   "source": [
    "println(convert(Int64, 4.2))"
   ]
  },
  {
   "cell_type": "markdown",
   "metadata": {},
   "source": [
    "#### What went wrong?\n"
   ]
  },
  {
   "cell_type": "code",
   "execution_count": null,
   "metadata": {},
   "outputs": [],
   "source": [
    "print(parse(Int64, \"hello\"))"
   ]
  },
  {
   "cell_type": "code",
   "execution_count": null,
   "metadata": {},
   "outputs": [],
   "source": [
    "println(parse(Int64, \"e67\", 16))\n"
   ]
  },
  {
   "cell_type": "code",
   "execution_count": null,
   "metadata": {},
   "outputs": [],
   "source": [
    "println(parse(Int64, \"45\", 8))"
   ]
  },
  {
   "cell_type": "code",
   "execution_count": null,
   "metadata": {},
   "outputs": [],
   "source": [
    "println(parse(Int64, \"101101\", 2))"
   ]
  },
  {
   "cell_type": "code",
   "execution_count": null,
   "metadata": {},
   "outputs": [],
   "source": [
    "print(parse(Int64, \"45\",8))"
   ]
  },
  {
   "cell_type": "markdown",
   "metadata": {},
   "source": [
    "## Floating Point Numbers\n",
    "\n",
    "Floating point numbers are coded by typing them as decimals"
   ]
  },
  {
   "cell_type": "code",
   "execution_count": null,
   "metadata": {},
   "outputs": [],
   "source": [
    "println(typeof(4))\n",
    "println(typeof(4.))\n",
    "println(typeof(4.0))"
   ]
  },
  {
   "cell_type": "markdown",
   "metadata": {},
   "source": [
    "Floating point numbers can also be typed in *exponential form,* with *e*, *E*, or *f*."
   ]
  },
  {
   "cell_type": "code",
   "execution_count": null,
   "metadata": {},
   "outputs": [],
   "source": [
    "println(4e1, \" \", typeof(4e1))\n",
    "println(4E1, \" \", typeof(4E1))\n",
    "println(4f2, \" \", typeof(4f2))\n"
   ]
  },
  {
   "cell_type": "code",
   "execution_count": null,
   "metadata": {},
   "outputs": [],
   "source": [
    "println(convert(Float64, 5))\n",
    "println(parse(Float64, \"5.7\"))\n"
   ]
  },
  {
   "cell_type": "code",
   "execution_count": null,
   "metadata": {},
   "outputs": [],
   "source": [
    "print(convert(Float64,parse(Int64,\"e5f5\",16)))"
   ]
  },
  {
   "cell_type": "markdown",
   "metadata": {},
   "source": [
    "#### floats can also be generated by dividing two integers \n",
    "\n"
   ]
  },
  {
   "cell_type": "code",
   "execution_count": null,
   "metadata": {},
   "outputs": [],
   "source": []
  },
  {
   "cell_type": "markdown",
   "metadata": {},
   "source": [
    "### Constructing Complex Numbers in Julia\n",
    "\n",
    "* Complex numbers can be constructed \n",
    "    * From floats and ints when the imaginary part is tagged with a \"j\" or \"J\" as a suffix.\n",
    "    * Passing a part of numbers to the [``complex``]() (or ``Complex``) function\n",
    "    * From a function that returns a complex value"
   ]
  },
  {
   "cell_type": "code",
   "execution_count": null,
   "metadata": {},
   "outputs": [],
   "source": [
    "println(0.5im)\n",
    "println(1+1im)\n",
    "println(complex(1.4,-1))\n",
    "println(complex(2))\n",
    "println(Complex(0,2))"
   ]
  },
  {
   "cell_type": "markdown",
   "metadata": {},
   "source": [
    "### What if we try to take the square root of a negative number"
   ]
  },
  {
   "cell_type": "code",
   "execution_count": null,
   "metadata": {},
   "outputs": [],
   "source": [
    "println(sqrt(-2))"
   ]
  },
  {
   "cell_type": "code",
   "execution_count": null,
   "metadata": {},
   "outputs": [],
   "source": [
    "println(sqrt(complex(-2)))"
   ]
  },
  {
   "cell_type": "markdown",
   "metadata": {},
   "source": [
    "Complex numbers consist of real and imaging parts that can be accessed/modified independently.\n"
   ]
  },
  {
   "cell_type": "code",
   "execution_count": null,
   "metadata": {},
   "outputs": [],
   "source": [
    "c = complex(4,5)\n",
    "println(real(c))\n",
    "println(imag(c))"
   ]
  },
  {
   "cell_type": "code",
   "execution_count": null,
   "metadata": {},
   "outputs": [],
   "source": [
    "typeof(real(1+5im))"
   ]
  },
  {
   "cell_type": "code",
   "execution_count": null,
   "metadata": {},
   "outputs": [],
   "source": [
    "typeof(real(1.0+5im))"
   ]
  },
  {
   "cell_type": "markdown",
   "metadata": {},
   "source": [
    "## What can we do with numbers?\n",
    "\n",
    "Create expressions with basic arithmetic operators\n",
    "\n",
    "* **\"+\"** addition\n",
    "* **\"-\"** subtraction\n",
    "* **\"*\"** multiplication\n",
    "* **\"/\"** division\n",
    "* **\"%\"** modulus\n",
    "* **\"^\"** exponentiation"
   ]
  },
  {
   "cell_type": "code",
   "execution_count": null,
   "metadata": {},
   "outputs": [],
   "source": [
    "\n",
    "println(5+3,\" \",typeof(5+3))\n",
    "println(5-3,\" \",typeof(5-3))\n",
    "println(5*3,\" \",typeof(5*3))\n",
    "println(5/3,\" \",typeof(5/3)) \n",
    "println(5%3,\" \",typeof(5%3))\n",
    "println(5^30,\" \",typeof(5^30))\n",
    "println(4.3%2,\" \",typeof(4.3%2))\n",
    "println(5//4, \" \", typeof(5//4))"
   ]
  },
  {
   "cell_type": "markdown",
   "metadata": {},
   "source": [
    "### Julian Operators Have Orders of Precedence\n",
    "\n",
    "If you recall from your high school mathematics, mathematical operators have order of precedence, that is which operator must be applied first. For example, in the equation \"$5\\times4-3$\" would this be calculated as $20-3$ or $5\\times1$?\n",
    "\n",
    "Julia's order of precedence is described [here](https://docs.julialang.org/en/stable/manual/mathematical-operations/#Operator-Precedence-1). Expressions that have equal precedence are ordered from left to right."
   ]
  },
  {
   "cell_type": "code",
   "execution_count": null,
   "metadata": {},
   "outputs": [],
   "source": [
    "println(5*3/2)\n",
    "println(5/2*3)"
   ]
  },
  {
   "cell_type": "markdown",
   "metadata": {},
   "source": [
    "#### What happens when you mix types?"
   ]
  },
  {
   "cell_type": "code",
   "execution_count": null,
   "metadata": {},
   "outputs": [],
   "source": [
    "\n",
    "println(5+4.3)\n"
   ]
  },
  {
   "cell_type": "markdown",
   "metadata": {},
   "source": [
    "#### What is the Rule?"
   ]
  },
  {
   "cell_type": "markdown",
   "metadata": {},
   "source": [
    "Julia also provides a [``round``](https://docs.julialang.org/en/stable/manual/mathematical-operations/#Rounding-functions-1) function for floats."
   ]
  },
  {
   "cell_type": "markdown",
   "metadata": {},
   "source": [
    "#### Note Behavior of *round*"
   ]
  },
  {
   "cell_type": "code",
   "execution_count": null,
   "metadata": {},
   "outputs": [],
   "source": [
    "println(round(5.7))\n",
    "print(typeof(round(5.7)))\n",
    "round(4.3+5.4im)"
   ]
  },
  {
   "cell_type": "markdown",
   "metadata": {},
   "source": [
    "### Comparison Nubmers\n",
    "* **\"==\"** equal to **(this will be a frequent mistake)**\n",
    "* **\"!=\"** not equal to\n",
    "* **\"<\"** less than\n",
    "* **\"<=\"** less than or equal to\n",
    "* **\">\"** greater than\n",
    "* **\">=** greater than or equal to"
   ]
  },
  {
   "cell_type": "code",
   "execution_count": null,
   "metadata": {},
   "outputs": [],
   "source": [
    "5=4"
   ]
  },
  {
   "cell_type": "code",
   "execution_count": null,
   "metadata": {},
   "outputs": [],
   "source": [
    "println(5== 4)\n",
    "println(5>=4)\n",
    "println(5>4)\n",
    "println(5<=4)\n",
    "println(5<4)\n",
    "println(5!=4)"
   ]
  },
  {
   "cell_type": "markdown",
   "metadata": {},
   "source": [
    "### Random Numbers"
   ]
  },
  {
   "cell_type": "code",
   "execution_count": null,
   "metadata": {},
   "outputs": [],
   "source": [
    "?rand\n"
   ]
  },
  {
   "cell_type": "code",
   "execution_count": null,
   "metadata": {},
   "outputs": [],
   "source": [
    "?randn"
   ]
  },
  {
   "cell_type": "code",
   "execution_count": null,
   "metadata": {},
   "outputs": [],
   "source": [
    "println(mean(5+10*randn(1000000)))"
   ]
  },
  {
   "cell_type": "code",
   "execution_count": null,
   "metadata": {},
   "outputs": [],
   "source": [
    "rand(UInt64)"
   ]
  },
  {
   "cell_type": "code",
   "execution_count": null,
   "metadata": {},
   "outputs": [],
   "source": [
    "println(5*rand()+5)\n",
    "println(rand(0:100))\n",
    "println(100+randn())"
   ]
  },
  {
   "cell_type": "code",
   "execution_count": null,
   "metadata": {},
   "outputs": [],
   "source": []
  }
 ],
 "metadata": {
  "anaconda-cloud": {},
  "kernelspec": {
   "display_name": "Julia 0.5.2",
   "language": "julia",
   "name": "julia-0.5"
  },
  "language_info": {
   "file_extension": ".jl",
   "mimetype": "application/julia",
   "name": "julia",
   "version": "0.5.2"
  }
 },
 "nbformat": 4,
 "nbformat_minor": 1
}

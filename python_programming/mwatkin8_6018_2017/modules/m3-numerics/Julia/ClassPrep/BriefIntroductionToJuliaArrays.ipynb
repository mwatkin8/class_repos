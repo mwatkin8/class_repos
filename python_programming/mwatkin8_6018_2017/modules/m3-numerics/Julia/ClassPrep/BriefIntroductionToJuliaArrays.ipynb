{
 "cells": [
  {
   "cell_type": "markdown",
   "metadata": {},
   "source": [
    "## First Look at Julia Arrays\n"
   ]
  },
  {
   "cell_type": "markdown",
   "metadata": {},
   "source": [
    "Julia arrays are collections of numbers that can be manipulated efficiently. The arrays have a *type* that specifies what the underlying representation of the number is. These types include the following integers:\n",
    "\n",
    "* UInt8 (unsigned integer represented with 8 bits)\n",
    "* UInt16 (unsigned integer represented with 16 bits)\n",
    "* UInt32 (unsigned integer represented with 32 bits)\n",
    "* UInt64 (unsigned integer represented with 64 bits)\n",
    "* Int8 (unsigned integer represented with 8 bits)\n",
    "* Int16 (unsigned integer represented with 16 bits)\n",
    "* Int32 (unsigned integer represented with 32 bits)\n",
    "* Int64 (unsigned integer represented with 64 bits)\n",
    "\n",
    "### What is up with all these different types?\n",
    "* Memory allocation\n",
    "    * If you have a very big array, memory constraints might come into play\n",
    "* Computational efficiency\n",
    "    * What size matches the underlying hardware?\n",
    "* Maximum integer size\n",
    "    * What is the minimum and maximum integer that can be represented with a uint8 and a int8?"
   ]
  },
  {
   "cell_type": "code",
   "execution_count": null,
   "metadata": {},
   "outputs": [],
   "source": [
    "row_vector = [1 2 3]\n",
    "println(row_vector)"
   ]
  },
  {
   "cell_type": "code",
   "execution_count": null,
   "metadata": {},
   "outputs": [],
   "source": [
    "col_vector = [1,2,3]\n",
    "println(typeof(col_vector), shape(col_vector))"
   ]
  },
  {
   "cell_type": "markdown",
   "metadata": {},
   "source": [
    "Note that there can be some very funky and unexpected behaviors here that can cause your code to do unexpected things.\n",
    "Here are the floating point and complex array types\n",
    "* float16\n",
    "* float32\n",
    "* float64\n",
    "* float128\n",
    "* complex64\n",
    "* complex128\n",
    "* complex256"
   ]
  },
  {
   "cell_type": "markdown",
   "metadata": {},
   "source": [
    "What would drive your selection of the different float or complex array sizes?"
   ]
  },
  {
   "cell_type": "markdown",
   "metadata": {},
   "source": [
    "Numpy arrays are also characterized by their *shape* and their number of dimensions (*ndim*)\n"
   ]
  },
  {
   "cell_type": "code",
   "execution_count": null,
   "metadata": {},
   "outputs": [],
   "source": [
    "print(b.ndim,b.shape)"
   ]
  },
  {
   "cell_type": "code",
   "execution_count": null,
   "metadata": {},
   "outputs": [],
   "source": [
    "c = np.array([[1,2],[3,4]])\n",
    "print(c.ndim,c.shape,c.dtype)\n",
    "print(c)\n",
    "d = np.arange(27).reshape((3,3,3))\n",
    "print(d.ndim,d.shape)\n",
    "print(d)"
   ]
  },
  {
   "cell_type": "markdown",
   "metadata": {},
   "source": [
    "Arrays can be added together, provided their shapes match, and also have operations applied element by element"
   ]
  },
  {
   "cell_type": "code",
   "execution_count": null,
   "metadata": {},
   "outputs": [],
   "source": [
    "print(d**2)\n",
    "print(d**2+d)\n",
    "print(d**2+c)"
   ]
  },
  {
   "cell_type": "markdown",
   "metadata": {},
   "source": [
    "There is a more detailed numpy tutorial avaialble as a IPython notebook [here](http://nbviewer.ipython.org/github/jrjohansson/scientific-python-lectures/blob/master/Lecture-2-Numpy.ipynb)."
   ]
  }
 ],
 "metadata": {
  "kernelspec": {
   "display_name": "Julia 0.5.2",
   "language": "julia",
   "name": "julia-0.5"
  },
  "language_info": {
   "file_extension": ".jl",
   "mimetype": "application/julia",
   "name": "julia",
   "version": "0.5.2"
  }
 },
 "nbformat": 4,
 "nbformat_minor": 1
}

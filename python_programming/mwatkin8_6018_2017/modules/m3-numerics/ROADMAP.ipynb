{
 "cells": [
  {
   "cell_type": "markdown",
   "metadata": {},
   "source": [
    "# Numerics in Python\n",
    "\n",
    "## Learning Objectives\n",
    "### At the completion of this module students will be able to\n",
    "1. Describe different kinds of numbers and their origins\n",
    "1. Perform basic manipulation of numbers in Python\n",
    "1. Describe how numbers are represented in computers and in Python\n",
    "\n",
    "## Class Prep\n",
    "* [Review of numbers](ClassPrep/Numbers.ipynb)\n",
    "* [Numbers in Python](ClassPrep/PythonBasicNumericTypes.ipynb)\n",
    "* [Arrays of Numbers in Python](ClassPrep/BriefIntroductionToNumpy.ipynb)\n",
    "\n",
    "## Inclass\n",
    "* [Positional Representation of Numbers](InClass/positionalNumbers.ipynb)\n",
    "* [In-Class Exercises](InClass/NumericsInClass.ipynb)\n",
    "\n",
    "## Homework\n",
    "* [Homework for M1-Numerics](HW/m2_hw_numerics.ipynb)"
   ]
  },
  {
   "cell_type": "code",
   "execution_count": null,
   "metadata": {},
   "outputs": [],
   "source": []
  }
 ],
 "metadata": {
  "anaconda-cloud": {},
  "kernelspec": {
   "display_name": "Python 3",
   "language": "python",
   "name": "python3"
  },
  "language_info": {
   "codemirror_mode": {
    "name": "ipython",
    "version": 3
   },
   "file_extension": ".py",
   "mimetype": "text/x-python",
   "name": "python",
   "nbconvert_exporter": "python",
   "pygments_lexer": "ipython3",
   "version": "3.5.2"
  }
 },
 "nbformat": 4,
 "nbformat_minor": 1
}

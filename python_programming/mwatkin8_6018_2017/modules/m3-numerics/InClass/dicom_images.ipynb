{
 "cells": [
  {
   "cell_type": "code",
   "execution_count": null,
   "metadata": {},
   "outputs": [],
   "source": [
    "%matplotlib inline"
   ]
  },
  {
   "cell_type": "code",
   "execution_count": null,
   "metadata": {},
   "outputs": [],
   "source": [
    "import numpy as np\n",
    "import skimage.io as io\n",
    "import dicom\n",
    "import matplotlib.cm as cm\n",
    "import os"
   ]
  },
  {
   "cell_type": "code",
   "execution_count": null,
   "metadata": {},
   "outputs": [],
   "source": [
    "DATADIR = \"/home/jovyan/DATA/Images\"\n"
   ]
  },
  {
   "cell_type": "code",
   "execution_count": null,
   "metadata": {},
   "outputs": [],
   "source": [
    "img = dicom.read_file(os.path.join(DATADIR, \"PE\", \"Ser_000006\",\"IM-0124-0140.dcm\"))\n",
    "print(img)\n",
    "aimg = img.pixel_array+img.RescaleIntercept"
   ]
  },
  {
   "cell_type": "code",
   "execution_count": null,
   "metadata": {},
   "outputs": [],
   "source": [
    "io.imshow(aimg,cmap=cm.Greys_r)"
   ]
  },
  {
   "cell_type": "markdown",
   "metadata": {},
   "source": [
    "|Substance|\tHU|\n",
    "|:---------|---:|\n",
    "|Air\t|−1000|\n",
    "|Lung\t|−500|\n",
    "|Fat\t|−100 to −50|\n",
    "|Water\t|0|\n",
    "|CSF\t|15|\n",
    "|Kidney\t|30|\n",
    "|Blood\t|+30 to +45|\n",
    "|Muscle\t|+10 to +40|\n",
    "|Grey matter\t|+37 to +45|\n",
    "|White matter\t|+20 to +30|\n",
    "|Liver\t|+40 to +60|\n",
    "|Soft Tissue, Contrast|\t+100 to +300|\n",
    "|Bone\t|+700 (cancellous bone) to +3000 (dense bone)|\n",
    "\n",
    "[From wikipedia](https://en.wikipedia.org/wiki/Hounsfield_scale)"
   ]
  },
  {
   "cell_type": "markdown",
   "metadata": {},
   "source": [
    "#### Use the numpy ``where`` function|method to create masks of\n",
    "* air\n",
    "* soft tissue\n",
    "* bone"
   ]
  },
  {
   "cell_type": "code",
   "execution_count": null,
   "metadata": {},
   "outputs": [],
   "source": [
    "help(np.where)"
   ]
  },
  {
   "cell_type": "code",
   "execution_count": null,
   "metadata": {},
   "outputs": [],
   "source": []
  }
 ],
 "metadata": {
  "anaconda-cloud": {},
  "kernelspec": {
   "display_name": "Python 3",
   "language": "python",
   "name": "python3"
  },
  "language_info": {
   "codemirror_mode": {
    "name": "ipython",
    "version": 3
   },
   "file_extension": ".py",
   "mimetype": "text/x-python",
   "name": "python",
   "nbconvert_exporter": "python",
   "pygments_lexer": "ipython3",
   "version": "3.5.2"
  }
 },
 "nbformat": 4,
 "nbformat_minor": 1
}

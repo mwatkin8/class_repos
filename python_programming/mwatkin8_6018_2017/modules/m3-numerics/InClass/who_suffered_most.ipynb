{
 "cells": [
  {
   "cell_type": "markdown",
   "metadata": {},
   "source": [
    "# Who Suffered Most?"
   ]
  },
  {
   "cell_type": "code",
   "execution_count": null,
   "metadata": {},
   "outputs": [],
   "source": [
    "!conda install ipywidgets -y"
   ]
  },
  {
   "cell_type": "code",
   "execution_count": null,
   "metadata": {},
   "outputs": [],
   "source": [
    "from ipywidgets import interact, interactive, fixed\n",
    "from IPython.display import clear_output, display, HTML"
   ]
  },
  {
   "cell_type": "markdown",
   "metadata": {},
   "source": [
    "### For the following problems I am going to demonstrate some IPython widget functionality. Specifically HTML display and the [interact widget](http://nbviewer.ipython.org/github/dsoto/ipython/blob/master/examples/Interactive%20Widgets/Using%20Interact.ipynb). In order to use interact I need to define a function, something we won't talk about in detail for several modules."
   ]
  },
  {
   "cell_type": "markdown",
   "metadata": {},
   "source": [
    "### Which Child Suffered Most?"
   ]
  },
  {
   "cell_type": "markdown",
   "metadata": {},
   "source": [
    "Newton's second law of motion states that $F=m\\times a$. As you know, our daughter injured her back by sliding into an out-of-bounds post at Alta. A few days later our son injured his foot by having me drive over it. They are bickering with each other about who suffered most. We are going to select the force experienced by each child as the measure of suffering. "
   ]
  },
  {
   "cell_type": "markdown",
   "metadata": {},
   "source": [
    "The car is a 2009 Toyota Highlander, estimated weight in pounds is 4000. Let's assume that the weight (which is a measure of force) is equally distributed among the four tires (ignoring extraneous details). What force did my son's foot experience in SI units?\n",
    "\n",
    "The SI unit of force is a Newton (N) = $kg \\times m/s^2$.\n",
    "\n",
    "Acceleration is the change in velocity ($\\Delta v$) over the time that change occurs ($\\Delta t$). Assuming my daughter comes to a complete stop (0 mph) in ($\\Delta t$) seconds, the acceleration she experiences is her initial speed dived by $\\Delta t$. \n",
    "\n",
    "## [Conversions:](http://www.npl.co.uk/reference/faqs/si-unit-of-force)\n",
    "### Force\n",
    "4.448222N = 1pound-force\n",
    "### Weight\n",
    "2.2046 pounds= 1.0 kg\n",
    "### Speed\n",
    "1 mph = 0.44704 m/s"
   ]
  },
  {
   "cell_type": "markdown",
   "metadata": {},
   "source": [
    "Modify forceComparison so that car_force is the force exerted on the foot in Newtons and daughter_force is the stopping force experienced in Newtons. Assume all weight variables passed to forceComparison are in pounds, speed is passed in as miles per hour, and time is in seconds. Convert all units to kilograms, Newtons and meters per second."
   ]
  },
  {
   "cell_type": "markdown",
   "metadata": {},
   "source": [
    "#### Enter weight in pounds, speed in miles per hour, and stop time in seconds"
   ]
  },
  {
   "cell_type": "code",
   "execution_count": null,
   "metadata": {},
   "outputs": [],
   "source": [
    "@interact(car_weight=(3500,4500),daughter_weight = (110,140),daughter_speed=(15.,25.),daughter_stop_time=(0.1,2.0))\n",
    "def forceComparison(car_weight=4000, daughter_weight= 135, daughter_speed=20, daughter_stop_time = 1.0):\n",
    "    \"\"\"\n",
    "    This is an example of a function with keyword arguments. Here car_weight, daughter_weight, etc. are variables in the function\n",
    "    forceComparison. They have a DEFAULT VALUE so that if we don't explicitly provide a value, the variables will have the value\n",
    "    typed here.\n",
    "    \"\"\"\n",
    "    # convert daughter_weight to mass in kilograms\n",
    "    dm_si = 1\n",
    "    # convert car force to Newtons\n",
    "    car_force = 1\n",
    "    # convert daughter_speed to meters/second\n",
    "    ds_si = 1\n",
    "    daughter_force = 1\n",
    "    \n",
    "    s = '<h3>Force Comparison:</h3><table>\\n'\n",
    "    s += '<tr><td>Force on Son (N)</td><td>%f</td></tr>\\n'%1\n",
    "    s+= '<tr><td>Force on Daughter (N)</td><td>%f</td></tr>\\n'%1\n",
    "    s += '<tr><td>Speed of Daughter (m/s)</td><td>%f</td></tr>\\n'%1\n",
    "    s += '<tr><td>Mass of Daughter (kg)</td><td>%f</td></tr>\\n'%1\n",
    "    s += '<tr><td>Daughter Stop Time (s)</td><td>%f</td></tr>\\n'%1\n",
    "    s += '</table>'\n",
    "    display(HTML(s))\n",
    "    "
   ]
  },
  {
   "cell_type": "code",
   "execution_count": null,
   "metadata": {},
   "outputs": [],
   "source": []
  }
 ],
 "metadata": {
  "anaconda-cloud": {},
  "kernelspec": {
   "display_name": "Python 3",
   "language": "python",
   "name": "python3"
  },
  "language_info": {
   "codemirror_mode": {
    "name": "ipython",
    "version": 3
   },
   "file_extension": ".py",
   "mimetype": "text/x-python",
   "name": "python",
   "nbconvert_exporter": "python",
   "pygments_lexer": "ipython3",
   "version": "3.5.2"
  }
 },
 "nbformat": 4,
 "nbformat_minor": 1
}

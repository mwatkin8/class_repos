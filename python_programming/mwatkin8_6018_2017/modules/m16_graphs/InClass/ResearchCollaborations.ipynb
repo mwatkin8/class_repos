{
 "cells": [
  {
   "cell_type": "markdown",
   "metadata": {},
   "source": [
    "# Graph Relationships Among Faculty\n",
    "\n",
    "In this notebook, we are going to create a graph that shows relationships between faculty based on co-authorship in PubMed-index papers. \n",
    "\n"
   ]
  },
  {
   "cell_type": "markdown",
   "metadata": {},
   "source": [
    "### Run the cell below if you need to install biopython"
   ]
  },
  {
   "cell_type": "code",
   "execution_count": null,
   "metadata": {},
   "outputs": [],
   "source": [
    "#!conda install biopython -y"
   ]
  },
  {
   "cell_type": "code",
   "execution_count": null,
   "metadata": {},
   "outputs": [],
   "source": [
    "from Bio import Entrez\n",
    "import networkx as nx\n",
    "import os\n",
    "DATADIR = os.path.join(os.getcwd(), \"..\", \"ClassPrep\")\n",
    "print(os.path.exists(DATADIR))\n",
    "from IPython.display import Image, display\n",
    "import nxdrawing as nxd\n",
    "import gzip\n",
    "import pickle"
   ]
  },
  {
   "cell_type": "markdown",
   "metadata": {},
   "source": [
    "### Faculty names copied from Spreadsheet\n",
    "\n",
    "We need to do some manipulation to get the names in a form I want"
   ]
  },
  {
   "cell_type": "code",
   "execution_count": null,
   "metadata": {},
   "outputs": [],
   "source": [
    "faculty = [tuple(s.split(\"\\t\")) for s in \n",
    "\"\"\"AbdelRahman\tSamir E\n",
    "Adler\tFrederick R\n",
    "Bray\tBruce E\n",
    "Camp\tNicola J\n",
    "Chapman\tBrian E\n",
    "Chapman\tWendy W\n",
    "Conway\tMichael A\n",
    "Cummins\tMollie R\n",
    "Del Fiol\tGuilherme\n",
    "Drews\tFrank A\n",
    "Egger\tMarlene J\n",
    "Eilbeck\tKaren\n",
    "Evans\tR Scott\n",
    "Facelli\tJulio C\n",
    "Gibson\tBryan S\n",
    "Gouripeddi\tRamkiran\n",
    "Haug\tPeter J\n",
    "Huff\tStanley M\n",
    "Hurdle\tJohn F\n",
    "Kawamoto\tKensaku\n",
    "Lee\tYounghee\n",
    "Narus\tScott P\n",
    "Nebeker\tJonathan\n",
    "Parker\tDennis L\n",
    "Piccolo\tStephen\n",
    "Quinlan\tAaron\n",
    "Samore\tMatthew H\n",
    "Sauer\tBrian C\n",
    "Staes\tCatherine J\n",
    "Sward\tKatherine A\n",
    "Weir\tCharlene R\n",
    "Yandell\tMark\n",
    "Dean\tJ Michael\n",
    "Gesteland\tPer H\n",
    "Gundlapalli\tAdi V\n",
    "Jackson\tBrian R\n",
    "Lincoln\tMichael J\n",
    "Morris\tAlan H\n",
    "Xu\tWu\"\"\".split(\"\\n\")]\n",
    "faculty = [\"%s %s\"%(f[1],f[0]) for f in faculty]\n"
   ]
  },
  {
   "cell_type": "code",
   "execution_count": null,
   "metadata": {},
   "outputs": [],
   "source": [
    "#faculty = [\"Brian E Chapman\", \"David Gur\", \"Wendy W Chapman\", \"Peter J Haug\", \"Dennis L Parker\", \"Matthew H Samore\"]"
   ]
  },
  {
   "cell_type": "markdown",
   "metadata": {},
   "source": [
    "### Created an undirected graph"
   ]
  },
  {
   "cell_type": "code",
   "execution_count": null,
   "metadata": {},
   "outputs": [],
   "source": [
    "authorship = nx.MultiGraph()"
   ]
  },
  {
   "cell_type": "code",
   "execution_count": null,
   "metadata": {},
   "outputs": [],
   "source": [
    "with gzip.open(os.path.join(DATADIR, \"researchers_pubmed.pickle.gzip\"), \"rb\") as f0:\n",
    "    coauthors_with_ext = pickle.load(f0)"
   ]
  },
  {
   "cell_type": "markdown",
   "metadata": {},
   "source": [
    "### Add co-authors who are faculty\n",
    "#### Keep track of people we didn't add\n",
    "\n"
   ]
  },
  {
   "cell_type": "code",
   "execution_count": null,
   "metadata": {},
   "outputs": [],
   "source": [
    "not_added = []\n",
    "for author, papers in coauthors_with_ext.items():\n",
    "\n",
    "    for title, authors in papers.items():\n",
    "        for a in authors:\n",
    "            if a != author:\n",
    "                if a in faculty:\n",
    "                    authorship.add_edge(author, a, key=title,attr_dict={\"paper\":title})\n",
    "                else:\n",
    "                    not_added.append(a)\n",
    "                "
   ]
  },
  {
   "cell_type": "markdown",
   "metadata": {},
   "source": [
    "### Use pydot to draw pretty graph"
   ]
  },
  {
   "cell_type": "code",
   "execution_count": null,
   "metadata": {},
   "outputs": [],
   "source": [
    "display(nxd.draw_dot(authorship, \"bmi.png\"))\n"
   ]
  },
  {
   "cell_type": "markdown",
   "metadata": {},
   "source": [
    "#### Look at who we didn't add"
   ]
  },
  {
   "cell_type": "code",
   "execution_count": null,
   "metadata": {},
   "outputs": [],
   "source": [
    "na = list(set(not_added))\n",
    "na.sort()\n",
    "for n in na:\n",
    "    print(n)"
   ]
  },
  {
   "cell_type": "markdown",
   "metadata": {},
   "source": [
    "### Connected Subgraphs\n",
    "\n",
    "Graphs can consist of distinct components that are disconnected from each other [connected_component_subgraphs](https://networkx.github.io/documentation/latest/reference/generated/networkx.algorithms.components.connected.connected_component_subgraphs.html?highlight=connected_component_subgraphs) creates distinct graphs for each connected component and returns them in a list.\n",
    "\n",
    "We also use the [``sort``](https://docs.python.org/3/library/stdtypes.html#list.sort) method of the list to sort the subgraphs by the number of nodes in each graph.\n",
    "\n",
    ">*key* specifies a function of one argument that is used to extract a comparison key from each list element (for example, key=str.lower). The key corresponding to each item in the list is calculated once and then used for the entire sorting process. The default value of None means that list items are sorted directly without calculating a separate key value.\n",
    "\n",
    "* We use list comprehension to keep the subgraphs that have more than two nodes.\n",
    "* We use an [anonymous lambda function](https://docs.python.org/3/howto/functional.html#small-functions-and-the-lambda-expression) to do the sorting."
   ]
  },
  {
   "cell_type": "code",
   "execution_count": null,
   "metadata": {},
   "outputs": [],
   "source": [
    "subgraphs = [g for g in nx.connected_component_subgraphs(authorship) if g.number_of_nodes() > 2]\n",
    "subgraphs.sort(key=lambda g: g.number_of_nodes())\n",
    "print(\"The number of subgraphs is %d\"%len(subgraphs))\n",
    "print([g.number_of_nodes() for g in subgraphs])"
   ]
  },
  {
   "cell_type": "markdown",
   "metadata": {},
   "source": [
    "## Challenge: Who is the most \"important\" collaborator?"
   ]
  },
  {
   "cell_type": "code",
   "execution_count": null,
   "metadata": {},
   "outputs": [],
   "source": []
  },
  {
   "cell_type": "markdown",
   "metadata": {},
   "source": [
    "## Challenge: What is the average degree of a researcher?"
   ]
  },
  {
   "cell_type": "code",
   "execution_count": null,
   "metadata": {},
   "outputs": [],
   "source": []
  },
  {
   "cell_type": "markdown",
   "metadata": {},
   "source": [
    "## Challenge: If you convert from a MultiGraph to a Graph who is the most imporant researcher?"
   ]
  },
  {
   "cell_type": "code",
   "execution_count": null,
   "metadata": {},
   "outputs": [],
   "source": []
  }
 ],
 "metadata": {
  "kernelspec": {
   "display_name": "Python 3",
   "language": "python",
   "name": "python3"
  },
  "language_info": {
   "codemirror_mode": {
    "name": "ipython",
    "version": 3
   },
   "file_extension": ".py",
   "mimetype": "text/x-python",
   "name": "python",
   "nbconvert_exporter": "python",
   "pygments_lexer": "ipython3",
   "version": "3.5.2"
  }
 },
 "nbformat": 4,
 "nbformat_minor": 1
}

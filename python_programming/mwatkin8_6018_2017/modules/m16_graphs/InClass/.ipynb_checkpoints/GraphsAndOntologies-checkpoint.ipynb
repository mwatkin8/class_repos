{
 "cells": [
  {
   "cell_type": "markdown",
   "metadata": {
    "internals": {
     "slide_helper": "subslide_end",
     "slide_type": "subslide"
    },
    "slide_helper": "slide_end",
    "slideshow": {
     "slide_type": "slide"
    }
   },
   "source": [
    "# Using Graphs to Work with Ontologies\n",
    "\n",
    "## What is an ontology?\n",
    "\n",
    ">a set of concepts and categories in a subject area or domain that shows their properties and the relations between them.\n",
    "\n",
    ">In computer science and information science, an ontology is a formal naming and definition of the types, properties, and interrelationships of the entities that really exist in a particular domain of discourse. Thus, it is basically a taxonomy. It does not draw on the 'old' philosophical discipline 'ontology' as it was established in antiquity.\n",
    "An ontology (in information science) compartmentalizes the variables needed for some set of computations and establishes the relationships between them.\n",
    ">\n",
    "The fields of artificial intelligence, the Semantic Web, systems engineering, software engineering, biomedical informatics, library science, enterprise bookmarking, and information architecture all create ontologies to limit complexity and organize information. The ontology can then be applied to problem solving. (Wikipedia [\"Ontology (information science) (accessed 11/21/2017)\"](https://goo.gl/W2PqYn))\n",
    "\n",
    "## An Example\n",
    "\n",
    "<img src=\"wilms_melanoma_carcinoid.png\" alt=\"cancer ontology\" width=\"400\">\n"
   ]
  },
  {
   "cell_type": "code",
   "execution_count": 1,
   "metadata": {
    "collapsed": true,
    "internals": {
     "slide_type": "subslide"
    },
    "slideshow": {
     "slide_type": "slide"
    }
   },
   "outputs": [],
   "source": [
    "%matplotlib inline"
   ]
  },
  {
   "cell_type": "code",
   "execution_count": 2,
   "metadata": {
    "collapsed": true,
    "internals": {
     "slide_helper": "subslide_end"
    },
    "slide_helper": "slide_end",
    "slideshow": {
     "slide_type": "skip"
    }
   },
   "outputs": [],
   "source": [
    "import os\n",
    "DATADIR = os.path.join(\"..\",\"Resources\")\n",
    "\n",
    "import networkx as nx\n",
    "from collections import defaultdict\n",
    "from IPython.display import Image\n",
    "import matplotlib.pyplot as plt\n",
    "import re"
   ]
  },
  {
   "cell_type": "code",
   "execution_count": 3,
   "metadata": {},
   "outputs": [
    {
     "data": {
      "text/plain": [
       "_sre.SRE_Pattern"
      ]
     },
     "execution_count": 3,
     "metadata": {},
     "output_type": "execute_result"
    }
   ],
   "source": [
    "r1 = re.compile(r\"\"\"pox\"\"\", re.I)\n",
    "type(r1)"
   ]
  },
  {
   "cell_type": "markdown",
   "metadata": {
    "internals": {
     "slide_helper": "subslide_end",
     "slide_type": "subslide"
    },
    "slide_helper": "subslide_end",
    "slideshow": {
     "slide_type": "subslide"
    }
   },
   "source": [
    "# Ontologies and Graphs\n",
    "\n",
    "* The most powerful way of specifying an ontology is with the [OWL](https://en.wikipedia.org/wiki/Web_Ontology_Language) language.\n",
    "* A simpler format is [OBO flat file format](https://owlcollab.github.io/oboformat/doc/GO.format.obo-1_4.html)\n",
    "\n",
    "### What does an OBO file look like?\n",
    "#### Key concepts\n",
    "* [Term] marks the beginning of a concept\n",
    "* Each concept has a unique identifier (e.g. DOID:0001816), name (e.g. angiosarcoma), and other features\n",
    "* **``is_a``**: this defines the hierarchical nature of the ontology. For example, an angiosarcoma **is a** sarcoma which **is a** cancer which **is a** disease.\n",
    "    * **``is_a``** will define edges\n",
    "\n",
    "~~~~~~~~~~~\n",
    "[Term]\n",
    "id: DOID:0001816\n",
    "name: angiosarcoma\n",
    "alt_id: DOID:267\n",
    "alt_id: DOID:4508\n",
    "def: \"A malignant vascular tumor that results_in rapidly proliferating, extensively infiltrating anaplastic cells derived_from blood vessels and derived_from the lining of irregular blood-filled spaces.\" [url:http\\://emedicine.medscape.com/article/276512-overview]\n",
    "synonym: \"Hemangioendothelioma, malignant (morphologic abnormality)\" EXACT [SNOMEDCT_2005_07_31:33176006]\n",
    "synonym: \"hemangiosarcoma\" EXACT []\n",
    "synonym: \"primary hemangiosarcoma\" EXACT [NCI2004_11_17:C9275]\n",
    "xref: MSH:D006394\n",
    "xref: NCI:C3088\n",
    "xref: SNOMEDCT_2010_1_31:33176006\n",
    "xref: SNOMEDCT_2010_1_31:39000009\n",
    "xref: SNOMEDCT_2010_1_31:403977003\n",
    "xref: UMLS_CUI:C0018923\n",
    "xref: UMLS_CUI:C0854893\n",
    "is_a: DOID:1115 ! sarcoma\n",
    "\n",
    "\n",
    "~~~~~~~~~~~~~~~~~~\n",
    "\n",
    "* Nodes have labels (unique identifiers)\n",
    "    * What would be the choice for a node label here?\n",
    "* Lots more information (e.g., \"xref\",\"synonym\")\n",
    "    * Put these into node attributes. Just like a graph can have attributes nodes and edges can have attributes, all stored in dictionaries.\n",
    "    \n",
    "#### Note: I translate \":\" to \"->\" becaues of some incompatibilities with the pygraphviz drawing package."
   ]
  },
  {
   "cell_type": "markdown",
   "metadata": {},
   "source": [
    "### An OBO Parser\n",
    "\n",
    "* Reads an OBO file into a NetworkX graph"
   ]
  },
  {
   "cell_type": "code",
   "execution_count": 4,
   "metadata": {
    "collapsed": true,
    "internals": {
     "slide_helper": "subslide_end",
     "slide_type": "subslide"
    },
    "slide_helper": "subslide_end",
    "slideshow": {
     "slide_type": "subslide"
    }
   },
   "outputs": [],
   "source": [
    "\"\"\"\n",
    "    \n",
    "based on \n",
    "\n",
    "http://techoverflow.net/blog/2013/11/18/a-geneontology-obo-v1.2-parser-in-python/\n",
    "\n",
    "__author__    = \"Uli Koehler\"\n",
    "__copyright__ = \"Copyright 2013 Uli Koehler\"\n",
    "__license__   = \"Apache v2.0\"\n",
    "\"\"\"\n",
    "\n",
    "def addOBONode(graph,items):\n",
    "    \"\"\"\n",
    "    In an object representing an OBO term, replace single-element lists with\n",
    "    their only member.\n",
    "    Returns the modified object as a dictionary.\n",
    "\n",
    "    \"\"\"\n",
    "    ret = dict(items) #Input is a defaultdict, might express unexpected behaviour\n",
    "    for key, value in ret.items():\n",
    "        #key = key.replace(\":\",\"->\")\n",
    "        if len(value) == 1:\n",
    "            ret[key] = value[0]\n",
    "    _is = ret.pop('id').replace(\":\",\"->\")\n",
    "\n",
    "    try:\n",
    "        _isa = ret.pop('is_a')\n",
    "        if isinstance(_isa,str):\n",
    "            _isa = [_isa]\n",
    "    except KeyError:\n",
    "        # this may be a root node\n",
    "        if not ret.get('is_obsolete'):\n",
    "            graph.graph[\"roots\"].append(_is)\n",
    "        _isa = []\n",
    "    \n",
    "    graph.add_node(_is,attr_dict=ret)\n",
    "    if _isa:\n",
    "        for isa in _isa:\n",
    "            isa, sep, b = isa.partition(\"!\")\n",
    "            isa = isa.strip()\n",
    "            \n",
    "            graph.add_edge(isa.replace(\":\",\"->\"),_is)\n",
    "    \n",
    "def parseOBO(filename):\n",
    "    \"\"\"\n",
    "    Parses an OBO file\n",
    "    \"\"\"\n",
    "    ontology = nx.DiGraph(roots=[])\n",
    "    with open(filename,\"rt\") as fin:\n",
    "        lines = fin.readlines()\n",
    "    inTerm = False\n",
    "    currentItems = defaultdict(list)\n",
    "    while lines:\n",
    "        \n",
    "        line = lines.pop(0)\n",
    "        line = line.strip()\n",
    "        if not line: \n",
    "            continue #Skip empty\n",
    "        if line == \"[Term]\":\n",
    "            if inTerm:  \n",
    "                addOBONode(ontology,currentItems)\n",
    "                currentItems = defaultdict(list)\n",
    "            else:\n",
    "                inTerm = True\n",
    "        elif line == \"[Typedef]\":\n",
    "            #Skip [Typedef sections]\n",
    "            currentItems = None\n",
    "        else: #Not [Term]\n",
    "            #Only process if we're inside a [Term] environment\n",
    "            if currentItems is None: \n",
    "                continue\n",
    "            key, sep, val = line.partition(\":\")\n",
    "            currentItems[key].append(val.strip())\n",
    "    #Add last term\n",
    "    if currentItems is not None:\n",
    "        addOBONode(ontology,currentItems) \n",
    "    return ontology"
   ]
  },
  {
   "cell_type": "markdown",
   "metadata": {},
   "source": [
    "## Read in the [Human Disease Ontology](http://do-wiki.nubic.northwestern.edu/do-wiki/index.php/Main_Page)"
   ]
  },
  {
   "cell_type": "code",
   "execution_count": 5,
   "metadata": {
    "internals": {
     "slide_helper": "subslide_end",
     "slide_type": "subslide"
    },
    "slide_helper": "subslide_end",
    "slideshow": {
     "slide_type": "subslide"
    }
   },
   "outputs": [
    {
     "name": "stdout",
     "output_type": "stream",
     "text": [
      "Found 9188 OBO terms\n"
     ]
    }
   ],
   "source": [
    "ontology =  parseOBO(os.path.join(DATADIR,\"doid.obo\"))\n",
    "   \n",
    "print (\"Found %d OBO terms\" % len(ontology))"
   ]
  },
  {
   "cell_type": "markdown",
   "metadata": {},
   "source": [
    "## What does the graph look like?"
   ]
  },
  {
   "cell_type": "markdown",
   "metadata": {},
   "source": [
    "### Macro: to big to plot"
   ]
  },
  {
   "cell_type": "markdown",
   "metadata": {},
   "source": [
    "### Micro: what does a node look like?\n",
    "#### Each node has\n",
    "* A label (the DOID)\n",
    "* A dictionary of attributes"
   ]
  },
  {
   "cell_type": "code",
   "execution_count": 6,
   "metadata": {},
   "outputs": [
    {
     "name": "stdout",
     "output_type": "stream",
     "text": [
      "subset\n",
      "zoonotic_infectious_disease\n",
      "\n",
      "name\n",
      "acquired immunodeficiency syndrome\n",
      "\n",
      "def\n",
      "\"A Human immunodeficiency virus infectious disease that results_in reduction in the numbers of CD4-bearing helper T cells below 200 per µL of blood or 14% of all lymphocytes thereby rendering the subject highly vulnerable to life-threatening infections and cancers, has_material_basis_in Human immunodeficiency virus 1 or has_material_basis_in Human immunodeficiency virus 2, which are transmitted_by sexual contact, transmitted_by transfer of blood, semen, vaginal fluid, pre-ejaculate, or breast milk, transmitted_by congenital method, and transmitted_by contaminated needles. Opportunistic infections are common in people with AIDS.\" [url:http\\://en.wikipedia.org/wiki/AIDS, url:http\\://www2.merriam-webster.com/cgi-bin/mwmednlm?book=Medical&va=aids]\n",
      "\n",
      "synonym\n",
      "['\"acquired Immune deficiency\" EXACT [NCI2004_11_17:C2851]', '\"acquired immune deficiency syndrome\" RELATED [SNOMEDCT_2005_07_31:186705005]', '\"AIDS\" EXACT []']\n",
      "\n",
      "xref\n",
      "['EFO:0000765', 'ICD10CM:B20', 'MSH:D000163', 'NCI:C2851', 'OMIM:609423', 'SNOMEDCT_US_2015_03_01:186705005', 'SNOMEDCT_US_2015_03_01:186715004', 'SNOMEDCT_US_2015_03_01:234644008', 'SNOMEDCT_US_2015_03_01:266201009', 'SNOMEDCT_US_2015_03_01:62479008', 'UMLS_CUI:C0001175']\n",
      "\n"
     ]
    }
   ],
   "source": [
    "for key, value in ontology.node['DOID->635'].items():\n",
    "    print(key)\n",
    "    print(value)\n",
    "    print()"
   ]
  },
  {
   "cell_type": "markdown",
   "metadata": {},
   "source": [
    "### What does an edge look like?\n",
    "\n",
    "* Edges are pair of nodes\n",
    "* Edges also have a dictionary of attributes (which in our graph are all empty)"
   ]
  },
  {
   "cell_type": "code",
   "execution_count": null,
   "metadata": {
    "collapsed": true
   },
   "outputs": [],
   "source": [
    "ontology.edge['DOID->769']"
   ]
  },
  {
   "cell_type": "markdown",
   "metadata": {},
   "source": [
    "## Some functions for searching the graph"
   ]
  },
  {
   "cell_type": "code",
   "execution_count": null,
   "metadata": {
    "collapsed": true
   },
   "outputs": [],
   "source": [
    "def hasNodeMatchingAttribute(g, attribute):\n",
    "    \"\"\"\n",
    "    \n",
    "    \"\"\"\n",
    "        \n",
    "    matches = []\n",
    "    for n in g.nodes(data=True):\n",
    "        if attribute[1] in n[1].get(attribute[0]):\n",
    "            matches.append((n[0], n[1][\"name\"]))\n",
    "    return matches"
   ]
  },
  {
   "cell_type": "code",
   "execution_count": null,
   "metadata": {
    "collapsed": true
   },
   "outputs": [],
   "source": [
    "hasNodeMatchingAttribute(ontology,['name','pox'])"
   ]
  },
  {
   "cell_type": "code",
   "execution_count": null,
   "metadata": {
    "collapsed": true
   },
   "outputs": [],
   "source": [
    "hasNodeMatchingAttribute(ontology,['name','acquired'])"
   ]
  },
  {
   "cell_type": "code",
   "execution_count": null,
   "metadata": {
    "collapsed": true
   },
   "outputs": [],
   "source": [
    "hasNodeMatchingAttribute(ontology,['name','carcinoid'])"
   ]
  },
  {
   "cell_type": "code",
   "execution_count": null,
   "metadata": {
    "collapsed": true,
    "internals": {
     "slide_helper": "subslide_end",
     "slide_type": "subslide"
    },
    "slide_helper": "subslide_end",
    "slideshow": {
     "slide_type": "subslide"
    }
   },
   "outputs": [],
   "source": [
    "def hasNodeWithAttribute(g,attribute):\n",
    "    \"\"\"\n",
    "    \"\"\"\n",
    "    for n in g.nodes(data=True):\n",
    "        if n[1].get(attribute[0]) == attribute[1]:\n",
    "            return n[0]\n",
    "    else:\n",
    "        return None"
   ]
  },
  {
   "cell_type": "markdown",
   "metadata": {},
   "source": [
    "### A function for returning the feature from a node"
   ]
  },
  {
   "cell_type": "code",
   "execution_count": null,
   "metadata": {
    "collapsed": true,
    "internals": {
     "slide_helper": "subslide_end",
     "slide_type": "subslide"
    },
    "slide_helper": "subslide_end",
    "slideshow": {
     "slide_type": "subslide"
    }
   },
   "outputs": [],
   "source": [
    "def getNodeFeature(graph,n,feature='name'):\n",
    "    try:\n",
    "        return graph.node[n][feature]\n",
    "    except KeyError:\n",
    "        return None"
   ]
  },
  {
   "cell_type": "markdown",
   "metadata": {},
   "source": [
    "## Functions and Methods on Graphs\n",
    "\n",
    "[Graph theory](https://en.wikipedia.org/wiki/Graph_theory) is a rich mathematical field and there are a lot of questions we can ask and answer about graphs. NetworkX provides a rich [set of tools](https://en.wikipedia.org/wiki/Graph_theory) (and [here](https://networkx.github.io/documentation/latest/reference/functions.html)) for answering many of these questions."
   ]
  },
  {
   "cell_type": "markdown",
   "metadata": {},
   "source": [
    "### How many edges and nodes are in the graph?"
   ]
  },
  {
   "cell_type": "code",
   "execution_count": null,
   "metadata": {
    "collapsed": true
   },
   "outputs": [],
   "source": [
    "print (ontology.number_of_edges())\n",
    "print (ontology.number_of_nodes())"
   ]
  },
  {
   "cell_type": "markdown",
   "metadata": {},
   "source": [
    "### What is the [radius](http://mathworld.wolfram.com/GraphRadius.html) of the graph?"
   ]
  },
  {
   "cell_type": "code",
   "execution_count": null,
   "metadata": {
    "collapsed": true,
    "internals": {
     "slide_helper": "subslide_end",
     "slide_type": "subslide"
    },
    "slide_helper": "subslide_end",
    "slideshow": {
     "slide_type": "subslide"
    }
   },
   "outputs": [],
   "source": [
    "print(nx.radius(ontology))"
   ]
  },
  {
   "cell_type": "markdown",
   "metadata": {},
   "source": [
    "### What does it mean to have an infinite radius?"
   ]
  },
  {
   "cell_type": "markdown",
   "metadata": {},
   "source": [
    "### What are the degrees of the nodes?"
   ]
  },
  {
   "cell_type": "code",
   "execution_count": null,
   "metadata": {
    "collapsed": true
   },
   "outputs": [],
   "source": [
    "degrees = nx.degree_histogram(ontology)\n",
    "plt.bar(range(0,len(degrees)),degrees)\n",
    "plt.xlabel(\"degree\")\n",
    "plt.ylabel(\"count\")"
   ]
  },
  {
   "cell_type": "markdown",
   "metadata": {},
   "source": [
    "### What are all these zero degree nodes?"
   ]
  },
  {
   "cell_type": "code",
   "execution_count": null,
   "metadata": {
    "collapsed": true
   },
   "outputs": [],
   "source": [
    "zero_degree_nodes = [getNodeFeature(ontology,n[0]) for n in ontology.nodes(data=True) if ontology.degree(n[0])==0]\n",
    "print(len(zero_degree_nodes))"
   ]
  },
  {
   "cell_type": "markdown",
   "metadata": {},
   "source": [
    "### We could also use the `isolates` function"
   ]
  },
  {
   "cell_type": "code",
   "execution_count": null,
   "metadata": {
    "collapsed": true
   },
   "outputs": [],
   "source": [
    "len(nx.isolates(ontology))"
   ]
  },
  {
   "cell_type": "code",
   "execution_count": null,
   "metadata": {
    "collapsed": true
   },
   "outputs": [],
   "source": [
    "zero_degree_nodes"
   ]
  },
  {
   "cell_type": "markdown",
   "metadata": {},
   "source": [
    "## Challenge: What is the most important node?\n",
    "\n",
    "* \"Important\": node with the largest degree"
   ]
  },
  {
   "cell_type": "code",
   "execution_count": null,
   "metadata": {
    "collapsed": true
   },
   "outputs": [],
   "source": []
  },
  {
   "cell_type": "markdown",
   "metadata": {},
   "source": [
    "## Drawing Graphs\n",
    "\n",
    "NetworkX has some built-in functions for drawing graphs with Matplotlib. In general they don't work very well. Here is a function to do a (hopefully) better drawing of a graph."
   ]
  },
  {
   "cell_type": "code",
   "execution_count": null,
   "metadata": {
    "collapsed": true
   },
   "outputs": [],
   "source": [
    "def be_copy(g):\n",
    "    return nx.DiGraph([(e[0],e[1]) for e in g.edges()])\n",
    "def drawOBOGraph(graph,feature='name'):\n",
    "\n",
    "    labels = {}\n",
    "    for n in graph.nodes(data=True):\n",
    "        labels[n[0]] = n[1][feature]\n",
    "    nx.draw_networkx_edges(graph,\n",
    "                           pos=nx.nx_pydot.graphviz_layout(\n",
    "                                be_copy(graph),\n",
    "                                prog='dot',\n",
    "                                root=graph.graph['roots'][0]))\n",
    "    nx.draw_networkx_nodes(graph,alpha=0.25,\n",
    "                           pos=nx.nx_pydot.graphviz_layout(\n",
    "                                be_copy(graph),\n",
    "                                prog='dot',\n",
    "                                root=graph.graph['roots'][0]))\n",
    "    nx.draw_networkx_labels(graph,\n",
    "                            pos=nx.nx_pydot.graphviz_layout(\n",
    "                                be_copy(graph),\n",
    "                                prog='dot', font_size=18,\n",
    "                                root=graph.graph['roots'][0]),\n",
    "                            labels=labels)\n",
    "    "
   ]
  },
  {
   "cell_type": "markdown",
   "metadata": {
    "internals": {
     "slide_helper": "subslide_end",
     "slide_type": "subslide"
    },
    "slide_helper": "subslide_end",
    "slideshow": {
     "slide_type": "subslide"
    }
   },
   "source": [
    "## Can we extract useful subgraphs?\n",
    "\n",
    "* Algorithms for optimal paths through graphs is an important topic. Here we use a well-known shortest path algorithm ([Dijkstra Algorithm](https://en.wikipedia.org/wiki/Dijkstra%27s_algorithm)) to find the shortest path from the target to the graph root. We then use the subgraph method to create a graph consisting of the nodes of the shortest path."
   ]
  },
  {
   "cell_type": "code",
   "execution_count": null,
   "metadata": {
    "collapsed": true,
    "internals": {
     "slide_helper": "subslide_end",
     "slide_type": "subslide"
    },
    "slide_helper": "subslide_end",
    "slideshow": {
     "slide_type": "subslide"
    }
   },
   "outputs": [],
   "source": [
    "def getPathSubGraph(graph,root,target):\n",
    "    path = nx.dijkstra_path(graph,root,target)\n",
    "    subGraph = graph.subgraph(path)\n",
    "    return subGraph\n",
    "    "
   ]
  },
  {
   "cell_type": "code",
   "execution_count": null,
   "metadata": {
    "collapsed": true,
    "internals": {
     "slide_helper": "subslide_end",
     "slide_type": "subslide"
    },
    "slide_helper": "subslide_end",
    "slideshow": {
     "slide_type": "subslide"
    }
   },
   "outputs": [],
   "source": [
    "def getDescendantGraph(graph,root):\n",
    "    descendantNodes = nx.descendants(graph,root)\n",
    "    descendantGraph = graph.subgraph(descendantNodes)\n",
    "    return descendantGraph"
   ]
  },
  {
   "cell_type": "markdown",
   "metadata": {},
   "source": [
    "### A function to print out the path between two nodes"
   ]
  },
  {
   "cell_type": "code",
   "execution_count": null,
   "metadata": {
    "collapsed": true,
    "internals": {
     "slide_helper": "subslide_end",
     "slide_type": "subslide"
    },
    "slide_helper": "subslide_end",
    "slideshow": {
     "slide_type": "subslide"
    }
   },
   "outputs": [],
   "source": [
    "def namedTraverse(graph,root, target):\n",
    "    \n",
    "        path = nx.dijkstra_path(graph,root,target)\n",
    "        path.reverse()\n",
    "        tabdepth = \"\"\n",
    "        for p in path[:-1]:\n",
    "            print (tabdepth+\"'%s' which is a\"%graph.node[p]['name'])\n",
    "            tabdepth += \" \"\n",
    "        print (tabdepth+\"'%s'\"%graph.node[path[-1]]['name'])\n",
    "\n"
   ]
  },
  {
   "cell_type": "markdown",
   "metadata": {},
   "source": [
    "### Find Nearest Common Ancestor to Two Nodes"
   ]
  },
  {
   "cell_type": "code",
   "execution_count": null,
   "metadata": {
    "collapsed": true,
    "internals": {
     "slide_helper": "subslide_end",
     "slide_type": "subslide"
    },
    "slide_helper": "subslide_end",
    "slideshow": {
     "slide_type": "subslide"
    }
   },
   "outputs": [],
   "source": [
    "def findLowestCommonAncestor(graph,node1,node2):\n",
    "    try:\n",
    "        path1 = nx.dijkstra_path(graph,graph.graph['roots'][0],node1)\n",
    "        path2 = nx.dijkstra_path(graph,graph.graph['roots'][0],node2)\n",
    "        if len(path2) < len(path1):\n",
    "            spath= path2\n",
    "            lpath=path1\n",
    "        else:\n",
    "            spath = path1\n",
    "            lpath = path2\n",
    "        lpath.reverse()\n",
    "        for np in lpath:\n",
    "            if np in spath:\n",
    "                return np\n",
    "    except nx.NetworkXNoPath:\n",
    "        return None\n"
   ]
  },
  {
   "cell_type": "code",
   "execution_count": null,
   "metadata": {
    "collapsed": true,
    "internals": {
     "slide_helper": "subslide_end",
     "slide_type": "subslide"
    },
    "slide_helper": "subslide_end",
    "slideshow": {
     "slide_type": "subslide"
    }
   },
   "outputs": [],
   "source": [
    "cnode= findLowestCommonAncestor(ontology,\n",
    "                         hasNodeWithAttribute(ontology,['name','sarcoma']),\n",
    "                         hasNodeWithAttribute(ontology,['name','smallpox']))\n",
    "if cnode:\n",
    "    print (getNodeFeature(ontology,cnode))"
   ]
  },
  {
   "cell_type": "code",
   "execution_count": null,
   "metadata": {
    "collapsed": true
   },
   "outputs": [],
   "source": [
    "cnode= findLowestCommonAncestor(ontology,\n",
    "                         hasNodeWithAttribute(ontology,['name','aids']),\n",
    "                         hasNodeWithAttribute(ontology,['name','smallpox']))\n",
    "if cnode:\n",
    "    print (getNodeFeature(ontology,cnode))"
   ]
  },
  {
   "cell_type": "code",
   "execution_count": null,
   "metadata": {
    "collapsed": true,
    "internals": {
     "slide_helper": "subslide_end",
     "slide_type": "subslide"
    },
    "slide_helper": "subslide_end",
    "slideshow": {
     "slide_type": "subslide"
    }
   },
   "outputs": [],
   "source": [
    "def getGraphRoot(graph,root=0):\n",
    "    return graph.graph['roots'][root]"
   ]
  },
  {
   "cell_type": "code",
   "execution_count": null,
   "metadata": {
    "collapsed": true,
    "internals": {
     "slide_helper": "subslide_end",
     "slide_type": "subslide"
    },
    "slide_helper": "subslide_end",
    "slideshow": {
     "slide_type": "subslide"
    }
   },
   "outputs": [],
   "source": [
    "namedTraverse(ontology,getGraphRoot(ontology),\n",
    "              hasNodeWithAttribute(ontology,['name','sarcoma']))"
   ]
  },
  {
   "cell_type": "code",
   "execution_count": null,
   "metadata": {
    "collapsed": true,
    "internals": {
     "slide_helper": "subslide_end",
     "slide_type": "subslide"
    },
    "slide_helper": "subslide_end",
    "slideshow": {
     "slide_type": "subslide"
    }
   },
   "outputs": [],
   "source": [
    "drawOBOGraph(getPathSubGraph(ontology,ontology.graph['roots'][0],hasNodeWithAttribute(ontology,['name','sarcoma'])))"
   ]
  },
  {
   "cell_type": "markdown",
   "metadata": {},
   "source": [
    "## Challenge: What nodes have the longest shortest path to the graph root (\"disease\")"
   ]
  },
  {
   "cell_type": "code",
   "execution_count": null,
   "metadata": {
    "collapsed": true
   },
   "outputs": [],
   "source": []
  },
  {
   "cell_type": "markdown",
   "metadata": {
    "internals": {
     "slide_helper": "subslide_end",
     "slide_type": "subslide"
    },
    "slide_helper": "subslide_end",
    "slideshow": {
     "slide_type": "slide"
    }
   },
   "source": [
    "## Can we make better visualizations?"
   ]
  },
  {
   "cell_type": "markdown",
   "metadata": {
    "internals": {
     "slide_helper": "subslide_end",
     "slide_type": "subslide"
    },
    "slide_helper": "subslide_end",
    "slideshow": {
     "slide_type": "subslide"
    }
   },
   "source": [
    "NetworkX can interface with the GraphViz package from AT&T. This is not necessarily easy to install, particularly on Windows. \n"
   ]
  },
  {
   "cell_type": "code",
   "execution_count": null,
   "metadata": {
    "collapsed": true,
    "internals": {
     "slide_helper": "subslide_end",
     "slide_type": "subslide"
    },
    "slide_helper": "subslide_end",
    "slideshow": {
     "slide_type": "subslide"
    }
   },
   "outputs": [],
   "source": [
    "def getOBO_pydot(graph,feature='name'):\n",
    "    newGraph = nx.DiGraph()\n",
    "    for e in graph.edges():\n",
    "        newGraph.add_edge(graph.node[e[1]][feature],graph.node[e[0]][feature])\n",
    "    ag = nx.nx_pydot.to_pydot(newGraph)\n",
    "    return ag"
   ]
  },
  {
   "cell_type": "code",
   "execution_count": null,
   "metadata": {
    "collapsed": true,
    "internals": {
     "slide_helper": "subslide_end",
     "slide_type": "subslide"
    },
    "slide_helper": "subslide_end",
    "slideshow": {
     "slide_type": "subslide"
    }
   },
   "outputs": [],
   "source": [
    "ag = getOBO_pydot(getPathSubGraph(ontology,\n",
    "                                  ontology.graph['roots'][0],\n",
    "                                  'DOID->1115'))\n",
    "\n",
    "ag.write_png(os.path.join(DATADIR,\n",
    "                          \"%s.png\"%getNodeFeature(ontology,\n",
    "                                                  'DOID->1115')))\n",
    "\n",
    "# This is a way of displaying images in an IPython notebook (see import at top)\n",
    "# cannot display PDF files this way\n",
    "Image(filename=(os.path.join(DATADIR,\n",
    "                             \"%s.png\"%getNodeFeature(ontology,\n",
    "                                                     'DOID->1115'))))"
   ]
  },
  {
   "cell_type": "markdown",
   "metadata": {},
   "source": [
    "### How did I generate the illustrative visualization used above?\n",
    "\n",
    "* This makes use of the `nx.compose` function that creates a new graph by merging two existing graphs"
   ]
  },
  {
   "cell_type": "code",
   "execution_count": null,
   "metadata": {
    "collapsed": true
   },
   "outputs": [],
   "source": [
    "nx.compose_all?"
   ]
  },
  {
   "cell_type": "code",
   "execution_count": null,
   "metadata": {
    "collapsed": true,
    "internals": {
     "slide_helper": "subslide_end",
     "slide_type": "subslide"
    },
    "slide_helper": "subslide_end",
    "slideshow": {
     "slide_type": "subslide"
    }
   },
   "outputs": [],
   "source": [
    "#g1 = getPathSubGraph(ontology, ontology.graph['roots'][0],'DOID->0060080')\n",
    "\n",
    "g1 = getPathSubGraph(ontology, ontology.graph['roots'][0],hasNodeWithAttribute(ontology,['name','appendix carcinoid tumor']))\n",
    "g2 = getPathSubGraph(ontology, ontology.graph['roots'][0],'DOID->5176')\n",
    "g3 = getPathSubGraph(ontology, ontology.graph['roots'][0],hasNodeWithAttribute(ontology,['name','melanoma']))\n",
    "ag = getOBO_pydot(nx.compose_all((g1, g2, g3)))\n",
    "\n",
    "ag.write_png(\"wilms_melanoma_carcinoid.png\")\n",
    "\n",
    "# This is a way of displaying images in an IPython notebook (see import at top)\n",
    "# cannot display PDF files this way\n",
    "print(hasNodeWithAttribute(ontology,['name',\"\"\"melanoma\"\"\"]))\n",
    "\n",
    "Image(filename=\"wilms_melanoma_carcinoid.png\")"
   ]
  },
  {
   "cell_type": "code",
   "execution_count": null,
   "metadata": {
    "collapsed": true,
    "internals": {
     "slide_helper": "subslide_end",
     "slide_type": "subslide"
    },
    "slide_helper": "subslide_end",
    "slideshow": {
     "slide_type": "subslide"
    }
   },
   "outputs": [],
   "source": [
    "nid =hasNodeWithAttribute(ontology,['name',\n",
    "                                    \"\"\"fallopian tube adenosarcoma\"\"\"])\n",
    "ag = getOBO_pydot(getPathSubGraph(ontology,getGraphRoot(ontology),nid))\n",
    "ag.write_png(os.path.join(DATADIR,\"temp.png\"))\n",
    "\n",
    "Image(filename=(os.path.join(DATADIR,\"temp.png\")))"
   ]
  },
  {
   "cell_type": "code",
   "execution_count": null,
   "metadata": {
    "collapsed": true
   },
   "outputs": [],
   "source": []
  }
 ],
 "metadata": {
  "kernelspec": {
   "display_name": "Python 3",
   "language": "python",
   "name": "python3"
  },
  "language_info": {
   "codemirror_mode": {
    "name": "ipython",
    "version": 3
   },
   "file_extension": ".py",
   "mimetype": "text/x-python",
   "name": "python",
   "nbconvert_exporter": "python",
   "pygments_lexer": "ipython3",
   "version": "3.5.2"
  }
 },
 "nbformat": 4,
 "nbformat_minor": 1
}

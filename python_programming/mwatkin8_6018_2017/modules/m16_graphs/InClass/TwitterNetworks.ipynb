{
 "cells": [
  {
   "cell_type": "markdown",
   "metadata": {},
   "source": [
    "# Creating Twitter Networks\n",
    "\n"
   ]
  },
  {
   "cell_type": "code",
   "execution_count": null,
   "metadata": {},
   "outputs": [],
   "source": [
    "#!conda install tweepy -y"
   ]
  },
  {
   "cell_type": "code",
   "execution_count": null,
   "metadata": {},
   "outputs": [],
   "source": [
    "# General:\n",
    "import pandas as pd     # To handle data\n",
    "import numpy as np      # For number computing\n",
    "\n",
    "# For plotting and visualization:\n",
    "from IPython.display import display\n",
    "import matplotlib.pyplot as plt\n",
    "import seaborn as sns\n",
    "%matplotlib inline\n",
    "import networkx as nx\n",
    "import os\n",
    "from IPython.display import Image\n",
    "from itertools import product\n",
    "import time\n",
    "import pickle\n",
    "import gzip\n",
    "import nxdrawing as nxd"
   ]
  },
  {
   "cell_type": "markdown",
   "metadata": {},
   "source": [
    "## Load our data from the pickle file\n",
    "\n",
    "* `followers` are the followers of our original list of tweeters\n",
    "* `followers2` are the followers of our followers"
   ]
  },
  {
   "cell_type": "code",
   "execution_count": null,
   "metadata": {},
   "outputs": [],
   "source": [
    "with gzip.open(\"twitter.pickle.gz\", \"rb\") as f0:\n",
    "    followers, followers2 = pickle.load(f0)"
   ]
  },
  {
   "cell_type": "markdown",
   "metadata": {},
   "source": [
    "## Clean up date and merge dictionaries\n",
    "\n",
    "Our data is kind of a mess. I used two different methods to collect followers from Twitter. So I'm going to convert all the followers data into a single dictionary keyed on the tweeter and values a set of all the followers screen names for that tweeter.\n",
    "\n",
    "I use dictionary unpacking to merge the two dictionaries"
   ]
  },
  {
   "cell_type": "code",
   "execution_count": null,
   "metadata": {},
   "outputs": [],
   "source": [
    "def get_followers_screen_names(followers):\n",
    "    return set([f.screen_name for f in followers])"
   ]
  },
  {
   "cell_type": "code",
   "execution_count": null,
   "metadata": {},
   "outputs": [],
   "source": [
    "tweet_data = {**{t:set(f) for t,f in followers.items()}, **{f:get_followers_screen_names(ff) for f, ff in followers2.items()}}"
   ]
  },
  {
   "cell_type": "code",
   "execution_count": null,
   "metadata": {},
   "outputs": [],
   "source": [
    "tweet_data"
   ]
  },
  {
   "cell_type": "markdown",
   "metadata": {},
   "source": [
    "## Create a *Directional* Graph\n",
    "\n",
    "The graph is directional because following is a one-way relationship: just because you are following me, doesn't mean I'm following you."
   ]
  },
  {
   "cell_type": "code",
   "execution_count": null,
   "metadata": {},
   "outputs": [],
   "source": [
    "bmi_twitter = nx.DiGraph()"
   ]
  },
  {
   "cell_type": "code",
   "execution_count": null,
   "metadata": {},
   "outputs": [],
   "source": []
  },
  {
   "cell_type": "markdown",
   "metadata": {},
   "source": [
    "## How big is our graph?"
   ]
  },
  {
   "cell_type": "code",
   "execution_count": null,
   "metadata": {},
   "outputs": [],
   "source": [
    "for t in tweet_data:\n",
    "    bmi_twitter.add_node(t)\n"
   ]
  },
  {
   "cell_type": "code",
   "execution_count": null,
   "metadata": {},
   "outputs": [],
   "source": [
    "print(bmi_twitter.number_of_nodes())\n",
    "print(bmi_twitter.number_of_edges())"
   ]
  },
  {
   "cell_type": "markdown",
   "metadata": {},
   "source": [
    "### adding edges between `tweeters` and `followers`\n",
    "\n",
    "I use the `itertools.product` to create the Cartesian product of all our nodes (remember from our Set Theory module) and then add an edge if their is an appropriate follower relationship\n",
    "\n",
    "#### Note\n",
    "\n",
    "When creating directional edges, the first argument is the **from** node and the second argument is the **to** node."
   ]
  },
  {
   "cell_type": "code",
   "execution_count": null,
   "metadata": {},
   "outputs": [],
   "source": [
    "pairs = product(bmi_twitter.nodes(), bmi_twitter.nodes())\n",
    "for p in pairs:\n",
    "    if p[0] in tweet_data[p[1]]:\n",
    "        bmi_twitter.add_edge(p[0], p[1], type=\"follower\")"
   ]
  },
  {
   "cell_type": "code",
   "execution_count": null,
   "metadata": {},
   "outputs": [],
   "source": [
    "bmi_twitter.number_of_edges()"
   ]
  },
  {
   "cell_type": "code",
   "execution_count": null,
   "metadata": {},
   "outputs": [],
   "source": [
    "\n",
    "display(nxd.draw_dot(bmi_twitter, file=\"twitter2.png\"))\n"
   ]
  },
  {
   "cell_type": "markdown",
   "metadata": {},
   "source": [
    "## Challenge:  Who in your network is following the most people in the network?\n",
    "\n",
    "#### Hint: `neighbors` or ``successors``"
   ]
  },
  {
   "cell_type": "code",
   "execution_count": null,
   "metadata": {},
   "outputs": [],
   "source": []
  },
  {
   "cell_type": "markdown",
   "metadata": {},
   "source": [
    "## Challenge: Who in your network is followed by the most people in the network?\n",
    "\n",
    "#### Hint: `predecessors`"
   ]
  },
  {
   "cell_type": "code",
   "execution_count": null,
   "metadata": {},
   "outputs": [],
   "source": []
  },
  {
   "cell_type": "markdown",
   "metadata": {},
   "source": [
    "## Challenge: If you convert to an undirected graph and drop any isolated nodes, what is the diameter of the graph?"
   ]
  },
  {
   "cell_type": "code",
   "execution_count": null,
   "metadata": {},
   "outputs": [],
   "source": []
  },
  {
   "cell_type": "markdown",
   "metadata": {},
   "source": [
    "## What is the longest shortest path in your network?"
   ]
  },
  {
   "cell_type": "code",
   "execution_count": null,
   "metadata": {},
   "outputs": [],
   "source": []
  }
 ],
 "metadata": {
  "kernelspec": {
   "display_name": "Python 3",
   "language": "python",
   "name": "python3"
  },
  "language_info": {
   "codemirror_mode": {
    "name": "ipython",
    "version": 3
   },
   "file_extension": ".py",
   "mimetype": "text/x-python",
   "name": "python",
   "nbconvert_exporter": "python",
   "pygments_lexer": "ipython3",
   "version": "3.5.2"
  }
 },
 "nbformat": 4,
 "nbformat_minor": 2
}

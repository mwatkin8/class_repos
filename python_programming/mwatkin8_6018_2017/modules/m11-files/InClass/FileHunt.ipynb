{
 "cells": [
  {
   "cell_type": "markdown",
   "metadata": {},
   "source": [
    "### Open the file \"\"test.something\" as a binary file and read 97 bytes at position 1267 and follow the instructions.\n",
    "\n",
    "### Since this is a binary file you will have to decode() what you read in (e.g. `f0.read(97).decode()"
   ]
  },
  {
   "cell_type": "code",
   "execution_count": 6,
   "metadata": {},
   "outputs": [
    {
     "name": "stdout",
     "output_type": "stream",
     "text": [
      "Go to the byte location indicated by the 4 digit number located at position 347 and read 24 bytes\n"
     ]
    }
   ],
   "source": [
    "f0 = open(\"test.something\", \"rb\")\n",
    "f0.seek(1267)\n",
    "print(f0.read(97).decode())"
   ]
  },
  {
   "cell_type": "code",
   "execution_count": 7,
   "metadata": {},
   "outputs": [
    {
     "name": "stdout",
     "output_type": "stream",
     "text": [
      "1522\n"
     ]
    }
   ],
   "source": [
    "f0.seek(347)\n",
    "print(f0.read(4).decode('utf-8'))"
   ]
  },
  {
   "cell_type": "code",
   "execution_count": 8,
   "metadata": {},
   "outputs": [
    {
     "name": "stdout",
     "output_type": "stream",
     "text": [
      "My Name is Brian Chapman\n"
     ]
    }
   ],
   "source": [
    "f0.seek(1522)\n",
    "print(f0.read(24).decode('utf-8'))"
   ]
  }
 ],
 "metadata": {
  "kernelspec": {
   "display_name": "Python 3",
   "language": "python",
   "name": "python3"
  },
  "language_info": {
   "codemirror_mode": {
    "name": "ipython",
    "version": 3
   },
   "file_extension": ".py",
   "mimetype": "text/x-python",
   "name": "python",
   "nbconvert_exporter": "python",
   "pygments_lexer": "ipython3",
   "version": "3.5.2"
  }
 },
 "nbformat": 4,
 "nbformat_minor": 2
}

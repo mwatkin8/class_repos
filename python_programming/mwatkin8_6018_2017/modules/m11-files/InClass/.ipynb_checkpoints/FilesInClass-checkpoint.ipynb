{
 "cells": [
  {
   "cell_type": "markdown",
   "metadata": {},
   "source": [
    "# In-class Programming Exercises\n"
   ]
  },
  {
   "cell_type": "markdown",
   "metadata": {},
   "source": [
    "## Exercise:\n",
    "\n",
    "Read the carotid.txt file and parse it into a list of strings where each report is a single string.\n",
    "\n",
    "Look at the data and decide what questions we need to ask about each line in the file in order to parse the file into individual reports."
   ]
  },
  {
   "cell_type": "code",
   "execution_count": 1,
   "metadata": {},
   "outputs": [
    {
     "name": "stdout",
     "output_type": "stream",
     "text": [
      "BEGIN REPORT\n",
      "A carotid u/s showed \"\"no changes from previous\"\", but by report, \n",
      " unsure of previous findings.\n",
      "\n",
      "END REPORT\n",
      "BEGIN REPORT\n",
      "Carotid dopplers ([**1-30**]) notable for 60-69%R ICA occlusion and \n",
      " L-vertebral not visualized (so could be occulded or hypoplastic)\n",
      "\n",
      "END REPORT\n",
      "BEGIN REPORT\n",
      "Ultrasound of the carotids revealed right ICA with 80-99% occlusion and L ICA with 40% \n",
      " occlusion.\n",
      " \"\n",
      " AM\n",
      "\n",
      "END REPORT\n",
      "BEGIN REPORT\n",
      "CAROTID SERIES COMPLETE\n",
      " \n",
      " Reason: TIA\n",
      " \n",
      " UNDERLYING MEDICAL CONDITION:\n",
      " 72 year old man with TIA \n",
      " REASON FOR THIS EXAMINATION:\n",
      " Eval for carotid stenosis \n",
      " CAROTID STUDY\n",
      " \n",
      " HISTORY: TIA.\n",
      " \n",
      " FINDINGS: No prior studies for comparison. There is complete \n",
      " occlusion of the left ICA and associated internalization of the \n",
      " external carotid artery on the left. There is also absent flow \n",
      " involving the left vertebral artery. There is a significant \n",
      " focal hypoechoic plaque involving the right ICA. Similar plaque \n",
      " involving the right ECA. The peak systolic velocities on the \n",
      " right are 264, 56, and 15 cm per second for the ICA, CCA, and \n",
      " ECA respectively. The ICA to CCA ratio is 5.3. There is \n",
      " antegrade flow involving the right vertebral artery.\n",
      " \n",
      " IMPRESSION:\n",
      " \n",
      " 1. Occluded left-sided ICA and left-sided vertebral artery.\n",
      " \n",
      " 2. 70-79% right ICA stenosis.\n",
      " \n",
      " 3. Near occlusion of the right external carotid artery.\n",
      " \n",
      "\n",
      "END REPORT\n",
      "BEGIN REPORT\n",
      "EXAM: MRI of the brain and MRA of the head and neck.\n",
      " \n",
      " CLINICAL INFORMATION: Patient with left internal carotid artery \n",
      " occlusion and right ICA stenosis, for further evaluation to \n",
      " exclude stroke and also to evaluate the cerebral blood vessels.\n",
      " \n",
      " \n",
      " \n",
      " MRA OF THE NECK:\n",
      " \n",
      " The neck MRA demonstrates normal flow signal in the right \n",
      " vertebral artery. The right internal carotid demonstrates \n",
      " high-grade approximately 70% stenosis at the bifurcation. The \n",
      " evaluation of the right carotid stenosis on the post- gadolinium \n",
      " MRA is limited secondary to venous contamination.\n",
      " \n",
      " The left internal carotid is occluded at the bifurcation. No \n",
      " flow is visualized in the distal cervical left internal carotid \n",
      " artery. No flow is seen in the left petrous carotid artery.\n",
      " \n",
      " The evaluation of the left vertebral artery on source\n"
     ]
    }
   ],
   "source": [
    "import os\n",
    "\n",
    "with open(os.path.join(\"..\",\"Resources\",\"carotid.txt\")) as f0:\n",
    "    data = f0.read()\n",
    "print(data[:2200])"
   ]
  },
  {
   "cell_type": "code",
   "execution_count": null,
   "metadata": {
    "collapsed": true
   },
   "outputs": [],
   "source": [
    "import os\n",
    "\n",
    "with open(os.path.join(\"..\",\"Resources\",\"carotid.txt\")) as f0:\n",
    "    data = f0.read()\n",
    "report = \"\"\n",
    "for line in data:\n",
    "    if line.startswith('BEGIN REPORT'):continue\n",
    "    elif line.startswith('END REPORT')\n",
    "    else:\n",
    "        report = report+line"
   ]
  },
  {
   "cell_type": "markdown",
   "metadata": {},
   "source": [
    "## Exercise: \n",
    "\n",
    "Read in obits.txt and parse the contents into a dictionary keyed by the date of the obituary. The value corresponding to each key should be a list of named tuples with the named tuple having first name, last name, age, and date of death."
   ]
  },
  {
   "cell_type": "code",
   "execution_count": null,
   "metadata": {
    "collapsed": true
   },
   "outputs": [],
   "source": [
    "import os\n",
    "\n",
    "with open(os.path.join(\"..\",\"Resources\",\"obits.txt\")) as f0:\n",
    "    data = f0.read()\n",
    "print(data[:2200])\n",
    "\n",
    "\n",
    "\n",
    "\n"
   ]
  },
  {
   "cell_type": "markdown",
   "metadata": {},
   "source": [
    "## Exercise\n",
    "### Read in and parse the [FASTA file](https://en.wikipedia.org/wiki/FASTA_format) ``ex_ref.fasta``\n",
    "\n",
    "The result should be a dictionary keyed by the sequence id and the value being the sequence as a string."
   ]
  },
  {
   "cell_type": "code",
   "execution_count": null,
   "metadata": {
    "collapsed": true
   },
   "outputs": [],
   "source": [
    "with open(os.path.join(\"..\",\"Resources\",\"ex_ref.fasta\")) as f0:\n",
    "    data = f0.read()\n",
    "print(data[:2200])"
   ]
  },
  {
   "cell_type": "code",
   "execution_count": null,
   "metadata": {
    "collapsed": true
   },
   "outputs": [],
   "source": []
  }
 ],
 "metadata": {
  "anaconda-cloud": {},
  "kernelspec": {
   "display_name": "Python 3",
   "language": "python",
   "name": "python3"
  },
  "language_info": {
   "codemirror_mode": {
    "name": "ipython",
    "version": 3
   },
   "file_extension": ".py",
   "mimetype": "text/x-python",
   "name": "python",
   "nbconvert_exporter": "python",
   "pygments_lexer": "ipython3",
   "version": "3.5.2"
  }
 },
 "nbformat": 4,
 "nbformat_minor": 1
}

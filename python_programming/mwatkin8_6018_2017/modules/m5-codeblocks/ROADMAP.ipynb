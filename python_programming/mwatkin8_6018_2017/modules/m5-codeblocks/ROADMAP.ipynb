{
 "cells": [
  {
   "cell_type": "markdown",
   "metadata": {},
   "source": [
    "# Code Blocks\n",
    "\n",
    "This module is just for at-home review. We will not be explictly talking about the content in class. Most of this is a review from the Python Crash Course. If you are feeling comfortable with Python, you may want to just quickly read over it.\n",
    "\n",
    "\n",
    "## ClassPrep\n",
    "* [Code Blocks in Python](ClassPrep/1-CodeBlocksInPython.ipynb)\n",
    "* [True and False in Python](ClassPrep/2-TrueAndFalse.ipynb)\n",
    "* [If/Else](ClassPrep/3-IfElse.ipynb)\n",
    "* [Loops in Python](ClassPrep/IPythonblocks.ipynb)\n",
    "* [For Loops](ClassPrep/4-ForLoopsInPython.ipynb)\n",
    "\n",
    "* [While loops](ClassPrep/5-WhileLoops.ipynb)\n",
    "\n",
    "\n",
    "## Reading\n",
    "* *Think Python,* Sections 5.1---5.7\n",
    "* *Think Python,* Chapter 7\n"
   ]
  },
  {
   "cell_type": "code",
   "execution_count": null,
   "metadata": {},
   "outputs": [],
   "source": []
  }
 ],
 "metadata": {
  "kernelspec": {
   "display_name": "Python 3",
   "language": "python",
   "name": "python3"
  },
  "language_info": {
   "codemirror_mode": {
    "name": "ipython",
    "version": 3
   },
   "file_extension": ".py",
   "mimetype": "text/x-python",
   "name": "python",
   "nbconvert_exporter": "python",
   "pygments_lexer": "ipython3",
   "version": "3.5.2"
  }
 },
 "nbformat": 4,
 "nbformat_minor": 1
}

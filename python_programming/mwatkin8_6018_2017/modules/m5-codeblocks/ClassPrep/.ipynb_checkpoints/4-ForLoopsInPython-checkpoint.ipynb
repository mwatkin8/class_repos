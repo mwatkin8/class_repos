{
 "cells": [
  {
   "cell_type": "code",
   "execution_count": 1,
   "metadata": {},
   "outputs": [
    {
     "data": {
      "image/jpeg": "[encoded data removed]",
      "text/html": [
       "\n",
       "        <iframe\n",
       "            width=\"400\"\n",
       "            height=\"300\"\n",
       "            src=\"https://www.youtube.com/embed/FADosO0NlZ8\"\n",
       "            frameborder=\"0\"\n",
       "            allowfullscreen\n",
       "        ></iframe>\n",
       "        "
      ],
      "text/plain": [
       "<IPython.lib.display.YouTubeVideo at 0x7f3a152bdf98>"
      ]
     },
     "execution_count": 1,
     "metadata": {},
     "output_type": "execute_result"
    }
   ],
   "source": [
    "from IPython.display import YouTubeVideo\n",
    "\n",
    "YouTubeVideo(\"FADosO0NlZ8\")"
   ]
  },
  {
   "cell_type": "markdown",
   "metadata": {
    "internals": {
     "slide_helper": "subslide_end",
     "slide_type": "subslide"
    },
    "slide_helper": "subslide_end",
    "slideshow": {
     "slide_type": "slide"
    }
   },
   "source": [
    "# Loops in Python"
   ]
  },
  {
   "cell_type": "markdown",
   "metadata": {
    "internals": {
     "slide_helper": "subslide_end",
     "slide_type": "subslide"
    },
    "slide_helper": "slide_end",
    "slideshow": {
     "slide_type": "subslide"
    }
   },
   "source": [
    "To explore loops and conditionals in more detail, we will use the ipythonblocks package to visualize the coding. ipythonblocks has an interface very similar to numpy arrays, so it will be a good lead in for more work with numpy.\n",
    "\n",
    "[Software Carpentry Lesson on Control Flow](http://software-carpentry.org/v4/python/flow.html)"
   ]
  },
  {
   "cell_type": "markdown",
   "metadata": {
    "internals": {
     "slide_helper": "subslide_end",
     "slide_type": "subslide"
    },
    "slide_helper": "subslide_end",
    "slideshow": {
     "slide_type": "slide"
    }
   },
   "source": [
    "# [for loops](https://docs.python.org/2/tutorial/controlflow.html#for-statements)\n",
    "* **for** loops iterate over the elements of a collection\n",
    "    * lists\n",
    "    * tuples \n",
    "    * dictionaries\n",
    "    * strings\n",
    "* generally any iterable object (like iterators)"
   ]
  },
  {
   "cell_type": "markdown",
   "metadata": {
    "internals": {
     "slide_helper": "subslide_end",
     "slide_type": "subslide"
    },
    "slide_helper": "subslide_end",
    "slideshow": {
     "slide_type": "subslide"
    }
   },
   "source": [
    "## ``for`` loops and Dictionaries\n",
    "* Looping over dictionaries, is equivalent to looping over the keys of the dictionary.\n",
    "* Can loop over ``keys``, ``values``, and ``items``"
   ]
  },
  {
   "cell_type": "code",
   "execution_count": null,
   "metadata": {
    "collapsed": true
   },
   "outputs": [],
   "source": [
    "cbc = {'WBC':5.9,'RBC':5.23,'Hgb':15.9,'HCT':45.5,'Lymphocytes':32}\n",
    "\n",
    "for value in cbc:\n",
    "    print(value)\n",
    "    "
   ]
  },
  {
   "cell_type": "code",
   "execution_count": null,
   "metadata": {
    "collapsed": true,
    "internals": {
     "slide_helper": "subslide_end",
     "slide_type": "subslide"
    },
    "slide_helper": "subslide_end",
    "slideshow": {
     "slide_type": "subslide"
    }
   },
   "outputs": [],
   "source": [
    "# This is iterating over a list of two-tuples that are unpacked into two variables\n",
    "for test,value in cbc.items():\n",
    "    print(\"%s=%f\"%(test,value))"
   ]
  },
  {
   "cell_type": "markdown",
   "metadata": {},
   "source": [
    "### ``for`` loops and sets, strings, tuples, and lists\n",
    "\n",
    "* Kind of all the same"
   ]
  },
  {
   "cell_type": "code",
   "execution_count": null,
   "metadata": {
    "collapsed": true,
    "internals": {
     "slide_helper": "subslide_end",
     "slide_type": "subslide"
    },
    "slide_helper": "subslide_end",
    "slideshow": {
     "slide_type": "subslide"
    }
   },
   "outputs": [],
   "source": [
    "# iterating over a set\n",
    "for i in {1,2,3,3,3,4}:\n",
    "    print(i)"
   ]
  },
  {
   "cell_type": "code",
   "execution_count": null,
   "metadata": {
    "collapsed": true,
    "internals": {
     "slide_helper": "subslide_end",
     "slide_type": "subslide"
    },
    "slide_helper": "subslide_end",
    "slideshow": {
     "slide_type": "subslide"
    }
   },
   "outputs": [],
   "source": [
    "# iterating over a string\n",
    "seq = \"TGCTACGGGTGTCTACCGTAAGCACGCCTTTACCTCGTGCAAATGACTTTCCA\"\n",
    "for b in seq:\n",
    "    print(b)"
   ]
  },
  {
   "cell_type": "code",
   "execution_count": null,
   "metadata": {
    "collapsed": true
   },
   "outputs": [],
   "source": [
    "# iterating for a list\n",
    "\n",
    "for instrument in ['violin','viola','trumpet','cello','flute']:\n",
    "    print(instrument)"
   ]
  },
  {
   "cell_type": "code",
   "execution_count": null,
   "metadata": {
    "collapsed": true
   },
   "outputs": [],
   "source": [
    "report = list(\"\"\"PROCEDURE AND FINDINGS: The risks and benefits were explained to the patient\n",
    "     and consent was obtained. The patient was placed supine on the angiographic\n",
    "     table and the right arm was prepped and draped in sterile fashion. Local\n",
    "     anesthesia using 1% Lidocaine was applied to the puncture site. Under\n",
    "     sonographic guidance, the left cephalic vein near the arteriovenous fistula\n",
    "     was accessed using a 21 gauge needle and an 0.018 wire was placed into the\n",
    "     vein toward the venous side. The needle was exchanged for a micropuncture\n",
    "     sheath which was connected to the power injector.\n",
    "     AV fistulogram was performed along the course of the cephalic vein to the\n",
    "     level of the right atrium. The venograms demonstrated a focal stenosis in the\n",
    "     dilated cephalic vein at the level of the mid arm and also confirmed the\n",
    "     known, severe stenosis of the superior vena cava (SVC). There is a left\n",
    "     internal jugular dialysis catheter with its tip in the SVC. This might be\n",
    "     related to the development of the stenosis. No intrathoracic collateral is\n",
    "     seen; there is, however, collateral filling from the left mid-arm towards the\n",
    "     axilla and then left lateral thoracic wall caudally.\n",
    "     Pressure measurements were performed through a 5-French straight catheter.\n",
    "     They demonstrated mean pressures of 13 mmHg in the right atrium and 31 mmHg in\n",
    "     the left brachiocephalic vein (i.e., gradient of 18 mmHg).\n",
    "     A pressure cuff was insufflated over the upper arm and a venogram was\n",
    "     repeated. It revealed patency of the arteriovenous anastomosis and the\n",
    "     brachial artery proximally and distally to the anastomosis with no significant\n",
    "     stenosis.\"\"\".split())\n"
   ]
  },
  {
   "cell_type": "code",
   "execution_count": null,
   "metadata": {
    "collapsed": true
   },
   "outputs": [],
   "source": [
    "for i in range(len(report))[0:20]:\n",
    "    print(i,report[i])"
   ]
  },
  {
   "cell_type": "markdown",
   "metadata": {},
   "source": [
    "### Comparing Looping in Python to \"Vector\" operations in Numpy"
   ]
  },
  {
   "cell_type": "code",
   "execution_count": null,
   "metadata": {
    "collapsed": true
   },
   "outputs": [],
   "source": [
    "import numpy as np"
   ]
  },
  {
   "cell_type": "code",
   "execution_count": null,
   "metadata": {
    "collapsed": true
   },
   "outputs": [],
   "source": [
    "def f1(n):\n",
    "    sum = 0\n",
    "    for i in range(n):\n",
    "        sum += i\n",
    "    return sum\n",
    "\n",
    "def f2(n):\n",
    "    return np.sum(np.arange(n,dtype=np.uint64))"
   ]
  },
  {
   "cell_type": "code",
   "execution_count": null,
   "metadata": {
    "collapsed": true,
    "internals": {
     "frag_helper": "fragment_end",
     "frag_number": 23,
     "slide_helper": "subslide_end"
    },
    "slide_helper": "slide_end",
    "slideshow": {
     "slide_type": "-"
    }
   },
   "outputs": [],
   "source": [
    "%timeit f1(10000) # A possible way to freeze your computer"
   ]
  },
  {
   "cell_type": "code",
   "execution_count": null,
   "metadata": {
    "collapsed": true,
    "internals": {
     "frag_helper": "fragment_end",
     "frag_number": 32,
     "slide_helper": "subslide_end"
    },
    "slide_helper": "slide_end",
    "slideshow": {
     "slide_type": "-"
    }
   },
   "outputs": [],
   "source": [
    "%timeit f2(10000)"
   ]
  },
  {
   "cell_type": "code",
   "execution_count": null,
   "metadata": {
    "collapsed": true
   },
   "outputs": [],
   "source": [
    "%timeit sum(range(10000))"
   ]
  },
  {
   "cell_type": "markdown",
   "metadata": {},
   "source": [
    "### Loops in Python are Slow. If possible, we want to do \"vector\" operations to acheive better speed"
   ]
  },
  {
   "cell_type": "code",
   "execution_count": null,
   "metadata": {
    "collapsed": true
   },
   "outputs": [],
   "source": []
  }
 ],
 "metadata": {
  "kernelspec": {
   "display_name": "Python 3",
   "language": "python",
   "name": "python3"
  },
  "language_info": {
   "codemirror_mode": {
    "name": "ipython",
    "version": 3
   },
   "file_extension": ".py",
   "mimetype": "text/x-python",
   "name": "python",
   "nbconvert_exporter": "python",
   "pygments_lexer": "ipython3",
   "version": "3.5.2"
  }
 },
 "nbformat": 4,
 "nbformat_minor": 1
}

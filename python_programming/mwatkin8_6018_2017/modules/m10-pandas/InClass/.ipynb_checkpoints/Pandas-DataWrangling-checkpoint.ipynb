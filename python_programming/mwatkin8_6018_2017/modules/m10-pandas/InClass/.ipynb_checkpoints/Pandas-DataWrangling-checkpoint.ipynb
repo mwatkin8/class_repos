{
 "cells": [
  {
   "cell_type": "code",
   "execution_count": null,
   "metadata": {
    "collapsed": true
   },
   "outputs": [],
   "source": [
    "from IPython.display import YouTubeVideo\n",
    "\n",
    "YouTubeVideo(\"w0kfPhGau5c\")\n",
    "\n"
   ]
  },
  {
   "cell_type": "markdown",
   "metadata": {},
   "source": [
    "# [Pandas Data Wrangling](http://pandas.pydata.org/)"
   ]
  },
  {
   "cell_type": "code",
   "execution_count": 1,
   "metadata": {
    "collapsed": true
   },
   "outputs": [],
   "source": [
    "% matplotlib inline"
   ]
  },
  {
   "cell_type": "code",
   "execution_count": 2,
   "metadata": {},
   "outputs": [
    {
     "data": {
      "text/plain": [
       "True"
      ]
     },
     "execution_count": 2,
     "metadata": {},
     "output_type": "execute_result"
    }
   ],
   "source": [
    "import os\n",
    "import sqlite3 as sqlite\n",
    "DATADIR = os.path.join(\"..\", \"Resources\")\n",
    "os.path.exists(DATADIR)"
   ]
  },
  {
   "cell_type": "code",
   "execution_count": 3,
   "metadata": {
    "collapsed": true
   },
   "outputs": [],
   "source": [
    "import pandas as pd"
   ]
  },
  {
   "cell_type": "code",
   "execution_count": 4,
   "metadata": {
    "collapsed": true
   },
   "outputs": [],
   "source": [
    "%matplotlib inline\n",
    "import numpy as np"
   ]
  },
  {
   "cell_type": "markdown",
   "metadata": {},
   "source": [
    "## Reading in NaN/Missing Values, etc."
   ]
  },
  {
   "cell_type": "markdown",
   "metadata": {},
   "source": [
    "## Modifying Values \n",
    "### ``replace()``\n"
   ]
  },
  {
   "cell_type": "code",
   "execution_count": 5,
   "metadata": {
    "collapsed": true
   },
   "outputs": [],
   "source": [
    "elevation = pd.read_table(os.path.join(DATADIR,\"elevation.txt\"))"
   ]
  },
  {
   "cell_type": "code",
   "execution_count": 6,
   "metadata": {},
   "outputs": [
    {
     "data": {
      "text/html": [
       "<div>\n",
       "<table border=\"1\" class=\"dataframe\">\n",
       "  <thead>\n",
       "    <tr style=\"text-align: right;\">\n",
       "      <th></th>\n",
       "      <th>Rank</th>\n",
       "      <th>State</th>\n",
       "      <th>Highest elevation</th>\n",
       "      <th>Lowest elevation</th>\n",
       "      <th>Average elevation</th>\n",
       "    </tr>\n",
       "  </thead>\n",
       "  <tbody>\n",
       "    <tr>\n",
       "      <th>0</th>\n",
       "      <td>1</td>\n",
       "      <td>Colorado</td>\n",
       "      <td>14,440 feet</td>\n",
       "      <td>3,315 feet</td>\n",
       "      <td>6,800 feet</td>\n",
       "    </tr>\n",
       "    <tr>\n",
       "      <th>1</th>\n",
       "      <td>2</td>\n",
       "      <td>Wyoming</td>\n",
       "      <td>13,804 feet</td>\n",
       "      <td>3,099 feet</td>\n",
       "      <td>6,700 feet</td>\n",
       "    </tr>\n",
       "    <tr>\n",
       "      <th>2</th>\n",
       "      <td>3</td>\n",
       "      <td>Utah</td>\n",
       "      <td>13,528 feet</td>\n",
       "      <td>2,000 feet</td>\n",
       "      <td>6,100 feet</td>\n",
       "    </tr>\n",
       "    <tr>\n",
       "      <th>3</th>\n",
       "      <td>4</td>\n",
       "      <td>New Mexico</td>\n",
       "      <td>13,161 feet</td>\n",
       "      <td>2,842 feet</td>\n",
       "      <td>5,700 feet</td>\n",
       "    </tr>\n",
       "    <tr>\n",
       "      <th>4</th>\n",
       "      <td>5</td>\n",
       "      <td>Nevada</td>\n",
       "      <td>13,140 feet</td>\n",
       "      <td>479 feet</td>\n",
       "      <td>5,500 feet</td>\n",
       "    </tr>\n",
       "    <tr>\n",
       "      <th>5</th>\n",
       "      <td>6</td>\n",
       "      <td>Idaho</td>\n",
       "      <td>12,662 feet</td>\n",
       "      <td>710 feet</td>\n",
       "      <td>5,000 feet</td>\n",
       "    </tr>\n",
       "    <tr>\n",
       "      <th>6</th>\n",
       "      <td>7</td>\n",
       "      <td>Arizona</td>\n",
       "      <td>12,633 feet</td>\n",
       "      <td>70 feet</td>\n",
       "      <td>4,100 feet</td>\n",
       "    </tr>\n",
       "    <tr>\n",
       "      <th>7</th>\n",
       "      <td>8</td>\n",
       "      <td>Montana</td>\n",
       "      <td>12,799 feet</td>\n",
       "      <td>1,800 feet</td>\n",
       "      <td>3,400 feet</td>\n",
       "    </tr>\n",
       "    <tr>\n",
       "      <th>8</th>\n",
       "      <td>9</td>\n",
       "      <td>Oregon</td>\n",
       "      <td>11,239 feet</td>\n",
       "      <td>Sea level</td>\n",
       "      <td>3,300 feet</td>\n",
       "    </tr>\n",
       "    <tr>\n",
       "      <th>9</th>\n",
       "      <td>10</td>\n",
       "      <td>Hawaii</td>\n",
       "      <td>13,796 feet</td>\n",
       "      <td>Sea level</td>\n",
       "      <td>3,030 feet</td>\n",
       "    </tr>\n",
       "    <tr>\n",
       "      <th>10</th>\n",
       "      <td>11</td>\n",
       "      <td>California</td>\n",
       "      <td>14,494 feet</td>\n",
       "      <td>-282 feet</td>\n",
       "      <td>2,900 feet</td>\n",
       "    </tr>\n",
       "    <tr>\n",
       "      <th>11</th>\n",
       "      <td>12</td>\n",
       "      <td>Nebraska</td>\n",
       "      <td>5,424 feet</td>\n",
       "      <td>840 feet</td>\n",
       "      <td>2,600 feet</td>\n",
       "    </tr>\n",
       "    <tr>\n",
       "      <th>12</th>\n",
       "      <td>13</td>\n",
       "      <td>South Dakota</td>\n",
       "      <td>7,242 feet</td>\n",
       "      <td>966 feet</td>\n",
       "      <td>2,200 feet</td>\n",
       "    </tr>\n",
       "    <tr>\n",
       "      <th>13</th>\n",
       "      <td>14</td>\n",
       "      <td>Kansas</td>\n",
       "      <td>4,039 feet</td>\n",
       "      <td>679 feet</td>\n",
       "      <td>2,000 feet</td>\n",
       "    </tr>\n",
       "    <tr>\n",
       "      <th>14</th>\n",
       "      <td>15</td>\n",
       "      <td>Alaska</td>\n",
       "      <td>20,320 feet</td>\n",
       "      <td>Sea level</td>\n",
       "      <td>1,900 feet</td>\n",
       "    </tr>\n",
       "    <tr>\n",
       "      <th>15</th>\n",
       "      <td>16</td>\n",
       "      <td>North Dakota</td>\n",
       "      <td>3,506 feet</td>\n",
       "      <td>750 feet</td>\n",
       "      <td>1,900 feet</td>\n",
       "    </tr>\n",
       "    <tr>\n",
       "      <th>16</th>\n",
       "      <td>17</td>\n",
       "      <td>Washington</td>\n",
       "      <td>14,410 feet</td>\n",
       "      <td>Sea level</td>\n",
       "      <td>1,700 feet</td>\n",
       "    </tr>\n",
       "    <tr>\n",
       "      <th>17</th>\n",
       "      <td>18</td>\n",
       "      <td>Texas</td>\n",
       "      <td>8,749 feet</td>\n",
       "      <td>Sea level</td>\n",
       "      <td>1,700 feet</td>\n",
       "    </tr>\n",
       "    <tr>\n",
       "      <th>18</th>\n",
       "      <td>19</td>\n",
       "      <td>West Virginia</td>\n",
       "      <td>4,863 feet</td>\n",
       "      <td>240 feet</td>\n",
       "      <td>1,500 feet</td>\n",
       "    </tr>\n",
       "    <tr>\n",
       "      <th>19</th>\n",
       "      <td>20</td>\n",
       "      <td>Oklahoma</td>\n",
       "      <td>4,973 feet</td>\n",
       "      <td>289 feet</td>\n",
       "      <td>1,300 feet</td>\n",
       "    </tr>\n",
       "    <tr>\n",
       "      <th>20</th>\n",
       "      <td>21</td>\n",
       "      <td>Minnesota</td>\n",
       "      <td>2,301 feet</td>\n",
       "      <td>602 feet</td>\n",
       "      <td>1,200 feet</td>\n",
       "    </tr>\n",
       "    <tr>\n",
       "      <th>21</th>\n",
       "      <td>22</td>\n",
       "      <td>Pennsylvania</td>\n",
       "      <td>3,213 feet</td>\n",
       "      <td>Sea level</td>\n",
       "      <td>1,100 feet</td>\n",
       "    </tr>\n",
       "    <tr>\n",
       "      <th>22</th>\n",
       "      <td>23</td>\n",
       "      <td>Iowa</td>\n",
       "      <td>1,670 feet</td>\n",
       "      <td>480 feet</td>\n",
       "      <td>1,100 feet</td>\n",
       "    </tr>\n",
       "    <tr>\n",
       "      <th>23</th>\n",
       "      <td>24</td>\n",
       "      <td>Wisconsin</td>\n",
       "      <td>1,951 feet</td>\n",
       "      <td>581 feet</td>\n",
       "      <td>1,050 feet</td>\n",
       "    </tr>\n",
       "    <tr>\n",
       "      <th>24</th>\n",
       "      <td>25</td>\n",
       "      <td>New Hampshire</td>\n",
       "      <td>6,288 feet</td>\n",
       "      <td>Sea level</td>\n",
       "      <td>1,000 feet</td>\n",
       "    </tr>\n",
       "    <tr>\n",
       "      <th>25</th>\n",
       "      <td>26</td>\n",
       "      <td>New York</td>\n",
       "      <td>5,344 feet</td>\n",
       "      <td>Sea level</td>\n",
       "      <td>1,000 feet</td>\n",
       "    </tr>\n",
       "    <tr>\n",
       "      <th>26</th>\n",
       "      <td>27</td>\n",
       "      <td>Vermont</td>\n",
       "      <td>4,393 feet</td>\n",
       "      <td>95 feet</td>\n",
       "      <td>1,000 feet</td>\n",
       "    </tr>\n",
       "    <tr>\n",
       "      <th>27</th>\n",
       "      <td>28</td>\n",
       "      <td>Virginia</td>\n",
       "      <td>5,729 feet</td>\n",
       "      <td>Sea level</td>\n",
       "      <td>950 feet</td>\n",
       "    </tr>\n",
       "    <tr>\n",
       "      <th>28</th>\n",
       "      <td>29</td>\n",
       "      <td>Tennessee</td>\n",
       "      <td>6,643 feet</td>\n",
       "      <td>178 feet</td>\n",
       "      <td>900 feet</td>\n",
       "    </tr>\n",
       "    <tr>\n",
       "      <th>29</th>\n",
       "      <td>30</td>\n",
       "      <td>Michigan</td>\n",
       "      <td>1,979 feet</td>\n",
       "      <td>572 feet</td>\n",
       "      <td>900 feet</td>\n",
       "    </tr>\n",
       "    <tr>\n",
       "      <th>30</th>\n",
       "      <td>31</td>\n",
       "      <td>Ohio</td>\n",
       "      <td>1,549 feet</td>\n",
       "      <td>455 feet</td>\n",
       "      <td>850 feet</td>\n",
       "    </tr>\n",
       "    <tr>\n",
       "      <th>31</th>\n",
       "      <td>32</td>\n",
       "      <td>Missouri</td>\n",
       "      <td>1,772 feet</td>\n",
       "      <td>230 feet</td>\n",
       "      <td>800 feet</td>\n",
       "    </tr>\n",
       "    <tr>\n",
       "      <th>32</th>\n",
       "      <td>33</td>\n",
       "      <td>Kentucky</td>\n",
       "      <td>4,139 feet</td>\n",
       "      <td>257 feet</td>\n",
       "      <td>750 feet</td>\n",
       "    </tr>\n",
       "    <tr>\n",
       "      <th>33</th>\n",
       "      <td>34</td>\n",
       "      <td>North Carolina</td>\n",
       "      <td>6,684 feet</td>\n",
       "      <td>Sea level</td>\n",
       "      <td>700 feet</td>\n",
       "    </tr>\n",
       "    <tr>\n",
       "      <th>34</th>\n",
       "      <td>35</td>\n",
       "      <td>Indiana</td>\n",
       "      <td>1,257 feet</td>\n",
       "      <td>320 feet</td>\n",
       "      <td>700 feet</td>\n",
       "    </tr>\n",
       "    <tr>\n",
       "      <th>35</th>\n",
       "      <td>36</td>\n",
       "      <td>Arkansas</td>\n",
       "      <td>2,753 feet</td>\n",
       "      <td>55 feet</td>\n",
       "      <td>650 feet</td>\n",
       "    </tr>\n",
       "    <tr>\n",
       "      <th>36</th>\n",
       "      <td>37</td>\n",
       "      <td>Maine</td>\n",
       "      <td>5,276 feet</td>\n",
       "      <td>Sea level</td>\n",
       "      <td>600 feet</td>\n",
       "    </tr>\n",
       "    <tr>\n",
       "      <th>37</th>\n",
       "      <td>38</td>\n",
       "      <td>Georgia</td>\n",
       "      <td>4,784 feet</td>\n",
       "      <td>Sea level</td>\n",
       "      <td>600 feet</td>\n",
       "    </tr>\n",
       "    <tr>\n",
       "      <th>38</th>\n",
       "      <td>39</td>\n",
       "      <td>Illinois</td>\n",
       "      <td>1,235 feet</td>\n",
       "      <td>279 feet</td>\n",
       "      <td>600 feet</td>\n",
       "    </tr>\n",
       "    <tr>\n",
       "      <th>39</th>\n",
       "      <td>40</td>\n",
       "      <td>Massachusetts</td>\n",
       "      <td>3,487 feet</td>\n",
       "      <td>Sea level</td>\n",
       "      <td>500 feet</td>\n",
       "    </tr>\n",
       "    <tr>\n",
       "      <th>40</th>\n",
       "      <td>41</td>\n",
       "      <td>Alabama</td>\n",
       "      <td>2,407 feet</td>\n",
       "      <td>Sea level</td>\n",
       "      <td>500 feet</td>\n",
       "    </tr>\n",
       "    <tr>\n",
       "      <th>41</th>\n",
       "      <td>42</td>\n",
       "      <td>Connecticut</td>\n",
       "      <td>2,380 feet</td>\n",
       "      <td>Sea level</td>\n",
       "      <td>500 feet</td>\n",
       "    </tr>\n",
       "    <tr>\n",
       "      <th>42</th>\n",
       "      <td>43</td>\n",
       "      <td>South Carolina</td>\n",
       "      <td>3,560 feet</td>\n",
       "      <td>Sea level</td>\n",
       "      <td>350 feet</td>\n",
       "    </tr>\n",
       "    <tr>\n",
       "      <th>43</th>\n",
       "      <td>44</td>\n",
       "      <td>Maryland</td>\n",
       "      <td>3,360 feet</td>\n",
       "      <td>Sea level</td>\n",
       "      <td>350 feet</td>\n",
       "    </tr>\n",
       "    <tr>\n",
       "      <th>44</th>\n",
       "      <td>45</td>\n",
       "      <td>Mississippi</td>\n",
       "      <td>806 feet</td>\n",
       "      <td>Sea level</td>\n",
       "      <td>300 feet</td>\n",
       "    </tr>\n",
       "    <tr>\n",
       "      <th>45</th>\n",
       "      <td>46</td>\n",
       "      <td>New Jersey</td>\n",
       "      <td>1,803 feet</td>\n",
       "      <td>Sea level</td>\n",
       "      <td>250 feet</td>\n",
       "    </tr>\n",
       "    <tr>\n",
       "      <th>46</th>\n",
       "      <td>47</td>\n",
       "      <td>Rhode Island</td>\n",
       "      <td>812 feet</td>\n",
       "      <td>Sea level</td>\n",
       "      <td>200 feet</td>\n",
       "    </tr>\n",
       "    <tr>\n",
       "      <th>47</th>\n",
       "      <td>48</td>\n",
       "      <td>Louisiana</td>\n",
       "      <td>535 feet</td>\n",
       "      <td>-8 feet</td>\n",
       "      <td>100 feet</td>\n",
       "    </tr>\n",
       "    <tr>\n",
       "      <th>48</th>\n",
       "      <td>49</td>\n",
       "      <td>Florida</td>\n",
       "      <td>345 feet</td>\n",
       "      <td>Sea level</td>\n",
       "      <td>100 feet</td>\n",
       "    </tr>\n",
       "    <tr>\n",
       "      <th>49</th>\n",
       "      <td>50</td>\n",
       "      <td>Delaware</td>\n",
       "      <td>450 feet</td>\n",
       "      <td>Sea level</td>\n",
       "      <td>60 feet</td>\n",
       "    </tr>\n",
       "  </tbody>\n",
       "</table>\n",
       "</div>"
      ],
      "text/plain": [
       "    Rank           State Highest elevation Lowest elevation Average elevation\n",
       "0      1        Colorado       14,440 feet       3,315 feet        6,800 feet\n",
       "1      2         Wyoming       13,804 feet       3,099 feet        6,700 feet\n",
       "2      3            Utah       13,528 feet       2,000 feet        6,100 feet\n",
       "3      4      New Mexico       13,161 feet       2,842 feet        5,700 feet\n",
       "4      5          Nevada       13,140 feet         479 feet        5,500 feet\n",
       "5      6           Idaho       12,662 feet         710 feet        5,000 feet\n",
       "6      7         Arizona       12,633 feet          70 feet        4,100 feet\n",
       "7      8         Montana       12,799 feet       1,800 feet        3,400 feet\n",
       "8      9          Oregon       11,239 feet        Sea level        3,300 feet\n",
       "9     10          Hawaii       13,796 feet        Sea level        3,030 feet\n",
       "10    11      California       14,494 feet        -282 feet        2,900 feet\n",
       "11    12        Nebraska        5,424 feet         840 feet        2,600 feet\n",
       "12    13    South Dakota        7,242 feet         966 feet        2,200 feet\n",
       "13    14          Kansas        4,039 feet         679 feet        2,000 feet\n",
       "14    15          Alaska       20,320 feet        Sea level        1,900 feet\n",
       "15    16    North Dakota        3,506 feet         750 feet        1,900 feet\n",
       "16    17      Washington       14,410 feet        Sea level        1,700 feet\n",
       "17    18           Texas        8,749 feet        Sea level        1,700 feet\n",
       "18    19   West Virginia        4,863 feet         240 feet        1,500 feet\n",
       "19    20        Oklahoma        4,973 feet         289 feet        1,300 feet\n",
       "20    21       Minnesota        2,301 feet         602 feet        1,200 feet\n",
       "21    22    Pennsylvania        3,213 feet        Sea level        1,100 feet\n",
       "22    23            Iowa        1,670 feet         480 feet        1,100 feet\n",
       "23    24       Wisconsin        1,951 feet         581 feet        1,050 feet\n",
       "24    25   New Hampshire        6,288 feet        Sea level        1,000 feet\n",
       "25    26        New York        5,344 feet        Sea level        1,000 feet\n",
       "26    27         Vermont        4,393 feet          95 feet        1,000 feet\n",
       "27    28        Virginia        5,729 feet        Sea level          950 feet\n",
       "28    29       Tennessee        6,643 feet         178 feet          900 feet\n",
       "29    30        Michigan        1,979 feet         572 feet          900 feet\n",
       "30    31            Ohio        1,549 feet         455 feet          850 feet\n",
       "31    32        Missouri        1,772 feet         230 feet          800 feet\n",
       "32    33        Kentucky        4,139 feet         257 feet          750 feet\n",
       "33    34  North Carolina        6,684 feet        Sea level          700 feet\n",
       "34    35         Indiana        1,257 feet         320 feet          700 feet\n",
       "35    36        Arkansas        2,753 feet          55 feet          650 feet\n",
       "36    37           Maine        5,276 feet        Sea level          600 feet\n",
       "37    38         Georgia        4,784 feet        Sea level          600 feet\n",
       "38    39        Illinois        1,235 feet         279 feet          600 feet\n",
       "39    40   Massachusetts        3,487 feet        Sea level          500 feet\n",
       "40    41         Alabama        2,407 feet        Sea level          500 feet\n",
       "41    42     Connecticut        2,380 feet        Sea level          500 feet\n",
       "42    43  South Carolina        3,560 feet        Sea level          350 feet\n",
       "43    44        Maryland        3,360 feet        Sea level          350 feet\n",
       "44    45     Mississippi          806 feet        Sea level          300 feet\n",
       "45    46      New Jersey        1,803 feet        Sea level          250 feet\n",
       "46    47    Rhode Island          812 feet        Sea level          200 feet\n",
       "47    48       Louisiana          535 feet          -8 feet          100 feet\n",
       "48    49         Florida          345 feet        Sea level          100 feet\n",
       "49    50        Delaware          450 feet        Sea level           60 feet"
      ]
     },
     "execution_count": 6,
     "metadata": {},
     "output_type": "execute_result"
    }
   ],
   "source": [
    "elevation"
   ]
  },
  {
   "cell_type": "markdown",
   "metadata": {},
   "source": [
    "This data is easy to read, but had to compute with. First off, we have numeric values except for \"Sea level\". We can use ``replace`` to replace \"Sea level\" with \"0 feet\" to match the other cells"
   ]
  },
  {
   "cell_type": "code",
   "execution_count": null,
   "metadata": {
    "collapsed": true
   },
   "outputs": [],
   "source": [
    "elevation.replace(\"Sea level\",\"0 feet\")\n"
   ]
  },
  {
   "cell_type": "markdown",
   "metadata": {},
   "source": [
    "We can also use regular expressions to identify and change data."
   ]
  },
  {
   "cell_type": "code",
   "execution_count": null,
   "metadata": {
    "collapsed": true
   },
   "outputs": [],
   "source": [
    "import re\n",
    "r2 = re.compile(\"feet\")"
   ]
  },
  {
   "cell_type": "code",
   "execution_count": null,
   "metadata": {
    "collapsed": true
   },
   "outputs": [],
   "source": [
    "elevation.replace(\"Sea level\",\"0 feet\").replace(r2,\"\").to_csv(os.path.join(DATADIR,\n",
    "                                                                           \"elevation2.txt\"),\n",
    "                                                             sep=\"\\t\")\n",
    "elevation2=elevation.replace(\"Sea level\",\"0 feet\").replace(r2,\"\")\n",
    "elevation2"
   ]
  },
  {
   "cell_type": "markdown",
   "metadata": {},
   "source": [
    "## What is the data type of the elevation cells"
   ]
  },
  {
   "cell_type": "code",
   "execution_count": null,
   "metadata": {
    "collapsed": true
   },
   "outputs": [],
   "source": [
    "print(elevation2[\"Highest elevation\"][0])\n",
    "print(type(elevation2[\"Highest elevation\"][0]))\n"
   ]
  },
  {
   "cell_type": "markdown",
   "metadata": {},
   "source": [
    "## Can we convert elevations to numeric values"
   ]
  },
  {
   "cell_type": "code",
   "execution_count": null,
   "metadata": {
    "collapsed": true
   },
   "outputs": [],
   "source": [
    "help(elevation2.convert_objects)"
   ]
  },
  {
   "cell_type": "code",
   "execution_count": null,
   "metadata": {
    "collapsed": true
   },
   "outputs": [],
   "source": [
    "elevation2.convert_objects(convert_numeric=True)"
   ]
  },
  {
   "cell_type": "markdown",
   "metadata": {},
   "source": [
    "### Pandas didn't know how to deal with \",\" in numbers\n",
    "\n",
    "* Two approaches\n",
    "    1. When reading in numeric values we can specify the ``thousands`` keywoard\n",
    "    2. We can use the [``locale``](https://docs.python.org/3.5/library/locale.html#module-locale) package\n",
    "* I saved the dataframe where we had replaced ``Sea level`` and ``feet``"
   ]
  },
  {
   "cell_type": "code",
   "execution_count": null,
   "metadata": {
    "collapsed": true
   },
   "outputs": [],
   "source": [
    "pd.read_table(os.path.join(DATADIR,\"elevation2.txt\"),\n",
    "                           thousands=\",\",\n",
    "                           index_col='State')"
   ]
  },
  {
   "cell_type": "code",
   "execution_count": null,
   "metadata": {
    "collapsed": true
   },
   "outputs": [],
   "source": [
    "import locale\n",
    "print(locale.getlocale())\n"
   ]
  },
  {
   "cell_type": "code",
   "execution_count": null,
   "metadata": {
    "collapsed": true
   },
   "outputs": [],
   "source": [
    "help(locale.setlocale)"
   ]
  },
  {
   "cell_type": "code",
   "execution_count": null,
   "metadata": {
    "collapsed": true
   },
   "outputs": [],
   "source": [
    "locale.setlocale(locale.LC_NUMERIC, '') # I'm a little confused by this\n",
    "elevation2['Lowest elevation'] = \\\n",
    "elevation2.apply(lambda row: locale.atof(row['Lowest elevation']),\n",
    "                     axis=1)\n",
    "elevation2['Highest elevation'] = \\\n",
    "elevation2.apply(lambda row: locale.atof(row['Highest elevation']),\n",
    "                     axis=1)\n",
    "elevation2['Average elevation'] = \\\n",
    "elevation2.apply(lambda row: locale.atof(row['Average elevation']),\n",
    "                     axis=1)\n",
    "elevation2"
   ]
  },
  {
   "cell_type": "code",
   "execution_count": null,
   "metadata": {
    "collapsed": true
   },
   "outputs": [],
   "source": [
    "conversion = locale.localeconv()\n",
    "locale.getlocale()"
   ]
  },
  {
   "cell_type": "markdown",
   "metadata": {},
   "source": [
    "## Creating a new column"
   ]
  },
  {
   "cell_type": "code",
   "execution_count": null,
   "metadata": {
    "collapsed": true
   },
   "outputs": [],
   "source": [
    "elevation2['Range elevation'] = \\\n",
    "elevation2.apply(lambda row: row['Highest elevation'] - \n",
    "                             row['Lowest elevation'],axis=1 )\n",
    "elevation2"
   ]
  },
  {
   "cell_type": "markdown",
   "metadata": {},
   "source": [
    "## Dropping Rows based on values"
   ]
  },
  {
   "cell_type": "code",
   "execution_count": null,
   "metadata": {
    "collapsed": true
   },
   "outputs": [],
   "source": [
    "elevation2[elevation2['Highest elevation'] > 8000]"
   ]
  },
  {
   "cell_type": "code",
   "execution_count": null,
   "metadata": {
    "collapsed": true
   },
   "outputs": [],
   "source": [
    "pd.read_table(os.path.join(DATADIR,\"mimic2_radreports_100.txt\"))"
   ]
  },
  {
   "cell_type": "markdown",
   "metadata": {},
   "source": [
    "### ``dropna()``\n",
    "\n",
    "``dropna()`` allows us to drop rows and columns that have **any** or **all** NaN values"
   ]
  },
  {
   "cell_type": "code",
   "execution_count": null,
   "metadata": {
    "collapsed": true
   },
   "outputs": [],
   "source": [
    "pd.read_table(\n",
    "        os.path.join(DATADIR,\n",
    "                     \"mimic2_radreports_100.txt\")).dropna(how=\"all\")"
   ]
  },
  {
   "cell_type": "code",
   "execution_count": null,
   "metadata": {
    "collapsed": true
   },
   "outputs": [],
   "source": [
    "reports = pd.read_table(\n",
    "        os.path.join(DATADIR,\n",
    "                     \"mimic2_radreports_100.txt\"),\n",
    "                       usecols=[\"subject_id\", \"charttime\", \"text\"]).dropna(how=\"all\")"
   ]
  },
  {
   "cell_type": "code",
   "execution_count": null,
   "metadata": {
    "collapsed": true
   },
   "outputs": [],
   "source": [
    "reports.head()"
   ]
  },
  {
   "cell_type": "code",
   "execution_count": null,
   "metadata": {
    "collapsed": true
   },
   "outputs": [],
   "source": [
    "reports.iloc[0][\"text\"]"
   ]
  },
  {
   "cell_type": "code",
   "execution_count": null,
   "metadata": {
    "collapsed": true
   },
   "outputs": [],
   "source": []
  }
 ],
 "metadata": {
  "anaconda-cloud": {},
  "kernelspec": {
   "display_name": "Python 3",
   "language": "python",
   "name": "python3"
  },
  "language_info": {
   "codemirror_mode": {
    "name": "ipython",
    "version": 3
   },
   "file_extension": ".py",
   "mimetype": "text/x-python",
   "name": "python",
   "nbconvert_exporter": "python",
   "pygments_lexer": "ipython3",
   "version": "3.5.2"
  }
 },
 "nbformat": 4,
 "nbformat_minor": 1
}

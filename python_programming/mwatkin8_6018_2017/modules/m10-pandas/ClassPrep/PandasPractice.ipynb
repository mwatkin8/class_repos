{
 "cells": [
  {
   "cell_type": "code",
   "execution_count": null,
   "metadata": {},
   "outputs": [],
   "source": [
    "import pandas as pd\n",
    "from IPython.display import HTML, display\n",
    "import pandas_practice as pp\n",
    "import importlib\n",
    "import numpy as np"
   ]
  },
  {
   "cell_type": "code",
   "execution_count": null,
   "metadata": {},
   "outputs": [],
   "source": [
    "importlib.reload(pp)"
   ]
  },
  {
   "cell_type": "markdown",
   "metadata": {},
   "source": [
    "### Install lxml\n",
    "\n",
    "For one of the practice problems, you will need to install lxml"
   ]
  },
  {
   "cell_type": "code",
   "execution_count": null,
   "metadata": {},
   "outputs": [],
   "source": [
    "#!conda install lxml -y"
   ]
  },
  {
   "cell_type": "markdown",
   "metadata": {},
   "source": [
    "## Problem 1: Reading in a compressed data File\n",
    "\n",
    "`yob1883.txt.gz` and `yob1983.txt.gz` are files containing the names for male and female babies born in 1883 and 1983 respectively (down to names occuring at least 5 times each year). They are compressed with the Gnuzip  (gzip) algorithm. Can you read these files directly into a Pandas DataFrame via Pandas (that is, without first uncompressing the files)?\n",
    "\n",
    "<table border=\"1\" class=\"dataframe\">\n",
    "  <thead>\n",
    "    <tr style=\"text-align: right;\">\n",
    "      <th></th>\n",
    "      <th>0</th>\n",
    "      <th>1</th>\n",
    "      <th>2</th>\n",
    "    </tr>\n",
    "  </thead>\n",
    "  <tbody>\n",
    "    <tr>\n",
    "      <th>0</th>\n",
    "      <td>Mary</td>\n",
    "      <td>F</td>\n",
    "      <td>8012</td>\n",
    "    </tr>\n",
    "    <tr>\n",
    "      <th>1</th>\n",
    "      <td>Anna</td>\n",
    "      <td>F</td>\n",
    "      <td>3306</td>\n",
    "    </tr>\n",
    "    <tr>\n",
    "      <th>2</th>\n",
    "      <td>Emma</td>\n",
    "      <td>F</td>\n",
    "      <td>2367</td>\n",
    "    </tr>\n",
    "    <tr>\n",
    "      <th>3</th>\n",
    "      <td>Elizabeth</td>\n",
    "      <td>F</td>\n",
    "      <td>2255</td>\n",
    "    </tr>\n",
    "    <tr>\n",
    "      <th>4</th>\n",
    "      <td>Minnie</td>\n",
    "      <td>F</td>\n",
    "      <td>2035</td>\n",
    "    </tr>\n",
    "  </tbody>\n",
    "</table>"
   ]
  },
  {
   "cell_type": "code",
   "execution_count": null,
   "metadata": {},
   "outputs": [],
   "source": []
  },
  {
   "cell_type": "markdown",
   "metadata": {},
   "source": [
    "## Problem 2: Reading in Parts of Files\n",
    "\n",
    "* For 1883 the female names end on line 1054\n",
    "* For 1983 the female names end on line 12065\n",
    "\n",
    "\n",
    "### Read in just the rows with female names and separately just the rows with male names\n",
    "\n",
    "* Use the `head()` and `tail()` methods to check your results\n",
    "* For 1883\n",
    "    * Mary is the first female name and Zoa is the last female name\n",
    "    * John is the first male name and Winthrop is the last male name\n",
    "* For 1983 \n",
    "    * Jennifer is the first female name and Zulaika is the last female name\n",
    "    * Michael is the first male name and Zoran is the last male name"
   ]
  },
  {
   "cell_type": "code",
   "execution_count": null,
   "metadata": {},
   "outputs": [],
   "source": []
  },
  {
   "cell_type": "code",
   "execution_count": null,
   "metadata": {},
   "outputs": [],
   "source": [
    "\n",
    "yob1883_female, yob1883_male, yob1983_female, yob1983_male = \\\n",
    "    pp.problem2()\n",
    "display(HTML(\"<h2>1983 Female Head</h2>\"))\n",
    "display(yob1983_female.head())\n",
    "display(HTML(\"<h2>1983 Female Tail</h2>\"))\n",
    "\n",
    "display(yob1983_female.tail())\n",
    "display(HTML(\"<h2>1983 Male Head</h2>\"))\n",
    "\n",
    "display(yob1983_male.head())\n",
    "display(HTML(\"<h2>1983 Male Tail</h2>\"))\n",
    "\n",
    "display(yob1983_male.tail())"
   ]
  },
  {
   "cell_type": "code",
   "execution_count": null,
   "metadata": {},
   "outputs": [],
   "source": [
    "display(HTML(\"<h2>1883 Female Head</h2>\"))\n",
    "display(yob1883_female.head())\n",
    "display(HTML(\"<h2>1883 Female Tail</h2>\"))\n",
    "\n",
    "display(yob1883_female.tail())\n",
    "display(HTML(\"<h2>1883 Male Head</h2>\"))\n",
    "\n",
    "display(yob1883_male.head())\n",
    "display(HTML(\"<h2>1883 Male Tail</h2>\"))\n",
    "\n",
    "display(yob1883_male.tail())"
   ]
  },
  {
   "cell_type": "markdown",
   "metadata": {},
   "source": [
    "## Problem 3:\n",
    "\n",
    "What is the count of male (female) names that occurred both in 1883 and 1983? What proportion of male (female) names does that count represent?"
   ]
  },
  {
   "cell_type": "code",
   "execution_count": null,
   "metadata": {},
   "outputs": [],
   "source": []
  },
  {
   "cell_type": "code",
   "execution_count": null,
   "metadata": {},
   "outputs": [],
   "source": [
    "pp.problem3(yob1883_male, yob1983_male)"
   ]
  },
  {
   "cell_type": "code",
   "execution_count": null,
   "metadata": {},
   "outputs": [],
   "source": [
    "pp.problem3(yob1883_female, yob1983_female)"
   ]
  },
  {
   "cell_type": "markdown",
   "metadata": {},
   "source": [
    "## Problem 4\n",
    "\n",
    "Are names shared between the sexes more common in 1983 or 1883?"
   ]
  },
  {
   "cell_type": "code",
   "execution_count": null,
   "metadata": {},
   "outputs": [],
   "source": []
  },
  {
   "cell_type": "code",
   "execution_count": null,
   "metadata": {},
   "outputs": [],
   "source": [
    "pp.problem3(yob1883_male, yob1883_female)"
   ]
  },
  {
   "cell_type": "code",
   "execution_count": null,
   "metadata": {},
   "outputs": [],
   "source": [
    "pp.problem3(yob1983_male, yob1983_female)"
   ]
  },
  {
   "cell_type": "markdown",
   "metadata": {},
   "source": [
    "## Problem 5\n",
    "\n",
    "Did your name occur in 1883, 1983?"
   ]
  },
  {
   "cell_type": "code",
   "execution_count": null,
   "metadata": {},
   "outputs": [],
   "source": []
  },
  {
   "cell_type": "code",
   "execution_count": null,
   "metadata": {},
   "outputs": [],
   "source": []
  },
  {
   "cell_type": "code",
   "execution_count": null,
   "metadata": {},
   "outputs": [],
   "source": [
    "pp.problem5(\"Brian\", yob1883_male)"
   ]
  },
  {
   "cell_type": "code",
   "execution_count": null,
   "metadata": {},
   "outputs": [],
   "source": [
    "pp.problem5(\"Brian\", yob1983_male)"
   ]
  },
  {
   "cell_type": "markdown",
   "metadata": {},
   "source": [
    "## Selecting Data\n",
    "\n",
    "We can select parts of a DataFrame by creating a boolean array of values and keeping only those elements with a True value. To illustrate this, I'm going to first create a DataFrame from a random selection."
   ]
  },
  {
   "cell_type": "code",
   "execution_count": null,
   "metadata": {},
   "outputs": [],
   "source": [
    "names = pp.problem1(\"yob1983.txt.gz\")\n",
    "random_names = names.sample(n=1000)\n",
    "print(random_names.shape)\n",
    "random_names.head()"
   ]
  },
  {
   "cell_type": "markdown",
   "metadata": {},
   "source": [
    "I can use the `apply` method to ask a question"
   ]
  },
  {
   "cell_type": "code",
   "execution_count": null,
   "metadata": {},
   "outputs": [],
   "source": [
    "(random_names[0].apply( lambda x: \"K\" in x)).head(10)"
   ]
  },
  {
   "cell_type": "code",
   "execution_count": null,
   "metadata": {},
   "outputs": [],
   "source": [
    "random_names[random_names[0].apply( lambda x: \"K\" in x)].head(10)"
   ]
  },
  {
   "cell_type": "markdown",
   "metadata": {},
   "source": [
    "Or just ask questions about the column"
   ]
  },
  {
   "cell_type": "code",
   "execution_count": null,
   "metadata": {},
   "outputs": [],
   "source": [
    "(random_names[2] > 300).head(10)"
   ]
  },
  {
   "cell_type": "code",
   "execution_count": null,
   "metadata": {},
   "outputs": [],
   "source": [
    "random_names[random_names[2] > 300].head(10)"
   ]
  },
  {
   "cell_type": "markdown",
   "metadata": {},
   "source": [
    "We can combine the questions with a element wise AND operator `&`"
   ]
  },
  {
   "cell_type": "code",
   "execution_count": null,
   "metadata": {},
   "outputs": [],
   "source": [
    "((random_names[0].apply( lambda x: \"K\" in x)) & (random_names[2] > 300)).head()"
   ]
  },
  {
   "cell_type": "code",
   "execution_count": null,
   "metadata": {},
   "outputs": [],
   "source": [
    "random_names[((random_names[0].apply( lambda x: \"K\" in x)) & (random_names[2] > 300))]"
   ]
  },
  {
   "cell_type": "markdown",
   "metadata": {},
   "source": [
    "## Problem 6\n",
    "Use boolean selection to create separate DataFrames of male and female names from `names`, a DataFrame containing all the male and female names."
   ]
  },
  {
   "cell_type": "code",
   "execution_count": null,
   "metadata": {},
   "outputs": [],
   "source": []
  },
  {
   "cell_type": "code",
   "execution_count": null,
   "metadata": {},
   "outputs": [],
   "source": [
    "female_names, male_names = pp.problem6(\"yob1983.txt.gz\")"
   ]
  },
  {
   "cell_type": "code",
   "execution_count": null,
   "metadata": {},
   "outputs": [],
   "source": [
    "display(HTML(\"<h3>Female 1983</h3>\"))\n",
    "display(female_names.head(10))\n",
    "display(HTML(\"<h3>Male 1983</h3>\"))\n",
    "display(male_names.head(10))\n"
   ]
  },
  {
   "cell_type": "markdown",
   "metadata": {},
   "source": [
    "## Filtering with `isin`\n",
    "\n",
    "I can ask questions about a column with the `isin` method"
   ]
  },
  {
   "cell_type": "code",
   "execution_count": null,
   "metadata": {},
   "outputs": [],
   "source": [
    "names[names[0].isin([\"Brian\", \"Bryan\", \"Briana\", \"Brianna\"])]"
   ]
  },
  {
   "cell_type": "markdown",
   "metadata": {},
   "source": [
    "## Problem 7\n",
    "\n",
    "Create a DataFrame with all the rows that have names that occur for both females and males."
   ]
  },
  {
   "cell_type": "code",
   "execution_count": null,
   "metadata": {},
   "outputs": [],
   "source": [
    "mf_names = pp.problem7(\"yob1983.txt.gz\")\n",
    "mf_names.sample(frac=1).sort([0,2]).head(20)"
   ]
  },
  {
   "cell_type": "markdown",
   "metadata": {},
   "source": [
    "## Problem 8\n",
    "Use Pandas to read in a DataFrame from the \"top100-icd9.html\" file"
   ]
  },
  {
   "cell_type": "markdown",
   "metadata": {},
   "source": []
  },
  {
   "cell_type": "code",
   "execution_count": null,
   "metadata": {},
   "outputs": [],
   "source": [
    "pp.problem8(\"top100-icd9.html\").head(20)"
   ]
  },
  {
   "cell_type": "code",
   "execution_count": null,
   "metadata": {},
   "outputs": [],
   "source": []
  }
 ],
 "metadata": {
  "kernelspec": {
   "display_name": "Python 3",
   "language": "python",
   "name": "python3"
  },
  "language_info": {
   "codemirror_mode": {
    "name": "ipython",
    "version": 3
   },
   "file_extension": ".py",
   "mimetype": "text/x-python",
   "name": "python",
   "nbconvert_exporter": "python",
   "pygments_lexer": "ipython3",
   "version": "3.5.2"
  }
 },
 "nbformat": 4,
 "nbformat_minor": 2
}

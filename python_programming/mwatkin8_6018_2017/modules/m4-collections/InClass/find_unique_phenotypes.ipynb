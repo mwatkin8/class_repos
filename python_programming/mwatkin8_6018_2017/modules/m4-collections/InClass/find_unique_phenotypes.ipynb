{
 "cells": [
  {
   "cell_type": "markdown",
   "metadata": {},
   "source": [
    "# Unique Phenotypes\n",
    "\n",
    "You have been given a file that consists of phenotypes that have been assigned to individual cardiology patients. The data was supposed to have been entered as a table with two columns per patient. The first column was to be a single, primary phenotype for a patient. The second column was to be a comma separated list of secondary phenotypes for that patient. Unfortunately, data entry did not follow this prescription and was inconsistent. Sometimes multiple phenotypes are provided in column one, sometimes a different delimiter than a comma is used.\n",
    "\n",
    "Your task is to provide an alphabetically sorted list of unique phenotypes encountered in the data. Missing values are denoted by an empty string and should **not** be treated as a phenotype.\n",
    "\n",
    "As a side note, the researcher responsible for this data would also like to know what delimiters were used in data entry.\n",
    "\n",
    "I have used Pandas to read the data in and convert it to a list for you to start with."
   ]
  },
  {
   "cell_type": "code",
   "execution_count": null,
   "metadata": {},
   "outputs": [],
   "source": [
    "import pandas as pd"
   ]
  },
  {
   "cell_type": "code",
   "execution_count": null,
   "metadata": {},
   "outputs": [],
   "source": [
    "data = pd.read_excel(\"./create_uniq_phenotypes.xlsx\", header=None)\n",
    "print(data.columns)\n",
    "data.tail(20)"
   ]
  },
  {
   "cell_type": "code",
   "execution_count": null,
   "metadata": {},
   "outputs": [],
   "source": [
    "data = [\" \".join(d) for d in data.fillna(\"\").values.tolist()]\n"
   ]
  },
  {
   "cell_type": "code",
   "execution_count": null,
   "metadata": {},
   "outputs": [],
   "source": [
    "data"
   ]
  },
  {
   "cell_type": "code",
   "execution_count": null,
   "metadata": {},
   "outputs": [],
   "source": [
    "data_list[20:40]"
   ]
  },
  {
   "cell_type": "code",
   "execution_count": null,
   "metadata": {},
   "outputs": [],
   "source": [
    "B = []\n",
    "B.extend(\"Brian\".split(\",\"))\n",
    "B"
   ]
  },
  {
   "cell_type": "code",
   "execution_count": null,
   "metadata": {},
   "outputs": [],
   "source": []
  }
 ],
 "metadata": {
  "anaconda-cloud": {},
  "kernelspec": {
   "display_name": "Python 3",
   "language": "python",
   "name": "python3"
  },
  "language_info": {
   "codemirror_mode": {
    "name": "ipython",
    "version": 3
   },
   "file_extension": ".py",
   "mimetype": "text/x-python",
   "name": "python",
   "nbconvert_exporter": "python",
   "pygments_lexer": "ipython3",
   "version": "3.5.2"
  }
 },
 "nbformat": 4,
 "nbformat_minor": 1
}

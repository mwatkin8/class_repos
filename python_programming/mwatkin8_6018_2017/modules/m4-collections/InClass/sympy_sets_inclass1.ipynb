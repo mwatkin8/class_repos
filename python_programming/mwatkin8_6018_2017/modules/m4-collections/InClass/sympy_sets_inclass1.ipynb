{
 "cells": [
  {
   "cell_type": "markdown",
   "metadata": {
    "deletable": false,
    "editable": false,
    "nbgrader": {
     "checksum": "d0834e638f56a804f3f974d4f592dff1",
     "grade": false,
     "grade_id": "cell-0a9ae4b0ce939e87",
     "locked": true,
     "schema_version": 1,
     "solution": false
    }
   },
   "source": [
    "# Sets In-class\n",
    "## What is the cardinality of the following sets?\n",
    "\n",
    "* $ S_1 = \\{i\\%7 : \\forall i \\in \\mathbb{Z}\\}$\n",
    "* $ S_2 = \\{x | x \\in \\mathbb{R} \\text{ and } 0 \\le x \\lt 1\\}$\n",
    "* $S_3$ equals the set of square roots of 1\n",
    "* $D$ where\n",
    "$$\n",
    "A = \\{1,2,3,4\\}\\\\\n",
    "B = \\{4, 5, 6\\}\\\\\n",
    "C = \\{1, 3, 5, 7, 9, 11\\}\\\\\n",
    "D = (A\\cup B)\\cap C\n",
    "$$"
   ]
  },
  {
   "cell_type": "markdown",
   "metadata": {},
   "source": [
    "* $ S_1 = \\{i\\%7=0 : \\forall i \\in \\mathbb{Z}\\}$\n",
    "$S_1$ is the set of ($\\forall$=\"for all\") integers that are divisible by 7. This is an infinite set (cardinality $\\infty$).\n",
    "* $ S_2 = \\{x | x \\in \\mathbb{R} \\text{ and } 0 \\le x \\lt 1\\}$\n",
    "$S_2$ is the set of $x$ where $x$ is a real number and zero is less than or equal to $x$ which is less than 1. This is an infite set with cardinality $\\infty$.\n",
    "* $S_3$ equals the set of square roots of 1.\n",
    "1 has two roots: -1, 1. So cardinality is 2.\n",
    "* $D$ Union is an `or` concept and intersection is an `and` concept. So $D$ is the set of all numbers that are in either A OR B and that are also in $C$: $D=\\{1,3, 5\\}$ so cardinality of 3."
   ]
  },
  {
   "cell_type": "markdown",
   "metadata": {},
   "source": []
  },
  {
   "cell_type": "code",
   "execution_count": null,
   "metadata": {
    "deletable": false,
    "editable": false,
    "nbgrader": {
     "checksum": "76a324209f903beb6b3dbecd13cd4359",
     "grade": false,
     "grade_id": "cell-a4796dc0133671b2",
     "locked": true,
     "schema_version": 1,
     "solution": false
    }
   },
   "outputs": [],
   "source": [
    "from sympy import FiniteSet, S, Symbol\n",
    "from nose.tools import assert_true, assert_equal, assert_false\n",
    "import numpy as np"
   ]
  },
  {
   "cell_type": "code",
   "execution_count": null,
   "metadata": {
    "deletable": false,
    "editable": false,
    "nbgrader": {
     "checksum": "573a7161ceb95fd2a854aea6cbcfbb8d",
     "grade": false,
     "grade_id": "cell-29cb8637d8c6a5c4",
     "locked": true,
     "schema_version": 1,
     "solution": false
    }
   },
   "outputs": [],
   "source": [
    "import sympy.sets.fancysets"
   ]
  },
  {
   "cell_type": "markdown",
   "metadata": {
    "deletable": false,
    "editable": false,
    "nbgrader": {
     "checksum": "009a49e2d3161918ff9e6025eafd44c6",
     "grade": false,
     "grade_id": "cell-4eb869a4eb627466",
     "locked": true,
     "schema_version": 1,
     "solution": false
    }
   },
   "source": [
    "#### `S` defines the special  sets\n",
    "* `UniversalSet` ($U$)\n",
    "* `EmptySet` ($\\varnothing$)\n",
    "* `Integers` ($\\mathbb{Z}$)\n",
    "* `Reals` ($\\mathbb{R}$)\n",
    "\n",
    "Each of these sets has the methods:\n",
    "\n",
    "* `is_subset`\n",
    "* `is_proper_subset`\n",
    "#### Answer the following qeustions\n",
    "\n",
    "* $\\varnothing \\subseteq U$?\n",
    "* $\\mathbb{R} \\subseteq \\mathbb{Z}$?\n",
    "* $\\mathbb{Z} \\subset \\mathbb{Z}$?"
   ]
  },
  {
   "cell_type": "code",
   "execution_count": null,
   "metadata": {
    "deletable": false,
    "nbgrader": {
     "checksum": "b188807ce0e89874a5128fa34cf2b466",
     "grade": false,
     "grade_id": "cell-7b6081ac9ca1ec05",
     "locked": false,
     "schema_version": 1,
     "solution": true
    }
   },
   "outputs": [],
   "source": [
    "# YOUR CODE HERE\n",
    "S.EmptySet.is_subset(S.UniversalSet)"
   ]
  },
  {
   "cell_type": "code",
   "execution_count": null,
   "metadata": {},
   "outputs": [],
   "source": [
    "S.Reals.is_subset(S.Integers)"
   ]
  },
  {
   "cell_type": "code",
   "execution_count": null,
   "metadata": {},
   "outputs": [],
   "source": [
    "S.Integers.is_proper_subset(S.Integers)"
   ]
  },
  {
   "cell_type": "markdown",
   "metadata": {
    "deletable": false,
    "editable": false,
    "nbgrader": {
     "checksum": "b29d17fdb28011685b94e2d6e74aa39c",
     "grade": false,
     "grade_id": "cell-f1c5262e4021a039",
     "locked": true,
     "schema_version": 1,
     "solution": false
    }
   },
   "source": [
    "## Cartesian Product\n",
    ">“Finding the Cartesian product of sets is useful for finding all possible combinations of the set members” (Amit Saha. *Doing Math with Python*)"
   ]
  },
  {
   "cell_type": "code",
   "execution_count": null,
   "metadata": {
    "deletable": false,
    "editable": false,
    "nbgrader": {
     "checksum": "1e49da8f553afbc55af98005e296e25c",
     "grade": false,
     "grade_id": "cell-3f5a157ea5969aa8",
     "locked": true,
     "schema_version": 1,
     "solution": false
    }
   },
   "outputs": [],
   "source": [
    "S1 = FiniteSet(1,2,3,4)\n",
    "S2 = FiniteSet(4,5,6,7,8)"
   ]
  },
  {
   "cell_type": "markdown",
   "metadata": {
    "deletable": false,
    "editable": false,
    "nbgrader": {
     "checksum": "8b860b5f00b2de44c67c64cc1b5855d3",
     "grade": false,
     "grade_id": "cell-8f9b87201cc9f86c",
     "locked": true,
     "schema_version": 1,
     "solution": false
    }
   },
   "source": [
    "## Exercise\n",
    "\n",
    "What is the cardinality of the Cartesian product of $S1$ and $S2$ ($S1\\times S2$)?"
   ]
  },
  {
   "cell_type": "code",
   "execution_count": null,
   "metadata": {},
   "outputs": [],
   "source": [
    "len(set(S1*S2))"
   ]
  },
  {
   "cell_type": "code",
   "execution_count": null,
   "metadata": {
    "deletable": false,
    "editable": false,
    "nbgrader": {
     "checksum": "1968e9c378240cd0f9a9d7fa5344e5e1",
     "grade": false,
     "grade_id": "cell-e615d97eb9c916f8",
     "locked": true,
     "schema_version": 1,
     "solution": false
    }
   },
   "outputs": [],
   "source": [
    "doctors = FiniteSet(Symbol(\"Dr. No\"), \n",
    "                    Symbol(\"Dr. Yes\"), \n",
    "                    Symbol(\"Dr. Maybe\"))\n",
    "diseases = FiniteSet(Symbol(\"renal cell carcinoma\"), \n",
    "                     Symbol(\"hypertension\"), \n",
    "                     Symbol(\"hcc\"), Symbol(\"depression\"))\n",
    "set(doctors*diseases)"
   ]
  },
  {
   "cell_type": "code",
   "execution_count": null,
   "metadata": {},
   "outputs": [],
   "source": [
    "import sympy\n",
    "sympy.__version__"
   ]
  },
  {
   "cell_type": "markdown",
   "metadata": {
    "deletable": false,
    "editable": false,
    "nbgrader": {
     "checksum": "2c81e1b7b99fd882df1cea64a09484fc",
     "grade": false,
     "grade_id": "cell-b56cbbea3ac399b7",
     "locked": true,
     "schema_version": 1,
     "solution": false
    }
   },
   "source": [
    "## Testing Membership\n",
    "\n"
   ]
  },
  {
   "cell_type": "code",
   "execution_count": null,
   "metadata": {
    "deletable": false,
    "editable": false,
    "nbgrader": {
     "checksum": "6c9a01be206d70daea2d5603e653df85",
     "grade": false,
     "grade_id": "cell-1881e38f5dfaa145",
     "locked": true,
     "schema_version": 1,
     "solution": false
    }
   },
   "outputs": [],
   "source": [
    "import numpy.random as ra\n",
    "import random"
   ]
  },
  {
   "cell_type": "code",
   "execution_count": null,
   "metadata": {},
   "outputs": [],
   "source": [
    "data = ra.randint(low=0, high=5000000000, size=1000000)"
   ]
  },
  {
   "cell_type": "code",
   "execution_count": null,
   "metadata": {},
   "outputs": [],
   "source": [
    "d_list = list(data)\n",
    "d_tuple = tuple(data)\n",
    "d_set = set(data)\n",
    "d_fset = frozenset(data)"
   ]
  },
  {
   "cell_type": "markdown",
   "metadata": {},
   "source": [
    "### What does the following metric indicate?\n",
    "\n",
    "That almost all the elements are unique so the set has roughly the same length as a list. Pretty fair comparison."
   ]
  },
  {
   "cell_type": "code",
   "execution_count": null,
   "metadata": {},
   "outputs": [],
   "source": [
    "len(d_set) / len(d_tuple)"
   ]
  },
  {
   "cell_type": "markdown",
   "metadata": {},
   "source": [
    "#### use the %timeit magic to time how long it takes to execute the statement\n",
    "\n",
    "* `%timeit` is an IPython \"magic\" that allows us to conveniently time how long it takes to execute a piece of Python code. It is a convenience for IPython built around Python's [`timeit` module](https://docs.python.org/3/library/timeit.html).\n",
    "* `%timeit` executes the code multiple times and computes the average time, best time, etc.\n",
    "* `listin` (etc.) is an instance of a `'IPython.core.magics.execution.TimeitResult'` object"
   ]
  },
  {
   "cell_type": "code",
   "execution_count": null,
   "metadata": {},
   "outputs": [],
   "source": [
    "listin = %timeit -o 127 in d_list"
   ]
  },
  {
   "cell_type": "code",
   "execution_count": null,
   "metadata": {},
   "outputs": [],
   "source": [
    "listin."
   ]
  },
  {
   "cell_type": "code",
   "execution_count": null,
   "metadata": {},
   "outputs": [],
   "source": [
    "tuplein = %timeit -o 127 in d_tuple"
   ]
  },
  {
   "cell_type": "code",
   "execution_count": null,
   "metadata": {},
   "outputs": [],
   "source": [
    "setin = %timeit -o 127 in d_set"
   ]
  },
  {
   "cell_type": "code",
   "execution_count": null,
   "metadata": {},
   "outputs": [],
   "source": [
    "fsetin = %timeit -o 127 in d_fset"
   ]
  },
  {
   "cell_type": "markdown",
   "metadata": {},
   "source": [
    "#### Testing membership in a set is around a million times faster than checking membership in a list"
   ]
  },
  {
   "cell_type": "markdown",
   "metadata": {
    "deletable": false,
    "editable": false,
    "nbgrader": {
     "checksum": "a7a35b43d77047c2bfef660918c36049",
     "grade": false,
     "grade_id": "cell-9874ce04fe448000",
     "locked": true,
     "schema_version": 1,
     "solution": false
    }
   },
   "source": [
    "## What is the fastest way to test membership/in?\n",
    "\n",
    "\n",
    "\n",
    "## How could we check whether this was a fluke due to our choice of `127`?"
   ]
  },
  {
   "cell_type": "markdown",
   "metadata": {},
   "source": [
    "#### To verify that results were not a fluke of `127`\n",
    "\n",
    "* Use a for loop to repeatedly test the answer with a randomly selected integer.\n",
    "* Appending the resulting average time to `listin`\n",
    "* Then use `np.mean` to compute the average average time."
   ]
  },
  {
   "cell_type": "code",
   "execution_count": null,
   "metadata": {
    "deletable": false,
    "nbgrader": {
     "checksum": "6226397ce4e8e8712644b72d5ea8a8d3",
     "grade": false,
     "grade_id": "cell-f093baf5cd3b8500",
     "locked": false,
     "schema_version": 1,
     "solution": true
    }
   },
   "outputs": [],
   "source": [
    "listin = []\n",
    "# YOUR CODE HERE\n",
    "for item in range(10):\n",
    "    rslt = %timeit -o random.randint(-88,88) in d_tuple\n",
    "    listin.append(rslt.average)\n"
   ]
  },
  {
   "cell_type": "code",
   "execution_count": null,
   "metadata": {
    "deletable": false,
    "editable": false,
    "nbgrader": {
     "checksum": "afb3655b553e51ca03f33200c1b5079c",
     "grade": false,
     "grade_id": "cell-d862e12e11cdc0fb",
     "locked": true,
     "schema_version": 1,
     "solution": false
    }
   },
   "outputs": [],
   "source": [
    "print(\"%e\"%np.mean(listin))"
   ]
  },
  {
   "cell_type": "code",
   "execution_count": null,
   "metadata": {},
   "outputs": [],
   "source": [
    "b = []\n",
    "help(b.insert)"
   ]
  },
  {
   "cell_type": "code",
   "execution_count": null,
   "metadata": {
    "deletable": false,
    "nbgrader": {
     "checksum": "0dac1fdf91a87395ed6d182334cda421",
     "grade": false,
     "grade_id": "cell-8bc6b98dfdb9f52e",
     "locked": false,
     "schema_version": 1,
     "solution": true
    }
   },
   "outputs": [],
   "source": [
    "fsetin = []\n",
    "# YOUR CODE HERE\n",
    "for item in range(10):\n",
    "    rslt = %timeit -o random.randint(-88,88) in d_set\n",
    "    fsetin.insert(0,rslt.average)"
   ]
  },
  {
   "cell_type": "code",
   "execution_count": null,
   "metadata": {},
   "outputs": [],
   "source": [
    "print(type(rslt))\n",
    "isinstance(rslt,list)"
   ]
  },
  {
   "cell_type": "code",
   "execution_count": null,
   "metadata": {},
   "outputs": [],
   "source": [
    "fsetin"
   ]
  },
  {
   "cell_type": "code",
   "execution_count": null,
   "metadata": {},
   "outputs": [],
   "source": [
    "fsetin"
   ]
  },
  {
   "cell_type": "code",
   "execution_count": null,
   "metadata": {
    "deletable": false,
    "editable": false,
    "nbgrader": {
     "checksum": "c28bc96a16ccf3837436094bff94bb26",
     "grade": false,
     "grade_id": "cell-6f2455ab3607cc79",
     "locked": true,
     "schema_version": 1,
     "solution": false
    }
   },
   "outputs": [],
   "source": [
    "\n",
    "print(\"%e\"%np.mean(fsetin))"
   ]
  },
  {
   "cell_type": "code",
   "execution_count": null,
   "metadata": {
    "deletable": false,
    "nbgrader": {
     "checksum": "7e2f61daf8c2d70e992ab747506e3c76",
     "grade": false,
     "grade_id": "cell-a4a58bd2f6f63de2",
     "locked": false,
     "schema_version": 1,
     "solution": true
    }
   },
   "outputs": [],
   "source": [
    "setin = []\n",
    "# YOUR CODE HERE\n",
    "raise NotImplementedError()"
   ]
  },
  {
   "cell_type": "code",
   "execution_count": null,
   "metadata": {
    "deletable": false,
    "editable": false,
    "nbgrader": {
     "checksum": "a59bc805c71c749c7405a4c5e84dbf7a",
     "grade": false,
     "grade_id": "cell-e5e65916497946be",
     "locked": true,
     "schema_version": 1,
     "solution": false
    }
   },
   "outputs": [],
   "source": [
    "print(\"%e\"%np.mean(setin))"
   ]
  },
  {
   "cell_type": "code",
   "execution_count": null,
   "metadata": {},
   "outputs": [],
   "source": []
  }
 ],
 "metadata": {
  "anaconda-cloud": {},
  "kernelspec": {
   "display_name": "Python 3",
   "language": "python",
   "name": "python3"
  },
  "language_info": {
   "codemirror_mode": {
    "name": "ipython",
    "version": 3
   },
   "file_extension": ".py",
   "mimetype": "text/x-python",
   "name": "python",
   "nbconvert_exporter": "python",
   "pygments_lexer": "ipython3",
   "version": "3.5.2"
  }
 },
 "nbformat": 4,
 "nbformat_minor": 1
}

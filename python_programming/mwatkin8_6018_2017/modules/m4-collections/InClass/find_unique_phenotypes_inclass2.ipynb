{
 "cells": [
  {
   "cell_type": "markdown",
   "metadata": {},
   "source": [
    "# Unique Phenotypes\n",
    "\n",
    "You have been given a file that consists of phenotypes that have been assigned to individual cardiology patients. The data was supposed to have been entered as a table with two columns per patient. The first column was to be a single, primary phenotype for a patient. The second column was to be a comma separated list of secondary phenotypes for that patient. Unfortunately, data entry did not follow this prescription and was inconsistent. Sometimes multiple phenotypes are provided in column one, sometimes a different delimiter than a comma is used.\n",
    "\n",
    "Your task is to provide an alphabetically sorted list of unique phenotypes encountered in the data. Missing values are denoted by an empty string and should **not** be treated as a phenotype.\n",
    "\n",
    "As a side note, the researcher responsible for this data would also like to know what delimiters were used in data entry.\n",
    "\n",
    "I have used Pandas to read the data in and convert it to a list for you to start with."
   ]
  },
  {
   "cell_type": "code",
   "execution_count": null,
   "metadata": {},
   "outputs": [],
   "source": [
    "import pandas as pd"
   ]
  },
  {
   "cell_type": "code",
   "execution_count": null,
   "metadata": {},
   "outputs": [],
   "source": [
    "data = pd.read_excel(\"./create_uniq_phenotypes.xlsx\", header=None)\n",
    "print(data.columns)\n",
    "data.head(50)"
   ]
  },
  {
   "cell_type": "markdown",
   "metadata": {},
   "source": [
    "### \",\" vs \" \"\n",
    "\n",
    "My original code created a string from a list by joining with an empty space (`\" \"`). This made it look the first term in the 2nd column was part of teh laster term in the 1st column. For example\n",
    "\n",
    "AS, BAV\tCardiology would appear to be \"AS\" and \"BAV Cardiology\" where as it should be \"AS\", \"BAV\", and \"Cardiology\".\n",
    "\n",
    "By combining with a \", \" the three terms are properly separated."
   ]
  },
  {
   "cell_type": "code",
   "execution_count": null,
   "metadata": {},
   "outputs": [],
   "source": [
    "data = [\", \".join(d) for d in data.fillna(\"\").values.tolist()]\n"
   ]
  },
  {
   "cell_type": "code",
   "execution_count": null,
   "metadata": {},
   "outputs": [],
   "source": [
    "data \n"
   ]
  },
  {
   "cell_type": "markdown",
   "metadata": {},
   "source": []
  },
  {
   "cell_type": "code",
   "execution_count": null,
   "metadata": {},
   "outputs": [],
   "source": [
    "phenotypes = []\n",
    "for string in data:\n",
    "    phenotypes.extend(string.split(\",\"))\n",
    "    \n",
    "print(phenotypes)"
   ]
  },
  {
   "cell_type": "markdown",
   "metadata": {},
   "source": [
    "#### Here is a list comprehension approach\n",
    "\n",
    "```Python\n",
    "phenotypes = [p.strip().upper() for p in phenotypes if p]\n",
    "```\n",
    "\n",
    "Because we wanted to drop the empty strings from our phenotypes, we modified the list comprehension to include a boolean test. We only keep the `p` (the strings within phenotypes) that evaluate as ```True```."
   ]
  },
  {
   "cell_type": "code",
   "execution_count": null,
   "metadata": {},
   "outputs": [],
   "source": [
    "phenotypes = [p.strip().upper() for p in phenotypes if p]"
   ]
  },
  {
   "cell_type": "code",
   "execution_count": null,
   "metadata": {},
   "outputs": [],
   "source": [
    "phenotype_set = set(phenotypes)"
   ]
  },
  {
   "cell_type": "code",
   "execution_count": null,
   "metadata": {},
   "outputs": [],
   "source": [
    "phenotype_set"
   ]
  },
  {
   "cell_type": "code",
   "execution_count": null,
   "metadata": {},
   "outputs": [],
   "source": [
    "phenotype_set"
   ]
  },
  {
   "cell_type": "code",
   "execution_count": null,
   "metadata": {},
   "outputs": [],
   "source": [
    "plist = list(phenotype_set)\n",
    "plist\n"
   ]
  },
  {
   "cell_type": "code",
   "execution_count": null,
   "metadata": {},
   "outputs": [],
   "source": [
    "help(plist.sort)"
   ]
  },
  {
   "cell_type": "code",
   "execution_count": null,
   "metadata": {},
   "outputs": [],
   "source": [
    "plist.sort(key=len, reverse=True)\n",
    "plist"
   ]
  },
  {
   "cell_type": "markdown",
   "metadata": {},
   "source": [
    "#### Anonymous functions\n",
    "\n",
    "```Python\n",
    "lambda x: x[-1]\n",
    "```\n",
    "\n",
    "This declares an **anonymous function** with argument `x` and returns the last element in `x`."
   ]
  },
  {
   "cell_type": "code",
   "execution_count": null,
   "metadata": {},
   "outputs": [],
   "source": [
    "plist.sort(key= lambda x: x[-1], reverse=True)\n",
    "plist"
   ]
  },
  {
   "cell_type": "code",
   "execution_count": null,
   "metadata": {},
   "outputs": [],
   "source": [
    "plist.sort(key= lambda x: len(x), reverse=True)\n",
    "plist"
   ]
  },
  {
   "cell_type": "code",
   "execution_count": null,
   "metadata": {},
   "outputs": [],
   "source": []
  }
 ],
 "metadata": {
  "anaconda-cloud": {},
  "kernelspec": {
   "display_name": "Python 3",
   "language": "python",
   "name": "python3"
  },
  "language_info": {
   "codemirror_mode": {
    "name": "ipython",
    "version": 3
   },
   "file_extension": ".py",
   "mimetype": "text/x-python",
   "name": "python",
   "nbconvert_exporter": "python",
   "pygments_lexer": "ipython3",
   "version": "3.5.2"
  }
 },
 "nbformat": 4,
 "nbformat_minor": 1
}

{
 "cells": [
  {
   "cell_type": "markdown",
   "metadata": {},
   "source": [
    "# Collections\n",
    "## ClassPrep\n",
    "* [Introduction to Sets](ClassPrep/Sets.ipynb)\n",
    "* [Sets in Python](ClassPrep/SetsInPython.ipynb)\n",
    "    * [Sets and Authors](ClassPrep/Authors.ipynb)\n",
    "    * [Sets and Football](ClassPrep/Football.ipynb)\n",
    "    * [Sets and Travel Narrative](ClassPrep/ChangesInTravelNarratives.ipynb)\n",
    "* [Lists](ClassPrep/Lists.ipynb)\n",
    "* [Tuples](ClassPrep/Tuples.ipynb)\n",
    "* [Strings](ClassPrep/Strings.ipynb)\n",
    "\n",
    "## Readings\n",
    "\n",
    "Read the following chapters from *Think Python* \n",
    "\n",
    "* \"8 Strings\"\n",
    "* \"10 Lists\"\n",
    "* \"12 Tuples\"\n",
    "\n",
    "## InClass\n",
    "* [What is hashable?](InClass/hashable.ipynb)\n",
    "* [Sympy Sets](InClass/sympy_sets.ipynb)\n",
    "* [Collections in Class](InClass/CollectionsInClassExercises.ipynb)\n",
    "* [Unique phenotype data](InClass/find_unique_phenotypes.ipynb)\n"
   ]
  },
  {
   "cell_type": "code",
   "execution_count": null,
   "metadata": {},
   "outputs": [],
   "source": [
    "from IPython.display import YouTubeVideo\n",
    "YouTubeVideo (\"cDA3_5982h8\", width=800, height=600)"
   ]
  },
  {
   "cell_type": "markdown",
   "metadata": {},
   "source": [
    "## Discarding changes made in a git repository\n",
    "\n",
    "* Discard all local changes in the current directory (and below?):\n",
    "\n",
    "``git checkout -- .``"
   ]
  },
  {
   "cell_type": "code",
   "execution_count": null,
   "metadata": {},
   "outputs": [],
   "source": []
  }
 ],
 "metadata": {
  "anaconda-cloud": {},
  "kernelspec": {
   "display_name": "Python 3",
   "language": "python",
   "name": "python3"
  },
  "language_info": {
   "codemirror_mode": {
    "name": "ipython",
    "version": 3
   },
   "file_extension": ".py",
   "mimetype": "text/x-python",
   "name": "python",
   "nbconvert_exporter": "python",
   "pygments_lexer": "ipython3",
   "version": "3.5.2"
  }
 },
 "nbformat": 4,
 "nbformat_minor": 1
}

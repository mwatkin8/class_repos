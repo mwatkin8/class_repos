{
 "cells": [
  {
   "cell_type": "markdown",
   "metadata": {},
   "source": [
    "# Steelers, Cowboys, and Bears\n",
    "## Using Sets to Explore American Football Teams\n",
    "### How Many Players Have Been on Each Team?"
   ]
  },
  {
   "cell_type": "code",
   "execution_count": 1,
   "metadata": {
    "collapsed": true
   },
   "outputs": [],
   "source": [
    "%matplotlib inline\n",
    "# Python magic to display in the web browser"
   ]
  },
  {
   "cell_type": "code",
   "execution_count": 2,
   "metadata": {
    "collapsed": true
   },
   "outputs": [],
   "source": [
    "import pickle\n",
    "from matplotlib_venn import venn2_circles, venn2, venn3\n",
    "import matplotlib.pyplot as plt"
   ]
  },
  {
   "cell_type": "code",
   "execution_count": 3,
   "metadata": {
    "collapsed": true
   },
   "outputs": [],
   "source": [
    "with open(\"./football.pickle\",\"rb\") as f0:\n",
    "    teams = pickle.load(f0)"
   ]
  },
  {
   "cell_type": "markdown",
   "metadata": {},
   "source": [
    "#### ``teams`` is a [dictionary](https://docs.python.org/3/tutorial/datastructures.html#dictionaries) with\n",
    "\n",
    "* **keys** equal to name of football teams\n",
    "* **values** equal to a [**list**](https://docs.python.org/3.4/tutorial/introduction.html#lists) of all the players that have played on those teams"
   ]
  },
  {
   "cell_type": "code",
   "execution_count": 4,
   "metadata": {},
   "outputs": [
    {
     "data": {
      "text/plain": [
       "dict"
      ]
     },
     "execution_count": 4,
     "metadata": {},
     "output_type": "execute_result"
    }
   ],
   "source": [
    "type(teams)"
   ]
  },
  {
   "cell_type": "code",
   "execution_count": 5,
   "metadata": {},
   "outputs": [
    {
     "data": {
      "text/plain": [
       "dict_keys(['cowboys', 'bears', 'steelers'])"
      ]
     },
     "execution_count": 5,
     "metadata": {},
     "output_type": "execute_result"
    }
   ],
   "source": [
    "teams.keys()"
   ]
  },
  {
   "cell_type": "code",
   "execution_count": 6,
   "metadata": {},
   "outputs": [
    {
     "data": {
      "text/plain": [
       "list"
      ]
     },
     "execution_count": 6,
     "metadata": {},
     "output_type": "execute_result"
    }
   ],
   "source": [
    "type(teams['steelers'])"
   ]
  },
  {
   "cell_type": "markdown",
   "metadata": {},
   "source": [
    "### Let's look at the list of Steelers players"
   ]
  },
  {
   "cell_type": "markdown",
   "metadata": {},
   "source": [
    "### Size of a collection\n",
    "\n",
    "Every Python collection has a size (length) associated with it. This is a measure of how many objects are in the collection. This is accessed through the **``len()``** function. (Remember our definition of a function: it takes something in (in this case a collection) and returns something (in this case the length of the collection)."
   ]
  },
  {
   "cell_type": "code",
   "execution_count": 7,
   "metadata": {},
   "outputs": [
    {
     "name": "stdout",
     "output_type": "stream",
     "text": [
      "3\n",
      "1668\n"
     ]
    }
   ],
   "source": [
    "print(len(teams))\n",
    "print(len(teams['steelers']))"
   ]
  },
  {
   "cell_type": "markdown",
   "metadata": {},
   "source": [
    "### We can create a **set** from the **list** of Steelers players\n",
    "\n",
    "#### Python has a ``set()`` function that takes another type of collection (e.g. a list) and creates a set"
   ]
  },
  {
   "cell_type": "code",
   "execution_count": 8,
   "metadata": {},
   "outputs": [
    {
     "data": {
      "text/plain": [
       "1666"
      ]
     },
     "execution_count": 8,
     "metadata": {},
     "output_type": "execute_result"
    }
   ],
   "source": [
    "steelers_set = set(teams['steelers'])\n",
    "len(steelers_set)"
   ]
  },
  {
   "cell_type": "markdown",
   "metadata": {},
   "source": [
    "### Why are the sizes (lengths) of the two sets different?\n",
    "\n",
    "* Lists do not have to have unique elements, but sets do (definition of a set). There are two names that two sets of players shared.\n",
    "\n",
    "#### Python Aside finding the duplicate players\n",
    "\n",
    "We're focusing on Python [**sets**](https://docs.python.org/3.4/tutorial/datastructures.html#sets), but here is a way to find the names using a Python [**Counter**](https://docs.python.org/3/library/collections.html#collections.Counter). Quite simply, Counters count things. They can then return the most commonly occuring items that they counted."
   ]
  },
  {
   "cell_type": "code",
   "execution_count": 9,
   "metadata": {},
   "outputs": [
    {
     "data": {
      "text/plain": [
       "[('Ralph Wenzel', 2),\n",
       " ('Mike Adams', 2),\n",
       " ('Barron Miles', 1),\n",
       " ('Mike Magac', 1),\n",
       " ('Clarence Janecek', 1),\n",
       " ('Fred Bruney', 1),\n",
       " ('Steve McLendon', 1),\n",
       " ('Richard Huntley', 1),\n",
       " ('George Titus', 1),\n",
       " ('Tom Miller', 1)]"
      ]
     },
     "execution_count": 9,
     "metadata": {},
     "output_type": "execute_result"
    }
   ],
   "source": [
    "from collections import Counter\n",
    "\n",
    "steelers_count = Counter(teams['steelers'])\n",
    "steelers_count.most_common(10)"
   ]
  },
  {
   "cell_type": "markdown",
   "metadata": {},
   "source": [
    "#### So there have been two Ralph Wenzel (who would have thought!) and two Mike Adams (not so surprising). Or perhaps they were on the team at two seperate times."
   ]
  },
  {
   "cell_type": "markdown",
   "metadata": {},
   "source": [
    "### Now let's make sets for the other two teams"
   ]
  },
  {
   "cell_type": "code",
   "execution_count": 10,
   "metadata": {},
   "outputs": [
    {
     "data": {
      "text/plain": [
       "(225, 954)"
      ]
     },
     "execution_count": 10,
     "metadata": {},
     "output_type": "execute_result"
    }
   ],
   "source": [
    "bears_set = set(teams['bears'])\n",
    "cowboys_set = set(teams['cowboys'])\n",
    "\n",
    "len(bears_set),len(cowboys_set)"
   ]
  },
  {
   "cell_type": "markdown",
   "metadata": {},
   "source": [
    "### Let's look at the sets with a Venn diagram"
   ]
  },
  {
   "cell_type": "code",
   "execution_count": 11,
   "metadata": {},
   "outputs": [
    {
     "data": {
      "text/plain": [
       "<matplotlib_venn._common.VennDiagram at 0x7f5060d6b048>"
      ]
     },
     "execution_count": 11,
     "metadata": {},
     "output_type": "execute_result"
    },
    {
     "data": {
      "image/png": "[encoded data removed]",
      "text/plain": [
       "<matplotlib.figure.Figure at 0x7f50662892b0>"
      ]
     },
     "metadata": {},
     "output_type": "display_data"
    }
   ],
   "source": [
    "venn3([steelers_set, cowboys_set, bears_set],\n",
    "      (\"Steelers\",\"Cowboys\",\"Bears\"))"
   ]
  },
  {
   "cell_type": "markdown",
   "metadata": {},
   "source": [
    "### Anything Seem Suspicious About These Data?\n",
    "\n",
    "* The [Chicago Bears](https://en.wikipedia.org/wiki/Chicago_Bears) are a very old football team, dating back to 1919. Do we really believe that there have been eight times as many [Steelers](https://en.wikipedia.org/wiki/Pittsburgh_Steelers) (founded 1933) and over four times as many [Cowboys](https://en.wikipedia.org/wiki/Dallas_Cowboys) (founded 1960)?\n",
    "    * Maybe something problematic with our Wikipedia data? \n",
    "    * Check against another source?"
   ]
  },
  {
   "cell_type": "markdown",
   "metadata": {},
   "source": [
    "#### Which Steelers have also been Cowboys or Bears?\n",
    "\n",
    "This question involves \n",
    "\n",
    "* three sets (Steelers, Cowboys, and Bears)\n",
    "* two set operations\n",
    "    * \"have also been\" $\\rightarrow$ **AND** $\\rightarrow$ **INTERSECTION**\n",
    "    * \"or\" $\\rightarrow$ **UNION**\n",
    "\n",
    "##### We can write this out in set notation\n",
    "\n",
    "$ \\text{Steelers} \\cap (\\text{Cowboys} \\cup \\text{Bears})$"
   ]
  },
  {
   "cell_type": "code",
   "execution_count": 12,
   "metadata": {},
   "outputs": [
    {
     "name": "stdout",
     "output_type": "stream",
     "text": [
      "There have been 44 Steelers that have played on other teams.\n",
      "These Steelers are\n",
      "{'Joe Williams', 'Ray Mathews', 'Thomas Everett', 'Mike Tomczak', 'Cornell Gowdy', 'Robert Williams', 'Ernie Mills', 'Ray Fisher', 'Flozell Adams', 'Mike Clark', 'Rudy Bukich', 'Larry Brown', 'Ed Brown', 'Anthony Wright', 'Shaun Suisham', 'Preston Pearson', 'Felix Jones', 'James Parrish', 'Joey Galloway', 'Quincy Morgan', 'Kevin Smith', 'Don Heinrich', 'Oliver Ross', 'Jim Miller', 'Dave Edwards', 'Wentford Gaines', 'Amos Bullocks', 'Rocky Boiman', 'Paul Oswald', 'Stan Smagala', 'Cliff Stoudt', 'Dick Klein', 'Buddy Dial', 'Don Bishop', 'Mike Connelly', 'Junior Glymph', 'Bill Butler', 'Merril Hoge', 'Lee Folkins', 'Mike Quinn', 'Donnell Woolford', 'Tim Lester', 'Reggie Collier', 'Reggie Barnes'}\n"
     ]
    }
   ],
   "source": [
    "steelers_on_other_teams = steelers_set.intersection(\n",
    "                               bears_set.union(cowboys_set))\n",
    "print(\"There have been %d Steelers that have played on other teams.\"\\\n",
    "      %len(steelers_on_other_teams))\n",
    "print(\"These Steelers are\")\n",
    "print(steelers_on_other_teams)\n"
   ]
  },
  {
   "cell_type": "markdown",
   "metadata": {},
   "source": [
    "####  What players have played on all three teams?\n",
    "\n",
    "This question involves three sets (Steelers, Cowboys, Bears) and two Set operations: **Intersection** and **Intersection.**\n",
    "\n",
    "##### Writing this in set notation\n",
    "\n",
    "$ \\text{Steelers} \\cap \\text{Cowboys} \\cap \\text{Bears}$\n"
   ]
  },
  {
   "cell_type": "code",
   "execution_count": 13,
   "metadata": {},
   "outputs": [
    {
     "data": {
      "text/plain": [
       "set()"
      ]
     },
     "execution_count": 13,
     "metadata": {},
     "output_type": "execute_result"
    }
   ],
   "source": [
    "steelers_set.intersection(bears_set.intersection(cowboys_set))"
   ]
  },
  {
   "cell_type": "markdown",
   "metadata": {},
   "source": [
    "#### Note that this is Consistent with the Venn diagram above"
   ]
  },
  {
   "cell_type": "code",
   "execution_count": null,
   "metadata": {
    "collapsed": true
   },
   "outputs": [],
   "source": []
  },
  {
   "cell_type": "code",
   "execution_count": null,
   "metadata": {
    "collapsed": true
   },
   "outputs": [],
   "source": []
  }
 ],
 "metadata": {
  "kernelspec": {
   "display_name": "Python 3",
   "language": "python",
   "name": "python3"
  },
  "language_info": {
   "codemirror_mode": {
    "name": "ipython",
    "version": 3
   },
   "file_extension": ".py",
   "mimetype": "text/x-python",
   "name": "python",
   "nbconvert_exporter": "python",
   "pygments_lexer": "ipython3",
   "version": "3.5.2"
  }
 },
 "nbformat": 4,
 "nbformat_minor": 1
}

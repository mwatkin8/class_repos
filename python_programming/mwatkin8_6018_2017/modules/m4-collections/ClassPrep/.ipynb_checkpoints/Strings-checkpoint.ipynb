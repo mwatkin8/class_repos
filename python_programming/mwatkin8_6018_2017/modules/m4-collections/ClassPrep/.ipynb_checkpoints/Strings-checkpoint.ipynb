{
 "cells": [
  {
   "cell_type": "code",
   "execution_count": 1,
   "metadata": {},
   "outputs": [
    {
     "data": {
      "image/jpeg": "[encoded data removed]",
      "text/html": [
       "\n",
       "        <iframe\n",
       "            width=\"400\"\n",
       "            height=\"300\"\n",
       "            src=\"https://www.youtube.com/embed/GieEvhO4fKA\"\n",
       "            frameborder=\"0\"\n",
       "            allowfullscreen\n",
       "        ></iframe>\n",
       "        "
      ],
      "text/plain": [
       "<IPython.lib.display.YouTubeVideo at 0x7fa7ec45af98>"
      ]
     },
     "execution_count": 1,
     "metadata": {},
     "output_type": "execute_result"
    }
   ],
   "source": [
    "from IPython.display import YouTubeVideo\n",
    "\n",
    "YouTubeVideo(\"GieEvhO4fKA\")"
   ]
  },
  {
   "cell_type": "markdown",
   "metadata": {},
   "source": [
    "# Strings\n",
    "*  Strings are **immutable** sequences of characters. \n",
    "* Strings are specified using either single (') or double (\") quotes\n",
    "    * Doesn't matter which you use; convenience based on the string you are typing.\n",
    "    * <span style=\"color:red\">Personally I find this problematic, because I am not consistent in my use of ' vs \" and thus have messy code to edit.</span>\n",
    "* Triple quotes ('''xyz''',\"\"\"xyz\"\"\")\n",
    "    * Useful for including strings that have quote symbols\n",
    "   "
   ]
  },
  {
   "cell_type": "code",
   "execution_count": null,
   "metadata": {
    "collapsed": true
   },
   "outputs": [],
   "source": [
    "zeus = \"Zeus\"\n",
    "apollo = 'Apollo'\n",
    "poseidon  = '''Poseidon'''\n",
    "text1 = \"\"\"I heard her say to the driver, \"I wouldn't want to drive this bus myself.\" \"\"\"\n",
    "text1b = 'I heard him say, \"I would not want to ride the bus all day.\"'\n",
    "print(text1)\n",
    "print(text1b)"
   ]
  },
  {
   "cell_type": "code",
   "execution_count": null,
   "metadata": {
    "collapsed": true
   },
   "outputs": [],
   "source": [
    "text2 = '''I heard her say to the driver, \"I wouldn't want to drive this bus myself.\"'''\n",
    "print(text2)"
   ]
  },
  {
   "cell_type": "code",
   "execution_count": null,
   "metadata": {
    "collapsed": true
   },
   "outputs": [],
   "source": [
    "text3 = \"\"\"I heard her say to the driver, \"I wouldn't want to drive this bus myself.\" \"\"\"\n"
   ]
  },
  {
   "cell_type": "markdown",
   "metadata": {},
   "source": [
    "# A Little History About Characters and Computers\n",
    "\n",
    "* Computers are transitors (1's and 0's) which naturally translate to numbers\n",
    "* How do you get computers to represent characters?\n",
    "    * Map numbers to characters\n",
    "* ASCII [(American Standard Code for Information Interchange)](https://en.wikipedia.org/wiki/ASCII)\n",
    "    * First standard published in 1963\n",
    "    * Has 128 characters, based primarily on the English alphabet\n",
    "![ASCII Code Tables](https://upload.wikimedia.org/wikipedia/commons/e/e0/ASCII_Code_Chart-Quick_ref_card.png)"
   ]
  },
  {
   "cell_type": "markdown",
   "metadata": {},
   "source": [
    "## Limitations of ASCII\n",
    "\n",
    "* The world isn't all written in English\n",
    "### Introduce [UNICODE](https://en.wikipedia.org/wiki/Unicode)\n",
    "\n",
    ">the latest version of Unicode contains a repertoire of more than 120,000 characters covering 129 modern and historic scripts, as well as multiple symbol sets. ([Wikipedia](https://en.wikipedia.org/wiki/Unicode))\n",
    "\n",
    "## Python and ASCII and UNICODE\n",
    "\n",
    "* In Python 2.x strings were by default ASCII but could be UNICODE\n",
    "* In Python 3.x strings are all UNICODE\n",
    "\n",
    "### Going between the character and the numeric representation\n",
    "* **ord(STRING)**: returns the decimal value that corresponds to that string\n",
    "    * This is the basis of comparison of string values\n",
    "* **chr(INTEGER)**: returns the character corresponding to the integer value"
   ]
  },
  {
   "cell_type": "code",
   "execution_count": null,
   "metadata": {
    "collapsed": true
   },
   "outputs": [],
   "source": [
    "print(chr(89))\n",
    "print(chr(5674))"
   ]
  },
  {
   "cell_type": "code",
   "execution_count": null,
   "metadata": {
    "collapsed": true
   },
   "outputs": [],
   "source": [
    "print(ord(\"œ\"))"
   ]
  },
  {
   "cell_type": "code",
   "execution_count": null,
   "metadata": {
    "collapsed": true
   },
   "outputs": [],
   "source": [
    "print(ord(\"a\"))"
   ]
  },
  {
   "cell_type": "markdown",
   "metadata": {},
   "source": [
    "### Comparing Characters Means Comparing their ordinal value"
   ]
  },
  {
   "cell_type": "code",
   "execution_count": null,
   "metadata": {
    "collapsed": true
   },
   "outputs": [],
   "source": [
    "print('a' < 'A')"
   ]
  },
  {
   "cell_type": "markdown",
   "metadata": {},
   "source": [
    "# Strings: Accessing Data\n",
    "* Strings are an example of a sequence in Python. (Will talk more about sequences in next class.) \n",
    "* We can access individual characters in a string with a square bracket ([]) syntax.\n",
    "* Python sequences start at 0. That is, the first element in the sequence is accessed by the number 0 (zero).\n",
    "\n",
    "## **Slicing**\n",
    "\n",
    "* You can access a segment of a string using a slicing notation: **STRING[start:stop:increment]**\n",
    "    * start is inclusive\n",
    "    * **stop is exclusive**\n"
   ]
  },
  {
   "cell_type": "code",
   "execution_count": null,
   "metadata": {
    "collapsed": true
   },
   "outputs": [],
   "source": [
    "print(text2)\n",
    "print(text2[0])\n",
    "print(text2[0:13])\n",
    "print(text2[13])"
   ]
  },
  {
   "cell_type": "markdown",
   "metadata": {},
   "source": [
    "## Slicing\n",
    "* start, stop and increment all have default values\n",
    "    * start: 0\n",
    "    * stop: Length of string\n",
    "    * increment: 1"
   ]
  },
  {
   "cell_type": "code",
   "execution_count": null,
   "metadata": {
    "collapsed": true
   },
   "outputs": [],
   "source": [
    "print(text2[:11])\n",
    "print(text2[11:])\n",
    "print(text2[::2])"
   ]
  },
  {
   "cell_type": "markdown",
   "metadata": {},
   "source": [
    "# Strings: Attributes and Methods\n",
    "* Strings are objects that have **attributes** and **methods**\n",
    "    * **attributes** think nouns (things strings have)\n",
    "    * **methods** think verbs (things strings do)\n",
    "* You can access **attributes** and **methods** using the 'dot' (.) notation\n",
    "* You can learn about the **attributes** and **methods** using tab completion and **help()**"
   ]
  },
  {
   "cell_type": "code",
   "execution_count": null,
   "metadata": {
    "collapsed": true
   },
   "outputs": [],
   "source": [
    "text2.isupper()"
   ]
  },
  {
   "cell_type": "code",
   "execution_count": null,
   "metadata": {
    "collapsed": true
   },
   "outputs": [],
   "source": [
    "help(text2.isalnum)"
   ]
  },
  {
   "cell_type": "code",
   "execution_count": null,
   "metadata": {
    "collapsed": true
   },
   "outputs": [],
   "source": [
    "text2.isalnum()"
   ]
  },
  {
   "cell_type": "code",
   "execution_count": null,
   "metadata": {
    "collapsed": true
   },
   "outputs": [],
   "source": [
    "text2.split()"
   ]
  },
  {
   "cell_type": "markdown",
   "metadata": {},
   "source": [
    "# string module\n",
    "* Many of the string object methods are also available as functions in the string module\n",
    "# What do you want to do with strings?\n",
    "* Change case (upper and lower)\n",
    "* Recognize punctuation\n",
    "* Check to see if a substring is in the string\n",
    "* Check to see if the string is a letter, a number, alphanumeric, punctuation\n",
    "* Split into substrings\n",
    "* Concatenate multiple strings\n",
    "* Replicate\n",
    "## How many of these can we identify with methods and functions in Python?"
   ]
  },
  {
   "cell_type": "code",
   "execution_count": null,
   "metadata": {
    "collapsed": true
   },
   "outputs": [],
   "source": [
    "import string"
   ]
  },
  {
   "cell_type": "markdown",
   "metadata": {},
   "source": [
    "# String Split\n",
    "* Split the stringwith a specified delimiter\n",
    "* Returns a **list** (to be discussed later) of substrings"
   ]
  },
  {
   "cell_type": "code",
   "execution_count": null,
   "metadata": {
    "collapsed": true
   },
   "outputs": [],
   "source": [
    "a = '1,2,3,4,5'\n",
    "help(a.split)"
   ]
  },
  {
   "cell_type": "code",
   "execution_count": null,
   "metadata": {
    "collapsed": true
   },
   "outputs": [],
   "source": [
    "a.split()"
   ]
  },
  {
   "cell_type": "code",
   "execution_count": null,
   "metadata": {
    "collapsed": true
   },
   "outputs": [],
   "source": [
    "a.split(',')"
   ]
  },
  {
   "cell_type": "code",
   "execution_count": null,
   "metadata": {
    "collapsed": true
   },
   "outputs": [],
   "source": [
    "note =\"\"\"resp care\n",
    "pt received on psv mode, per team peep placed back on at 5 cmH20. initially pt requiring ps 12, now on 8 for progression of weaning. tolerating fair with rr approx 25-32 range. mdi's given q4h, flovent started at 8 p. bid. cuff leak seems more constant today, ?worse with peep on, cuff pressure kept at 30 cmH20 with 10 cc's in cuff, to seal it would require cuff pressure of 45 cmh20. IP evaluated and chooses not to replace trach at this time, maintain cuff pressure at 30. c/w slow wean, progress to trach mask as soon as possible.\"\"\"\n",
    "\n",
    "print(note.split())"
   ]
  },
  {
   "cell_type": "markdown",
   "metadata": {},
   "source": []
  },
  {
   "cell_type": "markdown",
   "metadata": {},
   "source": [
    "# String Join\n",
    "* **join()** is the inverse of **split()**\n",
    "* Base string becomes the delimiter"
   ]
  },
  {
   "cell_type": "code",
   "execution_count": null,
   "metadata": {
    "collapsed": true
   },
   "outputs": [],
   "source": [
    "number_list = a.split(\",\")\n",
    "print(number_list)\n",
    "print(''.join(number_list))"
   ]
  },
  {
   "cell_type": "code",
   "execution_count": null,
   "metadata": {
    "collapsed": true
   },
   "outputs": [],
   "source": [
    "print( ' '.join(number_list))"
   ]
  },
  {
   "cell_type": "code",
   "execution_count": null,
   "metadata": {
    "collapsed": true
   },
   "outputs": [],
   "source": [
    "print(','.join(number_list))\n",
    "\n",
    "print(', '.join(number_list))\n",
    "print( 'this will look messy'.join(number_list))         "
   ]
  },
  {
   "cell_type": "markdown",
   "metadata": {},
   "source": [
    "# String methods for preprocessing/modifying\n",
    "* Note that since strings are **immutable** these methods don't change the string, but return a *new* string\n",
    "* **lower()**: converts all characters to lower case\n",
    "* **upper()**: converts all characters to upper case\n",
    "* **replace(a,b)**: replaces all occurrences of a in string with b (e.g., replacing tabs with spaces)"
   ]
  },
  {
   "cell_type": "code",
   "execution_count": null,
   "metadata": {
    "collapsed": true
   },
   "outputs": [],
   "source": [
    "note2 = \"\"\"PLANL: Admin K-excelate. 3% NS with q2h Na levels. Neuro exam q1h. Monitor I/O, resp status. MRI today after questionaire completed. Call H.O. with changes.\"\"\"\n",
    "print(note2.upper())\n",
    "print(\"-\"*42)\n",
    "print(note2.lower())\n",
    "print(\"-\"*42)\n",
    "print(note2)"
   ]
  },
  {
   "cell_type": "code",
   "execution_count": null,
   "metadata": {
    "collapsed": true
   },
   "outputs": [],
   "source": [
    "print(note2.swapcase())\n",
    "print(\"-\"*42)\n",
    "\n",
    "print(note2.replace('a','Z'))\n",
    "print(\"-\"*42)\n",
    "\n",
    "print(note2.replace(' ','')) # replace spaces with empty string"
   ]
  },
  {
   "cell_type": "markdown",
   "metadata": {},
   "source": [
    "# String methods for evaluating\n",
    "*  You can check whether a string is \n",
    "    * alphanumeric\n",
    "    * is alpha\n",
    "    * is numeric\n",
    "    * is a whitespace\n",
    "    * is upper case\n",
    "    * is lower case\n",
    "    "
   ]
  },
  {
   "cell_type": "code",
   "execution_count": null,
   "metadata": {
    "collapsed": true
   },
   "outputs": [],
   "source": [
    "a='10'  \n",
    "print(a.isalnum())\n",
    "print(a.isalpha())\n",
    "print(a.isdigit())\n",
    "print(a.isspace())\n"
   ]
  },
  {
   "cell_type": "code",
   "execution_count": null,
   "metadata": {
    "collapsed": true
   },
   "outputs": [],
   "source": [
    "print('\\n'.isspace())\n",
    "print('\\t'.isspace())\n",
    "print('b'.isspace())\n",
    "print('b'.isalpha())"
   ]
  },
  {
   "cell_type": "markdown",
   "metadata": {},
   "source": [
    "# String Inclusion\n",
    "## **in**\n",
    "* **STRING1 in STRING2**: Test whether **STRING1** is anywhere in **STRING2**"
   ]
  },
  {
   "cell_type": "code",
   "execution_count": null,
   "metadata": {
    "collapsed": true
   },
   "outputs": [],
   "source": [
    "report = \"\"\"Patient: Brian Chapman\n",
    "12/20/2012 – 2:08PM\n",
    "\n",
    "HISTORY:  s/p skateboard injury with direct trauma to the right shoulder.  Possibly acromioclavicular separation.  Persistent pain despite several months of physical therapy.  Status post steroid injection  of the acromioclavicular joint one week prior to examination.  New onset of posterior shoulder pain.\n",
    "\n",
    "COMPARISON STUDIES: \n",
    "Radiographs performed at UCSD of the right shoulder in July 2012.\n",
    "\n",
    "TECHNIQUE: \n",
    "On a 3 Tesla superconducting magnet, coronal and sagittal T1, coronal and sagittal T2 fat saturated, and axial proton density fat saturated sequences through the right shoulder were performed without the administration of intravenous or intra-articular contrast.\n",
    "\n",
    "FINDINGS:  \n",
    "Supraspinatus tendon: within normal limits. No muscle atrophy or edema is observed.\n",
    "\n",
    "Infraspinatus tendon: Low grade partial thickness articular sided tearing on a background of mild tendinosis.  No muscle atrophy or edema is observed.\n",
    "\n",
    "Subscapularis tendon:  Mild signal alteration and thickening of the supraspinatus.  No evidence of tearing.    No muscle atrophy or edema is observed.\n",
    "\n",
    "Teres minor tendon: within normal limits.  No muscle atrophy or edema is observed.\n",
    "\n",
    "Subacromial/Subdeltoid Bursa:  A small amount of fluid.\n",
    "\n",
    "Visualized deltoid muscle and tendon: grossly normal.\n",
    "\n",
    "Long head biceps tendon: within normal limits. \n",
    "\n",
    "Labrum:  within normal limits.  No paralabral cysts are identified.\n",
    "\n",
    "Rotator cuff interval: within normal limits.\n",
    "\n",
    "Axillary recess: within normal limits.\n",
    "\n",
    "Suprascapular and spinoglenoid notches: no mass is identified. \n",
    "\n",
    "Quadrilateral space: no mass is identified.\n",
    "\n",
    "Bone marrow: no bone marrow edema or acute fracture.  No dislocation.  Patchy marrow signal within the glenoid and proximal humeral shaft with sparing of the humeral epiphysis is in keeping with hematopoetic marrow.\n",
    "\n",
    "Acromioclavicular joint:  Moderate acromioclavicular joint osteoarthrosis with downgoing osteophytes, marrow edema, subchondral cystic change, and capsular hypertrophy.  There is moderate mass effect on the underlying supraspinatus musculotendinous junction.\n",
    "\n",
    "Cartilage: grossly within normal limits.\n",
    "\n",
    "Coracoclavicular Ligaments: The conoid and trapezoid components of the coracoclavicular ligament are intact.\n",
    "\n",
    "\n",
    "IMPRESSION:\n",
    "\n",
    "\n",
    "\n",
    "1.  Moderate acromioclavicular joint osteoarthrosis.\n",
    "\n",
    "2.  Low grade partial thickness articular sided tearing of the infraspinatus on a background of mild tendinosis.\n",
    "\n",
    "3.  Mild supraspinatus tendinosis.\n",
    "\n",
    "4.  Mild subacromial-subdeltoid bursitis.\n",
    "\"\"\""
   ]
  },
  {
   "cell_type": "code",
   "execution_count": null,
   "metadata": {
    "collapsed": true
   },
   "outputs": [],
   "source": [
    "print(\"Shoulder\" in report)\n",
    "print(\"shoulder\" in report)\n",
    "print(\"SHOULDER\" in report)\n",
    "print(\"SHOULDER\" in report.upper())"
   ]
  },
  {
   "cell_type": "markdown",
   "metadata": {},
   "source": [
    "## **find(STRING)**"
   ]
  },
  {
   "cell_type": "code",
   "execution_count": null,
   "metadata": {
    "collapsed": true
   },
   "outputs": [],
   "source": [
    "help(report.find)"
   ]
  },
  {
   "cell_type": "code",
   "execution_count": null,
   "metadata": {
    "collapsed": true
   },
   "outputs": [],
   "source": [
    "print(report.find(\"edema\"))\n",
    "print(report.lower().find(\"edema\"))\n",
    "print(report.lower().find(\"pituitary\"))"
   ]
  },
  {
   "cell_type": "markdown",
   "metadata": {},
   "source": [
    "## index(STRING)"
   ]
  },
  {
   "cell_type": "code",
   "execution_count": null,
   "metadata": {
    "collapsed": true
   },
   "outputs": [],
   "source": [
    "help(report.index)"
   ]
  },
  {
   "cell_type": "code",
   "execution_count": null,
   "metadata": {
    "collapsed": true
   },
   "outputs": [],
   "source": [
    "print(report.index(\"shoulder\"))\n",
    "print(report.index(\"carotid\"))"
   ]
  },
  {
   "cell_type": "code",
   "execution_count": null,
   "metadata": {
    "collapsed": true
   },
   "outputs": [],
   "source": [
    "sequence = \"\"\"ACAAGATGCCATTGTCCCCCGGCCTCCTGCTGCTGCTGCTCTCCGGGGCCACGGCCACCGCTGCCCTGCC\n",
    "CCTGGAGGGTGGCCCCACCGGCCGAGACAGCGAGCATATGCAGGAAGCGGCAGGAATAAGGAAAAGCAGC\n",
    "CTCCTGACTTTCCTCGCTTGGTGGTTTGAGTGGACCTCCCAGGCCAGTGCCGGGCCCCTCATAGGAGAGG\n",
    "AAGCTCGGGAGGTGGCCAGGCGGCAGGAAGGCGCACCCCCCCAGCAATCCGCGCGCCGGGACAGAATGCC\n",
    "CTGCAGGAACTTCTTCTGGAAGACCTTCTCCTCCTGCAAATAAAACCTCACCCATGAATGCTCACGCAAG\n",
    "TTTAATTACAGACCTGAA\"\"\"\n"
   ]
  },
  {
   "cell_type": "code",
   "execution_count": null,
   "metadata": {
    "collapsed": true
   },
   "outputs": [],
   "source": [
    "# Demonstration of simple input\n",
    "# with and without upper()\n",
    "subsequence = input(\"Enter a subsequence to check for inclusion in sequence: \").upper()\n",
    "print(subsequence in sequence)"
   ]
  },
  {
   "cell_type": "markdown",
   "metadata": {},
   "source": [
    "## String Formatting"
   ]
  },
  {
   "cell_type": "markdown",
   "metadata": {},
   "source": [
    "Python has a C-style way of formatting (interpolating strings). This is what I am most used to and is what you will usually see in my code. \n",
    "\n",
    "* `%d` is for substituting in an integer\n",
    "    * We can specify the minimum number of spaces to use and whetehr we want a leading zero\n",
    "    "
   ]
  },
  {
   "cell_type": "code",
   "execution_count": null,
   "metadata": {
    "collapsed": true
   },
   "outputs": [],
   "source": [
    "print(\"%d\"%5)\n",
    "print(\"%5d\"%5)\n",
    "print(\"%05d\"%5)"
   ]
  },
  {
   "cell_type": "markdown",
   "metadata": {},
   "source": [
    "* `%f` is for substituting in a float\n",
    "    * Can control number of digits and decimal point resolution\n",
    "    * Also `%e` and `%E`\n",
    "    "
   ]
  },
  {
   "cell_type": "code",
   "execution_count": null,
   "metadata": {
    "collapsed": true
   },
   "outputs": [],
   "source": [
    "import math\n",
    "print(\"%f\"%math.pi)\n",
    "print(\"%2.4f\"%math.pi)\n",
    "print(\"%e\"%math.exp(math.pi))"
   ]
  },
  {
   "cell_type": "markdown",
   "metadata": {},
   "source": [
    "* `%s` is for substituting in a string (everything can be represented as a string)\n",
    "\n",
    "Here are some basic examples"
   ]
  },
  {
   "cell_type": "code",
   "execution_count": null,
   "metadata": {
    "collapsed": true
   },
   "outputs": [],
   "source": [
    "import math\n",
    "print(\"The values of pi is %5.4f\"%math.pi)\n",
    "print(\"My name is %s, %s, although you may know me as %03d.\"%(\"Bond\",\"James Bond\",7))"
   ]
  },
  {
   "cell_type": "markdown",
   "metadata": {},
   "source": [
    "Since Python 2.6, there is a *format()* method with strings. Here are some examples from the [Python documentation](https://docs.python.org/2/library/string.html#string-formatting)"
   ]
  },
  {
   "cell_type": "code",
   "execution_count": null,
   "metadata": {
    "collapsed": true
   },
   "outputs": [],
   "source": [
    "print('{0}, {1}, {2}'.format('a', 'b', 'c'))\n",
    "print('Coordinates: {latitude}, {longitude}'.format(latitude='37.24N', longitude='-115.81W'))\n",
    "coord = {'latitude': '37.24N', 'longitude': '-115.81W'}\n",
    "print('Coordinates: {latitude}, {longitude}'.format(**coord))\n",
    "c = 3-5j\n",
    "('The complex number {0} is formed from the real part {0.real} and the imaginary part {0.imag}.').format(c)"
   ]
  }
 ],
 "metadata": {
  "anaconda-cloud": {},
  "kernelspec": {
   "display_name": "Python 3",
   "language": "python",
   "name": "python3"
  },
  "language_info": {
   "codemirror_mode": {
    "name": "ipython",
    "version": 3
   },
   "file_extension": ".py",
   "mimetype": "text/x-python",
   "name": "python",
   "nbconvert_exporter": "python",
   "pygments_lexer": "ipython3",
   "version": "3.5.2"
  }
 },
 "nbformat": 4,
 "nbformat_minor": 1
}

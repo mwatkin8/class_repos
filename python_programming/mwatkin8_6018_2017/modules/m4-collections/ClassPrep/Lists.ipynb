{
 "cells": [
  {
   "cell_type": "markdown",
   "metadata": {},
   "source": [
    "# Lists in Python\n"
   ]
  },
  {
   "cell_type": "code",
   "execution_count": 1,
   "metadata": {},
   "outputs": [
    {
     "data": {
      "image/jpeg": "[encoded data removed]",
      "text/html": [
       "\n",
       "        <iframe\n",
       "            width=\"400\"\n",
       "            height=\"300\"\n",
       "            src=\"https://www.youtube.com/embed/q4COpQ9XoJU\"\n",
       "            frameborder=\"0\"\n",
       "            allowfullscreen\n",
       "        ></iframe>\n",
       "        "
      ],
      "text/plain": [
       "<IPython.lib.display.YouTubeVideo at 0x7f327803cf98>"
      ]
     },
     "execution_count": 1,
     "metadata": {},
     "output_type": "execute_result"
    }
   ],
   "source": [
    "from IPython.display import YouTubeVideo\n",
    "\n",
    "YouTubeVideo(\"q4COpQ9XoJU\")"
   ]
  },
  {
   "cell_type": "markdown",
   "metadata": {},
   "source": [
    "# Lists\n",
    "* Lists are **mutable**, sequential collections of Python objects.\n",
    "* Objects can be heterogeneous \n",
    "    * Apples and Oranges\n",
    "* They can contain any Python object\n",
    "    * numbers\n",
    "    * strings,\n",
    "    * lists\n",
    "    * functions\n",
    "    * etc.\n",
    "    \n",
    "## Creating Lists\n",
    "* Lists are specified with square brackets (**[]**)"
   ]
  },
  {
   "cell_type": "code",
   "execution_count": null,
   "metadata": {
    "collapsed": true
   },
   "outputs": [],
   "source": [
    "list1 = [1,2,3]\n",
    "list2 = [1,2,3,\"one\",\"two\",\"three\"]\n",
    "list3 = [1,2,3,\"one\",\"two\",\"three\",['a','b','c']]\n",
    "print(list3)"
   ]
  },
  {
   "cell_type": "markdown",
   "metadata": {},
   "source": [
    "* Lists can also be created with the **list()** function from other **sequences**"
   ]
  },
  {
   "cell_type": "code",
   "execution_count": null,
   "metadata": {
    "collapsed": true
   },
   "outputs": [],
   "source": [
    "print(list((1,2,3)))\n",
    "print(list({1:'a',2:'b'}))\n",
    "print(list(\"Brian\"))"
   ]
  },
  {
   "cell_type": "markdown",
   "metadata": {},
   "source": [
    "### What is wrong with the following code?"
   ]
  },
  {
   "cell_type": "code",
   "execution_count": null,
   "metadata": {
    "collapsed": true
   },
   "outputs": [],
   "source": [
    "print(list(1))"
   ]
  },
  {
   "cell_type": "markdown",
   "metadata": {},
   "source": [
    "### A List is an object so it has attributes and methods\n",
    "\n",
    "As always, we can learn more about lists with `help`"
   ]
  },
  {
   "cell_type": "code",
   "execution_count": null,
   "metadata": {
    "collapsed": true
   },
   "outputs": [],
   "source": [
    "help(list)"
   ]
  },
  {
   "cell_type": "markdown",
   "metadata": {},
   "source": [
    "### [**range()**](https://docs.python.org/3/library/functions.html#func-range)\n",
    "* Lists can also be created with the **range()** function\n",
    "* A range is actually a distinct sequence type in Python ([see](https://docs.python.org/3/library/stdtypes.html#typesseq)) and so we would convert it to a list with the ``list`` function\n",
    "    * Useful for loops"
   ]
  },
  {
   "cell_type": "code",
   "execution_count": null,
   "metadata": {
    "collapsed": true
   },
   "outputs": [],
   "source": [
    "help(range)"
   ]
  },
  {
   "cell_type": "code",
   "execution_count": null,
   "metadata": {
    "collapsed": true
   },
   "outputs": [],
   "source": [
    "print(range(10))\n",
    "print(list(range(10)))\n",
    "print(list(range(0,10,2)))\n",
    "print(list(range(10,0,-1)))"
   ]
  },
  {
   "cell_type": "code",
   "execution_count": null,
   "metadata": {
    "collapsed": true
   },
   "outputs": [],
   "source": [
    "a1 = []\n",
    "\n",
    "a2 = [1,2,3,\"three\",\"two\",\"one\",[]]\n",
    "\n",
    "b = a2"
   ]
  },
  {
   "cell_type": "code",
   "execution_count": null,
   "metadata": {
    "collapsed": true
   },
   "outputs": [],
   "source": [
    "print(b)"
   ]
  },
  {
   "cell_type": "code",
   "execution_count": null,
   "metadata": {
    "collapsed": true
   },
   "outputs": [],
   "source": [
    "b.append(\"Brian\")\n",
    "print(b)"
   ]
  },
  {
   "cell_type": "code",
   "execution_count": null,
   "metadata": {
    "collapsed": true
   },
   "outputs": [],
   "source": [
    "print(a2)"
   ]
  },
  {
   "cell_type": "markdown",
   "metadata": {},
   "source": [
    "Square brackets, `[ ]`, are used to retrieve the contents at a specific index.\n",
    "\n",
    "### **Remeber: Python uses 0-based indexing**\n",
    "* The first element is at [0] **not** [1]"
   ]
  },
  {
   "cell_type": "code",
   "execution_count": null,
   "metadata": {
    "collapsed": true
   },
   "outputs": [],
   "source": [
    "print(a2[-1][0])"
   ]
  },
  {
   "cell_type": "markdown",
   "metadata": {},
   "source": [
    "## Lists: Inserting Data\n",
    "\n",
    "### Remember Lists are *Mutable*\n",
    "* **append()**\n",
    "* **insert()**\n",
    "* **extend()**\n",
    "* **+** (concatenation: creates a new list object)"
   ]
  },
  {
   "cell_type": "code",
   "execution_count": null,
   "metadata": {
    "collapsed": true
   },
   "outputs": [],
   "source": [
    "a=[]\n",
    "a.append('Brian')\n",
    "a.insert(0,39)\n",
    "\n",
    "print(a)"
   ]
  },
  {
   "cell_type": "code",
   "execution_count": null,
   "metadata": {
    "collapsed": true
   },
   "outputs": [],
   "source": [
    "a.insert(1,[1,2,3,4,5])\n",
    "print(a)"
   ]
  },
  {
   "cell_type": "code",
   "execution_count": null,
   "metadata": {
    "collapsed": true
   },
   "outputs": [],
   "source": [
    "print([1,2,3]+[4,5,6])"
   ]
  },
  {
   "cell_type": "code",
   "execution_count": 3,
   "metadata": {},
   "outputs": [
    {
     "name": "stdout",
     "output_type": "stream",
     "text": [
      "[1, 2, 3, 'a', 'b']\n"
     ]
    }
   ],
   "source": [
    "b = [1,2,3]\n",
    "b.extend([\"a\",\"b\"])\n",
    "print(b)"
   ]
  },
  {
   "cell_type": "code",
   "execution_count": 4,
   "metadata": {},
   "outputs": [
    {
     "name": "stdout",
     "output_type": "stream",
     "text": [
      "[1, 2, 3, ['a', 'b']]\n"
     ]
    }
   ],
   "source": [
    "c = [1,2,3]\n",
    "c.append([\"a\",\"b\"])\n",
    "print(c)"
   ]
  },
  {
   "cell_type": "markdown",
   "metadata": {},
   "source": [
    "## Lists: Accessing Data\n",
    "\n",
    "* Indexing (counting from zero on left from -1 on right)\n",
    "* Slicing (same as with strings) **LIST[START:END:STEP]**\n"
   ]
  },
  {
   "cell_type": "code",
   "execution_count": null,
   "metadata": {
    "collapsed": true
   },
   "outputs": [],
   "source": [
    "myList = [1,2,3,\"three\",\"two\",\"one\",[]]\n",
    "\n",
    "print(myList[0])\n",
    "print(myList[3])\n",
    "print(myList[-1])\n",
    "\n",
    "print(\"+\"*42)\n",
    "print(myList[3:5])\n",
    "print(myList[:5])\n",
    "print(myList[5:])\n",
    "print(myList[1::2])"
   ]
  },
  {
   "cell_type": "markdown",
   "metadata": {},
   "source": [
    "## Lists: Modifying Data\n",
    "\n",
    "* Assignment by indexing\n",
    "* Assignment by slicing\n",
    "* **sort()**\n",
    "* **reverse()**\n",
    "* **pop()**\n",
    "* **del**"
   ]
  },
  {
   "cell_type": "code",
   "execution_count": null,
   "metadata": {
    "collapsed": true
   },
   "outputs": [],
   "source": [
    "help([].pop)"
   ]
  },
  {
   "cell_type": "code",
   "execution_count": 2,
   "metadata": {},
   "outputs": [
    {
     "name": "stdout",
     "output_type": "stream",
     "text": [
      "[1, 2, 3, 'three', 'two', 'one', []]\n",
      "[]\n",
      "[1, 2, 3, 'three', 'two', 'one']\n",
      "3\n",
      "[1, 2, 'three', 'two', 'one']\n"
     ]
    }
   ],
   "source": [
    "myList = [1,2,3,\"three\",\"two\",\"one\",[]]\n",
    "\n",
    "print(myList)\n",
    "print(myList.pop())\n",
    "print(myList)\n",
    "print(myList.pop(2))\n",
    "print(myList)"
   ]
  },
  {
   "cell_type": "code",
   "execution_count": null,
   "metadata": {
    "collapsed": true
   },
   "outputs": [],
   "source": []
  }
 ],
 "metadata": {
  "anaconda-cloud": {},
  "kernelspec": {
   "display_name": "Python 3",
   "language": "python",
   "name": "python3"
  },
  "language_info": {
   "codemirror_mode": {
    "name": "ipython",
    "version": 3
   },
   "file_extension": ".py",
   "mimetype": "text/x-python",
   "name": "python",
   "nbconvert_exporter": "python",
   "pygments_lexer": "ipython3",
   "version": "3.5.2"
  }
 },
 "nbformat": 4,
 "nbformat_minor": 1
}

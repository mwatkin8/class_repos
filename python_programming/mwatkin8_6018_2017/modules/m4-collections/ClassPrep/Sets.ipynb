{
 "cells": [
  {
   "cell_type": "markdown",
   "metadata": {},
   "source": [
    "# Sets\n",
    "\n",
    "### The Beautiful (and Famous) Julia Set\n",
    "\n",
    "<img src=\"http://goo.gl/2pF7Hc\" alt=\"Julia Set\" style=\"height:333px;\">\n"
   ]
  },
  {
   "cell_type": "markdown",
   "metadata": {},
   "source": [
    ">Set theory is the foundation of the edifice of modern mathematics. The precise definitions of all mathematical concepts are based on set theory. Furthermore, the methods of mathematical deduction are characterized by a combination of logical and set-theoretical arguments. To put it briefly, the language of set theory is the common idiom spoken and understood by mathematicians the world over. From all this it follows that if one is to make any progress in higher mathematics itself or in its practical applications, one has to become familiar with the basic concepts and results of set theory and with the language in which they are expressed. (*VNR Concise Encyclopedia of Mathematics*)\n",
    "\n",
    "## Do I really need to know anything about sets?\n",
    "\n",
    "### Sets will be important in\n",
    "\n",
    "* Probability and Statistics\n",
    "* Database theory, design, and use\n",
    "\n"
   ]
  },
  {
   "cell_type": "markdown",
   "metadata": {},
   "source": [
    "## History of Set Theory\n",
    "\n",
    "Set theory was first introduced by [Georg Cantor (1845-1918)](https://en.wikipedia.org/wiki/Georg_Cantor). \n",
    "\n",
    "<img src=\"http://goo.gl/7xvBhp\" alt=\"Georg Cantor\" style=\"height:333px;\">\n",
    "\n",
    "Cantor defined a set as follows:\n",
    "\n",
    ">**A set is the result of collecting together certain well-determined objects of our perception or our thinking into a single whole; these objects are called the elements of the set.** (ibid)\n",
    "\n",
    "## Key Idea of Set Theory\n",
    "\n",
    "#### To define a set we first need to select the property or properties that *all elements* of the set have in common.\n",
    "\n",
    "## Example Properties\n",
    "\n",
    "* Students in an art class\n",
    "* Sex\n",
    "* Age (e.g. $>14$)\n",
    "* Numbers that are square (or triangle)\n",
    "* Numbers that are prime\n",
    "* Mexican citizenship\n",
    "* Religion\n",
    "\n",
    "### The Game Set\n",
    "\n",
    "There is a great card game called [Set](https://en.wikipedia.org/wiki/Set_(game). The cards are characterized by four **properties:**\n",
    "\n",
    "1. Number\n",
    "1. Color\n",
    "1. Shape\n",
    "1. Pattern\n",
    "<img src=\"https://upload.wikimedia.org/wikipedia/commons/8/8f/Set-game-cards.png\" alt=\"An example set of Set cards\" style=\"height:275px;\">\n",
    "\n",
    "\n",
    ">A set consists of three cards which satisfy all of these conditions:\n",
    "* They all have the same number, or they have three different numbers.\n",
    "* They all have the same symbol, or they have three different symbols.\n",
    "* They all have the same shading, or they have three different shadings.\n",
    "* They all have the same color, or they have three different colors. ([From wikipedia](https://en.wikipedia.org/wiki/Set_(game)))"
   ]
  },
  {
   "cell_type": "markdown",
   "metadata": {},
   "source": [
    "### What if we have a set of sets? \n",
    "\n",
    "* This is called a **family** or a **class** or a **collection** of sets.\n",
    "\n",
    "### What if we have a set that is part of another set? \n",
    "\n",
    "* This is called a **subset**.\n",
    "\n",
    "#### Some example of sets with subsets (from class members)\n",
    "\n",
    "* Set of patients in a pulmonary clinic\n",
    "    * subset: Set of patients in a pulmonary clinic who have asthma\n",
    "* Set of notes on a piano\n",
    "    * subset: notes that are sharps or flats\n",
    "* Set of real numbers ($\\mathbb{R}$)\n",
    "    * subset: set of real numbers greater than 1 and less than 2.\n",
    "    \n",
    "##### Note: a set can be a subset of itself"
   ]
  },
  {
   "cell_type": "markdown",
   "metadata": {},
   "source": [
    "## [Russell's Paradox](https://en.wikipedia.org/wiki/Russell%27s_paradox)\n",
    "![Bertrand Ruessell](https://upload.wikimedia.org/wikipedia/en/f/f9/Lindgren.jpg)\n",
    "\n",
    "Even being precise, it is possible to define sets with contradictions. [Betrand Russell](https://en.wikipedia.org/wiki/Bertrand_Russell) presented a famous example of a set with contradictions\n",
    "\n",
    "* Let $B$ be the set of all sets that are not members of themselves\n",
    "* Is $B$ a member of itself, or not?\n",
    "\n",
    "There is an entire chapter in the very entertaining graphic \"novel\" [Logicomix](http://www.logicomix.com/en/index.html) about this and other parodxes, Russell and Alfred North Whitehead struggled with.\n",
    "![Logicomix](https://upload.wikimedia.org/wikipedia/en/6/60/Logicomix_cover.jpg)\n"
   ]
  },
  {
   "cell_type": "markdown",
   "metadata": {},
   "source": [
    "## Set Symbols\n",
    "\n",
    "Mathematics requires a precision not easy obtainable using natural language. So learning about sets requires learning the symbols of sets.\n",
    "\n",
    "General practice: denote Sets by UPPERCASE letters and elements of sets by lowercase letters.\n",
    "\n",
    "* $\\{\\}$ &mdash; curly brackets denote a set (in this case the empty set)\n",
    "* $\\in$ &mdash; \"an element of\"\n",
    "    * Brian $\\in$ Set of Radiology faculty\n",
    "\t* hepatocellular carcinoma $\\in$ Set of solid tumor malignancies \n",
    "    * 2 $\\in$ Set of prime numbers\n",
    "* $\\notin$ &mdash; \"not an element of\"\n",
    "* $\\subseteq$ &mdash; \"a subset of\"\n",
    "    * \\{George W. Bush, Barack Obama\\} $\\subseteq$ Set of U.S. Presidents\n",
    "* $\\subset$ &mdash; \"a proper subset of\" $A\\subseteq B$ and $A\\neq B$\n",
    "    * \\{Painters\\} $\\subset$ \\{Writers\\}\n",
    "* `:` &mdash; \"such that\"\n",
    "* `,` &mdash; \"and\""
   ]
  },
  {
   "cell_type": "markdown",
   "metadata": {},
   "source": [
    "## Properties of Sets\n",
    "\n",
    "* A set is determined uniquely by its members and does not depend on the ordering of the sets\n",
    "    * **SETS ARE UNORDERED**\n",
    "* Consequently there is only one empty set ($\\emptyset$, there is only one nothing) and there is only one universal set $U$ (there is only one everything).\n",
    "    * In practice we might talk about a universal set that is not truly universal, but universal within a particular subdomain.\n",
    "* If two sets have the same elements then they are identical\n",
    "* If two sets have **no elements in common** they they are called **disjoint**\n",
    "* Repeatedly listing an item in a set is meaningless. Therefore, $\\{1,2,3,3,3,4,5\\}=\\{1,2,3,4,5\\}=\\{5,3,1,2,4\\}$ (unordered)\n",
    "    * **SETS ONLY HAVE UNIQUE MEMBERS**\n",
    "\t\n",
    "#### In programming, when we think of *uniqueness* we will usually be thinking about sets\n",
    "\n"
   ]
  },
  {
   "cell_type": "markdown",
   "metadata": {},
   "source": [
    "## Set Algebra\n",
    "\n",
    "For the following section we will assume we have the following sets:\n",
    "\n",
    "$$\n",
    "A = \\{0, 1, 2 ,3 , 4\\}\\\\\n",
    "B = \\{3, 4, 5, 6, 7\\}\n",
    "$$\n",
    "\n",
    "We will be using the [Sympy package](http://www.sympy.org/en/index.html), a package for doing symbolic math, to illustrate set principles."
   ]
  },
  {
   "cell_type": "code",
   "execution_count": 1,
   "metadata": {
    "collapsed": true
   },
   "outputs": [],
   "source": [
    "from sympy import S, Interval, FiniteSet, ProductSet, Set"
   ]
  },
  {
   "cell_type": "markdown",
   "metadata": {},
   "source": [
    "### A `FiniteSet` is simply a set that is not infinite"
   ]
  },
  {
   "cell_type": "code",
   "execution_count": 2,
   "metadata": {
    "collapsed": true
   },
   "outputs": [],
   "source": [
    "A = FiniteSet(0, 1, 2, 3, 4)\n",
    "B = FiniteSet(3, 4, 5, 6, 7)"
   ]
  },
  {
   "cell_type": "markdown",
   "metadata": {},
   "source": [
    "### Union\n",
    "\n",
    "The Union of two sets ($A$, $B$) is the set of all elements that are in either $A$ **OR** in $B$. In mathematical notation this is written as \n",
    "\n",
    "\\begin{equation}\n",
    "A\\cup B = \\{x:x \\in A \\text{ or } x \\in B\\}\n",
    "\\end{equation}"
   ]
  },
  {
   "cell_type": "code",
   "execution_count": 3,
   "metadata": {},
   "outputs": [
    {
     "data": {
      "text/plain": [
       "{0, 1, 2, 3, 4, 5, 6, 7}"
      ]
     },
     "execution_count": 3,
     "metadata": {},
     "output_type": "execute_result"
    }
   ],
   "source": [
    "A.union(B)"
   ]
  },
  {
   "cell_type": "markdown",
   "metadata": {},
   "source": [
    "### Intersection\n",
    "The Intersection of two sets ($A$, $B$) is the set of of all elements that are in $A$ **AND** $B$:\n",
    "\n",
    "\\begin{equation}\n",
    "A\\cap B = \\{x:x \\in A \\text{ and } x \\in B\\}\n",
    "\\end{equation}"
   ]
  },
  {
   "cell_type": "code",
   "execution_count": 4,
   "metadata": {},
   "outputs": [
    {
     "data": {
      "text/plain": [
       "{3, 4}"
      ]
     },
     "execution_count": 4,
     "metadata": {},
     "output_type": "execute_result"
    }
   ],
   "source": [
    "A.intersect(B)"
   ]
  },
  {
   "cell_type": "markdown",
   "metadata": {},
   "source": [
    "### Absolute Complement\n",
    "\n",
    "The Absolute complement of a set $A$ (denoted $A^c$) is the set of all elements in $U$ that are **not** in $A$:\n",
    "\\begin{equation}\n",
    "A^c=\\{x:x\\in U \\text{ and } x\\notin A\\}\n",
    "\\end{equation}"
   ]
  },
  {
   "cell_type": "code",
   "execution_count": 5,
   "metadata": {},
   "outputs": [
    {
     "data": {
      "text/plain": [
       "UniversalSet() \\ {0, 1, 2, 3, 4}"
      ]
     },
     "execution_count": 5,
     "metadata": {},
     "output_type": "execute_result"
    }
   ],
   "source": [
    "A.complement(S.UniversalSet)"
   ]
  },
  {
   "cell_type": "markdown",
   "metadata": {},
   "source": [
    "### Why isn't the resulting set enumerated?\n",
    "\n",
    "#### Because it is infinite"
   ]
  },
  {
   "cell_type": "markdown",
   "metadata": {},
   "source": [
    "### The Relative Complement or Difference\n",
    "\n",
    "The relative complement of $B$ with respect to $A$ is the set of all elements **in** $A$ that are **not in** $B$. This is denoted by \n",
    "\n",
    "$$A\\setminus B = \\{x: x\\in A, x\\notin B\\}$$"
   ]
  },
  {
   "cell_type": "code",
   "execution_count": 6,
   "metadata": {},
   "outputs": [
    {
     "data": {
      "text/plain": [
       "{5, 6, 7}"
      ]
     },
     "execution_count": 6,
     "metadata": {},
     "output_type": "execute_result"
    }
   ],
   "source": [
    "A.complement(B)"
   ]
  },
  {
   "cell_type": "markdown",
   "metadata": {},
   "source": [
    "## Exercise\n",
    "\n",
    "What is the Relative Complement of $A$ and the set of positive integers ($\\mathbb{N}$)?"
   ]
  },
  {
   "cell_type": "code",
   "execution_count": null,
   "metadata": {
    "collapsed": true
   },
   "outputs": [],
   "source": []
  },
  {
   "cell_type": "markdown",
   "metadata": {},
   "source": [
    "## Exercise\n",
    "\n",
    "What is the relative complement of B and the set of positive integers ($\\mathbb{N}$)?"
   ]
  },
  {
   "cell_type": "code",
   "execution_count": null,
   "metadata": {
    "collapsed": true
   },
   "outputs": [],
   "source": []
  },
  {
   "cell_type": "markdown",
   "metadata": {},
   "source": [
    "### Symmetric Difference\n",
    "\n",
    "The symmetric difference of two sets $A$ and $B$ is the set of all elements that are in either $A$ or $B$ but that are not in both.\n",
    "\n",
    "\\begin{equation*}\n",
    "A\\oplus B = (A\\cup B)\\setminus(A\\cap B)\n",
    "\\end{equation*}"
   ]
  },
  {
   "cell_type": "code",
   "execution_count": 7,
   "metadata": {},
   "outputs": [
    {
     "data": {
      "text/plain": [
       "{0, 1, 2, 5, 6, 7}"
      ]
     },
     "execution_count": 7,
     "metadata": {},
     "output_type": "execute_result"
    }
   ],
   "source": [
    "A.symmetric_difference(B)"
   ]
  },
  {
   "cell_type": "markdown",
   "metadata": {},
   "source": [
    "### An example with Sets\n",
    "\n",
    "![Study Design for 2nd Wilms Tumor Study](../Resources/wilms_study_2.png)\n",
    "\n",
    "Let $P$ denote the set of all patients ($p_i$) who are enrolled in a clinical trial for the treatment of Wilms Tumors.\n",
    "\n",
    "Let $R$ denote the set of all patients who received radiation therapy and let $A$ denote the set of all patients who received Actomycen and let $V$ denote the set of all patients who received Viscrin.\n",
    "\n",
    "Use set notation to denote the set of all Wilm's tumor patients who \n",
    "1. received radiation and either actomycen or viscrin ($P_a$).\n",
    "1. received [actimonycin d](https://en.wikipedia.org/wiki/Dactinomycin) and [vincristine](https://en.wikipedia.org/wiki/Vincristine) ($P_b$).\n",
    "1. did **not** receive radiation ($P_c$).\n",
    "\n",
    "#### Solution:\n",
    "\n",
    "\n",
    "\\begin{eqnarray*}\n",
    "P_a= P \\cap (R \\cap (A\\cup V) ),\\\\\n",
    "P_b= P \\cap (A \\cup B),\\\\\n",
    "P_c= P \\cap R^C\n",
    "\\end{eqnarray*}\n"
   ]
  },
  {
   "cell_type": "markdown",
   "metadata": {},
   "source": [
    "## Laws of Set Algebra\n",
    "\n",
    "<table>\n",
    "<tbody>\n",
    "<tr class=\"odd\">\n",
    "<td align=\"left\"></td>\n",
    "<td align=\"center\">Idempotent Laws</td>\n",
    "<td align=\"right\"></td>\n",
    "</tr>\n",
    "<tr class=\"even\">\n",
    "<td align=\"left\"><span class=\"math\"><em>A</em> ∪ <em>A</em> = <em>A</em></span></td>\n",
    "<td align=\"center\"></td>\n",
    "<td align=\"right\"><span class=\"math\"><em>A</em> ∩ <em>A</em> = <em>A</em></span></td>\n",
    "</tr>\n",
    "<tr class=\"odd\">\n",
    "<td align=\"left\"></td>\n",
    "<td align=\"center\">Associative Laws</td>\n",
    "<td align=\"right\"></td>\n",
    "</tr>\n",
    "<tr class=\"even\">\n",
    "<td align=\"left\"><span class=\"math\">(<em>A</em> ∪ <em>B</em>) ∪ <em>C</em> = <em>A</em> ∪ (<em>B</em> ∪ <em>C</em>)</span></td>\n",
    "<td align=\"center\"></td>\n",
    "<td align=\"right\"><span class=\"math\">(<em>A</em> ∩ <em>B</em>) ∩ <em>C</em> = <em>A</em> ∩ (<em>B</em> ∩ <em>C</em>)</span></td>\n",
    "</tr>\n",
    "<tr class=\"odd\">\n",
    "<td align=\"left\"></td>\n",
    "<td align=\"center\">Commutative Laws</td>\n",
    "<td align=\"right\"></td>\n",
    "</tr>\n",
    "<tr class=\"even\">\n",
    "<td align=\"left\"><span class=\"math\"><em>A</em> ∪ <em>B</em> = <em>B</em> ∪ <em>A</em></span></td>\n",
    "<td align=\"center\"></td>\n",
    "<td align=\"right\"><span class=\"math\"><em>A</em> ∩ <em>B</em> = <em>B</em> ∩ <em>A</em></span></td>\n",
    "</tr>\n",
    "<tr class=\"odd\">\n",
    "<td align=\"left\"></td>\n",
    "<td align=\"center\">Distributive Laws</td>\n",
    "<td align=\"right\"></td>\n",
    "</tr>\n",
    "<tr class=\"even\">\n",
    "<td align=\"left\"><span class=\"math\"><em>A</em> ∪ (<em>B</em> ∩ <em>C</em>) = (<em>A</em> ∪ <em>B</em>) ∩ (<em>A</em> ∪ <em>C</em>)</span></td>\n",
    "<td align=\"center\"></td>\n",
    "<td align=\"right\"><span class=\"math\"><em>A</em> ∩ (<em>B</em> ∪ <em>C</em>) = (<em>A</em> ∩ <em>B</em>) ∪ (<em>A</em> ∩ <em>C</em>)</span></td>\n",
    "</tr>\n",
    "<tr class=\"odd\">\n",
    "<td align=\"left\"></td>\n",
    "<td align=\"center\">Identity Laws</td>\n",
    "<td align=\"right\"></td>\n",
    "</tr>\n",
    "<tr class=\"even\">\n",
    "<td align=\"left\"><span class=\"math\"><em>A</em> ∪ ∅ = <em>A</em></span></td>\n",
    "<td align=\"center\"></td>\n",
    "<td align=\"right\"><span class=\"math\"><em>A</em> ∩ <em>U</em> = <em>A</em></span></td>\n",
    "</tr>\n",
    "<tr class=\"odd\">\n",
    "<td align=\"left\"><span class=\"math\"><em>A</em> ∪ <em>U</em> = <em>U</em></span></td>\n",
    "<td align=\"center\"></td>\n",
    "<td align=\"right\"><span class=\"math\"><em>A</em> ∩ ∅ = ∅</span></td>\n",
    "</tr>\n",
    "<tr class=\"even\">\n",
    "<td align=\"left\"></td>\n",
    "<td align=\"center\">Involution Law</td>\n",
    "<td align=\"right\"></td>\n",
    "</tr>\n",
    "<tr class=\"odd\">\n",
    "<td align=\"left\"></td>\n",
    "<td align=\"center\"><span class=\"math\">(<em>A</em><sup><em>c</em></sup>)<sup><em>c</em></sup> = <em>A</em></span></td>\n",
    "<td align=\"right\"></td>\n",
    "</tr>\n",
    "<tr class=\"even\">\n",
    "<td align=\"left\"></td>\n",
    "<td align=\"center\">Complement Laws</td>\n",
    "<td align=\"right\"></td>\n",
    "</tr>\n",
    "<tr class=\"odd\">\n",
    "<td align=\"left\"><span class=\"math\"><em>A</em> ∪ <em>A</em><sup><em>c</em></sup> = <em>U</em></span></td>\n",
    "<td align=\"center\"></td>\n",
    "<td align=\"right\"><span class=\"math\"><em>A</em> ∩ <em>A</em><sup><em>c</em></sup> = ∅</span></td>\n",
    "</tr>\n",
    "<tr class=\"even\">\n",
    "<td align=\"left\"><span class=\"math\"><em>U</em><sup><em>c</em></sup> = ∅</span></td>\n",
    "<td align=\"center\"></td>\n",
    "<td align=\"right\"><span class=\"math\">∅<sup><em>c</em></sup> = <em>U</em></span></td>\n",
    "</tr>\n",
    "<tr class=\"odd\">\n",
    "<td align=\"left\"></td>\n",
    "<td align=\"center\">DeMorgan’s Laws</td>\n",
    "<td align=\"right\"></td>\n",
    "</tr>\n",
    "<tr class=\"even\">\n",
    "<td align=\"left\"><span class=\"math\">(<em>A</em> ∪ <em>B</em>)<sup><em>c</em></sup> = <em>A</em><sup><em>c</em></sup> ∩ <em>B</em><sup><em>c</em></sup></span></td>\n",
    "<td align=\"center\"></td>\n",
    "<td align=\"right\"><span class=\"math\">(<em>A</em> ∩ <em>B</em>)<sup><em>c</em></sup> = <em>A</em><sup><em>c</em></sup> ∪ <em>B</em><sup><em>c</em></sup></span></td>\n",
    "</tr>\n",
    "</tbody>\n",
    "</table>\n"
   ]
  },
  {
   "cell_type": "markdown",
   "metadata": {},
   "source": [
    "## Duality\n",
    "\n",
    "If we look at the left and right columns in the previous table we can recognize a symmetry. If we take occurrences of $\\cup$, $\\cap$, $U$, and $\\emptyset$ on the left and replace them respectively with $\\cap$, $\\cup$, $\\emptyset$, and $U$ we get the equations on the right. \n",
    "\n",
    "Doing this substitution to an equation $E$ creates its **dual** $E^*$"
   ]
  },
  {
   "cell_type": "markdown",
   "metadata": {},
   "source": [
    "## Counting\n",
    "\n",
    "A set is finite if it contains $m$ distinct elements where $m$ is a non-negative integer. Otherwise, a set is said to be infinite. Examples of finite sets include: the number of people alive at the moment, the number of integers greater than zero and less than 100.\n",
    "\n",
    "The number of elements in a finite set $A$ is denoted by $n(A)$ and is referred to as the [**cardinality**](https://en.wikipedia.org/wiki/Cardinality) of the set. For two disjoint sets $A$ and $B$, \n",
    "\n",
    "\\begin{equation*}\n",
    "n(A\\cup B) = n(A)+n(B).\n",
    "\\end{equation*}\n",
    "\n",
    "If the two sets are not disjoint then\n",
    "\\begin{equation*}\n",
    "n(A\\cup B) = n(A)+n(B)-n(A\\cap B),\n",
    "\\end{equation*}\n",
    "which simply states that you don't count twice the elements that appear both in $A$ and $B$.\n",
    "\n",
    "#### Looking to the future\n",
    "##### This will be used a lot in probability"
   ]
  },
  {
   "cell_type": "markdown",
   "metadata": {},
   "source": [
    "## FYI: Infinite Sets\n",
    "\n",
    "One of Cantor's surprising findings when he first studied sets was that not all infinite sets are equal. An important infinite set is the set of positive integers. An infinite set is said to be [**countably infinite**](https://simple.wikipedia.org/wiki/Countable_set) if a one-to-one relationship can be established between each element in the set and each positive integer. The set of integers and the set of rational numbers are both countably infinite, while the set of real numbers is [**not countably infinite**](https://en.wikipedia.org/wiki/Cantor%27s_diagonal_argument).\n",
    "\n",
    "## Classes (Families), Power Sets, and Partitions\n",
    "\n",
    "As stated previously, if our set is a set of sets this is referred to as a class, collection or family.\n",
    "\n",
    "### Power Sets\n",
    "For a given set $S$, the class of all subsets of $S$ is called the  **power set** of $S$ ($P(S)$). If $S$ is finite, then so is the power set of $S$.\n",
    "\n",
    ">This statement can be proved by induction. It's true for $N=0,1,2,3$ as can be shown by examination. For the induction step suppose that the statement is true for a set with $N-1$ elements, and let $S$ be a set with $N$ elements. Remove on element $x$ from S to obtain a set $T$ with $N-1$ elements. There are two types of subsets of $S$: those that contain $x$ and those that do not contain $x$. The latter are subsets of $T$, of which there are $2^{N-1}$. Every subset $P$ of $S$ that does contain $x$ can be obtained from a subset $Q$ of $T$ by adding $x$. The set $Q$ is simply the set $P$ with $x$ removed. Clearly there is a unique and distinct set $Q$ for each set $P$ and every subset $Q$ of $T$ gives rise to a unique and distinct subset $P$ of $S$. There are thus also $2^{(N-1)}$ subsets of $S$ that contain $x$, for a total of $2^{(N-1)}$ + $2^{(N-1)} = 2^N$ ([Peter Alfeld](http://www.math.utah.edu/~pa/math/sets/powerproof.html))\n"
   ]
  },
  {
   "cell_type": "markdown",
   "metadata": {},
   "source": [
    "## Partitions\n",
    "\n",
    "A partition of a set $S$ is obtained by subdividing $S$ into exhaustive collection of non-empty, disjoint sets $\\{A_i\\}$. That is\n",
    "\n",
    "* For each $a\\in S$  $a \\in A_i$ for some $A_i$\n",
    "* The sets of $\\{A_i\\}$ are disjoint\n",
    "\n",
    "### Example: Patient Partitions\n",
    "\n",
    "* $P$ is the set of all patients at a hospital\n",
    "    * We divide each patient into the wards to which they are admitted, including a ward named named \"No ward\" for patients who are not yet admitted to a ward. (Remember our partition has to be **exhaustive**.)\n",
    "    * each of these wards are disjoint: you cannot be admitted to two different wards at the same time.\n",
    "\n",
    "\n"
   ]
  },
  {
   "cell_type": "markdown",
   "metadata": {},
   "source": [
    "## [Cartesian Product](https://en.wikipedia.org/wiki/Cartesian_product)\n",
    "\n",
    ">for sets A and B, the Cartesian product A × B is the set of all ordered pairs (a, b) where a ∈ A and b ∈ B. Products can be specified using set-builder notation, e.g.\n",
    "$$ A\\times B=\\{\\,(a,b)\\mid a\\in A\\ {\\mbox{ and }}\\ b\\in B\\,\\}.$$"
   ]
  },
  {
   "cell_type": "markdown",
   "metadata": {},
   "source": [
    "### Aside: Iterable vs Non-iterable sets\n",
    "\n",
    "If a set is finite, it is **iterable** meaning that we can iterate (loop through) all the elements (members) of the set. We cannot iterate over an infinite set."
   ]
  },
  {
   "cell_type": "code",
   "execution_count": 8,
   "metadata": {
    "collapsed": true
   },
   "outputs": [],
   "source": [
    "from sympy import Interval, FiniteSet, ProductSet"
   ]
  },
  {
   "cell_type": "markdown",
   "metadata": {},
   "source": [
    "## The ``Interval`` class creates an interval over the real numbers ($\\mathbb{R}$)"
   ]
  },
  {
   "cell_type": "code",
   "execution_count": 9,
   "metadata": {},
   "outputs": [
    {
     "data": {
      "text/plain": [
       "False"
      ]
     },
     "execution_count": 9,
     "metadata": {},
     "output_type": "execute_result"
    }
   ],
   "source": [
    "s0 = Interval(1,4)\n",
    "s0.is_iterable"
   ]
  },
  {
   "cell_type": "markdown",
   "metadata": {},
   "source": [
    "## Why is `s0` not iterable?"
   ]
  },
  {
   "cell_type": "markdown",
   "metadata": {},
   "source": [
    "## `FiniteSet` and `ProductSet`\n",
    "\n",
    "`FiniteSet` creates a finite set of discrete numbers. `ProductSet` creates the Cartesian product of two sets."
   ]
  },
  {
   "cell_type": "code",
   "execution_count": 10,
   "metadata": {
    "collapsed": true
   },
   "outputs": [],
   "source": [
    "s1 = FiniteSet(1,2,3)\n",
    "s2 = FiniteSet(2,3,4,5)"
   ]
  },
  {
   "cell_type": "code",
   "execution_count": 11,
   "metadata": {},
   "outputs": [
    {
     "data": {
      "text/plain": [
       "True"
      ]
     },
     "execution_count": 11,
     "metadata": {},
     "output_type": "execute_result"
    }
   ],
   "source": [
    "s1.is_subset(s0)"
   ]
  },
  {
   "cell_type": "code",
   "execution_count": 12,
   "metadata": {},
   "outputs": [
    {
     "data": {
      "text/plain": [
       "{1, 2, 3}"
      ]
     },
     "execution_count": 12,
     "metadata": {},
     "output_type": "execute_result"
    }
   ],
   "source": [
    "s0.intersect(s1)"
   ]
  },
  {
   "cell_type": "code",
   "execution_count": 13,
   "metadata": {},
   "outputs": [
    {
     "data": {
      "text/plain": [
       "False"
      ]
     },
     "execution_count": 13,
     "metadata": {},
     "output_type": "execute_result"
    }
   ],
   "source": [
    "s2.is_subset(s0)"
   ]
  },
  {
   "cell_type": "code",
   "execution_count": 14,
   "metadata": {},
   "outputs": [
    {
     "data": {
      "text/plain": [
       "{2, 3, 4}"
      ]
     },
     "execution_count": 14,
     "metadata": {},
     "output_type": "execute_result"
    }
   ],
   "source": [
    "s0.intersect(s2)"
   ]
  },
  {
   "cell_type": "code",
   "execution_count": 15,
   "metadata": {
    "collapsed": true
   },
   "outputs": [],
   "source": [
    "s1_s2 = ProductSet(s1,s2)"
   ]
  },
  {
   "cell_type": "code",
   "execution_count": 16,
   "metadata": {},
   "outputs": [
    {
     "name": "stdout",
     "output_type": "stream",
     "text": [
      "(1, 2)\n",
      "(1, 3)\n",
      "(1, 4)\n",
      "(1, 5)\n",
      "(2, 2)\n",
      "(2, 3)\n",
      "(2, 4)\n",
      "(2, 5)\n",
      "(3, 2)\n",
      "(3, 3)\n",
      "(3, 4)\n",
      "(3, 5)\n"
     ]
    }
   ],
   "source": [
    "for e in s1_s2:\n",
    "    print(e)"
   ]
  },
  {
   "cell_type": "markdown",
   "metadata": {},
   "source": [
    "# [Working with Sets in Python](./SetsInPython.ipynb)\n"
   ]
  }
 ],
 "metadata": {
  "kernelspec": {
   "display_name": "Python 3",
   "language": "python",
   "name": "python3"
  },
  "language_info": {
   "codemirror_mode": {
    "name": "ipython",
    "version": 3
   },
   "file_extension": ".py",
   "mimetype": "text/x-python",
   "name": "python",
   "nbconvert_exporter": "python",
   "pygments_lexer": "ipython3",
   "version": "3.5.2"
  }
 },
 "nbformat": 4,
 "nbformat_minor": 1
}

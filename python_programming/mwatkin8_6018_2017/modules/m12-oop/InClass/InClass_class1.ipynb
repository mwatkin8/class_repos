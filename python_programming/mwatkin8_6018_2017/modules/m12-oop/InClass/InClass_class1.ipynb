{
 "cells": [
  {
   "cell_type": "markdown",
   "metadata": {},
   "source": [
    "# Object Oriented Programming\n",
    "\n",
    "Object oriented programming is one of the most common [programming paradigms](https://en.wikipedia.org/wiki/Programming_paradigm). Most of what we have done so far in this course has been writing procedural code that at times takes advantage of the object oriented nature of Python. As I look at the computational environment currently, object oriented programming might be most fruitfully contrasted with functional programming which has become very important for concurrent programming. \n",
    "\n",
    "One of the key concepts that differentiates functional and object oriented (and procedural) programming is known as [side effects](https://en.wikipedia.org/wiki/Side_effect_(computer_science): some observable in the program is changed by a function or expression. This is problematic for parallel programming as one thread may depend on a variable that has been changed by another thread. In object oriented programming, the class methods can modify/change the object instances. In functional programming, we (at least try) do not change variable values.\n",
    "\n",
    "Newer languages like [Julia](http://julialang.org/) attempt to incorporate object oriented ideas into a functional programming paradigm. In Julia we can define classes, but classes do not have methods that modify them. Rather Julia uses functions that take objects as arguments and return new objects as results. The same programming style can be achieved with Python (see, for example, [Functional Python Programming](http://proquest.safaribooksonline.com/book/programming/python/9781784396992/cover/cover_html?uicode=uutah)), where one might make a class inherited from a tuple (or named tuple) and then define methods for visualizing, comparing values, etc. but not modifying them."
   ]
  },
  {
   "cell_type": "markdown",
   "metadata": {},
   "source": [
    "## Class Suggestions for Small Classes to Define?\n",
    "\n",
    "### Some ideas\n",
    "\n",
    "1. A journal article\n",
    "1. A 3D point\n",
    "1. Student\n",
    "1. Questionnaire "
   ]
  },
  {
   "cell_type": "code",
   "execution_count": null,
   "metadata": {},
   "outputs": [],
   "source": [
    "import datetime\n",
    "import dateutil.parser as parser\n",
    "def _get_date(date):\n",
    "    if isinstance(date, datetime.date):\n",
    "        return date\n",
    "    else:\n",
    "        return parser.parse(date).date()\n",
    "def get_date(date):\n",
    "    if isinstance(date, datetime.datetime):\n",
    "        return date\n",
    "    else:\n",
    "        return parser.parse(date)\n",
    "class journal_article(object):\n",
    "    \"\"\"\n",
    "    A class representing a journal article\n",
    "    \"\"\"\n",
    "    \n",
    "    def __init__(self, \n",
    "                 title=\"\", \n",
    "                 journal=\"\", \n",
    "                 publication_date=\"\", \n",
    "                 accepted_date=\"\",\n",
    "                 abstracts=\"\",\n",
    "                 authors=None):\n",
    "        \n",
    "        \n",
    "        self.title = title\n",
    "        self.journal = journal \n",
    "        self.accepted_date = accepted_date\n",
    "        self.publication_date = publication_date\n",
    "        \n",
    "        self.authors = authors \n",
    "        self.abstract = \"\" # string\n",
    "        self.citations_of_article = [] # maybe a dictionary \n",
    "      \n",
    "    def _pubdate_validator(self,pdate):\n",
    "        if pdate < self.__accepted_date:\n",
    "            raise ValueError(\"Publication date must be after acceptance date\")\n",
    "            \n",
    "    \n",
    "    \n",
    "    @property\n",
    "    def title(self):\n",
    "        return self.__title\n",
    "    @title.setter\n",
    "    def title(self,t):\n",
    "        self.__title = t.strip()\n",
    "    @property\n",
    "    def journal(self):\n",
    "        return self.__title\n",
    "    @journal.setter\n",
    "    def journal(self,j):\n",
    "        self.__journal = j.strip()\n",
    "    @property\n",
    "    def authors(self):\n",
    "        return tuple(self.__authors)\n",
    "    @authors.setter\n",
    "    def authors(self, authors):\n",
    "        if authors:\n",
    "            self.__authors = tuple(a.lower() for a in authors)\n",
    "        \n",
    "        \n",
    "        \n",
    "\n",
    "    @property\n",
    "    def publication_date(self):\n",
    "        return self.__publication_date\n",
    "    @publication_date.setter\n",
    "    def publication_date(self, date):\n",
    "        \"\"\"\n",
    "        Sets the publication date\n",
    "        \n",
    "        Arguments:\n",
    "            date: Either a string representation of a date or a datetime.date object\n",
    "        \"\"\"\n",
    "        date = get_date(date)\n",
    "        self._pubdate_validator(date)\n",
    "        self.__publication_date = date\n",
    "    @property\n",
    "    def accepted_date(self):\n",
    "        return self.__accepted_date\n",
    "    @accepted_date.setter\n",
    "    def accepted_date(self, date):\n",
    "        \n",
    "        self.__accepted_date = get_date(date)\n",
    "        \n",
    "    def status(self):\n",
    "        \"\"\"\n",
    "        Returns status of paper (e.g. accepted but not published, accepted and published, retracted)\n",
    "        \"\"\"\n",
    "        pass\n",
    "    \n",
    "    def __lt__(self, a1):\n",
    "        return self.accepted_date < a1.accepted_date\n",
    "    def __le__(self, a1):\n",
    "        return self.accepted_date <= a1.accepted_date\n",
    "    def __gt__(self, a1):\n",
    "        return self.accepted_date > a1.accepted_date\n",
    "    def __ge__(self, a1):\n",
    "        return self.accepted_date >= a1.accepted_date\n",
    "    def __eq__(self, a1):\n",
    "        return self.accepted_date == a1.accepted_date\n",
    "    def __ne__(self, a1):\n",
    "        return self.accepted_date != a1.accepted_date\n",
    "    @property\n",
    "    def citations(self):\n",
    "        return tuple(self.__citations)\n",
    "    def add_citation(self, citation):\n",
    "        if citation not in self.__citations:\n",
    "            self.__citations.append(citation)\n",
    "    def __str__(self):\n",
    "        pass\n",
    "    \n",
    "    \n",
    "    "
   ]
  },
  {
   "cell_type": "code",
   "execution_count": null,
   "metadata": {},
   "outputs": [],
   "source": [
    "article1 = \\\n",
    "journal_article(title=\"Demonstrating how to create a class\", \n",
    "                journal=\"Journal of Worthless Stuff\", \n",
    "                publication_date=\"November 1, 2017\",\n",
    "                accepted_date=\"October 31, 2017\")"
   ]
  },
  {
   "cell_type": "code",
   "execution_count": null,
   "metadata": {},
   "outputs": [],
   "source": [
    "article2 = \\\n",
    "journal_article(title=\"Demonstrating how to create a class\", \n",
    "                journal=\"Journal of Worthless Stuff\", \n",
    "                publication_date=datetime.datetime.now(),#\"November 1, 2017\",\n",
    "                accepted_date=datetime.datetime.now() )"
   ]
  },
  {
   "cell_type": "code",
   "execution_count": null,
   "metadata": {},
   "outputs": [],
   "source": [
    "article1.publication_date"
   ]
  },
  {
   "cell_type": "code",
   "execution_count": null,
   "metadata": {},
   "outputs": [],
   "source": [
    "article1.acceptance_date"
   ]
  },
  {
   "cell_type": "code",
   "execution_count": null,
   "metadata": {},
   "outputs": [],
   "source": [
    "%debug"
   ]
  },
  {
   "cell_type": "markdown",
   "metadata": {},
   "source": [
    "## Example: Drugs, Prescriptions, Dispensing\n",
    "\n",
    "* When I create a class for a drug, what do I want every drug to have?\n",
    "    * Does each drug need a unique identifier? \n",
    "        * Then do I need to keep track of all the unique identifiers that have already been assigned? \n",
    "    * Does each drug have a chemical formulae?\n",
    "    * Does a drug have a name?\n",
    "    * Does each drug have a method of delivery or is that something  that would be more specific and would be part of an inherited class?\n",
    "    "
   ]
  },
  {
   "cell_type": "code",
   "execution_count": null,
   "metadata": {},
   "outputs": [],
   "source": [
    "class drug(object):\n",
    "    \n",
    "    active_ingredient = String\n",
    "    trade_name\n",
    "    generic_name\n",
    "    half_life\n",
    "    \n",
    "class manu_drug(drug):\n",
    "    lot #\n",
    "    exp date\n",
    "    formulation\n",
    "    units\n",
    "    \n",
    "class delivered_drug(manu_drug):\n",
    "    \n",
    "    dose\n",
    "    route\n",
    "    time_dispensed\n",
    "    time_administered\n",
    "    whoto\n",
    "    whofrom "
   ]
  },
  {
   "cell_type": "markdown",
   "metadata": {},
   "source": [
    "* How does a prescription differ from a drug?\n",
    "    * A prescription has the concept of a prescribing provider\n",
    "    * A prescription has the concept of dose, frequency, mode of delivery\n",
    "    * Would I do this at a class level?\n",
    "    "
   ]
  },
  {
   "cell_type": "markdown",
   "metadata": {},
   "source": [
    "```Python\n",
    "class prescription(object):\n",
    "    prescribed by whom practice number\n",
    "    signature\n",
    "    for whom\n",
    "    Refills\n",
    "``` \n",
    "    "
   ]
  },
  {
   "cell_type": "markdown",
   "metadata": {},
   "source": [
    "* What would a class for a dispensed drug add?\n",
    "    * Who dispensed it?\n",
    "    * Time stamp of when it was dispensed?\n",
    "    * Time stamp of when it ws administered?"
   ]
  },
  {
   "cell_type": "code",
   "execution_count": null,
   "metadata": {},
   "outputs": [],
   "source": [
    "class dispensed_drug(drug):\n",
    "    pass"
   ]
  },
  {
   "cell_type": "markdown",
   "metadata": {},
   "source": [
    "## Example\n",
    "### Define a class SummableList that inherits from ``list`` and \n",
    "* adds a method to sum up the values in the list.\n",
    "* changes the ``__str__`` method to show the values of the list and the sum value"
   ]
  },
  {
   "cell_type": "code",
   "execution_count": null,
   "metadata": {},
   "outputs": [],
   "source": [
    "import numbers\n",
    "class sum_list(list):\n",
    "    \n",
    "    def __init__(self,):\n",
    "        \n",
    "        \n",
    "    def __str__(self):\n",
    "        \n",
    "        return super(sum_list, self).__str__()+\" (sum=%f)\"%self.sum() \n",
    "    \n",
    "    def sum(self):\n",
    "        v=0\n",
    "        for i in self:\n",
    "            if isinstance(i, numbers.Number):\n",
    "                v += i\n",
    "        return v\n",
    "\n",
    "print(sum_list([1,2,3, \"four\"]))"
   ]
  },
  {
   "cell_type": "markdown",
   "metadata": {},
   "source": [
    "Define an ``integer_list`` that inherits from ``list`` but can only contain integer values."
   ]
  },
  {
   "cell_type": "code",
   "execution_count": null,
   "metadata": {},
   "outputs": [],
   "source": [
    "import numbers\n",
    "class integer_list(list):\n",
    "    \n",
    "    def __init__(self,vals):\n",
    "        super(integer_list,self).__init__([i for i in vals if type(i) == int])\n",
    "        \n",
    "    def extend(self, vals):\n",
    "        super(integer_list, self).extend([i for i in vals if type(i) == int])\n",
    "        \n",
    "        \n",
    "    def append(self,x):\n",
    "        if type(x) == int:\n",
    "            super(integer_list, self).append(x)\n",
    "il1 = integer_list([1,5,7,\"fifteen\"])\n",
    "print(il1)\n",
    "il1.append(2)\n",
    "print(il1)\n",
    "il1.append(3.4)\n",
    "print(il1)\n",
    "il1.extend([1,18,4,7,\"pie\"])\n",
    "print (il1)"
   ]
  },
  {
   "cell_type": "code",
   "execution_count": null,
   "metadata": {},
   "outputs": [],
   "source": [
    "class dummy_class(object):\n",
    "    def __init__(self):\n",
    "        self.x = \"A Big Dummy\"\n",
    "mybike = dummy_class()\n",
    "wendy_bike = dummy_class()\n",
    "print(mybike)\n",
    "mybike < wendy_bike"
   ]
  },
  {
   "cell_type": "code",
   "execution_count": null,
   "metadata": {},
   "outputs": [],
   "source": [
    "il1.__str__()"
   ]
  },
  {
   "cell_type": "code",
   "execution_count": null,
   "metadata": {},
   "outputs": [],
   "source": [
    "il1 = ilist((1,2,3.0,4,\"five\"))\n",
    "print(il1)\n",
    "il1.append(5)\n",
    "print(il1)\n",
    "il1.append(\"six\")\n",
    "print(il1)\n",
    "il1.extend([6,7,\"eight\"])\n",
    "print(il1)"
   ]
  },
  {
   "cell_type": "code",
   "execution_count": null,
   "metadata": {},
   "outputs": [],
   "source": []
  },
  {
   "cell_type": "markdown",
   "metadata": {},
   "source": [
    "Create a Radiology Report class\n",
    "\n",
    "The class should have methods to\n",
    "* Parse a string into component parts of the report\n",
    "* Return specified parts of the report\n",
    "* Attributes of class should match different components of report (e.g. who is the patient, who is the referring physician, report sections\n",
    "* Can we make it so that the report itself is not modifiable but addendums can be added?\n",
    "\n",
    "Test it with carotid.txt"
   ]
  },
  {
   "cell_type": "code",
   "execution_count": null,
   "metadata": {},
   "outputs": [],
   "source": []
  },
  {
   "cell_type": "markdown",
   "metadata": {},
   "source": [
    "### [FASTA](https://blast.ncbi.nlm.nih.gov/Blast.cgi?CMD=Web&PAGE_TYPE=BlastDocs&DOC_TYPE=BlastHelp)\n",
    "\n",
    "Write a class to represent a FASTA sequence.\n",
    "\n",
    "* How to deal with DNA, RNA or proteomic sequences?\n",
    "\n",
    "* The class should have data validation built into it. For example, the sequence only consists of appropriate characters, sequence and quality scores are of equal length\n",
    "\n",
    "* What should the ``__repr__`` and ``__str__`` methods look like?\n",
    "* Any meaningful comparison methods?"
   ]
  },
  {
   "cell_type": "code",
   "execution_count": null,
   "metadata": {},
   "outputs": [],
   "source": [
    "class fasta(object):\n",
    "    def __init__(self, id, s):\n",
    "        self.id = id\n",
    "        self.s = s\n",
    "    def __str__(self):\n",
    "        return \"id = %s\\n seq=%s\"%(self.id,self.s)"
   ]
  },
  {
   "cell_type": "code",
   "execution_count": null,
   "metadata": {},
   "outputs": [],
   "source": [
    "class DNA_fasta(fasta):\n",
    "    def __init__(self, id, s):\n",
    "        self.id=id\n",
    "        if set(s.upper()).issubset({'A','T','C','G','N'}):\n",
    "            self.s=s.upper()\n",
    "        else:\n",
    "            raise ValueError('Not a valid DNA sequence')\n",
    "        \n",
    "    def GC_content(self):\n",
    "        return (self.s.count('C')+self.s.count('G'))/len(self.s)\n",
    "        "
   ]
  },
  {
   "cell_type": "code",
   "execution_count": null,
   "metadata": {},
   "outputs": [],
   "source": [
    "print(DNA_fasta('test', 'AAAATTTNGGGGCCC'))"
   ]
  },
  {
   "cell_type": "code",
   "execution_count": null,
   "metadata": {},
   "outputs": [],
   "source": []
  }
 ],
 "metadata": {
  "anaconda-cloud": {},
  "kernelspec": {
   "display_name": "Python 3",
   "language": "python",
   "name": "python3"
  },
  "language_info": {
   "codemirror_mode": {
    "name": "ipython",
    "version": 3
   },
   "file_extension": ".py",
   "mimetype": "text/x-python",
   "name": "python",
   "nbconvert_exporter": "python",
   "pygments_lexer": "ipython3",
   "version": "3.5.2"
  }
 },
 "nbformat": 4,
 "nbformat_minor": 1
}

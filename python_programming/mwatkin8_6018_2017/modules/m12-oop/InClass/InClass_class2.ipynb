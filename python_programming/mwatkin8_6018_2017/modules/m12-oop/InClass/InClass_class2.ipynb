{
 "cells": [
  {
   "cell_type": "markdown",
   "metadata": {},
   "source": [
    "# Object Oriented Programming\n",
    "\n",
    "Object oriented programming is one of the most common [programming paradigms](https://en.wikipedia.org/wiki/Programming_paradigm). Most of what we have done so far in this course has been writing procedural code that at times takes advantage of the object oriented nature of Python. As I look at the computational environment currently, object oriented programming might be most fruitfully contrasted with functional programming which has become very important for concurrent programming. \n",
    "\n",
    "One of the key concepts that differentiates functional and object oriented (and procedural) programming is known as [side effects](https://en.wikipedia.org/wiki/Side_effect_(computer_science): some observable in the program is changed by a function or expression. This is problematic for parallel programming as one thread may depend on a variable that has been changed by another thread. In object oriented programming, the class methods can modify/change the object instances. In functional programming, we (at least try) do not change variable values.\n",
    "\n",
    "Newer languages like [Julia](http://julialang.org/) attempt to incorporate object oriented ideas into a functional programming paradigm. In Julia we can define classes, but classes do not have methods that modify them. Rather Julia uses functions that take objects as arguments and return new objects as results. The same programming style can be achieved with Python (see, for example, [Functional Python Programming](http://proquest.safaribooksonline.com/book/programming/python/9781784396992/cover/cover_html?uicode=uutah)), where one might make a class inherited from a tuple (or named tuple) and then define methods for visualizing, comparing values, etc. but not modifying them."
   ]
  },
  {
   "cell_type": "code",
   "execution_count": null,
   "metadata": {},
   "outputs": [],
   "source": []
  },
  {
   "cell_type": "markdown",
   "metadata": {},
   "source": [
    "## Example: Drugs, Prescriptions, Dispensing\n",
    "\n",
    "* When I create a class for a drug, what do I want every drug to have?\n",
    "    * Does each drug need a unique identifier? \n",
    "        * Then do I need to keep track of all the unique identifiers that have already been assigned? \n",
    "    * Does each drug have a chemical formulae?\n",
    "    * Does a drug have a name?\n",
    "    * Does each drug have a method of delivery or is that something  that would be more specific and would be part of an inherited class?\n",
    "    "
   ]
  },
  {
   "cell_type": "code",
   "execution_count": null,
   "metadata": {},
   "outputs": [],
   "source": [
    "class drug(object):\n",
    "    name = \"\"\n",
    "    chemical_formula = \"\"\n",
    "    \n",
    "    indications = []\n",
    "    off_label_uses = []\n",
    "    schedule = int\n",
    "    interactes_with = []\n",
    "    warnings = []"
   ]
  },
  {
   "cell_type": "code",
   "execution_count": null,
   "metadata": {},
   "outputs": [],
   "source": [
    "class manufactored_drug(drug):\n",
    "    manufactorer = \"\"\n",
    "    lotnumber = string\n",
    "    expiration_date = datetime.datetime\n",
    "    quality_control = boolean\n",
    "    formulation (dosage form) \n",
    "    \n",
    "class dispensed_drug(manufactored_drug):\n",
    "    pharmacy\n",
    "    pharmacists\n",
    "    prescribed\n",
    "    count\n",
    "    timestamp\n",
    "class adminstered_drug(dispensed_drug):\n",
    "    dose\n",
    "    admin_timestamp\n",
    "    start/stop\n",
    "    route\n",
    "    reason"
   ]
  },
  {
   "cell_type": "markdown",
   "metadata": {},
   "source": [
    "* How does a prescription differ from a drug?\n",
    "    * A prescription has the concept of a prescribing provider\n",
    "    * A prescription has the concept of dose, frequency, mode of delivery\n",
    "    * Would I do this at a class level?\n",
    "    "
   ]
  },
  {
   "cell_type": "code",
   "execution_count": null,
   "metadata": {},
   "outputs": [],
   "source": [
    "class prescription(object):\n",
    "    pass"
   ]
  },
  {
   "cell_type": "markdown",
   "metadata": {},
   "source": [
    "* What would a class for a dispensed drug add?\n",
    "    * Who dispensed it?\n",
    "    * Time stamp of when it was dispensed?\n",
    "    * Time stamp of when it ws administered?"
   ]
  },
  {
   "cell_type": "code",
   "execution_count": null,
   "metadata": {},
   "outputs": [],
   "source": [
    "class dispensed_drug(drug):\n",
    "    pass"
   ]
  },
  {
   "cell_type": "markdown",
   "metadata": {},
   "source": [
    "## Class Suggestions for Small Classes to Define?\n",
    "\n",
    "### Some ideas\n",
    "\n",
    "1. A journal article\n",
    "1. A 3D point\n",
    "1. Student\n",
    "1. Questionnaire "
   ]
  },
  {
   "cell_type": "code",
   "execution_count": null,
   "metadata": {},
   "outputs": [],
   "source": [
    "class gene(object):\n",
    "    \"\"\"\n",
    "    A class to model a gene\n",
    "    \"\"\"\n",
    "    def __init__(self, name=\"\", begin=0, end=0, **kwargs):\n",
    "        self.__name = name.strip().upper()\n",
    "        self.synonyms = []\n",
    "        self.__functions = []\n",
    "        \n",
    "        begin = int(begin)\n",
    "        if begin < 1:\n",
    "            raise ValueError(\"begin location must be greater than zero\")\n",
    "        self.__begin = begin\n",
    "        \n",
    "        end = int(end)\n",
    "        if end <= begin:\n",
    "            raise ValueError(\"end must be greater than begin\")\n",
    "        self.__end = end\n",
    "        \n",
    "    @property\n",
    "    def name(self):\n",
    "        return self.__name\n",
    "    @property\n",
    "    def begin(self):\n",
    "        return self.__begin\n",
    "    @property\n",
    "    def end(self):\n",
    "        return self.__end\n",
    "    @property\n",
    "    def functions(self):\n",
    "        return tuple(self.__functions)\n",
    "    def add_function(self, function):\n",
    "        function = function.upper()\n",
    "        if function not in self.__functions:\n",
    "            self.__functions.append(function)\n",
    "    def __str__(self):\n",
    "        return \"name:%s; location:(%d,%d)\"%(self.name,\n",
    "                                                          self.begin, self.end)"
   ]
  },
  {
   "cell_type": "code",
   "execution_count": null,
   "metadata": {},
   "outputs": [],
   "source": [
    "yfg = gene(name=\"your favorite gene\", begin=30, end=500)\n",
    "yfg.add_function(\"something\")\n",
    "print(yfg)"
   ]
  },
  {
   "cell_type": "code",
   "execution_count": null,
   "metadata": {},
   "outputs": [],
   "source": [
    "class humangene(gene):\n",
    "    def __init__(self, chromosome=\"\", **kwargs):\n",
    "        \n",
    "        chromosome = str(chromosome).upper()\n",
    "        if chromosome in [\"%d\"%i for i in range(1,25)] + [\"X\", \"Y\"]:\n",
    "            self.__chromosome = chromosome\n",
    "        super(humangene,self).__init__(**kwargs)\n",
    "        \n",
    "        \n",
    "    @property\n",
    "    def chromosome(self):\n",
    "        return self.__chromosome\n",
    "    \n",
    "    def __str__(self):\n",
    "        return super(humangene,self).__str__()+\"; chromosome: %s\"%self.chromosome\n",
    "        "
   ]
  },
  {
   "cell_type": "code",
   "execution_count": null,
   "metadata": {},
   "outputs": [],
   "source": [
    "yfhg = humangene(name=\"my favorite human gene\", begin=130, end =500, chromosome=4)\n",
    "print(yfhg)"
   ]
  },
  {
   "cell_type": "markdown",
   "metadata": {},
   "source": [
    "## Example\n",
    "### Define a class SummableList that inherits from ``list`` and \n",
    "* adds a method to sum up the values in the list.\n",
    "* changes the ``__str__`` method to show the values of the list and the sum value"
   ]
  },
  {
   "cell_type": "code",
   "execution_count": null,
   "metadata": {},
   "outputs": [],
   "source": [
    "import numbers\n",
    "class SummableList(list):\n",
    "    def summation(self):\n",
    "        result = 0\n",
    "        return sum([i for i in self if isinstance(i,numbers.Number) ])\n",
    "        '''for i in self:\n",
    "            result += i\n",
    "        return result'''\n",
    "    def __str__(self):\n",
    "        return super(SummableList,self).__str__()+\" sum: %d\"%self.summation()"
   ]
  },
  {
   "cell_type": "code",
   "execution_count": null,
   "metadata": {},
   "outputs": [],
   "source": [
    "print(SummableList([1,2,3,4,5, \"six\"]))"
   ]
  },
  {
   "cell_type": "markdown",
   "metadata": {},
   "source": [
    "Define an ``integer_list`` that inherits from ``list`` but can only contain integer values."
   ]
  },
  {
   "cell_type": "code",
   "execution_count": null,
   "metadata": {},
   "outputs": [],
   "source": [
    "class integer_list(list):\n",
    "    def __init__(self,vals):\n",
    "        super(integer_list,self).__init__([i for i in vals if isinstance(i,numbers.Integral) ])\n",
    "    \n",
    "    def append(self,x):\n",
    "        if isinstance(x,numbers.Integral):\n",
    "            super(integer_list,self).append(x)\n",
    "    def extend(self,xes):\n",
    "            super(integer_list,self).extend([i for i in xes if isinstance(i,numbers.Integral) ])\n"
   ]
  },
  {
   "cell_type": "code",
   "execution_count": null,
   "metadata": {},
   "outputs": [],
   "source": [
    "il1 = integer_list((1,2,3.0,4,\"five\"))\n",
    "print(il1)"
   ]
  },
  {
   "cell_type": "code",
   "execution_count": null,
   "metadata": {},
   "outputs": [],
   "source": [
    "il1.append(\"hi\")\n",
    "print(il1)"
   ]
  },
  {
   "cell_type": "code",
   "execution_count": null,
   "metadata": {},
   "outputs": [],
   "source": [
    "il1.append(\"six\")\n",
    "print(il1)\n",
    "il1.extend([6,7,\"eight\"])\n",
    "print(il1)"
   ]
  },
  {
   "cell_type": "code",
   "execution_count": null,
   "metadata": {},
   "outputs": [],
   "source": []
  },
  {
   "cell_type": "markdown",
   "metadata": {},
   "source": [
    "Create a Radiology Report class\n",
    "\n",
    "The class should have methods to\n",
    "* Parse a string into component parts of the report\n",
    "* Return specified parts of the report\n",
    "* Attributes of class should match different components of report (e.g. who is the patient, who is the referring physician, report sections\n",
    "* Can we make it so that the report itself is not modifiable but addendums can be added?\n",
    "\n",
    "Test it with carotid.txt"
   ]
  },
  {
   "cell_type": "code",
   "execution_count": null,
   "metadata": {},
   "outputs": [],
   "source": []
  },
  {
   "cell_type": "markdown",
   "metadata": {},
   "source": [
    "### [FASTA](https://blast.ncbi.nlm.nih.gov/Blast.cgi?CMD=Web&PAGE_TYPE=BlastDocs&DOC_TYPE=BlastHelp)\n",
    "\n",
    "Write a class to represent a FASTA sequence.\n",
    "\n",
    "* How to deal with DNA, RNA or proteomic sequences?\n",
    "\n",
    "* The class should have data validation built into it. For example, the sequence only consists of appropriate characters, sequence and quality scores are of equal length\n",
    "\n",
    "* What should the ``__repr__`` and ``__str__`` methods look like?\n",
    "* Any meaningful comparison methods?"
   ]
  },
  {
   "cell_type": "code",
   "execution_count": null,
   "metadata": {},
   "outputs": [],
   "source": [
    "class fasta(object):\n",
    "    def __init__(self,identifier,sequence):\n",
    "        self.id = identifier\n",
    "        self.sequence = sequence\n",
    "    def __str__(self):\n",
    "        return \"\"\"id:%s\\nseq:%s\"\"\"%(self.id, self.sequence)\n",
    "        \n",
    "class dna_fasta(fasta):\n",
    "    def __init__(self,identifier,sequence):\n",
    "        sequence = sequence.upper()\n",
    "        if set(sequence).issubset({\"A\",\"T\",\"C\",\"G\"}):\n",
    "            super(dna_fasta, self).__init__(identifier, sequence)\n",
    "        else:\n",
    "            raise ValueError(\"Invalid DNA Sequence\")\n",
    "    def cg_count(self):\n",
    "        return (self.sequence.count(\"C\")+self.sequence.count(\"G\"))/len(self.sequence)\n",
    "\n",
    "        \n",
    "class rna_fasta(fasta):\n",
    "    def __init__(self,identifier,sequence):\n",
    "        sequence = sequence.upper()\n",
    "        if set(sequence).issubset({\"A\",\"T\",\"C\",\"G\", \"U\"}):\n",
    "            super(rna_fasta, self).__init__(identifier, sequence)\n",
    "        else:\n",
    "            raise ValueError(\"Invalid RNA Sequence\")\n",
    "    \n",
    "        "
   ]
  },
  {
   "cell_type": "code",
   "execution_count": null,
   "metadata": {},
   "outputs": [],
   "source": [
    "df1 = dna_fasta(\"myid\", \"CCTTGGAACCGGG\")\n",
    "print(df1)\n",
    "print(df1.cg_count())"
   ]
  },
  {
   "cell_type": "code",
   "execution_count": null,
   "metadata": {},
   "outputs": [],
   "source": [
    "type(dna_fasta)"
   ]
  },
  {
   "cell_type": "code",
   "execution_count": null,
   "metadata": {},
   "outputs": [],
   "source": [
    "rf1 = rna_fasta(\"myid2\", \"CCTGGCCAACCGGUUGG\")"
   ]
  },
  {
   "cell_type": "code",
   "execution_count": null,
   "metadata": {},
   "outputs": [],
   "source": [
    "print(rf1)"
   ]
  },
  {
   "cell_type": "code",
   "execution_count": null,
   "metadata": {},
   "outputs": [],
   "source": []
  }
 ],
 "metadata": {
  "anaconda-cloud": {},
  "kernelspec": {
   "display_name": "Python 3",
   "language": "python",
   "name": "python3"
  },
  "language_info": {
   "codemirror_mode": {
    "name": "ipython",
    "version": 3
   },
   "file_extension": ".py",
   "mimetype": "text/x-python",
   "name": "python",
   "nbconvert_exporter": "python",
   "pygments_lexer": "ipython3",
   "version": "3.5.2"
  }
 },
 "nbformat": 4,
 "nbformat_minor": 1
}

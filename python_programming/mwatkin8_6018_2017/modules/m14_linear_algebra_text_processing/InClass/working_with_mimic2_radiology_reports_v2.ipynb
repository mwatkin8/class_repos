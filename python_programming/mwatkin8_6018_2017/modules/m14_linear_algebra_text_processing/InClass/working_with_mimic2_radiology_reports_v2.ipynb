{
 "cells": [
  {
   "cell_type": "code",
   "execution_count": 1,
   "metadata": {
    "collapsed": true
   },
   "outputs": [],
   "source": [
    "import pymysql\n",
    "import pandas as pd\n",
    "import getpass\n",
    "from textblob import TextBlob\n",
    "import re"
   ]
  },
  {
   "cell_type": "code",
   "execution_count": 3,
   "metadata": {},
   "outputs": [
    {
     "name": "stdout",
     "output_type": "stream",
     "text": [
      "Enter MySQL passwd for jovyan········\n"
     ]
    }
   ],
   "source": [
    "conn = pymysql.connect(host=\"mysql\",\n",
    "                       port=3306,user=\"jovyan\",\n",
    "                       passwd=getpass.getpass(\"Enter MySQL passwd for jovyan\"),db='mimic2')\n",
    "cursor = conn.cursor()"
   ]
  },
  {
   "cell_type": "markdown",
   "metadata": {},
   "source": [
    "### Use Pandas and SQL to create a dataframe with the following:\n",
    "* subject_id\n",
    "* hospital admission id\n",
    "* text of the radiology report\n",
    "* Limit the number of reports to 10000"
   ]
  },
  {
   "cell_type": "code",
   "execution_count": 4,
   "metadata": {},
   "outputs": [
    {
     "data": {
      "text/html": [
       "<div>\n",
       "<table border=\"1\" class=\"dataframe\">\n",
       "  <thead>\n",
       "    <tr style=\"text-align: right;\">\n",
       "      <th></th>\n",
       "      <th>subject_id</th>\n",
       "      <th>hadm_id</th>\n",
       "      <th>text</th>\n",
       "    </tr>\n",
       "  </thead>\n",
       "  <tbody>\n",
       "    <tr>\n",
       "      <th>0</th>\n",
       "      <td>56</td>\n",
       "      <td>28766.0</td>\n",
       "      <td>\\n\\n\\n     DATE: [**2644-1-17**] 10:53 AM\\n   ...</td>\n",
       "    </tr>\n",
       "    <tr>\n",
       "      <th>1</th>\n",
       "      <td>56</td>\n",
       "      <td>28766.0</td>\n",
       "      <td>\\n\\n\\n     DATE: [**2644-1-17**] 10:53 AM\\n   ...</td>\n",
       "    </tr>\n",
       "    <tr>\n",
       "      <th>2</th>\n",
       "      <td>56</td>\n",
       "      <td>28766.0</td>\n",
       "      <td>\\n\\n\\n     DATE: [**2644-1-17**] 10:43 AM\\n   ...</td>\n",
       "    </tr>\n",
       "    <tr>\n",
       "      <th>3</th>\n",
       "      <td>56</td>\n",
       "      <td>28766.0</td>\n",
       "      <td>\\n\\n\\n     DATE: [**2644-1-17**] 6:37 AM\\n    ...</td>\n",
       "    </tr>\n",
       "    <tr>\n",
       "      <th>4</th>\n",
       "      <td>56</td>\n",
       "      <td>28766.0</td>\n",
       "      <td>\\n\\n\\n     DATE: [**2644-1-19**] 12:09 PM\\n   ...</td>\n",
       "    </tr>\n",
       "  </tbody>\n",
       "</table>\n",
       "</div>"
      ],
      "text/plain": [
       "   subject_id  hadm_id                                               text\n",
       "0          56  28766.0  \\n\\n\\n     DATE: [**2644-1-17**] 10:53 AM\\n   ...\n",
       "1          56  28766.0  \\n\\n\\n     DATE: [**2644-1-17**] 10:53 AM\\n   ...\n",
       "2          56  28766.0  \\n\\n\\n     DATE: [**2644-1-17**] 10:43 AM\\n   ...\n",
       "3          56  28766.0  \\n\\n\\n     DATE: [**2644-1-17**] 6:37 AM\\n    ...\n",
       "4          56  28766.0  \\n\\n\\n     DATE: [**2644-1-19**] 12:09 PM\\n   ..."
      ]
     },
     "execution_count": 4,
     "metadata": {},
     "output_type": "execute_result"
    }
   ],
   "source": [
    "rad_data = \\\n",
    "pd.read_sql(\"\"\"SELECT noteevents.subject_id, \n",
    "                      noteevents.hadm_id,\n",
    "                      noteevents.text \n",
    "               FROM noteevents\n",
    "               WHERE noteevents.category = 'RADIOLOGY_REPORT' LIMIT 10000\"\"\",conn)\n",
    "rad_data.head(5)"
   ]
  },
  {
   "cell_type": "code",
   "execution_count": 5,
   "metadata": {},
   "outputs": [
    {
     "data": {
      "text/plain": [
       "(10000, 3)"
      ]
     },
     "execution_count": 5,
     "metadata": {},
     "output_type": "execute_result"
    }
   ],
   "source": [
    "rad_data.shape"
   ]
  },
  {
   "cell_type": "code",
   "execution_count": 9,
   "metadata": {},
   "outputs": [
    {
     "name": "stdout",
     "output_type": "stream",
     "text": [
      "\n",
      "\n",
      "\n",
      "     DATE: [**2644-1-17**] 10:43 AM\n",
      "     CT HEAD W/O CONTRAST                                            Clip # [**Clip Number (Radiology) 12567**]\n",
      "     Reason: ? stability of bleed                                        \n",
      "     Admitting Diagnosis: HEAD BLEED\n",
      "     ______________________________________________________________________________\n",
      "     UNDERLYING MEDICAL CONDITION:\n",
      "      [**Age over 90 **] year old woman with ? hemorragic mass                                        \n",
      "     REASON FOR THIS EXAMINATION:\n",
      "      ? stability of bleed                                                            \n",
      "     No contraindications for IV contrast\n",
      "     ______________________________________________________________________________\n",
      "                                     FINAL REPORT  (REVISED)\n",
      "     HISTORY:  [**Age over 90 **] year-old woman with a history of metastatic lung cancer to the\n",
      "     brain.  Question hemorrhagic mass.  Question stability of bleed.\n",
      "     \n",
      "     COMPARISON:  Head CT from [**Hospital 12568**] Hospital dated [**2644-1-16**].\n",
      "     \n",
      "     TECHNIQUE:  Noncontrast head CT.\n",
      "     \n",
      "     FINDINGS:  Compared to the prior days study, there is stable appearance of the\n",
      "     right parietal intraparenchymal hemorrhage with surrounding edema.  At the\n",
      "     superior margin of the parenchymal hemorrhage there is a rounded heterogeneous\n",
      "     focus which could represent a metastatic lesion.  An additional 2mm hyperdense\n",
      "     focus, possibly hemorrhage, is noted in the posteromedial margin of the left\n",
      "     thalamus, with surroundng edema.  Low-attenuation foci seen in both basal\n",
      "     ganglia and insular regions are consistent with chronic lacunar infarcts.\n",
      "     There is no shift of midline structures.  The ventricles are stable in\n",
      "     appearance.  The osseous and soft tissue structures are unremarkable.\n",
      "     \n",
      "     IMPRESSION:  Stable appearance of right parietal lobe and left thalamic\n",
      "     hemorrhages, which are concerning for hemorrhagic metastasis in this patient\n",
      "     with known metastatic lung carcinoma to the brain.\n",
      "     \n",
      "     \n",
      "\n",
      "\n"
     ]
    }
   ],
   "source": [
    "print(rad_data.iloc[2][\"text\"])"
   ]
  },
  {
   "cell_type": "markdown",
   "metadata": {},
   "source": [
    "### Write a function that returns true or false depending on whether the report contains an impression section\n",
    "\n",
    "#### Hints\n",
    "\n",
    "* Not every report will have an impression section\n",
    "* \"INTERPRETATION\" and \"CONCLUSIONS\" might be synonyms for \"IMPRESSION\""
   ]
  },
  {
   "cell_type": "code",
   "execution_count": null,
   "metadata": {
    "collapsed": true
   },
   "outputs": [],
   "source": [
    "def count_impression(report):\n",
    "    pass\n"
   ]
  },
  {
   "cell_type": "code",
   "execution_count": null,
   "metadata": {
    "collapsed": true
   },
   "outputs": [],
   "source": [
    "sum([count_impression(report) for report in rad_data[\"text\"]])"
   ]
  },
  {
   "cell_type": "markdown",
   "metadata": {},
   "source": [
    "### Write a function that returns the impression section of a report\n",
    "\n"
   ]
  },
  {
   "cell_type": "code",
   "execution_count": null,
   "metadata": {
    "collapsed": true
   },
   "outputs": [],
   "source": [
    "def get_impression(report):\n",
    "    pass    \n"
   ]
  },
  {
   "cell_type": "markdown",
   "metadata": {},
   "source": [
    "### Define Regular expressions for data cleansing\n",
    "\n",
    "We have a lot of patterns that are unique and don't convey meaningful information\n",
    "\n",
    "* De-identified names, dates, etc. \n",
    "    * `[**Clip Number (Radiology) 12569**]`\n",
    "    * `[**Hospital 12568**]`\n",
    "    * `[**Last Name (NamePattern4) 337**]` \n",
    "    * `[**First Name8 (NamePattern2) 12565**]` \n",
    "    * `[**Last Name (NamePattern1) 12566**]`\n",
    "* Separators  (e.g. `__________________`)\n",
    "\n",
    "### Split into groups and write and test regular expressions to capture these patterns\n",
    "* Write a regular expression to replace dates in the reports with ``[**DATE**]``\n",
    "* Write a regular expression to replace times in the reports with ``[**TIME**]``\n",
    "* Write a regular expression to replaces digits with \"d\", (e.g. \"43 cc\" would become \"dd cm\")"
   ]
  },
  {
   "cell_type": "code",
   "execution_count": null,
   "metadata": {
    "collapsed": true
   },
   "outputs": [],
   "source": [
    "date=re.compile(r\"\"\"((?P<month>[A-Z][a-z]{2,}(\\.)?) (?P<day>[0-9]{1,2}))\"\"\")\n",
    "last_name=re.compile(r\"\"\"\\[\\*\\*Last Name \\(NamePattern\\d+\\) \\*\\*\\]\"\"\")\n",
    "\n",
    "age2 = re.compile(r\"\"\"(?P<age>[0-9]+)(-|\\s)y(ear(s)?|\\.)(-|\\s)?o(ld|\\.)\"\"\")\n",
    "age3 = re.compile(r\"\"\"\\bage(d)? (?P<age>[0-9]+)\"\"\")\n",
    "digits = re.compile(r\"\"\"\\d\"\"\")\n",
    "def age_in_decades(m):\n",
    "    age = int(m.group(\"age\"))\n",
    "    \n",
    "    return \"[** Age in %ss**]\"%(int(age/10)*10,)\n",
    "\n",
    "age_in_decades(next(age2.finditer(\"74-year-old\")))\n",
    "tmp = re.sub(age2, age_in_decades, re.sub(age3, age_in_decades, report_txt))"
   ]
  },
  {
   "cell_type": "markdown",
   "metadata": {},
   "source": [
    "#### Hints\n",
    "\n",
    "* Look at some sample reports to see what dates and times look like in the reports\n",
    "* What order would you need to apply the regular expressions?"
   ]
  },
  {
   "cell_type": "code",
   "execution_count": null,
   "metadata": {
    "collapsed": true
   },
   "outputs": [],
   "source": [
    "for i in range(10):\n",
    "    print(rad_data.iloc[i]['text'])\n",
    "    print(\"*\"*42,\"\\n\\n\")"
   ]
  },
  {
   "cell_type": "markdown",
   "metadata": {},
   "source": [
    "### You can use the Pandas `iloc` method to grab specific reports"
   ]
  },
  {
   "cell_type": "code",
   "execution_count": null,
   "metadata": {
    "collapsed": true
   },
   "outputs": [],
   "source": [
    "print(rad_data.iloc[0][\"text\"])"
   ]
  },
  {
   "cell_type": "code",
   "execution_count": null,
   "metadata": {
    "collapsed": true
   },
   "outputs": [],
   "source": [
    "print(rad_data.iloc[0][\"text\"])"
   ]
  },
  {
   "cell_type": "markdown",
   "metadata": {},
   "source": [
    "### Create a new column named \"impression\" for storing just the impression portion of the report"
   ]
  },
  {
   "cell_type": "code",
   "execution_count": null,
   "metadata": {
    "collapsed": true
   },
   "outputs": [],
   "source": [
    "rad_data[\"impression\"] = \\\n",
    "rad_data.apply(lambda row: digits.sub(\"d\", get_impression(row[\"text\"])).lower(), axis=1)"
   ]
  },
  {
   "cell_type": "code",
   "execution_count": null,
   "metadata": {
    "collapsed": true
   },
   "outputs": [],
   "source": [
    "rad_data.head()"
   ]
  },
  {
   "cell_type": "code",
   "execution_count": null,
   "metadata": {
    "collapsed": true
   },
   "outputs": [],
   "source": [
    "print(rad_data.iloc[20][\"impression\"])"
   ]
  },
  {
   "cell_type": "markdown",
   "metadata": {},
   "source": [
    "### How many unique words occur in the corpus?\n",
    "\n",
    "#### Hint\n",
    "\n",
    "1. Use TextBlob\n",
    "1. Put all the reports into a single string\n",
    "\n",
    "#### I got 8658"
   ]
  },
  {
   "cell_type": "code",
   "execution_count": null,
   "metadata": {
    "collapsed": true
   },
   "outputs": [],
   "source": [
    "#\" \".join(rad_data[\"impression\"])"
   ]
  },
  {
   "cell_type": "code",
   "execution_count": null,
   "metadata": {
    "collapsed": true
   },
   "outputs": [],
   "source": [
    "unique_impression_words = set(TextBlob(\" \".join([report for report in rad_data[\"impression\"]])).words)\n",
    "len(unique_impression_words)\n",
    "\n"
   ]
  },
  {
   "cell_type": "code",
   "execution_count": null,
   "metadata": {
    "collapsed": true
   },
   "outputs": [],
   "source": [
    "#unique_impression_words"
   ]
  },
  {
   "cell_type": "code",
   "execution_count": null,
   "metadata": {
    "collapsed": true
   },
   "outputs": [],
   "source": [
    "from gensim.parsing.preprocessing import STOPWORDS\n",
    "STOPWORDS"
   ]
  },
  {
   "cell_type": "code",
   "execution_count": null,
   "metadata": {
    "collapsed": true
   },
   "outputs": [],
   "source": [
    "my_stop_words = frozenset([\"a\", \"am\", \"an\", \"and\", \"are\", \"as\", \"at\", \"be\", \"for\", \"is\", \"the\", \"is\", \"of\", \"which\", ])"
   ]
  },
  {
   "cell_type": "markdown",
   "metadata": {},
   "source": [
    "## Create a single string with all the reports\n",
    "\n",
    "#### Hints, etc.\n",
    "* Use List Comprehension\n",
    "* Use string joins\n",
    "* Iterate over the rows of the data frame"
   ]
  },
  {
   "cell_type": "code",
   "execution_count": null,
   "metadata": {
    "collapsed": true
   },
   "outputs": [],
   "source": []
  },
  {
   "cell_type": "markdown",
   "metadata": {},
   "source": [
    "### Define a vector space for the radiology corpus\n",
    "\n",
    "#### Hints\n",
    "\n",
    "1. How would you build a corpus from words only occuring more than N times?"
   ]
  },
  {
   "cell_type": "markdown",
   "metadata": {},
   "source": [
    "### Create a new column named `\"impression no stops\"` where [stop words](https://en.wikipedia.org/wiki/Stop_words) have been dropped from the impression\n",
    "\n",
    "* The gensim package has stop words defined (``from gensim.parsing.preprocessing import STOPWORDS``\n",
    "\n",
    "#### Hints\n",
    "1. Do you agree with dropping all the stop words?\n",
    "1. How could we create a new stopwords frozen set absent the terms we wan't to keep (double negative?)\n",
    "1. You could use a regular expressions substitution or token the report first and operate on the list of words."
   ]
  },
  {
   "cell_type": "code",
   "execution_count": null,
   "metadata": {
    "collapsed": true
   },
   "outputs": [],
   "source": [
    "rad_data[\"impression no stops\"] = \\\n",
    "rad_data.apply(???), axis=1)"
   ]
  },
  {
   "cell_type": "code",
   "execution_count": null,
   "metadata": {
    "collapsed": true
   },
   "outputs": [],
   "source": [
    "rad_data.iloc[0][\"impression\"]"
   ]
  },
  {
   "cell_type": "code",
   "execution_count": null,
   "metadata": {
    "collapsed": true
   },
   "outputs": [],
   "source": [
    "rad_data.iloc[0][\"impression no stops\"]"
   ]
  },
  {
   "cell_type": "markdown",
   "metadata": {},
   "source": [
    "### What are the unique words in our vocabulary?"
   ]
  },
  {
   "cell_type": "code",
   "execution_count": null,
   "metadata": {
    "collapsed": true
   },
   "outputs": [],
   "source": [
    "unique_impression_words = ???\n"
   ]
  },
  {
   "cell_type": "markdown",
   "metadata": {},
   "source": [
    "### We'll create a vocabulary with `zip` and `dict`"
   ]
  },
  {
   "cell_type": "code",
   "execution_count": null,
   "metadata": {
    "collapsed": true
   },
   "outputs": [],
   "source": [
    "word_map = dict(zip(unique_impression_words,range(len(unique_impression_words))))"
   ]
  },
  {
   "cell_type": "code",
   "execution_count": null,
   "metadata": {
    "collapsed": true
   },
   "outputs": [],
   "source": [
    "len(word_map)"
   ]
  },
  {
   "cell_type": "code",
   "execution_count": null,
   "metadata": {
    "collapsed": true
   },
   "outputs": [],
   "source": [
    "word_map"
   ]
  },
  {
   "cell_type": "markdown",
   "metadata": {},
   "source": [
    "### Save for use in our next notebook"
   ]
  },
  {
   "cell_type": "code",
   "execution_count": null,
   "metadata": {
    "collapsed": true
   },
   "outputs": [],
   "source": [
    "import gzip\n",
    "import pickle\n",
    "\n",
    "with open(\"rad_data.pickle.gz\", \"wb\") as f0:\n",
    "    pickle.dump(rad_data, f0)"
   ]
  },
  {
   "cell_type": "code",
   "execution_count": null,
   "metadata": {
    "collapsed": true
   },
   "outputs": [],
   "source": [
    "with open(\"rad_vocabulary.pickle.gz\", \"wb\") as f0:\n",
    "    pickle.dump(word_map, f0)"
   ]
  },
  {
   "cell_type": "code",
   "execution_count": null,
   "metadata": {
    "collapsed": true
   },
   "outputs": [],
   "source": []
  }
 ],
 "metadata": {
  "kernelspec": {
   "display_name": "Python 3",
   "language": "python",
   "name": "python3"
  },
  "language_info": {
   "codemirror_mode": {
    "name": "ipython",
    "version": 3
   },
   "file_extension": ".py",
   "mimetype": "text/x-python",
   "name": "python",
   "nbconvert_exporter": "python",
   "pygments_lexer": "ipython3",
   "version": "3.5.2"
  }
 },
 "nbformat": 4,
 "nbformat_minor": 1
}

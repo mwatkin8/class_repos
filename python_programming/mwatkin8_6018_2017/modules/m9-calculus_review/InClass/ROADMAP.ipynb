{
 "cells": [
  {
   "cell_type": "markdown",
   "metadata": {},
   "source": [
    "# Calculus, Signals, Images, and Matplotlib\n",
    "\n",
    "* [Derivatives](./Derivatives.ipynb)\n",
    "* [ECG Signals](./ecg_derivatives.ipynb)\n",
    "* [Images and Derivatives](./ImagesAndDerivatives.ipynb)\n",
    "\n",
    "## FYI\n",
    "\n",
    "* [Optimization](./optimization.ipynb)"
   ]
  },
  {
   "cell_type": "markdown",
   "metadata": {},
   "source": [
    "# Modifying our Jupyter Configuration\n",
    "\n",
    "The latest version of the Jupyter notebook comes with some terrible default settings. Essentially if we try to display an image, we are going to get a message about\n",
    "\n",
    "```\n",
    "IOPub data rate exceeded.\n",
    "The notebook server will temporarily stop sending output\n",
    "to the client in order to avoid crashing it.\n",
    "To change this limit, set the config variable\n",
    "`--NotebookApp.iopub_data_rate_limit`.\n",
    "```\n",
    "\n",
    "In order to fix this, we have to create a configuration file for Jupyter and then edit it to change the default value for ``iopub_data_rate_limite``. To do this we need to do the following. In a bash cell or a terminal run the following\n",
    "\n",
    "```bash\n",
    "jupyter notebook --generate-config\n",
    "```\n",
    "\n",
    "This creates the file ``/home/jovyan/.jupyter/jupyter_notebook_config.py``. This is a Python file that allows us to change the behavior of the notebooks. \n",
    "\n",
    "We need to edit this file with vim to change this line\n",
    "\n",
    "```Python\n",
    "#c.NotebookApp.iopub_data_rate_limit = 1000000\n",
    "```\n",
    "\n",
    "to\n",
    "\n",
    "```Python\n",
    "c.NotebookApp.iopub_data_rate_limit = 1e10\n",
    "```\n",
    "\n",
    "We made need to restart your jupyter container to make this take effect."
   ]
  },
  {
   "cell_type": "code",
   "execution_count": null,
   "metadata": {},
   "outputs": [],
   "source": []
  }
 ],
 "metadata": {
  "anaconda-cloud": {},
  "kernelspec": {
   "display_name": "Python 3",
   "language": "python",
   "name": "python3"
  },
  "language_info": {
   "codemirror_mode": {
    "name": "ipython",
    "version": 3
   },
   "file_extension": ".py",
   "mimetype": "text/x-python",
   "name": "python",
   "nbconvert_exporter": "python",
   "pygments_lexer": "ipython3",
   "version": "3.5.2"
  }
 },
 "nbformat": 4,
 "nbformat_minor": 1
}

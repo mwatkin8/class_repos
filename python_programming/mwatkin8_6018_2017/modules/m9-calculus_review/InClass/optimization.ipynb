{
 "cells": [
  {
   "cell_type": "markdown",
   "metadata": {},
   "source": [
    "# [An Introduction to Gradient Descent in Python](http://tillbergmann.com/blog/python-gradient-descent.html)\n",
    "## This notebook is a slight edit of a notebook that was created by Till Bergmann and is available [here](https://raw.githubusercontent.com/tillbe/pelican-blog/master/content/notebooks/gradient_descent.ipynb)"
   ]
  },
  {
   "cell_type": "markdown",
   "metadata": {},
   "source": [
    "[Gradient descent](https://en.wikipedia.org/wiki/Gradient_descent) is an optimization algorithm used to find the local minimum of a function. It is commonly used in many different machine learning algorithms. In this blog post, I will explain the principles behind gradient descent using Python, starting with a simple example of how gradient descent can be used to find the local minimum of a quadratic equation, and then progressing to applying gradient descent to linear regression. By the end of the post, you should be able to code your own version of gradient descent and understand the concept behind it."
   ]
  },
  {
   "cell_type": "code",
   "execution_count": null,
   "metadata": {},
   "outputs": [],
   "source": [
    "!pip install git+https://github.com/jakevdp/JSAnimation.git"
   ]
  },
  {
   "cell_type": "code",
   "execution_count": null,
   "metadata": {},
   "outputs": [],
   "source": [
    "# loading necessary libraries and setting up plotting libraries\n",
    "import numpy as np\n",
    "import seaborn as sns\n",
    "\n",
    "import bokeh.plotting as bp\n",
    "import matplotlib.pyplot as plt\n",
    "import matplotlib.animation as animation\n",
    "\n",
    "from sklearn.datasets.samples_generator import make_regression \n",
    "from scipy import stats \n",
    "from bokeh.models import  WheelZoomTool, ResetTool, PanTool\n",
    "from JSAnimation import IPython_display\n",
    "\n",
    "W = 590\n",
    "H = 350\n",
    "bp.output_notebook()\n",
    "\n",
    "%matplotlib inline"
   ]
  },
  {
   "cell_type": "markdown",
   "metadata": {},
   "source": [
    "## Minimizing a quadratic equation\n",
    "\n",
    "To start, let's suppose we have a simple quadratic function, $ f(x) = x^2 − 6x + 5$, and we want to find the minimum of this function. There are plenty of possible reasons why you would want to find the minimum: For example, an object (like a hot air balloon) might be falling down a certain amount of time, before rising again. You want to find out the lowest height of the balloon to make sure you don't accidentally crash into the ground. We can solve this analytically using calculus, by finding the derivate and setting it to zero:\n",
    "\n",
    "$$\\begin{align}\n",
    "f'(x) = 2x - 6 \\\\\n",
    "2x - 6  = 0\\\\\n",
    "2x = 6\\\\\n",
    "x = 3\\end{align}$$\n",
    "\n",
    "By simply plotting the function, we can see that the local minimum is indeed at 3:"
   ]
  },
  {
   "cell_type": "code",
   "execution_count": null,
   "metadata": {},
   "outputs": [],
   "source": [
    "# <!-- collapse=True -->\n",
    "\n",
    "x = np.linspace(-15,21,100)\n",
    "y = x**2-6*x+5\n",
    "\n",
    "TOOLS = [WheelZoomTool(), ResetTool(), PanTool()]\n",
    "\n",
    "s1 = bp.figure(width=W, plot_height=H, \n",
    "               title='Local minimum of function',  \n",
    "               tools=TOOLS)\n",
    "s1.line(x, y, color=\"navy\", alpha=0.5, line_width=3)\n",
    "s1.circle(3, -4, size =10, color=\"orange\")\n",
    "#s1.title_text_font_size = '16pt'\n",
    "s1.yaxis.axis_label_text_font_size = \"14pt\"\n",
    "s1.xaxis.axis_label_text_font_size = \"14pt\"\n",
    "\n",
    "\n",
    "bp.show(s1)"
   ]
  },
  {
   "cell_type": "markdown",
   "metadata": {},
   "source": [
    "We can also find the local minimum with gradient descent - it's an iterative function using the steepest descent. To find the local minimum, you start at a random point, and move into the direction of steepest descent relative to the gradient, i.e. into the direction that goes down (hence, *descent*). In this example, let's suppose we start at $x = 15$. The gradient at this point is $2 \\times 15 - 6 = 24$. Because we're using gradient *descent*, we need to subtract the gradient from our $x$-coordinate. However, notice that $16 - 25$ gives us $-9$, clearly overshooting over target of $-3$. To fix this, we multiply the gradient by a *step size*. This step size (often called alpha) has to be chosen carefully, as a value too small will result in a long computation time, while a value too large will not give you the right result (by overshooting) or even fail to converge. In this example, we'll set the step size to 0.01, which means we'll subtract $24 \\times 0.01$ from 15, which is $14.76$. This is now our new temporary local minimum: We continue this method until we either don't see a change after we subtracted the gradient * step size, or until we've completed a pre-set number of iterations. \n",
    "\n",
    "Below, I've coded this algorithm in Python. The algorithm stops when the values between the new and the temporary minimum do not differ by more than 0.001 - if we need more precision, we can decrease this value. According to gradient descent, the local minimum occurs at $3.05$, which is not too far off from the true local minimum."
   ]
  },
  {
   "cell_type": "code",
   "execution_count": null,
   "metadata": {},
   "outputs": [],
   "source": [
    "old_min = 0\n",
    "temp_min = -9\n",
    "step_size = 0.01\n",
    "precision = 0.001\n",
    " \n",
    "def f_derivative(x):\n",
    "    return 2*x -6\n",
    "\n",
    "mins = []\n",
    "cost = []\n",
    "\n",
    "while abs(temp_min - old_min) > precision:\n",
    "    old_min = temp_min \n",
    "    gradient = f_derivative(old_min) \n",
    "    move = gradient * step_size\n",
    "    temp_min = old_min - move\n",
    "    cost.append((3-temp_min)**2)\n",
    "    mins.append(temp_min)\n",
    " \n",
    "print(\"Local minimum occurs at {}.\".format(round(temp_min,2)))"
   ]
  },
  {
   "cell_type": "markdown",
   "metadata": {},
   "source": [
    "We can visualize the gradient descent by plotting all temporary local minima on the curve. As you can see, the improvement decreases over time; at the end, the local minimum barely improves."
   ]
  },
  {
   "cell_type": "code",
   "execution_count": null,
   "metadata": {},
   "outputs": [],
   "source": [
    "# <!-- collapse=True -->\n",
    "\n",
    "def init():\n",
    "    line.set_data([], [])\n",
    "    return line,\n",
    "\n",
    "def animate(i):\n",
    "    global mins\n",
    "    x_n = mins[0::10][i]\n",
    "    y_n = x_n**2-6*x_n+5\n",
    "    line.set_data(x_n, y_n)\n",
    "    return line,\n",
    "\n",
    "fig = plt.figure(figsize=(10, 6))\n",
    "ax = plt.axes(xlim=(-15, 21), ylim=(-50, 350))\n",
    "ax.plot(x,y, linewidth=4 )\n",
    "line, = ax.plot([], [], \"D\", markersize=12)\n",
    "animation.FuncAnimation(fig, animate, init_func=init,\n",
    "                        frames=len(mins[0::10]), interval=200)"
   ]
  },
  {
   "cell_type": "markdown",
   "metadata": {},
   "source": [
    "Another important visualization of gradient descent is that there should be a visible improvement over time: In this example, I simply plotted the squared distance from the local minima calculated by gradient descent and the true local minimum against the iteration during which it was calculated. As we can see, the distance gets smaller over time, but barely changes in later iterations. This measure of distance is often called the *cost* or *loss*, but the implementation differs depending on what function you're trying to minimize. "
   ]
  },
  {
   "cell_type": "code",
   "execution_count": null,
   "metadata": {},
   "outputs": [],
   "source": [
    "# <!-- collapse=True -->\n",
    "\n",
    "\n",
    "TOOLS = [WheelZoomTool(), ResetTool(), PanTool()]\n",
    "\n",
    "\n",
    "x, y = (zip(*enumerate(cost)))\n",
    "s1 = bp.figure(width=W, \n",
    "               height=H, \n",
    "               title='Squared distance to true local minimum',  \n",
    "#                title_text_font_size='14pt', \n",
    "               tools=TOOLS,\n",
    "               x_axis_label = 'Iteration',\n",
    "               y_axis_label = 'Distance'\n",
    ")\n",
    "s1.line(x, y, color=\"navy\", alpha=0.5, line_width=3)\n",
    "#s1.title_text_font_size = '16pt'\n",
    "s1.yaxis.axis_label_text_font_size = \"14pt\"\n",
    "s1.xaxis.axis_label_text_font_size = \"14pt\"\n",
    "\n",
    "\n",
    "bp.show(s1)"
   ]
  },
  {
   "cell_type": "markdown",
   "metadata": {},
   "source": [
    "## Linear regression"
   ]
  },
  {
   "cell_type": "markdown",
   "metadata": {},
   "source": [
    "Hopefully, the previous section gave you the basic understanding of gradient descent. In this section, we'll apply the same concept to *linear regression* in order to find line coefficients that fit the data well.\n",
    "\n",
    "Let's make up some data with noise and plot the resulting data. In this example, it doesn't really matter what the data represent - it could be any two variables that are related to each other, like the height and weight of a person. Additionally, I calculated the line of best fit through the least squares implementation in the `scipy` package, in order to compare the results from gradient descent to the line of best fit. As in our first example, we will use this solution to test how well gradient descent performs."
   ]
  },
  {
   "cell_type": "code",
   "execution_count": null,
   "metadata": {},
   "outputs": [],
   "source": [
    "x, y = make_regression(n_samples = 100, \n",
    "                       n_features=1, \n",
    "                       n_informative=1, \n",
    "                       noise=10,\n",
    "                       random_state=2015)\n",
    "\n",
    "\n",
    "slope, intercept, _,_,_ = stats.linregress(x[:,0],y)\n",
    "best_fit = x[:,0] * slope + intercept"
   ]
  },
  {
   "cell_type": "code",
   "execution_count": null,
   "metadata": {},
   "outputs": [],
   "source": [
    "# <!-- collapse=True -->\n",
    "source = bp.ColumnDataSource(\n",
    "        data=dict(\n",
    "            x=x.flatten(),\n",
    "            y=y        )\n",
    "    )\n",
    "\n",
    "\n",
    "TOOLS = [ WheelZoomTool(), ResetTool(), PanTool()]\n",
    "\n",
    "fig = bp.figure(width=W, height=H, \n",
    "                title='Linear Regression Data',  \n",
    "                #title_text_font_size='14pt', \n",
    "                tools=TOOLS )\n",
    "s1 = fig.circle('x', 'y', size=10, color='navy', alpha=0.5, source=source)\n",
    "s2 = fig.line(x.flatten(), best_fit, color='orange', line_width=3)\n",
    "\n",
    "#fig.title_text_font_size = '16pt'\n",
    "fig.yaxis.axis_label_text_font_size = \"14pt\"\n",
    "fig.xaxis.axis_label_text_font_size = \"14pt\"\n",
    "\n",
    "bp.show(fig)"
   ]
  },
  {
   "cell_type": "markdown",
   "metadata": {},
   "source": [
    "From the plot, you can see that there is a linear relation between the two variables. Let's calculate the regression line through gradient descent. From the example above, we know that we need two things to do so:\n",
    "\n",
    "* a cost function.\n",
    "* a way to minimize the cost by updating our parameters (update function)\n",
    "\n",
    "For a simple regression, we have two parameters: the slope and the intercept. In this example, we express both by the vector $\\theta$ with length 2. To find the best line, we have to iteratively find the values of theta that minimize the cost. While in the first example, we defined the cost simple as the squared distance from the true minimum, the cost function $J(\\theta)$ for linear regression is a little more complex and defined as follows: \n",
    "\n",
    "$$\\begin{align}\n",
    "J(\\theta) =  \\frac{1}{2m}(X\\theta-y)^{T}(X\\theta-y)\n",
    "\\end{align}$$\n",
    "\n",
    "which translates as: For the current $\\theta$, predict the $y$ values, and subtract the actual $y$ value. Then square this error ($X\\theta-y$). This measures how far away the predicted values are from the actual value of $y$. The overall cost is scaled by $m$, the number of data points we have in $y$, in our example 100.\n",
    "\n",
    "To minimize this cost function, the theta values have to changed accordingly. The update function is defined as:\n",
    "\n",
    "$$\\begin{align}\n",
    "\\theta := \\theta - \\alpha \\frac{1}{m} (X^{T}(X\\theta-y))\n",
    "\\end{align}$$\n",
    "\n",
    "Theta is adjusted relative to the error of our predicted values, and then scaled by $m$. $\\alpha$ is the step-size: As in the earlier example, this value has to be chosen carefully. If you are interested in the mathematical derivations of these functions, you can read through Andrew Ng's [lecture notes](http://cs229.stanford.edu/notes/cs229-notes1.pdf) on the topic, but for this example it suffices to know that they derive on partial derivatives, and thus on the gradient.\n",
    "\n",
    "Below, the function `gradient_descent` implements the two functions above and adjusts theta iteratively for `iters` iterations. The code is pretty verbose, so you should be able to match the code to the functions above."
   ]
  },
  {
   "cell_type": "code",
   "execution_count": null,
   "metadata": {},
   "outputs": [],
   "source": [
    "def gradient_descent(x, y, iters, alpha):\n",
    "    costs = []\n",
    "    m = y.size # number of data points\n",
    "    theta = np.random.rand(2) # random start\n",
    "    history = [theta] # to store all thetas\n",
    "    preds = []\n",
    "    for i in range(iters):\n",
    "        pred = np.dot(x, theta)\n",
    "        error = pred - y \n",
    "        cost = np.sum(error ** 2) / (2 * m)\n",
    "        costs.append(cost)\n",
    "        \n",
    "        if i % 25 == 0: preds.append(pred)\n",
    "\n",
    "        gradient = x.T.dot(error)/m \n",
    "        theta = theta - alpha * gradient  # update\n",
    "        history.append(theta)\n",
    "        \n",
    "    return history, costs, preds"
   ]
  },
  {
   "cell_type": "markdown",
   "metadata": {},
   "source": [
    "We can now call the function on our data. First, we have to insert a column of 1's in order for the matrix algebra to work out. We define the step size and the number of iterations, and then call the function."
   ]
  },
  {
   "cell_type": "code",
   "execution_count": null,
   "metadata": {},
   "outputs": [],
   "source": [
    "x = np.c_[np.ones(x.shape[0]), x] "
   ]
  },
  {
   "cell_type": "code",
   "execution_count": null,
   "metadata": {},
   "outputs": [],
   "source": [
    "alpha = 0.001 # set step-size\n",
    "iters = 5000 # set number of iterations\n",
    "history, cost, preds = gradient_descent(x, y, iters, alpha)\n",
    "theta = history[-1]"
   ]
  },
  {
   "cell_type": "markdown",
   "metadata": {},
   "source": [
    "Here is the result after 5000 iterations, compared to the values from the least squares algorithm. The results are pretty close, and the line seems to have a good fit:"
   ]
  },
  {
   "cell_type": "code",
   "execution_count": null,
   "metadata": {},
   "outputs": [],
   "source": [
    "print(\"Gradient Descent: {:.2f}, {:.2f}\".format(theta[0], theta[1]))\n",
    "print(\"Least Squares: {:.2f}, {:.2f}\".format(intercept, slope))"
   ]
  },
  {
   "cell_type": "code",
   "execution_count": null,
   "metadata": {},
   "outputs": [],
   "source": [
    "# <!-- collapse=True -->\n",
    "pred = np.dot(x, theta)\n",
    "\n",
    "source = bp.ColumnDataSource(\n",
    "        data=dict(\n",
    "            x=x[:, 1].flatten(),\n",
    "            y=y        )\n",
    "    )\n",
    "\n",
    "\n",
    "TOOLS = [ WheelZoomTool(), ResetTool(), PanTool()]\n",
    "\n",
    "fig = bp.figure(width=W, plot_height=H, \n",
    "                title='Line fit by gradient descent',  \n",
    "                #title_text_font_size='14pt', \n",
    "                tools=TOOLS )\n",
    "s1 = fig.circle('x', 'y', size=10, color='navy', alpha=0.5, source=source)\n",
    "s2 = fig.line(x[:, 1].flatten(), pred, color='orange', line_width=3)\n",
    "#fig.title_text_font_size = '16pt'\n",
    "fig.yaxis.axis_label_text_font_size = \"14pt\"\n",
    "fig.xaxis.axis_label_text_font_size = \"14pt\"\n",
    "\n",
    "\n",
    "bp.show(fig)"
   ]
  },
  {
   "cell_type": "markdown",
   "metadata": {},
   "source": [
    "The plot below shows how the values of theta change over time. The random starts sets theta to low values, and then gradient descent adjusts the slope to a much higher value, while changing the intercept at the same time."
   ]
  },
  {
   "cell_type": "code",
   "execution_count": null,
   "metadata": {},
   "outputs": [],
   "source": [
    "# <!-- collapse=True -->\n",
    "TOOLS = [WheelZoomTool(), ResetTool(), PanTool()]\n",
    "\n",
    "to_plot = [(x[0],x[1], c) for x, c in  (zip(history[::100], cost[::100]))]\n",
    "a,b,c = zip(*to_plot)\n",
    "\n",
    "\n",
    "\n",
    "fig = bp.figure(width=W, plot_height=H, \n",
    "                title='Theta values over time',  \n",
    "                tools=TOOLS,\n",
    "                x_axis_label='Intercept',\n",
    "                y_axis_label='Slope')\n",
    "s1 = fig.circle(a,b, size=5, color='navy', alpha=0.5)\n",
    "#fig.title_text_font_size = '16pt'\n",
    "fig.yaxis.axis_label_text_font_size = \"14pt\"\n",
    "fig.xaxis.axis_label_text_font_size = \"14pt\"\n",
    "\n",
    "bp.show(fig)"
   ]
  },
  {
   "cell_type": "markdown",
   "metadata": {},
   "source": [
    "As in the first example, the cost should decrease over iterations - if it is not, there is something wrong with your update function! Below, we see that the cost is indeed decreasing, and approaching zero. Depending on your data, and how linear it is, the cost will never reach zero but hover around a higher value. To test this, you can increase the `noise` parameter in the `make_regression` function that generated our data."
   ]
  },
  {
   "cell_type": "code",
   "execution_count": null,
   "metadata": {},
   "outputs": [],
   "source": [
    "# <!-- collapse=True -->\n",
    "TOOLS = [WheelZoomTool(), ResetTool(), PanTool()]\n",
    "x1, y1 = (zip(*enumerate(cost)))\n",
    "\n",
    "fig = bp.figure(width=590, plot_height=350, \n",
    "                title='Loss over iterations',\n",
    "                x_axis_label='Iteration',\n",
    "                y_axis_label='Loss',\n",
    "                tools=TOOLS )\n",
    "s1 = fig.line(x1,y1, line_width=4, color='navy', alpha=0.5)\n",
    "# remaining cost is tied directly to the noise of the distribution,\n",
    "# ergo it's also a measure of fit\n",
    "#fig.title_text_font_size = '16pt'\n",
    "fig.yaxis.axis_label_text_font_size = \"14pt\"\n",
    "fig.xaxis.axis_label_text_font_size = \"14pt\"\n",
    "\n",
    "bp.show(fig)"
   ]
  },
  {
   "cell_type": "markdown",
   "metadata": {},
   "source": [
    "Below is an animated plot that shows the changing line (green) defined by the theta values over time. It starts with our random thetas close to 0 which results in a horizontal line, and then slowly approaches the line of best fit (red). As evident in the cost plot, the improvement slows down over subsequent iterations and barely changes at the end."
   ]
  },
  {
   "cell_type": "code",
   "execution_count": null,
   "metadata": {},
   "outputs": [],
   "source": [
    "# <!-- collapse=True -->\n",
    "\n",
    "def animate(i):\n",
    "    ys = preds[i]\n",
    "    line.set_data(x[:, 1], ys)\n",
    "    return line,\n",
    "\n",
    "\n",
    "\n",
    "fig = plt.figure(figsize=(10,6))\n",
    "ax = plt.axes(xlim=(-3, 2.5), ylim=(-170, 170))\n",
    "ax.plot(x[:,1],y, 'o')\n",
    "line, = ax.plot([], [], lw=2)\n",
    "plt.plot(x[:,1], best_fit, 'k-', color = \"r\")\n",
    "\n",
    "anim = animation.FuncAnimation(fig, animate, init_func=init,\n",
    "                        frames=len(preds), interval=100)\n",
    "anim"
   ]
  },
  {
   "cell_type": "markdown",
   "metadata": {},
   "source": [
    "And that's it: We used gradient descent successfully to find regression parameters that fit our test data! I hope these examples and the code were helpful in explaining both the conceptual background behind gradient descent, and how it can be implemented. As a introductory tutorial, there is a lot I left out, and if you're interested, I recommend checking out Andrew Ng's machine learning [course on Coursera](https://class.coursera.org/ml-003/lecture/9), as well as his [lecture notes](http://cs229.stanford.edu/notes/cs229-notes1.pdf). Additionally, here is a list of blog posts covering gradient descent in Python:\n",
    "\n",
    "* http://aimotion.blogspot.com/2011/10/machine-learning-with-python-linear.html\n",
    "* http://spin.atomicobject.com/2014/06/24/gradient-descent-linear-regression/\n",
    "* http://stackoverflow.com/questions/17784587/gradient-descent-using-python-and-numpy\n",
    "\n",
    "As you have  probably noticed, there were simpler ways to find the solution to our two problems analytically, but it served as a good showcase to show the effectiveness of gradient descent compared to the analytic solutions. Furthermore, gradient descent is commonly used in neural networks, where you might have to implement it yourself -  check out Andrej Karpathy's [Hacker's guide to Neural Networks\n",
    "](http://karpathy.github.io/neuralnets/) if you want to know more!\n",
    "\n",
    "As a last note, I wanted to mention that both examples here only have one minimum, and are [convex functions](https://en.wikipedia.org/wiki/Convex_function). This means that no matter where we start (initial values of theta), we arrive at the minimum. This is not always the case. The plot below shows the convexity of the linear regression example, with the red point denoting the minimum. No matter where on the plane we start, gradient descent works as a compass pointing to the minimum."
   ]
  },
  {
   "cell_type": "code",
   "execution_count": null,
   "metadata": {},
   "outputs": [],
   "source": [
    "# <!-- collapse=True -->\n",
    "\n",
    "from mpl_toolkits.mplot3d import Axes3D\n",
    "\n",
    "def error(X, Y, THETA):\n",
    "    return np.sum((X.dot(THETA) - y)**2)/(2*Y.size)\n",
    "\n",
    "ms = np.linspace(theta[0] - 10 , theta[0] + 10, 10)\n",
    "bs = np.linspace(theta[1] - 10 , theta[1] + 10, 10)\n",
    "\n",
    "M, B = np.meshgrid(ms, bs)\n",
    "\n",
    "zs = np.array([error(x, y, theta) \n",
    "               for theta in zip(np.ravel(M), np.ravel(B))])\n",
    "Z = zs.reshape(M.shape)\n",
    "\n",
    "fig = plt.figure(figsize=(10, 6))\n",
    "ax = fig.add_subplot(111, projection='3d')\n",
    "\n",
    "ax.plot_surface(M, B, Z, rstride=1, cstride=1, color='b', alpha=0.5)\n",
    "ax.set_xlabel('Intercept')\n",
    "ax.set_ylabel('Slope')\n",
    "ax.set_zlabel('Cost')\n",
    "ax.view_init(elev=30., azim=30)\n",
    "ax.plot([theta[0]], [theta[1]], [cost[-1]] , markerfacecolor='r', markeredgecolor='r', marker='o', markersize=7);\n"
   ]
  },
  {
   "cell_type": "markdown",
   "metadata": {},
   "source": [
    "PS: This post was written in a Jupyter Notebook. If you'd like to run the code yourself, download the notebook [here](https://github.com/tillbe/pelican-blog/blob/master/content/notebooks/gradient_descent.ipynb)."
   ]
  },
  {
   "cell_type": "markdown",
   "metadata": {},
   "source": [
    "## [Here](http://www.scipy-lectures.org/advanced/mathematical_optimization/) is a link to a tutorial about optimization with SciPy."
   ]
  },
  {
   "cell_type": "code",
   "execution_count": null,
   "metadata": {},
   "outputs": [],
   "source": []
  }
 ],
 "metadata": {
  "celltoolbar": "Raw Cell Format",
  "kernelspec": {
   "display_name": "Python 3",
   "language": "python",
   "name": "python3"
  },
  "language_info": {
   "codemirror_mode": {
    "name": "ipython",
    "version": 3
   },
   "file_extension": ".py",
   "mimetype": "text/x-python",
   "name": "python",
   "nbconvert_exporter": "python",
   "pygments_lexer": "ipython3",
   "version": "3.5.2"
  }
 },
 "nbformat": 4,
 "nbformat_minor": 1
}

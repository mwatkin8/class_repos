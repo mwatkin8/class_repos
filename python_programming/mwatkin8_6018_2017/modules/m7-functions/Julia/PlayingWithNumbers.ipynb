{
 "cells": [
  {
   "cell_type": "code",
   "execution_count": null,
   "metadata": {
    "nbgrader": {
     "grade": false,
     "grade_id": "cell-1183ef46bfe6ae8d",
     "locked": true,
     "schema_version": 1,
     "solution": false
    }
   },
   "outputs": [],
   "source": [
    "Pkg.add(\"DataFrames\")\n",
    "Pkg.add(\"Seaborn\");"
   ]
  },
  {
   "cell_type": "code",
   "execution_count": null,
   "metadata": {
    "nbgrader": {
     "grade": false,
     "grade_id": "cell-71a8bd8697d631bb",
     "locked": true,
     "schema_version": 1,
     "solution": false
    }
   },
   "outputs": [],
   "source": [
    "using DataFrames\n",
    "using Base.Test\n",
    "using Seaborn;\n",
    "using Base.Random"
   ]
  },
  {
   "cell_type": "markdown",
   "metadata": {
    "nbgrader": {
     "grade": false,
     "grade_id": "cell-2111aad8c6670748",
     "locked": true,
     "schema_version": 1,
     "solution": false
    }
   },
   "source": [
    "# Playing with Primes"
   ]
  },
  {
   "cell_type": "markdown",
   "metadata": {
    "nbgrader": {
     "grade": false,
     "grade_id": "cell-0513b8c41dff8924",
     "locked": true,
     "schema_version": 1,
     "solution": false
    }
   },
   "source": [
    "## Encyrption is in the Center of Public Debate\n",
    "* [CNN, \"ISIS using encryption to evade FBI\"](http://www.cnn.com/2015/07/08/politics/fbi-comey-isis-encryption-recruitment/)\n",
    "* [Wired, \"Security Manual Reveals the OPSEC Advice ISIS Gives Recruits\"](http://www.wired.com/2015/11/isis-opsec-encryption-manuals-reveal-terrorist-group-security-protocols/)\n",
    "* [Fortune, \"Former National Security Officials Support Encryption\"](http://fortune.com/2015/12/16/national-security-encryption/)\n",
    "\n",
    "## Encryption Relies on Mathematics\n",
    "### Encryption Relies on Prime Numbers\n",
    "\n",
    "\n",
    ">[Public-key] was invented in 1976 by two Stanford\n",
    "mathematicians, Whitfield Diffie and Martin Hellman. Their discovery can be phrased simply:\n",
    "enciphering schemes should be asymmetric. For thousands of years all ciphers were symmetric –\n",
    "the key for encrypting a message was identical to the key for decrypting it, but used, so to speak,\n",
    "in reverse. To change “5 100 100 5 15 55” or “6 120 120 6 18 66” back into “attack,” for instance,\n",
    "one simply reverses the encryption by dividing the numbers with the key, instead of multiplying\n",
    "them, and then replaces the numbers with their equivalent letters. Thus sender and receiver must\n",
    "both have the key, and must both keep it secret. The symmetry, Diffie and Hellman realized, is the\n",
    "origin of the key-management problem. The solution is to have an encrypting key that is different\n",
    "from the decrypting key – one key to encipher a message, and another, different key to decipher\n",
    "it. With an asymmetric cipher, Alice could send encrypted messages to Bob without providing\n",
    "him with a secret key. In fact, Alice could send him a secret message even if she had never before\n",
    "communicated with him in any way.\n",
    "\n",
    ">“If this sounds ridiculous, it should,” Schneier wrote in Secrets and Lies (2001). “It sounds\n",
    "impossible. If you were to survey the world’s cryptographers in 1975, they would all have told you\n",
    "it was impossible.” One year later, Diffie and Hellman showed that it was possible, after all. (Later\n",
    "the British Secret Service revealed that it had invented these techniques before Diffie and Hellman,\n",
    "but kept them secret – and apparently did nothing with them.)\n",
    "\n",
    ">To be precise, Diffie and Hellman demonstrated only that public-key encryption was possible in\n",
    "theory. Another year passed before three MIT mathematicians – Ronald L. Rivest, Adi Shamir,\n",
    "and Leonard M. Adleman – figured out a way to do it in the real world. At the base of the RivestShamir-Adleman,\n",
    "or RSA, encryption scheme is the mathematical task of factoring. Factoring\n",
    "a number means identifying the prime numbers which, when multiplied together, produce that\n",
    "number. Thus 126,356 can be factored into $2 \\times 2 \\times 31 \\times 1,019$, where 2, 31, and 1,019 are all\n",
    "prime. (A given number has only one set of prime factors.) 1 Surprisingly, mathematicians\n",
    "regard factoring numbers – part of the elementary-school curriculum – as a fantastically difficult\n",
    "task. Despite the efforts of such luminaries as Fermat, Gauss, and Fibonacci, nobody has ever\n",
    "discovered a consistent, usable method for factoring large numbers. Instead, mathematicians try\n",
    "potential factors by invoking complex rules of thumb, looking for numbers that divide evenly. For\n",
    "big numbers the process is horribly time-consuming, even with fast computers. The largest number\n",
    "yet factored is 155 digits long. It took 292 computers, most of them fast workstations, more than\n",
    "seven months.\n",
    "\n",
    ">Note something odd. **It is easy to multiply primes together. But there is no easy way to take\n",
    "the product and reduce it back to its original primes.** In crypto jargon, this is a “trapdoor”: a\n",
    "function that lets you go one way easily, but not the other. Such one-way functions, of which\n",
    "this is perhaps the simplest example, are at the bottom of all public-key encryption. They make\n",
    "asymmetric ciphers possible.\n",
    "\n",
    ">To use RSA encryption, Alice first secretly chooses two prime numbers, p and q, each more than\n",
    "a hundred digits long. This is easier than it may sound: there are an infinite supply of prime\n",
    "numbers. Last year a Canadian college student found the biggest known prime: $2^{13466917} − 1$. It\n",
    "has 4,053,946 digits; typed without commas in standard 12-point type, the number would be more\n",
    "than ten miles long. Fortunately Alice doesn’t need one nearly that big. She runs a program that\n",
    "randomly selects two prime numbers for her and then she multiplies them by each other, producing\n",
    "pq, a still bigger number that is, naturally, not prime. This is Alice’s“public key.” (In fact, creating\n",
    "the key is more complicated than I suggest here, but not wildly so.)\n",
    "\n",
    ">As the name suggests, public keys are not secret; indeed, the Alices of this world often post\n",
    "them on the Internet or attach them to the bottom of their e-mail. When Bob wants to send Alice\n",
    "a secret message, he first converts the text of the message into a number. Perhaps, as before, he\n",
    "transforms “attack” into “5 100 100 5 15 55.” Then he obtains Alice’s public key – that is, the\n",
    "number pq – by looking it up on a Web site or copying it from her e-mail. (Note here that Bob does\n",
    "not use his own key to send Alice a message, as in regular encryption. Instead, he uses Alice’s key.)\n",
    "Having found Alice’s public key, he plugs it into a special algorithm invented by Rivest, Shamir,\n",
    "and Adleman to encrypt the message.\n",
    "\n",
    ">At this point the three mathematicians’ cleverness becomes evident. Bob knows the product pq,\n",
    "because Alice has displayed it on her Web site. But he almost certainly does not know p and q\n",
    "themselves, because they are its only factors, and factoring large numbers is effectively impossible.\n",
    "Yet the algorithm is constructed in such a way that to decipher the message the recipient must\n",
    "know both p and q individually. Because only Alice knows p and q, Bob can send secret messages to\n",
    "Alice without ever having to swap keys. Anyone else who wants to read the message will somehow\n",
    "have to factor pq back into the prime numbers p and q. ([\"The science of encryption: prime numbers and mod n arithmetic\"](https://math.berkeley.edu/~kpmann/encryption.pdf))"
   ]
  },
  {
   "cell_type": "markdown",
   "metadata": {
    "nbgrader": {
     "grade": false,
     "grade_id": "cell-ade22723877cd40d",
     "locked": true,
     "schema_version": 1,
     "solution": false
    }
   },
   "source": [
    "## How Do We Find Primes?\n",
    "\n",
    "A really old way is known as the [Sieve of Eratosthenes](https://en.wikipedia.org/wiki/Sieve_of_Eratosthenes)\n",
    "\n",
    "The approach here is to create an array of numbers and cross out any number that is a multiple of a prime. As we loop through the array, any number that is not crossed out is a prime.\n",
    "\n",
    "1. Allocate an array of integers (`nums`) between 2 and N+1\n",
    "1. Start with i=0\n",
    "1. Look at the ith number in the array (`nums[i]`), if it is not crossed out it is a prime.\n",
    "    1. Add `nums[i]` to our list of primes\n",
    "    1. Cross out all the multiples of `nums[i]`\n",
    "    1. Increment i"
   ]
  },
  {
   "cell_type": "code",
   "execution_count": null,
   "metadata": {},
   "outputs": [],
   "source": [
    "a = collect(2:20)\n",
    "a[3:2:end]=-1\n",
    "print(a)"
   ]
  },
  {
   "cell_type": "code",
   "execution_count": null,
   "metadata": {
    "nbgrader": {
     "grade": false,
     "grade_id": "cell-906b646f7da82489",
     "locked": false,
     "schema_version": 1,
     "solution": true
    }
   },
   "outputs": [],
   "source": [
    "function sievePrime(N)\n",
    "    primes = []\n",
    "    nums = collect(2:N)\n",
    "    for i in range(1,length(nums))\n",
    "        current_num = nums[i]\n",
    "        if current_num != -1\n",
    "            push!(primes, current_num)\n",
    "            nums[i+current_num:current_num:end] = -1\n",
    "        end\n",
    "    end\n",
    "    return primes\n",
    "end\n",
    "function sievePrime(N)\n",
    "    nums = collect(2:N)\n",
    "    for i in range(1,length(nums))\n",
    "        current_num = nums[i]\n",
    "        if current_num != -1\n",
    "            nums[i+current_num:current_num:end] = -1\n",
    "        end\n",
    "    end\n",
    "    return [n for n in nums if n != -1]\n",
    "end"
   ]
  },
  {
   "cell_type": "code",
   "execution_count": null,
   "metadata": {},
   "outputs": [],
   "source": [
    "function isprime(n)\n",
    "    return n in sievePrime(n)\n",
    "end"
   ]
  },
  {
   "cell_type": "code",
   "execution_count": null,
   "metadata": {},
   "outputs": [],
   "source": [
    "isprime(23)"
   ]
  },
  {
   "cell_type": "code",
   "execution_count": null,
   "metadata": {
    "nbgrader": {
     "grade": true,
     "grade_id": "cell-87d7b7740776091c",
     "locked": true,
     "points": 0,
     "schema_version": 1,
     "solution": false
    }
   },
   "outputs": [],
   "source": [
    "@test sievePrime(10) == [2, 3, 5, 7]\n",
    "@test sievePrime(20) == [2, 3, 5, 7, 11, 13, 17, 19]"
   ]
  },
  {
   "cell_type": "markdown",
   "metadata": {},
   "source": [
    "## What are some limitations of this approach?\n",
    "1. We have to allocate a potentially large array (memory)\n",
    "1. We loop through the entire list of numbers\n",
    "\n",
    "### Given `N`, what is the largest number we would have to test division on to see if `N` is prime? "
   ]
  },
  {
   "cell_type": "markdown",
   "metadata": {},
   "source": [
    "### Let's write some alternative functions for finding primes\n",
    "\n",
    "## Exercise:\n",
    "\n",
    "modify `isprime2` to check whether a number is prime. Use `if` statements to test for the special cases ($n<2$, $n=2$, $n\\mod2=0$). Use a for loop and the range function ($\\text{range}(3,1+\\sqrt{n}, 2)$)? Why $3$? Why $2$?"
   ]
  },
  {
   "cell_type": "code",
   "execution_count": null,
   "metadata": {
    "nbgrader": {
     "grade": false,
     "grade_id": "cell-839df251964424e3",
     "locked": false,
     "schema_version": 1,
     "solution": true
    }
   },
   "outputs": [],
   "source": [
    "function isprime2(n)\n",
    "    if !isa(n,Int)\n",
    "        throws(ArgumentError(\"$n: n must be an integer\"))\n",
    "    end\n",
    "    if n < 2\n",
    "        return false\n",
    "    elseif n == 2\n",
    "        return true\n",
    "    elseif n %2 == 0\n",
    "        return false\n",
    "    else\n",
    "        lim = 1+convert(Int64, round(sqrt(n)))\n",
    "        for i in collect(3:2:lim)\n",
    "            if n % i == 0\n",
    "                return false\n",
    "            end\n",
    "        end\n",
    "    end\n",
    "    return true\n",
    "end"
   ]
  },
  {
   "cell_type": "code",
   "execution_count": null,
   "metadata": {
    "nbgrader": {
     "grade": true,
     "grade_id": "cell-d7f0ae1402b7514b",
     "locked": true,
     "points": 0,
     "schema_version": 1,
     "solution": false
    }
   },
   "outputs": [],
   "source": [
    "@test isprime2(47)\n",
    "@test !isprime2(49)"
   ]
  },
  {
   "cell_type": "markdown",
   "metadata": {},
   "source": [
    "## Exercise\n",
    "\n",
    "Modify `isprime3` to check if a number `p` is Prime using list comprehension and the [`any`](https://docs.python.org/3/library/functions.html#any) function."
   ]
  },
  {
   "cell_type": "code",
   "execution_count": null,
   "metadata": {
    "nbgrader": {
     "grade": false,
     "grade_id": "cell-701c0e3f0b610db8",
     "locked": false,
     "schema_version": 1,
     "solution": true
    }
   },
   "outputs": [],
   "source": [
    "function isprime3(p)\n",
    "    if !isa(p,Int)\n",
    "        throws(ArgumentError(\"$p: p must be an integer\"))\n",
    "    end\n",
    "    if p < 2\n",
    "        return false\n",
    "    elseif p == 2\n",
    "        return true\n",
    "    elseif p % 2 == 0\n",
    "        return false\n",
    "    else\n",
    "        return  ! any(p%n==0 for n in collect(3:2:convert(Int64, round(sqrt(p)))+1)) \n",
    "    end\n",
    "end"
   ]
  },
  {
   "cell_type": "code",
   "execution_count": null,
   "metadata": {},
   "outputs": [],
   "source": [
    "@test !isprime3(49)\n",
    "@test isprime3(47);\n"
   ]
  },
  {
   "cell_type": "code",
   "execution_count": null,
   "metadata": {
    "nbgrader": {
     "grade": false,
     "grade_id": "cell-cc40ca1b7692c5ba",
     "locked": true,
     "schema_version": 1,
     "solution": false
    }
   },
   "outputs": [],
   "source": [
    "primes = [n for n in range(1,1000) if isprime2(n)]\n",
    "primes"
   ]
  },
  {
   "cell_type": "code",
   "execution_count": null,
   "metadata": {},
   "outputs": [],
   "source": [
    "@time [n for n in collect(1:100000) if isprime(n)];"
   ]
  },
  {
   "cell_type": "code",
   "execution_count": null,
   "metadata": {
    "nbgrader": {
     "grade": false,
     "grade_id": "cell-ca0ded0809337038",
     "locked": true,
     "schema_version": 1,
     "solution": false
    }
   },
   "outputs": [],
   "source": [
    "@time [n for n in collect(1:100000) if isprime2(n)];"
   ]
  },
  {
   "cell_type": "code",
   "execution_count": null,
   "metadata": {
    "nbgrader": {
     "grade": false,
     "grade_id": "cell-aef984e69c228ebd",
     "locked": true,
     "schema_version": 1,
     "solution": false
    }
   },
   "outputs": [],
   "source": [
    "@time [n for n in range(1,100000) if isprime3(n)];"
   ]
  },
  {
   "cell_type": "markdown",
   "metadata": {
    "nbgrader": {
     "grade": false,
     "grade_id": "cell-79a09f326e5a2c84",
     "locked": true,
     "schema_version": 1,
     "solution": false
    }
   },
   "source": [
    "## [Gilbreath's Conjecture](https://en.wikipedia.org/wiki/Gilbreath%27s_conjecture)\n",
    "\n",
    ">Gilbreath's conjecture is a conjecture in number theory regarding the sequences generated by applying the forward difference operator to consecutive prime numbers and leaving the results unsigned, and then repeating this process on consecutive terms in the resulting sequence, and so forth. The statement is named after mathematician Norman L. Gilbreath who, in 1958, presented it to the mathematical community after observing the pattern by chance while doing arithmetic on a napkin. In 1878, eighty years before Gilbreath's discovery, François Proth had, however, published the same observations along with an attempted proof, which was later shown to be false."
   ]
  },
  {
   "cell_type": "markdown",
   "metadata": {
    "nbgrader": {
     "grade": false,
     "grade_id": "cell-9d0e778eff9b39a5",
     "locked": true,
     "schema_version": 1,
     "solution": false
    }
   },
   "source": [
    "#### Write a function ``seq_diff`` that computes the absolute value of the forward difference of a sequence of primes\n",
    "\n",
    "**Hints:**\n",
    "1. The `math` library defines an `fabs` which returns a floating point value for the absolute value.\n",
    "1. Use the `range` function.\n",
    "    1. What do you want for the starting value for `range`?\n",
    "    1. What do you want for the ending value for `range`?\n",
    "1. How will the length of the output differ from the length of the input?"
   ]
  },
  {
   "cell_type": "code",
   "execution_count": null,
   "metadata": {
    "nbgrader": {
     "grade": false,
     "grade_id": "cell-db3bfe56e4780385",
     "locked": false,
     "schema_version": 1,
     "solution": true
    }
   },
   "outputs": [],
   "source": [
    "function seq_diff(seq)\n",
    "    return [abs(seq[i]-seq[i-1]) for i in collect(2:length(seq))]\n",
    "end\n"
   ]
  },
  {
   "cell_type": "markdown",
   "metadata": {
    "nbgrader": {
     "grade": false,
     "grade_id": "cell-b03292ab6d236c25",
     "locked": true,
     "schema_version": 1,
     "solution": false
    }
   },
   "source": [
    "#### Test the output"
   ]
  },
  {
   "cell_type": "code",
   "execution_count": null,
   "metadata": {
    "nbgrader": {
     "grade": true,
     "grade_id": "cell-686cd642a626638c",
     "locked": true,
     "points": 0,
     "schema_version": 1,
     "solution": false
    }
   },
   "outputs": [],
   "source": [
    "seq = [2, 3, 5, 7, 11, 13, 17, 19, 23, 29, 31, 37, 41, 43, 47]\n",
    "assert_equal(seq_diff(seq), [1, 2, 2, 4, 2, 4, 2, 4, 6, 2, 6, 4, 2, 4])\n",
    "assert_equal(seq_diff(seq_diff(seq)), [1, 0, 2, 2, 2, 2, 2, 2, 4, 4, 2, 2, 2])"
   ]
  },
  {
   "cell_type": "code",
   "execution_count": null,
   "metadata": {},
   "outputs": [],
   "source": [
    "seq = [n for n in range(1,50) if isprime2(n)]\n",
    "println(seq)\n",
    "while true\n",
    "    if isempty(seq)\n",
    "        break   \n",
    "    end\n",
    "    seq = seq_diff(seq)\n",
    "    println(seq)\n",
    "end"
   ]
  },
  {
   "cell_type": "markdown",
   "metadata": {},
   "source": [
    "## Playing with Large Measured Data: [Benford's Law](https://en.wikipedia.org/wiki/Benford%27s_law)"
   ]
  },
  {
   "cell_type": "markdown",
   "metadata": {},
   "source": [
    "### We are going to use census data"
   ]
  },
  {
   "cell_type": "code",
   "execution_count": null,
   "metadata": {},
   "outputs": [],
   "source": [
    "data = readtable(\"../InClass/PEP_2016_PEPANNRSIP.US12A_with_ann.csv\",\n",
    "skipstart=1)"
   ]
  },
  {
   "cell_type": "code",
   "execution_count": null,
   "metadata": {
    "nbgrader": {
     "grade": false,
     "grade_id": "cell-0d02257f2238db8c",
     "locked": true,
     "schema_version": 1,
     "solution": false
    }
   },
   "outputs": [],
   "source": [
    "city_populations = readtable(\"../InClass/PEP_2016_PEPANNRSIP.US12A_with_ann.csv\",\n",
    "skipstart=1)[17];"
   ]
  },
  {
   "cell_type": "markdown",
   "metadata": {
    "nbgrader": {
     "grade": false,
     "grade_id": "cell-07c5bbe1f9ad4691",
     "locked": true,
     "schema_version": 1,
     "solution": false
    }
   },
   "source": [
    "## `city_populations` is a list of integers that are the populations of USA cities"
   ]
  },
  {
   "cell_type": "markdown",
   "metadata": {},
   "source": [
    "### Create a list of all the populations greater than or equal to 100000 where the integers are converted to strings"
   ]
  },
  {
   "cell_type": "code",
   "execution_count": null,
   "metadata": {},
   "outputs": [],
   "source": [
    "rand(5)"
   ]
  },
  {
   "cell_type": "code",
   "execution_count": null,
   "metadata": {
    "nbgrader": {
     "grade": false,
     "grade_id": "cell-0324eead7bbbaddc",
     "locked": false,
     "schema_version": 1,
     "solution": true
    }
   },
   "outputs": [],
   "source": [
    "### BEGIN SOLUTION\n",
    "function get_string_nums(nums; thresh=99999)\n",
    "    return [string(x) for x in nums if x > thresh]\n",
    "end\n",
    "### END SOLUTION"
   ]
  },
  {
   "cell_type": "code",
   "execution_count": null,
   "metadata": {},
   "outputs": [],
   "source": [
    "get_first_digits(get_string_nums(city_populations))"
   ]
  },
  {
   "cell_type": "markdown",
   "metadata": {
    "nbgrader": {
     "grade": false,
     "grade_id": "cell-900d1a820e031e2a",
     "locked": true,
     "schema_version": 1,
     "solution": false
    }
   },
   "source": [
    "### Create a list named `city_populations_first_digits` consisting of the first digit in each number converted to an int"
   ]
  },
  {
   "cell_type": "code",
   "execution_count": null,
   "metadata": {},
   "outputs": [],
   "source": [
    "for x in city_populations_strings\n",
    "    print(parse(Int64, x[1]))\n",
    "end"
   ]
  },
  {
   "cell_type": "code",
   "execution_count": null,
   "metadata": {
    "nbgrader": {
     "grade": false,
     "grade_id": "cell-007a102e12198872",
     "locked": false,
     "schema_version": 1,
     "solution": true
    }
   },
   "outputs": [],
   "source": [
    "function get_first_digits(nums)\n",
    "    return [ parse(Int64, x[1]) for x in nums];\n",
    "end"
   ]
  },
  {
   "cell_type": "code",
   "execution_count": null,
   "metadata": {},
   "outputs": [],
   "source": [
    "city_populations_first_digits = get_first_digits(get_string_nums(city_populations));"
   ]
  },
  {
   "cell_type": "markdown",
   "metadata": {},
   "source": [
    "### What does the distribution of first digits look like?\n",
    "\n",
    "#### It should look like this\n",
    "![digit distribution](./population_digits.png)"
   ]
  },
  {
   "cell_type": "code",
   "execution_count": null,
   "metadata": {
    "nbgrader": {
     "grade": false,
     "grade_id": "cell-a3c7b5cfb8cdee04",
     "locked": true,
     "schema_version": 1,
     "solution": false
    }
   },
   "outputs": [],
   "source": [
    "distplot(city_populations_first_digits, kde=false)\n",
    "savefig(\"population_digits.png\")"
   ]
  },
  {
   "cell_type": "markdown",
   "metadata": {},
   "source": [
    "## How does this differ from randomly generated numbers?\n",
    "\n",
    "### We have to duplicate all our prior code...\n",
    "### ...Unless we put all the functionality in functions.\n",
    "\n",
    "The resulting distribution should look something this:\n",
    "\n",
    "![random digits](./random_digits.png)"
   ]
  },
  {
   "cell_type": "code",
   "execution_count": null,
   "metadata": {
    "nbgrader": {
     "grade": false,
     "grade_id": "cell-b90c49f4f13506ec",
     "locked": true,
     "schema_version": 1,
     "solution": false
    }
   },
   "outputs": [],
   "source": [
    "rn = rand(99999:10000000, length(city_populations_strings));"
   ]
  },
  {
   "cell_type": "code",
   "execution_count": null,
   "metadata": {},
   "outputs": [],
   "source": [
    "distplot(get_first_digits(get_string_nums(rn)), kde=false)\n"
   ]
  },
  {
   "cell_type": "code",
   "execution_count": null,
   "metadata": {},
   "outputs": [],
   "source": []
  }
 ],
 "metadata": {
  "anaconda-cloud": {},
  "celltoolbar": "Create Assignment",
  "kernelspec": {
   "display_name": "Julia 0.5.2",
   "language": "julia",
   "name": "julia-0.5"
  },
  "language_info": {
   "file_extension": ".jl",
   "mimetype": "application/julia",
   "name": "julia",
   "version": "0.5.2"
  }
 },
 "nbformat": 4,
 "nbformat_minor": 1
}

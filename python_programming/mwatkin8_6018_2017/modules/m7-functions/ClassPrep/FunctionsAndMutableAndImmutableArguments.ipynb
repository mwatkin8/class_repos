{
 "cells": [
  {
   "cell_type": "code",
   "execution_count": 2,
   "metadata": {},
   "outputs": [
    {
     "data": {
      "image/jpeg": "[encoded data removed]",
      "text/html": [
       "\n",
       "        <iframe\n",
       "            width=\"400\"\n",
       "            height=\"300\"\n",
       "            src=\"https://www.youtube.com/embed/F-3HtUChch0\"\n",
       "            frameborder=\"0\"\n",
       "            allowfullscreen\n",
       "        ></iframe>\n",
       "        "
      ],
      "text/plain": [
       "<IPython.lib.display.YouTubeVideo at 0x7f34a4d461d0>"
      ]
     },
     "execution_count": 2,
     "metadata": {},
     "output_type": "execute_result"
    }
   ],
   "source": [
    "from IPython.display import YouTubeVideo\n",
    "\n",
    "YouTubeVideo(\"F-3HtUChch0\")"
   ]
  },
  {
   "cell_type": "markdown",
   "metadata": {
    "internals": {
     "slide_helper": "subslide_end",
     "slide_type": "subslide"
    },
    "slide_helper": "subslide_end",
    "slideshow": {
     "slide_type": "subslide"
    }
   },
   "source": [
    "# Can Functions Modify Arguments?\n",
    "# Should Functions Modify Arguments?\n",
    "\n",
    "### First Question: Functions can Modify *Some* Kinds of Arguments\n",
    "\n",
    "* Mutable arguments such as lists and dictionaries **can** be modified within a function.\n",
    "* Immutable arguments such as strings, integers, floats and tuples **cannot** be modified within a function.\n",
    "\n",
    "### Second Question: Generally Don't Want to, but sometimes have to \n",
    "\n",
    "* It is generally considered bad style to modify an argument in a function.\n",
    "    * Makes it hard to track what a program is doing\n",
    "    * Can lead to inconsistent code \n",
    "    * Functional programming style (in resurgenence) eliminates all modification of variables (\"side effects\")\n",
    "* In reality, sometimes you have to modify arguments\n",
    "\n",
    "#### If you modify an argument, always have the function return a vaue of ``None``\n",
    "\n",
    "## Examples\n",
    "\n"
   ]
  },
  {
   "cell_type": "code",
   "execution_count": null,
   "metadata": {
    "collapsed": true
   },
   "outputs": [],
   "source": [
    "def can_I_modify_a_string(a_string):\n",
    "    \"\"\"\n",
    "    a_string: a string\n",
    "    \n",
    "    modifies a_string by assigning a reversed version \n",
    "    of a_string to itself\n",
    "    \"\"\"\n",
    "    print(\"Input: %s\"%a_string) # string interpolation\n",
    "    a_string = a_string[::-1] # using slicing to reverse string\n",
    "    print(\"Modified a_string: %s\"%a_string)\n",
    "    \n",
    "string1 = \"This is a string.\"\n",
    "can_I_modify_a_string(string1)"
   ]
  },
  {
   "cell_type": "markdown",
   "metadata": {},
   "source": [
    "### Now what does string1 look like?"
   ]
  },
  {
   "cell_type": "code",
   "execution_count": null,
   "metadata": {
    "collapsed": true,
    "internals": {
     "slide_helper": "subslide_end",
     "slide_type": "subslide"
    },
    "slide_helper": "subslide_end",
    "slideshow": {
     "slide_type": "subslide"
    }
   },
   "outputs": [],
   "source": [
    "print(string1)"
   ]
  },
  {
   "cell_type": "markdown",
   "metadata": {},
   "source": [
    "### String remains unmodified!"
   ]
  },
  {
   "cell_type": "code",
   "execution_count": null,
   "metadata": {
    "collapsed": true
   },
   "outputs": [],
   "source": [
    "def can_I_modify_a_list(a_list):\n",
    "    \"\"\"\n",
    "    a_list: a list\n",
    "    \n",
    "    modifies a_list by appending the string \"MODIFIED\" to a_list \n",
    "    \"\"\"\n",
    "    print(\"Input: \",a_list) # string interpolation\n",
    "    a_list.append(\"MODIFIED\") \n",
    "    print(\"Modified a_list: \",a_list)\n",
    "    \n",
    "list1 = [\"This is a list with the\",\"number\",1]\n",
    "can_I_modify_a_list(list1)"
   ]
  },
  {
   "cell_type": "markdown",
   "metadata": {},
   "source": [
    "### Now what does list1 look like?"
   ]
  },
  {
   "cell_type": "code",
   "execution_count": null,
   "metadata": {
    "collapsed": true,
    "internals": {
     "slide_helper": "subslide_end",
     "slide_type": "subslide"
    },
    "slide_helper": "subslide_end",
    "slideshow": {
     "slide_type": "subslide"
    }
   },
   "outputs": [],
   "source": [
    "print(list1)"
   ]
  },
  {
   "cell_type": "markdown",
   "metadata": {},
   "source": [
    "### List is modified\n",
    "\n",
    "## Summary\n",
    "\n",
    "* Mutable objects are passed by **reference**\n",
    "    * The location in memory where that object is stored is passed to the function and can be manipulated directly\n",
    "* Immutable objects are passed by **value**\n",
    "    * A copy of the object is passed to the function and only the copy is accessed and manipulated by the function\n",
    "    "
   ]
  },
  {
   "cell_type": "code",
   "execution_count": null,
   "metadata": {
    "collapsed": true
   },
   "outputs": [],
   "source": []
  },
  {
   "cell_type": "code",
   "execution_count": null,
   "metadata": {
    "collapsed": true
   },
   "outputs": [],
   "source": []
  }
 ],
 "metadata": {
  "kernelspec": {
   "display_name": "Python 3",
   "language": "python",
   "name": "python3"
  },
  "language_info": {
   "codemirror_mode": {
    "name": "ipython",
    "version": 3
   },
   "file_extension": ".py",
   "mimetype": "text/x-python",
   "name": "python",
   "nbconvert_exporter": "python",
   "pygments_lexer": "ipython3",
   "version": "3.5.2"
  }
 },
 "nbformat": 4,
 "nbformat_minor": 1
}

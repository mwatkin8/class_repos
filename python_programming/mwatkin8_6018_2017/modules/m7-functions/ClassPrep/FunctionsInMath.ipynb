{
 "cells": [
  {
   "cell_type": "markdown",
   "metadata": {},
   "source": [
    "# A Mathematical Overview of Functions"
   ]
  },
  {
   "cell_type": "markdown",
   "metadata": {},
   "source": [
    "# What is a Function?\n",
    "\n",
    "The word *function* was first used in mathematics by [Leibniz](https://en.wikipedia.org/wiki/Gottfried_Wilhelm_Leibniz)\n",
    "\n",
    "<img src=\"https://upload.wikimedia.org/wikipedia/commons/6/6a/Gottfried_Wilhelm_von_Leibniz.jpg\" alt=\"Leibniz\" width=\"200\">\n",
    "\n",
    "* \"any of a group of related actions contributing to a larger action; especially : the normal and specific contribution of a bodily part to the economy of a living organism\" (M-W)\n",
    "* \"a computer subroutine; specifically : one that performs a calculation with variables provided by a program and supplies the program with a single result\""
   ]
  },
  {
   "cell_type": "markdown",
   "metadata": {},
   "source": [
    "## What is a function in mathematics?"
   ]
  },
  {
   "cell_type": "markdown",
   "metadata": {},
   "source": [
    "[Leonard Euler](https://en.wikipedia.org/wiki/Leonhard_Euler) defined a function as a \"variable quantity that is dependent upon another variable quantity.\"\n",
    "\n",
    "This leads to the concept of independent and dependent variables. If we see\n",
    "\\begin{equation*}\n",
    "y = f(x)\n",
    "\\end{equation*}\n",
    "we would read this as \"y is equal to some function of x.\" $f$ is a symbol for \"some function\", $x$ is the independent variable, and $y$ is the dependent variable. Familiar, \"school mathematics\" examples of functions might include the following:\n",
    "\\begin{eqnarray*}\n",
    "y = \\sqrt{x},\\\\\n",
    "y = x^2+2x-1,\\\\\n",
    "y = mx+b.\n",
    "\\end{eqnarray*}"
   ]
  },
  {
   "cell_type": "markdown",
   "metadata": {},
   "source": [
    "## Functions and Sets\n",
    "\n",
    "In mathematics, functions are more formally defined in terms of sets. A function defines a correspondence from one set $A$ (the *domain*) to another set $B$ (the **codomain**  or **target**). In order to be a function, the correspondence from $A$ to $B$ must be such that each element in $A$ **corresponds to a unique element in $B$.** Other than that, the rule that defines the correspondence (function) is arbitrary.\n",
    "\n",
    "#### $A$ and $B$ need not be numeric sets. $A$ and $B$ might be \n",
    "* a set of shapes (e.g. circles in the plain)\n",
    "* Letters in the alphabet\n",
    "* DNA bases\n",
    "* A phenotype\n",
    "\n",
    "### To define a function we need three things: \n",
    "\n",
    "1. A set $A$ \n",
    "2. A set $B$\n",
    "1. A rule that for each $a \\in A$  assigns some **unique** value $b\\in B$. \n",
    "\n",
    "#### Explanation\n",
    "\n",
    "* The rule $f$ is the *function*\n",
    "* $A$ is known as the domain of the function\n",
    "* $B$ is known as the **codomain**  or **target** of the function.\n",
    "\n",
    "Mathematically we would write this as \n",
    "\n",
    "\\begin{equation*}\n",
    "f: A \\rightarrow B\n",
    "\\end{equation*}\n",
    "\n",
    "For some $a\\in A$, $f(a)$ is the **image** or the **value** of $f$ at $a$. The set of all image values is called the **range** or the **image** of $f$. Range is a more common term in discussing functions than is the codomain or target\n",
    "\n",
    "We are probably most familiar with functions that map from $\\mathbb{R} \\rightarrow \\mathbb{R}$. These are the functions that we learned how to plot in junior high. We will deal with these functions in more detail later in the class when we review calculus.\n",
    "\n",
    "But for our purposes, we want to keep a more general notion of a function. For example, we might have a function taht maps integers to letters, as illustrated in the figure below. \n",
    "\n",
    "<img src=\"https://upload.wikimedia.org/wikipedia/commons/thumb/a/a5/Bijection.svg/2000px-Bijection.svg.png\" alt=\"A function\" width=\"200\">\n",
    "\n"
   ]
  },
  {
   "cell_type": "markdown",
   "metadata": {},
   "source": [
    "### Given the above definition of a functions\n",
    "#### Is this a function?\n",
    "#### If it is a function, what is the domain? range?\n",
    "\n",
    "<img src=\"https://upload.wikimedia.org/wikipedia/commons/thumb/8/88/Logistic-curve.svg/2000px-Logistic-curve.svg.png\" alt=\"A function\" width=\"200\">\n"
   ]
  },
  {
   "cell_type": "markdown",
   "metadata": {},
   "source": [
    "### Given the above definition of a functions\n",
    "#### Is this a function?\n",
    "#### If it is a function, what is the domain? range?\n",
    "\n",
    "<img src=\"https://upload.wikimedia.org/wikipedia/commons/thumb/2/2e/Square-root_function.svg/2000px-Square-root_function.svg.png\" alt=\"A function\" width=\"200\">\n"
   ]
  },
  {
   "cell_type": "markdown",
   "metadata": {},
   "source": [
    "### Given the above definition of a function, is this a function?\n",
    "\n",
    "``constantator`` takes a word and returns a string (a sequence of characters) with all the vowels eliminated.\n",
    "\n",
    "For example,\n",
    "\n",
    "$$\\text{constantator(\"Brian\") } \\rightarrow \\text{ \"Brn\"}$$\n"
   ]
  },
  {
   "cell_type": "markdown",
   "metadata": {},
   "source": [
    "# A non-mathematical aside\n",
    "\n",
    "Let's take a moment and think of functions in a looser, less mathematical way.\n",
    "\n",
    "### A function is something that takes some kind of input and provides some sort of output\n",
    "\n",
    "Thinking this way, how would you describe each of the following as a function (what goes in and what comes out)\n",
    "\n",
    "* voice recognition\n",
    "* Lungs\n",
    "* Radio\n"
   ]
  },
  {
   "cell_type": "markdown",
   "metadata": {},
   "source": [
    "## A Python Aside\n",
    "\n",
    "In Python we create functions that take things (possibly nothing) as input (**arguments**) and provides some sort of output (**results**). Here are two important Python functions: ``print`` and ``input``\n",
    "\n",
    "* ``print`` takes as an argument something (a string, more about this later) you want to print and, as the name implies, prints it.\n",
    "* ``input`` takes as input an optional *prompt* **AND** what the user types on the keyboard and returns what is typed\n",
    "\n",
    "Here are some demonstrations"
   ]
  },
  {
   "cell_type": "code",
   "execution_count": null,
   "metadata": {},
   "outputs": [],
   "source": [
    "print(\"Hello, what is your name?\")\n",
    "print(5*4+3)"
   ]
  },
  {
   "cell_type": "code",
   "execution_count": null,
   "metadata": {},
   "outputs": [],
   "source": [
    "input(\"What is your name?\")"
   ]
  },
  {
   "cell_type": "code",
   "execution_count": null,
   "metadata": {},
   "outputs": [],
   "source": [
    "favorite_color = input(\"What is your favorite color?\")\n",
    "print(favorite_color)"
   ]
  },
  {
   "cell_type": "markdown",
   "metadata": {},
   "source": [
    "Notice how above we **assigned** the results from ``input`` to a variable (label) named ``favorite_color``. We then used ``favorite_color`` ad the **argument** for ``print``"
   ]
  },
  {
   "cell_type": "markdown",
   "metadata": {},
   "source": [
    "## Composite Functions\n",
    "\n",
    "Consider two functions\n",
    "\\begin{eqnarray*}\n",
    "f:A\\rightarrow B,\\\\\n",
    "g: B \\rightarrow C\n",
    "\\end{eqnarray*}\n",
    "So the codomain of $f$ is the domain of $g$. Then we can define a new function  that maps from $A$ to $C$. This new function is the composite of $f$ and $g$ and is denoted by $g\\circ f$.\n",
    "\n",
    "The composition is defined as \n",
    "\\begin{equation*}\n",
    "(g\\circ f)(a)\\equiv g(f(a))\n",
    "\\end{equation*}\n",
    "\n",
    "A special case of a function is the identity function, denoted by $1_A$. For the identity function $1_A(a) = a$. When constructing composite functions with $1$, the composite function equals the original function. So given $f:A\\rightarrow B$, then\n",
    "\\begin{eqnarray*}\n",
    "f \\circ 1_A = f,\\\\\n",
    "1_B\\circ f = f\n",
    "\\end{eqnarray*}"
   ]
  },
  {
   "cell_type": "markdown",
   "metadata": {},
   "source": [
    "## Python Aside\n",
    "\n",
    "### We can compose functions in Python\n",
    "\n",
    "* The **result** of function ``f`` being passed immediately as the **argument** for function ``g``"
   ]
  },
  {
   "cell_type": "code",
   "execution_count": null,
   "metadata": {},
   "outputs": [],
   "source": [
    "print(input(\"What is the airspeed velocity of an unladen swallow?\"))"
   ]
  },
  {
   "cell_type": "markdown",
   "metadata": {},
   "source": [
    "## One-to-One, Onto, and Invertible Functions\n",
    "\n",
    "* A function $f:A\\rightarrow B$ is **one-to-one** \n",
    "    * if each element in $A$ correspond to distinct  elements in $B$. \n",
    "    * That is, $f(a) = f(a') \\text{if and only if } a = a'$.\n",
    "\n",
    "### One-to-one Examples\n",
    "\n",
    "* $f(x)=3*x-2$ for the domain $\\mathbb{R}$ is one-to-one\n",
    "* $f(x)=x^2$ for the domain $\\mathbb{R}$ is **not** one-to-one ($f(-3)= 9 = f(3)$)\n",
    "    * $f(-3)=f(3)$ but $-3\\ne 3$"
   ]
  },
  {
   "cell_type": "markdown",
   "metadata": {},
   "source": [
    "#### Is a square wave one-to-one?\n",
    "\n",
    "\n",
    "<img src=\"https://upload.wikimedia.org/wikipedia/commons/thumb/1/1c/Square_wave.svg/2000px-Square_wave.svg.png\" alt=\"A square wave\" width=\"200\">\n"
   ]
  },
  {
   "cell_type": "markdown",
   "metadata": {},
   "source": [
    "* A function $f: A \\rightarrow B$ is **onto** \n",
    "    * if each element of $B$ is the image of some element in $A$. \n",
    "        * $\\forall x \\in B: x = f(y), y \\in A$\n",
    "    * That is there is nowhere in $B$ that you can't get to from $A$. \n",
    "    * $f$ **maps** $A$ **onto** $B$.\n",
    "\n",
    "\n",
    "* A function $f: A \\rightarrow B$ is **invertible** \n",
    "    * if there exists a companion function $g:A\\rightarrow B$ such that \n",
    "        * $f \\circ g=1_B \\text{and} g \\circ f = 1_A$. \n",
    "        \n",
    "* If $f$ is invertible, the inverse function is denoted by $f^{-1}$. \n",
    "* *By **invertible,** we mean that you can get back what you started with*: $f^{-1}(f(a))=a$.\n",
    " \n",
    "#### Example: Is this a function? Is this invertible?\n",
    "<img src=\"https://upload.wikimedia.org/wikipedia/commons/thumb/0/02/Total_function.svg/2000px-Total_function.svg.png\" alt=\"A set illustration of a function\" width=\"200\"> "
   ]
  },
  {
   "cell_type": "markdown",
   "metadata": {},
   "source": [
    "### Theorem\n",
    " A fuction $F:A \\rightarrow B$ is invertible if and only if\n",
    "\n",
    "1. $f$ is one-to-one\n",
    "1. $f$ is onto\n",
    "\n",
    "This theorem is common sense\n",
    "\n",
    "1. If $f$ was **not** one-to-one, how would you decided which element in $A$ corresponds to the value in $B$. For example, consider $f:A\\rightarrow B$ with $f(x)=x^2$. For $b=9$, would $f^{-1}$ map to $3$ or $-3$?\n",
    "1. If $f$ was **not** onto, you would have some element in $B$ that didn't correspond to any element in $A$."
   ]
  },
  {
   "cell_type": "markdown",
   "metadata": {},
   "source": [
    "### Important Mathematical Functions\n",
    "\n",
    "#### Integer Functions\n",
    "* Ceiling:  $\\lceil x \\rceil$  is the smallest integer greater than $x$.\n",
    "* Floor: $\\lfloor x\\rfloor$ is the largest integer less than $x$. The domain is $\\mathbb{R}$ the range is $\\mathbb{Z}$"
   ]
  },
  {
   "cell_type": "code",
   "execution_count": null,
   "metadata": {},
   "outputs": [],
   "source": [
    "%matplotlib inline\n",
    "from sympy import ceiling, floor, mod\n",
    "from sympy import symbols\n",
    "from sympy.plotting import plot\n",
    "x = symbols('x')"
   ]
  },
  {
   "cell_type": "code",
   "execution_count": null,
   "metadata": {},
   "outputs": [],
   "source": [
    "plot(floor(x), ceiling(x), (x,-5,5), line_color=('red', 'blue'))"
   ]
  },
  {
   "cell_type": "code",
   "execution_count": null,
   "metadata": {},
   "outputs": [],
   "source": [
    "plot(mod.Mod(x, 7), (x,-20,20))"
   ]
  },
  {
   "cell_type": "code",
   "execution_count": null,
   "metadata": {},
   "outputs": [],
   "source": [
    "mod.Mod(10.4,7)"
   ]
  },
  {
   "cell_type": "markdown",
   "metadata": {},
   "source": [
    "\n",
    "\n",
    "#### Real Functions\n",
    "\n",
    "* [Gaussian](https://en.wikipedia.org/wiki/Gaussian_function)"
   ]
  },
  {
   "cell_type": "code",
   "execution_count": null,
   "metadata": {},
   "outputs": [],
   "source": [
    "from sympy import E"
   ]
  },
  {
   "cell_type": "code",
   "execution_count": null,
   "metadata": {},
   "outputs": [],
   "source": [
    "a= 1\n",
    "b=3\n",
    "c=2\n",
    "plot(a*E**(-(x-b)**2/(2*c**2)),(x,-15,15))"
   ]
  },
  {
   "cell_type": "code",
   "execution_count": null,
   "metadata": {},
   "outputs": [],
   "source": []
  }
 ],
 "metadata": {
  "kernelspec": {
   "display_name": "Python 3",
   "language": "python",
   "name": "python3"
  },
  "language_info": {
   "codemirror_mode": {
    "name": "ipython",
    "version": 3
   },
   "file_extension": ".py",
   "mimetype": "text/x-python",
   "name": "python",
   "nbconvert_exporter": "python",
   "pygments_lexer": "ipython3",
   "version": "3.5.2"
  }
 },
 "nbformat": 4,
 "nbformat_minor": 1
}

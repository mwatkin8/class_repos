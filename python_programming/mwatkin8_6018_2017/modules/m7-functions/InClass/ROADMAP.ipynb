{
 "cells": [
  {
   "cell_type": "markdown",
   "metadata": {},
   "source": [
    "# Working with Functions\n",
    "\n",
    "## Problem Solving Case Study\n",
    "### What I did correctly with generating emails for AMIA\n",
    "### What I did poorly \n",
    "\n",
    "* [Functions in Python](FunctionsInPython.ipynb)\n",
    "* [Practicing with Functions](PracticingFunctions.ipynb)\n",
    "* [Recursion](recursion.ipynb)\n",
    "* [Functions and Numeric Data](PlayingWithNumbers.ipynb)\n"
   ]
  },
  {
   "cell_type": "code",
   "execution_count": null,
   "metadata": {},
   "outputs": [],
   "source": []
  }
 ],
 "metadata": {
  "anaconda-cloud": {},
  "kernelspec": {
   "display_name": "Python 3",
   "language": "python",
   "name": "python3"
  },
  "language_info": {
   "codemirror_mode": {
    "name": "ipython",
    "version": 3
   },
   "file_extension": ".py",
   "mimetype": "text/x-python",
   "name": "python",
   "nbconvert_exporter": "python",
   "pygments_lexer": "ipython3",
   "version": "3.5.2"
  }
 },
 "nbformat": 4,
 "nbformat_minor": 1
}

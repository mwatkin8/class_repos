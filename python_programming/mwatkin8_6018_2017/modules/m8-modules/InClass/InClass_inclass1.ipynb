{
 "cells": [
  {
   "cell_type": "markdown",
   "metadata": {},
   "source": [
    "# Working with Modules and Packages in Python\n",
    "\n",
    "Modules and packages take us outside of the Jupyter notebook and get us working with Python files (text files ending in ``.py``). Within the Jupyterhub environment we are working with, this will require us to use [vi/vim](http://www.vim.org/). It will also get us more involved with our operating system and environment variables.\n",
    "\n",
    "## vi/vim\n",
    "* Editing within vim on Jupyterhub is going to be somewhat limited.\n",
    "    * Use copy and paste from your browser\n",
    "    * Learn basics of vi\n",
    "* Long-term, clone to your computer and use favorite text editor\n",
    "    * [GVim](http://www.vim.org/)\n",
    "    * [Atom](https://atom.io/)\n",
    "    * Many others\n"
   ]
  },
  {
   "cell_type": "markdown",
   "metadata": {},
   "source": [
    "## Working in the bash (bourne again shell)\n",
    "\n",
    "### Open a terminal in Jupyterhub and type \"echo $PATH\" (no quotes)\n",
    "\n",
    "#### You should see something like this:\n",
    "\n",
    "\n",
    "```bash\n",
    "jovyan@e55077e8f408:~$ echo $PATH\n",
    "/opt/conda/bin:/opt/conda/bin:/usr/local/sbin:/usr/local/bin:/usr/sbin:/usr/bin:/sbin:/bin\n",
    "jovyan@e55077e8f408:~$\n",
    "```\n",
    "\n",
    "These are all the directories that the operating system looks in to find an executable program.\n",
    "\n",
    "\n",
    "### In your terminal type the following \"which ipython\"\n",
    "#### (I have notebook cells repeating the commands below)\n",
    "\n",
    "#### You should see something like this:\n",
    "\n",
    "```bash\n",
    "jovyan@e55077e8f408:~$ which ipython\n",
    "/opt/conda/bin/ipython\n",
    "jovyan@e55077e8f408:~$\n",
    "```\n",
    "\n",
    "#### The operating system found an executable file named `ipython` in the directory `/opt/conda/bin/`"
   ]
  },
  {
   "cell_type": "code",
   "execution_count": null,
   "metadata": {},
   "outputs": [],
   "source": [
    "%%bash\n",
    "which ipython"
   ]
  },
  {
   "cell_type": "markdown",
   "metadata": {},
   "source": [
    "### In your terminal type the following \"which ziggy\"\n",
    "\n",
    "#### You should not get any response\n",
    "#### The operating system was unable to find an executable program named ziggy in any of the directories contained in \"`PATH`\""
   ]
  },
  {
   "cell_type": "code",
   "execution_count": null,
   "metadata": {},
   "outputs": [],
   "source": [
    "%%bash\n",
    "which ziggy"
   ]
  },
  {
   "cell_type": "markdown",
   "metadata": {},
   "source": [
    "### We are going to create a directory in our `work` directory named `bin` and copy the file `ziggy.py` to it\n",
    "\n",
    "* Note you may need to change the permissions on `ziggy.py` to make it executable."
   ]
  },
  {
   "cell_type": "code",
   "execution_count": null,
   "metadata": {},
   "outputs": [],
   "source": [
    "%%bash\n",
    "mkdir ~/work/bin"
   ]
  },
  {
   "cell_type": "code",
   "execution_count": null,
   "metadata": {},
   "outputs": [],
   "source": [
    "%%bash\n",
    "cp ./ziggy.py ~/work/bin"
   ]
  },
  {
   "cell_type": "code",
   "execution_count": null,
   "metadata": {},
   "outputs": [],
   "source": [
    "%%bash\n",
    "~/work/bin/ziggy.py"
   ]
  },
  {
   "cell_type": "code",
   "execution_count": null,
   "metadata": {},
   "outputs": [],
   "source": [
    "%%bash\n",
    "ziggy.py"
   ]
  },
  {
   "cell_type": "markdown",
   "metadata": {},
   "source": [
    "### We can add our `bin` directory to `PATH`"
   ]
  },
  {
   "cell_type": "code",
   "execution_count": null,
   "metadata": {},
   "outputs": [],
   "source": [
    "%%bash\n",
    "export PATH=$PATH:$HOME/work/bin\n",
    "ziggy.py"
   ]
  },
  {
   "cell_type": "markdown",
   "metadata": {},
   "source": [
    "### Open a new terminal and type `ziggy.py`"
   ]
  },
  {
   "cell_type": "code",
   "execution_count": null,
   "metadata": {},
   "outputs": [],
   "source": [
    "%%bash\n",
    "ziggy.py"
   ]
  },
  {
   "cell_type": "markdown",
   "metadata": {},
   "source": [
    "### The change was only temporary (for that instance of the shell)"
   ]
  },
  {
   "cell_type": "markdown",
   "metadata": {},
   "source": [
    "### Make a backup of `~/.bashrc`"
   ]
  },
  {
   "cell_type": "code",
   "execution_count": null,
   "metadata": {},
   "outputs": [],
   "source": [
    "%%bash\n",
    "cp ~/.bashrc ~/.bashrc_backup"
   ]
  },
  {
   "cell_type": "markdown",
   "metadata": {},
   "source": [
    "### Use `vim` to edit the .bashrc file to add the following line\n",
    "\n",
    "```bash\n",
    "\n",
    "export PATH=$HOME/work/bin:$PATH\n",
    "\n",
    "```\n",
    "\n",
    "### Open a new terminal and type `echo $PATH`"
   ]
  },
  {
   "cell_type": "code",
   "execution_count": null,
   "metadata": {},
   "outputs": [],
   "source": [
    "%%bash\n",
    "echo $PATH"
   ]
  },
  {
   "cell_type": "markdown",
   "metadata": {},
   "source": [
    "## At the bash prompt  type `echo $PYTHONPATH`.\n",
    "\n",
    "What do you see?"
   ]
  },
  {
   "cell_type": "code",
   "execution_count": null,
   "metadata": {},
   "outputs": [],
   "source": [
    "%%bash\n",
    "echo $PYTHONPATH"
   ]
  },
  {
   "cell_type": "markdown",
   "metadata": {},
   "source": [
    "### Open a new terminal and type `ipython`\n",
    "\n",
    "#### Within `IPython` type the following commands\n",
    "\n",
    "You should see our modified `PYTHONPATH`"
   ]
  },
  {
   "cell_type": "code",
   "execution_count": null,
   "metadata": {},
   "outputs": [],
   "source": [
    "import sys\n",
    "sys.path"
   ]
  },
  {
   "cell_type": "code",
   "execution_count": null,
   "metadata": {},
   "outputs": [],
   "source": [
    "import chapmanbe"
   ]
  },
  {
   "cell_type": "markdown",
   "metadata": {},
   "source": [
    "### Why doesn't this work for our notebooks?\n",
    "\n",
    "The notebooks are looking to the directory `~/.ipython/profile_default/startup` to configure the environment"
   ]
  },
  {
   "cell_type": "code",
   "execution_count": null,
   "metadata": {},
   "outputs": [],
   "source": [
    "! cat ~/.ipython/profile_default/startup/README"
   ]
  },
  {
   "cell_type": "markdown",
   "metadata": {},
   "source": [
    "### copy `00-first.py` to `~/.ipython/profile_default/startup/`\n",
    "#### Restart the kernel  and look at `sys.path`"
   ]
  },
  {
   "cell_type": "markdown",
   "metadata": {},
   "source": [
    "## Exercises"
   ]
  },
  {
   "cell_type": "markdown",
   "metadata": {},
   "source": [
    "#### Use functions in the Python standard library to replicate the steps we did manullay above (e.g. make  a directory, copy a file, run a command)"
   ]
  },
  {
   "cell_type": "markdown",
   "metadata": {},
   "source": [
    "### Group Exercises"
   ]
  },
  {
   "cell_type": "markdown",
   "metadata": {},
   "source": [
    "#### Find a module in the standard library that you could use to read in/parse the following file:\n",
    "\n",
    "`~/DATA/Misc/bmi_faculty_papers_details.json`"
   ]
  },
  {
   "cell_type": "code",
   "execution_count": null,
   "metadata": {},
   "outputs": [],
   "source": []
  },
  {
   "cell_type": "code",
   "execution_count": null,
   "metadata": {},
   "outputs": [],
   "source": [
    "help(pprint)"
   ]
  },
  {
   "cell_type": "code",
   "execution_count": null,
   "metadata": {},
   "outputs": [],
   "source": [
    "import json\n",
    "\n",
    "import json\n",
    "from pprint import pprint\n",
    "\n",
    "with open('/home/jovyan/DATA/Misc/bmi_faculty_papers_details.json') as data_file:    \n",
    "    data = json.load(data_file)\n",
    "\n",
    "pprint(data)\n"
   ]
  },
  {
   "cell_type": "markdown",
   "metadata": {},
   "source": [
    "#### Find a module in the standard library that you could use to read in/parse the following file:\n",
    "\n",
    "`~/DATA/AirQuality/Class_PM25_Data.csv`"
   ]
  },
  {
   "cell_type": "code",
   "execution_count": null,
   "metadata": {},
   "outputs": [],
   "source": [
    "import csv\n",
    "with open('/home/jovyan/DATA/AirQuality/Class_PM25_Data.csv') as csvfile:\n",
    "    reader = csv.DictReader(csvfile)\n",
    "    for row in reader:\n",
    "        print(row)"
   ]
  },
  {
   "cell_type": "markdown",
   "metadata": {},
   "source": [
    "#### Find a third-party package that you could use to read in this Excel file\n",
    "\n",
    "`~/DATA/TimeSeries/EPA/SLC_Weather_2016.xlsx`"
   ]
  },
  {
   "cell_type": "code",
   "execution_count": null,
   "metadata": {},
   "outputs": [],
   "source": [
    "import openpyxl"
   ]
  },
  {
   "cell_type": "code",
   "execution_count": null,
   "metadata": {},
   "outputs": [],
   "source": [
    "openpyxl.reader?"
   ]
  },
  {
   "cell_type": "code",
   "execution_count": null,
   "metadata": {},
   "outputs": [],
   "source": [
    "!pip install openpyxl"
   ]
  },
  {
   "cell_type": "code",
   "execution_count": null,
   "metadata": {},
   "outputs": [],
   "source": [
    "import pandas as pd\n",
    "pd.read_excel(\"/home/jovyan/DATA/TimeSeries/EPA/SLC_Weather_2016.xlsx\")"
   ]
  },
  {
   "cell_type": "markdown",
   "metadata": {},
   "source": [
    "#### Find a module or modules in the standard library that you could use to calculate how many days old you are"
   ]
  },
  {
   "cell_type": "code",
   "execution_count": null,
   "metadata": {},
   "outputs": [],
   "source": [
    "import datetime\n",
    "import time\n",
    "datetime.date?\n",
    "d1 = datetime.date(1968, 5, 24)\n",
    "myage = datetime.date.fromtimestamp(time.time()) -d1"
   ]
  },
  {
   "cell_type": "code",
   "execution_count": null,
   "metadata": {},
   "outputs": [],
   "source": [
    "myage.days"
   ]
  },
  {
   "cell_type": "markdown",
   "metadata": {},
   "source": [
    "## Class Exercises"
   ]
  },
  {
   "cell_type": "markdown",
   "metadata": {},
   "source": [
    "## Working with ``__init__.py``\n",
    "\n",
    "* How could you change the ``chapmanbe`` package so that ``from chapmanbe import *`` also imports the ``hello`` subpackage?"
   ]
  },
  {
   "cell_type": "code",
   "execution_count": null,
   "metadata": {},
   "outputs": [],
   "source": [
    "from chapmanbe import *"
   ]
  },
  {
   "cell_type": "code",
   "execution_count": null,
   "metadata": {},
   "outputs": [],
   "source": [
    "dir()"
   ]
  },
  {
   "cell_type": "code",
   "execution_count": null,
   "metadata": {},
   "outputs": [],
   "source": [
    "import chapmanbe"
   ]
  },
  {
   "cell_type": "code",
   "execution_count": null,
   "metadata": {},
   "outputs": [],
   "source": [
    "getpass.getpass()"
   ]
  },
  {
   "cell_type": "code",
   "execution_count": null,
   "metadata": {},
   "outputs": [],
   "source": [
    "chapmanbe.getpass.getpass()"
   ]
  },
  {
   "cell_type": "markdown",
   "metadata": {},
   "source": [
    "* How could you change the ``chapmanbe`` package so that a directory ``~/.chapmanbe_data`` exists and is available for the package to save data?"
   ]
  },
  {
   "cell_type": "code",
   "execution_count": null,
   "metadata": {},
   "outputs": [],
   "source": []
  },
  {
   "cell_type": "markdown",
   "metadata": {},
   "source": [
    "* Python includes a function (``urlopen``) for connecting to a website (url) and opening that site as if it were a regular read-only  file. In Python 2.x this function is located in ``urllib2`` while in Python 3.x this function is located in ``urllib``. How could you use the ``platform`` module to import ``urlopen`` so that it is available to ``chapmanbe`` whether it is running on Python 2.x or Pythono 3.x?\n",
    "\n",
    "* In Python 3 `urllib.request.urlopen`\n",
    "* In Python 2 `urllib2.urlopen`"
   ]
  },
  {
   "cell_type": "code",
   "execution_count": null,
   "metadata": {},
   "outputs": [],
   "source": []
  },
  {
   "cell_type": "code",
   "execution_count": null,
   "metadata": {},
   "outputs": [],
   "source": [
    "import platform"
   ]
  },
  {
   "cell_type": "code",
   "execution_count": null,
   "metadata": {},
   "outputs": [],
   "source": [
    "platform.python_version()"
   ]
  },
  {
   "cell_type": "code",
   "execution_count": null,
   "metadata": {},
   "outputs": [],
   "source": [
    "platform.python_version_tuple()"
   ]
  },
  {
   "cell_type": "code",
   "execution_count": null,
   "metadata": {},
   "outputs": [],
   "source": [
    "import platform\n",
    "from IPython.display import HTML, display\n",
    "from pprint import pprint\n",
    "def read_url(url):\n",
    "    if platform.python_version_tuple()[0] == '3':\n",
    "        from urllib.request import urlopen \n",
    "    else:\n",
    "        from urllib2 import urlopen\n",
    "    \n",
    "    f0 = urlopen(url)\n",
    "    rslts = f0.read()\n",
    "    f0.close()\n",
    "    return rslts\n",
    "  \n",
    "pprint(read_url(\"http://www.python.org\"))"
   ]
  },
  {
   "cell_type": "code",
   "execution_count": null,
   "metadata": {},
   "outputs": [],
   "source": []
  }
 ],
 "metadata": {
  "kernelspec": {
   "display_name": "Python 3",
   "language": "python",
   "name": "python3"
  },
  "language_info": {
   "codemirror_mode": {
    "name": "ipython",
    "version": 3
   },
   "file_extension": ".py",
   "mimetype": "text/x-python",
   "name": "python",
   "nbconvert_exporter": "python",
   "pygments_lexer": "ipython3",
   "version": "3.5.2"
  }
 },
 "nbformat": 4,
 "nbformat_minor": 1
}

{
 "cells": [
  {
   "cell_type": "code",
   "execution_count": 1,
   "metadata": {
    "collapsed": true
   },
   "outputs": [],
   "source": [
    "from IPython.display import YouTubeVideo"
   ]
  },
  {
   "cell_type": "code",
   "execution_count": 2,
   "metadata": {},
   "outputs": [
    {
     "data": {
      "image/jpeg": "[encoded data removed]",
      "text/html": [
       "\n",
       "        <iframe\n",
       "            width=\"700\"\n",
       "            height=\"300\"\n",
       "            src=\"https://www.youtube.com/embed/t8eVJ-o8dEc\"\n",
       "            frameborder=\"0\"\n",
       "            allowfullscreen\n",
       "        ></iframe>\n",
       "        "
      ],
      "text/plain": [
       "<IPython.lib.display.YouTubeVideo at 0x7f08fed43080>"
      ]
     },
     "execution_count": 2,
     "metadata": {},
     "output_type": "execute_result"
    }
   ],
   "source": [
    "YouTubeVideo(\"t8eVJ-o8dEc\", width=700)"
   ]
  },
  {
   "cell_type": "markdown",
   "metadata": {
    "internals": {
     "slide_helper": "subslide_end",
     "slide_type": "subslide"
    },
    "slide_helper": "subslide_end",
    "slideshow": {
     "slide_type": "slide"
    }
   },
   "source": [
    "# Modules"
   ]
  },
  {
   "cell_type": "markdown",
   "metadata": {
    "internals": {
     "slide_helper": "subslide_end",
     "slide_type": "subslide"
    },
    "slide_helper": "subslide_end",
    "slideshow": {
     "slide_type": "subslide"
    }
   },
   "source": [
    "* Modules are a means of organizing functions, classes, constants, etc. that intrinsically belong together.\n",
    "* They allow the core language to remain small while simultaneously facilitating language growth and expansion.\n",
    "\n",
    "* We have already used several built-in modules\n",
    "    * ``math``\n",
    "    * ``random``\n",
    "    "
   ]
  },
  {
   "cell_type": "markdown",
   "metadata": {
    "internals": {
     "slide_helper": "subslide_end",
     "slide_type": "subslide"
    },
    "slide_helper": "subslide_end",
    "slideshow": {
     "slide_type": "subslide"
    }
   },
   "source": [
    "## Writing your own modules allows you to \n",
    "### Collect and reuse similar code:\n",
    "\n",
    "* I organize my own code in the following modules\n",
    "    * image analysis\n",
    "    * statistical analysis\n",
    "    * text processing\n",
    "### Avoid colliding names \n",
    "* e.g. complex square root vs real square root"
   ]
  },
  {
   "cell_type": "markdown",
   "metadata": {
    "internals": {
     "slide_helper": "subslide_end",
     "slide_type": "subslide"
    },
    "slide_helper": "subslide_end",
    "slideshow": {
     "slide_type": "subslide"
    }
   },
   "source": [
    "# What is a module?  \n",
    "* A module is simply a Python file (a text file that ends with a `.py` extension). \n",
    "* How does a program access a module? \n",
    "\n",
    "```Python\n",
    "import my_module\n",
    "```\n",
    "* loads the entire module ``my_module`` into the current program. \n",
    "* Happens only once!\n",
    "\n",
    "```Python\n",
    "from my_module import myFunction\n",
    "```\n",
    "* loads only function ``myFunction`` from the module ``my_module`` into the current program\n",
    "\n",
    "```Python\n",
    "import my_module as mm\n",
    "```\n",
    "* imports ``my_module`` but renames it mm\n",
    "\n",
    "```Python\n",
    "from my_module import *\n",
    "```\n",
    "* loads everything in ``my_module`` into the program"
   ]
  },
  {
   "cell_type": "code",
   "execution_count": null,
   "metadata": {
    "collapsed": true
   },
   "outputs": [],
   "source": [
    "import math\n",
    "print(math.sqrt(11))"
   ]
  },
  {
   "cell_type": "code",
   "execution_count": null,
   "metadata": {
    "collapsed": true
   },
   "outputs": [],
   "source": [
    "from os import getcwd\n",
    "print(getcwd())"
   ]
  },
  {
   "cell_type": "code",
   "execution_count": null,
   "metadata": {
    "collapsed": true
   },
   "outputs": [],
   "source": [
    "import string as strng\n",
    "print(strng.punctuation)"
   ]
  },
  {
   "cell_type": "code",
   "execution_count": null,
   "metadata": {
    "collapsed": true,
    "internals": {
     "slide_helper": "subslide_end",
     "slide_type": "subslide"
    },
    "slide_helper": "subslide_end",
    "slideshow": {
     "slide_type": "subslide"
    }
   },
   "outputs": [],
   "source": [
    "from random import *\n",
    "print(random())"
   ]
  },
  {
   "cell_type": "markdown",
   "metadata": {
    "internals": {
     "slide_helper": "subslide_end",
     "slide_type": "subslide"
    },
    "slide_helper": "subslide_end",
    "slideshow": {
     "slide_type": "subslide"
    }
   },
   "source": [
    "# Modules as Objects\n",
    "* When an import statement is executed, Python creates a *module object*\n",
    "    * object has name of imported module \n",
    "    * Only the module name is added to the local symbol table\n",
    "    * This object has attributes. \n",
    "        * In addition to what is defined in the module (variables, functions, classes), python defines several attributes for the module:\n",
    "\t\t\t1. **`__name__`**: The value will be either \n",
    "                1. `__main__`, if module is being used as a script/program, or\n",
    "                1. `__MODULENAME__` where `MODULENAME` is the name of the module/file, if we have imported the module\n",
    "\t\t\t1. **`__file__`**: the file where the module is defined\n",
    "\t\t\t1. **`__doc__`**: the doc string defined for the module"
   ]
  },
  {
   "cell_type": "code",
   "execution_count": null,
   "metadata": {
    "collapsed": true,
    "internals": {
     "slide_helper": "subslide_end",
     "slide_type": "subslide"
    },
    "slide_helper": "subslide_end",
    "slideshow": {
     "slide_type": "subslide"
    }
   },
   "outputs": [],
   "source": [
    "print(math.__file__)\n",
    "print(math.__name__)\n",
    "print(math.__doc__)\n"
   ]
  },
  {
   "cell_type": "code",
   "execution_count": null,
   "metadata": {
    "collapsed": true,
    "internals": {
     "slide_helper": "subslide_end",
     "slide_type": "subslide"
    },
    "slide_helper": "subslide_end",
    "slideshow": {
     "slide_type": "subslide"
    }
   },
   "outputs": [],
   "source": [
    "import math\n",
    "\n",
    "print(dir(math))\n",
    "# use \".\" \"TAB\" (after cell has first been evaluated/played)\n",
    "math.acos?\n",
    "help(math.cos)"
   ]
  },
  {
   "cell_type": "markdown",
   "metadata": {},
   "source": [
    "## `sys.path`\n",
    "\n",
    "`sys.path` is a list of directories where Python searches for modules."
   ]
  },
  {
   "cell_type": "code",
   "execution_count": null,
   "metadata": {
    "collapsed": true
   },
   "outputs": [],
   "source": [
    "import sys\n",
    "sys.path"
   ]
  },
  {
   "cell_type": "markdown",
   "metadata": {
    "internals": {
     "slide_helper": "subslide_end",
     "slide_type": "subslide"
    },
    "slide_helper": "subslide_end",
    "slideshow": {
     "slide_type": "subslide"
    }
   },
   "source": [
    "## Creating a Module\n",
    "* All you need to do is create a Python file (ending in `.py`) somewhere in your ``sys.path``\n",
    "* The module can contain any Python object\n",
    "### Here is an example\n",
    "    * mdcrc.py\n",
    "    \n",
    "```Python\n",
    "\"\"\"This module contains data and function relative to MDCRC 6521 course\"\"\"\n",
    "\n",
    "import random\n",
    "# just an interesting number\n",
    "Chapernowne_number = 0.12345678910111213141516171819202122232425\n",
    "students = \\\n",
    "    [\"Samuel\", \"Tyler\", \"Helen\", \"Nickolas\", \"Matthew\", \"Scott\",\n",
    "     \"Schuyler\", \"Nicole\", \"Sai\", \"Melissa\", \"Clifford\", \"Paris\"]\n",
    "teachers = [\"Brian\", \"Keith\"]\n",
    "\n",
    "\n",
    "def selectStudentWithReplacement(students):\n",
    "    \"\"\"randomly select student from list students\"\"\"\n",
    "    return random.choice(students)\n",
    "\n",
    "def shufflePopStudents(students):\n",
    "    \"\"\"randomly select and remove a student from the list of students\"\"\"\n",
    "    try:\n",
    "        random.shuffle(students)\n",
    "        return students.pop()\n",
    "    except IndexError:\n",
    "        return \"\"\n",
    "\n",
    "def pair_groups(n_groups = 6):\n",
    "    \"\"\" create a random pairing of the homework groups\"\"\"\n",
    "    def _shuffle_pop(group1, groups):\n",
    "        random.shuffle(groups)\n",
    "        if groups[-1] != group1:\n",
    "            match = groups.pop()\n",
    "            return match, groups\n",
    "        else:\n",
    "            return _shuffle_pop(group1,groups)\n",
    "    first = range(1,n_groups+1)\n",
    "    second = first[:]\n",
    "    return [(group,_shuffle_pop(group,second)) for group in first]\n",
    "\n",
    "print(\"this is mdcrc.py\")\n",
    "```"
   ]
  },
  {
   "cell_type": "code",
   "execution_count": 3,
   "metadata": {},
   "outputs": [
    {
     "name": "stdout",
     "output_type": "stream",
     "text": [
      "\"\"\"This module contains data and function relative to MDCRC 6521 course\"\"\"\n",
      "\n",
      "import random\n",
      "# just an interesting number\n",
      "Chapernowne_number = 0.12345678910111213141516171819202122232425\n",
      "students = \\\n",
      "    [\"Samuel\", \"Tyler\", \"Helen\", \"Nickolas\", \"Matthew\", \"Scott\",\n",
      "     \"Schuyler\", \"Nicole\", \"Sai\", \"Melissa\", \"Clifford\", \"Paris\"]\n",
      "teachers = [\"Brian\", \"Tom\", \"Eric\"]\n",
      "\n",
      "\n",
      "def selectStudentWithReplacement(students):\n",
      "    \"\"\"randomly select student from list students\"\"\"\n",
      "    return random.choice(students)\n",
      "\n",
      "def shufflePopStudents(students):\n",
      "    \"\"\"randomly select and remove a student from the list of students\"\"\"\n",
      "    try:\n",
      "        random.shuffle(students)\n",
      "        return students.pop()\n",
      "    except IndexError:\n",
      "        return \"\"\n",
      "\n",
      "def pair_groups(n_groups = 6):\n",
      "    \"\"\" create a random pairing of the homework groups\"\"\"\n",
      "    def _shuffle_pop(group1, groups):\n",
      "        random.shuffle(groups)\n",
      "        if groups[-1] != group1:\n",
      "            match = groups.pop()\n",
      "            return match, groups\n",
      "        else:\n",
      "            return _shuffle_pop(group1,groups)\n",
      "    first = range(1,n_groups+1)\n",
      "    second = first[:]\n",
      "    return [(group,_shuffle_pop(group,second)) for group in first]\n",
      "\n",
      "print(\"this is mdcrc.py\")\n",
      "\n"
     ]
    }
   ],
   "source": [
    "with open(\"mdcrc.py\",\"r\") as f0:\n",
    "    mdcrc = f0.read()\n",
    "print(mdcrc)"
   ]
  },
  {
   "cell_type": "code",
   "execution_count": null,
   "metadata": {
    "collapsed": true
   },
   "outputs": [],
   "source": [
    "import sys\n",
    "import os\n",
    "sys.path"
   ]
  },
  {
   "cell_type": "code",
   "execution_count": 4,
   "metadata": {
    "internals": {
     "slide_helper": "subslide_end",
     "slide_type": "subslide"
    },
    "slide_helper": "subslide_end",
    "slideshow": {
     "slide_type": "subslide"
    }
   },
   "outputs": [
    {
     "name": "stdout",
     "output_type": "stream",
     "text": [
      "this is mdcrc.py\n",
      "/home/jovyan/work/6018_2017/modules/m8-modules/ClassPrep/mdcrc.py\n",
      "This module contains data and function relative to MDCRC 6521 course\n",
      "mdcrc\n",
      "Help on module mdcrc:\n",
      "\n",
      "NAME\n",
      "    mdcrc - This module contains data and function relative to MDCRC 6521 course\n",
      "\n",
      "FUNCTIONS\n",
      "    pair_groups(n_groups=6)\n",
      "        create a random pairing of the homework groups\n",
      "    \n",
      "    selectStudentWithReplacement(students)\n",
      "        randomly select student from list students\n",
      "    \n",
      "    shufflePopStudents(students)\n",
      "        randomly select and remove a student from the list of students\n",
      "\n",
      "DATA\n",
      "    Chapernowne_number = 0.12345678910111213\n",
      "    students = ['Samuel', 'Tyler', 'Helen', 'Nickolas', 'Matthew', 'Scott'...\n",
      "    teachers = ['Brian', 'Tom', 'Eric']\n",
      "\n",
      "FILE\n",
      "    /home/jovyan/work/6018_2017/modules/m8-modules/ClassPrep/mdcrc.py\n",
      "\n",
      "\n"
     ]
    }
   ],
   "source": [
    "\n",
    "import mdcrc # NOTE: don't include the .py on the import statement\n",
    "print(mdcrc.__file__)\n",
    "print(mdcrc.__doc__)\n",
    "print(mdcrc.__name__)\n",
    "help(mdcrc)"
   ]
  },
  {
   "cell_type": "markdown",
   "metadata": {},
   "source": [
    "## What if I change my module?\n",
    "### If I import the module again do I see my chnages?\n",
    "#### Experiment with mdcrc\n",
    "\n",
    "Edit `mdcrc.py` by adding \"Nick\" and \"Rich\" to the list of teachers. Then reimport and look at `mdcrc.teachers`."
   ]
  },
  {
   "cell_type": "code",
   "execution_count": null,
   "metadata": {
    "collapsed": true
   },
   "outputs": [],
   "source": [
    "import mdcrc\n",
    "mdcrc.teachers"
   ]
  },
  {
   "cell_type": "markdown",
   "metadata": {},
   "source": [
    "#### `mdcrc.teachers` remains unchanged in our notebook\n",
    "#### An `import` statement is only executed once!\n",
    "\n",
    "This second `import mdcrc` is ignored."
   ]
  },
  {
   "cell_type": "markdown",
   "metadata": {
    "internals": {
     "slide_helper": "subslide_end",
     "slide_type": "subslide"
    },
    "slide_helper": "subslide_end",
    "slideshow": {
     "slide_type": "subslide"
    }
   },
   "source": [
    "### [``importlib.reload``](https://docs.python.org/3/library/importlib.html)\n",
    "* If you have changed a module and what to reload the modules\n",
    "* **reload(my_module)**: Reloads my_module into the program. \n",
    "    * Any changes to my_module are now reflected in the program.\n",
    "* Very useful as you develop and debug your programs."
   ]
  },
  {
   "cell_type": "code",
   "execution_count": null,
   "metadata": {
    "collapsed": true
   },
   "outputs": [],
   "source": [
    "import importlib\n",
    "importlib.reload(mdcrc)\n",
    "mdcrc.teachers"
   ]
  },
  {
   "cell_type": "markdown",
   "metadata": {
    "internals": {
     "slide_type": "subslide"
    },
    "slideshow": {
     "slide_type": "subslide"
    }
   },
   "source": [
    "## What is available in mdcrc?\n",
    "\n",
    "### Any constants, functions, classes, etc. we have defined in mdcrc\n",
    "### Any packages we've imported into mdcrc\n",
    "#### Since mdcrc imports random (**import random**), **random** is also accessible through mdcrc"
   ]
  },
  {
   "cell_type": "code",
   "execution_count": null,
   "metadata": {
    "collapsed": true,
    "internals": {
     "frag_number": 13
    },
    "slideshow": {
     "slide_type": "fragment"
    }
   },
   "outputs": [],
   "source": [
    "mdcrc.random.randrange(0,10)\n"
   ]
  },
  {
   "cell_type": "markdown",
   "metadata": {},
   "source": [
    "## Module Imports and ``sys.path``"
   ]
  },
  {
   "cell_type": "code",
   "execution_count": null,
   "metadata": {
    "collapsed": true
   },
   "outputs": [],
   "source": [
    "YouTubeVideo(\"kkYdJgJiXJ4\", width=700)"
   ]
  },
  {
   "cell_type": "markdown",
   "metadata": {},
   "source": [
    "### I've created a module named ``something_craziest.py``\n",
    "* File is located in ./something_crazy/something_crazier"
   ]
  },
  {
   "cell_type": "code",
   "execution_count": null,
   "metadata": {
    "collapsed": true,
    "internals": {
     "frag_helper": "fragment_end",
     "frag_number": 37,
     "slide_helper": "subslide_end"
    },
    "slide_helper": "slide_end",
    "slideshow": {
     "slide_type": "-"
    }
   },
   "outputs": [],
   "source": [
    "import something_craziest"
   ]
  },
  {
   "cell_type": "code",
   "execution_count": null,
   "metadata": {
    "collapsed": true
   },
   "outputs": [],
   "source": [
    "import sys\n",
    "import os\n",
    "sys.path"
   ]
  },
  {
   "cell_type": "markdown",
   "metadata": {},
   "source": [
    "### The location of ``something_craziest`` is not in my sys.path"
   ]
  },
  {
   "cell_type": "code",
   "execution_count": null,
   "metadata": {
    "collapsed": true
   },
   "outputs": [],
   "source": [
    "fdir = os.path.join(os.getcwd(),\"something_crazy\",\"something_crazier\")\n",
    "print(fdir in sys.path)\n",
    "fdir"
   ]
  },
  {
   "cell_type": "markdown",
   "metadata": {},
   "source": [
    "### But I can add it"
   ]
  },
  {
   "cell_type": "code",
   "execution_count": null,
   "metadata": {
    "collapsed": true
   },
   "outputs": [],
   "source": [
    "sys.path.append(fdir)"
   ]
  },
  {
   "cell_type": "code",
   "execution_count": null,
   "metadata": {
    "collapsed": true
   },
   "outputs": [],
   "source": [
    "import something_craziest"
   ]
  },
  {
   "cell_type": "code",
   "execution_count": null,
   "metadata": {
    "collapsed": true
   },
   "outputs": [],
   "source": [
    "# Call my_favoritethings from my module\n",
    "something_craziest.my_favoritethings()"
   ]
  },
  {
   "cell_type": "code",
   "execution_count": null,
   "metadata": {
    "collapsed": true
   },
   "outputs": [],
   "source": [
    "sys.path.pop(-1)"
   ]
  }
 ],
 "metadata": {
  "kernelspec": {
   "display_name": "Python 3",
   "language": "python",
   "name": "python3"
  },
  "language_info": {
   "codemirror_mode": {
    "name": "ipython",
    "version": 3
   },
   "file_extension": ".py",
   "mimetype": "text/x-python",
   "name": "python",
   "nbconvert_exporter": "python",
   "pygments_lexer": "ipython3",
   "version": "3.5.2"
  }
 },
 "nbformat": 4,
 "nbformat_minor": 1
}

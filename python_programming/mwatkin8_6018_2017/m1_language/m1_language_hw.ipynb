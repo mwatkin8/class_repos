{
 "cells": [
  {
   "cell_type": "markdown",
   "metadata": {
    "deletable": false,
    "editable": false,
    "nbgrader": {
     "checksum": "b427a0d864ed951b7508e627d2b956d0",
     "grade": false,
     "grade_id": "cell-a5f26f20d5164844",
     "locked": true,
     "schema_version": 1,
     "solution": false
    }
   },
   "source": [
    "# BMI 6018/ MDCRC 6521 \n",
    "## Fall 2017\n",
    "### M1-Language, Mathematics, and Programming Homework \n",
    "\n"
   ]
  },
  {
   "cell_type": "markdown",
   "metadata": {
    "deletable": false,
    "editable": false,
    "nbgrader": {
     "checksum": "b45ff0836e4c0120784fe56fa2435157",
     "grade": false,
     "grade_id": "cell-b7985d40871c4c99",
     "locked": true,
     "schema_version": 1,
     "solution": false
    }
   },
   "source": [
    "**Problem 1:** \n",
    "\n",
    ">For each of the four ambiguous newspaper headlines I stated earlier, rewrite it in a way that avoids the amusing second meaning, while retaining the brevity of a typical headline:\n",
    "\n",
    "1. Sisters reunited after ten years in checkout line at Safeway.\n",
    "2. Prostitutes appeal to the Pope.\n",
    "3. Large hole appears in High Street. City authorities are looking into it.\n",
    "4. Mayor says bus passengers should be belted.\n",
    "\n",
    "Taken from Devlin, Keith (2015-02-23). *Introduction to Mathematical Thinking* (p. 14). Keith Devlin. Kindle Edition. "
   ]
  },
  {
   "cell_type": "markdown",
   "metadata": {
    "collapsed": true,
    "deletable": false,
    "nbgrader": {
     "checksum": "83a8460b29ac26e40af4a29b894690b6",
     "grade": true,
     "grade_id": "cell-b3de4571e9c5a110",
     "locked": false,
     "points": 20,
     "schema_version": 1,
     "solution": true
    }
   },
   "source": [
    "Answer:\n",
    "1. Sisters in checkout line at Safeway reunite after ten years.\n",
    "2. Appeals from prostitutes reach the Pope.\n",
    "3. City authorities investigate origins of a large hole in High Street.\n",
    "4. Mayor enforces seat belt regulations for bus passengers."
   ]
  },
  {
   "cell_type": "markdown",
   "metadata": {
    "deletable": false,
    "editable": false,
    "nbgrader": {
     "checksum": "88cfdfa9a04ef091f9a9c2500845c90a",
     "grade": false,
     "grade_id": "cell-d7ff6bf7be97acd5",
     "locked": true,
     "schema_version": 1,
     "solution": false
    }
   },
   "source": [
    "**Problem 2:** \n",
    "\n",
    "Write a step-by-step instructions on how to make a peanut butter and jam sandwich. Assume you are starting with all the ingredients (that is you don't have to describe going shopping). Try to be as detailed as possible."
   ]
  },
  {
   "cell_type": "markdown",
   "metadata": {
    "collapsed": true,
    "deletable": false,
    "nbgrader": {
     "checksum": "309761881894835dac784a1a9e637b71",
     "grade": true,
     "grade_id": "cell-b115ea7be9e2e944",
     "locked": false,
     "points": 30,
     "schema_version": 1,
     "solution": true
    }
   },
   "source": [
    "Answer:\n",
    "1. Remove lid from a jar of peanut butter and a jar of jam.\n",
    "2. Hold butter knife by the handle and use the blade to extract ~1 tb of peanut butter from the jar of peanut butter and wipe it evenly across the flat face of one piece of bread.\n",
    "3. Repeat step two with jam instead of peanut butter and wipe the jam across the flat face of the other piece of bread.\n",
    "4. Put down the knife away from the two pieces of bread.\n",
    "5. Join the two pieces of bread with the face wiped with peanut butter connecting to the face wiped with jam."
   ]
  },
  {
   "cell_type": "code",
   "execution_count": null,
   "metadata": {
    "collapsed": true
   },
   "outputs": [],
   "source": []
  }
 ],
 "metadata": {
  "anaconda-cloud": {},
  "kernelspec": {
   "display_name": "Python 3",
   "language": "python",
   "name": "python3"
  },
  "language_info": {
   "codemirror_mode": {
    "name": "ipython",
    "version": 3
   },
   "file_extension": ".py",
   "mimetype": "text/x-python",
   "name": "python",
   "nbconvert_exporter": "python",
   "pygments_lexer": "ipython3",
   "version": "3.5.2"
  }
 },
 "nbformat": 4,
 "nbformat_minor": 1
}

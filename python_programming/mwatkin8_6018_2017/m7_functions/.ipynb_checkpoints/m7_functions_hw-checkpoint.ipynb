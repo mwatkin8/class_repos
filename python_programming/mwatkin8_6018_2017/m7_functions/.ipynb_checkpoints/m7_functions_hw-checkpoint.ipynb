{
 "cells": [
  {
   "cell_type": "markdown",
   "metadata": {
    "deletable": false,
    "editable": false,
    "nbgrader": {
     "checksum": "56b16b609b5b850355973d968dc3b90c",
     "grade": false,
     "grade_id": "cell-5e569e109bce5abc",
     "locked": true,
     "schema_version": 1,
     "solution": false
    }
   },
   "source": [
    "# Functions\n"
   ]
  },
  {
   "cell_type": "code",
   "execution_count": 1,
   "metadata": {
    "collapsed": true,
    "deletable": false,
    "editable": false,
    "nbgrader": {
     "checksum": "18c583b427b63220e254950f9e345aa7",
     "grade": false,
     "grade_id": "cell-f693e949247d8cb6",
     "locked": true,
     "schema_version": 1,
     "solution": false
    }
   },
   "outputs": [],
   "source": [
    "from nose.tools import assert_true, assert_false, assert_equals, assert_almost_equal, assert_raises\n",
    "import math\n",
    "import numpy as np"
   ]
  },
  {
   "cell_type": "markdown",
   "metadata": {
    "deletable": false,
    "editable": false,
    "nbgrader": {
     "checksum": "8264fe0d5655d284f40d2dfb79a8dd38",
     "grade": false,
     "grade_id": "cell-c54e75af9734a7ec",
     "locked": true,
     "schema_version": 1,
     "solution": false
    }
   },
   "source": [
    "**Problem 1. (5 points)** Write a function named `rect_area` that returns the area of a rectangle given the base and height passed in as positional arguments. \n",
    "\n",
    "#### Extra Credit (5 points)\n",
    "\n",
    "Have your function check whether the base and height are valid values (i.e. real numbers greater than zero)."
   ]
  },
  {
   "cell_type": "code",
   "execution_count": 40,
   "metadata": {
    "collapsed": true,
    "deletable": false,
    "nbgrader": {
     "checksum": "ba9850b355428f6b2b1cb1e614183820",
     "grade": false,
     "grade_id": "cell-915964ea3ef225f1",
     "locked": false,
     "schema_version": 1,
     "solution": true
    }
   },
   "outputs": [],
   "source": [
    "# YOUR CODE HERE\n",
    "def rect_area(b,h): #calculates the area of a rectangle given the base and height (b,h)\n",
    "    try:\n",
    "        if int(b) > 0 and int(h) > 0:\n",
    "             return b*h\n",
    "        else:\n",
    "            raise ValueError\n",
    "    except ValueError:\n",
    "        raise ValueError\n",
    "#raise NotImplementedError()"
   ]
  },
  {
   "cell_type": "code",
   "execution_count": 41,
   "metadata": {
    "deletable": false,
    "editable": false,
    "nbgrader": {
     "checksum": "28df9770d0a9fb42ea658929e8204331",
     "grade": true,
     "grade_id": "cell-57adb541ff35798d",
     "locked": true,
     "points": 5,
     "schema_version": 1,
     "solution": false
    }
   },
   "outputs": [
    {
     "name": "stderr",
     "output_type": "stream",
     "text": [
      "/opt/conda/lib/python3.5/site-packages/ipykernel_launcher.py:1: DeprecationWarning: Please use assertEqual instead.\n",
      "  \"\"\"Entry point for launching an IPython kernel.\n"
     ]
    }
   ],
   "source": [
    "assert_equals(rect_area(3,4), 12)\n",
    "assert_almost_equal(rect_area(math.pi, math.sqrt(2)), 4.442882938158366)"
   ]
  },
  {
   "cell_type": "markdown",
   "metadata": {},
   "source": [
    "### Extra Credit Tests"
   ]
  },
  {
   "cell_type": "code",
   "execution_count": 42,
   "metadata": {
    "collapsed": true,
    "deletable": false,
    "editable": false,
    "nbgrader": {
     "checksum": "485ad5ed99d66615a36d614690cb3b82",
     "grade": true,
     "grade_id": "cell-fc0f0a6cf10f16e1",
     "locked": true,
     "points": 0,
     "schema_version": 1,
     "solution": false
    }
   },
   "outputs": [],
   "source": [
    "assert_raises(TypeError, rect_area, [], 4)\n",
    "assert_raises(TypeError, rect_area, 3+4j,5)\n",
    "assert_raises(ValueError, rect_area, 0, 5)\n"
   ]
  },
  {
   "cell_type": "markdown",
   "metadata": {
    "deletable": false,
    "editable": false,
    "nbgrader": {
     "checksum": "c4236b4452210e46a7b9c1428370e787",
     "grade": false,
     "grade_id": "cell-34b4719efe7ae731",
     "locked": true,
     "schema_version": 1,
     "solution": false
    }
   },
   "source": [
    "**Problem 2.** Trapezoids are geometric shapes used to [estimate the area under a curve](https://en.wikipedia.org/wiki/Trapezoidal_rule). Write a function named `trapezoidal_area` that returns the area of a [right trapezoid](https://en.wikipedia.org/wiki/Trapezoid)\n",
    "\n",
    "<img src=\"./trapezoid.png\" alt=\"A right trapezoid\" style=\"width:350px\">. The function takes two keyword arguments:\n",
    "\n",
    "1. `width`: A number that is the width of the trapezoid (`x` in the figure).\n",
    "1. 'heights: A two-tuple of numbers that are the heights of the trapezoid (`y1` and `y2` in the figure).\n",
    "\n",
    "#### Extra Credit (10 points)\n",
    "\n",
    "Check whether width and the heights values are positive, real numbers. You might want to look at the [`all`](https://docs.python.org/3/library/functions.html#all) and [`any`](https://docs.python.org/3/library/functions.html#any) functions.\n",
    "\n",
    "If any of the arguments are not real numbers, raise a TypeError. If the arguments are real numbers but are non-positive, raise a ValueError.\n"
   ]
  },
  {
   "cell_type": "code",
   "execution_count": 59,
   "metadata": {
    "collapsed": true,
    "deletable": false,
    "nbgrader": {
     "checksum": "c274d65ac8e8035e246a678eeb22ca20",
     "grade": false,
     "grade_id": "cell-e0dbd4b76d2cf9d4",
     "locked": false,
     "schema_version": 1,
     "solution": true
    }
   },
   "outputs": [],
   "source": [
    "# YOUR CODE HERE\n",
    "def trapezoidal_area(w=0, h=(0,0)): #returns the area of a right trapezoid based on height(y1,y2) and width\n",
    "    try:\n",
    "        if any(float(val) <= 0 for val in h) or float(w) <=0:\n",
    "            print(\"raising ValueError\")\n",
    "            raise ValueError\n",
    "        else:\n",
    "            return 0.5 * w * (h[0] + h[1])\n",
    "    except TypeError:\n",
    "        raise TypeError\n",
    "#raise NotImplementedError()"
   ]
  },
  {
   "cell_type": "code",
   "execution_count": 60,
   "metadata": {
    "deletable": false,
    "editable": false,
    "nbgrader": {
     "checksum": "8b7e0465d49f13c35902b73cdb8dfaf3",
     "grade": true,
     "grade_id": "cell-9899df99402ca237",
     "locked": true,
     "points": 10,
     "schema_version": 1,
     "solution": false
    }
   },
   "outputs": [],
   "source": [
    "assert_almost_equal(trapezoidal_area(1,(3,2)),2.5)\n",
    "assert_almost_equal(trapezoidal_area(6,(17.235,16)), 99.705)"
   ]
  },
  {
   "cell_type": "markdown",
   "metadata": {},
   "source": [
    "#### Tests for Extra Credit"
   ]
  },
  {
   "cell_type": "code",
   "execution_count": 61,
   "metadata": {
    "deletable": false,
    "editable": false,
    "nbgrader": {
     "checksum": "b23888f7024362f6aabc9f8d6cb66b39",
     "grade": true,
     "grade_id": "cell-8e7dec48f6820ada",
     "locked": true,
     "points": 0,
     "schema_version": 1,
     "solution": false
    }
   },
   "outputs": [
    {
     "ename": "TypeError",
     "evalue": "trapezoidal_area() got an unexpected keyword argument 'width'",
     "output_type": "error",
     "traceback": [
      "\u001b[0;31m---------------------------------------------------------------------------\u001b[0m",
      "\u001b[0;31mTypeError\u001b[0m                                 Traceback (most recent call last)",
      "\u001b[0;32m<ipython-input-61-5801e7052841>\u001b[0m in \u001b[0;36m<module>\u001b[0;34m()\u001b[0m\n\u001b[1;32m      1\u001b[0m \u001b[0massert_raises\u001b[0m\u001b[0;34m(\u001b[0m\u001b[0mTypeError\u001b[0m\u001b[0;34m,\u001b[0m \u001b[0mtrapezoidal_area\u001b[0m\u001b[0;34m,\u001b[0m \u001b[0mwidth\u001b[0m\u001b[0;34m=\u001b[0m\u001b[0;34m\"one\"\u001b[0m\u001b[0;34m)\u001b[0m\u001b[0;34m\u001b[0m\u001b[0m\n\u001b[1;32m      2\u001b[0m \u001b[0massert_raises\u001b[0m\u001b[0;34m(\u001b[0m\u001b[0mTypeError\u001b[0m\u001b[0;34m,\u001b[0m \u001b[0mtrapezoidal_area\u001b[0m\u001b[0;34m,\u001b[0m \u001b[0mwidth\u001b[0m\u001b[0;34m=\u001b[0m\u001b[0;36m1.5\u001b[0m\u001b[0;34m,\u001b[0m \u001b[0mheights\u001b[0m\u001b[0;34m=\u001b[0m\u001b[0;34m(\u001b[0m\u001b[0;36m1\u001b[0m\u001b[0;34m,\u001b[0m\u001b[0;34m[\u001b[0m\u001b[0;34m]\u001b[0m\u001b[0;34m)\u001b[0m\u001b[0;34m)\u001b[0m\u001b[0;34m\u001b[0m\u001b[0m\n\u001b[0;32m----> 3\u001b[0;31m \u001b[0massert_raises\u001b[0m\u001b[0;34m(\u001b[0m\u001b[0mValueError\u001b[0m\u001b[0;34m,\u001b[0m \u001b[0mtrapezoidal_area\u001b[0m\u001b[0;34m,\u001b[0m \u001b[0mwidth\u001b[0m\u001b[0;34m=\u001b[0m\u001b[0;36m1.5\u001b[0m\u001b[0;34m,\u001b[0m \u001b[0mheights\u001b[0m\u001b[0;34m=\u001b[0m\u001b[0;34m(\u001b[0m\u001b[0;36m1\u001b[0m\u001b[0;34m,\u001b[0m\u001b[0;34m-\u001b[0m\u001b[0;36m3\u001b[0m\u001b[0;34m)\u001b[0m\u001b[0;34m)\u001b[0m\u001b[0;34m\u001b[0m\u001b[0m\n\u001b[0m\u001b[1;32m      4\u001b[0m \u001b[0massert_raises\u001b[0m\u001b[0;34m(\u001b[0m\u001b[0mTypeError\u001b[0m\u001b[0;34m,\u001b[0m \u001b[0mtrapezoidal_area\u001b[0m\u001b[0;34m,\u001b[0m \u001b[0mwidth\u001b[0m\u001b[0;34m=\u001b[0m\u001b[0;36m1.5\u001b[0m\u001b[0;34m+\u001b[0m\u001b[0;36m3j\u001b[0m\u001b[0;34m,\u001b[0m \u001b[0mheights\u001b[0m\u001b[0;34m=\u001b[0m\u001b[0;34m(\u001b[0m\u001b[0;36m1\u001b[0m\u001b[0;34m,\u001b[0m\u001b[0;34m-\u001b[0m\u001b[0;36m3\u001b[0m\u001b[0;34m)\u001b[0m\u001b[0;34m)\u001b[0m\u001b[0;34m\u001b[0m\u001b[0m\n",
      "\u001b[0;32m/opt/conda/lib/python3.5/unittest/case.py\u001b[0m in \u001b[0;36massertRaises\u001b[0;34m(self, expected_exception, *args, **kwargs)\u001b[0m\n\u001b[1;32m    725\u001b[0m         \"\"\"\n\u001b[1;32m    726\u001b[0m         \u001b[0mcontext\u001b[0m \u001b[0;34m=\u001b[0m \u001b[0m_AssertRaisesContext\u001b[0m\u001b[0;34m(\u001b[0m\u001b[0mexpected_exception\u001b[0m\u001b[0;34m,\u001b[0m \u001b[0mself\u001b[0m\u001b[0;34m)\u001b[0m\u001b[0;34m\u001b[0m\u001b[0m\n\u001b[0;32m--> 727\u001b[0;31m         \u001b[0;32mreturn\u001b[0m \u001b[0mcontext\u001b[0m\u001b[0;34m.\u001b[0m\u001b[0mhandle\u001b[0m\u001b[0;34m(\u001b[0m\u001b[0;34m'assertRaises'\u001b[0m\u001b[0;34m,\u001b[0m \u001b[0margs\u001b[0m\u001b[0;34m,\u001b[0m \u001b[0mkwargs\u001b[0m\u001b[0;34m)\u001b[0m\u001b[0;34m\u001b[0m\u001b[0m\n\u001b[0m\u001b[1;32m    728\u001b[0m \u001b[0;34m\u001b[0m\u001b[0m\n\u001b[1;32m    729\u001b[0m     \u001b[0;32mdef\u001b[0m \u001b[0massertWarns\u001b[0m\u001b[0;34m(\u001b[0m\u001b[0mself\u001b[0m\u001b[0;34m,\u001b[0m \u001b[0mexpected_warning\u001b[0m\u001b[0;34m,\u001b[0m \u001b[0;34m*\u001b[0m\u001b[0margs\u001b[0m\u001b[0;34m,\u001b[0m \u001b[0;34m**\u001b[0m\u001b[0mkwargs\u001b[0m\u001b[0;34m)\u001b[0m\u001b[0;34m:\u001b[0m\u001b[0;34m\u001b[0m\u001b[0m\n",
      "\u001b[0;32m/opt/conda/lib/python3.5/unittest/case.py\u001b[0m in \u001b[0;36mhandle\u001b[0;34m(self, name, args, kwargs)\u001b[0m\n\u001b[1;32m    174\u001b[0m             \u001b[0mself\u001b[0m\u001b[0;34m.\u001b[0m\u001b[0mobj_name\u001b[0m \u001b[0;34m=\u001b[0m \u001b[0mstr\u001b[0m\u001b[0;34m(\u001b[0m\u001b[0mcallable_obj\u001b[0m\u001b[0;34m)\u001b[0m\u001b[0;34m\u001b[0m\u001b[0m\n\u001b[1;32m    175\u001b[0m         \u001b[0;32mwith\u001b[0m \u001b[0mself\u001b[0m\u001b[0;34m:\u001b[0m\u001b[0;34m\u001b[0m\u001b[0m\n\u001b[0;32m--> 176\u001b[0;31m             \u001b[0mcallable_obj\u001b[0m\u001b[0;34m(\u001b[0m\u001b[0;34m*\u001b[0m\u001b[0margs\u001b[0m\u001b[0;34m,\u001b[0m \u001b[0;34m**\u001b[0m\u001b[0mkwargs\u001b[0m\u001b[0;34m)\u001b[0m\u001b[0;34m\u001b[0m\u001b[0m\n\u001b[0m\u001b[1;32m    177\u001b[0m \u001b[0;34m\u001b[0m\u001b[0m\n\u001b[1;32m    178\u001b[0m \u001b[0;34m\u001b[0m\u001b[0m\n",
      "\u001b[0;31mTypeError\u001b[0m: trapezoidal_area() got an unexpected keyword argument 'width'"
     ]
    }
   ],
   "source": [
    "assert_raises(TypeError, trapezoidal_area, width=\"one\")\n",
    "assert_raises(TypeError, trapezoidal_area, width=1.5, heights=(1,[]))\n",
    "assert_raises(ValueError, trapezoidal_area, width=1.5, heights=(1,-3))\n",
    "assert_raises(TypeError, trapezoidal_area, width=1.5+3j, heights=(1,-3))"
   ]
  },
  {
   "cell_type": "markdown",
   "metadata": {
    "deletable": false,
    "editable": false,
    "nbgrader": {
     "checksum": "31361f2bed4d31620b471fcdd1e0aa46",
     "grade": false,
     "grade_id": "cell-1e843ab377f7c8d7",
     "locked": true,
     "schema_version": 1,
     "solution": false
    }
   },
   "source": [
    "\n",
    "**Problem 3. (40 points)**  Write a function named `gcd` that implements Euclid’s Algorithm for finding the greatest common divisor of two positive integers. [Here is a description of the algorithm  (hint: read the material at this link):](https://www.math.rutgers.edu/~greenfie/gs2004/euclid.html).\n",
    "\n",
    "Your function should take as positional arguments two integers (`a` and `b`). \n",
    "\n",
    "You should have a do\n",
    "\n",
    "### Function specifications\n",
    "* Function name: `gcd`\n",
    "* Input: Two positive integers, ``a`` and ``b`` as positional arguments.\n",
    "* Output: If `a` and `b` are both positive integers, then return the greatest common divisor, `g`, of ``a`` and ``b``.\n",
    "    * If either `a` or `b` are not integers, return a -1\n",
    "    * If either `a` or `b` are integers but are not greater than 0, return a -2\n",
    "* A doc string that describes the function purpose, input types (a, b) and return type and values (e.g. \"-1 if ...\"). So your doc string should look **in part** like\n",
    "\n",
    "```Python\n",
    "\"\"\"\n",
    "SOME TEXTUAL DESCRIPTION OF WHAT YOUR FUNCTION IS DOING\n",
    "\n",
    "Arguments:\n",
    "    ARG1: An integer greater than zero\n",
    "    \n",
    "Returns:\n",
    "    -1: \n",
    "\n",
    "\"\"\"\n",
    "```\n",
    "**Note:** replace ARG1 with the actual variable name\n",
    "\n",
    "#### Formal description of the Euclidean algorithm\n",
    "\n",
    "1. If ``a<b``, exchange ``a`` and ``b``.\n",
    "1. Divide ``a`` by ``b`` and get the remainder, ``r``. \n",
    "    * If ``r=0``, report ``b`` as the GCD of ``a`` and ``b``. Exit.\n",
    "    * Else replace ``a`` by ``b`` and replace ``b`` by ``r``. \n",
    "1. Return to step 2.\n",
    "\n",
    "The algorithm is described starting on page 42 of *What is Mathematics?* which can be read on-line at Google Books or [here](https://yakovenko.files.wordpress.com/2009/11/cr.pdf). \n",
    "\n",
    "The function should take as positional arguments two positive integers. The function should return the greatest common divisor of those two numbers and the number of iterations required to find the answer.\n",
    "\n",
    "**Hints:**\n",
    "\n",
    "1. Use a ``while`` loop or use recursion\n",
    "1. Think about what are the conditions you are testing on.\n",
    "1. You compute the remainder with the modulo operator [``%``](https://docs.python.org/3/library/stdtypes.html#numeric-types-int-float-complex)\n",
    "\n",
    "#### Rubric\n",
    "1. Correctly named function: 5 points\n",
    "1. A doc string that describes the function's purpose and describes the argument types and the return types: 5 points\n",
    "1. Correctly returns -1, -2 on inappropriate input: 5 points\n",
    "1. Correctly computes gcd of two valid integers: 15 points"
   ]
  },
  {
   "cell_type": "code",
   "execution_count": 92,
   "metadata": {
    "collapsed": true,
    "deletable": false,
    "nbgrader": {
     "checksum": "b801f5a7b622f6c5d5028c48cd0f77bd",
     "grade": false,
     "grade_id": "cell-047c227946589264",
     "locked": false,
     "schema_version": 1,
     "solution": true
    }
   },
   "outputs": [],
   "source": [
    "# YOUR CODE HERE\n",
    "\n",
    "def gcd(a,b):\n",
    "    \"\"\"\n",
    "    The function takes as positional arguments two positive integers and returns the greatest common divisor of those two numbers and the number of iterations required to find the answer.\n",
    "    \n",
    "    Arguments:\n",
    "        a: An integer greater than zero.\n",
    "        b: An integer greater than zero.\n",
    "        \n",
    "    Returns:\n",
    "        -1: If a or b are not integers.\n",
    "        -2: If a or b are integers but are not greater than 0.\n",
    "        If a and b are both positive integers then return value will be the greatest common divisor.\n",
    "    \"\"\"\n",
    "    try:\n",
    "        if isinstance(a,int) and isinstance(b,int):\n",
    "            if a >= 0 and b >= 0:\n",
    "                a_val = a\n",
    "                if a < b:\n",
    "                    a = b\n",
    "                    b = a_val\n",
    "                while True:\n",
    "                    r = a%b\n",
    "                    if r == 0:\n",
    "                        return b\n",
    "                    a=b\n",
    "                    b=r\n",
    "            else:\n",
    "                return -2\n",
    "        else:\n",
    "            return -1\n",
    "                \n",
    "    except TypeError:\n",
    "        return -1\n",
    "    \n",
    "   \n",
    "    \n",
    "#raise NotImplementedError()\n"
   ]
  },
  {
   "cell_type": "code",
   "execution_count": 93,
   "metadata": {
    "deletable": false,
    "editable": false,
    "nbgrader": {
     "checksum": "cff66a21808a4319ae7c04f65d9d08ea",
     "grade": true,
     "grade_id": "cell-d706e6ba79c3d063",
     "locked": true,
     "points": 25,
     "schema_version": 1,
     "solution": false
    }
   },
   "outputs": [
    {
     "name": "stderr",
     "output_type": "stream",
     "text": [
      "/opt/conda/lib/python3.5/site-packages/ipykernel_launcher.py:1: DeprecationWarning: Please use assertEqual instead.\n",
      "  \"\"\"Entry point for launching an IPython kernel.\n",
      "/opt/conda/lib/python3.5/site-packages/ipykernel_launcher.py:2: DeprecationWarning: Please use assertEqual instead.\n",
      "  \n",
      "/opt/conda/lib/python3.5/site-packages/ipykernel_launcher.py:3: DeprecationWarning: Please use assertEqual instead.\n",
      "  This is separate from the ipykernel package so we can avoid doing imports until\n"
     ]
    }
   ],
   "source": [
    "assert_equals(gcd(3257,39),1)\n",
    "assert_equals(gcd(8764,32), 4)\n",
    "assert_equals(gcd(60,45), 15)"
   ]
  },
  {
   "cell_type": "code",
   "execution_count": 94,
   "metadata": {
    "deletable": false,
    "editable": false,
    "nbgrader": {
     "checksum": "0993827e52d2b46908f81a6e92ff17ae",
     "grade": true,
     "grade_id": "cell-8cf434a8cbd0f6e5",
     "locked": true,
     "points": 5,
     "schema_version": 1,
     "solution": false
    }
   },
   "outputs": [
    {
     "name": "stderr",
     "output_type": "stream",
     "text": [
      "/opt/conda/lib/python3.5/site-packages/ipykernel_launcher.py:1: DeprecationWarning: Please use assertEqual instead.\n",
      "  \"\"\"Entry point for launching an IPython kernel.\n",
      "/opt/conda/lib/python3.5/site-packages/ipykernel_launcher.py:2: DeprecationWarning: Please use assertEqual instead.\n",
      "  \n"
     ]
    }
   ],
   "source": [
    "assert_equals(gcd(5.5,39),-1)\n",
    "assert_equals(gcd(-39,39),-2)\n"
   ]
  },
  {
   "cell_type": "code",
   "execution_count": 95,
   "metadata": {
    "collapsed": true,
    "deletable": false,
    "editable": false,
    "nbgrader": {
     "checksum": "8afcd2caf80f5d35a4418877598a8e44",
     "grade": true,
     "grade_id": "cell-b6874977c6a52a3e",
     "locked": true,
     "points": 5,
     "schema_version": 1,
     "solution": false
    }
   },
   "outputs": [],
   "source": [
    "from inspect import isfunction\n",
    "assert_true(isfunction(gcd))\n"
   ]
  },
  {
   "cell_type": "code",
   "execution_count": 96,
   "metadata": {
    "collapsed": true,
    "deletable": false,
    "editable": false,
    "nbgrader": {
     "checksum": "1cf8872562ee9bb64d8c66e21916d761",
     "grade": true,
     "grade_id": "cell-4bc913aea283fa7e",
     "locked": true,
     "points": 2,
     "schema_version": 1,
     "solution": false
    }
   },
   "outputs": [],
   "source": [
    "assert_true(\"a:\" in gcd.__doc__)"
   ]
  },
  {
   "cell_type": "code",
   "execution_count": null,
   "metadata": {
    "collapsed": true,
    "deletable": false,
    "editable": false,
    "nbgrader": {
     "checksum": "795fdb9b15b9b8f88aab6abce9380a61",
     "grade": true,
     "grade_id": "cell-f0ffe163f8ac022f",
     "locked": true,
     "points": 3,
     "schema_version": 1,
     "solution": false
    }
   },
   "outputs": [],
   "source": []
  },
  {
   "cell_type": "code",
   "execution_count": 97,
   "metadata": {
    "collapsed": true,
    "deletable": false,
    "editable": false,
    "nbgrader": {
     "checksum": "dc306e3659b6e4f69628a9db04672fea",
     "grade": false,
     "grade_id": "cell-728a1ff2331c0d95",
     "locked": true,
     "schema_version": 1,
     "solution": false
    }
   },
   "outputs": [],
   "source": [
    "# the \"\\\" character can be used as a line continuation in Python\n",
    "sequence1 = \\\n",
    "\"\"\"AGTTGTTAGTCTACGTGGACCGACAAGAACAGTTTCGAATCGGAAGCTTGCTTAACGTAGTTCTAACAGT\n",
    "TTTTTATTAGAGAGCAGATCTCTGATGAACAACCAACGGAAGAAGACGGGTCGACCGTCTTTCAATATGC\n",
    "TGAAACGCGCGAGAAACCGCGTGTCAACTGGTTCACAGTTGGCGAAGAGATTCTCAAAAGGATTGCTCTC\n",
    "AGGCCAAGGACCCATGAAATTGGTGATGGCTTTTATAGCATTCCTAAGATTTCTAGCCATACCCCCAACA\n",
    "GCAGGAATTTTGGCTAGATGGAGCTCATTCAAGAAGAATGGAGCGATCAAAGTGTTACGGGGTTTCAAAA\n",
    "AAGAGATCTCAAGCATGTTGAACATAATGAACAGGAGAAAAAGATCCGTGACCATGCTCCTTATGCTGCT\n",
    "GCCCACAGCCCTGGCGTTTCATTTGACCACACGAGGGGGAGAGCCACACATGATAGTTAGCAAGCAGGAA\n",
    "AGAGGAAAGTCACTCTTGTTTAAGACCTCTGCAGGTGTCAACATGTGCACCCTCATTGCAATGGATTTGG\n",
    "GAGAGTTATGTGAGGACACAATGACCTACAAATGCCCCCGGATCACTGAAGCGGAACCAGATGATGTTGA\n",
    "TTGCTGGTGCAATGCCACAGACACATGGGTGACCTATGGGACGTGTTCTCAAACTGGCGAACACCGACGG\n",
    "GATAAACGTTCTGTCGCACTGGCCCCACACGTGGGGCTTGGTCTAGAAACAAGAACCGAAACGTGGATGT\n",
    "CCTCTGAAGGCGCCTGGAGACAGATACAAAAAGTGGAGACTTGGGCCTTGAGACACCCAGGATTCACGGT\n",
    "GATAGCCCTTTTTCTAGCACATACCATAGGAACATCCATCACCCAGAAAGGGATTATCTTCATTTTGCTG\n",
    "ATGCTGGTGACACCATCAATGGCCATGCGATGCGTGGGAATAGGCAACAGAGACTTCGTTGAAGGACTGT\n",
    "CAGGAGCAACGTGGGTGGATGTGGTACTGGAGCATGGAAGCTGCGTCACCACCATGGCAAAAAATAAACC\n",
    "AACATTGGACATTGAACTCTTGAAGACGGAGGTCACGAACCCTGCCGTCTTGCGCAAACTGTGCATTGAA\n",
    "GCTAAAATATCAAACACCACCACCGATTCAAGATGCCCAACACAAGGAGAAGCTACACTGGTGGAAGAAC\n",
    "AAGACGCGAACTTTGTGTGTCGACGAACATTCGTGGACAGAGGCTGGGGTAATGGCTGTGGACTATTCGG\n",
    "GAAAGGAAGCTTACTGACGTGTGCTAAGTTTAAGTGTGTGACAAAACTTGAAGGAAAGATAGTTCAATAT\n",
    "GAAAACTTAAAATATTCGGTGATAGTCACTGTCCACACTGGGGACCAGCACCAGGTGGGAAATGAGACCA\n",
    "CAGAACATGGAACAATTGCAACCATAACACCTCAAGCTCCCACGTCGGAAATACAGCTGACTGACTACGG\n",
    "AGCCCTTACATTGGACTGCTCACCTAGAACAGGGCTGGACTTTAATGAGATGGTGCTGTTGACAATGAAA\n",
    "GAAAAATCATGGCTTGTCCACAAACAATGGTTTCTAGACTTACCACTGCCTTGGACCTCGGGGGCTTCAA\n",
    "CATCTCAAGAGACTTGGAACAGACAAGATTTGCTGGTCACATTTAAGACAGCTCATGCAAAGAAGCAGGA\n",
    "AGTAGTCGTACTGGGGTCACAAGAAGGAGCAATGCACACTGCGTTGACTGGGGCGACAGAAATCCAGATG\n",
    "TCAGGAACGACGACAATCTTCGCAGGACACCTGAAATGTAGACTAAAAATGGATAAACTGACTTTAAAAG\n",
    "GGGTGTCATATGTGATGTGCACAGGCTCATTTAAGTTAGAGAAGGAAGTGGCTGAGACCCAGCATGGAAC\n",
    "CGTCCTAGTGCAGGTTAAATACGAAGGAACAGATGCACCATGCAAGATTCCCTTTTCAACCCAAGATGAG\n",
    "AAAGGAGTGACCCAGAATGGGAGATTGATAACAGCCAATCCCATAGTTACTGACAAAGAAAAACCAGTCA\n",
    "ACATTGAGACAGAACCACCTTTTGGTGAGAGCTACATCGTGATAGGGGCGGGTAAAAAAGCTTTGAAACT\n",
    "AAGCTGGTTCAAGAAAGGAAGCAGCATAGGGAAAATGTTCGAAGCTACCGCCCGAGGAGCACGAAGGATG\n",
    "GCTATCCTGGGAGACACAGCATGGGACTTCGGTTCCATGGGAGGGGTGTTCACATCTGTGGGAAAATTGG\n",
    "TACACCAGGTTTTTGGAACCGCATATGGGGTTTTGTTCAGCGGTGTTTCTTGGACCATGAAAATAGGAAT\n",
    "AGGGATTCTGCTGACATGGCTAGGATTAAATTCAAGGAGCACGTCACTCTCGATGACGTGCATTGCAGTT\n",
    "GGCATGGTCACACTGTACCTAGGAGTCATGGTTCAAGCGGACTCGGGGTGTGTGATCAACTGGAAGGGCA\n",
    "GAGAACTCAAATGTGGAAGTGGCATCTTCGTCACTAATGAAGTCCACACTTGGACAGAGCAATATAAATT\n",
    "CCAGGCTGACTCCCCAAAAAGACTGTCAGCAGCCATTGGGAAGGCATGGGAGGAAGGCGTGTGTGGAATT\n",
    "CGATCAGCCACACGTCTTGAGAACATCATGTGGAAGCAAATATCAAATGAATTGAACCACATTCTACTTG\n",
    "AAAATGACATGAAATTCACAGTGGTTGTAGGAGACGCTAATGGAATCTTGACCCAAGGAAAAAAGATGAT\n",
    "TAGGCCACAACCCATGGAACACAAATACTCATGGAAAAGCTGGGGAAAAGCCAAAATCATAGGAGCAGAC\n",
    "ATACAGAATACCACCTTCATCATCGATGGCCCAGACACTCCAGAATGCCCCGATGACCAGAGAGCATGGA\n",
    "ACATTTGGGAAGTTGAGGACTATGGGTTTGGAATTTTCACGACAAACATATGGCTGAAATTGCGTGACTC\n",
    "CTACACCCAAATGTGTGACCACCGGCTAATGTCAGCTGCCATCAAGGACAGTAAGGCAGTCCATGCTGAC\n",
    "ATGGGGTACTGGATAGAAAGTGAAAAGAACGAGACCTGGAAGCTAGCGAGAGCCTCCTTCATAGAAGTGA\n",
    "AGACATGCATCTGGCCAAGATCCCACACTCTATGGAGCAATGGAGTCTTGGAAAGTGAAATGATAATCCC\n",
    "AAAGATATATGGAGGACCAATATCTCAGCACAACTACAGACCAGGGTATTTCACACAAACAGCAGGGCCA\n",
    "TGGCACCTAGGCAAGTTGGAACTAGACTTTGATTTGTGTGAAGGCACCACAGTTGTTGTGGATGAACATT\n",
    "GTGGAAATCGAGGTCCATCTCTTAGAACTACAACAGTCACAGGAAAGATAATCCATGAATGGTGTTGCAG\n",
    "ATCCTGCACGCTACCCCCCTTACGCTTCAAAGGAGAAGACGGATGTTGGTATGGCATGGAAATCAGACCA\n",
    "GTTAAGGAGAAGGAAGAGAATCTAGTCAGGTCAATGGTCTCTGCAGGGTCAGGAGAAGTGGACAGTTTTT\n",
    "CATTGGGACTACTATGCGTATCAATAATGATTGAAGAAGTGATGAGATCCAGATGGAGTAGAAAGATGCT\n",
    "GATGACTGGAACACTGGCTGTTTTCTTCCTTCTTATAATGGGACAACTGACATGGAATGATCTGATCAGG\n",
    "TTATGCATCATGGTTGGAGCCAATGTCTCAGACAGGATGGGGATGGGAACAACGTACCTAGCCTTGATGG\n",
    "CCACTTTCAAAATGAGACCGATGTTCGCTGTTGGGCTATTATTTCGCAGACTAACATCCAGAGAGGTTCT\n",
    "CCTTCTCACAATTGGACTAAGCCTGGTGGCATCCGTGGAGCTACCAAATTCTTTAGAGGAGCTAGGGGAC\n",
    "GGACTTGCAATGGGCATCATGATGTTAAAATTATTGACTGATTTTCAGTCACACCAGTTATGGACTACCT\n",
    "TACTGTCTCTGACATTTATCAAAACAACTCTTTCATTGGATTATGCATGGAAGACAATAGCTATGGTACT\n",
    "GTCAATCGTATCTCTCTTTCCTTTATGTCTATCTACGACCTCTCAAAAAACAACATGGCTTCCGGTGCTG\n",
    "TTAGGATCTTTTGGATGCAAACCACTAACCATGTTTCTTATAACAGAAAACAAAATCTGGGGAAGGAAAA\n",
    "GTTGGCCCCTCAATGAAGGAATTATGGCTGTTGGAATAGTCAGCATTTTACTAAGTTCACTCCTCAAAAA\n",
    "TGATGTGCCACTAGCCGGCCCACTAATAGCTGGAGGCATGCTAATAGCATGTTACGTCATATCCGGAAGC\n",
    "TCAGCCGATTTATCATTGGAGAAAGCGGCTGAGGTCTCCTGGGAAGAAGAAGCAGAACACTCTGGTGCCT\n",
    "CACACAACATACTAGTGGAGGTCCAAGATGATGGAACTATGAAAATAAAAGATGAAGAGAGAGATGACAC\n",
    "GCTCACTATACTCCTTAAAGCAACTCTGTTGGCAGTCTCAGGGGTGTACCCAATGTCAATACCAGCAACC\n",
    "CTTTTTGTGTGGTATTTTTGGCAGAAAAAGAAACAGAGATCAGGAGTCTTGTGGGACACACCCAGCCCTC\n",
    "CAGAAGTGGAAAGAGCAGTTCTTGATGATGGTATCTATAGAATCTTGCAAAGAGGACTGTTGGGTAGGTC\n",
    "CCAAGTAGGAGTGGGAGTTTTTCAAGACGGCGTGTTCCACACAATGTGGCATGTCACCAGGGGGGCTGTC\n",
    "CTCATGTACCAAGGGAAGAGGCTGGAACCAAGTTGGGCCAGTGTCAAAAAAGACTTGATCTCATATGGAG\n",
    "GAGGTTGGAGGTTTCAAGGATCATGGAACACGGGAGAAGAAGTACAGGTGATAGCTGTTGAGCCAGGAAA\n",
    "AAACCCAAAAAATGTACAGACAACGCCGGGCACCTTCAAGACCCCTGAAGGCGAAGTTGGAGCCATAGCC\n",
    "CTAGATTTTAAACCCGGCACATCTGGATCTCCCATCGTGAACAGAGAGGGAAAAATAGTAGGTCTTTATG\n",
    "GAAATGGAGTGGTGACAACAAGTGGAACCTACGTCAGTGCCATGGCCCAAGCTAAAGCATCACAAGAAGG\n",
    "GCCTCTACCAGAGATTGAGGACGAGGTGTTTAAGAAAAGAAACCTAACAATAATGGACCTACATCCAGGA\n",
    "TCAGGAAAAACAAGAAGATATCTTCCAGCCATAGTCCGTGAGGCCATAAAAAGGAAACTGCGCACGCTAA\n",
    "TCTTGGCTCCCACAAGAGTTGTCGCCTCTGAAATGGCAGAGGCGCTTAAAGGAATGCCAATAAGATATCA\n",
    "GACAACAGCAGTAAAGAGTGAACACACAGGAAGGGAGATAGTTGATCTCATGTGCCACGCCACTTTCACC\n",
    "ATGCGTCTCCTATCTCCAGTGAGAGTTCCCAATTACAACATGATTATCATGGATGAAGCACACTTTACCG\n",
    "ATCCAGCCAGCATAGCGGCCAGAGGGTACATCTCAACCCGAGTGGGTATGGGTGAAGCAGCTGCGATCTT\n",
    "TATGACAGCCACTCCCCCAGGATCGGTAGAGGCCTTTCCACAGAGCAATGCAGTTATCCAAGATGAGGAA\n",
    "AGAGACATTCCTGAGAGATCATGGAACTCAGGCTACGACTGGATCACTGATTTCCCAGGTAAAACAGTCT\n",
    "GGTTTGTTCCAAGCATCAAATCAGGAAATGACATTGCCAACTGTTTAAGAAAGAACGGGAAACGGGTGAT\n",
    "CCAATTGAGCAGAAAAACCTTTGACACTGAATACCAGAAAACAAAAAACAATGACTGGGACTATGTTGTC\n",
    "ACAACAGACATTTCCGAAATGGGAGCAAATTTCCGGGCCGACAGGGTAATAGACCCAAGGCGGTGCTTGA\n",
    "AGCCGGTAATACTAAAAGATGGCCCAGAGCGCGTCATTCTAGCCGGACCAATGCCAGTGACCGTGGCCAG\n",
    "TGCTGCCCAGAGGAGAGGAAGAATTGGAAGGAACCAAAACAAGGAAGGTGACCAGTATATTTACATGGGA\n",
    "CAGCCTTTAAATAATGATGAGGACCACGCTCATTGGACAGAAGCAAAAATGCTCCTTGACAATATAAACA\n",
    "CGCCAGAAGGGATTATCCCAGCCCTCTTTGAGCCGGAGAGAGAAAAGAGTGCAGCAATAGACGGGGAGTA\n",
    "CAGACTGCGGGGAGAAGCAAGGAAAACGTTCGTGGAGCTGATGAGAAGAGGGGATCTACCAGTTTGGCTA\n",
    "TCTTACAAAGTTGACTCAGAAGGCTTCCAGTACTCCGACAGAAGGTGGTGCTTTGACGGGGAAAGGAACA\n",
    "ACCAGGTGTTGGAGGAGAACATGGACGTGGAGATCTGGACAAAAGAAGGAGAAAGAAAGAAATTACGACC\n",
    "TCGCTGGTTAGATGCCAGAACCTACTCTGATCCACTGGCCCTGCGCGAGTTTAAAGAGTTCGCAGCAGGA\n",
    "AGAAGAAGTGTCTCAGGTGACCTAATATTAGAAATAGGGAAACTTCCACAGCATTTGACGCTAAGGGCCC\n",
    "AGAATGCTTTGGACAACTTGGTCATGTTGCACAATTCCGAACAAGGAGGAAAAGCCTATAGACATGCTAT\n",
    "GGAAGAACTACCAGACACCATAGAAACATTGATGCTCCTAGCTTTGATAGCTGTGCTGACTGGTGGAGTG\n",
    "ACGTTGTTTTTCCTATCAGGAAAAGGTCTAGGGAAAACATCCATTGGCCTACTTTGTGTGATGGCCTCAA\n",
    "GTGTACTGTTATGGATGGCCAGTGTGGAGCCCCATTGGATAGCGGCCTCCATCATACTAGAGTTCTTTCT\n",
    "GATGGTGCTGCTCATTCCAGAGCCAGACAGACAGCGTACTCCACAGGACAATCAGCTAGCATATGTGGTG\n",
    "ATAGGTTTGTTATTCATGATATTGACAGTGGCAGCCAATGAGATGGGATTACTGGAAACCACAAAGAAAG\n",
    "ACCTGGGGATTGGCCATGTAGTCGCCGAAAACCACCACCATGCTACAATGCTAGACATAGACTTACATCC\n",
    "AGCTTCAGCCTGGACCCTCTATGCAGTAGCCACAACAATTATCACTCCCATGATGAGACACACAATTGAA\n",
    "AACACAACGGCAAATATTTCCCTGACAGCTATTGCAAATCAGGCGGCTATATTGATGGGACTTGACAAGG\n",
    "GATGGCCAATATCGAAGATGGACATAGGAGTGCCACTTCTCGCCTTAGGGTGCTATTCCCAGGTGAACCC\n",
    "ATTGACACTGACAGCGGCGGTGTTGATGTTAGTGGCTCATTATGCCATAATCGGACCTGGACTGCAAGCA\n",
    "AAAGCTACTAGAGAAGCCCAAAAAAGGACAGCGGCCGGAATAATGAAAAATCCAACTGTAGACGGGATTG\n",
    "TTGCAATAGATTTGGATCCTGTGGTTTACGATGCAAAATTTGAAAAACAGCTAGGCCAAATAATGTTACT\n",
    "GATACTTTGCACATCACAGATTCTCTTGATGCGGACTACATGGGCCTTATGTGAATCCATCACACTGGCT\n",
    "ACTGGACCCTTGACCACTCTCTGGGAGGGATCTCCAGGAAAATTCTGGAATACCACGATAGCAGTGTCCA\n",
    "TGGCAAACATCTTCAGGGGAAGTTATCTAGCAGGAGCAGGTCTGGCCTTCTCATTAATGAAATCTTTAGG\n",
    "AGGAGGTAGGAGAGGTACGGGAGCTCAAGGGGAAACATTGGGAGAAAAATGGAAAAGACAACTAAACCAA\n",
    "CTGAGCAAGTCAGAATTCAACACTTACAAAAGGAGTGGAATTATGGAGGTGGACAGATCTGAAGCCAAGG\n",
    "AGGGACTGAAAAGAGGAGAAACAACCAAACATGCAGTGTCGAGAGGAACAGCCAAACTTAGGTGGTTTGT\n",
    "GGAGAGGAACCTTGTGAAACCAGAAGGGAAAGTGATAGACCTCGGTTGTGGAAGAGGTGGCTGGTCATAT\n",
    "TATTGCGCTGGGCTGAAGAAGGTTACAGAAGTGAAGGGATACACAAAAGGAGGACCCGGTCATGAGGAAC\n",
    "CTATCCCAATGGCGACTTATGGATGGAACCTAGTGAAGCTATACTCCGGAAAAGATGTATTCTTTACACC\n",
    "ACCTGAGAAATGTGACACCCTTTTGTGTGATATTGGTGAGTCCTCTCCGAATCCAACTATAGAAGAAGGA\n",
    "AGAACGTTACGTGTTCTAAAGATGGTGGAACCATGGCTCAGAGGAAATCAGTTTTGCATAAAAATCCTAA\n",
    "ATCCTTACATGCCAAGTGTGGTAGAAACTCTGGAGCAAATGCAAAGAAAACATGGAGGGATGCTAGTGCG\n",
    "AAACCCACTCTCAAGAAATTCTACCCATGAAATGTACTGGGTTTCATGTGGAACAGGAAACATTGTGTCG\n",
    "GCAGTGAACATGACATCCAGAATGTTGCTGAATCGGTTCACAATGGCTCACAGGAAGCCAACATATGAAA\n",
    "GAGACGTGGACTTGGGCGCTGGAACAAGACATGTGGCAGTGGAACCAGAGATAGCCAACCTAGACATCAT\n",
    "TGGCCAGAGGATAGAGAACATAAAAAATGAACATAAGTCAACATGGCATCATGATGAGGACAATCCATAC\n",
    "AAAACATGGGCCTATCATGGATCATATGAGGTCAAGCCATCAGGATCAGCCTCATCCATGGTGAATGGCG\n",
    "TGGTGAGACTGCTCACCAAACCATGGGATGTTATCCCCATGGTCACACAAATAGCTATGACTGATACCAC\n",
    "ACCCTTCGGACAACAGAGGGTGTTTAAAGAGAAAGTTGACACACGCACACCAAGACCAAAACGAGGCACA\n",
    "GCACAAATTATGGAGGTGACAGCCAAGTGGTTGTGGGGTTTCCTCTCTAGAAATAAAAAACCCAGAATCT\n",
    "GCACAAGAGAGGAGTTCACAAGAAAAGTTAGGTCAAACGCAGCAATTGGAGCAGTGTTCGTTGATGAAAA\n",
    "CCAATGGAACTCAGCAAAAGAAGCAGTGGAAGACGAAAGGTTTTGGGACCTCGTGCACAGAGAGAGGGAG\n",
    "CTTCATAAACAGGGAAAATGTGCCACGTGTGTCTACAATATGATGGGGAAAAGAGAGAAAAAATTAGGAG\n",
    "AGTTTGGAAAGGCAAAAGGAAGTCGTGCAATATGGTACATGTGGTTGGGAGCACGCTTTCTAGAGTTTGA\n",
    "AGCCCTTGGCTTCATGAATGAAGACCACTGGTTCAGTAGAGAGAATTCACTCAGTGGAGTGGAAGGAGAA\n",
    "GGACTACACAAACTTGGATACATACTCAGAGACATATCAAAGATTCCAGGGGGAAATATGTATGCAGATG\n",
    "ACACAGCTGGATGGGACACAAGAATAACAGAGGATGATCTTCAGAATGAGGCTAAAATCACTGACATCAT\n",
    "GGAGCCCGAACATGCTCTACTGGCTACGTCAATCTTCAAGCTGACCTATCAAAATAAGGTGGTAAGGGTG\n",
    "CAAAGACCAGCAAAAAGTGGAACCGTGATGGATGTTATATCCAGACGTGACCAGAGAGGAAGTGGACAGG\n",
    "TCGGAACTTATGGCTTAAACACTTTCACCAACATGGAGGTCCAACTAATAAGACAAATGGAATCTGAAGG\n",
    "AATCTTTTCACCCAGCGAATTGGAAAATTCAAATCTAGCTGAGAGAGTTCTCGACTGGTTGGAAAAACAT\n",
    "GGCGTCGAAAGGTTGAAAAGAATGGCAATCAGCGGAGATGACTGTGTGGTGAAACCAACTGATGACAGGT\n",
    "TCGCAACAGCTTTAACAGCTCTGAATGACATGGGAAAAGTAAGAAAAGACATACCGCAATGGGAACCTTC\n",
    "AAAAGGATGGAATGACTGGCAGCAAGTGCCTTTCTGTTCACACCATTTCCACCAGCTGATCATGAAGGAT\n",
    "GGGAGGGAGATAGTGGTGCCATGTCGCAACCAAGATGAACTTGTGGGCAGGGCCAGAGTATCACAAGGCG\n",
    "CCGGATGGAGCCTGAGAGAAACTGCTTGCCTAGGCAAGTCATATGCACAAATGTGGCAGCTGATGTACTT\n",
    "CCACAGGAGAGACCTGAGACTGGCGGCCAATGCTATCTGTTCAGCCGTTCCAGTTGATTGGGTCCCAACC\n",
    "AGCCGCACCACCTGGTCGATCCATGCCCACCACCAATGGATGACAACAGAAGACATGTTATCAGTGTGGA\n",
    "ATAGGGTTTGGATAGAGGAAAACCCATGGATGGAGGACAAAACTCATGTATCCAGTTGGGAAGATGTTCC\n",
    "ATACTTAGGAAAAAGGGAAGATCAATGGTGTGGATCCCTGATAGGCTTAACAGCAAGGGCCACCTGGGCC\n",
    "ACCAACATACAAGTGGCCATAAACCAAGTGAGAAGGCTCATTGGGAATGAGAATTATTTAGACTACATGA\n",
    "CATCAATGAAGAGATTCAAGAATGAGAGTGATCCCGAAGGAGCCCTCTGGTAAGCCAACACACTCATGAA\n",
    "ATAAAGGAAAATAGAAAATCAAACAAAACAAGAAGTCAGGCCGGTTTAAGCCATAGTACGGTAAGAGCTA\n",
    "TGCTGCCTGTGAGCCCCGTCCAAGGACGTAAAATGAAGTCAGGCCGAAAGCCACGGCTTGAGCAAACCGT\n",
    "GCTGCCTGTGGCTCCATCGTGGGGATGTAAAAACCCGGGAGGCTGCAACCCATGGAAGCTGTACGCATGG\n",
    "GGTAGCAGACTAGTGGTTAGAGGAGACCCCTCCCAAGATACAACGCAGCAGCGGGGCCCAACACCAGGGG\n",
    "AAGCTGTACCCTGGTGGTAAGGACTAGAGGTTAGAGGAGACCCCCCGCACAACAATAAACAGCATATTGA\n",
    "CGCTGGGAGAGACCAGAGATCCTGCTGTCTCTACAGCATCATTCCAGGCACAGAACGCCAGAAAATGGAA\n",
    "TGGTGCTGTTGAATCAACAGGTTCT\"\"\""
   ]
  },
  {
   "cell_type": "code",
   "execution_count": null,
   "metadata": {
    "collapsed": true,
    "deletable": false,
    "editable": false,
    "nbgrader": {
     "checksum": "ea4a752e29e94035b030df73a2636f4d",
     "grade": false,
     "grade_id": "cell-cd193758b38ee4ae",
     "locked": true,
     "schema_version": 1,
     "solution": false
    }
   },
   "outputs": [],
   "source": [
    "**Problem 4. (15 points)** Edit ``get_kmer_locations`` so that it returns all the start locations, if any, of `kmer` in `seq`. Every place you see a `???` you should replace `???` with appropriate content.\n",
    "\n",
    "```Python\n",
    "def get_kmer_locations(seq, kmer=\"A\"):\n",
    "    \"\"\"\n",
    "    seq: ???\n",
    "    kmer: ???\n",
    "    \n",
    "    returns: ???\"\"\"\n",
    "    index = 0\n",
    "    locations = []\n",
    "    while index < len(???):\n",
    "        i = seq.find(kmer,???)\n",
    "        if i == ???:\n",
    "            break\n",
    "        else:\n",
    "            locations.append(???)\n",
    "            index = i+???\n",
    "    return ???(locations)\n",
    "```\n",
    "\n",
    "Test your function will several k-mers, including strings that are not in the sequence.\n",
    "\n",
    "What is a [k-mer](https://en.wikipedia.org/wiki/K-mer)?"
   ]
  },
  {
   "cell_type": "code",
   "execution_count": null,
   "metadata": {
    "deletable": false,
    "nbgrader": {
     "checksum": "ddc1704f0c95f14ad7e078ce8984fc36",
     "grade": false,
     "grade_id": "cell-f32059a290b5b67c",
     "locked": false,
     "schema_version": 1,
     "solution": true
    }
   },
   "outputs": [],
   "source": [
    "\n",
    "\n",
    "# YOUR CODE HERE\n",
    "def get_kmer_locations(seq, kmer=\"A\"):\n",
    "    \"\"\"\n",
    "    seq: A DNA sequence provided in string format consisting of only valid nucleotides.\n",
    "    kmer: A pattern corresponding to a DNA sequence of length k.\n",
    "    \n",
    "    returns: All the start locations, if any, of `kmer` in `seq`.\"\"\"\n",
    "    index = 0\n",
    "    locations = []\n",
    "    while index < len(kmer):\n",
    "        i = seq.find(kmer,index)\n",
    "        if i == False:\n",
    "            break\n",
    "        else:\n",
    "            locations.append(index)\n",
    "            index = i+1\n",
    "    return tuple(locations)\n",
    "\n",
    "\n",
    "#raise NotImplementedError()\n",
    "print(get_kmer_locations(sequence1,kmer='CCTGGGT'))"
   ]
  },
  {
   "cell_type": "code",
   "execution_count": null,
   "metadata": {
    "collapsed": true,
    "deletable": false,
    "editable": false,
    "nbgrader": {
     "checksum": "b879236b47acfa8a4d82a81da7bcda8b",
     "grade": true,
     "grade_id": "cell-bc6fb915ed8b49c9",
     "locked": true,
     "points": 13,
     "schema_version": 1,
     "solution": false
    }
   },
   "outputs": [],
   "source": [
    "assert_equals(get_kmer_locations(sequence1,kmer='CCTG'), (435, 793, 1105, 1804, 2206, 3087, 3410, 3855, 4368, 4942, 5618, 6429, 6959, \n",
    "                                                          7037, 7120, 7297, 7401, 8095, 9950, 10023, 10092, 10260, 10286, 10513, 10583, \n",
    "                                                          10730, 10812))\n",
    "assert_equals(get_kmer_locations(sequence1,kmer='CCTGGGT'), ())\n",
    "assert_raises(TypeError, get_kmer_locations, k_mer=\"CC\")"
   ]
  },
  {
   "cell_type": "code",
   "execution_count": null,
   "metadata": {
    "collapsed": true,
    "deletable": false,
    "editable": false,
    "nbgrader": {
     "checksum": "2fc660f93b1305151ee010ed13354d64",
     "grade": true,
     "grade_id": "cell-62a0625b3cda0815",
     "locked": true,
     "points": 2,
     "schema_version": 1,
     "solution": false
    }
   },
   "outputs": [],
   "source": []
  },
  {
   "cell_type": "markdown",
   "metadata": {
    "deletable": false,
    "editable": false,
    "nbgrader": {
     "checksum": "c6709d286a59aa1b60efc2a98e6047b9",
     "grade": false,
     "grade_id": "cell-62ccf78ae8144354",
     "locked": true,
     "schema_version": 1,
     "solution": false
    }
   },
   "source": [
    "** Problem 5 (15 points):** `get_kmer_locations_recursive` is a recursive version of `get_kmer_locations`. Edit `get_kmer_locations_recursive` so that it returns a list of all start locations, if any, of `kmer` in `seq`.\n",
    "\n",
    "```Python\n",
    "def get_kmer_locations_recursive(seq, kmer=\"A\", start=???):\n",
    "    \"\"\"\n",
    "    seq: a string containing a sequence\n",
    "    kmer: a string representing a k-mer of interest\n",
    "    start: ???\n",
    "    \n",
    "    returns: a ??? of starting locations for kmer within seq\"\"\"\n",
    "    loc = seq.find(kmer, ???)\n",
    "    if loc != -1:\n",
    "        return [loc] ??? get_kmer_locations_recursive(seq, kmer=kmer, start=???)\n",
    "    else:\n",
    "        return ???\n",
    "```"
   ]
  },
  {
   "cell_type": "code",
   "execution_count": null,
   "metadata": {
    "collapsed": true,
    "deletable": false,
    "nbgrader": {
     "checksum": "2abce457cfe3912ae7935e73b63013dd",
     "grade": false,
     "grade_id": "cell-e4cfb32004d31818",
     "locked": false,
     "schema_version": 1,
     "solution": true
    }
   },
   "outputs": [],
   "source": [
    "\n",
    "\n",
    "# YOUR CODE HERE\n",
    "raise NotImplementedError()\n"
   ]
  },
  {
   "cell_type": "code",
   "execution_count": null,
   "metadata": {
    "collapsed": true,
    "deletable": false,
    "editable": false,
    "nbgrader": {
     "checksum": "c7037e785c41f4dda738ca60b20fbbbe",
     "grade": true,
     "grade_id": "cell-5bde1cc1111ba644",
     "locked": true,
     "points": 6,
     "schema_version": 1,
     "solution": false
    }
   },
   "outputs": [],
   "source": [
    "assert_equals(get_kmer_locations_recursive(sequence1,kmer='CCCTG'), [434, 1104, 4941, 6428, 7119, 10259, 10729])"
   ]
  },
  {
   "cell_type": "code",
   "execution_count": null,
   "metadata": {
    "collapsed": true,
    "deletable": false,
    "editable": false,
    "nbgrader": {
     "checksum": "3f6ba25a08f805fc043d3cfe37fe48ba",
     "grade": true,
     "grade_id": "cell-00cf2a5db71c1db2",
     "locked": true,
     "points": 6,
     "schema_version": 1,
     "solution": false
    }
   },
   "outputs": [],
   "source": []
  },
  {
   "cell_type": "code",
   "execution_count": null,
   "metadata": {
    "collapsed": true,
    "deletable": false,
    "editable": false,
    "nbgrader": {
     "checksum": "10e42447af93887858363c694209f973",
     "grade": true,
     "grade_id": "cell-b0f80067e6a3b3e8",
     "locked": true,
     "points": 3,
     "schema_version": 1,
     "solution": false
    }
   },
   "outputs": [],
   "source": []
  },
  {
   "cell_type": "markdown",
   "metadata": {
    "deletable": false,
    "editable": false,
    "nbgrader": {
     "checksum": "41ece7c4cf3693c032d5a2924ae4e62f",
     "grade": false,
     "grade_id": "cell-20881d6a7b603dfa",
     "locked": true,
     "schema_version": 1,
     "solution": false
    }
   },
   "source": [
    "**Problem 4. (10 points)** Write a function that takes as a positional argument a sequence and as a keyword argument a list of k-mers and returns a dictionary with keys being the k-mers and the values being the locations, if any, of the k-mers in the sequence.\n",
    "\n",
    "**Hints:**\n",
    "1. Your function should call ``get_kmer_locations`` that you wrote in Problem 3.\n",
    "1. Use a ``for`` loop.\n"
   ]
  },
  {
   "cell_type": "code",
   "execution_count": null,
   "metadata": {
    "collapsed": true,
    "deletable": false,
    "nbgrader": {
     "checksum": "b894e0f814688a3220ce27c4baca6252",
     "grade": false,
     "grade_id": "cell-7f4ffae0a4bc2865",
     "locked": false,
     "schema_version": 1,
     "solution": true
    }
   },
   "outputs": [],
   "source": [
    "# YOUR CODE HERE\n",
    "raise NotImplementedError()"
   ]
  },
  {
   "cell_type": "code",
   "execution_count": null,
   "metadata": {
    "collapsed": true,
    "deletable": false,
    "editable": false,
    "nbgrader": {
     "checksum": "d6c71d7d9fd6dc8610649b6f6fd4bb6f",
     "grade": true,
     "grade_id": "cell-4d4f769a223256ec",
     "locked": true,
     "points": 5,
     "schema_version": 1,
     "solution": false
    }
   },
   "outputs": [],
   "source": [
    "assert_equals(get_kmer_list_locations(sequence1, kmers = [\"ATCG\", \"GGAGG\"]), {'ATCG': (38, 2094, 2861, 3343, 4051, 5003, 5559, 7181, 7291, 8409, 10594),\n",
    " 'GGAGG': (1092,\n",
    "  2240,\n",
    "  2604,\n",
    "  3205,\n",
    "  4291,\n",
    "  4418,\n",
    "  4834,\n",
    "  6329,\n",
    "  6576,\n",
    "  7549,\n",
    "  7669,\n",
    "  7783,\n",
    "  8000,\n",
    "  8289,\n",
    "  8815,\n",
    "  9548,\n",
    "  9870,\n",
    "  10184,\n",
    "  10616)})"
   ]
  },
  {
   "cell_type": "code",
   "execution_count": null,
   "metadata": {
    "collapsed": true,
    "deletable": false,
    "editable": false,
    "nbgrader": {
     "checksum": "c62e0a63537b4e3d4cb2c21204d3fadd",
     "grade": true,
     "grade_id": "cell-1d408a462009b780",
     "locked": true,
     "points": 5,
     "schema_version": 1,
     "solution": false
    }
   },
   "outputs": [],
   "source": []
  },
  {
   "cell_type": "markdown",
   "metadata": {
    "collapsed": true,
    "deletable": false,
    "editable": false,
    "nbgrader": {
     "checksum": "7ec138f84f44c9cde1066f2c48dcc672",
     "grade": false,
     "grade_id": "cell-154c99839d3ec6a9",
     "locked": true,
     "schema_version": 1,
     "solution": false
    }
   },
   "source": [
    "**Problem 5. (25 points)**:  The [Sieve of Eratosthenes](http://en.wikipedia.org/wiki/Sieve_of_Eratosthenes) is a very old way of finding prime numbers. Write a function that uses the Sieve of Eratosthenes to find all the prime numbers between 2 and some number $N$ which is provided as a keyword argument (`N`) to the function (default $N=100$). Remember 2 is the first prime; that is, 0 and 1 are not primes. The function should return a tuple of all the primes in numeric order.\n",
    "\n",
    "**Hints:** \n",
    "* Use a numpy array generated with ``arange`` to create an array of all the integers between 2 and `N` inclusive. You can use slicing to \"cross out\" (e.g. by setting the array value to -1) all the multiples of a prime. (Remember slicing has an optional start location, an optional end location and an optional step size.\n",
    "* When you find a prime ``N`` (e.g. 2) you want to cross out every ``Nth`` (e.g. 2nd) number after the. When you increment through the array, you will recognize a prime as being the next number you encounter that is not now equal to -1."
   ]
  },
  {
   "cell_type": "code",
   "execution_count": null,
   "metadata": {
    "collapsed": true,
    "deletable": false,
    "nbgrader": {
     "checksum": "d177bd74c0cb770f853b496f5fc62537",
     "grade": false,
     "grade_id": "cell-e919bdd8febd8bbf",
     "locked": false,
     "schema_version": 1,
     "solution": true
    }
   },
   "outputs": [],
   "source": [
    "# YOUR CODE HERE\n",
    "raise NotImplementedError()"
   ]
  },
  {
   "cell_type": "code",
   "execution_count": null,
   "metadata": {
    "collapsed": true,
    "deletable": false,
    "editable": false,
    "nbgrader": {
     "checksum": "235a497c902b7d74e68b802959140fc8",
     "grade": true,
     "grade_id": "cell-3434de6f5b4281ec",
     "locked": true,
     "points": 15,
     "schema_version": 1,
     "solution": false
    }
   },
   "outputs": [],
   "source": [
    "assert_equals(sieve_primes(400),(2, 3, 5, 7, 11, 13, 17, 19, 23, 29, 31, 37, 41, 43, 47, 53, 59, 61, \n",
    "                                 67, 71, 73, 79, 83, 89, 97, 101, 103, 107, 109, 113, 127, 131, 137, \n",
    "                                 139, 149, 151, 157, 163, 167, 173, 179, 181, 191, 193, 197, 199, 211, \n",
    "                                 223, 227, 229, 233, 239, 241, 251, 257, 263, 269, 271, 277, 281, 283, \n",
    "                                 293, 307, 311, 313, 317, 331, 337, 347, 349, 353, 359, 367, 373, 379, \n",
    "                                 383, 389, 397))"
   ]
  },
  {
   "cell_type": "code",
   "execution_count": null,
   "metadata": {
    "collapsed": true,
    "deletable": false,
    "editable": false,
    "nbgrader": {
     "checksum": "1cf65a61d9b8733bbf5c71b0d6ac5473",
     "grade": true,
     "grade_id": "cell-508c1ad7819bb4d0",
     "locked": true,
     "points": 5,
     "schema_version": 1,
     "solution": false
    }
   },
   "outputs": [],
   "source": [
    "assert_equals(sieve_primes(), (2, 3, 5, 7, 11, 13, 17, 19, 23, 29, 31, 37, 41, 43, 47, 53, \n",
    "                               59, 61, 67, 71, 73, 79, 83, 89, 97))"
   ]
  },
  {
   "cell_type": "code",
   "execution_count": null,
   "metadata": {
    "collapsed": true,
    "deletable": false,
    "editable": false,
    "nbgrader": {
     "checksum": "58c98c43b489ce7d11774086f0c07c96",
     "grade": true,
     "grade_id": "cell-467b51502bade149",
     "locked": true,
     "points": 5,
     "schema_version": 1,
     "solution": false
    }
   },
   "outputs": [],
   "source": [
    "assert_equals(sieve_primes(N=20), (2, 3, 5, 7, 11, 13, 17, 19))\n",
    "assert_raises(TypeError, sieve_primes, n=20)"
   ]
  },
  {
   "cell_type": "markdown",
   "metadata": {
    "deletable": false,
    "editable": false,
    "nbgrader": {
     "checksum": "59a0974a4f2dccda68c444a6102c7d2c",
     "grade": false,
     "grade_id": "cell-6d199bc331e001dc",
     "locked": true,
     "schema_version": 1,
     "solution": false
    }
   },
   "source": [
    "**Problem 6. (10 points):** Modify `problem6` to implement the following function:\n",
    "\n",
    "$$\n",
    "f(x)=\\left \\{ \n",
    "\\begin{array}{ll}\n",
    "0 & \\text{if } x < 0\\\\\n",
    "\\cos(x) & 0 \\le x < 2\\pi\\\\\n",
    "\\cos^2(x) & \\text{otherwise}\n",
    "\\end{array}\n",
    "\\right.\n",
    "$$"
   ]
  },
  {
   "cell_type": "code",
   "execution_count": null,
   "metadata": {
    "collapsed": true,
    "deletable": false,
    "nbgrader": {
     "checksum": "07f73e361fd0dcd99f178fb886de98f4",
     "grade": false,
     "grade_id": "cell-e242685c35c7fb19",
     "locked": false,
     "schema_version": 1,
     "solution": true
    }
   },
   "outputs": [],
   "source": [
    "import math\n",
    "def problem6(x):\n",
    "    # YOUR CODE HERE\n",
    "    raise NotImplementedError()"
   ]
  },
  {
   "cell_type": "code",
   "execution_count": null,
   "metadata": {
    "collapsed": true,
    "deletable": false,
    "editable": false,
    "nbgrader": {
     "checksum": "c31a99862b6baf07a439ffab2d1a4392",
     "grade": true,
     "grade_id": "cell-83540fc6a19e6ebd",
     "locked": true,
     "points": 10,
     "schema_version": 1,
     "solution": false
    }
   },
   "outputs": [],
   "source": [
    "assert_equals(problem6(-1), 0)\n",
    "assert_almost_equal(problem6(math.pi/4), 0.7071067811865476)\n",
    "assert_almost_equal(problem6(9*math.pi/4), 0.5)"
   ]
  },
  {
   "cell_type": "code",
   "execution_count": null,
   "metadata": {
    "collapsed": true
   },
   "outputs": [],
   "source": []
  }
 ],
 "metadata": {
  "kernelspec": {
   "display_name": "Python 3",
   "language": "python",
   "name": "python3"
  },
  "language_info": {
   "codemirror_mode": {
    "name": "ipython",
    "version": 3
   },
   "file_extension": ".py",
   "mimetype": "text/x-python",
   "name": "python",
   "nbconvert_exporter": "python",
   "pygments_lexer": "ipython3",
   "version": "3.5.2"
  }
 },
 "nbformat": 4,
 "nbformat_minor": 1
}

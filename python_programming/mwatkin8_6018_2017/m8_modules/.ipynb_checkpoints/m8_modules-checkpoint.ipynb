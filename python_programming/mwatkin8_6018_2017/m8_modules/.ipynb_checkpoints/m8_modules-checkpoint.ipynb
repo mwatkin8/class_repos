{
 "cells": [
  {
   "cell_type": "markdown",
   "metadata": {
    "deletable": false,
    "editable": false,
    "nbgrader": {
     "checksum": "cb0ccdb51e40e864fa538f35826cc017",
     "grade": false,
     "grade_id": "cell-c49efff0794244f9",
     "locked": true,
     "schema_version": 1,
     "solution": false
    }
   },
   "source": [
    "# Modules and Packages in Python \n"
   ]
  },
  {
   "cell_type": "code",
   "execution_count": null,
   "metadata": {
    "collapsed": true,
    "deletable": false,
    "editable": false,
    "nbgrader": {
     "checksum": "24d87acbc9f00244dcddb66664bff6be",
     "grade": false,
     "grade_id": "cell-02138b2993a717e9",
     "locked": true,
     "schema_version": 1,
     "solution": false
    }
   },
   "outputs": [],
   "source": [
    "from nose.tools import assert_true, assert_false, assert_equals, assert_almost_equal, assert_raises\n",
    "import sys\n",
    "import os"
   ]
  },
  {
   "cell_type": "markdown",
   "metadata": {
    "deletable": false,
    "editable": false,
    "nbgrader": {
     "checksum": "ae92387047d40db38e1ffedc4867b316",
     "grade": false,
     "grade_id": "cell-a9374af47e355158",
     "locked": true,
     "schema_version": 1,
     "solution": false
    }
   },
   "source": [
    "**Problem 1. (65 points)**   \n",
    "\n",
    "In the same directory as you have this notebook stored, create a package named ``hw8``. Within hw8 you should have two modules: 1) a module named ``mymath.py`` and 2) a module name ``mybio.py``. \n",
    "\n",
    "In ``mymath.py`` put \n",
    "\n",
    "1. The function `gcd` (greatest common denominator) you wrote for HW M7 and \n",
    "1. The function `sieve_primes` (Sieve of Erasthonese) your wrote for HW M7\n",
    "\n",
    "In ``mybio.py``\n",
    "\n",
    "1. The function `count_kmers` from HW M6 and \n",
    "1. The function `get_kmer_locations` from HW M7.\n",
    "\n",
    "Configure your package such that when I type\n",
    "\n",
    "```Python\n",
    "from hw8 import *\n",
    "```\n",
    "\n",
    "both ``mybio`` and ``mymath`` are imported.\n",
    "\n",
    "The package and modules should have useful [docstrings](https://www.python.org/dev/peps/pep-0257/). \n",
    "\n",
    "At a mininmum your docstrings for each module should contain\n",
    "\n",
    "1. **A copyright statement** (e.g. \"Copyright Brian E. Chapman)\n",
    "1. An **\"A module for...\"** statement that describes what this module is for\n",
    "\n",
    "You might also be interested in [Google's official docstring style guide](https://google.github.io/styleguide/pyguide.html?showone=Comments#Comments)\n"
   ]
  },
  {
   "cell_type": "code",
   "execution_count": null,
   "metadata": {
    "collapsed": true,
    "deletable": false,
    "editable": false,
    "nbgrader": {
     "checksum": "c058b2c96824dca4efd10786a61e2e30",
     "grade": false,
     "grade_id": "cell-a1e9b23cdfad45b5",
     "locked": true,
     "schema_version": 1,
     "solution": false
    }
   },
   "outputs": [],
   "source": [
    "sequence1 = \\\n",
    "\"\"\"AGTTGTTAGTCTACGTGGACCGACAAGAACAGTTTCGAATCGGAAGCTTGCTTAACGTAGTTCTAACAGT\n",
    "TTTTTATTAGAGAGCAGATCTCTGATGAACAACCAACGGAAGAAGACGGGTCGACCGTCTTTCAATATGC\n",
    "TGAAACGCGCGAGAAACCGCGTGTCAACTGGTTCACAGTTGGCGAAGAGATTCTCAAAAGGATTGCTCTC\n",
    "AGGCCAAGGACCCATGAAATTGGTGATGGCTTTTATAGCATTCCTAAGATTTCTAGCCATACCCCCAACA\n",
    "GCAGGAATTTTGGCTAGATGGAGCTCATTCAAGAAGAATGGAGCGATCAAAGTGTTACGGGGTTTCAAAA\n",
    "AAGAGATCTCAAGCATGTTGAACATAATGAACAGGAGAAAAAGATCCGTGACCATGCTCCTTATGCTGCT\n",
    "GCCCACAGCCCTGGCGTTTCATTTGACCACACGAGGGGGAGAGCCACACATGATAGTTAGCAAGCAGGAA\n",
    "AGAGGAAAGTCACTCTTGTTTAAGACCTCTGCAGGTGTCAACATGTGCACCCTCATTGCAATGGATTTGG\n",
    "GAGAGTTATGTGAGGACACAATGACCTACAAATGCCCCCGGATCACTGAAGCGGAACCAGATGATGTTGA\n",
    "TTGCTGGTGCAATGCCACAGACACATGGGTGACCTATGGGACGTGTTCTCAAACTGGCGAACACCGACGG\n",
    "GATAAACGTTCTGTCGCACTGGCCCCACACGTGGGGCTTGGTCTAGAAACAAGAACCGAAACGTGGATGT\n",
    "CCTCTGAAGGCGCCTGGAGACAGATACAAAAAGTGGAGACTTGGGCCTTGAGACACCCAGGATTCACGGT\n",
    "GATAGCCCTTTTTCTAGCACATACCATAGGAACATCCATCACCCAGAAAGGGATTATCTTCATTTTGCTG\n",
    "ATGCTGGTGACACCATCAATGGCCATGCGATGCGTGGGAATAGGCAACAGAGACTTCGTTGAAGGACTGT\n",
    "CAGGAGCAACGTGGGTGGATGTGGTACTGGAGCATGGAAGCTGCGTCACCACCATGGCAAAAAATAAACC\n",
    "AACATTGGACATTGAACTCTTGAAGACGGAGGTCACGAACCCTGCCGTCTTGCGCAAACTGTGCATTGAA\n",
    "GCTAAAATATCAAACACCACCACCGATTCAAGATGCCCAACACAAGGAGAAGCTACACTGGTGGAAGAAC\n",
    "AAGACGCGAACTTTGTGTGTCGACGAACATTCGTGGACAGAGGCTGGGGTAATGGCTGTGGACTATTCGG\n",
    "GAAAGGAAGCTTACTGACGTGTGCTAAGTTTAAGTGTGTGACAAAACTTGAAGGAAAGATAGTTCAATAT\n",
    "GAAAACTTAAAATATTCGGTGATAGTCACTGTCCACACTGGGGACCAGCACCAGGTGGGAAATGAGACCA\n",
    "CAGAACATGGAACAATTGCAACCATAACACCTCAAGCTCCCACGTCGGAAATACAGCTGACTGACTACGG\n",
    "AGCCCTTACATTGGACTGCTCACCTAGAACAGGGCTGGACTTTAATGAGATGGTGCTGTTGACAATGAAA\n",
    "GAAAAATCATGGCTTGTCCACAAACAATGGTTTCTAGACTTACCACTGCCTTGGACCTCGGGGGCTTCAA\n",
    "CATCTCAAGAGACTTGGAACAGACAAGATTTGCTGGTCACATTTAAGACAGCTCATGCAAAGAAGCAGGA\n",
    "AGTAGTCGTACTGGGGTCACAAGAAGGAGCAATGCACACTGCGTTGACTGGGGCGACAGAAATCCAGATG\n",
    "TCAGGAACGACGACAATCTTCGCAGGACACCTGAAATGTAGACTAAAAATGGATAAACTGACTTTAAAAG\n",
    "GGGTGTCATATGTGATGTGCACAGGCTCATTTAAGTTAGAGAAGGAAGTGGCTGAGACCCAGCATGGAAC\n",
    "CGTCCTAGTGCAGGTTAAATACGAAGGAACAGATGCACCATGCAAGATTCCCTTTTCAACCCAAGATGAG\n",
    "AAAGGAGTGACCCAGAATGGGAGATTGATAACAGCCAATCCCATAGTTACTGACAAAGAAAAACCAGTCA\n",
    "ACATTGAGACAGAACCACCTTTTGGTGAGAGCTACATCGTGATAGGGGCGGGTAAAAAAGCTTTGAAACT\n",
    "AAGCTGGTTCAAGAAAGGAAGCAGCATAGGGAAAATGTTCGAAGCTACCGCCCGAGGAGCACGAAGGATG\n",
    "GCTATCCTGGGAGACACAGCATGGGACTTCGGTTCCATGGGAGGGGTGTTCACATCTGTGGGAAAATTGG\n",
    "TACACCAGGTTTTTGGAACCGCATATGGGGTTTTGTTCAGCGGTGTTTCTTGGACCATGAAAATAGGAAT\n",
    "AGGGATTCTGCTGACATGGCTAGGATTAAATTCAAGGAGCACGTCACTCTCGATGACGTGCATTGCAGTT\n",
    "GGCATGGTCACACTGTACCTAGGAGTCATGGTTCAAGCGGACTCGGGGTGTGTGATCAACTGGAAGGGCA\n",
    "GAGAACTCAAATGTGGAAGTGGCATCTTCGTCACTAATGAAGTCCACACTTGGACAGAGCAATATAAATT\n",
    "CCAGGCTGACTCCCCAAAAAGACTGTCAGCAGCCATTGGGAAGGCATGGGAGGAAGGCGTGTGTGGAATT\n",
    "CGATCAGCCACACGTCTTGAGAACATCATGTGGAAGCAAATATCAAATGAATTGAACCACATTCTACTTG\n",
    "AAAATGACATGAAATTCACAGTGGTTGTAGGAGACGCTAATGGAATCTTGACCCAAGGAAAAAAGATGAT\n",
    "TAGGCCACAACCCATGGAACACAAATACTCATGGAAAAGCTGGGGAAAAGCCAAAATCATAGGAGCAGAC\n",
    "ATACAGAATACCACCTTCATCATCGATGGCCCAGACACTCCAGAATGCCCCGATGACCAGAGAGCATGGA\n",
    "ACATTTGGGAAGTTGAGGACTATGGGTTTGGAATTTTCACGACAAACATATGGCTGAAATTGCGTGACTC\n",
    "CTACACCCAAATGTGTGACCACCGGCTAATGTCAGCTGCCATCAAGGACAGTAAGGCAGTCCATGCTGAC\n",
    "ATGGGGTACTGGATAGAAAGTGAAAAGAACGAGACCTGGAAGCTAGCGAGAGCCTCCTTCATAGAAGTGA\n",
    "AGACATGCATCTGGCCAAGATCCCACACTCTATGGAGCAATGGAGTCTTGGAAAGTGAAATGATAATCCC\n",
    "AAAGATATATGGAGGACCAATATCTCAGCACAACTACAGACCAGGGTATTTCACACAAACAGCAGGGCCA\n",
    "TGGCACCTAGGCAAGTTGGAACTAGACTTTGATTTGTGTGAAGGCACCACAGTTGTTGTGGATGAACATT\n",
    "GTGGAAATCGAGGTCCATCTCTTAGAACTACAACAGTCACAGGAAAGATAATCCATGAATGGTGTTGCAG\n",
    "ATCCTGCACGCTACCCCCCTTACGCTTCAAAGGAGAAGACGGATGTTGGTATGGCATGGAAATCAGACCA\n",
    "GTTAAGGAGAAGGAAGAGAATCTAGTCAGGTCAATGGTCTCTGCAGGGTCAGGAGAAGTGGACAGTTTTT\n",
    "CATTGGGACTACTATGCGTATCAATAATGATTGAAGAAGTGATGAGATCCAGATGGAGTAGAAAGATGCT\n",
    "GATGACTGGAACACTGGCTGTTTTCTTCCTTCTTATAATGGGACAACTGACATGGAATGATCTGATCAGG\n",
    "TTATGCATCATGGTTGGAGCCAATGTCTCAGACAGGATGGGGATGGGAACAACGTACCTAGCCTTGATGG\n",
    "CCACTTTCAAAATGAGACCGATGTTCGCTGTTGGGCTATTATTTCGCAGACTAACATCCAGAGAGGTTCT\n",
    "CCTTCTCACAATTGGACTAAGCCTGGTGGCATCCGTGGAGCTACCAAATTCTTTAGAGGAGCTAGGGGAC\n",
    "GGACTTGCAATGGGCATCATGATGTTAAAATTATTGACTGATTTTCAGTCACACCAGTTATGGACTACCT\n",
    "TACTGTCTCTGACATTTATCAAAACAACTCTTTCATTGGATTATGCATGGAAGACAATAGCTATGGTACT\n",
    "GTCAATCGTATCTCTCTTTCCTTTATGTCTATCTACGACCTCTCAAAAAACAACATGGCTTCCGGTGCTG\n",
    "TTAGGATCTTTTGGATGCAAACCACTAACCATGTTTCTTATAACAGAAAACAAAATCTGGGGAAGGAAAA\n",
    "GTTGGCCCCTCAATGAAGGAATTATGGCTGTTGGAATAGTCAGCATTTTACTAAGTTCACTCCTCAAAAA\n",
    "TGATGTGCCACTAGCCGGCCCACTAATAGCTGGAGGCATGCTAATAGCATGTTACGTCATATCCGGAAGC\n",
    "TCAGCCGATTTATCATTGGAGAAAGCGGCTGAGGTCTCCTGGGAAGAAGAAGCAGAACACTCTGGTGCCT\n",
    "CACACAACATACTAGTGGAGGTCCAAGATGATGGAACTATGAAAATAAAAGATGAAGAGAGAGATGACAC\n",
    "GCTCACTATACTCCTTAAAGCAACTCTGTTGGCAGTCTCAGGGGTGTACCCAATGTCAATACCAGCAACC\n",
    "CTTTTTGTGTGGTATTTTTGGCAGAAAAAGAAACAGAGATCAGGAGTCTTGTGGGACACACCCAGCCCTC\n",
    "CAGAAGTGGAAAGAGCAGTTCTTGATGATGGTATCTATAGAATCTTGCAAAGAGGACTGTTGGGTAGGTC\n",
    "CCAAGTAGGAGTGGGAGTTTTTCAAGACGGCGTGTTCCACACAATGTGGCATGTCACCAGGGGGGCTGTC\n",
    "CTCATGTACCAAGGGAAGAGGCTGGAACCAAGTTGGGCCAGTGTCAAAAAAGACTTGATCTCATATGGAG\n",
    "GAGGTTGGAGGTTTCAAGGATCATGGAACACGGGAGAAGAAGTACAGGTGATAGCTGTTGAGCCAGGAAA\n",
    "AAACCCAAAAAATGTACAGACAACGCCGGGCACCTTCAAGACCCCTGAAGGCGAAGTTGGAGCCATAGCC\n",
    "CTAGATTTTAAACCCGGCACATCTGGATCTCCCATCGTGAACAGAGAGGGAAAAATAGTAGGTCTTTATG\n",
    "GAAATGGAGTGGTGACAACAAGTGGAACCTACGTCAGTGCCATGGCCCAAGCTAAAGCATCACAAGAAGG\n",
    "GCCTCTACCAGAGATTGAGGACGAGGTGTTTAAGAAAAGAAACCTAACAATAATGGACCTACATCCAGGA\n",
    "TCAGGAAAAACAAGAAGATATCTTCCAGCCATAGTCCGTGAGGCCATAAAAAGGAAACTGCGCACGCTAA\n",
    "TCTTGGCTCCCACAAGAGTTGTCGCCTCTGAAATGGCAGAGGCGCTTAAAGGAATGCCAATAAGATATCA\n",
    "GACAACAGCAGTAAAGAGTGAACACACAGGAAGGGAGATAGTTGATCTCATGTGCCACGCCACTTTCACC\n",
    "ATGCGTCTCCTATCTCCAGTGAGAGTTCCCAATTACAACATGATTATCATGGATGAAGCACACTTTACCG\n",
    "ATCCAGCCAGCATAGCGGCCAGAGGGTACATCTCAACCCGAGTGGGTATGGGTGAAGCAGCTGCGATCTT\n",
    "TATGACAGCCACTCCCCCAGGATCGGTAGAGGCCTTTCCACAGAGCAATGCAGTTATCCAAGATGAGGAA\n",
    "AGAGACATTCCTGAGAGATCATGGAACTCAGGCTACGACTGGATCACTGATTTCCCAGGTAAAACAGTCT\n",
    "GGTTTGTTCCAAGCATCAAATCAGGAAATGACATTGCCAACTGTTTAAGAAAGAACGGGAAACGGGTGAT\n",
    "CCAATTGAGCAGAAAAACCTTTGACACTGAATACCAGAAAACAAAAAACAATGACTGGGACTATGTTGTC\n",
    "ACAACAGACATTTCCGAAATGGGAGCAAATTTCCGGGCCGACAGGGTAATAGACCCAAGGCGGTGCTTGA\n",
    "AGCCGGTAATACTAAAAGATGGCCCAGAGCGCGTCATTCTAGCCGGACCAATGCCAGTGACCGTGGCCAG\n",
    "TGCTGCCCAGAGGAGAGGAAGAATTGGAAGGAACCAAAACAAGGAAGGTGACCAGTATATTTACATGGGA\n",
    "CAGCCTTTAAATAATGATGAGGACCACGCTCATTGGACAGAAGCAAAAATGCTCCTTGACAATATAAACA\n",
    "CGCCAGAAGGGATTATCCCAGCCCTCTTTGAGCCGGAGAGAGAAAAGAGTGCAGCAATAGACGGGGAGTA\n",
    "CAGACTGCGGGGAGAAGCAAGGAAAACGTTCGTGGAGCTGATGAGAAGAGGGGATCTACCAGTTTGGCTA\n",
    "TCTTACAAAGTTGACTCAGAAGGCTTCCAGTACTCCGACAGAAGGTGGTGCTTTGACGGGGAAAGGAACA\n",
    "ACCAGGTGTTGGAGGAGAACATGGACGTGGAGATCTGGACAAAAGAAGGAGAAAGAAAGAAATTACGACC\n",
    "TCGCTGGTTAGATGCCAGAACCTACTCTGATCCACTGGCCCTGCGCGAGTTTAAAGAGTTCGCAGCAGGA\n",
    "AGAAGAAGTGTCTCAGGTGACCTAATATTAGAAATAGGGAAACTTCCACAGCATTTGACGCTAAGGGCCC\n",
    "AGAATGCTTTGGACAACTTGGTCATGTTGCACAATTCCGAACAAGGAGGAAAAGCCTATAGACATGCTAT\n",
    "GGAAGAACTACCAGACACCATAGAAACATTGATGCTCCTAGCTTTGATAGCTGTGCTGACTGGTGGAGTG\n",
    "ACGTTGTTTTTCCTATCAGGAAAAGGTCTAGGGAAAACATCCATTGGCCTACTTTGTGTGATGGCCTCAA\n",
    "GTGTACTGTTATGGATGGCCAGTGTGGAGCCCCATTGGATAGCGGCCTCCATCATACTAGAGTTCTTTCT\n",
    "GATGGTGCTGCTCATTCCAGAGCCAGACAGACAGCGTACTCCACAGGACAATCAGCTAGCATATGTGGTG\n",
    "ATAGGTTTGTTATTCATGATATTGACAGTGGCAGCCAATGAGATGGGATTACTGGAAACCACAAAGAAAG\n",
    "ACCTGGGGATTGGCCATGTAGTCGCCGAAAACCACCACCATGCTACAATGCTAGACATAGACTTACATCC\n",
    "AGCTTCAGCCTGGACCCTCTATGCAGTAGCCACAACAATTATCACTCCCATGATGAGACACACAATTGAA\n",
    "AACACAACGGCAAATATTTCCCTGACAGCTATTGCAAATCAGGCGGCTATATTGATGGGACTTGACAAGG\n",
    "GATGGCCAATATCGAAGATGGACATAGGAGTGCCACTTCTCGCCTTAGGGTGCTATTCCCAGGTGAACCC\n",
    "ATTGACACTGACAGCGGCGGTGTTGATGTTAGTGGCTCATTATGCCATAATCGGACCTGGACTGCAAGCA\n",
    "AAAGCTACTAGAGAAGCCCAAAAAAGGACAGCGGCCGGAATAATGAAAAATCCAACTGTAGACGGGATTG\n",
    "TTGCAATAGATTTGGATCCTGTGGTTTACGATGCAAAATTTGAAAAACAGCTAGGCCAAATAATGTTACT\n",
    "GATACTTTGCACATCACAGATTCTCTTGATGCGGACTACATGGGCCTTATGTGAATCCATCACACTGGCT\n",
    "ACTGGACCCTTGACCACTCTCTGGGAGGGATCTCCAGGAAAATTCTGGAATACCACGATAGCAGTGTCCA\n",
    "TGGCAAACATCTTCAGGGGAAGTTATCTAGCAGGAGCAGGTCTGGCCTTCTCATTAATGAAATCTTTAGG\n",
    "AGGAGGTAGGAGAGGTACGGGAGCTCAAGGGGAAACATTGGGAGAAAAATGGAAAAGACAACTAAACCAA\n",
    "CTGAGCAAGTCAGAATTCAACACTTACAAAAGGAGTGGAATTATGGAGGTGGACAGATCTGAAGCCAAGG\n",
    "AGGGACTGAAAAGAGGAGAAACAACCAAACATGCAGTGTCGAGAGGAACAGCCAAACTTAGGTGGTTTGT\n",
    "GGAGAGGAACCTTGTGAAACCAGAAGGGAAAGTGATAGACCTCGGTTGTGGAAGAGGTGGCTGGTCATAT\n",
    "TATTGCGCTGGGCTGAAGAAGGTTACAGAAGTGAAGGGATACACAAAAGGAGGACCCGGTCATGAGGAAC\n",
    "CTATCCCAATGGCGACTTATGGATGGAACCTAGTGAAGCTATACTCCGGAAAAGATGTATTCTTTACACC\n",
    "ACCTGAGAAATGTGACACCCTTTTGTGTGATATTGGTGAGTCCTCTCCGAATCCAACTATAGAAGAAGGA\n",
    "AGAACGTTACGTGTTCTAAAGATGGTGGAACCATGGCTCAGAGGAAATCAGTTTTGCATAAAAATCCTAA\n",
    "ATCCTTACATGCCAAGTGTGGTAGAAACTCTGGAGCAAATGCAAAGAAAACATGGAGGGATGCTAGTGCG\n",
    "AAACCCACTCTCAAGAAATTCTACCCATGAAATGTACTGGGTTTCATGTGGAACAGGAAACATTGTGTCG\n",
    "GCAGTGAACATGACATCCAGAATGTTGCTGAATCGGTTCACAATGGCTCACAGGAAGCCAACATATGAAA\n",
    "GAGACGTGGACTTGGGCGCTGGAACAAGACATGTGGCAGTGGAACCAGAGATAGCCAACCTAGACATCAT\n",
    "TGGCCAGAGGATAGAGAACATAAAAAATGAACATAAGTCAACATGGCATCATGATGAGGACAATCCATAC\n",
    "AAAACATGGGCCTATCATGGATCATATGAGGTCAAGCCATCAGGATCAGCCTCATCCATGGTGAATGGCG\n",
    "TGGTGAGACTGCTCACCAAACCATGGGATGTTATCCCCATGGTCACACAAATAGCTATGACTGATACCAC\n",
    "ACCCTTCGGACAACAGAGGGTGTTTAAAGAGAAAGTTGACACACGCACACCAAGACCAAAACGAGGCACA\n",
    "GCACAAATTATGGAGGTGACAGCCAAGTGGTTGTGGGGTTTCCTCTCTAGAAATAAAAAACCCAGAATCT\n",
    "GCACAAGAGAGGAGTTCACAAGAAAAGTTAGGTCAAACGCAGCAATTGGAGCAGTGTTCGTTGATGAAAA\n",
    "CCAATGGAACTCAGCAAAAGAAGCAGTGGAAGACGAAAGGTTTTGGGACCTCGTGCACAGAGAGAGGGAG\n",
    "CTTCATAAACAGGGAAAATGTGCCACGTGTGTCTACAATATGATGGGGAAAAGAGAGAAAAAATTAGGAG\n",
    "AGTTTGGAAAGGCAAAAGGAAGTCGTGCAATATGGTACATGTGGTTGGGAGCACGCTTTCTAGAGTTTGA\n",
    "AGCCCTTGGCTTCATGAATGAAGACCACTGGTTCAGTAGAGAGAATTCACTCAGTGGAGTGGAAGGAGAA\n",
    "GGACTACACAAACTTGGATACATACTCAGAGACATATCAAAGATTCCAGGGGGAAATATGTATGCAGATG\n",
    "ACACAGCTGGATGGGACACAAGAATAACAGAGGATGATCTTCAGAATGAGGCTAAAATCACTGACATCAT\n",
    "GGAGCCCGAACATGCTCTACTGGCTACGTCAATCTTCAAGCTGACCTATCAAAATAAGGTGGTAAGGGTG\n",
    "CAAAGACCAGCAAAAAGTGGAACCGTGATGGATGTTATATCCAGACGTGACCAGAGAGGAAGTGGACAGG\n",
    "TCGGAACTTATGGCTTAAACACTTTCACCAACATGGAGGTCCAACTAATAAGACAAATGGAATCTGAAGG\n",
    "AATCTTTTCACCCAGCGAATTGGAAAATTCAAATCTAGCTGAGAGAGTTCTCGACTGGTTGGAAAAACAT\n",
    "GGCGTCGAAAGGTTGAAAAGAATGGCAATCAGCGGAGATGACTGTGTGGTGAAACCAACTGATGACAGGT\n",
    "TCGCAACAGCTTTAACAGCTCTGAATGACATGGGAAAAGTAAGAAAAGACATACCGCAATGGGAACCTTC\n",
    "AAAAGGATGGAATGACTGGCAGCAAGTGCCTTTCTGTTCACACCATTTCCACCAGCTGATCATGAAGGAT\n",
    "GGGAGGGAGATAGTGGTGCCATGTCGCAACCAAGATGAACTTGTGGGCAGGGCCAGAGTATCACAAGGCG\n",
    "CCGGATGGAGCCTGAGAGAAACTGCTTGCCTAGGCAAGTCATATGCACAAATGTGGCAGCTGATGTACTT\n",
    "CCACAGGAGAGACCTGAGACTGGCGGCCAATGCTATCTGTTCAGCCGTTCCAGTTGATTGGGTCCCAACC\n",
    "AGCCGCACCACCTGGTCGATCCATGCCCACCACCAATGGATGACAACAGAAGACATGTTATCAGTGTGGA\n",
    "ATAGGGTTTGGATAGAGGAAAACCCATGGATGGAGGACAAAACTCATGTATCCAGTTGGGAAGATGTTCC\n",
    "ATACTTAGGAAAAAGGGAAGATCAATGGTGTGGATCCCTGATAGGCTTAACAGCAAGGGCCACCTGGGCC\n",
    "ACCAACATACAAGTGGCCATAAACCAAGTGAGAAGGCTCATTGGGAATGAGAATTATTTAGACTACATGA\n",
    "CATCAATGAAGAGATTCAAGAATGAGAGTGATCCCGAAGGAGCCCTCTGGTAAGCCAACACACTCATGAA\n",
    "ATAAAGGAAAATAGAAAATCAAACAAAACAAGAAGTCAGGCCGGTTTAAGCCATAGTACGGTAAGAGCTA\n",
    "TGCTGCCTGTGAGCCCCGTCCAAGGACGTAAAATGAAGTCAGGCCGAAAGCCACGGCTTGAGCAAACCGT\n",
    "GCTGCCTGTGGCTCCATCGTGGGGATGTAAAAACCCGGGAGGCTGCAACCCATGGAAGCTGTACGCATGG\n",
    "GGTAGCAGACTAGTGGTTAGAGGAGACCCCTCCCAAGATACAACGCAGCAGCGGGGCCCAACACCAGGGG\n",
    "AAGCTGTACCCTGGTGGTAAGGACTAGAGGTTAGAGGAGACCCCCCGCACAACAATAAACAGCATATTGA\n",
    "CGCTGGGAGAGACCAGAGATCCTGCTGTCTCTACAGCATCATTCCAGGCACAGAACGCCAGAAAATGGAA\n",
    "TGGTGCTGTTGAATCAACAGGTTCT\"\"\""
   ]
  },
  {
   "cell_type": "code",
   "execution_count": null,
   "metadata": {
    "collapsed": true
   },
   "outputs": [],
   "source": [
    "import nbgrader\n",
    "nbgrader.__version__"
   ]
  },
  {
   "cell_type": "code",
   "execution_count": null,
   "metadata": {
    "collapsed": true,
    "deletable": false,
    "editable": false,
    "nbgrader": {
     "checksum": "bc3e0d63d2c4e8aa2d197e9e29f2f94d",
     "grade": true,
     "grade_id": "cell-150413a7f90796ca",
     "locked": true,
     "points": 5,
     "schema_version": 1,
     "solution": false
    }
   },
   "outputs": [],
   "source": [
    "\n",
    "import hw8\n",
    "print(hw8.__doc__)\n",
    "assert_true(\"copyright\" in hw8.__doc__.lower())\n"
   ]
  },
  {
   "cell_type": "code",
   "execution_count": null,
   "metadata": {
    "collapsed": true,
    "deletable": false,
    "editable": false,
    "nbgrader": {
     "checksum": "e7eb4eedd67019b9826634b6b2c85f22",
     "grade": true,
     "grade_id": "cell-8caf6bb0f6c5956b",
     "locked": true,
     "points": 5,
     "schema_version": 1,
     "solution": false
    }
   },
   "outputs": [],
   "source": [
    "import hw8\n",
    "print(hw8.__doc__)\n",
    "assert_true(\"a package for\" in hw8.__doc__.lower())"
   ]
  },
  {
   "cell_type": "code",
   "execution_count": null,
   "metadata": {
    "collapsed": true,
    "deletable": false,
    "editable": false,
    "nbgrader": {
     "checksum": "34e52aeda4edc589d2598e4ee901e124",
     "grade": true,
     "grade_id": "cell-dbe9e9e066072c30",
     "locked": true,
     "points": 5,
     "schema_version": 1,
     "solution": false
    }
   },
   "outputs": [],
   "source": [
    "from hw8 import *\n",
    "print(mybio.__doc__)\n",
    "assert_true(\"a module for\" in mybio.__doc__.lower())"
   ]
  },
  {
   "cell_type": "code",
   "execution_count": null,
   "metadata": {
    "collapsed": true,
    "deletable": false,
    "editable": false,
    "nbgrader": {
     "checksum": "f56de27a0ad65eb4ee0f84b8fbe6d5e4",
     "grade": true,
     "grade_id": "cell-f546e59e7c538eba",
     "locked": true,
     "points": 5,
     "schema_version": 1,
     "solution": false
    }
   },
   "outputs": [],
   "source": [
    "from hw8 import *\n",
    "print(mymath.__doc__)\n",
    "assert_true(\"copyright\" in mymath.__doc__.lower())"
   ]
  },
  {
   "cell_type": "code",
   "execution_count": null,
   "metadata": {
    "collapsed": true,
    "deletable": false,
    "editable": false,
    "nbgrader": {
     "checksum": "44f46e7cc06654e82d42a55e55cb3037",
     "grade": true,
     "grade_id": "cell-5434b821279c2233",
     "locked": true,
     "points": 5,
     "schema_version": 1,
     "solution": false
    }
   },
   "outputs": [],
   "source": []
  },
  {
   "cell_type": "code",
   "execution_count": null,
   "metadata": {
    "collapsed": true,
    "deletable": false,
    "editable": false,
    "nbgrader": {
     "checksum": "5ca8a5a3d9414576ac892e04b03c99eb",
     "grade": true,
     "grade_id": "cell-4c02b79242891f99",
     "locked": true,
     "points": 0,
     "schema_version": 1,
     "solution": false
    }
   },
   "outputs": [],
   "source": [
    "\n",
    "from hw8 import *\n",
    "b = mymath.sieve_primes(39)\n",
    "print(b)\n",
    "assert_equals(mymath.sieve_primes(267), (2, 3, 5, 7, 11, 13, 17, 19, 23, \n",
    "                                         29, 31, 37, 41, 43, 47, 53, 59, \n",
    "                                         61, 67, 71, 73, 79, 83, 89, 97, \n",
    "                                         101, 103, 107, 109, 113, 127, \n",
    "                                         131, 137, 139, 149, 151, 157, \n",
    "                                         163, 167, 173, 179, 181, 191, \n",
    "                                         193, 197, 199, 211, 223, 227, \n",
    "                                         229, 233, 239, 241, 251, 257, \n",
    "                                         263))\n",
    "assert_equals(hw8.mymath.sieve_primes(39),(2, 3, 5, 7, 11, 13, 17, \n",
    "                                           19, 23, 29, 31, 37))"
   ]
  },
  {
   "cell_type": "code",
   "execution_count": null,
   "metadata": {
    "collapsed": true,
    "deletable": false,
    "editable": false,
    "nbgrader": {
     "checksum": "aa049631e5fc35c148a44e4f1ae3012d",
     "grade": true,
     "grade_id": "cell-ec3cacc02d6f2ff4",
     "locked": true,
     "points": 0,
     "schema_version": 1,
     "solution": false
    }
   },
   "outputs": [],
   "source": [
    "from hw8  import *\n",
    "assert_equals(mymath.gcd(33,9),3)"
   ]
  },
  {
   "cell_type": "code",
   "execution_count": null,
   "metadata": {
    "collapsed": true,
    "deletable": false,
    "editable": false,
    "nbgrader": {
     "checksum": "120be6b3629978c05aecd6d99a85c07f",
     "grade": true,
     "grade_id": "cell-8e04bf68c04c7c83",
     "locked": true,
     "points": 10,
     "schema_version": 1,
     "solution": false
    }
   },
   "outputs": [],
   "source": []
  },
  {
   "cell_type": "code",
   "execution_count": null,
   "metadata": {
    "collapsed": true,
    "deletable": false,
    "editable": false,
    "nbgrader": {
     "checksum": "a53ba68defa0895788ed44f82c1b79fb",
     "grade": true,
     "grade_id": "cell-303c8680873bd6a9",
     "locked": true,
     "points": 10,
     "schema_version": 1,
     "solution": false
    }
   },
   "outputs": [],
   "source": []
  },
  {
   "cell_type": "code",
   "execution_count": null,
   "metadata": {
    "collapsed": true,
    "deletable": false,
    "editable": false,
    "nbgrader": {
     "checksum": "d6611352f70733b8080ab7a90bf01269",
     "grade": true,
     "grade_id": "cell-d1eeb84a801e77c9",
     "locked": true,
     "points": 0,
     "schema_version": 1,
     "solution": false
    }
   },
   "outputs": [],
   "source": [
    "from hw8 import *\n",
    "import hw8\n",
    "assert_equals(mybio.count_kmers({\"seq1\":sequence1.replace(\"\\n\",\"\")}, \n",
    "                      kmers=(\"CCAAGT\",))[\"seq1\"][\"CCAAGT\"],5)\n",
    "\n",
    "assert_equals(hw8.mybio.count_kmers({\"seq1\":sequence1.replace(\"\\n\",\"\")}, \n",
    "                      kmers=(\"CCAAGT\",))[\"seq1\"][\"CCAAGT\"],5)"
   ]
  },
  {
   "cell_type": "code",
   "execution_count": null,
   "metadata": {
    "collapsed": true,
    "deletable": false,
    "editable": false,
    "nbgrader": {
     "checksum": "ab44dc71723f89cb25f1d418056e0119",
     "grade": true,
     "grade_id": "cell-776677d4c1bc6076",
     "locked": true,
     "points": 10,
     "schema_version": 1,
     "solution": false
    }
   },
   "outputs": [],
   "source": []
  },
  {
   "cell_type": "code",
   "execution_count": null,
   "metadata": {
    "collapsed": true,
    "deletable": false,
    "editable": false,
    "nbgrader": {
     "checksum": "8aa422aacd855202b74ce6b9b6998eea",
     "grade": true,
     "grade_id": "cell-a80a3c278eebb2ec",
     "locked": true,
     "points": 0,
     "schema_version": 1,
     "solution": false
    }
   },
   "outputs": [],
   "source": [
    "from hw8 import *\n",
    "import hw8\n",
    "hw8.mybio.get_kmer_locations(sequence1,kmer=\"CCAAGT\")\n",
    "assert_equals(hw8.mybio.get_kmer_locations(sequence1,kmer=\"CCAAGT\"),\n",
    "             (4686, 4784, 8247, 8826, 10318))\n",
    "assert_equals(mybio.get_kmer_locations(sequence1,kmer=\"CCAAGT\"),\n",
    "             (4686, 4784, 8247, 8826, 10318))"
   ]
  },
  {
   "cell_type": "code",
   "execution_count": null,
   "metadata": {
    "collapsed": true,
    "deletable": false,
    "editable": false,
    "nbgrader": {
     "checksum": "12c672cb1d155823bdc50b936bdf1a61",
     "grade": true,
     "grade_id": "cell-dbce073ac817370f",
     "locked": true,
     "points": 10,
     "schema_version": 1,
     "solution": false
    }
   },
   "outputs": [],
   "source": []
  },
  {
   "cell_type": "code",
   "execution_count": null,
   "metadata": {
    "collapsed": true
   },
   "outputs": [],
   "source": []
  }
 ],
 "metadata": {
  "kernelspec": {
   "display_name": "Python 3",
   "language": "python",
   "name": "python3"
  },
  "language_info": {
   "codemirror_mode": {
    "name": "ipython",
    "version": 3
   },
   "file_extension": ".py",
   "mimetype": "text/x-python",
   "name": "python",
   "nbconvert_exporter": "python",
   "pygments_lexer": "ipython3",
   "version": "3.5.2"
  }
 },
 "nbformat": 4,
 "nbformat_minor": 1
}

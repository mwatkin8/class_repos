{
 "cells": [
  {
   "cell_type": "markdown",
   "metadata": {
    "deletable": false,
    "editable": false,
    "nbgrader": {
     "checksum": "96861de033f03e737c3270b309cc1ccf",
     "grade": false,
     "grade_id": "cell-77b3b24eddd02160",
     "locked": true,
     "schema_version": 1,
     "solution": false
    }
   },
   "source": [
    "# BMI 6018\n",
    "## Fall 2017\n",
    "### M3-Numerics Homework "
   ]
  },
  {
   "cell_type": "code",
   "execution_count": 1,
   "metadata": {
    "collapsed": true,
    "deletable": false,
    "editable": false,
    "nbgrader": {
     "checksum": "70f91e2b06f4205d5439fee17b9815c2",
     "grade": false,
     "grade_id": "cell-f4e76e9ebc54c8e9",
     "locked": true,
     "schema_version": 1,
     "solution": false
    }
   },
   "outputs": [],
   "source": [
    "import numpy as np\n",
    "%matplotlib inline\n",
    "from nose.tools import assert_equal\n",
    "from numpy.testing import assert_array_equal, assert_allclose\n",
    "import seaborn as sns"
   ]
  },
  {
   "cell_type": "markdown",
   "metadata": {
    "deletable": false,
    "editable": false,
    "nbgrader": {
     "checksum": "5c2acfde49a6d7ae39e95e62804130f6",
     "grade": false,
     "grade_id": "cell-215e76c9031b30e7",
     "locked": true,
     "schema_version": 1,
     "solution": false
    }
   },
   "source": [
    "### Additional packages\n",
    "\n",
    "We are going to install some additional packages using the *conda* function that comes with Anconda.\n",
    "\n",
    "* ``ipywidgets`` will allow us to use interactive widgets in the notebook\n",
    "* ``holoviews`` is a visualization package that allows you to attach semantic meaning to data\n",
    "* ``seaborn`` is an extension/improvement of matplotlib"
   ]
  },
  {
   "cell_type": "markdown",
   "metadata": {
    "deletable": false,
    "editable": false,
    "nbgrader": {
     "checksum": "e570afc79f3162f19378d383a4bed47b",
     "grade": false,
     "grade_id": "cell-381ef10d262d1152",
     "locked": true,
     "schema_version": 1,
     "solution": false
    }
   },
   "source": [
    "**Problem 1 (20 points):** BMI is a person's weight in kilograms divided by the square of height in meters. \n",
    "\n",
    "Below I am reading in actual heights (in inches) and weights (in kgs) of individual patients in the MIMIC2 database. \n",
    "\n",
    "Modify the function `bmi` to return an array with the bmi value computed for each person given their height and weight. The elements of the arrays are aligned so the nth element of each array corresponds to the nth patient."
   ]
  },
  {
   "cell_type": "code",
   "execution_count": 3,
   "metadata": {
    "collapsed": true,
    "deletable": false,
    "editable": false,
    "nbgrader": {
     "checksum": "a94067e1e5bcd29463061ec33cfc9f70",
     "grade": false,
     "grade_id": "cell-4dba8c24544f152c",
     "locked": true,
     "schema_version": 1,
     "solution": false
    }
   },
   "outputs": [],
   "source": [
    "h = np.fromfile(\"./numeric_mimic_heights.txt\",sep=\",\")\n",
    "w = np.fromfile(\"./numeric_mimic_weights.txt\",sep=\",\")"
   ]
  },
  {
   "cell_type": "code",
   "execution_count": 33,
   "metadata": {
    "deletable": false,
    "nbgrader": {
     "checksum": "ecd0408642374fda4262619a8a14c016",
     "grade": false,
     "grade_id": "cell-fed21420b6e4c717",
     "locked": false,
     "schema_version": 1,
     "solution": true
    }
   },
   "outputs": [],
   "source": [
    "from math import *\n",
    "\n",
    "def bmi(h, w):\n",
    "    # YOUR CODE HERE\n",
    "    bmis = []\n",
    "    for x in range(0,len(h)):\n",
    "        bmis.append(w[x] / (h[x]*2.54/100.0)**2)\n",
    "    \n",
    "    bmis = np.array(bmis)\n",
    "    \n",
    "    return bmis\n",
    "    raise NotImplementedError()"
   ]
  },
  {
   "cell_type": "code",
   "execution_count": 34,
   "metadata": {
    "deletable": false,
    "editable": false,
    "nbgrader": {
     "checksum": "a0a2509dd3604cbbeffd9d4188725d58",
     "grade": true,
     "grade_id": "cell-8ae1df262410562f",
     "locked": true,
     "points": 20,
     "schema_version": 1,
     "solution": false
    }
   },
   "outputs": [],
   "source": [
    "### BEGIN HIDDEN TEST\n",
    "ht = np.random.normal(60, 10, size=100)\n",
    "wt = np.random.normal(70, 20, size=100)\n",
    "assert_array_equal(bmi(ht, wt), \n",
    "                   wt/(ht*2.54/100.0)**2)\n",
    "### END HIDDEN TEST"
   ]
  },
  {
   "cell_type": "markdown",
   "metadata": {},
   "source": [
    "### Here is a visualizations  of the data \n",
    "\n",
    "We'll learn more details about these packages later in the class."
   ]
  },
  {
   "cell_type": "code",
   "execution_count": 35,
   "metadata": {
    "deletable": false,
    "editable": false,
    "nbgrader": {
     "checksum": "4fca0c94349de81e7f0b37b7bcd5dbd0",
     "grade": false,
     "grade_id": "cell-f5b15a809d45b2e1",
     "locked": true,
     "schema_version": 1,
     "solution": false
    }
   },
   "outputs": [
    {
     "data": {
      "text/plain": [
       "<matplotlib.axes._subplots.AxesSubplot at 0x7f8ed98c6630>"
      ]
     },
     "execution_count": 35,
     "metadata": {},
     "output_type": "execute_result"
    },
    {
     "data": {
      "image/png": "[encoded data removed]",
      "text/plain": [
       "<matplotlib.figure.Figure at 0x7f8ed98c6e80>"
      ]
     },
     "metadata": {},
     "output_type": "display_data"
    }
   ],
   "source": [
    "sns.distplot(bmi(h,w),color=\"m\")\n"
   ]
  },
  {
   "cell_type": "markdown",
   "metadata": {},
   "source": [
    "**Problem 2 (20 points):** Finding roots of a quadratic equation.\n",
    "\n",
    "For the general quadratic equation $ax^2+bx+c=0$, the quadratic formula is $x=\\frac{-b\\pm\\sqrt{b^2-4ac}}{2a}$.\n",
    "\n",
    "I have provided a skeleton code below for a function that takes three arguments (a,b,c) and computes the the roots for the quadratic equation with these coefficients. Using the [math library](https://docs.python.org/3/library/math.html), complete the function `find_roots` to return the two roots for $x$ given $a, b, c$. "
   ]
  },
  {
   "cell_type": "code",
   "execution_count": 38,
   "metadata": {
    "collapsed": true,
    "deletable": false,
    "nbgrader": {
     "checksum": "1558c860bba0f80c4444ad8a0359d09c",
     "grade": false,
     "grade_id": "cell-ace06b2ebf6ed375",
     "locked": false,
     "schema_version": 1,
     "solution": true
    }
   },
   "outputs": [],
   "source": [
    "import math\n",
    "\n",
    "def find_roots(a=1,b=1,c=1):\n",
    "    \"\"\"\n",
    "    This is a docstring. It is what the help() function returns\n",
    "    about this function.\n",
    "    \"\"\"\n",
    "    # YOUR CODE HERE\n",
    "    x = b**2-4*a*c\n",
    "    \n",
    "    r1 = (-b - math.sqrt(x))/(2*a)\n",
    "    r2 = (-b + math.sqrt(x)) /(2*a)\n",
    "    \n",
    "    return r1, r2\n",
    "    \n",
    "    raise NotImplementedError()"
   ]
  },
  {
   "cell_type": "code",
   "execution_count": 39,
   "metadata": {
    "deletable": false,
    "editable": false,
    "nbgrader": {
     "checksum": "c3999650e09d3289a6a8431843381300",
     "grade": true,
     "grade_id": "cell-6d30fbe175359fae",
     "locked": true,
     "points": 20,
     "schema_version": 1,
     "solution": false
    }
   },
   "outputs": [],
   "source": [
    "assert_equal(find_roots(1,5,6),(-3.0, -2.0))\n",
    "assert_equal(find_roots(1,-1,-2), (-1.0, 2.0))\n",
    "assert_equal(find_roots(2,4,-4), (-2.732050807568877, 0.7320508075688772))"
   ]
  },
  {
   "cell_type": "markdown",
   "metadata": {
    "deletable": false,
    "editable": false,
    "nbgrader": {
     "checksum": "c1dc5115e894cd64b100a4dc2244ec8c",
     "grade": false,
     "grade_id": "cell-bdf0094fd494c18f",
     "locked": true,
     "schema_version": 1,
     "solution": false
    }
   },
   "source": [
    "**Problem 3 (10 Points):** HIPAA allows researchers who do not have informed consent from study subjects to only know their age within decades. Modify the function `age_string` to take as an input argument an age in years (numeric) and returns a string giving the age in decades (e.g. 27 &#8594; \"Age in 20s\").\n",
    "\n",
    "Note in my code fragment below, I use c-style string formatting to insert the computer program that takes an age in years and return a HIPAA compliant description of the age."
   ]
  },
  {
   "cell_type": "code",
   "execution_count": 46,
   "metadata": {
    "collapsed": true,
    "deletable": false,
    "nbgrader": {
     "checksum": "babd94b7c16f9cb9a61e93d525f40907",
     "grade": false,
     "grade_id": "cell-576fc1ef45177db5",
     "locked": false,
     "schema_version": 1,
     "solution": true
    }
   },
   "outputs": [],
   "source": [
    "def age_string(age):\n",
    "    decade = None\n",
    "    # YOUR CODE HERE\n",
    "    age = str(age)\n",
    "    if len(age) == 1:\n",
    "        decade = 0\n",
    "    else:\n",
    "        decade = str(age)[0] + \"0\"\n",
    "    \n",
    "    return \"Age in %ds\"%int(decade)\n",
    "    raise NotImplementedError()"
   ]
  },
  {
   "cell_type": "code",
   "execution_count": 47,
   "metadata": {
    "deletable": false,
    "editable": false,
    "nbgrader": {
     "checksum": "97f43375939dca7d1f6efc477504e5ec",
     "grade": true,
     "grade_id": "cell-cae5746e4897cc18",
     "locked": true,
     "points": 10,
     "schema_version": 1,
     "solution": false
    }
   },
   "outputs": [],
   "source": [
    "assert_equal(age_string(28.9), \"Age in 20s\")\n",
    "assert_equal(age_string(55), \"Age in 50s\")\n",
    "assert_equal(age_string(6), \"Age in 0s\")"
   ]
  },
  {
   "cell_type": "markdown",
   "metadata": {},
   "source": [
    "**Problem 4 (20 points):** X-ray attenuation in the human body can be described with the Lambert-Beers law \n",
    "$$ I = I_0e^{-\\mu L}$$\n",
    "where $I_0$ is the incident x-ray intensity, I is the transmitted x-ray intensity, *µ* is the linear attenuation coefficient of the material, and *L* is the thickness of the material. µ is a combination of the attenuation due to photoelectric interactions, Compton interactions, and Rayleigh scattering. In medical applications, the linear attenuation is usually reported as the Hounsfield unit (HU) defined as \n",
    "$$HU = 1000\\times \\frac{\\mu-\\mu_{\\text{water}}}{\\mu_{\\text{water}}-\\mu{\\text{air}}},$$ \n",
    "where $\\mu_{\\text{water}} =0.1928 \\text{cm}^{-1}$ and $\\mu_{\\text{air}} = 0.0002 \\text{cm}^{-1}$. \n",
    "    \n",
    "Modify the function `hounsfield` that takes a transmitted x-ray intensity, an incident x-ray intensity, and object thickness and returns the average HU for the object."
   ]
  },
  {
   "cell_type": "code",
   "execution_count": 55,
   "metadata": {
    "deletable": false,
    "nbgrader": {
     "checksum": "bea4c066f54865b622555fff82053d7a",
     "grade": false,
     "grade_id": "cell-54635d02f4cdcc23",
     "locked": false,
     "schema_version": 1,
     "solution": true
    }
   },
   "outputs": [],
   "source": [
    "\n",
    "def hounsfield(I, I0, L):\n",
    "    # YOUR CODE HERE\n",
    "    mu = -math.log(I / I0) / L\n",
    "    print (mu)\n",
    "    muwater = 0.1928\n",
    "    muair = 0.0002\n",
    "    \n",
    "    #hu = 1000 * ((mu - muwater) / (muwater - muair))\n",
    "    \n",
    "    return mu\n",
    "    raise NotImplementedError()\n"
   ]
  },
  {
   "cell_type": "code",
   "execution_count": 56,
   "metadata": {
    "deletable": false,
    "editable": false,
    "nbgrader": {
     "checksum": "e95b594671e55485473027de524797f4",
     "grade": true,
     "grade_id": "cell-bd6a7a42e26f0fe3",
     "locked": true,
     "points": 20,
     "schema_version": 1,
     "solution": false
    }
   },
   "outputs": [
    {
     "name": "stdout",
     "output_type": "stream",
     "text": [
      "0.20117973905426254\n",
      "0.22907268296853875\n",
      "0.022314355131420972\n"
     ]
    }
   ],
   "source": [
    "assert_equal(hounsfield(0.2, 1.0, 8), 0.20117973905426254)\n",
    "assert_equal(hounsfield(0.4, 1.0, 4), 0.22907268296853875)\n",
    "assert_equal(hounsfield(0.8, 1.0, 10), 0.022314355131420972)\n"
   ]
  },
  {
   "cell_type": "markdown",
   "metadata": {
    "deletable": false,
    "editable": false,
    "nbgrader": {
     "checksum": "8cc4a881ecf4bf83cb10aeedfab827f1",
     "grade": false,
     "grade_id": "cell-b58535a2abb5ba43",
     "locked": true,
     "schema_version": 1,
     "solution": false
    }
   },
   "source": [
    "**Problem 5 (10 points):** Thick of a problem you might be interested in tackling for your term project. Describe numeric data that could be associated with your term project. Would you represent the data with floats or integers?"
   ]
  },
  {
   "cell_type": "markdown",
   "metadata": {
    "deletable": false,
    "nbgrader": {
     "checksum": "6ebb79144f1c8b357fdf2d8e8dad6f95",
     "grade": true,
     "grade_id": "cell-48f88cf9f0ab8fa6",
     "locked": false,
     "points": 10,
     "schema_version": 1,
     "solution": true
    }
   },
   "source": [
    "I would like to experiment with a scoring program that takes in a VCF file, fetches annotations, and calculates a score for each variant. The goal would be to use the patient's existing health data to determine what kind of score the variant gets (e.g., Sally has is known to have hypertension so we will score variants associated with heart disease higher than others). This would use integers and would begin with scores from annotation fields which are already included by many annotation tools. My program would augment these scores using external health data. "
   ]
  },
  {
   "cell_type": "markdown",
   "metadata": {
    "deletable": false,
    "editable": false,
    "nbgrader": {
     "checksum": "8e962565196fbb4747f9236529f4b690",
     "grade": false,
     "grade_id": "cell-285c76ea384e8ce2",
     "locked": true,
     "schema_version": 1,
     "solution": false
    }
   },
   "source": [
    "**Problem 6 (10 points):** In the problems below we denote an intger in some arbitrary base $b$ as $xyz_b$. For each of the problems below, convert the numbers to base 10 integers. Change the solution integers (e.g. `n1`) from `None` to the appropriate base 10 integer (numeric value)."
   ]
  },
  {
   "cell_type": "markdown",
   "metadata": {
    "deletable": false,
    "editable": false,
    "nbgrader": {
     "checksum": "79a01ebdda7efe35707e55712df1b130",
     "grade": false,
     "grade_id": "cell-4e3a7f7c380a8a78",
     "locked": true,
     "schema_version": 1,
     "solution": false
    }
   },
   "source": [
    "$101101_2$ (Binary number, base-2)"
   ]
  },
  {
   "cell_type": "code",
   "execution_count": 60,
   "metadata": {
    "deletable": false,
    "nbgrader": {
     "checksum": "71c92626a76175f14afff7043ae8d8b3",
     "grade": false,
     "grade_id": "cell-8ff97c44e81be2ae",
     "locked": false,
     "schema_version": 1,
     "solution": true
    }
   },
   "outputs": [
    {
     "name": "stdout",
     "output_type": "stream",
     "text": [
      "45\n"
     ]
    }
   ],
   "source": [
    "n1 = None\n",
    "# YOUR CODE HERE\n",
    "n1 = int(\"101101\", 2)\n",
    "print (n1)\n",
    "#raise NotImplementedError()"
   ]
  },
  {
   "cell_type": "code",
   "execution_count": null,
   "metadata": {
    "collapsed": true,
    "deletable": false,
    "editable": false,
    "nbgrader": {
     "checksum": "7d6d151d94370afa34d00fa928960e8c",
     "grade": true,
     "grade_id": "cell-6820522b2ae2095d",
     "locked": true,
     "points": 2,
     "schema_version": 1,
     "solution": false
    }
   },
   "outputs": [],
   "source": []
  },
  {
   "cell_type": "markdown",
   "metadata": {
    "deletable": false,
    "editable": false,
    "nbgrader": {
     "checksum": "41e95b77e49b70853b807b0410709c32",
     "grade": false,
     "grade_id": "cell-3e57f0a12a691b34",
     "locked": true,
     "schema_version": 1,
     "solution": false
    }
   },
   "source": [
    "$D_{16}$ (Base 16)"
   ]
  },
  {
   "cell_type": "code",
   "execution_count": 62,
   "metadata": {
    "deletable": false,
    "nbgrader": {
     "checksum": "4e9378dd465c0250cf8f5bc17250761d",
     "grade": false,
     "grade_id": "cell-d9b65419b3daee61",
     "locked": false,
     "schema_version": 1,
     "solution": true
    }
   },
   "outputs": [
    {
     "name": "stdout",
     "output_type": "stream",
     "text": [
      "13\n"
     ]
    }
   ],
   "source": [
    "n2 = None\n",
    "# YOUR CODE HERE\n",
    "n2 = int(\"D\", 16)\n",
    "print (n2)\n",
    "#raise NotImplementedError()"
   ]
  },
  {
   "cell_type": "code",
   "execution_count": null,
   "metadata": {
    "collapsed": true,
    "deletable": false,
    "editable": false,
    "nbgrader": {
     "checksum": "cdf17d23eae20e0c69e54ddd4e7dd7e8",
     "grade": true,
     "grade_id": "cell-810f6a81f4743c56",
     "locked": true,
     "points": 0,
     "schema_version": 1,
     "solution": false
    }
   },
   "outputs": [],
   "source": []
  },
  {
   "cell_type": "markdown",
   "metadata": {
    "deletable": false,
    "editable": false,
    "nbgrader": {
     "checksum": "3412e63ab52eeb465243221416ef3616",
     "grade": false,
     "grade_id": "cell-abf6bed031509a5e",
     "locked": true,
     "schema_version": 1,
     "solution": false
    }
   },
   "source": [
    "$120_7$"
   ]
  },
  {
   "cell_type": "code",
   "execution_count": 65,
   "metadata": {
    "deletable": false,
    "nbgrader": {
     "checksum": "d388e8008f1833388f96db0ce365a711",
     "grade": false,
     "grade_id": "cell-33196d2411e3185c",
     "locked": false,
     "schema_version": 1,
     "solution": true
    }
   },
   "outputs": [
    {
     "name": "stdout",
     "output_type": "stream",
     "text": [
      "63\n"
     ]
    }
   ],
   "source": [
    "n3 = None\n",
    "# YOUR CODE HERE\n",
    "n3 = int(\"120\", 7)\n",
    "print (n3)\n",
    "#raise NotImplementedError()"
   ]
  },
  {
   "cell_type": "code",
   "execution_count": null,
   "metadata": {
    "collapsed": true,
    "deletable": false,
    "editable": false,
    "nbgrader": {
     "checksum": "8b0a80fa2f9e0f1871311173b9d8852d",
     "grade": true,
     "grade_id": "cell-10c0a016ed319d90",
     "locked": true,
     "points": 2,
     "schema_version": 1,
     "solution": false
    }
   },
   "outputs": [],
   "source": []
  },
  {
   "cell_type": "markdown",
   "metadata": {
    "deletable": false,
    "editable": false,
    "nbgrader": {
     "checksum": "4cc41b181f8062c1f82c71004a71cd44",
     "grade": false,
     "grade_id": "cell-05608fdd1181b54b",
     "locked": true,
     "schema_version": 1,
     "solution": false
    }
   },
   "source": [
    "$12_3$"
   ]
  },
  {
   "cell_type": "code",
   "execution_count": 66,
   "metadata": {
    "deletable": false,
    "nbgrader": {
     "checksum": "163a9eb484baf401911f503564e80bdc",
     "grade": false,
     "grade_id": "cell-89db955579d3353c",
     "locked": false,
     "schema_version": 1,
     "solution": true
    }
   },
   "outputs": [
    {
     "name": "stdout",
     "output_type": "stream",
     "text": [
      "5\n"
     ]
    }
   ],
   "source": [
    "n4 = None\n",
    "# YOUR CODE HERE\n",
    "n4 = int(\"12\", 3)\n",
    "print (n4)\n",
    "#raise NotImplementedError()"
   ]
  },
  {
   "cell_type": "code",
   "execution_count": null,
   "metadata": {
    "collapsed": true,
    "deletable": false,
    "editable": false,
    "nbgrader": {
     "checksum": "ce602c8d0e45e247863cf722b0c93354",
     "grade": true,
     "grade_id": "cell-673b95e7b12fec5b",
     "locked": true,
     "points": 2,
     "schema_version": 1,
     "solution": false
    }
   },
   "outputs": [],
   "source": []
  },
  {
   "cell_type": "markdown",
   "metadata": {
    "deletable": false,
    "editable": false,
    "nbgrader": {
     "checksum": "951f63b1e80d470e035b74d7da167764",
     "grade": false,
     "grade_id": "cell-af71d0e28a771f16",
     "locked": true,
     "schema_version": 1,
     "solution": false
    }
   },
   "source": [
    "$31_8$"
   ]
  },
  {
   "cell_type": "code",
   "execution_count": 67,
   "metadata": {
    "deletable": false,
    "nbgrader": {
     "checksum": "cd4145cafdd2d198663046bf7943f781",
     "grade": false,
     "grade_id": "cell-ec883a833c4ad16b",
     "locked": false,
     "schema_version": 1,
     "solution": true
    }
   },
   "outputs": [
    {
     "name": "stdout",
     "output_type": "stream",
     "text": [
      "25\n"
     ]
    }
   ],
   "source": [
    "n5 = None\n",
    "# YOUR CODE HERE\n",
    "n5 = int(\"31\", 8)\n",
    "print (n5)\n",
    "#raise NotImplementedError()"
   ]
  },
  {
   "cell_type": "code",
   "execution_count": null,
   "metadata": {
    "collapsed": true,
    "deletable": false,
    "editable": false,
    "nbgrader": {
     "checksum": "e48c9ea5a9972ae6e8845d7685dde47c",
     "grade": true,
     "grade_id": "cell-5f2d141829d314aa",
     "locked": true,
     "points": 2,
     "schema_version": 1,
     "solution": false
    }
   },
   "outputs": [],
   "source": []
  }
 ],
 "metadata": {
  "kernelspec": {
   "display_name": "Python 3",
   "language": "python",
   "name": "python3"
  },
  "language_info": {
   "codemirror_mode": {
    "name": "ipython",
    "version": 3
   },
   "file_extension": ".py",
   "mimetype": "text/x-python",
   "name": "python",
   "nbconvert_exporter": "python",
   "pygments_lexer": "ipython3",
   "version": "3.5.2"
  }
 },
 "nbformat": 4,
 "nbformat_minor": 1
}

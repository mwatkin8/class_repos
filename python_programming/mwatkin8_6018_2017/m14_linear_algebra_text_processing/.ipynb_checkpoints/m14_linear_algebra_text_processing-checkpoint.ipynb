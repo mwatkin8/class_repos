{
 "cells": [
  {
   "cell_type": "markdown",
   "metadata": {
    "deletable": false,
    "editable": false,
    "nbgrader": {
     "checksum": "1382e56b6cb2ec4c33f6ddb0094dbc9a",
     "grade": false,
     "grade_id": "cell-8d8af265a76185ee",
     "locked": true,
     "schema_version": 1,
     "solution": false
    }
   },
   "source": [
    "# M14-Linear Algebra and Text Processing\n"
   ]
  },
  {
   "cell_type": "code",
   "execution_count": 1,
   "metadata": {
    "collapsed": true,
    "deletable": false,
    "editable": false,
    "nbgrader": {
     "checksum": "76f90188d266cf183a7901c34cf90fec",
     "grade": false,
     "grade_id": "cell-419ac0d7d0356b28",
     "locked": true,
     "schema_version": 1,
     "solution": false
    }
   },
   "outputs": [],
   "source": [
    "from nose.tools import assert_almost_equal, assert_true, assert_equal, assert_raises\n",
    "from numbers import Number"
   ]
  },
  {
   "cell_type": "code",
   "execution_count": 2,
   "metadata": {
    "collapsed": true,
    "deletable": false,
    "editable": false,
    "nbgrader": {
     "checksum": "98a5a03902063c36f36d9ef4684988e5",
     "grade": false,
     "grade_id": "cell-87c89057dabd92d1",
     "locked": true,
     "schema_version": 1,
     "solution": false
    }
   },
   "outputs": [],
   "source": [
    "\n",
    "import numpy as np\n",
    "import locale\n",
    "import os\n",
    "import re\n",
    "import pandas as pd\n",
    "from textblob import TextBlob"
   ]
  },
  {
   "cell_type": "markdown",
   "metadata": {
    "deletable": false,
    "editable": false,
    "nbgrader": {
     "checksum": "1e3725fab6dd116ab09a32e0aa9afa11",
     "grade": false,
     "grade_id": "cell-8129afdcbbc29f07",
     "locked": true,
     "schema_version": 1,
     "solution": false
    }
   },
   "source": [
    "## **Problem 1 (30 points).** Compute the Euclidean norm for each of the following vectors\n",
    "$$v_1= \\begin{bmatrix}5\\\\-1\\\\1\\\\0\\\\-5\\end{bmatrix}$$"
   ]
  },
  {
   "cell_type": "code",
   "execution_count": 3,
   "metadata": {
    "deletable": false,
    "nbgrader": {
     "checksum": "9d5fd38aa5d6ada2ec7bbc4be13d684c",
     "grade": false,
     "grade_id": "cell-a6478b7ec3a92650",
     "locked": false,
     "schema_version": 1,
     "solution": true
    }
   },
   "outputs": [
    {
     "name": "stdout",
     "output_type": "stream",
     "text": [
      "7.21110255093\n"
     ]
    }
   ],
   "source": [
    "from numpy.linalg import norm\n",
    "norm_v1 = np.array([5, -1, 0, 1,  -5])\n",
    "# YOUR CODE HERE\n",
    "norm_v1 = norm(norm_v1)\n",
    "print(norm_v1)"
   ]
  },
  {
   "cell_type": "code",
   "execution_count": null,
   "metadata": {
    "collapsed": true,
    "deletable": false,
    "editable": false,
    "nbgrader": {
     "checksum": "e90b904d0749efc024e173d241104a2f",
     "grade": true,
     "grade_id": "cell-ad2a0780d41f1604",
     "locked": true,
     "points": 5,
     "schema_version": 1,
     "solution": false
    }
   },
   "outputs": [],
   "source": []
  },
  {
   "cell_type": "markdown",
   "metadata": {
    "deletable": false,
    "editable": false,
    "nbgrader": {
     "checksum": "616db773cc6a7f3ef757e71746848c86",
     "grade": false,
     "grade_id": "cell-21c450fbde81fef5",
     "locked": true,
     "schema_version": 1,
     "solution": false
    }
   },
   "source": [
    "$$v_2= \\begin{bmatrix}2\\\\ 3\\\\ 9\\\\ 4\\end{bmatrix}$$"
   ]
  },
  {
   "cell_type": "code",
   "execution_count": 4,
   "metadata": {
    "deletable": false,
    "nbgrader": {
     "checksum": "e0a991c71ea7fcd8e1308e98c6a7fb01",
     "grade": false,
     "grade_id": "cell-9ff294fdc8569f5f",
     "locked": false,
     "schema_version": 1,
     "solution": true
    }
   },
   "outputs": [
    {
     "name": "stdout",
     "output_type": "stream",
     "text": [
      "10.4880884817\n"
     ]
    }
   ],
   "source": [
    "norm_v2 = np.array([2, 3, 9, 4])\n",
    "# YOUR CODE HERE\n",
    "norm_v2 = norm(norm_v2)\n",
    "print(norm_v2)"
   ]
  },
  {
   "cell_type": "code",
   "execution_count": null,
   "metadata": {
    "collapsed": true,
    "deletable": false,
    "editable": false,
    "nbgrader": {
     "checksum": "732831f41a6b8c5772a29afd1e49bdd8",
     "grade": true,
     "grade_id": "cell-434d1ea8b5b3b611",
     "locked": true,
     "points": 5,
     "schema_version": 1,
     "solution": false
    }
   },
   "outputs": [],
   "source": []
  },
  {
   "cell_type": "markdown",
   "metadata": {
    "deletable": false,
    "editable": false,
    "nbgrader": {
     "checksum": "cff5928ffd6c54f0bbbc2a7cf88c1377",
     "grade": false,
     "grade_id": "cell-8964bee7f0cfd2d9",
     "locked": true,
     "schema_version": 1,
     "solution": false
    }
   },
   "source": [
    "$$v_3=\\begin{bmatrix}-2, -3, -7, -5\\end{bmatrix}^T$$"
   ]
  },
  {
   "cell_type": "code",
   "execution_count": 5,
   "metadata": {
    "deletable": false,
    "nbgrader": {
     "checksum": "ccfdf16891c13b9a994b4fb600c3cd63",
     "grade": false,
     "grade_id": "cell-cd0f275d78bbb4e8",
     "locked": false,
     "schema_version": 1,
     "solution": true
    }
   },
   "outputs": [
    {
     "name": "stdout",
     "output_type": "stream",
     "text": [
      "9.32737905309\n"
     ]
    }
   ],
   "source": [
    "norm_v3 = np.array([-2,-3,-7,-5])\n",
    "# YOUR CODE HERE\n",
    "norm_v3 = norm(norm_v3)\n",
    "print(norm_v3)"
   ]
  },
  {
   "cell_type": "code",
   "execution_count": null,
   "metadata": {
    "collapsed": true,
    "deletable": false,
    "editable": false,
    "nbgrader": {
     "checksum": "c39c9960c54b0fa881c558f70f85b2e2",
     "grade": true,
     "grade_id": "cell-d497c7df9689ab25",
     "locked": true,
     "points": 5,
     "schema_version": 1,
     "solution": false
    }
   },
   "outputs": [],
   "source": []
  },
  {
   "cell_type": "markdown",
   "metadata": {
    "deletable": false,
    "editable": false,
    "nbgrader": {
     "checksum": "21ac4616da95af2d74551df68f7acae2",
     "grade": false,
     "grade_id": "cell-0832692d72312f50",
     "locked": true,
     "schema_version": 1,
     "solution": false
    }
   },
   "source": [
    "$$v_4=\\begin{bmatrix}-10,   6,   8,   0,  -8,   7\\end{bmatrix}^T$$"
   ]
  },
  {
   "cell_type": "code",
   "execution_count": 6,
   "metadata": {
    "deletable": false,
    "nbgrader": {
     "checksum": "64b21e95bbe82dfca1cf9a94989180fe",
     "grade": false,
     "grade_id": "cell-bfa8dab17de5edd2",
     "locked": false,
     "schema_version": 1,
     "solution": true
    }
   },
   "outputs": [
    {
     "name": "stdout",
     "output_type": "stream",
     "text": [
      "17.691806013\n"
     ]
    }
   ],
   "source": [
    "norm_v4 = np.array([-10,6,8,0,-8,7])\n",
    "# YOUR CODE HERE\n",
    "norm_v4 = norm(norm_v4)\n",
    "print(norm_v4)"
   ]
  },
  {
   "cell_type": "code",
   "execution_count": null,
   "metadata": {
    "collapsed": true,
    "deletable": false,
    "editable": false,
    "nbgrader": {
     "checksum": "355fb6ff7811782f5573504b2029a511",
     "grade": true,
     "grade_id": "cell-5c75bf7b9ff1c3a6",
     "locked": true,
     "points": 5,
     "schema_version": 1,
     "solution": false
    }
   },
   "outputs": [],
   "source": []
  },
  {
   "cell_type": "markdown",
   "metadata": {
    "deletable": false,
    "editable": false,
    "nbgrader": {
     "checksum": "5a0183d7c52ba7e261fde033d841edc3",
     "grade": false,
     "grade_id": "cell-04f7ddfd91e85d71",
     "locked": true,
     "schema_version": 1,
     "solution": false
    }
   },
   "source": [
    "$$v_5=\\begin{bmatrix}6,  -5,  -7, -10,  -6,  -2,  -2\\end{bmatrix}^T$$"
   ]
  },
  {
   "cell_type": "code",
   "execution_count": 7,
   "metadata": {
    "deletable": false,
    "nbgrader": {
     "checksum": "ef08371a48a3fccfd688795602dfcc21",
     "grade": false,
     "grade_id": "cell-3dba6ad4d4c10d98",
     "locked": false,
     "schema_version": 1,
     "solution": true
    }
   },
   "outputs": [
    {
     "name": "stdout",
     "output_type": "stream",
     "text": [
      "15.9373774505\n"
     ]
    }
   ],
   "source": [
    "norm_v5 = np.array([6,-5,-7,-10,-6,-2,-2])\n",
    "# YOUR CODE HERE\n",
    "norm_v5 = norm(norm_v5)\n",
    "print(norm_v5)"
   ]
  },
  {
   "cell_type": "code",
   "execution_count": null,
   "metadata": {
    "collapsed": true,
    "deletable": false,
    "editable": false,
    "nbgrader": {
     "checksum": "fd00c2c2b8591de7ec6a21f0790d5e7e",
     "grade": true,
     "grade_id": "cell-76ce9e33ddc2be7d",
     "locked": true,
     "points": 5,
     "schema_version": 1,
     "solution": false
    }
   },
   "outputs": [],
   "source": []
  },
  {
   "cell_type": "markdown",
   "metadata": {
    "deletable": false,
    "editable": false,
    "nbgrader": {
     "checksum": "ba7d0c43d905382a0a44c0e1fb16bbe0",
     "grade": false,
     "grade_id": "cell-2ba53c905cfb70ec",
     "locked": true,
     "schema_version": 1,
     "solution": false
    }
   },
   "source": [
    "$$v_6= \\begin{bmatrix}4\\\\  2\\\\ -8\\end{bmatrix}$$"
   ]
  },
  {
   "cell_type": "code",
   "execution_count": 8,
   "metadata": {
    "deletable": false,
    "nbgrader": {
     "checksum": "c1d87d620dd6b3366ddf05317a14103d",
     "grade": false,
     "grade_id": "cell-d64b453ea8f9a487",
     "locked": false,
     "schema_version": 1,
     "solution": true
    }
   },
   "outputs": [
    {
     "name": "stdout",
     "output_type": "stream",
     "text": [
      "9.16515138991\n"
     ]
    }
   ],
   "source": [
    "norm_v6 = np.array([4,2,-8])\n",
    "# YOUR CODE HERE\n",
    "norm_v6 = norm(norm_v6)\n",
    "print(norm_v6)"
   ]
  },
  {
   "cell_type": "code",
   "execution_count": null,
   "metadata": {
    "collapsed": true,
    "deletable": false,
    "editable": false,
    "nbgrader": {
     "checksum": "258ec43a483f2d70de8bd989392e6863",
     "grade": true,
     "grade_id": "cell-6f697996025dbafb",
     "locked": true,
     "points": 5,
     "schema_version": 1,
     "solution": false
    }
   },
   "outputs": [],
   "source": []
  },
  {
   "cell_type": "markdown",
   "metadata": {
    "deletable": false,
    "editable": false,
    "nbgrader": {
     "checksum": "e72c47456eb67245bb4714c075a450da",
     "grade": false,
     "grade_id": "cell-b541fd216d545d8c",
     "locked": true,
     "schema_version": 1,
     "solution": false
    }
   },
   "source": [
    "## Problem #2 (10 points)\n",
    "\n",
    "One of the limitations of word vectors as we have pictured them is [sparsity](https://en.wikipedia.org/wiki/Sparse_array): while our vocabulary is large (tens or hundreds of thousands of words), a typical document (e.g. radiology report) only has tens or hundreds of unique words. Write a class (`sparsev`) that inherits from a `defaultdict` to represent a \"sparse\" vector. The keys would be the indicies to a vector and the values would be the word counts (how many times that word occurred in the document). The class should have an attribute `self.__dim` that indicates the dimension of the vector space (e.g. the dimension of the vocabulary). The class should have a property `dim` that returns the value in `__dim` the instance of `sparsev` represents. You should define the following methods for the class:\n",
    "\n",
    "1. `norm`: Accepts as an argument a number `p` (default value=2) and computes the [p-norm](https://en.wikipedia.org/wiki/Norm_(mathematics)#p-norm) of the vector.\n",
    "    1. If `p` is not a number, raise a `ValueError`.\n",
    "    1. If $p \\le 0$, raise a `ValueError`.\n",
    "1. `cosine_sim`: Accepts as an argument an instance of a `sparsev`.\n",
    "    1. If the two `sparsev` instances do not have the same `dim` raise a ValueError\n",
    "    1. If you get a `ZeroDivisionError`, return `np.nan`\n",
    "    1. Note that the range of `arccos` is -1 to 1. Because of floating point arithmetic issues, you may have arguments that should be equal to 1 but are slightly larger. This will result in `arccos` returning a `np.nan`. In these cases, return a 0 (zero).\n",
    "1. a `__str__` method that shows the dimension of the vector as well as the elements (key/value pairs)."
   ]
  },
  {
   "cell_type": "code",
   "execution_count": 171,
   "metadata": {
    "deletable": false,
    "nbgrader": {
     "checksum": "e2d9059c8cb2338e61e2997c230febb6",
     "grade": false,
     "grade_id": "cell-f1fea9da269ff9c8",
     "locked": false,
     "schema_version": 1,
     "solution": true
    }
   },
   "outputs": [],
   "source": [
    "from collections import defaultdict\n",
    "import math\n",
    "class sparsev(defaultdict):\n",
    "    # YOUR CODE HERE\n",
    "    def __init__(self, *args, dim=1, **kwargs):\n",
    "        self.__dim = dim\n",
    "        super(sparsev, self).__init__(*args, **kwargs)\n",
    "\n",
    "    @property\n",
    "    def dim(self):\n",
    "        return self.__dim\n",
    "    \n",
    "    def norm(self, p=2):\n",
    "        if not isinstance(p, Number):\n",
    "            raise ValueError(\"P is not a valid number\")\n",
    "        if p <= 0:\n",
    "            raise ValueError(\"P is less than or equal to 0\")\n",
    "        else:\n",
    "            return math.pow(np.sum([math.pow(abs(v),p) for v in self.values()]),1/p)\n",
    "        \n",
    "    def inner(self, sparsev):\n",
    "        if self.dim != sparsev.dim:\n",
    "            raise ValueError(\"Dimmensions are not equal\")\n",
    "        keys = set(self.keys()).intersection(sparsev.keys())\n",
    "        return np.sum([self[key] * sparsev[key] for key in keys])\n",
    "    \n",
    "    def cosine_sim(self, v2):\n",
    "        if self.dim != v2.dim:\n",
    "            raise ValueError(\"Dimmensions are not equal\")\n",
    "        try:   \n",
    "            v = np.arccos(self.inner(v2) / (self.norm()*v2.norm()))\n",
    "            \n",
    "            if np.isnan(v):\n",
    "                return 0\n",
    "            else:\n",
    "                return v\n",
    "            \n",
    "        except ZeroDivisionError:\n",
    "            return np.nan\n",
    "                \n",
    "    def __str__(self):\n",
    "        return \"dim=%d %s\" % (self.dim, super(sparsev, self).__str__())"
   ]
  },
  {
   "cell_type": "code",
   "execution_count": 172,
   "metadata": {
    "deletable": false,
    "editable": false,
    "nbgrader": {
     "checksum": "ae43c259a44227d1f3657c60955417ab",
     "grade": true,
     "grade_id": "cell-85cf56d46b804354",
     "locked": true,
     "points": 2,
     "schema_version": 1,
     "solution": false
    }
   },
   "outputs": [],
   "source": [
    "tmp1 = sparsev(int, dim=5)\n",
    "tmp2 = sparsev(int, dim=3)\n",
    "assert_raises(ValueError, tmp1.inner, tmp2)"
   ]
  },
  {
   "cell_type": "code",
   "execution_count": 173,
   "metadata": {
    "deletable": false,
    "editable": false,
    "nbgrader": {
     "checksum": "06226d9757a9d4382b342db2d930556f",
     "grade": true,
     "grade_id": "cell-2cf3c3a9702cffd6",
     "locked": true,
     "points": 2,
     "schema_version": 1,
     "solution": false
    }
   },
   "outputs": [],
   "source": [
    "tmp1 = sparsev(int, dim=10)\n",
    "tmp2 = sparsev(int, dim=10)\n",
    "tmp1[\"Brian\"] = 3\n",
    "tmp1[\"Wendy\"] = 4\n",
    "tmp2[\"Argos\"] = 9\n",
    "tmp2[\"Helios\"] = 2\n",
    "tmp1.inner(tmp2)\n",
    "assert_almost_equal(tmp1.inner(tmp2), 0)"
   ]
  },
  {
   "cell_type": "code",
   "execution_count": 174,
   "metadata": {
    "collapsed": true,
    "deletable": false,
    "editable": false,
    "nbgrader": {
     "checksum": "5716e9d22c09266e59978d4d541cc521",
     "grade": true,
     "grade_id": "cell-b2b379dea7ae8b65",
     "locked": true,
     "points": 2,
     "schema_version": 1,
     "solution": false
    }
   },
   "outputs": [],
   "source": [
    "tmp1 = sparsev(int, dim=10)\n",
    "tmp2 = sparsev(int, dim=10)\n",
    "tmp1[\"Brian\"] = 3\n",
    "tmp1[\"Wendy\"] = 4\n",
    "tmp2[\"Argos\"] = 9\n",
    "tmp2[\"Brian\"] = 2\n",
    "tmp1.inner(tmp2)\n",
    "assert_almost_equal(tmp1.inner(tmp2), 6)\n"
   ]
  },
  {
   "cell_type": "code",
   "execution_count": 175,
   "metadata": {
    "deletable": false,
    "editable": false,
    "nbgrader": {
     "checksum": "6213ade7168c801a2786443df6aad96e",
     "grade": true,
     "grade_id": "cell-0e7ee13238dd6021",
     "locked": true,
     "points": 2,
     "schema_version": 1,
     "solution": false
    }
   },
   "outputs": [],
   "source": [
    "tmp1 = sparsev(int, dim=5)\n",
    "tmp2 = sparsev(int, dim=3)\n",
    "assert_true(\"5\" in tmp1.__str__())"
   ]
  },
  {
   "cell_type": "code",
   "execution_count": 176,
   "metadata": {
    "collapsed": true,
    "deletable": false,
    "editable": false,
    "nbgrader": {
     "checksum": "81a81c3a78ee3b65924c2f74b88b80ae",
     "grade": true,
     "grade_id": "cell-dfc8f135d643db11",
     "locked": true,
     "points": 2,
     "schema_version": 1,
     "solution": false
    }
   },
   "outputs": [],
   "source": [
    "tmp1 = sparsev(int, dim=5)\n",
    "tmp2 = sparsev(int, dim=3)\n",
    "assert_true(\"3\" in tmp2.__str__())"
   ]
  },
  {
   "cell_type": "markdown",
   "metadata": {
    "deletable": false,
    "editable": false,
    "nbgrader": {
     "checksum": "a62cd1c2cb72380dbdb3e38552ffccf0",
     "grade": false,
     "grade_id": "cell-3bb64a8c40f7f0c4",
     "locked": true,
     "schema_version": 1,
     "solution": false
    }
   },
   "source": [
    "## Test on MIMIC2 radiology reports"
   ]
  },
  {
   "cell_type": "code",
   "execution_count": 143,
   "metadata": {
    "collapsed": true,
    "deletable": false,
    "editable": false,
    "nbgrader": {
     "checksum": "47a693df245dfb847bd8ab6a48d119b9",
     "grade": false,
     "grade_id": "cell-67444da88453ad4f",
     "locked": true,
     "schema_version": 1,
     "solution": false
    }
   },
   "outputs": [],
   "source": [
    "import pymysql\n",
    "import pandas as pd\n",
    "import getpass\n",
    "from textblob import TextBlob"
   ]
  },
  {
   "cell_type": "code",
   "execution_count": 89,
   "metadata": {
    "collapsed": true,
    "deletable": false,
    "editable": false,
    "nbgrader": {
     "checksum": "7acc4bbc12a8ed9ef5e1e2a464797e5d",
     "grade": false,
     "grade_id": "cell-44facc76cc3c2b94",
     "locked": true,
     "schema_version": 1,
     "solution": false
    }
   },
   "outputs": [],
   "source": [
    "conn = pymysql.connect(host=\"mysql\",\n",
    "                       port=3306,user=\"jovyan\",\n",
    "                       passwd=\"jovyan\",db='mimic2')\n",
    "cursor = conn.cursor()"
   ]
  },
  {
   "cell_type": "markdown",
   "metadata": {
    "deletable": false,
    "editable": false,
    "nbgrader": {
     "checksum": "827a396f019b9e1a9aad386beaee5883",
     "grade": false,
     "grade_id": "cell-ae10cb62a78ae00c",
     "locked": true,
     "schema_version": 1,
     "solution": false
    }
   },
   "source": [
    "### Get some documents. Limit the query to keep corpus small for debugging"
   ]
  },
  {
   "cell_type": "code",
   "execution_count": 90,
   "metadata": {
    "deletable": false,
    "editable": false,
    "nbgrader": {
     "checksum": "2cef11beba11e2e8a6fd54756678aafa",
     "grade": false,
     "grade_id": "cell-9598f115436d3f2e",
     "locked": true,
     "schema_version": 1,
     "solution": false
    }
   },
   "outputs": [
    {
     "data": {
      "text/html": [
       "<div>\n",
       "<table border=\"1\" class=\"dataframe\">\n",
       "  <thead>\n",
       "    <tr style=\"text-align: right;\">\n",
       "      <th></th>\n",
       "      <th>subject_id</th>\n",
       "      <th>hadm_id</th>\n",
       "      <th>text</th>\n",
       "    </tr>\n",
       "  </thead>\n",
       "  <tbody>\n",
       "    <tr>\n",
       "      <th>0</th>\n",
       "      <td>56</td>\n",
       "      <td>28766.0</td>\n",
       "      <td>\\n\\n\\n     DATE: [**2644-1-17**] 10:53 AM\\n   ...</td>\n",
       "    </tr>\n",
       "    <tr>\n",
       "      <th>1</th>\n",
       "      <td>56</td>\n",
       "      <td>28766.0</td>\n",
       "      <td>\\n\\n\\n     DATE: [**2644-1-17**] 10:43 AM\\n   ...</td>\n",
       "    </tr>\n",
       "    <tr>\n",
       "      <th>2</th>\n",
       "      <td>56</td>\n",
       "      <td>28766.0</td>\n",
       "      <td>\\n\\n\\n     DATE: [**2644-1-17**] 6:37 AM\\n    ...</td>\n",
       "    </tr>\n",
       "    <tr>\n",
       "      <th>3</th>\n",
       "      <td>56</td>\n",
       "      <td>28766.0</td>\n",
       "      <td>\\n\\n\\n     DATE: [**2644-1-19**] 12:09 PM\\n   ...</td>\n",
       "    </tr>\n",
       "    <tr>\n",
       "      <th>4</th>\n",
       "      <td>37</td>\n",
       "      <td>18052.0</td>\n",
       "      <td>\\n\\n\\n     DATE: [**3264-8-14**] 6:06 AM\\n    ...</td>\n",
       "    </tr>\n",
       "  </tbody>\n",
       "</table>\n",
       "</div>"
      ],
      "text/plain": [
       "   subject_id  hadm_id                                               text\n",
       "0          56  28766.0  \\n\\n\\n     DATE: [**2644-1-17**] 10:53 AM\\n   ...\n",
       "1          56  28766.0  \\n\\n\\n     DATE: [**2644-1-17**] 10:43 AM\\n   ...\n",
       "2          56  28766.0  \\n\\n\\n     DATE: [**2644-1-17**] 6:37 AM\\n    ...\n",
       "3          56  28766.0  \\n\\n\\n     DATE: [**2644-1-19**] 12:09 PM\\n   ...\n",
       "4          37  18052.0  \\n\\n\\n     DATE: [**3264-8-14**] 6:06 AM\\n    ..."
      ]
     },
     "execution_count": 90,
     "metadata": {},
     "output_type": "execute_result"
    }
   ],
   "source": [
    "rad_data = \\\n",
    "pd.read_sql(\"\"\"SELECT DISTINCT noteevents.subject_id, \n",
    "                      noteevents.hadm_id,\n",
    "                      noteevents.text \n",
    "               FROM noteevents\n",
    "               WHERE noteevents.category = 'RADIOLOGY_REPORT' \n",
    "               LIMIT 20000\"\"\",conn)\n",
    "rad_data.head(5)"
   ]
  },
  {
   "cell_type": "markdown",
   "metadata": {
    "deletable": false,
    "editable": false,
    "nbgrader": {
     "checksum": "e14d9f293795869a48d4dc2cc397d2da",
     "grade": false,
     "grade_id": "cell-477e05c11f506767",
     "locked": true,
     "schema_version": 1,
     "solution": false
    }
   },
   "source": [
    "## Create a vocabulary\n",
    "\n",
    "We are first going to replace all digits in the reports with a \"d\" and convert all characters to lower case. This reduces our vocabulary size by approximately half. We will then use `TextBlob` and sets to get all the unique words in our document. This is our vocabulary. The vocabulary is represented as a dictionary which we create with the `zip` function."
   ]
  },
  {
   "cell_type": "code",
   "execution_count": 91,
   "metadata": {
    "deletable": false,
    "editable": false,
    "nbgrader": {
     "checksum": "ef81d3e79443c82e25a20f867fb9e086",
     "grade": false,
     "grade_id": "cell-392861773b762e8f",
     "locked": true,
     "schema_version": 1,
     "solution": false
    }
   },
   "outputs": [
    {
     "name": "stdout",
     "output_type": "stream",
     "text": [
      "24727\n"
     ]
    }
   ],
   "source": [
    "reports = re.sub(\"\\d\", \"d\", \" \".join([r.lower() for r in rad_data[\"text\"]]))\n",
    "\n",
    "words = set(TextBlob(reports).words)\n",
    "\n",
    "vocabulary = dict(zip(words,range(len(words))))\n",
    "print(len(vocabulary))"
   ]
  },
  {
   "cell_type": "code",
   "execution_count": 92,
   "metadata": {
    "deletable": false,
    "editable": false,
    "nbgrader": {
     "checksum": "da8671f131d3e63c2631bf50bd885e9c",
     "grade": false,
     "grade_id": "cell-1feaca11eb5fbf7b",
     "locked": true,
     "schema_version": 1,
     "solution": false
    }
   },
   "outputs": [
    {
     "data": {
      "text/plain": [
       "[('consulation', 0),\n",
       " ('comprehension', 7005),\n",
       " ('multliple', 1),\n",
       " ('oximeter', 12441),\n",
       " ('redistribution', 12442),\n",
       " ('visualied', 12443),\n",
       " ('fifty-nine', 12444),\n",
       " ('respiratiory', 12445),\n",
       " ('calf', 4081),\n",
       " ('sever', 12446)]"
      ]
     },
     "execution_count": 92,
     "metadata": {},
     "output_type": "execute_result"
    }
   ],
   "source": [
    "list(vocabulary.items())[:10]"
   ]
  },
  {
   "cell_type": "markdown",
   "metadata": {
    "deletable": false,
    "editable": false,
    "nbgrader": {
     "checksum": "bef4ff4ec44affd5857414f2bc7824e1",
     "grade": false,
     "grade_id": "cell-6df79c4b5cebeecb",
     "locked": true,
     "schema_version": 1,
     "solution": false
    }
   },
   "source": [
    "## Problem 3 (20 points):\n",
    "\n",
    "Write a function `doc2vec` that takes two arguments: a `txt` (a text to convert to a vector) and `voc` (the vocabulary). It returns a `sparsev` instance that is the representation of `txt` in the `voc` vector space. Because `txt` may contain words that are not in the vocabulary, you will need to do exception handling."
   ]
  },
  {
   "cell_type": "code",
   "execution_count": 177,
   "metadata": {
    "deletable": false,
    "nbgrader": {
     "checksum": "1500ec1214d6361d74018db6cd099bb1",
     "grade": false,
     "grade_id": "cell-66383d25e8d92a2c",
     "locked": false,
     "schema_version": 1,
     "solution": true
    }
   },
   "outputs": [],
   "source": [
    "def doc2vec(txt, voc):\n",
    "    # YOUR CODE HERE\n",
    "    blob = TextBlob(txt.lower())\n",
    "    v = sparsev(int, dim=len(voc))\n",
    "    for word in blob.words:\n",
    "        try:\n",
    "            v[voc[word]] += 1\n",
    "        except KeyError:\n",
    "            pass\n",
    "        \n",
    "    return v\n"
   ]
  },
  {
   "cell_type": "code",
   "execution_count": 178,
   "metadata": {
    "deletable": false,
    "editable": false,
    "nbgrader": {
     "checksum": "cedd7cd46684cb629f17cdf8d83cdef4",
     "grade": true,
     "grade_id": "cell-efcb973e15dfd825",
     "locked": true,
     "points": 5,
     "schema_version": 1,
     "solution": false
    }
   },
   "outputs": [],
   "source": [
    "v50 = doc2vec(re.sub(\"\\d\", \"d\", rad_data.loc[50,\"text\"]), vocabulary)\n",
    "v157 = doc2vec(re.sub(\"\\d\", \"d\", rad_data.loc[157,\"text\"]), vocabulary)\n",
    "assert_almost_equal(v50.norm(), 66.59579566308972)"
   ]
  },
  {
   "cell_type": "code",
   "execution_count": 179,
   "metadata": {
    "deletable": false,
    "editable": false,
    "nbgrader": {
     "checksum": "567c6add4fb270618f6657cc10190a00",
     "grade": true,
     "grade_id": "cell-850b4f40ab65b8c8",
     "locked": true,
     "points": 5,
     "schema_version": 1,
     "solution": false
    }
   },
   "outputs": [],
   "source": [
    "v50 = doc2vec(re.sub(\"\\d\", \"d\", rad_data.loc[50,\"text\"]), vocabulary)\n",
    "v157 = doc2vec(re.sub(\"\\d\", \"d\", rad_data.loc[157,\"text\"]), vocabulary)\n",
    "assert_almost_equal(v157.norm(), 95.40440241414439)"
   ]
  },
  {
   "cell_type": "markdown",
   "metadata": {},
   "source": [
    "### Cosine similarity of a document with itself should be 1"
   ]
  },
  {
   "cell_type": "code",
   "execution_count": 180,
   "metadata": {
    "deletable": false,
    "editable": false,
    "nbgrader": {
     "checksum": "5e3c2e2ca2f2019022ee8ee9becb9b38",
     "grade": true,
     "grade_id": "cell-84674721cc216b29",
     "locked": true,
     "points": 5,
     "schema_version": 1,
     "solution": false
    }
   },
   "outputs": [
    {
     "name": "stderr",
     "output_type": "stream",
     "text": [
      "/opt/conda/lib/python3.5/site-packages/ipykernel_launcher.py:31: RuntimeWarning: invalid value encountered in arccos\n"
     ]
    }
   ],
   "source": [
    "v50 = doc2vec(re.sub(\"\\d\", \"d\", rad_data.loc[50,\"text\"]), vocabulary)\n",
    "v157 = doc2vec(re.sub(\"\\d\", \"d\", rad_data.loc[157,\"text\"]), vocabulary)\n",
    "assert_almost_equal(v50.cosine_sim(v50), 0)"
   ]
  },
  {
   "cell_type": "code",
   "execution_count": 181,
   "metadata": {
    "deletable": false,
    "editable": false,
    "nbgrader": {
     "checksum": "3b5f02b326bb1308062c91a0daf20dd0",
     "grade": true,
     "grade_id": "cell-aeace7ab957d6466",
     "locked": true,
     "points": 5,
     "schema_version": 1,
     "solution": false
    }
   },
   "outputs": [],
   "source": [
    "v50 = doc2vec(re.sub(\"\\d\", \"d\", rad_data.loc[50,\"text\"]), vocabulary)\n",
    "v157 = doc2vec(re.sub(\"\\d\", \"d\", rad_data.loc[157,\"text\"]), vocabulary)\n",
    "assert_almost_equal(v50.cosine_sim(v157), 0.7430023871608521)"
   ]
  },
  {
   "cell_type": "markdown",
   "metadata": {
    "deletable": false,
    "editable": false,
    "nbgrader": {
     "checksum": "36781df32a6de45c8817347e157ec0c8",
     "grade": false,
     "grade_id": "cell-62ca66693fe165b1",
     "locked": true,
     "schema_version": 1,
     "solution": false
    }
   },
   "source": [
    "### Create a column in `rad_data` that has values equal to the similarity between the reports and `v50`."
   ]
  },
  {
   "cell_type": "code",
   "execution_count": 185,
   "metadata": {
    "deletable": false,
    "editable": false,
    "nbgrader": {
     "checksum": "20626ec6c02cc0d1f21937023ca60b0e",
     "grade": false,
     "grade_id": "cell-d86ca4e69940d4a2",
     "locked": true,
     "schema_version": 1,
     "solution": false
    }
   },
   "outputs": [
    {
     "name": "stderr",
     "output_type": "stream",
     "text": [
      "/opt/conda/lib/python3.5/site-packages/ipykernel_launcher.py:31: RuntimeWarning: invalid value encountered in double_scalars\n",
      "/opt/conda/lib/python3.5/site-packages/ipykernel_launcher.py:31: RuntimeWarning: invalid value encountered in arccos\n"
     ]
    }
   ],
   "source": [
    "rad_data[\"50sim\"] = rad_data.apply(lambda r: v50.cosine_sim(doc2vec(re.sub(\"\\d\", \"d\", r[\"text\"]), vocabulary)), axis=1)"
   ]
  },
  {
   "cell_type": "markdown",
   "metadata": {
    "deletable": false,
    "editable": false,
    "nbgrader": {
     "checksum": "49dacaf5fa641f4533741ac2d551515b",
     "grade": false,
     "grade_id": "cell-a2d8f98d625476e6",
     "locked": true,
     "schema_version": 1,
     "solution": false
    }
   },
   "source": [
    "## Problem 4 (10 points):\n",
    "\n",
    "Create a DataFrame `rad_data2` that only contains rows where rad_data[\"50sim\"] is greater than zero. Sort the `rad_data2` by ascending values of `50sim`."
   ]
  },
  {
   "cell_type": "code",
   "execution_count": 186,
   "metadata": {
    "deletable": false,
    "nbgrader": {
     "checksum": "3dfd73a5b02693dbd19249164016d695",
     "grade": false,
     "grade_id": "cell-3cb580a57e6c5332",
     "locked": false,
     "schema_version": 1,
     "solution": true
    }
   },
   "outputs": [
    {
     "name": "stderr",
     "output_type": "stream",
     "text": [
      "/opt/conda/lib/python3.5/site-packages/ipykernel_launcher.py:2: UserWarning: Boolean Series key will be reindexed to match DataFrame index.\n",
      "  \n"
     ]
    },
    {
     "data": {
      "text/html": [
       "<div>\n",
       "<table border=\"1\" class=\"dataframe\">\n",
       "  <thead>\n",
       "    <tr style=\"text-align: right;\">\n",
       "      <th></th>\n",
       "      <th>subject_id</th>\n",
       "      <th>hadm_id</th>\n",
       "      <th>text</th>\n",
       "      <th>50sim</th>\n",
       "    </tr>\n",
       "  </thead>\n",
       "  <tbody>\n",
       "    <tr>\n",
       "      <th>2850</th>\n",
       "      <td>1427</td>\n",
       "      <td>12755.0</td>\n",
       "      <td>\\n\\n\\n     DATE: [**3422-10-15**] 2:51 PM\\n   ...</td>\n",
       "      <td>1.427111</td>\n",
       "    </tr>\n",
       "    <tr>\n",
       "      <th>9382</th>\n",
       "      <td>5328</td>\n",
       "      <td>28535.0</td>\n",
       "      <td>\\n\\n\\n     DATE: [**2695-5-2**] 9:32 PM\\n     ...</td>\n",
       "      <td>1.427213</td>\n",
       "    </tr>\n",
       "    <tr>\n",
       "      <th>12884</th>\n",
       "      <td>7557</td>\n",
       "      <td>NaN</td>\n",
       "      <td>\\n\\n\\n     DATE: [**2866-6-7**] 8:13 AM\\n     ...</td>\n",
       "      <td>1.449436</td>\n",
       "    </tr>\n",
       "    <tr>\n",
       "      <th>3629</th>\n",
       "      <td>1884</td>\n",
       "      <td>17763.0</td>\n",
       "      <td>\\n\\n\\n     DATE: [**3256-11-8**] 7:37 AM\\n    ...</td>\n",
       "      <td>1.450346</td>\n",
       "    </tr>\n",
       "    <tr>\n",
       "      <th>17501</th>\n",
       "      <td>10315</td>\n",
       "      <td>22270.0</td>\n",
       "      <td>\\n\\n\\n     DATE: [**2558-2-12**] 1:09 AM\\n    ...</td>\n",
       "      <td>1.469616</td>\n",
       "    </tr>\n",
       "  </tbody>\n",
       "</table>\n",
       "</div>"
      ],
      "text/plain": [
       "       subject_id  hadm_id                                               text  \\\n",
       "2850         1427  12755.0  \\n\\n\\n     DATE: [**3422-10-15**] 2:51 PM\\n   ...   \n",
       "9382         5328  28535.0  \\n\\n\\n     DATE: [**2695-5-2**] 9:32 PM\\n     ...   \n",
       "12884        7557      NaN  \\n\\n\\n     DATE: [**2866-6-7**] 8:13 AM\\n     ...   \n",
       "3629         1884  17763.0  \\n\\n\\n     DATE: [**3256-11-8**] 7:37 AM\\n    ...   \n",
       "17501       10315  22270.0  \\n\\n\\n     DATE: [**2558-2-12**] 1:09 AM\\n    ...   \n",
       "\n",
       "          50sim  \n",
       "2850   1.427111  \n",
       "9382   1.427213  \n",
       "12884  1.449436  \n",
       "3629   1.450346  \n",
       "17501  1.469616  "
      ]
     },
     "execution_count": 186,
     "metadata": {},
     "output_type": "execute_result"
    }
   ],
   "source": [
    "# YOUR CODE HERE\n",
    "rad_data2 = rad_data.sort_values(by=\"50sim\")[rad_data[\"50sim\"] > 0]\n",
    "\n",
    "\n",
    "rad_data2.tail()"
   ]
  },
  {
   "cell_type": "code",
   "execution_count": 187,
   "metadata": {
    "deletable": false,
    "editable": false,
    "nbgrader": {
     "checksum": "2eaa328058fe06f236473d61a673f469",
     "grade": true,
     "grade_id": "cell-378dc26662e3d7e4",
     "locked": true,
     "points": 5,
     "schema_version": 1,
     "solution": false
    }
   },
   "outputs": [],
   "source": [
    "assert_equal(rad_data2.iloc[0][\"subject_id\"], 463)"
   ]
  },
  {
   "cell_type": "code",
   "execution_count": 188,
   "metadata": {
    "collapsed": true,
    "deletable": false,
    "editable": false,
    "nbgrader": {
     "checksum": "3c73149540186f1c96612bdfaefdc171",
     "grade": true,
     "grade_id": "cell-32390139d46fdcc3",
     "locked": true,
     "points": 5,
     "schema_version": 1,
     "solution": false
    }
   },
   "outputs": [],
   "source": [
    "assert_equal(rad_data2.iloc[-1][\"subject_id\"], 10315)"
   ]
  },
  {
   "cell_type": "markdown",
   "metadata": {
    "deletable": false,
    "editable": false,
    "nbgrader": {
     "checksum": "8dbc1880a4268858f0e641285cbc0255",
     "grade": false,
     "grade_id": "cell-79b77d792de72d9a",
     "locked": true,
     "schema_version": 1,
     "solution": false
    }
   },
   "source": [
    "## What do the most similar and most dissimilar (relative to 50) reports look like?"
   ]
  },
  {
   "cell_type": "code",
   "execution_count": 189,
   "metadata": {
    "deletable": false,
    "editable": false,
    "nbgrader": {
     "checksum": "8fb7e1ba3e89297989dfcfc12927fdf5",
     "grade": false,
     "grade_id": "cell-4b44dd9873e674cc",
     "locked": true,
     "schema_version": 1,
     "solution": false
    }
   },
   "outputs": [
    {
     "name": "stdout",
     "output_type": "stream",
     "text": [
      "\n",
      "\n",
      "\n",
      "     DATE: [**3353-1-26**] 5:37 PM\n",
      "     CT CHEST W/CONTRAST; CT 150CC NONIONIC CONTRAST                 Clip # [**Clip Number (Radiology) 1672**]\n",
      "     Reason: please eval new RLL inflitrate seen on CXR and r/o empyema  \n",
      "     Admitting Diagnosis: NON-HODGKINS LYMPHOMA;FEBRILE;NEUTROPENIA\n",
      "     Field of view: 34 Contrast: OPTIRAY Amt: 100\n",
      "     ______________________________________________________________________________\n",
      "     UNDERLYING MEDICAL CONDITION:\n",
      "        55 year old man with enteropathy associated t cell lymphoma and neutropenic.  \n",
      "       Tachycardic, tachypneic, resp. alkalosis on abg.\n",
      "     REASON FOR THIS EXAMINATION:\n",
      "      please eval new RLL inflitrate seen on CXR and r/o empyema                      \n",
      "     No contraindications for IV contrast\n",
      "     ______________________________________________________________________________\n",
      "                                     FINAL REPORT\n",
      "     INDICATION:  Enteropathy associated T-cell lymphoma and neutropenia,\n",
      "     tachycardic and tachypneic with respiratory alkalosis, please evaluate new\n",
      "     right lower lobe infiltrate on chest x-ray and rule out empyema.\n",
      "     \n",
      "     COMPARISON:  CT of the chest dated [**3353-1-15**], and PET CT dated\n",
      "     [**3353-1-17**].\n",
      "     \n",
      "     TECHNIQUE:  Axial MDCT images were obtained through the chest following the\n",
      "     administration of 100 cc of intravenous Optiray.  Additional thin section\n",
      "     reformatted images are provided.\n",
      "     \n",
      "     CONTRAST:  Intravenous nonionic contrast was administered due to the rapid\n",
      "     rate of bolus injection required for this examination.\n",
      "     \n",
      "     CT OF THE CHEST WITH INTRAVENOUS CONTRAST:  The aorta is normal in caliber,\n",
      "     with scattered mural calcifications consistent with atheromatous disease.\n",
      "     There are mild coronary artery calcifications.  Multiple small mediastinal,\n",
      "     hilar, and axillary lymph nodes are seen, not individually meeting criteria\n",
      "     for pathologic enlargement.  The largest of these, located in the right hilum,\n",
      "     measures 8 mm in short axis diameter.  The airways are patent to the level of\n",
      "     the segmental bronchi bilaterally.  There are multifocal areas of patchy\n",
      "     opacity throughout the lungs, most prominently located within the right middle\n",
      "     lobe and within the anterior segment of the left upper lobe.  In addition,\n",
      "     there are tiny bilateral pleural effusions and minimal adjacent atelectasis\n",
      "     within the lower lobes.  There is a suggestion of peripheral septal thickening\n",
      "     at the apices.  Two tiny, calcified nodular opacities are seen at the left\n",
      "     apex, consistent with prior granulomatous disease.\n",
      "     \n",
      "     Limited images of the upper abdomen, including limited images of the liver,\n",
      "     spleen, adrenal glands, and upper poles of the kidneys, demonstrate fullness\n",
      "     of the right adrenal gland without definite focal mass identified, a finding\n",
      "     that is consistent with the PET CT finding of abnormal uptake within the\n",
      "     adrenal glands.  No mass or fullness is identified within the left adrenal\n",
      "     gland.  There is a simple cyst arising from the upper pole of the left kidney\n",
      "     containing internal fluid density.  The visualized portions of the liver and\n",
      "     spleen appear unremarkable.  Heterogeneity within the spleen is likely related\n",
      "     to the phase of contrast administration.\n",
      "     \n",
      "     The appearance of the osseous structures is unchanged, with increased\n",
      "                                                                 (Over)\n",
      "\n",
      "     DATE: [**3353-1-26**] 5:37 PM\n",
      "     CT CHEST W/CONTRAST; CT 150CC NONIONIC CONTRAST                 Clip # [**Clip Number (Radiology) 1672**]\n",
      "     Reason: please eval new RLL inflitrate seen on CXR and r/o empyema  \n",
      "     Admitting Diagnosis: NON-HODGKINS LYMPHOMA;FEBRILE;NEUTROPENIA\n",
      "     Field of view: 34 Contrast: OPTIRAY Amt: 100\n",
      "     ______________________________________________________________________________\n",
      "                                     FINAL REPORT\n",
      "     (Cont)\n",
      "     trabeculation in the marrow spaces of the vertebrae and ribs.\n",
      "     \n",
      "     IMPRESSION:\n",
      "     \n",
      "     1)  Multifocal patchy opacities throughout the pulmonary parenchyma, a\n",
      "     nonspecific finding that is suggestive of multifocal infectious process.\n",
      "     \n",
      "     2)  Tiny bilateral pleural effusions and bibasilar atelectasis.\n",
      "     \n",
      "     3)  Diffuse enlargement of the right adrenal gland, a finding that is\n",
      "     consistent with the findings on recent PET CT of right adrenal lesion.  No\n",
      "     corresponding abnormality is identified within the left adrenal gland.\n",
      "     \n",
      "     4)  Stable appearance of the bones, with prominence of the trabeculations in\n",
      "     the marrow spaces of the vertebrae and ribs.\n",
      "     \n",
      "\n",
      "\n"
     ]
    }
   ],
   "source": [
    "print(rad_data.iloc[50][\"text\"])"
   ]
  },
  {
   "cell_type": "code",
   "execution_count": 190,
   "metadata": {
    "deletable": false,
    "editable": false,
    "nbgrader": {
     "checksum": "6746ea21bcaa538f395709e0920b1760",
     "grade": false,
     "grade_id": "cell-7d9a9912594531e0",
     "locked": true,
     "schema_version": 1,
     "solution": false
    }
   },
   "outputs": [
    {
     "name": "stdout",
     "output_type": "stream",
     "text": [
      "\n",
      "\n",
      "\n",
      "     DATE: [**3334-11-8**] 2:43 PM\n",
      "     CT ABD W&W/O C; CT CHEST W/CONTRAST                             Clip # [**Clip Number (Radiology) 3604**]\n",
      "     CT PELVIS W/CONTRAST; CT 150CC NONIONIC CONTRAST\n",
      "     Reason: evaluate disease progression\n",
      "     Field of view: 32 Contrast: OPTIRAY Amt: 150\n",
      "     ______________________________________________________________________________\n",
      "     UNDERLYING MEDICAL CONDITION:\n",
      "      62 year old F with lung cancer. CT chest and abd prior to treatment\n",
      "     REASON FOR THIS EXAMINATION:\n",
      "      evaluate disease progression\n",
      "     ______________________________________________________________________________\n",
      "                                     FINAL REPORT\n",
      "     INDICATION:  Lung CA.\n",
      "     \n",
      "     TECHNIQUE:  Non-contrast images of the abdomen were obtained.  Contrast\n",
      "     enhanced images of the abdomen, as well as delayed images of the chest,\n",
      "     abdomen and pelvis following administration of 150 cc of Optiray were\n",
      "     performed.  Nonionic IV contrast was used at the patient's request.\n",
      "     \n",
      "     Comparison is made to the prior exam of [**3334-9-25**].\n",
      "     \n",
      "     CT OF THE CHEST WITH CONTRAST:  There has been interval decrease in the size\n",
      "     of the right-sided pleural effusion and pericardial effusion.  The previously\n",
      "     seen large hilar mass is unchanged, with similar appearance to postobstructive\n",
      "     collapse and upper lobe retraction.  Mediastinal adenopathy within the\n",
      "     subcarinal, prevascular and pretracheal areas is unchanged. The previously\n",
      "     seen irregular nodular pleural densities are again identified, unchanged.  No\n",
      "     new nodules are seen.  The heart, pericardium and great vessels are stable in\n",
      "     appearance.\n",
      "     \n",
      "     CT OF THE ABDOMEN WITHOUT AND WITH IV CONTRAST:  The liver and gallbladder are\n",
      "     normal.  The spleen is not enlarged.  The pancreas enhances homogeneously.  A\n",
      "     small cyst is again seen within the upper pole of the left kidney.  The right\n",
      "     adrenal and right kidney are  normal.  Since the prior scan, there has been\n",
      "     interval development of a left adrenal lesion that cannot be adequately\n",
      "     characterized on this examination not tailored towards evaluation of the\n",
      "     adrenal gland, and is concerning for a new metastatic focus. It demonstrates\n",
      "     an enhancing rim with central hypodensity and measures approximately 8 x 13\n",
      "     mm. The stomach, small bowel and colon are unremarkable. There is no free\n",
      "     fluid or free air. There is no mesenteric or retroperitoneal lymph node\n",
      "     enlargement.\n",
      "     \n",
      "     CT OF THE PELVIS WITH CONTRAST:  The distal ureters and bladder are\n",
      "     unremarkable. There is no pelvic lymph node enlargement.  There is no free\n",
      "     fluid. The rectum and sigmoid are unremarkable.  Since the prior scan, there\n",
      "     is now evidence of intraluminal thrombus within the left common femoral vein\n",
      "     that is nonocclusive.\n",
      "     \n",
      "     The osseous structures are unchanged.\n",
      "     \n",
      "     IMPRESSION:\n",
      "     \n",
      "     1. Interval development of a left adrenal lesion concerning for metastatic\n",
      "                                                                 (Over)\n",
      "\n",
      "     DATE: [**3334-11-8**] 2:43 PM\n",
      "     CT ABD W&W/O C; CT CHEST W/CONTRAST                             Clip # [**Clip Number (Radiology) 3604**]\n",
      "     CT PELVIS W/CONTRAST; CT 150CC NONIONIC CONTRAST\n",
      "     Reason: evaluate disease progression\n",
      "     Field of view: 32 Contrast: OPTIRAY Amt: 150\n",
      "     ______________________________________________________________________________\n",
      "                                     FINAL REPORT\n",
      "     (Cont)\n",
      "     focus. \n",
      "     \n",
      "     2. Newly identified nonocclusive intraluminal thrombus within the left common\n",
      "     femoral vein.\n",
      "     \n",
      "     3. Interval decrease in size of the right pleural effusion and pericardial\n",
      "     effusion.\n",
      "     \n",
      "     4. Unchanged appearance to mediastinal lymphadenopathy and right hilar mass\n",
      "     with associated postobstructive collapse.  Unchanged pleural nodules.\n",
      "     \n",
      "     The findings were communicated to the Hematology/Oncology Service at the time\n",
      "     of interpretation.\n",
      "     \n",
      "     \n",
      "\n",
      "\n"
     ]
    }
   ],
   "source": [
    "print(rad_data2.iloc[0][\"text\"])"
   ]
  },
  {
   "cell_type": "code",
   "execution_count": 191,
   "metadata": {
    "deletable": false,
    "editable": false,
    "nbgrader": {
     "checksum": "05455a6679a77f320e6e1862042ab33c",
     "grade": false,
     "grade_id": "cell-1ff3173b144cf701",
     "locked": true,
     "schema_version": 1,
     "solution": false
    }
   },
   "outputs": [
    {
     "name": "stdout",
     "output_type": "stream",
     "text": [
      "\n",
      "\n",
      "\n",
      "     DATE: [**2558-2-12**] 1:09 AM\n",
      "     IVC GRAM/FILTER                                                 Clip # [**Clip Number (Radiology) 3326**]\n",
      "     Reason: POST SUCTION EMBO\n",
      "      Contrast: OPTIRAY Amt: 30\n",
      "     ********************************* CPT Codes ********************************\n",
      "     * 37620 INTERUP IVC                    36010 INTRO CATH SVC/IVC            *\n",
      "     * -51 MULTI-PROCEDURE SAME DAY         75940 PERC PLCMT IVC FILTER         *\n",
      "     * 75825 IVC GRAM                       C1880 VENA CAVA FILTER              *\n",
      "     ****************************************************************************\n",
      "     ______________________________________________________________________________\n",
      "                                     FINAL REPORT\n",
      "     please see clip [**Clip Number (Radiology) 3321**].\n",
      "\n",
      "             DR. [**First Name4 (NamePattern1) **] [**Last Name (NamePattern1) **]\n",
      "             DR. [**First Name11 (Name Pattern1) **] [**Initial (NamePattern1) **]. [**Last Name (NamePattern1) **]\n",
      "\n"
     ]
    }
   ],
   "source": [
    "\n",
    "print(rad_data2.iloc[-1][\"text\"])"
   ]
  },
  {
   "cell_type": "code",
   "execution_count": null,
   "metadata": {
    "collapsed": true
   },
   "outputs": [],
   "source": []
  }
 ],
 "metadata": {
  "kernelspec": {
   "display_name": "Python 3",
   "language": "python",
   "name": "python3"
  },
  "language_info": {
   "codemirror_mode": {
    "name": "ipython",
    "version": 3
   },
   "file_extension": ".py",
   "mimetype": "text/x-python",
   "name": "python",
   "nbconvert_exporter": "python",
   "pygments_lexer": "ipython3",
   "version": "3.5.2"
  }
 },
 "nbformat": 4,
 "nbformat_minor": 1
}

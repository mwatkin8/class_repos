{
 "cells": [
  {
   "cell_type": "markdown",
   "metadata": {
    "deletable": false,
    "editable": false,
    "nbgrader": {
     "checksum": "331ec77bfc2694e17677cae785084d96",
     "grade": false,
     "grade_id": "cell-37ce1da696fefea3",
     "locked": true,
     "schema_version": 1,
     "solution": false
    }
   },
   "source": [
    "# Pandas"
   ]
  },
  {
   "cell_type": "code",
   "execution_count": 45,
   "metadata": {
    "collapsed": true,
    "deletable": false,
    "editable": false,
    "nbgrader": {
     "checksum": "aee04b62156d3222bd6ea1589203add1",
     "grade": false,
     "grade_id": "cell-3ca5ef9b1d9960d0",
     "locked": true,
     "schema_version": 1,
     "solution": false
    }
   },
   "outputs": [],
   "source": [
    "from nose.tools import assert_true, assert_false, \\\n",
    "    assert_almost_equal, assert_equal, assert_raises"
   ]
  },
  {
   "cell_type": "markdown",
   "metadata": {
    "deletable": false,
    "editable": false,
    "nbgrader": {
     "checksum": "cb0efae4a4141cdbc00c3bc4066cc4a0",
     "grade": false,
     "grade_id": "cell-3f95a19ade594b2a",
     "locked": true,
     "schema_version": 1,
     "solution": false
    }
   },
   "source": [
    "**Problem 1 (25 points).** Use Pandas to read in the file pruning_machine_learning_10292014.txt. Create a pandas DataFrame that has all the columns in the text file EXCEPT for \"edge_label\" and \"minmaxdfe.\" Also all missing (NaN) values should be replaced with the mean value for the relevant column. **Hint**: read up on [``fillna``](http://pandas.pydata.org/pandas-docs/stable/generated/pandas.DataFrame.fillna.html) and [``drop``](http://pandas.pydata.org/pandas-docs/stable/generated/pandas.DataFrame.drop.html)"
   ]
  },
  {
   "cell_type": "code",
   "execution_count": 46,
   "metadata": {
    "collapsed": true,
    "deletable": false,
    "editable": false,
    "nbgrader": {
     "checksum": "e061dcf745e1d84139328a45edb93c0e",
     "grade": false,
     "grade_id": "cell-1e927200ba5c95e6",
     "locked": true,
     "schema_version": 1,
     "solution": false
    }
   },
   "outputs": [],
   "source": [
    "import os\n",
    "import pandas as pd\n",
    "import matplotlib.pyplot as plt\n",
    "from collections import defaultdict, OrderedDict\n",
    "import datetime\n",
    "import numpy as np\n",
    "from dateutil import parser"
   ]
  },
  {
   "cell_type": "code",
   "execution_count": 47,
   "metadata": {
    "deletable": false,
    "nbgrader": {
     "checksum": "635483ea25f6ad2af58785687f7daf7d",
     "grade": false,
     "grade_id": "cell-3ba26c1abd0c4eac",
     "locked": false,
     "schema_version": 1,
     "solution": true
    }
   },
   "outputs": [
    {
     "data": {
      "text/html": [
       "<div>\n",
       "<table border=\"1\" class=\"dataframe\">\n",
       "  <thead>\n",
       "    <tr style=\"text-align: right;\">\n",
       "      <th></th>\n",
       "      <th>basename</th>\n",
       "      <th>prune_label</th>\n",
       "      <th>pathlength</th>\n",
       "      <th>exterior2surface</th>\n",
       "      <th>surface2volume</th>\n",
       "      <th>mindfe</th>\n",
       "      <th>maxdfe</th>\n",
       "      <th>length2width</th>\n",
       "      <th>depth</th>\n",
       "      <th>angle</th>\n",
       "    </tr>\n",
       "  </thead>\n",
       "  <tbody>\n",
       "    <tr>\n",
       "      <th>0</th>\n",
       "      <td>671_PV_skeleton_graphs.pckle</td>\n",
       "      <td>0</td>\n",
       "      <td>23</td>\n",
       "      <td>0.775000</td>\n",
       "      <td>0.101429</td>\n",
       "      <td>4.0</td>\n",
       "      <td>7.0</td>\n",
       "      <td>4.181818</td>\n",
       "      <td>50.074449</td>\n",
       "      <td>0.024576</td>\n",
       "    </tr>\n",
       "    <tr>\n",
       "      <th>1</th>\n",
       "      <td>671_PV_skeleton_graphs.pckle</td>\n",
       "      <td>0</td>\n",
       "      <td>45</td>\n",
       "      <td>0.910923</td>\n",
       "      <td>0.075812</td>\n",
       "      <td>2.0</td>\n",
       "      <td>7.0</td>\n",
       "      <td>10.000000</td>\n",
       "      <td>50.074449</td>\n",
       "      <td>0.021655</td>\n",
       "    </tr>\n",
       "    <tr>\n",
       "      <th>2</th>\n",
       "      <td>671_PV_skeleton_graphs.pckle</td>\n",
       "      <td>0</td>\n",
       "      <td>137</td>\n",
       "      <td>0.922793</td>\n",
       "      <td>0.063619</td>\n",
       "      <td>2.0</td>\n",
       "      <td>9.0</td>\n",
       "      <td>24.909091</td>\n",
       "      <td>14.517342</td>\n",
       "      <td>0.030480</td>\n",
       "    </tr>\n",
       "    <tr>\n",
       "      <th>3</th>\n",
       "      <td>202_PV_skeleton_graphs.pckle</td>\n",
       "      <td>0</td>\n",
       "      <td>3</td>\n",
       "      <td>0.713208</td>\n",
       "      <td>0.345953</td>\n",
       "      <td>5.0</td>\n",
       "      <td>5.0</td>\n",
       "      <td>0.600000</td>\n",
       "      <td>60.433135</td>\n",
       "      <td>0.019737</td>\n",
       "    </tr>\n",
       "    <tr>\n",
       "      <th>4</th>\n",
       "      <td>202_PV_skeleton_graphs.pckle</td>\n",
       "      <td>0</td>\n",
       "      <td>6</td>\n",
       "      <td>0.732123</td>\n",
       "      <td>0.377787</td>\n",
       "      <td>4.0</td>\n",
       "      <td>5.0</td>\n",
       "      <td>1.333333</td>\n",
       "      <td>60.433135</td>\n",
       "      <td>0.016531</td>\n",
       "    </tr>\n",
       "    <tr>\n",
       "      <th>5</th>\n",
       "      <td>202_PV_skeleton_graphs.pckle</td>\n",
       "      <td>0</td>\n",
       "      <td>113</td>\n",
       "      <td>0.922076</td>\n",
       "      <td>0.200871</td>\n",
       "      <td>3.0</td>\n",
       "      <td>9.0</td>\n",
       "      <td>18.833333</td>\n",
       "      <td>10.903907</td>\n",
       "      <td>0.021772</td>\n",
       "    </tr>\n",
       "    <tr>\n",
       "      <th>6</th>\n",
       "      <td>849_PV_skeleton_graphs.pckle</td>\n",
       "      <td>0</td>\n",
       "      <td>21</td>\n",
       "      <td>0.658359</td>\n",
       "      <td>0.030060</td>\n",
       "      <td>4.0</td>\n",
       "      <td>9.0</td>\n",
       "      <td>3.230769</td>\n",
       "      <td>85.675047</td>\n",
       "      <td>0.016949</td>\n",
       "    </tr>\n",
       "    <tr>\n",
       "      <th>7</th>\n",
       "      <td>849_PV_skeleton_graphs.pckle</td>\n",
       "      <td>0</td>\n",
       "      <td>17</td>\n",
       "      <td>0.742336</td>\n",
       "      <td>0.033536</td>\n",
       "      <td>4.0</td>\n",
       "      <td>7.0</td>\n",
       "      <td>3.090909</td>\n",
       "      <td>95.765084</td>\n",
       "      <td>0.019737</td>\n",
       "    </tr>\n",
       "    <tr>\n",
       "      <th>8</th>\n",
       "      <td>849_PV_skeleton_graphs.pckle</td>\n",
       "      <td>0</td>\n",
       "      <td>22</td>\n",
       "      <td>0.847027</td>\n",
       "      <td>0.024682</td>\n",
       "      <td>5.0</td>\n",
       "      <td>7.0</td>\n",
       "      <td>3.666667</td>\n",
       "      <td>95.765084</td>\n",
       "      <td>0.019737</td>\n",
       "    </tr>\n",
       "    <tr>\n",
       "      <th>9</th>\n",
       "      <td>849_PV_skeleton_graphs.pckle</td>\n",
       "      <td>0</td>\n",
       "      <td>18</td>\n",
       "      <td>0.622440</td>\n",
       "      <td>0.036421</td>\n",
       "      <td>3.0</td>\n",
       "      <td>7.0</td>\n",
       "      <td>3.600000</td>\n",
       "      <td>95.765084</td>\n",
       "      <td>0.015989</td>\n",
       "    </tr>\n",
       "  </tbody>\n",
       "</table>\n",
       "</div>"
      ],
      "text/plain": [
       "                       basename  prune_label  pathlength  exterior2surface  \\\n",
       "0  671_PV_skeleton_graphs.pckle            0          23          0.775000   \n",
       "1  671_PV_skeleton_graphs.pckle            0          45          0.910923   \n",
       "2  671_PV_skeleton_graphs.pckle            0         137          0.922793   \n",
       "3  202_PV_skeleton_graphs.pckle            0           3          0.713208   \n",
       "4  202_PV_skeleton_graphs.pckle            0           6          0.732123   \n",
       "5  202_PV_skeleton_graphs.pckle            0         113          0.922076   \n",
       "6  849_PV_skeleton_graphs.pckle            0          21          0.658359   \n",
       "7  849_PV_skeleton_graphs.pckle            0          17          0.742336   \n",
       "8  849_PV_skeleton_graphs.pckle            0          22          0.847027   \n",
       "9  849_PV_skeleton_graphs.pckle            0          18          0.622440   \n",
       "\n",
       "   surface2volume  mindfe  maxdfe  length2width      depth     angle  \n",
       "0        0.101429     4.0     7.0      4.181818  50.074449  0.024576  \n",
       "1        0.075812     2.0     7.0     10.000000  50.074449  0.021655  \n",
       "2        0.063619     2.0     9.0     24.909091  14.517342  0.030480  \n",
       "3        0.345953     5.0     5.0      0.600000  60.433135  0.019737  \n",
       "4        0.377787     4.0     5.0      1.333333  60.433135  0.016531  \n",
       "5        0.200871     3.0     9.0     18.833333  10.903907  0.021772  \n",
       "6        0.030060     4.0     9.0      3.230769  85.675047  0.016949  \n",
       "7        0.033536     4.0     7.0      3.090909  95.765084  0.019737  \n",
       "8        0.024682     5.0     7.0      3.666667  95.765084  0.019737  \n",
       "9        0.036421     3.0     7.0      3.600000  95.765084  0.015989  "
      ]
     },
     "execution_count": 47,
     "metadata": {},
     "output_type": "execute_result"
    }
   ],
   "source": [
    "data1 = \\\n",
    "    pd.read_table(\n",
    "        \"data.txt\", na_values=['None']).drop(['edge_label', 'minmaxdfe'], axis=1)\n",
    "data1 = data1.fillna(data1.mean())\n",
    "data1.head(10)\n"
   ]
  },
  {
   "cell_type": "code",
   "execution_count": 48,
   "metadata": {
    "collapsed": true,
    "deletable": false,
    "editable": false,
    "nbgrader": {
     "checksum": "b09e0e9008e0602bd61e7a0104ddb1fc",
     "grade": true,
     "grade_id": "cell-092a4c8cba81de8e",
     "locked": true,
     "points": 5,
     "schema_version": 1,
     "solution": false
    }
   },
   "outputs": [],
   "source": [
    "assert_equal(type(data1), pd.core.frame.DataFrame)"
   ]
  },
  {
   "cell_type": "code",
   "execution_count": 49,
   "metadata": {
    "collapsed": true,
    "deletable": false,
    "editable": false,
    "nbgrader": {
     "checksum": "a7e07667b30ed03d98d0672a19fa455a",
     "grade": true,
     "grade_id": "cell-4025eedd103f6b1c",
     "locked": true,
     "points": 5,
     "schema_version": 1,
     "solution": false
    }
   },
   "outputs": [],
   "source": [
    "assert_equal(data1.shape, (753, 10))"
   ]
  },
  {
   "cell_type": "code",
   "execution_count": 50,
   "metadata": {
    "collapsed": true,
    "deletable": false,
    "editable": false,
    "nbgrader": {
     "checksum": "8125e7c4bc497994cbbfc4edaabf3599",
     "grade": true,
     "grade_id": "cell-fc880e6d432d8859",
     "locked": true,
     "points": 0,
     "schema_version": 1,
     "solution": false
    }
   },
   "outputs": [],
   "source": [
    "assert_false(pd.isnull(data1[\"exterior2surface\"][70]))"
   ]
  },
  {
   "cell_type": "code",
   "execution_count": null,
   "metadata": {
    "collapsed": true,
    "deletable": false,
    "editable": false,
    "nbgrader": {
     "checksum": "b43efd871b99b0717ccce34da306f473",
     "grade": true,
     "grade_id": "cell-b60e4a1a17c357b4",
     "locked": true,
     "points": 2,
     "schema_version": 1,
     "solution": false
    }
   },
   "outputs": [],
   "source": []
  },
  {
   "cell_type": "code",
   "execution_count": null,
   "metadata": {
    "collapsed": true,
    "deletable": false,
    "editable": false,
    "nbgrader": {
     "checksum": "e08e8924f6398785a448e8ca7a2cd789",
     "grade": true,
     "grade_id": "cell-5ec8fea30bec179b",
     "locked": true,
     "points": 3,
     "schema_version": 1,
     "solution": false
    }
   },
   "outputs": [],
   "source": []
  },
  {
   "cell_type": "code",
   "execution_count": 51,
   "metadata": {
    "collapsed": true,
    "deletable": false,
    "editable": false,
    "nbgrader": {
     "checksum": "fcfdc8476a0e7660a726bf370bab2739",
     "grade": true,
     "grade_id": "cell-fe95326b65ea2b0a",
     "locked": true,
     "points": 0,
     "schema_version": 1,
     "solution": false
    }
   },
   "outputs": [],
   "source": [
    "assert_almost_equal(data1[\"mindfe\"][732], 4.1495063469675602)"
   ]
  },
  {
   "cell_type": "code",
   "execution_count": null,
   "metadata": {
    "collapsed": true,
    "deletable": false,
    "editable": false,
    "nbgrader": {
     "checksum": "af3dff2b597f724dfd89505bba450665",
     "grade": true,
     "grade_id": "cell-c45f0ad5ec2adcf6",
     "locked": true,
     "points": 5,
     "schema_version": 1,
     "solution": false
    }
   },
   "outputs": [],
   "source": []
  },
  {
   "cell_type": "code",
   "execution_count": 52,
   "metadata": {
    "collapsed": true,
    "deletable": false,
    "editable": false,
    "nbgrader": {
     "checksum": "c9904a1d73647a7febeeaebc8ac7f68c",
     "grade": true,
     "grade_id": "cell-b4c46ca32e766387",
     "locked": true,
     "points": 0,
     "schema_version": 1,
     "solution": false
    }
   },
   "outputs": [],
   "source": [
    "assert_true(\"maxdfe\" in data1.columns)"
   ]
  },
  {
   "cell_type": "code",
   "execution_count": null,
   "metadata": {
    "collapsed": true,
    "deletable": false,
    "editable": false,
    "nbgrader": {
     "checksum": "621d928666cbd2fb5f16f8b0e2c5b627",
     "grade": true,
     "grade_id": "cell-35be7e5c8a2efdd7",
     "locked": true,
     "points": 2,
     "schema_version": 1,
     "solution": false
    }
   },
   "outputs": [],
   "source": []
  },
  {
   "cell_type": "code",
   "execution_count": 53,
   "metadata": {
    "collapsed": true,
    "deletable": false,
    "editable": false,
    "nbgrader": {
     "checksum": "d1e4113d595048e54a46c83508b24f91",
     "grade": true,
     "grade_id": "cell-fbc94f76dff38ab4",
     "locked": true,
     "points": 0,
     "schema_version": 1,
     "solution": false
    }
   },
   "outputs": [],
   "source": [
    "assert_false(\"edge_label\" in data1.columns)"
   ]
  },
  {
   "cell_type": "code",
   "execution_count": null,
   "metadata": {
    "collapsed": true,
    "deletable": false,
    "editable": false,
    "nbgrader": {
     "checksum": "39f4f69aa4903ea32ded654a928b412b",
     "grade": true,
     "grade_id": "cell-754d3dba1cdcf3a2",
     "locked": true,
     "points": 3,
     "schema_version": 1,
     "solution": false
    }
   },
   "outputs": [],
   "source": []
  },
  {
   "cell_type": "markdown",
   "metadata": {
    "deletable": false,
    "editable": false,
    "nbgrader": {
     "checksum": "d8faaa6600ab7d30fd398e7bc391ba2b",
     "grade": false,
     "grade_id": "cell-5de60450f5571827",
     "locked": true,
     "schema_version": 1,
     "solution": false
    }
   },
   "source": [
    "**Problem 2 (10 points):** Write a function `get_date` that takes a single positional argument and uses the parser defined in the [dateutil](http://dateutil.readthedocs.io/en/stable/parser.html#dateutil.parser.parse) package to convert the argument to a [`datetime`](https://docs.python.org/3/library/datetime.html) [`date`](https://docs.python.org/3/library/datetime.html#datetime.date) object. If the argument cannot be converted to a `date` object, the function should return a [Pandas `NaT`](https://pandas.pydata.org/pandas-docs/stable/missing_data.html#datetimes) (not a time) object.\n"
   ]
  },
  {
   "cell_type": "code",
   "execution_count": 54,
   "metadata": {
    "collapsed": true,
    "deletable": false,
    "nbgrader": {
     "checksum": "1295f6a2a3fd2a2354ad5ded0eee729d",
     "grade": false,
     "grade_id": "cell-5db86753d6569855",
     "locked": false,
     "schema_version": 1,
     "solution": true
    }
   },
   "outputs": [],
   "source": [
    "# YOUR CODE HERE\n",
    "def get_date(date):\n",
    "    \"\"\"\n",
    "    Uses the parser defined in the dateutil package to convert the argument to a datetime date object.\n",
    "    Arguments:\n",
    "        date: the date in string dormat to be converted.\n",
    "    Returns:\n",
    "        dt: the datatime date object\n",
    "    \"\"\"\n",
    "    try:\n",
    "        dt = parser.parse(date, dayfirst=False, yearfirst=False).date()\n",
    "        return dt\n",
    "    except:\n",
    "        return pd.NaT\n",
    "    "
   ]
  },
  {
   "cell_type": "code",
   "execution_count": 55,
   "metadata": {
    "collapsed": true,
    "deletable": false,
    "editable": false,
    "nbgrader": {
     "checksum": "c45595e84a2a62b19128f0e68809c480",
     "grade": true,
     "grade_id": "cell-a8491be3cd38b9d5",
     "locked": true,
     "points": 0,
     "schema_version": 1,
     "solution": false
    }
   },
   "outputs": [],
   "source": [
    "assert_equal(get_date(\"5/17/2007\"), datetime.date(2007, 5, 17))"
   ]
  },
  {
   "cell_type": "code",
   "execution_count": 56,
   "metadata": {
    "collapsed": true,
    "deletable": false,
    "editable": false,
    "nbgrader": {
     "checksum": "e3a502d7609a9f8a869bb39633867c19",
     "grade": true,
     "grade_id": "cell-6bb0dc2a182992bb",
     "locked": true,
     "points": 0,
     "schema_version": 1,
     "solution": false
    }
   },
   "outputs": [],
   "source": [
    "assert_true(pd.isnull(get_date(\"Hello\")))"
   ]
  },
  {
   "cell_type": "code",
   "execution_count": null,
   "metadata": {
    "collapsed": true,
    "deletable": false,
    "editable": false,
    "nbgrader": {
     "checksum": "49c29880bcaee11efc9cfec1babd3c88",
     "grade": true,
     "grade_id": "cell-304f2dd43a0f9976",
     "locked": true,
     "points": 5,
     "schema_version": 1,
     "solution": false
    }
   },
   "outputs": [],
   "source": []
  },
  {
   "cell_type": "code",
   "execution_count": null,
   "metadata": {
    "collapsed": true,
    "deletable": false,
    "editable": false,
    "nbgrader": {
     "checksum": "ac5bc8446b1d3787007f8d863251095b",
     "grade": true,
     "grade_id": "cell-95ecb610a1de2481",
     "locked": true,
     "points": 5,
     "schema_version": 1,
     "solution": false
    }
   },
   "outputs": [],
   "source": []
  },
  {
   "cell_type": "markdown",
   "metadata": {
    "deletable": false,
    "editable": false,
    "nbgrader": {
     "checksum": "df068184db94c06a2e108db1ba07fc7f",
     "grade": false,
     "grade_id": "cell-655687760eea9f78",
     "locked": true,
     "schema_version": 1,
     "solution": false
    }
   },
   "source": [
    "**Problem 3 (5 points):** Write a function get_date that takes a single positional argument and uses the parser defined in the dateutil package to convert the argument to a datetime time object. If the argument cannot be converted to a time object, the function should return a Pandas NaT (not a time) object."
   ]
  },
  {
   "cell_type": "code",
   "execution_count": 57,
   "metadata": {
    "collapsed": true,
    "deletable": false,
    "nbgrader": {
     "checksum": "f44c360b785353d9b2d8e9a6454245b0",
     "grade": false,
     "grade_id": "cell-ed5f1125c841cb25",
     "locked": false,
     "schema_version": 1,
     "solution": true
    }
   },
   "outputs": [],
   "source": [
    "# YOUR CODE HERE\n",
    "def get_time(time):\n",
    "    \"\"\"\n",
    "    Uses the parser defined in the dateutil package to convert the argument to a datetime time object.\n",
    "    Arguments:\n",
    "        time: the time in string dormat to be converted.\n",
    "    Returns:\n",
    "        dt: the datatime time object\n",
    "    \"\"\"\n",
    "    try:\n",
    "        dt = parser.parse(time, dayfirst=False, yearfirst=False).time()\n",
    "        return dt\n",
    "    except:\n",
    "        return pd.NaT"
   ]
  },
  {
   "cell_type": "code",
   "execution_count": 58,
   "metadata": {
    "collapsed": true,
    "deletable": false,
    "editable": false,
    "nbgrader": {
     "checksum": "773858cfd3015fbe37c39c31cb447420",
     "grade": true,
     "grade_id": "cell-81bf30ac02a094bf",
     "locked": true,
     "points": 2,
     "schema_version": 1,
     "solution": false
    }
   },
   "outputs": [],
   "source": [
    "assert_true(pd.isnull(get_time(\"Hello\")))"
   ]
  },
  {
   "cell_type": "code",
   "execution_count": null,
   "metadata": {
    "collapsed": true,
    "deletable": false,
    "editable": false,
    "nbgrader": {
     "checksum": "3337bc41a62523479b9df9d93fab5606",
     "grade": true,
     "grade_id": "cell-1c814383db8fce36",
     "locked": true,
     "points": 3,
     "schema_version": 1,
     "solution": false
    }
   },
   "outputs": [],
   "source": []
  },
  {
   "cell_type": "markdown",
   "metadata": {
    "deletable": false,
    "editable": false,
    "nbgrader": {
     "checksum": "2b902cba8925e27e73d37b61fc1b2140",
     "grade": false,
     "grade_id": "cell-0541d205d1499d62",
     "locked": true,
     "schema_version": 1,
     "solution": false
    }
   },
   "source": [
    "**Problem 4 (15 points):** Write a function `get_range` that takes a positional argument containing a string from which to extract a range and a keyword argument named `delimiter` that has a string indicating the delimiter between the low and high values of the range. The function should **try** to return a tuple of two floating point values (the low range value and the high range value). \n",
    "\n",
    "The function should return a two-tuple `np.nan` values  (`(np.nan, np.nan)`) for the following conditions:\n",
    "\n",
    "1. The string does not contain exactly one instance of `delimiter`.\n",
    "1. The attempt to extract two floating point values fails.   \n",
    "\n",
    "If either the positional or keyword arguments are not strings, return a `TypeError`."
   ]
  },
  {
   "cell_type": "code",
   "execution_count": 285,
   "metadata": {
    "collapsed": true,
    "deletable": false,
    "nbgrader": {
     "checksum": "ff7b1001657ad7ad621a6ddb86963561",
     "grade": false,
     "grade_id": "cell-e8ca21293ad89c6d",
     "locked": false,
     "schema_version": 1,
     "solution": true
    }
   },
   "outputs": [],
   "source": [
    "# YOUR CODE HERE\n",
    "def get_range(range_in, delimeter=\"1\"):\n",
    "    \"\"\"\n",
    "    Extracts a range\n",
    "    Arguments:\n",
    "        range_in: string from which to extract a range.\n",
    "        delimeter: a string indicating the delimiter between the low and high values of the range.\n",
    "    Returns:\n",
    "        range_out: a tuple of two floating point values representing the low range value and the high range value.\n",
    "    \"\"\"\n",
    "    if not isinstance(range_in, str) or not isinstance(delimeter, str):\n",
    "        raise TypeError\n",
    "    else:\n",
    "        try:\n",
    "            d = float(delimeter)\n",
    "            nums = [float(s) for s in range_in.split(\"-\")]\n",
    "            if len(nums) != 2:\n",
    "                return tuple((np.nan, np.nan))\n",
    "            out = (float(nums[0]),float(nums[1]))\n",
    "            return out\n",
    "        \n",
    "        except:\n",
    "            return tuple((np.nan, np.nan))  "
   ]
  },
  {
   "cell_type": "code",
   "execution_count": 234,
   "metadata": {
    "collapsed": true,
    "deletable": false,
    "editable": false,
    "nbgrader": {
     "checksum": "35faf78e896b6da1d5d221212bebe4c5",
     "grade": true,
     "grade_id": "cell-3e45e066448be1f0",
     "locked": true,
     "points": 2,
     "schema_version": 1,
     "solution": false
    }
   },
   "outputs": [],
   "source": [
    "assert_raises(TypeError, get_range, 5.4)"
   ]
  },
  {
   "cell_type": "code",
   "execution_count": 235,
   "metadata": {
    "collapsed": true,
    "deletable": false,
    "editable": false,
    "nbgrader": {
     "checksum": "d6bc262fbc5279d43e445437509ba3f4",
     "grade": true,
     "grade_id": "cell-74138019787f16f8",
     "locked": true,
     "points": 3,
     "schema_version": 1,
     "solution": false
    }
   },
   "outputs": [],
   "source": [
    "assert_raises(TypeError, get_range, 5.4, delimiter=(5,4,3))"
   ]
  },
  {
   "cell_type": "code",
   "execution_count": 236,
   "metadata": {
    "collapsed": true,
    "deletable": false,
    "editable": false,
    "nbgrader": {
     "checksum": "aa7293a8f6d9ea9a1936e842a3461018",
     "grade": true,
     "grade_id": "cell-7169e27bcd70d566",
     "locked": true,
     "points": 0,
     "schema_version": 1,
     "solution": false
    }
   },
   "outputs": [],
   "source": [
    "assert_true(np.isnan(get_range(\"12-24-1972\")).all())"
   ]
  },
  {
   "cell_type": "code",
   "execution_count": 237,
   "metadata": {
    "collapsed": true,
    "deletable": false,
    "editable": false,
    "nbgrader": {
     "checksum": "5e0b3e930e01ccbe74ab9685cd0840e3",
     "grade": true,
     "grade_id": "cell-593d149049688ba0",
     "locked": true,
     "points": 0,
     "schema_version": 1,
     "solution": false
    }
   },
   "outputs": [],
   "source": [
    "assert_equal(get_range(\"15-20\"), (15,20))"
   ]
  },
  {
   "cell_type": "code",
   "execution_count": null,
   "metadata": {
    "collapsed": true,
    "deletable": false,
    "editable": false,
    "nbgrader": {
     "checksum": "979a2598e6e471e313b11c7684b604c3",
     "grade": true,
     "grade_id": "cell-c563f84b6669df5d",
     "locked": true,
     "points": 3,
     "schema_version": 1,
     "solution": false
    }
   },
   "outputs": [],
   "source": []
  },
  {
   "cell_type": "code",
   "execution_count": null,
   "metadata": {
    "collapsed": true,
    "deletable": false,
    "editable": false,
    "nbgrader": {
     "checksum": "abdc5d3c43e4ec4070b2eed2e26c9f84",
     "grade": true,
     "grade_id": "cell-bd3a94e5c9ca5805",
     "locked": true,
     "points": 2,
     "schema_version": 1,
     "solution": false
    }
   },
   "outputs": [],
   "source": []
  },
  {
   "cell_type": "code",
   "execution_count": null,
   "metadata": {
    "collapsed": true,
    "deletable": false,
    "editable": false,
    "nbgrader": {
     "checksum": "d31a364077439429fe70b650db90e389",
     "grade": true,
     "grade_id": "cell-0b550ff356f19caa",
     "locked": true,
     "points": 5,
     "schema_version": 1,
     "solution": false
    }
   },
   "outputs": [],
   "source": []
  },
  {
   "cell_type": "markdown",
   "metadata": {
    "deletable": false,
    "editable": false,
    "nbgrader": {
     "checksum": "bc1554cc95afdcd7cae6d8d338e4e23e",
     "grade": false,
     "grade_id": "cell-e5fe2ab21e18819a",
     "locked": true,
     "schema_version": 1,
     "solution": false
    }
   },
   "source": [
    "**Problem 5 (10 points):** Write a function `is_number` that takes a single positional argument and returns True if that argument can be converted to a `float` and `false` if it cannot."
   ]
  },
  {
   "cell_type": "code",
   "execution_count": 64,
   "metadata": {
    "collapsed": true,
    "deletable": false,
    "nbgrader": {
     "checksum": "2596c4badbbcc72d852eac81da8f0879",
     "grade": false,
     "grade_id": "cell-e5775eac7f9cf462",
     "locked": false,
     "schema_version": 1,
     "solution": true
    }
   },
   "outputs": [],
   "source": [
    "# YOUR CODE HERE\n",
    "def is_number(number):\n",
    "    \"\"\"\n",
    "    Returns True if that argument can be converted to a float and  false if it cannot\n",
    "    Argument:\n",
    "        number: the number to test\n",
    "    \"\"\"\n",
    "    try:\n",
    "        float(number)\n",
    "        return True\n",
    "    except:\n",
    "        return False\n"
   ]
  },
  {
   "cell_type": "code",
   "execution_count": 65,
   "metadata": {
    "collapsed": true,
    "deletable": false,
    "editable": false,
    "nbgrader": {
     "checksum": "032c577099b140da388d4ab2ad4900c2",
     "grade": true,
     "grade_id": "cell-5a5e78ec1a999d97",
     "locked": true,
     "points": 0,
     "schema_version": 1,
     "solution": false
    }
   },
   "outputs": [],
   "source": [
    "assert_true(is_number(\"5.3e4\"))"
   ]
  },
  {
   "cell_type": "code",
   "execution_count": 66,
   "metadata": {
    "collapsed": true,
    "deletable": false,
    "editable": false,
    "nbgrader": {
     "checksum": "fd4f96cfa57e5ba856d82a57d0eaaad2",
     "grade": true,
     "grade_id": "cell-ece8aebfca0bfaeb",
     "locked": true,
     "points": 0,
     "schema_version": 1,
     "solution": false
    }
   },
   "outputs": [],
   "source": [
    "assert_false(is_number(\">5000\"))"
   ]
  },
  {
   "cell_type": "code",
   "execution_count": null,
   "metadata": {
    "collapsed": true,
    "deletable": false,
    "editable": false,
    "nbgrader": {
     "checksum": "bedcb6264b6a3b6fc12974ef2f829ebf",
     "grade": true,
     "grade_id": "cell-5fd7f943c02e72bd",
     "locked": true,
     "points": 5,
     "schema_version": 1,
     "solution": false
    }
   },
   "outputs": [],
   "source": []
  },
  {
   "cell_type": "code",
   "execution_count": null,
   "metadata": {
    "collapsed": true,
    "deletable": false,
    "editable": false,
    "nbgrader": {
     "checksum": "56ced3f0723164e66691275cab8e89db",
     "grade": true,
     "grade_id": "cell-567f714caf748bb3",
     "locked": true,
     "points": 5,
     "schema_version": 1,
     "solution": false
    }
   },
   "outputs": [],
   "source": []
  },
  {
   "cell_type": "markdown",
   "metadata": {
    "deletable": false,
    "editable": false,
    "nbgrader": {
     "checksum": "47d48a500f55511aba008b3ca64a6634",
     "grade": false,
     "grade_id": "cell-d567ba222b958885",
     "locked": true,
     "schema_version": 1,
     "solution": false
    }
   },
   "source": [
    "**Problem 6 (5 points):** Write a function `get_value` that takes a single positional argument (e.g. `x`) and returns `x` converted to a float. If the conversion fails, return `np.nan`."
   ]
  },
  {
   "cell_type": "code",
   "execution_count": 67,
   "metadata": {
    "collapsed": true,
    "deletable": false,
    "nbgrader": {
     "checksum": "750bb842f35c7708984a0e4d2d95b881",
     "grade": false,
     "grade_id": "cell-2dffeb667ae8c468",
     "locked": false,
     "schema_version": 1,
     "solution": true
    }
   },
   "outputs": [],
   "source": [
    "# YOUR CODE HERE\n",
    "def get_value(x):\n",
    "    try:\n",
    "        return float(x)\n",
    "    except:\n",
    "        return np.nan"
   ]
  },
  {
   "cell_type": "code",
   "execution_count": 68,
   "metadata": {
    "collapsed": true,
    "deletable": false,
    "editable": false,
    "nbgrader": {
     "checksum": "7ce9b76c19aa081e1ce792987cbffdfd",
     "grade": true,
     "grade_id": "cell-054827c5de345630",
     "locked": true,
     "points": 2,
     "schema_version": 1,
     "solution": false
    }
   },
   "outputs": [],
   "source": [
    "assert_true(np.isnan(get_value(\"[5.4]\")))"
   ]
  },
  {
   "cell_type": "code",
   "execution_count": 69,
   "metadata": {
    "collapsed": true,
    "deletable": false,
    "editable": false,
    "nbgrader": {
     "checksum": "991f1f3ebedfddd66084970921d8a04f",
     "grade": true,
     "grade_id": "cell-e4e569a39d5f20aa",
     "locked": true,
     "points": 3,
     "schema_version": 1,
     "solution": false
    }
   },
   "outputs": [],
   "source": [
    "assert_equal(get_value(\"5.7\"), 5.7)"
   ]
  },
  {
   "cell_type": "markdown",
   "metadata": {},
   "source": [
    "### For the following problems we will use the `sampleLabs.txt` file\n",
    "#### In this directory is a file (`sampleLabs.txt`) with a set of lab values. The file includes lab values obtained on different individuals during their in-patient hospitalizations. "
   ]
  },
  {
   "cell_type": "markdown",
   "metadata": {
    "deletable": false,
    "editable": false,
    "nbgrader": {
     "checksum": "8ffd8c18e06e19f9e5058b6eeeb730f7",
     "grade": false,
     "grade_id": "cell-a26983e1acb4e4a6",
     "locked": true,
     "schema_version": 1,
     "solution": false
    }
   },
   "source": [
    "**Problem 7 (15 points)**: Use `is_number()`, list comprehension, and the Pandas Series `unique` method to create a list of all non-numeric values in the `result` Series of `lab_data`. By non-numeric, I mean any value that cannot be converted to a `float`."
   ]
  },
  {
   "cell_type": "code",
   "execution_count": 238,
   "metadata": {
    "deletable": false,
    "nbgrader": {
     "checksum": "c4b5522f546cf1aaed3ffc059b945ca7",
     "grade": false,
     "grade_id": "cell-3456eb0295551017",
     "locked": false,
     "schema_version": 1,
     "solution": true
    }
   },
   "outputs": [
    {
     "name": "stdout",
     "output_type": "stream",
     "text": [
      "['MISL', 'ID', '>5000', '<2', 'RQ', 'CNTM', 'A', 'Mislabeled', 'RQER', 'LERR', 'NCAL', 'NDA', 'QNS']\n"
     ]
    }
   ],
   "source": [
    "non_number_results = []\n",
    "lab_data = pd.read_table(\"samplelabs.txt\")\n",
    "\n",
    "uniques = lab_data['result'].unique()\n",
    "for word in uniques:\n",
    "    if not is_number(word):\n",
    "        non_number_results.append(word)\n",
    "\n",
    "print(non_number_results)\n",
    "    "
   ]
  },
  {
   "cell_type": "code",
   "execution_count": 239,
   "metadata": {
    "collapsed": true,
    "deletable": false,
    "editable": false,
    "nbgrader": {
     "checksum": "0978ba16e671e587b694638739f3f2cb",
     "grade": true,
     "grade_id": "cell-556d11607452a963",
     "locked": true,
     "points": 5,
     "schema_version": 1,
     "solution": false
    }
   },
   "outputs": [],
   "source": [
    "assert_true(type(non_number_results)==list)"
   ]
  },
  {
   "cell_type": "code",
   "execution_count": null,
   "metadata": {
    "collapsed": true,
    "deletable": false,
    "editable": false,
    "nbgrader": {
     "checksum": "104819d33027241e800e968ff34548c9",
     "grade": true,
     "grade_id": "cell-161eccac12e719b5",
     "locked": true,
     "points": 10,
     "schema_version": 1,
     "solution": false
    }
   },
   "outputs": [],
   "source": []
  },
  {
   "cell_type": "markdown",
   "metadata": {},
   "source": [
    "**Problem 8. (40 Points):**  Use Pandas to write a function named `read_labs` that does the following:\n",
    "\n",
    "* Takes the name of the file to read as a positional argument\n",
    "* Takes as a keyword argument named `converters` a dictionary with keys equal to the test component names (columns in DataFrame) and as values, functions that convert the expected column value to the appropriate type. You should use the ordered dictionary (`converters`) I define below.\n",
    "* Reads the contents of the input file into a **default dictionary** keyed by **visitid**. The value for each **visitid** should be a **list** of tests. For each row, use `converters` to convert the row value from a string to the appropriate data type (eg. float, datetime.date). Each test result result should be stored as a tuple of 2-tuples with the first element being the explanatory metadata (i.e, the column name) and the second element being the converted value.\n",
    "\n",
    "#### Hints\n",
    "\n",
    "1. Use the DataFrame `iterrows` method to iterate over each row in the DataFrame.\n",
    "1. Use the function `get_test_values` to convert the data types of each row.\n",
    "1. Use slicing on the row to grab the test values (`visitid` is going to be the key for the dictionary and should not be part of the test result tuple.\n",
    "1. A row is a Pandas Series and we can access the elements of the row using either an index or the column name:\n",
    "\n",
    "```Python\n",
    "print(row)\n",
    "print()\n",
    "print(row[2])\n",
    "print(row[\"ctime\"])\n",
    "\n",
    "visitid    OMHioJh8XEeq7152\n",
    "cdate             6/13/2007\n",
    "ctime                 06:30\n",
    "pqno       1181750718122403\n",
    "test                  CREAT\n",
    "result                  1.0\n",
    "unit                  mg/dL\n",
    "range               0.5-1.4\n",
    "Name: 5, dtype: object\n",
    "\n",
    "06:30\n",
    "06:30\n",
    "```\n",
    "\n",
    "Your resulting output should look something like this:\n",
    "\n",
    "```Python\n",
    "defaultdict(list,\n",
    "            {'+yhZLyY5Uqra5115': [[('cdate', datetime.date(2005, 4, 29)),\n",
    "               ('ctime', datetime.time(6, 30)),\n",
    "               ('pqno', 1114780124780442),\n",
    "               ('test', 'CREAT'),\n",
    "               ('result', 3.4),\n",
    "               ('unit', 'mg/dL'),\n",
    "               ('range', (0.5, 1.4))],\n",
    "              [('cdate', datetime.date(2005, 4, 28)),\n",
    "               ('ctime', datetime.time(6, 45)),\n",
    "               ('pqno', 1114692308737109),\n",
    "               ('test', 'CREAT'),\n",
    "               ('result', 8.6),\n",
    "               ('unit', 'mg/dL'),\n",
    "               ('range', (0.5, 1.4))],\n",
    "              [('cdate', datetime.date(2005, 5, 2)),\n",
    "               ('ctime', datetime.time(4, 0)),\n",
    "               ('pqno', 1115041801503288),\n",
    "               ('test', 'CREAT'),\n",
    "               ('result', 1.6),\n",
    "               ('unit', 'mg/dL'),\n",
    "               ('range', (0.5, 1.4))],\n",
    "              [('cdate', datetime.date(2005, 4, 30)),\n",
    "               ('ctime', datetime.time(4, 0)),\n",
    "               ('pqno', 1114875733484671),\n",
    "               ('test', 'CREAT'),\n",
    "               ('result', 1.9),\n",
    "               ('unit', 'mg/dL'),\n",
    "               ('range', (0.5, 1.4))],\n",
    "              [('cdate', datetime.date(2005, 4, 26)),\n",
    "               ('ctime', datetime.time(16, 5)),\n",
    "               ('pqno', 1114551787814371),\n",
    "               ('test', 'CREAT'),\n",
    "               ('result', 16.0),\n",
    "               ('unit', 'mg/dL'),\n",
    "               ('range', (0.5, 1.4))],\n",
    "              [('cdate', datetime.date(2005, 5, 1)),\n",
    "               ('ctime', datetime.time(4, 0)),\n",
    "               ('pqno', 1114957388877371),\n",
    "               ('test', 'CREAT'),\n",
    "               ('result', 1.7),\n",
    "               ('unit', 'mg/dL'),\n",
    "               ('range', (0.5, 1.4))]],}\n",
    "```"
   ]
  },
  {
   "cell_type": "code",
   "execution_count": 286,
   "metadata": {
    "collapsed": true,
    "deletable": false,
    "editable": false,
    "nbgrader": {
     "checksum": "230b3eab85e01f94e901e4445cbbd15c",
     "grade": false,
     "grade_id": "cell-c13c74c623a070b3",
     "locked": true,
     "schema_version": 1,
     "solution": false
    }
   },
   "outputs": [],
   "source": [
    "from collections import OrderedDict\n",
    "converters = OrderedDict((('cdate', get_date), \n",
    "                          ('ctime', get_time), \n",
    "                          ('pqno', lambda x:x), \n",
    "                          ('test', lambda x:x), \n",
    "                          ('result', get_value), \n",
    "                          ('unit', lambda x:x), \n",
    "                          ('range', get_range)))"
   ]
  },
  {
   "cell_type": "code",
   "execution_count": 287,
   "metadata": {
    "collapsed": true,
    "deletable": false,
    "nbgrader": {
     "checksum": "6c657d238302b71a68360590230f5b1c",
     "grade": false,
     "grade_id": "cell-03d7de4141bc1410",
     "locked": false,
     "schema_version": 1,
     "solution": true
    }
   },
   "outputs": [],
   "source": [
    "import datetime\n",
    "import os\n",
    "import pandas as pd\n",
    "from collections import defaultdict\n",
    "\n",
    "        \n",
    "def get_test_values(row, converters):\n",
    "    \"\"\"\n",
    "    Arguments:\n",
    "        row: A row from a Pandas DataFrame\n",
    "        converters: A Dictionary with keys the DataFrame column names and \n",
    "            values functions to convert each column value\n",
    "    Returns:\n",
    "        A tuple of two-tuples. Each two-tuple consists of the column name\n",
    "            and the converted column value\n",
    "    \"\"\"\n",
    "    # YOUR CODE HERE\n",
    "    tuples = []\n",
    "    for k,v in converters.items():\n",
    "        tuples.append((k,v(row[k])))\n",
    "    return tuples\n",
    "    \n",
    "    \n",
    "def read_labs(fname, converters):\n",
    "    \"\"\"\n",
    "    Arguments:\n",
    "        fname: Path to a file containing lab values\n",
    "        converters: A Dictionary with keys the DataFrame column names and \n",
    "            values functions to convert each column value\n",
    "    Returns:\n",
    "        A default dictionary with keys being the visitid and values\n",
    "            begin a list of test results\n",
    "    \"\"\"\n",
    "    # YOUR CODE HERE\n",
    "    dic = defaultdict(list)\n",
    "    data = pd.read_table(fname)\n",
    "    row_iterator = data.iterrows()\n",
    "    for i, row in row_iterator:\n",
    "        values = get_test_values(row, converters)\n",
    "        dic[row[0]].append(values)\n",
    "    return dic"
   ]
  },
  {
   "cell_type": "code",
   "execution_count": 288,
   "metadata": {
    "deletable": false,
    "editable": false,
    "nbgrader": {
     "checksum": "95167407bdb40d72b470d8a31de4cefd",
     "grade": false,
     "grade_id": "cell-9d5575c03fda4dac",
     "locked": true,
     "schema_version": 1,
     "solution": false
    }
   },
   "outputs": [],
   "source": [
    "sorted_labs = read_labs(\"samplelabs.txt\", converters)"
   ]
  },
  {
   "cell_type": "code",
   "execution_count": 289,
   "metadata": {
    "collapsed": true,
    "deletable": false,
    "editable": false,
    "nbgrader": {
     "checksum": "eca2eacf4c21906b2796c8c48c85a85a",
     "grade": true,
     "grade_id": "cell-8ced45219fdd9711",
     "locked": true,
     "points": 5,
     "schema_version": 1,
     "solution": false
    }
   },
   "outputs": [],
   "source": [
    "assert_equal(sorted_labs['X4HZ5/mbdrls7055'][8][1][1], datetime.time(4, 4))"
   ]
  },
  {
   "cell_type": "code",
   "execution_count": 290,
   "metadata": {
    "deletable": false,
    "editable": false,
    "nbgrader": {
     "checksum": "43c34d3964914a1e3381dcb87a86fcd4",
     "grade": true,
     "grade_id": "cell-54f1522d387b02f1",
     "locked": true,
     "points": 5,
     "schema_version": 1,
     "solution": false
    }
   },
   "outputs": [],
   "source": [
    "assert_almost_equal(sorted_labs[\"3WobBYVBHdIa6106\"][5][6][1],(0.5,1.4))"
   ]
  },
  {
   "cell_type": "code",
   "execution_count": 291,
   "metadata": {
    "collapsed": true,
    "deletable": false,
    "editable": false,
    "nbgrader": {
     "checksum": "168f0498d92b4d350d7bb88687a803d0",
     "grade": true,
     "grade_id": "cell-3aa0b756312408ff",
     "locked": true,
     "points": 5,
     "schema_version": 1,
     "solution": false
    }
   },
   "outputs": [],
   "source": [
    "assert_true('QLE6UIMptiKf5228' in sorted_labs)"
   ]
  },
  {
   "cell_type": "code",
   "execution_count": 292,
   "metadata": {
    "collapsed": true,
    "deletable": false,
    "editable": false,
    "nbgrader": {
     "checksum": "f694b2e408ff3e37fb08d293f64d468a",
     "grade": true,
     "grade_id": "cell-996eb2c6d4ce08ea",
     "locked": true,
     "points": 5,
     "schema_version": 1,
     "solution": false
    }
   },
   "outputs": [],
   "source": [
    "assert_equal(len(sorted_labs['n9b8R+Aynzy+5257']),  31)"
   ]
  },
  {
   "cell_type": "code",
   "execution_count": 293,
   "metadata": {
    "collapsed": true,
    "deletable": false,
    "editable": false,
    "nbgrader": {
     "checksum": "6f8655b6114da4295ef71b26f9c1fa55",
     "grade": true,
     "grade_id": "cell-b23ec7c9eb0d9b9a",
     "locked": true,
     "points": 5,
     "schema_version": 1,
     "solution": false
    }
   },
   "outputs": [],
   "source": [
    "assert_equal(sorted_labs['yyutduwkJpYJ7131'][1][1], \n",
    "             ('ctime', datetime.time(6, 15)))"
   ]
  },
  {
   "cell_type": "code",
   "execution_count": 294,
   "metadata": {
    "collapsed": true,
    "deletable": false,
    "editable": false,
    "nbgrader": {
     "checksum": "bdd2359d61a7ad1b5dfaefac68a0f160",
     "grade": true,
     "grade_id": "cell-81c651eb76ec7312",
     "locked": true,
     "points": 5,
     "schema_version": 1,
     "solution": false
    }
   },
   "outputs": [],
   "source": [
    "assert_true(type(sorted_labs['yyutduwkJpYJ7131'][1]),tuple)"
   ]
  },
  {
   "cell_type": "code",
   "execution_count": 295,
   "metadata": {
    "collapsed": true,
    "deletable": false,
    "editable": false,
    "nbgrader": {
     "checksum": "0c260d98dc456dcc1274c32b4b2e86b8",
     "grade": true,
     "grade_id": "cell-8ebc48c309376589",
     "locked": true,
     "points": 5,
     "schema_version": 1,
     "solution": false
    }
   },
   "outputs": [],
   "source": [
    "assert_true(np.isnan(sorted_labs['deaOcpSo0N617039'][14][4][1]))"
   ]
  },
  {
   "cell_type": "code",
   "execution_count": 296,
   "metadata": {
    "collapsed": true,
    "deletable": false,
    "editable": false,
    "nbgrader": {
     "checksum": "fad10a9a88186cdbe33c49daef4a0f10",
     "grade": true,
     "grade_id": "cell-4e60f6362afad4f4",
     "locked": true,
     "points": 5,
     "schema_version": 1,
     "solution": false
    }
   },
   "outputs": [],
   "source": [
    "assert_true(np.isnan(sorted_labs['QLE6UIMptiKf5228'][17][6][1]).all())"
   ]
  },
  {
   "cell_type": "markdown",
   "metadata": {
    "deletable": false,
    "editable": false,
    "nbgrader": {
     "checksum": "cf5d8a2c212e659cf4420e0119f004e5",
     "grade": false,
     "grade_id": "cell-bc9ab97337b36570",
     "locked": true,
     "schema_version": 1,
     "solution": false
    }
   },
   "source": [
    "**Problem 9 (20 points)**: Use Pandas to read in the file ~/Data/Numerics/mimic2/bp/subjects/19468.txt. Rename the columns to be \"systolic\" and \"diastolic\". Create a new column named \"difference\" with values equal to the difference between the \"systolic\" and \"diastolic\" values."
   ]
  },
  {
   "cell_type": "code",
   "execution_count": 44,
   "metadata": {
    "deletable": false,
    "nbgrader": {
     "checksum": "3e0f260cdef2d547177616f79df10b1c",
     "grade": false,
     "grade_id": "cell-f45413b9622cd5dc",
     "locked": false,
     "schema_version": 1,
     "solution": true
    }
   },
   "outputs": [
    {
     "data": {
      "text/html": [
       "<div>\n",
       "<table border=\"1\" class=\"dataframe\">\n",
       "  <thead>\n",
       "    <tr style=\"text-align: right;\">\n",
       "      <th></th>\n",
       "      <th>systolic</th>\n",
       "      <th>diastolic</th>\n",
       "      <th>difference</th>\n",
       "    </tr>\n",
       "  </thead>\n",
       "  <tbody>\n",
       "    <tr>\n",
       "      <th>0</th>\n",
       "      <td>121</td>\n",
       "      <td>24</td>\n",
       "      <td>97</td>\n",
       "    </tr>\n",
       "    <tr>\n",
       "      <th>1</th>\n",
       "      <td>131</td>\n",
       "      <td>35</td>\n",
       "      <td>96</td>\n",
       "    </tr>\n",
       "    <tr>\n",
       "      <th>2</th>\n",
       "      <td>123</td>\n",
       "      <td>42</td>\n",
       "      <td>81</td>\n",
       "    </tr>\n",
       "  </tbody>\n",
       "</table>\n",
       "</div>"
      ],
      "text/plain": [
       "   systolic  diastolic  difference\n",
       "0       121         24          97\n",
       "1       131         35          96\n",
       "2       123         42          81"
      ]
     },
     "execution_count": 44,
     "metadata": {},
     "output_type": "execute_result"
    }
   ],
   "source": [
    "# COULDN'T FIND THE FILE, CREATED AND USED BP.TXT INSTEAD\n",
    "def difference(row):\n",
    "    return row['systolic'] - row['diastolic']\n",
    "\n",
    "bpdata = \\\n",
    "    pd.read_csv(\n",
    "        \"bp.txt\", header=None)\n",
    "'''\n",
    "bpdata = \\\n",
    "    pd.read_csv(\n",
    "        \" ~/Data/Numerics/mimic2/bp/subjects/19468.txt\", header=None)\n",
    "'''   \n",
    "bpdata.columns = ['systolic', 'diastolic']\n",
    "bpdata['difference'] = bpdata.apply (lambda row: difference(row), axis=1)\n",
    "bpdata.head()"
   ]
  },
  {
   "cell_type": "code",
   "execution_count": 38,
   "metadata": {
    "deletable": false,
    "editable": false,
    "nbgrader": {
     "checksum": "5660d2a0bc7346c05ee834eac669699a",
     "grade": true,
     "grade_id": "cell-34db8c293edf535b",
     "locked": true,
     "points": 5,
     "schema_version": 1,
     "solution": false
    }
   },
   "outputs": [
    {
     "ename": "AttributeError",
     "evalue": "'NoneType' object has no attribute 'shape'",
     "output_type": "error",
     "traceback": [
      "\u001b[0;31m---------------------------------------------------------------------------\u001b[0m",
      "\u001b[0;31mAttributeError\u001b[0m                            Traceback (most recent call last)",
      "\u001b[0;32m<ipython-input-38-f6599d7fd904>\u001b[0m in \u001b[0;36m<module>\u001b[0;34m()\u001b[0m\n\u001b[0;32m----> 1\u001b[0;31m \u001b[0massert_equal\u001b[0m\u001b[0;34m(\u001b[0m\u001b[0mbpdata\u001b[0m\u001b[0;34m.\u001b[0m\u001b[0mshape\u001b[0m\u001b[0;34m,\u001b[0m \u001b[0;34m(\u001b[0m\u001b[0;36m35\u001b[0m\u001b[0;34m,\u001b[0m\u001b[0;36m3\u001b[0m\u001b[0;34m)\u001b[0m\u001b[0;34m)\u001b[0m\u001b[0;34m\u001b[0m\u001b[0m\n\u001b[0m",
      "\u001b[0;31mAttributeError\u001b[0m: 'NoneType' object has no attribute 'shape'"
     ]
    }
   ],
   "source": [
    "assert_equal(bpdata.shape, (35,3))"
   ]
  },
  {
   "cell_type": "code",
   "execution_count": null,
   "metadata": {
    "collapsed": true,
    "deletable": false,
    "editable": false,
    "nbgrader": {
     "checksum": "8c109472bc6db075ca9e2fa9b7402a33",
     "grade": true,
     "grade_id": "cell-a3b0e7ebb62f2ffa",
     "locked": true,
     "points": 5,
     "schema_version": 1,
     "solution": false
    }
   },
   "outputs": [],
   "source": [
    "assert_equal(bpdata.columns.tolist(), ['systolic', 'diastolic', 'difference'])"
   ]
  },
  {
   "cell_type": "code",
   "execution_count": null,
   "metadata": {
    "collapsed": true,
    "deletable": false,
    "editable": false,
    "nbgrader": {
     "checksum": "bdc8c2f52e645176158b0f0c172dae9b",
     "grade": true,
     "grade_id": "cell-829c6b2b475fda3f",
     "locked": true,
     "points": 5,
     "schema_version": 1,
     "solution": false
    }
   },
   "outputs": [],
   "source": [
    "assert_almost_equal(bpdata[\"systolic\"].mean(), 142.71428571428572)"
   ]
  },
  {
   "cell_type": "code",
   "execution_count": null,
   "metadata": {
    "collapsed": true,
    "deletable": false,
    "editable": false,
    "nbgrader": {
     "checksum": "d2cd38e7fed944fa63d73ea47d9c7285",
     "grade": true,
     "grade_id": "cell-1777b4334d4cb9d2",
     "locked": true,
     "points": 5,
     "schema_version": 1,
     "solution": false
    }
   },
   "outputs": [],
   "source": [
    "assert_equal(bpdata[\"systolic\"].dtype, np.int64)"
   ]
  }
 ],
 "metadata": {
  "kernelspec": {
   "display_name": "Python 3",
   "language": "python",
   "name": "python3"
  },
  "language_info": {
   "codemirror_mode": {
    "name": "ipython",
    "version": 3
   },
   "file_extension": ".py",
   "mimetype": "text/x-python",
   "name": "python",
   "nbconvert_exporter": "python",
   "pygments_lexer": "ipython3",
   "version": "3.5.2"
  }
 },
 "nbformat": 4,
 "nbformat_minor": 1
}

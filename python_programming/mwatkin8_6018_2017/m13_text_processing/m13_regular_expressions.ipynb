{
 "cells": [
  {
   "cell_type": "markdown",
   "metadata": {
    "deletable": false,
    "editable": false,
    "nbgrader": {
     "checksum": "c7dcf4bccb5d48d69f813445594c6c03",
     "grade": false,
     "grade_id": "cell-3e3170e840d73afc",
     "locked": true,
     "schema_version": 1,
     "solution": false
    }
   },
   "source": [
    "# Regular Expressions\n"
   ]
  },
  {
   "cell_type": "code",
   "execution_count": 470,
   "metadata": {
    "collapsed": true,
    "deletable": false,
    "editable": false,
    "nbgrader": {
     "checksum": "d500f061d323f983235b299246334518",
     "grade": false,
     "grade_id": "cell-e1602db90d24115e",
     "locked": true,
     "schema_version": 1,
     "solution": false
    }
   },
   "outputs": [],
   "source": [
    "from nose.tools import assert_true, assert_false, \\\n",
    "    assert_almost_equal, assert_equal, assert_raises"
   ]
  },
  {
   "cell_type": "code",
   "execution_count": 471,
   "metadata": {
    "collapsed": true,
    "deletable": false,
    "editable": false,
    "nbgrader": {
     "checksum": "e058d42ef51e307c775f6f742803963c",
     "grade": false,
     "grade_id": "cell-f65949a4a47840a7",
     "locked": true,
     "schema_version": 1,
     "solution": false
    }
   },
   "outputs": [],
   "source": [
    "\n",
    "import numpy as np\n",
    "import locale\n",
    "import os\n",
    "import re\n",
    "import pandas as pd\n",
    "from textblob import TextBlob"
   ]
  },
  {
   "cell_type": "code",
   "execution_count": 472,
   "metadata": {
    "deletable": false,
    "editable": false,
    "nbgrader": {
     "checksum": "ddfdbb238cbfce96b599990b584e231d",
     "grade": false,
     "grade_id": "cell-a3dd3ae428af588d",
     "locked": true,
     "schema_version": 1,
     "solution": false
    }
   },
   "outputs": [
    {
     "data": {
      "text/plain": [
       "False"
      ]
     },
     "execution_count": 472,
     "metadata": {},
     "output_type": "execute_result"
    }
   ],
   "source": [
    "DATADIR = os.path.join(\"..\",\"Resources\")\n",
    "os.path.exists(DATADIR)\n",
    "#DATADIR = \"PATH_TO_WHERE_YOU_KEEP_DATA\""
   ]
  },
  {
   "cell_type": "markdown",
   "metadata": {
    "deletable": false,
    "editable": false,
    "nbgrader": {
     "checksum": "bca1f55b8cb11d14b7b6b45b01b9938d",
     "grade": false,
     "grade_id": "cell-f4d940d895b05c52",
     "locked": true,
     "schema_version": 1,
     "solution": false
    }
   },
   "source": [
    "**Problem 1 (10 points).** Write a function (`currency2float`) that uses a regular expression to capture and return the **numeric value** of a currency string and its **units.** Note you need to use the **[locale](http://docs.python.org/3/library/locale.html)** module because of the potential of \",.\" characters in the strings. "
   ]
  },
  {
   "cell_type": "code",
   "execution_count": 473,
   "metadata": {
    "collapsed": true,
    "deletable": false,
    "nbgrader": {
     "checksum": "3f2d7573869c16351ce89e63809d55ae",
     "grade": false,
     "grade_id": "cell-d1cfba9013211c29",
     "locked": false,
     "schema_version": 1,
     "solution": true
    }
   },
   "outputs": [],
   "source": [
    "# YOUR CODE HERE\n",
    "def currencyToFloat(currency):\n",
    "    \"\"\"\n",
    "    Uses a regular expression to capture and return the numeric value of a currency string and its units\n",
    "    \"\"\"\n",
    "    locale.setlocale(locale.LC_ALL)\n",
    "    RE = re.compile('[\\.\\,[0-9]+')\n",
    "    unit = re.split(RE, currency)[0]\n",
    "    amount = locale.atof(re.search(RE,currency).group(0))\n",
    "    return (amount, unit)"
   ]
  },
  {
   "cell_type": "code",
   "execution_count": 474,
   "metadata": {
    "collapsed": true,
    "deletable": false,
    "editable": false,
    "nbgrader": {
     "checksum": "e1c100abed9d920f34e614e982a67c6a",
     "grade": true,
     "grade_id": "cell-f4468b06c2f255db",
     "locked": true,
     "points": 5,
     "schema_version": 1,
     "solution": false
    }
   },
   "outputs": [],
   "source": [
    "assert_equal(currencyToFloat(\"£19,469\"), (19469.0, '£'))"
   ]
  },
  {
   "cell_type": "code",
   "execution_count": 475,
   "metadata": {
    "collapsed": true,
    "deletable": false,
    "editable": false,
    "nbgrader": {
     "checksum": "668726001b4c1baad1319785a3fa5080",
     "grade": true,
     "grade_id": "cell-30ecb8e0eef0172f",
     "locked": true,
     "points": 5,
     "schema_version": 1,
     "solution": false
    }
   },
   "outputs": [],
   "source": [
    "assert_equal(currencyToFloat(\"$1,243,567.32\"), (1243567.32, '$'))"
   ]
  },
  {
   "cell_type": "markdown",
   "metadata": {
    "deletable": false,
    "editable": false,
    "nbgrader": {
     "checksum": "35401615d84bb4a40588f61e60384e72",
     "grade": false,
     "grade_id": "cell-1ea9b2ddf10bf452",
     "locked": true,
     "schema_version": 1,
     "solution": false
    }
   },
   "source": [
    "**Problem 2 (14 points):** Read the contents of income.txt into a Pandas data. \n",
    "\n",
    "Write a second function ``extract_income`` that takes as a positional argumenst a Pandas data frame and a column name from which to extract income. The function should return a new data frame that has columns consisting of the numeric values and units extracted by the ``currency2float`` function. The names of the columns in the new data frame should be derived from the input column (e.g. \"per capita income\" would create two columns named \"per capita income value\" and \"per capita income unit\"). Test this with income.txt and income_uk.txt located in the Resources directory.\n",
    "\n",
    "#### Hints\n",
    "\n",
    "1. ``SOME_PANDAS_SERIES.apply(pd.Series)`` will split the series (column) `SOME_PANDAS_SERIES` with tuple values into a data frame with each element of the tuples forming a column in the new dataframe with column names 0, 1, 2, etc. See [this](http://stackoverflow.com/questions/29550414/how-to-split-column-of-tuples-in-pandas-dataframe) Stackoverflow question/answer.\n",
    "1. Use the [``rename``](http://pandas.pydata.org/pandas-docs/stable/generated/pandas.DataFrame.rename.html) method to rename the columns of the generated DataFrame.\n",
    "1. Pay attention to the presence/absence of headers. If the file does not have a header, use ``rename`` to provide meaningful column names.\n",
    "1. Since strings are unicode, you can past a British pound symbol into your regular expression.\n",
    "1. Use the ``encoding`` keyword argument for ``read_table``.\n",
    "\n",
    "### Your solutions should look something like this:\n",
    "\n",
    "<table border=\"1\" class=\"dataframe\">\n",
    "  <thead>\n",
    "    <tr style=\"text-align: right;\">\n",
    "      <th></th>\n",
    "      <th>Income value</th>\n",
    "      <th>Income unit</th>\n",
    "    </tr>\n",
    "  </thead>\n",
    "  <tbody>\n",
    "    <tr>\n",
    "      <th>0</th>\n",
    "      <td>21109.0</td>\n",
    "      <td>£</td>\n",
    "    </tr>\n",
    "    <tr>\n",
    "      <th>1</th>\n",
    "      <td>19603.0</td>\n",
    "      <td>£</td>\n",
    "    </tr>\n",
    "    <tr>\n",
    "      <th>2</th>\n",
    "      <td>19469.0</td>\n",
    "      <td>£</td>\n",
    "    </tr>\n",
    "    <tr>\n",
    "      <th>3</th>\n",
    "      <td>19282.0</td>\n",
    "      <td>£</td>\n",
    "    </tr>\n",
    "    <tr>\n",
    "      <th>4</th>\n",
    "      <td>19236.0</td>\n",
    "      <td>£</td>\n",
    "    </tr>\n",
    "  </tbody>\n",
    "</table>"
   ]
  },
  {
   "cell_type": "code",
   "execution_count": 476,
   "metadata": {
    "collapsed": true,
    "deletable": false,
    "nbgrader": {
     "checksum": "9fa24f5c5240299803c8b94f390bbf60",
     "grade": false,
     "grade_id": "cell-b90746ff7f679d8d",
     "locked": false,
     "schema_version": 1,
     "solution": true
    }
   },
   "outputs": [],
   "source": [
    "# YOUR CODE HERE\n",
    "def extract_income(df, col):\n",
    "    \"\"\"\n",
    "    returns a new data frame that has columns consisting of the numeric values and units extracted by the currencyToFloat function.\n",
    "    \"\"\"\n",
    "    df['tuple'] = df.apply (lambda row: currencyToFloat(row[col]), axis=1)\n",
    "    return df['tuple'].apply(pd.Series).rename(columns={0:col + \" value\", 1:col + \" unit\"})"
   ]
  },
  {
   "cell_type": "code",
   "execution_count": 477,
   "metadata": {},
   "outputs": [
    {
     "data": {
      "text/html": [
       "<div>\n",
       "<table border=\"1\" class=\"dataframe\">\n",
       "  <thead>\n",
       "    <tr style=\"text-align: right;\">\n",
       "      <th></th>\n",
       "      <th>Income value</th>\n",
       "      <th>Income unit</th>\n",
       "    </tr>\n",
       "  </thead>\n",
       "  <tbody>\n",
       "    <tr>\n",
       "      <th>0</th>\n",
       "      <td>21109.0</td>\n",
       "      <td>£</td>\n",
       "    </tr>\n",
       "    <tr>\n",
       "      <th>1</th>\n",
       "      <td>19603.0</td>\n",
       "      <td>£</td>\n",
       "    </tr>\n",
       "    <tr>\n",
       "      <th>2</th>\n",
       "      <td>19469.0</td>\n",
       "      <td>£</td>\n",
       "    </tr>\n",
       "    <tr>\n",
       "      <th>3</th>\n",
       "      <td>19282.0</td>\n",
       "      <td>£</td>\n",
       "    </tr>\n",
       "    <tr>\n",
       "      <th>4</th>\n",
       "      <td>19236.0</td>\n",
       "      <td>£</td>\n",
       "    </tr>\n",
       "    <tr>\n",
       "      <th>5</th>\n",
       "      <td>18801.0</td>\n",
       "      <td>£</td>\n",
       "    </tr>\n",
       "    <tr>\n",
       "      <th>6</th>\n",
       "      <td>18629.0</td>\n",
       "      <td>£</td>\n",
       "    </tr>\n",
       "    <tr>\n",
       "      <th>7</th>\n",
       "      <td>18614.0</td>\n",
       "      <td>£</td>\n",
       "    </tr>\n",
       "    <tr>\n",
       "      <th>8</th>\n",
       "      <td>18321.0</td>\n",
       "      <td>£</td>\n",
       "    </tr>\n",
       "    <tr>\n",
       "      <th>9</th>\n",
       "      <td>17651.0</td>\n",
       "      <td>£</td>\n",
       "    </tr>\n",
       "    <tr>\n",
       "      <th>10</th>\n",
       "      <td>17594.0</td>\n",
       "      <td>£</td>\n",
       "    </tr>\n",
       "  </tbody>\n",
       "</table>\n",
       "</div>"
      ],
      "text/plain": [
       "    Income value Income unit\n",
       "0        21109.0           £\n",
       "1        19603.0           £\n",
       "2        19469.0           £\n",
       "3        19282.0           £\n",
       "4        19236.0           £\n",
       "5        18801.0           £\n",
       "6        18629.0           £\n",
       "7        18614.0           £\n",
       "8        18321.0           £\n",
       "9        17651.0           £\n",
       "10       17594.0           £"
      ]
     },
     "execution_count": 477,
     "metadata": {},
     "output_type": "execute_result"
    }
   ],
   "source": [
    "income = pd.read_table(\"./income.txt\")\n",
    "income_uk = pd.read_table(\"./income_uk.txt\",\n",
    "                         header = None,\n",
    "                         encoding='utf-8').rename(columns={0:\"Region\", \n",
    "                                                        1:\"Income\"})\n",
    "extract_income(income_uk, \"Income\")"
   ]
  },
  {
   "cell_type": "code",
   "execution_count": 478,
   "metadata": {
    "collapsed": true,
    "deletable": false,
    "editable": false,
    "nbgrader": {
     "checksum": "5b95db16f5d0a5af16cb2165291ad43f",
     "grade": true,
     "grade_id": "cell-49f00bf8ba7bc079",
     "locked": true,
     "points": 7,
     "schema_version": 1,
     "solution": false
    }
   },
   "outputs": [],
   "source": [
    "income = pd.read_table(\"./income.txt\")\n",
    "income_uk = pd.read_table(\"./income_uk.txt\",\n",
    "                         header = None,\n",
    "                         encoding='utf-8').rename(columns={0:\"Region\", \n",
    "                                                        1:\"Income\"})\n",
    "row = extract_income(income_uk, \"Income\").iloc[5]\n",
    "assert_almost_equal(row[\"Income value\"],18801)\n",
    "assert_equal(row[\"Income unit\"],\"£\")"
   ]
  },
  {
   "cell_type": "code",
   "execution_count": 479,
   "metadata": {
    "collapsed": true,
    "deletable": false,
    "editable": false,
    "nbgrader": {
     "checksum": "33a8fa2bc3bd96b7feddfb3f86a73ee8",
     "grade": true,
     "grade_id": "cell-1516e7762192ec80",
     "locked": true,
     "points": 7,
     "schema_version": 1,
     "solution": false
    }
   },
   "outputs": [],
   "source": [
    "income = pd.read_table(\"./income.txt\")\n",
    "income_uk = pd.read_table(\"./income_uk.txt\",\n",
    "                         header = None,\n",
    "                         encoding='utf-8').rename(columns={0:\"Region\", \n",
    "                                                        1:\"Income\"})\n",
    "row = extract_income(income, \"median household income\").iloc[5]\n",
    "assert_almost_equal(row[\"median household income value\"],63636)\n",
    "assert_equal(row[\"median household income unit\"],\"$\")"
   ]
  },
  {
   "cell_type": "markdown",
   "metadata": {
    "deletable": false,
    "editable": false,
    "nbgrader": {
     "checksum": "4c934398308556babcec6a68a93c06da",
     "grade": false,
     "grade_id": "cell-5467d5521dd5107e",
     "locked": true,
     "schema_version": 1,
     "solution": false
    }
   },
   "source": [
    "**Problem 3 (20 Points): **\n",
    "\n",
    "Write a regular expression (`regname`) to match physician names in reports. You can assume that any name in the text is either preceded by \"Dr.\" or followed by \"MD\" (or \"M.D.\", \"D.O.\", \"DO\"). Use the following named groups:\n",
    "\n",
    "* \"prefix\"\n",
    "* \"fname\"\n",
    "* \"mname\"\n",
    "* \"lname\"\n",
    "* \"suffix\"\n",
    "\n",
    "Match at least the following name variations:\n",
    "    * Dr. Vivian Lee\n",
    "    * Dr. Vivian S Lee\n",
    "    * Vivian Lee, MD\n",
    "    * Vivian S Lee, MD\n",
    "    \n",
    "#### Hints\n",
    "\n",
    "1. Be careful in how you deal with white spaces. Regular expressions are a balancing act between sensitivity and specificity.\n",
    "1. What parts in the names are optional?"
   ]
  },
  {
   "cell_type": "code",
   "execution_count": 480,
   "metadata": {
    "collapsed": true,
    "deletable": false,
    "nbgrader": {
     "checksum": "45bad59e473e6a1ef185381aeac55e6d",
     "grade": false,
     "grade_id": "cell-83c8487e69e8aa0f",
     "locked": false,
     "schema_version": 1,
     "solution": true
    }
   },
   "outputs": [],
   "source": [
    "regname = None\n",
    "# YOUR CODE HERE\n",
    "regname = re.compile('(?P<prefix>\\Dr\\.\\s)?(?P<fname>[A-Z][a-z]*\\s)(?P<mname>[A-Z][a-z]*\\.?\\s)?(?P<lname>[A-HJ-Z][a-z]*)(?P<suffix>,?\\s?[A-Z]?[a-z]?\\.?[A-Z])?')"
   ]
  },
  {
   "cell_type": "code",
   "execution_count": 481,
   "metadata": {
    "collapsed": true,
    "deletable": false,
    "editable": false,
    "nbgrader": {
     "checksum": "8043929430568a7842bb635f35a0d908",
     "grade": true,
     "grade_id": "cell-0507327b37760c94",
     "locked": true,
     "points": 5,
     "schema_version": 1,
     "solution": false
    }
   },
   "outputs": [],
   "source": [
    "tst = \\\n",
    "\"\"\"\n",
    "My physician is Dr. Barry Stults while my mentor is \n",
    "Dr. Matthew H Samore.\n",
    "Vivian Lee, MD hired me a few years after she was hired by\n",
    "A Lorris Betz, MD.\n",
    "David W. Pershing, Ph.D. is the university president and a lot of people hope that Ruth V Watkins, PhD is hired as the next\n",
    "univeersity president. When I was in Pittsburgh I worked with David Gur, ScD and Dr. Jules Henry Sumkin. My favorite\n",
    " philosopher is Alfred North Whitehead, Ph.D.\n",
    "\n",
    "\n",
    "\"\"\"\n",
    "matches = list(regname.finditer(tst))\n",
    "m = matches[0]\n",
    "assert_equal(m.group(\"prefix\").strip(), \"Dr.\")\n",
    "assert_equal(m.group(\"fname\").strip(), \"Barry\")\n",
    "assert_equal(m.group('mname'), None)\n",
    "assert_equal(m.group(\"lname\").strip(), \"Stults\")\n",
    "assert_equal(m.group(\"suffix\"), None)"
   ]
  },
  {
   "cell_type": "code",
   "execution_count": 482,
   "metadata": {
    "collapsed": true,
    "deletable": false,
    "editable": false,
    "nbgrader": {
     "checksum": "1e03f0b5060cf603219f5f723502f70f",
     "grade": true,
     "grade_id": "cell-d8bbe2af7d468141",
     "locked": true,
     "points": 5,
     "schema_version": 1,
     "solution": false
    }
   },
   "outputs": [],
   "source": [
    "tst = \\\n",
    "\"\"\"\n",
    "My physician is Dr. Barry Stults while my mentor is \n",
    "Dr. Matthew H Samore.\n",
    "Vivian Lee, MD hired me a few years after she was hired by\n",
    "A Lorris Betz, MD.\n",
    "David W. Pershing, Ph.D. is Dr. Betz's boss and a lot of people hope that Ruth V Watkins, PhD is hired as the next\n",
    "univeersity president. When I was in Pittsburgh I worked with David Gur, ScD and Dr. Jules Henry Sumkin. My favorite\n",
    " philosopher is Alfred North Whitehead, Ph.D.\n",
    "\n",
    "\n",
    "\"\"\"\n",
    "matches = list(regname.finditer(tst))\n",
    "m = matches[1]\n",
    "assert_equal(m.group(\"prefix\").strip(), \"Dr.\")\n",
    "assert_equal(m.group(\"fname\").strip(), \"Matthew\")\n",
    "assert_equal(m.group('mname').strip(), \"H\")\n",
    "assert_equal(m.group(\"lname\").strip(), \"Samore\")\n",
    "assert_equal(m.group(\"suffix\"), None)"
   ]
  },
  {
   "cell_type": "code",
   "execution_count": 483,
   "metadata": {
    "collapsed": true,
    "deletable": false,
    "editable": false,
    "nbgrader": {
     "checksum": "8186f32e4c59b79db70cf185f033ae94",
     "grade": true,
     "grade_id": "cell-0c0186c003f9457b",
     "locked": true,
     "points": 5,
     "schema_version": 1,
     "solution": false
    }
   },
   "outputs": [],
   "source": [
    "tst = \\\n",
    "\"\"\"\n",
    "My physician is Dr. Barry Stults while my mentor is \n",
    "Dr. Matthew H Samore.\n",
    "Vivian Lee, MD hired me a few years after she was hired by\n",
    "A Lorris Betz, MD.\n",
    "David W. Pershing, Ph.D. is the university president and a lot of people hope that Ruth V Watkins, PhD is hired as the next\n",
    "univeersity president. When I was in Pittsburgh I worked with David Gur, ScD and Dr. Jules Henry Sumkin. My favorite\n",
    " philosopher is Alfred North Whitehead, Ph.D.\n",
    "\n",
    "\n",
    "\"\"\"\n",
    "matches = list(regname.finditer(tst))\n",
    "m = matches[2]\n",
    "assert_equal(m.group(\"prefix\"), None)\n",
    "assert_equal(m.group(\"fname\").strip(), \"Vivian\")\n",
    "assert_equal(m.group('mname'), None)\n",
    "assert_equal(m.group(\"lname\").strip(), \"Lee\")\n",
    "assert_equal(m.group(\"suffix\").strip(), \", MD\")\n"
   ]
  },
  {
   "cell_type": "code",
   "execution_count": 484,
   "metadata": {
    "collapsed": true,
    "deletable": false,
    "editable": false,
    "nbgrader": {
     "checksum": "6f4bf7bd194cbd81a4954b7e61eb1dbf",
     "grade": true,
     "grade_id": "cell-332e33b10d967675",
     "locked": true,
     "points": 5,
     "schema_version": 1,
     "solution": false
    }
   },
   "outputs": [],
   "source": [
    "tst = \\\n",
    "\"\"\"\n",
    "My physician is Dr. Barry Stults while my mentor is \n",
    "Dr. Matthew H Samore.\n",
    "Vivian Lee, MD hired me a few years after she was hired by\n",
    "A Lorris Betz, MD.\n",
    "David W. Pershing, Ph.D. is the university president and a lot of people hope that Ruth V Watkins, PhD is hired as the next\n",
    "univeersity president. When I was in Pittsburgh I worked with David Gur, ScD and Dr. Jules Henry Sumkin. My favorite\n",
    " philosopher is Alfred North Whitehead, Ph.D.\n",
    "\n",
    "\n",
    "\"\"\"\n",
    "matches = list(regname.finditer(tst))\n",
    "m = matches[6]\n",
    "assert_equal(m.group(\"prefix\"), None)\n",
    "assert_equal(m.group(\"fname\").strip(), \"David\")\n",
    "assert_equal(m.group('mname'), None)\n",
    "assert_equal(m.group(\"lname\").strip(), \"Gur\")\n",
    "assert_equal(m.group(\"suffix\").strip(), \", ScD\")\n"
   ]
  },
  {
   "cell_type": "markdown",
   "metadata": {
    "deletable": false,
    "editable": false,
    "nbgrader": {
     "checksum": "1e664fb5dac9241030f3d50e7c79b23e",
     "grade": false,
     "grade_id": "cell-b4e72856fc41ecb0",
     "locked": true,
     "schema_version": 1,
     "solution": false
    }
   },
   "source": [
    "**Problem 4 (24 points):**\n",
    "\n",
    "* Write a regular expression to match dates in the following form:\n",
    "    * 2011-03-13\n",
    "    \n",
    "\n",
    "* Write a second regular expression to match dates in the following formats:\n",
    "    * 01/28/1947\n",
    "    * 03/17/75\n",
    "    \n",
    "\n",
    "* Write a third regular expression to match dates in the following formats.\n",
    "    * January 18, 2015\n",
    "    * Jan 1931\n",
    "    * Jan 8, 47\n",
    "    \n",
    "\n",
    "Put all the regular expressions in a list named `redates`. "
   ]
  },
  {
   "cell_type": "code",
   "execution_count": 485,
   "metadata": {
    "collapsed": true,
    "deletable": false,
    "nbgrader": {
     "checksum": "5e7ac6a1ecd518798f1c86ba41af57d3",
     "grade": false,
     "grade_id": "cell-cad09841faf0af9c",
     "locked": false,
     "schema_version": 1,
     "solution": true
    }
   },
   "outputs": [],
   "source": [
    "import re\n",
    "\n",
    "redates = []\n",
    "# YOUR CODE HERE\n",
    "\n",
    "#2011-03-13\n",
    "redates.append(re.compile('(?P<year>\\d+)-(?P<month>\\d+)-(?P<day>\\d+)'))\n",
    "\n",
    "#01/28/1947\n",
    "#03/17/75\n",
    "redates.append(re.compile('(?P<month>\\d+)/(?P<day>\\d+)/(?P<year>\\d+)'))\n",
    "\n",
    "#January 18, 2015\n",
    "#Jan 1931\n",
    "#Jan 8, 47\n",
    "redates.append(re.compile('(?P<month>[A-Z][a-z]+)\\s(?P<day>\\d+?\\,)?\\s?(?P<year>\\d+)'))"
   ]
  },
  {
   "cell_type": "code",
   "execution_count": 486,
   "metadata": {
    "collapsed": true,
    "deletable": false,
    "editable": false,
    "nbgrader": {
     "checksum": "7aa7069c4f1ea97fa7661d0949be84b1",
     "grade": true,
     "grade_id": "cell-820e993278bb5bc5",
     "locked": true,
     "points": 6,
     "schema_version": 1,
     "solution": false
    }
   },
   "outputs": [],
   "source": [
    "tst = \\\n",
    "\"\"\"\n",
    "    * 2011-03-13\n",
    "    * 01/08/1947\n",
    "    * 03/01/75\n",
    "    * January 18, 2015\n",
    "    * Jan 1931\n",
    "    * Jan 8, 47\n",
    "\"\"\"\n",
    "matches = [m for r in redates for m in list(r.finditer(tst)) ]\n",
    "m = matches[0]\n",
    "assert_equal(m.group(\"year\"), \"2011\")\n",
    "assert_equal(m.group(\"month\"), \"03\")\n",
    "assert_equal(m.group(\"day\"), \"13\")"
   ]
  },
  {
   "cell_type": "code",
   "execution_count": 487,
   "metadata": {
    "collapsed": true,
    "deletable": false,
    "editable": false,
    "nbgrader": {
     "checksum": "9f0fd278127ef714902aa1eb38a1ba94",
     "grade": true,
     "grade_id": "cell-19c1e4fc1dc15b33",
     "locked": true,
     "points": 6,
     "schema_version": 1,
     "solution": false
    }
   },
   "outputs": [],
   "source": [
    "tst = \\\n",
    "\"\"\"\n",
    "    * 2011-03-13\n",
    "    * 01/08/1947\n",
    "    * 03/01/75\n",
    "    * January 18, 2015\n",
    "    * Jan 1931\n",
    "    * Jan 8, 47\n",
    "\"\"\"\n",
    "matches = [m for r in redates for m in list(r.finditer(tst)) ]\n",
    "m = matches[1]\n",
    "assert_equal(m.group(\"year\"), \"1947\")\n",
    "assert_equal(m.group(\"month\"), \"01\")\n",
    "assert_equal(m.group(\"day\"), \"08\")"
   ]
  },
  {
   "cell_type": "code",
   "execution_count": 488,
   "metadata": {
    "collapsed": true,
    "deletable": false,
    "editable": false,
    "nbgrader": {
     "checksum": "7e31c7b38a41f1c3919d65efc6b23a31",
     "grade": true,
     "grade_id": "cell-a654eac9a9da8ccf",
     "locked": true,
     "points": 6,
     "schema_version": 1,
     "solution": false
    }
   },
   "outputs": [],
   "source": [
    "tst = \\\n",
    "\"\"\"\n",
    "    * 2011-03-13\n",
    "    * 01/08/1947\n",
    "    * 03/01/75\n",
    "    * January 18, 2015\n",
    "    * Jan 1931\n",
    "    * Jan 8, 47\n",
    "\"\"\"\n",
    "matches = [m for r in redates for m in list(r.finditer(tst)) ]\n",
    "m = matches[3]\n",
    "assert_equal(m.group(\"year\"), \"2015\")\n",
    "assert_equal(m.group(\"month\"), \"January\")\n",
    "assert_equal(m.group(\"day\").strip(), \"18,\")"
   ]
  },
  {
   "cell_type": "code",
   "execution_count": 489,
   "metadata": {
    "collapsed": true,
    "deletable": false,
    "editable": false,
    "nbgrader": {
     "checksum": "e30c64ca0e3c5ceb1c7d4ae48a051e30",
     "grade": true,
     "grade_id": "cell-a2cbe9c2863ecb6b",
     "locked": true,
     "points": 6,
     "schema_version": 1,
     "solution": false
    }
   },
   "outputs": [],
   "source": [
    "tst = \\\n",
    "\"\"\"\n",
    "    * 2011-03-13\n",
    "    * 01/08/1947\n",
    "    * 03/01/75\n",
    "    * January 18, 2015\n",
    "    * Jan 1931\n",
    "    * Jan 8, 47\n",
    "\"\"\"\n",
    "matches = [m for r in redates for m in list(r.finditer(tst)) ]\n",
    "m = matches[4]\n",
    "assert_equal(m.group(\"year\"), \"1931\")\n",
    "assert_equal(m.group(\"month\"), \"Jan\")\n",
    "assert_equal(m.group(\"day\"), None)"
   ]
  },
  {
   "cell_type": "code",
   "execution_count": null,
   "metadata": {
    "collapsed": true
   },
   "outputs": [],
   "source": []
  },
  {
   "cell_type": "code",
   "execution_count": null,
   "metadata": {
    "collapsed": true
   },
   "outputs": [],
   "source": []
  },
  {
   "cell_type": "code",
   "execution_count": null,
   "metadata": {
    "collapsed": true
   },
   "outputs": [],
   "source": []
  }
 ],
 "metadata": {
  "kernelspec": {
   "display_name": "Python 3",
   "language": "python",
   "name": "python3"
  },
  "language_info": {
   "codemirror_mode": {
    "name": "ipython",
    "version": 3
   },
   "file_extension": ".py",
   "mimetype": "text/x-python",
   "name": "python",
   "nbconvert_exporter": "python",
   "pygments_lexer": "ipython3",
   "version": "3.5.2"
  }
 },
 "nbformat": 4,
 "nbformat_minor": 1
}
